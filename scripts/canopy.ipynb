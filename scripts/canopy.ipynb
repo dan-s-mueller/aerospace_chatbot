{
 "cells": [
  {
   "cell_type": "markdown",
   "metadata": {},
   "source": [
    "# Document processing (a few ways)"
   ]
  },
  {
   "cell_type": "code",
   "execution_count": 1,
   "metadata": {},
   "outputs": [
    {
     "name": "stderr",
     "output_type": "stream",
     "text": [
      "/Users/danmueller/Documents/GitHub/aerospace_chatbot/venv/lib/python3.11/site-packages/pinecone/index.py:4: TqdmWarning: IProgress not found. Please update jupyter and ipywidgets. See https://ipywidgets.readthedocs.io/en/stable/user_install.html\n",
      "  from tqdm.autonotebook import tqdm\n"
     ]
    }
   ],
   "source": [
    "# Load environment variables\n",
    "import os\n",
    "import re\n",
    "import pinecone\n",
    "import glob\n",
    "import json, jsonlines\n",
    "import uuid\n",
    "from langchain.document_loaders import PyPDFLoader\n",
    "from langchain.text_splitter import RecursiveCharacterTextSplitter\n",
    "\n",
    "from tqdm.auto import tqdm\n",
    "from tkinter import N\n",
    "from typing import Tuple\n",
    "\n",
    "from canopy.tokenizer import Tokenizer\n",
    "from canopy.knowledge_base import KnowledgeBase\n",
    "from canopy.context_engine import ContextEngine\n",
    "from canopy.chat_engine import ChatEngine\n",
    "from canopy.llm.openai import OpenAILLM\n",
    "# from canopy.llm.models import ModelParams\n",
    "from canopy.models.data_models import Document, Messages, UserMessage, AssistantMessage\n",
    "from canopy.models.api_models import ChatResponse\n",
    "\n",
    "import openai\n",
    "\n",
    "from IPython.display import display, Markdown\n",
    "\n",
    "from dotenv import load_dotenv,find_dotenv,dotenv_values\n",
    "load_dotenv(find_dotenv(),override=True)\n",
    "\n",
    "openai.api_key = os.getenv('OPENAI_API_KEY')"
   ]
  },
  {
   "cell_type": "code",
   "execution_count": 7,
   "metadata": {},
   "outputs": [],
   "source": [
    "# Check api keys, load them\n",
    "# print(os.getenv('OPENAI_API_KEY'))\n",
    "# print(os.getenv('PINECONE_ENVIRONMENT'))\n",
    "# print(os.getenv('PINECONE_API_KEY'))"
   ]
  },
  {
   "cell_type": "code",
   "execution_count": null,
   "metadata": {},
   "outputs": [],
   "source": [
    "# data_folder='../data/FEA/'\n",
    "data_folder='../data/AMS/'\n",
    "docs = glob.glob(data_folder+'*.pdf')   # Only get the PDFs in the directory\n",
    "\n",
    "text_splitter = RecursiveCharacterTextSplitter(\n",
    "    # Set a really small chunk size, just to show.\n",
    "    chunk_size = 5000,\n",
    "    chunk_overlap  = 0,\n",
    "    length_function = len,\n",
    "    is_separator_regex = False,\n",
    ")\n",
    "\n",
    "# print(docs[-1])\n",
    "# loader=PyPDFLoader(docs[-1])\n",
    "# doc_pages=loader.load_and_split(text_splitter)\n",
    "\n",
    "pages=[]\n",
    "for doc in docs:\n",
    "    loader=PyPDFLoader(doc)\n",
    "    doc_pages=loader.load_and_split(text_splitter)\n",
    "    pages.extend(doc_pages)\n",
    "    print('Processed: '+doc)"
   ]
  },
  {
   "cell_type": "code",
   "execution_count": 21,
   "metadata": {},
   "outputs": [],
   "source": [
    "# Tidy text up\n",
    "# TODO: I now have this in a function within data_import, can remove this.\n",
    "pages_dict=[]\n",
    "docs_canopy=[]\n",
    "for page in pages:\n",
    "    page.metadata['source']=os.path.basename(page.metadata['source'])   # Strip path\n",
    "    page.metadata['page']=int(page.metadata['page'])+1   # Pages are 0 based, update\n",
    "    # Merge hyphenated words\n",
    "    page.page_content=re.sub(r\"(\\w+)-\\n(\\w+)\", r\"\\1\\2\", page.page_content)\n",
    "    # Fix newlines in the middle of sentences\n",
    "    page.page_content = re.sub(r\"(?<!\\n\\s)\\n(?!\\s\\n)\", \" \", page.page_content.strip())\n",
    "    # Remove multiple newlines\n",
    "    page.page_content = re.sub(r\"\\n\\s*\\n\", \"\\n\\n\", page.page_content)\n",
    "\n",
    "    # Format into canopy format\n",
    "    dict_temp=dict(page)\n",
    "    dict_temp_out={'id':page.metadata['source']+\"_\"+str(page.metadata['page'])+str(uuid.uuid4()),\n",
    "                   'text':dict_temp.pop('page_content'),\n",
    "                   'source':dict_temp['metadata']['source'],\n",
    "                   'metadata':dict_temp['metadata']}\n",
    "    dict_temp_out['metadata']['page']=str(dict_temp_out['metadata']['page'])\n",
    "    pages_dict.append(dict_temp_out)\n",
    "\n",
    "\n",
    "    doc_temp=Document(id=page.metadata['source']+\"_\"+str(page.metadata['page'])+str(uuid.uuid4()),\n",
    "                        text=page.page_content,\n",
    "                        source=page.metadata['source'],\n",
    "                        metadata={'page':str(page.metadata['page'])})\n",
    "    docs_canopy.append(doc_temp)"
   ]
  },
  {
   "cell_type": "code",
   "execution_count": 22,
   "metadata": {},
   "outputs": [
    {
     "name": "stdout",
     "output_type": "stream",
     "text": [
      "page_content='PREFACE  The Aerospace Mechanisms Symposium (AMS) provides a unique forum for those  active in the design, production and use of aerospace mechanisms. A major focus is  the reporting of problems and solutions associated with the development and flight  certification of new mechanisms. Organized by the Mechanisms Education Association,  the National Aeronautics and Space Administration and Lockheed Martin Space  Systems Company (LMSSC) share the responsibility for hosting the AMs. Now in its  38fh symposium, the AMS continues to be well attended, attracting participants from  both the US. and abroad.  The 38fh AMs, hosted by the Langley Research Center (LaRC) in Williamsburg,  Virginia, was held May 17, 18 and 19, 2006. During these three days, 34 papers were  presented. Topics included gimbals, tribology, actuators, aircraft mechanisms,  deployment mechanisms, release mechanisms, and test equipment. Hardware displays  during the supplier exhibit gave attendees an opportunity to meet with developers of  current and future mechanism components.  The high quality of this symposium is a result of the work of many people, and their  efforts are gratefully acknowledged. This extends to the voluntary members of the  symposium organizing committee representing the eight NASA field centers, LMSSC,  and the European Space Agency. Appreciation is also extended to the session chairs,  the authors, and particularly the personnel at LaRC responsible for the symposium  arrangements and the publication of these proceedings. A sincere thank you also goes  to the symposium executive committee who is responsible for the year-to-year  management of the AMs, including paper processing and preparation of the program.  The use of trade names of manufacturers in this publication does not constitute an  official endorsement of such products or manufacturers, either expressed or implied, by  the National Aeronautics and Space Administration.  ...  111' metadata={'source': 'AMS_2006.pdf', 'page': '5'}\n"
     ]
    }
   ],
   "source": [
    "print(pages[4])"
   ]
  },
  {
   "cell_type": "code",
   "execution_count": 23,
   "metadata": {},
   "outputs": [
    {
     "name": "stdout",
     "output_type": "stream",
     "text": [
      "{'id': 'AMS_2006.pdf_1f5ffad8f-40b6-46d6-8494-b191dba3d997', 'text': 'NASNCP-2006-2 14290  3 sth Aerospace Mechanisms Symposium  Compiled by  Edward A. Boesiger  Lockheed Martin Space Systems Company, Sunnyvale, California  Proceedings of a symposium hosted by  the NASA Langley Research Center and  Lockheed Martin Space Systems Company and  organized by the Mechanisms Education Association  held at the Williamsburg Maniott Hotel  Williamsburg, Virginia  May 17- 19,2006  May 2006', 'source': 'AMS_2006.pdf', 'metadata': {'source': 'AMS_2006.pdf', 'page': '1'}}\n"
     ]
    }
   ],
   "source": [
    "print(pages_dict[0])"
   ]
  },
  {
   "cell_type": "code",
   "execution_count": 24,
   "metadata": {},
   "outputs": [
    {
     "name": "stdout",
     "output_type": "stream",
     "text": [
      "id='AMS_2006.pdf_1d4156c3b-2055-4ec1-8947-9b85e23803db' text='NASNCP-2006-2 14290  3 sth Aerospace Mechanisms Symposium  Compiled by  Edward A. Boesiger  Lockheed Martin Space Systems Company, Sunnyvale, California  Proceedings of a symposium hosted by  the NASA Langley Research Center and  Lockheed Martin Space Systems Company and  organized by the Mechanisms Education Association  held at the Williamsburg Maniott Hotel  Williamsburg, Virginia  May 17- 19,2006  May 2006' source='AMS_2006.pdf' metadata={'page': '1'}\n",
      "102\n"
     ]
    }
   ],
   "source": [
    "import tiktoken\n",
    "tiktoken.encoding_for_model(\"gpt-3.5-turbo\")\n",
    "\n",
    "model_name=\"gpt-3.5-turbo\"\n",
    "\n",
    "def num_tokens_from_string(string: str, model_name: str) -> int:\n",
    "    \"\"\"Returns the number of tokens in a text string.\"\"\"\n",
    "    encoding = tiktoken.encoding_for_model(model_name)\n",
    "    num_tokens = len(encoding.encode(string))\n",
    "    return num_tokens\n",
    "\n",
    "print(docs_canopy[0])\n",
    "print(num_tokens_from_string(docs_canopy[0].text, model_name))"
   ]
  },
  {
   "cell_type": "code",
   "execution_count": 25,
   "metadata": {},
   "outputs": [],
   "source": [
    "with jsonlines.open(data_folder+'ams_data.jsonl', mode='w') as writer:\n",
    "    writer.write_all(pages_dict)"
   ]
  },
  {
   "cell_type": "markdown",
   "metadata": {},
   "source": [
    "# Upserting docs for canopy"
   ]
  },
  {
   "cell_type": "markdown",
   "metadata": {},
   "source": [
    "## Command line interface"
   ]
  },
  {
   "cell_type": "markdown",
   "metadata": {},
   "source": [
    "From here we can switch across to Canopy CLI (or other method) and run:\n",
    "\n",
    "```\n",
    "canopy\n",
    "canopy upsert ./ai_arxiv.jsonl\n",
    "```"
   ]
  },
  {
   "cell_type": "markdown",
   "metadata": {},
   "source": [
    "## Canopy library for upsert"
   ]
  },
  {
   "cell_type": "code",
   "execution_count": 26,
   "metadata": {},
   "outputs": [],
   "source": [
    "Tokenizer.initialize()\n",
    "\n",
    "index_name='canopy--ams'\n",
    "k=15\n",
    "\n",
    "kb = KnowledgeBase(index_name=index_name,\n",
    "                   default_top_k=k)\n",
    "kb.connect()"
   ]
  },
  {
   "cell_type": "code",
   "execution_count": null,
   "metadata": {},
   "outputs": [],
   "source": [
    "batch_size = 10\n",
    "\n",
    "for i in tqdm(range(0, len(pages_dict), batch_size)):\n",
    "    kb.upsert(docs_canopy[i: i+batch_size])"
   ]
  },
  {
   "cell_type": "markdown",
   "metadata": {},
   "source": [
    "# Chatting"
   ]
  },
  {
   "cell_type": "markdown",
   "metadata": {},
   "source": [
    "Then we begin chatting by first starting the Canopy Server:\n",
    "\n",
    "```\n",
    "canopy start\n",
    "```\n",
    "\n",
    "Then begin chatting with:\n",
    "\n",
    "```\n",
    "canopy chat\n",
    "```\n",
    "\n",
    "_(we can also add the `--no-rag` flag to see how our RAG vs. non-RAG results compare!)_"
   ]
  },
  {
   "cell_type": "code",
   "execution_count": 28,
   "metadata": {},
   "outputs": [],
   "source": [
    "# Model parameters: # https://platform.openai.com/docs/api-reference/chat/create\n",
    "from math import inf\n",
    "\n",
    "\n",
    "model_name='gpt-3.5-turbo'# gpt-3.5-turbo-16k, gpt-3.5-turbo, gpt-3.5-turbo-1106, gpt-4, gpt-4-32k\n",
    "model_list={'gpt-3.5-turbo':4096,\n",
    "            'gpt-3.5-turbo-16k':16385,\n",
    "            'gpt-3.5-turbo-1106':16385, \n",
    "            'gpt-4':8192,\n",
    "            'gpt-4-32k':32768}\n",
    "\n",
    "temperature=0   # Varies between 0-2\n",
    "n=None  # How many chat completion choices to generate for each input message.\n",
    "top_p=None  # where the model considers the results of the tokens with top_p probability mass. So 0.1 means only the tokens comprising the top 10% probability mass are considered.\n",
    "max_generated_tokens=None\n",
    "max_prompt_tokens=model_list[model_name]    # Use max allowed for model\n",
    "\n",
    "def chat(new_message: str, history: Messages) -> Tuple[str, Messages, ChatResponse]:\n",
    "    messages = history + [UserMessage(content=new_message)]\n",
    "    response = chat_engine.chat(messages)\n",
    "    assistant_response = response.choices[0].message.content\n",
    "    return assistant_response, messages + [AssistantMessage(content=assistant_response)], response\n",
    "\n",
    "context_engine = ContextEngine(kb)\n",
    "llm=OpenAILLM(model_name=model_name)\n",
    "chat_engine = ChatEngine(context_engine,\n",
    "                         llm=llm,\n",
    "                         max_generated_tokens=max_generated_tokens,\n",
    "                         max_prompt_tokens=max_prompt_tokens)\n",
    "# model_params={'temperature':temperature,\n",
    "#               'n':n,  # number of completions to generate\n",
    "#               'top_p':top_p}"
   ]
  },
  {
   "cell_type": "code",
   "execution_count": 29,
   "metadata": {},
   "outputs": [
    {
     "data": {
      "text/markdown": [
       "When designing space mechanisms, there are certain types of lubricants that are to be avoided. These include:\n",
       "\n",
       "1. Mineral oils: Historically, lubricants for space mechanisms have been based on mineral oils, but they have disadvantages that can limit their lifetimes in a lubricated contact. (Source: AMS_1998.pdf)\n",
       "\n",
       "2. Silicone lubricants: Silicone lubricants can break down and become abrasive over time. Additionally, silicone contamination on optical components is considered a major risk. (Source: AMS_2004.pdf)\n",
       "\n",
       "3. Lubricants that evaporate or decompose rapidly: Conventional lubricants are not suitable for space applications as many of them evaporate or decompose rapidly. The lubricant material used in space mechanisms must have a very low vapor pressure to prevent premature exposure. (Source: AMS03.PDF)\n",
       "\n",
       "It is important to note that these are examples of lubricants to be avoided, but there may be other specific lubricants that are not suitable for space mechanisms depending on the specific requirements and challenges of the mission."
      ],
      "text/plain": [
       "<IPython.core.display.Markdown object>"
      ]
     },
     "metadata": {},
     "output_type": "display_data"
    }
   ],
   "source": [
    "history = []\n",
    "response, history, chat_response = chat(\"What types of lubricants are to be avoided when designing space mechanisms?\", history)\n",
    "display(Markdown(response))"
   ]
  },
  {
   "cell_type": "code",
   "execution_count": 30,
   "metadata": {},
   "outputs": [
    {
     "data": {
      "text/markdown": [
       "Failures caused by mineral oil lubricants in space mechanisms include:\n",
       "\n",
       "1. Lubricant starvation: Geared actuators operated in low temperatures may suffer from lubricant starvation due to limited resupply of lubricant to the contact. This can lead to friction and wear, deteriorating performance, and eventual failure. (Source: AMS_2020.pdf)\n",
       "\n",
       "2. Native oxide layer wear: In vacuum conditions, native oxide layers on surfaces quickly wear out. If the lubricant does not form a protective tribofilm, there is a high risk of seizure, leading to failure. (Source: AMS_2020.pdf)\n",
       "\n",
       "3. Tribofilm formation issues: Mineral oil lubricants, such as PFPE (Perfluoropolyether), can form iron fluorides in tribocontacts, which prevents seizure but eventually degrades the system autocatalytically. The tribofilm forming properties of mineral oil lubricants can be problematic. (Source: AMS_2020.pdf)\n",
       "\n",
       "It's important to note that while the failures mentioned here are associated with mineral oil lubricants, not all failures in space mechanisms are necessarily caused by the use of mineral oil lubricants. There may be other factors and failure modes involved in specific cases."
      ],
      "text/plain": [
       "<IPython.core.display.Markdown object>"
      ]
     },
     "metadata": {},
     "output_type": "display_data"
    }
   ],
   "source": [
    "response, history, chat_response = chat(\"Can you speak to what failures have occurred when using mineral oil lubricants?\", history)\n",
    "display(Markdown(response))\n"
   ]
  }
 ],
 "metadata": {
  "kernelspec": {
   "display_name": "Python 3",
   "language": "python",
   "name": "python3"
  },
  "language_info": {
   "codemirror_mode": {
    "name": "ipython",
    "version": 3
   },
   "file_extension": ".py",
   "mimetype": "text/x-python",
   "name": "python",
   "nbconvert_exporter": "python",
   "pygments_lexer": "ipython3",
   "version": "3.11.1"
  },
  "orig_nbformat": 4
 },
 "nbformat": 4,
 "nbformat_minor": 2
}
