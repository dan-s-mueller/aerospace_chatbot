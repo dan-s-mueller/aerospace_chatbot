{
 "cells": [
  {
   "cell_type": "markdown",
   "metadata": {},
   "source": [
    "# Test bug on RAGxplorer on query\n",
    "Without brackets around the query in the openai client with chroma, embeddings are created for each word, not each string."
   ]
  },
  {
   "cell_type": "code",
   "execution_count": 7,
   "metadata": {},
   "outputs": [],
   "source": [
    "import os\n",
    "from ragxplorer import RAGxplorer\n",
    "\n",
    "from dotenv import load_dotenv,find_dotenv\n",
    "load_dotenv(find_dotenv(),override=True)\n",
    "import json\n",
    "import chromadb\n",
    "import pandas as pd"
   ]
  },
  {
   "cell_type": "code",
   "execution_count": 8,
   "metadata": {},
   "outputs": [],
   "source": [
    "query=\"What are examples of lubricants which should be avoided for space mechanism applications?\"\n",
    "\n",
    "OPENAI_API_KEY=os.getenv('OPENAI_API_KEY')\n",
    "embedding_model='text-embedding-ada-002'\n",
    "\n",
    "data_path='../data/AMS/'\n",
    "pdf='AMS_2022.pdf'\n",
    "\n",
    "index_path='../db/chromadb/'\n",
    "index_name='chromadb-openai-ams'\n",
    "\n",
    "viz_data='../data/AMS/ams_data-400-0-50.json'"
   ]
  },
  {
   "cell_type": "code",
   "execution_count": 9,
   "metadata": {},
   "outputs": [
    {
     "name": "stderr",
     "output_type": "stream",
     "text": [
      "/var/folders/jc/np72ktks0pg2f0g87j_0c0m80000gn/T/ipykernel_23823/2399012378.py:6: FutureWarning: Passing literal json to 'read_json' is deprecated and will be removed in a future version. To read from a literal string, wrap it in a 'StringIO' object.\n",
      "  viz_data=pd.read_json(data['viz_data'], orient='split')\n"
     ]
    }
   ],
   "source": [
    "with open(viz_data, 'r') as f:\n",
    "    data = json.load(f)\n",
    "\n",
    "index_name=data['visualization_index_name']\n",
    "umap_params=data['umap_params']\n",
    "viz_data=pd.read_json(data['viz_data'], orient='split')"
   ]
  },
  {
   "cell_type": "code",
   "execution_count": 10,
   "metadata": {},
   "outputs": [
    {
     "name": "stdout",
     "output_type": "stream",
     "text": [
      "Embedding model chosen: text-embedding-ada-002\n"
     ]
    }
   ],
   "source": [
    "rx_client = RAGxplorer(embedding_model=embedding_model)\n",
    "chroma_client = chromadb.PersistentClient(path='../db'+'/chromadb/')\n",
    "collection=chroma_client.get_collection(name=index_name,embedding_function=rx_client._chosen_embedding_model)"
   ]
  },
  {
   "cell_type": "code",
   "execution_count": 11,
   "metadata": {},
   "outputs": [],
   "source": [
    "rx_client._query.original_query = query"
   ]
  },
  {
   "cell_type": "code",
   "execution_count": 12,
   "metadata": {},
   "outputs": [
    {
     "name": "stdout",
     "output_type": "stream",
     "text": [
      "Setting up umap projector\n"
     ]
    },
    {
     "name": "stderr",
     "output_type": "stream",
     "text": [
      "/Users/danmueller/Repositories/Github/me/aerospace_chatbot/.venv/lib/python3.11/site-packages/umap/umap_.py:1943: UserWarning: n_jobs value -1 overridden to 1 by setting random_state. Use no seed for parallelism.\n",
      "  warn(f\"n_jobs value {self.n_jobs} overridden to 1 by setting random_state. Use no seed for parallelism.\")\n"
     ]
    }
   ],
   "source": [
    "rx_client.load_chroma(collection,\n",
    "                     umap_params=umap_params,\n",
    "                     initialize_projector=True)"
   ]
  },
  {
   "cell_type": "code",
   "execution_count": 13,
   "metadata": {},
   "outputs": [],
   "source": [
    "# All of these do the same thing, tested\n",
    "\n",
    "query_embedding_chroma=rx_client._chosen_embedding_model([rx_client._query.original_query])\n",
    "# query_embedding=rx_client._vectordb._embedding_function(rx_client._query.original_query)\n",
    "# query_embedding=embedding_function(query)"
   ]
  },
  {
   "cell_type": "code",
   "execution_count": 14,
   "metadata": {},
   "outputs": [
    {
     "data": {
      "text/plain": [
       "'What are examples of lubricants which should be avoided for space mechanism applications?'"
      ]
     },
     "execution_count": 14,
     "metadata": {},
     "output_type": "execute_result"
    }
   ],
   "source": [
    "len(rx_client._query.original_query)"
   ]
  },
  {
   "cell_type": "code",
   "execution_count": null,
   "metadata": {},
   "outputs": [],
   "source": [
    "fig = rx_client.visualize_query(query,\n",
    "                                import_projection_data=viz_data,\n",
    "                                verbose=True)"
   ]
  },
  {
   "cell_type": "code",
   "execution_count": 20,
   "metadata": {},
   "outputs": [],
   "source": [
    "from openai import OpenAI\n",
    "client = OpenAI()\n",
    "\n",
    "# Done correctly, see here: https://platform.openai.com/docs/guides/embeddings/use-cases\n",
    "openai_embedding=client.embeddings.create(input = [query], model=embedding_model).data[0].embedding"
   ]
  }
 ],
 "metadata": {
  "kernelspec": {
   "display_name": "Python 3",
   "language": "python",
   "name": "python3"
  },
  "language_info": {
   "codemirror_mode": {
    "name": "ipython",
    "version": 3
   },
   "file_extension": ".py",
   "mimetype": "text/x-python",
   "name": "python",
   "nbconvert_exporter": "python",
   "pygments_lexer": "ipython3",
   "version": "3.11.0"
  },
  "orig_nbformat": 4
 },
 "nbformat": 4,
 "nbformat_minor": 2
}
