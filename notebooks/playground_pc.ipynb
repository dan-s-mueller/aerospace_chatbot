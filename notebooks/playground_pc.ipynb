{
 "cells": [
  {
   "cell_type": "markdown",
   "metadata": {},
   "source": [
    "# Advanced RAG"
   ]
  },
  {
   "cell_type": "code",
   "execution_count": 42,
   "metadata": {},
   "outputs": [],
   "source": [
    "import os\n",
    "import chromadb\n",
    "\n",
    "from langchain.prompts import ChatPromptTemplate\n",
    "from langchain.schema.output_parser import StrOutputParser\n",
    "from langchain.schema.runnable import RunnableLambda, RunnablePassthrough\n",
    "\n",
    "from langchain_openai import ChatOpenAI\n",
    "from langchain_community.vectorstores import Chroma\n",
    "from langchain_openai import OpenAIEmbeddings\n",
    "from langchain_community.document_loaders import PyPDFLoader\n",
    "from langchain.text_splitter import RecursiveCharacterTextSplitter\n",
    "from langchain.text_splitter import CharacterTextSplitter\n",
    "from langchain_core.documents import Document as lancghain_Document\n",
    "from langchain.retrievers import ParentDocumentRetriever\n",
    "from langchain.storage import InMemoryStore\n",
    "from langchain_community.vectorstores import Pinecone\n",
    "\n",
    "from operator import itemgetter\n",
    "from langchain.memory import ConversationBufferMemory\n",
    "from langchain.schema import format_document\n",
    "from langchain_core.messages import AIMessage, HumanMessage, get_buffer_string\n",
    "from langchain_core.runnables import RunnableParallel\n",
    "from langchain.prompts.prompt import PromptTemplate\n",
    "\n",
    "from langchain.text_splitter import RecursiveCharacterTextSplitter\n",
    "\n",
    "from pinecone import Pinecone as pinecone_client\n",
    "\n",
    "from dotenv import load_dotenv,find_dotenv\n",
    "load_dotenv(find_dotenv(),override=True)\n",
    "\n",
    "local_db_path='../db/'\n",
    "embedding_model='text-embedding-ada-002'\n",
    "\n",
    "llm = ChatOpenAI(openai_api_key=os.getenv('OPENAI_API_KEY'), model_name=\"gpt-3.5-turbo\", temperature=0.1)\n",
    "query_model=OpenAIEmbeddings(model=embedding_model,openai_api_key=os.getenv('OPENAI_API_KEY'))\n"
   ]
  },
  {
   "cell_type": "code",
   "execution_count": 43,
   "metadata": {},
   "outputs": [],
   "source": [
    "import tiktoken\n",
    "encoding = tiktoken.encoding_for_model(\"gpt-3.5-turbo\")\n",
    "def num_tokens_from_string(string: str, encoding_name: str = \"gpt-3.5-turbo\") -> int:\n",
    "    \"\"\"Returns the number of tokens in a text string.\"\"\"\n",
    "    encoding = tiktoken.encoding_for_model(encoding_name)\n",
    "    num_tokens = len(encoding.encode(string))\n",
    "    return num_tokens"
   ]
  },
  {
   "cell_type": "code",
   "execution_count": 44,
   "metadata": {},
   "outputs": [],
   "source": [
    "docs=['../data/AMS/AMS_2020.pdf','../data/AMS/AMS_2018.pdf']"
   ]
  },
  {
   "cell_type": "code",
   "execution_count": 45,
   "metadata": {},
   "outputs": [],
   "source": [
    "docs_out=[]\n",
    "for doc in docs:\n",
    "    loader = PyPDFLoader(doc)\n",
    "    data = loader.load()\n",
    "    docs_out.extend(data)"
   ]
  },
  {
   "cell_type": "code",
   "execution_count": 46,
   "metadata": {},
   "outputs": [
    {
     "data": {
      "text/plain": [
       "Document(page_content='92 REACT Qualification C ampaign  \\n \\nA complete qualification campaign has been defined for each model and temperature variant, for a total of \\n6 campaigns. Eac h campaign includes 3 different units covering different mechanical interfaces for the \\ncustomers. Figure 7 summarizes the qualification campaign sequence for each variant.  \\n \\n \\nFigure 7. REACT Qualification Campaign  \\n \\nThe qualification campaigns of the REACT 5kN and 15kN Standard Temperature  units  have already been \\ncompleted, while the rest of campaigns are on- going. The main results and findings are:  \\n• The units are being qualified to a lifetime over 50 cycles, which enables for at least 10 cycles on \\nground and one in orbit, according to ECSS. Extension to 70 cycles during qualification to enable up \\nto 15 on ground uses is being implemented on new campaigns. REACT 15kN Standard temperature \\nhas already completed its qualification for 70 cycles.  \\n• All the units withst ood their proof load (6.5 kN, 19 kN and 43.5 kN, respectively) with high stiffness \\nand were able to release even under  such preloads. Axial stress tests have shown that the strength \\nof each unit are well above the specification values . REACT 5kN has shown a strength over 18 kN, \\nwhere the test resulted in external bolt fracture without any sign of damage to the device, which was \\nstill showing normal behavior actuating in nominal conditions. The REACT 15kN test r esulted in the \\nbreakage of the external bolt at 45 kN and the device show ed nominal behavior after the test. In the \\ncase of REACT 35kN,  a maximum preload of 100 kN  was reached, at which point  the interface \\nbetween the bolt and the tensile machine was broken. The unit was still fully  operative after such \\nload. These values show the robustness of the design and a high confidence in the device mechanical \\nstrength due to the application of design margins.  \\n• Vibration and shock environment s were succesfully applied to  all the models, show ing that the device \\nholds the rated  load without issues.  \\n• The units were subjected to 6 thermal cycles over the operating range, followed by actuations at low \\nand high temperature extremes . The devices showed good behavior during the cycling and actuated  \\nsuccessfully.  \\n• Misalignment and creep tests were  performed to characterize the devices . The results during \\nmisalignment tests show ed that the units were able to accomodate half-cone angles of more than \\n4.5º during integration and release. Creep tests were run for more than 6 months succesfully, showing \\nvery low initial preload loss followed by stabilization . Nominal actuation has been achieved after the \\ntest. Creep test s are being extended to 12 months.  \\n• Force margin tests have been completed by assembli ng SMA initiators with  a fraction of the nominal \\ncross- section, and therefore a fraction of the available output force. This way, the force margins of \\n', metadata={'source': '../data/AMS/AMS_2020.pdf', 'page': 101})"
      ]
     },
     "execution_count": 46,
     "metadata": {},
     "output_type": "execute_result"
    }
   ],
   "source": [
    "docs_out[101]"
   ]
  },
  {
   "cell_type": "code",
   "execution_count": 47,
   "metadata": {},
   "outputs": [
    {
     "data": {
      "text/plain": [
       "649"
      ]
     },
     "execution_count": 47,
     "metadata": {},
     "output_type": "execute_result"
    }
   ],
   "source": [
    "num_tokens_from_string(docs_out[101].page_content)"
   ]
  },
  {
   "cell_type": "code",
   "execution_count": 63,
   "metadata": {},
   "outputs": [],
   "source": [
    "chunk_size=400\n",
    "k_parent=5\n",
    "# parent_splitter=CharacterTextSplitter.from_tiktoken_encoder(chunk_size=chunk_size*k_parent, chunk_overlap=0)\n",
    "# child_splitter=CharacterTextSplitter.from_tiktoken_encoder(chunk_size=chunk_size, chunk_overlap=0)\n",
    "\n",
    "# I don't think the splitters above work for what I want!\n",
    "child_splitter=RecursiveCharacterTextSplitter(chunk_size=chunk_size, chunk_overlap=0)\n",
    "parent_splitter=RecursiveCharacterTextSplitter(chunk_size=chunk_size*k_parent, chunk_overlap=0)"
   ]
  },
  {
   "cell_type": "code",
   "execution_count": 66,
   "metadata": {},
   "outputs": [
    {
     "data": {
      "text/plain": [
       "[Document(page_content='i NASA/CP-20205009766  \\n45th Aerospace Mechanisms Symposium  \\nC\\nompiled/Edited by:  Edward A. Boesiger \\nP\\nroceedings of a symposium  \\nHosted by the NASA Johnson Space Center  and \\nLockheed Martin Space \\nSponsored and Organized by the Mechanisms Education Association \\n2020', metadata={'source': '../data/AMS/AMS_2020.pdf', 'page': 0}),\n",
       " Document(page_content='ii', metadata={'source': '../data/AMS/AMS_2020.pdf', 'page': 1}),\n",
       " Document(page_content='iii PREFACE \\n \\nThe Aerospace Mechanisms Symposium (AMS) provides a unique forum for those \\nactive in the design, production and use of aerospace mechanisms. A major focus is the \\nreporting of problems and solutions associated with the development and flight \\ncertification of new mechanisms. Sponsored and organized by the Mechanisms', metadata={'source': '../data/AMS/AMS_2020.pdf', 'page': 2}),\n",
       " Document(page_content='Education Association, responsibility for hosting the AMS is shared by the National \\nAeronautics and Space Administr ation and Lockheed Martin Space.  \\n \\nThe 45th AMS was scheduled to be held in Houst on, Texas  on May 13, 14 and 15, \\n2020. Unfortunately, the worldwide COVID -19 pandemic did not allow this. These \\nproceedings are published however in order to provide these lessons learned and', metadata={'source': '../data/AMS/AMS_2020.pdf', 'page': 2}),\n",
       " Document(page_content='mechanism design information to the mechanism community. Topics i ncluded \\ninstrument  mechanisms, release devices , Mars 2020 mechanisms , tribology , actuators \\nand compliant mechanisms .  \\n \\nThe high quality of this symposium is a result of the work of many people, and their \\nefforts are gratefully acknowledged. This extends to the voluntary members of the', metadata={'source': '../data/AMS/AMS_2020.pdf', 'page': 2})]"
      ]
     },
     "execution_count": 66,
     "metadata": {},
     "output_type": "execute_result"
    }
   ],
   "source": [
    "split_docs_child=child_splitter.split_documents(docs_out)\n",
    "split_docs_child[:5]"
   ]
  },
  {
   "cell_type": "code",
   "execution_count": 67,
   "metadata": {},
   "outputs": [
    {
     "data": {
      "text/plain": [
       "[Document(page_content='i NASA/CP-20205009766  \\n45th Aerospace Mechanisms Symposium  \\nC\\nompiled/Edited by:  Edward A. Boesiger \\nP\\nroceedings of a symposium  \\nHosted by the NASA Johnson Space Center  and \\nLockheed Martin Space \\nSponsored and Organized by the Mechanisms Education Association \\n2020', metadata={'source': '../data/AMS/AMS_2020.pdf', 'page': 0}),\n",
       " Document(page_content='ii', metadata={'source': '../data/AMS/AMS_2020.pdf', 'page': 1}),\n",
       " Document(page_content='iii PREFACE \\n \\nThe Aerospace Mechanisms Symposium (AMS) provides a unique forum for those \\nactive in the design, production and use of aerospace mechanisms. A major focus is the \\nreporting of problems and solutions associated with the development and flight \\ncertification of new mechanisms. Sponsored and organized by the Mechanisms \\nEducation Association, responsibility for hosting the AMS is shared by the National \\nAeronautics and Space Administr ation and Lockheed Martin Space.  \\n \\nThe 45th AMS was scheduled to be held in Houst on, Texas  on May 13, 14 and 15, \\n2020. Unfortunately, the worldwide COVID -19 pandemic did not allow this. These \\nproceedings are published however in order to provide these lessons learned and \\nmechanism design information to the mechanism community. Topics i ncluded \\ninstrument  mechanisms, release devices , Mars 2020 mechanisms , tribology , actuators \\nand compliant mechanisms .  \\n \\nThe high quality of this symposium is a result of the work of many people, and their \\nefforts are gratefully acknowledged. This extends to the voluntary members of the \\nsymposium organizing committee representing the eight NASA field centers, Lockheed \\nMartin  Space, and the European Space Agency. Appreciation is also extended to the \\nsession chairs, the authors, and particularly the personnel at JS C responsible for the \\nsymposium arrangements  and subsequent cancellation and the publication of these \\nproceedings. A sincere thank you also goes to the symposium executive committee who \\nis responsible for the year -to-year management of the AMS, including paper processing.   \\n \\nThe use of trade names of manufacturers in this publication does not constitute an \\nofficial endorsement of such products or manufacturers, either expressed or implied, by \\nthe National Aeronautics and Space Administration.', metadata={'source': '../data/AMS/AMS_2020.pdf', 'page': 2}),\n",
       " Document(page_content='iv', metadata={'source': '../data/AMS/AMS_2020.pdf', 'page': 3}),\n",
       " Document(page_content='v CONTENTS  \\n \\nSymposium Organi zing and Advisory Committees  .......................................................................... ix \\n \\nNanometric Positioning with IASI -NG‘s  Beam Splitter Mechanism Actuator  ..........................................1  \\nFrancois Barillot, Jocelyn Rebufa, Gladys Jaussaud & Adrien Guignabert  \\n \\nSpectrometer Scan  Mechanism  for Encountering Jovian Orbit Trojan Asteroids .................................. 15 \\nKenneth Blumenstock, Alexander Cramer, Joseph Church, Jason Niemeyer,  \\nFil Parong, Sam Zhao, Nerses Armani & Kenneth Lee \\n \\nPoint Ahead Mechanism for Deep Space Optical Communication –  Development of a  \\nNew Piezo -Based  Fine Steering Mirror  ……………………………………… ….. .................................... 29 \\nAdrian Guignabert, Thomas Maillard, Francois Barillot, Olivier Sos nicki & Frank Claeyssen \\n \\nDesign, Development and Verification of the METimage Mechanisms  ............................................... 43 \\nSebastian Rieger & Armin Jago \\n \\nChallenges of the Development of a Compliant Focus Mechanism Submitted to the Harsh Martian \\nEnvironment for the ExoM ars Rover Mission  ................................................................................. 59 \\nAntoine Verhaeghe, Gerald Perruchoud, Philippe Schwab, Mathias Gumy,  \\nJulien Rouvinet & Lionel Kiener  \\n \\nLessons Learned from Q ualification of HDRM for U ltralight LP -PW I Boom for ESA JUICE Mission  ........ 73 \\nMaciej Borys, Ewelina Ryszawa, Ł ukasz Wiśniewski, Maciej Ossowski & Jerzy Grygorczuk  \\n \\nDevelopment of a F amily of R esettable Hold- Down and Release Actuator s based on SMA  \\nTechnology and Q ualification of D ifferent Application Systems......................................................... 87 \\nMarcelo Collado, Cayetano Rivera, Javier Inés, José San Juan, Charlie Yeates ,  \\nMichael Anderson,  Francisco Javier Rivas, Mónica Iriarte, Jens Steppan, Calem Whiting \\n & Karine Murray', metadata={'source': '../data/AMS/AMS_2020.pdf', 'page': 4})]"
      ]
     },
     "execution_count": 67,
     "metadata": {},
     "output_type": "execute_result"
    }
   ],
   "source": [
    "split_docs_parent=parent_splitter.split_documents(docs_out)\n",
    "split_docs_parent[:5]"
   ]
  },
  {
   "cell_type": "code",
   "execution_count": null,
   "metadata": {},
   "outputs": [],
   "source": [
    "questions=[\"What are some challenges associated angular contact of ball bearings?\"]"
   ]
  },
  {
   "cell_type": "code",
   "execution_count": null,
   "metadata": {},
   "outputs": [],
   "source": [
    "from langchain import hub\n",
    "from langchain.prompts.prompt import PromptTemplate\n",
    "\n",
    "# Prompts on the hub: https://smith.langchain.com/hub/my-prompts?organizationId=45eb8917-7353-4296-978d-bb461fc45c65\n",
    "CONDENSE_QUESTION_PROMPT = hub.pull(\"dmueller/ams-chatbot-qa-condense-history\")\n",
    "QA_PROMPT=hub.pull(\"dmueller/ams-chatbot-qa-retrieval\")\n",
    "QA_WSOURCES_PROMPT=hub.pull(\"dmueller/ams-chatbot-qa-retrieval-wsources\")\n",
    "QA_GENERATE_PROMPT=hub.pull(\"dmueller/generate_qa_prompt\")\n",
    "DEFAULT_DOCUMENT_PROMPT = PromptTemplate.from_template(template=\"{page_content}\")"
   ]
  },
  {
   "cell_type": "code",
   "execution_count": null,
   "metadata": {},
   "outputs": [],
   "source": [
    "# Combine documents, from queries.py\n",
    "\n",
    "def _combine_documents(\n",
    "    docs, document_prompt=DEFAULT_DOCUMENT_PROMPT, document_separator=\"\\n\\n\"\n",
    "):\n",
    "    doc_strings = [format_document(doc, document_prompt) for doc in docs]\n",
    "    return document_separator.join(doc_strings)"
   ]
  },
  {
   "cell_type": "code",
   "execution_count": null,
   "metadata": {},
   "outputs": [],
   "source": [
    "# From queries.py\n",
    "\n",
    "memory = ConversationBufferMemory(\n",
    "    return_messages=True, output_key=\"answer\", input_key=\"question\"\n",
    ")"
   ]
  },
  {
   "cell_type": "markdown",
   "metadata": {},
   "source": [
    "## Parent-Child with Full Parent Retrieval"
   ]
  },
  {
   "cell_type": "code",
   "execution_count": 77,
   "metadata": {},
   "outputs": [],
   "source": [
    "type='standard'\n",
    "# type='parent-child'\n",
    "\n",
    "persistent_client = chromadb.PersistentClient(path=local_db_path+'/chromadb')   \n",
    "try:\n",
    "    persistent_client.delete_collection(name=\"standard-test\")\n",
    "except:\n",
    "    pass   \n",
    "vectorstore = Chroma(collection_name='standard-test',\n",
    "                     embedding_function=query_model)\n"
   ]
  },
  {
   "cell_type": "code",
   "execution_count": 71,
   "metadata": {},
   "outputs": [
    {
     "data": {
      "text/plain": [
       "400"
      ]
     },
     "execution_count": 71,
     "metadata": {},
     "output_type": "execute_result"
    }
   ],
   "source": [
    "# text_splitter = RecursiveCharacterTextSplitter.from_tiktoken_encoder(chunk_size=chunk_size, chunk_overlap=chunk_overlap)\n",
    "# page_chunks = text_splitter.split_documents(docs_out)\n",
    "# vectorstore.add_documents(page_chunks)\n",
    "\n",
    "store=InMemoryStore()\n",
    "retriever = ParentDocumentRetriever(\n",
    "    vectorstore=vectorstore,\n",
    "    docstore=store,\n",
    "    child_splitter=child_splitter,\n",
    ")\n",
    "child_splitter._chunk_size"
   ]
  },
  {
   "cell_type": "code",
   "execution_count": 73,
   "metadata": {},
   "outputs": [],
   "source": [
    "retriever.add_documents(docs_out[:500],ids=None)"
   ]
  },
  {
   "cell_type": "code",
   "execution_count": 74,
   "metadata": {},
   "outputs": [
    {
     "data": {
      "text/plain": [
       "500"
      ]
     },
     "execution_count": 74,
     "metadata": {},
     "output_type": "execute_result"
    }
   ],
   "source": [
    "# Original pdf pages stored in memory\n",
    "len(list(store.yield_keys()))"
   ]
  },
  {
   "cell_type": "code",
   "execution_count": 75,
   "metadata": {},
   "outputs": [
    {
     "name": "stdout",
     "output_type": "stream",
     "text": [
      "Shimming and grinding procedures were confirmed to \n",
      "produce the desired preload, which was measured \n",
      "indirectly (by measuring the gap between the clamp and \n",
      "shaft/hub)  during assembly of the bear ings. Review of the \n",
      "clamp design analysis with a high- fidelity  Finite Element \n",
      "Analysis (FEA) model confirmed good correlation with the \n",
      "load vs. deflection curves seen in in the as -built assembly.\n",
      "398\n"
     ]
    }
   ],
   "source": [
    "# Retrieved chunks with size chunk_size\n",
    "sub_docs = vectorstore.similarity_search(\"bearing preload\")\n",
    "print(sub_docs[0].page_content)\n",
    "print(len(sub_docs[0].page_content))\n"
   ]
  },
  {
   "cell_type": "code",
   "execution_count": 76,
   "metadata": {},
   "outputs": [
    {
     "name": "stdout",
     "output_type": "stream",
     "text": [
      "325 the bearings was exonerated by measuring the hardness of a set of bearings from the same lot as the \n",
      "bearings in the EM unit . Tests resulted in an  average hardness of 57.6 on the Rockwell Hardness Scale C \n",
      "(HRC), which was considered in- family with the specified requirement of 58- 60 for the 440C stainless steel \n",
      "bearings .  \n",
      "Bearing analysis via Orbis 3.0 indicated that an angular misalignment of 0.00028 in (7 µm) could introduce \n",
      "localized Maximum Mean Hertzian Contact Stress (MMHCS) greater than 335 ksi  (2310 MPa) . Both a \n",
      "coordinate measuring machine (CMM) and computed tomography  (CT) (Figure 11) scans were used to \n",
      "evaluate this condition. CMM measurements showed a 0.0004- in (10-µm) difference across the bearing \n",
      "diameter while computerized tomography ( CT) scans did not show any signs of misalignment. However, \n",
      "the CT scans only had a voxel resolution of 0.002 in (51 µm) , which is not fine enough to detect the potential \n",
      "misalignment. The CMM measurements could only be made on the SCS secondary mirror attached to the \n",
      "output shaft. The ali gnment was only considered conditionally exonerated until the bearings could be \n",
      "inspected after a tear -down procedure on the EM unit.  \n",
      "Quality issues with the bearing could include (but are not \n",
      "limited to) poor workmanship, damaged components, or \n",
      "out-of-specification material . A review was conducted of all \n",
      "quality systems involved with the procurement, assembly, \n",
      "and testing of the bearings . Contingent on future \n",
      "disassembly and inspection, the bearing quality was \n",
      "believed to be adequate.  \n",
      "Poorly designed clamp rings or uncontrolled tolerance \n",
      "stack- ups between inner and outer bearing ring spacers  in \n",
      "the output bearing assembly could result in Brinelling \n",
      "behavior . Manufacturing errors on bearing ring spacers \n",
      "could reduce preload  and result in gapping during test \n",
      "events which could also damage the races . Either result \n",
      "could create the observed torque spikes . All inspection \n",
      "points and assembly measurements were review ed to \n",
      "confirm that the as -built tolerance stack -up was nominal . \n",
      "Shimming and grinding procedures were confirmed to \n",
      "produce the desired preload, which was measured \n",
      "indirectly (by measuring the gap between the clamp and \n",
      "shaft/hub)  during assembly of the bear ings. Review of the \n",
      "clamp design analysis with a high- fidelity  Finite Element \n",
      "Analysis (FEA) model confirmed good correlation with the \n",
      "load vs. deflection curves seen in in the as -built assembly. \n",
      "Bearing set running torque was measured during assembly \n",
      "and aligns closely with values predicted in Orbis . Axial \n",
      "acceleration endured by the bearing set during Protoflight \n",
      "vibration testing was measured to be 30% less than predicted, indicating additional overhead on bearing \n",
      "design safety factors . Status  of manufac turing errors as the root  cause is labeled as Conditionally \n",
      "Exonerated until the bearing set c an be disassembled,  allowing for closer inspection and more precise \n",
      "measurement  (disassembly of the EM bearing assembly has not occurred at this time) . \n",
      "Over -testing of the bearings could of course impart greater loads on the bearings than their design intended. \n",
      "A detailed review of all test parameters and instrumentation was conducted in relation to the Environmental \n",
      "Requirements Document (ERD). The review concluded that all parameters adhered correctly to the ERD \n",
      "and all measurements were taken with calibrated instruments. This cause was exonerated.  \n",
      "The analysis performed to generate the bearing design was conditionally implicated in causing the bearing \n",
      "torque spik es. Analysis was performed with three different suites of specialized bearing software (Bearings  \n",
      "Figure 11. CT scan of output bearing \n",
      "assembly  \n",
      "\n",
      "3751\n",
      "tokens: 814\n"
     ]
    }
   ],
   "source": [
    "# Original pdf page stored in memory\n",
    "retrieved_docs = retriever.get_relevant_documents(\"bearing preload\")\n",
    "print(retrieved_docs[0].page_content)\n",
    "print(len(retrieved_docs[0].page_content))\n",
    "print('tokens: '+str(num_tokens_from_string(retrieved_docs[0].page_content)))\n"
   ]
  },
  {
   "cell_type": "markdown",
   "metadata": {},
   "source": [
    "## Parent-child with partial parent retrieval\n",
    "https://colab.research.google.com/github/datastax/ragstack-ai/blob/main/examples/notebooks/advancedRAG.ipynb"
   ]
  },
  {
   "cell_type": "code",
   "execution_count": 78,
   "metadata": {},
   "outputs": [],
   "source": [
    "type='standard'\n",
    "# type='parent-child'\n",
    "\n",
    "persistent_client = chromadb.PersistentClient(path=local_db_path+'/chromadb')   \n",
    "try:\n",
    "    persistent_client.delete_collection(name=\"pc-test\")\n",
    "except:\n",
    "    pass   \n",
    "vectorstore = Chroma(client=persistent_client,\n",
    "                    collection_name='pc-test',\n",
    "                    embedding_function=query_model)\n"
   ]
  },
  {
   "cell_type": "code",
   "execution_count": 79,
   "metadata": {},
   "outputs": [],
   "source": [
    "store_pc=InMemoryStore()\n",
    "parent_retriever = ParentDocumentRetriever(\n",
    "    vectorstore=vectorstore,\n",
    "    docstore=store_pc,\n",
    "    child_splitter=child_splitter,\n",
    "    parent_splitter=parent_splitter,\n",
    ")"
   ]
  },
  {
   "cell_type": "code",
   "execution_count": 80,
   "metadata": {},
   "outputs": [],
   "source": [
    "# Split and load the documents into the vector and parent stores\n",
    "parent_retriever.add_documents(docs_out[:500])"
   ]
  },
  {
   "cell_type": "code",
   "execution_count": 81,
   "metadata": {},
   "outputs": [
    {
     "data": {
      "text/plain": [
       "842"
      ]
     },
     "execution_count": 81,
     "metadata": {},
     "output_type": "execute_result"
    }
   ],
   "source": [
    "len(list(store_pc.yield_keys()))"
   ]
  },
  {
   "cell_type": "code",
   "execution_count": 82,
   "metadata": {},
   "outputs": [
    {
     "name": "stdout",
     "output_type": "stream",
     "text": [
      "cases are high enough in axial force to counter balance the cross -moment load, these  bearings are not \n",
      "required to support the cross -moment  through prel oad, allowing the preload to be low, between 44- 88 N \n",
      "(10-20 lb) . Preload is therefore set to maintain ram t ip alignment throughout the stroke of the mechanism,\n",
      "320\n"
     ]
    }
   ],
   "source": [
    "# Child retrieved chunks with size chunk_size\n",
    "sub_docs = vectorstore.similarity_search(\"bearing preload\")\n",
    "print(sub_docs[0].page_content)\n",
    "print(len(sub_docs[0].page_content))"
   ]
  },
  {
   "cell_type": "code",
   "execution_count": 83,
   "metadata": {},
   "outputs": [
    {
     "name": "stdout",
     "output_type": "stream",
     "text": [
      "325 the bearings was exonerated by measuring the hardness of a set of bearings from the same lot as the \n",
      "bearings in the EM unit . Tests resulted in an  average hardness of 57.6 on the Rockwell Hardness Scale C \n",
      "(HRC), which was considered in- family with the specified requirement of 58- 60 for the 440C stainless steel \n",
      "bearings .  \n",
      "Bearing analysis via Orbis 3.0 indicated that an angular misalignment of 0.00028 in (7 µm) could introduce \n",
      "localized Maximum Mean Hertzian Contact Stress (MMHCS) greater than 335 ksi  (2310 MPa) . Both a \n",
      "coordinate measuring machine (CMM) and computed tomography  (CT) (Figure 11) scans were used to \n",
      "evaluate this condition. CMM measurements showed a 0.0004- in (10-µm) difference across the bearing \n",
      "diameter while computerized tomography ( CT) scans did not show any signs of misalignment. However, \n",
      "the CT scans only had a voxel resolution of 0.002 in (51 µm) , which is not fine enough to detect the potential \n",
      "misalignment. The CMM measurements could only be made on the SCS secondary mirror attached to the \n",
      "output shaft. The ali gnment was only considered conditionally exonerated until the bearings could be \n",
      "inspected after a tear -down procedure on the EM unit.  \n",
      "Quality issues with the bearing could include (but are not \n",
      "limited to) poor workmanship, damaged components, or \n",
      "out-of-specification material . A review was conducted of all \n",
      "quality systems involved with the procurement, assembly, \n",
      "and testing of the bearings . Contingent on future \n",
      "disassembly and inspection, the bearing quality was \n",
      "believed to be adequate.  \n",
      "Poorly designed clamp rings or uncontrolled tolerance \n",
      "stack- ups between inner and outer bearing ring spacers  in \n",
      "the output bearing assembly could result in Brinelling \n",
      "behavior . Manufacturing errors on bearing ring spacers \n",
      "could reduce preload  and result in gapping during test \n",
      "events which could also damage the races . Either result \n",
      "could create the observed torque spikes . All inspection \n",
      "points and assembly measurements were review ed to \n",
      "confirm that the as -built tolerance stack -up was nominal . \n",
      "Shimming and grinding procedures were confirmed to \n",
      "produce the desired preload, which was measured \n",
      "indirectly (by measuring the gap between the clamp and \n",
      "shaft/hub)  during assembly of the bear ings. Review of the \n",
      "clamp design analysis with a high- fidelity  Finite Element \n",
      "Analysis (FEA) model confirmed good correlation with the \n",
      "load vs. deflection curves seen in in the as -built assembly. \n",
      "Bearing set running torque was measured during assembly \n",
      "and aligns closely with values predicted in Orbis . Axial \n",
      "acceleration endured by the bearing set during Protoflight \n",
      "vibration testing was measured to be 30% less than predicted, indicating additional overhead on bearing \n",
      "design safety factors . Status  of manufac turing errors as the root  cause is labeled as Conditionally \n",
      "Exonerated until the bearing set c an be disassembled,  allowing for closer inspection and more precise \n",
      "measurement  (disassembly of the EM bearing assembly has not occurred at this time) . \n",
      "Over -testing of the bearings could of course impart greater loads on the bearings than their design intended. \n",
      "A detailed review of all test parameters and instrumentation was conducted in relation to the Environmental \n",
      "Requirements Document (ERD). The review concluded that all parameters adhered correctly to the ERD \n",
      "and all measurements were taken with calibrated instruments. This cause was exonerated.  \n",
      "The analysis performed to generate the bearing design was conditionally implicated in causing the bearing \n",
      "torque spik es. Analysis was performed with three different suites of specialized bearing software (Bearings  \n",
      "Figure 11. CT scan of output bearing \n",
      "assembly  \n",
      "\n",
      "3751\n",
      "tokens: 814\n"
     ]
    }
   ],
   "source": [
    "# Parent chunked documents with chunk_size*k_parent\n",
    "retrieved_docs = retriever.get_relevant_documents(\"bearing preload\")\n",
    "print(retrieved_docs[0].page_content)\n",
    "print(len(retrieved_docs[0].page_content))\n",
    "print('tokens: '+str(num_tokens_from_string(retrieved_docs[0].page_content)))\n"
   ]
  },
  {
   "cell_type": "markdown",
   "metadata": {},
   "source": [
    "# Loading existing store\n",
    "https://stackoverflow.com/questions/77438251/langchain-parentdocumetretriever-save-and-load"
   ]
  }
 ],
 "metadata": {
  "kernelspec": {
   "display_name": "Python 3",
   "language": "python",
   "name": "python3"
  },
  "language_info": {
   "codemirror_mode": {
    "name": "ipython",
    "version": 3
   },
   "file_extension": ".py",
   "mimetype": "text/x-python",
   "name": "python",
   "nbconvert_exporter": "python",
   "pygments_lexer": "ipython3",
   "version": "3.11.1"
  },
  "orig_nbformat": 4
 },
 "nbformat": 4,
 "nbformat_minor": 2
}
