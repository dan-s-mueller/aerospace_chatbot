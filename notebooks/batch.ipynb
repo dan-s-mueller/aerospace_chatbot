{
 "cells": [
  {
   "cell_type": "markdown",
   "metadata": {},
   "source": [
    "# Ragas evaluation\n",
    "Test batch and ragas capability.\n",
    "\n",
    "Uses this article as a model: https://towardsdatascience.com/visualize-your-rag-data-evaluate-your-retrieval-augmented-generation-system-with-ragas-fc2486308557\n",
    "\n",
    "Ragas repository: https://github.com/explodinggradients/ragas/tree/main"
   ]
  },
  {
   "cell_type": "code",
   "execution_count": 20,
   "metadata": {},
   "outputs": [
    {
     "data": {
      "text/plain": [
       "True"
      ]
     },
     "execution_count": 20,
     "metadata": {},
     "output_type": "execute_result"
    }
   ],
   "source": [
    "import os, sys\n",
    "import json\n",
    "from pathlib import Path\n",
    "import pickle\n",
    "\n",
    "from ragas.testset import TestsetGenerator\n",
    "from ragas import RunConfig\n",
    "from dotenv import load_dotenv,find_dotenv\n",
    "import chromadb\n",
    "from chromadb import PersistentClient\n",
    "from langchain_community.vectorstores import Chroma\n",
    "from langchain_openai import ChatOpenAI, OpenAIEmbeddings\n",
    "from langchain_core.documents import Document\n",
    "import pandas as pd\n",
    "import random\n",
    "\n",
    "# Import local packages\n",
    "sys.path.append('../src/aerospace_chatbot')\n",
    "import queries\n",
    "from data_processing import _stable_hash_meta\n",
    "\n",
    "# Set environment variables with .env\n",
    "load_dotenv(find_dotenv(), override=True)"
   ]
  },
  {
   "cell_type": "markdown",
   "metadata": {},
   "source": [
    "## Nifty functions"
   ]
  },
  {
   "cell_type": "code",
   "execution_count": 21,
   "metadata": {},
   "outputs": [],
   "source": [
    "def write_dict_to_file(data_dict, filename):\n",
    "    \"\"\"write a dictionary as a json line to a file - allowing for appending\"\"\"\n",
    "    with open(filename, \"a\") as f:\n",
    "        f.write(json.dumps(data_dict) + \"\\n\")\n",
    "\n",
    "def read_dicts_from_file(filename):\n",
    "    \"\"\"Read a json line file as a generator of dictionaries - allowing to load multiple dictionaries as list.\"\"\"\n",
    "    with open(filename, \"r\") as f:\n",
    "        for line in f:\n",
    "            yield json.loads(line)\n",
    "            \n",
    "def add_cached_column_from_file(df, file_name, merge_on, column):\n",
    "    \"\"\"Read a file with cached list of dicts data write it to a dataframe.\"\"\"\n",
    "\n",
    "    if Path(file_name).exists():\n",
    "\n",
    "        cached_answer_correctness = (\n",
    "            pd.DataFrame(list(read_dicts_from_file(file_name)))\n",
    "            .drop_duplicates(\n",
    "                subset=[merge_on],\n",
    "            )[[column, merge_on]]\n",
    "            .dropna()\n",
    "            .reset_index(drop=True)\n",
    "        )\n",
    "        return df.merge(\n",
    "            cached_answer_correctness,\n",
    "            on=merge_on,\n",
    "            how=\"left\",\n",
    "        ).reset_index(drop=True)\n",
    "    else:\n",
    "        # return df.insert(0, column, None)\n",
    "\n",
    "        # Create a copy of the DataFrame\n",
    "        df_out = df.copy()\n",
    "\n",
    "        # Add the new column with the name of the variable 'column'\n",
    "        df_out[column] = None\n",
    "\n",
    "        # Reorder the columns to place the new column at the end\n",
    "        columns = list(df_out.columns)\n",
    "        columns.remove(column)\n",
    "        columns.append(column)\n",
    "        df_out = df_out[columns]\n",
    "        \n",
    "        # df_out = df.copy().assign(column=\"\")\n",
    "        # df_out = df_out.reindex(columns=( [col for col in df_out.columns if col not in [column]] + [column] ))\n",
    "        return df_out"
   ]
  },
  {
   "cell_type": "markdown",
   "metadata": {},
   "source": [
    "## Connect to database"
   ]
  },
  {
   "cell_type": "code",
   "execution_count": 22,
   "metadata": {},
   "outputs": [],
   "source": [
    "persistent_client = chromadb.PersistentClient(path=os.path.join(os.getenv('LOCAL_DB_PATH'),'chromadb'))   \n",
    "query_model=OpenAIEmbeddings(model='text-embedding-ada-002',openai_api_key=os.getenv('OPENAI_API_KEY'))\n",
    "\n",
    "index_name='chromadb-openai-ams-15merge-400-0-2000-2020'\n",
    "\n",
    "# Connect to vectorstore where no chunking was done only full PDF pages\n",
    "vectorstore = Chroma(client=persistent_client,\n",
    "                        collection_name=index_name,\n",
    "                        embedding_function=query_model)  "
   ]
  },
  {
   "cell_type": "code",
   "execution_count": 23,
   "metadata": {},
   "outputs": [],
   "source": [
    "all_docs = vectorstore.get(include=[\"metadatas\", \"documents\", \"embeddings\"])"
   ]
  },
  {
   "cell_type": "code",
   "execution_count": 24,
   "metadata": {},
   "outputs": [],
   "source": [
    "lcdocs = [Document(page_content=doc, metadata=metadata) \n",
    "          for doc, metadata in zip(all_docs['documents'], all_docs['metadatas'])]"
   ]
  },
  {
   "cell_type": "code",
   "execution_count": 29,
   "metadata": {},
   "outputs": [
    {
     "data": {
      "text/plain": [
       "364"
      ]
     },
     "execution_count": 29,
     "metadata": {},
     "output_type": "execute_result"
    }
   ],
   "source": [
    "len(lcdocs)"
   ]
  },
  {
   "cell_type": "code",
   "execution_count": 25,
   "metadata": {},
   "outputs": [
    {
     "data": {
      "text/plain": [
       "Document(page_content='Detailed ArrayDescription Thesolararrayconsists ofthefollowing majorelements: 1.Primary Deployment Mechanism (PDM) 2.Wingsolarpanelstructure withPhotoVoltaicAssembly (PVA) 3.WingDeployment mechanisms 4.Holddownandrelease mechanism Thefollowing sections provide somedetailsofthewingconcept design. Emphasis hasbeenputonthe designofthewinghardware, asitcontains ahighdegree ofdesigncommonality anddesignmodularity withbothprograms, beingtheitems2,3and4oftheabovelist. Primary Deployment Mechanism (PDM) Thepurpose oftheprimary deployment mechanism istocreatesufficient clearance between therotating wingandthebaseline spacecraft structure. Inaddition, itensures minimisation ofshadow linesandalso provides adequate clearance fromtheexhaust plumes oftheS/Cthrustmotors. Theprimary deployment motionisquitedifferent perconcept. Still,modular elements suchasthelimbsandtheindividual hinges areforeseen. Atypicaldesignconcept isshowninFigure3.ThePDMalsoneedstoberestrained during launchby2oftheAdvanced RigidArrays(ARA)-type holddowns, asitisconsidered arelative heavy structure mechanism. • <_:_r_..:.... _ PDMarm  I I\\'-_\\'\":__.... IIntermediate hingeI  Upperh,nge ._.<,_iiiii;-:-.,i.-;:: _I/ I \"\" -> ,_.\".--;:_-:;\" 04 Pressure plate  ..... ._\".\",z Damper assyM/RMholddown _ _i. \\'_:i.. •\"-. Snubber frame Figure3.Solararrayinstowed configuration withPDM;(Celestri typical) 255 TheWinqPanelPackaqe: Thewinqsolarpanelpacka.qes structure (2-off) Eachwingpackage consists of: Fourteen (14)thinsemi-rigid CFRPpanels equipped withthinfilmtypesolarcells electrical interpanelpowertransfer harness Pressure plate Snubber-frame interfacing withtheS/Cincluding thejackcurving mechanism 2x6primary ARA-type hold-down points 2secondary modified ARA-type hold-down points Thinsemi-riqid CFRPsolarpanelswithPVA Thewingsconsist ofanumber ofrelatively thinsandwich panels, measuring 4.3mx0.50m.The sandwich isAluminum honeycomb withCFRPfacesheetsonbothsides.Thebaseline panelthickness is 4mm.Thephoto-voltaic assembly isbasedontheapplication oflargethinfilmcellssuchasamorphous SiliconorthenovelCopper Indium(Di)Sulphide (CIS)typecellsarenowemerging. Thefrontsideofthe panels areequipped withsolarcells,whilethebackside isusedfortheelectrical wiringandthe synchronization system. Thedesignofthecellsubstrate isaimedtoaccommodate twocelltypes,i.e.,the \\'conventional\\' butheavier andmoreexpensive mono-crystalline SiliconorGaAstypecellsaswellasthe muchlighterandcheaper thinfilm,e.g.,amorphous Siliconcells. ThinfilmSolarCellTechnoloqy Theconcept tobeselected should allowtheuseofnovelthinfilmsolarcelltechnology. The Amorphous Siliconthinfilm(a-Si)cellisresistant tohighradiation environment [2].Anadditional reason forimplementing thiscelltypeisthelowassociated costandlowmass.Typically, the manufacturing process allowsforbulkproduction asrequired forconstellations. Panelandinter-panel electrical harness Therearsideofthepanelisequipped withaflexible electrical harness inordertominimize the resistance torque duringdeployment, especially undertheextreme temperature conditions. A singleuninterrupted flex-print isdesignbaseline toeliminate the\\'conventional\\' inter-panel power transfer harness andconnectors. Thiswillresultinalowermass,compact flatstowage, lowcost andareliable performance. Thisflex-print designalsoreduces themultiple ohmiclossesatthe \\'conventional\\' inter-panel connector junctions. Redundancy requires thatthereare2 uninterrupted flex-print harness. Snubber frame: Thepurpose ofthesnubber frameistoobtainastiffinterface towards thespacecraft structure. Asthe thinpanels havearelative highflexibility, itisrequired tohaveastiffframesuchtomeetthestowed resonance frequency requirement offl>35Hz.TheCFRPframehasinterface pointstowards the12 holddownpoints.Itincludes the\"jackmechanism\". (see:deployment mechanisms section) Pressure Plate(optional) Toclosethebox,apressure plateofCFRPisforeseen. Thetotalpanelpackage iskepttighttogether by means oftheearliermentioned snubber frameandthepressure plate.Thepressure plateinterfaces with thelastlifepanel.Thepressure platecanbedeleted incasethespacecraft actsasasupporting structure. Thismeansacloseinteraction withtheS/Cbuilder. Assuch,25mmofstowage heightcould besaved. 256 Deployment Mechanisms ofWings Thefollowing deployment mechanisms areforeseen forthewings: 1.Secondary deployment system, i.e.,panelhinges 2.Panelcurving system withtension wires 3.Thehold-down element basedonexisting andprovenARAdesign. 4.Deployment damper forspeedcontrol Secondary Deployment System Thepanelsareequipped withthree(3)hingesalongtheirfoldlines.Theactualdeployment ofthesolar panelsstartsafterthelastandcentralconnecting element hasbeencut.Springmotors actuate thesolar panels fold-out. Ateveryhingelinethereisadeployment springintheformofatorsion rod,The deployment ofthepanelsissynchronized bya\"soft\"synchronization system [3].Between twoadjacent hinge-lines thereisatorquetubeinstead ofapulleyandcablesystem. Thesynchronization tubeismade ofstainless steel,butincasethebending stiffness hastobeless,carbon fiberisanoption. Figure4 showssomedetails. Thepanelhingesonlyhaveastopbutnolock.Thismeansthatthereishardlyany deployment shock.Still,atleastonedamper isrequired tobettercontrolthedeployment trajectory [4].A smalleddy-current orviscous damper isforeseen unwinding acablepulleysystem. Hingebacklash is inherently eliminated whenthehingelineiscurved. Thepanelhinges arepre-loaded viathecurving mechanism andare\"forced\" toonesideofthehingeedge.  Powertranfer \\'.,/_ harness._._ /_\\'/ Synchronization :=: tubes \\\\ // ETens\\'onw\\'resI I\"\\'noe\\'\\'o\\'O\"oeI Figure4.Design ofthesecondary deployment mechanism (incl.thesynchronization \"tubes\") Duringdeployment, thepanelhinge/fold linesarestiff,because thepanelsareindifferent planes. As soonasthepanelshavelinedupattheendofthesecondary deployment phase, thepanelscanbe curved toformacurvedwing.Inaddition totheprimary curving system, thecurvature ofthepanels is 257 initiatedandmaintained byanumberofspringloadedriggingwiresorstraps,whichrundiagonallybehind eachpaneltoallfourcorners. Whenthepanelsareflat,thewiresarestretchedforabout25mm,butassoonasthepanelsareallowed tocurve,thewiresshorten25mmandpullthepanelsinadefinedcurvature.Adiagonallayoutofthe wiresisselectedtoincreasethetorsionstiffnessofthedeployedwing.Existing,spacequalifiedandlowmassKevlarcablesareforeseentobeusedaspanelriggingwires.Thetensionatstartisabout100N percable.Atthefinalposition,oncethepanelsarecurved,theremainderofthepre-tension isabout60N Theprimary rootcurvinq system (i.e.,\"lack\"mechanism) Attherootofthewing,embedded inthesnubber frame,several provisions arerequired toallowthewing tochange fromaflatsurface toacurvedone.Thefunction ofthis\"jack\"mechanism istoinitiatepanel curving oncethedeployment iscompleted. Thenumber andthedesignoftheseprovisions areafunction oftherequired curvedshapeofthewing afterdeployment. Thiscurving system issandwiched between thesnubber frameandthefirstpanel. Figure5showssomedetailsofthedesignconcept. Thefirstpanelisfixedtothesnubber frameatitstip andbasewithtwoshearwebs.Oneshearwebisequipped withonlyonehinge/fold lineandtheother shearwebwithtwohinge/fold lines.Inthisway,thepanelisallowed tohaveexcursions inthecenter,ina similarwayasasuspended leafspring. Theconcertina structure pushes thein-board panelinthecenterawayforabout200mm.Hence, the remainder ofthewingpanelsisurgedtofollow,because ofthepanelcurving system. Thehollowsideof thecurvedwingisnormally pointing awayfromthesun.Fromlaterbreadboard testingitturnedoutthat themechanism couldbeavoided, asthecurving motion wasinitiated bythestrainenergy induced from thetension cablestotheindividual panels. .I//\\'\\\\\\\\ ....,..,,.__i/ \"---. ...+s_Figure5.Panelprimary rootcurving mechanism. 258 Thehold-down system Thehold-down system isdivided intotwosystems: -Theprimary hold-down system -Thesecondary hold-down system Theprimary system restrains the2stowed wingstacksandthePDMduringlaunch, whilethesecondary hold-down system functions inthefirstpartoftheoperational orbittokeepthestillstowed panelstiedto thesnubber frameandprevent premature secondary deployment. ThePDMboomandthetwowingstacksofconcertina-wise foldedpanels, areheldstowed bytwo(2) hold-down elements inaddition tothetwelve(2x6)pointsforeachwing,including therestraint elements. Theother\\'hardpoints\\'arenotequipped witharestraint element; theyactas\\'snubber\\' points.Incasethe number ofpointsonthespacecraft isnotsufficient tosupport thetwopanelstacks, aframe-like adapter canbeused.Thisframewillprovide therequired extrahardpointsforthesolarpanelstacksagainst the S/Csidewall. Thissnubber-frame itselfisfixedtothebrackets onthesidewall ofthesatellite. Ahold-down pointconsists ofabracket, ahardpointinthepanels, arestraint element, atensioning element andasetof\\'Thermal Knives\\'. Therestraint element willbebasedonexisting andprovenARAtypetechnology [5](Figure 6). Also,anewholddownmechanism isbeingdeveloped toachieve amorecompact stowage volume. Itis calledtheMultipurpose HolddownandRelease Mechanism (MHRM). Thecuttingactionisachieved bya thermal (redundant) knife.ThecabletypeisDyneema ®,whichhasalowermelting pointthantheKevlar cableusedintheARAtypeholddown. Also,thecableisnowconfigured inaclosedloop,allowing amore compact stowage volume. Thelocation oftheMHRM wouldbealongthelongedge,aseachwingpanel package isratherslender. Figure7showsthedesignconcept oftheMHRM, typicalforonepaneloption. Extension toalargerpanelstackwillbeimplemented inthefollowonstudy. Thermal Knife CableloopI \\\\ IRestraint bracket I Figure6.ARArestraint basedonaThermal Knife[5]Figure7.MHRM: Multipurpose Holddown& Release Mechanism [7]. 259 Structural Performance Deployed WingAnalyses: Bothforthestowed aswellforthedeployed wing,structural analyses wasexecuted (FEM/NASTRAN). Forthedeployed wing,alsoanon-linear analysis wasdone,inwhichthesensitivity against thefollowing threeparameters wasinvestigated: _. Tension loadsinthestraps/tension wires p- Amount ofcurvature ofthesemi-rigid panels ;,- Stiffness ofthetension wiresorstraps Itwasfoundthatthestiffness ofthe(sub)wingcouldbetunedwiththeaboveparameters. Thelowest frequency wasatorsion mode(f_-0.278Hz),followed byabending mode(fl~0.577Hz).Increase in torsionrigiditycouldbeachieved byincreasing thestiffness ofthetension strapsincombination withthe panelcurvature. Also,thePDM-stiffness determines theoverall deployed wingbehavior greater than expected. Thiscanbetunedbythegeometry oftheCFRPtubeoftheprimary linkage. Y __\\'-\"-_ _*....... =-._;:........,....................3.0;/ X Torsion mode:0.278Hz \":W:::;/-.•01 .__, -__:._.. ._.__..Bending mode:0.577Hz Yy .Yy - __ × Figure8,Typical modeshapes ofafullydeployed wing(Ref:Teledesic) Massperformance: Apreliminary masstable(SeeTable2)isprovided showing thetypicalmasses involved (based onthe relative lowvalueofabout8%cellefficiency atEOLconditions). ThePDMandallmechanisms are included whichcontribute to-30%oftheoverallmass.Especially, thePDMwiththedoublegimbalSADM isaheavystructure, andisfullydrivenbytheconstellation requirements. Butincaseanormal V-yoke structure isused,andnoactivemotorized PDMhingesareused,considerable masssavingisforeseen. 260 Note,thatincasetransferismadetothemuchmoreefficientCIStypethinfilmcells(i.e.,withapredicted efficiencyof15%EOL),thepowertoweightratiowouldincreasetoabout70-80W/kgEOLforthe2 individualwingstructure(excluding thePDM,excluding 20%margin). Table2:Predicted massperformance ofatypicalsolararray(Ref2;Teledesic) Assembly Wing SolarArrayItem Unitmass No Mass typ.(kg) (kg) Solarpanelstructure CFRP 1.599 14 22.386 PVA(basedon8%a-Sicells,70W/m2EOL)0.540 14 7,560 Pressure Plate 5.626 1 5,626 Snubber Frame 3.511 1 3,511 Interpanelhinges 0.030 40 1,200 Interpanelsnubbers 0.003 285 0.855 Primary hold-down system (per2) 0.385 6 2,310 Snubber frameshearwebs 0.146 1 0,146 Synchro !panelcurving system 2.495 1 2,495 Wingdamper system 0.920 2 1840 Powertransfer harness 1.143 1 1,143 Telemetry deployment /wingstatus 0.120 1 0.120 Telemetry /sunsensing 0.500 1 0.500 49.692 2 99.384 Wings EOLWatts/kg(excl.PDMetc) Primary Deployment Arm PDMHolddownSystem PDMPowerTransfer Harness SADM/gimbalmechanism43W/kg 14.187 1 14.187 0.266 2 0.532 2.407 1 2.407 15.000 1 15.000 EOLWatts/kg(withPDMetc) 32W/kg131.51 Deployment characteristics: Topredict thedeployment behavior, aspecial purpose program thatisnormally usedforourstandard ARA-type solararrayswasupdated (SMX-Deploy). Also,thedamper effectwasincluded. Asensitivity studywasdonetoinvestigate criticalbehavior, Itappeared ratherquickly thatthecalculation method with SMXDeploy couldnotbeused.Anewdeployment program wasrequired thatcoulddealwiththehighly non-linear behavior. Thisanalysis activitywasinitiated withtheMulti-Body software codecalledADAMS, andisnowinprocess. Breadboarding aspartofD&D A50%scalemodelwasbuiltcomprised of15panels of2.2mx0.25m.Aspecial deployment rigwas manufactured tosimulate zerogravity. Thisairbearing deployment rigwasbasedonaprevious Fokker Spacein-house development [6].Thefollowing testswereperformed: Functional deployment andlifetesting Torque surplus measurements (indicative) _\"Stiffness andbacklash (qualitative &quantitative) Themodelwasstowed anddeployed several times(>20x). Thewingdeployment wasinitiated bythe torsion springs incombination withthesynchronization tubes. Initialreservations concerning the deployment initiated weretakenaway.Duringthedeployment, somepanelsalready curved totheirfinal curvature whileothersstillremained flat.Thiswasnotexpected andcouldalsonotbepredicted asitwas considered tobeahighlynon-linear kinematics deployment behavior. Itcouldbeexpected however, that 261 anyprematurecurvingofthepanelwouldimpose excessive friction forcesatthehinges. Inreality,this wasnotthecase.Onthecontrary, ithelped thedeployment motion bytheenergyreleased fromthe contracting tension cables. Figure9.Thescalemodel(50%)oftheCurwin infullydeployed state(onewing) Arestartofthedeployment wasalwayspossible, evenwhenacertainamount ofthepanelshadalready reached theircurved (=deployed) position. Itwasobserved thatthecurving ofthepanels nearthe deployed condition isnotapotential resistance source, butinstead stimulates thefurtherdeployment of theremaining panels. DuringthewingBBtestingitwasclearlydemonstrated thatsomeformofdamping wouldberequired tocontroltheadditional deployment energycoming fromthecurving panelsandalsoto controlthedeployment trajectory. Table3:Stiffness performance ofatypical 50%scalewing(Ref2;Teledesic) Outofplanestiffness Elaverage Inplanestiffness Elaverage Torsion stiffness GIpaverage1600Nm2 20000Nm2 740Nm2 Thestiffness asmeasured fulfilled therequirement. Anexpected knock-down of4wasobserved in bending andtorsion, however, stillmeeting theanticipated requirement offl>0.3Hzfortheflightdesign case.Lifetesting showed noobservable degradation; thetension wiresremained intactwithno degradation. Although nolargeshocks occurred, itwasconsidered mandatory toimplement a 262 deployment damperinordertolimittheoff-axis trajectory ofthesecondary deploying solararray.The relative softsynchronization requires sometypeofdamper tocoordinate thedeployment behavior. This wasimplemented intheupdate designsketches. Thedesignsketches andtheirinputswereusedfora complete PhaseC/Dcosting andtodetermine thefeasibility ofthe$1M/array.Unitdevelopments were identified forfurtherdetailing andcosting forphaseC/D.Moreeffortisrequired fortheAITstreamlining as thisdetermines thebulkcosting fortherecurring phase. SinglerailO-gdeployment rig1 Winginstowed configuration I Figure10.Curwin fullydeployed, shown fromrearsideshowing synchronization tubesand tension cables 263 Conclusions Thereservations concerning thedeployment feasibility andassociated deployment principles werefully covered bythe50%scalebreadboard model. Deployment wasfeasible despite firstreservations. Stiffening ofthedeployed arraybybending theultra-thin panelsnotonlyworked onpaper,butwasalso proveninextensive BB-testing. Summarizing: 1.Compact stowage ofthethinpanelstackcanbeachieved, stillmeeting thefrequency requirements forboththestowed configuration aswellasthefullydeployed configuration. 2.Themechanism complexity suchasHDRS andhinges arewellknown andtherefore arenot considered alargerisk(Fokker SpaceBVdesignheritage). 3.ThePDMisarelatively complicated andcostlymechanism duetotherequired deployment trajectory. Commonality forTeledesic andCelestri couldstillbeachievable. 4.Apower-to-weight ratioof35W/kgatEOLforMEOandalsounderarelative highradiation environment after10yearsseemsachievable. Thisisthecaseforthethinfilmcells,butevenmorefor theCIStypecells,whichofferbetterperformance. (i.e.,70to80W/kgatEOLconditions) 5.Implementation ofthinfilmtechnology onultrathinpanelswasselected asthemostfavorable cell technology. Thiscouldbeeithera-Sitypecells,newCIStypecellspresently underdevelopment oreven ultrathinGaAscellswhicharenowalsoemerging. Acknowledgements IwanttothanktheDutchNIVRforfunding thisstudy.Without theirhelp,a\"jumpstart\"wouldneverhave beenpossible. Theyrealized theimportance tobethereintime.Also,thephase-A andphase-B team, whichcreated atremendous outputinsuchashorttime.Thishelped thedesign teamtoestablish a baseline relatively quickly. Lastbutnotleast,thehardworking BB-team, which, withtheirenthusiasm, wereabletocreate,buildandtestthis50%scalemodelinjust3months. References 1.CurwinSolarPanelSystem: PatentNo:US6,091,016 andEuropa 97204099.2 2.PhaseB1datapackage toNIVRCONSA anda-Sidevelopments: CONSA-SER-SER-095 3.SolarPanelSynchronization System patentNoUS6,031,178 andEP98200951.6 4.BBtestresultsof1/2scaleCurwin©model:PhaseB1studynoteCONSA-FS-SER-094 5.Thermal Cutting Hold-down &Release Mechanism. Second European SpaceMechanisms &Tribology Symposium, Meersburg, Germany, Symposium BookESASP-231. 6.Fokker Space SolarArrayDeployment Rigs(A.P.Eggers andH.J.Cruijssen; 33r_Aerospace Mechanisms Symposium, Pasadena, California May1999;NASA/CP-1999-209259, 7.System forholding together andseparating partsofaconstruction: USpatent: 5,716,157 and EP:0716982 264 /JHitchhiker Marman BandInterconnect Linkage GaryR.Slebzak* andGeneBarrett* Abstract TheHitchhiker (HH)projectoffersexperimenters theabilitytoejectsmallsatellites intoorbitfromthe SpaceShuttle\\'s cargobay.Duringlaunchthesatellite issecured totheHHejection systemusinga pyrotechically releaseable marman bandassembly. Duetoanon-flight anomaly, theactuation ofthe marman bandassembly wasexamined usinghighspeedvideo.Thevideoshowed apotential forrecontactofthemarman bandassembly withthesatellite fromrebound effectsbeforethesatellite was sufficiently deployed, thereby creating ahazardous satellite tip-offsituation. Thispaperdescribes howtheenergetic releaseandsubsequent motionoftheassembly iscontrolled through theuseofa clampinterconnect linkagesysteminconjunction withasystemofpulldownsprings. Thelinkage systemwasselected asopposed toamoreconventional \"catcher\" systemduetohardware specific interfaces andadaptability toexisting bandhardware. Thelinkage system controls thereleasing bandmotionbysupporting anddecoupling thepyrotechnic cuttermassfromtheclampportionofthe assembly, allowing unrestricted motionoftheclamps untilthesystem isinthefullyexpanded condition atwhichpointthelinkage actsasanover-center mechanism inhibiting rebound and collapse oftheassembly backtowardthesatellite. Inaddition, theentireassembly ispulleddown andawayfromthesatellite andseparation planebythepulldownspringsystemthatalsosecures it inthepostdeployconfiguration. Sincetheentireactuation takesplaceinlessthan30milliseconds, successful functional testingofthenewlydeveloped mechanism wasdocumented andverifiedusing high-speed videoat1000frames/second. Introduction TheHitchhiker projectissponsored bytheShuttleSmallPayloads Project(SSPP) atGoddard Space FlightCenter(GSFC). TheSSPPhasbeenproviding thetechnology andhardware forejecting small satellites intoorbitusingtheSpaceShuttleasaplatform sincethemid1980\\'s.Thisservicebegan withtheNUSAT satellite in1985aspartoftheGetAwaySpecial(GAS)program. NUSAT became thefirstsatellite tobeejectedfromashuttlecarriedGAScanister usingtheGASEjection System, whichlaterevolved intotheHitchhiker Ejection System (HES).Thelatestseriesofsatellite deployments during1998-1999 hasusedacombination oftheHESandthemoreversatile Pallet Ejection System (PES).Itwasduringoneofthesedeployments, MightySat-01 onSTS-88 in December of1998thatstandard orbitervideotakenduringthesatellite ejection alsodetected debris apparently generated duringthedeployment. Itwasdetermined thatthedebriswas,infact,oneof thecomponents oftheejection systemandthatprompted anextensive investigation intothecause oftheanomaly. Theinvestigation provedtobebotheducational andenlightening. Thecauseofthe debriswasnotthatdramatic andwastracedtoaworkmanship issue.However, theinvestigation furtherrevealed deficiencies intheejection systemconfiguration onlydetectable bytheuseofhighspeedphotography. TheHitchhiker (HH)marman bandinterconnect linkage isthedesign improvement developed tocorrecttheinherent deficiencies discovered intheejection system marman bandusedinboththeHESandPES. Ejection System Background TheSSPPejection systems (Figure1,PESshown) aresimilarindesignandusethesamebasic technique fordeploying satellites. Essentially, thesatellite isplacedontoaspring-loaded pushplate, whichiscompressed andsecured totheejection systembaseusingamarman bandclampassembly (Figure2).Themarman bandassembly wasdeveloped intheearly1970\\'sbyRockwell fordeploying satellites fromDeltarocketsandthedesignhasbeenusedwithoutchange. Theassembly consists of twohalvesofthemarman band,whichclampthesatellite andbasetogether usingseparation bolts. Thehalvesarealsoconnected toeachotherbymeansofleafsprings, whichassistinband separation andkeepthereleased bandasasingleassembly following deployment. Thereleased SwalesAerospace, Beltsville, MD Proceedings ofthe35thAerospace Mechanisms Symposium, AmesResearch Center,May9-11,2001 265 assembly iscaptured usingaseriesofretaining springs, whichsecure itinthepostdeployment position. Todeploy thesatellite theseparation boltsarecutwithpyrotechnically actuated boltcutters EJECTION SYSTEM SPRING  SATELLITE LOADED PUSHER PLATEMARMAN CLAMP \\\\ N SEPARATION .... ., _ _ .... PLANE0° 180° PYROTECHNIC CU\\'Iq-E RHOUSING EJECTION SPRINGS (NOT SHOWN) PUSH ROD Figure 1.PUSH PLATE ASSEMBLY  LINEAR BEARING Integrated Satellite, PES,Marman BandAssembly Section INTERCONNECT LEAF SPRING BOLT CATCHER 270° \\\\ 90° MARMAN CLAMP\\\\ \\\\ 180° SECTION B-B (ORIGINAL DESIGN)SECTION THROUGH SEPARATION PLANE/MARMAN CLAMP Figure 2.Original SSPPMarman BandAssembly 266 releasing themarman clampandthereby, allowing thespringloadedpushplatetoejectthesatellite intoorbit. Duringtheinvestigation connected withtheonorbitdebrisissue,themotionofthemarman clamp assembly wasstudiedusingvideorecorded at1000framespersecond. Whenviewedataplayback rateofoneframepersecond, thisvideorevealed thatthemarman clampassembly wouldseparate, reachtheendoftravel,rebound backandre-contact theseparation planebeforethesatellite could bedeployed. Anyre-contact withthesatellite priortobeingfullydeployed couldresultinahazardous \"tip-off\\'andmission-compromising situation. Itwasalsoapparent thatthebasicconfiguration ofthe assembly hadatendency toexacerbate separation planere-contact. Designimprovements were required toeliminate thehazardous condition andimprove overallsystemreliability. Marman ClampDesignImprovement DesignRequirements Thefollowing goalswereestablished toguidethedesignimprovement effort: 1.Eliminate there-contact ofthemarman bandassembly withthesatellite and/orseparation plane, thus,avoiding asafetyhazard. 2.Prevent anychange tothemarman bandclamping loadpath,whichwouldinvalidate previous analysis, andtesting. 3.Improvements mustberetrofittable andcompatible withboththeHESandPES. Tomeetthedesignrequirements, itwasnecessary todoamoreindepthstudyofthehigh-speed videoandattempttoisolateproblem areasintheexisting design.Several pointswereidentified: 1.Whenreleased themarman clampassembly reacted inaveryuncontrolled andundesirable manner. 2.Theboltcutterassemblies comprised alargeportionoftheoverallmassofthemarman clamp assembly. Theirmethodofattachment tooneendofeachclampinhibited thefreemotionofthe bandasitexpanded ina\"tailwagging thedog\"fashion. Thecutterassembly immediately pivotedabouttheendoftheclampbumping andslapping theseparation planeduringrelease. Thedesignoftheclampusedtosecuretheboltcutterwasinadequate andinneedof improvement. 3.Theinterconnect leafspringswhichjoinedthetwomarman clamps, weredetermined tohavelittle effectinbandseparation compared tothestrainenergyinthebandduetotheboltpreload. The leafsprings, infact,contributed totherebound effectsofthebandduetotheirstoredenergy whenfullyexpanded attheendoftravel. 4.Thestopsthatthemarman clampassembly cometorestonafterseparation werelocatedsuch thattheywoulddirecttherebounded assembly backtowardtheseparation plane.Amorerobust designwasneededtoaccommodate impactloading. 5.Theretaining springsthatsecurethemarman clampassembly afterseparation, ifredesigned, couldactas\"pull-down\" springsandcontribute tothecontrolling ofbandmotion. DesiqnTrade-offs Basedonthedesignrequirements andtheexisting hardware configuration anddeficiencies, design approach trade-offs wereperformed. Twoapproaches wereconsidered: 1.Themoreconventional methodformarman bandapplications, whichwouldinvolveadapting the ejection systems toincorporate a\"bandcatcher\". 2.Thehardware specific approach inwhichaseriesofdesign improvements totheexisting hardware isusedtomeettherequirements. Conventional approach -BandCatcher Preliminary concepts forabandcatcher revealed thatanytypeofmechanism thatwouldmeetthe safetyrequirement forfailsafeoperation ofthedualboltcuttersinvolved complex configurations. In addition, themechanism wouldhavetoadapttotheejection systems suchthattheycouldbe integrated intotheSSPPstandard 141liter(5ft3)canister whichhasa50.8-cm (20-inch) inside diameter. Sincethemarman clampassembly hasapproximately a25.4-cm (10inch)outside diameter intheclamped configuration, therewouldbelimitedspacefortheassembly toactuate duringdeploy andstillbecaptured byasecond mechanism. Therewerealsoreliability issuesconcerning an additional mechanism ofthatcomplexity. Finally,thecatchermechanism wouldhavetoadapttoboth theHESandPES,whichhavesubstantially different baseconfigurations thatwouldinvolvedesign(s) ofseparate interface mounting hardware. 267 Hardware specific approach Thehardware specific design approach, whichwasadopted, involved modifying theexisting hardware onlyasneeded tocontrol themotion ofthemarman bandassembly tomeetthe requirements. Byminimizing anddelaying rebound effects, aswellastranslating theassembly down andawayfromtheseparation plane, themotion oftheassembly couldeffectively becontrolled. Thereby, satisfying therequirement ofeliminating re-contact withtheseparation plane.Also,since themodifications onlyaffected themarman bandassembly, theywereeasilyadapted toboththe HESandPES.Itwasdetermined thattheboltcutterhousing(s) contributed onlynegative effects to themarman clampassembly actuation. Decoupling themassoftheboltcutterhousing fromthe marman clamps wouldpermittheclamps tofreelyseparate duringactuation andredirect theenergy thatwascausing thecutterhousing toimpact theseparation plane.Itwasdecided thatalinkage couldbeadapted totheexisting loadclamping components oftheassembly allowing theclamps to freelyseparate and,inaddition, support theboltcutterhousing. Inaddition totheincorporation of thelinkage tocontrol themarman clampassembly movement, theexisting retaining springs couldbe redesigned tohavegreater capacity andfunction aspulldownsprings aswell.Byalsoredesigning andrelocating thestopswellbelowtheseparation plane,thesprings couldpullthebanddownand awayduringactuation. Marman BandInterconnect Linkage Thelinkage named the,Marman BandInterconnect Linkage (MaBIL), wasdesigned suchthatit couldusetheexcess energy oftheexpanding clampassembly tomovetheboltcutterradially away fromtheseparation planeandthenwhenfullyextended actasanovercenter latchtominimize rebound. TheMaBIL(Figure 3)replaced theleafsprings asaclampinterconnect feature eliminating thestored energy effectscontributing torebound. Additional benefits ofMaBIL aretherelatively largemassof thelinkscompared tothetotalmarman clampassembly andlinkage jointfriction, bothofwhich contribute totheslowing oftheenergetic separation. Desi_qn Aswithmanyhardware designs, costandschedule arealways ofconcern andthiswasnoexception. Inparticular, schedule wasintheforefront. TheSSPPejection systems wereessentially grounded duetothesafetyconcerns untilthesatellite re-contact issuewasresolved. Itwashighlydesirable to develop asounddesign withaslittleiteration aspossible. Thelinkage configuration thatwasdeveloped consists ofacentral boltcutterclampconnected on eachsidetotheexisting marman clamps through aseriesoftwolinks.Usingtheparametric 3D modeling capability ofProEngineer TMtomodeltheexisting marman clampcomponents anddevelop thenewdesign, itwasmadepossible toassure correct interfacing withtheexisting hardware and avoidinterferences inthenewlydesigned components. Themodeling alsomadeitrelatively easyto assess thelinkage inthepre-deploy (clamped) andpost-deploy (open) condition. Configuring the linkage tocollapse intothesmallvolume available whenthemarman bandassembly wasinthe clamped condition became thestarting pointforthedesign. Itwasessential thatthelinksandbolt cutterclampwereablefoldupwithout interference, providing access totheboltcutters andother components. Onceconfigured intheclosed position thelengthofthelinkswereoptimized inthe expanded configuration tofunction withintheenvelope ofthe50.8-cm (20\")diameter canister while providing thegreatest amount ofexpansion fordeployment. Thedetails ofthedesign wereadded tothebasiclinkage configuration. Linkconnections were designed asclevisjointstoassistinloadtransfer andminimize binding effects. Thecompleted design wasstructurally analyzed toprovide positive safetymargins usingfactors ofsafetyof2.0onyieldand 2.6onultimate material strength. Thesefactors ofsafetywereusedinlieuofstructural testing as specified intheHHCarsAccommodations &Requirements Specifications (CARS), 740-SPEC-008, thereby, minimizing testing andreducing costandschedule impact. Theanalysis wasalsousedto optimize component features. Thermal compatibility between linkage component materials andother interfacing components wasrequired toassure thatthemechanism wouldactuate properly atall environmental extremes. Basedonthesefactors corrosion resistant steelsfromtheTableIof\"Design Criteria forControlling Stress Corrosion Cracking\", MSFC-SPEC-522B, wereselected, 15-5PH condition H1025forthelinksandcutterclamp,andA286hardened toRC30minfortheclevispins. 268 o © w q z _J w 0 <,0 (,.9 1.11 _z u.l n,\" pen Figure3.Exploded View-Marman BandInterconnect Linkage 269', metadata={'page': '[265, 266, 267, 268, 269, 270, 271, 272, 273, 274, 275, 276, 277, 278, 279]', 'source': \"['AMS_2001.pdf', 'AMS_2001.pdf', 'AMS_2001.pdf', 'AMS_2001.pdf', 'AMS_2001.pdf', 'AMS_2001.pdf', 'AMS_2001.pdf', 'AMS_2001.pdf', 'AMS_2001.pdf', 'AMS_2001.pdf', 'AMS_2001.pdf', 'AMS_2001.pdf', 'AMS_2001.pdf', 'AMS_2001.pdf', 'AMS_2001.pdf']\"})"
      ]
     },
     "execution_count": 25,
     "metadata": {},
     "output_type": "execute_result"
    }
   ],
   "source": [
    "lcdocs[0]"
   ]
  },
  {
   "cell_type": "markdown",
   "metadata": {},
   "source": [
    "## Generate synthetic dataset"
   ]
  },
  {
   "cell_type": "code",
   "execution_count": 26,
   "metadata": {},
   "outputs": [],
   "source": [
    "# Openai\n",
    "generator_model=\"gpt-3.5-turbo-16k\"\n",
    "synthetic_generator_llm = ChatOpenAI(model=generator_model, tags=[generator_model])\n",
    "\n",
    "\n",
    "# Hugging face LLM\n",
    "# generator_model=\"google/gemma-7b-it\"\n",
    "# synthetic_generator_llm = ChatOpenAI(base_url='https://api-inference.huggingface.co/v1',\n",
    "#                             model=generator_model,\n",
    "#                             api_key=os.getenv('HUGGINGFACEHUB_API_TOKEN'),\n",
    "#                             tags=generator_model)\n",
    "\n",
    "# Local LLM via LM studio\n",
    "# synthetic_generator_llm = ChatOpenAI(base_url=\"http://localhost:1234/v1\", api_key=\"not-needed\")"
   ]
  },
  {
   "cell_type": "code",
   "execution_count": 27,
   "metadata": {},
   "outputs": [],
   "source": [
    "critic_model=\"gpt-3.5-turbo-0125\"\n",
    "# critic_model=\"gpt-4\"\n",
    "synthetic_critic_llm = ChatOpenAI(model=critic_model,tags=[critic_model])\n",
    "\n",
    "synthetic_embeddings = OpenAIEmbeddings()"
   ]
  },
  {
   "cell_type": "code",
   "execution_count": 28,
   "metadata": {},
   "outputs": [
    {
     "name": "stdout",
     "output_type": "stream",
     "text": [
      "1.3736263736263736\n"
     ]
    },
    {
     "ename": "ValueError",
     "evalue": "Sample larger than population or is negative",
     "output_type": "error",
     "traceback": [
      "\u001b[0;31m---------------------------------------------------------------------------\u001b[0m",
      "\u001b[0;31mValueError\u001b[0m                                Traceback (most recent call last)",
      "Cell \u001b[0;32mIn[28], line 12\u001b[0m\n\u001b[1;32m      9\u001b[0m \u001b[38;5;28mprint\u001b[39m(percent_total)\n\u001b[1;32m     11\u001b[0m \u001b[38;5;66;03m# Get a random sample of lcdocs\u001b[39;00m\n\u001b[0;32m---> 12\u001b[0m lcdocs_random \u001b[38;5;241m=\u001b[39m \u001b[43mrandom\u001b[49m\u001b[38;5;241;43m.\u001b[39;49m\u001b[43msample\u001b[49m\u001b[43m(\u001b[49m\u001b[43mlcdocs\u001b[49m\u001b[43m,\u001b[49m\u001b[43m \u001b[49m\u001b[43msample_size\u001b[49m\u001b[43m)\u001b[49m\n",
      "File \u001b[0;32m/Library/Frameworks/Python.framework/Versions/3.11/lib/python3.11/random.py:453\u001b[0m, in \u001b[0;36mRandom.sample\u001b[0;34m(self, population, k, counts)\u001b[0m\n\u001b[1;32m    451\u001b[0m randbelow \u001b[38;5;241m=\u001b[39m \u001b[38;5;28mself\u001b[39m\u001b[38;5;241m.\u001b[39m_randbelow\n\u001b[1;32m    452\u001b[0m \u001b[38;5;28;01mif\u001b[39;00m \u001b[38;5;129;01mnot\u001b[39;00m \u001b[38;5;241m0\u001b[39m \u001b[38;5;241m<\u001b[39m\u001b[38;5;241m=\u001b[39m k \u001b[38;5;241m<\u001b[39m\u001b[38;5;241m=\u001b[39m n:\n\u001b[0;32m--> 453\u001b[0m     \u001b[38;5;28;01mraise\u001b[39;00m \u001b[38;5;167;01mValueError\u001b[39;00m(\u001b[38;5;124m\"\u001b[39m\u001b[38;5;124mSample larger than population or is negative\u001b[39m\u001b[38;5;124m\"\u001b[39m)\n\u001b[1;32m    454\u001b[0m result \u001b[38;5;241m=\u001b[39m [\u001b[38;5;28;01mNone\u001b[39;00m] \u001b[38;5;241m*\u001b[39m k\n\u001b[1;32m    455\u001b[0m setsize \u001b[38;5;241m=\u001b[39m \u001b[38;5;241m21\u001b[39m        \u001b[38;5;66;03m# size of a small set minus size of an empty list\u001b[39;00m\n",
      "\u001b[0;31mValueError\u001b[0m: Sample larger than population or is negative"
     ]
    }
   ],
   "source": [
    "generator = TestsetGenerator.from_langchain(\n",
    "    synthetic_generator_llm,\n",
    "    synthetic_critic_llm,\n",
    "    synthetic_embeddings\n",
    ")\n",
    "\n",
    "sample_size=min(len(lcdocs),500) # This is the max size before you'll hit rate limits with a tier 3 openai account\n",
    "percent_total=sample_size/len(lcdocs)\n",
    "print(percent_total)\n",
    "\n",
    "# Get a random sample of lcdocs\n",
    "lcdocs_random = random.sample(lcdocs, sample_size)"
   ]
  },
  {
   "cell_type": "code",
   "execution_count": null,
   "metadata": {},
   "outputs": [],
   "source": [
    "# TODO run this in batches according to the rate limits\n",
    "\n",
    "# Check if testset.csv exists\n",
    "if not os.path.exists('./testset.csv'):\n",
    "    run_config=RunConfig(timeout=1000,\n",
    "                    max_retries=50,\n",
    "                    max_wait=1000,\n",
    "                    max_workers=1)\n",
    "\n",
    "    n_questions=5\n",
    "    testset = generator.generate_with_langchain_docs(lcdocs_random, \n",
    "                                                    test_size=n_questions,\n",
    "                                                    with_debugging_logs=True,\n",
    "                                                    is_async=True,\n",
    "                                                    run_config=run_config,\n",
    "                                                    raise_exceptions=True)\n",
    "    df_testset=testset.to_pandas()\n",
    "    df_testset.to_csv('testset.csv', index=False)\n",
    "else:\n",
    "    # Import testset.csv into a DataFrame\n",
    "    df_testset = pd.read_csv('testset.csv')"
   ]
  },
  {
   "cell_type": "code",
   "execution_count": null,
   "metadata": {},
   "outputs": [],
   "source": [
    "df_testset"
   ]
  },
  {
   "cell_type": "markdown",
   "metadata": {},
   "source": [
    "### Format dataset and database for RAG"
   ]
  },
  {
   "cell_type": "code",
   "execution_count": null,
   "metadata": {},
   "outputs": [],
   "source": [
    "df_questions = df_testset[['question', 'ground_truth']].copy()\n",
    "df_questions['question_by'] = generator_model"
   ]
  },
  {
   "cell_type": "code",
   "execution_count": null,
   "metadata": {},
   "outputs": [],
   "source": [
    "df_questions"
   ]
  },
  {
   "cell_type": "code",
   "execution_count": null,
   "metadata": {},
   "outputs": [],
   "source": [
    "all_docs = vectorstore.get(include=[\"metadatas\", \"documents\", \"embeddings\"])\n",
    "df_docs = pd.DataFrame(\n",
    "    {\n",
    "        \"id\": [_stable_hash_meta(metadata) for metadata in all_docs[\"metadatas\"]],\n",
    "        \"source\": [metadata.get(\"source\") for metadata in all_docs[\"metadatas\"]],\n",
    "        \"page\": [metadata.get(\"page\", -1) for metadata in all_docs[\"metadatas\"]],\n",
    "        \"document\": all_docs[\"documents\"],\n",
    "        \"embedding\": all_docs[\"embeddings\"],\n",
    "    }\n",
    ")"
   ]
  },
  {
   "cell_type": "code",
   "execution_count": null,
   "metadata": {},
   "outputs": [],
   "source": [
    "df_docs.head(10)"
   ]
  },
  {
   "cell_type": "code",
   "execution_count": null,
   "metadata": {},
   "outputs": [],
   "source": [
    "# Load the cached RAG answers and source_documents ids from a file - or create an empty column\n",
    "df_questions_answers = add_cached_column_from_file(\n",
    "    df_questions, \"rag_response_cache.txt\", \"question\", \"answer\")\n",
    "\n",
    "df_questions_answers = add_cached_column_from_file(\n",
    "    df_questions_answers, \"rag_response_cache.txt\", \"question\", \"source_documents\")"
   ]
  },
  {
   "cell_type": "code",
   "execution_count": null,
   "metadata": {},
   "outputs": [],
   "source": [
    "df_questions_answers"
   ]
  },
  {
   "cell_type": "markdown",
   "metadata": {},
   "source": [
    "# RAG questions/answers (batch mode)"
   ]
  },
  {
   "cell_type": "markdown",
   "metadata": {},
   "source": [
    "The cell below demonstrates using aerospace_chatbot in batch mode. It requires some basic parameter setup and a QA_model."
   ]
  },
  {
   "cell_type": "code",
   "execution_count": null,
   "metadata": {},
   "outputs": [],
   "source": [
    "# TODO turn this into a function/standalone notebook to show how to use the QA model in batch mode\n",
    "\n",
    "index_type='ChromaDB'\n",
    "index_name=index_name\n",
    "query_model=synthetic_embeddings\n",
    "llm=synthetic_generator_llm\n",
    "\n",
    "QA_model_params={'rag_type':'Standard',\n",
    "                 'k':4,\n",
    "                 'search_type':'similarity',\n",
    "                 'local_db_path':os.getenv('LOCAL_DB_PATH')}\n",
    "\n",
    "for i, row in df_questions_answers.iterrows():\n",
    "    if row['answer'] is None or pd.isnull(row['answer']) or row['answer']=='':\n",
    "        print(f\"Processing question {i+1}/{len(df_questions_answers)}\")\n",
    "\n",
    "        # Use the QA model to query the documents\n",
    "        qa_obj=queries.QA_Model(index_type,\n",
    "                        index_name,\n",
    "                        query_model,\n",
    "                        llm,\n",
    "                        **QA_model_params)\n",
    "        qa_obj.query_docs(row['question'])\n",
    "        response=qa_obj.result\n",
    "\n",
    "        df_questions_answers.loc[df_questions_answers.index[i], \"answer\"] = response['answer'].content\n",
    "        # print(response['references'])\n",
    "\n",
    "        ids=[_stable_hash_meta(source_document.metadata)\n",
    "            for source_document in response['references']]\n",
    "        df_questions_answers.loc[df_questions_answers.index[i], \"source_documents\"] = ', '.join(ids)\n",
    "\n",
    "        # Save the response to cache file\n",
    "        response_dict = {\n",
    "            \"question\": row['question'],\n",
    "            \"answer\": response['answer'].content,\n",
    "            \"source_documents\": ids,\n",
    "        }\n",
    "        write_dict_to_file(response_dict, \"rag_response_cache.json\")"
   ]
  },
  {
   "cell_type": "code",
   "execution_count": null,
   "metadata": {},
   "outputs": [],
   "source": [
    "# Get the context documents content for each question\n",
    "source_documents_list = []\n",
    "for cell in df_questions_answers['source_documents']:\n",
    "    cell_list = cell.strip('[]').split(', ')\n",
    "    context=[]\n",
    "    for cell in cell_list:\n",
    "        context.append(df_docs[df_docs[\"id\"] == cell][\"document\"].values[0])\n",
    "    source_documents_list.append(context)\n",
    "df_questions_answers[\"contexts\"]=source_documents_list"
   ]
  },
  {
   "cell_type": "code",
   "execution_count": null,
   "metadata": {},
   "outputs": [],
   "source": [
    "# Addtionaly get embeddings for questions\n",
    "\n",
    "if not Path(\"question_embeddings.pickle\").exists():\n",
    "    question_embeddings = [\n",
    "        synthetic_embeddings.embed_query(question)\n",
    "        for question in df_questions_answers[\"question\"]\n",
    "    ]\n",
    "    with open(\"question_embeddings.pickle\", \"wb\") as f:\n",
    "        pickle.dump(question_embeddings, f)\n",
    "\n",
    "question_embeddings = pickle.load(open(\"question_embeddings.pickle\", \"rb\"))\n",
    "# answer_embeddings = pickle.load(open(\"answer_embeddings_2040214_1111.pickle\", \"rb\"))\n",
    "df_questions_answers[\"embedding\"] = question_embeddings"
   ]
  },
  {
   "cell_type": "code",
   "execution_count": null,
   "metadata": {},
   "outputs": [],
   "source": [
    "df_questions_answers"
   ]
  }
 ],
 "metadata": {
  "kernelspec": {
   "display_name": "Python 3",
   "language": "python",
   "name": "python3"
  },
  "language_info": {
   "codemirror_mode": {
    "name": "ipython",
    "version": 3
   },
   "file_extension": ".py",
   "mimetype": "text/x-python",
   "name": "python",
   "nbconvert_exporter": "python",
   "pygments_lexer": "ipython3",
   "version": "3.11.1"
  },
  "orig_nbformat": 4
 },
 "nbformat": 4,
 "nbformat_minor": 2
}
