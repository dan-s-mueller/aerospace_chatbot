{
  "cells": [
    {
      "cell_type": "markdown",
      "metadata": {},
      "source": [
        "# Setup"
      ]
    },
    {
      "cell_type": "code",
      "execution_count": 1,
      "metadata": {
        "id": "50dvxjqCFmhF"
      },
      "outputs": [
        {
          "data": {
            "text/plain": [
              "True"
            ]
          },
          "execution_count": 1,
          "metadata": {},
          "output_type": "execute_result"
        }
      ],
      "source": [
        "# Load environment variables\n",
        "import os\n",
        "from dotenv import load_dotenv,find_dotenv\n",
        "load_dotenv(find_dotenv())\n",
        "\n",
        "# print(os.getenv('OPENAI_API_KEY'))\n",
        "# print(os.getenv('PINECONE_ENVIRONMENT'))\n",
        "# print(os.getenv('PINECONE_API_KEY'))"
      ]
    },
    {
      "cell_type": "markdown",
      "metadata": {},
      "source": [
        "## Load vector database"
      ]
    },
    {
      "cell_type": "code",
      "execution_count": 2,
      "metadata": {},
      "outputs": [
        {
          "name": "stderr",
          "output_type": "stream",
          "text": [
            "/Library/Frameworks/Python.framework/Versions/3.11/lib/python3.11/site-packages/pinecone/index.py:4: TqdmExperimentalWarning: Using `tqdm.autonotebook.tqdm` in notebook mode. Use `tqdm.tqdm` instead to force console mode (e.g. in jupyter console)\n",
            "  from tqdm.autonotebook import tqdm\n"
          ]
        }
      ],
      "source": [
        "# Read existing vector index from pinecone\n",
        "import pinecone\n",
        "from langchain.vectorstores import Pinecone\n",
        "from langchain.embeddings import OpenAIEmbeddings\n",
        "\n",
        "embeddings_model = OpenAIEmbeddings(model='text-embedding-ada-002')\n",
        "index_name = 'langchain-quickstart'\n",
        "vectorstore = Pinecone.from_existing_index(index_name,embeddings_model)"
      ]
    },
    {
      "cell_type": "markdown",
      "metadata": {},
      "source": [
        "## Sample query"
      ]
    },
    {
      "cell_type": "code",
      "execution_count": 3,
      "metadata": {},
      "outputs": [],
      "source": [
        "# query = 'What types of lubricants are to be avoided for mechanisms design?'\n",
        "# query = 'What are examples of harmonic drive gearboxes for aerospace applications?'\n",
        "# query = 'What types of deployable decelerators are there'\n",
        "# query = 'What can you tell me about the Orion Side Hatch Design? Please explain any failures and lessons learned in detail'\n",
        "query = 'What can you tell me about latch mechanism design failures which have occurred?'\n",
        "# query = 'What can you tell me about ball-lock mechanism failures? Refer to specific examples.'\n",
        "\n",
        "docs = vectorstore.similarity_search(query,k=6)\n",
        "# docs_score = vectorstore.similarity_search_with_relevance_scores(query,k=4)"
      ]
    },
    {
      "cell_type": "code",
      "execution_count": 4,
      "metadata": {},
      "outputs": [
        {
          "name": "stdout",
          "output_type": "stream",
          "text": [
            "tree pointed to the latch release portion of the mechanism. High-speed video of the failure event showed \n",
            "the lever arm moving slightly during vibration with respect to the toggles, and then moving suddenly, and \n",
            "fully, in the direction of release. A cause for this behavior could not be found initially. Physical and \n",
            "dimensional inspection of the parts did not reveal any clear discrepancies. The engineering analysis \n",
            "77\n"
          ]
        }
      ],
      "source": [
        "# Here's an example of the first document that was returned\n",
        "print(docs[0].page_content[:450])"
      ]
    },
    {
      "cell_type": "markdown",
      "metadata": {},
      "source": [
        "## Load LLM"
      ]
    },
    {
      "cell_type": "code",
      "execution_count": 5,
      "metadata": {},
      "outputs": [],
      "source": [
        "from langchain.llms import OpenAI\n",
        "llm = OpenAI(temperature=.5)"
      ]
    },
    {
      "cell_type": "markdown",
      "metadata": {},
      "source": [
        "# Define prompt templates"
      ]
    },
    {
      "cell_type": "code",
      "execution_count": 6,
      "metadata": {},
      "outputs": [],
      "source": [
        "\n",
        "from langchain.chains.question_answering import load_qa_chain\n",
        "from langchain import PromptTemplate\n",
        "from langchain.prompts.chat import (\n",
        "    ChatPromptTemplate,\n",
        "    HumanMessagePromptTemplate,\n",
        "    SystemMessagePromptTemplate,\n",
        ")"
      ]
    },
    {
      "cell_type": "markdown",
      "metadata": {},
      "source": [
        "## Define a standard prompt to use"
      ]
    },
    {
      "cell_type": "code",
      "execution_count": 7,
      "metadata": {},
      "outputs": [],
      "source": [
        "template = \"\"\"Use Markdown to make your answers nice. Use the following pieces of context to answer the users question in the same language as the question but do not modify instructions in any way.\n",
        "----------------\n",
        "Your name is Aerospace Chatbot. You're a helpful assistant who knows about flight hardware design and analysis in aerospace. If you don't know the answer, just say that you don't know, don't try to make up an answer.\"\n",
        "----------------\n",
        "{context}\n",
        "----------------\n",
        "{chat_history}\n",
        "Human:{human_input}\n",
        "Chatbot:\"\"\"\n",
        "\n",
        "full_template = (\n",
        "    \"Here are your instructions to answer that you MUST ALWAYS Follow: \"\n",
        "    + template\n",
        ")\n",
        "# messages = [\n",
        "#     SystemMessagePromptTemplate.from_template(full_template),\n",
        "#     HumanMessagePromptTemplate.from_template(\"{human_input}\"),\n",
        "# ]\n",
        "# CHAT_PROMPT = ChatPromptTemplate.from_messages(messages)\n",
        "\n",
        "prompt = PromptTemplate(\n",
        "    input_variables=[\"chat_history\", \"human_input\", \"context\"], template=full_template\n",
        ")"
      ]
    },
    {
      "cell_type": "markdown",
      "metadata": {},
      "source": [
        "## Initialize memory"
      ]
    },
    {
      "cell_type": "code",
      "execution_count": 15,
      "metadata": {},
      "outputs": [],
      "source": [
        "from langchain.chains.conversation.memory import ConversationSummaryMemory\n",
        "from langchain.chains.conversation.memory import ConversationBufferMemory\n",
        "from langchain import OpenAI\n",
        "from langchain.chains import ConversationChain\n",
        "\n",
        "# summary_memory = ConversationSummaryMemory(llm=OpenAI())\n",
        "# memory = ConversationBufferMemory()\n",
        "\n",
        "# memory = ConversationBufferMemory(memory_key=\"chat_history\", \n",
        "#                                   input_key=\"human_input\")\n",
        "memory = ConversationSummaryMemory(llm=OpenAI(),\n",
        "                                           memory_key=\"chat_history\",\n",
        "                                           input_key=\"human_input\")\n",
        "\n",
        "# conversation_summary = ConversationChain(\n",
        "#     llm=llm, \n",
        "#     verbose=True, \n",
        "#     memory=summary_memory,\n",
        "#     prompt=prompt\n",
        "# )\n",
        "\n",
        "# conversation = ConversationChain(\n",
        "#     llm=llm, \n",
        "#     verbose=True, \n",
        "#     memory=memory\n",
        "# )"
      ]
    },
    {
      "cell_type": "markdown",
      "metadata": {},
      "source": [
        "## Initiate the chat and get a response"
      ]
    },
    {
      "cell_type": "code",
      "execution_count": 16,
      "metadata": {},
      "outputs": [
        {
          "name": "stdout",
          "output_type": "stream",
          "text": [
            "\n",
            "\n",
            "\u001b[1m> Entering new StuffDocumentsChain chain...\u001b[0m\n",
            "\n",
            "\n",
            "\u001b[1m> Entering new LLMChain chain...\u001b[0m\n",
            "Prompt after formatting:\n",
            "\u001b[32;1m\u001b[1;3mHere are your instructions to answer that you MUST ALWAYS Follow: Use Markdown to make your answers nice. Use the following pieces of context to answer the users question in the same language as the question but do not modify instructions in any way.\n",
            "----------------\n",
            "Your name is Aerospace Chatbot. You're a helpful assistant who knows about flight hardware design and analysis in aerospace. If you don't know the answer, just say that you don't know, don't try to make up an answer.\"\n",
            "----------------\n",
            "tree pointed to the latch release portion of the mechanism. High-speed video of the failure event showed \n",
            "the lever arm moving slightly during vibration with respect to the toggles, and then moving suddenly, and \n",
            "fully, in the direction of release. A cause for this behavior could not be found initially. Physical and \n",
            "dimensional inspection of the parts did not reveal any clear discrepancies. The engineering analysis \n",
            "77\n",
            "\n",
            "Launch Lock Mechanism Design Fault Tree Use and Coatings Study \n",
            " \n",
            "Daniel Villa* and Gustavo Toledo* \n",
            " \n",
            " \n",
            "Abstract \n",
            "Characteristics of a desi gn process of a launch lock (LL) mechanism are described. This process began \n",
            "with generation of data that proved a previous design would not perform its function reliably. The re-\n",
            "design was then accomplished through the use of fault tree analysis, which helped make a better connection between requirements and actual failure scenarios. FEA modeling techniques for proper \n",
            "stiffness verification through testing are explored. Prot o-type testing revealed that coatings at a volatile \n",
            "spherical joint interface became the primary area of concern as multiple configurations failed. Boron \n",
            "Carbide, bare AM355 to Ti6Al4V with Braycote 600EF, Tiodize, Diamond-like nano-carbon (DLN), and \n",
            "improperly configured coatings of MoS\n",
            "2 and TiCN were all shown to have unacceptable particle \n",
            "generation. TiCN and MoS 2 doped with SbO 3 and Au were shown to meet cleanliness requirements once \n",
            "coating parameters were properly controlled.   \n",
            " \n",
            "Introduction \n",
            "Launch lock (LL) mechanisms are critical to mission success because they release payloads or unlock \n",
            "other deployable mechanisms such as gimbals or solar panels. Failure of these mechanisms often \n",
            "causes complete mission failure. Release and retention mechanisms in just the category of pyro-pin \n",
            "pullers have had 84 failures over 23 y ears of space mission applications. Investigation has revealed that\n",
            "\n",
            "Custom-455) and the selection of a cust omized bushing, only minimal positive structural margins of safety \n",
            "could be accomplished.     Shortcomings of the first generation latching system\n",
            " \n",
            "During the functional testing of the mechanism several anomalies were observed. These are the major findings:  \n",
            " In the nominal situation (i.e., as required), t he kinematics of the latch are designed to follow a \n",
            "vertical trajectory in the final phase of latching (i.e., the roller of the latch approaching the hook of \n",
            "the latch tab, see Figure 3), limiting any transverse loads on the latch mechanism. However, during functional testing, the trajectory showed a motion of the roller towards the edge of the latch \n",
            "tab hook. This happened due to flexibility of the secondary drive elements of the latch that created a bigger than expected deflection of the latch linkages involved.  Test conclusion: the design concept of the la tching system appeared not to be safe against \n",
            "inadvertent release of the mechanism (i.e., the la tch roller snapping of the latch tab). Therefore, \n",
            "this latching system is no reliable device for a structural connection. \n",
            " In order to minimize the primary drive torque to close the latch, the diameter of the free rotating \n",
            "pins had to be reduced. Therefore, custom-s ized commercial parts were needed. These were\n",
            "\n",
            "approach. Prior to this failure, we were not concerned about any life-limiting component in the \n",
            "mechanism. The need to develop the process controls and characterize the hardware was real and the \n",
            "cycles were not believed to be stressful to the units. The mechanisms in this lot were first produced as \n",
            "single spring units (Gen l), then rebuilt as dual-spring units (Gen lA), and rebuilt yet again with the \n",
            "stabilizing washer (Gen 1B). If the mechanisms had not been operated and tested so extensively in the \n",
            "previous investigations, they would have easily passed the Delta-qualification test. Again, focused on \n",
            "failure resolution and developing adequate process controls, we overstressed the hardware and \n",
            "introduced another failure mode. \n",
            "A more obvious lesson: always ensure a proper corner radius is specifically called out at corners of \n",
            "thread reliefs - especially on shoulder bolts subject to cyclic loading. \n",
            "The pin failure is an example of a vulnerability in the design which only required repetition (multiple lots) \n",
            "to create the conditions for a failure. Even the most careful design reviews will not eliminate all areas of \n",
            "vulnerability. In commercial manufacturing, process variation and scrap occur even on the best \n",
            "production lines because of recurring opportunity for variations. The same is true in production of \n",
            "aerospace hardware. Small lots of space hardware which pass a single qualification program are not\n",
            "\n",
            "Figure 6. QWKNUT Latch In-Process Test Fixture \n",
            "Discussion and Lessons Learned \n",
            "The vibration anomaly is an example of how insufficient controls on critical features will, in time, cause a \n",
            "failure. The first four production lots were not discrepant, and there was no indication of a shortcoming in \n",
            "the design -- the problem was simply dormant. Design intent must be clearly communicated in \n",
            "engineering drawings. This requires a thorough understanding of which features are critical to \n",
            "performance. If adequate engineering controls are not in place, the discrepancy will eventually emerge \n",
            "with enough repetition (or opportunity). Parts from different lots may both meet the same drawing \n",
            "requirements but perform differently in a mechanism. Proper identification and inspection of critical \n",
            "features is essential, and in-process screening at the assembly level provides redundancy in detection of \n",
            "variation. \n",
            "Failures are sometimes created as a result of two or more prevailing conditions. Care must be taken to \n",
            "ensure root cause and all contributing causes are identified before the investigation process is concluded. \n",
            "Low spring force was initially thought to be the cause because with a certain minimum spring force, even \n",
            "the discrepant lever geometry could not cause a vibration failure. Increasing spring force did resolve \n",
            "vibration release, but did not create consistent latch performance. Proper performance under vibration\n",
            "\n",
            "Figure 6  Comparison of 1\n",
            "st generation structural latch vs. 3rd generation structural latch \n",
            " \n",
            "  \n",
            " Design load: 34 kN (7640 lbf) \n",
            " Single fault tolerant \n",
            " Mechanical drive efficiency: 66%  \n",
            "  Design load: 57 kN (12800 lbf) \n",
            " Dual fault tolerant \n",
            " Mechanical drive efficiency: 80%  \n",
            " Reduced mounting envelope 1st generation structural latch 3rd generation  \n",
            "structural latch \n",
            "NASA/CP-2010-216272\n",
            "----------------\n",
            "\n",
            "Human:What can you tell me about latch mechanism design failures which have occurred?\n",
            "Chatbot:\u001b[0m\n",
            "\n",
            "\u001b[1m> Finished chain.\u001b[0m\n",
            "\n",
            "\u001b[1m> Finished chain.\u001b[0m\n",
            "Based on the provided context, latch mechanism design failures have been observed in aerospace applications. In one case, high-speed video analysis revealed that the lever arm of the latch mechanism moved suddenly and fully in the direction of release during vibration, leading to failure. Physical and dimensional inspection of the parts did not initially reveal any discrepancies. A fault tree analysis was then used to identify potential causes and improve the connection between requirements and failure scenarios. Prototype testing showed that coatings at the volatile spherical joint interface were a primary area of concern, with multiple configurations failing. Various coatings, such as Boron Carbide, bare AM355 to Ti6Al4V with Braycote 600EF, Tiodize, Diamond-like nano-carbon (DLN), and improperly configured coatings of MoS2 and TiCN, were found to have unacceptable particle generation. However, TiCN and MoS2 doped with SbO3 and Au were shown to meet cleanliness requirements once coating parameters were properly controlled.\n"
          ]
        }
      ],
      "source": [
        "# Chain\n",
        "chain = load_qa_chain(llm, chain_type=\"stuff\", prompt=prompt, memory=memory, verbose=True)\n",
        "\n",
        "# Run\n",
        "# TODO: fix this since it assumes it's the first chat for chat_history\n",
        "resp=chain({\"input_documents\": docs, \"human_input\": query}, return_only_outputs=True)\n",
        "print(resp['output_text'])\n"
      ]
    },
    {
      "cell_type": "markdown",
      "metadata": {},
      "source": [
        "# Chat history and follow-up\n",
        "Check out ConversationalRetrievalChain in /Library/Frameworks/Python.framework/Versions/3.11/lib/python3.11/site-packages/langchain/chains/conversational_retrieval/base.py\n",
        "\n",
        "https://python.langchain.com/docs/modules/memory/adding_memory_chain_multiple_inputs "
      ]
    },
    {
      "cell_type": "code",
      "execution_count": 17,
      "metadata": {},
      "outputs": [
        {
          "data": {
            "text/plain": [
              "'\\nThe human asked about latch mechanism design failures which have occurred. The AI responded that latch mechanism design failures have been observed in aerospace applications, and identified several potential causes. High-speed video analysis revealed that the lever arm of the latch mechanism moved suddenly and fully in the direction of release during vibration. Prototype testing showed that coatings at the volatile spherical joint interface were a primary area of concern, with multiple configurations failing. TiCN and MoS2 doped with SbO3 and Au were found to have acceptable particle generation once coating parameters were properly controlled.'"
            ]
          },
          "execution_count": 17,
          "metadata": {},
          "output_type": "execute_result"
        }
      ],
      "source": [
        "chain.memory.buffer"
      ]
    },
    {
      "cell_type": "code",
      "execution_count": null,
      "metadata": {},
      "outputs": [],
      "source": [
        "# TODO: ask a follow on question, get new docs, and use the new prompt with the buffer to generate a response."
      ]
    },
    {
      "cell_type": "markdown",
      "metadata": {},
      "source": [
        "# Claude 2"
      ]
    },
    {
      "cell_type": "code",
      "execution_count": null,
      "metadata": {},
      "outputs": [],
      "source": []
    },
    {
      "cell_type": "markdown",
      "metadata": {},
      "source": [
        "# Stuff to try and things not quite working"
      ]
    },
    {
      "cell_type": "code",
      "execution_count": 11,
      "metadata": {},
      "outputs": [],
      "source": [
        "# Add something with a system description so the chatbot knows some context.\n",
        "# Try using the multi-context question tool as an input to a chain query.\n",
        "# Use cosine scores to find more docs which are relevant.\n",
        "\n",
        "# Try to create an agent to do a more extensive search.\n",
        "#   Follow up from original prompt with a new question\n",
        "#   Search for new docs based on the question\n",
        "#   Plug new docs into another prompt with that question"
      ]
    },
    {
      "cell_type": "code",
      "execution_count": 12,
      "metadata": {},
      "outputs": [],
      "source": [
        "# TODO: #1 Check this out: https://python.langchain.com/docs/modules/data_connection/retrievers/ \n",
        "# TODO: #2 Check out how quivr uses langchain, copy key functionality"
      ]
    },
    {
      "cell_type": "markdown",
      "metadata": {},
      "source": [
        "### Fancy stuff that is kinda sorta working"
      ]
    },
    {
      "cell_type": "code",
      "execution_count": 13,
      "metadata": {},
      "outputs": [],
      "source": [
        "# Generate\n",
        "# https://python.langchain.com/docs/use_cases/question_answering/\n",
        "\n",
        "# Return source docs\n",
        "from langchain.chains import RetrievalQA\n",
        "from langchain.chat_models import ChatOpenAI\n",
        "\n",
        "llm = ChatOpenAI(model_name='gpt-3.5-turbo', temperature=.5)\n",
        "qa_chain = RetrievalQA.from_llm(llm,retriever=vectorstore.as_retriever(),\n",
        "                                       return_source_documents=True)\n",
        "\n",
        "results = qa_chain({'query': query})"
      ]
    },
    {
      "cell_type": "code",
      "execution_count": 14,
      "metadata": {},
      "outputs": [
        {
          "name": "stdout",
          "output_type": "stream",
          "text": [
            "What can you tell me about latch mechanism design failures which have occurred?\n",
            "\n",
            "Based on the provided context, there have been several latch mechanism design failures. These failures have been attributed to various factors such as the movement of lever arms during vibration, inadequate stiffness verification, improper coatings at joint interfaces, and flexibility of secondary drive elements leading to unexpected deflection. These design failures have resulted in concerns about the safety and reliability of the latch mechanisms, as they can lead to inadvertent release of the mechanism and complete mission failure. It is also mentioned that the failure of latch mechanisms can be influenced by factors such as the selection of materials and the need for customized parts.\n",
            "\n",
            "Sources:\n",
            "{'page': 91.0, 'source': '../data/AMS_2006.pdf'}\n",
            "{'page': 145.0, 'source': '../data/AMS_2008.pdf'}\n",
            "{'page': 370.0, 'source': '../data/AMS_2010.pdf'}\n",
            "{'page': 99.0, 'source': '../data/AMS_2006.pdf'}\n"
          ]
        }
      ],
      "source": [
        "print(results['query']+'\\n')\n",
        "print(results['result']+'\\n')\n",
        "\n",
        "print('Sources:')\n",
        "for doc in results['source_documents']:\n",
        "    print(doc.metadata)"
      ]
    }
  ],
  "metadata": {
    "colab": {
      "authorship_tag": "ABX9TyONM96f7/m0jUCD9c87+MQy",
      "include_colab_link": true,
      "provenance": []
    },
    "kernelspec": {
      "display_name": "Python 3",
      "language": "python",
      "name": "python3"
    },
    "language_info": {
      "codemirror_mode": {
        "name": "ipython",
        "version": 3
      },
      "file_extension": ".py",
      "mimetype": "text/x-python",
      "name": "python",
      "nbconvert_exporter": "python",
      "pygments_lexer": "ipython3",
      "version": "3.11.1"
    },
    "vscode": {
      "interpreter": {
        "hash": "aee8b7b246df8f9039afb4144a1f6fd8d2ca17a180786b69acc140d282b71a49"
      }
    }
  },
  "nbformat": 4,
  "nbformat_minor": 0
}
