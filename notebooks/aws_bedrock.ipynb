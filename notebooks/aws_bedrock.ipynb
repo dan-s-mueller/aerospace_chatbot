{
 "cells": [
  {
   "cell_type": "markdown",
   "metadata": {},
   "source": [
    "# Connecting to AWS"
   ]
  },
  {
   "cell_type": "code",
   "execution_count": 43,
   "metadata": {},
   "outputs": [],
   "source": [
    "# Use the ListFoundationModels API to show the models that are available in your region.\n",
    "import boto3"
   ]
  },
  {
   "cell_type": "code",
   "execution_count": 44,
   "metadata": {},
   "outputs": [
    {
     "data": {
      "text/plain": [
       "{'ResponseMetadata': {'RequestId': '4a005f1f-7b37-4f94-92f5-c19a16c1f233',\n",
       "  'HTTPStatusCode': 200,\n",
       "  'HTTPHeaders': {'date': 'Wed, 30 Oct 2024 05:00:21 GMT',\n",
       "   'content-type': 'application/json',\n",
       "   'content-length': '160',\n",
       "   'connection': 'keep-alive',\n",
       "   'x-amzn-requestid': '4a005f1f-7b37-4f94-92f5-c19a16c1f233',\n",
       "   'x-amz-apigw-id': 'AcqH5HtAPHcEWKA=',\n",
       "   'x-amzn-trace-id': 'Root=1-6721bd65-6af7cfab692a80333bc7546f'},\n",
       "  'RetryAttempts': 0},\n",
       " 'knowledgeBaseSummaries': [{'knowledgeBaseId': '1JORBFKUYS',\n",
       "   'name': 'aerospace-chatbot-ams-demo',\n",
       "   'status': 'ACTIVE',\n",
       "   'updatedAt': datetime.datetime(2024, 10, 29, 17, 47, 24, 456721, tzinfo=tzutc())}]}"
      ]
     },
     "execution_count": 44,
     "metadata": {},
     "output_type": "execute_result"
    }
   ],
   "source": [
    "kb_client = boto3.client('bedrock-agent')\n",
    "kb_list_response = kb_client.list_knowledge_bases(\n",
    "    maxResults=100\n",
    ")\n",
    "kb_list_response"
   ]
  },
  {
   "cell_type": "code",
   "execution_count": 45,
   "metadata": {},
   "outputs": [],
   "source": [
    "# https://us-west-2.console.aws.amazon.com/bedrock/home?region=us-west-2#/knowledge-bases \n",
    "knowledgeBaseId = '1JORBFKUYS'\n",
    "\n",
    "# https://us-west-2.console.aws.amazon.com/bedrock/home?region=us-west-2#/models\n",
    "modelArn = 'anthropic.claude-3-5-sonnet-20241022-v2:0'  \n",
    "\n",
    "# Retrieval parameters\n",
    "numberOfResults = 8"
   ]
  },
  {
   "cell_type": "code",
   "execution_count": 46,
   "metadata": {},
   "outputs": [
    {
     "data": {
      "text/plain": [
       "{'knowledgeBaseConfiguration': {'knowledgeBaseId': '1JORBFKUYS',\n",
       "  'modelArn': 'anthropic.claude-3-5-sonnet-20241022-v2:0',\n",
       "  'retrievalConfiguration': {'vectorSearchConfiguration': {'numberOfResults': 8}}},\n",
       " 'type': 'KNOWLEDGE_BASE'}"
      ]
     },
     "execution_count": 46,
     "metadata": {},
     "output_type": "execute_result"
    }
   ],
   "source": [
    "config = {\n",
    "    \"input\": {\n",
    "        \"text\": \"What can you tell me about the spacecraft mechanism testing in the Molsink facility\"\n",
    "    },\n",
    "    \"retrieveAndGenerateConfiguration\": {\n",
    "        \"knowledgeBaseConfiguration\": {\n",
    "            \"knowledgeBaseId\": knowledgeBaseId,\n",
    "            \"modelArn\": modelArn,\n",
    "            'retrievalConfiguration': {\n",
    "                'vectorSearchConfiguration': {\n",
    "                    'numberOfResults': numberOfResults\n",
    "                }\n",
    "            }\n",
    "        },\n",
    "        \"type\": \"KNOWLEDGE_BASE\"\n",
    "    }\n",
    "}\n",
    "\n",
    "config['retrieveAndGenerateConfiguration']"
   ]
  },
  {
   "cell_type": "code",
   "execution_count": 47,
   "metadata": {},
   "outputs": [
    {
     "data": {
      "text/plain": [
       "{'ResponseMetadata': {'RequestId': '93698110-c00d-4619-bcf7-5c39f3ab0211',\n",
       "  'HTTPStatusCode': 200,\n",
       "  'HTTPHeaders': {'date': 'Wed, 30 Oct 2024 05:00:39 GMT',\n",
       "   'content-type': 'application/json',\n",
       "   'content-length': '11375',\n",
       "   'connection': 'keep-alive',\n",
       "   'x-amzn-requestid': '93698110-c00d-4619-bcf7-5c39f3ab0211'},\n",
       "  'RetryAttempts': 0},\n",
       " 'citations': [{'generatedResponsePart': {'textResponsePart': {'span': {'end': 349,\n",
       "      'start': 0},\n",
       "     'text': 'The Molsink facility at the Jet Propulsion Laboratory is a 10-foot diameter triple-walled extreme-high-vacuum chamber designed to test spacecraft mechanisms. It features walls that use both cryogenic and chemical pumping to handle gases produced during testing. The facility can achieve vacuum levels of 10^-8 torr and has inner walls cooled to 14°K.'}},\n",
       "   'retrievedReferences': [{'content': {'text': 'Within the next year, it is planned to complete the experiments above and to perform calibration tests on various lunar atmosphere mass spectrometers and development tests of several Mariner Mars 1971 mechanisms. A Molsink calibration and evaluation program, which was started several months ago but deferred because of the press of flight project tests, is now planned to be completed by July 1969. This program is primarily to make an experimental verification of the Molsink Factor (see Section III) by allowing various gases to leave the center of the chamber under controlled conditions and measuring the amount that returns. ## The Facility The Molsink facility, illustrated in Fig. 1, is a 10-ft-diam, triple-walled, extreme-high-vacuum chamber with walls that cryogenically and chemically pump gases produced by the test item. The cryopumping is accomplished by a spherical molecular trap (Moltrap) wedge fin array (Figs. 2 and 3).'},\n",
       "     'location': {'s3Location': {'uri': 's3://aerospace-chatbot-ams-demo/AMS_1969_reocr_chunk_2.pdf'},\n",
       "      'type': 'S3'},\n",
       "     'metadata': {'x-amz-bedrock-kb-source-uri': 's3://aerospace-chatbot-ams-demo/AMS_1969_reocr_chunk_2.pdf',\n",
       "      'x-amz-bedrock-kb-data-source-id': 'NVGEOHAB2X'}},\n",
       "    {'content': {'text': '# Spacecraft Mechanism Testing in the Molsink Facility ## Introduction This paper describes the 10-ft Space Molecular Sink Simulator Facility (Molsink), now operational at the Jet Propulsion Laboratory, and its uses. The triple-wall construction combines an extreme-high-vacuum capability (10^-8 torr) with an anechoic configuration. The inner wall is cooled to 14°K and coated with evaporated titanium to effect a very high capture coefficient for all gas molecules. Even helium may be captured by this wedge fin molecular trap. To date, three Mariner Mars 1969 mechanisms have been tested, and the first phase of a cooperative JPL, TRW, and U.S. Air Force study of friction phenomena has been completed. Some experiments have been performed for the study of microbial death in the space environment. A program has also been started to define the density profile of rocket plumes at high vacuums. Within the next year, it is planned to complete the experiments above and to perform calibration tests on various lunar atmosphere mass spectrometers and development tests of several Mariner Mars 1971 mechanisms. A Molsink calibration and evaluation program, which was started several months ago but deferred because of the press of flight project tests, is now planned to be completed by July 1969.'},\n",
       "     'location': {'s3Location': {'uri': 's3://aerospace-chatbot-ams-demo/AMS_1969_reocr_chunk_2.pdf'},\n",
       "      'type': 'S3'},\n",
       "     'metadata': {'x-amz-bedrock-kb-source-uri': 's3://aerospace-chatbot-ams-demo/AMS_1969_reocr_chunk_2.pdf',\n",
       "      'x-amz-bedrock-kb-data-source-id': 'NVGEOHAB2X'}}]},\n",
       "  {'generatedResponsePart': {'textResponsePart': {'span': {'end': 687,\n",
       "      'start': 351},\n",
       "     'text': 'A key feature of the Molsink is its ability to simulate the molecular sink effect of space. This is measured by the Molsink Factor, which represents the ratio of molecules leaving a test item compared to those returning to it. The facility is highly efficient - for every 10,000 molecules that leave a test item, only a few return to it.'}},\n",
       "   'retrievedReferences': [{'content': {'text': 'Since the important environmental parameter for surface-effect phenomena is the net molecular flux on the surface, and since the test item is the major source of gas in a well designed facility, the significant measure of facility performance is the Molsink Factor (the ratio of the number of molecules that leave the test item to the number that return). In this chamber, for every 10,000 molecules that leave the test item, only a few will return to it. This value is based upon a hypothetical spherical test item 10 in. in diameter operating at 300°K and emitting gases such as oxygen and nitrogen (see Fig. 4).'},\n",
       "     'location': {'s3Location': {'uri': 's3://aerospace-chatbot-ams-demo/AMS_1969_reocr_chunk_2.pdf'},\n",
       "      'type': 'S3'},\n",
       "     'metadata': {'x-amz-bedrock-kb-source-uri': 's3://aerospace-chatbot-ams-demo/AMS_1969_reocr_chunk_2.pdf',\n",
       "      'x-amz-bedrock-kb-data-source-id': 'NVGEOHAB2X'}},\n",
       "    {'content': {'text': '# The Molecular Trap (Moltrap) The Moltrap is constructed of 0.016-in.-thick aluminum sheets that are spot-welded to aluminum tubes. The tubes are cooled to 14°K by a 1200-W helium refrigerator. The angles of the fins are such that projections of their surface planes are tangent to a 10-in. sphere at the center of the Moltrap, a configuration that provides an order-of-magnitude capture improvement, compared with a smooth spherical wall, when the test item gas load is from within the same 10-in, spherical volume. The chemical pumping is accomplished by an electron-beam titanium sublimator mounted on the inner door of the chamber. Titanium is deposited upon the inside surface of the Moltrap array. ## The Environment The simulation of the molecular sink of space for the testing of spacecraft mechanisms can be confusing because it refers to a passive rather than an active property of space. The fact that space has no walls nor many objects in it creates the condition where molecules that leave a spacecraft do not return (mean free path of molecules is 10° km). Since the important environmental parameter for surface-effect phenomena is the net molecular flux on the surface, and since the test item is the major source of gas in a well designed facility, the significant measure of facility performance is the Molsink Factor (the ratio of the number of molecules that leave the test item to the number that return).'},\n",
       "     'location': {'s3Location': {'uri': 's3://aerospace-chatbot-ams-demo/AMS_1969_reocr_chunk_2.pdf'},\n",
       "      'type': 'S3'},\n",
       "     'metadata': {'x-amz-bedrock-kb-source-uri': 's3://aerospace-chatbot-ams-demo/AMS_1969_reocr_chunk_2.pdf',\n",
       "      'x-amz-bedrock-kb-data-source-id': 'NVGEOHAB2X'}}]},\n",
       "  {'generatedResponsePart': {'textResponsePart': {'span': {'end': 1109,\n",
       "      'start': 689},\n",
       "     'text': 'The facility uses a Molecular Trap (Moltrap) constructed of aluminum sheets welded to aluminum tubes, cooled by a 1200-W helium refrigerator. It also employs an electron-beam titanium sublimator for chemical pumping. The facility has been used to test Mariner Mars 1969 mechanisms, conduct friction phenomena studies, examine microbial death in space environments, and study rocket plume density profiles at high vacuums.'}},\n",
       "   'retrievedReferences': [{'content': {'text': '# The Molecular Trap (Moltrap) The Moltrap is constructed of 0.016-in.-thick aluminum sheets that are spot-welded to aluminum tubes. The tubes are cooled to 14°K by a 1200-W helium refrigerator. The angles of the fins are such that projections of their surface planes are tangent to a 10-in. sphere at the center of the Moltrap, a configuration that provides an order-of-magnitude capture improvement, compared with a smooth spherical wall, when the test item gas load is from within the same 10-in, spherical volume. The chemical pumping is accomplished by an electron-beam titanium sublimator mounted on the inner door of the chamber. Titanium is deposited upon the inside surface of the Moltrap array. ## The Environment The simulation of the molecular sink of space for the testing of spacecraft mechanisms can be confusing because it refers to a passive rather than an active property of space. The fact that space has no walls nor many objects in it creates the condition where molecules that leave a spacecraft do not return (mean free path of molecules is 10° km). Since the important environmental parameter for surface-effect phenomena is the net molecular flux on the surface, and since the test item is the major source of gas in a well designed facility, the significant measure of facility performance is the Molsink Factor (the ratio of the number of molecules that leave the test item to the number that return).'},\n",
       "     'location': {'s3Location': {'uri': 's3://aerospace-chatbot-ams-demo/AMS_1969_reocr_chunk_2.pdf'},\n",
       "      'type': 'S3'},\n",
       "     'metadata': {'x-amz-bedrock-kb-source-uri': 's3://aerospace-chatbot-ams-demo/AMS_1969_reocr_chunk_2.pdf',\n",
       "      'x-amz-bedrock-kb-data-source-id': 'NVGEOHAB2X'}},\n",
       "    {'content': {'text': '# Spacecraft Mechanism Testing in the Molsink Facility ## Introduction This paper describes the 10-ft Space Molecular Sink Simulator Facility (Molsink), now operational at the Jet Propulsion Laboratory, and its uses. The triple-wall construction combines an extreme-high-vacuum capability (10^-8 torr) with an anechoic configuration. The inner wall is cooled to 14°K and coated with evaporated titanium to effect a very high capture coefficient for all gas molecules. Even helium may be captured by this wedge fin molecular trap. To date, three Mariner Mars 1969 mechanisms have been tested, and the first phase of a cooperative JPL, TRW, and U.S. Air Force study of friction phenomena has been completed. Some experiments have been performed for the study of microbial death in the space environment. A program has also been started to define the density profile of rocket plumes at high vacuums. Within the next year, it is planned to complete the experiments above and to perform calibration tests on various lunar atmosphere mass spectrometers and development tests of several Mariner Mars 1971 mechanisms. A Molsink calibration and evaluation program, which was started several months ago but deferred because of the press of flight project tests, is now planned to be completed by July 1969.'},\n",
       "     'location': {'s3Location': {'uri': 's3://aerospace-chatbot-ams-demo/AMS_1969_reocr_chunk_2.pdf'},\n",
       "      'type': 'S3'},\n",
       "     'metadata': {'x-amz-bedrock-kb-source-uri': 's3://aerospace-chatbot-ams-demo/AMS_1969_reocr_chunk_2.pdf',\n",
       "      'x-amz-bedrock-kb-data-source-id': 'NVGEOHAB2X'}}]}],\n",
       " 'guardrailAction': 'NONE',\n",
       " 'output': {'text': 'The Molsink facility at the Jet Propulsion Laboratory is a 10-foot diameter triple-walled extreme-high-vacuum chamber designed to test spacecraft mechanisms. It features walls that use both cryogenic and chemical pumping to handle gases produced during testing. The facility can achieve vacuum levels of 10^-8 torr and has inner walls cooled to 14°K. A key feature of the Molsink is its ability to simulate the molecular sink effect of space. This is measured by the Molsink Factor, which represents the ratio of molecules leaving a test item compared to those returning to it. The facility is highly efficient - for every 10,000 molecules that leave a test item, only a few return to it. The facility uses a Molecular Trap (Moltrap) constructed of aluminum sheets welded to aluminum tubes, cooled by a 1200-W helium refrigerator. It also employs an electron-beam titanium sublimator for chemical pumping. The facility has been used to test Mariner Mars 1969 mechanisms, conduct friction phenomena studies, examine microbial death in space environments, and study rocket plume density profiles at high vacuums.'},\n",
       " 'sessionId': '4bb2f217-0144-4a5d-9e76-1de33085c0a7'}"
      ]
     },
     "execution_count": 47,
     "metadata": {},
     "output_type": "execute_result"
    }
   ],
   "source": [
    "rag_client = boto3.client('bedrock-agent-runtime')\n",
    "rag_response = rag_client.retrieve_and_generate(\n",
    "    input=config['input'], \n",
    "    retrieveAndGenerateConfiguration=config['retrieveAndGenerateConfiguration']\n",
    ")\n",
    "rag_response"
   ]
  },
  {
   "cell_type": "code",
   "execution_count": 49,
   "metadata": {},
   "outputs": [
    {
     "name": "stdout",
     "output_type": "stream",
     "text": [
      "Retrieved References:\n",
      "- {'content': {'text': 'Within the next year, it is planned to complete the experiments above and to perform calibration tests on various lunar atmosphere mass spectrometers and development tests of several Mariner Mars 1971 mechanisms. A Molsink calibration and evaluation program, which was started several months ago but deferred because of the press of flight project tests, is now planned to be completed by July 1969. This program is primarily to make an experimental verification of the Molsink Factor (see Section III) by allowing various gases to leave the center of the chamber under controlled conditions and measuring the amount that returns. ## The Facility The Molsink facility, illustrated in Fig. 1, is a 10-ft-diam, triple-walled, extreme-high-vacuum chamber with walls that cryogenically and chemically pump gases produced by the test item. The cryopumping is accomplished by a spherical molecular trap (Moltrap) wedge fin array (Figs. 2 and 3).'}, 'location': {'s3Location': {'uri': 's3://aerospace-chatbot-ams-demo/AMS_1969_reocr_chunk_2.pdf'}, 'type': 'S3'}, 'metadata': {'x-amz-bedrock-kb-source-uri': 's3://aerospace-chatbot-ams-demo/AMS_1969_reocr_chunk_2.pdf', 'x-amz-bedrock-kb-data-source-id': 'NVGEOHAB2X'}}\n",
      "- {'content': {'text': '# Spacecraft Mechanism Testing in the Molsink Facility ## Introduction This paper describes the 10-ft Space Molecular Sink Simulator Facility (Molsink), now operational at the Jet Propulsion Laboratory, and its uses. The triple-wall construction combines an extreme-high-vacuum capability (10^-8 torr) with an anechoic configuration. The inner wall is cooled to 14°K and coated with evaporated titanium to effect a very high capture coefficient for all gas molecules. Even helium may be captured by this wedge fin molecular trap. To date, three Mariner Mars 1969 mechanisms have been tested, and the first phase of a cooperative JPL, TRW, and U.S. Air Force study of friction phenomena has been completed. Some experiments have been performed for the study of microbial death in the space environment. A program has also been started to define the density profile of rocket plumes at high vacuums. Within the next year, it is planned to complete the experiments above and to perform calibration tests on various lunar atmosphere mass spectrometers and development tests of several Mariner Mars 1971 mechanisms. A Molsink calibration and evaluation program, which was started several months ago but deferred because of the press of flight project tests, is now planned to be completed by July 1969.'}, 'location': {'s3Location': {'uri': 's3://aerospace-chatbot-ams-demo/AMS_1969_reocr_chunk_2.pdf'}, 'type': 'S3'}, 'metadata': {'x-amz-bedrock-kb-source-uri': 's3://aerospace-chatbot-ams-demo/AMS_1969_reocr_chunk_2.pdf', 'x-amz-bedrock-kb-data-source-id': 'NVGEOHAB2X'}}\n",
      "\n",
      "\n",
      "Retrieved References:\n",
      "- {'content': {'text': 'Since the important environmental parameter for surface-effect phenomena is the net molecular flux on the surface, and since the test item is the major source of gas in a well designed facility, the significant measure of facility performance is the Molsink Factor (the ratio of the number of molecules that leave the test item to the number that return). In this chamber, for every 10,000 molecules that leave the test item, only a few will return to it. This value is based upon a hypothetical spherical test item 10 in. in diameter operating at 300°K and emitting gases such as oxygen and nitrogen (see Fig. 4).'}, 'location': {'s3Location': {'uri': 's3://aerospace-chatbot-ams-demo/AMS_1969_reocr_chunk_2.pdf'}, 'type': 'S3'}, 'metadata': {'x-amz-bedrock-kb-source-uri': 's3://aerospace-chatbot-ams-demo/AMS_1969_reocr_chunk_2.pdf', 'x-amz-bedrock-kb-data-source-id': 'NVGEOHAB2X'}}\n",
      "- {'content': {'text': '# The Molecular Trap (Moltrap) The Moltrap is constructed of 0.016-in.-thick aluminum sheets that are spot-welded to aluminum tubes. The tubes are cooled to 14°K by a 1200-W helium refrigerator. The angles of the fins are such that projections of their surface planes are tangent to a 10-in. sphere at the center of the Moltrap, a configuration that provides an order-of-magnitude capture improvement, compared with a smooth spherical wall, when the test item gas load is from within the same 10-in, spherical volume. The chemical pumping is accomplished by an electron-beam titanium sublimator mounted on the inner door of the chamber. Titanium is deposited upon the inside surface of the Moltrap array. ## The Environment The simulation of the molecular sink of space for the testing of spacecraft mechanisms can be confusing because it refers to a passive rather than an active property of space. The fact that space has no walls nor many objects in it creates the condition where molecules that leave a spacecraft do not return (mean free path of molecules is 10° km). Since the important environmental parameter for surface-effect phenomena is the net molecular flux on the surface, and since the test item is the major source of gas in a well designed facility, the significant measure of facility performance is the Molsink Factor (the ratio of the number of molecules that leave the test item to the number that return).'}, 'location': {'s3Location': {'uri': 's3://aerospace-chatbot-ams-demo/AMS_1969_reocr_chunk_2.pdf'}, 'type': 'S3'}, 'metadata': {'x-amz-bedrock-kb-source-uri': 's3://aerospace-chatbot-ams-demo/AMS_1969_reocr_chunk_2.pdf', 'x-amz-bedrock-kb-data-source-id': 'NVGEOHAB2X'}}\n",
      "\n",
      "\n",
      "Retrieved References:\n",
      "- {'content': {'text': '# The Molecular Trap (Moltrap) The Moltrap is constructed of 0.016-in.-thick aluminum sheets that are spot-welded to aluminum tubes. The tubes are cooled to 14°K by a 1200-W helium refrigerator. The angles of the fins are such that projections of their surface planes are tangent to a 10-in. sphere at the center of the Moltrap, a configuration that provides an order-of-magnitude capture improvement, compared with a smooth spherical wall, when the test item gas load is from within the same 10-in, spherical volume. The chemical pumping is accomplished by an electron-beam titanium sublimator mounted on the inner door of the chamber. Titanium is deposited upon the inside surface of the Moltrap array. ## The Environment The simulation of the molecular sink of space for the testing of spacecraft mechanisms can be confusing because it refers to a passive rather than an active property of space. The fact that space has no walls nor many objects in it creates the condition where molecules that leave a spacecraft do not return (mean free path of molecules is 10° km). Since the important environmental parameter for surface-effect phenomena is the net molecular flux on the surface, and since the test item is the major source of gas in a well designed facility, the significant measure of facility performance is the Molsink Factor (the ratio of the number of molecules that leave the test item to the number that return).'}, 'location': {'s3Location': {'uri': 's3://aerospace-chatbot-ams-demo/AMS_1969_reocr_chunk_2.pdf'}, 'type': 'S3'}, 'metadata': {'x-amz-bedrock-kb-source-uri': 's3://aerospace-chatbot-ams-demo/AMS_1969_reocr_chunk_2.pdf', 'x-amz-bedrock-kb-data-source-id': 'NVGEOHAB2X'}}\n",
      "- {'content': {'text': '# Spacecraft Mechanism Testing in the Molsink Facility ## Introduction This paper describes the 10-ft Space Molecular Sink Simulator Facility (Molsink), now operational at the Jet Propulsion Laboratory, and its uses. The triple-wall construction combines an extreme-high-vacuum capability (10^-8 torr) with an anechoic configuration. The inner wall is cooled to 14°K and coated with evaporated titanium to effect a very high capture coefficient for all gas molecules. Even helium may be captured by this wedge fin molecular trap. To date, three Mariner Mars 1969 mechanisms have been tested, and the first phase of a cooperative JPL, TRW, and U.S. Air Force study of friction phenomena has been completed. Some experiments have been performed for the study of microbial death in the space environment. A program has also been started to define the density profile of rocket plumes at high vacuums. Within the next year, it is planned to complete the experiments above and to perform calibration tests on various lunar atmosphere mass spectrometers and development tests of several Mariner Mars 1971 mechanisms. A Molsink calibration and evaluation program, which was started several months ago but deferred because of the press of flight project tests, is now planned to be completed by July 1969.'}, 'location': {'s3Location': {'uri': 's3://aerospace-chatbot-ams-demo/AMS_1969_reocr_chunk_2.pdf'}, 'type': 'S3'}, 'metadata': {'x-amz-bedrock-kb-source-uri': 's3://aerospace-chatbot-ams-demo/AMS_1969_reocr_chunk_2.pdf', 'x-amz-bedrock-kb-data-source-id': 'NVGEOHAB2X'}}\n",
      "\n",
      "\n"
     ]
    },
    {
     "data": {
      "text/plain": [
       "6"
      ]
     },
     "execution_count": 49,
     "metadata": {},
     "output_type": "execute_result"
    }
   ],
   "source": [
    "rag_response['citations'][0]\n",
    "\n",
    "# Print all retrievedReferences from each citation\n",
    "i=0\n",
    "for citation in rag_response['citations']:\n",
    "    print(\"Retrieved References:\")\n",
    "    for ref in citation['retrievedReferences']:\n",
    "        print(f\"- {ref}\")\n",
    "        i+=1\n",
    "    print(\"\\n\")\n",
    "i"
   ]
  },
  {
   "cell_type": "code",
   "execution_count": 51,
   "metadata": {},
   "outputs": [
    {
     "name": "stdout",
     "output_type": "stream",
     "text": [
      "{'text': 'The Molsink facility at the Jet Propulsion Laboratory is a 10-foot diameter triple-walled extreme-high-vacuum chamber designed to test spacecraft mechanisms. It features walls that use both cryogenic and chemical pumping to handle gases produced during testing. The facility can achieve vacuum levels of 10^-8 torr and has inner walls cooled to 14°K. A key feature of the Molsink is its ability to simulate the molecular sink effect of space. This is measured by the Molsink Factor, which represents the ratio of molecules leaving a test item compared to those returning to it. The facility is highly efficient - for every 10,000 molecules that leave a test item, only a few return to it. The facility uses a Molecular Trap (Moltrap) constructed of aluminum sheets welded to aluminum tubes, cooled by a 1200-W helium refrigerator. It also employs an electron-beam titanium sublimator for chemical pumping. The facility has been used to test Mariner Mars 1969 mechanisms, conduct friction phenomena studies, examine microbial death in space environments, and study rocket plume density profiles at high vacuums.'}\n"
     ]
    }
   ],
   "source": [
    "print(rag_response['output'])"
   ]
  },
  {
   "cell_type": "markdown",
   "metadata": {},
   "source": [
    "# Pinecone database management"
   ]
  },
  {
   "cell_type": "code",
   "execution_count": 14,
   "metadata": {},
   "outputs": [
    {
     "name": "stdout",
     "output_type": "stream",
     "text": [
      "Error deleting index (probably empty already): (404)\n",
      "Reason: Not Found\n",
      "HTTP response headers: HTTPHeaderDict({'Date': 'Wed, 30 Oct 2024 02:48:38 GMT', 'Content-Type': 'application/json', 'Content-Length': '55', 'Connection': 'keep-alive', 'x-pinecone-request-latency-ms': '88', 'x-pinecone-request-id': '3920809686156093469', 'x-envoy-upstream-service-time': '89', 'server': 'envoy'})\n",
      "HTTP response body: {\"code\":5,\"message\":\"Namespace not found\",\"details\":[]}\n",
      "\n"
     ]
    }
   ],
   "source": [
    "import os\n",
    "from dotenv import load_dotenv\n",
    "import pinecone\n",
    "\n",
    "# Load environment variables from .env file\n",
    "load_dotenv()\n",
    "\n",
    "# Initialize Pinecone client\n",
    "pc = pinecone.Pinecone(api_key=os.getenv('PINECONE_API_KEY'))\n",
    "\n",
    "index_name='aws-bedrock-ams-demo'\n",
    "\n",
    "# Delete all vectors from each index but keep the index itself\n",
    "index = pc.Index(index_name)\n",
    "# Delete all vectors but preserve the index structure\n",
    "try:\n",
    "    index.delete(delete_all=True)\n",
    "except Exception as e:\n",
    "    print(f\"Error deleting index (probably empty already): {e}\")"
   ]
  },
  {
   "cell_type": "code",
   "execution_count": null,
   "metadata": {},
   "outputs": [],
   "source": []
  },
  {
   "cell_type": "markdown",
   "metadata": {},
   "source": [
    "# Process PDFs"
   ]
  },
  {
   "cell_type": "code",
   "execution_count": 17,
   "metadata": {},
   "outputs": [],
   "source": [
    "import os\n",
    "from PyPDF2 import PdfReader, PdfWriter\n",
    "\n",
    "def split_pdf(input_path, pages_per_chunk=25):\n",
    "    \"\"\"Split a PDF into chunks of specified number of pages\"\"\"\n",
    "    reader = PdfReader(input_path)\n",
    "    total_pages = len(reader.pages)\n",
    "    \n",
    "    # Get base filename without extension\n",
    "    base_name = os.path.splitext(os.path.basename(input_path))[0]\n",
    "    \n",
    "    for chunk_start in range(0, total_pages, pages_per_chunk):\n",
    "        writer = PdfWriter()\n",
    "        chunk_end = min(chunk_start + pages_per_chunk, total_pages)\n",
    "        \n",
    "        # Add pages for this chunk\n",
    "        for page_num in range(chunk_start, chunk_end):\n",
    "            writer.add_page(reader.pages[page_num])\n",
    "            \n",
    "        # Save chunk to new PDF\n",
    "        output_path = f\"{base_name}_chunk_{chunk_start//pages_per_chunk + 1}.pdf\"\n",
    "        with open(output_path, \"wb\") as output_file:\n",
    "            writer.write(output_file)\n",
    "\n",
    "split_pdf('./AMS_1969_reocr.pdf')"
   ]
  },
  {
   "cell_type": "code",
   "execution_count": null,
   "metadata": {},
   "outputs": [],
   "source": []
  }
 ],
 "metadata": {
  "kernelspec": {
   "display_name": "Python 3",
   "language": "python",
   "name": "python3"
  },
  "language_info": {
   "codemirror_mode": {
    "name": "ipython",
    "version": 3
   },
   "file_extension": ".py",
   "mimetype": "text/x-python",
   "name": "python",
   "nbconvert_exporter": "python",
   "pygments_lexer": "ipython3",
   "version": "3.11.1"
  },
  "orig_nbformat": 4
 },
 "nbformat": 4,
 "nbformat_minor": 2
}
