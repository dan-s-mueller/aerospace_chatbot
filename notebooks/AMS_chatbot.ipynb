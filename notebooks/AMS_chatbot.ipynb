{
  "cells": [
    {
      "cell_type": "markdown",
      "metadata": {
        "colab_type": "text",
        "id": "view-in-github"
      },
      "source": [
        "<a href='https://colab.research.google.com/github/rabbitmetrics/langchain-13-min/blob/main/notebooks/langchain-13-min.ipynb' target='_parent'><img src='https://colab.research.google.com/assets/colab-badge.svg' alt='Open In Colab'/></a>"
      ]
    },
    {
      "cell_type": "markdown",
      "metadata": {},
      "source": [
        "### Read in pinecone vector database"
      ]
    },
    {
      "cell_type": "code",
      "execution_count": 1,
      "metadata": {
        "id": "50dvxjqCFmhF"
      },
      "outputs": [
        {
          "data": {
            "text/plain": [
              "True"
            ]
          },
          "execution_count": 1,
          "metadata": {},
          "output_type": "execute_result"
        }
      ],
      "source": [
        "# Load environment variables\n",
        "import os\n",
        "from dotenv import load_dotenv,find_dotenv\n",
        "load_dotenv(find_dotenv())\n"
      ]
    },
    {
      "cell_type": "code",
      "execution_count": null,
      "metadata": {},
      "outputs": [],
      "source": [
        "# print(os.getenv('OPENAI_API_KEY'))\n",
        "# print(os.getenv('PINECONE_ENVIRONMENT'))\n",
        "# print(os.getenv('PINECONE_API_KEY'))"
      ]
    },
    {
      "cell_type": "code",
      "execution_count": 3,
      "metadata": {},
      "outputs": [
        {
          "name": "stderr",
          "output_type": "stream",
          "text": [
            "c:\\Python311\\Lib\\site-packages\\pinecone\\index.py:4: TqdmWarning: IProgress not found. Please update jupyter and ipywidgets. See https://ipywidgets.readthedocs.io/en/stable/user_install.html\n",
            "  from tqdm.autonotebook import tqdm\n"
          ]
        }
      ],
      "source": [
        "# Read existing vector index from pinecone\n",
        "import pinecone\n",
        "from langchain.vectorstores import Pinecone\n",
        "from langchain.embeddings import OpenAIEmbeddings\n",
        "\n",
        "embeddings_model = OpenAIEmbeddings(model='text-embedding-ada-002')\n",
        "index_name = 'langchain-quickstart'\n",
        "vectorstore = Pinecone.from_existing_index(index_name,embeddings_model)"
      ]
    },
    {
      "cell_type": "markdown",
      "metadata": {},
      "source": [
        "### Query vector database"
      ]
    },
    {
      "cell_type": "code",
      "execution_count": 4,
      "metadata": {},
      "outputs": [],
      "source": [
        "# query = 'What types of lubricants are to be avoided for mechanisms design?'\n",
        "# query = 'What are examples of harmonic drive gearboxes for aerospace applications?'\n",
        "# query = 'What types of deployable decelerators are there'\n",
        "# query = 'What can you tell me about the Orion Side Hatch Design? Please explain any failures and lessons learned in detail'\n",
        "query = 'What can you tell me about latch mechanism design? Please explain any failures and lessons learned in detail with specific examples.'\n",
        "# query = 'What can you tell me about ball-lock mechanism failures? Refer to specific examples.'\n",
        "\n",
        "docs = vectorstore.similarity_search(query,k=4)\n",
        "# docs_score = vectorstore.similarity_search_with_relevance_scores(query,k=4)"
      ]
    },
    {
      "cell_type": "code",
      "execution_count": 5,
      "metadata": {},
      "outputs": [
        {
          "name": "stdout",
          "output_type": "stream",
          "text": [
            "testing milestones, t he initial analysis of the hatch design was limited to standard FEM/stress modeling and \n",
            "rigid-body kinematic studies of the latch trains which all showed positive results with significant margins. \n",
            "There was a plan to do a mor e in-depth flex -body analysis to examine the complete interactions of the \n",
            "structure and latch trains, h owever this couldn’t be completed  in time. The CDR was held successfully (with \n",
            "many independ\n"
          ]
        }
      ],
      "source": [
        "# Here's an example of the first document that was returned\n",
        "print(docs[0].page_content[:450])"
      ]
    },
    {
      "cell_type": "markdown",
      "metadata": {},
      "source": [
        "### Query those docs to get an answer back"
      ]
    },
    {
      "cell_type": "code",
      "execution_count": 6,
      "metadata": {},
      "outputs": [],
      "source": [
        "from langchain.llms import OpenAI\n",
        "from langchain.chains.question_answering import load_qa_chain"
      ]
    },
    {
      "cell_type": "code",
      "execution_count": 7,
      "metadata": {},
      "outputs": [],
      "source": [
        "llm = OpenAI(temperature=1)\n",
        "chain = load_qa_chain(llm, chain_type=\"stuff\", verbose=True)"
      ]
    },
    {
      "cell_type": "code",
      "execution_count": 8,
      "metadata": {},
      "outputs": [
        {
          "data": {
            "text/plain": [
              "\" In designing the latch mechanisms, the initial analysis was limited to standard FEM/stress modeling and rigid-body kinematic studies. There was a plan for a  more in-depth flex -body analysis, however this wasn't completed in time and the team proceeded into development testing. During development testing, numerous structural and life tests were conducted on the latch mechanisms. One lesson learned was that spring force hysteresis needs to be taken into consideration for complex mechanical systems, as spring force can drop by 10%-20% due to interactions with other parts of the system. A specific example of a latch mechanism failure investigation was that of a static load test of a single latch. After the failure, a fishbone diagram was constructed which highlighted more than 50 possible root cause contributors and further analysis was conducted. The originally planned flex -body analysis was given new urgency, and new software models and tools were used to analyze the cause of the failure.\""
            ]
          },
          "execution_count": 8,
          "metadata": {},
          "output_type": "execute_result"
        }
      ],
      "source": [
        "chain.run(input_documents=docs, question=query)"
      ]
    },
    {
      "cell_type": "code",
      "execution_count": 9,
      "metadata": {},
      "outputs": [],
      "source": [
        "# Add something with a system description so the chatbot knows some context.\n",
        "# Try using the multi-context question tool as an input to a chain query.\n",
        "# Use cosine scores to find more docs which are relevant.\n",
        "# Try to create an agent to do a more extensive search."
      ]
    },
    {
      "cell_type": "markdown",
      "metadata": {},
      "source": [
        "### Stuff to try"
      ]
    },
    {
      "cell_type": "code",
      "execution_count": null,
      "metadata": {},
      "outputs": [],
      "source": [
        "# TODO: Check this out: https://python.langchain.com/docs/modules/data_connection/retrievers/ "
      ]
    },
    {
      "cell_type": "markdown",
      "metadata": {},
      "source": [
        "### Fancy stuff that is kinda sorta working"
      ]
    },
    {
      "cell_type": "code",
      "execution_count": 10,
      "metadata": {},
      "outputs": [],
      "source": [
        "# Retrieval\n",
        "# https://python.langchain.com/docs/use_cases/question_answering/\n",
        "\n",
        "# simple\n",
        "# docs = vectorstore.similarity_search(query)\n",
        "# len(docs)\n",
        "\n",
        "# deeper, using multiple question formulations to get relevant data\n",
        "# This cool but does not work that well with how it's integrated...\n",
        "# import logging\n",
        "# from langchain.chat_models import ChatOpenAI\n",
        "# from langchain.retrievers.multi_query import MultiQueryRetriever\n",
        "\n",
        "\n",
        "# logging.basicConfig()\n",
        "# logging.getLogger('langchain.retrievers.multi_query').setLevel(logging.INFO)\n",
        "\n",
        "# llm = ChatOpenAI(model_name='gpt-3.5-turbo', temperature=0)\n",
        "# retriever_from_llm = MultiQueryRetriever.from_llm(llm=llm,retriever=vectorstore.as_retriever(),parser_key='lines')\n",
        "\n",
        "\n",
        "# # print(retriever_from_llm.dict())\n",
        "# unique_docs = retriever_from_llm.get_relevant_documents(query=query)\n",
        "# len(unique_docs)"
      ]
    },
    {
      "cell_type": "code",
      "execution_count": 11,
      "metadata": {},
      "outputs": [],
      "source": [
        "# Generate\n",
        "# https://python.langchain.com/docs/use_cases/question_answering/\n",
        "\n",
        "# Return source docs\n",
        "from langchain.chains import RetrievalQA\n",
        "from langchain.chat_models import ChatOpenAI\n",
        "\n",
        "llm = ChatOpenAI(model_name='gpt-3.5-turbo', temperature=.5)\n",
        "qa_chain = RetrievalQA.from_llm(llm,retriever=vectorstore.as_retriever(),\n",
        "                                       return_source_documents=True)\n",
        "\n",
        "results = qa_chain({'query': query})"
      ]
    },
    {
      "cell_type": "code",
      "execution_count": 12,
      "metadata": {},
      "outputs": [
        {
          "name": "stdout",
          "output_type": "stream",
          "text": [
            "What can you tell me about latch mechanism design? Please explain any failures and lessons learned in detail with specific examples.\n",
            "\n",
            "The latch mechanism design for the Orion Side Hatch underwent testing and development, with several lessons learned and failures encountered. \n",
            "\n",
            "One lesson learned was the importance of considering spring hysteresis in the design. Spring hysteresis refers to the loss of spring force after cycling. The development testing confirmed that the spring force dropped by 10% - 20% after cycling. This hysteresis loss was compensated for in Moog's new latch system, which accounted for all environmental conditions and provided repeatable performance. The lesson here is that initial design development should include the consideration of spring force hysteresis losses.\n",
            "\n",
            "Another lesson learned was the need for accurate modeling and analysis of complex latch mechanisms with many parts. The initial analysis of the latch design was limited to standard FEM/stress modeling and rigid-body kinematic studies, which showed positive results. However, it was found that accurate modeling of complex mechanisms, especially with flex-body effects, may not always be possible or feasible. This lesson emphasizes the importance of testing early and using analysis results cautiously.\n",
            "\n",
            "One specific failure encountered in the latch mechanism design was related to pressure deflections. The Apollo-like latch trains used in the design were found to be more sensitive to pressure deflections from the new flat Orion hatch structure. This failure mode could have been identified with additional independent analysis in the early design stages. The lesson here is to thoroughly understand the effects of requirements when using pre-existing designs and to conduct additional analysis to identify potential failure modes.\n",
            "\n",
            "In the development testing phase, a failure occurred in the latch mechanism. The investigation into the failure involved creating a fishbone failure diagram and considering more than 50 possible root cause contributors. The latch strain gauges showed non-linearity near the point of failure, which was unexpected. The leading root cause theories were that the latches were not behaving as over-center mechanisms and that the engaged LRA (Locking and Retention Assembly) should have acted as a backup structural path to prevent latches from backdriving. Further analysis and testing with improved instrumentation were deemed necessary to determine the exact cause of the failure.\n",
            "\n",
            "Overall, the latch mechanism design for the Orion Side Hatch involved various challenges and failures. The lessons learned include considering spring hysteresis in the design, conducting accurate modeling and analysis of complex mechanisms, understanding the effects of requirements when using pre-existing designs, and ensuring sufficient instrumentation is used to identify and characterize failure modes during testing.\n",
            "\n",
            "Sources:\n",
            "{'page': 485.0, 'source': '../data\\\\AMS_2020.pdf'}\n",
            "{'page': 314.0, 'source': '../data\\\\AMS_2016.pdf'}\n",
            "{'page': 492.0, 'source': '../data\\\\AMS_2020.pdf'}\n",
            "{'page': 488.0, 'source': '../data\\\\AMS_2020.pdf'}\n"
          ]
        }
      ],
      "source": [
        "print(results['query']+'\\n')\n",
        "print(results['result']+'\\n')\n",
        "\n",
        "print('Sources:')\n",
        "for doc in results['source_documents']:\n",
        "    print(doc.metadata)"
      ]
    },
    {
      "cell_type": "code",
      "execution_count": 13,
      "metadata": {},
      "outputs": [
        {
          "data": {
            "text/plain": [
              "{'question': 'What can you tell me about latch mechanism design? Please explain any failures and lessons learned in detail with specific examples.',\n",
              " 'answer': 'There is no specific information provided about latch mechanism failures or lessons learned in the given text.',\n",
              " 'sources': ''}"
            ]
          },
          "execution_count": 13,
          "metadata": {},
          "output_type": "execute_result"
        }
      ],
      "source": [
        "# Lots of different ways to do this under https://python.langchain.com/docs/use_cases/question_answering/\n",
        "from langchain.chains import RetrievalQAWithSourcesChain\n",
        "\n",
        "qa_chain = RetrievalQAWithSourcesChain.from_llm(llm,retriever=vectorstore.as_retriever())\n",
        "\n",
        "result = qa_chain({\"question\": query})\n",
        "result"
      ]
    }
  ],
  "metadata": {
    "colab": {
      "authorship_tag": "ABX9TyONM96f7/m0jUCD9c87+MQy",
      "include_colab_link": true,
      "provenance": []
    },
    "kernelspec": {
      "display_name": "Python 3",
      "language": "python",
      "name": "python3"
    },
    "language_info": {
      "codemirror_mode": {
        "name": "ipython",
        "version": 3
      },
      "file_extension": ".py",
      "mimetype": "text/x-python",
      "name": "python",
      "nbconvert_exporter": "python",
      "pygments_lexer": "ipython3",
      "version": "3.11.4"
    },
    "vscode": {
      "interpreter": {
        "hash": "aee8b7b246df8f9039afb4144a1f6fd8d2ca17a180786b69acc140d282b71a49"
      }
    }
  },
  "nbformat": 4,
  "nbformat_minor": 0
}
