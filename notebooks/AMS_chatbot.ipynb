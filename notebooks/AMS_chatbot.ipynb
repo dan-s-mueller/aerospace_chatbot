{
  "cells": [
    {
      "cell_type": "markdown",
      "metadata": {
        "colab_type": "text",
        "id": "view-in-github"
      },
      "source": [
        "<a href='https://colab.research.google.com/github/rabbitmetrics/langchain-13-min/blob/main/notebooks/langchain-13-min.ipynb' target='_parent'><img src='https://colab.research.google.com/assets/colab-badge.svg' alt='Open In Colab'/></a>"
      ]
    },
    {
      "cell_type": "markdown",
      "metadata": {},
      "source": [
        "### Read in pinecone vector database"
      ]
    },
    {
      "cell_type": "code",
      "execution_count": 1,
      "metadata": {
        "id": "50dvxjqCFmhF"
      },
      "outputs": [
        {
          "data": {
            "text/plain": [
              "True"
            ]
          },
          "execution_count": 1,
          "metadata": {},
          "output_type": "execute_result"
        }
      ],
      "source": [
        "# Load environment variables\n",
        "import os\n",
        "from dotenv import load_dotenv,find_dotenv\n",
        "load_dotenv(find_dotenv())\n"
      ]
    },
    {
      "cell_type": "code",
      "execution_count": 2,
      "metadata": {},
      "outputs": [],
      "source": [
        "# print(os.getenv('OPENAI_API_KEY'))\n",
        "# print(os.getenv('PINECONE_ENVIRONMENT'))\n",
        "# print(os.getenv('PINECONE_API_KEY'))"
      ]
    },
    {
      "cell_type": "code",
      "execution_count": 3,
      "metadata": {},
      "outputs": [
        {
          "name": "stderr",
          "output_type": "stream",
          "text": [
            "c:\\Python311\\Lib\\site-packages\\pinecone\\index.py:4: TqdmWarning: IProgress not found. Please update jupyter and ipywidgets. See https://ipywidgets.readthedocs.io/en/stable/user_install.html\n",
            "  from tqdm.autonotebook import tqdm\n"
          ]
        }
      ],
      "source": [
        "# Read existing vector index from pinecone\n",
        "import pinecone\n",
        "from langchain.vectorstores import Pinecone\n",
        "from langchain.embeddings import OpenAIEmbeddings\n",
        "\n",
        "embeddings_model = OpenAIEmbeddings(model='text-embedding-ada-002')\n",
        "index_name = 'langchain-quickstart'\n",
        "vectorstore = Pinecone.from_existing_index(index_name,embeddings_model)"
      ]
    },
    {
      "cell_type": "markdown",
      "metadata": {},
      "source": [
        "### Query vector database"
      ]
    },
    {
      "cell_type": "code",
      "execution_count": 24,
      "metadata": {},
      "outputs": [],
      "source": [
        "# query = 'What types of lubricants are to be avoided for mechanisms design?'\n",
        "# query = 'What are examples of harmonic drive gearboxes for aerospace applications?'\n",
        "# query = 'What types of deployable decelerators are there'\n",
        "# query = 'What can you tell me about the Orion Side Hatch Design? Please explain any failures and lessons learned in detail'\n",
        "query = 'What can you tell me about latch mechanism design failures which have occurred?'\n",
        "# query = 'What can you tell me about ball-lock mechanism failures? Refer to specific examples.'\n",
        "\n",
        "docs = vectorstore.similarity_search(query,k=6)\n",
        "# docs_score = vectorstore.similarity_search_with_relevance_scores(query,k=4)"
      ]
    },
    {
      "cell_type": "code",
      "execution_count": 25,
      "metadata": {},
      "outputs": [
        {
          "name": "stdout",
          "output_type": "stream",
          "text": [
            "tree pointed to the latch release portion of the mechanism. High-speed video of the failure event showed \n",
            "the lever arm moving slightly during vibration with respect to the toggles, and then moving suddenly, and \n",
            "fully, in the direction of release. A cause for this behavior could not be found initially. Physical and \n",
            "dimensional inspection of the parts did not reveal any clear discrepancies. The engineering analysis \n",
            "77\n"
          ]
        }
      ],
      "source": [
        "# Here's an example of the first document that was returned\n",
        "print(docs[0].page_content[:450])"
      ]
    },
    {
      "cell_type": "markdown",
      "metadata": {},
      "source": [
        "### Query those docs to get an answer back"
      ]
    },
    {
      "cell_type": "code",
      "execution_count": 26,
      "metadata": {},
      "outputs": [],
      "source": [
        "from langchain.llms import OpenAI\n",
        "from langchain.chains.question_answering import load_qa_chain\n",
        "from langchain import PromptTemplate"
      ]
    },
    {
      "cell_type": "code",
      "execution_count": null,
      "metadata": {},
      "outputs": [],
      "source": [
        "llm = OpenAI(temperature=.5)\n",
        "# chain = load_qa_chain(llm, chain_type=\"stuff\", verbose=True)\n",
        "# chain.run(input_documents=docs, question=query)"
      ]
    },
    {
      "cell_type": "code",
      "execution_count": 30,
      "metadata": {},
      "outputs": [
        {
          "name": "stdout",
          "output_type": "stream",
          "text": [
            "\n",
            "\n",
            "\u001b[1m> Entering new StuffDocumentsChain chain...\u001b[0m\n",
            "\n",
            "\n",
            "\u001b[1m> Entering new LLMChain chain...\u001b[0m\n",
            "Prompt after formatting:\n",
            "\u001b[32;1m\u001b[1;3mYou are an AI trained to be an expert in space mechanism design, analysis, test, and failure investigation.\n",
            "Use the following pieces of context to answer the question at the end. \n",
            "If you don't know the answer, just say that you don't know, don't try to make up an answer. \n",
            "Provide a summarized answer, followed up with examples in bullet points.\n",
            "tree pointed to the latch release portion of the mechanism. High-speed video of the failure event showed \n",
            "the lever arm moving slightly during vibration with respect to the toggles, and then moving suddenly, and \n",
            "fully, in the direction of release. A cause for this behavior could not be found initially. Physical and \n",
            "dimensional inspection of the parts did not reveal any clear discrepancies. The engineering analysis \n",
            "77\n",
            "\n",
            "Launch Lock Mechanism Design Fault Tree Use and Coatings Study \n",
            " \n",
            "Daniel Villa* and Gustavo Toledo* \n",
            " \n",
            " \n",
            "Abstract \n",
            "Characteristics of a desi gn process of a launch lock (LL) mechanism are described. This process began \n",
            "with generation of data that proved a previous design would not perform its function reliably. The re-\n",
            "design was then accomplished through the use of fault tree analysis, which helped make a better connection between requirements and actual failure scenarios. FEA modeling techniques for proper \n",
            "stiffness verification through testing are explored. Prot o-type testing revealed that coatings at a volatile \n",
            "spherical joint interface became the primary area of concern as multiple configurations failed. Boron \n",
            "Carbide, bare AM355 to Ti6Al4V with Braycote 600EF, Tiodize, Diamond-like nano-carbon (DLN), and \n",
            "improperly configured coatings of MoS\n",
            "2 and TiCN were all shown to have unacceptable particle \n",
            "generation. TiCN and MoS 2 doped with SbO 3 and Au were shown to meet cleanliness requirements once \n",
            "coating parameters were properly controlled.   \n",
            " \n",
            "Introduction \n",
            "Launch lock (LL) mechanisms are critical to mission success because they release payloads or unlock \n",
            "other deployable mechanisms such as gimbals or solar panels. Failure of these mechanisms often \n",
            "causes complete mission failure. Release and retention mechanisms in just the category of pyro-pin \n",
            "pullers have had 84 failures over 23 y ears of space mission applications. Investigation has revealed that\n",
            "\n",
            "Custom-455) and the selection of a cust omized bushing, only minimal positive structural margins of safety \n",
            "could be accomplished.     Shortcomings of the first generation latching system\n",
            " \n",
            "During the functional testing of the mechanism several anomalies were observed. These are the major findings:  \n",
            " In the nominal situation (i.e., as required), t he kinematics of the latch are designed to follow a \n",
            "vertical trajectory in the final phase of latching (i.e., the roller of the latch approaching the hook of \n",
            "the latch tab, see Figure 3), limiting any transverse loads on the latch mechanism. However, during functional testing, the trajectory showed a motion of the roller towards the edge of the latch \n",
            "tab hook. This happened due to flexibility of the secondary drive elements of the latch that created a bigger than expected deflection of the latch linkages involved.  Test conclusion: the design concept of the la tching system appeared not to be safe against \n",
            "inadvertent release of the mechanism (i.e., the la tch roller snapping of the latch tab). Therefore, \n",
            "this latching system is no reliable device for a structural connection. \n",
            " In order to minimize the primary drive torque to close the latch, the diameter of the free rotating \n",
            "pins had to be reduced. Therefore, custom-s ized commercial parts were needed. These were\n",
            "\n",
            "approach. Prior to this failure, we were not concerned about any life-limiting component in the \n",
            "mechanism. The need to develop the process controls and characterize the hardware was real and the \n",
            "cycles were not believed to be stressful to the units. The mechanisms in this lot were first produced as \n",
            "single spring units (Gen l), then rebuilt as dual-spring units (Gen lA), and rebuilt yet again with the \n",
            "stabilizing washer (Gen 1B). If the mechanisms had not been operated and tested so extensively in the \n",
            "previous investigations, they would have easily passed the Delta-qualification test. Again, focused on \n",
            "failure resolution and developing adequate process controls, we overstressed the hardware and \n",
            "introduced another failure mode. \n",
            "A more obvious lesson: always ensure a proper corner radius is specifically called out at corners of \n",
            "thread reliefs - especially on shoulder bolts subject to cyclic loading. \n",
            "The pin failure is an example of a vulnerability in the design which only required repetition (multiple lots) \n",
            "to create the conditions for a failure. Even the most careful design reviews will not eliminate all areas of \n",
            "vulnerability. In commercial manufacturing, process variation and scrap occur even on the best \n",
            "production lines because of recurring opportunity for variations. The same is true in production of \n",
            "aerospace hardware. Small lots of space hardware which pass a single qualification program are not\n",
            "\n",
            "Figure 6. QWKNUT Latch In-Process Test Fixture \n",
            "Discussion and Lessons Learned \n",
            "The vibration anomaly is an example of how insufficient controls on critical features will, in time, cause a \n",
            "failure. The first four production lots were not discrepant, and there was no indication of a shortcoming in \n",
            "the design -- the problem was simply dormant. Design intent must be clearly communicated in \n",
            "engineering drawings. This requires a thorough understanding of which features are critical to \n",
            "performance. If adequate engineering controls are not in place, the discrepancy will eventually emerge \n",
            "with enough repetition (or opportunity). Parts from different lots may both meet the same drawing \n",
            "requirements but perform differently in a mechanism. Proper identification and inspection of critical \n",
            "features is essential, and in-process screening at the assembly level provides redundancy in detection of \n",
            "variation. \n",
            "Failures are sometimes created as a result of two or more prevailing conditions. Care must be taken to \n",
            "ensure root cause and all contributing causes are identified before the investigation process is concluded. \n",
            "Low spring force was initially thought to be the cause because with a certain minimum spring force, even \n",
            "the discrepant lever geometry could not cause a vibration failure. Increasing spring force did resolve \n",
            "vibration release, but did not create consistent latch performance. Proper performance under vibration\n",
            "\n",
            "Figure 6  Comparison of 1\n",
            "st generation structural latch vs. 3rd generation structural latch \n",
            " \n",
            "  \n",
            " Design load: 34 kN (7640 lbf) \n",
            " Single fault tolerant \n",
            " Mechanical drive efficiency: 66%  \n",
            "  Design load: 57 kN (12800 lbf) \n",
            " Dual fault tolerant \n",
            " Mechanical drive efficiency: 80%  \n",
            " Reduced mounting envelope 1st generation structural latch 3rd generation  \n",
            "structural latch \n",
            "NASA/CP-2010-216272\n",
            "Question: What can you tell me about latch mechanism design failures which have occurred?\n",
            "Helpful Answer:\u001b[0m\n",
            "\n",
            "\u001b[1m> Finished chain.\u001b[0m\n",
            "\n",
            "\u001b[1m> Finished chain.\u001b[0m\n",
            " Latch mechanism design failures often occur due to insufficient controls on critical features, such as corner radius and spring force, which can lead to vibration release and latch performance inconsistencies. These failures can be caused by a combination of multiple conditions, and it is important to identify all contributing causes before the investigation process is concluded. Examples include: \n",
            "• Inadequate engineering controls leading to discrepancies in design intent \n",
            "• Uncontrolled process variation and scrap in production of aerospace hardware \n",
            "• Insufficient corner radius leading to shoulder bolt cyclic loading \n",
            "• Low spring force leading to vibration release \n",
            "• Uncontrolled coatings at volatile spherical joint interface leading to particle generation.\n"
          ]
        }
      ],
      "source": [
        "# Prompt\n",
        "template = \"\"\"You are an AI trained to be an expert in space mechanism design, analysis, test, and failure investigation.\n",
        "Use the following pieces of context to answer the question at the end. \n",
        "If you don't know the answer, just say that you don't know, don't try to make up an answer. \n",
        "Provide a summarized answer, followed up with examples in bullet points.\n",
        "{context}\n",
        "Question: {question}\n",
        "Helpful Answer:\"\"\"\n",
        "QA_CHAIN_PROMPT = PromptTemplate(\n",
        "    input_variables=[\"context\", \"question\"],\n",
        "    template=template,\n",
        ")\n",
        "\n",
        "# Chain\n",
        "chain = load_qa_chain(llm, chain_type=\"stuff\", prompt=QA_CHAIN_PROMPT, verbose=True)\n",
        "\n",
        "# Run\n",
        "resp=chain({\"input_documents\": docs, \"question\": query}, return_only_outputs=True)\n",
        "print(resp['output_text'])\n"
      ]
    },
    {
      "cell_type": "markdown",
      "metadata": {},
      "source": [
        "### Stuff to try"
      ]
    },
    {
      "cell_type": "code",
      "execution_count": 9,
      "metadata": {},
      "outputs": [],
      "source": [
        "# Add something with a system description so the chatbot knows some context.\n",
        "# Try using the multi-context question tool as an input to a chain query.\n",
        "# Use cosine scores to find more docs which are relevant.\n",
        "\n",
        "# Try to create an agent to do a more extensive search.\n",
        "#   Follow up from original prompt with a new question\n",
        "#   Search for new docs based on the question\n",
        "#   Plug new docs into another prompt with that question"
      ]
    },
    {
      "cell_type": "code",
      "execution_count": null,
      "metadata": {},
      "outputs": [],
      "source": [
        "# TODO: #1 Check this out: https://python.langchain.com/docs/modules/data_connection/retrievers/ \n",
        "# TODO: #2 Check out how quivr uses langchain, copy key functionality"
      ]
    },
    {
      "cell_type": "markdown",
      "metadata": {},
      "source": [
        "### Fancy stuff that is kinda sorta working"
      ]
    },
    {
      "cell_type": "code",
      "execution_count": 34,
      "metadata": {},
      "outputs": [
        {
          "ename": "TypeError",
          "evalue": "MultiQueryRetriever.generate_queries() got an unexpected keyword argument 'query'",
          "output_type": "error",
          "traceback": [
            "\u001b[1;31m---------------------------------------------------------------------------\u001b[0m",
            "\u001b[1;31mTypeError\u001b[0m                                 Traceback (most recent call last)",
            "Cell \u001b[1;32mIn[34], line 11\u001b[0m\n\u001b[0;32m      5\u001b[0m \u001b[39m# logging.basicConfig()\u001b[39;00m\n\u001b[0;32m      6\u001b[0m \u001b[39m# logging.getLogger(\"langchain.retrievers.multi_query\").setLevel(logging.INFO)\u001b[39;00m\n\u001b[0;32m      8\u001b[0m retriever_from_llm \u001b[39m=\u001b[39m MultiQueryRetriever\u001b[39m.\u001b[39mfrom_llm(\n\u001b[0;32m      9\u001b[0m     retriever\u001b[39m=\u001b[39mvectorstore\u001b[39m.\u001b[39mas_retriever(), llm\u001b[39m=\u001b[39mllm, \n\u001b[0;32m     10\u001b[0m )\n\u001b[1;32m---> 11\u001b[0m queries \u001b[39m=\u001b[39m retriever_from_llm\u001b[39m.\u001b[39;49mgenerate_queries(query\u001b[39m=\u001b[39;49mquery)\n\u001b[0;32m     12\u001b[0m unique_docs \u001b[39m=\u001b[39m retriever_from_llm\u001b[39m.\u001b[39mget_relevant_documents(query\u001b[39m=\u001b[39mquery)\n\u001b[0;32m     14\u001b[0m \u001b[39mprint\u001b[39m(queries)\n",
            "\u001b[1;31mTypeError\u001b[0m: MultiQueryRetriever.generate_queries() got an unexpected keyword argument 'query'"
          ]
        }
      ],
      "source": [
        "from langchain.chat_models import ChatOpenAI\n",
        "from langchain.retrievers.multi_query import MultiQueryRetriever\n",
        "import logging\n",
        "\n",
        "# logging.basicConfig()\n",
        "# logging.getLogger(\"langchain.retrievers.multi_query\").setLevel(logging.INFO)\n",
        "\n",
        "retriever_from_llm = MultiQueryRetriever.from_llm(\n",
        "    retriever=vectorstore.as_retriever(), llm=llm, \n",
        ")\n",
        "queries = retriever_from_llm.generate_queries(query)\n",
        "unique_docs = retriever_from_llm.get_relevant_documents(query=query)\n",
        "\n",
        "print(queries)\n",
        "print(unique_docs)"
      ]
    },
    {
      "cell_type": "code",
      "execution_count": 11,
      "metadata": {},
      "outputs": [],
      "source": [
        "# Generate\n",
        "# https://python.langchain.com/docs/use_cases/question_answering/\n",
        "\n",
        "# Return source docs\n",
        "from langchain.chains import RetrievalQA\n",
        "from langchain.chat_models import ChatOpenAI\n",
        "\n",
        "llm = ChatOpenAI(model_name='gpt-3.5-turbo', temperature=.5)\n",
        "qa_chain = RetrievalQA.from_llm(llm,retriever=vectorstore.as_retriever(),\n",
        "                                       return_source_documents=True)\n",
        "\n",
        "results = qa_chain({'query': query})"
      ]
    },
    {
      "cell_type": "code",
      "execution_count": 12,
      "metadata": {},
      "outputs": [
        {
          "name": "stdout",
          "output_type": "stream",
          "text": [
            "What can you tell me about latch mechanism design? Please explain any failures and lessons learned in detail with specific examples.\n",
            "\n",
            "The latch mechanism design for the Orion Side Hatch underwent testing and development, with several lessons learned and failures encountered. \n",
            "\n",
            "One lesson learned was the importance of considering spring hysteresis in the design. Spring hysteresis refers to the loss of spring force after cycling. The development testing confirmed that the spring force dropped by 10% - 20% after cycling. This hysteresis loss was compensated for in Moog's new latch system, which accounted for all environmental conditions and provided repeatable performance. The lesson here is that initial design development should include the consideration of spring force hysteresis losses.\n",
            "\n",
            "Another lesson learned was the need for accurate modeling and analysis of complex latch mechanisms with many parts. The initial analysis of the latch design was limited to standard FEM/stress modeling and rigid-body kinematic studies, which showed positive results. However, it was found that accurate modeling of complex mechanisms, especially with flex-body effects, may not always be possible or feasible. This lesson emphasizes the importance of testing early and using analysis results cautiously.\n",
            "\n",
            "One specific failure encountered in the latch mechanism design was related to pressure deflections. The Apollo-like latch trains used in the design were found to be more sensitive to pressure deflections from the new flat Orion hatch structure. This failure mode could have been identified with additional independent analysis in the early design stages. The lesson here is to thoroughly understand the effects of requirements when using pre-existing designs and to conduct additional analysis to identify potential failure modes.\n",
            "\n",
            "In the development testing phase, a failure occurred in the latch mechanism. The investigation into the failure involved creating a fishbone failure diagram and considering more than 50 possible root cause contributors. The latch strain gauges showed non-linearity near the point of failure, which was unexpected. The leading root cause theories were that the latches were not behaving as over-center mechanisms and that the engaged LRA (Locking and Retention Assembly) should have acted as a backup structural path to prevent latches from backdriving. Further analysis and testing with improved instrumentation were deemed necessary to determine the exact cause of the failure.\n",
            "\n",
            "Overall, the latch mechanism design for the Orion Side Hatch involved various challenges and failures. The lessons learned include considering spring hysteresis in the design, conducting accurate modeling and analysis of complex mechanisms, understanding the effects of requirements when using pre-existing designs, and ensuring sufficient instrumentation is used to identify and characterize failure modes during testing.\n",
            "\n",
            "Sources:\n",
            "{'page': 485.0, 'source': '../data\\\\AMS_2020.pdf'}\n",
            "{'page': 314.0, 'source': '../data\\\\AMS_2016.pdf'}\n",
            "{'page': 492.0, 'source': '../data\\\\AMS_2020.pdf'}\n",
            "{'page': 488.0, 'source': '../data\\\\AMS_2020.pdf'}\n"
          ]
        }
      ],
      "source": [
        "print(results['query']+'\\n')\n",
        "print(results['result']+'\\n')\n",
        "\n",
        "print('Sources:')\n",
        "for doc in results['source_documents']:\n",
        "    print(doc.metadata)"
      ]
    },
    {
      "cell_type": "code",
      "execution_count": 13,
      "metadata": {},
      "outputs": [
        {
          "data": {
            "text/plain": [
              "{'question': 'What can you tell me about latch mechanism design? Please explain any failures and lessons learned in detail with specific examples.',\n",
              " 'answer': 'There is no specific information provided about latch mechanism failures or lessons learned in the given text.',\n",
              " 'sources': ''}"
            ]
          },
          "execution_count": 13,
          "metadata": {},
          "output_type": "execute_result"
        }
      ],
      "source": [
        "# Lots of different ways to do this under https://python.langchain.com/docs/use_cases/question_answering/\n",
        "from langchain.chains import RetrievalQAWithSourcesChain\n",
        "\n",
        "qa_chain = RetrievalQAWithSourcesChain.from_llm(llm,retriever=vectorstore.as_retriever())\n",
        "\n",
        "result = qa_chain({\"question\": query})\n",
        "result"
      ]
    }
  ],
  "metadata": {
    "colab": {
      "authorship_tag": "ABX9TyONM96f7/m0jUCD9c87+MQy",
      "include_colab_link": true,
      "provenance": []
    },
    "kernelspec": {
      "display_name": "Python 3",
      "language": "python",
      "name": "python3"
    },
    "language_info": {
      "codemirror_mode": {
        "name": "ipython",
        "version": 3
      },
      "file_extension": ".py",
      "mimetype": "text/x-python",
      "name": "python",
      "nbconvert_exporter": "python",
      "pygments_lexer": "ipython3",
      "version": "3.11.4"
    },
    "vscode": {
      "interpreter": {
        "hash": "aee8b7b246df8f9039afb4144a1f6fd8d2ca17a180786b69acc140d282b71a49"
      }
    }
  },
  "nbformat": 4,
  "nbformat_minor": 0
}
