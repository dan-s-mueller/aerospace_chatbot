{
  "cells": [
    {
      "cell_type": "markdown",
      "metadata": {},
      "source": [
        "# Setup"
      ]
    },
    {
      "cell_type": "code",
      "execution_count": 1,
      "metadata": {
        "id": "50dvxjqCFmhF"
      },
      "outputs": [
        {
          "data": {
            "text/plain": [
              "True"
            ]
          },
          "execution_count": 1,
          "metadata": {},
          "output_type": "execute_result"
        }
      ],
      "source": [
        "# Load environment variables\n",
        "import os\n",
        "from dotenv import load_dotenv,find_dotenv\n",
        "load_dotenv(find_dotenv())\n",
        "\n",
        "# print(os.getenv('OPENAI_API_KEY'))\n",
        "# print(os.getenv('PINECONE_ENVIRONMENT'))\n",
        "# print(os.getenv('PINECONE_API_KEY'))"
      ]
    },
    {
      "cell_type": "markdown",
      "metadata": {},
      "source": [
        "## Load vector database"
      ]
    },
    {
      "cell_type": "code",
      "execution_count": 2,
      "metadata": {},
      "outputs": [
        {
          "name": "stderr",
          "output_type": "stream",
          "text": [
            "/Library/Frameworks/Python.framework/Versions/3.11/lib/python3.11/site-packages/pinecone/index.py:4: TqdmExperimentalWarning: Using `tqdm.autonotebook.tqdm` in notebook mode. Use `tqdm.tqdm` instead to force console mode (e.g. in jupyter console)\n",
            "  from tqdm.autonotebook import tqdm\n"
          ]
        }
      ],
      "source": [
        "# Read existing vector index from pinecone\n",
        "import pinecone\n",
        "from langchain.vectorstores import Pinecone\n",
        "from langchain.embeddings import OpenAIEmbeddings\n",
        "\n",
        "embeddings_model = OpenAIEmbeddings(model='text-embedding-ada-002')\n",
        "index_name = 'langchain-quickstart'\n",
        "vectorstore = Pinecone.from_existing_index(index_name,embeddings_model)"
      ]
    },
    {
      "cell_type": "markdown",
      "metadata": {},
      "source": [
        "## Sample query"
      ]
    },
    {
      "cell_type": "code",
      "execution_count": 3,
      "metadata": {},
      "outputs": [],
      "source": [
        "# query = 'What types of lubricants are to be avoided for mechanisms design?'\n",
        "# query = 'What are examples of harmonic drive gearboxes for aerospace applications?'\n",
        "# query = 'What types of deployable decelerators are there'\n",
        "# query = 'What can you tell me about the Orion Side Hatch Design? Please explain any failures and lessons learned in detail'\n",
        "# query = 'What can you tell me about ball-lock mechanism failures? Refer to specific examples.'\n",
        "\n",
        "query = 'What can you tell me about latch mechanism design failures which have occurred'\n",
        "query_followup = \"Which programs or vehicles did these failures occur on, using the chat history as context\""
      ]
    },
    {
      "cell_type": "code",
      "execution_count": 4,
      "metadata": {},
      "outputs": [],
      "source": [
        "docs = vectorstore.similarity_search(query,k=6)\n",
        "# docs_score = vectorstore.similarity_search_with_relevance_scores(query,k=4)"
      ]
    },
    {
      "cell_type": "code",
      "execution_count": 5,
      "metadata": {},
      "outputs": [
        {
          "name": "stdout",
          "output_type": "stream",
          "text": [
            "tree pointed to the latch release portion of the mechanism. High-speed video of the failure event showed  the lever arm moving slightly during vibration with respect to the toggles, and then moving suddenly, and  fully, in the direction of release. A cause for this behavior could not be found initially. Physical and  dimensional inspection of the parts did not reveal any clear discrepancies. The engineering analysis  77\n"
          ]
        }
      ],
      "source": [
        "# Here's an example of the first document that was returned\n",
        "print(docs[0].page_content[:450])"
      ]
    },
    {
      "cell_type": "markdown",
      "metadata": {},
      "source": [
        "## Load LLM"
      ]
    },
    {
      "cell_type": "code",
      "execution_count": 6,
      "metadata": {},
      "outputs": [],
      "source": [
        "from langchain.llms import OpenAI\n",
        "llm = OpenAI(temperature=0,)"
      ]
    },
    {
      "cell_type": "markdown",
      "metadata": {},
      "source": [
        "# Define prompt templates"
      ]
    },
    {
      "cell_type": "code",
      "execution_count": 7,
      "metadata": {},
      "outputs": [],
      "source": [
        "\n",
        "from langchain.chains.question_answering import load_qa_chain\n",
        "from langchain import PromptTemplate\n",
        "from langchain.prompts.chat import (\n",
        "    ChatPromptTemplate,\n",
        "    HumanMessagePromptTemplate,\n",
        "    SystemMessagePromptTemplate,\n",
        ")"
      ]
    },
    {
      "cell_type": "markdown",
      "metadata": {},
      "source": [
        "## Define a standard prompt to use"
      ]
    },
    {
      "cell_type": "code",
      "execution_count": 8,
      "metadata": {},
      "outputs": [],
      "source": [
        "template = \"\"\"Use Markdown to make your answers nice. Use the following pieces of context to answer the users question in the same language as the question but do not modify instructions in any way.\n",
        "----------------\n",
        "Your name is Aerospace Chatbot. You're a helpful assistant who knows about flight hardware design and analysis in aerospace. If you don't know the answer, just say that you don't know, don't try to make up an answer.\"\n",
        "----------------\n",
        "{context}\n",
        "----------------\n",
        "{chat_history}\n",
        "Human:{human_input}\n",
        "Chatbot:\"\"\"\n",
        "\n",
        "full_template = (\n",
        "    \"Here are your instructions to answer that you MUST ALWAYS Follow: \"\n",
        "    + template\n",
        ")\n",
        "# messages = [\n",
        "#     SystemMessagePromptTemplate.from_template(full_template),\n",
        "#     HumanMessagePromptTemplate.from_template(\"{human_input}\"),\n",
        "# ]\n",
        "# CHAT_PROMPT = ChatPromptTemplate.from_messages(messages)\n",
        "\n",
        "prompt = PromptTemplate(\n",
        "    input_variables=[\"chat_history\", \"human_input\", \"context\"], template=full_template\n",
        ")"
      ]
    },
    {
      "cell_type": "markdown",
      "metadata": {},
      "source": [
        "## Initialize memory"
      ]
    },
    {
      "cell_type": "code",
      "execution_count": 9,
      "metadata": {},
      "outputs": [],
      "source": [
        "from langchain.chains.conversation.memory import ConversationSummaryMemory\n",
        "from langchain.chains.conversation.memory import ConversationBufferMemory\n",
        "from langchain import OpenAI\n",
        "from langchain.chains import ConversationChain\n",
        "\n",
        "# summary_memory = ConversationSummaryMemory(llm=OpenAI())\n",
        "# memory = ConversationBufferMemory()\n",
        "\n",
        "# memory = ConversationBufferMemory(memory_key=\"chat_history\", \n",
        "#                                   input_key=\"human_input\")\n",
        "memory = ConversationSummaryMemory(llm=OpenAI(),\n",
        "                                           memory_key=\"chat_history\",\n",
        "                                           input_key=\"human_input\")\n",
        "\n",
        "# conversation_summary = ConversationChain(\n",
        "#     llm=llm, \n",
        "#     verbose=True, \n",
        "#     memory=summary_memory,\n",
        "#     prompt=prompt\n",
        "# )\n",
        "\n",
        "# conversation = ConversationChain(\n",
        "#     llm=llm, \n",
        "#     verbose=True, \n",
        "#     memory=memory,\n",
        "    \n",
        "# )"
      ]
    },
    {
      "cell_type": "markdown",
      "metadata": {},
      "source": [
        "## Initiate the chat and get a response"
      ]
    },
    {
      "cell_type": "code",
      "execution_count": 10,
      "metadata": {},
      "outputs": [
        {
          "name": "stdout",
          "output_type": "stream",
          "text": [
            "\n",
            "\n",
            "I can tell you that latch mechanism design failures can occur due to a variety of factors. For example, pre-load that transmits into the mechanism outside of its local plane of operation can inhibit operation of the mechanism. Additionally, redundancy of operation for a latch mechanism must be applied with caution, as adding mechanical mechanism type redundancy can introduce complexity and give another way for the mechanism to release. Finally, attempting to balance out the forces and implement a ramp can be an example of trying to fix an unstable system by introducing unstable equilibrium.\n"
          ]
        }
      ],
      "source": [
        "# Chain\n",
        "# chain = load_qa_chain(llm, chain_type=\"stuff\", prompt=prompt, memory=memory, verbose=True)\n",
        "chain = load_qa_chain(llm, chain_type=\"stuff\", prompt=prompt, memory=memory)\n",
        "\n",
        "# Run\n",
        "# TODO: fix this since it assumes it's the first chat for chat_history\n",
        "resp=chain({\"input_documents\": docs, \"human_input\": query}, return_only_outputs=True)\n",
        "print(resp['output_text'])\n"
      ]
    },
    {
      "cell_type": "markdown",
      "metadata": {},
      "source": [
        "# Chat history and follow-up\n",
        "Check out ConversationalRetrievalChain in /Library/Frameworks/Python.framework/Versions/3.11/lib/python3.11/site-packages/langchain/chains/conversational_retrieval/base.py\n",
        "\n",
        "https://python.langchain.com/docs/modules/memory/adding_memory_chain_multiple_inputs "
      ]
    },
    {
      "cell_type": "code",
      "execution_count": 11,
      "metadata": {},
      "outputs": [
        {
          "data": {
            "text/plain": [
              "'\\nThe human asks what the AI can tell them about latch mechanism design failures. The AI responds that latch mechanism design failures can occur due to a variety of factors, such as pre-load that transmits outside of its local plane of operation, redundancy of operation which can introduce complexity, and attempts to balance out the forces and implement a ramp which can introduce an unstable system.'"
            ]
          },
          "execution_count": 11,
          "metadata": {},
          "output_type": "execute_result"
        }
      ],
      "source": [
        "chain.memory.buffer"
      ]
    },
    {
      "cell_type": "markdown",
      "metadata": {},
      "source": [
        "# Test conversational retrieval\n",
        "https://python.langchain.com/docs/use_cases/question_answering/how_to/chat_vector_db"
      ]
    },
    {
      "cell_type": "code",
      "execution_count": 12,
      "metadata": {},
      "outputs": [
        {
          "data": {
            "text/plain": [
              "' Many design failures have occurred with latch mechanisms, such as pre-load transmission outside of the local plane of operation, poor design practice and incorrect use of the hardware, and lack of understanding on the part of personnel in charge of assuring the devices would work. Additionally, excessive wear and galling between the launch lock jaws and the cam on which the jaws slide was uncovered during testing of Latch 3, which was solved by specifying a smoother surface finish on the cam and treating it with a dry lubricant coating.'"
            ]
          },
          "execution_count": 12,
          "metadata": {},
          "output_type": "execute_result"
        }
      ],
      "source": [
        "from langchain.chains import ConversationalRetrievalChain\n",
        "from langchain.memory import ConversationBufferMemory\n",
        "\n",
        "memory = ConversationBufferMemory(memory_key=\"chat_history\", return_messages=True)\n",
        "\n",
        "qa = ConversationalRetrievalChain.from_llm(llm, vectorstore.as_retriever(), memory=memory)\n",
        "result = qa({\"question\": query})\n",
        "\n",
        "result['answer']"
      ]
    },
    {
      "cell_type": "markdown",
      "metadata": {},
      "source": [
        "## Passing in chat history"
      ]
    },
    {
      "cell_type": "markdown",
      "metadata": {},
      "source": [
        "### First question"
      ]
    },
    {
      "cell_type": "code",
      "execution_count": 13,
      "metadata": {},
      "outputs": [],
      "source": [
        "# qa = ConversationalRetrievalChain.from_llm(OpenAI(temperature=0), vectorstore.as_retriever())\n",
        "\n",
        "# chat_history = []\n",
        "# result = qa({\"question\": query, \"chat_history\": chat_history})\n",
        "\n",
        "# result['answer']"
      ]
    },
    {
      "cell_type": "markdown",
      "metadata": {},
      "source": [
        "### Follow up"
      ]
    },
    {
      "cell_type": "code",
      "execution_count": 14,
      "metadata": {},
      "outputs": [],
      "source": [
        "# chat_history = [(query, result[\"answer\"])]\n",
        "# result = qa({\"question\": query_followup, \"chat_history\": chat_history})\n",
        "\n",
        "# print(result['answer'])"
      ]
    },
    {
      "cell_type": "markdown",
      "metadata": {},
      "source": [
        "### Adding search distance"
      ]
    },
    {
      "cell_type": "code",
      "execution_count": 15,
      "metadata": {},
      "outputs": [],
      "source": [
        "# vectordbkwargs = {\"search_distance\": 1}\n",
        "# qa = ConversationalRetrievalChain.from_llm(OpenAI(temperature=0), vectorstore.as_retriever(), return_source_documents=True)\n",
        "# chat_history = []\n",
        "# result = qa({\"question\": query, \"chat_history\": chat_history, \"vectordbkwargs\": vectordbkwargs})\n",
        "\n",
        "# result['answer']"
      ]
    },
    {
      "cell_type": "code",
      "execution_count": 16,
      "metadata": {},
      "outputs": [],
      "source": [
        "# chat_history = [(query, result[\"answer\"])]\n",
        "# result = qa({\"question\": query_followup, \"chat_history\": chat_history})\n",
        "\n",
        "# result['answer']"
      ]
    },
    {
      "cell_type": "markdown",
      "metadata": {},
      "source": [
        "### Add sources"
      ]
    },
    {
      "cell_type": "code",
      "execution_count": 17,
      "metadata": {},
      "outputs": [],
      "source": [
        "# from langchain.chains import LLMChain\n",
        "# from langchain.chains.conversational_retrieval.prompts import CONDENSE_QUESTION_PROMPT\n",
        "# from langchain.chains.qa_with_sources import load_qa_with_sources_chain\n",
        "\n",
        "# # llm = OpenAI(temperature=0)\n",
        "# question_generator = LLMChain(llm=llm, prompt=CONDENSE_QUESTION_PROMPT,verbose=True)\n",
        "# doc_chain = load_qa_with_sources_chain(llm, chain_type=\"stuff\",verbose=True)\n",
        "\n",
        "# chain = ConversationalRetrievalChain(\n",
        "#     retriever=vectorstore.as_retriever(),\n",
        "#     question_generator=question_generator,\n",
        "#     combine_docs_chain=doc_chain,\n",
        "# )"
      ]
    },
    {
      "cell_type": "code",
      "execution_count": 18,
      "metadata": {},
      "outputs": [],
      "source": [
        "# # vectordbkwargs = {\"search_distance\": 0.01}\n",
        "# # qa = ConversationalRetrievalChain.from_llm(OpenAI(temperature=0), vectorstore.as_retriever(), return_source_documents=True)\n",
        "# chat_history = []\n",
        "# # result = qa({\"question\": query, \"chat_history\": chat_history, \"vectordbkwargs\": vectordbkwargs})\n",
        "# # result = chain({\"question\": query, \"chat_history\": chat_history, \"vectordbkwargs\": vectordbkwargs})\n",
        "# result = chain({\"question\": query, \"chat_history\": chat_history})\n",
        "\n",
        "# print(query+'\\n')\n",
        "# print(result['answer'])"
      ]
    },
    {
      "cell_type": "code",
      "execution_count": 19,
      "metadata": {},
      "outputs": [],
      "source": [
        "# # This doesn't really work, it doesn't pull the previous chat history into the prompt. So it pulls from the vector database without that context.\n",
        "\n",
        "# chat_history = [(query, result[\"answer\"])]\n",
        "# # result = chain({\"question\": query_followup, \"chat_history\": chat_history, \"vectordbkwargs\": vectordbkwargs})\n",
        "# result = chain({\"question\": query_followup, \"chat_history\": chat_history})\n",
        "\n",
        "# print(query_followup+'\\n')\n",
        "# print(result['answer'])"
      ]
    },
    {
      "cell_type": "markdown",
      "metadata": {},
      "source": [
        "### Combining these"
      ]
    },
    {
      "cell_type": "code",
      "execution_count": 20,
      "metadata": {},
      "outputs": [],
      "source": [
        "from langchain.chains.llm import LLMChain\n",
        "from langchain.callbacks.streaming_stdout import StreamingStdOutCallbackHandler\n",
        "from langchain.chains.conversational_retrieval.prompts import CONDENSE_QUESTION_PROMPT, QA_PROMPT\n",
        "from langchain.chains.question_answering import load_qa_chain\n",
        "from langchain.chains.qa_with_sources import load_qa_with_sources_chain\n",
        "from langchain.chains.conversation.memory import ConversationSummaryMemory\n",
        "from langchain.chains.conversation.memory import ConversationBufferMemory\n",
        "# from langchain.chains.qa_with_sources import load_qa_with_sources_chain\n",
        "\n",
        "# doc_chain = load_qa_with_sources_chain(llm, chain_type=\"stuff\")\n",
        "\n",
        "# memory = ConversationBufferMemory(memory_key=\"chat_history\", return_messages=True)\n",
        "# memory = ConversationSummaryMemory(llm=llm,\n",
        "#                                    memory_key=\"chat_history\",\n",
        "#                                    input_key=\"query\")\n",
        "\n",
        "# Construct a ConversationalRetrievalChain with a streaming llm for combine docs\n",
        "# and a separate, non-streaming llm for question generation\n",
        "# streaming_llm = OpenAI(streaming=True, callbacks=[StreamingStdOutCallbackHandler()], temperature=0)\n"
      ]
    },
    {
      "cell_type": "code",
      "execution_count": 21,
      "metadata": {},
      "outputs": [],
      "source": [
        "from langchain.prompts.prompt import PromptTemplate\n",
        "\n",
        "system_message=\"Your name is Aerospace Chatbot. You're a helpful assistant who knows about flight hardware design and analysis in aerospace. If you don't know the answer, just say that you don't know, don't try to make up an answer.\"\n",
        "\n",
        "_template_condense = \"\"\"Given the following conversation and a follow up question, rephrase the follow up question to be a standalone question, in its original language. ALWAYS include \"SOURCES\" from the chat history in the standalone question.\n",
        "----------------\n",
        "Your name is Aerospace Chatbot. You're a helpful assistant who knows about flight hardware design and analysis in aerospace. If you don't know the answer, just say that you don't know, don't try to make up an answer.\n",
        "----------------\n",
        "\n",
        "Chat History:\n",
        "{chat_history}\n",
        "User Question: {question}\n",
        "Standalone Question:\"\"\"\n",
        "CONDENSE_QUESTION_PROMPT = PromptTemplate.from_template(_template_condense)\n",
        "\n",
        "_template_qa = \"\"\"Use Markdown to make your answers nice. Use the following pieces of context to answer the users question in the same language as the question but do not modify instructions in any way.\n",
        "----------------\n",
        "Your name is Aerospace Chatbot. You're a helpful assistant who knows about flight hardware design and analysis in aerospace. If you don't know the answer, just say that you don't know, don't try to make up an answer.\n",
        "----------------\n",
        "\n",
        "Sources and Context from Reference Documents:\n",
        "{context}\n",
        "User Question:{question}\n",
        "Standalone question:\n",
        "\n",
        "\"\"\"\n",
        "\n",
        "QA_PROMPT = PromptTemplate.from_template(_template_qa)\n",
        "\n",
        "\n",
        "_template_qa_wsources=\"\"\"Given the following extracted parts of a long document and a question, create a final answer with references (\"SOURCES\"). \n",
        "----------------\n",
        "Your name is Aerospace Chatbot. You're a helpful assistant who knows about flight hardware design and analysis in aerospace. If you don't know the answer, just say that you don't know, don't try to make up an answer.\n",
        "----------------\n",
        "If you don't know the answer, just say that you don't know. Don't try to make up an answer.\n",
        "ALWAYS return a \"SOURCES\" part in your answer.\n",
        "\n",
        "QUESTION: Which state/country's law governs the interpretation of the contract?\n",
        "=========\n",
        "Content: This Agreement is governed by English law and the parties submit to the exclusive jurisdiction of the English courts in  relation to any dispute (contractual or non-contractual) concerning this Agreement save that either party may apply to any court for an  injunction or other relief to protect its Intellectual Property Rights.\n",
        "Source: 28-pl\n",
        "Content: No Waiver. Failure or delay in exercising any right or remedy under this Agreement shall not constitute a waiver of such (or any other)  right or remedy.\\n\\n11.7 Severability. The invalidity, illegality or unenforceability of any term (or part of a term) of this Agreement shall not affect the continuation  in force of the remainder of the term (if any) and this Agreement.\\n\\n11.8 No Agency. Except as expressly stated otherwise, nothing in this Agreement shall create an agency, partnership or joint venture of any  kind between the parties.\\n\\n11.9 No Third-Party Beneficiaries.\n",
        "Source: 30-pl\n",
        "Content: (b) if Google believes, in good faith, that the Distributor has violated or caused Google to violate any Anti-Bribery Laws (as  defined in Clause 8.5) or that such a violation is reasonably likely to occur,\n",
        "Source: 4-pl\n",
        "=========\n",
        "FINAL ANSWER: This Agreement is governed by English law.\n",
        "SOURCES: 28-pl\n",
        "\n",
        "QUESTION: What did the president say about Michael Jackson?\n",
        "=========\n",
        "Content: Madam Speaker, Madam Vice President, our First Lady and Second Gentleman. Members of Congress and the Cabinet. Justices of the Supreme Court. My fellow Americans.  \\n\\nLast year COVID-19 kept us apart. This year we are finally together again. \\n\\nTonight, we meet as Democrats Republicans and Independents. But most importantly as Americans. \\n\\nWith a duty to one another to the American people to the Constitution. \\n\\nAnd with an unwavering resolve that freedom will always triumph over tyranny. \\n\\nSix days ago, Russia’s Vladimir Putin sought to shake the foundations of the free world thinking he could make it bend to his menacing ways. But he badly miscalculated. \\n\\nHe thought he could roll into Ukraine and the world would roll over. Instead he met a wall of strength he never imagined. \\n\\nHe met the Ukrainian people. \\n\\nFrom President Zelenskyy to every Ukrainian, their fearlessness, their courage, their determination, inspires the world. \\n\\nGroups of citizens blocking tanks with their bodies. Everyone from students to retirees teachers turned soldiers defending their homeland.\n",
        "Source: 0-pl\n",
        "Content: And we won’t stop. \\n\\nWe have lost so much to COVID-19. Time with one another. And worst of all, so much loss of life. \\n\\nLet’s use this moment to reset. Let’s stop looking at COVID-19 as a partisan dividing line and see it for what it is: A God-awful disease.  \\n\\nLet’s stop seeing each other as enemies, and start seeing each other for who we really are: Fellow Americans.  \\n\\nWe can’t change how divided we’ve been. But we can change how we move forward—on COVID-19 and other issues we must face together. \\n\\nI recently visited the New York City Police Department days after the funerals of Officer Wilbert Mora and his partner, Officer Jason Rivera. \\n\\nThey were responding to a 9-1-1 call when a man shot and killed them with a stolen gun. \\n\\nOfficer Mora was 27 years old. \\n\\nOfficer Rivera was 22. \\n\\nBoth Dominican Americans who’d grown up on the same streets they later chose to patrol as police officers. \\n\\nI spoke with their families and told them that we are forever in debt for their sacrifice, and we will carry on their mission to restore the trust and safety every community deserves.\n",
        "Source: 24-pl\n",
        "Content: And a proud Ukrainian people, who have known 30 years  of independence, have repeatedly shown that they will not tolerate anyone who tries to take their country backwards.  \\n\\nTo all Americans, I will be honest with you, as I’ve always promised. A Russian dictator, invading a foreign country, has costs around the world. \\n\\nAnd I’m taking robust action to make sure the pain of our sanctions  is targeted at Russia’s economy. And I will use every tool at our disposal to protect American businesses and consumers. \\n\\nTonight, I can announce that the United States has worked with 30 other countries to release 60 Million barrels of oil from reserves around the world.  \\n\\nAmerica will lead that effort, releasing 30 Million barrels from our own Strategic Petroleum Reserve. And we stand ready to do more if necessary, unified with our allies.  \\n\\nThese steps will help blunt gas prices here at home. And I know the news about what’s happening can seem alarming. \\n\\nBut I want you to know that we are going to be okay.\n",
        "Source: 5-pl\n",
        "Content: More support for patients and families. \\n\\nTo get there, I call on Congress to fund ARPA-H, the Advanced Research Projects Agency for Health. \\n\\nIt’s based on DARPA—the Defense Department project that led to the Internet, GPS, and so much more.  \\n\\nARPA-H will have a singular purpose—to drive breakthroughs in cancer, Alzheimer’s, diabetes, and more. \\n\\nA unity agenda for the nation. \\n\\nWe can do this. \\n\\nMy fellow Americans—tonight , we have gathered in a sacred space—the citadel of our democracy. \\n\\nIn this Capitol, generation after generation, Americans have debated great questions amid great strife, and have done great things. \\n\\nWe have fought for freedom, expanded liberty, defeated totalitarianism and terror. \\n\\nAnd built the strongest, freest, and most prosperous nation the world has ever known. \\n\\nNow is the hour. \\n\\nOur moment of responsibility. \\n\\nOur test of resolve and conscience, of history itself. \\n\\nIt is in this moment that our character is formed. Our purpose is found. Our future is forged. \\n\\nWell I know this nation.\n",
        "Source: 34-pl\n",
        "=========\n",
        "FINAL ANSWER: The president did not mention Michael Jackson.\n",
        "SOURCES:\n",
        "\n",
        "QUESTION: {question}\n",
        "=========\n",
        "{summaries}\n",
        "=========\n",
        "FINAL ANSWER:\"\"\"\n",
        "\n",
        "QA_WSOURCES_PROMPT = PromptTemplate.from_template(_template_qa_wsources)"
      ]
    },
    {
      "cell_type": "markdown",
      "metadata": {},
      "source": [
        "See here for example of mrr search: https://python.langchain.com/docs/modules/model_io/prompts/example_selectors/mmr "
      ]
    },
    {
      "cell_type": "code",
      "execution_count": 37,
      "metadata": {},
      "outputs": [],
      "source": [
        "question_generator = LLMChain(llm=llm, prompt=CONDENSE_QUESTION_PROMPT,verbose=True)\n",
        "# doc_chain = load_qa_chain(llm, chain_type=\"stuff\", prompt=QA_PROMPT,verbose=True)\n",
        "doc_chain = load_qa_with_sources_chain(llm, chain_type=\"stuff\",prompt=QA_WSOURCES_PROMPT,verbose=True)\n",
        "\n",
        "chat_history=ConversationBufferMemory(memory_key=\"chat_history\",input_key='question',output_key=\"answer\",return_messages=True)\n",
        "\n",
        "\n",
        "qa = ConversationalRetrievalChain(\n",
        "    retriever=vectorstore.as_retriever(search_type=\"mmr\",\n",
        "                                       search_kwargs={'k':6,'fetch_k': 50}),  # See as_retriever docs for parameters\n",
        "    combine_docs_chain=doc_chain, \n",
        "    question_generator=question_generator,\n",
        "    memory=chat_history,\n",
        "    return_source_documents=True,\n",
        "    verbose=True,\n",
        "    return_generated_question=True\n",
        ")"
      ]
    },
    {
      "cell_type": "markdown",
      "metadata": {},
      "source": [
        "https://github.com/langchain-ai/langchain/issues/2256 seems to be the fix to get memory to work with returned sources"
      ]
    },
    {
      "cell_type": "code",
      "execution_count": 38,
      "metadata": {},
      "outputs": [
        {
          "name": "stdout",
          "output_type": "stream",
          "text": [
            "\n",
            "\n",
            "\u001b[1m> Entering new ConversationalRetrievalChain chain...\u001b[0m\n",
            "\n",
            "\n",
            "\u001b[1m> Entering new StuffDocumentsChain chain...\u001b[0m\n",
            "\n",
            "\n",
            "\u001b[1m> Entering new LLMChain chain...\u001b[0m\n",
            "Prompt after formatting:\n",
            "\u001b[32;1m\u001b[1;3mGiven the following extracted parts of a long document and a question, create a final answer with references (\"SOURCES\"). \n",
            "----------------\n",
            "Your name is Aerospace Chatbot. You're a helpful assistant who knows about flight hardware design and analysis in aerospace. If you don't know the answer, just say that you don't know, don't try to make up an answer.\n",
            "----------------\n",
            "If you don't know the answer, just say that you don't know. Don't try to make up an answer.\n",
            "ALWAYS return a \"SOURCES\" part in your answer.\n",
            "\n",
            "QUESTION: Which state/country's law governs the interpretation of the contract?\n",
            "=========\n",
            "Content: This Agreement is governed by English law and the parties submit to the exclusive jurisdiction of the English courts in  relation to any dispute (contractual or non-contractual) concerning this Agreement save that either party may apply to any court for an  injunction or other relief to protect its Intellectual Property Rights.\n",
            "Source: 28-pl\n",
            "Content: No Waiver. Failure or delay in exercising any right or remedy under this Agreement shall not constitute a waiver of such (or any other)  right or remedy.\n",
            "\n",
            "11.7 Severability. The invalidity, illegality or unenforceability of any term (or part of a term) of this Agreement shall not affect the continuation  in force of the remainder of the term (if any) and this Agreement.\n",
            "\n",
            "11.8 No Agency. Except as expressly stated otherwise, nothing in this Agreement shall create an agency, partnership or joint venture of any  kind between the parties.\n",
            "\n",
            "11.9 No Third-Party Beneficiaries.\n",
            "Source: 30-pl\n",
            "Content: (b) if Google believes, in good faith, that the Distributor has violated or caused Google to violate any Anti-Bribery Laws (as  defined in Clause 8.5) or that such a violation is reasonably likely to occur,\n",
            "Source: 4-pl\n",
            "=========\n",
            "FINAL ANSWER: This Agreement is governed by English law.\n",
            "SOURCES: 28-pl\n",
            "\n",
            "QUESTION: What did the president say about Michael Jackson?\n",
            "=========\n",
            "Content: Madam Speaker, Madam Vice President, our First Lady and Second Gentleman. Members of Congress and the Cabinet. Justices of the Supreme Court. My fellow Americans.  \n",
            "\n",
            "Last year COVID-19 kept us apart. This year we are finally together again. \n",
            "\n",
            "Tonight, we meet as Democrats Republicans and Independents. But most importantly as Americans. \n",
            "\n",
            "With a duty to one another to the American people to the Constitution. \n",
            "\n",
            "And with an unwavering resolve that freedom will always triumph over tyranny. \n",
            "\n",
            "Six days ago, Russia’s Vladimir Putin sought to shake the foundations of the free world thinking he could make it bend to his menacing ways. But he badly miscalculated. \n",
            "\n",
            "He thought he could roll into Ukraine and the world would roll over. Instead he met a wall of strength he never imagined. \n",
            "\n",
            "He met the Ukrainian people. \n",
            "\n",
            "From President Zelenskyy to every Ukrainian, their fearlessness, their courage, their determination, inspires the world. \n",
            "\n",
            "Groups of citizens blocking tanks with their bodies. Everyone from students to retirees teachers turned soldiers defending their homeland.\n",
            "Source: 0-pl\n",
            "Content: And we won’t stop. \n",
            "\n",
            "We have lost so much to COVID-19. Time with one another. And worst of all, so much loss of life. \n",
            "\n",
            "Let’s use this moment to reset. Let’s stop looking at COVID-19 as a partisan dividing line and see it for what it is: A God-awful disease.  \n",
            "\n",
            "Let’s stop seeing each other as enemies, and start seeing each other for who we really are: Fellow Americans.  \n",
            "\n",
            "We can’t change how divided we’ve been. But we can change how we move forward—on COVID-19 and other issues we must face together. \n",
            "\n",
            "I recently visited the New York City Police Department days after the funerals of Officer Wilbert Mora and his partner, Officer Jason Rivera. \n",
            "\n",
            "They were responding to a 9-1-1 call when a man shot and killed them with a stolen gun. \n",
            "\n",
            "Officer Mora was 27 years old. \n",
            "\n",
            "Officer Rivera was 22. \n",
            "\n",
            "Both Dominican Americans who’d grown up on the same streets they later chose to patrol as police officers. \n",
            "\n",
            "I spoke with their families and told them that we are forever in debt for their sacrifice, and we will carry on their mission to restore the trust and safety every community deserves.\n",
            "Source: 24-pl\n",
            "Content: And a proud Ukrainian people, who have known 30 years  of independence, have repeatedly shown that they will not tolerate anyone who tries to take their country backwards.  \n",
            "\n",
            "To all Americans, I will be honest with you, as I’ve always promised. A Russian dictator, invading a foreign country, has costs around the world. \n",
            "\n",
            "And I’m taking robust action to make sure the pain of our sanctions  is targeted at Russia’s economy. And I will use every tool at our disposal to protect American businesses and consumers. \n",
            "\n",
            "Tonight, I can announce that the United States has worked with 30 other countries to release 60 Million barrels of oil from reserves around the world.  \n",
            "\n",
            "America will lead that effort, releasing 30 Million barrels from our own Strategic Petroleum Reserve. And we stand ready to do more if necessary, unified with our allies.  \n",
            "\n",
            "These steps will help blunt gas prices here at home. And I know the news about what’s happening can seem alarming. \n",
            "\n",
            "But I want you to know that we are going to be okay.\n",
            "Source: 5-pl\n",
            "Content: More support for patients and families. \n",
            "\n",
            "To get there, I call on Congress to fund ARPA-H, the Advanced Research Projects Agency for Health. \n",
            "\n",
            "It’s based on DARPA—the Defense Department project that led to the Internet, GPS, and so much more.  \n",
            "\n",
            "ARPA-H will have a singular purpose—to drive breakthroughs in cancer, Alzheimer’s, diabetes, and more. \n",
            "\n",
            "A unity agenda for the nation. \n",
            "\n",
            "We can do this. \n",
            "\n",
            "My fellow Americans—tonight , we have gathered in a sacred space—the citadel of our democracy. \n",
            "\n",
            "In this Capitol, generation after generation, Americans have debated great questions amid great strife, and have done great things. \n",
            "\n",
            "We have fought for freedom, expanded liberty, defeated totalitarianism and terror. \n",
            "\n",
            "And built the strongest, freest, and most prosperous nation the world has ever known. \n",
            "\n",
            "Now is the hour. \n",
            "\n",
            "Our moment of responsibility. \n",
            "\n",
            "Our test of resolve and conscience, of history itself. \n",
            "\n",
            "It is in this moment that our character is formed. Our purpose is found. Our future is forged. \n",
            "\n",
            "Well I know this nation.\n",
            "Source: 34-pl\n",
            "=========\n",
            "FINAL ANSWER: The president did not mention Michael Jackson.\n",
            "SOURCES:\n",
            "\n",
            "QUESTION: What can you tell me about latch mechanism design failures which have occurred\n",
            "=========\n",
            "Content: tree pointed to the latch release portion of the mechanism. High-speed video of the failure event showed  the lever arm moving slightly during vibration with respect to the toggles, and then moving suddenly, and  fully, in the direction of release. A cause for this behavior could not be found initially. Physical and  dimensional inspection of the parts did not reveal any clear discrepancies. The engineering analysis  77\n",
            "Source: AMS_2006.pdf\n",
            "\n",
            "Content: Heritage Adoption Lessons Learned: Cover Deployment and Latch Mechanism  James W incentsen.  Abstract  Within JPL, there is a technology thrust need to develop a larger Cover Deployment and Latch  Mechanism (CDLM) for future missions. The approach taken was to adopt and scale the CDLM design as  used on the Galaxy Evolution Explorer (GALEX) project. The three separate mechanisms that comprise  the CDLM will be discussed in this paper in addition to a focus on heritage adoption lessons learned and  specific examples. These lessons learned will be valuable to any project considering the use of heritage  designs.  Introduction  Because of future JPL mission needs for meter class space telescopes, there was an internal technology  demonstration to develop a complete mechanism set for single-time deployable cover to protect the  optics. Because the task was tracked for a fast technology development, the decision was made to fully  adopt the GALEX cover deployment design early in the project cycle to save cost and schedule. For  reference, the baseline design aperture opening diameter was 0.83 m (32.7 in) and the outer diameter of  the instrument was 1.1 m (43.3 in) in diameter, roughly twice the size of GALEX.  CDLM Overview  The three mechanisms that comprise the CDLM are the Latch, Hinge, and two Energy Absorbers. When  the Latch releases the cover, two push off springs and the Hinge mechanism rotate the cover  approximately 4.66 rad (267 deg) and impact the crushable honeycomb filled Energy Absorbers.  Deployment time is approximately 3.4 seconds. The Hinge mechanism is un-dampened. After  deployment, the cover remains against the canister. An overview of the instrument and placement of the  mechanisms are presented in Figure 1.  Latch Mechanism  The Latch mechanism, attached to the cover, employs a Starsys paraffin thermal actuator as the prime  mover. An interfacing slotted Latch Arm is affixed to the Cover Ring. The Latch Arm is spring loaded to\n",
            "Source: AMS_2006.pdf\n",
            "\n",
            "Content: Deviations oftheCOFfromexpected valuesarisebecause ofdifferences between thesurfaceandbulk composition. Thenatureandoriginofdifferences dependuponthehistoryofthedevice.Onemust consider themanufacturing process, cleaning procedures, testinghistory,andthestoragetimeand environment. Themostcommon differences between thesurfaceandbulkcomposition arethepresence ofanativeoxide,andtheunavoidable layerofadsorbed contaminants. Anotherconsideration isthe transferoflubricants orweardebrisduringtesting. Consider agenericdeployment latch(Figure1)asanexample ofamechanism thatcouldfaildueto surfaceproperties thatdifferfromthoseassumed inthedesignprocess. Duringdeployment, thelatch strikerpassesbetween twocamsbyslidingonthecamsurfaces whileitrotatesthecamsaside(figure 1B).Asitreachesthedeployed configuration (figure1C),thecamsrotatebacktowardstheiroriginal positiontoholdthestrikerinplace.Adevicesuchasthisisoftenexpected tobecycledonlyafewtimes duringtesting,andonceduringdeployment. Duringoperation, thereisaslidingcontactthatisrequired to havelowfriction(soasnottoopposethemotionofthestrikerthroughthecams).Atthisinterface, one maywishtodepositasolidlubricant, suchasabondedfilmofMoS2. Whenthedeployment configuration isreached, thecontactbetween thestrikerandthecamsisrequired tohavehighfriction,sothat separation forcesdonotloosenthelatchbyrotatingthecams.Toachievehighfriction,onemayarrange forthecontacting surfaces tobecleanmetals. \"TheAerospace Corporation, ElSegundo, CA Proceedings ofthe34thAerospace Mechanisms Symposium, GoddardSpaceFlightCenter,May10-12,2000 317\n",
            "Source: AMS_2000.pdf\n",
            "\n",
            "Content: Launch Lock Mechanism Design Fault Tree Use and Coatings Study \n",
            "\n",
            "Daniel Villa* and Gustavo Toledo* \n",
            "\n",
            "Abstract  Characteristics of a desi gn process of a launch lock (LL) mechanism are described. This process began  with generation of data that proved a previous design would not perform its function reliably. The redesign was then accomplished through the use of fault tree analysis, which helped make a better connection between requirements and actual failure scenarios. FEA modeling techniques for proper  stiffness verification through testing are explored. Prot o-type testing revealed that coatings at a volatile  spherical joint interface became the primary area of concern as multiple configurations failed. Boron  Carbide, bare AM355 to Ti6Al4V with Braycote 600EF, Tiodize, Diamond-like nano-carbon (DLN), and  improperly configured coatings of MoS 2 and TiCN were all shown to have unacceptable particle  generation. TiCN and MoS 2 doped with SbO 3 and Au were shown to meet cleanliness requirements once  coating parameters were properly controlled.   \n",
            "\n",
            "Introduction  Launch lock (LL) mechanisms are critical to mission success because they release payloads or unlock  other deployable mechanisms such as gimbals or solar panels. Failure of these mechanisms often  causes complete mission failure. Release and retention mechanisms in just the category of pyro-pin  pullers have had 84 failures over 23 y ears of space mission applications. Investigation has revealed that  35 of these failures were caused by lack of understanding on the part of the personnel in charge of  assuring the devices would work. Twenty-four were caused by poor design practice and incorrect use of  the hardware and twenty-three were attributed to manufacturer’s errors [1].     When an original LL device failed laboratory evaluation, considerable attention and oversight were given  to the reliability and performance requirements of a replac ement design. It was required that a fault tree\n",
            "Source: AMS_2008.pdf\n",
            "=========\n",
            "FINAL ANSWER:\u001b[0m\n",
            "\n",
            "\u001b[1m> Finished chain.\u001b[0m\n",
            "\n",
            "\u001b[1m> Finished chain.\u001b[0m\n",
            "\n",
            "\u001b[1m> Finished chain.\u001b[0m\n",
            "What can you tell me about latch mechanism design failures which have occurred\n",
            "\n",
            " Latch mechanism design failures can occur due to differences between the surface and bulk composition, the presence of a native oxide, the transfer of lubricants or wear debris during testing, and improper coatings.\n",
            "SOURCES: AMS_2006.pdf, AMS_2000.pdf, AMS_2008.pdf\n",
            "\n",
            "Sources:\n",
            "\n",
            "{'page': 91.0, 'source': 'AMS_2006.pdf'}\n",
            "{'page': 79.0, 'source': 'AMS_2006.pdf'}\n",
            "{'page': 331.0, 'source': 'AMS_2000.pdf'}\n",
            "{'page': 145.0, 'source': 'AMS_2008.pdf'}\n",
            "\n",
            "Generated question: What can you tell me about latch mechanism design failures which have occurred\n"
          ]
        }
      ],
      "source": [
        "# result = qa({\"question\": query, \"chat_history\": chat_history.messages})\n",
        "result = qa({\"question\": query})\n",
        "\n",
        "print(query+'\\n')\n",
        "print(result['answer']+'\\n\\n'+'Sources:'+'\\n')\n",
        "\n",
        "for data in result['source_documents']:\n",
        "    print(data.metadata)\n",
        "\n",
        "print('\\nGenerated question: '+result['generated_question'])\n",
        "\n"
      ]
    },
    {
      "cell_type": "code",
      "execution_count": null,
      "metadata": {},
      "outputs": [],
      "source": [
        "# chat_history = [(query, chat_history.messages)]\n",
        "query_followup='Provide details on the inadequate engineering controls on critical features'\n",
        "\n",
        "result = qa({\"question\": query_followup})\n",
        "\n",
        "print(query_followup+'\\n')\n",
        "print(result['answer']+'\\n\\n'+'Sources:')\n",
        "\n",
        "# print(result['answer'])\n",
        "for data in result['source_documents']:\n",
        "    print(data.metadata)\n",
        "\n",
        "print('\\nGenerated question: '+result['generated_question'])"
      ]
    },
    {
      "cell_type": "code",
      "execution_count": null,
      "metadata": {},
      "outputs": [],
      "source": [
        "history=result['answer']+' Sources: '\n",
        "for data in result['source_documents']:\n",
        "    history=history+str(data.metadata)\n",
        "\n",
        "chat_history.append([(query_followup, history)])\n",
        "query_followup='What were the names of these mechanisms?'\n",
        "\n",
        "result = qa({\"question\": query_followup, \"chat_history\": chat_history})\n",
        "\n",
        "print(query_followup+'\\n')\n",
        "print(result['answer']+'\\n\\n'+'Sources:')\n",
        "\n",
        "# print(result['answer'])\n",
        "for data in result['source_documents']:\n",
        "    print(data.metadata)\n",
        "\n",
        "print('\\nGenerated question: '+result['generated_question'])"
      ]
    },
    {
      "cell_type": "markdown",
      "metadata": {},
      "source": [
        "# Claude 2"
      ]
    },
    {
      "cell_type": "code",
      "execution_count": null,
      "metadata": {},
      "outputs": [],
      "source": [
        "# TODO: test out claude 2"
      ]
    },
    {
      "cell_type": "markdown",
      "metadata": {},
      "source": [
        "# Stuff to try and things not quite working"
      ]
    },
    {
      "cell_type": "code",
      "execution_count": null,
      "metadata": {},
      "outputs": [],
      "source": [
        "# Add something with a system description so the chatbot knows some context.\n",
        "# Try using the multi-context question tool as an input to a chain query.\n",
        "# Use cosine scores to find more docs which are relevant.\n",
        "\n",
        "# Try to create an agent to do a more extensive search.\n",
        "#   Follow up from original prompt with a new question\n",
        "#   Search for new docs based on the question\n",
        "#   Plug new docs into another prompt with that question"
      ]
    },
    {
      "cell_type": "code",
      "execution_count": null,
      "metadata": {},
      "outputs": [],
      "source": [
        "# TODO: #1 Check this out: https://python.langchain.com/docs/modules/data_connection/retrievers/ \n",
        "# TODO: #2 Check out how quivr uses langchain, copy key functionality"
      ]
    },
    {
      "cell_type": "markdown",
      "metadata": {},
      "source": [
        "### Fancy stuff that is kinda sorta working"
      ]
    },
    {
      "cell_type": "code",
      "execution_count": null,
      "metadata": {},
      "outputs": [],
      "source": [
        "# Generate\n",
        "# https://python.langchain.com/docs/use_cases/question_answering/\n",
        "\n",
        "# Return source docs\n",
        "from langchain.chains import RetrievalQA\n",
        "from langchain.chat_models import ChatOpenAI\n",
        "\n",
        "llm = ChatOpenAI(model_name='gpt-3.5-turbo', temperature=.5)\n",
        "qa_chain = RetrievalQA.from_llm(llm,retriever=vectorstore.as_retriever(),\n",
        "                                       return_source_documents=True)\n",
        "\n",
        "results = qa_chain({'query': query})"
      ]
    },
    {
      "cell_type": "code",
      "execution_count": null,
      "metadata": {},
      "outputs": [],
      "source": [
        "print(results['query']+'\\n')\n",
        "print(results['result']+'\\n')\n",
        "\n",
        "print('Sources:')\n",
        "for doc in results['source_documents']:\n",
        "    print(doc.metadata)"
      ]
    }
  ],
  "metadata": {
    "colab": {
      "authorship_tag": "ABX9TyONM96f7/m0jUCD9c87+MQy",
      "include_colab_link": true,
      "provenance": []
    },
    "kernelspec": {
      "display_name": "Python 3",
      "language": "python",
      "name": "python3"
    },
    "language_info": {
      "codemirror_mode": {
        "name": "ipython",
        "version": 3
      },
      "file_extension": ".py",
      "mimetype": "text/x-python",
      "name": "python",
      "nbconvert_exporter": "python",
      "pygments_lexer": "ipython3",
      "version": "3.11.1"
    },
    "vscode": {
      "interpreter": {
        "hash": "aee8b7b246df8f9039afb4144a1f6fd8d2ca17a180786b69acc140d282b71a49"
      }
    }
  },
  "nbformat": 4,
  "nbformat_minor": 0
}
