{
 "cells": [
  {
   "cell_type": "markdown",
   "metadata": {},
   "source": [
    "# Connecting to AWS"
   ]
  },
  {
   "cell_type": "code",
   "execution_count": 15,
   "metadata": {},
   "outputs": [],
   "source": [
    "# Use the ListFoundationModels API to show the models that are available in your region.\n",
    "import boto3\n",
    "             \n",
    "# Create an &BR; client in the &region-us-east-1; Region.\n",
    "bedrock = boto3.client(\n",
    "    service_name=\"bedrock\"\n",
    ") \n",
    "\n",
    "# bedrock.list_foundation_models()\n",
    "# bedrock.list_knowledge_bases() "
   ]
  },
  {
   "cell_type": "code",
   "execution_count": 16,
   "metadata": {},
   "outputs": [
    {
     "data": {
      "text/plain": [
       "{'ResponseMetadata': {'RequestId': 'c9b47030-b93b-42d1-8720-13d8d358f3f8',\n",
       "  'HTTPStatusCode': 200,\n",
       "  'HTTPHeaders': {'date': 'Wed, 30 Oct 2024 02:59:14 GMT',\n",
       "   'content-type': 'application/json',\n",
       "   'content-length': '160',\n",
       "   'connection': 'keep-alive',\n",
       "   'x-amzn-requestid': 'c9b47030-b93b-42d1-8720-13d8d358f3f8',\n",
       "   'x-amz-apigw-id': 'AcYYfGZ4vHcEI5Q=',\n",
       "   'x-amzn-trace-id': 'Root=1-6721a102-1be53aee79e3698a62fb0258'},\n",
       "  'RetryAttempts': 0},\n",
       " 'knowledgeBaseSummaries': [{'knowledgeBaseId': '1JORBFKUYS',\n",
       "   'name': 'aerospace-chatbot-ams-demo',\n",
       "   'status': 'ACTIVE',\n",
       "   'updatedAt': datetime.datetime(2024, 10, 29, 17, 47, 24, 456721, tzinfo=tzutc())}]}"
      ]
     },
     "execution_count": 16,
     "metadata": {},
     "output_type": "execute_result"
    }
   ],
   "source": [
    "client = boto3.client('bedrock-agent')\n",
    "response = client.list_knowledge_bases(\n",
    "    maxResults=123\n",
    ")\n",
    "response"
   ]
  },
  {
   "cell_type": "code",
   "execution_count": null,
   "metadata": {},
   "outputs": [],
   "source": [
    "kb_name='aerospace-chatbot-ams-demo'"
   ]
  },
  {
   "cell_type": "markdown",
   "metadata": {},
   "source": [
    "# Pinecone database management"
   ]
  },
  {
   "cell_type": "code",
   "execution_count": 14,
   "metadata": {},
   "outputs": [
    {
     "name": "stdout",
     "output_type": "stream",
     "text": [
      "Error deleting index (probably empty already): (404)\n",
      "Reason: Not Found\n",
      "HTTP response headers: HTTPHeaderDict({'Date': 'Wed, 30 Oct 2024 02:48:38 GMT', 'Content-Type': 'application/json', 'Content-Length': '55', 'Connection': 'keep-alive', 'x-pinecone-request-latency-ms': '88', 'x-pinecone-request-id': '3920809686156093469', 'x-envoy-upstream-service-time': '89', 'server': 'envoy'})\n",
      "HTTP response body: {\"code\":5,\"message\":\"Namespace not found\",\"details\":[]}\n",
      "\n"
     ]
    }
   ],
   "source": [
    "import os\n",
    "from dotenv import load_dotenv\n",
    "import pinecone\n",
    "\n",
    "# Load environment variables from .env file\n",
    "load_dotenv()\n",
    "\n",
    "# Initialize Pinecone client\n",
    "pc = pinecone.Pinecone(api_key=os.getenv('PINECONE_API_KEY'))\n",
    "\n",
    "index_name='aws-bedrock-ams-demo'\n",
    "\n",
    "# Delete all vectors from each index but keep the index itself\n",
    "index = pc.Index(index_name)\n",
    "# Delete all vectors but preserve the index structure\n",
    "try:\n",
    "    index.delete(delete_all=True)\n",
    "except Exception as e:\n",
    "    print(f\"Error deleting index (probably empty already): {e}\")"
   ]
  },
  {
   "cell_type": "code",
   "execution_count": null,
   "metadata": {},
   "outputs": [],
   "source": []
  },
  {
   "cell_type": "markdown",
   "metadata": {},
   "source": [
    "# Process PDFs"
   ]
  },
  {
   "cell_type": "markdown",
   "metadata": {},
   "source": [
    "# Split PDF into chunks of 25 pages\n"
   ]
  },
  {
   "cell_type": "code",
   "execution_count": null,
   "metadata": {},
   "outputs": [],
   "source": [
    "import os\n",
    "from PyPDF2 import PdfReader, PdfWriter\n",
    "\n",
    "def split_pdf(input_path, pages_per_chunk=25):\n",
    "    \"\"\"Split a PDF into chunks of specified number of pages\"\"\"\n",
    "    reader = PdfReader(input_path)\n",
    "    total_pages = len(reader.pages)\n",
    "    \n",
    "    # Get base filename without extension\n",
    "    base_name = os.path.splitext(os.path.basename(input_path))[0]\n",
    "    \n",
    "    for chunk_start in range(0, total_pages, pages_per_chunk):\n",
    "        writer = PdfWriter()\n",
    "        chunk_end = min(chunk_start + pages_per_chunk, total_pages)\n",
    "        \n",
    "        # Add pages for this chunk\n",
    "        for page_num in range(chunk_start, chunk_end):\n",
    "            writer.add_page(reader.pages[page_num])\n",
    "            \n",
    "        # Save chunk to new PDF\n",
    "        output_path = f\"{base_name}_chunk_{chunk_start//pages_per_chunk + 1}.pdf\"\n",
    "        with open(output_path, \"wb\") as output_file:\n",
    "            writer.write(output_file)\n",
    "\n",
    "split_pdf('./AMS_1969_reocr.pdf')"
   ]
  }
 ],
 "metadata": {
  "kernelspec": {
   "display_name": "Python 3",
   "language": "python",
   "name": "python3"
  },
  "language_info": {
   "codemirror_mode": {
    "name": "ipython",
    "version": 3
   },
   "file_extension": ".py",
   "mimetype": "text/x-python",
   "name": "python",
   "nbconvert_exporter": "python",
   "pygments_lexer": "ipython3",
   "version": "3.11.1"
  },
  "orig_nbformat": 4
 },
 "nbformat": 4,
 "nbformat_minor": 2
}
