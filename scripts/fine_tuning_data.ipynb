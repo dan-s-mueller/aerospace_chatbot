{
 "cells": [
  {
   "cell_type": "code",
   "execution_count": 1,
   "metadata": {},
   "outputs": [
    {
     "name": "stderr",
     "output_type": "stream",
     "text": [
      "/Library/Frameworks/Python.framework/Versions/3.11/lib/python3.11/site-packages/pinecone/index.py:4: TqdmExperimentalWarning: Using `tqdm.autonotebook.tqdm` in notebook mode. Use `tqdm.tqdm` instead to force console mode (e.g. in jupyter console)\n",
      "  from tqdm.autonotebook import tqdm\n"
     ]
    }
   ],
   "source": [
    "import glob\n",
    "import os\n",
    "import data_import\n",
    "import jsonlines\n",
    "from importlib import reload"
   ]
  },
  {
   "cell_type": "markdown",
   "metadata": {},
   "source": [
    "# Read and load PDF data"
   ]
  },
  {
   "cell_type": "code",
   "execution_count": 2,
   "metadata": {},
   "outputs": [],
   "source": [
    "data_folder='../data/AMS/'\n",
    "docs = glob.glob(data_folder+'*.pdf')   # Only get the PDFs in the directory"
   ]
  },
  {
   "cell_type": "code",
   "execution_count": null,
   "metadata": {},
   "outputs": [],
   "source": [
    "pages=data_import.load_docs(docs=docs,\n",
    "                            chunk_size=5000,\n",
    "                            chunk_overlap=0,\n",
    "                            file=data_folder+'ams_data_answers.jsonl')"
   ]
  },
  {
   "cell_type": "markdown",
   "metadata": {},
   "source": [
    "# Initialize the llm"
   ]
  },
  {
   "cell_type": "code",
   "execution_count": null,
   "metadata": {},
   "outputs": [],
   "source": [
    "import data_import\n",
    "reload(data_import)\n",
    "\n",
    "pages=data_import.read_docs(data_folder+'ams_data_answers.jsonl')"
   ]
  },
  {
   "cell_type": "code",
   "execution_count": 3,
   "metadata": {},
   "outputs": [],
   "source": [
    "import openai\n",
    "from langchain.llms import OpenAI\n",
    "\n",
    "openai.api_key = os.getenv('OPENAI_API_KEY')\n",
    "\n",
    "max_generated_tokens=516\n",
    "temperature=0\n",
    "\n",
    "# model_name='local-model'    # This can be anything. I recommend using the name of the loaded model from LM Studio.\n",
    "# model_name='TheBloke/Mistral-7B-Instruct-v0.1-GGUF'\n",
    "model='TheBloke/'\n",
    "name='Llama-2-7B-Chat-GGUF'\n",
    "\n",
    "base_url='http://localhost:1234/v1' # point to the local server"
   ]
  },
  {
   "cell_type": "code",
   "execution_count": null,
   "metadata": {},
   "outputs": [],
   "source": [
    "llm = OpenAI(model_name=model+name,\n",
    "             base_url=base_url,\n",
    "             temperature=temperature,\n",
    "             max_tokens=max_generated_tokens,\n",
    "             tags=[model+name+'-'+str(temperature)+'-'+str(max_generated_tokens)]\n",
    "            )"
   ]
  },
  {
   "cell_type": "markdown",
   "metadata": {},
   "source": [
    "# Generate questions from data"
   ]
  },
  {
   "cell_type": "code",
   "execution_count": null,
   "metadata": {},
   "outputs": [],
   "source": [
    "from importlib import reload\n",
    "import gen_training_data\n",
    "reload(gen_training_data)\n",
    "\n",
    "training_data=gen_training_data.gen_q_from_context(pages[:100],\n",
    "                                                   llm,\n",
    "                                                   file=data_folder+'ams_data_train_'+name+'.jsonl')"
   ]
  },
  {
   "cell_type": "markdown",
   "metadata": {},
   "source": [
    "# Format training_data for fine tuning"
   ]
  },
  {
   "cell_type": "code",
   "execution_count": 16,
   "metadata": {},
   "outputs": [],
   "source": [
    "from importlib import reload\n",
    "import gen_training_data\n",
    "reload(gen_training_data)\n",
    "\n",
    "format='LLM-generic'\n",
    "tune_data=gen_training_data.format_dataset(format,\n",
    "                                           file_in=data_folder+'ams_data_train_'+name+'.jsonl',\n",
    "                                           file_out=data_folder+'ams_data_train_'+name+'-'+format+'-100.csv')"
   ]
  },
  {
   "cell_type": "markdown",
   "metadata": {},
   "source": [
    "### Update to be in mistral format"
   ]
  },
  {
   "cell_type": "code",
   "execution_count": null,
   "metadata": {},
   "outputs": [],
   "source": [
    "import pandas as pd\n",
    "import glob\n",
    "import os\n",
    "\n",
    "# Get a list of all CSV files in the data subfolder\n",
    "csv_files = glob.glob('data/**/*.csv', recursive=True)\n",
    "\n",
    "for file in csv_files:\n",
    "    if not file.endswith('-mistral.csv'):\n",
    "        print(file)\n",
    "        # Read the CSV file\n",
    "        df = pd.read_csv(file)\n",
    "\n",
    "        # Perform the string replacement\n",
    "        df.iloc[:, 0] = df.iloc[:, 0].str.replace(r'### Human: (.*?)### Assistant:(.*)', r'<s>[INST] \\1 [/INST] \\2<s>', regex=True)\n",
    "\n",
    "        # Write to file, append -mistral\n",
    "        base = os.path.splitext(file)[0]\n",
    "        df.to_csv(f'{base}-mistral.csv', index=False, mode='w')"
   ]
  }
 ],
 "metadata": {
  "kernelspec": {
   "display_name": "Python 3",
   "language": "python",
   "name": "python3"
  },
  "language_info": {
   "codemirror_mode": {
    "name": "ipython",
    "version": 3
   },
   "file_extension": ".py",
   "mimetype": "text/x-python",
   "name": "python",
   "nbconvert_exporter": "python",
   "pygments_lexer": "ipython3",
   "version": "3.11.1"
  }
 },
 "nbformat": 4,
 "nbformat_minor": 2
}
