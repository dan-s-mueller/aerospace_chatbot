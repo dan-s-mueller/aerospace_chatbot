{
 "cells": [
  {
   "cell_type": "code",
   "execution_count": 1,
   "metadata": {},
   "outputs": [],
   "source": [
    "%load_ext autoreload\n",
    "%autoreload 2"
   ]
  },
  {
   "cell_type": "markdown",
   "metadata": {},
   "source": [
    "# Ragas evaluation\n",
    "Test batch and ragas capability.\n",
    "\n",
    "Uses this article as a model: https://towardsdatascience.com/visualize-your-rag-data-evaluate-your-retrieval-augmented-generation-system-with-ragas-fc2486308557\n",
    "\n",
    "Ragas repository: https://github.com/explodinggradients/ragas/tree/main"
   ]
  },
  {
   "cell_type": "code",
   "execution_count": 2,
   "metadata": {},
   "outputs": [
    {
     "data": {
      "text/plain": [
       "True"
      ]
     },
     "execution_count": 2,
     "metadata": {},
     "output_type": "execute_result"
    }
   ],
   "source": [
    "import os, sys\n",
    "import json\n",
    "from pathlib import Path\n",
    "import pickle\n",
    "\n",
    "from ragas.testset import TestsetGenerator\n",
    "from ragas import RunConfig\n",
    "from dotenv import load_dotenv,find_dotenv\n",
    "import chromadb\n",
    "from chromadb import PersistentClient\n",
    "from pinecone import Pinecone as pinecone_client, ServerlessSpec\n",
    "from langchain_pinecone import PineconeVectorStore\n",
    "from langchain_community.vectorstores import Chroma\n",
    "from langchain_openai import ChatOpenAI, OpenAIEmbeddings\n",
    "from langchain_voyageai import VoyageAIEmbeddings\n",
    "from langchain_community.embeddings import HuggingFaceInferenceAPIEmbeddings\n",
    "from langchain_core.documents import Document\n",
    "import pandas as pd\n",
    "import random\n",
    "\n",
    "from ragas import evaluate\n",
    "from ragas.metrics import answer_correctness\n",
    "from datasets import Dataset\n",
    "\n",
    "from renumics import spotlight\n",
    "from renumics.spotlight import Embedding\n",
    "import pandas as pd\n",
    "\n",
    "# from umap import UMAP\n",
    "# import numpy as np\n",
    "\n",
    "# Import local packages\n",
    "sys.path.append('../src/aerospace_chatbot')\n",
    "import queries\n",
    "import eval\n",
    "from data_processing import _stable_hash_meta, archive_db\n",
    "\n",
    "# Set environment variables with .env\n",
    "load_dotenv(find_dotenv(), override=True)"
   ]
  },
  {
   "cell_type": "markdown",
   "metadata": {},
   "source": [
    "# ChromaDB"
   ]
  },
  {
   "cell_type": "markdown",
   "metadata": {},
   "source": [
    "## Connect to database"
   ]
  },
  {
   "cell_type": "code",
   "execution_count": 3,
   "metadata": {},
   "outputs": [
    {
     "data": {
      "text/plain": [
       "[Collection(name=text-embedding-3-large-2merge-0),\n",
       " Collection(name=text-embedding-3-large-0merge-400),\n",
       " Collection(name=text-embedding-3-large-0merge-400-parent-child),\n",
       " Collection(name=text-embedding-3-large-2merge-0-queries),\n",
       " Collection(name=text-embedding-3-large-ams-none-400-queries)]"
      ]
     },
     "execution_count": 3,
     "metadata": {},
     "output_type": "execute_result"
    }
   ],
   "source": [
    "persistent_client = chromadb.PersistentClient(path=os.path.join(os.getenv('LOCAL_DB_PATH'),'chromadb'))   \n",
    "collections=persistent_client.list_collections()\n",
    "collections"
   ]
  },
  {
   "cell_type": "code",
   "execution_count": 4,
   "metadata": {},
   "outputs": [],
   "source": [
    "# Chroma _embedding_function isn't compatible like embedding objects. Index by embeddings used.\n",
    "query_models=[OpenAIEmbeddings(model='text-embedding-3-large',openai_api_key=os.getenv('OPENAI_API_KEY')),\n",
    "              OpenAIEmbeddings(model='text-embedding-3-large',openai_api_key=os.getenv('OPENAI_API_KEY')),\n",
    "              OpenAIEmbeddings(model='text-embedding-3-large',openai_api_key=os.getenv('OPENAI_API_KEY')),\n",
    "              OpenAIEmbeddings(model='text-embedding-3-large',openai_api_key=os.getenv('OPENAI_API_KEY')),\n",
    "              OpenAIEmbeddings(model='text-embedding-3-large',openai_api_key=os.getenv('OPENAI_API_KEY'))]"
   ]
  },
  {
   "cell_type": "markdown",
   "metadata": {},
   "source": [
    "## Export pickles"
   ]
  },
  {
   "cell_type": "code",
   "execution_count": 5,
   "metadata": {},
   "outputs": [],
   "source": [
    "# Export all collections to pickles to store them. Uncomment if desired, takes a while.\n",
    "export=False\n",
    "\n",
    "if export:\n",
    "    for collection in collections:\n",
    "        df_temp_chroma=archive_db('ChromaDB',collection.name,collection._embedding_function,export_pickle=True)\n",
    "\n",
    "    df_temp_chroma.head(5)"
   ]
  },
  {
   "cell_type": "markdown",
   "metadata": {},
   "source": [
    "## Create data for synthetic dataset"
   ]
  },
  {
   "cell_type": "code",
   "execution_count": 6,
   "metadata": {},
   "outputs": [],
   "source": [
    "# Select database for determining synthetic dataset\n",
    "idx=0\n",
    "\n",
    "docs_vectorstore=collections[idx]\n",
    "query_model=query_models[idx]"
   ]
  },
  {
   "cell_type": "code",
   "execution_count": 7,
   "metadata": {},
   "outputs": [
    {
     "name": "stdout",
     "output_type": "stream",
     "text": [
      "2222\n"
     ]
    }
   ],
   "source": [
    "# Inspect the first db, save for synthetic test dataset\n",
    "all_docs = docs_vectorstore.get(include=[\"metadatas\", \"documents\", \"embeddings\"])\n",
    "lcdocs_chroma = [Document(page_content=doc, metadata=metadata) \n",
    "          for doc, metadata in zip(all_docs['documents'], all_docs['metadatas'])]\n",
    "\n",
    "print(len(lcdocs_chroma))"
   ]
  },
  {
   "cell_type": "code",
   "execution_count": 8,
   "metadata": {},
   "outputs": [],
   "source": [
    "# Format docs into dataframe\n",
    "all_docs = docs_vectorstore.get(include=[\"metadatas\", \"documents\", \"embeddings\"])\n",
    "df_docs = pd.DataFrame(\n",
    "    {\n",
    "        \"id\": [_stable_hash_meta(metadata) for metadata in all_docs[\"metadatas\"]],\n",
    "        \"source\": [metadata.get(\"source\") for metadata in all_docs[\"metadatas\"]],\n",
    "        \"page\": [metadata.get(\"page\", -1) for metadata in all_docs[\"metadatas\"]],\n",
    "        \"document\": all_docs[\"documents\"],\n",
    "        \"embedding\": all_docs[\"embeddings\"],\n",
    "    }\n",
    ")"
   ]
  },
  {
   "cell_type": "markdown",
   "metadata": {},
   "source": [
    "## Generate synthetic dataset"
   ]
  },
  {
   "cell_type": "markdown",
   "metadata": {},
   "source": [
    "Good article on how models/embeddings are used in the `TestsetGenerator`: https://www.pondhouse-data.com/blog/evaluate-rag-performance-using-ragas"
   ]
  },
  {
   "cell_type": "markdown",
   "metadata": {},
   "source": [
    "Sometimes you'll get a tricky threading error. Fully close vs studio, open a new window, restart the kernel, and it'll clear. It also appears to be related to versions newer than 0.1.6 for ragas. I'll stick with that for now until I find ways to test an upgrade."
   ]
  },
  {
   "cell_type": "code",
   "execution_count": 9,
   "metadata": {},
   "outputs": [],
   "source": [
    "# Set generator inputs\n",
    "generator_model=\"gpt-3.5-turbo-0125\"\n",
    "synthetic_generator_llm = ChatOpenAI(model=generator_model, tags=[generator_model])\n",
    "\n",
    "\n",
    "critic_model='gpt-4o'\n",
    "synthetic_critic_llm = ChatOpenAI(model=critic_model,tags=[critic_model])\n",
    "\n",
    "# embedding_model='text-embedding-3-large'\n",
    "# synthetic_embeddings = OpenAIEmbeddings(model=embedding_model,api_key=os.getenv('OPENAI_API_KEY'))\n",
    "synthetic_embeddings=query_model\n",
    "\n",
    "# Run parameters for testset generation\n",
    "run_config=RunConfig(timeout=1000,\n",
    "                max_retries=50,\n",
    "                max_wait=1000,\n",
    "                max_workers=1)\n",
    "\n",
    "# Create generator\n",
    "generator = TestsetGenerator.from_langchain(\n",
    "    synthetic_generator_llm,\n",
    "    synthetic_critic_llm,\n",
    "    synthetic_embeddings,\n",
    "    run_config=run_config\n",
    ")"
   ]
  },
  {
   "cell_type": "code",
   "execution_count": 10,
   "metadata": {},
   "outputs": [],
   "source": [
    "# Input parameters\n",
    "eval_size=100    # Number of samples to evaluate at a time. Intended to circumvent OpenAI API rate limits.\n",
    "n_questions=10   # Number of questions to generate for each evaluation sample.\n",
    "fname=os.path.join('output',f\"testset_{docs_vectorstore.name}.csv\")\n",
    "lcdocs=lcdocs_chroma"
   ]
  },
  {
   "cell_type": "code",
   "execution_count": null,
   "metadata": {},
   "outputs": [],
   "source": [
    "df_testset=eval.generate_testset(lcdocs,generator,eval_size,n_questions,fname,run_config)"
   ]
  },
  {
   "cell_type": "code",
   "execution_count": 11,
   "metadata": {},
   "outputs": [],
   "source": [
    "import_csv=True\n",
    "if import_csv:\n",
    "    df_testset = pd.read_csv(fname)\n",
    "\n",
    "# temporarily reduce the quantity to evaluate the functionality\n",
    "df_testset=df_testset.head(10)"
   ]
  },
  {
   "cell_type": "markdown",
   "metadata": {},
   "source": [
    "## RAG questions/answers (batch mode)"
   ]
  },
  {
   "cell_type": "markdown",
   "metadata": {},
   "source": [
    "### Format dataset and database for RAG"
   ]
  },
  {
   "cell_type": "code",
   "execution_count": 12,
   "metadata": {},
   "outputs": [],
   "source": [
    "df_questions = df_testset[['question', 'ground_truth']].copy()\n",
    "df_questions['id'] = 'Question ' + df_questions.index.astype(str)\n",
    "df_questions['question_by'] = generator_model\n",
    "df_questions = df_questions[['id', 'question', 'ground_truth', 'question_by']]"
   ]
  },
  {
   "cell_type": "code",
   "execution_count": 13,
   "metadata": {},
   "outputs": [],
   "source": [
    "# Load the cached RAG answers and source_documents ids from a file - or create an empty column\n",
    "df_questions_answers = eval.add_cached_column_from_file(\n",
    "    df_questions, f\"rag_response_cache_{docs_vectorstore.name}.txt\", \"question\", \"answer\")\n",
    "\n",
    "df_questions_answers = eval.add_cached_column_from_file(\n",
    "    df_questions_answers, f\"rag_response_cache_{docs_vectorstore.name}.txt\", \"question\", \"source_documents\")"
   ]
  },
  {
   "cell_type": "markdown",
   "metadata": {},
   "source": [
    "### Use RAG to generate responses"
   ]
  },
  {
   "cell_type": "code",
   "execution_count": 14,
   "metadata": {},
   "outputs": [],
   "source": [
    "index_type='ChromaDB'\n",
    "index_name=docs_vectorstore.name\n",
    "query_model=synthetic_embeddings\n",
    "llm=synthetic_critic_llm\n",
    "\n",
    "QA_model_params={'rag_type':'Standard',\n",
    "                 'k':4,\n",
    "                 'search_type':'similarity',\n",
    "                 'local_db_path':os.getenv('LOCAL_DB_PATH')}\n"
   ]
  },
  {
   "cell_type": "code",
   "execution_count": 15,
   "metadata": {},
   "outputs": [
    {
     "name": "stdout",
     "output_type": "stream",
     "text": [
      "Processing question 1/10\n",
      "Processing question 2/10\n",
      "Processing question 3/10\n",
      "Processing question 4/10\n",
      "Processing question 5/10\n",
      "Processing question 6/10\n",
      "Processing question 7/10\n",
      "Processing question 8/10\n",
      "Processing question 9/10\n",
      "Processing question 10/10\n"
     ]
    }
   ],
   "source": [
    "# TODO add all of the parameters used to generate answers in the dataframe\n",
    "df_questions_answers=eval.rag_responses(index_type, index_name, query_model, llm, QA_model_params, df_questions_answers, df_docs)"
   ]
  },
  {
   "cell_type": "code",
   "execution_count": 16,
   "metadata": {},
   "outputs": [
    {
     "data": {
      "text/html": [
       "<div>\n",
       "<style scoped>\n",
       "    .dataframe tbody tr th:only-of-type {\n",
       "        vertical-align: middle;\n",
       "    }\n",
       "\n",
       "    .dataframe tbody tr th {\n",
       "        vertical-align: top;\n",
       "    }\n",
       "\n",
       "    .dataframe thead th {\n",
       "        text-align: right;\n",
       "    }\n",
       "</style>\n",
       "<table border=\"1\" class=\"dataframe\">\n",
       "  <thead>\n",
       "    <tr style=\"text-align: right;\">\n",
       "      <th></th>\n",
       "      <th>id</th>\n",
       "      <th>question</th>\n",
       "      <th>ground_truth</th>\n",
       "      <th>question_by</th>\n",
       "      <th>answer</th>\n",
       "      <th>source_documents</th>\n",
       "      <th>contexts</th>\n",
       "      <th>embedding</th>\n",
       "    </tr>\n",
       "  </thead>\n",
       "  <tbody>\n",
       "    <tr>\n",
       "      <th>0</th>\n",
       "      <td>Question 0</td>\n",
       "      <td>How much power does the four-element piezo mot...</td>\n",
       "      <td>The four-element piezo motor itself consumes a...</td>\n",
       "      <td>gpt-3.5-turbo-0125</td>\n",
       "      <td>The power consumption of the four-element piez...</td>\n",
       "      <td>099ec9c21af691b1133d034105a024e7148c71dd, b19f...</td>\n",
       "      <td>[ITI1S/117 ITT111117°a flight mechanism, addit...</td>\n",
       "      <td>[-0.009815779160309207, 0.006825634497646335, ...</td>\n",
       "    </tr>\n",
       "    <tr>\n",
       "      <th>1</th>\n",
       "      <td>Question 1</td>\n",
       "      <td>How did statistical analysis determine the num...</td>\n",
       "      <td>Statistical analysis determined that 2 scars o...</td>\n",
       "      <td>gpt-3.5-turbo-0125</td>\n",
       "      <td>The specific statistical method used to determ...</td>\n",
       "      <td>5845a4c11b7f34dd976c86e7c374d86d0e31b34b, 05c3...</td>\n",
       "      <td>[A Study on the Effects of Ball Defects on the...</td>\n",
       "      <td>[0.02447172302812749, -0.03881108837734852, -0...</td>\n",
       "    </tr>\n",
       "    <tr>\n",
       "      <th>2</th>\n",
       "      <td>Question 2</td>\n",
       "      <td>How is the stress field in the Si3N4 ball and ...</td>\n",
       "      <td>The stress field in the Si3N4 ball and raceway...</td>\n",
       "      <td>gpt-3.5-turbo-0125</td>\n",
       "      <td>The presence of a ball scar within the contact...</td>\n",
       "      <td>0a22815cea1effbf06b31313a9a816dc0c2bf2b7, 05c3...</td>\n",
       "      <td>[Figure 5. Micron element size FEM (left) and ...</td>\n",
       "      <td>[0.03700122098490776, -0.012941841482224214, -...</td>\n",
       "    </tr>\n",
       "    <tr>\n",
       "      <th>3</th>\n",
       "      <td>Question 3</td>\n",
       "      <td>How important is testing in ensuring the relia...</td>\n",
       "      <td>Testing is crucial in ensuring the reliability...</td>\n",
       "      <td>gpt-3.5-turbo-0125</td>\n",
       "      <td>### How Testing Contributes to the Reliability...</td>\n",
       "      <td>08865a28dee2dd08c9bf3de207520646e0314af7, 8eee...</td>\n",
       "      <td>[component  failure, requires  the understandi...</td>\n",
       "      <td>[-0.0055112459916348755, 0.01983761914535086, ...</td>\n",
       "    </tr>\n",
       "    <tr>\n",
       "      <th>4</th>\n",
       "      <td>Question 4</td>\n",
       "      <td>How does the wear rate vary when different coa...</td>\n",
       "      <td>The lowest wear rate was obtained with the CSE...</td>\n",
       "      <td>gpt-3.5-turbo-0125</td>\n",
       "      <td>The types of coatings found to significantly a...</td>\n",
       "      <td>00b8df52420abd80582ac5508f51154b4faf12ff, 4a1d...</td>\n",
       "      <td>[Block on Ring Friction  Coefficient The avera...</td>\n",
       "      <td>[-0.003935487775594324, -0.03574427439627591, ...</td>\n",
       "    </tr>\n",
       "    <tr>\n",
       "      <th>5</th>\n",
       "      <td>Question 5</td>\n",
       "      <td>How did the ball-on-ball apparatus help create...</td>\n",
       "      <td>The ball-on-ball apparatus helped create artif...</td>\n",
       "      <td>gpt-3.5-turbo-0125</td>\n",
       "      <td>The ball-on-ball apparatus was used to create ...</td>\n",
       "      <td>05c38a1ac579c4b37cc07249f581c9ebd9d82dae, 5c2e...</td>\n",
       "      <td>[15kVU , S68 SBbm Br 3 Balltresponsible for it...</td>\n",
       "      <td>[0.01197364974896236, -0.015068469939456788, -...</td>\n",
       "    </tr>\n",
       "    <tr>\n",
       "      <th>6</th>\n",
       "      <td>Question 6</td>\n",
       "      <td>What apparatus is used to create artificial sc...</td>\n",
       "      <td>The apparatus used to create artificial scars ...</td>\n",
       "      <td>gpt-3.5-turbo-0125</td>\n",
       "      <td>The apparatus designed to create artificial sc...</td>\n",
       "      <td>05c38a1ac579c4b37cc07249f581c9ebd9d82dae, 5c2e...</td>\n",
       "      <td>[15kVU , S68 SBbm Br 3 Balltresponsible for it...</td>\n",
       "      <td>[-0.0004984276446224549, -0.02846046075657779,...</td>\n",
       "    </tr>\n",
       "    <tr>\n",
       "      <th>7</th>\n",
       "      <td>Question 7</td>\n",
       "      <td>How does the rail system design affect the pow...</td>\n",
       "      <td>The rail system design does not directly affec...</td>\n",
       "      <td>gpt-3.5-turbo-0125</td>\n",
       "      <td>The rail system design has a significant impac...</td>\n",
       "      <td>099ec9c21af691b1133d034105a024e7148c71dd, 2ef0...</td>\n",
       "      <td>[ITI1S/117 ITT111117°a flight mechanism, addit...</td>\n",
       "      <td>[-0.01693620432043042, 0.022915279992765804, -...</td>\n",
       "    </tr>\n",
       "    <tr>\n",
       "      <th>8</th>\n",
       "      <td>Question 8</td>\n",
       "      <td>How were artificial scars induced on Si 3N4 ba...</td>\n",
       "      <td>Artificial scars were induced on Si 3N4 balls ...</td>\n",
       "      <td>gpt-3.5-turbo-0125</td>\n",
       "      <td>### Methods for Inducing Artificial Scars on S...</td>\n",
       "      <td>0a22815cea1effbf06b31313a9a816dc0c2bf2b7, 05c3...</td>\n",
       "      <td>[Figure 5. Micron element size FEM (left) and ...</td>\n",
       "      <td>[0.018049016853648507, -0.003485609827243578, ...</td>\n",
       "    </tr>\n",
       "    <tr>\n",
       "      <th>9</th>\n",
       "      <td>Question 9</td>\n",
       "      <td>What design changes were made to the launch la...</td>\n",
       "      <td>Design changes were made to address material a...</td>\n",
       "      <td>gpt-3.5-turbo-0125</td>\n",
       "      <td>### Changes to the Launch Latch Mechanism\\n\\n#...</td>\n",
       "      <td>08837cf1bdb7c984624981368696dcbcbaf38f02, 7f97...</td>\n",
       "      <td>[Development and Testing \\n\\nDevelopment test ...</td>\n",
       "      <td>[0.0036130547195561877, 0.0001756986150636199,...</td>\n",
       "    </tr>\n",
       "  </tbody>\n",
       "</table>\n",
       "</div>"
      ],
      "text/plain": [
       "           id                                           question  \\\n",
       "0  Question 0  How much power does the four-element piezo mot...   \n",
       "1  Question 1  How did statistical analysis determine the num...   \n",
       "2  Question 2  How is the stress field in the Si3N4 ball and ...   \n",
       "3  Question 3  How important is testing in ensuring the relia...   \n",
       "4  Question 4  How does the wear rate vary when different coa...   \n",
       "5  Question 5  How did the ball-on-ball apparatus help create...   \n",
       "6  Question 6  What apparatus is used to create artificial sc...   \n",
       "7  Question 7  How does the rail system design affect the pow...   \n",
       "8  Question 8  How were artificial scars induced on Si 3N4 ba...   \n",
       "9  Question 9  What design changes were made to the launch la...   \n",
       "\n",
       "                                        ground_truth         question_by  \\\n",
       "0  The four-element piezo motor itself consumes a...  gpt-3.5-turbo-0125   \n",
       "1  Statistical analysis determined that 2 scars o...  gpt-3.5-turbo-0125   \n",
       "2  The stress field in the Si3N4 ball and raceway...  gpt-3.5-turbo-0125   \n",
       "3  Testing is crucial in ensuring the reliability...  gpt-3.5-turbo-0125   \n",
       "4  The lowest wear rate was obtained with the CSE...  gpt-3.5-turbo-0125   \n",
       "5  The ball-on-ball apparatus helped create artif...  gpt-3.5-turbo-0125   \n",
       "6  The apparatus used to create artificial scars ...  gpt-3.5-turbo-0125   \n",
       "7  The rail system design does not directly affec...  gpt-3.5-turbo-0125   \n",
       "8  Artificial scars were induced on Si 3N4 balls ...  gpt-3.5-turbo-0125   \n",
       "9  Design changes were made to address material a...  gpt-3.5-turbo-0125   \n",
       "\n",
       "                                              answer  \\\n",
       "0  The power consumption of the four-element piez...   \n",
       "1  The specific statistical method used to determ...   \n",
       "2  The presence of a ball scar within the contact...   \n",
       "3  ### How Testing Contributes to the Reliability...   \n",
       "4  The types of coatings found to significantly a...   \n",
       "5  The ball-on-ball apparatus was used to create ...   \n",
       "6  The apparatus designed to create artificial sc...   \n",
       "7  The rail system design has a significant impac...   \n",
       "8  ### Methods for Inducing Artificial Scars on S...   \n",
       "9  ### Changes to the Launch Latch Mechanism\\n\\n#...   \n",
       "\n",
       "                                    source_documents  \\\n",
       "0  099ec9c21af691b1133d034105a024e7148c71dd, b19f...   \n",
       "1  5845a4c11b7f34dd976c86e7c374d86d0e31b34b, 05c3...   \n",
       "2  0a22815cea1effbf06b31313a9a816dc0c2bf2b7, 05c3...   \n",
       "3  08865a28dee2dd08c9bf3de207520646e0314af7, 8eee...   \n",
       "4  00b8df52420abd80582ac5508f51154b4faf12ff, 4a1d...   \n",
       "5  05c38a1ac579c4b37cc07249f581c9ebd9d82dae, 5c2e...   \n",
       "6  05c38a1ac579c4b37cc07249f581c9ebd9d82dae, 5c2e...   \n",
       "7  099ec9c21af691b1133d034105a024e7148c71dd, 2ef0...   \n",
       "8  0a22815cea1effbf06b31313a9a816dc0c2bf2b7, 05c3...   \n",
       "9  08837cf1bdb7c984624981368696dcbcbaf38f02, 7f97...   \n",
       "\n",
       "                                            contexts  \\\n",
       "0  [ITI1S/117 ITT111117°a flight mechanism, addit...   \n",
       "1  [A Study on the Effects of Ball Defects on the...   \n",
       "2  [Figure 5. Micron element size FEM (left) and ...   \n",
       "3  [component  failure, requires  the understandi...   \n",
       "4  [Block on Ring Friction  Coefficient The avera...   \n",
       "5  [15kVU , S68 SBbm Br 3 Balltresponsible for it...   \n",
       "6  [15kVU , S68 SBbm Br 3 Balltresponsible for it...   \n",
       "7  [ITI1S/117 ITT111117°a flight mechanism, addit...   \n",
       "8  [Figure 5. Micron element size FEM (left) and ...   \n",
       "9  [Development and Testing \\n\\nDevelopment test ...   \n",
       "\n",
       "                                           embedding  \n",
       "0  [-0.009815779160309207, 0.006825634497646335, ...  \n",
       "1  [0.02447172302812749, -0.03881108837734852, -0...  \n",
       "2  [0.03700122098490776, -0.012941841482224214, -...  \n",
       "3  [-0.0055112459916348755, 0.01983761914535086, ...  \n",
       "4  [-0.003935487775594324, -0.03574427439627591, ...  \n",
       "5  [0.01197364974896236, -0.015068469939456788, -...  \n",
       "6  [-0.0004984276446224549, -0.02846046075657779,...  \n",
       "7  [-0.01693620432043042, 0.022915279992765804, -...  \n",
       "8  [0.018049016853648507, -0.003485609827243578, ...  \n",
       "9  [0.0036130547195561877, 0.0001756986150636199,...  "
      ]
     },
     "execution_count": 16,
     "metadata": {},
     "output_type": "execute_result"
    }
   ],
   "source": [
    "df_questions_answers"
   ]
  },
  {
   "cell_type": "markdown",
   "metadata": {},
   "source": [
    "## Ragas eval, visualize"
   ]
  },
  {
   "cell_type": "code",
   "execution_count": null,
   "metadata": {},
   "outputs": [],
   "source": [
    "# Evaluate\n",
    "df_questions_answers = eval.eval_rag(index_name, df_questions_answers)"
   ]
  },
  {
   "cell_type": "code",
   "execution_count": null,
   "metadata": {},
   "outputs": [],
   "source": [
    "df_questions_answers"
   ]
  },
  {
   "cell_type": "code",
   "execution_count": null,
   "metadata": {},
   "outputs": [],
   "source": [
    "# Link from documents to questions, that used the document as source. Add UMAP column for visualization purposes.\n",
    "df_visualize=eval.data_viz_prep(index_name,df_qa_eval,df_docs)"
   ]
  },
  {
   "cell_type": "code",
   "execution_count": null,
   "metadata": {},
   "outputs": [],
   "source": [
    "# concat the df containing the questions and the df containing the documents\n",
    "df = pd.read_parquet(f'df_{index_name}.parquet')\n",
    "\n",
    "# show the dataframe with the question and answer in spotlight\n",
    "spotlight.show(\n",
    "    df,\n",
    "    layout=\"https://spotlightpublic.blob.core.windows.net/docs-data/rag_demo/layout_rag_3.json\",\n",
    "    dtype={x: Embedding for x in df.keys() if \"umap\" in x},\n",
    ")\n",
    "\n",
    "##  UMAP visualization froms cluster of the questions, workaround: UMAP only on documents"
   ]
  },
  {
   "cell_type": "markdown",
   "metadata": {},
   "source": [
    "# Pinecone"
   ]
  },
  {
   "cell_type": "markdown",
   "metadata": {},
   "source": [
    "## Connect to database"
   ]
  },
  {
   "cell_type": "code",
   "execution_count": null,
   "metadata": {},
   "outputs": [],
   "source": [
    "pinecone_client = pinecone_client(api_key=os.getenv('PINECONE_API_KEY'))\n",
    "indexes=pinecone_client.list_indexes()\n",
    "indexes"
   ]
  },
  {
   "cell_type": "code",
   "execution_count": null,
   "metadata": {},
   "outputs": [],
   "source": [
    "dbs=[{'index_name':'voyage-large-2-instruct-2merge-0',\n",
    "     'query_model': VoyageAIEmbeddings(model='voyage-large-2-instruct', \n",
    "                                       voyage_api_key=os.getenv('VOYAGE_API_KEY'), truncation=False)},\n",
    "     {'index_name':'voyage-large-2-instruct-0merge-400',\n",
    "     'query_model': VoyageAIEmbeddings(model='voyage-large-2-instruct', \n",
    "                                       voyage_api_key=os.getenv('VOYAGE_API_KEY'), truncation=False)}]"
   ]
  },
  {
   "cell_type": "code",
   "execution_count": null,
   "metadata": {},
   "outputs": [],
   "source": [
    "# Inspect the first db, save for synthetic test dataset\n",
    "db=dbs[0]\n",
    "index = pinecone_client.Index(db['index_name'])\n",
    "ids=[]\n",
    "for id in index.list():\n",
    "    ids.extend(id)\n",
    "\n",
    "docs=[]\n",
    "chunk_size=200  # Tune to whatever doesn't error out, 200 won't for serverless\n",
    "for i in range(0, len(ids), chunk_size):\n",
    "    print(f\"Fetching {i} to {i+chunk_size}\")\n",
    "    vector=index.fetch(ids[i:i+chunk_size])['vectors']\n",
    "    vector_data = []\n",
    "    for key, value in vector.items():\n",
    "        vector_data.append(value)\n",
    "    docs.extend(vector_data)\n",
    "\n",
    "lcdocs_pinecone = []\n",
    "for data in docs:\n",
    "    data=data['metadata']\n",
    "    lcdocs_pinecone.append(Document(page_content=data['page_content'],\n",
    "                           metadata={'page':data['page'],'source':data['source']}))\n",
    "    \n",
    "print(len(lcdocs_pinecone))"
   ]
  },
  {
   "cell_type": "code",
   "execution_count": null,
   "metadata": {},
   "outputs": [],
   "source": [
    "# Export all collections to pickles to store them\n",
    "for db in dbs:\n",
    "    df_temp_pinecone=archive_db('Pinecone',db['index_name'],db['query_model'],export_pickle=True)"
   ]
  },
  {
   "cell_type": "code",
   "execution_count": null,
   "metadata": {},
   "outputs": [],
   "source": []
  }
 ],
 "metadata": {
  "kernelspec": {
   "display_name": "Python 3",
   "language": "python",
   "name": "python3"
  },
  "language_info": {
   "codemirror_mode": {
    "name": "ipython",
    "version": 3
   },
   "file_extension": ".py",
   "mimetype": "text/x-python",
   "name": "python",
   "nbconvert_exporter": "python",
   "pygments_lexer": "ipython3",
   "version": "3.11.1"
  },
  "orig_nbformat": 4
 },
 "nbformat": 4,
 "nbformat_minor": 2
}
