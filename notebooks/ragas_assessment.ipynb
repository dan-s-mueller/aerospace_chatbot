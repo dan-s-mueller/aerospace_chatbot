{
 "cells": [
  {
   "cell_type": "code",
   "execution_count": 1,
   "metadata": {},
   "outputs": [],
   "source": [
    "%load_ext autoreload\n",
    "%autoreload 2"
   ]
  },
  {
   "cell_type": "markdown",
   "metadata": {},
   "source": [
    "# Ragas evaluation\n",
    "Test batch and ragas capability.\n",
    "\n",
    "Uses this article as a model: https://towardsdatascience.com/visualize-your-rag-data-evaluate-your-retrieval-augmented-generation-system-with-ragas-fc2486308557\n",
    "\n",
    "Ragas repository: https://github.com/explodinggradients/ragas/tree/main"
   ]
  },
  {
   "cell_type": "code",
   "execution_count": 2,
   "metadata": {},
   "outputs": [
    {
     "name": "stderr",
     "output_type": "stream",
     "text": [
      "[nltk_data] Downloading package punkt_tab to /Users/danmueller/Documen\n",
      "[nltk_data]     ts/GitHub/aerospace_chatbot/.venv/lib/python3.11/site-\n",
      "[nltk_data]     packages/llama_index/core/_static/nltk_cache...\n",
      "[nltk_data]   Package punkt_tab is already up-to-date!\n",
      "\u001b[32m2024-09-22 19:34:10.666\u001b[0m | \u001b[33m\u001b[1mWARNING \u001b[0m | \u001b[36mrenumics.spotlight.analysis.analyzers.cleanvision\u001b[0m:\u001b[36m<module>\u001b[0m:\u001b[36m24\u001b[0m - \u001b[33m\u001b[1mCleanvision analyzer requires `cleanvision` to be installed.\u001b[0m\n"
     ]
    },
    {
     "data": {
      "text/plain": [
       "True"
      ]
     },
     "execution_count": 2,
     "metadata": {},
     "output_type": "execute_result"
    }
   ],
   "source": [
    "import os, sys\n",
    "import json\n",
    "from pathlib import Path\n",
    "import pickle\n",
    "\n",
    "from ragas.testset import TestsetGenerator\n",
    "from ragas import RunConfig\n",
    "from dotenv import load_dotenv,find_dotenv\n",
    "import chromadb\n",
    "from chromadb import PersistentClient\n",
    "from pinecone import Pinecone as pinecone_client, ServerlessSpec\n",
    "from ragatouille import RAGPretrainedModel\n",
    "\n",
    "from langchain_pinecone import PineconeVectorStore\n",
    "# from langchain_community.vectorstores import Chroma\n",
    "from langchain_chroma import Chroma\n",
    "from langchain_openai import ChatOpenAI, OpenAIEmbeddings\n",
    "from langchain_voyageai import VoyageAIEmbeddings\n",
    "from langchain_community.embeddings import HuggingFaceInferenceAPIEmbeddings\n",
    "from langchain_core.documents import Document\n",
    "import pandas as pd\n",
    "\n",
    "from ragas import evaluate\n",
    "from ragas.metrics import answer_correctness, faithfulness, context_recall\n",
    "from datasets import Dataset\n",
    "\n",
    "from renumics import spotlight\n",
    "from renumics.spotlight import Embedding\n",
    "import pandas as pd\n",
    "\n",
    "# from umap import UMAP\n",
    "# import numpy as np\n",
    "\n",
    "# Import local packages\n",
    "sys.path.append('../src/aerospace_chatbot')\n",
    "import eval\n",
    "import admin\n",
    "import data_processing\n",
    "import queries\n",
    "\n",
    "# Set environment variables with .env\n",
    "load_dotenv(find_dotenv(), override=True)"
   ]
  },
  {
   "cell_type": "code",
   "execution_count": 3,
   "metadata": {},
   "outputs": [],
   "source": [
    "# Set secrets\n",
    "secrets={}\n",
    "sb={}\n",
    "\n",
    "secrets['OPENAI_API_KEY'] = os.getenv('OPENAI_API_KEY')\n",
    "secrets['VOYAGE_API_KEY'] = os.getenv('VOYAGE_API_KEY')\n",
    "secrets['PINECONE_API_KEY'] = os.getenv('PINECONE_API_KEY')\n",
    "secrets['HUGGINGFACEHUB_API_TOKEN'] = os.getenv('HUGGINGFACEHUB_API_TOKEN')"
   ]
  },
  {
   "cell_type": "markdown",
   "metadata": {},
   "source": [
    "# Create test (synthetic) dataset, generate docs"
   ]
  },
  {
   "cell_type": "markdown",
   "metadata": {},
   "source": [
    "## Connect to database"
   ]
  },
  {
   "cell_type": "markdown",
   "metadata": {},
   "source": [
    "### ChromaDB"
   ]
  },
  {
   "cell_type": "markdown",
   "metadata": {},
   "source": [
    "Use chroma with standard RAG to generate synthetic dataset"
   ]
  },
  {
   "cell_type": "code",
   "execution_count": 4,
   "metadata": {},
   "outputs": [
    {
     "data": {
      "text/plain": [
       "[Collection(name=text-embedding-3-small-2merge-0),\n",
       " Collection(name=text-embedding-3-large-2merge-0-parent-child-queries),\n",
       " Collection(name=text-embedding-3-large-2merge-0),\n",
       " Collection(name=text-embedding-3-large-0merge-400),\n",
       " Collection(name=text-embedding-3-small-2merge-0-queries),\n",
       " Collection(name=text-embedding-3-large-2merge-0-parent-child),\n",
       " Collection(name=text-embedding-3-large-2merge-0-queries)]"
      ]
     },
     "execution_count": 4,
     "metadata": {},
     "output_type": "execute_result"
    }
   ],
   "source": [
    "persistent_client = chromadb.PersistentClient(path=os.path.join(os.getenv('LOCAL_DB_PATH'),'chromadb'))   \n",
    "collections=persistent_client.list_collections()\n",
    "collections"
   ]
  },
  {
   "cell_type": "code",
   "execution_count": 5,
   "metadata": {},
   "outputs": [],
   "source": [
    "# Chroma _embedding_function isn't compatible like embedding objects. Index by embeddings used.\n",
    "query_models=[OpenAIEmbeddings(model='text-embedding-3-small',openai_api_key=os.getenv('OPENAI_API_KEY')),\n",
    "              OpenAIEmbeddings(model='text-embedding-3-large',openai_api_key=os.getenv('OPENAI_API_KEY')),\n",
    "              OpenAIEmbeddings(model='text-embedding-3-large',openai_api_key=os.getenv('OPENAI_API_KEY'))]"
   ]
  },
  {
   "cell_type": "markdown",
   "metadata": {},
   "source": [
    "### Pinecone\n",
    "\n"
   ]
  },
  {
   "cell_type": "code",
   "execution_count": null,
   "metadata": {},
   "outputs": [],
   "source": [
    "pinecone_client = pinecone_client(api_key=os.getenv('PINECONE_API_KEY'))\n",
    "indexes=pinecone_client.list_indexes()\n",
    "indexes"
   ]
  },
  {
   "cell_type": "code",
   "execution_count": null,
   "metadata": {},
   "outputs": [],
   "source": [
    "query_models=[VoyageAIEmbeddings(model='voyage-large-2-instruct', \n",
    "                                 voyage_api_key=os.getenv('VOYAGE_API_KEY'), truncation=False),\n",
    "              VoyageAIEmbeddings(model='voyage-large-2-instruct', \n",
    "                                 voyage_api_key=os.getenv('VOYAGE_API_KEY'), truncation=False)]"
   ]
  },
  {
   "cell_type": "markdown",
   "metadata": {},
   "source": [
    "### RAGatouille\n",
    "\n"
   ]
  },
  {
   "cell_type": "code",
   "execution_count": null,
   "metadata": {},
   "outputs": [],
   "source": [
    "# indexes=admin.show_ragatouille_indexes(format=False)\n",
    "# indexes"
   ]
  },
  {
   "cell_type": "code",
   "execution_count": null,
   "metadata": {},
   "outputs": [],
   "source": [
    "# dbs=['colbert-ir/colbertv2.0']"
   ]
  },
  {
   "cell_type": "code",
   "execution_count": null,
   "metadata": {},
   "outputs": [],
   "source": [
    "# idx=0\n",
    "# db=dbs[idx]\n",
    "\n",
    "# # TODO get this as a langchain retriever, pull docs\n",
    "# query_model = RAGPretrainedModel.from_pretrained(db,index_root=os.path.join(os.getenv('LOCAL_DB_PATH'),'.ragatouille'))\n",
    "# docs_vectorstore=data_processing.initialize_database('RAGatouille',\n",
    "#                                                      'colbert-ir-colbertv2.0-2merge-0',\n",
    "#                                                      query_model,\n",
    "#                                                      'Standard',\n",
    "#                                                      os.getenv('LOCAL_DB_PATH'),\n",
    "#                                                      init_ragatouille=False,\n",
    "#                                                      clear=False)"
   ]
  },
  {
   "cell_type": "code",
   "execution_count": null,
   "metadata": {},
   "outputs": [],
   "source": [
    "# docs=docs_vectorstore.model.collection  # Document chunks (chunked smaller according to token size)\n",
    "# print(docs[0])\n",
    "# print(len(docs))\n",
    "\n",
    "# metadata=docs_vectorstore.model.docid_metadata_map  # Document metadata for original documents\n",
    "# print(len(metadata))\n",
    "\n",
    "# map=docs_vectorstore.model.pid_docid_map    # Map of document chunks to original document\n",
    "# print(len(map))"
   ]
  },
  {
   "cell_type": "markdown",
   "metadata": {},
   "source": [
    "Can't quite figure out functionality to export the encodings from RAGatouille for each document. Won't pursue unless RAGatouille has exceptional performance."
   ]
  },
  {
   "cell_type": "markdown",
   "metadata": {},
   "source": [
    "### Generate Docs"
   ]
  },
  {
   "cell_type": "code",
   "execution_count": 7,
   "metadata": {},
   "outputs": [],
   "source": [
    "index_type=\"ChromaDB\"\n",
    "# index_type=\"Pinecone\"\n",
    "\n",
    "# Select database for generating docs\n",
    "if index_type==\"ChromaDB\":\n",
    "    idx_chroma=2   # Most reasonable baseline (text-embedding-3-large-2merge-0), top of the line embeddings, 2 page size good to genreate questions from.\n",
    "    docs_vectorstore=collections[idx_chroma]\n",
    "    query_model=query_models[idx_chroma]  \n",
    "elif index_type==\"Pinecone\":\n",
    "    idx_pinecone=0\n",
    "    docs_vectorstore=indexes[idx_pinecone]\n",
    "    query_model=query_models[idx_pinecone]\n"
   ]
  },
  {
   "cell_type": "code",
   "execution_count": 9,
   "metadata": {},
   "outputs": [
    {
     "name": "stdout",
     "output_type": "stream",
     "text": [
      "2222\n"
     ]
    }
   ],
   "source": [
    "df_docs, lcdocs = eval.lcdoc_export(index_type,docs_vectorstore,query_model,export_pickle=False)\n",
    "print(len(lcdocs))"
   ]
  },
  {
   "cell_type": "markdown",
   "metadata": {},
   "source": [
    "## Generate dataset"
   ]
  },
  {
   "cell_type": "markdown",
   "metadata": {},
   "source": [
    "Good article on how models/embeddings are used in the `TestsetGenerator`: https://www.pondhouse-data.com/blog/evaluate-rag-performance-using-ragas"
   ]
  },
  {
   "cell_type": "markdown",
   "metadata": {},
   "source": [
    "Sometimes you'll get a tricky threading error. Fully close vs studio, open a new window, restart the kernel, and it'll clear. It also appears to be related to versions newer than 0.1.6 for ragas. I'll stick with that for now until I find ways to test an upgrade."
   ]
  },
  {
   "cell_type": "code",
   "execution_count": null,
   "metadata": {},
   "outputs": [],
   "source": [
    "# Set generator inputs\n",
    "generator_model=\"gpt-4o-mini\"\n",
    "synthetic_generator_llm = ChatOpenAI(model=generator_model, tags=[generator_model])\n",
    "\n",
    "critic_model='gpt-4o'\n",
    "synthetic_critic_llm = ChatOpenAI(model=critic_model,tags=[critic_model])\n",
    "\n",
    "# embedding_model='text-embedding-3-large'\n",
    "# synthetic_embeddings = OpenAIEmbeddings(model=embedding_model,api_key=os.getenv('OPENAI_API_KEY'))\n",
    "synthetic_embeddings=query_model\n",
    "\n",
    "# Run parameters for testset generation\n",
    "run_config=RunConfig(timeout=1000,\n",
    "                max_retries=50,\n",
    "                max_wait=1000,\n",
    "                max_workers=1)\n",
    "\n",
    "# Create generator\n",
    "generator = TestsetGenerator.from_langchain(\n",
    "    synthetic_generator_llm,\n",
    "    synthetic_critic_llm,\n",
    "    synthetic_embeddings,\n",
    "    run_config=run_config\n",
    ")"
   ]
  },
  {
   "cell_type": "code",
   "execution_count": null,
   "metadata": {},
   "outputs": [],
   "source": [
    "# Input parameters\n",
    "# eval_size=100    # Number of samples to evaluate at a time. Intended to circumvent OpenAI API rate limits.\n",
    "eval_size=len(lcdocs)\n",
    "n_questions=30   # Number of questions to generate for each evaluation sample.\n",
    "fname=os.path.join('output',f\"testset_{docs_vectorstore.name}_full.csv\")"
   ]
  },
  {
   "cell_type": "code",
   "execution_count": null,
   "metadata": {},
   "outputs": [],
   "source": [
    "df_testset=eval.generat7e_testset(lcdocs,generator,eval_size,n_questions,fname,run_config)"
   ]
  },
  {
   "cell_type": "markdown",
   "metadata": {},
   "source": [
    "# RAG Evaluation"
   ]
  },
  {
   "cell_type": "markdown",
   "metadata": {},
   "source": [
    "This section will use the same base data as the synthetic test dataset but apply different RAG strategies:\n",
    "* Different chunk sizes\n",
    "* Embedding models\n",
    "* LLMs\n",
    "* Advanced RAG (parent-child, RAGatouille)\n",
    "\n",
    "The database may not be the same as the synthetic test dataset but uses the same base data."
   ]
  },
  {
   "cell_type": "markdown",
   "metadata": {},
   "source": [
    "## Format dataset and database for RAG"
   ]
  },
  {
   "cell_type": "code",
   "execution_count": 8,
   "metadata": {},
   "outputs": [],
   "source": [
    "# Read in test dataset. Skip this if you have generated it above.\n",
    "\n",
    "# testset_name=docs_vectorstore.name    # Uncomment if you want to use the most recent testset\n",
    "testset_name='text-embedding-3-small-2merge-0_full'\n",
    "fname=os.path.join('output',f\"testset_{testset_name}.csv\")\n",
    "\n",
    "import_csv=True\n",
    "if import_csv:\n",
    "    df_testset = pd.read_csv(fname)\n",
    "\n",
    "# In case there was missing truth, drop the question\n",
    "df_testset = df_testset.dropna(subset=['ground_truth'])\n",
    "\n",
    "# temporarily reduce the quantity to evaluate the functionality\n",
    "# df_testset=df_testset.head(2)\n",
    "\n",
    "# Create template dataframe to iterate over later\n",
    "df_qa_template = df_testset[['question', 'ground_truth']].copy()\n",
    "df_qa_template['question_id'] = df_qa_template.index\n",
    "df_qa_template = df_qa_template[['question_id', 'question', 'ground_truth']]\n",
    "# for column in [\"answer\", \"source_documents\", \"answer_by\", \"query_model\"]:\n",
    "#     df_qa_template[column] = None"
   ]
  },
  {
   "cell_type": "markdown",
   "metadata": {},
   "source": [
    "From here, you have a blank dataframe to generate questions for an evaluate. For each model and database in setup_data below, this template dataframe will be what is evaluated with RAG responses/RAGAS criteria."
   ]
  },
  {
   "cell_type": "markdown",
   "metadata": {},
   "source": [
    "## Use RAG to generate responses, evaluate"
   ]
  },
  {
   "cell_type": "code",
   "execution_count": 9,
   "metadata": {},
   "outputs": [],
   "source": [
    "# Read setup data, determining the evaluation models and databases\n",
    "json_file_path = \"eval_models.json\"\n",
    "with open(json_file_path, \"r\") as json_file:\n",
    "    setup_data = json.load(json_file)"
   ]
  },
  {
   "cell_type": "code",
   "execution_count": 10,
   "metadata": {},
   "outputs": [
    {
     "data": {
      "text/plain": [
       "{'eval_models': [{'index_type': 'ChromaDB',\n",
       "   'index_name': 'text-embedding-3-large-2merge-0',\n",
       "   'query_model': {'query_model': 'OpenAI',\n",
       "    'embedding_name': 'text-embedding-3-large'},\n",
       "   'llm': {'llm_source': 'OpenAI',\n",
       "    'llm_model': 'gpt-4o',\n",
       "    'model_options': {'temperature': 0.2, 'output_level': 1000}},\n",
       "   'qa_model_params': {'rag_type': 'Standard',\n",
       "    'k': 4,\n",
       "    'search_type': 'similarity',\n",
       "    'local_db_path': '/Users/danmueller/Documents/GitHub/aerospace_chatbot/db'}},\n",
       "  {'index_type': 'ChromaDB',\n",
       "   'index_name': 'text-embedding-3-small-2merge-0',\n",
       "   'query_model': {'query_model': 'OpenAI',\n",
       "    'embedding_name': 'text-embedding-3-small'},\n",
       "   'llm': {'llm_source': 'OpenAI',\n",
       "    'llm_model': 'gpt-4o',\n",
       "    'model_options': {'temperature': 0.2, 'output_level': 1000}},\n",
       "   'qa_model_params': {'rag_type': 'Standard',\n",
       "    'k': 4,\n",
       "    'search_type': 'similarity',\n",
       "    'local_db_path': '/Users/danmueller/Documents/GitHub/aerospace_chatbot/db'}},\n",
       "  {'index_type': 'ChromaDB',\n",
       "   'index_name': 'text-embedding-3-large-2merge-0',\n",
       "   'query_model': {'query_model': 'OpenAI',\n",
       "    'embedding_name': 'text-embedding-3-large'},\n",
       "   'llm': {'llm_source': 'OpenAI',\n",
       "    'llm_model': 'gpt-4',\n",
       "    'model_options': {'temperature': 0.2, 'output_level': 1000}},\n",
       "   'qa_model_params': {'rag_type': 'Standard',\n",
       "    'k': 4,\n",
       "    'search_type': 'similarity',\n",
       "    'local_db_path': '/Users/danmueller/Documents/GitHub/aerospace_chatbot/db'}},\n",
       "  {'index_type': 'ChromaDB',\n",
       "   'index_name': 'text-embedding-3-large-2merge-0-parent-child',\n",
       "   'query_model': {'query_model': 'OpenAI',\n",
       "    'embedding_name': 'text-embedding-3-large'},\n",
       "   'llm': {'llm_source': 'OpenAI',\n",
       "    'llm_model': 'gpt-4o',\n",
       "    'model_options': {'temperature': 0.2, 'output_level': 1000}},\n",
       "   'qa_model_params': {'rag_type': 'Parent-Child',\n",
       "    'k': 4,\n",
       "    'search_type': 'similarity',\n",
       "    'local_db_path': '/Users/danmueller/Documents/GitHub/aerospace_chatbot/db'}},\n",
       "  {'index_type': 'ChromaDB',\n",
       "   'index_name': 'text-embedding-3-large-2merge-0',\n",
       "   'query_model': {'query_model': 'OpenAI',\n",
       "    'embedding_name': 'text-embedding-3-large'},\n",
       "   'llm': {'llm_source': 'Hugging Face',\n",
       "    'llm_model': 'meta-llama/Meta-Llama-3-8B-Instruct',\n",
       "    'model_options': {'temperature': 0.2, 'output_level': 1000},\n",
       "    'hf_endpoint': 'https://api-inference.huggingface.co/v1'},\n",
       "   'qa_model_params': {'rag_type': 'Standard',\n",
       "    'k': 4,\n",
       "    'search_type': 'similarity',\n",
       "    'local_db_path': '/Users/danmueller/Documents/GitHub/aerospace_chatbot/db'}},\n",
       "  {'index_type': 'ChromaDB',\n",
       "   'index_name': 'text-embedding-3-large-2merge-0',\n",
       "   'query_model': {'query_model': 'OpenAI',\n",
       "    'embedding_name': 'text-embedding-3-large'},\n",
       "   'llm': {'llm_source': 'Hugging Face',\n",
       "    'llm_model': 'mistralai/Mistral-7B-Instruct-v0.2',\n",
       "    'model_options': {'temperature': 0.2, 'output_level': 1000},\n",
       "    'hf_endpoint': 'https://api-inference.huggingface.co/v1'},\n",
       "   'qa_model_params': {'rag_type': 'Standard',\n",
       "    'k': 4,\n",
       "    'search_type': 'similarity',\n",
       "    'local_db_path': '/Users/danmueller/Documents/GitHub/aerospace_chatbot/db'}},\n",
       "  {'index_type': 'Pinecone',\n",
       "   'index_name': 'voyage-large-2-instruct-2merge-0',\n",
       "   'query_model': {'query_model': 'Voyage',\n",
       "    'embedding_name': 'voyage-large-2-instruct'},\n",
       "   'llm': {'llm_source': 'OpenAI',\n",
       "    'llm_model': 'gpt-4o',\n",
       "    'model_options': {'temperature': 0.2, 'output_level': 1000}},\n",
       "   'qa_model_params': {'rag_type': 'Standard',\n",
       "    'k': 4,\n",
       "    'search_type': 'similarity',\n",
       "    'local_db_path': '/Users/danmueller/Documents/GitHub/aerospace_chatbot/db'}},\n",
       "  {'index_type': 'RAGatouille',\n",
       "   'index_name': 'colbert-ir-colbertv2.0-2merge-0',\n",
       "   'query_model': {'embedding_name': 'colbert-ir/colbertv2.0'},\n",
       "   'llm': {'llm_source': 'OpenAI',\n",
       "    'llm_model': 'gpt-4o',\n",
       "    'model_options': {'temperature': 0.2, 'output_level': 1000}},\n",
       "   'qa_model_params': {'k': 4,\n",
       "    'local_db_path': '/Users/danmueller/Documents/GitHub/aerospace_chatbot/db'}}]}"
      ]
     },
     "execution_count": 10,
     "metadata": {},
     "output_type": "execute_result"
    }
   ],
   "source": [
    "setup_data"
   ]
  },
  {
   "cell_type": "code",
   "execution_count": 11,
   "metadata": {},
   "outputs": [
    {
     "name": "stdout",
     "output_type": "stream",
     "text": [
      "{'index_type': 'ChromaDB', 'index_name': 'text-embedding-3-large-2merge-0', 'query_model': {'query_model': 'OpenAI', 'embedding_name': 'text-embedding-3-large'}, 'llm': {'llm_source': 'OpenAI', 'llm_model': 'gpt-4o', 'model_options': {'temperature': 0.2, 'output_level': 1000}}, 'qa_model_params': {'rag_type': 'Standard', 'k': 4, 'search_type': 'similarity', 'local_db_path': '/Users/danmueller/Documents/GitHub/aerospace_chatbot/db'}}\n",
      "{'index_type': 'ChromaDB', 'index_name': 'text-embedding-3-small-2merge-0', 'query_model': {'query_model': 'OpenAI', 'embedding_name': 'text-embedding-3-small'}, 'llm': {'llm_source': 'OpenAI', 'llm_model': 'gpt-4o', 'model_options': {'temperature': 0.2, 'output_level': 1000}}, 'qa_model_params': {'rag_type': 'Standard', 'k': 4, 'search_type': 'similarity', 'local_db_path': '/Users/danmueller/Documents/GitHub/aerospace_chatbot/db'}}\n",
      "{'index_type': 'ChromaDB', 'index_name': 'text-embedding-3-large-2merge-0', 'query_model': {'query_model': 'OpenAI', 'embedding_name': 'text-embedding-3-large'}, 'llm': {'llm_source': 'OpenAI', 'llm_model': 'gpt-4', 'model_options': {'temperature': 0.2, 'output_level': 1000}}, 'qa_model_params': {'rag_type': 'Standard', 'k': 4, 'search_type': 'similarity', 'local_db_path': '/Users/danmueller/Documents/GitHub/aerospace_chatbot/db'}}\n",
      "{'index_type': 'ChromaDB', 'index_name': 'text-embedding-3-large-2merge-0-parent-child', 'query_model': {'query_model': 'OpenAI', 'embedding_name': 'text-embedding-3-large'}, 'llm': {'llm_source': 'OpenAI', 'llm_model': 'gpt-4o', 'model_options': {'temperature': 0.2, 'output_level': 1000}}, 'qa_model_params': {'rag_type': 'Parent-Child', 'k': 4, 'search_type': 'similarity', 'local_db_path': '/Users/danmueller/Documents/GitHub/aerospace_chatbot/db'}}\n",
      "{'index_type': 'ChromaDB', 'index_name': 'text-embedding-3-large-2merge-0', 'query_model': {'query_model': 'OpenAI', 'embedding_name': 'text-embedding-3-large'}, 'llm': {'llm_source': 'Hugging Face', 'llm_model': 'meta-llama/Meta-Llama-3-8B-Instruct', 'model_options': {'temperature': 0.2, 'output_level': 1000}, 'hf_endpoint': 'https://api-inference.huggingface.co/v1'}, 'qa_model_params': {'rag_type': 'Standard', 'k': 4, 'search_type': 'similarity', 'local_db_path': '/Users/danmueller/Documents/GitHub/aerospace_chatbot/db'}}\n",
      "{'index_type': 'ChromaDB', 'index_name': 'text-embedding-3-large-2merge-0', 'query_model': {'query_model': 'OpenAI', 'embedding_name': 'text-embedding-3-large'}, 'llm': {'llm_source': 'Hugging Face', 'llm_model': 'mistralai/Mistral-7B-Instruct-v0.2', 'model_options': {'temperature': 0.2, 'output_level': 1000}, 'hf_endpoint': 'https://api-inference.huggingface.co/v1'}, 'qa_model_params': {'rag_type': 'Standard', 'k': 4, 'search_type': 'similarity', 'local_db_path': '/Users/danmueller/Documents/GitHub/aerospace_chatbot/db'}}\n",
      "{'index_type': 'Pinecone', 'index_name': 'voyage-large-2-instruct-2merge-0', 'query_model': {'query_model': 'Voyage', 'embedding_name': 'voyage-large-2-instruct'}, 'llm': {'llm_source': 'OpenAI', 'llm_model': 'gpt-4o', 'model_options': {'temperature': 0.2, 'output_level': 1000}}, 'qa_model_params': {'rag_type': 'Standard', 'k': 4, 'search_type': 'similarity', 'local_db_path': '/Users/danmueller/Documents/GitHub/aerospace_chatbot/db'}}\n",
      "{'index_type': 'RAGatouille', 'index_name': 'colbert-ir-colbertv2.0-2merge-0', 'query_model': {'embedding_name': 'colbert-ir/colbertv2.0'}, 'llm': {'llm_source': 'OpenAI', 'llm_model': 'gpt-4o', 'model_options': {'temperature': 0.2, 'output_level': 1000}}, 'qa_model_params': {'k': 4, 'local_db_path': '/Users/danmueller/Documents/GitHub/aerospace_chatbot/db'}}\n",
      "[Jul 19, 11:18:12] Loading segmented_maxsim_cpp extension (set COLBERT_LOAD_TORCH_EXTENSION_VERBOSE=True for more info)...\n"
     ]
    },
    {
     "name": "stderr",
     "output_type": "stream",
     "text": [
      "/Users/danmueller/Documents/GitHub/aerospace_chatbot/.venv/lib/python3.11/site-packages/torch/amp/grad_scaler.py:131: UserWarning: torch.cuda.amp.GradScaler is enabled, but CUDA is not available.  Disabling.\n",
      "  warnings.warn(\n"
     ]
    }
   ],
   "source": [
    "# Iterate through the evaluation models and databases, dump data as you go.\n",
    "# This will cache data along the way into rag_responses, so you can pick up where you left off.\n",
    "# A pickled dataframe is also exported at the end of each iteration, but not row-by-row.\n",
    "df_qa = pd.DataFrame()\n",
    "for model in setup_data['eval_models']:\n",
    "    print(model)\n",
    "    \n",
    "    # Database\n",
    "    index_type=model['index_type']\n",
    "    sb['index_type']=index_type\n",
    "    index_name=model['index_name']\n",
    "    sb['index_name']=index_name\n",
    "    # Query model and llm\n",
    "    for key in model['query_model']:\n",
    "        sb[key] = model['query_model'][key]\n",
    "    query_model=admin.get_query_model(sb, secrets)\n",
    "    for key in model['llm']:\n",
    "        sb[key] = model['llm'][key]\n",
    "    llm=admin.set_llm(sb, secrets)\n",
    "    # QA model params\n",
    "    qa_model_params=model['qa_model_params']\n",
    "    \n",
    "    df_qa_iter=eval.rag_responses(index_type, index_name, query_model, llm, qa_model_params, \n",
    "                                  df_qa_template, df_docs, testset_name)\n",
    "    df_qa = pd.concat([df_qa,df_qa_iter],ignore_index=True)\n",
    "\n",
    "    # After each iteration, export a pickle of the dataframe\n",
    "    with open(os.path.join('output',f'df_qa_{testset_name}.pickle'), \"wb\") as f:\n",
    "            pickle.dump(df_qa, f)"
   ]
  },
  {
   "cell_type": "code",
   "execution_count": 16,
   "metadata": {},
   "outputs": [
    {
     "name": "stdout",
     "output_type": "stream",
     "text": [
      "0 How does the motion on the PoD tribometer differ from the motion on the SOT tribometer, and how does this difference impact the assessment of lubricant behavior in hybrid lubrication?\n",
      "1 What testing methods were used to assess the performance of the spring strut hardware, and what were the results of these tests?\n",
      "2 What challenges were faced with the surface of the L7 deployment floor and how did it impact the deployment process?\n",
      "3 How was the position sensor selected for the Future Actuator design?\n",
      "4 How does the presence of lubrication on threads affect the nut factor ranges in bolted joints?\n",
      "5 What role do DC motors play in space applications and why is proper selection and specification essential for the success of future space missions?\n",
      "6 How do modern Fourier Transform Spectrometers address the effects of velocity errors in sampling infrared interferograms?\n",
      "7 What difficulties were encountered during the design of the Engage-Disengage Mechanism and how were they addressed?\n",
      "8 How did the sensitivity of the epoxy to humidity impact the assembly process of the RAT engineering and flight models?\n",
      "9 What was the maximum torque load recorded on the DVTM gimbals during the transfer between the horizontal lifting configuration and rest on the temporary support structure?\n",
      "10 What are the key components of the Focus Mechanism used in the Kepler Photometer?\n",
      "11 How does the motor controller synchronize with the motor at a multiple of four steps from the commanded position in the control sequence?\n",
      "12 What role does High Purity Aluminum Foil play in the investigation of bolt preload relaxation for JWST Thermal Heat Strap Assembly joints with Aluminum-1100 and Indium Gaskets?\n",
      "13 How can space bearings be customized and integrated into space mechanisms to mitigate technical and schedule risks?\n",
      "14 What benefits does hybrid PFPE/MoS2 lubrication offer for MoS2 film protection and vacuum lifetime extension?\n",
      "15 What was the setup for friction tests on suspension devices during testing of passive magnetic dampers for payload pendulum modes?\n",
      "16 What phase comes before non-contacting mode in hydrodynamic bearings and how does it impact wear in the system?\n",
      "17 What problems arose with the air delivery system during solar array panel deployment, and how were they resolved?\n",
      "18 How did design-to-cost and part reduction impact actuator development in terms of parts, design, load path, robustness, mass, and end stops?\n",
      "19 How does unpowered holding torque of a stepper motor in space affect dynamic torque requirements and selection process, considering internal and external loads, torque margin, and detent specs?\n",
      "20 What were the main concerns in developing the launch latch mechanism and how were they resolved for optimal design and operation?\n",
      "21 How does the lubricant film parameter impact bearing performance during the life test?\n",
      "22 How does aging affect lubricant viscosity in spacecraft mechanisms and its impact on EHD film thickness in bearings?\n",
      "23 What's the threshold strength of the Venus analog material used in JPL's Venus Material Test Facility, and how does it relate to drilling energy at Venus conditions?\n",
      "24 How was the shock output measured during testing with SSRD and BAA?\n",
      "25 What challenges did the flatness requirements of the epoxy floor pose during the L7 array panels deployment, and how were they resolved to avoid overloading the solar array drive bearings?\n",
      "26 How does the actuator development align with the design to cost strategy?\n",
      "27 How do gas-charge struts help in the rotational compensation and separation clearance in the MAG Strut system?\n",
      "28 Which texts are recommended for studying space vehicle mechanisms, particularly motor types and testing, and where can a guide on DC motor selection for space mechanisms be found?\n",
      "29 What damage was seen on the Flexspline and Circular Splines in the Drive Output subassembly, and what caused the failure in the harmonic gear assembly in the EDU actuator?\n",
      "30 How does the motion on the PoD tribometer differ from the motion on the SOT tribometer, and how does this difference impact the assessment of lubricant behavior in hybrid lubrication?\n",
      "31 What testing methods were used to assess the performance of the spring strut hardware, and what were the results of these tests?\n",
      "32 What challenges were faced with the surface of the L7 deployment floor and how did it impact the deployment process?\n",
      "33 How was the position sensor selected for the Future Actuator design?\n",
      "34 How does the presence of lubrication on threads affect the nut factor ranges in bolted joints?\n",
      "35 What role do DC motors play in space applications and why is proper selection and specification essential for the success of future space missions?\n",
      "36 How do modern Fourier Transform Spectrometers address the effects of velocity errors in sampling infrared interferograms?\n",
      "37 What difficulties were encountered during the design of the Engage-Disengage Mechanism and how were they addressed?\n",
      "38 How did the sensitivity of the epoxy to humidity impact the assembly process of the RAT engineering and flight models?\n",
      "39 What was the maximum torque load recorded on the DVTM gimbals during the transfer between the horizontal lifting configuration and rest on the temporary support structure?\n",
      "40 What are the key components of the Focus Mechanism used in the Kepler Photometer?\n",
      "41 How does the motor controller synchronize with the motor at a multiple of four steps from the commanded position in the control sequence?\n",
      "42 What role does High Purity Aluminum Foil play in the investigation of bolt preload relaxation for JWST Thermal Heat Strap Assembly joints with Aluminum-1100 and Indium Gaskets?\n",
      "43 How can space bearings be customized and integrated into space mechanisms to mitigate technical and schedule risks?\n",
      "44 What benefits does hybrid PFPE/MoS2 lubrication offer for MoS2 film protection and vacuum lifetime extension?\n",
      "45 What was the setup for friction tests on suspension devices during testing of passive magnetic dampers for payload pendulum modes?\n",
      "46 What phase comes before non-contacting mode in hydrodynamic bearings and how does it impact wear in the system?\n",
      "47 What problems arose with the air delivery system during solar array panel deployment, and how were they resolved?\n",
      "48 How did design-to-cost and part reduction impact actuator development in terms of parts, design, load path, robustness, mass, and end stops?\n",
      "49 How does unpowered holding torque of a stepper motor in space affect dynamic torque requirements and selection process, considering internal and external loads, torque margin, and detent specs?\n",
      "50 What were the main concerns in developing the launch latch mechanism and how were they resolved for optimal design and operation?\n",
      "51 How does the lubricant film parameter impact bearing performance during the life test?\n",
      "52 How does aging affect lubricant viscosity in spacecraft mechanisms and its impact on EHD film thickness in bearings?\n",
      "53 What's the threshold strength of the Venus analog material used in JPL's Venus Material Test Facility, and how does it relate to drilling energy at Venus conditions?\n",
      "54 How was the shock output measured during testing with SSRD and BAA?\n",
      "55 What challenges did the flatness requirements of the epoxy floor pose during the L7 array panels deployment, and how were they resolved to avoid overloading the solar array drive bearings?\n",
      "56 How does the actuator development align with the design to cost strategy?\n",
      "57 How do gas-charge struts help in the rotational compensation and separation clearance in the MAG Strut system?\n",
      "58 Which texts are recommended for studying space vehicle mechanisms, particularly motor types and testing, and where can a guide on DC motor selection for space mechanisms be found?\n",
      "59 What damage was seen on the Flexspline and Circular Splines in the Drive Output subassembly, and what caused the failure in the harmonic gear assembly in the EDU actuator?\n",
      "60 How does the motion on the PoD tribometer differ from the motion on the SOT tribometer, and how does this difference impact the assessment of lubricant behavior in hybrid lubrication?\n",
      "61 What testing methods were used to assess the performance of the spring strut hardware, and what were the results of these tests?\n",
      "62 What challenges were faced with the surface of the L7 deployment floor and how did it impact the deployment process?\n",
      "63 How was the position sensor selected for the Future Actuator design?\n",
      "64 How does the presence of lubrication on threads affect the nut factor ranges in bolted joints?\n",
      "65 What role do DC motors play in space applications and why is proper selection and specification essential for the success of future space missions?\n",
      "66 How do modern Fourier Transform Spectrometers address the effects of velocity errors in sampling infrared interferograms?\n",
      "67 What difficulties were encountered during the design of the Engage-Disengage Mechanism and how were they addressed?\n",
      "68 How did the sensitivity of the epoxy to humidity impact the assembly process of the RAT engineering and flight models?\n",
      "69 What was the maximum torque load recorded on the DVTM gimbals during the transfer between the horizontal lifting configuration and rest on the temporary support structure?\n",
      "70 What are the key components of the Focus Mechanism used in the Kepler Photometer?\n",
      "71 How does the motor controller synchronize with the motor at a multiple of four steps from the commanded position in the control sequence?\n",
      "72 What role does High Purity Aluminum Foil play in the investigation of bolt preload relaxation for JWST Thermal Heat Strap Assembly joints with Aluminum-1100 and Indium Gaskets?\n",
      "73 How can space bearings be customized and integrated into space mechanisms to mitigate technical and schedule risks?\n",
      "74 What benefits does hybrid PFPE/MoS2 lubrication offer for MoS2 film protection and vacuum lifetime extension?\n",
      "75 What was the setup for friction tests on suspension devices during testing of passive magnetic dampers for payload pendulum modes?\n",
      "76 What phase comes before non-contacting mode in hydrodynamic bearings and how does it impact wear in the system?\n",
      "77 What problems arose with the air delivery system during solar array panel deployment, and how were they resolved?\n",
      "78 How did design-to-cost and part reduction impact actuator development in terms of parts, design, load path, robustness, mass, and end stops?\n",
      "79 How does unpowered holding torque of a stepper motor in space affect dynamic torque requirements and selection process, considering internal and external loads, torque margin, and detent specs?\n",
      "80 What were the main concerns in developing the launch latch mechanism and how were they resolved for optimal design and operation?\n",
      "81 How does the lubricant film parameter impact bearing performance during the life test?\n",
      "82 How does aging affect lubricant viscosity in spacecraft mechanisms and its impact on EHD film thickness in bearings?\n",
      "83 What's the threshold strength of the Venus analog material used in JPL's Venus Material Test Facility, and how does it relate to drilling energy at Venus conditions?\n",
      "84 How was the shock output measured during testing with SSRD and BAA?\n",
      "85 What challenges did the flatness requirements of the epoxy floor pose during the L7 array panels deployment, and how were they resolved to avoid overloading the solar array drive bearings?\n",
      "86 How does the actuator development align with the design to cost strategy?\n",
      "87 How do gas-charge struts help in the rotational compensation and separation clearance in the MAG Strut system?\n",
      "88 Which texts are recommended for studying space vehicle mechanisms, particularly motor types and testing, and where can a guide on DC motor selection for space mechanisms be found?\n",
      "89 What damage was seen on the Flexspline and Circular Splines in the Drive Output subassembly, and what caused the failure in the harmonic gear assembly in the EDU actuator?\n",
      "90 How does the motion on the PoD tribometer differ from the motion on the SOT tribometer, and how does this difference impact the assessment of lubricant behavior in hybrid lubrication?\n",
      "91 What testing methods were used to assess the performance of the spring strut hardware, and what were the results of these tests?\n",
      "92 What challenges were faced with the surface of the L7 deployment floor and how did it impact the deployment process?\n",
      "93 How was the position sensor selected for the Future Actuator design?\n",
      "94 How does the presence of lubrication on threads affect the nut factor ranges in bolted joints?\n",
      "95 What role do DC motors play in space applications and why is proper selection and specification essential for the success of future space missions?\n",
      "96 How do modern Fourier Transform Spectrometers address the effects of velocity errors in sampling infrared interferograms?\n",
      "97 What difficulties were encountered during the design of the Engage-Disengage Mechanism and how were they addressed?\n",
      "98 How did the sensitivity of the epoxy to humidity impact the assembly process of the RAT engineering and flight models?\n",
      "99 What was the maximum torque load recorded on the DVTM gimbals during the transfer between the horizontal lifting configuration and rest on the temporary support structure?\n",
      "100 What are the key components of the Focus Mechanism used in the Kepler Photometer?\n",
      "101 How does the motor controller synchronize with the motor at a multiple of four steps from the commanded position in the control sequence?\n",
      "102 What role does High Purity Aluminum Foil play in the investigation of bolt preload relaxation for JWST Thermal Heat Strap Assembly joints with Aluminum-1100 and Indium Gaskets?\n",
      "103 How can space bearings be customized and integrated into space mechanisms to mitigate technical and schedule risks?\n",
      "104 What benefits does hybrid PFPE/MoS2 lubrication offer for MoS2 film protection and vacuum lifetime extension?\n",
      "105 What was the setup for friction tests on suspension devices during testing of passive magnetic dampers for payload pendulum modes?\n",
      "106 What phase comes before non-contacting mode in hydrodynamic bearings and how does it impact wear in the system?\n",
      "107 What problems arose with the air delivery system during solar array panel deployment, and how were they resolved?\n",
      "108 How did design-to-cost and part reduction impact actuator development in terms of parts, design, load path, robustness, mass, and end stops?\n",
      "109 How does unpowered holding torque of a stepper motor in space affect dynamic torque requirements and selection process, considering internal and external loads, torque margin, and detent specs?\n",
      "110 What were the main concerns in developing the launch latch mechanism and how were they resolved for optimal design and operation?\n",
      "111 How does the lubricant film parameter impact bearing performance during the life test?\n",
      "112 How does aging affect lubricant viscosity in spacecraft mechanisms and its impact on EHD film thickness in bearings?\n",
      "113 What's the threshold strength of the Venus analog material used in JPL's Venus Material Test Facility, and how does it relate to drilling energy at Venus conditions?\n",
      "114 How was the shock output measured during testing with SSRD and BAA?\n",
      "115 What challenges did the flatness requirements of the epoxy floor pose during the L7 array panels deployment, and how were they resolved to avoid overloading the solar array drive bearings?\n",
      "116 How does the actuator development align with the design to cost strategy?\n",
      "117 How do gas-charge struts help in the rotational compensation and separation clearance in the MAG Strut system?\n",
      "118 Which texts are recommended for studying space vehicle mechanisms, particularly motor types and testing, and where can a guide on DC motor selection for space mechanisms be found?\n",
      "119 What damage was seen on the Flexspline and Circular Splines in the Drive Output subassembly, and what caused the failure in the harmonic gear assembly in the EDU actuator?\n",
      "120 How does the motion on the PoD tribometer differ from the motion on the SOT tribometer, and how does this difference impact the assessment of lubricant behavior in hybrid lubrication?\n",
      "121 What testing methods were used to assess the performance of the spring strut hardware, and what were the results of these tests?\n",
      "122 What challenges were faced with the surface of the L7 deployment floor and how did it impact the deployment process?\n",
      "123 How was the position sensor selected for the Future Actuator design?\n",
      "124 How does the presence of lubrication on threads affect the nut factor ranges in bolted joints?\n",
      "125 What role do DC motors play in space applications and why is proper selection and specification essential for the success of future space missions?\n",
      "126 How do modern Fourier Transform Spectrometers address the effects of velocity errors in sampling infrared interferograms?\n",
      "127 What difficulties were encountered during the design of the Engage-Disengage Mechanism and how were they addressed?\n",
      "128 How did the sensitivity of the epoxy to humidity impact the assembly process of the RAT engineering and flight models?\n",
      "129 What was the maximum torque load recorded on the DVTM gimbals during the transfer between the horizontal lifting configuration and rest on the temporary support structure?\n",
      "130 What are the key components of the Focus Mechanism used in the Kepler Photometer?\n",
      "131 How does the motor controller synchronize with the motor at a multiple of four steps from the commanded position in the control sequence?\n",
      "132 What role does High Purity Aluminum Foil play in the investigation of bolt preload relaxation for JWST Thermal Heat Strap Assembly joints with Aluminum-1100 and Indium Gaskets?\n",
      "133 How can space bearings be customized and integrated into space mechanisms to mitigate technical and schedule risks?\n",
      "134 What benefits does hybrid PFPE/MoS2 lubrication offer for MoS2 film protection and vacuum lifetime extension?\n",
      "135 What was the setup for friction tests on suspension devices during testing of passive magnetic dampers for payload pendulum modes?\n",
      "136 What phase comes before non-contacting mode in hydrodynamic bearings and how does it impact wear in the system?\n",
      "137 What problems arose with the air delivery system during solar array panel deployment, and how were they resolved?\n",
      "138 How did design-to-cost and part reduction impact actuator development in terms of parts, design, load path, robustness, mass, and end stops?\n",
      "139 How does unpowered holding torque of a stepper motor in space affect dynamic torque requirements and selection process, considering internal and external loads, torque margin, and detent specs?\n",
      "140 What were the main concerns in developing the launch latch mechanism and how were they resolved for optimal design and operation?\n",
      "141 How does the lubricant film parameter impact bearing performance during the life test?\n",
      "142 How does aging affect lubricant viscosity in spacecraft mechanisms and its impact on EHD film thickness in bearings?\n",
      "143 What's the threshold strength of the Venus analog material used in JPL's Venus Material Test Facility, and how does it relate to drilling energy at Venus conditions?\n",
      "144 How was the shock output measured during testing with SSRD and BAA?\n",
      "145 What challenges did the flatness requirements of the epoxy floor pose during the L7 array panels deployment, and how were they resolved to avoid overloading the solar array drive bearings?\n",
      "146 How does the actuator development align with the design to cost strategy?\n",
      "147 How do gas-charge struts help in the rotational compensation and separation clearance in the MAG Strut system?\n",
      "148 Which texts are recommended for studying space vehicle mechanisms, particularly motor types and testing, and where can a guide on DC motor selection for space mechanisms be found?\n",
      "149 What damage was seen on the Flexspline and Circular Splines in the Drive Output subassembly, and what caused the failure in the harmonic gear assembly in the EDU actuator?\n",
      "150 How does the motion on the PoD tribometer differ from the motion on the SOT tribometer, and how does this difference impact the assessment of lubricant behavior in hybrid lubrication?\n",
      "151 What testing methods were used to assess the performance of the spring strut hardware, and what were the results of these tests?\n",
      "152 What challenges were faced with the surface of the L7 deployment floor and how did it impact the deployment process?\n",
      "153 How was the position sensor selected for the Future Actuator design?\n",
      "154 How does the presence of lubrication on threads affect the nut factor ranges in bolted joints?\n",
      "155 What role do DC motors play in space applications and why is proper selection and specification essential for the success of future space missions?\n",
      "156 How do modern Fourier Transform Spectrometers address the effects of velocity errors in sampling infrared interferograms?\n",
      "157 What difficulties were encountered during the design of the Engage-Disengage Mechanism and how were they addressed?\n",
      "158 How did the sensitivity of the epoxy to humidity impact the assembly process of the RAT engineering and flight models?\n",
      "159 What was the maximum torque load recorded on the DVTM gimbals during the transfer between the horizontal lifting configuration and rest on the temporary support structure?\n",
      "160 What are the key components of the Focus Mechanism used in the Kepler Photometer?\n",
      "161 How does the motor controller synchronize with the motor at a multiple of four steps from the commanded position in the control sequence?\n",
      "162 What role does High Purity Aluminum Foil play in the investigation of bolt preload relaxation for JWST Thermal Heat Strap Assembly joints with Aluminum-1100 and Indium Gaskets?\n",
      "163 How can space bearings be customized and integrated into space mechanisms to mitigate technical and schedule risks?\n",
      "164 What benefits does hybrid PFPE/MoS2 lubrication offer for MoS2 film protection and vacuum lifetime extension?\n",
      "165 What was the setup for friction tests on suspension devices during testing of passive magnetic dampers for payload pendulum modes?\n",
      "166 What phase comes before non-contacting mode in hydrodynamic bearings and how does it impact wear in the system?\n",
      "167 What problems arose with the air delivery system during solar array panel deployment, and how were they resolved?\n",
      "168 How did design-to-cost and part reduction impact actuator development in terms of parts, design, load path, robustness, mass, and end stops?\n",
      "169 How does unpowered holding torque of a stepper motor in space affect dynamic torque requirements and selection process, considering internal and external loads, torque margin, and detent specs?\n",
      "170 What were the main concerns in developing the launch latch mechanism and how were they resolved for optimal design and operation?\n",
      "171 How does the lubricant film parameter impact bearing performance during the life test?\n",
      "172 How does aging affect lubricant viscosity in spacecraft mechanisms and its impact on EHD film thickness in bearings?\n",
      "173 What's the threshold strength of the Venus analog material used in JPL's Venus Material Test Facility, and how does it relate to drilling energy at Venus conditions?\n",
      "174 How was the shock output measured during testing with SSRD and BAA?\n",
      "175 What challenges did the flatness requirements of the epoxy floor pose during the L7 array panels deployment, and how were they resolved to avoid overloading the solar array drive bearings?\n",
      "176 How does the actuator development align with the design to cost strategy?\n",
      "177 How do gas-charge struts help in the rotational compensation and separation clearance in the MAG Strut system?\n",
      "178 Which texts are recommended for studying space vehicle mechanisms, particularly motor types and testing, and where can a guide on DC motor selection for space mechanisms be found?\n",
      "179 What damage was seen on the Flexspline and Circular Splines in the Drive Output subassembly, and what caused the failure in the harmonic gear assembly in the EDU actuator?\n",
      "180 How does the motion on the PoD tribometer differ from the motion on the SOT tribometer, and how does this difference impact the assessment of lubricant behavior in hybrid lubrication?\n",
      "181 What testing methods were used to assess the performance of the spring strut hardware, and what were the results of these tests?\n",
      "182 What challenges were faced with the surface of the L7 deployment floor and how did it impact the deployment process?\n",
      "183 How was the position sensor selected for the Future Actuator design?\n",
      "184 How does the presence of lubrication on threads affect the nut factor ranges in bolted joints?\n",
      "185 What role do DC motors play in space applications and why is proper selection and specification essential for the success of future space missions?\n",
      "186 How do modern Fourier Transform Spectrometers address the effects of velocity errors in sampling infrared interferograms?\n",
      "187 What difficulties were encountered during the design of the Engage-Disengage Mechanism and how were they addressed?\n",
      "188 How did the sensitivity of the epoxy to humidity impact the assembly process of the RAT engineering and flight models?\n",
      "189 What was the maximum torque load recorded on the DVTM gimbals during the transfer between the horizontal lifting configuration and rest on the temporary support structure?\n",
      "190 What are the key components of the Focus Mechanism used in the Kepler Photometer?\n",
      "191 How does the motor controller synchronize with the motor at a multiple of four steps from the commanded position in the control sequence?\n",
      "192 What role does High Purity Aluminum Foil play in the investigation of bolt preload relaxation for JWST Thermal Heat Strap Assembly joints with Aluminum-1100 and Indium Gaskets?\n",
      "193 How can space bearings be customized and integrated into space mechanisms to mitigate technical and schedule risks?\n",
      "194 What benefits does hybrid PFPE/MoS2 lubrication offer for MoS2 film protection and vacuum lifetime extension?\n",
      "195 What was the setup for friction tests on suspension devices during testing of passive magnetic dampers for payload pendulum modes?\n",
      "196 What phase comes before non-contacting mode in hydrodynamic bearings and how does it impact wear in the system?\n",
      "197 What problems arose with the air delivery system during solar array panel deployment, and how were they resolved?\n",
      "198 How did design-to-cost and part reduction impact actuator development in terms of parts, design, load path, robustness, mass, and end stops?\n",
      "199 How does unpowered holding torque of a stepper motor in space affect dynamic torque requirements and selection process, considering internal and external loads, torque margin, and detent specs?\n",
      "200 What were the main concerns in developing the launch latch mechanism and how were they resolved for optimal design and operation?\n",
      "201 How does the lubricant film parameter impact bearing performance during the life test?\n",
      "202 How does aging affect lubricant viscosity in spacecraft mechanisms and its impact on EHD film thickness in bearings?\n",
      "203 What's the threshold strength of the Venus analog material used in JPL's Venus Material Test Facility, and how does it relate to drilling energy at Venus conditions?\n",
      "204 How was the shock output measured during testing with SSRD and BAA?\n",
      "205 What challenges did the flatness requirements of the epoxy floor pose during the L7 array panels deployment, and how were they resolved to avoid overloading the solar array drive bearings?\n",
      "206 How does the actuator development align with the design to cost strategy?\n",
      "207 How do gas-charge struts help in the rotational compensation and separation clearance in the MAG Strut system?\n",
      "208 Which texts are recommended for studying space vehicle mechanisms, particularly motor types and testing, and where can a guide on DC motor selection for space mechanisms be found?\n",
      "209 What damage was seen on the Flexspline and Circular Splines in the Drive Output subassembly, and what caused the failure in the harmonic gear assembly in the EDU actuator?\n",
      "210 How does the motion on the PoD tribometer differ from the motion on the SOT tribometer, and how does this difference impact the assessment of lubricant behavior in hybrid lubrication?\n",
      "211 What testing methods were used to assess the performance of the spring strut hardware, and what were the results of these tests?\n",
      "212 What challenges were faced with the surface of the L7 deployment floor and how did it impact the deployment process?\n",
      "213 How was the position sensor selected for the Future Actuator design?\n",
      "214 How does the presence of lubrication on threads affect the nut factor ranges in bolted joints?\n",
      "215 What role do DC motors play in space applications and why is proper selection and specification essential for the success of future space missions?\n",
      "216 How do modern Fourier Transform Spectrometers address the effects of velocity errors in sampling infrared interferograms?\n",
      "217 What difficulties were encountered during the design of the Engage-Disengage Mechanism and how were they addressed?\n",
      "218 How did the sensitivity of the epoxy to humidity impact the assembly process of the RAT engineering and flight models?\n",
      "219 What was the maximum torque load recorded on the DVTM gimbals during the transfer between the horizontal lifting configuration and rest on the temporary support structure?\n",
      "220 What are the key components of the Focus Mechanism used in the Kepler Photometer?\n",
      "221 How does the motor controller synchronize with the motor at a multiple of four steps from the commanded position in the control sequence?\n",
      "222 What role does High Purity Aluminum Foil play in the investigation of bolt preload relaxation for JWST Thermal Heat Strap Assembly joints with Aluminum-1100 and Indium Gaskets?\n",
      "223 How can space bearings be customized and integrated into space mechanisms to mitigate technical and schedule risks?\n",
      "224 What benefits does hybrid PFPE/MoS2 lubrication offer for MoS2 film protection and vacuum lifetime extension?\n",
      "225 What was the setup for friction tests on suspension devices during testing of passive magnetic dampers for payload pendulum modes?\n",
      "226 What phase comes before non-contacting mode in hydrodynamic bearings and how does it impact wear in the system?\n",
      "227 What problems arose with the air delivery system during solar array panel deployment, and how were they resolved?\n",
      "228 How did design-to-cost and part reduction impact actuator development in terms of parts, design, load path, robustness, mass, and end stops?\n",
      "229 How does unpowered holding torque of a stepper motor in space affect dynamic torque requirements and selection process, considering internal and external loads, torque margin, and detent specs?\n",
      "230 What were the main concerns in developing the launch latch mechanism and how were they resolved for optimal design and operation?\n",
      "231 How does the lubricant film parameter impact bearing performance during the life test?\n",
      "232 How does aging affect lubricant viscosity in spacecraft mechanisms and its impact on EHD film thickness in bearings?\n",
      "233 What's the threshold strength of the Venus analog material used in JPL's Venus Material Test Facility, and how does it relate to drilling energy at Venus conditions?\n",
      "234 How was the shock output measured during testing with SSRD and BAA?\n",
      "235 What challenges did the flatness requirements of the epoxy floor pose during the L7 array panels deployment, and how were they resolved to avoid overloading the solar array drive bearings?\n",
      "236 How does the actuator development align with the design to cost strategy?\n",
      "237 How do gas-charge struts help in the rotational compensation and separation clearance in the MAG Strut system?\n",
      "238 Which texts are recommended for studying space vehicle mechanisms, particularly motor types and testing, and where can a guide on DC motor selection for space mechanisms be found?\n",
      "239 What damage was seen on the Flexspline and Circular Splines in the Drive Output subassembly, and what caused the failure in the harmonic gear assembly in the EDU actuator?\n"
     ]
    }
   ],
   "source": [
    "# Evaluate\n",
    "eval_criterias=[\"answer_correctness\", \"faithfulness\", \"context_recall\"]\n",
    "df_qa = eval.eval_rag(df_qa,eval_criterias,testset_name)"
   ]
  },
  {
   "cell_type": "code",
   "execution_count": 17,
   "metadata": {},
   "outputs": [],
   "source": [
    "write=True\n",
    "if write:\n",
    "    with open(os.path.join('output',f'df_qa_{testset_name}.pickle'), \"wb\") as f:\n",
    "        pickle.dump(df_qa, f)\n",
    "else:\n",
    "    with open(os.path.join('output',f'df_qa_{testset_name}.pickle'), \"rb\") as f:\n",
    "        df_qa = pickle.load(f)"
   ]
  },
  {
   "cell_type": "markdown",
   "metadata": {},
   "source": [
    "## Ragas eval, visualize"
   ]
  },
  {
   "cell_type": "code",
   "execution_count": null,
   "metadata": {},
   "outputs": [],
   "source": [
    "# Link from documents to questions, that used the document as source. Add UMAP column for visualization purposes.\n",
    "df_visualize=eval.data_viz_prep(index_name,df_qa,df_docs)"
   ]
  },
  {
   "cell_type": "code",
   "execution_count": null,
   "metadata": {},
   "outputs": [],
   "source": [
    "# concat the df containing the questions and the df containing the documents\n",
    "df = pd.read_parquet(f'df_{index_name}.parquet')\n",
    "\n",
    "# show the dataframe with the question and answer in spotlight\n",
    "spotlight.show(\n",
    "    df,\n",
    "    layout=\"https://spotlightpublic.blob.core.windows.net/docs-data/rag_demo/layout_rag_3.json\",\n",
    "    dtype={x: Embedding for x in df.keys() if \"umap\" in x},\n",
    ")\n",
    "\n",
    "##  UMAP visualization froms cluster of the questions, workaround: UMAP only on documents"
   ]
  }
 ],
 "metadata": {
  "kernelspec": {
   "display_name": "Python 3",
   "language": "python",
   "name": "python3"
  },
  "language_info": {
   "codemirror_mode": {
    "name": "ipython",
    "version": 3
   },
   "file_extension": ".py",
   "mimetype": "text/x-python",
   "name": "python",
   "nbconvert_exporter": "python",
   "pygments_lexer": "ipython3",
   "version": "3.11.1"
  },
  "orig_nbformat": 4
 },
 "nbformat": 4,
 "nbformat_minor": 2
}
