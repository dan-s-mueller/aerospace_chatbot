{
 "cells": [
  {
   "cell_type": "code",
   "execution_count": 13,
   "metadata": {},
   "outputs": [
    {
     "data": {
      "text/plain": [
       "True"
      ]
     },
     "execution_count": 13,
     "metadata": {},
     "output_type": "execute_result"
    }
   ],
   "source": [
    "# Load environment variables\n",
    "import os\n",
    "import re\n",
    "import pinecone\n",
    "import glob\n",
    "import data_import\n",
    "from langchain.embeddings import OpenAIEmbeddings\n",
    "from langchain.vectorstores import Pinecone\n",
    "from langchain.document_loaders import PyPDFLoader\n",
    "from langchain.document_loaders import UnstructuredPDFLoader, OnlinePDFLoader, PyPDFLoader\n",
    "from langchain.text_splitter import RecursiveCharacterTextSplitter\n",
    "import pprint\n",
    "from dotenv import load_dotenv,find_dotenv\n",
    "load_dotenv(find_dotenv(),override=True)"
   ]
  },
  {
   "cell_type": "code",
   "execution_count": 2,
   "metadata": {},
   "outputs": [],
   "source": [
    "# Check api keys\n",
    "# print(os.getenv('OPENAI_API_KEY'))\n",
    "# print(os.getenv('PINECONE_ENVIRONMENT'))\n",
    "# print(os.getenv('PINECONE_API_KEY'))"
   ]
  },
  {
   "cell_type": "code",
   "execution_count": 3,
   "metadata": {},
   "outputs": [],
   "source": [
    "# Instantiate OpenAI embeddings\n",
    "embeddings_model = OpenAIEmbeddings(model=\"text-embedding-ada-002\")"
   ]
  },
  {
   "cell_type": "code",
   "execution_count": 4,
   "metadata": {},
   "outputs": [],
   "source": [
    "# Initialize Pinecone client, test if it works\n",
    "# pinecone.init(\n",
    "#     api_key=os.getenv('PINECONE_API_KEY'),\n",
    "#     environment=os.getenv('PINECONE_ENVIRONMENT') \n",
    "# )\n",
    "# pinecone.whoami()\n"
   ]
  },
  {
   "cell_type": "code",
   "execution_count": 5,
   "metadata": {},
   "outputs": [],
   "source": [
    "# Find the existing index, clear for new start\n",
    "# index=pinecone.Index(index_name)"
   ]
  },
  {
   "cell_type": "code",
   "execution_count": 6,
   "metadata": {},
   "outputs": [],
   "source": [
    "# Pinecone database: https://app.pinecone.io/organizations/-Nam3zmbSmzuXKeH8EWl/projects/us-west1-gcp-free:32467cc/indexes/langchain-quickstart\n",
    "index_name = \"ams\"\n",
    "\n",
    "# data_folder='../data/FEA/'\n",
    "data_folder='../data/AMS/'\n",
    "docs = glob.glob(data_folder+'*.pdf')   # Only get the PDFs in the directory\n",
    "\n",
    "# data_import.load_docs(index_name=index_name,\n",
    "#                       embeddings_model=embeddings_model,\n",
    "#                       docs=docs,\n",
    "#                       PINECONE_API_KEY=os.getenv('PINECONE_API_KEY'),\n",
    "#                       PINECONE_ENVIRONMENT=os.getenv('PINECONE_ENVIRONMENT'),\n",
    "#                       chunk_size=5000,\n",
    "#                       chunk_overlap=0)"
   ]
  },
  {
   "cell_type": "code",
   "execution_count": 7,
   "metadata": {},
   "outputs": [],
   "source": [
    "import json\n",
    "\n",
    "from llama_index import SimpleDirectoryReader\n",
    "from llama_index.node_parser import SentenceSplitter\n",
    "from llama_index.schema import MetadataMode\n",
    "\n",
    "def load_corpus(files, verbose=False):\n",
    "    if verbose:\n",
    "        print(f\"Loading files {files}\")\n",
    "\n",
    "    reader = SimpleDirectoryReader(input_files=files)\n",
    "    docs = reader.load_data()\n",
    "    if verbose:\n",
    "        print(f\"Loaded {len(docs)} docs\")\n",
    "\n",
    "    parser = SentenceSplitter(chunk_size=5000)\n",
    "    nodes = parser.get_nodes_from_documents(docs, show_progress=verbose)\n",
    "\n",
    "    for node in nodes:\n",
    "        # Merge hyphenated words\n",
    "        node.text=re.sub(r\"(\\w+)-\\n(\\w+)\", r\"\\1\\2\", node.text)\n",
    "        # Fix newlines in the middle of sentences\n",
    "        node.text = re.sub(r\"(?<!\\n\\s)\\n(?!\\s\\n)\", \" \", node.text.strip())\n",
    "        # Remove multiple newlines\n",
    "        node.text = re.sub(r\"\\n\\s*\\n\", \"\\n\\n\", node.text)\n",
    "\n",
    "    if verbose:\n",
    "        print(f\"Parsed {len(nodes)} nodes\")\n",
    "\n",
    "    return nodes"
   ]
  },
  {
   "cell_type": "code",
   "execution_count": 8,
   "metadata": {},
   "outputs": [
    {
     "name": "stdout",
     "output_type": "stream",
     "text": [
      "Loading files ['../data/AMS/AMS_2018.pdf', '../data/AMS/AMS_2008.pdf', '../data/AMS/AMS_2020.pdf']\n",
      "Loaded 1616 docs\n"
     ]
    },
    {
     "data": {
      "application/vnd.jupyter.widget-view+json": {
       "model_id": "cfea617c617d4bc9996a9b22b1f77205",
       "version_major": 2,
       "version_minor": 0
      },
      "text/plain": [
       "Parsing nodes:   0%|          | 0/1616 [00:00<?, ?it/s]"
      ]
     },
     "metadata": {},
     "output_type": "display_data"
    },
    {
     "name": "stdout",
     "output_type": "stream",
     "text": [
      "Parsed 1616 nodes\n"
     ]
    }
   ],
   "source": [
    "nodes = load_corpus(docs[-3:], verbose=True)\n",
    "# val_nodes = load_corpus(VAL_FILES, verbose=True)"
   ]
  },
  {
   "cell_type": "code",
   "execution_count": 9,
   "metadata": {},
   "outputs": [
    {
     "data": {
      "text/plain": [
       "'Dynamic Behavior of Ball Bearings under Axial Vibration  Virgil Hinque* and René Seiler* Abstract  The paper addresses the dynamics of ball bearings when exposed to vibration loads along their axis of  rotation. Following common practice in space mechanisms design, the bearings are mounted in either hard  preloaded or soft preloaded pairs. A computer-based model has been developed for the analysis and  prediction of the load-deflection characteristics in bearing systems. Furthermore, the model may be used  to quantify the maximum loads applied on the bearings and the resulting stresses during a vibration test or  a spacecraft launch.  In parallel to the model development, an experimental test program has been carried out in order to get  sufficient data for model correlation. In this context, the paper also elaborates on the post-processing of the  acquired test signals and discusses specific effects, for instance nonlinearities due to the use of snubbers,  in the time domain as well as in the frequency domain.  Introduction  Many space mechanisms use ball bearings for rotation functions. Therefore, assessing the bearing  performance for the relevant environmental conditions is one of the typical challenges faced during the  equipment design process. In this frame, it is common engineering practice to reduce the effect of a sine  and random vibration environment to quasi-static equivalent loads and stresses. The relevant ball bearing  systems often comprise two identical deep-groove or angular-contact bearings in an axially preloaded  configuration. Several studies on the influence of the preload and other parameters on the structural  behavior of such bearing assemblies have been done by the European Space Tribology Laboratory (ESTL).  In a recent investigation, 25 ball bearing cartridges (“test units” or “bearing housings”) with different preload  and snubber configurations were submitted to a series of sine and random vibration tests. The discussion  of findings was mainly based on the analysis of frequency-domain data and bearing damage assessment  via visual inspection [1].  The ESTL investigation inspired a number of ideas for continuation of the research, among others the  development of a computer-based model that would be able to simulate the behavior of the bearing  cartridges, especially those showing nonlinear features in their response. An adequate model should be  able to predict the load transmission across the bearings in static and dynamic load situations. As the main  sizing criterion for ball bearings is based on the allowable peak Hertzian contact pressure between the balls  and the races [2], accurate knowledge of the maximum bearing loads is a key aspect for successful bearing  selection and implementation in a space mechanism.  During the current investigation at the European Space Research and Technology Centre (ESTEC), a  model was built using MATLAB®/Simulink®, with only the axial degree of freedom in a bearing taken into  consideration. Because model correlation with real test results is of importance, a test program  complementary to that reported in [1] has been conducted, with specific focus on the acquisition and  interpretation of time-domain data. The following chapters describe the computer-based model, the design  of the test units, as well as the details of the test campaign and corresponding results. The last part of the  paper is dedicated to the comparison between the model output and the experimental test data.  *European Space Agency (ESA/ESTEC), Noordwijk, The Netherlands Proceedings of the 44th Aerospace Mechanisms Symposium, NASA Glenn Research Center, May 16-18, 2018 NASA/CP—2018-219887 83'"
      ]
     },
     "execution_count": 9,
     "metadata": {},
     "output_type": "execute_result"
    }
   ],
   "source": [
    "nodes[100].text"
   ]
  },
  {
   "cell_type": "markdown",
   "metadata": {},
   "source": [
    "# OpenAI, ChatGPT-3.5"
   ]
  },
  {
   "cell_type": "code",
   "execution_count": 28,
   "metadata": {},
   "outputs": [],
   "source": [
    "from llama_index.llms import OpenAI\n",
    "\n",
    "# model_name='gpt-3.5-turbo-instruct'\n",
    "model_name='gpt-3.5-turbo-1106' # 16,385 tokens\n",
    "# model_name='gpt-4-0613'\n",
    "llm=OpenAI(model_name=model_name)\n",
    "\n"
   ]
  },
  {
   "cell_type": "code",
   "execution_count": 29,
   "metadata": {},
   "outputs": [
    {
     "name": "stderr",
     "output_type": "stream",
     "text": [
      "100%|██████████| 10/10 [03:51<00:00, 23.17s/it]\n"
     ]
    }
   ],
   "source": [
    "from llama_index.finetuning import generate_qa_embedding_pairs\n",
    "\n",
    "\n",
    "qa_pairs=generate_qa_embedding_pairs(nodes[100:110],\n",
    "                                     llm=llm,\n",
    "                                     num_questions_per_chunk=1)"
   ]
  },
  {
   "cell_type": "code",
   "execution_count": 31,
   "metadata": {},
   "outputs": [
    {
     "name": "stdout",
     "output_type": "stream",
     "text": [
      "['What is the purpose of the computer-based model developed in this study?',\n",
      " 'How are ball bearings typically mounted in space mechanisms?',\n",
      " 'What is the main sizing criterion for ball bearings in space mechanisms?',\n",
      " 'What is the significance of accurate knowledge of maximum bearing loads in space mechanism design?',\n",
      " 'What were the main findings of the investigation conducted by the European Space Tribology Laboratory (ESTL)?',\n",
      " 'What inspired the continuation of research in this field?',\n",
      " 'What specific focus did the test program in this investigation have?',\n",
      " 'What software was used to build the computer-based model?',\n",
      " 'What aspects of the bearing cartridges did the model aim to simulate?',\n",
      " 'What is the purpose of the post-processing of acquired test signals?',\n",
      " 'What are the two basic methods for applying bearing preload in space mechanisms?',\n",
      " 'How does the hard preload method differ from the soft preload method in ball bearing systems?',\n",
      " 'What is the phenomenon known as gapping in ball bearing systems and how does it occur?',\n",
      " 'How can the off-loading or gapping force in a hard-preloaded bearing pair be estimated?',\n",
      " 'How does the static behavior of a hard-preloaded bearing pair differ from that of an individual bearing?',\n",
      " 'What is the relationship between axial bearing load and deflection in a hard-preloaded bearing pair?',\n",
      " 'How can the linearized stiffness around the preload point in a hard-preloaded bearing pair be approximated?',\n",
      " 'What are the advantages and disadvantages of both the hard preload and soft preload methods in ball bearing systems?',\n",
      " 'How does the total load on a bearing pair change when an axial load is applied during launch or normal operation?',\n",
      " 'What is the purpose of preloading angular contact or deep-groove bearings in space mechanisms?',\n",
      " 'Explain the difference in behavior between hard preloaded bearing pairs and soft preloaded bearing pairs in terms of their axial load-deflection characteristics.',\n",
      " 'How does the stiffness of a soft preloaded bearing pair differ from that of a hard preloaded bearing pair?',\n",
      " 'What is the significance of off-loaded races experiencing considerable axial travel in a soft preloaded bearing pair?',\n",
      " 'How does the motion of off-loaded races in a soft preloaded bearing pair affect the dynamic model of the system?',\n",
      " 'Describe the concept of gapping in a soft preloaded bearing pair and its relationship to the preload magnitude and spring stiffness.',\n",
      " 'How can the linearized stiffness of a soft preloaded bearing system be approximated?',\n",
      " 'Compare and contrast the load deflection curves of hard preloaded bearing pairs and soft preloaded bearing pairs.',\n",
      " 'What is the purpose of a snubber in a bearing pair and how does it affect the onset of gapping?',\n",
      " 'Explain the role of the preload spring in a soft preloaded bearing pair and its influence on the load-deflection characteristic.',\n",
      " 'Discuss the implications of the asymmetric load-deflection characteristic in a soft preloaded bearing pair.',\n",
      " 'What is the purpose of adding snubbers to bearing pairs in the context of this study?',\n",
      " 'Which software package was used for the modelling and simulation of the bearing system?',\n",
      " 'How are the load-deflection characteristics of the bearings modelled in the dynamic simulation?',\n",
      " 'What types of profiles can be input by the user in the modelling and simulation process?',\n",
      " 'What was the purpose of the experimental test set-up in this study?',\n",
      " 'How many bearings are included in each test unit in the experimental set-up?',\n",
      " 'What is the function of the Belleville washers in the soft preloaded bearing cartridges?',\n",
      " 'What is the maximum additional mass that can be attached to the top of the shaft in the experimental set-up?',\n",
      " 'What type of configuration are the bearings preloaded in?',\n",
      " 'What additional values of interest can be extracted using the post-processing module in the modelling and simulation approach?',\n",
      " 'What is the purpose of the preload on the shaft in the bearing cartridges?',\n",
      " 'How do the three test units differ from each other in terms of their preload characteristics?',\n",
      " 'What were the two different shakers used during the test program and what were their purposes?',\n",
      " 'How were the test units excited during the tests?',\n",
      " 'What were the purposes of the accelerometers and load cells used during the tests?',\n",
      " 'Describe the test set-ups depicted in Figure 6.',\n",
      " 'What were the preload parameters for each test unit?',\n",
      " 'What types of vibration tests were the test units exposed to?',\n",
      " 'What were the amplitude ranges for the sine sweeps and random tests for the different test units?',\n",
      " 'How did the low-level sine sweeps compare to the high-level runs in terms of the dynamic response of the bearing cartridges?',\n",
      " 'How does the resonance frequency of the hard preload test unit change with increasing excitation magnitude?',\n",
      " 'What causes the features found in the Power Spectral Densities (PSDs) of the output acceleration for the hard preload test unit?',\n",
      " 'How does the resonance frequency of the soft preload cases change with increasing excitation magnitude?',\n",
      " 'What happens to the resonance frequency of the system when the excitation reaches snubber contact for the soft preload cases?',\n",
      " 'How does the quality factor relate to the resonance frequency as a function of the excitation level?',\n",
      " 'What is the purpose of maintaining increasing input levels over sufficiently long periods of time in the runs with constant frequency sine excitation?',\n",
      " 'What is the significance of the acceleration asymmetry observed in the soft preload test unit?',\n",
      " 'How can the relative displacement between the housing and dummy mass and shaft be estimated?',\n",
      " 'How can the dynamic force applied on the shaft be estimated using the double integration of input and output accelerations?',\n",
      " 'What should be kept in mind when comparing the estimated dynamic force with the theoretical load-deflection curve?',\n",
      " 'How does the generalized stiffness term, K, account for the nonlinear load-deflection characteristic of a bearing system?',\n",
      " 'What factors does the generalized loss term, L, cater for in a bearing system?',\n",
      " 'How does the loss term manifest itself in the load-deflection curves for the two motion directions?',\n",
      " 'What are the differences in output acceleration PSD between the hard preload unit and soft preload unit #3?',\n",
      " 'How do the quality factor and resonance frequency vary with excitation magnitude?',\n",
      " 'What can be observed from the load-deflection curves of the hard preload unit in terms of linearity and hysteresis?',\n",
      " 'What is the significance of the dummy mass and shaft load reaching approximately 7.5 times the bearing preload?',\n",
      " 'How does the load and stiffness evolve in the soft preload unit #3 compared to the hard preload case?',\n",
      " 'At what load does the bearing system enter the gapping state in the spring compression direction for the soft preload unit #3?',\n",
      " 'Why is there a discrepancy in the load at which the gapping state is left in the spring relaxation direction for the soft preload unit #3?',\n",
      " 'What is the difference between the steady-state response of the hard preload unit and soft preload unit #3?',\n",
      " 'How do the histograms of the input and output accelerations provide insights into the underlying statistics of the random vibration tests?',\n",
      " 'Describe the skewness observed in the histograms of the soft preload test unit as the input power increases.',\n",
      " 'What are the spiky features observed in the histogram of the soft preload test unit for high-level excitation?',\n",
      " 'How can the Miles formula be used to approximate the response RMS level and size the bearings?',\n",
      " 'Explain the significance of the left-side tail and right-side tail of the histogram in the soft preload test unit.',\n",
      " 'How can the number of dummy mass acceleration samples indirectly determine the bearing forces?',\n",
      " 'What information can be obtained from the static load deflection curves for the hard preload and soft preload units?',\n",
      " 'Compare the deflection values for the hard preload and soft preload units at different dummy mass loads.',\n",
      " 'How does the load deflection curve for the soft preload unit change as the dummy mass load increases?',\n",
      " 'How does the 3σ rule determine the validity of the hard preload unit in the specific cases investigated?',\n",
      " 'How can the dummy mass acceleration be related to the bearing loads?',\n",
      " 'Based on the bearing design parameters, how can the model deliver the Hertzian contact stress in the ball-race contacts?',\n",
      " 'Compare the maximum Hertzian contact pressure reached during the tests to those obtained via the predicted 3σ values in Table 3. Are the extreme value events significantly higher than the predictions made with the Miles formula?',\n",
      " 'What do the histograms of the output acceleration for random excitation levels 2.2, 4.5, and 8.9 g rms (hard preload unit) in Figure 11 indicate?',\n",
      " 'What do the histograms of the output acceleration for random excitation levels 1.1, 2.2, and 4.5 g rms (soft preload unit #3) in Figure 12 suggest?',\n",
      " 'How does the dummy mass load vary with different input levels of 2.2, 4.5, and 8.9 g rms for the hard preload unit?',\n",
      " 'How does the dummy mass load vary with different input levels of 1.1, 2.2, and 4.5 g rms for soft preload unit #3?',\n",
      " 'What is the significance of the negative values in the dummy mass load in the histograms?',\n",
      " 'How does the input level of 2.2 g rms affect the dummy mass load in comparison to the input level of 4.5 g rms for the hard preload unit?',\n",
      " 'What is the percentage of output acceleration samples exceeding the 3σ value for test unit #3 (soft) at 6.3 g rms?',\n",
      " 'How does the stiffness of a single bearing in a hard preload configuration differ from that of a soft preload configuration?',\n",
      " 'What are the potential reasons for the higher than expected stiffness of the hard preload test unit with a free contact angle of approximately 13 degrees?',\n",
      " 'How can the load-deflection characteristic for the soft preload cases be represented using a function?',\n",
      " 'What is the maximum Hertzian pressure in MPa for test unit #6 (soft) at 8.9 g rms?']\n"
     ]
    }
   ],
   "source": [
    "queries=qa_pairs.queries.values()\n",
    "pprint.pprint(list(queries),width=500)"
   ]
  },
  {
   "cell_type": "code",
   "execution_count": 32,
   "metadata": {},
   "outputs": [],
   "source": [
    "qa_pairs.save_json(data_folder+'ams_dataset_qa_pairs_'+model_name+'.json')"
   ]
  },
  {
   "cell_type": "markdown",
   "metadata": {},
   "source": [
    "# Hugging Face Models"
   ]
  },
  {
   "cell_type": "code",
   "execution_count": 35,
   "metadata": {},
   "outputs": [],
   "source": [
    "from llama_index.llms import HuggingFaceInferenceAPI\n",
    "\n",
    "# model_name='google/flan-t5-xxl'\n",
    "# model_name='WizardLM/WizardLM-70B-V1.0'\n",
    "model='mistralai/'\n",
    "name='Mistral-7B-Instruct-v0.1'\n",
    "llm=HuggingFaceInferenceAPI(model_name=model+name,token=os.getenv('HUGGINGFACEHUB_API_TOKEN'))"
   ]
  },
  {
   "cell_type": "code",
   "execution_count": 36,
   "metadata": {},
   "outputs": [
    {
     "name": "stderr",
     "output_type": "stream",
     "text": [
      " 18%|█▊        | 295/1616 [21:27<1:36:06,  4.37s/it]\n"
     ]
    },
    {
     "ename": "HfHubHTTPError",
     "evalue": "429 Client Error: Too Many Requests for url: https://api-inference.huggingface.co/models/mistralai/Mistral-7B-Instruct-v0.1 (Request ID: cZ2LOrxQZxBk3xNreRo55)\n\nRate limit reached. You reached free usage limit (reset hourly). Please subscribe to a plan at https://huggingface.co/pricing to use the API at this rate",
     "output_type": "error",
     "traceback": [
      "\u001b[0;31m---------------------------------------------------------------------------\u001b[0m",
      "\u001b[0;31mHTTPError\u001b[0m                                 Traceback (most recent call last)",
      "File \u001b[0;32m/Library/Frameworks/Python.framework/Versions/3.11/lib/python3.11/site-packages/huggingface_hub/utils/_errors.py:270\u001b[0m, in \u001b[0;36mhf_raise_for_status\u001b[0;34m(response, endpoint_name)\u001b[0m\n\u001b[1;32m    269\u001b[0m \u001b[39mtry\u001b[39;00m:\n\u001b[0;32m--> 270\u001b[0m     response\u001b[39m.\u001b[39;49mraise_for_status()\n\u001b[1;32m    271\u001b[0m \u001b[39mexcept\u001b[39;00m HTTPError \u001b[39mas\u001b[39;00m e:\n",
      "File \u001b[0;32m/Library/Frameworks/Python.framework/Versions/3.11/lib/python3.11/site-packages/requests/models.py:1021\u001b[0m, in \u001b[0;36mResponse.raise_for_status\u001b[0;34m(self)\u001b[0m\n\u001b[1;32m   1020\u001b[0m \u001b[39mif\u001b[39;00m http_error_msg:\n\u001b[0;32m-> 1021\u001b[0m     \u001b[39mraise\u001b[39;00m HTTPError(http_error_msg, response\u001b[39m=\u001b[39m\u001b[39mself\u001b[39m)\n",
      "\u001b[0;31mHTTPError\u001b[0m: 429 Client Error: Too Many Requests for url: https://api-inference.huggingface.co/models/mistralai/Mistral-7B-Instruct-v0.1",
      "\nThe above exception was the direct cause of the following exception:\n",
      "\u001b[0;31mHfHubHTTPError\u001b[0m                            Traceback (most recent call last)",
      "\u001b[1;32m/Users/danmueller/Documents/GitHub/aerospace_chatbot/scripts/make_qa_pairs.ipynb Cell 17\u001b[0m line \u001b[0;36m4\n\u001b[1;32m      <a href='vscode-notebook-cell:/Users/danmueller/Documents/GitHub/aerospace_chatbot/scripts/make_qa_pairs.ipynb#X22sZmlsZQ%3D%3D?line=0'>1</a>\u001b[0m \u001b[39mfrom\u001b[39;00m \u001b[39mllama_index\u001b[39;00m\u001b[39m.\u001b[39;00m\u001b[39mfinetuning\u001b[39;00m \u001b[39mimport\u001b[39;00m generate_qa_embedding_pairs\n\u001b[0;32m----> <a href='vscode-notebook-cell:/Users/danmueller/Documents/GitHub/aerospace_chatbot/scripts/make_qa_pairs.ipynb#X22sZmlsZQ%3D%3D?line=3'>4</a>\u001b[0m qa_pairs\u001b[39m=\u001b[39mgenerate_qa_embedding_pairs(nodes,\n\u001b[1;32m      <a href='vscode-notebook-cell:/Users/danmueller/Documents/GitHub/aerospace_chatbot/scripts/make_qa_pairs.ipynb#X22sZmlsZQ%3D%3D?line=4'>5</a>\u001b[0m                                      llm\u001b[39m=\u001b[39;49mllm,\n\u001b[1;32m      <a href='vscode-notebook-cell:/Users/danmueller/Documents/GitHub/aerospace_chatbot/scripts/make_qa_pairs.ipynb#X22sZmlsZQ%3D%3D?line=5'>6</a>\u001b[0m                                      num_questions_per_chunk\u001b[39m=\u001b[39;49m\u001b[39m1\u001b[39;49m)\n",
      "File \u001b[0;32m/Library/Frameworks/Python.framework/Versions/3.11/lib/python3.11/site-packages/llama_index/finetuning/embeddings/common.py:87\u001b[0m, in \u001b[0;36mgenerate_qa_embedding_pairs\u001b[0;34m(nodes, llm, qa_generate_prompt_tmpl, num_questions_per_chunk)\u001b[0m\n\u001b[1;32m     83\u001b[0m \u001b[39mfor\u001b[39;00m node_id, text \u001b[39min\u001b[39;00m tqdm(node_dict\u001b[39m.\u001b[39mitems()):\n\u001b[1;32m     84\u001b[0m     query \u001b[39m=\u001b[39m qa_generate_prompt_tmpl\u001b[39m.\u001b[39mformat(\n\u001b[1;32m     85\u001b[0m         context_str\u001b[39m=\u001b[39mtext, num_questions_per_chunk\u001b[39m=\u001b[39mnum_questions_per_chunk\n\u001b[1;32m     86\u001b[0m     )\n\u001b[0;32m---> 87\u001b[0m     response \u001b[39m=\u001b[39m llm\u001b[39m.\u001b[39;49mcomplete(query)\n\u001b[1;32m     89\u001b[0m     result \u001b[39m=\u001b[39m \u001b[39mstr\u001b[39m(response)\u001b[39m.\u001b[39mstrip()\u001b[39m.\u001b[39msplit(\u001b[39m\"\u001b[39m\u001b[39m\\n\u001b[39;00m\u001b[39m\"\u001b[39m)\n\u001b[1;32m     90\u001b[0m     questions \u001b[39m=\u001b[39m [\n\u001b[1;32m     91\u001b[0m         re\u001b[39m.\u001b[39msub(\u001b[39mr\u001b[39m\u001b[39m\"\u001b[39m\u001b[39m^\u001b[39m\u001b[39m\\\u001b[39m\u001b[39md+[\u001b[39m\u001b[39m\\\u001b[39m\u001b[39m).\u001b[39m\u001b[39m\\\u001b[39m\u001b[39ms]\u001b[39m\u001b[39m\"\u001b[39m, \u001b[39m\"\u001b[39m\u001b[39m\"\u001b[39m, question)\u001b[39m.\u001b[39mstrip() \u001b[39mfor\u001b[39;00m question \u001b[39min\u001b[39;00m result\n\u001b[1;32m     92\u001b[0m     ]\n",
      "File \u001b[0;32m/Library/Frameworks/Python.framework/Versions/3.11/lib/python3.11/site-packages/llama_index/llms/huggingface.py:559\u001b[0m, in \u001b[0;36mHuggingFaceInferenceAPI.complete\u001b[0;34m(self, prompt, **kwargs)\u001b[0m\n\u001b[1;32m    557\u001b[0m \u001b[39mdef\u001b[39;00m \u001b[39mcomplete\u001b[39m(\u001b[39mself\u001b[39m, prompt: \u001b[39mstr\u001b[39m, \u001b[39m*\u001b[39m\u001b[39m*\u001b[39mkwargs: Any) \u001b[39m-\u001b[39m\u001b[39m>\u001b[39m CompletionResponse:\n\u001b[1;32m    558\u001b[0m     \u001b[39mreturn\u001b[39;00m CompletionResponse(\n\u001b[0;32m--> 559\u001b[0m         text\u001b[39m=\u001b[39m\u001b[39mself\u001b[39;49m\u001b[39m.\u001b[39;49m_sync_client\u001b[39m.\u001b[39;49mtext_generation(\n\u001b[1;32m    560\u001b[0m             prompt, \u001b[39m*\u001b[39;49m\u001b[39m*\u001b[39;49m{\u001b[39m*\u001b[39;49m\u001b[39m*\u001b[39;49m{\u001b[39m\"\u001b[39;49m\u001b[39mmax_new_tokens\u001b[39;49m\u001b[39m\"\u001b[39;49m: \u001b[39mself\u001b[39;49m\u001b[39m.\u001b[39;49mnum_output}, \u001b[39m*\u001b[39;49m\u001b[39m*\u001b[39;49mkwargs}\n\u001b[1;32m    561\u001b[0m         )\n\u001b[1;32m    562\u001b[0m     )\n",
      "File \u001b[0;32m/Library/Frameworks/Python.framework/Versions/3.11/lib/python3.11/site-packages/huggingface_hub/inference/_client.py:1535\u001b[0m, in \u001b[0;36mInferenceClient.text_generation\u001b[0;34m(self, prompt, details, stream, model, do_sample, max_new_tokens, best_of, repetition_penalty, return_full_text, seed, stop_sequences, temperature, top_k, top_p, truncate, typical_p, watermark, decoder_input_details)\u001b[0m\n\u001b[1;32m   1514\u001b[0m         _set_as_non_tgi(model)\n\u001b[1;32m   1515\u001b[0m         \u001b[39mreturn\u001b[39;00m \u001b[39mself\u001b[39m\u001b[39m.\u001b[39mtext_generation(  \u001b[39m# type: ignore\u001b[39;00m\n\u001b[1;32m   1516\u001b[0m             prompt\u001b[39m=\u001b[39mprompt,\n\u001b[1;32m   1517\u001b[0m             details\u001b[39m=\u001b[39mdetails,\n\u001b[0;32m   (...)\u001b[0m\n\u001b[1;32m   1533\u001b[0m             decoder_input_details\u001b[39m=\u001b[39mdecoder_input_details,\n\u001b[1;32m   1534\u001b[0m         )\n\u001b[0;32m-> 1535\u001b[0m     raise_text_generation_error(e)\n\u001b[1;32m   1537\u001b[0m \u001b[39m# Parse output\u001b[39;00m\n\u001b[1;32m   1538\u001b[0m \u001b[39mif\u001b[39;00m stream:\n",
      "File \u001b[0;32m/Library/Frameworks/Python.framework/Versions/3.11/lib/python3.11/site-packages/huggingface_hub/inference/_text_generation.py:521\u001b[0m, in \u001b[0;36mraise_text_generation_error\u001b[0;34m(http_error)\u001b[0m\n\u001b[1;32m    518\u001b[0m     \u001b[39mraise\u001b[39;00m exception \u001b[39mfrom\u001b[39;00m \u001b[39mhttp_error\u001b[39;00m\n\u001b[1;32m    520\u001b[0m \u001b[39m# Otherwise, fallback to default error\u001b[39;00m\n\u001b[0;32m--> 521\u001b[0m \u001b[39mraise\u001b[39;00m http_error\n",
      "File \u001b[0;32m/Library/Frameworks/Python.framework/Versions/3.11/lib/python3.11/site-packages/huggingface_hub/inference/_client.py:1511\u001b[0m, in \u001b[0;36mInferenceClient.text_generation\u001b[0;34m(self, prompt, details, stream, model, do_sample, max_new_tokens, best_of, repetition_penalty, return_full_text, seed, stop_sequences, temperature, top_k, top_p, truncate, typical_p, watermark, decoder_input_details)\u001b[0m\n\u001b[1;32m   1509\u001b[0m \u001b[39m# Handle errors separately for more precise error messages\u001b[39;00m\n\u001b[1;32m   1510\u001b[0m \u001b[39mtry\u001b[39;00m:\n\u001b[0;32m-> 1511\u001b[0m     bytes_output \u001b[39m=\u001b[39m \u001b[39mself\u001b[39;49m\u001b[39m.\u001b[39;49mpost(json\u001b[39m=\u001b[39;49mpayload, model\u001b[39m=\u001b[39;49mmodel, task\u001b[39m=\u001b[39;49m\u001b[39m\"\u001b[39;49m\u001b[39mtext-generation\u001b[39;49m\u001b[39m\"\u001b[39;49m, stream\u001b[39m=\u001b[39;49mstream)  \u001b[39m# type: ignore\u001b[39;00m\n\u001b[1;32m   1512\u001b[0m \u001b[39mexcept\u001b[39;00m HTTPError \u001b[39mas\u001b[39;00m e:\n\u001b[1;32m   1513\u001b[0m     \u001b[39mif\u001b[39;00m \u001b[39misinstance\u001b[39m(e, BadRequestError) \u001b[39mand\u001b[39;00m \u001b[39m\"\u001b[39m\u001b[39mThe following `model_kwargs` are not used by the model\u001b[39m\u001b[39m\"\u001b[39m \u001b[39min\u001b[39;00m \u001b[39mstr\u001b[39m(e):\n",
      "File \u001b[0;32m/Library/Frameworks/Python.framework/Versions/3.11/lib/python3.11/site-packages/huggingface_hub/inference/_client.py:240\u001b[0m, in \u001b[0;36mInferenceClient.post\u001b[0;34m(self, json, data, model, task, stream)\u001b[0m\n\u001b[1;32m    237\u001b[0m         \u001b[39mraise\u001b[39;00m InferenceTimeoutError(\u001b[39mf\u001b[39m\u001b[39m\"\u001b[39m\u001b[39mInference call timed out: \u001b[39m\u001b[39m{\u001b[39;00murl\u001b[39m}\u001b[39;00m\u001b[39m\"\u001b[39m) \u001b[39mfrom\u001b[39;00m \u001b[39merror\u001b[39;00m  \u001b[39m# type: ignore\u001b[39;00m\n\u001b[1;32m    239\u001b[0m \u001b[39mtry\u001b[39;00m:\n\u001b[0;32m--> 240\u001b[0m     hf_raise_for_status(response)\n\u001b[1;32m    241\u001b[0m     \u001b[39mreturn\u001b[39;00m response\u001b[39m.\u001b[39miter_lines() \u001b[39mif\u001b[39;00m stream \u001b[39melse\u001b[39;00m response\u001b[39m.\u001b[39mcontent\n\u001b[1;32m    242\u001b[0m \u001b[39mexcept\u001b[39;00m HTTPError \u001b[39mas\u001b[39;00m error:\n",
      "File \u001b[0;32m/Library/Frameworks/Python.framework/Versions/3.11/lib/python3.11/site-packages/huggingface_hub/utils/_errors.py:330\u001b[0m, in \u001b[0;36mhf_raise_for_status\u001b[0;34m(response, endpoint_name)\u001b[0m\n\u001b[1;32m    326\u001b[0m     \u001b[39mraise\u001b[39;00m BadRequestError(message, response\u001b[39m=\u001b[39mresponse) \u001b[39mfrom\u001b[39;00m \u001b[39me\u001b[39;00m\n\u001b[1;32m    328\u001b[0m \u001b[39m# Convert `HTTPError` into a `HfHubHTTPError` to display request information\u001b[39;00m\n\u001b[1;32m    329\u001b[0m \u001b[39m# as well (request id and/or server error message)\u001b[39;00m\n\u001b[0;32m--> 330\u001b[0m \u001b[39mraise\u001b[39;00m HfHubHTTPError(\u001b[39mstr\u001b[39m(e), response\u001b[39m=\u001b[39mresponse) \u001b[39mfrom\u001b[39;00m \u001b[39me\u001b[39;00m\n",
      "\u001b[0;31mHfHubHTTPError\u001b[0m: 429 Client Error: Too Many Requests for url: https://api-inference.huggingface.co/models/mistralai/Mistral-7B-Instruct-v0.1 (Request ID: cZ2LOrxQZxBk3xNreRo55)\n\nRate limit reached. You reached free usage limit (reset hourly). Please subscribe to a plan at https://huggingface.co/pricing to use the API at this rate"
     ]
    }
   ],
   "source": [
    "from llama_index.finetuning import generate_qa_embedding_pairs\n",
    "\n",
    "\n",
    "qa_pairs=generate_qa_embedding_pairs(nodes,\n",
    "                                     llm=llm,\n",
    "                                     num_questions_per_chunk=1)"
   ]
  },
  {
   "cell_type": "code",
   "execution_count": null,
   "metadata": {},
   "outputs": [
    {
     "name": "stdout",
     "output_type": "stream",
     "text": [
      "['What is the main sizing criterion for ball bearings?',\n",
      " 'What is the difference between hard and soft preload methods in ball bearing systems in space mechanisms?',\n",
      " 'What is the difference between hard and soft preloaded bearings?',\n",
      " 'What is the purpose of preloading bearings in general?',\n",
      " 'What is the purpose of the bearing cartridges in the test units?',\n",
      " 'How were the test units mounted on the shakers during the test program?',\n",
      " 'What was the role of the accelerometers in the test set-ups?',\n",
      " 'What were the preload parameters for the three test units?',\n",
      " 'What were the test set-ups used for the sine sweep tests?',\n",
      " 'What were the test set-ups used for the random vibration tests?',\n",
      " 'What were the test set-ups used for the constant frequency sine tests?',\n",
      " 'What was the purpose of the load cells in the test set-ups?',\n",
      " 'How were the time-domain signals of all sensors recorded during the tests?',\n",
      " 'What was the comparison made during the sine sweep tests before and after the high-level runs?',\n",
      " 'What is the purpose of the load cell phases in the analysis of the load cell phases in the PSD plots?',\n",
      " 'What is the generalized stiffness term K in the context information?',\n",
      " 'What is the purpose of the hard preload unit and soft preload unit?',\n",
      " 'What is the purpose of applying the natural frequencies and quality factors for small levels of excitation in Miles formula?',\n",
      " 'What is the percentage of output acceleration samples exceeding the related 3σ value for test unit #1?']\n"
     ]
    }
   ],
   "source": [
    "queries=qa_pairs.queries.values()\n",
    "pprint.pprint(list(queries),width=500)"
   ]
  },
  {
   "cell_type": "code",
   "execution_count": null,
   "metadata": {},
   "outputs": [],
   "source": [
    "qa_pairs.save_json(data_folder+'ams_dataset_qa_pairs_'+name+'.json')"
   ]
  },
  {
   "cell_type": "code",
   "execution_count": null,
   "metadata": {},
   "outputs": [],
   "source": []
  }
 ],
 "metadata": {
  "kernelspec": {
   "display_name": "Python 3",
   "language": "python",
   "name": "python3"
  },
  "language_info": {
   "codemirror_mode": {
    "name": "ipython",
    "version": 3
   },
   "file_extension": ".py",
   "mimetype": "text/x-python",
   "name": "python",
   "nbconvert_exporter": "python",
   "pygments_lexer": "ipython3",
   "version": "3.11.1"
  },
  "orig_nbformat": 4
 },
 "nbformat": 4,
 "nbformat_minor": 2
}
