{
 "cells": [
  {
   "cell_type": "markdown",
   "metadata": {},
   "source": [
    "# Install and command line myocrpdf"
   ]
  },
  {
   "cell_type": "code",
   "execution_count": null,
   "metadata": {},
   "outputs": [],
   "source": [
    "# !brew install ocrmypdf"
   ]
  },
  {
   "cell_type": "code",
   "execution_count": null,
   "metadata": {},
   "outputs": [],
   "source": [
    "# !ocrmypdf --tesseract-timeout 0 --force-ocr AMS_2000.pdf AMS_2000_stripped.pdf\n",
    "# !ocrmypdf --sidecar AMS_2000_redo_out.txt AMS_2000_stripped.pdf AMS_2000_strip_redo.pdf"
   ]
  },
  {
   "cell_type": "markdown",
   "metadata": {},
   "source": [
    "# Batch process documents"
   ]
  },
  {
   "cell_type": "code",
   "execution_count": null,
   "metadata": {},
   "outputs": [],
   "source": [
    "import os\n",
    "from tqdm.notebook import tqdm"
   ]
  },
  {
   "cell_type": "code",
   "execution_count": null,
   "metadata": {},
   "outputs": [],
   "source": [
    "directory=os.path.join('..','data','AMS')\n",
    "documents = ['AMS_2000', \n",
    "             'AMS_2001',\n",
    "             'AMS_2002',\n",
    "             'AMS_2004',\n",
    "             'AMS_2006',\n",
    "             'AMS_2008',\n",
    "             'AMS_2010',\n",
    "             'AMS_2012',\n",
    "             'AMS_2014',\n",
    "             'AMS_2016',\n",
    "             'AMS_2018',\n",
    "             'AMS_2020']"
   ]
  },
  {
   "cell_type": "code",
   "execution_count": 6,
   "metadata": {},
   "outputs": [],
   "source": [
    "for doc in tqdm(documents,desc='Document Processing'):\n",
    "    for i in tqdm(range(3), desc='Processing Step', leave=False):\n",
    "        if i == 0:\n",
    "            os.system(f'ocrmypdf --tesseract-timeout 0 --force-ocr {directory}/{doc}.pdf {directory}/{doc}_stripped.pdf')   # Stripped pdf\n",
    "        elif i == 1:    \n",
    "            # os.system(f'ocrmypdf --sidecar {directory}/{doc}_strip_reocr.txt {directory}/{doc}_stripped.pdf {directory}/{doc}_strip_reocr.pdf') # Apply OCR, output file\n",
    "        elif i == 2:\n",
    "            os.system(f'ocrmypdf --sidecar {directory}/{doc}_reocr.txt --redo-ocr {directory}/{doc}.pdf {directory}/{doc}__reocr.pdf') # Apply OCR, output file\n"
   ]
  },
  {
   "cell_type": "code",
   "execution_count": null,
   "metadata": {},
   "outputs": [],
   "source": []
  }
 ],
 "metadata": {
  "kernelspec": {
   "display_name": ".venv",
   "language": "python",
   "name": "python3"
  },
  "language_info": {
   "codemirror_mode": {
    "name": "ipython",
    "version": 3
   },
   "file_extension": ".py",
   "mimetype": "text/x-python",
   "name": "python",
   "nbconvert_exporter": "python",
   "pygments_lexer": "ipython3",
   "version": "3.11.1"
  }
 },
 "nbformat": 4,
 "nbformat_minor": 2
}
