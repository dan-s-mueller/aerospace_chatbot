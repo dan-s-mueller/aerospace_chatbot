{
 "cells": [
  {
   "cell_type": "markdown",
   "metadata": {},
   "source": [
    "# Download PDFs from website"
   ]
  },
  {
   "cell_type": "code",
   "execution_count": null,
   "metadata": {},
   "outputs": [],
   "source": [
    "from selenium import webdriver\n",
    "from selenium.webdriver.chrome.options import Options\n",
    "import time\n",
    "from bs4 import BeautifulSoup\n",
    "import os\n",
    "from time import sleep\n",
    "import requests"
   ]
  },
  {
   "cell_type": "markdown",
   "metadata": {},
   "source": [
    "I tested this out with the ESMATS (European Space Mechanisms and Tribology Symposium) papers which are available: https://www.esmats.eu/esmatspapers/index.php"
   ]
  },
  {
   "cell_type": "code",
   "execution_count": null,
   "metadata": {},
   "outputs": [],
   "source": [
    "def get_esmats_papers(url_base,year,folder):\n",
    "    url=url_base+year\n",
    "    # Set up the WebDriver, requires chrome to be installed\n",
    "    chrome_options = Options()\n",
    "    chrome_options.add_argument(\"--headless\")  # Run in headless mode (without opening a browser window)\n",
    "    chrome_options.add_argument(\"--no-sandbox\")\n",
    "    chrome_options.add_argument(\"--disable-dev-shm-usage\")\n",
    "    driver = webdriver.Chrome(options=chrome_options) # requires a chrome browser to be installed\n",
    "\n",
    "    driver.get(url) # # Open the webpage\n",
    "    time.sleep(5)  # Wait for the page to load, adjust this as needed\n",
    "\n",
    "    page_source = driver.page_source    # Get page source\n",
    "    driver.quit()   # Close the browser\n",
    "\n",
    "    soup = BeautifulSoup(page_source, 'html.parser')    # Parse the page source with BeautifulSoup\n",
    "    print(f\"Got soup for {year}!\")\n",
    " \n",
    "    # Find all anchor tags with href attribute ending with .pdf\n",
    "    pdf_links = soup.find_all('a', href=lambda href: href and href.endswith('.pdf'))\n",
    "\n",
    "    # Directory where PDFs will be saved\n",
    "    os.makedirs(folder, exist_ok=True)\n",
    "\n",
    "    # Iterate over all found PDF links and download each PDF\n",
    "    for link in pdf_links:\n",
    "        pdf_url = link['href']\n",
    "        # Full URL if the link is relative\n",
    "        if not pdf_url.startswith('http'):\n",
    "            pdf_url = 'https://www.esmats.eu/esmatspapers/' + pdf_url\n",
    "        print(f'Downloading {pdf_url}')\n",
    "        # Download the PDF file\n",
    "        response = requests.get(pdf_url)\n",
    "        # Get the file name from the URL\n",
    "        file_name = pdf_url.split('/')[-1]\n",
    "        # Save the PDF file\n",
    "        with open(os.path.join(folder,year+\"_\"+file_name), 'wb') as file:\n",
    "            file.write(response.content)\n",
    "\n",
    "    print(f\"Download completed for {year}!\")"
   ]
  },
  {
   "cell_type": "code",
   "execution_count": null,
   "metadata": {},
   "outputs": [],
   "source": [
    "\n",
    "# years = [\"2023\", \"2021\", \"2019\", \"2017\", \"2015\", \"2013\", \"2011\", \"2009\", \"2007\", \"2005\", \"2003\", \"2001\", \"1999\"]\n",
    "years = [\"2021\", \"2019\", \"2017\", \"2015\", \"2013\", \"2011\", \"2009\", \"2007\", \"2005\", \"2003\", \"2001\", \"1999\"]\n",
    "url=\"https://www.esmats.eu/esmatspapers/completelist.php?whichYear=\"\n",
    "folder=os.path.join('..','data','ESMAT')\n",
    "\n",
    "for year in years:\n",
    "    get_esmats_papers(url,year,folder)"
   ]
  },
  {
   "cell_type": "markdown",
   "metadata": {},
   "source": [
    "# Install and command line myocrpdf"
   ]
  },
  {
   "cell_type": "code",
   "execution_count": null,
   "metadata": {},
   "outputs": [],
   "source": [
    "# !brew install ocrmypdf"
   ]
  },
  {
   "cell_type": "code",
   "execution_count": null,
   "metadata": {},
   "outputs": [],
   "source": [
    "# !ocrmypdf --tesseract-timeout 0 --force-ocr AMS_2000.pdf AMS_2000_stripped.pdf\n",
    "# !ocrmypdf --sidecar AMS_2000_redo_out.txt AMS_2000_stripped.pdf AMS_2000_strip_redo.pdf"
   ]
  },
  {
   "cell_type": "markdown",
   "metadata": {},
   "source": [
    "# Batch process documents"
   ]
  },
  {
   "cell_type": "code",
   "execution_count": 3,
   "metadata": {},
   "outputs": [],
   "source": [
    "import os\n",
    "from tqdm.notebook import tqdm"
   ]
  },
  {
   "cell_type": "code",
   "execution_count": 7,
   "metadata": {},
   "outputs": [],
   "source": [
    "# Re-OCR AMS docs\n",
    "directory=os.path.join('..','data','AMS')\n",
    "documents = ['AMS_1980.pdf', \n",
    "             'AMS_1981.pdf',\n",
    "             'AMS_1982.pdf',\n",
    "             'AMS_1983.pdf',\n",
    "             'AMS_1984.pdf',\n",
    "             'AMS_1985.pdf',\n",
    "             'AMS_1986.pdf',\n",
    "             'AMS_1987.pdf',\n",
    "             'AMS_1988.pdf',\n",
    "             'AMS_1990.pdf',\n",
    "             'AMS_1991.pdf',\n",
    "             'AMS_1992.pdf',\n",
    "             'AMS_1993.pdf',\n",
    "             'AMS_1994.pdf',\n",
    "             'AMS_1995.pdf',\n",
    "             'AMS_1996.pdf',\n",
    "             'AMS_1997.pdf',\n",
    "             'AMS_1998.pdf',\n",
    "             'AMS_1999.pdf']\n",
    "\n",
    "# Re-OCR ESMAT docs from 1999-2003, which are probably pretty outdated OCRs.\n",
    "directory=os.path.join('..','data','AMS','reocr')\n",
    "documents = [file for file in os.listdir(directory) if file.endswith('.pdf') and any(year in file for year in ['1980', '1981', '1982'])]"
   ]
  },
  {
   "cell_type": "code",
   "execution_count": null,
   "metadata": {},
   "outputs": [],
   "source": [
    "for doc in tqdm(documents,desc='Document Processing'):\n",
    "    print(f\"Processing {doc}\")\n",
    "    try:\n",
    "        for i in tqdm(range(2), desc=f\"Processing {doc}\", leave=False):\n",
    "            if i == 0:\n",
    "                os.system(f'ocrmypdf --tesseract-timeout 0 --continue-on-soft-render-error --force-ocr {directory}/{doc} {directory}/{doc}_stripped.pdf')   # Stripped pdf\n",
    "            # elif i == 1:    \n",
    "            #     os.system(f'ocrmypdf --sidecar {directory}/{doc}_strip_reocr.txt --continue-on-soft-render-error {directory}/{doc}_stripped.pdf {directory}/{doc}_strip_reocr.pdf') # Apply OCR, output file\n",
    "            elif i == 1:\n",
    "                os.system(f'ocrmypdf --sidecar {directory}/{doc}_reocr.txt --continue-on-soft-render-error --redo-ocr {directory}/{doc} {directory}/{doc}_reocr.pdf') # Apply OCR, output file\n",
    "    except:\n",
    "        print(f'Error processing {doc}')\n",
    "        pass"
   ]
  },
  {
   "cell_type": "code",
   "execution_count": null,
   "metadata": {},
   "outputs": [],
   "source": []
  }
 ],
 "metadata": {
  "kernelspec": {
   "display_name": ".venv",
   "language": "python",
   "name": "python3"
  },
  "language_info": {
   "codemirror_mode": {
    "name": "ipython",
    "version": 3
   },
   "file_extension": ".py",
   "mimetype": "text/x-python",
   "name": "python",
   "nbconvert_exporter": "python",
   "pygments_lexer": "ipython3",
   "version": "3.11.1"
  }
 },
 "nbformat": 4,
 "nbformat_minor": 2
}
