{
 "cells": [
  {
   "cell_type": "code",
   "execution_count": 1,
   "metadata": {},
   "outputs": [],
   "source": [
    "%load_ext autoreload\n",
    "%autoreload 2"
   ]
  },
  {
   "cell_type": "markdown",
   "metadata": {},
   "source": [
    "# Test partitioning update"
   ]
  },
  {
   "cell_type": "code",
   "execution_count": 2,
   "metadata": {},
   "outputs": [],
   "source": [
    "from aerospace_chatbot.processing import DocumentProcessor\n",
    "from aerospace_chatbot.services import EmbeddingService, RerankService, LLMService, DatabaseService, prompts\n",
    "from aerospace_chatbot.processing import QAModel\n",
    "\n",
    "# Load environment variables\n",
    "from dotenv import load_dotenv\n",
    "load_dotenv(override=True)\n",
    "# Set LOCAL_DB_PATH environment variable\n",
    "# os.environ['LOCAL_DB_PATH'] = os.path.abspath('.')\n",
    "\n",
    "# Initialize logger\n",
    "import logging\n",
    "logger = logging.getLogger(__name__)\n",
    "logging.basicConfig(level=logging.INFO)"
   ]
  },
  {
   "cell_type": "code",
   "execution_count": 3,
   "metadata": {},
   "outputs": [],
   "source": [
    "db_type='Pinecone'\n",
    "\n",
    "embedding_service='OpenAI'\n",
    "embedding_model='text-embedding-3-large'\n",
    "\n",
    "rerank_service='Cohere'\n",
    "rerank_model='rerank-v3.5'\n",
    "\n",
    "# llm_service='OpenAI'\n",
    "# llm_model='gpt-4o'\n",
    "llm_service='Anthropic'\n",
    "llm_model='claude-3-5-sonnet-latest'\n",
    "\n",
    "chunk_size=400\n",
    "chunk_overlap=0\n",
    "batch_size=50\n",
    "index_name = 'text-embedding-3-large-test'\n",
    "rag_type = 'Standard'\n",
    "\n",
    "test_prompt='How does a thermal knife function in a cable based hold down release mechanism?'"
   ]
  },
  {
   "cell_type": "code",
   "execution_count": 4,
   "metadata": {},
   "outputs": [],
   "source": [
    "# Initialize services\n",
    "embedding_service = EmbeddingService(\n",
    "    model_service=embedding_service,\n",
    "    model=embedding_model\n",
    ")\n",
    "\n",
    "rerank_service = RerankService(\n",
    "    model_service=rerank_service,\n",
    "    model=rerank_model\n",
    ")\n",
    "\n",
    "llm_service = LLMService(\n",
    "    model_service=llm_service,\n",
    "    model=llm_model,\n",
    ")\n",
    "\n",
    "doc_processor = DocumentProcessor(\n",
    "    embedding_service=embedding_service,\n",
    "    rag_type=rag_type,\n",
    "    chunk_size=chunk_size,\n",
    "    chunk_overlap=chunk_overlap,\n",
    ")\n",
    "\n",
    "# Initialize database service\n",
    "db_service = DatabaseService(\n",
    "    db_type=db_type,\n",
    "    index_name=index_name,\n",
    "    rag_type=rag_type,\n",
    "    embedding_service=embedding_service,\n",
    "    rerank_service=rerank_service,\n",
    ")"
   ]
  },
  {
   "cell_type": "code",
   "execution_count": 5,
   "metadata": {},
   "outputs": [
    {
     "name": "stderr",
     "output_type": "stream",
     "text": [
      "INFO:aerospace_chatbot.processing.documents:Number of PDFs found: 2\n",
      "INFO:aerospace_chatbot.processing.documents:PDFs found: ['gs://processing-pdfs/1999_christiansen_reocr.pdf', 'gs://processing-pdfs/1999_cremers_reocr.pdf']\n"
     ]
    },
    {
     "data": {
      "text/plain": [
       "['gs://processing-pdfs/1999_christiansen_reocr.pdf',\n",
       " 'gs://processing-pdfs/1999_cremers_reocr.pdf']"
      ]
     },
     "execution_count": 5,
     "metadata": {},
     "output_type": "execute_result"
    }
   ],
   "source": [
    "bucket_name = 'processing-pdfs'\n",
    "docs = DocumentProcessor.list_bucket_pdfs(bucket_name)\n",
    "docs"
   ]
  },
  {
   "cell_type": "code",
   "execution_count": 6,
   "metadata": {},
   "outputs": [],
   "source": [
    "# partitioned_docs = doc_processor.load_and_partition_documents(docs,partition_by_api=False, upload_bucket=bucket_name)\n",
    "# partitioned_docs"
   ]
  },
  {
   "cell_type": "code",
   "execution_count": 7,
   "metadata": {},
   "outputs": [],
   "source": [
    "# chunk_obj, output_paths = doc_processor.chunk_documents(partitioned_docs)\n",
    "# chunk_obj.chunk_convert(destination_type=Document)"
   ]
  },
  {
   "cell_type": "code",
   "execution_count": 8,
   "metadata": {},
   "outputs": [
    {
     "name": "stderr",
     "output_type": "stream",
     "text": [
      "INFO:aerospace_chatbot.services.database:Validating index text-embedding-3-large-test and RAG type Standard\n",
      "INFO:pinecone_plugin_interface.logging:Discovering subpackages in _NamespacePath(['/Users/danmueller/Documents/GitHub/aerospace_chatbot/.venv/lib/python3.11/site-packages/pinecone_plugins'])\n",
      "INFO:pinecone_plugin_interface.logging:Looking for plugins in pinecone_plugins.inference\n",
      "INFO:pinecone_plugin_interface.logging:Installing plugin inference into Pinecone\n",
      "INFO:aerospace_chatbot.services.database:Pinecone index text-embedding-3-large-test found, not creating. Will be initialized with existing index.\n"
     ]
    }
   ],
   "source": [
    "try:\n",
    "    db_service.initialize_database(clear=False)\n",
    "except ValueError as e:\n",
    "    print(f\"Database initialization failed: {str(e)}\")\n",
    "    print(e)\n",
    "    raise e"
   ]
  },
  {
   "cell_type": "code",
   "execution_count": 9,
   "metadata": {},
   "outputs": [],
   "source": [
    "# db_service.index_data(chunk_obj)"
   ]
  },
  {
   "cell_type": "code",
   "execution_count": 10,
   "metadata": {},
   "outputs": [],
   "source": [
    "k_retrieve=20\n",
    "k_rerank=5\n",
    "config = {\"configurable\": {\"thread_id\": \"1\"}}\n",
    "\n",
    "qa_model = QAModel(\n",
    "    db_service=db_service,\n",
    "    llm_service=llm_service,\n",
    "    k_retrieve=k_retrieve,\n",
    "    k_rerank=k_rerank,\n",
    "    memory_config=config\n",
    ")"
   ]
  },
  {
   "cell_type": "code",
   "execution_count": 11,
   "metadata": {},
   "outputs": [],
   "source": [
    "# qa_model.query(test_prompt)"
   ]
  },
  {
   "cell_type": "code",
   "execution_count": 12,
   "metadata": {},
   "outputs": [],
   "source": [
    "# print(qa_model.result[-1]['references'])\n",
    "# print(qa_model.sources[-1])\n",
    "# print(qa_model.scores[-1])\n"
   ]
  },
  {
   "cell_type": "code",
   "execution_count": 13,
   "metadata": {},
   "outputs": [],
   "source": [
    "# print(qa_model.ai_response)"
   ]
  },
  {
   "cell_type": "markdown",
   "metadata": {},
   "source": [
    "# Langgraph"
   ]
  },
  {
   "cell_type": "markdown",
   "metadata": {},
   "source": [
    "Run above section first\n"
   ]
  },
  {
   "cell_type": "code",
   "execution_count": 14,
   "metadata": {},
   "outputs": [],
   "source": [
    "from langchain_core.messages import SystemMessage, RemoveMessage\n",
    "from langchain.output_parsers import PydanticOutputParser\n",
    "from langgraph.checkpoint.memory import MemorySaver\n",
    "from langchain_core.documents import Document\n",
    "from langgraph.graph import MessagesState, StateGraph, START, END\n",
    "from langchain.prompts import PromptTemplate\n",
    "\n",
    "from typing_extensions import List\n",
    "from typing import List, Literal, Tuple\n",
    "\n",
    "# import cohere\n",
    "# import os\n",
    "from langchain.docstore.document import Document\n",
    "\n",
    "from aerospace_chatbot.services.prompts import InLineCitationsResponse, AltQuestionsResponse, style_mode, CHATBOT_SYSTEM_PROMPT, QA_PROMPT, SUMMARIZE_TEXT, GENERATE_SIMILAR_QUESTIONS_W_CONTEXT"
   ]
  },
  {
   "cell_type": "code",
   "execution_count": 15,
   "metadata": {},
   "outputs": [],
   "source": [
    "retriever = db_service.retriever\n",
    "llm = llm_service.get_llm()\n",
    "# memory = MemorySaver()"
   ]
  },
  {
   "cell_type": "markdown",
   "metadata": {},
   "source": [
    "## Rerank"
   ]
  },
  {
   "cell_type": "code",
   "execution_count": 16,
   "metadata": {},
   "outputs": [
    {
     "name": "stderr",
     "output_type": "stream",
     "text": [
      "INFO:httpx:HTTP Request: POST https://api.openai.com/v1/embeddings \"HTTP/1.1 200 OK\"\n"
     ]
    }
   ],
   "source": [
    "# Retrieve docs with standard retriever\n",
    "retrieved_docs = retriever.invoke(test_prompt)\n",
    "\n",
    "# retrieved_docs"
   ]
  },
  {
   "cell_type": "code",
   "execution_count": 17,
   "metadata": {},
   "outputs": [],
   "source": [
    "# COHERE_API_KEY = os.getenv(\"COHERE_API_KEY\")\n",
    "# co = cohere.ClientV2(COHERE_API_KEY)\n",
    "# rerank_model = \"rerank-v3.5\""
   ]
  },
  {
   "cell_type": "code",
   "execution_count": 18,
   "metadata": {},
   "outputs": [],
   "source": [
    "# model_list = co.models.list()\n",
    "# rerank_model_info = next((model for model in model_list.models if model.name == rerank_model), None)\n",
    "# print(rerank_model_info)\n",
    "\n",
    "# print(model_list.models)"
   ]
  },
  {
   "cell_type": "code",
   "execution_count": 19,
   "metadata": {},
   "outputs": [],
   "source": [
    "# Get token count for each doc\n",
    "# max_context_length = 4096\n",
    "\n",
    "# token_count_list = []\n",
    "# for doc in retrieved_docs[0]:\n",
    "#     tokens = co.tokenize(\n",
    "#         model=rerank_model,\n",
    "#         text=doc.page_content,\n",
    "#     )\n",
    "#     token_count_list.append(len(tokens.tokens))\n",
    "    # print(token_count)\n",
    "\n",
    "# print(token_count_list)"
   ]
  },
  {
   "cell_type": "code",
   "execution_count": 20,
   "metadata": {},
   "outputs": [],
   "source": [
    "# def cohere_rerank(query: str, retrieved_docs: List[Tuple[Document, float]], top_n: int = None):\n",
    "#     # retrieved_docs contains a list of tuples, where the first element is the document and the second is the score\n",
    "#     # Cohere's rerank expects a list of strings; we'll supply the page_content\n",
    "\n",
    "#     if top_n is None:\n",
    "#         top_n = 3\n",
    "#     elif top_n < 3:\n",
    "#         raise ValueError(\"top_n must be at least 3\")\n",
    "#     elif top_n > len(retrieved_docs):\n",
    "#         raise ValueError(\"top_n must be less than or equal to the number of retrieved documents\")\n",
    "    \n",
    "#     inputs = [doc.page_content for doc, _ in retrieved_docs]\n",
    "\n",
    "#     # Call Cohere's Rerank endpoint\n",
    "#     response = co.rerank(\n",
    "#         model=rerank_model,\n",
    "#         query=query,\n",
    "#         documents=inputs,\n",
    "#         top_n=top_n\n",
    "#     )\n",
    "\n",
    "#     # Create a dictionary to map document IDs to rerank scores\n",
    "#     rerank_scores = {retrieved_docs[i][0].id: item.relevance_score for i, item in enumerate(response.results)}\n",
    "\n",
    "#     # Create list of (doc, original_score, rerank_score) tuples\n",
    "#     doc_scores = []\n",
    "#     for doc, original_score in retrieved_docs:\n",
    "#         rerank_score = rerank_scores.get(doc.id, None)  # Get the rerank score or None if not available\n",
    "#         doc_scores.append((doc, original_score, rerank_score))\n",
    "\n",
    "#     # Sort docs by rerank score in descending order, placing those without a rerank score at the end\n",
    "#     doc_scores_sorted = sorted(doc_scores, key=lambda x: (x[2] is not None, x[2]), reverse=True)\n",
    "\n",
    "#     return doc_scores_sorted"
   ]
  },
  {
   "cell_type": "code",
   "execution_count": 21,
   "metadata": {},
   "outputs": [
    {
     "name": "stderr",
     "output_type": "stream",
     "text": [
      "INFO:httpx:HTTP Request: POST https://api.cohere.com/v2/rerank \"HTTP/1.1 200 OK\"\n"
     ]
    }
   ],
   "source": [
    "reranked_docs = db_service.rerank(test_prompt, retrieved_docs, top_n=k_rerank)\n",
    "# reranked_docs"
   ]
  },
  {
   "cell_type": "code",
   "execution_count": 22,
   "metadata": {},
   "outputs": [],
   "source": [
    "# Add context to the prompt\n",
    "# TODO update this to use the doc.id. Do some testing to check this works.\n",
    "docs_content=\"\"\n",
    "for i, (doc, original_score, rerank_score) in enumerate(reranked_docs):\n",
    "    # Source IDs in the order they show in in the array. Indexed from 0.\n",
    "    if rerank_score is not None:    # Only include docs with a rerank score\n",
    "        docs_content += f\"Source ID: {i+1}\\n{doc.page_content}\\n\\n\"\n",
    "\n",
    "# print(docs_content)"
   ]
  },
  {
   "cell_type": "markdown",
   "metadata": {},
   "source": [
    "## Test output parser"
   ]
  },
  {
   "cell_type": "markdown",
   "metadata": {},
   "source": [
    "### InLineCitationsResponse"
   ]
  },
  {
   "cell_type": "code",
   "execution_count": 23,
   "metadata": {},
   "outputs": [
    {
     "name": "stdout",
     "output_type": "stream",
     "text": [
      "content='\\nThe actuator was tested under high pressure <source id=\"1\">. \\nMaterial properties were measured over 50 cycles <source id=\"2\">.\\nThermal resistance improved by 30% <source id=\"3\">.\\n' citations=['1', '2', '3']\n"
     ]
    }
   ],
   "source": [
    "# Should validate\n",
    "valid_response = InLineCitationsResponse(content=\"\"\"\n",
    "The actuator was tested under high pressure <source id=\"1\">. \n",
    "Material properties were measured over 50 cycles <source id=\"2\">.\n",
    "Thermal resistance improved by 30% <source id=\"3\">.\n",
    "\"\"\",\n",
    "citations=[\"1\", \"2\", \"3\"]\n",
    ")\n",
    "\n",
    "print(valid_response)"
   ]
  },
  {
   "cell_type": "code",
   "execution_count": 24,
   "metadata": {},
   "outputs": [
    {
     "name": "stdout",
     "output_type": "stream",
     "text": [
      "Validation failed: 2 validation errors for InLineCitationsResponse\n",
      "content\n",
      "  Value error, No valid source tags found. Expected format: <source id=\"1\"> [type=value_error, input_value='\\n    The actuator was t... <source id=\"x\">.\\n    ', input_type=str]\n",
      "    For further information visit https://errors.pydantic.dev/2.9/v/value_error\n",
      "citations\n",
      "  Value error, No citations found in the content. Ensure sources are cited correctly. [type=value_error, input_value=['1', 'x'], input_type=list]\n",
      "    For further information visit https://errors.pydantic.dev/2.9/v/value_error\n"
     ]
    }
   ],
   "source": [
    "# Shouldn't validate\n",
    "try:\n",
    "    invalid_response = InLineCitationsResponse(content=\"\"\"\n",
    "    The actuator was tested under high pressure [1]. \n",
    "    Material properties were measured under load <source id=\"x\">.\n",
    "    \"\"\",\n",
    "    citations=[\"1\", \"x\"]\n",
    "    )\n",
    "except ValueError as e:\n",
    "    print(f\"Validation failed: {e}\")"
   ]
  },
  {
   "cell_type": "code",
   "execution_count": 25,
   "metadata": {},
   "outputs": [],
   "source": [
    "QA_PROMPT_TEST=PromptTemplate(\n",
    "    template=\n",
    "\"\"\"\n",
    "# **System Prompt**\n",
    "\n",
    "Your name is **Aerospace Chatbot**, a specialized assistant for flight hardware design and analysis in aerospace engineering. You will function as a knowledgeable replacement for an expert in aerospace flight hardware design, testing, analysis, and certification.\n",
    "\n",
    "> **Important Note:** The **Sources and Context** you are provided are ranked from most relevant to least relevant by a state-of-the-art retrieval and ranking tool. Please take this ranking into consideration when determining which sources to cite.\n",
    "\n",
    "Use only the **Sources and Context** provided to answer the **User Question**. **Do not use outside knowledge**, and strictly follow these rules:\n",
    "\n",
    "---\n",
    "\n",
    "## **Rules**:\n",
    "\n",
    "1. **Answer only based on the provided Sources and Context.**  \n",
    "   - If the information is not available in the Sources and Context, respond with:  \n",
    "     *\"I don’t know the answer to that based on the information provided. You might consider rephrasing your question or asking about a related topic.\"*\n",
    "\n",
    "2. **Do not make up or infer answers.**  \n",
    "   - Stay accurate and factual at all times.\n",
    "\n",
    "3. **Provide highly detailed, explanatory answers.**  \n",
    "   - Include **as many specific details from the original context** as possible to thoroughly address the user’s question.\n",
    "\n",
    "4. **Provide responses in English only** and format them using **Markdown** for clarity.\n",
    "\n",
    "5. **Cite Sources in context** using the exact format `<source id=\"#\">`:  \n",
    "   - `#` – Represents the numerical order of the source as provided in the Sources and Context.  \n",
    "   - **The `source` tag must be present for every source referenced in the response.**  \n",
    "   - **Do not add, omit, or modify any part of the citation format.**  \n",
    "   \n",
    "   **Examples (Correct):**  \n",
    "   > The actuator was tested under extreme conditions <source id=\"1\">.  \n",
    "   > A secondary material exhibited increased yield strength <source id=\"2\">.  \n",
    "   > Additional research confirmed thermal properties <source id=\"3\">.  \n",
    "\n",
    "   **Examples (Incorrect – Must Be Rejected):**  \n",
    "   > Testing yielded higher efficiency [1] (Incorrect bracket format)  \n",
    "   > <source id=\"1\" > (Extra space after `id`)  \n",
    "   > <source id=\"a\"> (Non-numeric ID)  \n",
    "   > <source id=\"1,2\"> (Multiple IDs in one tag – invalid)  \n",
    "\n",
    "6. **Every sentence or paragraph that uses a source must cite it with the format `<source id=\"#\">`.**  \n",
    "   - **Do not group multiple sources into a single tag.**  \n",
    "   - Each source must have its own, clearly separated citation.  \n",
    "   - For example:  \n",
    "     > The actuator uses a reinforced composite structure <source id=\"1\">.  \n",
    "     > This design was validated through multiple tests <source id=\"2\">.\n",
    "\n",
    "7. **Validation Requirement:**  \n",
    "   - If the response contains references without the exact `<source id=\"#\">` format, the response must be flagged or rejected.  \n",
    "   - Every source used must have a corresponding citation in the response.  \n",
    "   - **No source should be referenced without explicit citation.**\n",
    "\n",
    "8. **Suggest related or alternative questions** if applicable, to help the user find relevant information within the corpus.\n",
    "\n",
    "9. **Give preference to citing top-ranked sources.**  \n",
    "   - If the first sources in the list (i.e., the most relevant or highest-ranked) contain information that addresses the user’s question, cite them first.  \n",
    "   - Then cite additional sources only if they contain new or non-redundant details.  \n",
    "   - If the top-ranked sources are not relevant, skip them.\n",
    "\n",
    "---\n",
    "**Sources and Context**:\n",
    "{context}\n",
    "---\n",
    "\n",
    "---\n",
    "**User Question**:\n",
    "{question}\n",
    "---\n",
    "\n",
    "---\n",
    "{format_instructions}\n",
    "---\n",
    "\"\"\",\n",
    "    input_variables=[\"context\", \"question\"],\n",
    "    partial_variables={\"format_instructions\": PydanticOutputParser(pydantic_object=InLineCitationsResponse).get_format_instructions()},\n",
    ")\n"
   ]
  },
  {
   "cell_type": "code",
   "execution_count": 26,
   "metadata": {},
   "outputs": [
    {
     "name": "stderr",
     "output_type": "stream",
     "text": [
      "INFO:httpx:HTTP Request: POST https://api.anthropic.com/v1/messages \"HTTP/1.1 200 OK\"\n"
     ]
    },
    {
     "name": "stdout",
     "output_type": "stream",
     "text": [
      "{\n",
      "  \"content\": \"Based on the provided sources, the thermal knife functions as follows in a cable-based hold down release mechanism:\\n\\nThe system uses two thermal knives mounted on a holddown bracket for redundancy <source id=\\\"1\\\">. These thermal knives are positioned at approximately 8° angles to ensure their cutting edges make head-on contact after cutting through the wire bundle <source id=\\\"3\\\">.\\n\\nThe mechanism works by using a compression spring that pushes the thermal knife's heater plate through the wire bundle when activated <source id=\\\"2\\\">. The wire bundle being cut is made of Dyneema material, which when pretensioned, clamps together two parts of a component called the Reel <source id=\\\"4\\\">. This pretensioned wire bundle provides the necessary holddown load to secure the deployable component during launch and ascent <source id=\\\"5\\\">.\\n\\nWhen release is required, the thermal knife cuts through the Dyneema wire bundle, which separates the upper Reel part from the lower part, allowing the deployable component to release <source id=\\\"5\\\">.\",\n",
      "  \"citations\": [\n",
      "    \"<source id=\\\"1\\\">\",\n",
      "    \"<source id=\\\"2\\\">\",\n",
      "    \"<source id=\\\"3\\\">\",\n",
      "    \"<source id=\\\"4\\\">\",\n",
      "    \"<source id=\\\"5\\\">\"\n",
      "  ]\n",
      "}\n"
     ]
    }
   ],
   "source": [
    "raw_output = llm.invoke(QA_PROMPT_TEST.format(context=docs_content, question=test_prompt))\n",
    "print(raw_output.content)"
   ]
  },
  {
   "cell_type": "code",
   "execution_count": 27,
   "metadata": {},
   "outputs": [
    {
     "name": "stdout",
     "output_type": "stream",
     "text": [
      "content='Based on the provided sources, the thermal knife functions as follows in a cable-based hold down release mechanism:\\n\\nThe system uses two thermal knives mounted on a holddown bracket for redundancy <source id=\"1\">. These thermal knives are positioned at approximately 8° angles to ensure their cutting edges make head-on contact after cutting through the wire bundle <source id=\"3\">.\\n\\nThe mechanism works by using a compression spring that pushes the thermal knife\\'s heater plate through the wire bundle when activated <source id=\"2\">. The wire bundle being cut is made of Dyneema material, which when pretensioned, clamps together two parts of a component called the Reel <source id=\"4\">. This pretensioned wire bundle provides the necessary holddown load to secure the deployable component during launch and ascent <source id=\"5\">.\\n\\nWhen release is required, the thermal knife cuts through the Dyneema wire bundle, which separates the upper Reel part from the lower part, allowing the deployable component to release <source id=\"5\">.' citations=['1', '3', '2', '4', '5', '5']\n"
     ]
    }
   ],
   "source": [
    "parsed_response = PydanticOutputParser(pydantic_object=InLineCitationsResponse).parse(raw_output.content)\n",
    "print(parsed_response)"
   ]
  },
  {
   "cell_type": "markdown",
   "metadata": {},
   "source": [
    "### AltQuestionsResponse"
   ]
  },
  {
   "cell_type": "code",
   "execution_count": 28,
   "metadata": {},
   "outputs": [
    {
     "name": "stdout",
     "output_type": "stream",
     "text": [
      "questions=['What is the purpose of the actuator?', 'What are the key components of the mechanism?', 'How does the mechanism work?']\n"
     ]
    }
   ],
   "source": [
    "# Should validate\n",
    "valid_response = AltQuestionsResponse(\n",
    "    questions=[\"What is the purpose of the actuator?\", \"What are the key components of the mechanism?\", \"How does the mechanism work?\"],\n",
    ")\n",
    "print(valid_response)"
   ]
  },
  {
   "cell_type": "code",
   "execution_count": 29,
   "metadata": {},
   "outputs": [
    {
     "name": "stdout",
     "output_type": "stream",
     "text": [
      "Validation failed: 1 validation error for AltQuestionsResponse\n",
      "questions\n",
      "  Value error, Expected exactly 3 questions, but got 2. [type=value_error, input_value=['What is the purpose of ...ents of the mechanism?'], input_type=list]\n",
      "    For further information visit https://errors.pydantic.dev/2.9/v/value_error\n"
     ]
    }
   ],
   "source": [
    "# Shouldn't validate\n",
    "try:\n",
    "    invalid_response = AltQuestionsResponse(\n",
    "        questions=[\"What is the purpose of the actuator?\", \"What are the key components of the mechanism?\"],\n",
    "    )\n",
    "except ValueError as e:\n",
    "    print(f\"Validation failed: {e}\")"
   ]
  },
  {
   "cell_type": "code",
   "execution_count": 30,
   "metadata": {},
   "outputs": [
    {
     "name": "stderr",
     "output_type": "stream",
     "text": [
      "INFO:httpx:HTTP Request: POST https://api.anthropic.com/v1/messages \"HTTP/1.1 200 OK\"\n"
     ]
    },
    {
     "name": "stdout",
     "output_type": "stream",
     "text": [
      "{\n",
      "  \"questions\": [\n",
      "    \"What role does the compression spring play in the operation of thermal knives within hold-down release mechanisms?\",\n",
      "    \"How does the Reel cable element's design improve upon traditional aramid cable systems in thermal knife applications?\",\n",
      "    \"Why are thermal knives mounted at an 8-degree angle, and how does this positioning affect their cutting performance?\"\n",
      "  ]\n",
      "}\n"
     ]
    }
   ],
   "source": [
    "raw_output = llm.invoke(GENERATE_SIMILAR_QUESTIONS_W_CONTEXT.format(context=docs_content, question=test_prompt))\n",
    "print(raw_output.content)"
   ]
  },
  {
   "cell_type": "code",
   "execution_count": 31,
   "metadata": {},
   "outputs": [
    {
     "name": "stdout",
     "output_type": "stream",
     "text": [
      "questions=['What role does the compression spring play in the operation of thermal knives within hold-down release mechanisms?', \"How does the Reel cable element's design improve upon traditional aramid cable systems in thermal knife applications?\", 'Why are thermal knives mounted at an 8-degree angle, and how does this positioning affect their cutting performance?']\n"
     ]
    }
   ],
   "source": [
    "parsed_response = PydanticOutputParser(pydantic_object=AltQuestionsResponse).parse(raw_output.content)\n",
    "print(parsed_response)"
   ]
  },
  {
   "cell_type": "markdown",
   "metadata": {},
   "source": [
    "## Define graph"
   ]
  },
  {
   "cell_type": "code",
   "execution_count": 32,
   "metadata": {},
   "outputs": [],
   "source": [
    "# class State(MessagesState):\n",
    "#     context: List[Tuple[Document, float, float]]\n",
    "#     cited_sources: List[Tuple[Document, float, float]]\n",
    "#     summary: str\n",
    "\n",
    "# # Define application steps\n",
    "# def retrieve(state: State):\n",
    "#     \"\"\"\n",
    "#     Retrieve the documents from the database.\n",
    "#     \"\"\"\n",
    "#     logger.info(f\"Node: retrieve\")\n",
    "\n",
    "#     # Retrieve docs\n",
    "#     retrieved_docs = retriever.invoke(state[\"messages\"][-1].content)\n",
    "#     logger.info(f\"Retrieved docs\")\n",
    "#     # Rerank docs\n",
    "#     # reranked_docs = cohere_rerank(\n",
    "#     #     state[\"messages\"][-1].content, \n",
    "#     #     retrieved_docs, \n",
    "#     #     top_n=k_rerank\n",
    "#     # )\n",
    "#     reranked_docs = db_service.rerank(\n",
    "#         state[\"messages\"][-1].content, \n",
    "#         retrieved_docs, \n",
    "#         top_n=k_rerank\n",
    "#     )\n",
    "#     logger.info(f\"Reranked docs\")\n",
    "\n",
    "#     return {\"context\": reranked_docs}\n",
    "\n",
    "# def generate_w_context(state: State):\n",
    "#     \"\"\"\n",
    "#     Call the model with the prompt with context.\n",
    "#     \"\"\"\n",
    "#     logger.info(f\"Node: generate_w_context\")\n",
    "\n",
    "#     # Get the summary, add system prompt\n",
    "#     summary = state.get(\"summary\", \"\")\n",
    "#     system_prompt = CHATBOT_SYSTEM_PROMPT.format(style_mode=style_mode(style))\n",
    "#     logger.info(f\"generate_w_context system prompt: {system_prompt.content}\")\n",
    "#     if summary:\n",
    "#         system_message = f\"Summary of conversation earlier: {summary}\"\n",
    "#         messages = [system_prompt] + [SystemMessage(content=system_message)] + state[\"messages\"]\n",
    "#     else:\n",
    "#         messages = [system_prompt] + state[\"messages\"]\n",
    "\n",
    "#     # Add context to the prompt\n",
    "#     docs_content=\"\"\n",
    "#     for i, (doc, retrieved_score, rerank_score) in enumerate(state[\"context\"]):\n",
    "#         # Source IDs in the order they show in in the array. Indexed from 1, retrieve with 0 index.\n",
    "#         if rerank_score is not None:    # Only include docs with a rerank score\n",
    "#             docs_content += f\"Source ID: {i+1}\\n{doc.page_content}\\n\\n\"\n",
    "\n",
    "#     # Prompt with context and pydantic output parser\n",
    "#     prompt_with_context = QA_PROMPT.format(\n",
    "#         context=docs_content,\n",
    "#         question=state[\"messages\"][-1].content, \n",
    "#     )\n",
    "#     # Replace the last message (user question) with the prompt with context, return LLM response\n",
    "#     messages[-1] = prompt_with_context \n",
    "#     response = llm.invoke(messages)\n",
    "\n",
    "#     # Parse the response. This will return a InLineCitationsResponse object. \n",
    "#     # This object has two fields: content and citations.\n",
    "#     # Replace the last message with the content of the parsed and validated response. \n",
    "#     # AIMessage metadata will be incorrect.\n",
    "#     parsed_response = PydanticOutputParser(pydantic_object=InLineCitationsResponse).parse(response.content)\n",
    "#     response.content = parsed_response.content\n",
    "\n",
    "#     # Return cited_sources as the list of tuples that matched the citations.\n",
    "#     existing_cited_sources = state.get(\"cited_sources\", [])  # Grab whatever might already be in cited_sources\n",
    "#     cited_sources = [state[\"context\"][int(citation)-1] for citation in parsed_response.citations]\n",
    "#     existing_cited_sources.append(cited_sources)  # Append the new list as a sublist\n",
    "#     state[\"cited_sources\"] = existing_cited_sources\n",
    "\n",
    "#     # Update the state messages with the messages updated in this node.\n",
    "#     state[\"messages\"] = messages\n",
    "#     return {\"messages\": [response], \n",
    "#             \"cited_sources\": state[\"cited_sources\"]}\n",
    "\n",
    "# def should_continue(state: State) -> Literal[\"summarize_conversation\", END]:\n",
    "#     \"\"\"\n",
    "#     Define the logic for determining whether to end or summarize the conversation\n",
    "#     \"\"\"\n",
    "#     logger.info(f\"Node: should_continue\")\n",
    "\n",
    "#     # If there are more than six messages, then we summarize the conversation\n",
    "#     messages = state[\"messages\"]\n",
    "#     if len(messages) > 6:\n",
    "#         logger.info(f\"Summarizing conversation\")\n",
    "#         return \"summarize_conversation\"\n",
    "    \n",
    "#     # Otherwise just end\n",
    "#     logger.info(f\"Ending conversation\")\n",
    "#     # logger.info(f\"Messages before ending: {messages}\")\n",
    "#     return END\n",
    "\n",
    "# def summarize_conversation(state: State):\n",
    "#     \"\"\"\n",
    "#     Summarize the conversation\n",
    "#     \"\"\"\n",
    "#     logger.info(f\"Node: summarize_conversation\")\n",
    "\n",
    "#     summary = state.get(\"summary\", \"\")\n",
    "#     if summary:\n",
    "#         # If a summary already exists, extend it\n",
    "#         summary_message = SUMMARIZE_TEXT.format(\n",
    "#             summary=summary,\n",
    "#             augment=\"Extend the summary provided by taking into account the new messages above.\"\n",
    "#         )\n",
    "#     else:\n",
    "#         # If no summary exists, create one\n",
    "#         summary_text=\"\"\"---\\n**Conversation Summary to Date**:\\n{summary}\\n---\"\"\"\n",
    "#         summary_message = SUMMARIZE_TEXT.format(\n",
    "#             summary=summary_text,\n",
    "#             augment=\"Create a summary of the conversation above.\"\n",
    "#         )\n",
    "\n",
    "#     messages = state[\"messages\"] + [summary_message]\n",
    "#     response = llm.invoke(messages)\n",
    "\n",
    "#     # Prune messages. This deletes all but the last two messages\n",
    "#     delete_messages = [RemoveMessage(id=m.id) for m in state[\"messages\"][:-2]]\n",
    "#     return {\"summary\": response.content, \"messages\": delete_messages}"
   ]
  },
  {
   "cell_type": "code",
   "execution_count": 33,
   "metadata": {},
   "outputs": [],
   "source": [
    "# # Compile application and test\n",
    "# workflow = StateGraph(State)\n",
    "\n",
    "# # Define nodes\n",
    "# workflow.add_node(\"retrieve\", retrieve) \n",
    "# workflow.add_node(\"generate_w_context\", generate_w_context)\n",
    "# workflow.add_node(\"summarize_conversation\", summarize_conversation)\n",
    "\n",
    "# # Define edges\n",
    "# workflow.add_edge(START, \"retrieve\")\n",
    "# workflow.add_edge(\"retrieve\", \"generate_w_context\")\n",
    "\n",
    "# # We now add a conditional edge\n",
    "# workflow.add_conditional_edges(\n",
    "#     \"generate_w_context\",   # Define the start node. We use `generate_w_context`. This means these are the edges taken after the `conversation` node is called.\n",
    "#     should_continue,    # Next, pass in the function that will determine which node is called next.\n",
    "# )\n",
    "\n",
    "# # Add a normal edge from `summarize_conversation` to END. This means that after `summarize_conversation` is called, we end.\n",
    "# workflow.add_edge(\"summarize_conversation\", END)\n",
    "\n",
    "# # Compile the workflow\n",
    "# app = workflow.compile(checkpointer=memory)"
   ]
  },
  {
   "cell_type": "code",
   "execution_count": 34,
   "metadata": {},
   "outputs": [
    {
     "data": {
      "image/png": "[encoded data removed]",
      "text/plain": [
       "<langgraph.graph.state.CompiledStateGraph object at 0x330c92890>"
      ]
     },
     "execution_count": 34,
     "metadata": {},
     "output_type": "execute_result"
    }
   ],
   "source": [
    "qa_model.workflow"
   ]
  },
  {
   "cell_type": "code",
   "execution_count": 34,
   "metadata": {},
   "outputs": [],
   "source": [
    "# from IPython.display import Image, display\n",
    "\n",
    "# display(Image(app.get_graph().draw_mermaid_png()))"
   ]
  },
  {
   "cell_type": "markdown",
   "metadata": {},
   "source": [
    "## Run Graph"
   ]
  },
  {
   "cell_type": "code",
   "execution_count": 35,
   "metadata": {},
   "outputs": [
    {
     "name": "stderr",
     "output_type": "stream",
     "text": [
      "INFO:aerospace_chatbot.processing.queries:Node: retrieve\n",
      "INFO:httpx:HTTP Request: POST https://api.openai.com/v1/embeddings \"HTTP/1.1 200 OK\"\n",
      "INFO:aerospace_chatbot.processing.queries:Retrieved docs\n",
      "INFO:httpx:HTTP Request: POST https://api.cohere.com/v2/rerank \"HTTP/1.1 200 OK\"\n",
      "INFO:aerospace_chatbot.processing.queries:Reranked docs\n",
      "INFO:aerospace_chatbot.processing.queries:Node: generate_w_context\n",
      "INFO:aerospace_chatbot.processing.queries: generate_w_context system prompt: \n",
      "# **System Prompt**\n",
      "\n",
      "Your name is **Aerospace Chatbot**, a specialized assistant for flight hardware design and analysis in aerospace engineering. You will function as a knowledgeable replacement for an expert in aerospace flight hardware design, testing, analysis, and certification.\n",
      "\n",
      "> **Important Note:** The **Sources and Context** you are provided are ranked from most relevant to least relevant by a state-of-the-art retrieval and ranking tool. Please take this ranking into consideration when determining which sources to cite.\n",
      "\n",
      "Use only the **Sources and Context** provided to answer the **User Question**. **Do not use outside knowledge**, and strictly follow these rules:\n",
      "\n",
      "---\n",
      "\n",
      "## **Rules**:\n",
      "\n",
      "1. **Answer only based on the provided Sources and Context.**  \n",
      "   - If the information is not available in the Sources and Context, respond with:  \n",
      "     *\"I don’t know the answer to that based on the information provided. You might consider rephrasing your question or asking about a related topic.\"*\n",
      "\n",
      "2. **Do not make up or infer answers.**  \n",
      "   - Stay accurate and factual at all times.\n",
      "\n",
      "3. **Provide highly detailed, explanatory answers.**  \n",
      "   - Include **as many specific details from the original context** as possible to thoroughly address the user’s question.\n",
      "\n",
      "4. **Provide responses in English only** and format them using **Markdown** for clarity.\n",
      "\n",
      "5. **Cite Sources in context** using the exact format `<source id=\"#\">`:  \n",
      "   - `#` – Represents the numerical order of the source as provided in the Sources and Context.  \n",
      "   - **The `source` tag must be present for every source referenced in the response.**  \n",
      "   - **Do not add, omit, or modify any part of the citation format.**  \n",
      "   \n",
      "   **Examples (Correct):**  \n",
      "   > The actuator was tested under extreme conditions <source id=\"1\">.  \n",
      "   > A secondary material exhibited increased yield strength <source id=\"2\">.  \n",
      "   > Additional research confirmed thermal properties <source id=\"3\">.  \n",
      "\n",
      "   **Examples (Incorrect – Must Be Rejected):**  \n",
      "   > Testing yielded higher efficiency [1] (Incorrect bracket format)  \n",
      "   > <source id=\"1\" > (Extra space after `id`)  \n",
      "   > <source id=\"a\"> (Non-numeric ID)  \n",
      "   > <source id=\"1,2\"> (Multiple IDs in one tag – invalid)  \n",
      "\n",
      "6. **Every sentence or paragraph that uses a source must cite it with the format `<source id=\"#\">`.**  \n",
      "   - **Do not group multiple sources into a single tag.**  \n",
      "   - Each source must have its own, clearly separated citation.  \n",
      "   - For example:  \n",
      "     > The actuator uses a reinforced composite structure <source id=\"1\">.  \n",
      "     > This design was validated through multiple tests <source id=\"2\">.\n",
      "\n",
      "7. **Validation Requirement:**  \n",
      "   - If the response contains references without the exact `<source id=\"#\">` format, the response must be flagged or rejected.  \n",
      "   - Every source used must have a corresponding citation in the response.  \n",
      "   - **No source should be referenced without explicit citation.**\n",
      "\n",
      "8. **Suggest related or alternative questions** if applicable, to help the user find relevant information within the corpus.\n",
      "\n",
      "9. **Give preference to citing top-ranked sources.**  \n",
      "   - If the first sources in the list (i.e., the most relevant or highest-ranked) contain information that addresses the user’s question, cite them first.  \n",
      "   - Then cite additional sources only if they contain new or non-redundant details.  \n",
      "   - If the top-ranked sources are not relevant, skip them.\n",
      "   \n",
      "\n",
      "\n",
      "INFO:httpx:HTTP Request: POST https://api.anthropic.com/v1/messages \"HTTP/1.1 200 OK\"\n",
      "INFO:aerospace_chatbot.processing.queries:  Response generated\n",
      "INFO:aerospace_chatbot.processing.queries:    Response parsed\n",
      "INFO:aerospace_chatbot.processing.queries:Node: generate_alternative_questions\n",
      "INFO:httpx:HTTP Request: POST https://api.anthropic.com/v1/messages \"HTTP/1.1 200 OK\"\n",
      "INFO:aerospace_chatbot.processing.queries:    Alternative questions generated.\n",
      "INFO:aerospace_chatbot.processing.queries:    Alternative questions parsed\n",
      "INFO:aerospace_chatbot.processing.queries:Node: should_continue\n",
      "INFO:aerospace_chatbot.processing.queries:Ending conversation\n"
     ]
    },
    {
     "name": "stdout",
     "output_type": "stream",
     "text": [
      "================================\u001b[1m Human Message \u001b[0m=================================\n",
      "\n",
      "My name is Dan. Please tell me about some interesting mecanism designs.\n",
      "==================================\u001b[1m Ai Message \u001b[0m==================================\n",
      "\n",
      "Hi Dan! Based on the provided sources, I can tell you about some interesting mechanism designs. One notable example is a device designed to handle a 10KN load using a low energy signal input <source id=\"2\">. The mechanism incorporates several fast-acting, reusable components for converting electrical energy to mechanical work, including piezo-electric components, motors, solenoids, and shape memory alloy (SMA) components. The design specifically utilizes SMA wire with dimensions of 0.2 mm diameter and 50 mm length, as this offered the best combination of features for the application <source id=\"4\">. Another interesting aspect is a flywheel design that includes redundant springs for rotation and compression, featuring toggles and a latch arm system. This mechanism operates through a sequence where SMA wires rotate an arm, toggles are released, and then an outer race engages and rotates <source id=\"5\">.\n"
     ]
    }
   ],
   "source": [
    "prompt = 'My name is Dan. Please tell me about some interesting mecanism designs.'\n",
    "result = qa_model.workflow.invoke({\"messages\": [(\"human\", prompt)]}, config)\n",
    "for message in result['messages']:\n",
    "    message.pretty_print()"
   ]
  },
  {
   "cell_type": "code",
   "execution_count": 36,
   "metadata": {},
   "outputs": [
    {
     "data": {
      "text/plain": [
       "{'messages': [HumanMessage(content='My name is Dan. Please tell me about some interesting mecanism designs.', additional_kwargs={}, response_metadata={}, id='25436271-751c-4113-99d6-0aeaa0cfec50'),\n",
       "  AIMessage(content='Hi Dan! Based on the provided sources, I can tell you about some interesting mechanism designs. One notable example is a device designed to handle a 10KN load using a low energy signal input <source id=\"2\">. The mechanism incorporates several fast-acting, reusable components for converting electrical energy to mechanical work, including piezo-electric components, motors, solenoids, and shape memory alloy (SMA) components. The design specifically utilizes SMA wire with dimensions of 0.2 mm diameter and 50 mm length, as this offered the best combination of features for the application <source id=\"4\">. Another interesting aspect is a flywheel design that includes redundant springs for rotation and compression, featuring toggles and a latch arm system. This mechanism operates through a sequence where SMA wires rotate an arm, toggles are released, and then an outer race engages and rotates <source id=\"5\">.', additional_kwargs={}, response_metadata={'id': 'msg_019g6rHj5eU4vQo2L7BvSthp', 'model': 'claude-3-5-sonnet-20241022', 'stop_reason': 'end_turn', 'stop_sequence': None, 'usage': {'cache_creation_input_tokens': 0, 'cache_read_input_tokens': 0, 'input_tokens': 1574, 'output_tokens': 254}}, id='run-3831480c-e5a1-41e7-b0f5-6676b71b4192-0', usage_metadata={'input_tokens': 1574, 'output_tokens': 254, 'total_tokens': 1828, 'input_token_details': {'cache_read': 0, 'cache_creation': 0}})],\n",
       " 'context': [(Document(id='65041346-620f-4140-bccb-eaecbeef6cd2', metadata={'chunk_overlap': 0.0, 'chunk_size': 400.0, 'data_source.record_locator.protocol': 'gs', 'data_source.record_locator.remote_file_path': 'gs://processing-pdfs', 'data_source.url': 'gs://processing-pdfs/1999_cremers_reocr.pdf', 'element_id': '65041346-620f-4140-bccb-eaecbeef6cd2', 'file_directory': './document_processing', 'filename': '1999_cremers_reocr.pdf', 'filetype': 'application/pdf', 'languages': ['eng'], 'last_modified': '2024-12-26T14:30:40', 'orig_elements': 'eJzllk1v2zgQhv8KoVOLdWR+iRZ92rRxm+7GTpC42EMQCDQ1ttXIokDRmwTF/vcd0TbatOkCPeSw6U3zzgxnhnwk8fpzAjVsoAlFVSZjkgheMpFRI/BBS0sVpdIs1YKVuRnJJSQDkmwgmNIEg/GfE+ucL6vGBOiiXZsHtw3FGqrVOqDCOaWYs5fvqjKsUWWjqLauakKfd30tWZ7mA3RkaX4zIAebK7GzGc+zJ4VdBipJ99AF2PRTXFT3UF+1xkLyDzr6ZovObT3afY8eLDZd1M6a4HyUWu+Cs67us1ddP6WHjQtQLKsaitbErtEzHg4x1ELXVc3qqC2XXayw9fWP/EOmtS4sLge+Kzw461PUd41BABsq1xS2Nl1XYOoC16FpLnPFMSBWLytsGBt96Eukw9LZbTyxL4WSfWhjNv2EyQ9K7qPCQxujTNvWFW4B1h/u3bVpVluzimd5nQCufBPVLhQbV1bLCiIlnHJ5xPgRV3Mmx4KOJe2zW8wsmu1mAf2msn7CAPc9Bcn049n8w8XHy4vzqwk5PT87OTn/a0aOZyfkcnI2OUZxOnl7ejz7cDUlr6anl9PX5A/Xkbe7GQZk4qtb8t656hP4AXkP3viS/Al44L6vfBhpXoU6nvm3XEtRas4gk8ZyqsuRVXnOQdulyaxUwjwb10pmqRoQQVkqe2wPNpepjhjTTKbyKSFmvDCuFVUi/79zHRX/E9/Mr1+Ed+72FjyJh0he3d3dpcuodL2QNvXrr3GeGe9xjr9h3mc/gfXS8gUXi0wpTS2MeCkXOjdGMLbQyij1bFhnKkszhFSIVPTUHuxMpaNIMRN55Pw7IWa8MKzxZ0XlL431xTl54+7xK0ZHSAoXVJCTN+QMqhKaAZmvgcwgrMFjx2X3U4hrnXOrudAKRpZyxkaGMpbrkkmVZfb5EJeZTvEfLPDCkcUbyc6WnB0uIEi0fkLYZbwwxIWiufilEZ8jl+3aNTAmvwlGRoxkXGaC5WT4SBAUhXfm/nGY1mRytDFVPSaf0v1GkN8ff/sxD9LV7pLzjes/XpmbfwFB0KDw', 'page_number': 1.0, 'rag_type': 'Standard', 'type': 'CompositeElement'}, page_content='MULTIPURPOSE HOLDDOWN AND RELEASE MECHANISM (MHRM) Jos Cremers, Erik Gooijer, Gerard Kester\\n\\nFokker Space (www.fokkerspace.nl)\\n\\nPO Box 32070, 2303 DB Leiden, The Netherlands\\n\\nTelephone: +31 71 5245318 / +31 71 5245330 / Fax: +31 71 5245399 E-mail: j.cremers @fokkerspace.nl / e.gooijer@fokkerspace.nl'),\n",
       "   0.353411883,\n",
       "   0.2405207),\n",
       "  (Document(id='41f93ad2-0421-405c-9e62-eaad106c7c4b', metadata={'chunk_overlap': 0.0, 'chunk_size': 400.0, 'data_source.record_locator.protocol': 'gs', 'data_source.record_locator.remote_file_path': 'gs://processing-pdfs', 'data_source.url': 'gs://processing-pdfs/1999_christiansen_reocr.pdf', 'element_id': '41f93ad2-0421-405c-9e62-eaad106c7c4b', 'file_directory': './document_processing', 'filename': '1999_christiansen_reocr.pdf', 'filetype': 'application/pdf', 'languages': ['eng'], 'last_modified': '2024-12-26T14:30:38', 'orig_elements': 'eJztVMFu2zAM/RXB59SxFNuxcl4xFBu6AelOWWEoEh0LkC1DkttmRf99lJp2xdAN2KGXYjfzkZQeqfe8u8/AwABjaLXKNiRb0YqrElaSgVIgipWUslCirjpeVayk2YJkAwShRBBYf59Ja53SowjgU2zE0c6h7UEf+oAIY0WBPSf4VqvQI0rXCZ2sHkPs2+1W6yZnC8JrlvPrBXmOeZHXMa5LlhevxKkegcwffYAhzvBV34HZTkJC9oCJSLX1dnYYR4YOJFJujZUiWJegydlgpTWx++DjjA4GG6DttIF2EokzZjbLJZZK8F6Ph7NJdT7dMDvzp/yScs5b2Tvtgxajh7F1YKXLMfnIDgLIoO3YSiO8b7F/j4cVecNwNixIFJRG1sj2GO/Jl8rKOT3ar9uyU+kohjhm9rd7T6XhOKVSMU1G4zKQxPKUNmI8zOKQ3nSXAR5/nVAf2sEq3WlIamEFK88oO2P1FS03q2KzamL3hJ3tOA97iOtlccwAdyHpKycfzrcXHy/JxXb77Xwby594XOlg0pP9LspGFIrXRcUpKGjkvmqaouo61lXQrVkj30yUrKB5tSAUr86rqLongFGaryPQsCZfvwY8trxHYfKSvg9dJsT9w7/vpZCveiB74bUkCrw+jCTuB1VLboUnwRLpAOVHBKZvtAQSehGItLNRZA7a6B8xdwPuSIy9JTCCOxxJPEiY2O7QAcLHGvzCFdyAwUrhDoD1QhHbkYsvny7JbY8LI0Ip97huvAfDvb0Bor2fweckMsXYCWOeyEg7TPgCoIiHlDmNEnE74kb85qUxL4VzicNVHP4Vg4pVTXnTgVqLUnS8rhlUawWqLlRX7Gn1ZgalvDrZj+dNtN8zsOY5ffQjzctXgdTyHg3a8LLh/x16n5T/fcZ/tkS1D0CGaIMEqGgc2aPgR4SCJ6hnGRzOYp68iCYcQPZijOBLN3zGxVxEwTxc/wTal/Gl', 'page_number': 2.0, 'rag_type': 'Standard', 'type': 'CompositeElement'}, page_content='3. DESIGN ISSUES\\n\\nThe basic design problem was to create a device that could utilize a very low energy signal to release a relatively large load of IOKN while addressing the above issues. The overall device comprised several basic components:\\n\\n{ The “prime mover” which converts electrical energy to mechanical'),\n",
       "   0.348439872,\n",
       "   0.17908539),\n",
       "  (Document(id='447b67fb-0234-4b3b-b628-3daee675dc8a', metadata={'chunk_overlap': 0.0, 'chunk_size': 400.0, 'data_source.record_locator.protocol': 'gs', 'data_source.record_locator.remote_file_path': 'gs://processing-pdfs', 'data_source.url': 'gs://processing-pdfs/1999_christiansen_reocr.pdf', 'element_id': '447b67fb-0234-4b3b-b628-3daee675dc8a', 'file_directory': './document_processing', 'filename': '1999_christiansen_reocr.pdf', 'filetype': 'application/pdf', 'is_continuation': True, 'languages': ['eng'], 'last_modified': '2024-12-26T14:30:38', 'orig_elements': 'eJyNVF1v2zAM/CuCnxPHX8nsvA3Y8zBgBfYQFAYt07EAWfIkOWlQ9L+PVNKmGLpijz7dkccjk8NzghonNKFVfbIXSV3Kfrfd5g1IkH3X54iVzKoOGqzzsoZkJZIJA/QQgPjPibTW9cpAQB+/NVzsEtoR1XEMhBRFlpHmBp9VH0ZC8y8Rna0ygXWHQ9406XYl8m2RpdXjSrwBzS5PSwbqYpfuPgKuEkISf/EBJ57jh3pC/XMGickLPbDd1tvF0Te7dCjJdquthGBdhGZng5VWs/roeU6Hkw3YDkpjO0P0TS/7zYaoEr1X5rie+8HHDovT/3rf0ChNK0enfFBgPJrWoZUupcerOwwog7KmlRq8b0nfUbEsbaq6qIkQLfSKXJPbC/dJN72VS1zcvVtyoxqYeMzks743arjMkQrzrBWFQSY2t2cN5rjAMe71kCCVf4yoD+1kezUojBdTZEW1zot1sXvIq32Z7cua1TMpW7NMHXK8ZUTc/c7KktZYF1lZdXU5kNG8GeRQD11e4Xa3bWIuAZ/4hJJvi6PpRBhR9HhCbWceXIDpxe8FNFm5Ohd2iCRHNw0exYRyBKP8tBIgNLgjiqsjJg6LiZmDjoXQnJSzhgsTQtccvDijQzGjG6ybsE/F17/aMUt4dAqJC/5OFdIaz6mTa/Z0mUmihed7lA6G8GE7tkG/B3SeCnmq8s7ilRGsmKxRdASvvcBITMUtoPfhsIAxryZFo//HfAK0JcFZhZHiugf11ppOk+7snup7D9H8iaIYLoIwOsiITBS6Mj4WVSYu502eil8jXaCYHXp2FSNlUa+8XOigrwsFrV/3+vny4zao1qI5S5qsw4slFiu9tDNeyyjaE5DzFUVzNFFu7rowAn9o+j/jkVnbgVdSkN7BbRkSZuiUVoEXP1it7Tnlm3/9MX0Hx9wTPvABvzz+Ad/02qA=', 'page_number': 3.0, 'rag_type': 'Standard', 'type': 'CompositeElement'}, page_content='mechanism performance and verify forces and margins within the mechanism. While presentation and discussion of all of the development and qualification test results are beyond the scope of this paper, significant results that relate to the basic operational capabilities follow.'),\n",
       "   0.322788388,\n",
       "   0.17536886),\n",
       "  (Document(id='115d1863-520b-4130-8e16-7d66bb5f8818', metadata={'chunk_overlap': 0.0, 'chunk_size': 400.0, 'data_source.record_locator.protocol': 'gs', 'data_source.record_locator.remote_file_path': 'gs://processing-pdfs', 'data_source.url': 'gs://processing-pdfs/1999_christiansen_reocr.pdf', 'element_id': '115d1863-520b-4130-8e16-7d66bb5f8818', 'file_directory': './document_processing', 'filename': '1999_christiansen_reocr.pdf', 'filetype': 'application/pdf', 'languages': ['eng'], 'last_modified': '2024-12-26T14:30:38', 'orig_elements': 'eJx9U8tu2zAQ/JWFTg1gy5L8knzLpbemBZJbEAgrciURpUiBpO24Qf69S8Zpcmh7sjg7uzP78ONLRpomMqFVMjtAVmyKuq+KpqzKdSMlUt3vaoG7cr/p9h2uswVkEwWUGJD5L5mw1kllMJBPb40XewztSGoYAyNVVRScc4XPSoaR0XKf0NkqE2Le42PZNHmzgHK73+b10wL+APW2zqsI1FWdl38D3lIYyfzFB5piHz/UM+n7GQVlrxyIdltvj47f0aUjwbZbbQUG6xI0OxussDpmDz726WiygdpeaWpnTL45clitmCrIe2WG5Sx7nxSOTv8rvuJWmlaMTvmg0HgyrSMrXM7BN3cUSARlTSs0et9yfsfFirzZVusdE5IFqdg1u71EnXwlrTimxX2oZVeqwSm2mf1P90oNlzlRcZ614mGwidU1rNEMRxzSXh8z4vJPCfWhnaxUvaJ0MVVRbZZltax2D+XmsC4O6zpmz5zZmuPUURxvlRD3cWd1s9nWVDRytytoHY8NN81uUxVdJasCd2kugZ7jCWX3dCKHGnrWBuRJmWEBjpZHT9hpAmGn2Rou7kGggY7gCxoJI56IH2RugJkSgmWm4VIB+OhFcNywBjLkhksMTiRGNAk8W/czh9vJmgHCSJ6AzcOs6Jddvud+kl0AX4p1/Ostj98qyZ/Rgh9xJi488doAtbYX+HL/7fbmU24O3/urxqc+mATKRBx66yawPZx5/9yTT2BHPArmd/Gvx0uLhJ4wHB35mMEkxUzeboxIOilBOXx9D0jyajCAb0XzCqYpyknFlxPIJe/bIqI6juDMqmK0fEE5PMT8iyIteaQYtUTS2OdruKNzsMaDPcUaXM4HNG/hMt9yuTyexvvN3aFzbP5ED3HPr0+/AdtKfMo=', 'page_number': 2.0, 'rag_type': 'Standard', 'type': 'CompositeElement'}, page_content='Several fast acting, re-useable components can be (and have been) used to convert electrical energy to mechanical work. Among these are piezo-electric components, motors, solenoids, and shape memory alloy (SMA) components. Of these components SMA in the form of wire has the best combination of features for this type of device. For this design a wire .2 mm in diameter and 50 mm long was chosen.'),\n",
       "   0.317214191,\n",
       "   0.13031887),\n",
       "  (Document(id='b6ed0b30-3f26-4f4e-ae5f-0dbfa33d9f50', metadata={'chunk_overlap': 0.0, 'chunk_size': 400.0, 'data_source.record_locator.protocol': 'gs', 'data_source.record_locator.remote_file_path': 'gs://processing-pdfs', 'data_source.url': 'gs://processing-pdfs/1999_christiansen_reocr.pdf', 'element_id': 'b6ed0b30-3f26-4f4e-ae5f-0dbfa33d9f50', 'file_directory': './document_processing', 'filename': '1999_christiansen_reocr.pdf', 'filetype': 'application/pdf', 'languages': ['eng'], 'last_modified': '2024-12-26T14:30:38', 'orig_elements': 'eJzdVF1vmzAU/SsWT42UEsw3fUOpl0VqkwyoNqmqkGNfEksEI3C2RtX++2zCumpq97aH9g3OPefec83B908W1HCARpWCW1fIgnCbhJWHA99hlAfcwTwKoqSKvYiHUQTWFFkHUJRTRTX/yWJSdlw0VEE/vNf0JI+q3IPY7ZVGXNdxtGaEfwiu9hrF0YC2UjTK6O7vcRLbeIowDiM7eZiiZ8B1se0YINIPwWvAWaIRqz/1Cg5mj414hDpvKQPrpy4Yu2Uvj51+Ny47YNp2WUtGlewGqO2kkkzWRr3rzZ4dHKSCshI1lC0dfOvK1WymqQz6XjS7y5ZX/TDh2NVv1Wc4SZKS7TvRK0GbHpqyA8k6WxfP7kABU0I2Jatp35dav9XNHDvy4iTRhMECF9q1dnsyc+wZl+w4fLg/06yR2tCDWdP619yRqk7tQKVtWwt9GNrEbCzXtNkd6W74rvcW6PYPA9qr8iC5qAQMiXEd17/E7qUbFti/8pwrLzbqVivL5njYgjle36yp4NEkwvokdscOELbRp/r0Yw9QT1En6xq6KaINRz3szGLAUXNUSLbQDb5s0/a33xXtDPodCtNUd/87yInnsmALNIKq0pGpOEQVUOZVAWxpXNH/FmTXd20NYc91zjF9BuIxt174FjBI3nGQP1ZOM3J9t7pOVwXKN9lytchRsUbZukgL8jKKhVA1vBbB0MO+x90gqOLE8yJg25CzOHYD7jHfr7b/LYJekNixyRMObX8I2AhoGzYeLlc/Ce3oVeQseschfPs2jcOPd5nO17ebjOT5cr1C84zobOqUZl/uCFrfFSRDWTon6CYt5p/Jta4sFjckRxfut8kZRGl2iy7WK4I2SzInE5SRIl2u8mcqnqD8NkVfl3rIGP5B406eKRm5IWlOkDd5OZOsFumCjJL8ZWXkX7/8iZYHvaL18+EXB8ylkQ==', 'page_number': 4.0, 'rag_type': 'Standard', 'type': 'CompositeElement'}, page_content='Figure 1. Flywheel, roller, and segmented nut operation.\\n\\nREDUNDANT SPRINGS TO ROTATE\\n\\nCOMPRESSION CREATE TORQUE OUTER RACE LATCHED TOGGLES (2X) LATCH ARM (ONE PIECE) RETAINS TOGGLES 1) SMA WIRES ROTATE ARM 2) TOGGLES RELEASE 3) OUTER RACE ENGAGE ROTATES OUTER RACE RELEASED'),\n",
       "   0.315316647,\n",
       "   0.12030463),\n",
       "  (Document(id='9dd1b8f4-30db-476d-8471-223cb0276ecc', metadata={'chunk_overlap': 0.0, 'chunk_size': 400.0, 'data_source.record_locator.protocol': 'gs', 'data_source.record_locator.remote_file_path': 'gs://processing-pdfs', 'data_source.url': 'gs://processing-pdfs/1999_christiansen_reocr.pdf', 'element_id': '9dd1b8f4-30db-476d-8471-223cb0276ecc', 'file_directory': './document_processing', 'filename': '1999_christiansen_reocr.pdf', 'filetype': 'application/pdf', 'languages': ['eng'], 'last_modified': '2024-12-26T14:30:38', 'orig_elements': 'eJzdVctOGzEU/RVrVq0UJvN+ZBfooiyACtJVhEaOfWdiyTMebA8Qof57r51QWpRW6oJNluc+z33Z65cAJPQw2EbwYEGCmtUsjzJOiyxP87RIi7zmZRLXBeR5HsfBjAQ9WMqppWj/EjClNBcDtWA8lnSnJttsQXRbi5IkiSL0OYifBLdblMall45KDNb5rddZWoTVjGCOsLyfkV+4zMLC4bzKw/gI9vYoCMzOWOhdDd/EM8i7kTIIfqDCUW2MmjRix1ADQ8qNVIxapb1o1MoqpqTz7oyrUUOvLDStkNCM1HNGzWI+R1MGxoihOxt5a3yGScu/6edxXdcN22phrKCDgaHRoJgOUblnBxaYFWpomKTGNOi/wWBRWBVRlqGBp8AFska2O5cnnHPFJj+0t2zBwXSgvSsz+Ffeg6ndjd6UjqMU2AwkMT+oJR26iXZ+pusAMPy9lxrb9IqLVoDfliRKsrM4OUuKVZwt0miRVs57RM9mmPoNuPbGrkwLz24bguX53ep2ebFyZq/5V8JKP6r3y9hGVVTGbVonURZFVRzDpgZepG1d0jKH5MOWMa7LsJ6RIk72y3bAVVKFqcNVUrrle4/39qe4jDWefnwSy+gl+j8evD+2l2jcUGqA9MC2dBCmJxuEnKiBUGKgc41AOEyW0IGj7G5LRyBXOEG9I0sp1Y58urtafiZP2EViteg60OSJGsLBiG5AZ+f4MFHpK3uL38EAmkqk8DChr8tkSKs0sVsgK+TlAjCCU+g07UNyTh3cRyXCmAnMgRPKmBaj6zFRrffn8CgYEOwMBgDjqwjJV7wb6W7HeDswFrObSdp9JJwZjkoSNSIxF82zM6PCER8JzIVhk8Fqwt+v/5pq5/wIK9fkY68ATbKiLDctTzPKNxu3ilXLqk1KaZ2X0Ye9AmlZuKuvo3T/Jb3iJN9ffZGlYXEEe/tTfAWqMipO70uKQ3J5vbq9+fL9YnV5c33kZ7r/CU/Y6aY=', 'page_number': 1.0, 'rag_type': 'Standard', 'type': 'CompositeElement'}, page_content='ABSTRACT\\n\\nA release mechanism based on a segmented nut and a Shape Memory Alloy (SMA) wire trigger was designed and qualified based on general requirements for the Teledesic program. Basic design issues and a description of the device are presented. Highlights of test results and typical operational response of the device are discussed.\\n\\n1. INTRODUCTION'),\n",
       "   0.31461668,\n",
       "   None),\n",
       "  (Document(id='a9a0b496-5605-4a05-8435-a0bc90a0ec88', metadata={'chunk_overlap': 0.0, 'chunk_size': 400.0, 'data_source.record_locator.protocol': 'gs', 'data_source.record_locator.remote_file_path': 'gs://processing-pdfs', 'data_source.url': 'gs://processing-pdfs/1999_christiansen_reocr.pdf', 'element_id': 'a9a0b496-5605-4a05-8435-a0bc90a0ec88', 'file_directory': './document_processing', 'filename': '1999_christiansen_reocr.pdf', 'filetype': 'application/pdf', 'languages': ['eng'], 'last_modified': '2024-12-26T14:30:38', 'orig_elements': 'eJzdVMuOmzAU/RWL9YQYkxDIvl1WVZtdNEIX+xIsGYxskyYdzb/32kmno76kLroZNuBzX+fYxxyfMjQ44hRarbI9y3p6dpUUSnUd73gjEEpe9jU2ouhUWWcPLBsxgIIAlP+USWud0hME9Glt4GqX0A6oT0MgRAjOqeYOf9EqDIQWu4TOVk8h1h2PRdPkBBV1fD8+sBegEWXeRKCqy3z7O+BWQkjmrz7gGHV81Bc0n2eQmD1TINJtvV0crSNLh5Jot8ZKCNYlaHY2WGlNrD75qNPhaAO2vTbYzpB4U2S/XlOqRO/1dFrNqvdpwuLMn+JrktK0cnDaBw2Tx6l1aKXLKXhjhwFl0HZqpQHvW6rvqBnP643gFSUkCkoTa2J7jXPytbJySQf3Y1p2T51gjDKzv829p4brnFJhno2mzSAS63vYwHRa4JTO9ZghtX9MqA/taJXuNSbHCC42q0KsRHUoNvuS728mmamynZaxw7i9IsoMeImOyMpcsPeWjoJ9QrUk4WxN3wbBI3t386PPY5fv9A46mHSSP/sV5Yaj3O0aKNROdWUFZQPbqgQoyGPN//Or4EUuohsrnlfRjXeAXnW+jUAtqmjPX4B7yVv0a8NF/SbsmhD3D7/F1/4+DNozhWdNDl+CNvoregbMWWPQrToER+JZlMJOaMmd7sqCZSAHjWdkfboa7uVqwKRieISLHqkVG1EOMJF68/qGfADnaD/OeIgsnh+/ATh429s=', 'page_number': 2.0, 'rag_type': 'Standard', 'type': 'CompositeElement'}, page_content='3.2 Force Reduction / Release Elements.\\n\\nThis device utilizes a roller-bearing type geometry to achieve force reduction and to maximize mechanical'),\n",
       "   0.291180074,\n",
       "   None),\n",
       "  (Document(id='daa308aa-c8c5-4200-91a4-a7e7148c543b', metadata={'chunk_overlap': 0.0, 'chunk_size': 400.0, 'data_source.record_locator.protocol': 'gs', 'data_source.record_locator.remote_file_path': 'gs://processing-pdfs', 'data_source.url': 'gs://processing-pdfs/1999_christiansen_reocr.pdf', 'element_id': 'daa308aa-c8c5-4200-91a4-a7e7148c543b', 'file_directory': './document_processing', 'filename': '1999_christiansen_reocr.pdf', 'filetype': 'application/pdf', 'languages': ['eng'], 'last_modified': '2024-12-26T14:30:38', 'orig_elements': 'eJztlU2P3CgQhv8K8imHjJsPf8D8g9UmUaTMbTSyMJTdSDZYhs6kFe1/34LumUTJZpXLXEa5mbcoeCmewvdfK1hgBZ8GZ6tbUk18YqzXUwOss7JX02SNEJxKOmph2Fi9JdUKSVudNM7/WpkQduu8ThDLeNHncErDEdx8TKhwTinmXOVHZ9MRVdYXdQvOp5x3f88Ur1FiXHY1f3hLngXR9xdBclnz/xIuKahU8RwTrPkcH90XWD5t2kD1Dway3SGG047j7HIHg7aHJRidwl6kbQ8pmLDk7Dnmc+6whgTD5BYYNl18Y+T2cMCpBmJ0fr7Z7BTLDqd9+VX8wJRSgznuLianfQQ/7BDMXmPw4g4SmOSCH8yiYxwwf8TFaK2YaDFeHFiHptHsOW9TH2wwp3Jv3zarrlO9XvMpq//b9jo1nbcyVW/b4rAW6OFwDS/azyc9l2u9rwCXfyhqTMMarJscFGA45c0N4ze8u2PNraC3QubsDTMHf1pHyNXlRdm/YSZYq2wDwnCwFjQVxhhqdddOqm15w0pZEnzJBFVv7o5AVjBH7dHjQkxYt+BxsUjSUSeCFfjsLOAAyBTwiskO9lQKSqY9rCXA6N8fyBK0JTY8epJCUZfweEPAwz6fD/n7KX0BHXHB3c0z7HU+0FOl3mE1/8qQocMfm0d0tGNWCNMZ2UnORSfath+VVcYa1bcv2DxtrXJrSFGrS/NchKahtbj0SlO66SfhkvIam0eqRsg/3VO654noK68Re8jHfDI/kzARf0okwnwJaW/JGJb029jzdrISOj42nWAIupx4o6S0Bkbacdq/GPacsloWqGXdZ6ifBfxFtFloVPcLoaS8SuxZ0/I/2L8hmftFJ3PMkD+B/7tM4+PRSqDKdh0FwZlQGtFpOB255VR3L/iUywJoy9iF6WehYXVXEKaqvO0/CyXlVTLdSKVeBdPfIypqRj7ubgXyPnzG8Hdo3rm04I09/AtsCKbr', 'page_number': 2.0, 'rag_type': 'Standard', 'type': 'CompositeElement'}, page_content='(The mechanical components that provide the force reduction from the 10KN load down to the low- energy/low-force release trigger.\\n\\n(The release elements consisting of nut segments and bolt.\\n\\n( The latching elements\\n\\n3.1 Prime Mover'),\n",
       "   0.284124345,\n",
       "   None),\n",
       "  (Document(id='423efe00-346c-4fb3-b9b5-b88bbadf5336', metadata={'chunk_overlap': 0.0, 'chunk_size': 400.0, 'data_source.record_locator.protocol': 'gs', 'data_source.record_locator.remote_file_path': 'gs://processing-pdfs', 'data_source.url': 'gs://processing-pdfs/1999_christiansen_reocr.pdf', 'element_id': '423efe00-346c-4fb3-b9b5-b88bbadf5336', 'file_directory': './document_processing', 'filename': '1999_christiansen_reocr.pdf', 'filetype': 'application/pdf', 'languages': ['eng'], 'last_modified': '2024-12-26T14:30:38', 'orig_elements': 'eJztmF1v2zYUhv8KoWtb5qdI+mqem27BACeIXWBDEAgUScUCZNGQ6LZB0f8+knLWrPOK5sI3Ri7PS77iIfmIOOT9l8y2dmc7XzYmm4OM1rUymFeKW2NrKguEkRKUW1woAkmVTUC2s14Z5VXo/yXTzvWm6ZS3Q4pb9eQOvtza5nHrg4IxhMFzlD81xm+DinhS967pfPTd31Mu8iChgufiYQL+iSXKaYwRLlhOTwnJEZRseBq83cVZ3DafbbveK22zr6EhJlsO7tCHOObYWx2SLlunlXd9kva98067NrofhzjL3u6ct2XdtLbcq5R1aJnPZqGrtsPQdI/TvamHNMKhb/+vfYaklKXe9s3gG9UNtit763Sfh8YxO+ut9o3rSt2qYSiDvwofgzlnmBehQ0rBNCHrkO1THCefGacPadu+jZYdu3ZqF6eZ/WjcY1f/tE9d1X7fNmExQhKzY3OruseDeky7ep/Z8PmHpA6+3DnT1I1NvGCI6RThKS42iM4JnBMR3fvgLLvDrrJxeVGcprefIw/Z+8V6AxbLzfXqN7C6WU1v/7q72Vwtf19dLwGCf6zA+up2cbfYXN+swOrDJn7tOc1N49u0o99TW1WsCEgyVUtDsZVSVciKQAjXjBOIzkYtC5TyCcAEjtQ+x4zlRYIUMZmLU0JyXCS1VAhxcdSutfMeLF/kNQGjtmmqqvF+mIB36mNjwDv3yXY/RS3VSlQVFbWlQgoqqGa1EnUtsMCygvps1HLIcxwYlGQ8So8xQQHeBCkkLEcnhNFxidQWqBD8IqhNSv+Ks/FfmHvVh60Fd3awqtdbsHT93vUp25dMr1QfxY92E42nTmQlIKeoMgQZqa3liiGkKh2yMbTi56sjeGA2HD8E8xwmto8xg8eyISxiYvs/QnJcItsEYsne2KYSSrBSB9+0hyGAfeg9WLk+7MhrwDbUclYxobDE0EpGC2W5UJpYRaTh4nxgYxYLYsL4WEk8xwKPoCOIyGkhOS4R7LDPhLyB/as7tMb2E7C8AQIyGJbkw3rxKqptPJoRwpgWSOlw05OGUFtBLKhlBYLnK6BDRREPXxl2MxXQY0wDunisl6nIixPC6LhMqhmkb1RvAqH7revsHBBIpozAKZKYgRl4v/jzm4bpeL37adQhroky8YWD2SoUKYrrALk1hikpTFWc74WjILESoRjnKL1wHGPKcjk+aHCck1NCclwi6oTT4q0yya6mO9W0czDEC6X+ZRiL8Fy7XaA9iU/fiSZeMs1L8Qf/wMPf1J04kQ==', 'page_number': 1.0, 'rag_type': 'Standard', 'type': 'CompositeElement'}, page_content='FAST ACTING NON-PYROTECHNIC 10KN SEPARATION NUT\\n\\nScott Christiansen, Scott Tibbitts, David Dowen\\n\\nStarsys Research Corporation\\n\\n4909 Nautilus Court North\\n\\nBoulder, CO 80503, USA\\n\\nTelephone: 303-530-1925 / FAX: 303-530-2401\\n\\nE-mail: scottc@starsys.com / scotty@starsys.com / dowend@starsys.com'),\n",
       "   0.28378287,\n",
       "   None),\n",
       "  (Document(id='5464aae9-4a08-48cc-8e9f-4242570d6709', metadata={'chunk_overlap': 0.0, 'chunk_size': 400.0, 'data_source.record_locator.protocol': 'gs', 'data_source.record_locator.remote_file_path': 'gs://processing-pdfs', 'data_source.url': 'gs://processing-pdfs/1999_christiansen_reocr.pdf', 'element_id': '5464aae9-4a08-48cc-8e9f-4242570d6709', 'file_directory': './document_processing', 'filename': '1999_christiansen_reocr.pdf', 'filetype': 'application/pdf', 'languages': ['eng'], 'last_modified': '2024-12-26T14:30:38', 'orig_elements': 'eJx9Ustu2zAQ/BVC50SmHrYs33rprQ80uQWBsCbXEgGKFLhUHCPIv3dJOyjaoj3uzOzu7OPprUCLM7o4GF0cRLFtmtNJVlXb1HvVntS2Atxp2Ukpm1oqKO5EMWMEDRFY/1Yo74M2DiJSji1c/BqHCc04RUbqWkrOucFno+PEaNVldPHGxZT39FT1+5KhetuV8vlOfMRt15V9ivd1X3Z/x1c9AwVdKOKcZvhuXtE+LKCweGciWR3Ir4Hj5DCgYsuD9QqiDxlago9eeZuyR0ozBpx9xOFkLA4LZM/MHDYbliokMm68X/SJcoc12H/xm6rv+0FNwVA04AjdENCrUDJ5dYcRVTTeDcoC0cD5Ry4my37b7ioWZAvasGt2e0l9yo32as1H+9WtuEkdzGnM4n99b9J4WbIUlsUaXgab2NxoC25cYcw3fSqQyz9nlOIwe21OBvO31LJu76v6vt49Vu2hkYdmn7IXzhzcOh8xrbfJSPj1Y3utemxl30PfNfIoa13v+E22bdupTupd3kvE1/Q+xQ/+TyAU/iTihGJGNYEzNAvlHfFwlBg+H9t3Y5ZYiGoSEGZxNnHK0MOXTyIGM44YGAxIYnXR2MxFP46WEXYonBfWu6RK1WMA41CLANqAtZdSfHMK/+gxAV3bs1Cx1XD3W9XZv7D3NZ4haAFOZ5JjbhH4QW+pxPqsSGy4TqzF4smkowhuoZFUMEdG4cglS/HZjCs7rgVN/szuhQqeSND1mTL6sZAjkFE3y8rPi3d8CyrTpT5e4CuEwBt8wce09vfnn5VoWJY=', 'page_number': 3.0, 'rag_type': 'Standard', 'type': 'CompositeElement'}, page_content='Release of the mechanism consists of rotating the latch arm with the SMA trigger wires until the toggles are no longer constrained radially. Once the latch arm has rotated clear, the toggles move outward and the outer race rotates toward the released position as described above. Figure 2 shows a cross section showing the basic latch components.'),\n",
       "   0.280848622,\n",
       "   None),\n",
       "  (Document(id='9cef5ba9-3e3f-476f-a6cd-de3dd3923810', metadata={'chunk_overlap': 0.0, 'chunk_size': 400.0, 'data_source.record_locator.protocol': 'gs', 'data_source.record_locator.remote_file_path': 'gs://processing-pdfs', 'data_source.url': 'gs://processing-pdfs/1999_christiansen_reocr.pdf', 'element_id': '9cef5ba9-3e3f-476f-a6cd-de3dd3923810', 'file_directory': './document_processing', 'filename': '1999_christiansen_reocr.pdf', 'filetype': 'application/pdf', 'languages': ['eng'], 'last_modified': '2024-12-26T14:30:38', 'orig_elements': 'eJzdVD1v2zAQ/SuEZlsWaVkf3jp0a4uiCdDBCASaPEsEKFIlqTpGkP/eI20nadAU6NAlg2Hz3b27d8dH7x4y0DCCCZ2S2ZZkjRQtlEXb8rZeF/uCSVYxVmzKshZ1IatsQbIRApc8cMx/yIS1TirDA/h01vxk59ANoPohIILkAjkX+KhkGBCldUInq0yIvN2upW1eLQgtmjandwvyBFB6ASjd1Dn7I3ImIZT5kw8wxkm+qnvQNxMXkD1iIAruvJ0dnqNOBwKFd9oKHqxL0ORssMLqyO59nNTBaAN0B6Whm3hSjpHtaoWpArxXpl9O8uBTh9npt+Ir2rZtJwanfFDceDCdAytcjsGzOggggrKmE5p73yF/j8WKvCkb1mBCkiAVqka1p9gnX0kr5nR1z92yS6rhYxwz+1vfS2o4TSmVT5NWuAwUsbqENTf9zPt0s7sMsPxdQn3oRivVQUHyDCtYuaRsyapbWm7XxXbdRPaEzM7M4x7ielkcM8B99ES2ztfkEw9iIB/P7kvbviq5VUGnS3ttTtqwfV1XragqxsuKVrypSrZGM1JO95v9fzVnct6G5e3VnBFYl/RixU3ZvIGcSe/RnO2mYPRdmDMh7h/+Bl+6+fuASkkY8GPdjzl+EYfO5f6MjiAGbpQfycA92QMYDMtZgIyZPObiZD9Bn4i2R6IBfy6ICgT3ojVRnhgbUgiMnfsh1bcBXU3OS0fiHBecut18/kCOCOfkG5oCHILcEB7QeVOIVOmwV0q9inyqclRh+K3IIp1w+85yfK328KoRlgtO9T224cSDPixT+ZhyLa7TO8chZg8yf/nOv3Dn0uC3cZGPd78A62AWkQ==', 'page_number': 2.0, 'rag_type': 'Standard', 'type': 'CompositeElement'}, page_content='3.3 Latch Elements\\n\\nWhile the torque to release the mechanism has been reduced to a relatively low level, it still is not low enough to rotate directly using the SMA wire. Rather than attempt to drive the release directly with the SMA wire, the approach of using the SMA to trigger a self- driving release latch is used.'),\n",
       "   0.279638886,\n",
       "   None),\n",
       "  (Document(id='6dd5d238-e6fb-4a47-9457-063c001a3dcf', metadata={'chunk_overlap': 0.0, 'chunk_size': 400.0, 'data_source.record_locator.protocol': 'gs', 'data_source.record_locator.remote_file_path': 'gs://processing-pdfs', 'data_source.url': 'gs://processing-pdfs/1999_cremers_reocr.pdf', 'element_id': '6dd5d238-e6fb-4a47-9457-063c001a3dcf', 'file_directory': './document_processing', 'filename': '1999_cremers_reocr.pdf', 'filetype': 'application/pdf', 'languages': ['eng'], 'last_modified': '2024-12-26T14:30:40', 'orig_elements': 'eJzdVE1v2zgQ/SsDnRLAkUlJluRc2/0IiqaL1ntKA4EiRzYRShRIKolR9L/vkPGmxbYFdg89bC4G+OY9zpvhk28+ZWhwxCl0WmWXkLXtpmnbXtGvVI3krCpQDJILbOXA+ZCtIBsxCCWCIP6nTFrrlJ5EQJ/ORhztEroD6v0hEFIUjJHmBD9oFQ6E8iahs9VTiLqbm7KucoK2VZHz2xU8n+syr+O55nVefOec+ARk/ugDjnGGP/Qjmg+zkJh9pkK02nm7ODpHhw4lWe6MlSJYl6DZ2WClNVG993FGh6MN2A3aYDeL5Jkql+s1USV6r6f9xawGnzoszvyovubb7baTdB063zm00uWEPxnDgDJoO3XSCO87kvZ0D8vbesNrIqTuSpNhMnqMLfK1snJJ7/WlUXaiTmKME2Y/aHliheOcWGKejaYVUP/1qWzEtF/EPr3kTYZ0821CfehGq/SgMWWkYEV1wYuLot7x6rJklxWL6pmU3bSMPcal8jhhwMeQHOVwdb17/+71n692V++uI/tvGzsdTHqnfyaxV6pvZNUoqUShirqU5XYjtrWo2dD3g/ppSeS8YnlF0WpYvolRewa2zVM2edE03weS5KWlsWjZi0pjmcPrXz5c/fbvcqiUGrAXdStY37RVqYpy03DGVVnLsh+an5dDytR2BZyxMmcpZSeAtxS2CLSsjan7FniSvLAcbsu2KP/vOUyI+w//cl8Hd3dAePv7+7dw5hFh0PvFoQcOYlJQnIP2IGCwxtiHCzuBwns0do5rATtAIDE+ah9oN+Ao48Jj5GjaF6kc/Grv7tBBigh4a4QD4Zw4epKKsIKZigdrlLIPE6ScrmAUdwgLXUQNxAR0qwyO9mfMEQ5In4ACMu1GYeDNpAeEs2UOFmjLzj7qkQhE3DIGHxfGevbqHKiKPojeaH94ttkfQS4hOacuwolRKzh7g/dk8vyLKUkyzL/+qq/jBEHf4y6u8PPtX56O0+k=', 'page_number': 1.0, 'rag_type': 'Standard', 'type': 'CompositeElement'}, page_content='1. INTRODUCTION\\n\\n3. DESIGN\\n\\nThe MHRM (see figures 1 and 2) is a follow-on development of the existing release devices for Fokker Space solar arrays that, per holddown point, make use of an electrically heated Thermal Knife (upto approximately 900 °C) to establish release by cutting an aramid (Kevlar) holddown cable.'),\n",
       "   0.276401728,\n",
       "   None),\n",
       "  (Document(id='02b8f407-7989-4dbb-a606-41d7be45b274', metadata={'chunk_overlap': 0.0, 'chunk_size': 400.0, 'data_source.record_locator.protocol': 'gs', 'data_source.record_locator.remote_file_path': 'gs://processing-pdfs', 'data_source.url': 'gs://processing-pdfs/1999_christiansen_reocr.pdf', 'element_id': '02b8f407-7989-4dbb-a606-41d7be45b274', 'file_directory': './document_processing', 'filename': '1999_christiansen_reocr.pdf', 'filetype': 'application/pdf', 'languages': ['eng'], 'last_modified': '2024-12-26T14:30:38', 'orig_elements': 'eJztVk1v3DYQ/SuETj3YWor6IOWbgTpFADdt7W0vjiFQ5GiXqFZSSSrOwuh/75BaOwa8KZCDLwsf3/CRnCHfI+fuMYEedjD4xujkgiSKAVTAOKvyTokKqg64EFwLyTjITCZnJNmBl1p6ifzHRI2j1WaQHlzEvdyPs2+2YDZbjxHGKMU5h/CD0X6L0YzH6DSawYd5d3eM5ml2RspCpNX9GXnGvEyLgKsiT/MjOPIxkLi987ALNfxuvkJ/O0kFyb84EFJt3DhbxCFDCwpTbvpRST/aGJrs6Ec19mH2xoUaLexGD01nemgmGXPGkYvVCqkKnDPD5nzSnYs7zLb/3vgqq+u6UVtrnDdycDA0FkZlUxxcsgMPyptxaFQvnWtwfouL0VQUGeNIiClog1ljtvuwT7rSo5rjpX3bLTlQB7kLZSb/t++B6vdTpMpp6g0eBiaxOgz3ctjMchPv9C4BXP4+Rp1vdqM2nYGoFkZZcZ6xc1ats+Iipxe5CLMnnNkM866FcLx5KNPD16CGpEjJb39d3VxeX5Ofr24//vKJfLi6XP95c3UbJj5ltDa+j5f3Sp5Ulx1XqpSUC9ZRyfOsLGqhs6JWnRZvKM8sFWekyrKULvKMGHmLHAXjaf0aL/xTlGfNBM1PQp4xYn/gCXyp5w9mM1sgOTGOSDJt8aI2Vk5bMnbEb4H88fD3MHsiBx1hO/aeWPBWhuNaYVVqC5aYIY6qcejCerFWjEhPttKRFmAg/8yyj4WlL43ySdrA/gLrkM8Rw+iacdpRjnptsYZKMVXpUmqOYd2V+RsapgjvM89FyhbDLLiqFlyVNK2O4Mg/RcMIWtPi3TBr1PkO1FYOxu3QCj1IB8QZHeXvsDyH3rn4IZEz1kEhc2h5mesyl7noAHitMl2xulTqzUSe1WUULWfLr3DAIsfPYfkF8Pl/jRf+SYq8prR8F/kjuf31kjxg/cRbs9mAdeTzjG9wEd/5b/rHX+NAAE3aPfpBz4OWg39eAL8VRzQ4ZU2LHNmOX+ClOa7xrD4GDR3xRa1kpijvRJELynhRyVa1FFsonhUUIHs7XwgeuiORV0sz/4Rr/uSDOuVHcOSfpC9Eyep3X/xEbkYv7f753e9DA/RkjfA1PNsFLxFlGO2ykKTdET9iq2TwDHAEFYidEzZSsHCx4OO+uP8PwBK1DA==', 'page_number': 3.0, 'rag_type': 'Standard', 'type': 'CompositeElement'}, page_content='4. OVERALL DESIGN FEATURES\\n\\nFigure 3 is a photograph of the Qwknut and the bolt retractor/catcher in the configuration that has been qualified.\\n\\nThe mechanism release side consists of:\\n\\n{ SMA wire triggers — the mechanism is triggered by redundant SMA wires as described above\\n\\n( Rotary release latch — The triggers rotate the latch arm to initiate outer race rotation'),\n",
       "   0.272279501,\n",
       "   None),\n",
       "  (Document(id='15fd3c69-1ee3-47b5-bf67-dd537021b113', metadata={'chunk_overlap': 0.0, 'chunk_size': 400.0, 'data_source.record_locator.protocol': 'gs', 'data_source.record_locator.remote_file_path': 'gs://processing-pdfs', 'data_source.url': 'gs://processing-pdfs/1999_cremers_reocr.pdf', 'element_id': '15fd3c69-1ee3-47b5-bf67-dd537021b113', 'file_directory': './document_processing', 'filename': '1999_cremers_reocr.pdf', 'filetype': 'application/pdf', 'languages': ['eng'], 'last_modified': '2024-12-26T14:30:40', 'orig_elements': 'eJzlVE2P1DgQ/SulXHZXmkk7H+4kc2MRuyA0KzTTEofRKHLsSrc1iR3ZDkOD+O9bTnqWESxIHDgAx3r1ylVlv+eb9wkOOKIJrVbJBSRbXpeq50UuCqnKvikbkXU55z3vZZfxLDmDZMQglAiC+O8Taa1T2oiAfokHcbRzaA+o94dASJ4zRjUn+F6rcCA0qxZ0stqEWHdzU2ZlWp5B2ZRpdXsGDzHPqjXmW542n8crn4DEH33AMe7wSr/F4XoSEpMPlIijtt7OjuI4oUNJI7eDlSJYt0CTs8FKO8TqvY87OhxtwLbXA7aTWGamzMVmQ1SJ3muzP59U75cOsxu+lN9kTdO0ko5D51uHVrqU8HUwDCiDtqaVg/C+pdKOzmFpXZa8JsLSXWkamAY9xhbpRlk5L+/1sVFyohoxxg2TL7Q8scJxWlhimgZNV0D9N6f0IMx+FvvlJW8SpJNvF9SHdrRK9xoXjeQsL8+z/Dzf7rLyomAXJYvVE1W2Zh47jJeaxQ0Dvo0aSJ78eb27evJ0F2kP/Xc6DMsDfSrBmhdbrKu667BSXFSqwzyqcqsqVZVCfTcJZjVLM5IY56vETnHFtimLcc1YlNyn8cr/ySTYZPm2+NEluCDuGz63x5p9rcNBGwgHhN7RWvfW3YHt4dn17tnT3zz8fb17dZ4D3cGe0iOCAIP3cDkPQU+zm6xHeG4Hpey9AWEUtHBFQhcEX6I8CKP9CL9fPr+6/AO0hw7pGkHhGxzshAq6I/xl7+7QwSKjFF6ESCOxolGUF54autOBs9EBeutgjwadGODRzaaPTfePcI7QN7iLW/6P+XKRM5HJvioanmes42WR10zVqmgEQ5LvdzNfVaVbMlfG03ox3xrXrFjNWDOe8s/jlf+TmY9+GMZ/afO9MODncRTueLY4MDqLvKElRhOQ5jUZI1iQsw921O9wUb8wj4VPhWL17+TQ0yCwO6AbyR0vje4RNiDIuFrB4cGlUnQDQkeOUv9Za3zwqv+akW7/BRlH8cw=', 'page_number': 1.0, 'rag_type': 'Standard', 'type': 'CompositeElement'}, page_content=\"ABSTRACT\\n\\nWithin the framework of ESTEC's GSTP-2 programme a new Multipurpose Holddown and _ Release Mechanism (MHRM) is being developed by Fokker Space. It is intended as a release unit for general application.\\n\\nIn summary, the new device is easier to customize for an application than the present Thermal Knife / aramid holddown cable based release mechanisms.\"),\n",
       "   0.264537334,\n",
       "   None),\n",
       "  (Document(id='de66964c-41c7-4fb9-b003-6808cfd38179', metadata={'chunk_overlap': 0.0, 'chunk_size': 400.0, 'data_source.record_locator.protocol': 'gs', 'data_source.record_locator.remote_file_path': 'gs://processing-pdfs', 'data_source.url': 'gs://processing-pdfs/1999_christiansen_reocr.pdf', 'element_id': 'de66964c-41c7-4fb9-b003-6808cfd38179', 'file_directory': './document_processing', 'filename': '1999_christiansen_reocr.pdf', 'filetype': 'application/pdf', 'languages': ['eng'], 'last_modified': '2024-12-26T14:30:38', 'orig_elements': 'eJzlVk1v3DYQ/SuETj7EWpL6pG85BGiAwgnizckwBIoc7RKVRIGk3GyD/vcOubvJIrXTkw9xj3zz9YZ8Q8z91wxGmGAOndHZDcloA7JQvdaasbamHI8VUF00rS6hrZvsDckmCFLLINH/a6asddrMMoBP51Ee7Bq6PZjdPiDCOaUYc4L/NDrsEWVNQhdr5hDj7u9FXecIMSqqvH14Q74BTLCcR4Dxpsj5k8gxCKHMH3yAKXby0XyB8W6RCrK/0RAJd96uDs+RpwOFxLvRKhmsS9DibLDKjjF652OnDiYboBvMCN0iE3O03Gw26KrAezPvrhc9+FRhdeNz9g0TQnRq74wPRs4e5s6BVS5H45EdBFDB2LlTo/S+w/gek9G8KDlDe2KgDZJGsodYJt9oq9b0ct+LZSfXWU6xy+xnZU+u4bAkV7kso8G7QA6bk3mU826Vu/Sw9xlg+oeE+tBNVpvBQJIMp7y8Zvya11tW3hT0pmhj9IKR3bxOPcTbZQlx34U2SF7WTdMPuiil7vuKoeAG1faFlKJqaLqWAF+ihrLl4Czxe6v+IJ/AQwiyN6MJB7IhDlZ/Pv2GmkNgNGdgArWXs/FTJHTu9FY6h30+wjZmxzI/zkBVS1C8pGzgoii0HKgcpCj7mut6EK14uRng9DQDTU7TDJwAJoojwCgtn0GOQb/wDPzPNX51a8kVubpU6ucZycLOOvMX6OfUWsqC11UrG02boo9FBql5yxjUlW6G9sXUymjV5DUqj1dtXh61eEba9viJM5yiXDyNpKhfWK/P/tmNEHX1KgR9qU+ekw8f3316u33/4fbt7+T93d3nd3eXat2aMMKT/ynlvKrbRrWCSQpVXzKltG44UKpaVbyYQtEtrQdFWedFFN8ZKIU4Ai1v8uIp4BjyGtUpsFf+KtT543f7nz/hpZy3hwW5jeOBeMAsiSWZ1+AJpoxLBEgPmoS9sytuFWEPRKb7JHYgO+nJDmbAsAsfvHI7y7OPJHFrwUfYz0YR3EPcDnKyxTxeDphs1gSGIb7RI5DVw79jvm0vxHjSJzqY2tsJyCM4JB6cUYGgjx7xpchZbflPtp2HfwCncccl', 'page_number': 1.0, 'rag_type': 'Standard', 'type': 'CompositeElement'}, page_content='pyro shock Resettability / reusability High reliability mechanism\\n\\n(No ( (\\n\\n2. OPERATIONAL ISSUES\\n\\nTypically separation nuts are released through the action of gas generated through detonation of a pyrotechnic charge. The safe and effective use of a pyrotechnic mechanism is based on some very strict handling protocol.'),\n",
       "   0.254694462,\n",
       "   None),\n",
       "  (Document(id='5302a6f8-27ba-4240-b10f-7de74e070cf8', metadata={'chunk_overlap': 0.0, 'chunk_size': 400.0, 'data_source.record_locator.protocol': 'gs', 'data_source.record_locator.remote_file_path': 'gs://processing-pdfs', 'data_source.url': 'gs://processing-pdfs/1999_christiansen_reocr.pdf', 'element_id': '5302a6f8-27ba-4240-b10f-7de74e070cf8', 'file_directory': './document_processing', 'filename': '1999_christiansen_reocr.pdf', 'filetype': 'application/pdf', 'is_continuation': True, 'languages': ['eng'], 'last_modified': '2024-12-26T14:30:38', 'orig_elements': 'eJx9VU1v2zAM/SuCz6ljO2kS97bLgB02DFiBHYrCUCTaFiaLniQvC4b995Gy06RAu5Mjfj4+PilPfzKwMICLjdHZg8ha3R7qzb083pebai/pdKhltStUXZdlcaiylcgGiFLLKCn+T6YQvTZORgjpbOUZp9j0YLo+kqWqioJyFvPJ6NiTtdwn64jGRc57eqrLQ06mcrOv8/J5JS6GqijL/MCG8n67zXdvWZYkMmXhHCIMPMlX8xvst1EqyP6SgwE3ASdPZ8bpQRHwxqKSEX0yjR4jKrSc3QWe1MOAEZrWWGhGmZCT52G9plAFIRjX3Y26DanD5O17/nVZ13Wjem9CNNIFcI0HVD4n54wOIqho0DXKyhAayj9SsSKvt0W9oYAEQRtCTWjP3Cdfa1RTWt21W7aEOjnwmNn/+i6h8TymUDmO1hAZBGK9uK103SS7tNmnDKj8c7KG2AyoTWsgaaYqqu1dWd1Vu8dy+7ApHjYHzh4ps3HTcASmt0oWf1XaQasaaLpa1vtNcSwqXe1ILLTSvdoXepd4ifCbRZQ99iBIP+CFp4UKE8TRyABaRDxJTx/2j+DEiMHwCGJiOkQYPX3CSkinhRRWRtVztnG0/RE9yZZrCE+SNm4uc9NmtiiL3Opa2kVjk+fb5w9cLXrTdeBB54KBzl0UukC0B0EQBumNPQtsRTwh9es6CwxqCZV+mBGy1yGZIFyat/Z86gHsXHpJpQwQAxIQwsWBlDei+gHUjgDimLCCCEZTMLel3AFUL50Jg+hxZif2MgppLZ5SwKU484GRqMnF9544XZAkrDc8rJL1HbhU1nROnEzsb2vfEkRTM3kpcN6CkmOcaDKmokerX6Eybt40ChIiSetae4GQi0+MgUq+bIq9aRQ6SCssSi1aj0NyLNpgDLSrX+AXLUhavjaX8Nh7nLpXQyxiinQ7SM4vkfSU4dtEL1NzEIlkShd9Jox6h8jDoFKTD6+6eZBzJPWx1zXeguAztC0/Hb9Ip0i/jTIEioNbb+b8I8QTgHsz+2UVufh4iSdRJGQ0EPh2uW9EUfRoLVwpkaLnjSgkfklNaR+SBhtGDx3/I+iV0P58R6/MIOx0pPrSxVx8WKhfbl14DeQ9ufE9Qs8LWq7bC7GRNkz3Ef3PCfjhubxoX6SnC07MPPIr8vf5HwFKYBY=', 'page_number': 2.0, 'rag_type': 'Standard', 'type': 'CompositeElement'}, page_content='position, the notches in the flywheel align with the toggles. The latch arm is aligned to capture and hold the toggles inward to engage with the notches. In this position the rotational load from the springs is converted to a radial load through the toggles and a tangential load into the mechanism housing. The load reduction in this stage occurs through the reaction angles of the toggles and the'),\n",
       "   0.252135366,\n",
       "   None),\n",
       "  (Document(id='4ad576a4-9050-408b-b35c-bbf0a35cc830', metadata={'chunk_overlap': 0.0, 'chunk_size': 400.0, 'data_source.record_locator.protocol': 'gs', 'data_source.record_locator.remote_file_path': 'gs://processing-pdfs', 'data_source.url': 'gs://processing-pdfs/1999_christiansen_reocr.pdf', 'element_id': '4ad576a4-9050-408b-b35c-bbf0a35cc830', 'file_directory': './document_processing', 'filename': '1999_christiansen_reocr.pdf', 'filetype': 'application/pdf', 'languages': ['eng'], 'last_modified': '2024-12-26T14:30:38', 'orig_elements': 'eJztVttu3DYQ/RVCTw7g1ZK6kvsRRVq7T4YhUORoRUQSBZJaZxv03zvkrpvUsAP0wQ9pA+xC4uGc4XB4RpyHLxlMMMMSOqOzA8l6XrVlVbaSVwIG3je0HPq6UbRgemCtyG5JNkOQWgaJ9l8yZa3TZpEBfBpP8my30I1gjmNApCgoRc4VfjI6jIiyNqGrNUuIvIcHwUTe3hJOWc4fb8nzWPA2r+OY1VWbl68AFwYimT/7AHPcxUfzGaa7VSrI/sSJGGzn7eZwHGN0oDDobrJKBusStDobrLJTZB993KWD2QboBjNBt8oUNc4c9ns0VeC9WY67VQ8+rbC56a35PRNCdGp0xgcjFw9L58Aql+PkJToIoIKxS6cm6X2H/B6d0VyUtcAUZCkEbTBqjPYc18n32qotHdvX1bKr6SLnuM3se+teTcN5TaZyXSeDycAg9tfpSS7HTR7TqT5kgO4fE+pDN1ttBgNJLwUtqh0rdkVzz6pDSQ8lj+wVmd2yzT3E9LKEuK8qG2RRNW3bD7qspO77mjHGB8X7UkpRtzTlJcDnKKDsfgSi4WRUfHjlTA+amIWE0XiyyhXcLb4DuQvSoQTIb+BBOjWSX58+LVsgKEDUGtpKMyNTBjJLlB3+MWmJCdIDsQPZLg9JPGC4KR0kengaMVfE2+kUGR5O4OQULSPZLMouJ1gMbo/Es8N6wrW8t8pgVWjyZMJIgpPaRIdI/Kd3n5O7Fx7n1bog0R3u1xwXMoAMmwP06uAQ0/t8br9IFx2d4D7mCpP2spxpz1hf9aKStJFlyyVmeOC6qHU9CMH4+5VzQXOEhGhzmsr5Mma0Fs8AfxW4MH7gcv6fV+tN15GbbzX6+4KhwtE68wfot3RaioKVg6CFbmShaM2qgbcCtOrbougr+n46rXnOouqavEoqvIwZLcpcpGumrIu8eg25cH5gpb558dR429c/pXx/XjG2l9/rdFvs7LDD2+JffYt1y2sB+Gtoz7GvYjWjLRuY0lIoVqr303hDc54UzC+t098Av6o+9VJvIIn0X1R5KVjDf6r849nZ3bpN2PsoO+NRmN5MJpzJDcpXBZdKAHsl3GUqgdiRyOnDd6T/+Bd80OsK', 'page_number': 1.0, 'rag_type': 'Standard', 'type': 'CompositeElement'}, page_content='The device described in this paper, the Starsys Research Qwknut 2000, is aimed at maintaining the ease of use of a separation nut while solving several of the inconvenient problems associated with traditional separation nuts. Several of the important design features are:\\n\\n(__ (\\n\\nTypical separation nut ease-of-use\\n\\nPyro-pulse compatibility (electrical initiation signal)'),\n",
       "   0.250589877,\n",
       "   None),\n",
       "  (Document(id='306c7940-db3c-4381-8697-111e32dcb7e6', metadata={'chunk_overlap': 0.0, 'chunk_size': 400.0, 'data_source.record_locator.protocol': 'gs', 'data_source.record_locator.remote_file_path': 'gs://processing-pdfs', 'data_source.url': 'gs://processing-pdfs/1999_christiansen_reocr.pdf', 'element_id': '306c7940-db3c-4381-8697-111e32dcb7e6', 'file_directory': './document_processing', 'filename': '1999_christiansen_reocr.pdf', 'filetype': 'application/pdf', 'languages': ['eng'], 'last_modified': '2024-12-26T14:30:38', 'orig_elements': 'eJx9VU1v2zAM/SuCz6ljO2kS97bLgB02DFiBHYrCUCTaFiaLniQvC4b995Gy06RAu5Mjfj4+PilPfzKwMICLjdHZg8ha3R7qzb083pebai/pdKhltStUXZdlcaiylcgGiFLLKCn+T6YQvTZORgjpbOUZp9j0YLo+kqWqioJyFvPJ6NiTtdwn64jGRc57eqrLQ06mcrOv8/J5JS6GqijL/MCG8n67zXdvWZYkMmXhHCIMPMlX8xvst1EqyP6SgwE3ASdPZ8bpQRHwxqKSEX0yjR4jKrSc3QWe1MOAEZrWWGhGmZCT52G9plAFIRjX3Y26DanD5O17/nVZ13Wjem9CNNIFcI0HVD4n54wOIqho0DXKyhAayj9SsSKvt0W9oYAEQRtCTWjP3Cdfa1RTWt21W7aEOjnwmNn/+i6h8TymUDmO1hAZBGK9uK103SS7tNmnDKj8c7KG2AyoTWsgaaYqqu1dWd1Vu8dy+7ApHjYHzh4ps3HTcASmt0oWf1XaQasaaLpa1vtNcSwqXe1ILLTSvdoXepd4ifCbRZQ99iBIP+CFp4UKE8TRyABaRDxJTx/2j+DEiMHwCGJiOkQYPX3CSkinhRRWRtVztnG0/RE9yZZrCE+SNm4uc9NmtiiL3Opa2kVjk+fb5w9cLXrTdeBB54KBzl0UukC0B0EQBumNPQtsRTwh9es6CwxqCZV+mBGy1yGZIFyat/Z86gHsXHpJpQwQAxIQwsWBlDei+gHUjgDimLCCCEZTMLel3AFUL50Jg+hxZif2MgppLZ5SwKU484GRqMnF9544XZAkrDc8rJL1HbhU1nROnEzsb2vfEkRTM3kpcN6CkmOcaDKmokerX6Eybt40ChIiSetae4GQi0+MgUq+bIq9aRQ6SCssSi1aj0NyLNpgDLSrX+AXLUhavjaX8Nh7nLpXQyxiinQ7SM4vkfSU4dtEL1NzEIlkShd9Jox6h8jDoFKTD6+6eZBzJPWx1zXeguAztC0/Hb9Ip0i/jTIEioNbb+b8I8QTgHsz+2UVufh4iSdRJGQ0EPh2uW9EUfRoLVwpkaLnjSgkfklNaR+SBhtGDx3/I+iV0P58R6/MIOx0pPrSxVx8WKhfbl14DeQ9ufE9Qs8LWq7bC7GRNkz3Ef3PCfjhubxoX6SnC07MPPIr8vf5HwFKYBY=', 'page_number': 2.0, 'rag_type': 'Standard', 'type': 'CompositeElement'}, page_content='The outer race is biased toward the open position using springs, and a latch is incorporated to retain the outer race in the closed position until the SMA is triggered. The latch consists primarily of two toggles, a latch arm, and two notches in the flywheel. The toggles are mounted in two pockets on opposite sides of the mechanism housing that allow the toggles to rotate. When in the latched'),\n",
       "   0.247269109,\n",
       "   None),\n",
       "  (Document(id='6a808f51-f8e5-4d3b-a8e6-18f38e05ab06', metadata={'chunk_overlap': 0.0, 'chunk_size': 400.0, 'data_source.record_locator.protocol': 'gs', 'data_source.record_locator.remote_file_path': 'gs://processing-pdfs', 'data_source.url': 'gs://processing-pdfs/1999_cremers_reocr.pdf', 'element_id': '6a808f51-f8e5-4d3b-a8e6-18f38e05ab06', 'file_directory': './document_processing', 'filename': '1999_cremers_reocr.pdf', 'filetype': 'application/pdf', 'languages': ['eng'], 'last_modified': '2024-12-26T14:30:40', 'orig_elements': 'eJzdV01v3DYQ/SuEzrZWIkVKdI9p0hqpXcM10INhCPwY7gqVRFWi7CyC/veOqHXjphsUOfjgPepxHmc4evNE3X9OoIUO+lA3NrkgSeVAWcuAs6zUUjijhKOMg8udA2Gy5IwkHQRlVVAY/zkx3o+26VWAKT63au/nUO+g2e4CIpRmGXIO8FNjww7RvIzo4Js+LLz7e0aLlJ3hQpmn1cMZ+QJItgKCV2l+FIgURJJpPwXolnPcNJ+g/W1QBpK/cGEpt578POLzUuUIBsuuW29U8GOEhtEHb3y7sLfTcs4ROh+gdk0L9aBi3bhysdlgqIFpavrt+WDdFDPMY/ut9U0upawNbgfjVI/gzZgivhYGAUxofF+bVk1TjVSN+2RpxQXjGBCz2wYLxkL3S4p0Y72Z4zv7kig5hPaqW06YfCPlISrshxilhqFtsAWYf3NYblW/ndU2vs37BHDnh4hOoe68bVwDUSc0o8V5Ts+puMuLC5ZdFFEaAzLrfu40LE3NlxMG+BQiIyW//3r78fL6J3Jze3n97vLml/cL5bmWuya08WV9LcmyVFYzxyTlLmcZlSUVKIIyozp3hstXk2Re0bRAfVWsSOkiuGdA8jwtF6DKqlQcA1bKqUlS8EK8dUlGZPwOw3up4bsdEKN0C+Qg0TOynM6SgAu3AO0ZMb6fmilMxDtCidJzCNgLgjkRCzsVCGYn2NluWHh+C8gdid4TRYYRW4903+PSj/seoFPkCRtN9NzbFn6IeSKXtF5ZYqFtHrGdER/hzxljLdn51lr/1MeY9OWMXatxxNY+wt1yoCOzJhl1mQJrqZVOGiuyggMzRppKFbx4vVmTWZai3eVFKVK5TNIzIHl2GD7OeJodRVbSiU2bpFLmb33aXg7PSyFedhh3TIBCgIXCcAsUZCEKXbCcUW0zqbUTwrye2ZdytXKRH9S1AjRDuWWrt5dpeQQ4UE5MfhXL5Js3+6+9u/VP6LWLUUdDJs1EVAjK7KIVRxf9xzz1qMwfgA7/tGvMjkzzMPjVw4HgXmOnWvKxRy+dVlvG9X/tjb15bCyshM7PffwOXG4+EOfHCFoYWr9fPiff5dFCl1bbgjMNyjnlSsElEwWvmAEmS/2KHs3jfVsKnvLVow+ALNM8zgwrxOrR/0Ui6cSGpKwElac0JB+a7YzXjTwlVz/fXpH3/bbBW8i4KPfK423jpVDX2HdqWCo7JlQLzvHK8FwzXRqttLW2EJUwpXEOwVf08iqlqDlRrj+Kh2fB0NFX45bHntf4E5MofkSrt/4fSf/nGvHwN58pSok=', 'page_number': 1.0, 'rag_type': 'Standard', 'type': 'CompositeElement'}, page_content='2. WORKING PRINCIPLE\\n\\nThe cable element, named the Reel, consists of 2 abutting parts that are clamped together by a pretensioned Dyneema wire bundle; the clamp load delivers the required holddown load.\\n\\nThe lower Reel part is attached to the holddown bracket, which supports the Thermal Knives; the upper Reel part provides the mounting I/F for the deployable\\n\\nFigure 1. MHRM Engineering Model'),\n",
       "   0.242668763,\n",
       "   None),\n",
       "  (Document(id='b30fa75d-a22f-4fe7-8041-3290db1b05d7', metadata={'chunk_overlap': 0.0, 'chunk_size': 400.0, 'data_source.record_locator.protocol': 'gs', 'data_source.record_locator.remote_file_path': 'gs://processing-pdfs', 'data_source.url': 'gs://processing-pdfs/1999_christiansen_reocr.pdf', 'element_id': 'b30fa75d-a22f-4fe7-8041-3290db1b05d7', 'file_directory': './document_processing', 'filename': '1999_christiansen_reocr.pdf', 'filetype': 'application/pdf', 'is_continuation': True, 'languages': ['eng'], 'last_modified': '2024-12-26T14:30:38', 'orig_elements': 'eJyFVE1v2zAM/SuCTxuQOraTpnFuvQzYYcOwFtihKAxZom0BsmRIctOg6H8fKdttss9LElEk33vkUx5eEtDQgwmVksmBJaWod0W53RY3m30prkUhi92+rJumEaLZ74pkxZIeApc8cMx/SYS1TirDA/h41vxkx1B1oNouYKQosgxr5vBRydBhNL+J0cEqE6ju4aHMr9NyxfLdJt0+rthy3m32aUbn/Hq7/WNgqsBI4k8+QE8qvqln0HcDF5C84gWRrbwdHZ6JowOBpCttBQ/WxdDgbLDCaqpuPal00NsAVaM0VAOPrPHmsF5jqgDvlWmvBtn4iDA6/bf7dV6WZSU6p3xQ3HgwlQMrXIqXEzsIIIKyphKae19hfY3NsrTclsUeEyIFqZA1sj0RTrqWVoxxbe9oyZxqeE8yk3/hzqnhNMRUPgxa4TCQxHq+1ty0I2/jVh8SwPaPMepD1VupGgXRL0VWbK/y4qrY3efbwyY7bPZUPWBlZca+BhpvESPu3WVop+Zmh+aSdZ3VWVkA32SbZg9lkdcSW9BcAjyTgRJoGiUUGHFK2Y8ODAsdsADGowA2ONCWS6Y8iyJAsmBjRm11WE25nQMuPcNPERhvuTI+xBszBuahpUF6pqbO2BC4BybhSQlI2T3GhDUh1poWMW1z0VbgF7ofAUPHHJeKa0yUjD/TL2LnL0AXwKn1RZaDiSSqwIcx6yAyg0aIBbgH0XGjfB9h3hI9+V043qCm4EYRRof0P0+qsF502HawXtGaZ6nyP+DOag3OXwIZO/XCBw0OFYsFBpew9F8xrs87C+5cXE7n7Nh2E+GFZWwvLTVmNObzpLsvt+yoSMl3G6JDlzEQMKHYo7/giiyls8OvfOd5zwuKpqFnTc4xFs+mRTFq2bP83R8ko3EABNDbJyD9R+5kyj6pllTkzHcLGdyaEuSbhu4ueC8NV+esV2+Y51O9na9xMQENhD8+0IwIxnxkPSe66KuzRtEF85/B8rq/4uyRwRPc04t6ffwJx70Few==', 'page_number': 2.0, 'rag_type': 'Standard', 'type': 'CompositeElement'}, page_content='notched outer race. In this position, all loads are carried through the structure and do not act through the SMA wire. Rotation of the race allows the rollers to drop into the notches. The radial load path is no longer intact and the nut segments are free to move outward. Figure 1 shows the basic configuration of the segments, the rollers, and the outer race. A roller retainer (not shown)'),\n",
       "   0.241007611,\n",
       "   None)],\n",
       " 'cited_sources': [[(Document(id='41f93ad2-0421-405c-9e62-eaad106c7c4b', metadata={'chunk_overlap': 0.0, 'chunk_size': 400.0, 'data_source.record_locator.protocol': 'gs', 'data_source.record_locator.remote_file_path': 'gs://processing-pdfs', 'data_source.url': 'gs://processing-pdfs/1999_christiansen_reocr.pdf', 'element_id': '41f93ad2-0421-405c-9e62-eaad106c7c4b', 'file_directory': './document_processing', 'filename': '1999_christiansen_reocr.pdf', 'filetype': 'application/pdf', 'languages': ['eng'], 'last_modified': '2024-12-26T14:30:38', 'orig_elements': 'eJztVMFu2zAM/RXB59SxFNuxcl4xFBu6AelOWWEoEh0LkC1DkttmRf99lJp2xdAN2KGXYjfzkZQeqfe8u8/AwABjaLXKNiRb0YqrElaSgVIgipWUslCirjpeVayk2YJkAwShRBBYf59Ja53SowjgU2zE0c6h7UEf+oAIY0WBPSf4VqvQI0rXCZ2sHkPs2+1W6yZnC8JrlvPrBXmOeZHXMa5LlhevxKkegcwffYAhzvBV34HZTkJC9oCJSLX1dnYYR4YOJFJujZUiWJegydlgpTWx++DjjA4GG6DttIF2EokzZjbLJZZK8F6Ph7NJdT7dMDvzp/yScs5b2Tvtgxajh7F1YKXLMfnIDgLIoO3YSiO8b7F/j4cVecNwNixIFJRG1sj2GO/Jl8rKOT3ar9uyU+kohjhm9rd7T6XhOKVSMU1G4zKQxPKUNmI8zOKQ3nSXAR5/nVAf2sEq3WlIamEFK88oO2P1FS03q2KzamL3hJ3tOA97iOtlccwAdyHpKycfzrcXHy/JxXb77Xwby594XOlg0pP9LspGFIrXRcUpKGjkvmqaouo61lXQrVkj30yUrKB5tSAUr86rqLongFGaryPQsCZfvwY8trxHYfKSvg9dJsT9w7/vpZCveiB74bUkCrw+jCTuB1VLboUnwRLpAOVHBKZvtAQSehGItLNRZA7a6B8xdwPuSIy9JTCCOxxJPEiY2O7QAcLHGvzCFdyAwUrhDoD1QhHbkYsvny7JbY8LI0Ip97huvAfDvb0Bor2fweckMsXYCWOeyEg7TPgCoIiHlDmNEnE74kb85qUxL4VzicNVHP4Vg4pVTXnTgVqLUnS8rhlUawWqLlRX7Gn1ZgalvDrZj+dNtN8zsOY5ffQjzctXgdTyHg3a8LLh/x16n5T/fcZ/tkS1D0CGaIMEqGgc2aPgR4SCJ6hnGRzOYp68iCYcQPZijOBLN3zGxVxEwTxc/wTal/Gl', 'page_number': 2.0, 'rag_type': 'Standard', 'type': 'CompositeElement'}, page_content='3. DESIGN ISSUES\\n\\nThe basic design problem was to create a device that could utilize a very low energy signal to release a relatively large load of IOKN while addressing the above issues. The overall device comprised several basic components:\\n\\n{ The “prime mover” which converts electrical energy to mechanical'),\n",
       "    0.348439872,\n",
       "    0.17908539),\n",
       "   (Document(id='115d1863-520b-4130-8e16-7d66bb5f8818', metadata={'chunk_overlap': 0.0, 'chunk_size': 400.0, 'data_source.record_locator.protocol': 'gs', 'data_source.record_locator.remote_file_path': 'gs://processing-pdfs', 'data_source.url': 'gs://processing-pdfs/1999_christiansen_reocr.pdf', 'element_id': '115d1863-520b-4130-8e16-7d66bb5f8818', 'file_directory': './document_processing', 'filename': '1999_christiansen_reocr.pdf', 'filetype': 'application/pdf', 'languages': ['eng'], 'last_modified': '2024-12-26T14:30:38', 'orig_elements': 'eJx9U8tu2zAQ/JWFTg1gy5L8knzLpbemBZJbEAgrciURpUiBpO24Qf69S8Zpcmh7sjg7uzP78ONLRpomMqFVMjtAVmyKuq+KpqzKdSMlUt3vaoG7cr/p9h2uswVkEwWUGJD5L5mw1kllMJBPb40XewztSGoYAyNVVRScc4XPSoaR0XKf0NkqE2Le42PZNHmzgHK73+b10wL+APW2zqsI1FWdl38D3lIYyfzFB5piHz/UM+n7GQVlrxyIdltvj47f0aUjwbZbbQUG6xI0OxussDpmDz726WiygdpeaWpnTL45clitmCrIe2WG5Sx7nxSOTv8rvuJWmlaMTvmg0HgyrSMrXM7BN3cUSARlTSs0et9yfsfFirzZVusdE5IFqdg1u71EnXwlrTimxX2oZVeqwSm2mf1P90oNlzlRcZ614mGwidU1rNEMRxzSXh8z4vJPCfWhnaxUvaJ0MVVRbZZltax2D+XmsC4O6zpmz5zZmuPUURxvlRD3cWd1s9nWVDRytytoHY8NN81uUxVdJasCd2kugZ7jCWX3dCKHGnrWBuRJmWEBjpZHT9hpAmGn2Rou7kGggY7gCxoJI56IH2RugJkSgmWm4VIB+OhFcNywBjLkhksMTiRGNAk8W/czh9vJmgHCSJ6AzcOs6Jddvud+kl0AX4p1/Ostj98qyZ/Rgh9xJi488doAtbYX+HL/7fbmU24O3/urxqc+mATKRBx66yawPZx5/9yTT2BHPArmd/Gvx0uLhJ4wHB35mMEkxUzeboxIOilBOXx9D0jyajCAb0XzCqYpyknFlxPIJe/bIqI6juDMqmK0fEE5PMT8iyIteaQYtUTS2OdruKNzsMaDPcUaXM4HNG/hMt9yuTyexvvN3aFzbP5ED3HPr0+/AdtKfMo=', 'page_number': 2.0, 'rag_type': 'Standard', 'type': 'CompositeElement'}, page_content='Several fast acting, re-useable components can be (and have been) used to convert electrical energy to mechanical work. Among these are piezo-electric components, motors, solenoids, and shape memory alloy (SMA) components. Of these components SMA in the form of wire has the best combination of features for this type of device. For this design a wire .2 mm in diameter and 50 mm long was chosen.'),\n",
       "    0.317214191,\n",
       "    0.13031887),\n",
       "   (Document(id='b6ed0b30-3f26-4f4e-ae5f-0dbfa33d9f50', metadata={'chunk_overlap': 0.0, 'chunk_size': 400.0, 'data_source.record_locator.protocol': 'gs', 'data_source.record_locator.remote_file_path': 'gs://processing-pdfs', 'data_source.url': 'gs://processing-pdfs/1999_christiansen_reocr.pdf', 'element_id': 'b6ed0b30-3f26-4f4e-ae5f-0dbfa33d9f50', 'file_directory': './document_processing', 'filename': '1999_christiansen_reocr.pdf', 'filetype': 'application/pdf', 'languages': ['eng'], 'last_modified': '2024-12-26T14:30:38', 'orig_elements': 'eJzdVF1vmzAU/SsWT42UEsw3fUOpl0VqkwyoNqmqkGNfEksEI3C2RtX++2zCumpq97aH9g3OPefec83B908W1HCARpWCW1fIgnCbhJWHA99hlAfcwTwKoqSKvYiHUQTWFFkHUJRTRTX/yWJSdlw0VEE/vNf0JI+q3IPY7ZVGXNdxtGaEfwiu9hrF0YC2UjTK6O7vcRLbeIowDiM7eZiiZ8B1se0YINIPwWvAWaIRqz/1Cg5mj414hDpvKQPrpy4Yu2Uvj51+Ny47YNp2WUtGlewGqO2kkkzWRr3rzZ4dHKSCshI1lC0dfOvK1WymqQz6XjS7y5ZX/TDh2NVv1Wc4SZKS7TvRK0GbHpqyA8k6WxfP7kABU0I2Jatp35dav9XNHDvy4iTRhMECF9q1dnsyc+wZl+w4fLg/06yR2tCDWdP619yRqk7tQKVtWwt9GNrEbCzXtNkd6W74rvcW6PYPA9qr8iC5qAQMiXEd17/E7qUbFti/8pwrLzbqVivL5njYgjle36yp4NEkwvokdscOELbRp/r0Yw9QT1En6xq6KaINRz3szGLAUXNUSLbQDb5s0/a33xXtDPodCtNUd/87yInnsmALNIKq0pGpOEQVUOZVAWxpXNH/FmTXd20NYc91zjF9BuIxt174FjBI3nGQP1ZOM3J9t7pOVwXKN9lytchRsUbZukgL8jKKhVA1vBbB0MO+x90gqOLE8yJg25CzOHYD7jHfr7b/LYJekNixyRMObX8I2AhoGzYeLlc/Ce3oVeQseschfPs2jcOPd5nO17ebjOT5cr1C84zobOqUZl/uCFrfFSRDWTon6CYt5p/Jta4sFjckRxfut8kZRGl2iy7WK4I2SzInE5SRIl2u8mcqnqD8NkVfl3rIGP5B406eKRm5IWlOkDd5OZOsFumCjJL8ZWXkX7/8iZYHvaL18+EXB8ylkQ==', 'page_number': 4.0, 'rag_type': 'Standard', 'type': 'CompositeElement'}, page_content='Figure 1. Flywheel, roller, and segmented nut operation.\\n\\nREDUNDANT SPRINGS TO ROTATE\\n\\nCOMPRESSION CREATE TORQUE OUTER RACE LATCHED TOGGLES (2X) LATCH ARM (ONE PIECE) RETAINS TOGGLES 1) SMA WIRES ROTATE ARM 2) TOGGLES RELEASE 3) OUTER RACE ENGAGE ROTATES OUTER RACE RELEASED'),\n",
       "    0.315316647,\n",
       "    0.12030463)]],\n",
       " 'alternative_questions': [['{',\n",
       "   '\"questions\": [',\n",
       "   '\"What role do shape memory alloy (SMA) wires play in modern mechanical designs and how do their dimensions affect performance?\",',\n",
       "   '\"How do flywheel mechanisms with redundant springs compare to other energy storage and conversion systems?\",',\n",
       "   '\"What are the advantages and limitations of using piezo-electric components versus solenoids in mechanical energy conversion?\"',\n",
       "   ']',\n",
       "   '}']]}"
      ]
     },
     "execution_count": 36,
     "metadata": {},
     "output_type": "execute_result"
    }
   ],
   "source": [
    "result"
   ]
  },
  {
   "cell_type": "code",
   "execution_count": 37,
   "metadata": {},
   "outputs": [
    {
     "name": "stderr",
     "output_type": "stream",
     "text": [
      "INFO:aerospace_chatbot.processing.queries:Node: retrieve\n",
      "INFO:httpx:HTTP Request: POST https://api.openai.com/v1/embeddings \"HTTP/1.1 200 OK\"\n",
      "INFO:aerospace_chatbot.processing.queries:Retrieved docs\n",
      "INFO:httpx:HTTP Request: POST https://api.cohere.com/v2/rerank \"HTTP/1.1 200 OK\"\n",
      "INFO:aerospace_chatbot.processing.queries:Reranked docs\n",
      "INFO:aerospace_chatbot.processing.queries:Node: generate_w_context\n",
      "INFO:aerospace_chatbot.processing.queries: generate_w_context system prompt: \n",
      "# **System Prompt**\n",
      "\n",
      "Your name is **Aerospace Chatbot**, a specialized assistant for flight hardware design and analysis in aerospace engineering. You will function as a knowledgeable replacement for an expert in aerospace flight hardware design, testing, analysis, and certification.\n",
      "\n",
      "> **Important Note:** The **Sources and Context** you are provided are ranked from most relevant to least relevant by a state-of-the-art retrieval and ranking tool. Please take this ranking into consideration when determining which sources to cite.\n",
      "\n",
      "Use only the **Sources and Context** provided to answer the **User Question**. **Do not use outside knowledge**, and strictly follow these rules:\n",
      "\n",
      "---\n",
      "\n",
      "## **Rules**:\n",
      "\n",
      "1. **Answer only based on the provided Sources and Context.**  \n",
      "   - If the information is not available in the Sources and Context, respond with:  \n",
      "     *\"I don’t know the answer to that based on the information provided. You might consider rephrasing your question or asking about a related topic.\"*\n",
      "\n",
      "2. **Do not make up or infer answers.**  \n",
      "   - Stay accurate and factual at all times.\n",
      "\n",
      "3. **Provide highly detailed, explanatory answers.**  \n",
      "   - Include **as many specific details from the original context** as possible to thoroughly address the user’s question.\n",
      "\n",
      "4. **Provide responses in English only** and format them using **Markdown** for clarity.\n",
      "\n",
      "5. **Cite Sources in context** using the exact format `<source id=\"#\">`:  \n",
      "   - `#` – Represents the numerical order of the source as provided in the Sources and Context.  \n",
      "   - **The `source` tag must be present for every source referenced in the response.**  \n",
      "   - **Do not add, omit, or modify any part of the citation format.**  \n",
      "   \n",
      "   **Examples (Correct):**  \n",
      "   > The actuator was tested under extreme conditions <source id=\"1\">.  \n",
      "   > A secondary material exhibited increased yield strength <source id=\"2\">.  \n",
      "   > Additional research confirmed thermal properties <source id=\"3\">.  \n",
      "\n",
      "   **Examples (Incorrect – Must Be Rejected):**  \n",
      "   > Testing yielded higher efficiency [1] (Incorrect bracket format)  \n",
      "   > <source id=\"1\" > (Extra space after `id`)  \n",
      "   > <source id=\"a\"> (Non-numeric ID)  \n",
      "   > <source id=\"1,2\"> (Multiple IDs in one tag – invalid)  \n",
      "\n",
      "6. **Every sentence or paragraph that uses a source must cite it with the format `<source id=\"#\">`.**  \n",
      "   - **Do not group multiple sources into a single tag.**  \n",
      "   - Each source must have its own, clearly separated citation.  \n",
      "   - For example:  \n",
      "     > The actuator uses a reinforced composite structure <source id=\"1\">.  \n",
      "     > This design was validated through multiple tests <source id=\"2\">.\n",
      "\n",
      "7. **Validation Requirement:**  \n",
      "   - If the response contains references without the exact `<source id=\"#\">` format, the response must be flagged or rejected.  \n",
      "   - Every source used must have a corresponding citation in the response.  \n",
      "   - **No source should be referenced without explicit citation.**\n",
      "\n",
      "8. **Suggest related or alternative questions** if applicable, to help the user find relevant information within the corpus.\n",
      "\n",
      "9. **Give preference to citing top-ranked sources.**  \n",
      "   - If the first sources in the list (i.e., the most relevant or highest-ranked) contain information that addresses the user’s question, cite them first.  \n",
      "   - Then cite additional sources only if they contain new or non-redundant details.  \n",
      "   - If the top-ranked sources are not relevant, skip them.\n",
      "   \n",
      "\n",
      "\n",
      "INFO:httpx:HTTP Request: POST https://api.anthropic.com/v1/messages \"HTTP/1.1 200 OK\"\n",
      "INFO:aerospace_chatbot.processing.queries:  Response generated\n",
      "INFO:aerospace_chatbot.processing.queries:    Response parsed\n",
      "INFO:aerospace_chatbot.processing.queries:Node: generate_alternative_questions\n",
      "INFO:httpx:HTTP Request: POST https://api.anthropic.com/v1/messages \"HTTP/1.1 200 OK\"\n",
      "INFO:aerospace_chatbot.processing.queries:    Alternative questions generated.\n",
      "INFO:aerospace_chatbot.processing.queries:    Alternative questions parsed\n",
      "INFO:aerospace_chatbot.processing.queries:Node: should_continue\n",
      "INFO:aerospace_chatbot.processing.queries:Ending conversation\n"
     ]
    },
    {
     "name": "stdout",
     "output_type": "stream",
     "text": [
      "================================\u001b[1m Human Message \u001b[0m=================================\n",
      "\n",
      "My name is Dan. Please tell me about some interesting mecanism designs.\n",
      "==================================\u001b[1m Ai Message \u001b[0m==================================\n",
      "\n",
      "Hi Dan! Based on the provided sources, I can tell you about some interesting mechanism designs. One notable example is a device designed to handle a 10KN load using a low energy signal input <source id=\"2\">. The mechanism incorporates several fast-acting, reusable components for converting electrical energy to mechanical work, including piezo-electric components, motors, solenoids, and shape memory alloy (SMA) components. The design specifically utilizes SMA wire with dimensions of 0.2 mm diameter and 50 mm length, as this offered the best combination of features for the application <source id=\"4\">. Another interesting aspect is a flywheel design that includes redundant springs for rotation and compression, featuring toggles and a latch arm system. This mechanism operates through a sequence where SMA wires rotate an arm, toggles are released, and then an outer race engages and rotates <source id=\"5\">.\n",
      "================================\u001b[1m Human Message \u001b[0m=================================\n",
      "\n",
      "How have these mecahnisms been tested?\n",
      "==================================\u001b[1m Ai Message \u001b[0m==================================\n",
      "\n",
      "Based on the provided sources, these mechanisms have undergone extensive testing procedures. During development and qualification, the mechanisms were subjected to numerous functional and environmental tests, along with performance monitoring <source id=\"2\">. For the Engineering Model specifically, testing included several key components: stiffness and strength testing, on-ground release testing in ambient conditions, sine/sine dwell and random vibration testing, and release testing under thermal vacuum circumstances <source id=\"4\">. These tests were conducted to verify mechanism performance and validate forces and margins within the mechanism <source id=\"1\">.\n"
     ]
    }
   ],
   "source": [
    "prompt = 'How have these mecahnisms been tested?'\n",
    "result = qa_model.workflow.invoke({\"messages\": [(\"human\", prompt)]}, config)\n",
    "for message in result['messages']:\n",
    "    message.pretty_print()"
   ]
  },
  {
   "cell_type": "code",
   "execution_count": 38,
   "metadata": {},
   "outputs": [
    {
     "data": {
      "text/plain": [
       "{'messages': [HumanMessage(content='My name is Dan. Please tell me about some interesting mecanism designs.', additional_kwargs={}, response_metadata={}, id='25436271-751c-4113-99d6-0aeaa0cfec50'),\n",
       "  AIMessage(content='Hi Dan! Based on the provided sources, I can tell you about some interesting mechanism designs. One notable example is a device designed to handle a 10KN load using a low energy signal input <source id=\"2\">. The mechanism incorporates several fast-acting, reusable components for converting electrical energy to mechanical work, including piezo-electric components, motors, solenoids, and shape memory alloy (SMA) components. The design specifically utilizes SMA wire with dimensions of 0.2 mm diameter and 50 mm length, as this offered the best combination of features for the application <source id=\"4\">. Another interesting aspect is a flywheel design that includes redundant springs for rotation and compression, featuring toggles and a latch arm system. This mechanism operates through a sequence where SMA wires rotate an arm, toggles are released, and then an outer race engages and rotates <source id=\"5\">.', additional_kwargs={}, response_metadata={'id': 'msg_019g6rHj5eU4vQo2L7BvSthp', 'model': 'claude-3-5-sonnet-20241022', 'stop_reason': 'end_turn', 'stop_sequence': None, 'usage': {'cache_creation_input_tokens': 0, 'cache_read_input_tokens': 0, 'input_tokens': 1574, 'output_tokens': 254}}, id='run-3831480c-e5a1-41e7-b0f5-6676b71b4192-0', usage_metadata={'input_tokens': 1574, 'output_tokens': 254, 'total_tokens': 1828, 'input_token_details': {'cache_creation': 0, 'cache_read': 0}}),\n",
       "  HumanMessage(content='How have these mecahnisms been tested?', additional_kwargs={}, response_metadata={}, id='1d4884ca-fadd-49e0-94ff-6c40010ae090'),\n",
       "  AIMessage(content='Based on the provided sources, these mechanisms have undergone extensive testing procedures. During development and qualification, the mechanisms were subjected to numerous functional and environmental tests, along with performance monitoring <source id=\"2\">. For the Engineering Model specifically, testing included several key components: stiffness and strength testing, on-ground release testing in ambient conditions, sine/sine dwell and random vibration testing, and release testing under thermal vacuum circumstances <source id=\"4\">. These tests were conducted to verify mechanism performance and validate forces and margins within the mechanism <source id=\"1\">.', additional_kwargs={}, response_metadata={'id': 'msg_01KqjPDBLSzo4eyac7Gctw7x', 'model': 'claude-3-5-sonnet-20241022', 'stop_reason': 'end_turn', 'stop_sequence': None, 'usage': {'cache_creation_input_tokens': 0, 'cache_read_input_tokens': 0, 'input_tokens': 1606, 'output_tokens': 171}}, id='run-8a6f2269-eb02-421a-a213-c01262480160-0', usage_metadata={'input_tokens': 1606, 'output_tokens': 171, 'total_tokens': 1777, 'input_token_details': {'cache_read': 0, 'cache_creation': 0}})],\n",
       " 'context': [(Document(id='447b67fb-0234-4b3b-b628-3daee675dc8a', metadata={'chunk_overlap': 0.0, 'chunk_size': 400.0, 'data_source.record_locator.protocol': 'gs', 'data_source.record_locator.remote_file_path': 'gs://processing-pdfs', 'data_source.url': 'gs://processing-pdfs/1999_christiansen_reocr.pdf', 'element_id': '447b67fb-0234-4b3b-b628-3daee675dc8a', 'file_directory': './document_processing', 'filename': '1999_christiansen_reocr.pdf', 'filetype': 'application/pdf', 'is_continuation': True, 'languages': ['eng'], 'last_modified': '2024-12-26T14:30:38', 'orig_elements': 'eJyNVF1v2zAM/CuCnxPHX8nsvA3Y8zBgBfYQFAYt07EAWfIkOWlQ9L+PVNKmGLpijz7dkccjk8NzghonNKFVfbIXSV3Kfrfd5g1IkH3X54iVzKoOGqzzsoZkJZIJA/QQgPjPibTW9cpAQB+/NVzsEtoR1XEMhBRFlpHmBp9VH0ZC8y8Rna0ygXWHQ9406XYl8m2RpdXjSrwBzS5PSwbqYpfuPgKuEkISf/EBJ57jh3pC/XMGickLPbDd1tvF0Te7dCjJdquthGBdhGZng5VWs/roeU6Hkw3YDkpjO0P0TS/7zYaoEr1X5rie+8HHDovT/3rf0ChNK0enfFBgPJrWoZUupcerOwwog7KmlRq8b0nfUbEsbaq6qIkQLfSKXJPbC/dJN72VS1zcvVtyoxqYeMzks743arjMkQrzrBWFQSY2t2cN5rjAMe71kCCVf4yoD+1kezUojBdTZEW1zot1sXvIq32Z7cua1TMpW7NMHXK8ZUTc/c7KktZYF1lZdXU5kNG8GeRQD11e4Xa3bWIuAZ/4hJJvi6PpRBhR9HhCbWceXIDpxe8FNFm5Ohd2iCRHNw0exYRyBKP8tBIgNLgjiqsjJg6LiZmDjoXQnJSzhgsTQtccvDijQzGjG6ybsE/F17/aMUt4dAqJC/5OFdIaz6mTa/Z0mUmihed7lA6G8GE7tkG/B3SeCnmq8s7ilRGsmKxRdASvvcBITMUtoPfhsIAxryZFo//HfAK0JcFZhZHiugf11ppOk+7snup7D9H8iaIYLoIwOsiITBS6Mj4WVSYu502eil8jXaCYHXp2FSNlUa+8XOigrwsFrV/3+vny4zao1qI5S5qsw4slFiu9tDNeyyjaE5DzFUVzNFFu7rowAn9o+j/jkVnbgVdSkN7BbRkSZuiUVoEXP1it7Tnlm3/9MX0Hx9wTPvABvzz+Ad/02qA=', 'page_number': 3.0, 'rag_type': 'Standard', 'type': 'CompositeElement'}, page_content='mechanism performance and verify forces and margins within the mechanism. While presentation and discussion of all of the development and qualification test results are beyond the scope of this paper, significant results that relate to the basic operational capabilities follow.'),\n",
       "   0.506364584,\n",
       "   0.31643313),\n",
       "  (Document(id='2d6593a6-abcc-40f9-8923-88bf4df7aa02', metadata={'chunk_overlap': 0.0, 'chunk_size': 400.0, 'data_source.record_locator.protocol': 'gs', 'data_source.record_locator.remote_file_path': 'gs://processing-pdfs', 'data_source.url': 'gs://processing-pdfs/1999_christiansen_reocr.pdf', 'element_id': '2d6593a6-abcc-40f9-8923-88bf4df7aa02', 'file_directory': './document_processing', 'filename': '1999_christiansen_reocr.pdf', 'filetype': 'application/pdf', 'languages': ['eng'], 'last_modified': '2024-12-26T14:30:38', 'orig_elements': 'eJyNVF1v2zAM/CuCnxPHX8nsvA3Y8zBgBfYQFAYt07EAWfIkOWlQ9L+PVNKmGLpijz7dkccjk8NzghonNKFVfbIXSV3Kfrfd5g1IkH3X54iVzKoOGqzzsoZkJZIJA/QQgPjPibTW9cpAQB+/NVzsEtoR1XEMhBRFlpHmBp9VH0ZC8y8Rna0ygXWHQ9406XYl8m2RpdXjSrwBzS5PSwbqYpfuPgKuEkISf/EBJ57jh3pC/XMGickLPbDd1tvF0Te7dCjJdquthGBdhGZng5VWs/roeU6Hkw3YDkpjO0P0TS/7zYaoEr1X5rie+8HHDovT/3rf0ChNK0enfFBgPJrWoZUupcerOwwog7KmlRq8b0nfUbEsbaq6qIkQLfSKXJPbC/dJN72VS1zcvVtyoxqYeMzks743arjMkQrzrBWFQSY2t2cN5rjAMe71kCCVf4yoD+1kezUojBdTZEW1zot1sXvIq32Z7cua1TMpW7NMHXK8ZUTc/c7KktZYF1lZdXU5kNG8GeRQD11e4Xa3bWIuAZ/4hJJvi6PpRBhR9HhCbWceXIDpxe8FNFm5Ohd2iCRHNw0exYRyBKP8tBIgNLgjiqsjJg6LiZmDjoXQnJSzhgsTQtccvDijQzGjG6ybsE/F17/aMUt4dAqJC/5OFdIaz6mTa/Z0mUmihed7lA6G8GE7tkG/B3SeCnmq8s7ilRGsmKxRdASvvcBITMUtoPfhsIAxryZFo//HfAK0JcFZhZHiugf11ppOk+7snup7D9H8iaIYLoIwOsiITBS6Mj4WVSYu502eil8jXaCYHXp2FSNlUa+8XOigrwsFrV/3+vny4zao1qI5S5qsw4slFiu9tDNeyyjaE5DzFUVzNFFu7rowAn9o+j/jkVnbgVdSkN7BbRkSZuiUVoEXP1it7Tnlm3/9MX0Hx9wTPvABvzz+Ad/02qA=', 'page_number': 3.0, 'rag_type': 'Standard', 'type': 'CompositeElement'}, page_content='During the development and qualification of the release mechanism, a large number of functional and environmental tests were performed. A qualification test series was performed consisting of typical spacecraft environmental tests and interspersed functional tests to monitor performance. During development testing similar environmental tests were performed along with a number of tests to assess'),\n",
       "   0.40768525,\n",
       "   0.2587968),\n",
       "  (Document(id='2ba59a17-2cc8-4350-bbb1-0da136b3fd85', metadata={'chunk_overlap': 0.0, 'chunk_size': 400.0, 'data_source.record_locator.protocol': 'gs', 'data_source.record_locator.remote_file_path': 'gs://processing-pdfs', 'data_source.url': 'gs://processing-pdfs/1999_cremers_reocr.pdf', 'element_id': '2ba59a17-2cc8-4350-bbb1-0da136b3fd85', 'file_directory': './document_processing', 'filename': '1999_cremers_reocr.pdf', 'filetype': 'application/pdf', 'languages': ['eng'], 'last_modified': '2024-12-26T14:30:40', 'orig_elements': 'eJx1UsGO2yAQ/RXEOXEMxrGd2x4q9ZKqavcWRQjD2EGyjQV4u9Fq/70DTbuX7nHevDfzHszljcIEMyxRWkNPhLZsMBXohg+c9/XQCm5K1rRD13ZMHKuO7gidISqjokL+G9XOeWMXFSHkelJ3t0V5AzveIiKclyVqHvAva+INUdZkdHV2iUl3ubBGFGJH2rIrquuO/KuPx0Kkui2bgv+nznwEaLiHCHPK8N2+wvRzVRroOzaSVRnc5rFODj1otCwnp1V0PkOrd9FpNyX1GFJGD7OLIAc7gVxV9oyd0+GAVA0h2GXcr2YIecPmp8/6B9Z1ndQ4DnyQHpz2BeJ/jEEEHa1bpJ5UCBKlPc4pC1HVvEFC3m4sGkaj97SiOBint/xfH4vog7qoOSWkn6x8sOJ9zSy1rpPFJ8D9h0d7Usu4qTH/5IUCTr5mNEQ5O2MHC/lGeMnFnvE9Pz4zcarKkyiTekWlXLa5h/SoLCP+47KOdSvMUFdcVdqIoROdYj2v66EedM9qlp8kwms6GvoUyeohoHpH4g3I+euPM/myjHYB8BiZnJ2BieDRxUBu6gVID7AQ7eYVE4IpkqG/Sb8p7zHnCzyn6e/X3wFa7Vs=', 'page_number': 1.0, 'rag_type': 'Standard', 'type': 'CompositeElement'}, page_content='At present, the MHRM Engineering Model tests have been completed.'),\n",
       "   0.394688398,\n",
       "   0.19228172),\n",
       "  (Document(id='011fba96-f588-464b-abf9-6e7c6f1e09c5', metadata={'chunk_overlap': 0.0, 'chunk_size': 400.0, 'data_source.record_locator.protocol': 'gs', 'data_source.record_locator.remote_file_path': 'gs://processing-pdfs', 'data_source.url': 'gs://processing-pdfs/1999_cremers_reocr.pdf', 'element_id': '011fba96-f588-464b-abf9-6e7c6f1e09c5', 'file_directory': './document_processing', 'filename': '1999_cremers_reocr.pdf', 'filetype': 'application/pdf', 'languages': ['eng'], 'last_modified': '2024-12-26T14:30:40', 'orig_elements': 'eJzll1Fr4zgQx7+K8dMttI4kS5aVt+XYg8Kxd9yVfSnFyNI4EdhWkJV2y3Lf/UZqslt2U9h7yMOlLyb6a0YzI/0YJndfShhhgjl2zpbrotSguNatZMTSehiEobYhhEtFVDNQKsqropwgaqujRvsvpfE+WDfrCEtej/rJ72O3BbfZRlQYIwR9DvKjs3GLKpVZ3Xk3x+R3d1dLUqmrgnIqKnZ/VXwTeFPJJDT0NSG7oFIuT0uEKdXxp/sM4987baD8BzdSut3i9wHXKcsABtPuRm909CFLu+CjN35M3psl1Rlg8hG6wY3Q7XTOG3fWqxWaGlgWN2+ud3ZYcoR9GF/bX1GlVGfwOAhLF8CbUKH+nBhEMNH5uTOjXpYOXXs8h1QtV61AgxzdOkwYE31KIaqV9Waf3+xboPJgOuspVVi+EvJgFZ922UrvdqPDK8D4q8P2qOfNXm/ya96VgCffZ3WJ3eStGxxkThhh/Jqya9bcUr6uyZqT5L1Dz27eTz2kS61ThRE+Jw5KXhWfPvx189vNr+9vb/74mKyPady6OOZ3+p5GWgMQVVOQMPDe1Jxy3VpDlWjJYOv2bDRS2VYioSVV1STWjoIgslJJkI2o+Cnh2eXCaJS8VvX/ncashP/Q617i+2HeuBkgYHUFhoaxQMZiWhk/7YJbwBZxC8Xgx9E/or5+SfhHHQIW9gC36bgTpAtipGwbMI0y0hLTDEoAGXjii9c1Px/pLato4pjyimbSj0KtKp4EweuKnBSyy6WRLgSTb5p0WhUI9jDMWGGhZ4srPGoTt0fiX4L9u1viTXr7E0w3pBcWRA9SMjb0da+I0KyWlineW0vPyLSomgQo58/EfhUkrUgeHXBHnBSyy6UxjRdP3zTTrCr8fL0Jfo88B8RUL/C1gf/i5kJPvcOz3/0s20yDUMwwM/TAFeeK4k8hlbXYsxXVZ51MVCb3MAUfhYbUVZ1RFiQ38B+EZ5eLY5tK9qbZrrFf42hylb+FfYRxzG074MdPxYPrQ878Z9HuFcOJoxXMDlLzxqiWMUsphcH2xg7DGds2OZCsDmgfBRyt82zSUpX7+I9CdrkwtNsWC33TaON/xu+bNTZwCGnSDpMeiwdt9vupMC7gdSxRz3gXpzm//xfvoUNb', 'page_number': 3.0, 'rag_type': 'Standard', 'type': 'CompositeElement'}, page_content='4. VERIFICATION\\n\\nEngineering model testing comprised the following:\\n\\n1. stiffness and strength testing\\n\\n2. on-ground release testing (in ambient)\\n\\n3. sine, sine dwell and random vibration\\n\\n4. release testing under thermal vacuum circumstances'),\n",
       "   0.383672088,\n",
       "   0.13165279),\n",
       "  (Document(id='de66964c-41c7-4fb9-b003-6808cfd38179', metadata={'chunk_overlap': 0.0, 'chunk_size': 400.0, 'data_source.record_locator.protocol': 'gs', 'data_source.record_locator.remote_file_path': 'gs://processing-pdfs', 'data_source.url': 'gs://processing-pdfs/1999_christiansen_reocr.pdf', 'element_id': 'de66964c-41c7-4fb9-b003-6808cfd38179', 'file_directory': './document_processing', 'filename': '1999_christiansen_reocr.pdf', 'filetype': 'application/pdf', 'languages': ['eng'], 'last_modified': '2024-12-26T14:30:38', 'orig_elements': 'eJzlVk1v3DYQ/SuETj7EWpL6pG85BGiAwgnizckwBIoc7RKVRIGk3GyD/vcOubvJIrXTkw9xj3zz9YZ8Q8z91wxGmGAOndHZDcloA7JQvdaasbamHI8VUF00rS6hrZvsDckmCFLLINH/a6asddrMMoBP51Ee7Bq6PZjdPiDCOaUYc4L/NDrsEWVNQhdr5hDj7u9FXecIMSqqvH14Q74BTLCcR4Dxpsj5k8gxCKHMH3yAKXby0XyB8W6RCrK/0RAJd96uDs+RpwOFxLvRKhmsS9DibLDKjjF652OnDiYboBvMCN0iE3O03Gw26KrAezPvrhc9+FRhdeNz9g0TQnRq74wPRs4e5s6BVS5H45EdBFDB2LlTo/S+w/gek9G8KDlDe2KgDZJGsodYJt9oq9b0ct+LZSfXWU6xy+xnZU+u4bAkV7kso8G7QA6bk3mU826Vu/Sw9xlg+oeE+tBNVpvBQJIMp7y8Zvya11tW3hT0pmhj9IKR3bxOPcTbZQlx34U2SF7WTdMPuiil7vuKoeAG1faFlKJqaLqWAF+ihrLl4Czxe6v+IJ/AQwiyN6MJB7IhDlZ/Pv2GmkNgNGdgArWXs/FTJHTu9FY6h30+wjZmxzI/zkBVS1C8pGzgoii0HKgcpCj7mut6EK14uRng9DQDTU7TDJwAJoojwCgtn0GOQb/wDPzPNX51a8kVubpU6ucZycLOOvMX6OfUWsqC11UrG02boo9FBql5yxjUlW6G9sXUymjV5DUqj1dtXh61eEba9viJM5yiXDyNpKhfWK/P/tmNEHX1KgR9qU+ekw8f3316u33/4fbt7+T93d3nd3eXat2aMMKT/ynlvKrbRrWCSQpVXzKltG44UKpaVbyYQtEtrQdFWedFFN8ZKIU4Ai1v8uIp4BjyGtUpsFf+KtT543f7nz/hpZy3hwW5jeOBeMAsiSWZ1+AJpoxLBEgPmoS9sytuFWEPRKb7JHYgO+nJDmbAsAsfvHI7y7OPJHFrwUfYz0YR3EPcDnKyxTxeDphs1gSGIb7RI5DVw79jvm0vxHjSJzqY2tsJyCM4JB6cUYGgjx7xpchZbflPtp2HfwCncccl', 'page_number': 1.0, 'rag_type': 'Standard', 'type': 'CompositeElement'}, page_content='pyro shock Resettability / reusability High reliability mechanism\\n\\n(No ( (\\n\\n2. OPERATIONAL ISSUES\\n\\nTypically separation nuts are released through the action of gas generated through detonation of a pyrotechnic charge. The safe and effective use of a pyrotechnic mechanism is based on some very strict handling protocol.'),\n",
       "   0.334929466,\n",
       "   0.11067306),\n",
       "  (Document(id='51401c0a-cbf9-4207-b7b4-4715d1df454b', metadata={'chunk_overlap': 0.0, 'chunk_size': 400.0, 'data_source.record_locator.protocol': 'gs', 'data_source.record_locator.remote_file_path': 'gs://processing-pdfs', 'data_source.url': 'gs://processing-pdfs/1999_cremers_reocr.pdf', 'element_id': '51401c0a-cbf9-4207-b7b4-4715d1df454b', 'file_directory': './document_processing', 'filename': '1999_cremers_reocr.pdf', 'filetype': 'application/pdf', 'languages': ['eng'], 'last_modified': '2024-12-26T14:30:40', 'orig_elements': 'eJzdVMtu2zAQ/BVCZ1sW9bAlf0DRS4oi8c0IBIpcSQQoUiCpJkaQf++ScpogcA899NAeNfua2R3q/JKAggm0b6VIjiShtcj3XIi+oqIvcgY1qwredAKqvquaOtmQZALPBPMM818SbowVUjMPLn4rdjGLb0eQw+gRyfMsw5or/CSFHxGlh4jORmof6s5nWucp3YRAldaPG/IOFDSlAaj2dXq4CcQSRBJ3cR6moOO7fAb1MDMOySsGAt3WmcXid2BpgSPtVhnOvLERmq3xhhsVqgcXdFqYjIe2lwramUXeGDnudpjKwTmph+0sehcnLFb9Lr6jTdO0HNuBda0Fw22K+EoMPHAvjW65Ys61WNphnyyti3pfYkKcLiQSRqKXMCLdCcOXeLP3Qck1VbMJ4h1vj7xm+cscs9g8K4krwPm7a1gxPSxsiNc8J4CdHyPqfDsZIXsJ0Sd5lpdbmm/z/YmWxyI7llmonrGy1cvUQVhqERR6eA4+SMqUkgcv+14jY8K0IM5b7O9Hgt7xVw1vzE7Sq3i6zwbNCgFldRD7nPZdwxhtsgPwqi+KrOwO3eGvGrSK9qvS/ZtBA9DQZnVsnR3S+hawlvxnBm3KjDb/ukEjYv/g9/fR0afRApC7r/d3jjyBBaIMEyCI1KQgxvrRDEYzRdbloARHjCYM7a4daoy2Jx1oPm7I0xiQ9eq4LdIbdMJOSDcrtEjYJbZhg2WTS8lpBByyxZCGNfNKgPHwjgIBjykOUFvcHVlTTU86g+/tHkARjHns9QWfhlKXUHD5rAIfxNb01zm/VJBFe6lIz6RaLKQfX+03ZsPAH3AKK3p9/Ak6IQrn', 'page_number': 3.0, 'rag_type': 'Standard', 'type': 'CompositeElement'}, page_content='4.1 Stiffness and strength testing\\n\\nThree MHRMs were loaded in 3 orthogonal directions on a tensile test bench, while recording force/displacement diagrams. The in-plane forces were acting in the separation plane of both Reel parts. Finally they were loaded in out-of-plane direction until failure.'),\n",
       "   0.332001448,\n",
       "   None),\n",
       "  (Document(id='9538d8ab-ca71-4a70-82d2-b2d07efbb4d9', metadata={'chunk_overlap': 0.0, 'chunk_size': 400.0, 'data_source.record_locator.protocol': 'gs', 'data_source.record_locator.remote_file_path': 'gs://processing-pdfs', 'data_source.url': 'gs://processing-pdfs/1999_christiansen_reocr.pdf', 'element_id': '9538d8ab-ca71-4a70-82d2-b2d07efbb4d9', 'file_directory': './document_processing', 'filename': '1999_christiansen_reocr.pdf', 'filetype': 'application/pdf', 'languages': ['eng'], 'last_modified': '2024-12-26T14:30:38', 'orig_elements': 'eJztVU1v3CAU/CvIpx4SL+AvnFsPOVRKpCq7OVTbyGLheRcJGwuwmlXU/17A22zUplUvuUS9meE93jDMyNunDDQMMPpOyewKZaQRO1xL1kspGZFtxTDgssS0LimlnGUXKBvAc8k9D/VPmTDGSjVyDy6tNT+a2XcHUPuDDwilGIeeE/xNSX8IKGkSOhk1+ti33ZKW5PUFIrQt8+rhAj0DRVXlJAKMtjl+DVhaApK5o/MwxHt8Vo+g1xMXkH0PG5Fu58xswzqytCAC7U4bwb2xCZqs8UYYHbv3Lt7TwmA8dL3S0E088Q47V6tVKBXgnBr3l5PsXZowW/2n/RVp27YTB6ucV3x0MHYWjLB52FzYgQfhlRk7oblzXejfhcNw3hKKgwZZoiBVYB3YHuOcfCWNmNPDnadlp9KRD5Ae8y9zT6X+OKVSPk1aBTECidVpW/NxP/N9etdtBuH4h4Q63w1Gql5BcgzFtLwk9JLWG1JeFfiqSCaZQmc3zsMOorxFQuzZZ4IC1EAbWhe9YDXUPTSMNZJx2gAnPOni4TFaKHtCN4ZLJEBr9HWmmJSII/0MKYfUKPQsQYYP5A+ALHjLo1jIKQnIG8SFmG1wqT4iBz4VTRbiIZHtTxluglSfooXC+F+jQTmpSsxk2/SNbOq+L0nfho+GFbztK/KG0aB5G41f0xwv0ViAkuK8XJJQ58VrwNLyLqOBq6b8H40Pd2enTzZc9ByQ0zqoNltwyfE7o32MyykeIS9CA7fI9KfUhJUDNIA48FG5AR3M/FO9f4lIUbQ1YRQX5Y4VfdCYtL3oWb8jJVR11b5ZRApSLQEI/wYWA/AMsDqvI9Dg5XfyO5Ba3mNEWEUweRcReen4Kkeb6/UG3V2v7282aH1/e/vx7stLh26U1+HhHn4AT2/Isg==', 'page_number': 3.0, 'rag_type': 'Standard', 'type': 'CompositeElement'}, page_content='{ Load cell — a load cell is included in the retractor side to accurately set the preload\\n\\n(Retractor spring — a spring assures the bolt is retracted clear of the release mechanism housing\\n\\n5. TEST RESULT SUMMARY'),\n",
       "   0.331487149,\n",
       "   None),\n",
       "  (Document(id='ccbf70fc-cdee-47c2-a85c-b0599ef09fa7', metadata={'chunk_overlap': 0.0, 'chunk_size': 400.0, 'data_source.record_locator.protocol': 'gs', 'data_source.record_locator.remote_file_path': 'gs://processing-pdfs', 'data_source.url': 'gs://processing-pdfs/1999_cremers_reocr.pdf', 'element_id': 'ccbf70fc-cdee-47c2-a85c-b0599ef09fa7', 'file_directory': './document_processing', 'filename': '1999_cremers_reocr.pdf', 'filetype': 'application/pdf', 'languages': ['eng'], 'last_modified': '2024-12-26T14:30:40', 'orig_elements': 'eJzdU01vnDAQ/SsjzhsWA7vA3qpKVS+pqjS3VYQGMyxWwUa2yWYV9b93zJI2aptjL7nZb77ezLw5Pkc00Eja16qNDhDlGZZdXqWUpl2KpcyKggpRdkLuMiz2FG0gGsljix7Z/zmSxthWafTklv+AFzP7uid16j0jaZokHLPCZ9X6nlFRLOhklPYh7ngURRHvNiCqXRWLhw28AGmSirgMQCmSWPwDWEMYidzFeRpDH1/VEw3fJpQU/WBDoFs7M1v+B5aWJNOuByPRG7tAkzXeSDOE6JMLfVoajae6UwPVEy682XLYbtlVknNKn26mtnNLhdkOb9m3oqqqWnI6sq62ZKSNGb8SI0/SK6NrOaBzNYc2nCeJiypJuLloqd4qJsxEL6FEvG2NnJed/S4Ura4ax9Bh9EbJ1ctfpsULp2lQPAKuv13NA+rTjKdlm8eIOPPDgjpfj6ZVnaJFJ7yF/EakN+n+XuSHLDnkSYieOLLW89hQGGoeOvT0FHQQfVKn2RIUMdyfDdx+vrt1cFa+h3YexwuM3D05MBpcj9/JQodSDcpfQtoXvtccH3EKjMP8/pRv0YhSdmmWZoVIRFkVlWhktivbUu7S/b74b/Llba1qvWpz/WdVsqp5J8og1r+Aa8Q7E2+VZ3nxnsT7ofNkz2hbB8oDVya01ILv0YMzI4G3qF3HsjUdS5mdFQ7QkD8TaZjZ3wLqFgZz5tcd0QATWu+gR87CetcwDbxvPgbLA4FH1dilM76WnvhslNtAz8GPZDegDSjdrr1fSfheOZh60kxGM4hdx0N3jNNya2D5UNARSJywWQ5rSQ28uXFiXszjhW5j+CpfcTyjg1lfM3LTzWXJ+osi8O14Jh2/vtQvaIP1ke7DBH88/ATiuBDF', 'page_number': 4.0, 'rag_type': 'Standard', 'type': 'CompositeElement'}, page_content='Figure 7. Two MHRMs with dummy masses on shaker facility\\n\\nAfterwards it appeared that some transfer of material between upper and lower Reel parts had taken place during vibration. There is, however, no indication that this phenomenon affects the MHRM release capability. The clamp load between both Reel parts was unaffected by the vibration testing.'),\n",
       "   0.330797821,\n",
       "   None),\n",
       "  (Document(id='41f93ad2-0421-405c-9e62-eaad106c7c4b', metadata={'chunk_overlap': 0.0, 'chunk_size': 400.0, 'data_source.record_locator.protocol': 'gs', 'data_source.record_locator.remote_file_path': 'gs://processing-pdfs', 'data_source.url': 'gs://processing-pdfs/1999_christiansen_reocr.pdf', 'element_id': '41f93ad2-0421-405c-9e62-eaad106c7c4b', 'file_directory': './document_processing', 'filename': '1999_christiansen_reocr.pdf', 'filetype': 'application/pdf', 'languages': ['eng'], 'last_modified': '2024-12-26T14:30:38', 'orig_elements': 'eJztVMFu2zAM/RXB59SxFNuxcl4xFBu6AelOWWEoEh0LkC1DkttmRf99lJp2xdAN2KGXYjfzkZQeqfe8u8/AwABjaLXKNiRb0YqrElaSgVIgipWUslCirjpeVayk2YJkAwShRBBYf59Ja53SowjgU2zE0c6h7UEf+oAIY0WBPSf4VqvQI0rXCZ2sHkPs2+1W6yZnC8JrlvPrBXmOeZHXMa5LlhevxKkegcwffYAhzvBV34HZTkJC9oCJSLX1dnYYR4YOJFJujZUiWJegydlgpTWx++DjjA4GG6DttIF2EokzZjbLJZZK8F6Ph7NJdT7dMDvzp/yScs5b2Tvtgxajh7F1YKXLMfnIDgLIoO3YSiO8b7F/j4cVecNwNixIFJRG1sj2GO/Jl8rKOT3ar9uyU+kohjhm9rd7T6XhOKVSMU1G4zKQxPKUNmI8zOKQ3nSXAR5/nVAf2sEq3WlIamEFK88oO2P1FS03q2KzamL3hJ3tOA97iOtlccwAdyHpKycfzrcXHy/JxXb77Xwby594XOlg0pP9LspGFIrXRcUpKGjkvmqaouo61lXQrVkj30yUrKB5tSAUr86rqLongFGaryPQsCZfvwY8trxHYfKSvg9dJsT9w7/vpZCveiB74bUkCrw+jCTuB1VLboUnwRLpAOVHBKZvtAQSehGItLNRZA7a6B8xdwPuSIy9JTCCOxxJPEiY2O7QAcLHGvzCFdyAwUrhDoD1QhHbkYsvny7JbY8LI0Ip97huvAfDvb0Bor2fweckMsXYCWOeyEg7TPgCoIiHlDmNEnE74kb85qUxL4VzicNVHP4Vg4pVTXnTgVqLUnS8rhlUawWqLlRX7Gn1ZgalvDrZj+dNtN8zsOY5ffQjzctXgdTyHg3a8LLh/x16n5T/fcZ/tkS1D0CGaIMEqGgc2aPgR4SCJ6hnGRzOYp68iCYcQPZijOBLN3zGxVxEwTxc/wTal/Gl', 'page_number': 2.0, 'rag_type': 'Standard', 'type': 'CompositeElement'}, page_content='3. DESIGN ISSUES\\n\\nThe basic design problem was to create a device that could utilize a very low energy signal to release a relatively large load of IOKN while addressing the above issues. The overall device comprised several basic components:\\n\\n{ The “prime mover” which converts electrical energy to mechanical'),\n",
       "   0.328174174,\n",
       "   None),\n",
       "  (Document(id='9dd1b8f4-30db-476d-8471-223cb0276ecc', metadata={'chunk_overlap': 0.0, 'chunk_size': 400.0, 'data_source.record_locator.protocol': 'gs', 'data_source.record_locator.remote_file_path': 'gs://processing-pdfs', 'data_source.url': 'gs://processing-pdfs/1999_christiansen_reocr.pdf', 'element_id': '9dd1b8f4-30db-476d-8471-223cb0276ecc', 'file_directory': './document_processing', 'filename': '1999_christiansen_reocr.pdf', 'filetype': 'application/pdf', 'languages': ['eng'], 'last_modified': '2024-12-26T14:30:38', 'orig_elements': 'eJzdVctOGzEU/RVrVq0UJvN+ZBfooiyACtJVhEaOfWdiyTMebA8Qof57r51QWpRW6oJNluc+z33Z65cAJPQw2EbwYEGCmtUsjzJOiyxP87RIi7zmZRLXBeR5HsfBjAQ9WMqppWj/EjClNBcDtWA8lnSnJttsQXRbi5IkiSL0OYifBLdblMall45KDNb5rddZWoTVjGCOsLyfkV+4zMLC4bzKw/gI9vYoCMzOWOhdDd/EM8i7kTIIfqDCUW2MmjRix1ADQ8qNVIxapb1o1MoqpqTz7oyrUUOvLDStkNCM1HNGzWI+R1MGxoihOxt5a3yGScu/6edxXdcN22phrKCDgaHRoJgOUblnBxaYFWpomKTGNOi/wWBRWBVRlqGBp8AFska2O5cnnHPFJj+0t2zBwXSgvSsz+Ffeg6ndjd6UjqMU2AwkMT+oJR26iXZ+pusAMPy9lxrb9IqLVoDfliRKsrM4OUuKVZwt0miRVs57RM9mmPoNuPbGrkwLz24bguX53ep2ebFyZq/5V8JKP6r3y9hGVVTGbVonURZFVRzDpgZepG1d0jKH5MOWMa7LsJ6RIk72y3bAVVKFqcNVUrrle4/39qe4jDWefnwSy+gl+j8evD+2l2jcUGqA9MC2dBCmJxuEnKiBUGKgc41AOEyW0IGj7G5LRyBXOEG9I0sp1Y58urtafiZP2EViteg60OSJGsLBiG5AZ+f4MFHpK3uL38EAmkqk8DChr8tkSKs0sVsgK+TlAjCCU+g07UNyTh3cRyXCmAnMgRPKmBaj6zFRrffn8CgYEOwMBgDjqwjJV7wb6W7HeDswFrObSdp9JJwZjkoSNSIxF82zM6PCER8JzIVhk8Fqwt+v/5pq5/wIK9fkY68ATbKiLDctTzPKNxu3ilXLqk1KaZ2X0Ye9AmlZuKuvo3T/Jb3iJN9ffZGlYXEEe/tTfAWqMipO70uKQ3J5vbq9+fL9YnV5c33kZ7r/CU/Y6aY=', 'page_number': 1.0, 'rag_type': 'Standard', 'type': 'CompositeElement'}, page_content='ABSTRACT\\n\\nA release mechanism based on a segmented nut and a Shape Memory Alloy (SMA) wire trigger was designed and qualified based on general requirements for the Teledesic program. Basic design issues and a description of the device are presented. Highlights of test results and typical operational response of the device are discussed.\\n\\n1. INTRODUCTION'),\n",
       "   0.305082947,\n",
       "   None),\n",
       "  (Document(id='5ef01eaa-d344-4d00-8d32-9867724be190', metadata={'chunk_overlap': 0.0, 'chunk_size': 400.0, 'data_source.record_locator.protocol': 'gs', 'data_source.record_locator.remote_file_path': 'gs://processing-pdfs', 'data_source.url': 'gs://processing-pdfs/1999_cremers_reocr.pdf', 'element_id': '5ef01eaa-d344-4d00-8d32-9867724be190', 'file_directory': './document_processing', 'filename': '1999_cremers_reocr.pdf', 'filetype': 'application/pdf', 'languages': ['eng'], 'last_modified': '2024-12-26T14:30:40', 'orig_elements': 'eJzdU8tu2zAQ/BVC19oyKVGy6Wt6DoomNzcQKGplE6BEgY84RtB/75J2WqBIeuslx52d5T44c3gtwMAEc+j0UOxJQSsK0Da86UVbg+xrYFw0vG4E9G3FebEixQRBDjJI5L8Wylo36FkG8Dk28mJj6E6gj6eASFVRijU3+KyHcEKUbTO6WD2HVHc4CMpKtiK82pXV04q8xQ3flSLFrKnqUrwDXCsQKfzFB5jSFt/0C5iHRSoofmIiDdt5Gx3GaUYHCofujFUyWJehxdlglTWp+ujTlg4mG6AbtYFukXlqzOw3G6Qq8F7Px/UyjD53iM58lN8wIUSn8DlwvnNglSsRvw4GAVTQdu6Ukd53WNrjO7TcbSlvkZC7DxoHxkEvqUW5GayK+cf+NCpu1FlOacPig5Y3VrgsmSWXxWg8Afbf3NJGzscoj/kvDwXgy08Z9aGb7KBHDVklFa34mlXrqn1kfF/TPaepesHKbo5TD+moPG0Y4CWpoOAlJ3cxBBzWkzgP4Eg4gZukIc9SxTgRpR3u5YOccSnyNTqkJg5xqFDpgaDCgieS9NIkDpFuInIeEFE2zgHcOWuOnMEBiR4GEixJO16QMsBi7CWdjYwWdUDsiGemDblPrNQmLgsO9R3AkEW6UKaF3i51L53DOz3DY1oH9/rbNq2QYlSqZULJoYWhqdQIO8FVvWNtC+L/2YbVZY2uaLZlk21zjVtWlfS3S+g7wLXis9mmZu32M9nmAZ7BoUduHvBXcaNQUcQTKlwGtMWEsQzRYbqHcAaYyZoxns3xhdWU/IiU9vTuX5J++gXj++yP', 'page_number': 4.0, 'rag_type': 'Standard', 'type': 'CompositeElement'}, page_content='4.4 Cuttings under thermal vacuum circumstances During the release tests a balance arm and a counterweight were used to apply a deployment force of 0.05 N to the upper Reel part.\\n\\nSeveral releases were performed at temperatures between -114 and +130 °C.'),\n",
       "   0.30269748,\n",
       "   None),\n",
       "  (Document(id='cbd93405-4c3d-446a-af15-3cb5ddce3a69', metadata={'chunk_overlap': 0.0, 'chunk_size': 400.0, 'data_source.record_locator.protocol': 'gs', 'data_source.record_locator.remote_file_path': 'gs://processing-pdfs', 'data_source.url': 'gs://processing-pdfs/1999_cremers_reocr.pdf', 'element_id': 'cbd93405-4c3d-446a-af15-3cb5ddce3a69', 'file_directory': './document_processing', 'filename': '1999_cremers_reocr.pdf', 'filetype': 'application/pdf', 'languages': ['eng'], 'last_modified': '2024-12-26T14:30:40', 'orig_elements': 'eJzlmFtv2zYUx78K4acOaBRexJtf+7JivQxt+hQUAkVSjjBKFCQ6rRfsu++Qtttgc7AWgx+SALYA/slDHoq/c3zo67uVD37wY2p6t1qjlaYSe6apY6610jmGRdsSYy1XqnXGrF6i1eCTcSYZGH+3sjHOrh9N8ktpB7OL29Tc+H5zk0ChFGOwOchfepduQCWyqFPsx5Ttrq8J1rQCTWFdic8v0XeBqUoXgVFekVNCMQFlteyW5Ie8j9/7rz58nIz1q7+gI7vbLHE7Qzt7OXsLbjchWpPiXKRpjinaGLL1Zsn7nP0Qk2+6PvhmMsVv6FlfXsJQ65elHzcXk+uWssJ2Dg/1XxKtdWNhOj8vzeyjnSvQ94755G3q49jYYJalAdMW5sGVYlpAf1nc9eAv+LnLK1SXLtptObLv66wOQ0cz5A2uHljxMCrtpjLKTFPo4Q3A8peH7mDGzdZsymFerzzM/LmoS2qG6Pqu9wUTiml9QegFFVekXjO8rnG2nsCyGbdD6/M7rfMGk/+aMVjxCr16/+7Vm08fX79/9zEPPnpx1adQTumfLBKpCdN1S7wjUohWUII7hSVx2nVC0bOxqLSuFHAlcVVn0A5tzei+TWqpKnlC2Fs8NRI1VeSxo1iU+Sfy3H12r248ird+NiEgG0cbtgv4ifoFpRuT4OHR218/vEXOL/2m6Le9aYOv7mP+zswz7O/WX+VZT+AuBWsphL1l2DmnvTcAu2k7rXRrWMfOhrvGQC3QLOSe5mNby4rt86zkORP/WygWTwx3QRjTzxr31yNatsNg5l1Be/JzF+fBjNZntM2CuhhC/LKsfwpvg3Eru66WncOGdlx4LQDxWkvjscbtGfEmGVaCcV3hPd8HAdL3QdAPCMXkcQL+fPm9u8/lpxHc9Js493969xCb3NWu7lrTtRZ7mNrAV9WE1EyJunX1+dhkuGIH0Pa59ygwcsi1FPOcjU8pxehx0vlw+pXk0de9/4veBo1xvJh2cCze3oy9RTPAahZ/n+o3/ZJe5yM/AbPimHeOEscE6aSQkmjlLGRaTw2v6fnKZk1EJQqpouIF5qOgxaFO5kTlG9sppRg9MZgVwfXzpvlugBeC+lwzA2IbBKU0lBIB/TZCqbCsETg/x6/9APCFHbwxiv7Y/CjolGNnqVGqsy2nlFFBVStMJ60yzLDzFsxw2yMECgl6rJiLIEil9lhTVunTSjF6aqAzuBM8a9BfID/e+hAnv0ZMoRd7qH5B7Q5xnJ9AKxqGlw/GAjKjQwC4TTNsMqAv/QyDqh8NBmJaXbNaSkqJ4kQIIzqLBWmF9Z4zcdY/S3ghXe6D4ShQerwucsorelLZGz21YMCcs2cdDHeoQUs/TAFujOOSTAjFURQ7dM/vHBVtDCnHQorwmfKAD96HH4Xe89qYnPsdZ1K2tdQt5Z22nEpbd5if7xeA1uWCSL/dGA8CY/wgMH1a2Js8TuSfL9ENEN38x73y89/K9OUZ', 'page_number': 4.0, 'rag_type': 'Standard', 'type': 'CompositeElement'}, page_content='5. CONCLUSIONS\\n\\nThe overall conclusion is that the MHRM design is viable.\\n\\nIn summary the performance is as follows:\\n\\n{\\n\\n_ non-pyrotechnic release\\n\\n{mass including Thermal Knives: approximately 0.2 kg\\n\\n( envelope: 38 (height) by 50 by 250 mm, including Thermal Knives and electrical wiring.\\n\\n{ _ simple installation of application by bolting to top of Reel\\n\\n_ _ _'),\n",
       "   0.30063048,\n",
       "   None),\n",
       "  (Document(id='1256d2d6-7a11-4034-9bb0-5090925bd4fa', metadata={'chunk_overlap': 0.0, 'chunk_size': 400.0, 'data_source.record_locator.protocol': 'gs', 'data_source.record_locator.remote_file_path': 'gs://processing-pdfs', 'data_source.url': 'gs://processing-pdfs/1999_christiansen_reocr.pdf', 'element_id': '1256d2d6-7a11-4034-9bb0-5090925bd4fa', 'file_directory': './document_processing', 'filename': '1999_christiansen_reocr.pdf', 'filetype': 'application/pdf', 'languages': ['eng'], 'last_modified': '2024-12-26T14:30:38', 'orig_elements': 'eJztU8tu2zAQ/BVCZ1vWm5Jv/YG2QHMzAmFFrmwCFCmQVBIj6L93STsIUKS59VL0ZO/sg7OrmdNrhhoXNGFUMjuyrIJygg5QdFNbDwBVUXHeDFJAVbVz3Wc7li0YQEIAqn/NhLVOKgMBfYo1XO0Wxguq8yUQUlVFQT13+FnJcCG05AldrTIh9p1OQ1Xk7Y61Dc+Hxx17i7ua53WMy5T5ALh1EJL5qw+4xC2+qxfUP1YQmP2kRCQ7ers5iiNHh4JIj9oKCNYlaHU2WGF17D77uKXDxQYcZ6VxXCGxpszxcKBSgd4rc96vcvbphc3pP+UP5TAMo7g45YMC49GMDq1wOSVv7DCgCMqaUWjwfqT+iYYV+VD1bUcFiYJUxJrYXuM7+UFasaXP9v5adi81sMQ1s8/evZeG65pKYV21omMQicM9rcGcNzinr3rKkMY/JtSHcbFSzQpveimqZl9W+6p7KJtjXRxvElmpczTbMmE8b5kQ966yGaqm43yaZd2AnKa2LMt+Fv1UAwwtL9JdAr5EAZHClpWooszZF2bwecc2sye5EcJizhoavGPg2TNqHX8l7hdaxpwZGMnuf+3MwgUZyV0ER8tqajYm3dTvmADDNIJkwTKHWsGktApXprzf0Odxp7djfQXnaOQTPkSCxPR3D0186sXUcBB1MUvZzHQkck/X856Xsq3+nofKIadbd7zOu+ShW8y7Lud3y/R5/wFw6/g3PdTW/L+HHkj5MNknvAuaCYckN0YkZiU2HRRhypBzvDqbN+fYFd3NPD7qQDiYQ86+zQENFccRHqO/vE/l75CwPhDmkLzkafpn/nn8BZrNFnY=', 'page_number': 1.0, 'rag_type': 'Standard', 'type': 'CompositeElement'}, page_content='completed. A new, un-tested component, as well as de-mating and mating of the electrical connectors, can lead to reliability issues.\\n\\nThe above issues create difficulties in designing and operating spacecraft. Often increased mass and increased costs are result.'),\n",
       "   0.291638136,\n",
       "   None),\n",
       "  (Document(id='33eded13-64ee-4044-98e2-2015a11a5130', metadata={'chunk_overlap': 0.0, 'chunk_size': 400.0, 'data_source.record_locator.protocol': 'gs', 'data_source.record_locator.remote_file_path': 'gs://processing-pdfs', 'data_source.url': 'gs://processing-pdfs/1999_christiansen_reocr.pdf', 'element_id': '33eded13-64ee-4044-98e2-2015a11a5130', 'file_directory': './document_processing', 'filename': '1999_christiansen_reocr.pdf', 'filetype': 'application/pdf', 'languages': ['eng'], 'last_modified': '2024-12-26T14:30:38', 'orig_elements': 'eJzdVk1r5DgQ/SvCpz103Jbk9kduw5wGlsxCZ08hGFkqt8XYkpHkpJth//uWZYcJs70Lw5JLH+upPl6Vnkt++p7AACOY0GiV3JOky5XqOkrZoWMsA6jrKhOQ0UPb0VLWKtmRZIQglAgC/b8n0lqntBEBfLQHcbFzaHrQpz4gglkyjNngV61CjygtIzpZbcIS9/RU0yotdoQWnKb8eUd+AAVNqwWgWU7T8joSgxBK/MUHGJdO/tBnGI6TkJD8hQcL4cbb2aG98HQgkXgzWCmCdRGanA1W2mGJPvmlUwejDdB0eoBmEpE5ntzv9+gqwXttTneT6nysMLvh3873tK7rRvZO+6CF8WAaB1a6FA9XdhBABm1NIwfhfYPxLSbL0opzlqNDpKA0ska2l6VOuldWzvHqflRLNlcjxqXN5L/qbq7hMkVXMU2DxmEgif12PAhzmsUp3uxTApj+OaI+NKNVutMQNcMylt9RdseKR5rf8+yeV0v0hJGNmccWlvHypc0A50UTySHl5Nhb+W3xeyPwqMMQ7+pnTTJ5aFVZKrxlXh+ySqiyEq3krOKy4kX5gZosU7bIqy5SumpyBWp6WEVKD3mR1leRNegWNVkf6IHfhCYj4n5h+70X8WMPRMGLlkC0J8YG0goPilhDhCFwngbr9QsQ2Qt3gh3xlgQM8YvuCQ7USo0KVeRVhx4TBWtio2/JJgc4m5CST351EeZCelQw6SwKhjj8SLDeRmEXc79htltLBSc0UjHgThfSOTtGGDMPVigyzh45I0FrvFbgQKXkiyEeXsCJgeDXEzzRBrPEK32jKqTEMpgM9eH8WngUZz3O49bciCRmTIfByyjEMI8ah046fQ6IEwPCxbBtfK/CkyIjp/T9OngQzuFAXuBxmfeVtSAzITlvy7w6UMpBCImLIuvqVgilJP3Apyov15epTLO4FTa75mkRVwCrWFpdA2LELa6Egmec3cJKyP/XSvjtKDogvTBqwC5R+7gNJnCR7S9pu80hz9uctoKXVVuVtJOdkqzmXV60RZl/mLZ5uWm5XF+8zWYsT9liF/jHlf3TXv1vUdkV43V9E8p+L9QiJZ+/Pnz+/c/jl68Pxyt/Yc9/A+Dy2Ug=', 'page_number': 3.0, 'rag_type': 'Standard', 'type': 'CompositeElement'}, page_content='5.3 Shock\\n\\nThe device is not based on an explosive charge, so the shock associated with detonation is not present. As with any high force release device, the release of the strain energy from the preload must be considered. In several tests instrumented with accelerometers, the maximum shock measured in an aluminum fixture near the device was 60 g.\\n\\n(Safe handling and operation\\n\\n6. CONCLUSIONS'),\n",
       "   0.290805429,\n",
       "   None),\n",
       "  (Document(id='9cef5ba9-3e3f-476f-a6cd-de3dd3923810', metadata={'chunk_overlap': 0.0, 'chunk_size': 400.0, 'data_source.record_locator.protocol': 'gs', 'data_source.record_locator.remote_file_path': 'gs://processing-pdfs', 'data_source.url': 'gs://processing-pdfs/1999_christiansen_reocr.pdf', 'element_id': '9cef5ba9-3e3f-476f-a6cd-de3dd3923810', 'file_directory': './document_processing', 'filename': '1999_christiansen_reocr.pdf', 'filetype': 'application/pdf', 'languages': ['eng'], 'last_modified': '2024-12-26T14:30:38', 'orig_elements': 'eJzdVD1v2zAQ/SuEZlsWaVkf3jp0a4uiCdDBCASaPEsEKFIlqTpGkP/eI20nadAU6NAlg2Hz3b27d8dH7x4y0DCCCZ2S2ZZkjRQtlEXb8rZeF/uCSVYxVmzKshZ1IatsQbIRApc8cMx/yIS1TirDA/h01vxk59ANoPohIILkAjkX+KhkGBCldUInq0yIvN2upW1eLQgtmjandwvyBFB6ASjd1Dn7I3ImIZT5kw8wxkm+qnvQNxMXkD1iIAruvJ0dnqNOBwKFd9oKHqxL0ORssMLqyO59nNTBaAN0B6Whm3hSjpHtaoWpArxXpl9O8uBTh9npt+Ir2rZtJwanfFDceDCdAytcjsGzOggggrKmE5p73yF/j8WKvCkb1mBCkiAVqka1p9gnX0kr5nR1z92yS6rhYxwz+1vfS2o4TSmVT5NWuAwUsbqENTf9zPt0s7sMsPxdQn3oRivVQUHyDCtYuaRsyapbWm7XxXbdRPaEzM7M4x7ielkcM8B99ES2ztfkEw9iIB/P7kvbviq5VUGnS3ttTtqwfV1XragqxsuKVrypSrZGM1JO95v9fzVnct6G5e3VnBFYl/RixU3ZvIGcSe/RnO2mYPRdmDMh7h/+Bl+6+fuASkkY8GPdjzl+EYfO5f6MjiAGbpQfycA92QMYDMtZgIyZPObiZD9Bn4i2R6IBfy6ICgT3ojVRnhgbUgiMnfsh1bcBXU3OS0fiHBecut18/kCOCOfkG5oCHILcEB7QeVOIVOmwV0q9inyqclRh+K3IIp1w+85yfK328KoRlgtO9T224cSDPixT+ZhyLa7TO8chZg8yf/nOv3Dn0uC3cZGPd78A62AWkQ==', 'page_number': 2.0, 'rag_type': 'Standard', 'type': 'CompositeElement'}, page_content='3.3 Latch Elements\\n\\nWhile the torque to release the mechanism has been reduced to a relatively low level, it still is not low enough to rotate directly using the SMA wire. Rather than attempt to drive the release directly with the SMA wire, the approach of using the SMA to trigger a self- driving release latch is used.'),\n",
       "   0.289072961,\n",
       "   None),\n",
       "  (Document(id='c465dada-d954-4bf7-8b0d-4bb73a709a3b', metadata={'chunk_overlap': 0.0, 'chunk_size': 400.0, 'data_source.record_locator.protocol': 'gs', 'data_source.record_locator.remote_file_path': 'gs://processing-pdfs', 'data_source.url': 'gs://processing-pdfs/1999_cremers_reocr.pdf', 'element_id': 'c465dada-d954-4bf7-8b0d-4bb73a709a3b', 'file_directory': './document_processing', 'filename': '1999_cremers_reocr.pdf', 'filetype': 'application/pdf', 'languages': ['eng'], 'last_modified': '2024-12-26T14:30:40', 'orig_elements': 'eJzlVE1r3DAQ/SvC58SrD3tt59xbIS1t6CUEI0vjXYFsGUnOZgn97x1pN6QtSaGHHJqCL3ozo3kzes+3jwVYmGCOvdHFFSmaaltr3lV6aLqh5iBaDoOgjR5rrpqBFxekmCBKLaPE/MdCOee1mWWEkM9WHt0a+z2Y3T4iwjmlWHOGD0bHPaKsyejizBxT3e1t23Vle0FYVYmS312QZ6BhpUgA47Uo2ctILkKoCMcQYUqTfDYPYL8uUkHxHQOJcB/c6vGceHpQSLy3TsnofIYW76JTzqbqXUiTephchH40FvpFZuYYudpsMFVBCGbeXS56DLnD6u1r8Q3ruq5XeB340HtwypeIn4hBBBWNm3tlZQg9lg54Dy3biooaE3J3bZAwEj2mFuVGO7XmV3tuVJxTZzmlCYtXWp6z4nHJWXJZrMEVYP/NOWzlvFvlLr/nbQF4811GQ+wnp81oICuFU15dMn7JtzesuhL0qqKpesHKfl6nAdJSRZowwkNSQlGVnHyaL3ferbMmHoUnAxAUTjzTfyJ1Y6LNr/a7OqumBT20vK2YEJVum6pt9KBYXYt27FrxZursqDiLcVuyJL0noN6Kcpu1WAtaiheRU9F7U2dLu/ZfV2dG/F/8/X6W84fV42Ak7uEXLQciySCRpgIi/UQkal0ShZqP4A9ZeOQAHsgaQJPoSBryiCkaFuuOaW9kdCgE4kbcM63JdcpKbdZlAU++AFiCtGP5s2eupfe4qHu4SfRe8I7qWjloOQAbpZRCbBvZcKAjDHrQmsk39A4tm2yMrqxO3jkB2+78q2c1b0v6InIqem/e6WrO/mvv3GTThNWiXbIZwqr2qHGZtZ/FXlPyzaX4PY6JQyQ7JBxL/SQt+TibES7QN/eYhdSIx+mAjN5NpGqTZWpOTCBJDhNuVIMu0Ttno5oJyMFYm66ckwW9ezATah2tOAB+8QAYYDT7l9Uk4DWzDn/y3N0POaPvbg==', 'page_number': 3.0, 'rag_type': 'Standard', 'type': 'CompositeElement'}, page_content='4.2 On-ground release testing\\n\\nDuring the release tests a balance arm and a counterweight were used to apply a deployment force of 0.05 N to the upper Reel part.\\n\\nThe results were such that for the 50 Volts version of the Thermal Knife, a voltage range from 48 to 52 is recommended. Release time will then approximately be between 10 and 15 seconds.'),\n",
       "   0.28757605,\n",
       "   None),\n",
       "  (Document(id='c538a73f-1478-41aa-9f70-098730ec2ffc', metadata={'chunk_overlap': 0.0, 'chunk_size': 400.0, 'data_source.record_locator.protocol': 'gs', 'data_source.record_locator.remote_file_path': 'gs://processing-pdfs', 'data_source.url': 'gs://processing-pdfs/1999_cremers_reocr.pdf', 'element_id': 'c538a73f-1478-41aa-9f70-098730ec2ffc', 'file_directory': './document_processing', 'filename': '1999_cremers_reocr.pdf', 'filetype': 'application/pdf', 'languages': ['eng'], 'last_modified': '2024-12-26T14:30:40', 'orig_elements': 'eJx1U11v2zAM/CuEnxPHlu0mzp4HDBg6DG0etgWFIUtMIky2BEnOx4r+91FKim7DCgSGfeSRdySzfc5Q44Bj6JTM1pA1sl2uyqLoCyzFalkyJqtVxetVu6rLti6yGWQDBi554JT/nAljnFQjD+jTt+YXM4XugGp/CIQwVhTEucEnJcOB0HKZUGvUGCJvu22LMmczClQsL59m8Aqwom7yIgJlUxV59T/kRiIo8xcfcIhOvqoz6kfLBWYvFIiCO28mR99Rp0NBwjttBA/GJcg6E4wwOrL3Pjp1OJiA3U5p7CxPyimyXiwoVaD3atzPrdz51GFy+r34omzbthNUDp3vHBrhcsKvwjCgCMqMndDc+46oPdUp8rauViUlpO5SkWASeokt8oU0Ykpbe2uU3VJHPkSH2Tstb1nhYlMWt1YrGgH1X9zCmo/7ie/TPrcZUuWnhPrQDUaqncJ0Kaxg9bxkc3a3Ket1Vayvx2GJ2Y3T0GMcapUQ93Zfy/qukaytZb9s+4ZhtWLYV8VS7homlj1LIwl4jqeT1XkFj2rEGZBBBHlCrYGPEhw9zABH1bskHej6As0ANicD958e7j2c0OE/CShn0JtwgJOiR6wTX+gsgYNQTkyaO5DTMFxgoE0AD4GLA0oIBsIBYbIWHTwgaiBPIYePFP6TcOJEsrSSsxroD6Ev0MDPfeqkggdBY6ACZgd7x48qXK6EAOUdDAPsHFmKfYKxMSm+pmaRTwfe/JXkkTRcvVnaGOawiVTea4QetTmBJ2HcqV/oE4G0KjySG01P7T8k8Ns8Vf8x52dKo0WBGuepXsQ7cOhtvM5jNEPuLY5SXQeVXI2g42bSQGO9aJGKRNC/eiBdbuAaPo9Uxs8S9p0aKg/0o/HPze7aM48H9HqZX7iL/o64idfw8vQbGxiG9g==', 'page_number': 3.0, 'rag_type': 'Standard', 'type': 'CompositeElement'}, page_content='4.3 Sine, sine dwell and random vibration testing Two MHRMs were vibration tested, both with and without a circular dummy mass attached to the upper Reel part. Each dummy mass was approximately 5 kg and its center of gravity was at 16 mm from the top of the Reel and 32.5 mm from the separation plane. The table below summarizes the achieved levels; the X- and Z-axes are in-plane and_ respectively'),\n",
       "   0.28605634,\n",
       "   None),\n",
       "  (Document(id='02b8f407-7989-4dbb-a606-41d7be45b274', metadata={'chunk_overlap': 0.0, 'chunk_size': 400.0, 'data_source.record_locator.protocol': 'gs', 'data_source.record_locator.remote_file_path': 'gs://processing-pdfs', 'data_source.url': 'gs://processing-pdfs/1999_christiansen_reocr.pdf', 'element_id': '02b8f407-7989-4dbb-a606-41d7be45b274', 'file_directory': './document_processing', 'filename': '1999_christiansen_reocr.pdf', 'filetype': 'application/pdf', 'languages': ['eng'], 'last_modified': '2024-12-26T14:30:38', 'orig_elements': 'eJztVk1v3DYQ/SuETj3YWor6IOWbgTpFADdt7W0vjiFQ5GiXqFZSSSrOwuh/75BaOwa8KZCDLwsf3/CRnCHfI+fuMYEedjD4xujkgiSKAVTAOKvyTokKqg64EFwLyTjITCZnJNmBl1p6ifzHRI2j1WaQHlzEvdyPs2+2YDZbjxHGKMU5h/CD0X6L0YzH6DSawYd5d3eM5ml2RspCpNX9GXnGvEyLgKsiT/MjOPIxkLi987ALNfxuvkJ/O0kFyb84EFJt3DhbxCFDCwpTbvpRST/aGJrs6Ec19mH2xoUaLexGD01nemgmGXPGkYvVCqkKnDPD5nzSnYs7zLb/3vgqq+u6UVtrnDdycDA0FkZlUxxcsgMPyptxaFQvnWtwfouL0VQUGeNIiClog1ljtvuwT7rSo5rjpX3bLTlQB7kLZSb/t++B6vdTpMpp6g0eBiaxOgz3ctjMchPv9C4BXP4+Rp1vdqM2nYGoFkZZcZ6xc1ats+Iipxe5CLMnnNkM866FcLx5KNPD16CGpEjJb39d3VxeX5Ofr24//vKJfLi6XP95c3UbJj5ltDa+j5f3Sp5Ulx1XqpSUC9ZRyfOsLGqhs6JWnRZvKM8sFWekyrKULvKMGHmLHAXjaf0aL/xTlGfNBM1PQp4xYn/gCXyp5w9mM1sgOTGOSDJt8aI2Vk5bMnbEb4H88fD3MHsiBx1hO/aeWPBWhuNaYVVqC5aYIY6qcejCerFWjEhPttKRFmAg/8yyj4WlL43ySdrA/gLrkM8Rw+iacdpRjnptsYZKMVXpUmqOYd2V+RsapgjvM89FyhbDLLiqFlyVNK2O4Mg/RcMIWtPi3TBr1PkO1FYOxu3QCj1IB8QZHeXvsDyH3rn4IZEz1kEhc2h5mesyl7noAHitMl2xulTqzUSe1WUULWfLr3DAIsfPYfkF8Pl/jRf+SYq8prR8F/kjuf31kjxg/cRbs9mAdeTzjG9wEd/5b/rHX+NAAE3aPfpBz4OWg39eAL8VRzQ4ZU2LHNmOX+ClOa7xrD4GDR3xRa1kpijvRJELynhRyVa1FFsonhUUIHs7XwgeuiORV0sz/4Rr/uSDOuVHcOSfpC9Eyep3X/xEbkYv7f753e9DA/RkjfA1PNsFLxFlGO2ykKTdET9iq2TwDHAEFYidEzZSsHCx4OO+uP8PwBK1DA==', 'page_number': 3.0, 'rag_type': 'Standard', 'type': 'CompositeElement'}, page_content='4. OVERALL DESIGN FEATURES\\n\\nFigure 3 is a photograph of the Qwknut and the bolt retractor/catcher in the configuration that has been qualified.\\n\\nThe mechanism release side consists of:\\n\\n{ SMA wire triggers — the mechanism is triggered by redundant SMA wires as described above\\n\\n( Rotary release latch — The triggers rotate the latch arm to initiate outer race rotation'),\n",
       "   0.285938233,\n",
       "   None),\n",
       "  (Document(id='115d1863-520b-4130-8e16-7d66bb5f8818', metadata={'chunk_overlap': 0.0, 'chunk_size': 400.0, 'data_source.record_locator.protocol': 'gs', 'data_source.record_locator.remote_file_path': 'gs://processing-pdfs', 'data_source.url': 'gs://processing-pdfs/1999_christiansen_reocr.pdf', 'element_id': '115d1863-520b-4130-8e16-7d66bb5f8818', 'file_directory': './document_processing', 'filename': '1999_christiansen_reocr.pdf', 'filetype': 'application/pdf', 'languages': ['eng'], 'last_modified': '2024-12-26T14:30:38', 'orig_elements': 'eJx9U8tu2zAQ/JWFTg1gy5L8knzLpbemBZJbEAgrciURpUiBpO24Qf69S8Zpcmh7sjg7uzP78ONLRpomMqFVMjtAVmyKuq+KpqzKdSMlUt3vaoG7cr/p9h2uswVkEwWUGJD5L5mw1kllMJBPb40XewztSGoYAyNVVRScc4XPSoaR0XKf0NkqE2Le42PZNHmzgHK73+b10wL+APW2zqsI1FWdl38D3lIYyfzFB5piHz/UM+n7GQVlrxyIdltvj47f0aUjwbZbbQUG6xI0OxussDpmDz726WiygdpeaWpnTL45clitmCrIe2WG5Sx7nxSOTv8rvuJWmlaMTvmg0HgyrSMrXM7BN3cUSARlTSs0et9yfsfFirzZVusdE5IFqdg1u71EnXwlrTimxX2oZVeqwSm2mf1P90oNlzlRcZ614mGwidU1rNEMRxzSXh8z4vJPCfWhnaxUvaJ0MVVRbZZltax2D+XmsC4O6zpmz5zZmuPUURxvlRD3cWd1s9nWVDRytytoHY8NN81uUxVdJasCd2kugZ7jCWX3dCKHGnrWBuRJmWEBjpZHT9hpAmGn2Rou7kGggY7gCxoJI56IH2RugJkSgmWm4VIB+OhFcNywBjLkhksMTiRGNAk8W/czh9vJmgHCSJ6AzcOs6Jddvud+kl0AX4p1/Ostj98qyZ/Rgh9xJi488doAtbYX+HL/7fbmU24O3/urxqc+mATKRBx66yawPZx5/9yTT2BHPArmd/Gvx0uLhJ4wHB35mMEkxUzeboxIOilBOXx9D0jyajCAb0XzCqYpyknFlxPIJe/bIqI6juDMqmK0fEE5PMT8iyIteaQYtUTS2OdruKNzsMaDPcUaXM4HNG/hMt9yuTyexvvN3aFzbP5ED3HPr0+/AdtKfMo=', 'page_number': 2.0, 'rag_type': 'Standard', 'type': 'CompositeElement'}, page_content='Several fast acting, re-useable components can be (and have been) used to convert electrical energy to mechanical work. Among these are piezo-electric components, motors, solenoids, and shape memory alloy (SMA) components. Of these components SMA in the form of wire has the best combination of features for this type of device. For this design a wire .2 mm in diameter and 50 mm long was chosen.'),\n",
       "   0.28417176,\n",
       "   None),\n",
       "  (Document(id='65041346-620f-4140-bccb-eaecbeef6cd2', metadata={'chunk_overlap': 0.0, 'chunk_size': 400.0, 'data_source.record_locator.protocol': 'gs', 'data_source.record_locator.remote_file_path': 'gs://processing-pdfs', 'data_source.url': 'gs://processing-pdfs/1999_cremers_reocr.pdf', 'element_id': '65041346-620f-4140-bccb-eaecbeef6cd2', 'file_directory': './document_processing', 'filename': '1999_cremers_reocr.pdf', 'filetype': 'application/pdf', 'languages': ['eng'], 'last_modified': '2024-12-26T14:30:40', 'orig_elements': 'eJzllk1v2zgQhv8KoVOLdWR+iRZ92rRxm+7GTpC42EMQCDQ1ttXIokDRmwTF/vcd0TbatOkCPeSw6U3zzgxnhnwk8fpzAjVsoAlFVSZjkgheMpFRI/BBS0sVpdIs1YKVuRnJJSQDkmwgmNIEg/GfE+ucL6vGBOiiXZsHtw3FGqrVOqDCOaWYs5fvqjKsUWWjqLauakKfd30tWZ7mA3RkaX4zIAebK7GzGc+zJ4VdBipJ99AF2PRTXFT3UF+1xkLyDzr6ZovObT3afY8eLDZd1M6a4HyUWu+Cs67us1ddP6WHjQtQLKsaitbErtEzHg4x1ELXVc3qqC2XXayw9fWP/EOmtS4sLge+Kzw461PUd41BABsq1xS2Nl1XYOoC16FpLnPFMSBWLytsGBt96Eukw9LZbTyxL4WSfWhjNv2EyQ9K7qPCQxujTNvWFW4B1h/u3bVpVluzimd5nQCufBPVLhQbV1bLCiIlnHJ5xPgRV3Mmx4KOJe2zW8wsmu1mAf2msn7CAPc9Bcn049n8w8XHy4vzqwk5PT87OTn/a0aOZyfkcnI2OUZxOnl7ejz7cDUlr6anl9PX5A/Xkbe7GQZk4qtb8t656hP4AXkP3viS/Al44L6vfBhpXoU6nvm3XEtRas4gk8ZyqsuRVXnOQdulyaxUwjwb10pmqRoQQVkqe2wPNpepjhjTTKbyKSFmvDCuFVUi/79zHRX/E9/Mr1+Ed+72FjyJh0he3d3dpcuodL2QNvXrr3GeGe9xjr9h3mc/gfXS8gUXi0wpTS2MeCkXOjdGMLbQyij1bFhnKkszhFSIVPTUHuxMpaNIMRN55Pw7IWa8MKzxZ0XlL431xTl54+7xK0ZHSAoXVJCTN+QMqhKaAZmvgcwgrMFjx2X3U4hrnXOrudAKRpZyxkaGMpbrkkmVZfb5EJeZTvEfLPDCkcUbyc6WnB0uIEi0fkLYZbwwxIWiufilEZ8jl+3aNTAmvwlGRoxkXGaC5WT4SBAUhXfm/nGY1mRytDFVPSaf0v1GkN8ff/sxD9LV7pLzjes/XpmbfwFB0KDw', 'page_number': 1.0, 'rag_type': 'Standard', 'type': 'CompositeElement'}, page_content='MULTIPURPOSE HOLDDOWN AND RELEASE MECHANISM (MHRM) Jos Cremers, Erik Gooijer, Gerard Kester\\n\\nFokker Space (www.fokkerspace.nl)\\n\\nPO Box 32070, 2303 DB Leiden, The Netherlands\\n\\nTelephone: +31 71 5245318 / +31 71 5245330 / Fax: +31 71 5245399 E-mail: j.cremers @fokkerspace.nl / e.gooijer@fokkerspace.nl'),\n",
       "   0.283886164,\n",
       "   None)],\n",
       " 'cited_sources': [[[Document(id='41f93ad2-0421-405c-9e62-eaad106c7c4b', metadata={'chunk_overlap': 0.0, 'chunk_size': 400.0, 'data_source.record_locator.protocol': 'gs', 'data_source.record_locator.remote_file_path': 'gs://processing-pdfs', 'data_source.url': 'gs://processing-pdfs/1999_christiansen_reocr.pdf', 'element_id': '41f93ad2-0421-405c-9e62-eaad106c7c4b', 'file_directory': './document_processing', 'filename': '1999_christiansen_reocr.pdf', 'filetype': 'application/pdf', 'languages': ['eng'], 'last_modified': '2024-12-26T14:30:38', 'orig_elements': 'eJztVMFu2zAM/RXB59SxFNuxcl4xFBu6AelOWWEoEh0LkC1DkttmRf99lJp2xdAN2KGXYjfzkZQeqfe8u8/AwABjaLXKNiRb0YqrElaSgVIgipWUslCirjpeVayk2YJkAwShRBBYf59Ja53SowjgU2zE0c6h7UEf+oAIY0WBPSf4VqvQI0rXCZ2sHkPs2+1W6yZnC8JrlvPrBXmOeZHXMa5LlhevxKkegcwffYAhzvBV34HZTkJC9oCJSLX1dnYYR4YOJFJujZUiWJegydlgpTWx++DjjA4GG6DttIF2EokzZjbLJZZK8F6Ph7NJdT7dMDvzp/yScs5b2Tvtgxajh7F1YKXLMfnIDgLIoO3YSiO8b7F/j4cVecNwNixIFJRG1sj2GO/Jl8rKOT3ar9uyU+kohjhm9rd7T6XhOKVSMU1G4zKQxPKUNmI8zOKQ3nSXAR5/nVAf2sEq3WlIamEFK88oO2P1FS03q2KzamL3hJ3tOA97iOtlccwAdyHpKycfzrcXHy/JxXb77Xwby594XOlg0pP9LspGFIrXRcUpKGjkvmqaouo61lXQrVkj30yUrKB5tSAUr86rqLongFGaryPQsCZfvwY8trxHYfKSvg9dJsT9w7/vpZCveiB74bUkCrw+jCTuB1VLboUnwRLpAOVHBKZvtAQSehGItLNRZA7a6B8xdwPuSIy9JTCCOxxJPEiY2O7QAcLHGvzCFdyAwUrhDoD1QhHbkYsvny7JbY8LI0Ip97huvAfDvb0Bor2fweckMsXYCWOeyEg7TPgCoIiHlDmNEnE74kb85qUxL4VzicNVHP4Vg4pVTXnTgVqLUnS8rhlUawWqLlRX7Gn1ZgalvDrZj+dNtN8zsOY5ffQjzctXgdTyHg3a8LLh/x16n5T/fcZ/tkS1D0CGaIMEqGgc2aPgR4SCJ6hnGRzOYp68iCYcQPZijOBLN3zGxVxEwTxc/wTal/Gl', 'page_number': 2.0, 'rag_type': 'Standard', 'type': 'CompositeElement'}, page_content='3. DESIGN ISSUES\\n\\nThe basic design problem was to create a device that could utilize a very low energy signal to release a relatively large load of IOKN while addressing the above issues. The overall device comprised several basic components:\\n\\n{ The “prime mover” which converts electrical energy to mechanical'),\n",
       "    0.348439872,\n",
       "    0.17908539],\n",
       "   [Document(id='115d1863-520b-4130-8e16-7d66bb5f8818', metadata={'chunk_overlap': 0.0, 'chunk_size': 400.0, 'data_source.record_locator.protocol': 'gs', 'data_source.record_locator.remote_file_path': 'gs://processing-pdfs', 'data_source.url': 'gs://processing-pdfs/1999_christiansen_reocr.pdf', 'element_id': '115d1863-520b-4130-8e16-7d66bb5f8818', 'file_directory': './document_processing', 'filename': '1999_christiansen_reocr.pdf', 'filetype': 'application/pdf', 'languages': ['eng'], 'last_modified': '2024-12-26T14:30:38', 'orig_elements': 'eJx9U8tu2zAQ/JWFTg1gy5L8knzLpbemBZJbEAgrciURpUiBpO24Qf69S8Zpcmh7sjg7uzP78ONLRpomMqFVMjtAVmyKuq+KpqzKdSMlUt3vaoG7cr/p9h2uswVkEwWUGJD5L5mw1kllMJBPb40XewztSGoYAyNVVRScc4XPSoaR0XKf0NkqE2Le42PZNHmzgHK73+b10wL+APW2zqsI1FWdl38D3lIYyfzFB5piHz/UM+n7GQVlrxyIdltvj47f0aUjwbZbbQUG6xI0OxussDpmDz726WiygdpeaWpnTL45clitmCrIe2WG5Sx7nxSOTv8rvuJWmlaMTvmg0HgyrSMrXM7BN3cUSARlTSs0et9yfsfFirzZVusdE5IFqdg1u71EnXwlrTimxX2oZVeqwSm2mf1P90oNlzlRcZ614mGwidU1rNEMRxzSXh8z4vJPCfWhnaxUvaJ0MVVRbZZltax2D+XmsC4O6zpmz5zZmuPUURxvlRD3cWd1s9nWVDRytytoHY8NN81uUxVdJasCd2kugZ7jCWX3dCKHGnrWBuRJmWEBjpZHT9hpAmGn2Rou7kGggY7gCxoJI56IH2RugJkSgmWm4VIB+OhFcNywBjLkhksMTiRGNAk8W/czh9vJmgHCSJ6AzcOs6Jddvud+kl0AX4p1/Ostj98qyZ/Rgh9xJi488doAtbYX+HL/7fbmU24O3/urxqc+mATKRBx66yawPZx5/9yTT2BHPArmd/Gvx0uLhJ4wHB35mMEkxUzeboxIOilBOXx9D0jyajCAb0XzCqYpyknFlxPIJe/bIqI6juDMqmK0fEE5PMT8iyIteaQYtUTS2OdruKNzsMaDPcUaXM4HNG/hMt9yuTyexvvN3aFzbP5ED3HPr0+/AdtKfMo=', 'page_number': 2.0, 'rag_type': 'Standard', 'type': 'CompositeElement'}, page_content='Several fast acting, re-useable components can be (and have been) used to convert electrical energy to mechanical work. Among these are piezo-electric components, motors, solenoids, and shape memory alloy (SMA) components. Of these components SMA in the form of wire has the best combination of features for this type of device. For this design a wire .2 mm in diameter and 50 mm long was chosen.'),\n",
       "    0.317214191,\n",
       "    0.13031887],\n",
       "   [Document(id='b6ed0b30-3f26-4f4e-ae5f-0dbfa33d9f50', metadata={'chunk_overlap': 0.0, 'chunk_size': 400.0, 'data_source.record_locator.protocol': 'gs', 'data_source.record_locator.remote_file_path': 'gs://processing-pdfs', 'data_source.url': 'gs://processing-pdfs/1999_christiansen_reocr.pdf', 'element_id': 'b6ed0b30-3f26-4f4e-ae5f-0dbfa33d9f50', 'file_directory': './document_processing', 'filename': '1999_christiansen_reocr.pdf', 'filetype': 'application/pdf', 'languages': ['eng'], 'last_modified': '2024-12-26T14:30:38', 'orig_elements': 'eJzdVF1vmzAU/SsWT42UEsw3fUOpl0VqkwyoNqmqkGNfEksEI3C2RtX++2zCumpq97aH9g3OPefec83B908W1HCARpWCW1fIgnCbhJWHA99hlAfcwTwKoqSKvYiHUQTWFFkHUJRTRTX/yWJSdlw0VEE/vNf0JI+q3IPY7ZVGXNdxtGaEfwiu9hrF0YC2UjTK6O7vcRLbeIowDiM7eZiiZ8B1se0YINIPwWvAWaIRqz/1Cg5mj414hDpvKQPrpy4Yu2Uvj51+Ny47YNp2WUtGlewGqO2kkkzWRr3rzZ4dHKSCshI1lC0dfOvK1WymqQz6XjS7y5ZX/TDh2NVv1Wc4SZKS7TvRK0GbHpqyA8k6WxfP7kABU0I2Jatp35dav9XNHDvy4iTRhMECF9q1dnsyc+wZl+w4fLg/06yR2tCDWdP619yRqk7tQKVtWwt9GNrEbCzXtNkd6W74rvcW6PYPA9qr8iC5qAQMiXEd17/E7qUbFti/8pwrLzbqVivL5njYgjle36yp4NEkwvokdscOELbRp/r0Yw9QT1En6xq6KaINRz3szGLAUXNUSLbQDb5s0/a33xXtDPodCtNUd/87yInnsmALNIKq0pGpOEQVUOZVAWxpXNH/FmTXd20NYc91zjF9BuIxt174FjBI3nGQP1ZOM3J9t7pOVwXKN9lytchRsUbZukgL8jKKhVA1vBbB0MO+x90gqOLE8yJg25CzOHYD7jHfr7b/LYJekNixyRMObX8I2AhoGzYeLlc/Ce3oVeQseschfPs2jcOPd5nO17ebjOT5cr1C84zobOqUZl/uCFrfFSRDWTon6CYt5p/Jta4sFjckRxfut8kZRGl2iy7WK4I2SzInE5SRIl2u8mcqnqD8NkVfl3rIGP5B406eKRm5IWlOkDd5OZOsFumCjJL8ZWXkX7/8iZYHvaL18+EXB8ylkQ==', 'page_number': 4.0, 'rag_type': 'Standard', 'type': 'CompositeElement'}, page_content='Figure 1. Flywheel, roller, and segmented nut operation.\\n\\nREDUNDANT SPRINGS TO ROTATE\\n\\nCOMPRESSION CREATE TORQUE OUTER RACE LATCHED TOGGLES (2X) LATCH ARM (ONE PIECE) RETAINS TOGGLES 1) SMA WIRES ROTATE ARM 2) TOGGLES RELEASE 3) OUTER RACE ENGAGE ROTATES OUTER RACE RELEASED'),\n",
       "    0.315316647,\n",
       "    0.12030463]],\n",
       "  [(Document(id='2d6593a6-abcc-40f9-8923-88bf4df7aa02', metadata={'chunk_overlap': 0.0, 'chunk_size': 400.0, 'data_source.record_locator.protocol': 'gs', 'data_source.record_locator.remote_file_path': 'gs://processing-pdfs', 'data_source.url': 'gs://processing-pdfs/1999_christiansen_reocr.pdf', 'element_id': '2d6593a6-abcc-40f9-8923-88bf4df7aa02', 'file_directory': './document_processing', 'filename': '1999_christiansen_reocr.pdf', 'filetype': 'application/pdf', 'languages': ['eng'], 'last_modified': '2024-12-26T14:30:38', 'orig_elements': 'eJyNVF1v2zAM/CuCnxPHX8nsvA3Y8zBgBfYQFAYt07EAWfIkOWlQ9L+PVNKmGLpijz7dkccjk8NzghonNKFVfbIXSV3Kfrfd5g1IkH3X54iVzKoOGqzzsoZkJZIJA/QQgPjPibTW9cpAQB+/NVzsEtoR1XEMhBRFlpHmBp9VH0ZC8y8Rna0ygXWHQ9406XYl8m2RpdXjSrwBzS5PSwbqYpfuPgKuEkISf/EBJ57jh3pC/XMGickLPbDd1tvF0Te7dCjJdquthGBdhGZng5VWs/roeU6Hkw3YDkpjO0P0TS/7zYaoEr1X5rie+8HHDovT/3rf0ChNK0enfFBgPJrWoZUupcerOwwog7KmlRq8b0nfUbEsbaq6qIkQLfSKXJPbC/dJN72VS1zcvVtyoxqYeMzks743arjMkQrzrBWFQSY2t2cN5rjAMe71kCCVf4yoD+1kezUojBdTZEW1zot1sXvIq32Z7cua1TMpW7NMHXK8ZUTc/c7KktZYF1lZdXU5kNG8GeRQD11e4Xa3bWIuAZ/4hJJvi6PpRBhR9HhCbWceXIDpxe8FNFm5Ohd2iCRHNw0exYRyBKP8tBIgNLgjiqsjJg6LiZmDjoXQnJSzhgsTQtccvDijQzGjG6ybsE/F17/aMUt4dAqJC/5OFdIaz6mTa/Z0mUmihed7lA6G8GE7tkG/B3SeCnmq8s7ilRGsmKxRdASvvcBITMUtoPfhsIAxryZFo//HfAK0JcFZhZHiugf11ppOk+7snup7D9H8iaIYLoIwOsiITBS6Mj4WVSYu502eil8jXaCYHXp2FSNlUa+8XOigrwsFrV/3+vny4zao1qI5S5qsw4slFiu9tDNeyyjaE5DzFUVzNFFu7rowAn9o+j/jkVnbgVdSkN7BbRkSZuiUVoEXP1it7Tnlm3/9MX0Hx9wTPvABvzz+Ad/02qA=', 'page_number': 3.0, 'rag_type': 'Standard', 'type': 'CompositeElement'}, page_content='During the development and qualification of the release mechanism, a large number of functional and environmental tests were performed. A qualification test series was performed consisting of typical spacecraft environmental tests and interspersed functional tests to monitor performance. During development testing similar environmental tests were performed along with a number of tests to assess'),\n",
       "    0.40768525,\n",
       "    0.2587968),\n",
       "   (Document(id='011fba96-f588-464b-abf9-6e7c6f1e09c5', metadata={'chunk_overlap': 0.0, 'chunk_size': 400.0, 'data_source.record_locator.protocol': 'gs', 'data_source.record_locator.remote_file_path': 'gs://processing-pdfs', 'data_source.url': 'gs://processing-pdfs/1999_cremers_reocr.pdf', 'element_id': '011fba96-f588-464b-abf9-6e7c6f1e09c5', 'file_directory': './document_processing', 'filename': '1999_cremers_reocr.pdf', 'filetype': 'application/pdf', 'languages': ['eng'], 'last_modified': '2024-12-26T14:30:40', 'orig_elements': 'eJzll1Fr4zgQx7+K8dMttI4kS5aVt+XYg8Kxd9yVfSnFyNI4EdhWkJV2y3Lf/UZqslt2U9h7yMOlLyb6a0YzI/0YJndfShhhgjl2zpbrotSguNatZMTSehiEobYhhEtFVDNQKsqropwgaqujRvsvpfE+WDfrCEtej/rJ72O3BbfZRlQYIwR9DvKjs3GLKpVZ3Xk3x+R3d1dLUqmrgnIqKnZ/VXwTeFPJJDT0NSG7oFIuT0uEKdXxp/sM4987baD8BzdSut3i9wHXKcsABtPuRm909CFLu+CjN35M3psl1Rlg8hG6wY3Q7XTOG3fWqxWaGlgWN2+ud3ZYcoR9GF/bX1GlVGfwOAhLF8CbUKH+nBhEMNH5uTOjXpYOXXs8h1QtV61AgxzdOkwYE31KIaqV9Waf3+xboPJgOuspVVi+EvJgFZ922UrvdqPDK8D4q8P2qOfNXm/ya96VgCffZ3WJ3eStGxxkThhh/Jqya9bcUr6uyZqT5L1Dz27eTz2kS61ThRE+Jw5KXhWfPvx189vNr+9vb/74mKyPady6OOZ3+p5GWgMQVVOQMPDe1Jxy3VpDlWjJYOv2bDRS2VYioSVV1STWjoIgslJJkI2o+Cnh2eXCaJS8VvX/ncashP/Q617i+2HeuBkgYHUFhoaxQMZiWhk/7YJbwBZxC8Xgx9E/or5+SfhHHQIW9gC36bgTpAtipGwbMI0y0hLTDEoAGXjii9c1Px/pLato4pjyimbSj0KtKp4EweuKnBSyy6WRLgSTb5p0WhUI9jDMWGGhZ4srPGoTt0fiX4L9u1viTXr7E0w3pBcWRA9SMjb0da+I0KyWlineW0vPyLSomgQo58/EfhUkrUgeHXBHnBSyy6UxjRdP3zTTrCr8fL0Jfo88B8RUL/C1gf/i5kJPvcOz3/0s20yDUMwwM/TAFeeK4k8hlbXYsxXVZ51MVCb3MAUfhYbUVZ1RFiQ38B+EZ5eLY5tK9qbZrrFf42hylb+FfYRxzG074MdPxYPrQ878Z9HuFcOJoxXMDlLzxqiWMUsphcH2xg7DGds2OZCsDmgfBRyt82zSUpX7+I9CdrkwtNsWC33TaON/xu+bNTZwCGnSDpMeiwdt9vupMC7gdSxRz3gXpzm//xfvoUNb', 'page_number': 3.0, 'rag_type': 'Standard', 'type': 'CompositeElement'}, page_content='4. VERIFICATION\\n\\nEngineering model testing comprised the following:\\n\\n1. stiffness and strength testing\\n\\n2. on-ground release testing (in ambient)\\n\\n3. sine, sine dwell and random vibration\\n\\n4. release testing under thermal vacuum circumstances'),\n",
       "    0.383672088,\n",
       "    0.13165279),\n",
       "   (Document(id='447b67fb-0234-4b3b-b628-3daee675dc8a', metadata={'chunk_overlap': 0.0, 'chunk_size': 400.0, 'data_source.record_locator.protocol': 'gs', 'data_source.record_locator.remote_file_path': 'gs://processing-pdfs', 'data_source.url': 'gs://processing-pdfs/1999_christiansen_reocr.pdf', 'element_id': '447b67fb-0234-4b3b-b628-3daee675dc8a', 'file_directory': './document_processing', 'filename': '1999_christiansen_reocr.pdf', 'filetype': 'application/pdf', 'is_continuation': True, 'languages': ['eng'], 'last_modified': '2024-12-26T14:30:38', 'orig_elements': 'eJyNVF1v2zAM/CuCnxPHX8nsvA3Y8zBgBfYQFAYt07EAWfIkOWlQ9L+PVNKmGLpijz7dkccjk8NzghonNKFVfbIXSV3Kfrfd5g1IkH3X54iVzKoOGqzzsoZkJZIJA/QQgPjPibTW9cpAQB+/NVzsEtoR1XEMhBRFlpHmBp9VH0ZC8y8Rna0ygXWHQ9406XYl8m2RpdXjSrwBzS5PSwbqYpfuPgKuEkISf/EBJ57jh3pC/XMGickLPbDd1tvF0Te7dCjJdquthGBdhGZng5VWs/roeU6Hkw3YDkpjO0P0TS/7zYaoEr1X5rie+8HHDovT/3rf0ChNK0enfFBgPJrWoZUupcerOwwog7KmlRq8b0nfUbEsbaq6qIkQLfSKXJPbC/dJN72VS1zcvVtyoxqYeMzks743arjMkQrzrBWFQSY2t2cN5rjAMe71kCCVf4yoD+1kezUojBdTZEW1zot1sXvIq32Z7cua1TMpW7NMHXK8ZUTc/c7KktZYF1lZdXU5kNG8GeRQD11e4Xa3bWIuAZ/4hJJvi6PpRBhR9HhCbWceXIDpxe8FNFm5Ohd2iCRHNw0exYRyBKP8tBIgNLgjiqsjJg6LiZmDjoXQnJSzhgsTQtccvDijQzGjG6ybsE/F17/aMUt4dAqJC/5OFdIaz6mTa/Z0mUmihed7lA6G8GE7tkG/B3SeCnmq8s7ilRGsmKxRdASvvcBITMUtoPfhsIAxryZFo//HfAK0JcFZhZHiugf11ppOk+7snup7D9H8iaIYLoIwOsiITBS6Mj4WVSYu502eil8jXaCYHXp2FSNlUa+8XOigrwsFrV/3+vny4zao1qI5S5qsw4slFiu9tDNeyyjaE5DzFUVzNFFu7rowAn9o+j/jkVnbgVdSkN7BbRkSZuiUVoEXP1it7Tnlm3/9MX0Hx9wTPvABvzz+Ad/02qA=', 'page_number': 3.0, 'rag_type': 'Standard', 'type': 'CompositeElement'}, page_content='mechanism performance and verify forces and margins within the mechanism. While presentation and discussion of all of the development and qualification test results are beyond the scope of this paper, significant results that relate to the basic operational capabilities follow.'),\n",
       "    0.506364584,\n",
       "    0.31643313)]],\n",
       " 'alternative_questions': [['{',\n",
       "   '\"questions\": [',\n",
       "   '\"What role do shape memory alloy (SMA) wires play in modern mechanical designs and how do their dimensions affect performance?\",',\n",
       "   '\"How do flywheel mechanisms with redundant springs compare to other energy storage and conversion systems?\",',\n",
       "   '\"What are the advantages and limitations of using piezo-electric components versus solenoids in mechanical energy conversion?\"',\n",
       "   ']',\n",
       "   '}'],\n",
       "  ['{',\n",
       "   '\"questions\": [',\n",
       "   '\"What specific environmental conditions were simulated during the thermal vacuum testing phase?\",',\n",
       "   '\"How do the performance metrics from ground testing compare to actual operational data?\",',\n",
       "   '\"What criteria were used to determine if a mechanism passed or failed the qualification tests?\"',\n",
       "   ']',\n",
       "   '}']]}"
      ]
     },
     "execution_count": 38,
     "metadata": {},
     "output_type": "execute_result"
    }
   ],
   "source": [
    "result"
   ]
  },
  {
   "cell_type": "code",
   "execution_count": 136,
   "metadata": {},
   "outputs": [],
   "source": [
    "# prompt = 'How old are you?'\n",
    "# result = qa_model.workflow.invoke({\"messages\": [(\"human\", prompt)]}, config)\n",
    "# for message in result['messages']:\n",
    "#     message.pretty_print()"
   ]
  },
  {
   "cell_type": "code",
   "execution_count": 137,
   "metadata": {},
   "outputs": [],
   "source": [
    "# prompt = 'What are some lessons learned about these mechanisms?'\n",
    "# result = qa_model.workflow.invoke({\"messages\": [(\"human\", prompt)]}, config)\n",
    "# for message in result['messages']:\n",
    "#     message.pretty_print()"
   ]
  },
  {
   "cell_type": "code",
   "execution_count": 138,
   "metadata": {},
   "outputs": [],
   "source": [
    "# prompt = 'What are some problems that have occurred?'\n",
    "# result = qa_model.workflow.invoke({\"messages\": [(\"human\", prompt)]}, config)\n",
    "# for message in result['messages']:\n",
    "#     message.pretty_print()"
   ]
  }
 ],
 "metadata": {
  "kernelspec": {
   "display_name": "Python 3",
   "language": "python",
   "name": "python3"
  },
  "language_info": {
   "codemirror_mode": {
    "name": "ipython",
    "version": 3
   },
   "file_extension": ".py",
   "mimetype": "text/x-python",
   "name": "python",
   "nbconvert_exporter": "python",
   "pygments_lexer": "ipython3",
   "version": "3.11.10"
  },
  "orig_nbformat": 4
 },
 "nbformat": 4,
 "nbformat_minor": 2
}
