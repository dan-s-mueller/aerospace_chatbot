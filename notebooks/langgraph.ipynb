{
 "cells": [
  {
   "cell_type": "code",
   "execution_count": 1,
   "metadata": {},
   "outputs": [],
   "source": [
    "%load_ext autoreload\n",
    "%autoreload 2"
   ]
  },
  {
   "cell_type": "markdown",
   "metadata": {},
   "source": [
    "# Test partitioning update"
   ]
  },
  {
   "cell_type": "code",
   "execution_count": 2,
   "metadata": {},
   "outputs": [],
   "source": [
    "from aerospace_chatbot.processing import DocumentProcessor\n",
    "from aerospace_chatbot.services import EmbeddingService, RerankService, LLMService, DatabaseService, prompts\n",
    "from aerospace_chatbot.processing import QAModel\n",
    "\n",
    "# Load environment variables\n",
    "from dotenv import load_dotenv\n",
    "load_dotenv(override=True)\n",
    "# Set LOCAL_DB_PATH environment variable\n",
    "# os.environ['LOCAL_DB_PATH'] = os.path.abspath('.')\n",
    "\n",
    "# Initialize logger\n",
    "import logging\n",
    "logger = logging.getLogger(__name__)\n",
    "logging.basicConfig(level=logging.INFO)"
   ]
  },
  {
   "cell_type": "code",
   "execution_count": 3,
   "metadata": {},
   "outputs": [],
   "source": [
    "db_type='Pinecone'\n",
    "\n",
    "embedding_service='OpenAI'\n",
    "embedding_model='text-embedding-3-large'\n",
    "\n",
    "rerank_service='Cohere'\n",
    "rerank_model='rerank-v3.5'\n",
    "\n",
    "# llm_service='OpenAI'\n",
    "# llm_model='gpt-4o'\n",
    "llm_service='Anthropic'\n",
    "llm_model='claude-3-5-sonnet-latest'\n",
    "\n",
    "chunk_size=400\n",
    "chunk_overlap=0\n",
    "batch_size=50\n",
    "index_name = 'text-embedding-3-large-test'\n",
    "rag_type = 'Standard'\n",
    "\n",
    "test_prompt='How does a thermal knife function in a cable based hold down release mechanism?'"
   ]
  },
  {
   "cell_type": "code",
   "execution_count": 4,
   "metadata": {},
   "outputs": [],
   "source": [
    "# Initialize services\n",
    "embedding_service = EmbeddingService(\n",
    "    model_service=embedding_service,\n",
    "    model=embedding_model\n",
    ")\n",
    "\n",
    "rerank_service = RerankService(\n",
    "    model_service=rerank_service,\n",
    "    model=rerank_model\n",
    ")\n",
    "\n",
    "llm_service = LLMService(\n",
    "    model_service=llm_service,\n",
    "    model=llm_model,\n",
    ")\n",
    "\n",
    "doc_processor = DocumentProcessor(\n",
    "    embedding_service=embedding_service,\n",
    "    rag_type=rag_type,\n",
    "    chunk_size=chunk_size,\n",
    "    chunk_overlap=chunk_overlap,\n",
    ")\n",
    "\n",
    "# Initialize database service\n",
    "db_service = DatabaseService(\n",
    "    db_type=db_type,\n",
    "    index_name=index_name,\n",
    "    rag_type=rag_type,\n",
    "    embedding_service=embedding_service,\n",
    "    rerank_service=rerank_service,\n",
    ")"
   ]
  },
  {
   "cell_type": "code",
   "execution_count": 5,
   "metadata": {},
   "outputs": [
    {
     "name": "stderr",
     "output_type": "stream",
     "text": [
      "INFO:aerospace_chatbot.processing.documents:Number of PDFs found: 2\n",
      "INFO:aerospace_chatbot.processing.documents:PDFs found: ['gs://processing-pdfs/1999_christiansen_reocr.pdf', 'gs://processing-pdfs/1999_cremers_reocr.pdf']\n"
     ]
    },
    {
     "data": {
      "text/plain": [
       "['gs://processing-pdfs/1999_christiansen_reocr.pdf',\n",
       " 'gs://processing-pdfs/1999_cremers_reocr.pdf']"
      ]
     },
     "execution_count": 5,
     "metadata": {},
     "output_type": "execute_result"
    }
   ],
   "source": [
    "bucket_name = 'processing-pdfs'\n",
    "docs = DocumentProcessor.list_bucket_pdfs(bucket_name)\n",
    "docs"
   ]
  },
  {
   "cell_type": "code",
   "execution_count": 6,
   "metadata": {},
   "outputs": [],
   "source": [
    "# partitioned_docs = doc_processor.load_and_partition_documents(docs,partition_by_api=False, upload_bucket=bucket_name)\n",
    "# partitioned_docs"
   ]
  },
  {
   "cell_type": "code",
   "execution_count": 7,
   "metadata": {},
   "outputs": [],
   "source": [
    "# chunk_obj, output_paths = doc_processor.chunk_documents(partitioned_docs)\n",
    "# chunk_obj.chunk_convert(destination_type=Document)"
   ]
  },
  {
   "cell_type": "code",
   "execution_count": 8,
   "metadata": {},
   "outputs": [
    {
     "name": "stderr",
     "output_type": "stream",
     "text": [
      "INFO:aerospace_chatbot.services.database:Validating index text-embedding-3-large-test and RAG type Standard\n",
      "INFO:pinecone_plugin_interface.logging:Discovering subpackages in _NamespacePath(['/Users/danmueller/Documents/GitHub/aerospace_chatbot/.venv/lib/python3.11/site-packages/pinecone_plugins'])\n",
      "INFO:pinecone_plugin_interface.logging:Looking for plugins in pinecone_plugins.inference\n",
      "INFO:pinecone_plugin_interface.logging:Installing plugin inference into Pinecone\n",
      "INFO:aerospace_chatbot.services.database:Pinecone index text-embedding-3-large-test found, not creating. Will be initialized with existing index.\n"
     ]
    }
   ],
   "source": [
    "try:\n",
    "    db_service.initialize_database(clear=False)\n",
    "except ValueError as e:\n",
    "    print(f\"Database initialization failed: {str(e)}\")\n",
    "    print(e)\n",
    "    raise e"
   ]
  },
  {
   "cell_type": "code",
   "execution_count": 9,
   "metadata": {},
   "outputs": [],
   "source": [
    "# db_service.index_data(chunk_obj)"
   ]
  },
  {
   "cell_type": "code",
   "execution_count": 10,
   "metadata": {},
   "outputs": [],
   "source": [
    "k_retrieve=20\n",
    "k_rerank=5\n",
    "config = {\"configurable\": {\"thread_id\": \"1\"}}\n",
    "\n",
    "qa_model = QAModel(\n",
    "    db_service=db_service,\n",
    "    llm_service=llm_service,\n",
    "    k_retrieve=k_retrieve,\n",
    "    k_rerank=k_rerank,\n",
    "    memory_config=config\n",
    ")"
   ]
  },
  {
   "cell_type": "code",
   "execution_count": 11,
   "metadata": {},
   "outputs": [],
   "source": [
    "# qa_model.query(test_prompt)"
   ]
  },
  {
   "cell_type": "code",
   "execution_count": 12,
   "metadata": {},
   "outputs": [],
   "source": [
    "# print(qa_model.result[-1]['references'])\n",
    "# print(qa_model.sources[-1])\n",
    "# print(qa_model.scores[-1])\n"
   ]
  },
  {
   "cell_type": "code",
   "execution_count": 13,
   "metadata": {},
   "outputs": [],
   "source": [
    "# print(qa_model.ai_response)"
   ]
  },
  {
   "cell_type": "markdown",
   "metadata": {},
   "source": [
    "# Langgraph"
   ]
  },
  {
   "cell_type": "markdown",
   "metadata": {},
   "source": [
    "Run above section first\n"
   ]
  },
  {
   "cell_type": "code",
   "execution_count": 14,
   "metadata": {},
   "outputs": [],
   "source": [
    "from langchain_core.messages import SystemMessage, RemoveMessage\n",
    "from langchain.output_parsers import PydanticOutputParser\n",
    "from langgraph.checkpoint.memory import MemorySaver\n",
    "from langchain_core.documents import Document\n",
    "from langgraph.graph import MessagesState, StateGraph, START, END\n",
    "from langchain.prompts import PromptTemplate\n",
    "\n",
    "from typing_extensions import List\n",
    "from typing import List, Literal, Tuple\n",
    "\n",
    "# import cohere\n",
    "# import os\n",
    "from langchain.docstore.document import Document\n",
    "\n",
    "from aerospace_chatbot.services.prompts import InLineCitationsResponse, style_mode, CHATBOT_SYSTEM_PROMPT, QA_PROMPT, SUMMARIZE_TEXT"
   ]
  },
  {
   "cell_type": "code",
   "execution_count": 15,
   "metadata": {},
   "outputs": [],
   "source": [
    "retriever = db_service.retriever\n",
    "llm = llm_service.get_llm()\n",
    "# memory = MemorySaver()"
   ]
  },
  {
   "cell_type": "code",
   "execution_count": 22,
   "metadata": {},
   "outputs": [
    {
     "name": "stdout",
     "output_type": "stream",
     "text": [
      "\n"
     ]
    }
   ],
   "source": [
    "style=None\n",
    "# style=\"French\"\n",
    "# style=\"Sassy\"\n",
    "# style=\"Ironic\"\n",
    "# style=\"Bossy\"\n",
    "# style=\"Gen Z Slang\"\n",
    "print(style_mode(style))"
   ]
  },
  {
   "cell_type": "code",
   "execution_count": 23,
   "metadata": {},
   "outputs": [
    {
     "name": "stdout",
     "output_type": "stream",
     "text": [
      "\n",
      "# **System Prompt**\n",
      "\n",
      "Your name is **Aerospace Chatbot**, a specialized assistant for flight hardware design and analysis in aerospace engineering. You will function as a knowledgeable replacement for an expert in aerospace flight hardware design, testing, analysis, and certification.\n",
      "\n",
      "> **Important Note:** The **Sources and Context** you are provided are ranked from most relevant to least relevant by a state-of-the-art retrieval and ranking tool. Please take this ranking into consideration when determining which sources to cite.\n",
      "\n",
      "Use only the **Sources and Context** provided to answer the **User Question**. **Do not use outside knowledge**, and strictly follow these rules:\n",
      "\n",
      "---\n",
      "\n",
      "## **Rules**:\n",
      "\n",
      "1. **Answer only based on the provided Sources and Context.**  \n",
      "   - If the information is not available in the Sources and Context, respond with:  \n",
      "     *\"I don’t know the answer to that based on the information provided. You might consider rephrasing your question or asking about a related topic.\"*\n",
      "\n",
      "2. **Do not make up or infer answers.**  \n",
      "   - Stay accurate and factual at all times.\n",
      "\n",
      "3. **Provide highly detailed, explanatory answers.**  \n",
      "   - Include **as many specific details from the original context** as possible to thoroughly address the user’s question.\n",
      "\n",
      "4. **Provide responses in English only** and format them using **Markdown** for clarity.\n",
      "\n",
      "5. **Cite Sources in context** using the exact format `<source id=\"#\">`:  \n",
      "   - `#` – Represents the numerical order of the source as provided in the Sources and Context.  \n",
      "   - **The `source` tag must be present for every source referenced in the response.**  \n",
      "   - **Do not add, omit, or modify any part of the citation format.**  \n",
      "   \n",
      "   **Examples (Correct):**  \n",
      "   > The actuator was tested under extreme conditions <source id=\"1\">.  \n",
      "   > A secondary material exhibited increased yield strength <source id=\"2\">.  \n",
      "   > Additional research confirmed thermal properties <source id=\"3\">.  \n",
      "\n",
      "   **Examples (Incorrect – Must Be Rejected):**  \n",
      "   > Testing yielded higher efficiency [1] (Incorrect bracket format)  \n",
      "   > <source id=\"1\" > (Extra space after `id`)  \n",
      "   > <source id=\"a\"> (Non-numeric ID)  \n",
      "   > <source id=\"1,2\"> (Multiple IDs in one tag – invalid)  \n",
      "\n",
      "6. **Every sentence or paragraph that uses a source must cite it with the format `<source id=\"#\">`.**  \n",
      "   - **Do not group multiple sources into a single tag.**  \n",
      "   - Each source must have its own, clearly separated citation.  \n",
      "   - For example:  \n",
      "     > The actuator uses a reinforced composite structure <source id=\"1\">.  \n",
      "     > This design was validated through multiple tests <source id=\"2\">.\n",
      "\n",
      "7. **Validation Requirement:**  \n",
      "   - If the response contains references without the exact `<source id=\"#\">` format, the response must be flagged or rejected.  \n",
      "   - Every source used must have a corresponding citation in the response.  \n",
      "   - **No source should be referenced without explicit citation.**\n",
      "\n",
      "8. **Suggest related or alternative questions** if applicable, to help the user find relevant information within the corpus.\n",
      "\n",
      "9. **Give preference to citing top-ranked sources.**  \n",
      "   - If the first sources in the list (i.e., the most relevant or highest-ranked) contain information that addresses the user’s question, cite them first.  \n",
      "   - Then cite additional sources only if they contain new or non-redundant details.  \n",
      "   - If the top-ranked sources are not relevant, skip them.\n",
      "   \n",
      "\n",
      "\n"
     ]
    }
   ],
   "source": [
    "print(CHATBOT_SYSTEM_PROMPT.format(style_mode=style_mode(style)).content)"
   ]
  },
  {
   "cell_type": "markdown",
   "metadata": {},
   "source": [
    "## Rerank"
   ]
  },
  {
   "cell_type": "code",
   "execution_count": 24,
   "metadata": {},
   "outputs": [
    {
     "name": "stderr",
     "output_type": "stream",
     "text": [
      "INFO:httpx:HTTP Request: POST https://api.openai.com/v1/embeddings \"HTTP/1.1 200 OK\"\n"
     ]
    }
   ],
   "source": [
    "# Retrieve docs with standard retriever\n",
    "retrieved_docs = retriever.invoke(test_prompt)\n",
    "\n",
    "# retrieved_docs"
   ]
  },
  {
   "cell_type": "code",
   "execution_count": 25,
   "metadata": {},
   "outputs": [],
   "source": [
    "# COHERE_API_KEY = os.getenv(\"COHERE_API_KEY\")\n",
    "# co = cohere.ClientV2(COHERE_API_KEY)\n",
    "# rerank_model = \"rerank-v3.5\""
   ]
  },
  {
   "cell_type": "code",
   "execution_count": 26,
   "metadata": {},
   "outputs": [],
   "source": [
    "# model_list = co.models.list()\n",
    "# rerank_model_info = next((model for model in model_list.models if model.name == rerank_model), None)\n",
    "# print(rerank_model_info)\n",
    "\n",
    "# print(model_list.models)"
   ]
  },
  {
   "cell_type": "code",
   "execution_count": 27,
   "metadata": {},
   "outputs": [],
   "source": [
    "# Get token count for each doc\n",
    "# max_context_length = 4096\n",
    "\n",
    "# token_count_list = []\n",
    "# for doc in retrieved_docs[0]:\n",
    "#     tokens = co.tokenize(\n",
    "#         model=rerank_model,\n",
    "#         text=doc.page_content,\n",
    "#     )\n",
    "#     token_count_list.append(len(tokens.tokens))\n",
    "    # print(token_count)\n",
    "\n",
    "# print(token_count_list)"
   ]
  },
  {
   "cell_type": "code",
   "execution_count": 28,
   "metadata": {},
   "outputs": [],
   "source": [
    "# def cohere_rerank(query: str, retrieved_docs: List[Tuple[Document, float]], top_n: int = None):\n",
    "#     # retrieved_docs contains a list of tuples, where the first element is the document and the second is the score\n",
    "#     # Cohere's rerank expects a list of strings; we'll supply the page_content\n",
    "\n",
    "#     if top_n is None:\n",
    "#         top_n = 3\n",
    "#     elif top_n < 3:\n",
    "#         raise ValueError(\"top_n must be at least 3\")\n",
    "#     elif top_n > len(retrieved_docs):\n",
    "#         raise ValueError(\"top_n must be less than or equal to the number of retrieved documents\")\n",
    "    \n",
    "#     inputs = [doc.page_content for doc, _ in retrieved_docs]\n",
    "\n",
    "#     # Call Cohere's Rerank endpoint\n",
    "#     response = co.rerank(\n",
    "#         model=rerank_model,\n",
    "#         query=query,\n",
    "#         documents=inputs,\n",
    "#         top_n=top_n\n",
    "#     )\n",
    "\n",
    "#     # Create a dictionary to map document IDs to rerank scores\n",
    "#     rerank_scores = {retrieved_docs[i][0].id: item.relevance_score for i, item in enumerate(response.results)}\n",
    "\n",
    "#     # Create list of (doc, original_score, rerank_score) tuples\n",
    "#     doc_scores = []\n",
    "#     for doc, original_score in retrieved_docs:\n",
    "#         rerank_score = rerank_scores.get(doc.id, None)  # Get the rerank score or None if not available\n",
    "#         doc_scores.append((doc, original_score, rerank_score))\n",
    "\n",
    "#     # Sort docs by rerank score in descending order, placing those without a rerank score at the end\n",
    "#     doc_scores_sorted = sorted(doc_scores, key=lambda x: (x[2] is not None, x[2]), reverse=True)\n",
    "\n",
    "#     return doc_scores_sorted"
   ]
  },
  {
   "cell_type": "code",
   "execution_count": 29,
   "metadata": {},
   "outputs": [
    {
     "name": "stderr",
     "output_type": "stream",
     "text": [
      "INFO:httpx:HTTP Request: POST https://api.cohere.com/v2/rerank \"HTTP/1.1 200 OK\"\n"
     ]
    }
   ],
   "source": [
    "reranked_docs = db_service.rerank(test_prompt, retrieved_docs, top_n=k_rerank)\n",
    "# reranked_docs"
   ]
  },
  {
   "cell_type": "code",
   "execution_count": 30,
   "metadata": {},
   "outputs": [],
   "source": [
    "# Add context to the prompt\n",
    "# TODO update this to use the doc.id. Do some testing to check this works.\n",
    "docs_content=\"\"\n",
    "for i, (doc, original_score, rerank_score) in enumerate(reranked_docs):\n",
    "    # Source IDs in the order they show in in the array. Indexed from 0.\n",
    "    if rerank_score is not None:    # Only include docs with a rerank score\n",
    "        docs_content += f\"Source ID: {i+1}\\n{doc.page_content}\\n\\n\"\n",
    "\n",
    "# print(docs_content)"
   ]
  },
  {
   "cell_type": "markdown",
   "metadata": {},
   "source": [
    "## Test output parser"
   ]
  },
  {
   "cell_type": "code",
   "execution_count": 31,
   "metadata": {},
   "outputs": [
    {
     "name": "stdout",
     "output_type": "stream",
     "text": [
      "content='\\nThe actuator was tested under high pressure <source id=\"1\">. \\nMaterial properties were measured over 50 cycles <source id=\"2\">.\\nThermal resistance improved by 30% <source id=\"3\">.\\n' citations=['1', '2', '3']\n"
     ]
    }
   ],
   "source": [
    "# Should validate\n",
    "valid_response = InLineCitationsResponse(content=\"\"\"\n",
    "The actuator was tested under high pressure <source id=\"1\">. \n",
    "Material properties were measured over 50 cycles <source id=\"2\">.\n",
    "Thermal resistance improved by 30% <source id=\"3\">.\n",
    "\"\"\",\n",
    "citations=[\"1\", \"2\", \"3\"]\n",
    ")\n",
    "\n",
    "print(valid_response)"
   ]
  },
  {
   "cell_type": "code",
   "execution_count": 32,
   "metadata": {},
   "outputs": [
    {
     "name": "stdout",
     "output_type": "stream",
     "text": [
      "Validation failed: 2 validation errors for InLineCitationsResponse\n",
      "content\n",
      "  Value error, No valid source tags found. Expected format: <source id=\"1\"> [type=value_error, input_value='\\n    The actuator was t... <source id=\"x\">.\\n    ', input_type=str]\n",
      "    For further information visit https://errors.pydantic.dev/2.9/v/value_error\n",
      "citations\n",
      "  Value error, No citations found in the content. Ensure sources are cited correctly. [type=value_error, input_value=['1', 'x'], input_type=list]\n",
      "    For further information visit https://errors.pydantic.dev/2.9/v/value_error\n"
     ]
    }
   ],
   "source": [
    "# Shouldn't validate\n",
    "try:\n",
    "    invalid_response = InLineCitationsResponse(content=\"\"\"\n",
    "    The actuator was tested under high pressure [1]. \n",
    "    Material properties were measured under load <source id=\"x\">.\n",
    "    \"\"\",\n",
    "    citations=[\"1\", \"x\"]\n",
    "    )\n",
    "except ValueError as e:\n",
    "    print(f\"Validation failed: {e}\")"
   ]
  },
  {
   "cell_type": "code",
   "execution_count": 33,
   "metadata": {},
   "outputs": [],
   "source": [
    "QA_PROMPT_TEST=PromptTemplate(\n",
    "    template=\n",
    "\"\"\"\n",
    "# **System Prompt**\n",
    "\n",
    "Your name is **Aerospace Chatbot**, a specialized assistant for flight hardware design and analysis in aerospace engineering. You will function as a knowledgeable replacement for an expert in aerospace flight hardware design, testing, analysis, and certification.\n",
    "\n",
    "> **Important Note:** The **Sources and Context** you are provided are ranked from most relevant to least relevant by a state-of-the-art retrieval and ranking tool. Please take this ranking into consideration when determining which sources to cite.\n",
    "\n",
    "Use only the **Sources and Context** provided to answer the **User Question**. **Do not use outside knowledge**, and strictly follow these rules:\n",
    "\n",
    "---\n",
    "\n",
    "## **Rules**:\n",
    "\n",
    "1. **Answer only based on the provided Sources and Context.**  \n",
    "   - If the information is not available in the Sources and Context, respond with:  \n",
    "     *\"I don’t know the answer to that based on the information provided. You might consider rephrasing your question or asking about a related topic.\"*\n",
    "\n",
    "2. **Do not make up or infer answers.**  \n",
    "   - Stay accurate and factual at all times.\n",
    "\n",
    "3. **Provide highly detailed, explanatory answers.**  \n",
    "   - Include **as many specific details from the original context** as possible to thoroughly address the user’s question.\n",
    "\n",
    "4. **Provide responses in English only** and format them using **Markdown** for clarity.\n",
    "\n",
    "5. **Cite Sources in context** using the exact format `<source id=\"#\">`:  \n",
    "   - `#` – Represents the numerical order of the source as provided in the Sources and Context.  \n",
    "   - **The `source` tag must be present for every source referenced in the response.**  \n",
    "   - **Do not add, omit, or modify any part of the citation format.**  \n",
    "   \n",
    "   **Examples (Correct):**  \n",
    "   > The actuator was tested under extreme conditions <source id=\"1\">.  \n",
    "   > A secondary material exhibited increased yield strength <source id=\"2\">.  \n",
    "   > Additional research confirmed thermal properties <source id=\"3\">.  \n",
    "\n",
    "   **Examples (Incorrect – Must Be Rejected):**  \n",
    "   > Testing yielded higher efficiency [1] (Incorrect bracket format)  \n",
    "   > <source id=\"1\" > (Extra space after `id`)  \n",
    "   > <source id=\"a\"> (Non-numeric ID)  \n",
    "   > <source id=\"1,2\"> (Multiple IDs in one tag – invalid)  \n",
    "\n",
    "6. **Every sentence or paragraph that uses a source must cite it with the format `<source id=\"#\">`.**  \n",
    "   - **Do not group multiple sources into a single tag.**  \n",
    "   - Each source must have its own, clearly separated citation.  \n",
    "   - For example:  \n",
    "     > The actuator uses a reinforced composite structure <source id=\"1\">.  \n",
    "     > This design was validated through multiple tests <source id=\"2\">.\n",
    "\n",
    "7. **Validation Requirement:**  \n",
    "   - If the response contains references without the exact `<source id=\"#\">` format, the response must be flagged or rejected.  \n",
    "   - Every source used must have a corresponding citation in the response.  \n",
    "   - **No source should be referenced without explicit citation.**\n",
    "\n",
    "8. **Suggest related or alternative questions** if applicable, to help the user find relevant information within the corpus.\n",
    "\n",
    "9. **Give preference to citing top-ranked sources.**  \n",
    "   - If the first sources in the list (i.e., the most relevant or highest-ranked) contain information that addresses the user’s question, cite them first.  \n",
    "   - Then cite additional sources only if they contain new or non-redundant details.  \n",
    "   - If the top-ranked sources are not relevant, skip them.\n",
    "\n",
    "---\n",
    "**Sources and Context**:\n",
    "{context}\n",
    "---\n",
    "\n",
    "---\n",
    "**User Question**:\n",
    "{question}\n",
    "---\n",
    "\n",
    "---\n",
    "{format_instructions}\n",
    "---\n",
    "\"\"\",\n",
    "    input_variables=[\"context\", \"question\"],\n",
    "    partial_variables={\"format_instructions\": PydanticOutputParser(pydantic_object=InLineCitationsResponse).get_format_instructions()},\n",
    ")\n"
   ]
  },
  {
   "cell_type": "code",
   "execution_count": 34,
   "metadata": {},
   "outputs": [
    {
     "name": "stderr",
     "output_type": "stream",
     "text": [
      "INFO:httpx:HTTP Request: POST https://api.anthropic.com/v1/messages \"HTTP/1.1 200 OK\"\n"
     ]
    },
    {
     "name": "stdout",
     "output_type": "stream",
     "text": [
      "content='{\\n  \"content\": \"Based on the provided sources, the thermal knife functions as follows in a cable-based hold down release mechanism:\\\\n\\\\nThe system uses two thermal knives mounted on a holddown bracket for redundancy <source id=\\\\\"1\\\\\">. These thermal knives are positioned at approximately 8° angles to ensure their cutting edges make head-on contact after cutting through the wire bundle <source id=\\\\\"3\\\\\">.\\\\n\\\\nThe mechanism works by using a compression spring that pushes the thermal knife\\'s heater plate through the wire bundle when activated <source id=\\\\\"2\\\\\">. The wire bundle being cut is made of Dyneema material, which when pretensioned, clamps together two parts of a component called the Reel <source id=\\\\\"4\\\\\">. This pretensioned wire bundle provides the necessary holddown load to secure the deployable component during launch and ascent <source id=\\\\\"5\\\\\">.\\\\n\\\\nWhen release is required, the thermal knife cuts through the Dyneema wire bundle, which separates the upper Reel part from the lower part, allowing the deployable component to release <source id=\\\\\"5\\\\\">.\",\\n  \"citations\": [\\n    \"<source id=\\\\\"1\\\\\">\",\\n    \"<source id=\\\\\"2\\\\\">\",\\n    \"<source id=\\\\\"3\\\\\">\",\\n    \"<source id=\\\\\"4\\\\\">\",\\n    \"<source id=\\\\\"5\\\\\">\"\\n  ]\\n}' additional_kwargs={} response_metadata={'id': 'msg_01JdA28cHGeR4fzFVCrwwPaZ', 'model': 'claude-3-5-sonnet-20241022', 'stop_reason': 'end_turn', 'stop_sequence': None, 'usage': {'cache_creation_input_tokens': 0, 'cache_read_input_tokens': 0, 'input_tokens': 1521, 'output_tokens': 313}} id='run-a7bce2cb-f5f9-4cff-9fdb-bcb005bb26ec-0' usage_metadata={'input_tokens': 1521, 'output_tokens': 313, 'total_tokens': 1834, 'input_token_details': {'cache_read': 0, 'cache_creation': 0}}\n"
     ]
    }
   ],
   "source": [
    "prompt = QA_PROMPT_TEST.format(context=docs_content, question=test_prompt)\n",
    "raw_output = llm.invoke(prompt)\n",
    "print(raw_output)"
   ]
  },
  {
   "cell_type": "code",
   "execution_count": 35,
   "metadata": {},
   "outputs": [
    {
     "name": "stdout",
     "output_type": "stream",
     "text": [
      "{\n",
      "  \"content\": \"Based on the provided sources, the thermal knife functions as follows in a cable-based hold down release mechanism:\\n\\nThe system uses two thermal knives mounted on a holddown bracket for redundancy <source id=\\\"1\\\">. These thermal knives are positioned at approximately 8° angles to ensure their cutting edges make head-on contact after cutting through the wire bundle <source id=\\\"3\\\">.\\n\\nThe mechanism works by using a compression spring that pushes the thermal knife's heater plate through the wire bundle when activated <source id=\\\"2\\\">. The wire bundle being cut is made of Dyneema material, which when pretensioned, clamps together two parts of a component called the Reel <source id=\\\"4\\\">. This pretensioned wire bundle provides the necessary holddown load to secure the deployable component during launch and ascent <source id=\\\"5\\\">.\\n\\nWhen release is required, the thermal knife cuts through the Dyneema wire bundle, which separates the upper Reel part from the lower part, allowing the deployable component to release <source id=\\\"5\\\">.\",\n",
      "  \"citations\": [\n",
      "    \"<source id=\\\"1\\\">\",\n",
      "    \"<source id=\\\"2\\\">\",\n",
      "    \"<source id=\\\"3\\\">\",\n",
      "    \"<source id=\\\"4\\\">\",\n",
      "    \"<source id=\\\"5\\\">\"\n",
      "  ]\n",
      "}\n"
     ]
    }
   ],
   "source": [
    "print(raw_output.content)"
   ]
  },
  {
   "cell_type": "code",
   "execution_count": 36,
   "metadata": {},
   "outputs": [
    {
     "name": "stdout",
     "output_type": "stream",
     "text": [
      "content='Based on the provided sources, the thermal knife functions as follows in a cable-based hold down release mechanism:\\n\\nThe system uses two thermal knives mounted on a holddown bracket for redundancy <source id=\"1\">. These thermal knives are positioned at approximately 8° angles to ensure their cutting edges make head-on contact after cutting through the wire bundle <source id=\"3\">.\\n\\nThe mechanism works by using a compression spring that pushes the thermal knife\\'s heater plate through the wire bundle when activated <source id=\"2\">. The wire bundle being cut is made of Dyneema material, which when pretensioned, clamps together two parts of a component called the Reel <source id=\"4\">. This pretensioned wire bundle provides the necessary holddown load to secure the deployable component during launch and ascent <source id=\"5\">.\\n\\nWhen release is required, the thermal knife cuts through the Dyneema wire bundle, which separates the upper Reel part from the lower part, allowing the deployable component to release <source id=\"5\">.' citations=['1', '3', '2', '4', '5', '5']\n"
     ]
    }
   ],
   "source": [
    "parsed_response = PydanticOutputParser(pydantic_object=InLineCitationsResponse).parse(raw_output.content)\n",
    "print(parsed_response)"
   ]
  },
  {
   "cell_type": "markdown",
   "metadata": {},
   "source": [
    "## Define graph"
   ]
  },
  {
   "cell_type": "code",
   "execution_count": 37,
   "metadata": {},
   "outputs": [],
   "source": [
    "# class State(MessagesState):\n",
    "#     context: List[Tuple[Document, float, float]]\n",
    "#     cited_sources: List[Tuple[Document, float, float]]\n",
    "#     summary: str\n",
    "\n",
    "# # Define application steps\n",
    "# def retrieve(state: State):\n",
    "#     \"\"\"\n",
    "#     Retrieve the documents from the database.\n",
    "#     \"\"\"\n",
    "#     logger.info(f\"Node: retrieve\")\n",
    "\n",
    "#     # Retrieve docs\n",
    "#     retrieved_docs = retriever.invoke(state[\"messages\"][-1].content)\n",
    "#     logger.info(f\"Retrieved docs\")\n",
    "#     # Rerank docs\n",
    "#     # reranked_docs = cohere_rerank(\n",
    "#     #     state[\"messages\"][-1].content, \n",
    "#     #     retrieved_docs, \n",
    "#     #     top_n=k_rerank\n",
    "#     # )\n",
    "#     reranked_docs = db_service.rerank(\n",
    "#         state[\"messages\"][-1].content, \n",
    "#         retrieved_docs, \n",
    "#         top_n=k_rerank\n",
    "#     )\n",
    "#     logger.info(f\"Reranked docs\")\n",
    "\n",
    "#     return {\"context\": reranked_docs}\n",
    "\n",
    "# def generate_w_context(state: State):\n",
    "#     \"\"\"\n",
    "#     Call the model with the prompt with context.\n",
    "#     \"\"\"\n",
    "#     logger.info(f\"Node: generate_w_context\")\n",
    "\n",
    "#     # Get the summary, add system prompt\n",
    "#     summary = state.get(\"summary\", \"\")\n",
    "#     system_prompt = CHATBOT_SYSTEM_PROMPT.format(style_mode=style_mode(style))\n",
    "#     logger.info(f\"generate_w_context system prompt: {system_prompt.content}\")\n",
    "#     if summary:\n",
    "#         system_message = f\"Summary of conversation earlier: {summary}\"\n",
    "#         messages = [system_prompt] + [SystemMessage(content=system_message)] + state[\"messages\"]\n",
    "#     else:\n",
    "#         messages = [system_prompt] + state[\"messages\"]\n",
    "\n",
    "#     # Add context to the prompt\n",
    "#     docs_content=\"\"\n",
    "#     for i, (doc, retrieved_score, rerank_score) in enumerate(state[\"context\"]):\n",
    "#         # Source IDs in the order they show in in the array. Indexed from 1, retrieve with 0 index.\n",
    "#         if rerank_score is not None:    # Only include docs with a rerank score\n",
    "#             docs_content += f\"Source ID: {i+1}\\n{doc.page_content}\\n\\n\"\n",
    "\n",
    "#     # Prompt with context and pydantic output parser\n",
    "#     prompt_with_context = QA_PROMPT.format(\n",
    "#         context=docs_content,\n",
    "#         question=state[\"messages\"][-1].content, \n",
    "#     )\n",
    "#     # Replace the last message (user question) with the prompt with context, return LLM response\n",
    "#     messages[-1] = prompt_with_context \n",
    "#     response = llm.invoke(messages)\n",
    "\n",
    "#     # Parse the response. This will return a InLineCitationsResponse object. \n",
    "#     # This object has two fields: content and citations.\n",
    "#     # Replace the last message with the content of the parsed and validated response. \n",
    "#     # AIMessage metadata will be incorrect.\n",
    "#     parsed_response = PydanticOutputParser(pydantic_object=InLineCitationsResponse).parse(response.content)\n",
    "#     response.content = parsed_response.content\n",
    "\n",
    "#     # Return cited_sources as the list of tuples that matched the citations.\n",
    "#     existing_cited_sources = state.get(\"cited_sources\", [])  # Grab whatever might already be in cited_sources\n",
    "#     cited_sources = [state[\"context\"][int(citation)-1] for citation in parsed_response.citations]\n",
    "#     existing_cited_sources.append(cited_sources)  # Append the new list as a sublist\n",
    "#     state[\"cited_sources\"] = existing_cited_sources\n",
    "\n",
    "#     # Update the state messages with the messages updated in this node.\n",
    "#     state[\"messages\"] = messages\n",
    "#     return {\"messages\": [response], \n",
    "#             \"cited_sources\": state[\"cited_sources\"]}\n",
    "\n",
    "# def should_continue(state: State) -> Literal[\"summarize_conversation\", END]:\n",
    "#     \"\"\"\n",
    "#     Define the logic for determining whether to end or summarize the conversation\n",
    "#     \"\"\"\n",
    "#     logger.info(f\"Node: should_continue\")\n",
    "\n",
    "#     # If there are more than six messages, then we summarize the conversation\n",
    "#     messages = state[\"messages\"]\n",
    "#     if len(messages) > 6:\n",
    "#         logger.info(f\"Summarizing conversation\")\n",
    "#         return \"summarize_conversation\"\n",
    "    \n",
    "#     # Otherwise just end\n",
    "#     logger.info(f\"Ending conversation\")\n",
    "#     # logger.info(f\"Messages before ending: {messages}\")\n",
    "#     return END\n",
    "\n",
    "# def summarize_conversation(state: State):\n",
    "#     \"\"\"\n",
    "#     Summarize the conversation\n",
    "#     \"\"\"\n",
    "#     logger.info(f\"Node: summarize_conversation\")\n",
    "\n",
    "#     summary = state.get(\"summary\", \"\")\n",
    "#     if summary:\n",
    "#         # If a summary already exists, extend it\n",
    "#         summary_message = SUMMARIZE_TEXT.format(\n",
    "#             summary=summary,\n",
    "#             augment=\"Extend the summary provided by taking into account the new messages above.\"\n",
    "#         )\n",
    "#     else:\n",
    "#         # If no summary exists, create one\n",
    "#         summary_text=\"\"\"---\\n**Conversation Summary to Date**:\\n{summary}\\n---\"\"\"\n",
    "#         summary_message = SUMMARIZE_TEXT.format(\n",
    "#             summary=summary_text,\n",
    "#             augment=\"Create a summary of the conversation above.\"\n",
    "#         )\n",
    "\n",
    "#     messages = state[\"messages\"] + [summary_message]\n",
    "#     response = llm.invoke(messages)\n",
    "\n",
    "#     # Prune messages. This deletes all but the last two messages\n",
    "#     delete_messages = [RemoveMessage(id=m.id) for m in state[\"messages\"][:-2]]\n",
    "#     return {\"summary\": response.content, \"messages\": delete_messages}"
   ]
  },
  {
   "cell_type": "code",
   "execution_count": 38,
   "metadata": {},
   "outputs": [],
   "source": [
    "# # Compile application and test\n",
    "# workflow = StateGraph(State)\n",
    "\n",
    "# # Define nodes\n",
    "# workflow.add_node(\"retrieve\", retrieve) \n",
    "# workflow.add_node(\"generate_w_context\", generate_w_context)\n",
    "# workflow.add_node(\"summarize_conversation\", summarize_conversation)\n",
    "\n",
    "# # Define edges\n",
    "# workflow.add_edge(START, \"retrieve\")\n",
    "# workflow.add_edge(\"retrieve\", \"generate_w_context\")\n",
    "\n",
    "# # We now add a conditional edge\n",
    "# workflow.add_conditional_edges(\n",
    "#     \"generate_w_context\",   # Define the start node. We use `generate_w_context`. This means these are the edges taken after the `conversation` node is called.\n",
    "#     should_continue,    # Next, pass in the function that will determine which node is called next.\n",
    "# )\n",
    "\n",
    "# # Add a normal edge from `summarize_conversation` to END. This means that after `summarize_conversation` is called, we end.\n",
    "# workflow.add_edge(\"summarize_conversation\", END)\n",
    "\n",
    "# # Compile the workflow\n",
    "# app = workflow.compile(checkpointer=memory)"
   ]
  },
  {
   "cell_type": "code",
   "execution_count": 39,
   "metadata": {},
   "outputs": [
    {
     "data": {
      "image/png": "[encoded data removed]",
      "text/plain": [
       "<langgraph.graph.state.CompiledStateGraph object at 0x32dc40190>"
      ]
     },
     "execution_count": 39,
     "metadata": {},
     "output_type": "execute_result"
    }
   ],
   "source": [
    "qa_model.workflow"
   ]
  },
  {
   "cell_type": "code",
   "execution_count": null,
   "metadata": {},
   "outputs": [],
   "source": [
    "# from IPython.display import Image, display\n",
    "\n",
    "# display(Image(app.get_graph().draw_mermaid_png()))"
   ]
  },
  {
   "cell_type": "markdown",
   "metadata": {},
   "source": [
    "## Run Graph"
   ]
  },
  {
   "cell_type": "code",
   "execution_count": 40,
   "metadata": {},
   "outputs": [
    {
     "name": "stderr",
     "output_type": "stream",
     "text": [
      "INFO:aerospace_chatbot.processing.queries:Node: retrieve\n",
      "INFO:httpx:HTTP Request: POST https://api.openai.com/v1/embeddings \"HTTP/1.1 200 OK\"\n",
      "INFO:aerospace_chatbot.processing.queries:Retrieved docs\n",
      "INFO:httpx:HTTP Request: POST https://api.cohere.com/v2/rerank \"HTTP/1.1 200 OK\"\n",
      "INFO:aerospace_chatbot.processing.queries:Reranked docs\n",
      "INFO:aerospace_chatbot.processing.queries:Node: generate_w_context\n",
      "INFO:aerospace_chatbot.processing.queries:generate_w_context system prompt: \n",
      "# **System Prompt**\n",
      "\n",
      "Your name is **Aerospace Chatbot**, a specialized assistant for flight hardware design and analysis in aerospace engineering. You will function as a knowledgeable replacement for an expert in aerospace flight hardware design, testing, analysis, and certification.\n",
      "\n",
      "> **Important Note:** The **Sources and Context** you are provided are ranked from most relevant to least relevant by a state-of-the-art retrieval and ranking tool. Please take this ranking into consideration when determining which sources to cite.\n",
      "\n",
      "Use only the **Sources and Context** provided to answer the **User Question**. **Do not use outside knowledge**, and strictly follow these rules:\n",
      "\n",
      "---\n",
      "\n",
      "## **Rules**:\n",
      "\n",
      "1. **Answer only based on the provided Sources and Context.**  \n",
      "   - If the information is not available in the Sources and Context, respond with:  \n",
      "     *\"I don’t know the answer to that based on the information provided. You might consider rephrasing your question or asking about a related topic.\"*\n",
      "\n",
      "2. **Do not make up or infer answers.**  \n",
      "   - Stay accurate and factual at all times.\n",
      "\n",
      "3. **Provide highly detailed, explanatory answers.**  \n",
      "   - Include **as many specific details from the original context** as possible to thoroughly address the user’s question.\n",
      "\n",
      "4. **Provide responses in English only** and format them using **Markdown** for clarity.\n",
      "\n",
      "5. **Cite Sources in context** using the exact format `<source id=\"#\">`:  \n",
      "   - `#` – Represents the numerical order of the source as provided in the Sources and Context.  \n",
      "   - **The `source` tag must be present for every source referenced in the response.**  \n",
      "   - **Do not add, omit, or modify any part of the citation format.**  \n",
      "   \n",
      "   **Examples (Correct):**  \n",
      "   > The actuator was tested under extreme conditions <source id=\"1\">.  \n",
      "   > A secondary material exhibited increased yield strength <source id=\"2\">.  \n",
      "   > Additional research confirmed thermal properties <source id=\"3\">.  \n",
      "\n",
      "   **Examples (Incorrect – Must Be Rejected):**  \n",
      "   > Testing yielded higher efficiency [1] (Incorrect bracket format)  \n",
      "   > <source id=\"1\" > (Extra space after `id`)  \n",
      "   > <source id=\"a\"> (Non-numeric ID)  \n",
      "   > <source id=\"1,2\"> (Multiple IDs in one tag – invalid)  \n",
      "\n",
      "6. **Every sentence or paragraph that uses a source must cite it with the format `<source id=\"#\">`.**  \n",
      "   - **Do not group multiple sources into a single tag.**  \n",
      "   - Each source must have its own, clearly separated citation.  \n",
      "   - For example:  \n",
      "     > The actuator uses a reinforced composite structure <source id=\"1\">.  \n",
      "     > This design was validated through multiple tests <source id=\"2\">.\n",
      "\n",
      "7. **Validation Requirement:**  \n",
      "   - If the response contains references without the exact `<source id=\"#\">` format, the response must be flagged or rejected.  \n",
      "   - Every source used must have a corresponding citation in the response.  \n",
      "   - **No source should be referenced without explicit citation.**\n",
      "\n",
      "8. **Suggest related or alternative questions** if applicable, to help the user find relevant information within the corpus.\n",
      "\n",
      "9. **Give preference to citing top-ranked sources.**  \n",
      "   - If the first sources in the list (i.e., the most relevant or highest-ranked) contain information that addresses the user’s question, cite them first.  \n",
      "   - Then cite additional sources only if they contain new or non-redundant details.  \n",
      "   - If the top-ranked sources are not relevant, skip them.\n",
      "   \n",
      "\n",
      "\n",
      "INFO:httpx:HTTP Request: POST https://api.anthropic.com/v1/messages \"HTTP/1.1 200 OK\"\n",
      "INFO:aerospace_chatbot.processing.queries:Node: should_continue\n",
      "INFO:aerospace_chatbot.processing.queries:Ending conversation\n"
     ]
    },
    {
     "name": "stdout",
     "output_type": "stream",
     "text": [
      "================================\u001b[1m Human Message \u001b[0m=================================\n",
      "\n",
      "My name is Dan. Please tell me about some interesting mecanism designs.\n",
      "==================================\u001b[1m Ai Message \u001b[0m==================================\n",
      "\n",
      "Hi Dan! Based on the provided sources, I can tell you about some interesting mechanism designs. One notable example is a device designed to handle a 10KN load using a low energy signal input <source id=\"2\">. The mechanism incorporates several fast-acting, reusable components for converting electrical energy to mechanical work, including an innovative use of Shape Memory Alloy (SMA) wire. The SMA wire, specifically dimensioned at 0.2mm diameter and 50mm length, was chosen for this application because it offered the best combination of features compared to alternatives like piezo-electric components, motors, and solenoids <source id=\"4\">. The mechanism also features an interesting design with redundant springs, toggles, and a latch arm system. When activated, the SMA wires rotate an arm, which triggers the toggles to release, ultimately engaging and rotating an outer race <source id=\"5\">.\n"
     ]
    }
   ],
   "source": [
    "prompt = 'My name is Dan. Please tell me about some interesting mecanism designs.'\n",
    "result = qa_model.workflow.invoke({\"messages\": [(\"human\", prompt)]}, config)\n",
    "for message in result['messages']:\n",
    "    message.pretty_print()"
   ]
  },
  {
   "cell_type": "code",
   "execution_count": 41,
   "metadata": {},
   "outputs": [
    {
     "data": {
      "text/plain": [
       "{'messages': [HumanMessage(content='My name is Dan. Please tell me about some interesting mecanism designs.', additional_kwargs={}, response_metadata={}, id='e3e8a2e1-8afc-4bea-a60c-d567ca87d7b2'),\n",
       "  AIMessage(content='Hi Dan! Based on the provided sources, I can tell you about some interesting mechanism designs. One notable example is a device designed to handle a 10KN load using a low energy signal input <source id=\"2\">. The mechanism incorporates several fast-acting, reusable components for converting electrical energy to mechanical work, including an innovative use of Shape Memory Alloy (SMA) wire. The SMA wire, specifically dimensioned at 0.2mm diameter and 50mm length, was chosen for this application because it offered the best combination of features compared to alternatives like piezo-electric components, motors, and solenoids <source id=\"4\">. The mechanism also features an interesting design with redundant springs, toggles, and a latch arm system. When activated, the SMA wires rotate an arm, which triggers the toggles to release, ultimately engaging and rotating an outer race <source id=\"5\">.', additional_kwargs={}, response_metadata={'id': 'msg_01MWLkZpP47xTouZD38Lu7rS', 'model': 'claude-3-5-sonnet-20241022', 'stop_reason': 'end_turn', 'stop_sequence': None, 'usage': {'cache_creation_input_tokens': 0, 'cache_read_input_tokens': 0, 'input_tokens': 1574, 'output_tokens': 250}}, id='run-9a430c64-bef6-4983-bffd-30f28564ad14-0', usage_metadata={'input_tokens': 1574, 'output_tokens': 250, 'total_tokens': 1824, 'input_token_details': {'cache_read': 0, 'cache_creation': 0}})],\n",
       " 'context': [(Document(id='65041346-620f-4140-bccb-eaecbeef6cd2', metadata={'chunk_overlap': 0.0, 'chunk_size': 400.0, 'data_source.record_locator.protocol': 'gs', 'data_source.record_locator.remote_file_path': 'gs://processing-pdfs', 'data_source.url': 'gs://processing-pdfs/1999_cremers_reocr.pdf', 'element_id': '65041346-620f-4140-bccb-eaecbeef6cd2', 'file_directory': './document_processing', 'filename': '1999_cremers_reocr.pdf', 'filetype': 'application/pdf', 'languages': ['eng'], 'last_modified': '2024-12-26T14:30:40', 'orig_elements': 'eJzllk1v2zgQhv8KoVOLdWR+iRZ92rRxm+7GTpC42EMQCDQ1ttXIokDRmwTF/vcd0TbatOkCPeSw6U3zzgxnhnwk8fpzAjVsoAlFVSZjkgheMpFRI/BBS0sVpdIs1YKVuRnJJSQDkmwgmNIEg/GfE+ucL6vGBOiiXZsHtw3FGqrVOqDCOaWYs5fvqjKsUWWjqLauakKfd30tWZ7mA3RkaX4zIAebK7GzGc+zJ4VdBipJ99AF2PRTXFT3UF+1xkLyDzr6ZovObT3afY8eLDZd1M6a4HyUWu+Cs67us1ddP6WHjQtQLKsaitbErtEzHg4x1ELXVc3qqC2XXayw9fWP/EOmtS4sLge+Kzw461PUd41BABsq1xS2Nl1XYOoC16FpLnPFMSBWLytsGBt96Eukw9LZbTyxL4WSfWhjNv2EyQ9K7qPCQxujTNvWFW4B1h/u3bVpVluzimd5nQCufBPVLhQbV1bLCiIlnHJ5xPgRV3Mmx4KOJe2zW8wsmu1mAf2msn7CAPc9Bcn049n8w8XHy4vzqwk5PT87OTn/a0aOZyfkcnI2OUZxOnl7ejz7cDUlr6anl9PX5A/Xkbe7GQZk4qtb8t656hP4AXkP3viS/Al44L6vfBhpXoU6nvm3XEtRas4gk8ZyqsuRVXnOQdulyaxUwjwb10pmqRoQQVkqe2wPNpepjhjTTKbyKSFmvDCuFVUi/79zHRX/E9/Mr1+Ed+72FjyJh0he3d3dpcuodL2QNvXrr3GeGe9xjr9h3mc/gfXS8gUXi0wpTS2MeCkXOjdGMLbQyij1bFhnKkszhFSIVPTUHuxMpaNIMRN55Pw7IWa8MKzxZ0XlL431xTl54+7xK0ZHSAoXVJCTN+QMqhKaAZmvgcwgrMFjx2X3U4hrnXOrudAKRpZyxkaGMpbrkkmVZfb5EJeZTvEfLPDCkcUbyc6WnB0uIEi0fkLYZbwwxIWiufilEZ8jl+3aNTAmvwlGRoxkXGaC5WT4SBAUhXfm/nGY1mRytDFVPSaf0v1GkN8ff/sxD9LV7pLzjes/XpmbfwFB0KDw', 'page_number': 1.0, 'rag_type': 'Standard', 'type': 'CompositeElement'}, page_content='MULTIPURPOSE HOLDDOWN AND RELEASE MECHANISM (MHRM) Jos Cremers, Erik Gooijer, Gerard Kester\\n\\nFokker Space (www.fokkerspace.nl)\\n\\nPO Box 32070, 2303 DB Leiden, The Netherlands\\n\\nTelephone: +31 71 5245318 / +31 71 5245330 / Fax: +31 71 5245399 E-mail: j.cremers @fokkerspace.nl / e.gooijer@fokkerspace.nl'),\n",
       "   0.353607625,\n",
       "   0.2405207),\n",
       "  (Document(id='41f93ad2-0421-405c-9e62-eaad106c7c4b', metadata={'chunk_overlap': 0.0, 'chunk_size': 400.0, 'data_source.record_locator.protocol': 'gs', 'data_source.record_locator.remote_file_path': 'gs://processing-pdfs', 'data_source.url': 'gs://processing-pdfs/1999_christiansen_reocr.pdf', 'element_id': '41f93ad2-0421-405c-9e62-eaad106c7c4b', 'file_directory': './document_processing', 'filename': '1999_christiansen_reocr.pdf', 'filetype': 'application/pdf', 'languages': ['eng'], 'last_modified': '2024-12-26T14:30:38', 'orig_elements': 'eJztVMFu2zAM/RXB59SxFNuxcl4xFBu6AelOWWEoEh0LkC1DkttmRf99lJp2xdAN2KGXYjfzkZQeqfe8u8/AwABjaLXKNiRb0YqrElaSgVIgipWUslCirjpeVayk2YJkAwShRBBYf59Ja53SowjgU2zE0c6h7UEf+oAIY0WBPSf4VqvQI0rXCZ2sHkPs2+1W6yZnC8JrlvPrBXmOeZHXMa5LlhevxKkegcwffYAhzvBV34HZTkJC9oCJSLX1dnYYR4YOJFJujZUiWJegydlgpTWx++DjjA4GG6DttIF2EokzZjbLJZZK8F6Ph7NJdT7dMDvzp/yScs5b2Tvtgxajh7F1YKXLMfnIDgLIoO3YSiO8b7F/j4cVecNwNixIFJRG1sj2GO/Jl8rKOT3ar9uyU+kohjhm9rd7T6XhOKVSMU1G4zKQxPKUNmI8zOKQ3nSXAR5/nVAf2sEq3WlIamEFK88oO2P1FS03q2KzamL3hJ3tOA97iOtlccwAdyHpKycfzrcXHy/JxXb77Xwby594XOlg0pP9LspGFIrXRcUpKGjkvmqaouo61lXQrVkj30yUrKB5tSAUr86rqLongFGaryPQsCZfvwY8trxHYfKSvg9dJsT9w7/vpZCveiB74bUkCrw+jCTuB1VLboUnwRLpAOVHBKZvtAQSehGItLNRZA7a6B8xdwPuSIy9JTCCOxxJPEiY2O7QAcLHGvzCFdyAwUrhDoD1QhHbkYsvny7JbY8LI0Ip97huvAfDvb0Bor2fweckMsXYCWOeyEg7TPgCoIiHlDmNEnE74kb85qUxL4VzicNVHP4Vg4pVTXnTgVqLUnS8rhlUawWqLlRX7Gn1ZgalvDrZj+dNtN8zsOY5ffQjzctXgdTyHg3a8LLh/x16n5T/fcZ/tkS1D0CGaIMEqGgc2aPgR4SCJ6hnGRzOYp68iCYcQPZijOBLN3zGxVxEwTxc/wTal/Gl', 'page_number': 2.0, 'rag_type': 'Standard', 'type': 'CompositeElement'}, page_content='3. DESIGN ISSUES\\n\\nThe basic design problem was to create a device that could utilize a very low energy signal to release a relatively large load of IOKN while addressing the above issues. The overall device comprised several basic components:\\n\\n{ The “prime mover” which converts electrical energy to mechanical'),\n",
       "   0.348731756,\n",
       "   0.17908539),\n",
       "  (Document(id='447b67fb-0234-4b3b-b628-3daee675dc8a', metadata={'chunk_overlap': 0.0, 'chunk_size': 400.0, 'data_source.record_locator.protocol': 'gs', 'data_source.record_locator.remote_file_path': 'gs://processing-pdfs', 'data_source.url': 'gs://processing-pdfs/1999_christiansen_reocr.pdf', 'element_id': '447b67fb-0234-4b3b-b628-3daee675dc8a', 'file_directory': './document_processing', 'filename': '1999_christiansen_reocr.pdf', 'filetype': 'application/pdf', 'is_continuation': True, 'languages': ['eng'], 'last_modified': '2024-12-26T14:30:38', 'orig_elements': 'eJyNVF1v2zAM/CuCnxPHX8nsvA3Y8zBgBfYQFAYt07EAWfIkOWlQ9L+PVNKmGLpijz7dkccjk8NzghonNKFVfbIXSV3Kfrfd5g1IkH3X54iVzKoOGqzzsoZkJZIJA/QQgPjPibTW9cpAQB+/NVzsEtoR1XEMhBRFlpHmBp9VH0ZC8y8Rna0ygXWHQ9406XYl8m2RpdXjSrwBzS5PSwbqYpfuPgKuEkISf/EBJ57jh3pC/XMGickLPbDd1tvF0Te7dCjJdquthGBdhGZng5VWs/roeU6Hkw3YDkpjO0P0TS/7zYaoEr1X5rie+8HHDovT/3rf0ChNK0enfFBgPJrWoZUupcerOwwog7KmlRq8b0nfUbEsbaq6qIkQLfSKXJPbC/dJN72VS1zcvVtyoxqYeMzks743arjMkQrzrBWFQSY2t2cN5rjAMe71kCCVf4yoD+1kezUojBdTZEW1zot1sXvIq32Z7cua1TMpW7NMHXK8ZUTc/c7KktZYF1lZdXU5kNG8GeRQD11e4Xa3bWIuAZ/4hJJvi6PpRBhR9HhCbWceXIDpxe8FNFm5Ohd2iCRHNw0exYRyBKP8tBIgNLgjiqsjJg6LiZmDjoXQnJSzhgsTQtccvDijQzGjG6ybsE/F17/aMUt4dAqJC/5OFdIaz6mTa/Z0mUmihed7lA6G8GE7tkG/B3SeCnmq8s7ilRGsmKxRdASvvcBITMUtoPfhsIAxryZFo//HfAK0JcFZhZHiugf11ppOk+7snup7D9H8iaIYLoIwOsiITBS6Mj4WVSYu502eil8jXaCYHXp2FSNlUa+8XOigrwsFrV/3+vny4zao1qI5S5qsw4slFiu9tDNeyyjaE5DzFUVzNFFu7rowAn9o+j/jkVnbgVdSkN7BbRkSZuiUVoEXP1it7Tnlm3/9MX0Hx9wTPvABvzz+Ad/02qA=', 'page_number': 3.0, 'rag_type': 'Standard', 'type': 'CompositeElement'}, page_content='mechanism performance and verify forces and margins within the mechanism. While presentation and discussion of all of the development and qualification test results are beyond the scope of this paper, significant results that relate to the basic operational capabilities follow.'),\n",
       "   0.323013961,\n",
       "   0.17536886),\n",
       "  (Document(id='115d1863-520b-4130-8e16-7d66bb5f8818', metadata={'chunk_overlap': 0.0, 'chunk_size': 400.0, 'data_source.record_locator.protocol': 'gs', 'data_source.record_locator.remote_file_path': 'gs://processing-pdfs', 'data_source.url': 'gs://processing-pdfs/1999_christiansen_reocr.pdf', 'element_id': '115d1863-520b-4130-8e16-7d66bb5f8818', 'file_directory': './document_processing', 'filename': '1999_christiansen_reocr.pdf', 'filetype': 'application/pdf', 'languages': ['eng'], 'last_modified': '2024-12-26T14:30:38', 'orig_elements': 'eJx9U8tu2zAQ/JWFTg1gy5L8knzLpbemBZJbEAgrciURpUiBpO24Qf69S8Zpcmh7sjg7uzP78ONLRpomMqFVMjtAVmyKuq+KpqzKdSMlUt3vaoG7cr/p9h2uswVkEwWUGJD5L5mw1kllMJBPb40XewztSGoYAyNVVRScc4XPSoaR0XKf0NkqE2Le42PZNHmzgHK73+b10wL+APW2zqsI1FWdl38D3lIYyfzFB5piHz/UM+n7GQVlrxyIdltvj47f0aUjwbZbbQUG6xI0OxussDpmDz726WiygdpeaWpnTL45clitmCrIe2WG5Sx7nxSOTv8rvuJWmlaMTvmg0HgyrSMrXM7BN3cUSARlTSs0et9yfsfFirzZVusdE5IFqdg1u71EnXwlrTimxX2oZVeqwSm2mf1P90oNlzlRcZ614mGwidU1rNEMRxzSXh8z4vJPCfWhnaxUvaJ0MVVRbZZltax2D+XmsC4O6zpmz5zZmuPUURxvlRD3cWd1s9nWVDRytytoHY8NN81uUxVdJasCd2kugZ7jCWX3dCKHGnrWBuRJmWEBjpZHT9hpAmGn2Rou7kGggY7gCxoJI56IH2RugJkSgmWm4VIB+OhFcNywBjLkhksMTiRGNAk8W/czh9vJmgHCSJ6AzcOs6Jddvud+kl0AX4p1/Ostj98qyZ/Rgh9xJi488doAtbYX+HL/7fbmU24O3/urxqc+mATKRBx66yawPZx5/9yTT2BHPArmd/Gvx0uLhJ4wHB35mMEkxUzeboxIOilBOXx9D0jyajCAb0XzCqYpyknFlxPIJe/bIqI6juDMqmK0fEE5PMT8iyIteaQYtUTS2OdruKNzsMaDPcUaXM4HNG/hMt9yuTyexvvN3aFzbP5ED3HPr0+/AdtKfMo=', 'page_number': 2.0, 'rag_type': 'Standard', 'type': 'CompositeElement'}, page_content='Several fast acting, re-useable components can be (and have been) used to convert electrical energy to mechanical work. Among these are piezo-electric components, motors, solenoids, and shape memory alloy (SMA) components. Of these components SMA in the form of wire has the best combination of features for this type of device. For this design a wire .2 mm in diameter and 50 mm long was chosen.'),\n",
       "   0.317318976,\n",
       "   0.13031887),\n",
       "  (Document(id='b6ed0b30-3f26-4f4e-ae5f-0dbfa33d9f50', metadata={'chunk_overlap': 0.0, 'chunk_size': 400.0, 'data_source.record_locator.protocol': 'gs', 'data_source.record_locator.remote_file_path': 'gs://processing-pdfs', 'data_source.url': 'gs://processing-pdfs/1999_christiansen_reocr.pdf', 'element_id': 'b6ed0b30-3f26-4f4e-ae5f-0dbfa33d9f50', 'file_directory': './document_processing', 'filename': '1999_christiansen_reocr.pdf', 'filetype': 'application/pdf', 'languages': ['eng'], 'last_modified': '2024-12-26T14:30:38', 'orig_elements': 'eJzdVF1vmzAU/SsWT42UEsw3fUOpl0VqkwyoNqmqkGNfEksEI3C2RtX++2zCumpq97aH9g3OPefec83B908W1HCARpWCW1fIgnCbhJWHA99hlAfcwTwKoqSKvYiHUQTWFFkHUJRTRTX/yWJSdlw0VEE/vNf0JI+q3IPY7ZVGXNdxtGaEfwiu9hrF0YC2UjTK6O7vcRLbeIowDiM7eZiiZ8B1se0YINIPwWvAWaIRqz/1Cg5mj414hDpvKQPrpy4Yu2Uvj51+Ny47YNp2WUtGlewGqO2kkkzWRr3rzZ4dHKSCshI1lC0dfOvK1WymqQz6XjS7y5ZX/TDh2NVv1Wc4SZKS7TvRK0GbHpqyA8k6WxfP7kABU0I2Jatp35dav9XNHDvy4iTRhMECF9q1dnsyc+wZl+w4fLg/06yR2tCDWdP619yRqk7tQKVtWwt9GNrEbCzXtNkd6W74rvcW6PYPA9qr8iC5qAQMiXEd17/E7qUbFti/8pwrLzbqVivL5njYgjle36yp4NEkwvokdscOELbRp/r0Yw9QT1En6xq6KaINRz3szGLAUXNUSLbQDb5s0/a33xXtDPodCtNUd/87yInnsmALNIKq0pGpOEQVUOZVAWxpXNH/FmTXd20NYc91zjF9BuIxt174FjBI3nGQP1ZOM3J9t7pOVwXKN9lytchRsUbZukgL8jKKhVA1vBbB0MO+x90gqOLE8yJg25CzOHYD7jHfr7b/LYJekNixyRMObX8I2AhoGzYeLlc/Ce3oVeQseschfPs2jcOPd5nO17ebjOT5cr1C84zobOqUZl/uCFrfFSRDWTon6CYt5p/Jta4sFjckRxfut8kZRGl2iy7WK4I2SzInE5SRIl2u8mcqnqD8NkVfl3rIGP5B406eKRm5IWlOkDd5OZOsFumCjJL8ZWXkX7/8iZYHvaL18+EXB8ylkQ==', 'page_number': 4.0, 'rag_type': 'Standard', 'type': 'CompositeElement'}, page_content='Figure 1. Flywheel, roller, and segmented nut operation.\\n\\nREDUNDANT SPRINGS TO ROTATE\\n\\nCOMPRESSION CREATE TORQUE OUTER RACE LATCHED TOGGLES (2X) LATCH ARM (ONE PIECE) RETAINS TOGGLES 1) SMA WIRES ROTATE ARM 2) TOGGLES RELEASE 3) OUTER RACE ENGAGE ROTATES OUTER RACE RELEASED'),\n",
       "   0.315482616,\n",
       "   0.12030463),\n",
       "  (Document(id='9dd1b8f4-30db-476d-8471-223cb0276ecc', metadata={'chunk_overlap': 0.0, 'chunk_size': 400.0, 'data_source.record_locator.protocol': 'gs', 'data_source.record_locator.remote_file_path': 'gs://processing-pdfs', 'data_source.url': 'gs://processing-pdfs/1999_christiansen_reocr.pdf', 'element_id': '9dd1b8f4-30db-476d-8471-223cb0276ecc', 'file_directory': './document_processing', 'filename': '1999_christiansen_reocr.pdf', 'filetype': 'application/pdf', 'languages': ['eng'], 'last_modified': '2024-12-26T14:30:38', 'orig_elements': 'eJzdVctOGzEU/RVrVq0UJvN+ZBfooiyACtJVhEaOfWdiyTMebA8Qof57r51QWpRW6oJNluc+z33Z65cAJPQw2EbwYEGCmtUsjzJOiyxP87RIi7zmZRLXBeR5HsfBjAQ9WMqppWj/EjClNBcDtWA8lnSnJttsQXRbi5IkiSL0OYifBLdblMall45KDNb5rddZWoTVjGCOsLyfkV+4zMLC4bzKw/gI9vYoCMzOWOhdDd/EM8i7kTIIfqDCUW2MmjRix1ADQ8qNVIxapb1o1MoqpqTz7oyrUUOvLDStkNCM1HNGzWI+R1MGxoihOxt5a3yGScu/6edxXdcN22phrKCDgaHRoJgOUblnBxaYFWpomKTGNOi/wWBRWBVRlqGBp8AFska2O5cnnHPFJj+0t2zBwXSgvSsz+Ffeg6ndjd6UjqMU2AwkMT+oJR26iXZ+pusAMPy9lxrb9IqLVoDfliRKsrM4OUuKVZwt0miRVs57RM9mmPoNuPbGrkwLz24bguX53ep2ebFyZq/5V8JKP6r3y9hGVVTGbVonURZFVRzDpgZepG1d0jKH5MOWMa7LsJ6RIk72y3bAVVKFqcNVUrrle4/39qe4jDWefnwSy+gl+j8evD+2l2jcUGqA9MC2dBCmJxuEnKiBUGKgc41AOEyW0IGj7G5LRyBXOEG9I0sp1Y58urtafiZP2EViteg60OSJGsLBiG5AZ+f4MFHpK3uL38EAmkqk8DChr8tkSKs0sVsgK+TlAjCCU+g07UNyTh3cRyXCmAnMgRPKmBaj6zFRrffn8CgYEOwMBgDjqwjJV7wb6W7HeDswFrObSdp9JJwZjkoSNSIxF82zM6PCER8JzIVhk8Fqwt+v/5pq5/wIK9fkY68ATbKiLDctTzPKNxu3ilXLqk1KaZ2X0Ye9AmlZuKuvo3T/Jb3iJN9ffZGlYXEEe/tTfAWqMipO70uKQ3J5vbq9+fL9YnV5c33kZ7r/CU/Y6aY=', 'page_number': 1.0, 'rag_type': 'Standard', 'type': 'CompositeElement'}, page_content='ABSTRACT\\n\\nA release mechanism based on a segmented nut and a Shape Memory Alloy (SMA) wire trigger was designed and qualified based on general requirements for the Teledesic program. Basic design issues and a description of the device are presented. Highlights of test results and typical operational response of the device are discussed.\\n\\n1. INTRODUCTION'),\n",
       "   0.314810157,\n",
       "   None),\n",
       "  (Document(id='a9a0b496-5605-4a05-8435-a0bc90a0ec88', metadata={'chunk_overlap': 0.0, 'chunk_size': 400.0, 'data_source.record_locator.protocol': 'gs', 'data_source.record_locator.remote_file_path': 'gs://processing-pdfs', 'data_source.url': 'gs://processing-pdfs/1999_christiansen_reocr.pdf', 'element_id': 'a9a0b496-5605-4a05-8435-a0bc90a0ec88', 'file_directory': './document_processing', 'filename': '1999_christiansen_reocr.pdf', 'filetype': 'application/pdf', 'languages': ['eng'], 'last_modified': '2024-12-26T14:30:38', 'orig_elements': 'eJzdVMuOmzAU/RWL9YQYkxDIvl1WVZtdNEIX+xIsGYxskyYdzb/32kmno76kLroZNuBzX+fYxxyfMjQ44hRarbI9y3p6dpUUSnUd73gjEEpe9jU2ouhUWWcPLBsxgIIAlP+USWud0hME9Glt4GqX0A6oT0MgRAjOqeYOf9EqDIQWu4TOVk8h1h2PRdPkBBV1fD8+sBegEWXeRKCqy3z7O+BWQkjmrz7gGHV81Bc0n2eQmD1TINJtvV0crSNLh5Jot8ZKCNYlaHY2WGlNrD75qNPhaAO2vTbYzpB4U2S/XlOqRO/1dFrNqvdpwuLMn+JrktK0cnDaBw2Tx6l1aKXLKXhjhwFl0HZqpQHvW6rvqBnP643gFSUkCkoTa2J7jXPytbJySQf3Y1p2T51gjDKzv829p4brnFJhno2mzSAS63vYwHRa4JTO9ZghtX9MqA/taJXuNSbHCC42q0KsRHUoNvuS728mmamynZaxw7i9IsoMeImOyMpcsPeWjoJ9QrUk4WxN3wbBI3t386PPY5fv9A46mHSSP/sV5Yaj3O0aKNROdWUFZQPbqgQoyGPN//Or4EUuohsrnlfRjXeAXnW+jUAtqmjPX4B7yVv0a8NF/SbsmhD3D7/F1/4+DNozhWdNDl+CNvoregbMWWPQrToER+JZlMJOaMmd7sqCZSAHjWdkfboa7uVqwKRieISLHqkVG1EOMJF68/qGfADnaD/OeIgsnh+/ATh429s=', 'page_number': 2.0, 'rag_type': 'Standard', 'type': 'CompositeElement'}, page_content='3.2 Force Reduction / Release Elements.\\n\\nThis device utilizes a roller-bearing type geometry to achieve force reduction and to maximize mechanical'),\n",
       "   0.291354328,\n",
       "   None),\n",
       "  (Document(id='daa308aa-c8c5-4200-91a4-a7e7148c543b', metadata={'chunk_overlap': 0.0, 'chunk_size': 400.0, 'data_source.record_locator.protocol': 'gs', 'data_source.record_locator.remote_file_path': 'gs://processing-pdfs', 'data_source.url': 'gs://processing-pdfs/1999_christiansen_reocr.pdf', 'element_id': 'daa308aa-c8c5-4200-91a4-a7e7148c543b', 'file_directory': './document_processing', 'filename': '1999_christiansen_reocr.pdf', 'filetype': 'application/pdf', 'languages': ['eng'], 'last_modified': '2024-12-26T14:30:38', 'orig_elements': 'eJztlU2P3CgQhv8K8imHjJsPf8D8g9UmUaTMbTSyMJTdSDZYhs6kFe1/34LumUTJZpXLXEa5mbcoeCmewvdfK1hgBZ8GZ6tbUk18YqzXUwOss7JX02SNEJxKOmph2Fi9JdUKSVudNM7/WpkQduu8ThDLeNHncErDEdx8TKhwTinmXOVHZ9MRVdYXdQvOp5x3f88Ur1FiXHY1f3hLngXR9xdBclnz/xIuKahU8RwTrPkcH90XWD5t2kD1Dway3SGG047j7HIHg7aHJRidwl6kbQ8pmLDk7Dnmc+6whgTD5BYYNl18Y+T2cMCpBmJ0fr7Z7BTLDqd9+VX8wJRSgznuLianfQQ/7BDMXmPw4g4SmOSCH8yiYxwwf8TFaK2YaDFeHFiHptHsOW9TH2wwp3Jv3zarrlO9XvMpq//b9jo1nbcyVW/b4rAW6OFwDS/azyc9l2u9rwCXfyhqTMMarJscFGA45c0N4ze8u2PNraC3QubsDTMHf1pHyNXlRdm/YSZYq2wDwnCwFjQVxhhqdddOqm15w0pZEnzJBFVv7o5AVjBH7dHjQkxYt+BxsUjSUSeCFfjsLOAAyBTwiskO9lQKSqY9rCXA6N8fyBK0JTY8epJCUZfweEPAwz6fD/n7KX0BHXHB3c0z7HU+0FOl3mE1/8qQocMfm0d0tGNWCNMZ2UnORSfath+VVcYa1bcv2DxtrXJrSFGrS/NchKahtbj0SlO66SfhkvIam0eqRsg/3VO654noK68Re8jHfDI/kzARf0okwnwJaW/JGJb029jzdrISOj42nWAIupx4o6S0Bkbacdq/GPacsloWqGXdZ6ifBfxFtFloVPcLoaS8SuxZ0/I/2L8hmftFJ3PMkD+B/7tM4+PRSqDKdh0FwZlQGtFpOB255VR3L/iUywJoy9iF6WehYXVXEKaqvO0/CyXlVTLdSKVeBdPfIypqRj7ubgXyPnzG8Hdo3rm04I09/AtsCKbr', 'page_number': 2.0, 'rag_type': 'Standard', 'type': 'CompositeElement'}, page_content='(The mechanical components that provide the force reduction from the 10KN load down to the low- energy/low-force release trigger.\\n\\n(The release elements consisting of nut segments and bolt.\\n\\n( The latching elements\\n\\n3.1 Prime Mover'),\n",
       "   0.284224063,\n",
       "   None),\n",
       "  (Document(id='423efe00-346c-4fb3-b9b5-b88bbadf5336', metadata={'chunk_overlap': 0.0, 'chunk_size': 400.0, 'data_source.record_locator.protocol': 'gs', 'data_source.record_locator.remote_file_path': 'gs://processing-pdfs', 'data_source.url': 'gs://processing-pdfs/1999_christiansen_reocr.pdf', 'element_id': '423efe00-346c-4fb3-b9b5-b88bbadf5336', 'file_directory': './document_processing', 'filename': '1999_christiansen_reocr.pdf', 'filetype': 'application/pdf', 'languages': ['eng'], 'last_modified': '2024-12-26T14:30:38', 'orig_elements': 'eJztmF1v2zYUhv8KoWtb5qdI+mqem27BACeIXWBDEAgUScUCZNGQ6LZB0f8+knLWrPOK5sI3Ri7PS77iIfmIOOT9l8y2dmc7XzYmm4OM1rUymFeKW2NrKguEkRKUW1woAkmVTUC2s14Z5VXo/yXTzvWm6ZS3Q4pb9eQOvtza5nHrg4IxhMFzlD81xm+DinhS967pfPTd31Mu8iChgufiYQL+iSXKaYwRLlhOTwnJEZRseBq83cVZ3DafbbveK22zr6EhJlsO7tCHOObYWx2SLlunlXd9kva98067NrofhzjL3u6ct2XdtLbcq5R1aJnPZqGrtsPQdI/TvamHNMKhb/+vfYaklKXe9s3gG9UNtit763Sfh8YxO+ut9o3rSt2qYSiDvwofgzlnmBehQ0rBNCHrkO1THCefGacPadu+jZYdu3ZqF6eZ/WjcY1f/tE9d1X7fNmExQhKzY3OruseDeky7ep/Z8PmHpA6+3DnT1I1NvGCI6RThKS42iM4JnBMR3fvgLLvDrrJxeVGcprefIw/Z+8V6AxbLzfXqN7C6WU1v/7q72Vwtf19dLwGCf6zA+up2cbfYXN+swOrDJn7tOc1N49u0o99TW1WsCEgyVUtDsZVSVciKQAjXjBOIzkYtC5TyCcAEjtQ+x4zlRYIUMZmLU0JyXCS1VAhxcdSutfMeLF/kNQGjtmmqqvF+mIB36mNjwDv3yXY/RS3VSlQVFbWlQgoqqGa1EnUtsMCygvps1HLIcxwYlGQ8So8xQQHeBCkkLEcnhNFxidQWqBD8IqhNSv+Ks/FfmHvVh60Fd3awqtdbsHT93vUp25dMr1QfxY92E42nTmQlIKeoMgQZqa3liiGkKh2yMbTi56sjeGA2HD8E8xwmto8xg8eyISxiYvs/QnJcItsEYsne2KYSSrBSB9+0hyGAfeg9WLk+7MhrwDbUclYxobDE0EpGC2W5UJpYRaTh4nxgYxYLYsL4WEk8xwKPoCOIyGkhOS4R7LDPhLyB/as7tMb2E7C8AQIyGJbkw3rxKqptPJoRwpgWSOlw05OGUFtBLKhlBYLnK6BDRREPXxl2MxXQY0wDunisl6nIixPC6LhMqhmkb1RvAqH7revsHBBIpozAKZKYgRl4v/jzm4bpeL37adQhroky8YWD2SoUKYrrALk1hikpTFWc74WjILESoRjnKL1wHGPKcjk+aHCck1NCclwi6oTT4q0yya6mO9W0czDEC6X+ZRiL8Fy7XaA9iU/fiSZeMs1L8Qf/wMPf1J04kQ==', 'page_number': 1.0, 'rag_type': 'Standard', 'type': 'CompositeElement'}, page_content='FAST ACTING NON-PYROTECHNIC 10KN SEPARATION NUT\\n\\nScott Christiansen, Scott Tibbitts, David Dowen\\n\\nStarsys Research Corporation\\n\\n4909 Nautilus Court North\\n\\nBoulder, CO 80503, USA\\n\\nTelephone: 303-530-1925 / FAX: 303-530-2401\\n\\nE-mail: scottc@starsys.com / scotty@starsys.com / dowend@starsys.com'),\n",
       "   0.283973068,\n",
       "   None),\n",
       "  (Document(id='5464aae9-4a08-48cc-8e9f-4242570d6709', metadata={'chunk_overlap': 0.0, 'chunk_size': 400.0, 'data_source.record_locator.protocol': 'gs', 'data_source.record_locator.remote_file_path': 'gs://processing-pdfs', 'data_source.url': 'gs://processing-pdfs/1999_christiansen_reocr.pdf', 'element_id': '5464aae9-4a08-48cc-8e9f-4242570d6709', 'file_directory': './document_processing', 'filename': '1999_christiansen_reocr.pdf', 'filetype': 'application/pdf', 'languages': ['eng'], 'last_modified': '2024-12-26T14:30:38', 'orig_elements': 'eJx9Ustu2zAQ/BVC50SmHrYs33rprQ80uQWBsCbXEgGKFLhUHCPIv3dJOyjaoj3uzOzu7OPprUCLM7o4GF0cRLFtmtNJVlXb1HvVntS2Atxp2Ukpm1oqKO5EMWMEDRFY/1Yo74M2DiJSji1c/BqHCc04RUbqWkrOucFno+PEaNVldPHGxZT39FT1+5KhetuV8vlOfMRt15V9ivd1X3Z/x1c9AwVdKOKcZvhuXtE+LKCweGciWR3Ir4Hj5DCgYsuD9QqiDxlago9eeZuyR0ozBpx9xOFkLA4LZM/MHDYbliokMm68X/SJcoc12H/xm6rv+0FNwVA04AjdENCrUDJ5dYcRVTTeDcoC0cD5Ry4my37b7ioWZAvasGt2e0l9yo32as1H+9WtuEkdzGnM4n99b9J4WbIUlsUaXgab2NxoC25cYcw3fSqQyz9nlOIwe21OBvO31LJu76v6vt49Vu2hkYdmn7IXzhzcOh8xrbfJSPj1Y3utemxl30PfNfIoa13v+E22bdupTupd3kvE1/Q+xQ/+TyAU/iTihGJGNYEzNAvlHfFwlBg+H9t3Y5ZYiGoSEGZxNnHK0MOXTyIGM44YGAxIYnXR2MxFP46WEXYonBfWu6RK1WMA41CLANqAtZdSfHMK/+gxAV3bs1Cx1XD3W9XZv7D3NZ4haAFOZ5JjbhH4QW+pxPqsSGy4TqzF4smkowhuoZFUMEdG4cglS/HZjCs7rgVN/szuhQqeSND1mTL6sZAjkFE3y8rPi3d8CyrTpT5e4CuEwBt8wce09vfnn5VoWJY=', 'page_number': 3.0, 'rag_type': 'Standard', 'type': 'CompositeElement'}, page_content='Release of the mechanism consists of rotating the latch arm with the SMA trigger wires until the toggles are no longer constrained radially. Once the latch arm has rotated clear, the toggles move outward and the outer race rotates toward the released position as described above. Figure 2 shows a cross section showing the basic latch components.'),\n",
       "   0.280883819,\n",
       "   None),\n",
       "  (Document(id='9cef5ba9-3e3f-476f-a6cd-de3dd3923810', metadata={'chunk_overlap': 0.0, 'chunk_size': 400.0, 'data_source.record_locator.protocol': 'gs', 'data_source.record_locator.remote_file_path': 'gs://processing-pdfs', 'data_source.url': 'gs://processing-pdfs/1999_christiansen_reocr.pdf', 'element_id': '9cef5ba9-3e3f-476f-a6cd-de3dd3923810', 'file_directory': './document_processing', 'filename': '1999_christiansen_reocr.pdf', 'filetype': 'application/pdf', 'languages': ['eng'], 'last_modified': '2024-12-26T14:30:38', 'orig_elements': 'eJzdVD1v2zAQ/SuEZlsWaVkf3jp0a4uiCdDBCASaPEsEKFIlqTpGkP/eI20nadAU6NAlg2Hz3b27d8dH7x4y0DCCCZ2S2ZZkjRQtlEXb8rZeF/uCSVYxVmzKshZ1IatsQbIRApc8cMx/yIS1TirDA/h01vxk59ANoPohIILkAjkX+KhkGBCldUInq0yIvN2upW1eLQgtmjandwvyBFB6ASjd1Dn7I3ImIZT5kw8wxkm+qnvQNxMXkD1iIAruvJ0dnqNOBwKFd9oKHqxL0ORssMLqyO59nNTBaAN0B6Whm3hSjpHtaoWpArxXpl9O8uBTh9npt+Ir2rZtJwanfFDceDCdAytcjsGzOggggrKmE5p73yF/j8WKvCkb1mBCkiAVqka1p9gnX0kr5nR1z92yS6rhYxwz+1vfS2o4TSmVT5NWuAwUsbqENTf9zPt0s7sMsPxdQn3oRivVQUHyDCtYuaRsyapbWm7XxXbdRPaEzM7M4x7ielkcM8B99ES2ztfkEw9iIB/P7kvbviq5VUGnS3ttTtqwfV1XragqxsuKVrypSrZGM1JO95v9fzVnct6G5e3VnBFYl/RixU3ZvIGcSe/RnO2mYPRdmDMh7h/+Bl+6+fuASkkY8GPdjzl+EYfO5f6MjiAGbpQfycA92QMYDMtZgIyZPObiZD9Bn4i2R6IBfy6ICgT3ojVRnhgbUgiMnfsh1bcBXU3OS0fiHBecut18/kCOCOfkG5oCHILcEB7QeVOIVOmwV0q9inyqclRh+K3IIp1w+85yfK328KoRlgtO9T224cSDPixT+ZhyLa7TO8chZg8yf/nOv3Dn0uC3cZGPd78A62AWkQ==', 'page_number': 2.0, 'rag_type': 'Standard', 'type': 'CompositeElement'}, page_content='3.3 Latch Elements\\n\\nWhile the torque to release the mechanism has been reduced to a relatively low level, it still is not low enough to rotate directly using the SMA wire. Rather than attempt to drive the release directly with the SMA wire, the approach of using the SMA to trigger a self- driving release latch is used.'),\n",
       "   0.279704064,\n",
       "   None),\n",
       "  (Document(id='6dd5d238-e6fb-4a47-9457-063c001a3dcf', metadata={'chunk_overlap': 0.0, 'chunk_size': 400.0, 'data_source.record_locator.protocol': 'gs', 'data_source.record_locator.remote_file_path': 'gs://processing-pdfs', 'data_source.url': 'gs://processing-pdfs/1999_cremers_reocr.pdf', 'element_id': '6dd5d238-e6fb-4a47-9457-063c001a3dcf', 'file_directory': './document_processing', 'filename': '1999_cremers_reocr.pdf', 'filetype': 'application/pdf', 'languages': ['eng'], 'last_modified': '2024-12-26T14:30:40', 'orig_elements': 'eJzdVE1v2zgQ/SsDnRLAkUlJluRc2/0IiqaL1ntKA4EiRzYRShRIKolR9L/vkPGmxbYFdg89bC4G+OY9zpvhk28+ZWhwxCl0WmWXkLXtpmnbXtGvVI3krCpQDJILbOXA+ZCtIBsxCCWCIP6nTFrrlJ5EQJ/ORhztEroD6v0hEFIUjJHmBD9oFQ6E8iahs9VTiLqbm7KucoK2VZHz2xU8n+syr+O55nVefOec+ARk/ugDjnGGP/Qjmg+zkJh9pkK02nm7ODpHhw4lWe6MlSJYl6DZ2WClNVG993FGh6MN2A3aYDeL5Jkql+s1USV6r6f9xawGnzoszvyovubb7baTdB063zm00uWEPxnDgDJoO3XSCO87kvZ0D8vbesNrIqTuSpNhMnqMLfK1snJJ7/WlUXaiTmKME2Y/aHliheOcWGKejaYVUP/1qWzEtF/EPr3kTYZ0821CfehGq/SgMWWkYEV1wYuLot7x6rJklxWL6pmU3bSMPcal8jhhwMeQHOVwdb17/+71n692V++uI/tvGzsdTHqnfyaxV6pvZNUoqUShirqU5XYjtrWo2dD3g/ppSeS8YnlF0WpYvolRewa2zVM2edE03weS5KWlsWjZi0pjmcPrXz5c/fbvcqiUGrAXdStY37RVqYpy03DGVVnLsh+an5dDytR2BZyxMmcpZSeAtxS2CLSsjan7FniSvLAcbsu2KP/vOUyI+w//cl8Hd3dAePv7+7dw5hFh0PvFoQcOYlJQnIP2IGCwxtiHCzuBwns0do5rATtAIDE+ah9oN+Ao48Jj5GjaF6kc/Grv7tBBigh4a4QD4Zw4epKKsIKZigdrlLIPE6ScrmAUdwgLXUQNxAR0qwyO9mfMEQ5In4ACMu1GYeDNpAeEs2UOFmjLzj7qkQhE3DIGHxfGevbqHKiKPojeaH94ttkfQS4hOacuwolRKzh7g/dk8vyLKUkyzL/+qq/jBEHf4y6u8PPtX56O0+k=', 'page_number': 1.0, 'rag_type': 'Standard', 'type': 'CompositeElement'}, page_content='1. INTRODUCTION\\n\\n3. DESIGN\\n\\nThe MHRM (see figures 1 and 2) is a follow-on development of the existing release devices for Fokker Space solar arrays that, per holddown point, make use of an electrically heated Thermal Knife (upto approximately 900 °C) to establish release by cutting an aramid (Kevlar) holddown cable.'),\n",
       "   0.276650935,\n",
       "   None),\n",
       "  (Document(id='02b8f407-7989-4dbb-a606-41d7be45b274', metadata={'chunk_overlap': 0.0, 'chunk_size': 400.0, 'data_source.record_locator.protocol': 'gs', 'data_source.record_locator.remote_file_path': 'gs://processing-pdfs', 'data_source.url': 'gs://processing-pdfs/1999_christiansen_reocr.pdf', 'element_id': '02b8f407-7989-4dbb-a606-41d7be45b274', 'file_directory': './document_processing', 'filename': '1999_christiansen_reocr.pdf', 'filetype': 'application/pdf', 'languages': ['eng'], 'last_modified': '2024-12-26T14:30:38', 'orig_elements': 'eJztVk1v3DYQ/SuETj3YWor6IOWbgTpFADdt7W0vjiFQ5GiXqFZSSSrOwuh/75BaOwa8KZCDLwsf3/CRnCHfI+fuMYEedjD4xujkgiSKAVTAOKvyTokKqg64EFwLyTjITCZnJNmBl1p6ifzHRI2j1WaQHlzEvdyPs2+2YDZbjxHGKMU5h/CD0X6L0YzH6DSawYd5d3eM5ml2RspCpNX9GXnGvEyLgKsiT/MjOPIxkLi987ALNfxuvkJ/O0kFyb84EFJt3DhbxCFDCwpTbvpRST/aGJrs6Ec19mH2xoUaLexGD01nemgmGXPGkYvVCqkKnDPD5nzSnYs7zLb/3vgqq+u6UVtrnDdycDA0FkZlUxxcsgMPyptxaFQvnWtwfouL0VQUGeNIiClog1ljtvuwT7rSo5rjpX3bLTlQB7kLZSb/t++B6vdTpMpp6g0eBiaxOgz3ctjMchPv9C4BXP4+Rp1vdqM2nYGoFkZZcZ6xc1ats+Iipxe5CLMnnNkM866FcLx5KNPD16CGpEjJb39d3VxeX5Ofr24//vKJfLi6XP95c3UbJj5ltDa+j5f3Sp5Ulx1XqpSUC9ZRyfOsLGqhs6JWnRZvKM8sFWekyrKULvKMGHmLHAXjaf0aL/xTlGfNBM1PQp4xYn/gCXyp5w9mM1sgOTGOSDJt8aI2Vk5bMnbEb4H88fD3MHsiBx1hO/aeWPBWhuNaYVVqC5aYIY6qcejCerFWjEhPttKRFmAg/8yyj4WlL43ySdrA/gLrkM8Rw+iacdpRjnptsYZKMVXpUmqOYd2V+RsapgjvM89FyhbDLLiqFlyVNK2O4Mg/RcMIWtPi3TBr1PkO1FYOxu3QCj1IB8QZHeXvsDyH3rn4IZEz1kEhc2h5mesyl7noAHitMl2xulTqzUSe1WUULWfLr3DAIsfPYfkF8Pl/jRf+SYq8prR8F/kjuf31kjxg/cRbs9mAdeTzjG9wEd/5b/rHX+NAAE3aPfpBz4OWg39eAL8VRzQ4ZU2LHNmOX+ClOa7xrD4GDR3xRa1kpijvRJELynhRyVa1FFsonhUUIHs7XwgeuiORV0sz/4Rr/uSDOuVHcOSfpC9Eyep3X/xEbkYv7f753e9DA/RkjfA1PNsFLxFlGO2ykKTdET9iq2TwDHAEFYidEzZSsHCx4OO+uP8PwBK1DA==', 'page_number': 3.0, 'rag_type': 'Standard', 'type': 'CompositeElement'}, page_content='4. OVERALL DESIGN FEATURES\\n\\nFigure 3 is a photograph of the Qwknut and the bolt retractor/catcher in the configuration that has been qualified.\\n\\nThe mechanism release side consists of:\\n\\n{ SMA wire triggers — the mechanism is triggered by redundant SMA wires as described above\\n\\n( Rotary release latch — The triggers rotate the latch arm to initiate outer race rotation'),\n",
       "   0.272448033,\n",
       "   None),\n",
       "  (Document(id='15fd3c69-1ee3-47b5-bf67-dd537021b113', metadata={'chunk_overlap': 0.0, 'chunk_size': 400.0, 'data_source.record_locator.protocol': 'gs', 'data_source.record_locator.remote_file_path': 'gs://processing-pdfs', 'data_source.url': 'gs://processing-pdfs/1999_cremers_reocr.pdf', 'element_id': '15fd3c69-1ee3-47b5-bf67-dd537021b113', 'file_directory': './document_processing', 'filename': '1999_cremers_reocr.pdf', 'filetype': 'application/pdf', 'languages': ['eng'], 'last_modified': '2024-12-26T14:30:40', 'orig_elements': 'eJzlVE2P1DgQ/SulXHZXmkk7H+4kc2MRuyA0KzTTEofRKHLsSrc1iR3ZDkOD+O9bTnqWESxIHDgAx3r1ylVlv+eb9wkOOKIJrVbJBSRbXpeq50UuCqnKvikbkXU55z3vZZfxLDmDZMQglAiC+O8Taa1T2oiAfokHcbRzaA+o94dASJ4zRjUn+F6rcCA0qxZ0stqEWHdzU2ZlWp5B2ZRpdXsGDzHPqjXmW542n8crn4DEH33AMe7wSr/F4XoSEpMPlIijtt7OjuI4oUNJI7eDlSJYt0CTs8FKO8TqvY87OhxtwLbXA7aTWGamzMVmQ1SJ3muzP59U75cOsxu+lN9kTdO0ko5D51uHVrqU8HUwDCiDtqaVg/C+pdKOzmFpXZa8JsLSXWkamAY9xhbpRlk5L+/1sVFyohoxxg2TL7Q8scJxWlhimgZNV0D9N6f0IMx+FvvlJW8SpJNvF9SHdrRK9xoXjeQsL8+z/Dzf7rLyomAXJYvVE1W2Zh47jJeaxQ0Dvo0aSJ78eb27evJ0F2kP/Xc6DMsDfSrBmhdbrKu667BSXFSqwzyqcqsqVZVCfTcJZjVLM5IY56vETnHFtimLcc1YlNyn8cr/ySTYZPm2+NEluCDuGz63x5p9rcNBGwgHhN7RWvfW3YHt4dn17tnT3zz8fb17dZ4D3cGe0iOCAIP3cDkPQU+zm6xHeG4Hpey9AWEUtHBFQhcEX6I8CKP9CL9fPr+6/AO0hw7pGkHhGxzshAq6I/xl7+7QwSKjFF6ESCOxolGUF54autOBs9EBeutgjwadGODRzaaPTfePcI7QN7iLW/6P+XKRM5HJvioanmes42WR10zVqmgEQ5LvdzNfVaVbMlfG03ox3xrXrFjNWDOe8s/jlf+TmY9+GMZ/afO9MODncRTueLY4MDqLvKElRhOQ5jUZI1iQsw921O9wUb8wj4VPhWL17+TQ0yCwO6AbyR0vje4RNiDIuFrB4cGlUnQDQkeOUv9Za3zwqv+akW7/BRlH8cw=', 'page_number': 1.0, 'rag_type': 'Standard', 'type': 'CompositeElement'}, page_content=\"ABSTRACT\\n\\nWithin the framework of ESTEC's GSTP-2 programme a new Multipurpose Holddown and _ Release Mechanism (MHRM) is being developed by Fokker Space. It is intended as a release unit for general application.\\n\\nIn summary, the new device is easier to customize for an application than the present Thermal Knife / aramid holddown cable based release mechanisms.\"),\n",
       "   0.264671236,\n",
       "   None),\n",
       "  (Document(id='de66964c-41c7-4fb9-b003-6808cfd38179', metadata={'chunk_overlap': 0.0, 'chunk_size': 400.0, 'data_source.record_locator.protocol': 'gs', 'data_source.record_locator.remote_file_path': 'gs://processing-pdfs', 'data_source.url': 'gs://processing-pdfs/1999_christiansen_reocr.pdf', 'element_id': 'de66964c-41c7-4fb9-b003-6808cfd38179', 'file_directory': './document_processing', 'filename': '1999_christiansen_reocr.pdf', 'filetype': 'application/pdf', 'languages': ['eng'], 'last_modified': '2024-12-26T14:30:38', 'orig_elements': 'eJzlVk1v3DYQ/SuETj7EWpL6pG85BGiAwgnizckwBIoc7RKVRIGk3GyD/vcOubvJIrXTkw9xj3zz9YZ8Q8z91wxGmGAOndHZDcloA7JQvdaasbamHI8VUF00rS6hrZvsDckmCFLLINH/a6asddrMMoBP51Ee7Bq6PZjdPiDCOaUYc4L/NDrsEWVNQhdr5hDj7u9FXecIMSqqvH14Q74BTLCcR4Dxpsj5k8gxCKHMH3yAKXby0XyB8W6RCrK/0RAJd96uDs+RpwOFxLvRKhmsS9DibLDKjjF652OnDiYboBvMCN0iE3O03Gw26KrAezPvrhc9+FRhdeNz9g0TQnRq74wPRs4e5s6BVS5H45EdBFDB2LlTo/S+w/gek9G8KDlDe2KgDZJGsodYJt9oq9b0ct+LZSfXWU6xy+xnZU+u4bAkV7kso8G7QA6bk3mU826Vu/Sw9xlg+oeE+tBNVpvBQJIMp7y8Zvya11tW3hT0pmhj9IKR3bxOPcTbZQlx34U2SF7WTdMPuiil7vuKoeAG1faFlKJqaLqWAF+ihrLl4Czxe6v+IJ/AQwiyN6MJB7IhDlZ/Pv2GmkNgNGdgArWXs/FTJHTu9FY6h30+wjZmxzI/zkBVS1C8pGzgoii0HKgcpCj7mut6EK14uRng9DQDTU7TDJwAJoojwCgtn0GOQb/wDPzPNX51a8kVubpU6ucZycLOOvMX6OfUWsqC11UrG02boo9FBql5yxjUlW6G9sXUymjV5DUqj1dtXh61eEba9viJM5yiXDyNpKhfWK/P/tmNEHX1KgR9qU+ekw8f3316u33/4fbt7+T93d3nd3eXat2aMMKT/ynlvKrbRrWCSQpVXzKltG44UKpaVbyYQtEtrQdFWedFFN8ZKIU4Ai1v8uIp4BjyGtUpsFf+KtT543f7nz/hpZy3hwW5jeOBeMAsiSWZ1+AJpoxLBEgPmoS9sytuFWEPRKb7JHYgO+nJDmbAsAsfvHI7y7OPJHFrwUfYz0YR3EPcDnKyxTxeDphs1gSGIb7RI5DVw79jvm0vxHjSJzqY2tsJyCM4JB6cUYGgjx7xpchZbflPtp2HfwCncccl', 'page_number': 1.0, 'rag_type': 'Standard', 'type': 'CompositeElement'}, page_content='pyro shock Resettability / reusability High reliability mechanism\\n\\n(No ( (\\n\\n2. OPERATIONAL ISSUES\\n\\nTypically separation nuts are released through the action of gas generated through detonation of a pyrotechnic charge. The safe and effective use of a pyrotechnic mechanism is based on some very strict handling protocol.'),\n",
       "   0.254858792,\n",
       "   None),\n",
       "  (Document(id='5302a6f8-27ba-4240-b10f-7de74e070cf8', metadata={'chunk_overlap': 0.0, 'chunk_size': 400.0, 'data_source.record_locator.protocol': 'gs', 'data_source.record_locator.remote_file_path': 'gs://processing-pdfs', 'data_source.url': 'gs://processing-pdfs/1999_christiansen_reocr.pdf', 'element_id': '5302a6f8-27ba-4240-b10f-7de74e070cf8', 'file_directory': './document_processing', 'filename': '1999_christiansen_reocr.pdf', 'filetype': 'application/pdf', 'is_continuation': True, 'languages': ['eng'], 'last_modified': '2024-12-26T14:30:38', 'orig_elements': 'eJx9VU1v2zAM/SuCz6ljO2kS97bLgB02DFiBHYrCUCTaFiaLniQvC4b995Gy06RAu5Mjfj4+PilPfzKwMICLjdHZg8ha3R7qzb083pebai/pdKhltStUXZdlcaiylcgGiFLLKCn+T6YQvTZORgjpbOUZp9j0YLo+kqWqioJyFvPJ6NiTtdwn64jGRc57eqrLQ06mcrOv8/J5JS6GqijL/MCG8n67zXdvWZYkMmXhHCIMPMlX8xvst1EqyP6SgwE3ASdPZ8bpQRHwxqKSEX0yjR4jKrSc3QWe1MOAEZrWWGhGmZCT52G9plAFIRjX3Y26DanD5O17/nVZ13Wjem9CNNIFcI0HVD4n54wOIqho0DXKyhAayj9SsSKvt0W9oYAEQRtCTWjP3Cdfa1RTWt21W7aEOjnwmNn/+i6h8TymUDmO1hAZBGK9uK103SS7tNmnDKj8c7KG2AyoTWsgaaYqqu1dWd1Vu8dy+7ApHjYHzh4ps3HTcASmt0oWf1XaQasaaLpa1vtNcSwqXe1ILLTSvdoXepd4ifCbRZQ99iBIP+CFp4UKE8TRyABaRDxJTx/2j+DEiMHwCGJiOkQYPX3CSkinhRRWRtVztnG0/RE9yZZrCE+SNm4uc9NmtiiL3Opa2kVjk+fb5w9cLXrTdeBB54KBzl0UukC0B0EQBumNPQtsRTwh9es6CwxqCZV+mBGy1yGZIFyat/Z86gHsXHpJpQwQAxIQwsWBlDei+gHUjgDimLCCCEZTMLel3AFUL50Jg+hxZif2MgppLZ5SwKU484GRqMnF9544XZAkrDc8rJL1HbhU1nROnEzsb2vfEkRTM3kpcN6CkmOcaDKmokerX6Eybt40ChIiSetae4GQi0+MgUq+bIq9aRQ6SCssSi1aj0NyLNpgDLSrX+AXLUhavjaX8Nh7nLpXQyxiinQ7SM4vkfSU4dtEL1NzEIlkShd9Jox6h8jDoFKTD6+6eZBzJPWx1zXeguAztC0/Hb9Ip0i/jTIEioNbb+b8I8QTgHsz+2UVufh4iSdRJGQ0EPh2uW9EUfRoLVwpkaLnjSgkfklNaR+SBhtGDx3/I+iV0P58R6/MIOx0pPrSxVx8WKhfbl14DeQ9ufE9Qs8LWq7bC7GRNkz3Ef3PCfjhubxoX6SnC07MPPIr8vf5HwFKYBY=', 'page_number': 2.0, 'rag_type': 'Standard', 'type': 'CompositeElement'}, page_content='position, the notches in the flywheel align with the toggles. The latch arm is aligned to capture and hold the toggles inward to engage with the notches. In this position the rotational load from the springs is converted to a radial load through the toggles and a tangential load into the mechanism housing. The load reduction in this stage occurs through the reaction angles of the toggles and the'),\n",
       "   0.252171814,\n",
       "   None),\n",
       "  (Document(id='4ad576a4-9050-408b-b35c-bbf0a35cc830', metadata={'chunk_overlap': 0.0, 'chunk_size': 400.0, 'data_source.record_locator.protocol': 'gs', 'data_source.record_locator.remote_file_path': 'gs://processing-pdfs', 'data_source.url': 'gs://processing-pdfs/1999_christiansen_reocr.pdf', 'element_id': '4ad576a4-9050-408b-b35c-bbf0a35cc830', 'file_directory': './document_processing', 'filename': '1999_christiansen_reocr.pdf', 'filetype': 'application/pdf', 'languages': ['eng'], 'last_modified': '2024-12-26T14:30:38', 'orig_elements': 'eJztVttu3DYQ/RVCTw7g1ZK6kvsRRVq7T4YhUORoRUQSBZJaZxv03zvkrpvUsAP0wQ9pA+xC4uGc4XB4RpyHLxlMMMMSOqOzA8l6XrVlVbaSVwIG3je0HPq6UbRgemCtyG5JNkOQWgaJ9l8yZa3TZpEBfBpP8my30I1gjmNApCgoRc4VfjI6jIiyNqGrNUuIvIcHwUTe3hJOWc4fb8nzWPA2r+OY1VWbl68AFwYimT/7AHPcxUfzGaa7VSrI/sSJGGzn7eZwHGN0oDDobrJKBusStDobrLJTZB993KWD2QboBjNBt8oUNc4c9ns0VeC9WY67VQ8+rbC56a35PRNCdGp0xgcjFw9L58Aql+PkJToIoIKxS6cm6X2H/B6d0VyUtcAUZCkEbTBqjPYc18n32qotHdvX1bKr6SLnuM3se+teTcN5TaZyXSeDycAg9tfpSS7HTR7TqT5kgO4fE+pDN1ttBgNJLwUtqh0rdkVzz6pDSQ8lj+wVmd2yzT3E9LKEuK8qG2RRNW3bD7qspO77mjHGB8X7UkpRtzTlJcDnKKDsfgSi4WRUfHjlTA+amIWE0XiyyhXcLb4DuQvSoQTIb+BBOjWSX58+LVsgKEDUGtpKMyNTBjJLlB3+MWmJCdIDsQPZLg9JPGC4KR0kengaMVfE2+kUGR5O4OQULSPZLMouJ1gMbo/Es8N6wrW8t8pgVWjyZMJIgpPaRIdI/Kd3n5O7Fx7n1bog0R3u1xwXMoAMmwP06uAQ0/t8br9IFx2d4D7mCpP2spxpz1hf9aKStJFlyyVmeOC6qHU9CMH4+5VzQXOEhGhzmsr5Mma0Fs8AfxW4MH7gcv6fV+tN15GbbzX6+4KhwtE68wfot3RaioKVg6CFbmShaM2qgbcCtOrbougr+n46rXnOouqavEoqvIwZLcpcpGumrIu8eg25cH5gpb558dR429c/pXx/XjG2l9/rdFvs7LDD2+JffYt1y2sB+Gtoz7GvYjWjLRuY0lIoVqr303hDc54UzC+t098Av6o+9VJvIIn0X1R5KVjDf6r849nZ3bpN2PsoO+NRmN5MJpzJDcpXBZdKAHsl3GUqgdiRyOnDd6T/+Bd80OsK', 'page_number': 1.0, 'rag_type': 'Standard', 'type': 'CompositeElement'}, page_content='The device described in this paper, the Starsys Research Qwknut 2000, is aimed at maintaining the ease of use of a separation nut while solving several of the inconvenient problems associated with traditional separation nuts. Several of the important design features are:\\n\\n(__ (\\n\\nTypical separation nut ease-of-use\\n\\nPyro-pulse compatibility (electrical initiation signal)'),\n",
       "   0.250813097,\n",
       "   None),\n",
       "  (Document(id='306c7940-db3c-4381-8697-111e32dcb7e6', metadata={'chunk_overlap': 0.0, 'chunk_size': 400.0, 'data_source.record_locator.protocol': 'gs', 'data_source.record_locator.remote_file_path': 'gs://processing-pdfs', 'data_source.url': 'gs://processing-pdfs/1999_christiansen_reocr.pdf', 'element_id': '306c7940-db3c-4381-8697-111e32dcb7e6', 'file_directory': './document_processing', 'filename': '1999_christiansen_reocr.pdf', 'filetype': 'application/pdf', 'languages': ['eng'], 'last_modified': '2024-12-26T14:30:38', 'orig_elements': 'eJx9VU1v2zAM/SuCz6ljO2kS97bLgB02DFiBHYrCUCTaFiaLniQvC4b995Gy06RAu5Mjfj4+PilPfzKwMICLjdHZg8ha3R7qzb083pebai/pdKhltStUXZdlcaiylcgGiFLLKCn+T6YQvTZORgjpbOUZp9j0YLo+kqWqioJyFvPJ6NiTtdwn64jGRc57eqrLQ06mcrOv8/J5JS6GqijL/MCG8n67zXdvWZYkMmXhHCIMPMlX8xvst1EqyP6SgwE3ASdPZ8bpQRHwxqKSEX0yjR4jKrSc3QWe1MOAEZrWWGhGmZCT52G9plAFIRjX3Y26DanD5O17/nVZ13Wjem9CNNIFcI0HVD4n54wOIqho0DXKyhAayj9SsSKvt0W9oYAEQRtCTWjP3Cdfa1RTWt21W7aEOjnwmNn/+i6h8TymUDmO1hAZBGK9uK103SS7tNmnDKj8c7KG2AyoTWsgaaYqqu1dWd1Vu8dy+7ApHjYHzh4ps3HTcASmt0oWf1XaQasaaLpa1vtNcSwqXe1ILLTSvdoXepd4ifCbRZQ99iBIP+CFp4UKE8TRyABaRDxJTx/2j+DEiMHwCGJiOkQYPX3CSkinhRRWRtVztnG0/RE9yZZrCE+SNm4uc9NmtiiL3Opa2kVjk+fb5w9cLXrTdeBB54KBzl0UukC0B0EQBumNPQtsRTwh9es6CwxqCZV+mBGy1yGZIFyat/Z86gHsXHpJpQwQAxIQwsWBlDei+gHUjgDimLCCCEZTMLel3AFUL50Jg+hxZif2MgppLZ5SwKU484GRqMnF9544XZAkrDc8rJL1HbhU1nROnEzsb2vfEkRTM3kpcN6CkmOcaDKmokerX6Eybt40ChIiSetae4GQi0+MgUq+bIq9aRQ6SCssSi1aj0NyLNpgDLSrX+AXLUhavjaX8Nh7nLpXQyxiinQ7SM4vkfSU4dtEL1NzEIlkShd9Jox6h8jDoFKTD6+6eZBzJPWx1zXeguAztC0/Hb9Ip0i/jTIEioNbb+b8I8QTgHsz+2UVufh4iSdRJGQ0EPh2uW9EUfRoLVwpkaLnjSgkfklNaR+SBhtGDx3/I+iV0P58R6/MIOx0pPrSxVx8WKhfbl14DeQ9ufE9Qs8LWq7bC7GRNkz3Ef3PCfjhubxoX6SnC07MPPIr8vf5HwFKYBY=', 'page_number': 2.0, 'rag_type': 'Standard', 'type': 'CompositeElement'}, page_content='The outer race is biased toward the open position using springs, and a latch is incorporated to retain the outer race in the closed position until the SMA is triggered. The latch consists primarily of two toggles, a latch arm, and two notches in the flywheel. The toggles are mounted in two pockets on opposite sides of the mechanism housing that allow the toggles to rotate. When in the latched'),\n",
       "   0.24729459,\n",
       "   None),\n",
       "  (Document(id='6a808f51-f8e5-4d3b-a8e6-18f38e05ab06', metadata={'chunk_overlap': 0.0, 'chunk_size': 400.0, 'data_source.record_locator.protocol': 'gs', 'data_source.record_locator.remote_file_path': 'gs://processing-pdfs', 'data_source.url': 'gs://processing-pdfs/1999_cremers_reocr.pdf', 'element_id': '6a808f51-f8e5-4d3b-a8e6-18f38e05ab06', 'file_directory': './document_processing', 'filename': '1999_cremers_reocr.pdf', 'filetype': 'application/pdf', 'languages': ['eng'], 'last_modified': '2024-12-26T14:30:40', 'orig_elements': 'eJzdV01v3DYQ/SuEzrZWIkVKdI9p0hqpXcM10INhCPwY7gqVRFWi7CyC/veOqHXjphsUOfjgPepxHmc4evNE3X9OoIUO+lA3NrkgSeVAWcuAs6zUUjijhKOMg8udA2Gy5IwkHQRlVVAY/zkx3o+26VWAKT63au/nUO+g2e4CIpRmGXIO8FNjww7RvIzo4Js+LLz7e0aLlJ3hQpmn1cMZ+QJItgKCV2l+FIgURJJpPwXolnPcNJ+g/W1QBpK/cGEpt578POLzUuUIBsuuW29U8GOEhtEHb3y7sLfTcs4ROh+gdk0L9aBi3bhysdlgqIFpavrt+WDdFDPMY/ut9U0upawNbgfjVI/gzZgivhYGAUxofF+bVk1TjVSN+2RpxQXjGBCz2wYLxkL3S4p0Y72Z4zv7kig5hPaqW06YfCPlISrshxilhqFtsAWYf3NYblW/ndU2vs37BHDnh4hOoe68bVwDUSc0o8V5Ts+puMuLC5ZdFFEaAzLrfu40LE3NlxMG+BQiIyW//3r78fL6J3Jze3n97vLml/cL5bmWuya08WV9LcmyVFYzxyTlLmcZlSUVKIIyozp3hstXk2Re0bRAfVWsSOkiuGdA8jwtF6DKqlQcA1bKqUlS8EK8dUlGZPwOw3up4bsdEKN0C+Qg0TOynM6SgAu3AO0ZMb6fmilMxDtCidJzCNgLgjkRCzsVCGYn2NluWHh+C8gdid4TRYYRW4903+PSj/seoFPkCRtN9NzbFn6IeSKXtF5ZYqFtHrGdER/hzxljLdn51lr/1MeY9OWMXatxxNY+wt1yoCOzJhl1mQJrqZVOGiuyggMzRppKFbx4vVmTWZai3eVFKVK5TNIzIHl2GD7OeJodRVbSiU2bpFLmb33aXg7PSyFedhh3TIBCgIXCcAsUZCEKXbCcUW0zqbUTwrye2ZdytXKRH9S1AjRDuWWrt5dpeQQ4UE5MfhXL5Js3+6+9u/VP6LWLUUdDJs1EVAjK7KIVRxf9xzz1qMwfgA7/tGvMjkzzMPjVw4HgXmOnWvKxRy+dVlvG9X/tjb15bCyshM7PffwOXG4+EOfHCFoYWr9fPiff5dFCl1bbgjMNyjnlSsElEwWvmAEmS/2KHs3jfVsKnvLVow+ALNM8zgwrxOrR/0Ui6cSGpKwElac0JB+a7YzXjTwlVz/fXpH3/bbBW8i4KPfK423jpVDX2HdqWCo7JlQLzvHK8FwzXRqttLW2EJUwpXEOwVf08iqlqDlRrj+Kh2fB0NFX45bHntf4E5MofkSrt/4fSf/nGvHwN58pSok=', 'page_number': 1.0, 'rag_type': 'Standard', 'type': 'CompositeElement'}, page_content='2. WORKING PRINCIPLE\\n\\nThe cable element, named the Reel, consists of 2 abutting parts that are clamped together by a pretensioned Dyneema wire bundle; the clamp load delivers the required holddown load.\\n\\nThe lower Reel part is attached to the holddown bracket, which supports the Thermal Knives; the upper Reel part provides the mounting I/F for the deployable\\n\\nFigure 1. MHRM Engineering Model'),\n",
       "   0.242859,\n",
       "   None),\n",
       "  (Document(id='b30fa75d-a22f-4fe7-8041-3290db1b05d7', metadata={'chunk_overlap': 0.0, 'chunk_size': 400.0, 'data_source.record_locator.protocol': 'gs', 'data_source.record_locator.remote_file_path': 'gs://processing-pdfs', 'data_source.url': 'gs://processing-pdfs/1999_christiansen_reocr.pdf', 'element_id': 'b30fa75d-a22f-4fe7-8041-3290db1b05d7', 'file_directory': './document_processing', 'filename': '1999_christiansen_reocr.pdf', 'filetype': 'application/pdf', 'is_continuation': True, 'languages': ['eng'], 'last_modified': '2024-12-26T14:30:38', 'orig_elements': 'eJyFVE1v2zAM/SuCTxuQOraTpnFuvQzYYcOwFtihKAxZom0BsmRIctOg6H8fKdttss9LElEk33vkUx5eEtDQgwmVksmBJaWod0W53RY3m30prkUhi92+rJumEaLZ74pkxZIeApc8cMx/SYS1TirDA/h41vxkx1B1oNouYKQosgxr5vBRydBhNL+J0cEqE6ju4aHMr9NyxfLdJt0+rthy3m32aUbn/Hq7/WNgqsBI4k8+QE8qvqln0HcDF5C84gWRrbwdHZ6JowOBpCttBQ/WxdDgbLDCaqpuPal00NsAVaM0VAOPrPHmsF5jqgDvlWmvBtn4iDA6/bf7dV6WZSU6p3xQ3HgwlQMrXIqXEzsIIIKyphKae19hfY3NsrTclsUeEyIFqZA1sj0RTrqWVoxxbe9oyZxqeE8yk3/hzqnhNMRUPgxa4TCQxHq+1ty0I2/jVh8SwPaPMepD1VupGgXRL0VWbK/y4qrY3efbwyY7bPZUPWBlZca+BhpvESPu3WVop+Zmh+aSdZ3VWVkA32SbZg9lkdcSW9BcAjyTgRJoGiUUGHFK2Y8ODAsdsADGowA2ONCWS6Y8iyJAsmBjRm11WE25nQMuPcNPERhvuTI+xBszBuahpUF6pqbO2BC4BybhSQlI2T3GhDUh1poWMW1z0VbgF7ofAUPHHJeKa0yUjD/TL2LnL0AXwKn1RZaDiSSqwIcx6yAyg0aIBbgH0XGjfB9h3hI9+V043qCm4EYRRof0P0+qsF502HawXtGaZ6nyP+DOag3OXwIZO/XCBw0OFYsFBpew9F8xrs87C+5cXE7n7Nh2E+GFZWwvLTVmNObzpLsvt+yoSMl3G6JDlzEQMKHYo7/giiyls8OvfOd5zwuKpqFnTc4xFs+mRTFq2bP83R8ko3EABNDbJyD9R+5kyj6pllTkzHcLGdyaEuSbhu4ueC8NV+esV2+Y51O9na9xMQENhD8+0IwIxnxkPSe66KuzRtEF85/B8rq/4uyRwRPc04t6ffwJx70Few==', 'page_number': 2.0, 'rag_type': 'Standard', 'type': 'CompositeElement'}, page_content='notched outer race. In this position, all loads are carried through the structure and do not act through the SMA wire. Rotation of the race allows the rollers to drop into the notches. The radial load path is no longer intact and the nut segments are free to move outward. Figure 1 shows the basic configuration of the segments, the rollers, and the outer race. A roller retainer (not shown)'),\n",
       "   0.241101116,\n",
       "   None)],\n",
       " 'cited_sources': [[(Document(id='41f93ad2-0421-405c-9e62-eaad106c7c4b', metadata={'chunk_overlap': 0.0, 'chunk_size': 400.0, 'data_source.record_locator.protocol': 'gs', 'data_source.record_locator.remote_file_path': 'gs://processing-pdfs', 'data_source.url': 'gs://processing-pdfs/1999_christiansen_reocr.pdf', 'element_id': '41f93ad2-0421-405c-9e62-eaad106c7c4b', 'file_directory': './document_processing', 'filename': '1999_christiansen_reocr.pdf', 'filetype': 'application/pdf', 'languages': ['eng'], 'last_modified': '2024-12-26T14:30:38', 'orig_elements': 'eJztVMFu2zAM/RXB59SxFNuxcl4xFBu6AelOWWEoEh0LkC1DkttmRf99lJp2xdAN2KGXYjfzkZQeqfe8u8/AwABjaLXKNiRb0YqrElaSgVIgipWUslCirjpeVayk2YJkAwShRBBYf59Ja53SowjgU2zE0c6h7UEf+oAIY0WBPSf4VqvQI0rXCZ2sHkPs2+1W6yZnC8JrlvPrBXmOeZHXMa5LlhevxKkegcwffYAhzvBV34HZTkJC9oCJSLX1dnYYR4YOJFJujZUiWJegydlgpTWx++DjjA4GG6DttIF2EokzZjbLJZZK8F6Ph7NJdT7dMDvzp/yScs5b2Tvtgxajh7F1YKXLMfnIDgLIoO3YSiO8b7F/j4cVecNwNixIFJRG1sj2GO/Jl8rKOT3ar9uyU+kohjhm9rd7T6XhOKVSMU1G4zKQxPKUNmI8zOKQ3nSXAR5/nVAf2sEq3WlIamEFK88oO2P1FS03q2KzamL3hJ3tOA97iOtlccwAdyHpKycfzrcXHy/JxXb77Xwby594XOlg0pP9LspGFIrXRcUpKGjkvmqaouo61lXQrVkj30yUrKB5tSAUr86rqLongFGaryPQsCZfvwY8trxHYfKSvg9dJsT9w7/vpZCveiB74bUkCrw+jCTuB1VLboUnwRLpAOVHBKZvtAQSehGItLNRZA7a6B8xdwPuSIy9JTCCOxxJPEiY2O7QAcLHGvzCFdyAwUrhDoD1QhHbkYsvny7JbY8LI0Ip97huvAfDvb0Bor2fweckMsXYCWOeyEg7TPgCoIiHlDmNEnE74kb85qUxL4VzicNVHP4Vg4pVTXnTgVqLUnS8rhlUawWqLlRX7Gn1ZgalvDrZj+dNtN8zsOY5ffQjzctXgdTyHg3a8LLh/x16n5T/fcZ/tkS1D0CGaIMEqGgc2aPgR4SCJ6hnGRzOYp68iCYcQPZijOBLN3zGxVxEwTxc/wTal/Gl', 'page_number': 2.0, 'rag_type': 'Standard', 'type': 'CompositeElement'}, page_content='3. DESIGN ISSUES\\n\\nThe basic design problem was to create a device that could utilize a very low energy signal to release a relatively large load of IOKN while addressing the above issues. The overall device comprised several basic components:\\n\\n{ The “prime mover” which converts electrical energy to mechanical'),\n",
       "    0.348731756,\n",
       "    0.17908539),\n",
       "   (Document(id='115d1863-520b-4130-8e16-7d66bb5f8818', metadata={'chunk_overlap': 0.0, 'chunk_size': 400.0, 'data_source.record_locator.protocol': 'gs', 'data_source.record_locator.remote_file_path': 'gs://processing-pdfs', 'data_source.url': 'gs://processing-pdfs/1999_christiansen_reocr.pdf', 'element_id': '115d1863-520b-4130-8e16-7d66bb5f8818', 'file_directory': './document_processing', 'filename': '1999_christiansen_reocr.pdf', 'filetype': 'application/pdf', 'languages': ['eng'], 'last_modified': '2024-12-26T14:30:38', 'orig_elements': 'eJx9U8tu2zAQ/JWFTg1gy5L8knzLpbemBZJbEAgrciURpUiBpO24Qf69S8Zpcmh7sjg7uzP78ONLRpomMqFVMjtAVmyKuq+KpqzKdSMlUt3vaoG7cr/p9h2uswVkEwWUGJD5L5mw1kllMJBPb40XewztSGoYAyNVVRScc4XPSoaR0XKf0NkqE2Le42PZNHmzgHK73+b10wL+APW2zqsI1FWdl38D3lIYyfzFB5piHz/UM+n7GQVlrxyIdltvj47f0aUjwbZbbQUG6xI0OxussDpmDz726WiygdpeaWpnTL45clitmCrIe2WG5Sx7nxSOTv8rvuJWmlaMTvmg0HgyrSMrXM7BN3cUSARlTSs0et9yfsfFirzZVusdE5IFqdg1u71EnXwlrTimxX2oZVeqwSm2mf1P90oNlzlRcZ614mGwidU1rNEMRxzSXh8z4vJPCfWhnaxUvaJ0MVVRbZZltax2D+XmsC4O6zpmz5zZmuPUURxvlRD3cWd1s9nWVDRytytoHY8NN81uUxVdJasCd2kugZ7jCWX3dCKHGnrWBuRJmWEBjpZHT9hpAmGn2Rou7kGggY7gCxoJI56IH2RugJkSgmWm4VIB+OhFcNywBjLkhksMTiRGNAk8W/czh9vJmgHCSJ6AzcOs6Jddvud+kl0AX4p1/Ostj98qyZ/Rgh9xJi488doAtbYX+HL/7fbmU24O3/urxqc+mATKRBx66yawPZx5/9yTT2BHPArmd/Gvx0uLhJ4wHB35mMEkxUzeboxIOilBOXx9D0jyajCAb0XzCqYpyknFlxPIJe/bIqI6juDMqmK0fEE5PMT8iyIteaQYtUTS2OdruKNzsMaDPcUaXM4HNG/hMt9yuTyexvvN3aFzbP5ED3HPr0+/AdtKfMo=', 'page_number': 2.0, 'rag_type': 'Standard', 'type': 'CompositeElement'}, page_content='Several fast acting, re-useable components can be (and have been) used to convert electrical energy to mechanical work. Among these are piezo-electric components, motors, solenoids, and shape memory alloy (SMA) components. Of these components SMA in the form of wire has the best combination of features for this type of device. For this design a wire .2 mm in diameter and 50 mm long was chosen.'),\n",
       "    0.317318976,\n",
       "    0.13031887),\n",
       "   (Document(id='b6ed0b30-3f26-4f4e-ae5f-0dbfa33d9f50', metadata={'chunk_overlap': 0.0, 'chunk_size': 400.0, 'data_source.record_locator.protocol': 'gs', 'data_source.record_locator.remote_file_path': 'gs://processing-pdfs', 'data_source.url': 'gs://processing-pdfs/1999_christiansen_reocr.pdf', 'element_id': 'b6ed0b30-3f26-4f4e-ae5f-0dbfa33d9f50', 'file_directory': './document_processing', 'filename': '1999_christiansen_reocr.pdf', 'filetype': 'application/pdf', 'languages': ['eng'], 'last_modified': '2024-12-26T14:30:38', 'orig_elements': 'eJzdVF1vmzAU/SsWT42UEsw3fUOpl0VqkwyoNqmqkGNfEksEI3C2RtX++2zCumpq97aH9g3OPefec83B908W1HCARpWCW1fIgnCbhJWHA99hlAfcwTwKoqSKvYiHUQTWFFkHUJRTRTX/yWJSdlw0VEE/vNf0JI+q3IPY7ZVGXNdxtGaEfwiu9hrF0YC2UjTK6O7vcRLbeIowDiM7eZiiZ8B1se0YINIPwWvAWaIRqz/1Cg5mj414hDpvKQPrpy4Yu2Uvj51+Ny47YNp2WUtGlewGqO2kkkzWRr3rzZ4dHKSCshI1lC0dfOvK1WymqQz6XjS7y5ZX/TDh2NVv1Wc4SZKS7TvRK0GbHpqyA8k6WxfP7kABU0I2Jatp35dav9XNHDvy4iTRhMECF9q1dnsyc+wZl+w4fLg/06yR2tCDWdP619yRqk7tQKVtWwt9GNrEbCzXtNkd6W74rvcW6PYPA9qr8iC5qAQMiXEd17/E7qUbFti/8pwrLzbqVivL5njYgjle36yp4NEkwvokdscOELbRp/r0Yw9QT1En6xq6KaINRz3szGLAUXNUSLbQDb5s0/a33xXtDPodCtNUd/87yInnsmALNIKq0pGpOEQVUOZVAWxpXNH/FmTXd20NYc91zjF9BuIxt174FjBI3nGQP1ZOM3J9t7pOVwXKN9lytchRsUbZukgL8jKKhVA1vBbB0MO+x90gqOLE8yJg25CzOHYD7jHfr7b/LYJekNixyRMObX8I2AhoGzYeLlc/Ce3oVeQseschfPs2jcOPd5nO17ebjOT5cr1C84zobOqUZl/uCFrfFSRDWTon6CYt5p/Jta4sFjckRxfut8kZRGl2iy7WK4I2SzInE5SRIl2u8mcqnqD8NkVfl3rIGP5B406eKRm5IWlOkDd5OZOsFumCjJL8ZWXkX7/8iZYHvaL18+EXB8ylkQ==', 'page_number': 4.0, 'rag_type': 'Standard', 'type': 'CompositeElement'}, page_content='Figure 1. Flywheel, roller, and segmented nut operation.\\n\\nREDUNDANT SPRINGS TO ROTATE\\n\\nCOMPRESSION CREATE TORQUE OUTER RACE LATCHED TOGGLES (2X) LATCH ARM (ONE PIECE) RETAINS TOGGLES 1) SMA WIRES ROTATE ARM 2) TOGGLES RELEASE 3) OUTER RACE ENGAGE ROTATES OUTER RACE RELEASED'),\n",
       "    0.315482616,\n",
       "    0.12030463)]]}"
      ]
     },
     "execution_count": 41,
     "metadata": {},
     "output_type": "execute_result"
    }
   ],
   "source": [
    "result"
   ]
  },
  {
   "cell_type": "code",
   "execution_count": 42,
   "metadata": {},
   "outputs": [
    {
     "name": "stderr",
     "output_type": "stream",
     "text": [
      "INFO:aerospace_chatbot.processing.queries:Node: retrieve\n",
      "INFO:httpx:HTTP Request: POST https://api.openai.com/v1/embeddings \"HTTP/1.1 200 OK\"\n",
      "INFO:aerospace_chatbot.processing.queries:Retrieved docs\n",
      "INFO:httpx:HTTP Request: POST https://api.cohere.com/v2/rerank \"HTTP/1.1 200 OK\"\n",
      "INFO:aerospace_chatbot.processing.queries:Reranked docs\n",
      "INFO:aerospace_chatbot.processing.queries:Node: generate_w_context\n",
      "INFO:aerospace_chatbot.processing.queries:generate_w_context system prompt: \n",
      "# **System Prompt**\n",
      "\n",
      "Your name is **Aerospace Chatbot**, a specialized assistant for flight hardware design and analysis in aerospace engineering. You will function as a knowledgeable replacement for an expert in aerospace flight hardware design, testing, analysis, and certification.\n",
      "\n",
      "> **Important Note:** The **Sources and Context** you are provided are ranked from most relevant to least relevant by a state-of-the-art retrieval and ranking tool. Please take this ranking into consideration when determining which sources to cite.\n",
      "\n",
      "Use only the **Sources and Context** provided to answer the **User Question**. **Do not use outside knowledge**, and strictly follow these rules:\n",
      "\n",
      "---\n",
      "\n",
      "## **Rules**:\n",
      "\n",
      "1. **Answer only based on the provided Sources and Context.**  \n",
      "   - If the information is not available in the Sources and Context, respond with:  \n",
      "     *\"I don’t know the answer to that based on the information provided. You might consider rephrasing your question or asking about a related topic.\"*\n",
      "\n",
      "2. **Do not make up or infer answers.**  \n",
      "   - Stay accurate and factual at all times.\n",
      "\n",
      "3. **Provide highly detailed, explanatory answers.**  \n",
      "   - Include **as many specific details from the original context** as possible to thoroughly address the user’s question.\n",
      "\n",
      "4. **Provide responses in English only** and format them using **Markdown** for clarity.\n",
      "\n",
      "5. **Cite Sources in context** using the exact format `<source id=\"#\">`:  \n",
      "   - `#` – Represents the numerical order of the source as provided in the Sources and Context.  \n",
      "   - **The `source` tag must be present for every source referenced in the response.**  \n",
      "   - **Do not add, omit, or modify any part of the citation format.**  \n",
      "   \n",
      "   **Examples (Correct):**  \n",
      "   > The actuator was tested under extreme conditions <source id=\"1\">.  \n",
      "   > A secondary material exhibited increased yield strength <source id=\"2\">.  \n",
      "   > Additional research confirmed thermal properties <source id=\"3\">.  \n",
      "\n",
      "   **Examples (Incorrect – Must Be Rejected):**  \n",
      "   > Testing yielded higher efficiency [1] (Incorrect bracket format)  \n",
      "   > <source id=\"1\" > (Extra space after `id`)  \n",
      "   > <source id=\"a\"> (Non-numeric ID)  \n",
      "   > <source id=\"1,2\"> (Multiple IDs in one tag – invalid)  \n",
      "\n",
      "6. **Every sentence or paragraph that uses a source must cite it with the format `<source id=\"#\">`.**  \n",
      "   - **Do not group multiple sources into a single tag.**  \n",
      "   - Each source must have its own, clearly separated citation.  \n",
      "   - For example:  \n",
      "     > The actuator uses a reinforced composite structure <source id=\"1\">.  \n",
      "     > This design was validated through multiple tests <source id=\"2\">.\n",
      "\n",
      "7. **Validation Requirement:**  \n",
      "   - If the response contains references without the exact `<source id=\"#\">` format, the response must be flagged or rejected.  \n",
      "   - Every source used must have a corresponding citation in the response.  \n",
      "   - **No source should be referenced without explicit citation.**\n",
      "\n",
      "8. **Suggest related or alternative questions** if applicable, to help the user find relevant information within the corpus.\n",
      "\n",
      "9. **Give preference to citing top-ranked sources.**  \n",
      "   - If the first sources in the list (i.e., the most relevant or highest-ranked) contain information that addresses the user’s question, cite them first.  \n",
      "   - Then cite additional sources only if they contain new or non-redundant details.  \n",
      "   - If the top-ranked sources are not relevant, skip them.\n",
      "   \n",
      "\n",
      "\n",
      "INFO:httpx:HTTP Request: POST https://api.anthropic.com/v1/messages \"HTTP/1.1 200 OK\"\n",
      "INFO:aerospace_chatbot.processing.queries:Node: should_continue\n",
      "INFO:aerospace_chatbot.processing.queries:Ending conversation\n"
     ]
    },
    {
     "name": "stdout",
     "output_type": "stream",
     "text": [
      "================================\u001b[1m Human Message \u001b[0m=================================\n",
      "\n",
      "My name is Dan. Please tell me about some interesting mecanism designs.\n",
      "==================================\u001b[1m Ai Message \u001b[0m==================================\n",
      "\n",
      "Hi Dan! Based on the provided sources, I can tell you about some interesting mechanism designs. One notable example is a device designed to handle a 10KN load using a low energy signal input <source id=\"2\">. The mechanism incorporates several fast-acting, reusable components for converting electrical energy to mechanical work, including an innovative use of Shape Memory Alloy (SMA) wire. The SMA wire, specifically dimensioned at 0.2mm diameter and 50mm length, was chosen for this application because it offered the best combination of features compared to alternatives like piezo-electric components, motors, and solenoids <source id=\"4\">. The mechanism also features an interesting design with redundant springs, toggles, and a latch arm system. When activated, the SMA wires rotate an arm, which triggers the toggles to release, ultimately engaging and rotating an outer race <source id=\"5\">.\n",
      "================================\u001b[1m Human Message \u001b[0m=================================\n",
      "\n",
      "How have these mecahnisms been tested?\n",
      "==================================\u001b[1m Ai Message \u001b[0m==================================\n",
      "\n",
      "Based on the provided sources, these mechanisms have undergone extensive testing procedures. Engineering model testing included several key components: stiffness and strength testing, on-ground release testing in ambient conditions, sine/sine dwell and random vibration testing, and release testing under thermal vacuum circumstances <source id=\"4\">. During the development and qualification phases, numerous functional and environmental tests were conducted. A qualification test series included typical spacecraft environmental tests with interspersed functional tests to monitor ongoing performance <source id=\"2\">. The testing was comprehensive, with the Engineering Model tests having been completed <source id=\"3\">. These tests were designed to verify forces and margins within the mechanism and evaluate their basic operational capabilities <source id=\"1\">.\n"
     ]
    }
   ],
   "source": [
    "prompt = 'How have these mecahnisms been tested?'\n",
    "result = qa_model.workflow.invoke({\"messages\": [(\"human\", prompt)]}, config)\n",
    "for message in result['messages']:\n",
    "    message.pretty_print()"
   ]
  },
  {
   "cell_type": "code",
   "execution_count": null,
   "metadata": {},
   "outputs": [],
   "source": [
    "result"
   ]
  },
  {
   "cell_type": "code",
   "execution_count": 136,
   "metadata": {},
   "outputs": [],
   "source": [
    "# prompt = 'How old are you?'\n",
    "# result = qa_model.workflow.invoke({\"messages\": [(\"human\", prompt)]}, config)\n",
    "# for message in result['messages']:\n",
    "#     message.pretty_print()"
   ]
  },
  {
   "cell_type": "code",
   "execution_count": 137,
   "metadata": {},
   "outputs": [],
   "source": [
    "# prompt = 'What are some lessons learned about these mechanisms?'\n",
    "# result = qa_model.workflow.invoke({\"messages\": [(\"human\", prompt)]}, config)\n",
    "# for message in result['messages']:\n",
    "#     message.pretty_print()"
   ]
  },
  {
   "cell_type": "code",
   "execution_count": 138,
   "metadata": {},
   "outputs": [],
   "source": [
    "# prompt = 'What are some problems that have occurred?'\n",
    "# result = qa_model.workflow.invoke({\"messages\": [(\"human\", prompt)]}, config)\n",
    "# for message in result['messages']:\n",
    "#     message.pretty_print()"
   ]
  }
 ],
 "metadata": {
  "kernelspec": {
   "display_name": "Python 3",
   "language": "python",
   "name": "python3"
  },
  "language_info": {
   "codemirror_mode": {
    "name": "ipython",
    "version": 3
   },
   "file_extension": ".py",
   "mimetype": "text/x-python",
   "name": "python",
   "nbconvert_exporter": "python",
   "pygments_lexer": "ipython3",
   "version": "3.11.10"
  },
  "orig_nbformat": 4
 },
 "nbformat": 4,
 "nbformat_minor": 2
}
