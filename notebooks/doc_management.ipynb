{
 "cells": [
  {
   "cell_type": "markdown",
   "metadata": {},
   "source": [
    "# Setup"
   ]
  },
  {
   "cell_type": "code",
   "execution_count": 19,
   "metadata": {},
   "outputs": [
    {
     "name": "stdout",
     "output_type": "stream",
     "text": [
      "The autoreload extension is already loaded. To reload it, use:\n",
      "  %reload_ext autoreload\n"
     ]
    }
   ],
   "source": [
    "%load_ext autoreload\n",
    "%autoreload 2"
   ]
  },
  {
   "cell_type": "code",
   "execution_count": 20,
   "metadata": {},
   "outputs": [],
   "source": [
    "import time\n",
    "import copy\n",
    "from aerospace_chatbot.processing import DocumentProcessor\n",
    "from aerospace_chatbot.services import EmbeddingService, RerankService, LLMService, DatabaseService\n",
    "from aerospace_chatbot.processing import QAModel\n",
    "\n",
    "from langchain_core.documents import Document\n",
    "\n",
    "# Load environment variables\n",
    "from dotenv import load_dotenv\n",
    "load_dotenv(override=True)\n",
    "\n",
    "# Initialize logger\n",
    "import logging\n",
    "logger = logging.getLogger(__name__)\n",
    "logging.basicConfig(level=logging.INFO)"
   ]
  },
  {
   "cell_type": "code",
   "execution_count": 21,
   "metadata": {},
   "outputs": [],
   "source": [
    "embedding_service='OpenAI'\n",
    "embedding_model='text-embedding-3-large'\n",
    "\n",
    "embedding_service = EmbeddingService(\n",
    "    model_service=embedding_service,\n",
    "    model=embedding_model\n",
    ")\n",
    "\n",
    "doc_processor = DocumentProcessor(\n",
    "    embedding_service=embedding_service\n",
    ")"
   ]
  },
  {
   "cell_type": "code",
   "execution_count": 22,
   "metadata": {},
   "outputs": [
    {
     "name": "stderr",
     "output_type": "stream",
     "text": [
      "INFO:aerospace_chatbot.processing.documents:Number of PDFs found: 18\n",
      "INFO:aerospace_chatbot.processing.documents:PDFs found: ['gs://design_criteria_pdfs/AFSPCMAN 91-710v3_Range Safety.pdf', 'gs://design_criteria_pdfs/EELV SIS Rev C Final 20170616 (LE-S-002).pdf', 'gs://design_criteria_pdfs/JSC-65828B-Chg1_Structural Design Requirements and Factors of Safety for Spaceflight Hardware.pdf', 'gs://design_criteria_pdfs/JSC-65829_Loads and Structural Dynamics Requirements for Spaceflight Hardware.pdf', 'gs://design_criteria_pdfs/MSFC-DWG-20M02540_RevE_1_Assessment of Flexible Lines for Flow Induced Vibration.pdf', 'gs://design_criteria_pdfs/MSFC-SPEC-626_Test Control Document for Assessment of Flexible Lines for Flow Induced Vibration.pdf', 'gs://design_criteria_pdfs/NASA-STD-5001B_w_change_2_Structural Design and Test Factors of Safety for Spaceflight Hardware.pdf', 'gs://design_criteria_pdfs/NASA-STD-5009_Nondestructive Evaluation Requirements For Fracture Critical Components.pdf', 'gs://design_criteria_pdfs/NASA-STD-5012A Strength And Life Assessment Requirements For Liquid Fueled Space Propulsion System Engines.pdf', 'gs://design_criteria_pdfs/NASA-STD-5017_A_Design and Development Requirements for Mechanisms.pdf', 'gs://design_criteria_pdfs/NASA-STD-5018-Baseline_Strength Design and Verification Criteria for Glass, Ceramics, and Windows in Human Space Flight Applications.pdf', 'gs://design_criteria_pdfs/NASA-STD-5019A_Fracture Control Requirements for Spaceflight Hardware.pdf', 'gs://design_criteria_pdfs/NASA-STD-5020A_Requirements For Threaded Fastening.pdf', 'gs://design_criteria_pdfs/NSTS_18798_RevB_Interpretations of NSTS:ISS Payload Safety Requirements.pdf', 'gs://design_criteria_pdfs/NWC-TP-6575 Parachute Recovery Systems Design Manual.pdf', 'gs://design_criteria_pdfs/SMC-S-005_03JUN2009_Flight Pressurized Systems.pdf', 'gs://design_criteria_pdfs/SMC-S-016_05SEP2014_Test Requirements for Launch Upper-Stage and Space Vehicles.pdf', 'gs://design_criteria_pdfs/SMC-S-025_Evalation and Test Reqirements for Liquid Rocket Engines.pdf']\n"
     ]
    }
   ],
   "source": [
    "# buckets = [\"ams_pdfs\", \"esmats_pdfs\"]\n",
    "buckets = [\"design_criteria_pdfs\"]\n",
    "# buckets = [\"processing-pdfs\"]\n",
    "\n",
    "docs_all = []\n",
    "for bucket in buckets:\n",
    "    docs_bucket = DocumentProcessor.list_bucket_pdfs(bucket)\n",
    "    docs_all.append(docs_bucket)"
   ]
  },
  {
   "cell_type": "code",
   "execution_count": 23,
   "metadata": {},
   "outputs": [
    {
     "data": {
      "text/plain": [
       "1"
      ]
     },
     "execution_count": 23,
     "metadata": {},
     "output_type": "execute_result"
    }
   ],
   "source": [
    "len(docs_all)"
   ]
  },
  {
   "cell_type": "markdown",
   "metadata": {},
   "source": [
    "# Partition Documents"
   ]
  },
  {
   "cell_type": "code",
   "execution_count": 24,
   "metadata": {},
   "outputs": [
    {
     "name": "stderr",
     "output_type": "stream",
     "text": [
      "INFO:aerospace_chatbot.processing.documents:Loading 18 documents...\n",
      "INFO:aerospace_chatbot.processing.documents:Checking document 1 of 18: gs://design_criteria_pdfs/AFSPCMAN 91-710v3_Range Safety.pdf\n",
      "INFO:aerospace_chatbot.processing.documents:Downloading PDF from GCS: gs://design_criteria_pdfs/AFSPCMAN 91-710v3_Range Safety.pdf\n",
      "INFO:aerospace_chatbot.processing.documents:Bucket name: design_criteria_pdfs\n",
      "INFO:aerospace_chatbot.processing.documents:Blob name: AFSPCMAN 91-710v3_Range Safety.pdf\n",
      "INFO:aerospace_chatbot.processing.documents:Checking document 2 of 18: gs://design_criteria_pdfs/EELV SIS Rev C Final 20170616 (LE-S-002).pdf\n",
      "INFO:aerospace_chatbot.processing.documents:Downloading PDF from GCS: gs://design_criteria_pdfs/EELV SIS Rev C Final 20170616 (LE-S-002).pdf\n",
      "INFO:aerospace_chatbot.processing.documents:Bucket name: design_criteria_pdfs\n",
      "INFO:aerospace_chatbot.processing.documents:Blob name: EELV SIS Rev C Final 20170616 (LE-S-002).pdf\n",
      "INFO:aerospace_chatbot.processing.documents:Checking document 3 of 18: gs://design_criteria_pdfs/JSC-65828B-Chg1_Structural Design Requirements and Factors of Safety for Spaceflight Hardware.pdf\n",
      "INFO:aerospace_chatbot.processing.documents:Downloading PDF from GCS: gs://design_criteria_pdfs/JSC-65828B-Chg1_Structural Design Requirements and Factors of Safety for Spaceflight Hardware.pdf\n",
      "INFO:aerospace_chatbot.processing.documents:Bucket name: design_criteria_pdfs\n",
      "INFO:aerospace_chatbot.processing.documents:Blob name: JSC-65828B-Chg1_Structural Design Requirements and Factors of Safety for Spaceflight Hardware.pdf\n",
      "INFO:aerospace_chatbot.processing.documents:Checking document 4 of 18: gs://design_criteria_pdfs/JSC-65829_Loads and Structural Dynamics Requirements for Spaceflight Hardware.pdf\n",
      "INFO:aerospace_chatbot.processing.documents:Downloading PDF from GCS: gs://design_criteria_pdfs/JSC-65829_Loads and Structural Dynamics Requirements for Spaceflight Hardware.pdf\n",
      "INFO:aerospace_chatbot.processing.documents:Bucket name: design_criteria_pdfs\n",
      "INFO:aerospace_chatbot.processing.documents:Blob name: JSC-65829_Loads and Structural Dynamics Requirements for Spaceflight Hardware.pdf\n",
      "INFO:aerospace_chatbot.processing.documents:Checking document 5 of 18: gs://design_criteria_pdfs/MSFC-DWG-20M02540_RevE_1_Assessment of Flexible Lines for Flow Induced Vibration.pdf\n",
      "INFO:aerospace_chatbot.processing.documents:Downloading PDF from GCS: gs://design_criteria_pdfs/MSFC-DWG-20M02540_RevE_1_Assessment of Flexible Lines for Flow Induced Vibration.pdf\n",
      "INFO:aerospace_chatbot.processing.documents:Bucket name: design_criteria_pdfs\n",
      "INFO:aerospace_chatbot.processing.documents:Blob name: MSFC-DWG-20M02540_RevE_1_Assessment of Flexible Lines for Flow Induced Vibration.pdf\n",
      "INFO:aerospace_chatbot.processing.documents:Checking document 6 of 18: gs://design_criteria_pdfs/MSFC-SPEC-626_Test Control Document for Assessment of Flexible Lines for Flow Induced Vibration.pdf\n",
      "INFO:aerospace_chatbot.processing.documents:Downloading PDF from GCS: gs://design_criteria_pdfs/MSFC-SPEC-626_Test Control Document for Assessment of Flexible Lines for Flow Induced Vibration.pdf\n",
      "INFO:aerospace_chatbot.processing.documents:Bucket name: design_criteria_pdfs\n",
      "INFO:aerospace_chatbot.processing.documents:Blob name: MSFC-SPEC-626_Test Control Document for Assessment of Flexible Lines for Flow Induced Vibration.pdf\n",
      "INFO:aerospace_chatbot.processing.documents:Checking document 7 of 18: gs://design_criteria_pdfs/NASA-STD-5001B_w_change_2_Structural Design and Test Factors of Safety for Spaceflight Hardware.pdf\n",
      "INFO:aerospace_chatbot.processing.documents:Downloading PDF from GCS: gs://design_criteria_pdfs/NASA-STD-5001B_w_change_2_Structural Design and Test Factors of Safety for Spaceflight Hardware.pdf\n",
      "INFO:aerospace_chatbot.processing.documents:Bucket name: design_criteria_pdfs\n",
      "INFO:aerospace_chatbot.processing.documents:Blob name: NASA-STD-5001B_w_change_2_Structural Design and Test Factors of Safety for Spaceflight Hardware.pdf\n",
      "INFO:aerospace_chatbot.processing.documents:Checking document 8 of 18: gs://design_criteria_pdfs/NASA-STD-5009_Nondestructive Evaluation Requirements For Fracture Critical Components.pdf\n",
      "INFO:aerospace_chatbot.processing.documents:Downloading PDF from GCS: gs://design_criteria_pdfs/NASA-STD-5009_Nondestructive Evaluation Requirements For Fracture Critical Components.pdf\n",
      "INFO:aerospace_chatbot.processing.documents:Bucket name: design_criteria_pdfs\n",
      "INFO:aerospace_chatbot.processing.documents:Blob name: NASA-STD-5009_Nondestructive Evaluation Requirements For Fracture Critical Components.pdf\n",
      "INFO:aerospace_chatbot.processing.documents:Checking document 9 of 18: gs://design_criteria_pdfs/NASA-STD-5012A Strength And Life Assessment Requirements For Liquid Fueled Space Propulsion System Engines.pdf\n",
      "INFO:aerospace_chatbot.processing.documents:Downloading PDF from GCS: gs://design_criteria_pdfs/NASA-STD-5012A Strength And Life Assessment Requirements For Liquid Fueled Space Propulsion System Engines.pdf\n",
      "INFO:aerospace_chatbot.processing.documents:Bucket name: design_criteria_pdfs\n",
      "INFO:aerospace_chatbot.processing.documents:Blob name: NASA-STD-5012A Strength And Life Assessment Requirements For Liquid Fueled Space Propulsion System Engines.pdf\n",
      "INFO:aerospace_chatbot.processing.documents:Checking document 10 of 18: gs://design_criteria_pdfs/NASA-STD-5017_A_Design and Development Requirements for Mechanisms.pdf\n",
      "INFO:aerospace_chatbot.processing.documents:Downloading PDF from GCS: gs://design_criteria_pdfs/NASA-STD-5017_A_Design and Development Requirements for Mechanisms.pdf\n",
      "INFO:aerospace_chatbot.processing.documents:Bucket name: design_criteria_pdfs\n",
      "INFO:aerospace_chatbot.processing.documents:Blob name: NASA-STD-5017_A_Design and Development Requirements for Mechanisms.pdf\n",
      "INFO:aerospace_chatbot.processing.documents:Checking document 11 of 18: gs://design_criteria_pdfs/NASA-STD-5018-Baseline_Strength Design and Verification Criteria for Glass, Ceramics, and Windows in Human Space Flight Applications.pdf\n",
      "INFO:aerospace_chatbot.processing.documents:Downloading PDF from GCS: gs://design_criteria_pdfs/NASA-STD-5018-Baseline_Strength Design and Verification Criteria for Glass, Ceramics, and Windows in Human Space Flight Applications.pdf\n",
      "INFO:aerospace_chatbot.processing.documents:Bucket name: design_criteria_pdfs\n",
      "INFO:aerospace_chatbot.processing.documents:Blob name: NASA-STD-5018-Baseline_Strength Design and Verification Criteria for Glass, Ceramics, and Windows in Human Space Flight Applications.pdf\n",
      "INFO:aerospace_chatbot.processing.documents:Checking document 12 of 18: gs://design_criteria_pdfs/NASA-STD-5019A_Fracture Control Requirements for Spaceflight Hardware.pdf\n",
      "INFO:aerospace_chatbot.processing.documents:Downloading PDF from GCS: gs://design_criteria_pdfs/NASA-STD-5019A_Fracture Control Requirements for Spaceflight Hardware.pdf\n",
      "INFO:aerospace_chatbot.processing.documents:Bucket name: design_criteria_pdfs\n",
      "INFO:aerospace_chatbot.processing.documents:Blob name: NASA-STD-5019A_Fracture Control Requirements for Spaceflight Hardware.pdf\n",
      "INFO:aerospace_chatbot.processing.documents:Checking document 13 of 18: gs://design_criteria_pdfs/NASA-STD-5020A_Requirements For Threaded Fastening.pdf\n",
      "INFO:aerospace_chatbot.processing.documents:Downloading PDF from GCS: gs://design_criteria_pdfs/NASA-STD-5020A_Requirements For Threaded Fastening.pdf\n",
      "INFO:aerospace_chatbot.processing.documents:Bucket name: design_criteria_pdfs\n",
      "INFO:aerospace_chatbot.processing.documents:Blob name: NASA-STD-5020A_Requirements For Threaded Fastening.pdf\n",
      "INFO:aerospace_chatbot.processing.documents:Checking document 14 of 18: gs://design_criteria_pdfs/NSTS_18798_RevB_Interpretations of NSTS:ISS Payload Safety Requirements.pdf\n",
      "INFO:aerospace_chatbot.processing.documents:Downloading PDF from GCS: gs://design_criteria_pdfs/NSTS_18798_RevB_Interpretations of NSTS:ISS Payload Safety Requirements.pdf\n",
      "INFO:aerospace_chatbot.processing.documents:Bucket name: design_criteria_pdfs\n",
      "INFO:aerospace_chatbot.processing.documents:Blob name: NSTS_18798_RevB_Interpretations of NSTS:ISS Payload Safety Requirements.pdf\n",
      "INFO:aerospace_chatbot.processing.documents:Checking document 15 of 18: gs://design_criteria_pdfs/NWC-TP-6575 Parachute Recovery Systems Design Manual.pdf\n",
      "INFO:aerospace_chatbot.processing.documents:Downloading PDF from GCS: gs://design_criteria_pdfs/NWC-TP-6575 Parachute Recovery Systems Design Manual.pdf\n",
      "INFO:aerospace_chatbot.processing.documents:Bucket name: design_criteria_pdfs\n",
      "INFO:aerospace_chatbot.processing.documents:Blob name: NWC-TP-6575 Parachute Recovery Systems Design Manual.pdf\n",
      "INFO:aerospace_chatbot.processing.documents:Checking document 16 of 18: gs://design_criteria_pdfs/SMC-S-005_03JUN2009_Flight Pressurized Systems.pdf\n",
      "INFO:aerospace_chatbot.processing.documents:Downloading PDF from GCS: gs://design_criteria_pdfs/SMC-S-005_03JUN2009_Flight Pressurized Systems.pdf\n",
      "INFO:aerospace_chatbot.processing.documents:Bucket name: design_criteria_pdfs\n",
      "INFO:aerospace_chatbot.processing.documents:Blob name: SMC-S-005_03JUN2009_Flight Pressurized Systems.pdf\n",
      "INFO:aerospace_chatbot.processing.documents:Checking document 17 of 18: gs://design_criteria_pdfs/SMC-S-016_05SEP2014_Test Requirements for Launch Upper-Stage and Space Vehicles.pdf\n",
      "INFO:aerospace_chatbot.processing.documents:Downloading PDF from GCS: gs://design_criteria_pdfs/SMC-S-016_05SEP2014_Test Requirements for Launch Upper-Stage and Space Vehicles.pdf\n",
      "INFO:aerospace_chatbot.processing.documents:Bucket name: design_criteria_pdfs\n",
      "INFO:aerospace_chatbot.processing.documents:Blob name: SMC-S-016_05SEP2014_Test Requirements for Launch Upper-Stage and Space Vehicles.pdf\n",
      "INFO:aerospace_chatbot.processing.documents:Checking document 18 of 18: gs://design_criteria_pdfs/SMC-S-025_Evalation and Test Reqirements for Liquid Rocket Engines.pdf\n",
      "INFO:aerospace_chatbot.processing.documents:Downloading PDF from GCS: gs://design_criteria_pdfs/SMC-S-025_Evalation and Test Reqirements for Liquid Rocket Engines.pdf\n",
      "INFO:aerospace_chatbot.processing.documents:Bucket name: design_criteria_pdfs\n",
      "INFO:aerospace_chatbot.processing.documents:Blob name: SMC-S-025_Evalation and Test Reqirements for Liquid Rocket Engines.pdf\n",
      "INFO:aerospace_chatbot.processing.documents:Partitioning 18 documents...\n",
      "INFO:aerospace_chatbot.processing.documents:Partitioning ./document_processing/AFSPCMAN 91-710v3_Range Safety.pdf Locally...\n",
      "INFO:pikepdf._core:pikepdf C++ to Python logger bridge initialized\n",
      "INFO:unstructured_inference:Reading PDF for file: ./document_processing/AFSPCMAN 91-710v3_Range Safety.pdf ...\n",
      "INFO:unstructured_inference:Loading the Table agent ...\n",
      "INFO:unstructured_inference:Loading the table structure model ...\n",
      "INFO:timm.models._builder:Loading pretrained weights from Hugging Face hub (timm/resnet18.a1_in1k)\n",
      "INFO:timm.models._hub:[timm/resnet18.a1_in1k] Safe alternative available for 'pytorch_model.bin' (as 'model.safetensors'). Loading weights using safetensors.\n",
      "INFO:timm.models._builder:Missing keys (fc.weight, fc.bias) discovered while loading pretrained weights. This is expected if model is being adapted.\n",
      "INFO:aerospace_chatbot.processing.documents:Partitioned data saved at ./document_processing/partitioned/AFSPCMAN 91-710v3_Range Safety-partitioned.json\n",
      "INFO:aerospace_chatbot.processing.documents:Partitioning ./document_processing/EELV SIS Rev C Final 20170616 (LE-S-002).pdf Locally...\n",
      "INFO:unstructured_inference:Reading PDF for file: ./document_processing/EELV SIS Rev C Final 20170616 (LE-S-002).pdf ...\n",
      "INFO:aerospace_chatbot.processing.documents:Partitioned data saved at ./document_processing/partitioned/EELV SIS Rev C Final 20170616 (LE-S-002)-partitioned.json\n",
      "INFO:aerospace_chatbot.processing.documents:Partitioning ./document_processing/JSC-65828B-Chg1_Structural Design Requirements and Factors of Safety for Spaceflight Hardware.pdf Locally...\n",
      "INFO:unstructured_inference:Reading PDF for file: ./document_processing/JSC-65828B-Chg1_Structural Design Requirements and Factors of Safety for Spaceflight Hardware.pdf ...\n",
      "INFO:aerospace_chatbot.processing.documents:Partitioned data saved at ./document_processing/partitioned/JSC-65828B-Chg1_Structural Design Requirements and Factors of Safety for Spaceflight Hardware-partitioned.json\n",
      "INFO:aerospace_chatbot.processing.documents:Partitioning ./document_processing/JSC-65829_Loads and Structural Dynamics Requirements for Spaceflight Hardware.pdf Locally...\n",
      "INFO:unstructured_inference:Reading PDF for file: ./document_processing/JSC-65829_Loads and Structural Dynamics Requirements for Spaceflight Hardware.pdf ...\n",
      "INFO:aerospace_chatbot.processing.documents:Partitioned data saved at ./document_processing/partitioned/JSC-65829_Loads and Structural Dynamics Requirements for Spaceflight Hardware-partitioned.json\n",
      "INFO:aerospace_chatbot.processing.documents:Partitioning ./document_processing/MSFC-DWG-20M02540_RevE_1_Assessment of Flexible Lines for Flow Induced Vibration.pdf Locally...\n",
      "INFO:unstructured_inference:Reading PDF for file: ./document_processing/MSFC-DWG-20M02540_RevE_1_Assessment of Flexible Lines for Flow Induced Vibration.pdf ...\n",
      "INFO:aerospace_chatbot.processing.documents:Partitioned data saved at ./document_processing/partitioned/MSFC-DWG-20M02540_RevE_1_Assessment of Flexible Lines for Flow Induced Vibration-partitioned.json\n",
      "INFO:aerospace_chatbot.processing.documents:Partitioning ./document_processing/MSFC-SPEC-626_Test Control Document for Assessment of Flexible Lines for Flow Induced Vibration.pdf Locally...\n",
      "INFO:unstructured_inference:Reading PDF for file: ./document_processing/MSFC-SPEC-626_Test Control Document for Assessment of Flexible Lines for Flow Induced Vibration.pdf ...\n",
      "INFO:aerospace_chatbot.processing.documents:Partitioned data saved at ./document_processing/partitioned/MSFC-SPEC-626_Test Control Document for Assessment of Flexible Lines for Flow Induced Vibration-partitioned.json\n",
      "INFO:aerospace_chatbot.processing.documents:Partitioning ./document_processing/NASA-STD-5001B_w_change_2_Structural Design and Test Factors of Safety for Spaceflight Hardware.pdf Locally...\n",
      "INFO:unstructured_inference:Reading PDF for file: ./document_processing/NASA-STD-5001B_w_change_2_Structural Design and Test Factors of Safety for Spaceflight Hardware.pdf ...\n",
      "INFO:aerospace_chatbot.processing.documents:Partitioned data saved at ./document_processing/partitioned/NASA-STD-5001B_w_change_2_Structural Design and Test Factors of Safety for Spaceflight Hardware-partitioned.json\n",
      "INFO:aerospace_chatbot.processing.documents:Partitioning ./document_processing/NASA-STD-5009_Nondestructive Evaluation Requirements For Fracture Critical Components.pdf Locally...\n",
      "INFO:unstructured_inference:Reading PDF for file: ./document_processing/NASA-STD-5009_Nondestructive Evaluation Requirements For Fracture Critical Components.pdf ...\n",
      "INFO:aerospace_chatbot.processing.documents:Partitioned data saved at ./document_processing/partitioned/NASA-STD-5009_Nondestructive Evaluation Requirements For Fracture Critical Components-partitioned.json\n",
      "INFO:aerospace_chatbot.processing.documents:Partitioning ./document_processing/NASA-STD-5012A Strength And Life Assessment Requirements For Liquid Fueled Space Propulsion System Engines.pdf Locally...\n",
      "INFO:unstructured_inference:Reading PDF for file: ./document_processing/NASA-STD-5012A Strength And Life Assessment Requirements For Liquid Fueled Space Propulsion System Engines.pdf ...\n",
      "INFO:aerospace_chatbot.processing.documents:Partitioned data saved at ./document_processing/partitioned/NASA-STD-5012A Strength And Life Assessment Requirements For Liquid Fueled Space Propulsion System Engines-partitioned.json\n",
      "INFO:aerospace_chatbot.processing.documents:Partitioning ./document_processing/NASA-STD-5017_A_Design and Development Requirements for Mechanisms.pdf Locally...\n",
      "INFO:unstructured_inference:Reading PDF for file: ./document_processing/NASA-STD-5017_A_Design and Development Requirements for Mechanisms.pdf ...\n",
      "INFO:aerospace_chatbot.processing.documents:Partitioned data saved at ./document_processing/partitioned/NASA-STD-5017_A_Design and Development Requirements for Mechanisms-partitioned.json\n",
      "INFO:aerospace_chatbot.processing.documents:Partitioning ./document_processing/NASA-STD-5018-Baseline_Strength Design and Verification Criteria for Glass, Ceramics, and Windows in Human Space Flight Applications.pdf Locally...\n",
      "INFO:unstructured_inference:Reading PDF for file: ./document_processing/NASA-STD-5018-Baseline_Strength Design and Verification Criteria for Glass, Ceramics, and Windows in Human Space Flight Applications.pdf ...\n",
      "INFO:aerospace_chatbot.processing.documents:Partitioned data saved at ./document_processing/partitioned/NASA-STD-5018-Baseline_Strength Design and Verification Criteria for Glass, Ceramics, and Windows in Human Space Flight Applications-partitioned.json\n",
      "INFO:aerospace_chatbot.processing.documents:Partitioning ./document_processing/NASA-STD-5019A_Fracture Control Requirements for Spaceflight Hardware.pdf Locally...\n",
      "INFO:unstructured_inference:Reading PDF for file: ./document_processing/NASA-STD-5019A_Fracture Control Requirements for Spaceflight Hardware.pdf ...\n",
      "INFO:aerospace_chatbot.processing.documents:Partitioned data saved at ./document_processing/partitioned/NASA-STD-5019A_Fracture Control Requirements for Spaceflight Hardware-partitioned.json\n",
      "INFO:aerospace_chatbot.processing.documents:Partitioning ./document_processing/NASA-STD-5020A_Requirements For Threaded Fastening.pdf Locally...\n",
      "INFO:unstructured_inference:Reading PDF for file: ./document_processing/NASA-STD-5020A_Requirements For Threaded Fastening.pdf ...\n",
      "INFO:aerospace_chatbot.processing.documents:Partitioned data saved at ./document_processing/partitioned/NASA-STD-5020A_Requirements For Threaded Fastening-partitioned.json\n",
      "INFO:aerospace_chatbot.processing.documents:Partitioning ./document_processing/NSTS_18798_RevB_Interpretations of NSTS:ISS Payload Safety Requirements.pdf Locally...\n",
      "INFO:unstructured_inference:Reading PDF for file: ./document_processing/NSTS_18798_RevB_Interpretations of NSTS:ISS Payload Safety Requirements.pdf ...\n",
      "INFO:aerospace_chatbot.processing.documents:Partitioned data saved at ./document_processing/partitioned/NSTS_18798_RevB_Interpretations of NSTS:ISS Payload Safety Requirements-partitioned.json\n",
      "INFO:aerospace_chatbot.processing.documents:Partitioning ./document_processing/NWC-TP-6575 Parachute Recovery Systems Design Manual.pdf Locally...\n",
      "INFO:unstructured_inference:Reading PDF for file: ./document_processing/NWC-TP-6575 Parachute Recovery Systems Design Manual.pdf ...\n",
      "INFO:aerospace_chatbot.processing.documents:Partitioned data saved at ./document_processing/partitioned/NWC-TP-6575 Parachute Recovery Systems Design Manual-partitioned.json\n",
      "INFO:aerospace_chatbot.processing.documents:Partitioning ./document_processing/SMC-S-005_03JUN2009_Flight Pressurized Systems.pdf Locally...\n",
      "INFO:unstructured_inference:Reading PDF for file: ./document_processing/SMC-S-005_03JUN2009_Flight Pressurized Systems.pdf ...\n",
      "INFO:aerospace_chatbot.processing.documents:Partitioned data saved at ./document_processing/partitioned/SMC-S-005_03JUN2009_Flight Pressurized Systems-partitioned.json\n",
      "INFO:aerospace_chatbot.processing.documents:Partitioning ./document_processing/SMC-S-016_05SEP2014_Test Requirements for Launch Upper-Stage and Space Vehicles.pdf Locally...\n",
      "INFO:unstructured_inference:Reading PDF for file: ./document_processing/SMC-S-016_05SEP2014_Test Requirements for Launch Upper-Stage and Space Vehicles.pdf ...\n",
      "INFO:aerospace_chatbot.processing.documents:Partitioned data saved at ./document_processing/partitioned/SMC-S-016_05SEP2014_Test Requirements for Launch Upper-Stage and Space Vehicles-partitioned.json\n",
      "INFO:aerospace_chatbot.processing.documents:Partitioning ./document_processing/SMC-S-025_Evalation and Test Reqirements for Liquid Rocket Engines.pdf Locally...\n",
      "INFO:unstructured_inference:Reading PDF for file: ./document_processing/SMC-S-025_Evalation and Test Reqirements for Liquid Rocket Engines.pdf ...\n",
      "INFO:aerospace_chatbot.processing.documents:Partitioned data saved at ./document_processing/partitioned/SMC-S-025_Evalation and Test Reqirements for Liquid Rocket Engines-partitioned.json\n"
     ]
    }
   ],
   "source": [
    "partitioned_docs_all = []\n",
    "for bucket, docs in zip(buckets, docs_all):\n",
    "    # partitioned_docs = doc_processor.load_and_partition_documents(docs,partition_by_api=False, upload_bucket=bucket)\n",
    "    partitioned_docs = doc_processor.load_and_partition_documents(docs,partition_by_api=False, upload_bucket=None)\n",
    "    partitioned_docs_all.append(partitioned_docs)"
   ]
  },
  {
   "cell_type": "markdown",
   "metadata": {},
   "source": [
    "# Chunk and Index Documents"
   ]
  },
  {
   "cell_type": "markdown",
   "metadata": {},
   "source": [
    "## 2000 token, 0 overlap, voyage-3 Voyage Embedding"
   ]
  },
  {
   "cell_type": "code",
   "execution_count": 25,
   "metadata": {},
   "outputs": [
    {
     "name": "stderr",
     "output_type": "stream",
     "text": [
      "INFO:aerospace_chatbot.processing.documents:Found existing partitioned file: ./document_processing/partitioned/AFSPCMAN 91-710v3_Range Safety-partitioned.json\n",
      "INFO:aerospace_chatbot.processing.documents:Found existing partitioned file: ./document_processing/partitioned/EELV SIS Rev C Final 20170616 (LE-S-002)-partitioned.json\n",
      "INFO:aerospace_chatbot.processing.documents:Found existing partitioned file: ./document_processing/partitioned/JSC-65828B-Chg1_Structural Design Requirements and Factors of Safety for Spaceflight Hardware-partitioned.json\n",
      "INFO:aerospace_chatbot.processing.documents:Found existing partitioned file: ./document_processing/partitioned/JSC-65829_Loads and Structural Dynamics Requirements for Spaceflight Hardware-partitioned.json\n",
      "INFO:aerospace_chatbot.processing.documents:Found existing partitioned file: ./document_processing/partitioned/MSFC-DWG-20M02540_RevE_1_Assessment of Flexible Lines for Flow Induced Vibration-partitioned.json\n",
      "INFO:aerospace_chatbot.processing.documents:Found existing partitioned file: ./document_processing/partitioned/MSFC-SPEC-626_Test Control Document for Assessment of Flexible Lines for Flow Induced Vibration-partitioned.json\n",
      "INFO:aerospace_chatbot.processing.documents:Found existing partitioned file: ./document_processing/partitioned/NASA-STD-5001B_w_change_2_Structural Design and Test Factors of Safety for Spaceflight Hardware-partitioned.json\n",
      "INFO:aerospace_chatbot.processing.documents:Found existing partitioned file: ./document_processing/partitioned/NASA-STD-5009_Nondestructive Evaluation Requirements For Fracture Critical Components-partitioned.json\n",
      "INFO:aerospace_chatbot.processing.documents:Found existing partitioned file: ./document_processing/partitioned/NASA-STD-5012A Strength And Life Assessment Requirements For Liquid Fueled Space Propulsion System Engines-partitioned.json\n",
      "INFO:aerospace_chatbot.processing.documents:Found existing partitioned file: ./document_processing/partitioned/NASA-STD-5017_A_Design and Development Requirements for Mechanisms-partitioned.json\n",
      "INFO:aerospace_chatbot.processing.documents:Found existing partitioned file: ./document_processing/partitioned/NASA-STD-5018-Baseline_Strength Design and Verification Criteria for Glass, Ceramics, and Windows in Human Space Flight Applications-partitioned.json\n",
      "INFO:aerospace_chatbot.processing.documents:Found existing partitioned file: ./document_processing/partitioned/NASA-STD-5019A_Fracture Control Requirements for Spaceflight Hardware-partitioned.json\n",
      "INFO:aerospace_chatbot.processing.documents:Found existing partitioned file: ./document_processing/partitioned/NASA-STD-5020A_Requirements For Threaded Fastening-partitioned.json\n",
      "INFO:aerospace_chatbot.processing.documents:Found existing partitioned file: ./document_processing/partitioned/NSTS_18798_RevB_Interpretations of NSTS:ISS Payload Safety Requirements-partitioned.json\n",
      "INFO:aerospace_chatbot.processing.documents:Found existing partitioned file: ./document_processing/partitioned/NWC-TP-6575 Parachute Recovery Systems Design Manual-partitioned.json\n",
      "INFO:aerospace_chatbot.processing.documents:Found existing partitioned file: ./document_processing/partitioned/SMC-S-005_03JUN2009_Flight Pressurized Systems-partitioned.json\n",
      "INFO:aerospace_chatbot.processing.documents:Found existing partitioned file: ./document_processing/partitioned/SMC-S-016_05SEP2014_Test Requirements for Launch Upper-Stage and Space Vehicles-partitioned.json\n",
      "INFO:aerospace_chatbot.processing.documents:Found existing partitioned file: ./document_processing/partitioned/SMC-S-025_Evalation and Test Reqirements for Liquid Rocket Engines-partitioned.json\n",
      "INFO:aerospace_chatbot.processing.documents:Loaded 18 partitioned documents from ./document_processing\n"
     ]
    },
    {
     "name": "stdout",
     "output_type": "stream",
     "text": [
      "./document_processing/partitioned/AFSPCMAN 91-710v3_Range Safety-partitioned.json\n",
      "./document_processing/partitioned/EELV SIS Rev C Final 20170616 (LE-S-002)-partitioned.json\n",
      "./document_processing/partitioned/JSC-65828B-Chg1_Structural Design Requirements and Factors of Safety for Spaceflight Hardware-partitioned.json\n",
      "./document_processing/partitioned/JSC-65829_Loads and Structural Dynamics Requirements for Spaceflight Hardware-partitioned.json\n",
      "./document_processing/partitioned/MSFC-DWG-20M02540_RevE_1_Assessment of Flexible Lines for Flow Induced Vibration-partitioned.json\n",
      "./document_processing/partitioned/MSFC-SPEC-626_Test Control Document for Assessment of Flexible Lines for Flow Induced Vibration-partitioned.json\n",
      "./document_processing/partitioned/NASA-STD-5001B_w_change_2_Structural Design and Test Factors of Safety for Spaceflight Hardware-partitioned.json\n",
      "./document_processing/partitioned/NASA-STD-5009_Nondestructive Evaluation Requirements For Fracture Critical Components-partitioned.json\n",
      "./document_processing/partitioned/NASA-STD-5012A Strength And Life Assessment Requirements For Liquid Fueled Space Propulsion System Engines-partitioned.json\n",
      "./document_processing/partitioned/NASA-STD-5017_A_Design and Development Requirements for Mechanisms-partitioned.json\n",
      "./document_processing/partitioned/NASA-STD-5018-Baseline_Strength Design and Verification Criteria for Glass, Ceramics, and Windows in Human Space Flight Applications-partitioned.json\n",
      "./document_processing/partitioned/NASA-STD-5019A_Fracture Control Requirements for Spaceflight Hardware-partitioned.json\n",
      "./document_processing/partitioned/NASA-STD-5020A_Requirements For Threaded Fastening-partitioned.json\n",
      "./document_processing/partitioned/NSTS_18798_RevB_Interpretations of NSTS:ISS Payload Safety Requirements-partitioned.json\n",
      "./document_processing/partitioned/NWC-TP-6575 Parachute Recovery Systems Design Manual-partitioned.json\n",
      "./document_processing/partitioned/SMC-S-005_03JUN2009_Flight Pressurized Systems-partitioned.json\n",
      "./document_processing/partitioned/SMC-S-016_05SEP2014_Test Requirements for Launch Upper-Stage and Space Vehicles-partitioned.json\n",
      "./document_processing/partitioned/SMC-S-025_Evalation and Test Reqirements for Liquid Rocket Engines-partitioned.json\n"
     ]
    }
   ],
   "source": [
    "# Load partitioned documents\n",
    "partitioned_docs_all = []\n",
    "for bucket, docs in zip(buckets, docs_all):\n",
    "    partitioned_docs = doc_processor.load_partitioned_documents(docs, partition_dir='./document_processing')\n",
    "    partitioned_docs_all.append(partitioned_docs)"
   ]
  },
  {
   "cell_type": "code",
   "execution_count": 26,
   "metadata": {},
   "outputs": [],
   "source": [
    "# Set up chunking and database parameters\n",
    "db_type='Pinecone'\n",
    "\n",
    "chunk_size=2000\n",
    "chunk_overlap=0\n",
    "\n",
    "# embedding_service='OpenAI'\n",
    "# embedding_model='text-embedding-3-large'\n",
    "embedding_service = \"Voyage\"\n",
    "embedding_model = \"voyage-3\"\n",
    "embedding_service = EmbeddingService(\n",
    "    model_service=embedding_service,\n",
    "    model=embedding_model\n",
    ")\n",
    "\n",
    "rerank_service='Cohere'\n",
    "rerank_model='rerank-v3.5'\n",
    "rerank_service = RerankService(\n",
    "    model_service=rerank_service,\n",
    "    model=rerank_model\n",
    ")\n",
    "\n",
    "dirname = f'./document_processing_{chunk_size}_{chunk_overlap}'\n",
    "doc_processor = DocumentProcessor(\n",
    "    embedding_service=embedding_service,\n",
    "    chunk_size=chunk_size,\n",
    "    chunk_overlap=chunk_overlap,\n",
    "    work_dir=dirname\n",
    ")\n",
    "\n",
    "index_name = f'{embedding_model}-dc-demo2-{chunk_size}'\n",
    "db_service = DatabaseService(\n",
    "    db_type=db_type,\n",
    "    index_name=index_name,\n",
    "    embedding_service=embedding_service,\n",
    "    rerank_service=rerank_service,\n",
    ")"
   ]
  },
  {
   "cell_type": "code",
   "execution_count": 27,
   "metadata": {},
   "outputs": [
    {
     "name": "stderr",
     "output_type": "stream",
     "text": [
      "INFO:aerospace_chatbot.processing.documents:Chunking documents...\n"
     ]
    },
    {
     "name": "stdout",
     "output_type": "stream",
     "text": [
      "Chunking ./document_processing/partitioned/AFSPCMAN 91-710v3_Range Safety-partitioned.json...\n",
      "Chunked data saved at ./document_processing_2000_0/chunked/AFSPCMAN 91-710v3_Range Safety-chunked.json\n",
      "Chunking ./document_processing/partitioned/EELV SIS Rev C Final 20170616 (LE-S-002)-partitioned.json...\n",
      "Chunked data saved at ./document_processing_2000_0/chunked/EELV SIS Rev C Final 20170616 (LE-S-002)-chunked.json\n",
      "Chunking ./document_processing/partitioned/JSC-65828B-Chg1_Structural Design Requirements and Factors of Safety for Spaceflight Hardware-partitioned.json...\n",
      "Chunked data saved at ./document_processing_2000_0/chunked/JSC-65828B-Chg1_Structural Design Requirements and Factors of Safety for Spaceflight Hardware-chunked.json\n",
      "Chunking ./document_processing/partitioned/JSC-65829_Loads and Structural Dynamics Requirements for Spaceflight Hardware-partitioned.json...\n",
      "Chunked data saved at ./document_processing_2000_0/chunked/JSC-65829_Loads and Structural Dynamics Requirements for Spaceflight Hardware-chunked.json\n",
      "Chunking ./document_processing/partitioned/MSFC-DWG-20M02540_RevE_1_Assessment of Flexible Lines for Flow Induced Vibration-partitioned.json...\n",
      "Chunked data saved at ./document_processing_2000_0/chunked/MSFC-DWG-20M02540_RevE_1_Assessment of Flexible Lines for Flow Induced Vibration-chunked.json\n",
      "Chunking ./document_processing/partitioned/MSFC-SPEC-626_Test Control Document for Assessment of Flexible Lines for Flow Induced Vibration-partitioned.json...\n",
      "Chunked data saved at ./document_processing_2000_0/chunked/MSFC-SPEC-626_Test Control Document for Assessment of Flexible Lines for Flow Induced Vibration-chunked.json\n",
      "Chunking ./document_processing/partitioned/NASA-STD-5001B_w_change_2_Structural Design and Test Factors of Safety for Spaceflight Hardware-partitioned.json...\n",
      "Chunked data saved at ./document_processing_2000_0/chunked/NASA-STD-5001B_w_change_2_Structural Design and Test Factors of Safety for Spaceflight Hardware-chunked.json\n",
      "Chunking ./document_processing/partitioned/NASA-STD-5009_Nondestructive Evaluation Requirements For Fracture Critical Components-partitioned.json...\n",
      "Chunked data saved at ./document_processing_2000_0/chunked/NASA-STD-5009_Nondestructive Evaluation Requirements For Fracture Critical Components-chunked.json\n",
      "Chunking ./document_processing/partitioned/NASA-STD-5012A Strength And Life Assessment Requirements For Liquid Fueled Space Propulsion System Engines-partitioned.json...\n",
      "Chunked data saved at ./document_processing_2000_0/chunked/NASA-STD-5012A Strength And Life Assessment Requirements For Liquid Fueled Space Propulsion System Engines-chunked.json\n",
      "Chunking ./document_processing/partitioned/NASA-STD-5017_A_Design and Development Requirements for Mechanisms-partitioned.json...\n",
      "Chunked data saved at ./document_processing_2000_0/chunked/NASA-STD-5017_A_Design and Development Requirements for Mechanisms-chunked.json\n",
      "Chunking ./document_processing/partitioned/NASA-STD-5018-Baseline_Strength Design and Verification Criteria for Glass, Ceramics, and Windows in Human Space Flight Applications-partitioned.json...\n",
      "Chunked data saved at ./document_processing_2000_0/chunked/NASA-STD-5018-Baseline_Strength Design and Verification Criteria for Glass, Ceramics, and Windows in Human Space Flight Applications-chunked.json\n",
      "Chunking ./document_processing/partitioned/NASA-STD-5019A_Fracture Control Requirements for Spaceflight Hardware-partitioned.json...\n",
      "Chunked data saved at ./document_processing_2000_0/chunked/NASA-STD-5019A_Fracture Control Requirements for Spaceflight Hardware-chunked.json\n",
      "Chunking ./document_processing/partitioned/NASA-STD-5020A_Requirements For Threaded Fastening-partitioned.json...\n",
      "Chunked data saved at ./document_processing_2000_0/chunked/NASA-STD-5020A_Requirements For Threaded Fastening-chunked.json\n",
      "Chunking ./document_processing/partitioned/NSTS_18798_RevB_Interpretations of NSTS:ISS Payload Safety Requirements-partitioned.json...\n",
      "Chunked data saved at ./document_processing_2000_0/chunked/NSTS_18798_RevB_Interpretations of NSTS:ISS Payload Safety Requirements-chunked.json\n",
      "Chunking ./document_processing/partitioned/NWC-TP-6575 Parachute Recovery Systems Design Manual-partitioned.json...\n",
      "Chunked data saved at ./document_processing_2000_0/chunked/NWC-TP-6575 Parachute Recovery Systems Design Manual-chunked.json\n",
      "Chunking ./document_processing/partitioned/SMC-S-005_03JUN2009_Flight Pressurized Systems-partitioned.json...\n",
      "Chunked data saved at ./document_processing_2000_0/chunked/SMC-S-005_03JUN2009_Flight Pressurized Systems-chunked.json\n",
      "Chunking ./document_processing/partitioned/SMC-S-016_05SEP2014_Test Requirements for Launch Upper-Stage and Space Vehicles-partitioned.json...\n",
      "Chunked data saved at ./document_processing_2000_0/chunked/SMC-S-016_05SEP2014_Test Requirements for Launch Upper-Stage and Space Vehicles-chunked.json\n",
      "Chunking ./document_processing/partitioned/SMC-S-025_Evalation and Test Reqirements for Liquid Rocket Engines-partitioned.json...\n"
     ]
    },
    {
     "name": "stderr",
     "output_type": "stream",
     "text": [
      "INFO:aerospace_chatbot.processing.documents:Total number of chunks: 2580\n",
      "INFO:aerospace_chatbot.processing.documents:Output paths: ['./document_processing_2000_0/chunked/AFSPCMAN 91-710v3_Range Safety-chunked.json', './document_processing_2000_0/chunked/EELV SIS Rev C Final 20170616 (LE-S-002)-chunked.json', './document_processing_2000_0/chunked/JSC-65828B-Chg1_Structural Design Requirements and Factors of Safety for Spaceflight Hardware-chunked.json', './document_processing_2000_0/chunked/JSC-65829_Loads and Structural Dynamics Requirements for Spaceflight Hardware-chunked.json', './document_processing_2000_0/chunked/MSFC-DWG-20M02540_RevE_1_Assessment of Flexible Lines for Flow Induced Vibration-chunked.json', './document_processing_2000_0/chunked/MSFC-SPEC-626_Test Control Document for Assessment of Flexible Lines for Flow Induced Vibration-chunked.json', './document_processing_2000_0/chunked/NASA-STD-5001B_w_change_2_Structural Design and Test Factors of Safety for Spaceflight Hardware-chunked.json', './document_processing_2000_0/chunked/NASA-STD-5009_Nondestructive Evaluation Requirements For Fracture Critical Components-chunked.json', './document_processing_2000_0/chunked/NASA-STD-5012A Strength And Life Assessment Requirements For Liquid Fueled Space Propulsion System Engines-chunked.json', './document_processing_2000_0/chunked/NASA-STD-5017_A_Design and Development Requirements for Mechanisms-chunked.json', './document_processing_2000_0/chunked/NASA-STD-5018-Baseline_Strength Design and Verification Criteria for Glass, Ceramics, and Windows in Human Space Flight Applications-chunked.json', './document_processing_2000_0/chunked/NASA-STD-5019A_Fracture Control Requirements for Spaceflight Hardware-chunked.json', './document_processing_2000_0/chunked/NASA-STD-5020A_Requirements For Threaded Fastening-chunked.json', './document_processing_2000_0/chunked/NSTS_18798_RevB_Interpretations of NSTS:ISS Payload Safety Requirements-chunked.json', './document_processing_2000_0/chunked/NWC-TP-6575 Parachute Recovery Systems Design Manual-chunked.json', './document_processing_2000_0/chunked/SMC-S-005_03JUN2009_Flight Pressurized Systems-chunked.json', './document_processing_2000_0/chunked/SMC-S-016_05SEP2014_Test Requirements for Launch Upper-Stage and Space Vehicles-chunked.json', './document_processing_2000_0/chunked/SMC-S-025_Evalation and Test Reqirements for Liquid Rocket Engines-chunked.json']\n"
     ]
    },
    {
     "name": "stdout",
     "output_type": "stream",
     "text": [
      "Chunked data saved at ./document_processing_2000_0/chunked/SMC-S-025_Evalation and Test Reqirements for Liquid Rocket Engines-chunked.json\n",
      "1\n"
     ]
    }
   ],
   "source": [
    "# Chunk loaded partitioned documents\n",
    "chunk_obj_all = []\n",
    "output_paths_all = []\n",
    "for bucket, partitioned_docs in zip(buckets, partitioned_docs_all):\n",
    "    chunk_obj, output_paths = doc_processor.chunk_documents(partitioned_docs)\n",
    "    chunk_obj_all.append(chunk_obj)\n",
    "    output_paths_all.append(output_paths)\n",
    "\n",
    "print(len(chunk_obj_all))"
   ]
  },
  {
   "cell_type": "code",
   "execution_count": 29,
   "metadata": {},
   "outputs": [
    {
     "name": "stdout",
     "output_type": "stream",
     "text": [
      "2580\n"
     ]
    }
   ],
   "source": [
    "print(len(chunk_obj_all[0].chunks))\n",
    "# print(len(chunk_obj_all[1].chunks))\n",
    "# print(len(chunk_obj_all[0].chunks)+len(chunk_obj_all[1].chunks))"
   ]
  },
  {
   "cell_type": "code",
   "execution_count": 30,
   "metadata": {},
   "outputs": [
    {
     "name": "stderr",
     "output_type": "stream",
     "text": [
      "INFO:aerospace_chatbot.services.database:Validating index voyage-3-dc-demo2-2000\n",
      "INFO:pinecone_plugin_interface.logging:Discovering subpackages in _NamespacePath(['/Users/danmueller/Documents/GitHub/aerospace_chatbot/.venv/lib/python3.11/site-packages/pinecone_plugins'])\n",
      "INFO:pinecone_plugin_interface.logging:Looking for plugins in pinecone_plugins.inference\n",
      "INFO:pinecone_plugin_interface.logging:Installing plugin inference into Pinecone\n",
      "INFO:aerospace_chatbot.services.database:Clearing Pinecone index voyage-3-dc-demo2-2000\n",
      "WARNING:aerospace_chatbot.services.database:Index voyage-3-dc-demo2-2000 not found. No deletion performed.\n",
      "INFO:aerospace_chatbot.services.database:Not clearing database, but pinecone index voyage-3-dc-demo2-2000 not found, creating.\n",
      "INFO:aerospace_chatbot.services.database:Pinecone index voyage-3-dc-demo2-2000 created\n"
     ]
    }
   ],
   "source": [
    "try:\n",
    "    db_service.initialize_database(clear=True)\n",
    "except ValueError as e:\n",
    "    print(f\"Database initialization failed: {str(e)}\")\n",
    "    print(e)\n",
    "    raise e"
   ]
  },
  {
   "cell_type": "code",
   "execution_count": 31,
   "metadata": {},
   "outputs": [
    {
     "name": "stdout",
     "output_type": "stream",
     "text": [
      "Upserting 2580 chunks\n"
     ]
    },
    {
     "name": "stderr",
     "output_type": "stream",
     "text": [
      "INFO:aerospace_chatbot.services.database:No existing metadata found in voyage-3-dc-demo2-2000, adding metadata: {'chunk_size': 2000, 'chunk_overlap': 0, 'embedding_family': 'Voyage', 'embedding_model': 'voyage-3'}\n",
      "INFO:aerospace_chatbot.services.database:Retry 1 of 15: Waiting for vectors to be indexed in Pinecone... Current count: 0, Expected: 1\n",
      "INFO:aerospace_chatbot.services.database:Successfully verified 1 vectors in Pinecone index\n",
      "INFO:aerospace_chatbot.services.database:Successfully added metadata to voyage-3-dc-demo2-2000\n",
      "INFO:aerospace_chatbot.services.database:Initial vector count: 1\n",
      "INFO:aerospace_chatbot.services.database:Upserting 2580 vectors\n",
      "INFO:aerospace_chatbot.services.database:Upserting batch 1 of 52\n",
      "INFO:aerospace_chatbot.services.database:Upserting 50 vectors for this batch...\n",
      "INFO:aerospace_chatbot.services.database:Upserting batch 2 of 52\n",
      "INFO:aerospace_chatbot.services.database:Upserting 50 vectors for this batch...\n",
      "INFO:aerospace_chatbot.services.database:Upserting batch 3 of 52\n",
      "INFO:aerospace_chatbot.services.database:Upserting 50 vectors for this batch...\n",
      "INFO:aerospace_chatbot.services.database:Upserting batch 4 of 52\n",
      "INFO:aerospace_chatbot.services.database:Upserting 50 vectors for this batch...\n",
      "INFO:aerospace_chatbot.services.database:Upserting batch 5 of 52\n",
      "INFO:aerospace_chatbot.services.database:Upserting 50 vectors for this batch...\n",
      "INFO:aerospace_chatbot.services.database:Upserting batch 6 of 52\n",
      "INFO:aerospace_chatbot.services.database:Upserting 50 vectors for this batch...\n",
      "INFO:aerospace_chatbot.services.database:Upserting batch 7 of 52\n",
      "INFO:aerospace_chatbot.services.database:Upserting 50 vectors for this batch...\n",
      "INFO:aerospace_chatbot.services.database:Upserting batch 8 of 52\n",
      "INFO:aerospace_chatbot.services.database:Upserting 50 vectors for this batch...\n",
      "INFO:aerospace_chatbot.services.database:Upserting batch 9 of 52\n",
      "INFO:aerospace_chatbot.services.database:Upserting 50 vectors for this batch...\n",
      "INFO:aerospace_chatbot.services.database:Upserting batch 10 of 52\n",
      "INFO:aerospace_chatbot.services.database:Upserting 50 vectors for this batch...\n",
      "INFO:aerospace_chatbot.services.database:Upserting batch 11 of 52\n",
      "INFO:aerospace_chatbot.services.database:Upserting 50 vectors for this batch...\n",
      "INFO:aerospace_chatbot.services.database:Upserting batch 12 of 52\n",
      "INFO:aerospace_chatbot.services.database:Upserting 50 vectors for this batch...\n",
      "INFO:aerospace_chatbot.services.database:Upserting batch 13 of 52\n",
      "INFO:aerospace_chatbot.services.database:Upserting 50 vectors for this batch...\n",
      "INFO:aerospace_chatbot.services.database:Upserting batch 14 of 52\n",
      "INFO:aerospace_chatbot.services.database:Upserting 50 vectors for this batch...\n",
      "INFO:aerospace_chatbot.services.database:Upserting batch 15 of 52\n",
      "INFO:aerospace_chatbot.services.database:Upserting 50 vectors for this batch...\n",
      "INFO:aerospace_chatbot.services.database:Upserting batch 16 of 52\n",
      "INFO:aerospace_chatbot.services.database:Upserting 50 vectors for this batch...\n",
      "INFO:aerospace_chatbot.services.database:Upserting batch 17 of 52\n",
      "INFO:aerospace_chatbot.services.database:Upserting 50 vectors for this batch...\n",
      "INFO:aerospace_chatbot.services.database:Upserting batch 18 of 52\n",
      "INFO:aerospace_chatbot.services.database:Upserting 50 vectors for this batch...\n",
      "INFO:aerospace_chatbot.services.database:Upserting batch 19 of 52\n",
      "INFO:aerospace_chatbot.services.database:Upserting 50 vectors for this batch...\n",
      "INFO:aerospace_chatbot.services.database:Upserting batch 20 of 52\n",
      "INFO:aerospace_chatbot.services.database:Upserting 50 vectors for this batch...\n",
      "INFO:aerospace_chatbot.services.database:Upserting batch 21 of 52\n",
      "INFO:aerospace_chatbot.services.database:Upserting 50 vectors for this batch...\n",
      "INFO:aerospace_chatbot.services.database:Upserting batch 22 of 52\n",
      "INFO:aerospace_chatbot.services.database:Upserting 50 vectors for this batch...\n",
      "INFO:aerospace_chatbot.services.database:Upserting batch 23 of 52\n",
      "INFO:aerospace_chatbot.services.database:Upserting 50 vectors for this batch...\n",
      "INFO:aerospace_chatbot.services.database:Upserting batch 24 of 52\n",
      "INFO:aerospace_chatbot.services.database:Upserting 50 vectors for this batch...\n",
      "INFO:aerospace_chatbot.services.database:Upserting batch 25 of 52\n",
      "INFO:aerospace_chatbot.services.database:Upserting 50 vectors for this batch...\n",
      "INFO:aerospace_chatbot.services.database:Upserting batch 26 of 52\n",
      "INFO:aerospace_chatbot.services.database:Upserting 50 vectors for this batch...\n",
      "INFO:aerospace_chatbot.services.database:Upserting batch 27 of 52\n",
      "INFO:aerospace_chatbot.services.database:Upserting 50 vectors for this batch...\n",
      "INFO:aerospace_chatbot.services.database:Upserting batch 28 of 52\n",
      "INFO:aerospace_chatbot.services.database:Upserting 50 vectors for this batch...\n",
      "INFO:aerospace_chatbot.services.database:Upserting batch 29 of 52\n",
      "INFO:aerospace_chatbot.services.database:Upserting 50 vectors for this batch...\n",
      "INFO:aerospace_chatbot.services.database:Upserting batch 30 of 52\n",
      "INFO:aerospace_chatbot.services.database:Upserting 50 vectors for this batch...\n",
      "INFO:aerospace_chatbot.services.database:Upserting batch 31 of 52\n",
      "INFO:aerospace_chatbot.services.database:Upserting 50 vectors for this batch...\n",
      "INFO:aerospace_chatbot.services.database:Upserting batch 32 of 52\n",
      "INFO:aerospace_chatbot.services.database:Upserting 50 vectors for this batch...\n",
      "INFO:aerospace_chatbot.services.database:Upserting batch 33 of 52\n",
      "INFO:aerospace_chatbot.services.database:Upserting 50 vectors for this batch...\n",
      "INFO:aerospace_chatbot.services.database:Upserting batch 34 of 52\n",
      "INFO:aerospace_chatbot.services.database:Upserting 50 vectors for this batch...\n",
      "INFO:aerospace_chatbot.services.database:Upserting batch 35 of 52\n",
      "INFO:aerospace_chatbot.services.database:Upserting 50 vectors for this batch...\n",
      "INFO:aerospace_chatbot.services.database:Upserting batch 36 of 52\n",
      "INFO:aerospace_chatbot.services.database:Upserting 50 vectors for this batch...\n",
      "INFO:aerospace_chatbot.services.database:Upserting batch 37 of 52\n",
      "INFO:aerospace_chatbot.services.database:Upserting 50 vectors for this batch...\n",
      "INFO:aerospace_chatbot.services.database:Upserting batch 38 of 52\n",
      "INFO:aerospace_chatbot.services.database:Upserting 50 vectors for this batch...\n",
      "INFO:aerospace_chatbot.services.database:Upserting batch 39 of 52\n",
      "INFO:aerospace_chatbot.services.database:Upserting 50 vectors for this batch...\n",
      "INFO:aerospace_chatbot.services.database:Upserting batch 40 of 52\n",
      "INFO:aerospace_chatbot.services.database:Upserting 50 vectors for this batch...\n",
      "INFO:aerospace_chatbot.services.database:Upserting batch 41 of 52\n",
      "INFO:aerospace_chatbot.services.database:Upserting 50 vectors for this batch...\n",
      "INFO:aerospace_chatbot.services.database:Upserting batch 42 of 52\n",
      "INFO:aerospace_chatbot.services.database:Upserting 50 vectors for this batch...\n",
      "INFO:aerospace_chatbot.services.database:Upserting batch 43 of 52\n",
      "INFO:aerospace_chatbot.services.database:Upserting 50 vectors for this batch...\n",
      "INFO:aerospace_chatbot.services.database:Upserting batch 44 of 52\n",
      "INFO:aerospace_chatbot.services.database:Upserting 50 vectors for this batch...\n",
      "INFO:aerospace_chatbot.services.database:Upserting batch 45 of 52\n",
      "INFO:aerospace_chatbot.services.database:Upserting 50 vectors for this batch...\n",
      "INFO:aerospace_chatbot.services.database:Upserting batch 46 of 52\n",
      "INFO:aerospace_chatbot.services.database:Upserting 50 vectors for this batch...\n",
      "INFO:aerospace_chatbot.services.database:Upserting batch 47 of 52\n",
      "INFO:aerospace_chatbot.services.database:Upserting 50 vectors for this batch...\n",
      "INFO:aerospace_chatbot.services.database:Upserting batch 48 of 52\n",
      "INFO:aerospace_chatbot.services.database:Upserting 50 vectors for this batch...\n",
      "INFO:aerospace_chatbot.services.database:Upserting batch 49 of 52\n",
      "INFO:aerospace_chatbot.services.database:Upserting 50 vectors for this batch...\n",
      "INFO:aerospace_chatbot.services.database:Upserting batch 50 of 52\n",
      "INFO:aerospace_chatbot.services.database:Upserting 50 vectors for this batch...\n",
      "INFO:aerospace_chatbot.services.database:Upserting batch 51 of 52\n",
      "INFO:aerospace_chatbot.services.database:Upserting 50 vectors for this batch...\n",
      "INFO:aerospace_chatbot.services.database:Upserting batch 52 of 52\n",
      "INFO:aerospace_chatbot.services.database:Upserting 30 vectors for this batch...\n"
     ]
    }
   ],
   "source": [
    "for chunk_obj in chunk_obj_all:\n",
    "    print(f'Upserting {len(chunk_obj.chunks)} chunks')\n",
    "    db_service.index_data(chunk_obj, batch_size=50)\n",
    "    time.sleep(5)"
   ]
  },
  {
   "cell_type": "markdown",
   "metadata": {},
   "source": [
    "## 2000 token, 0 overlap, text-embedding-3-large OpenAI Embedding"
   ]
  },
  {
   "cell_type": "code",
   "execution_count": 32,
   "metadata": {},
   "outputs": [
    {
     "name": "stderr",
     "output_type": "stream",
     "text": [
      "INFO:aerospace_chatbot.processing.documents:Found existing partitioned file: ./document_processing/partitioned/AFSPCMAN 91-710v3_Range Safety-partitioned.json\n",
      "INFO:aerospace_chatbot.processing.documents:Found existing partitioned file: ./document_processing/partitioned/EELV SIS Rev C Final 20170616 (LE-S-002)-partitioned.json\n",
      "INFO:aerospace_chatbot.processing.documents:Found existing partitioned file: ./document_processing/partitioned/JSC-65828B-Chg1_Structural Design Requirements and Factors of Safety for Spaceflight Hardware-partitioned.json\n",
      "INFO:aerospace_chatbot.processing.documents:Found existing partitioned file: ./document_processing/partitioned/JSC-65829_Loads and Structural Dynamics Requirements for Spaceflight Hardware-partitioned.json\n",
      "INFO:aerospace_chatbot.processing.documents:Found existing partitioned file: ./document_processing/partitioned/MSFC-DWG-20M02540_RevE_1_Assessment of Flexible Lines for Flow Induced Vibration-partitioned.json\n",
      "INFO:aerospace_chatbot.processing.documents:Found existing partitioned file: ./document_processing/partitioned/MSFC-SPEC-626_Test Control Document for Assessment of Flexible Lines for Flow Induced Vibration-partitioned.json\n",
      "INFO:aerospace_chatbot.processing.documents:Found existing partitioned file: ./document_processing/partitioned/NASA-STD-5001B_w_change_2_Structural Design and Test Factors of Safety for Spaceflight Hardware-partitioned.json\n",
      "INFO:aerospace_chatbot.processing.documents:Found existing partitioned file: ./document_processing/partitioned/NASA-STD-5009_Nondestructive Evaluation Requirements For Fracture Critical Components-partitioned.json\n",
      "INFO:aerospace_chatbot.processing.documents:Found existing partitioned file: ./document_processing/partitioned/NASA-STD-5012A Strength And Life Assessment Requirements For Liquid Fueled Space Propulsion System Engines-partitioned.json\n",
      "INFO:aerospace_chatbot.processing.documents:Found existing partitioned file: ./document_processing/partitioned/NASA-STD-5017_A_Design and Development Requirements for Mechanisms-partitioned.json\n",
      "INFO:aerospace_chatbot.processing.documents:Found existing partitioned file: ./document_processing/partitioned/NASA-STD-5018-Baseline_Strength Design and Verification Criteria for Glass, Ceramics, and Windows in Human Space Flight Applications-partitioned.json\n",
      "INFO:aerospace_chatbot.processing.documents:Found existing partitioned file: ./document_processing/partitioned/NASA-STD-5019A_Fracture Control Requirements for Spaceflight Hardware-partitioned.json\n",
      "INFO:aerospace_chatbot.processing.documents:Found existing partitioned file: ./document_processing/partitioned/NASA-STD-5020A_Requirements For Threaded Fastening-partitioned.json\n",
      "INFO:aerospace_chatbot.processing.documents:Found existing partitioned file: ./document_processing/partitioned/NSTS_18798_RevB_Interpretations of NSTS:ISS Payload Safety Requirements-partitioned.json\n",
      "INFO:aerospace_chatbot.processing.documents:Found existing partitioned file: ./document_processing/partitioned/NWC-TP-6575 Parachute Recovery Systems Design Manual-partitioned.json\n",
      "INFO:aerospace_chatbot.processing.documents:Found existing partitioned file: ./document_processing/partitioned/SMC-S-005_03JUN2009_Flight Pressurized Systems-partitioned.json\n",
      "INFO:aerospace_chatbot.processing.documents:Found existing partitioned file: ./document_processing/partitioned/SMC-S-016_05SEP2014_Test Requirements for Launch Upper-Stage and Space Vehicles-partitioned.json\n",
      "INFO:aerospace_chatbot.processing.documents:Found existing partitioned file: ./document_processing/partitioned/SMC-S-025_Evalation and Test Reqirements for Liquid Rocket Engines-partitioned.json\n",
      "INFO:aerospace_chatbot.processing.documents:Loaded 18 partitioned documents from ./document_processing\n"
     ]
    },
    {
     "name": "stdout",
     "output_type": "stream",
     "text": [
      "./document_processing/partitioned/AFSPCMAN 91-710v3_Range Safety-partitioned.json\n",
      "./document_processing/partitioned/EELV SIS Rev C Final 20170616 (LE-S-002)-partitioned.json\n",
      "./document_processing/partitioned/JSC-65828B-Chg1_Structural Design Requirements and Factors of Safety for Spaceflight Hardware-partitioned.json\n",
      "./document_processing/partitioned/JSC-65829_Loads and Structural Dynamics Requirements for Spaceflight Hardware-partitioned.json\n",
      "./document_processing/partitioned/MSFC-DWG-20M02540_RevE_1_Assessment of Flexible Lines for Flow Induced Vibration-partitioned.json\n",
      "./document_processing/partitioned/MSFC-SPEC-626_Test Control Document for Assessment of Flexible Lines for Flow Induced Vibration-partitioned.json\n",
      "./document_processing/partitioned/NASA-STD-5001B_w_change_2_Structural Design and Test Factors of Safety for Spaceflight Hardware-partitioned.json\n",
      "./document_processing/partitioned/NASA-STD-5009_Nondestructive Evaluation Requirements For Fracture Critical Components-partitioned.json\n",
      "./document_processing/partitioned/NASA-STD-5012A Strength And Life Assessment Requirements For Liquid Fueled Space Propulsion System Engines-partitioned.json\n",
      "./document_processing/partitioned/NASA-STD-5017_A_Design and Development Requirements for Mechanisms-partitioned.json\n",
      "./document_processing/partitioned/NASA-STD-5018-Baseline_Strength Design and Verification Criteria for Glass, Ceramics, and Windows in Human Space Flight Applications-partitioned.json\n",
      "./document_processing/partitioned/NASA-STD-5019A_Fracture Control Requirements for Spaceflight Hardware-partitioned.json\n",
      "./document_processing/partitioned/NASA-STD-5020A_Requirements For Threaded Fastening-partitioned.json\n",
      "./document_processing/partitioned/NSTS_18798_RevB_Interpretations of NSTS:ISS Payload Safety Requirements-partitioned.json\n",
      "./document_processing/partitioned/NWC-TP-6575 Parachute Recovery Systems Design Manual-partitioned.json\n",
      "./document_processing/partitioned/SMC-S-005_03JUN2009_Flight Pressurized Systems-partitioned.json\n",
      "./document_processing/partitioned/SMC-S-016_05SEP2014_Test Requirements for Launch Upper-Stage and Space Vehicles-partitioned.json\n",
      "./document_processing/partitioned/SMC-S-025_Evalation and Test Reqirements for Liquid Rocket Engines-partitioned.json\n"
     ]
    }
   ],
   "source": [
    "# Load partitioned documents\n",
    "partitioned_docs_all = []\n",
    "for bucket, docs in zip(buckets, docs_all):\n",
    "    partitioned_docs = doc_processor.load_partitioned_documents(docs, partition_dir='./document_processing')\n",
    "    partitioned_docs_all.append(partitioned_docs)"
   ]
  },
  {
   "cell_type": "code",
   "execution_count": 33,
   "metadata": {},
   "outputs": [],
   "source": [
    "# Set up chunking and database parameters\n",
    "db_type='Pinecone'\n",
    "\n",
    "chunk_size=2000\n",
    "chunk_overlap=0\n",
    "\n",
    "embedding_service='OpenAI'\n",
    "embedding_model='text-embedding-3-large'\n",
    "# embedding_service = \"Voyage\"\n",
    "# embedding_model = \"voyage-3\"\n",
    "embedding_service = EmbeddingService(\n",
    "    model_service=embedding_service,\n",
    "    model=embedding_model\n",
    ")\n",
    "\n",
    "rerank_service='Cohere'\n",
    "rerank_model='rerank-v3.5'\n",
    "rerank_service = RerankService(\n",
    "    model_service=rerank_service,\n",
    "    model=rerank_model\n",
    ")\n",
    "\n",
    "dirname = f'./document_processing_{chunk_size}_{chunk_overlap}'\n",
    "doc_processor = DocumentProcessor(\n",
    "    embedding_service=embedding_service,\n",
    "    chunk_size=chunk_size,\n",
    "    chunk_overlap=chunk_overlap,\n",
    "    work_dir=dirname\n",
    ")\n",
    "\n",
    "index_name = f'{embedding_model}-dc-demo2-{chunk_size}'\n",
    "db_service = DatabaseService(\n",
    "    db_type=db_type,\n",
    "    index_name=index_name,\n",
    "    embedding_service=embedding_service,\n",
    "    rerank_service=rerank_service,\n",
    ")"
   ]
  },
  {
   "cell_type": "code",
   "execution_count": 34,
   "metadata": {},
   "outputs": [
    {
     "name": "stderr",
     "output_type": "stream",
     "text": [
      "INFO:aerospace_chatbot.processing.documents:Chunking documents...\n"
     ]
    },
    {
     "name": "stdout",
     "output_type": "stream",
     "text": [
      "Chunking ./document_processing/partitioned/AFSPCMAN 91-710v3_Range Safety-partitioned.json...\n",
      "Chunked data saved at ./document_processing_2000_0/chunked/AFSPCMAN 91-710v3_Range Safety-chunked.json\n",
      "Chunking ./document_processing/partitioned/EELV SIS Rev C Final 20170616 (LE-S-002)-partitioned.json...\n",
      "Chunked data saved at ./document_processing_2000_0/chunked/EELV SIS Rev C Final 20170616 (LE-S-002)-chunked.json\n",
      "Chunking ./document_processing/partitioned/JSC-65828B-Chg1_Structural Design Requirements and Factors of Safety for Spaceflight Hardware-partitioned.json...\n",
      "Chunked data saved at ./document_processing_2000_0/chunked/JSC-65828B-Chg1_Structural Design Requirements and Factors of Safety for Spaceflight Hardware-chunked.json\n",
      "Chunking ./document_processing/partitioned/JSC-65829_Loads and Structural Dynamics Requirements for Spaceflight Hardware-partitioned.json...\n",
      "Chunked data saved at ./document_processing_2000_0/chunked/JSC-65829_Loads and Structural Dynamics Requirements for Spaceflight Hardware-chunked.json\n",
      "Chunking ./document_processing/partitioned/MSFC-DWG-20M02540_RevE_1_Assessment of Flexible Lines for Flow Induced Vibration-partitioned.json...\n",
      "Chunked data saved at ./document_processing_2000_0/chunked/MSFC-DWG-20M02540_RevE_1_Assessment of Flexible Lines for Flow Induced Vibration-chunked.json\n",
      "Chunking ./document_processing/partitioned/MSFC-SPEC-626_Test Control Document for Assessment of Flexible Lines for Flow Induced Vibration-partitioned.json...\n",
      "Chunked data saved at ./document_processing_2000_0/chunked/MSFC-SPEC-626_Test Control Document for Assessment of Flexible Lines for Flow Induced Vibration-chunked.json\n",
      "Chunking ./document_processing/partitioned/NASA-STD-5001B_w_change_2_Structural Design and Test Factors of Safety for Spaceflight Hardware-partitioned.json...\n",
      "Chunked data saved at ./document_processing_2000_0/chunked/NASA-STD-5001B_w_change_2_Structural Design and Test Factors of Safety for Spaceflight Hardware-chunked.json\n",
      "Chunking ./document_processing/partitioned/NASA-STD-5009_Nondestructive Evaluation Requirements For Fracture Critical Components-partitioned.json...\n",
      "Chunked data saved at ./document_processing_2000_0/chunked/NASA-STD-5009_Nondestructive Evaluation Requirements For Fracture Critical Components-chunked.json\n",
      "Chunking ./document_processing/partitioned/NASA-STD-5012A Strength And Life Assessment Requirements For Liquid Fueled Space Propulsion System Engines-partitioned.json...\n",
      "Chunked data saved at ./document_processing_2000_0/chunked/NASA-STD-5012A Strength And Life Assessment Requirements For Liquid Fueled Space Propulsion System Engines-chunked.json\n",
      "Chunking ./document_processing/partitioned/NASA-STD-5017_A_Design and Development Requirements for Mechanisms-partitioned.json...\n",
      "Chunked data saved at ./document_processing_2000_0/chunked/NASA-STD-5017_A_Design and Development Requirements for Mechanisms-chunked.json\n",
      "Chunking ./document_processing/partitioned/NASA-STD-5018-Baseline_Strength Design and Verification Criteria for Glass, Ceramics, and Windows in Human Space Flight Applications-partitioned.json...\n",
      "Chunked data saved at ./document_processing_2000_0/chunked/NASA-STD-5018-Baseline_Strength Design and Verification Criteria for Glass, Ceramics, and Windows in Human Space Flight Applications-chunked.json\n",
      "Chunking ./document_processing/partitioned/NASA-STD-5019A_Fracture Control Requirements for Spaceflight Hardware-partitioned.json...\n",
      "Chunked data saved at ./document_processing_2000_0/chunked/NASA-STD-5019A_Fracture Control Requirements for Spaceflight Hardware-chunked.json\n",
      "Chunking ./document_processing/partitioned/NASA-STD-5020A_Requirements For Threaded Fastening-partitioned.json...\n",
      "Chunked data saved at ./document_processing_2000_0/chunked/NASA-STD-5020A_Requirements For Threaded Fastening-chunked.json\n",
      "Chunking ./document_processing/partitioned/NSTS_18798_RevB_Interpretations of NSTS:ISS Payload Safety Requirements-partitioned.json...\n",
      "Chunked data saved at ./document_processing_2000_0/chunked/NSTS_18798_RevB_Interpretations of NSTS:ISS Payload Safety Requirements-chunked.json\n",
      "Chunking ./document_processing/partitioned/NWC-TP-6575 Parachute Recovery Systems Design Manual-partitioned.json...\n",
      "Chunked data saved at ./document_processing_2000_0/chunked/NWC-TP-6575 Parachute Recovery Systems Design Manual-chunked.json\n",
      "Chunking ./document_processing/partitioned/SMC-S-005_03JUN2009_Flight Pressurized Systems-partitioned.json...\n",
      "Chunked data saved at ./document_processing_2000_0/chunked/SMC-S-005_03JUN2009_Flight Pressurized Systems-chunked.json\n",
      "Chunking ./document_processing/partitioned/SMC-S-016_05SEP2014_Test Requirements for Launch Upper-Stage and Space Vehicles-partitioned.json...\n",
      "Chunked data saved at ./document_processing_2000_0/chunked/SMC-S-016_05SEP2014_Test Requirements for Launch Upper-Stage and Space Vehicles-chunked.json\n",
      "Chunking ./document_processing/partitioned/SMC-S-025_Evalation and Test Reqirements for Liquid Rocket Engines-partitioned.json...\n"
     ]
    },
    {
     "name": "stderr",
     "output_type": "stream",
     "text": [
      "INFO:aerospace_chatbot.processing.documents:Total number of chunks: 2580\n",
      "INFO:aerospace_chatbot.processing.documents:Output paths: ['./document_processing_2000_0/chunked/AFSPCMAN 91-710v3_Range Safety-chunked.json', './document_processing_2000_0/chunked/EELV SIS Rev C Final 20170616 (LE-S-002)-chunked.json', './document_processing_2000_0/chunked/JSC-65828B-Chg1_Structural Design Requirements and Factors of Safety for Spaceflight Hardware-chunked.json', './document_processing_2000_0/chunked/JSC-65829_Loads and Structural Dynamics Requirements for Spaceflight Hardware-chunked.json', './document_processing_2000_0/chunked/MSFC-DWG-20M02540_RevE_1_Assessment of Flexible Lines for Flow Induced Vibration-chunked.json', './document_processing_2000_0/chunked/MSFC-SPEC-626_Test Control Document for Assessment of Flexible Lines for Flow Induced Vibration-chunked.json', './document_processing_2000_0/chunked/NASA-STD-5001B_w_change_2_Structural Design and Test Factors of Safety for Spaceflight Hardware-chunked.json', './document_processing_2000_0/chunked/NASA-STD-5009_Nondestructive Evaluation Requirements For Fracture Critical Components-chunked.json', './document_processing_2000_0/chunked/NASA-STD-5012A Strength And Life Assessment Requirements For Liquid Fueled Space Propulsion System Engines-chunked.json', './document_processing_2000_0/chunked/NASA-STD-5017_A_Design and Development Requirements for Mechanisms-chunked.json', './document_processing_2000_0/chunked/NASA-STD-5018-Baseline_Strength Design and Verification Criteria for Glass, Ceramics, and Windows in Human Space Flight Applications-chunked.json', './document_processing_2000_0/chunked/NASA-STD-5019A_Fracture Control Requirements for Spaceflight Hardware-chunked.json', './document_processing_2000_0/chunked/NASA-STD-5020A_Requirements For Threaded Fastening-chunked.json', './document_processing_2000_0/chunked/NSTS_18798_RevB_Interpretations of NSTS:ISS Payload Safety Requirements-chunked.json', './document_processing_2000_0/chunked/NWC-TP-6575 Parachute Recovery Systems Design Manual-chunked.json', './document_processing_2000_0/chunked/SMC-S-005_03JUN2009_Flight Pressurized Systems-chunked.json', './document_processing_2000_0/chunked/SMC-S-016_05SEP2014_Test Requirements for Launch Upper-Stage and Space Vehicles-chunked.json', './document_processing_2000_0/chunked/SMC-S-025_Evalation and Test Reqirements for Liquid Rocket Engines-chunked.json']\n"
     ]
    },
    {
     "name": "stdout",
     "output_type": "stream",
     "text": [
      "Chunked data saved at ./document_processing_2000_0/chunked/SMC-S-025_Evalation and Test Reqirements for Liquid Rocket Engines-chunked.json\n",
      "1\n"
     ]
    }
   ],
   "source": [
    "# Chunk loaded partitioned documents\n",
    "chunk_obj_all = []\n",
    "output_paths_all = []\n",
    "for bucket, partitioned_docs in zip(buckets, partitioned_docs_all):\n",
    "    chunk_obj, output_paths = doc_processor.chunk_documents(partitioned_docs)\n",
    "    chunk_obj_all.append(chunk_obj)\n",
    "    output_paths_all.append(output_paths)\n",
    "\n",
    "print(len(chunk_obj_all))"
   ]
  },
  {
   "cell_type": "code",
   "execution_count": 36,
   "metadata": {},
   "outputs": [
    {
     "name": "stdout",
     "output_type": "stream",
     "text": [
      "2580\n"
     ]
    }
   ],
   "source": [
    "print(len(chunk_obj_all[0].chunks))\n",
    "# print(len(chunk_obj_all[1].chunks))\n",
    "# print(len(chunk_obj_all[0].chunks)+len(chunk_obj_all[1].chunks))"
   ]
  },
  {
   "cell_type": "code",
   "execution_count": 37,
   "metadata": {},
   "outputs": [
    {
     "name": "stderr",
     "output_type": "stream",
     "text": [
      "INFO:aerospace_chatbot.services.database:Validating index text-embedding-3-large-dc-demo2-2000\n",
      "INFO:pinecone_plugin_interface.logging:Discovering subpackages in _NamespacePath(['/Users/danmueller/Documents/GitHub/aerospace_chatbot/.venv/lib/python3.11/site-packages/pinecone_plugins'])\n",
      "INFO:pinecone_plugin_interface.logging:Looking for plugins in pinecone_plugins.inference\n",
      "INFO:pinecone_plugin_interface.logging:Installing plugin inference into Pinecone\n",
      "INFO:aerospace_chatbot.services.database:Clearing Pinecone index text-embedding-3-large-dc-demo2-2000\n",
      "WARNING:aerospace_chatbot.services.database:Index text-embedding-3-large-dc-demo2-2000 not found. No deletion performed.\n",
      "INFO:aerospace_chatbot.services.database:Not clearing database, but pinecone index text-embedding-3-large-dc-demo2-2000 not found, creating.\n",
      "INFO:aerospace_chatbot.services.database:Pinecone index text-embedding-3-large-dc-demo2-2000 created\n"
     ]
    }
   ],
   "source": [
    "try:\n",
    "    db_service.initialize_database(clear=True)\n",
    "except ValueError as e:\n",
    "    print(f\"Database initialization failed: {str(e)}\")\n",
    "    print(e)\n",
    "    raise e"
   ]
  },
  {
   "cell_type": "code",
   "execution_count": 38,
   "metadata": {},
   "outputs": [
    {
     "name": "stdout",
     "output_type": "stream",
     "text": [
      "Upserting 2580 chunks\n"
     ]
    },
    {
     "name": "stderr",
     "output_type": "stream",
     "text": [
      "INFO:aerospace_chatbot.services.database:No existing metadata found in text-embedding-3-large-dc-demo2-2000, adding metadata: {'chunk_size': 2000, 'chunk_overlap': 0, 'embedding_family': 'OpenAI', 'embedding_model': 'text-embedding-3-large'}\n",
      "INFO:aerospace_chatbot.services.database:Retry 1 of 15: Waiting for vectors to be indexed in Pinecone... Current count: 0, Expected: 1\n",
      "INFO:aerospace_chatbot.services.database:Successfully verified 1 vectors in Pinecone index\n",
      "INFO:aerospace_chatbot.services.database:Successfully added metadata to text-embedding-3-large-dc-demo2-2000\n",
      "INFO:aerospace_chatbot.services.database:Initial vector count: 1\n",
      "INFO:aerospace_chatbot.services.database:Upserting 2580 vectors\n",
      "INFO:aerospace_chatbot.services.database:Upserting batch 1 of 52\n",
      "INFO:aerospace_chatbot.services.database:Upserting 50 vectors for this batch...\n",
      "INFO:httpx:HTTP Request: POST https://api.openai.com/v1/embeddings \"HTTP/1.1 200 OK\"\n",
      "INFO:aerospace_chatbot.services.database:Upserting batch 2 of 52\n",
      "INFO:aerospace_chatbot.services.database:Upserting 50 vectors for this batch...\n",
      "INFO:httpx:HTTP Request: POST https://api.openai.com/v1/embeddings \"HTTP/1.1 200 OK\"\n",
      "INFO:aerospace_chatbot.services.database:Upserting batch 3 of 52\n",
      "INFO:aerospace_chatbot.services.database:Upserting 50 vectors for this batch...\n",
      "INFO:httpx:HTTP Request: POST https://api.openai.com/v1/embeddings \"HTTP/1.1 200 OK\"\n",
      "INFO:aerospace_chatbot.services.database:Upserting batch 4 of 52\n",
      "INFO:aerospace_chatbot.services.database:Upserting 50 vectors for this batch...\n",
      "INFO:httpx:HTTP Request: POST https://api.openai.com/v1/embeddings \"HTTP/1.1 200 OK\"\n",
      "INFO:aerospace_chatbot.services.database:Upserting batch 5 of 52\n",
      "INFO:aerospace_chatbot.services.database:Upserting 50 vectors for this batch...\n",
      "INFO:httpx:HTTP Request: POST https://api.openai.com/v1/embeddings \"HTTP/1.1 200 OK\"\n",
      "INFO:aerospace_chatbot.services.database:Upserting batch 6 of 52\n",
      "INFO:aerospace_chatbot.services.database:Upserting 50 vectors for this batch...\n",
      "INFO:httpx:HTTP Request: POST https://api.openai.com/v1/embeddings \"HTTP/1.1 200 OK\"\n",
      "INFO:aerospace_chatbot.services.database:Upserting batch 7 of 52\n",
      "INFO:aerospace_chatbot.services.database:Upserting 50 vectors for this batch...\n",
      "INFO:httpx:HTTP Request: POST https://api.openai.com/v1/embeddings \"HTTP/1.1 200 OK\"\n",
      "INFO:aerospace_chatbot.services.database:Upserting batch 8 of 52\n",
      "INFO:aerospace_chatbot.services.database:Upserting 50 vectors for this batch...\n",
      "INFO:httpx:HTTP Request: POST https://api.openai.com/v1/embeddings \"HTTP/1.1 200 OK\"\n",
      "INFO:aerospace_chatbot.services.database:Upserting batch 9 of 52\n",
      "INFO:aerospace_chatbot.services.database:Upserting 50 vectors for this batch...\n",
      "INFO:httpx:HTTP Request: POST https://api.openai.com/v1/embeddings \"HTTP/1.1 200 OK\"\n",
      "INFO:aerospace_chatbot.services.database:Upserting batch 10 of 52\n",
      "INFO:aerospace_chatbot.services.database:Upserting 50 vectors for this batch...\n",
      "INFO:httpx:HTTP Request: POST https://api.openai.com/v1/embeddings \"HTTP/1.1 200 OK\"\n",
      "INFO:aerospace_chatbot.services.database:Upserting batch 11 of 52\n",
      "INFO:aerospace_chatbot.services.database:Upserting 50 vectors for this batch...\n",
      "INFO:httpx:HTTP Request: POST https://api.openai.com/v1/embeddings \"HTTP/1.1 200 OK\"\n",
      "INFO:aerospace_chatbot.services.database:Upserting batch 12 of 52\n",
      "INFO:aerospace_chatbot.services.database:Upserting 50 vectors for this batch...\n",
      "INFO:httpx:HTTP Request: POST https://api.openai.com/v1/embeddings \"HTTP/1.1 200 OK\"\n",
      "INFO:aerospace_chatbot.services.database:Upserting batch 13 of 52\n",
      "INFO:aerospace_chatbot.services.database:Upserting 50 vectors for this batch...\n",
      "INFO:httpx:HTTP Request: POST https://api.openai.com/v1/embeddings \"HTTP/1.1 200 OK\"\n",
      "INFO:aerospace_chatbot.services.database:Upserting batch 14 of 52\n",
      "INFO:aerospace_chatbot.services.database:Upserting 50 vectors for this batch...\n",
      "INFO:httpx:HTTP Request: POST https://api.openai.com/v1/embeddings \"HTTP/1.1 200 OK\"\n",
      "INFO:aerospace_chatbot.services.database:Upserting batch 15 of 52\n",
      "INFO:aerospace_chatbot.services.database:Upserting 50 vectors for this batch...\n",
      "INFO:httpx:HTTP Request: POST https://api.openai.com/v1/embeddings \"HTTP/1.1 200 OK\"\n",
      "INFO:aerospace_chatbot.services.database:Upserting batch 16 of 52\n",
      "INFO:aerospace_chatbot.services.database:Upserting 50 vectors for this batch...\n",
      "INFO:httpx:HTTP Request: POST https://api.openai.com/v1/embeddings \"HTTP/1.1 200 OK\"\n",
      "INFO:aerospace_chatbot.services.database:Upserting batch 17 of 52\n",
      "INFO:aerospace_chatbot.services.database:Upserting 50 vectors for this batch...\n",
      "INFO:httpx:HTTP Request: POST https://api.openai.com/v1/embeddings \"HTTP/1.1 200 OK\"\n",
      "INFO:aerospace_chatbot.services.database:Upserting batch 18 of 52\n",
      "INFO:aerospace_chatbot.services.database:Upserting 50 vectors for this batch...\n",
      "INFO:httpx:HTTP Request: POST https://api.openai.com/v1/embeddings \"HTTP/1.1 200 OK\"\n",
      "INFO:aerospace_chatbot.services.database:Upserting batch 19 of 52\n",
      "INFO:aerospace_chatbot.services.database:Upserting 50 vectors for this batch...\n",
      "INFO:httpx:HTTP Request: POST https://api.openai.com/v1/embeddings \"HTTP/1.1 200 OK\"\n",
      "INFO:aerospace_chatbot.services.database:Upserting batch 20 of 52\n",
      "INFO:aerospace_chatbot.services.database:Upserting 50 vectors for this batch...\n",
      "INFO:httpx:HTTP Request: POST https://api.openai.com/v1/embeddings \"HTTP/1.1 200 OK\"\n",
      "INFO:aerospace_chatbot.services.database:Upserting batch 21 of 52\n",
      "INFO:aerospace_chatbot.services.database:Upserting 50 vectors for this batch...\n",
      "INFO:httpx:HTTP Request: POST https://api.openai.com/v1/embeddings \"HTTP/1.1 200 OK\"\n",
      "INFO:aerospace_chatbot.services.database:Upserting batch 22 of 52\n",
      "INFO:aerospace_chatbot.services.database:Upserting 50 vectors for this batch...\n",
      "INFO:httpx:HTTP Request: POST https://api.openai.com/v1/embeddings \"HTTP/1.1 200 OK\"\n",
      "INFO:aerospace_chatbot.services.database:Upserting batch 23 of 52\n",
      "INFO:aerospace_chatbot.services.database:Upserting 50 vectors for this batch...\n",
      "INFO:httpx:HTTP Request: POST https://api.openai.com/v1/embeddings \"HTTP/1.1 200 OK\"\n",
      "INFO:aerospace_chatbot.services.database:Upserting batch 24 of 52\n",
      "INFO:aerospace_chatbot.services.database:Upserting 50 vectors for this batch...\n",
      "INFO:httpx:HTTP Request: POST https://api.openai.com/v1/embeddings \"HTTP/1.1 200 OK\"\n",
      "INFO:aerospace_chatbot.services.database:Upserting batch 25 of 52\n",
      "INFO:aerospace_chatbot.services.database:Upserting 50 vectors for this batch...\n",
      "INFO:httpx:HTTP Request: POST https://api.openai.com/v1/embeddings \"HTTP/1.1 200 OK\"\n",
      "INFO:aerospace_chatbot.services.database:Upserting batch 26 of 52\n",
      "INFO:aerospace_chatbot.services.database:Upserting 50 vectors for this batch...\n",
      "INFO:httpx:HTTP Request: POST https://api.openai.com/v1/embeddings \"HTTP/1.1 200 OK\"\n",
      "INFO:aerospace_chatbot.services.database:Upserting batch 27 of 52\n",
      "INFO:aerospace_chatbot.services.database:Upserting 50 vectors for this batch...\n",
      "INFO:httpx:HTTP Request: POST https://api.openai.com/v1/embeddings \"HTTP/1.1 200 OK\"\n",
      "INFO:aerospace_chatbot.services.database:Upserting batch 28 of 52\n",
      "INFO:aerospace_chatbot.services.database:Upserting 50 vectors for this batch...\n",
      "INFO:httpx:HTTP Request: POST https://api.openai.com/v1/embeddings \"HTTP/1.1 200 OK\"\n",
      "INFO:aerospace_chatbot.services.database:Upserting batch 29 of 52\n",
      "INFO:aerospace_chatbot.services.database:Upserting 50 vectors for this batch...\n",
      "INFO:httpx:HTTP Request: POST https://api.openai.com/v1/embeddings \"HTTP/1.1 200 OK\"\n",
      "INFO:aerospace_chatbot.services.database:Upserting batch 30 of 52\n",
      "INFO:aerospace_chatbot.services.database:Upserting 50 vectors for this batch...\n",
      "INFO:httpx:HTTP Request: POST https://api.openai.com/v1/embeddings \"HTTP/1.1 200 OK\"\n",
      "INFO:aerospace_chatbot.services.database:Upserting batch 31 of 52\n",
      "INFO:aerospace_chatbot.services.database:Upserting 50 vectors for this batch...\n",
      "INFO:httpx:HTTP Request: POST https://api.openai.com/v1/embeddings \"HTTP/1.1 200 OK\"\n",
      "INFO:aerospace_chatbot.services.database:Upserting batch 32 of 52\n",
      "INFO:aerospace_chatbot.services.database:Upserting 50 vectors for this batch...\n",
      "INFO:httpx:HTTP Request: POST https://api.openai.com/v1/embeddings \"HTTP/1.1 200 OK\"\n",
      "INFO:aerospace_chatbot.services.database:Upserting batch 33 of 52\n",
      "INFO:aerospace_chatbot.services.database:Upserting 50 vectors for this batch...\n",
      "INFO:httpx:HTTP Request: POST https://api.openai.com/v1/embeddings \"HTTP/1.1 200 OK\"\n",
      "INFO:aerospace_chatbot.services.database:Upserting batch 34 of 52\n",
      "INFO:aerospace_chatbot.services.database:Upserting 50 vectors for this batch...\n",
      "INFO:httpx:HTTP Request: POST https://api.openai.com/v1/embeddings \"HTTP/1.1 200 OK\"\n",
      "INFO:aerospace_chatbot.services.database:Upserting batch 35 of 52\n",
      "INFO:aerospace_chatbot.services.database:Upserting 50 vectors for this batch...\n",
      "INFO:httpx:HTTP Request: POST https://api.openai.com/v1/embeddings \"HTTP/1.1 200 OK\"\n",
      "INFO:aerospace_chatbot.services.database:Upserting batch 36 of 52\n",
      "INFO:aerospace_chatbot.services.database:Upserting 50 vectors for this batch...\n",
      "INFO:httpx:HTTP Request: POST https://api.openai.com/v1/embeddings \"HTTP/1.1 200 OK\"\n",
      "INFO:aerospace_chatbot.services.database:Upserting batch 37 of 52\n",
      "INFO:aerospace_chatbot.services.database:Upserting 50 vectors for this batch...\n",
      "INFO:httpx:HTTP Request: POST https://api.openai.com/v1/embeddings \"HTTP/1.1 200 OK\"\n",
      "INFO:aerospace_chatbot.services.database:Upserting batch 38 of 52\n",
      "INFO:aerospace_chatbot.services.database:Upserting 50 vectors for this batch...\n",
      "INFO:httpx:HTTP Request: POST https://api.openai.com/v1/embeddings \"HTTP/1.1 200 OK\"\n",
      "INFO:aerospace_chatbot.services.database:Upserting batch 39 of 52\n",
      "INFO:aerospace_chatbot.services.database:Upserting 50 vectors for this batch...\n",
      "INFO:httpx:HTTP Request: POST https://api.openai.com/v1/embeddings \"HTTP/1.1 200 OK\"\n",
      "INFO:aerospace_chatbot.services.database:Upserting batch 40 of 52\n",
      "INFO:aerospace_chatbot.services.database:Upserting 50 vectors for this batch...\n",
      "INFO:httpx:HTTP Request: POST https://api.openai.com/v1/embeddings \"HTTP/1.1 200 OK\"\n",
      "INFO:aerospace_chatbot.services.database:Upserting batch 41 of 52\n",
      "INFO:aerospace_chatbot.services.database:Upserting 50 vectors for this batch...\n",
      "INFO:httpx:HTTP Request: POST https://api.openai.com/v1/embeddings \"HTTP/1.1 200 OK\"\n",
      "INFO:aerospace_chatbot.services.database:Upserting batch 42 of 52\n",
      "INFO:aerospace_chatbot.services.database:Upserting 50 vectors for this batch...\n",
      "INFO:httpx:HTTP Request: POST https://api.openai.com/v1/embeddings \"HTTP/1.1 200 OK\"\n",
      "INFO:aerospace_chatbot.services.database:Upserting batch 43 of 52\n",
      "INFO:aerospace_chatbot.services.database:Upserting 50 vectors for this batch...\n",
      "INFO:httpx:HTTP Request: POST https://api.openai.com/v1/embeddings \"HTTP/1.1 200 OK\"\n",
      "INFO:aerospace_chatbot.services.database:Upserting batch 44 of 52\n",
      "INFO:aerospace_chatbot.services.database:Upserting 50 vectors for this batch...\n",
      "INFO:httpx:HTTP Request: POST https://api.openai.com/v1/embeddings \"HTTP/1.1 200 OK\"\n",
      "INFO:aerospace_chatbot.services.database:Upserting batch 45 of 52\n",
      "INFO:aerospace_chatbot.services.database:Upserting 50 vectors for this batch...\n",
      "INFO:httpx:HTTP Request: POST https://api.openai.com/v1/embeddings \"HTTP/1.1 200 OK\"\n",
      "INFO:aerospace_chatbot.services.database:Upserting batch 46 of 52\n",
      "INFO:aerospace_chatbot.services.database:Upserting 50 vectors for this batch...\n",
      "INFO:httpx:HTTP Request: POST https://api.openai.com/v1/embeddings \"HTTP/1.1 200 OK\"\n",
      "INFO:aerospace_chatbot.services.database:Upserting batch 47 of 52\n",
      "INFO:aerospace_chatbot.services.database:Upserting 50 vectors for this batch...\n",
      "INFO:httpx:HTTP Request: POST https://api.openai.com/v1/embeddings \"HTTP/1.1 200 OK\"\n",
      "INFO:aerospace_chatbot.services.database:Upserting batch 48 of 52\n",
      "INFO:aerospace_chatbot.services.database:Upserting 50 vectors for this batch...\n",
      "INFO:httpx:HTTP Request: POST https://api.openai.com/v1/embeddings \"HTTP/1.1 200 OK\"\n",
      "INFO:aerospace_chatbot.services.database:Upserting batch 49 of 52\n",
      "INFO:aerospace_chatbot.services.database:Upserting 50 vectors for this batch...\n",
      "INFO:httpx:HTTP Request: POST https://api.openai.com/v1/embeddings \"HTTP/1.1 200 OK\"\n",
      "INFO:aerospace_chatbot.services.database:Upserting batch 50 of 52\n",
      "INFO:aerospace_chatbot.services.database:Upserting 50 vectors for this batch...\n",
      "INFO:httpx:HTTP Request: POST https://api.openai.com/v1/embeddings \"HTTP/1.1 200 OK\"\n",
      "INFO:aerospace_chatbot.services.database:Upserting batch 51 of 52\n",
      "INFO:aerospace_chatbot.services.database:Upserting 50 vectors for this batch...\n",
      "INFO:httpx:HTTP Request: POST https://api.openai.com/v1/embeddings \"HTTP/1.1 200 OK\"\n",
      "INFO:aerospace_chatbot.services.database:Upserting batch 52 of 52\n",
      "INFO:aerospace_chatbot.services.database:Upserting 30 vectors for this batch...\n",
      "INFO:httpx:HTTP Request: POST https://api.openai.com/v1/embeddings \"HTTP/1.1 200 OK\"\n"
     ]
    }
   ],
   "source": [
    "for chunk_obj in chunk_obj_all:\n",
    "    print(f'Upserting {len(chunk_obj.chunks)} chunks')\n",
    "    db_service.index_data(chunk_obj, batch_size=50)\n",
    "    time.sleep(5)"
   ]
  },
  {
   "cell_type": "code",
   "execution_count": null,
   "metadata": {},
   "outputs": [],
   "source": []
  }
 ],
 "metadata": {
  "kernelspec": {
   "display_name": ".venv",
   "language": "python",
   "name": "python3"
  },
  "language_info": {
   "codemirror_mode": {
    "name": "ipython",
    "version": 3
   },
   "file_extension": ".py",
   "mimetype": "text/x-python",
   "name": "python",
   "nbconvert_exporter": "python",
   "pygments_lexer": "ipython3",
   "version": "3.11.10"
  }
 },
 "nbformat": 4,
 "nbformat_minor": 2
}
