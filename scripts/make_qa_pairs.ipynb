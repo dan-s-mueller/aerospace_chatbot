{
 "cells": [
  {
   "cell_type": "code",
   "execution_count": 13,
   "metadata": {},
   "outputs": [
    {
     "data": {
      "text/plain": [
       "True"
      ]
     },
     "execution_count": 13,
     "metadata": {},
     "output_type": "execute_result"
    }
   ],
   "source": [
    "# Load environment variables\n",
    "import os\n",
    "import re\n",
    "import pinecone\n",
    "import glob\n",
    "import data_import\n",
    "from langchain.embeddings import OpenAIEmbeddings\n",
    "from langchain.vectorstores import Pinecone\n",
    "from langchain.document_loaders import PyPDFLoader\n",
    "from langchain.document_loaders import UnstructuredPDFLoader, OnlinePDFLoader, PyPDFLoader\n",
    "from langchain.text_splitter import RecursiveCharacterTextSplitter\n",
    "import pprint\n",
    "from dotenv import load_dotenv,find_dotenv\n",
    "load_dotenv(find_dotenv(),override=True)"
   ]
  },
  {
   "cell_type": "code",
   "execution_count": 2,
   "metadata": {},
   "outputs": [],
   "source": [
    "# Check api keys\n",
    "# print(os.getenv('OPENAI_API_KEY'))\n",
    "# print(os.getenv('PINECONE_ENVIRONMENT'))\n",
    "# print(os.getenv('PINECONE_API_KEY'))"
   ]
  },
  {
   "cell_type": "code",
   "execution_count": 3,
   "metadata": {},
   "outputs": [],
   "source": [
    "# Instantiate OpenAI embeddings\n",
    "embeddings_model = OpenAIEmbeddings(model=\"text-embedding-ada-002\")"
   ]
  },
  {
   "cell_type": "code",
   "execution_count": 4,
   "metadata": {},
   "outputs": [],
   "source": [
    "# Initialize Pinecone client, test if it works\n",
    "# pinecone.init(\n",
    "#     api_key=os.getenv('PINECONE_API_KEY'),\n",
    "#     environment=os.getenv('PINECONE_ENVIRONMENT') \n",
    "# )\n",
    "# pinecone.whoami()\n"
   ]
  },
  {
   "cell_type": "code",
   "execution_count": 5,
   "metadata": {},
   "outputs": [],
   "source": [
    "# Find the existing index, clear for new start\n",
    "# index=pinecone.Index(index_name)"
   ]
  },
  {
   "cell_type": "code",
   "execution_count": 6,
   "metadata": {},
   "outputs": [],
   "source": [
    "# Pinecone database: https://app.pinecone.io/organizations/-Nam3zmbSmzuXKeH8EWl/projects/us-west1-gcp-free:32467cc/indexes/langchain-quickstart\n",
    "index_name = \"ams\"\n",
    "\n",
    "# data_folder='../data/FEA/'\n",
    "data_folder='../data/AMS/'\n",
    "docs = glob.glob(data_folder+'*.pdf')   # Only get the PDFs in the directory\n",
    "\n",
    "# data_import.load_docs(index_name=index_name,\n",
    "#                       embeddings_model=embeddings_model,\n",
    "#                       docs=docs,\n",
    "#                       PINECONE_API_KEY=os.getenv('PINECONE_API_KEY'),\n",
    "#                       PINECONE_ENVIRONMENT=os.getenv('PINECONE_ENVIRONMENT'),\n",
    "#                       chunk_size=5000,\n",
    "#                       chunk_overlap=0)"
   ]
  },
  {
   "cell_type": "code",
   "execution_count": 7,
   "metadata": {},
   "outputs": [],
   "source": [
    "import json\n",
    "\n",
    "from llama_index import SimpleDirectoryReader\n",
    "from llama_index.node_parser import SentenceSplitter\n",
    "from llama_index.schema import MetadataMode\n",
    "\n",
    "def load_corpus(files, verbose=False):\n",
    "    if verbose:\n",
    "        print(f\"Loading files {files}\")\n",
    "\n",
    "    reader = SimpleDirectoryReader(input_files=files)\n",
    "    docs = reader.load_data()\n",
    "    if verbose:\n",
    "        print(f\"Loaded {len(docs)} docs\")\n",
    "\n",
    "    parser = SentenceSplitter(chunk_size=5000)\n",
    "    nodes = parser.get_nodes_from_documents(docs, show_progress=verbose)\n",
    "\n",
    "    for node in nodes:\n",
    "        # Merge hyphenated words\n",
    "        node.text=re.sub(r\"(\\w+)-\\n(\\w+)\", r\"\\1\\2\", node.text)\n",
    "        # Fix newlines in the middle of sentences\n",
    "        node.text = re.sub(r\"(?<!\\n\\s)\\n(?!\\s\\n)\", \" \", node.text.strip())\n",
    "        # Remove multiple newlines\n",
    "        node.text = re.sub(r\"\\n\\s*\\n\", \"\\n\\n\", node.text)\n",
    "\n",
    "    if verbose:\n",
    "        print(f\"Parsed {len(nodes)} nodes\")\n",
    "\n",
    "    return nodes"
   ]
  },
  {
   "cell_type": "code",
   "execution_count": 8,
   "metadata": {},
   "outputs": [
    {
     "name": "stdout",
     "output_type": "stream",
     "text": [
      "Loading files ['../data/AMS/AMS_2018.pdf', '../data/AMS/AMS_2008.pdf', '../data/AMS/AMS_2020.pdf']\n",
      "Loaded 1616 docs\n"
     ]
    },
    {
     "data": {
      "application/vnd.jupyter.widget-view+json": {
       "model_id": "cfea617c617d4bc9996a9b22b1f77205",
       "version_major": 2,
       "version_minor": 0
      },
      "text/plain": [
       "Parsing nodes:   0%|          | 0/1616 [00:00<?, ?it/s]"
      ]
     },
     "metadata": {},
     "output_type": "display_data"
    },
    {
     "name": "stdout",
     "output_type": "stream",
     "text": [
      "Parsed 1616 nodes\n"
     ]
    }
   ],
   "source": [
    "nodes = load_corpus(docs[-3:], verbose=True)\n",
    "# val_nodes = load_corpus(VAL_FILES, verbose=True)"
   ]
  },
  {
   "cell_type": "code",
   "execution_count": 9,
   "metadata": {},
   "outputs": [
    {
     "data": {
      "text/plain": [
       "'Dynamic Behavior of Ball Bearings under Axial Vibration  Virgil Hinque* and René Seiler* Abstract  The paper addresses the dynamics of ball bearings when exposed to vibration loads along their axis of  rotation. Following common practice in space mechanisms design, the bearings are mounted in either hard  preloaded or soft preloaded pairs. A computer-based model has been developed for the analysis and  prediction of the load-deflection characteristics in bearing systems. Furthermore, the model may be used  to quantify the maximum loads applied on the bearings and the resulting stresses during a vibration test or  a spacecraft launch.  In parallel to the model development, an experimental test program has been carried out in order to get  sufficient data for model correlation. In this context, the paper also elaborates on the post-processing of the  acquired test signals and discusses specific effects, for instance nonlinearities due to the use of snubbers,  in the time domain as well as in the frequency domain.  Introduction  Many space mechanisms use ball bearings for rotation functions. Therefore, assessing the bearing  performance for the relevant environmental conditions is one of the typical challenges faced during the  equipment design process. In this frame, it is common engineering practice to reduce the effect of a sine  and random vibration environment to quasi-static equivalent loads and stresses. The relevant ball bearing  systems often comprise two identical deep-groove or angular-contact bearings in an axially preloaded  configuration. Several studies on the influence of the preload and other parameters on the structural  behavior of such bearing assemblies have been done by the European Space Tribology Laboratory (ESTL).  In a recent investigation, 25 ball bearing cartridges (“test units” or “bearing housings”) with different preload  and snubber configurations were submitted to a series of sine and random vibration tests. The discussion  of findings was mainly based on the analysis of frequency-domain data and bearing damage assessment  via visual inspection [1].  The ESTL investigation inspired a number of ideas for continuation of the research, among others the  development of a computer-based model that would be able to simulate the behavior of the bearing  cartridges, especially those showing nonlinear features in their response. An adequate model should be  able to predict the load transmission across the bearings in static and dynamic load situations. As the main  sizing criterion for ball bearings is based on the allowable peak Hertzian contact pressure between the balls  and the races [2], accurate knowledge of the maximum bearing loads is a key aspect for successful bearing  selection and implementation in a space mechanism.  During the current investigation at the European Space Research and Technology Centre (ESTEC), a  model was built using MATLAB®/Simulink®, with only the axial degree of freedom in a bearing taken into  consideration. Because model correlation with real test results is of importance, a test program  complementary to that reported in [1] has been conducted, with specific focus on the acquisition and  interpretation of time-domain data. The following chapters describe the computer-based model, the design  of the test units, as well as the details of the test campaign and corresponding results. The last part of the  paper is dedicated to the comparison between the model output and the experimental test data.  *European Space Agency (ESA/ESTEC), Noordwijk, The Netherlands Proceedings of the 44th Aerospace Mechanisms Symposium, NASA Glenn Research Center, May 16-18, 2018 NASA/CP—2018-219887 83'"
      ]
     },
     "execution_count": 9,
     "metadata": {},
     "output_type": "execute_result"
    }
   ],
   "source": [
    "nodes[100].text"
   ]
  },
  {
   "cell_type": "markdown",
   "metadata": {},
   "source": [
    "# OpenAI, ChatGPT-3.5"
   ]
  },
  {
   "cell_type": "code",
   "execution_count": 28,
   "metadata": {},
   "outputs": [],
   "source": [
    "from llama_index.llms import OpenAI\n",
    "\n",
    "# model_name='gpt-3.5-turbo-instruct'\n",
    "model_name='gpt-3.5-turbo-1106' # 16,385 tokens\n",
    "# model_name='gpt-4-0613'\n",
    "llm=OpenAI(model_name=model_name)\n",
    "\n"
   ]
  },
  {
   "cell_type": "code",
   "execution_count": 29,
   "metadata": {},
   "outputs": [
    {
     "name": "stderr",
     "output_type": "stream",
     "text": [
      "100%|██████████| 10/10 [03:51<00:00, 23.17s/it]\n"
     ]
    }
   ],
   "source": [
    "from llama_index.finetuning import generate_qa_embedding_pairs\n",
    "\n",
    "\n",
    "qa_pairs=generate_qa_embedding_pairs(nodes[100:110],\n",
    "                                     llm=llm,\n",
    "                                     num_questions_per_chunk=1)"
   ]
  },
  {
   "cell_type": "code",
   "execution_count": 61,
   "metadata": {},
   "outputs": [
    {
     "name": "stdout",
     "output_type": "stream",
     "text": [
      "['Explain the purpose and significance of the computer-based model developed in this study for analyzing and predicting the load-deflection characteristics in ball bearing systems. How can this model be used to quantify maximum loads and resulting stresses during vibration tests or spacecraft launches?',\n",
      " 'Discuss the challenges faced during the equipment design process when assessing the performance of ball bearings for rotation functions in space mechanisms. How does the use of quasi-static equivalent loads and stresses help in reducing the effect of a sine and random vibration environment? Provide examples of the structural behavior of bearing assemblies and the influence of preload and other parameters on their performance.',\n",
      " 'Explain the difference between the hard preload and soft preload methods used in ball bearing systems in space mechanisms. What are the advantages and disadvantages of each method?',\n",
      " 'How does gapping occur in ball bearing systems? Compare and contrast the gapping effects in hard preloaded bearings and soft preloaded bearings.',\n",
      " 'Explain the difference in behavior between hard preloaded bearing pairs and soft preloaded bearing pairs in terms of their axial load-deflection characteristics. How does the stiffness of the two types of bearing pairs contribute to this difference?',\n",
      " 'In the context of soft preloaded bearing pairs, what is the significance of gapping and how does it affect the load-deflection characteristic of the bearing system? How can the linearized stiffness of the bearing system be approximated in the absence of gapping?',\n",
      " 'How does the addition of snubbers affect the dynamic behavior of preloaded bearing pairs? Provide an explanation based on the information given in the context.',\n",
      " 'Describe the overall structure of the modelling and simulation approach used in this research. Include the software package used, the components considered in the dynamic model, and the purpose of the post-processing module.',\n",
      " 'What are the differences between the three test units in terms of their preload characteristics? Provide a summary of the preload parameters for each test unit.',\n",
      " 'Describe the test setups for the bearing cartridges. Include information about the shakers used, the accelerometers and load cells employed, and the purpose of each component.',\n",
      " 'In the frequency domain analysis, what were the observed changes in the resonance frequency and stiffness of the bearing system for the hard preload and soft preload test units? How did the contact with the snubber affect the resonance frequency and introduce higher frequency content?',\n",
      " 'In the time domain analysis, how did the behavior of the hard preload test unit differ from the soft preload test unit? What technique was used to estimate the relative displacement between the housing and dummy mass and shaft? How was the dynamic force applied on the shaft estimated and compared to the theoretical load-deflection curve?',\n",
      " 'Explain the concept of hysteresis in the context of load-deflection curves for a bearing system. How does the loss term manifest itself in this scenario?',\n",
      " 'Compare and contrast the behavior of the hard preload unit and soft preload unit #3 in terms of load-deflection characteristics. How does the gapping state differ between the two units and what factors contribute to this difference?',\n",
      " 'Based on the histograms shown in Figure 11, explain the difference in the output distribution between the hard preload unit and the soft preload unit #3 under increasing levels of excitation. How does the response of the soft preload unit change with increasing input power?',\n",
      " 'The Miles formula is mentioned as a common practice to approximate the response RMS level. How can the resulting RMS value be used to size the bearings? Explain the significance of the 3σ value in this context and its relationship to the standard deviation.',\n",
      " 'How does the 3σ rule relate to the hard preload unit in the context of the Miles formula? Provide an explanation and discuss the validity of the rule based on the given information.',\n",
      " 'Compare and contrast the maximum Hertzian contact pressure obtained from the tests with the predicted values using the Miles formula for both the hard preload unit and the soft preload unit #3. Discuss the significance of the differences observed and their implications for bearing design.',\n",
      " 'In Table 2, what is the percentage of output acceleration samples exceeding the 3σ value for test unit #22 (hard) at 6.3 g rms?',\n",
      " 'According to the information in Table 3, how does the stiffness of a single bearing in a hard preload configuration differ from that of a single bearing in a soft preload configuration?']\n"
     ]
    }
   ],
   "source": [
    "queries=qa_pairs.queries.values()\n",
    "pprint.pprint(list(queries),width=500)"
   ]
  },
  {
   "cell_type": "code",
   "execution_count": 62,
   "metadata": {},
   "outputs": [],
   "source": [
    "qa_pairs.save_json(data_folder+'ams_dataset_qa_pairs_'+model_name+'.json')"
   ]
  },
  {
   "cell_type": "markdown",
   "metadata": {},
   "source": [
    "# Hugging Face Models"
   ]
  },
  {
   "cell_type": "code",
   "execution_count": 30,
   "metadata": {},
   "outputs": [],
   "source": [
    "from llama_index.llms import HuggingFaceInferenceAPI\n",
    "\n",
    "# model_name='google/flan-t5-xxl'\n",
    "# model_name='WizardLM/WizardLM-70B-V1.0'\n",
    "model='mistralai/'\n",
    "name='Mistral-7B-Instruct-v0.1'\n",
    "llm=HuggingFaceInferenceAPI(model_name=model+name,token=os.getenv('HUGGINGFACEHUB_API_TOKEN'))"
   ]
  },
  {
   "cell_type": "code",
   "execution_count": 24,
   "metadata": {},
   "outputs": [
    {
     "name": "stderr",
     "output_type": "stream",
     "text": [
      "100%|██████████| 10/10 [00:01<00:00,  6.70it/s]\n"
     ]
    }
   ],
   "source": [
    "from llama_index.finetuning import generate_qa_embedding_pairs\n",
    "\n",
    "\n",
    "qa_pairs=generate_qa_embedding_pairs(nodes[100:110],\n",
    "                                     llm=llm,\n",
    "                                     num_questions_per_chunk=1)"
   ]
  },
  {
   "cell_type": "code",
   "execution_count": 25,
   "metadata": {},
   "outputs": [
    {
     "name": "stdout",
     "output_type": "stream",
     "text": [
      "['What is the main sizing criterion for ball bearings?',\n",
      " 'What is the difference between hard and soft preload methods in ball bearing systems in space mechanisms?',\n",
      " 'What is the difference between hard and soft preloaded bearings?',\n",
      " 'What is the purpose of preloading bearings in general?',\n",
      " 'What is the purpose of the bearing cartridges in the test units?',\n",
      " 'How were the test units mounted on the shakers during the test program?',\n",
      " 'What was the role of the accelerometers in the test set-ups?',\n",
      " 'What were the preload parameters for the three test units?',\n",
      " 'What were the test set-ups used for the sine sweep tests?',\n",
      " 'What were the test set-ups used for the random vibration tests?',\n",
      " 'What were the test set-ups used for the constant frequency sine tests?',\n",
      " 'What was the purpose of the load cells in the test set-ups?',\n",
      " 'How were the time-domain signals of all sensors recorded during the tests?',\n",
      " 'What was the comparison made during the sine sweep tests before and after the high-level runs?',\n",
      " 'What is the purpose of the load cell phases in the analysis of the load cell phases in the PSD plots?',\n",
      " 'What is the generalized stiffness term K in the context information?',\n",
      " 'What is the purpose of the hard preload unit and soft preload unit?',\n",
      " 'What is the purpose of applying the natural frequencies and quality factors for small levels of excitation in Miles formula?',\n",
      " 'What is the percentage of output acceleration samples exceeding the related 3σ value for test unit #1?']\n"
     ]
    }
   ],
   "source": [
    "queries=qa_pairs.queries.values()\n",
    "pprint.pprint(list(queries),width=500)"
   ]
  },
  {
   "cell_type": "code",
   "execution_count": 27,
   "metadata": {},
   "outputs": [],
   "source": [
    "qa_pairs.save_json(data_folder+'ams_dataset_qa_pairs_'+name+'.json')"
   ]
  },
  {
   "cell_type": "code",
   "execution_count": null,
   "metadata": {},
   "outputs": [],
   "source": []
  }
 ],
 "metadata": {
  "kernelspec": {
   "display_name": "Python 3",
   "language": "python",
   "name": "python3"
  },
  "language_info": {
   "codemirror_mode": {
    "name": "ipython",
    "version": 3
   },
   "file_extension": ".py",
   "mimetype": "text/x-python",
   "name": "python",
   "nbconvert_exporter": "python",
   "pygments_lexer": "ipython3",
   "version": "3.11.1"
  },
  "orig_nbformat": 4
 },
 "nbformat": 4,
 "nbformat_minor": 2
}
