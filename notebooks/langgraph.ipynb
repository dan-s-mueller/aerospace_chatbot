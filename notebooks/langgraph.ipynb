{
 "cells": [
  {
   "cell_type": "code",
   "execution_count": 18,
   "metadata": {},
   "outputs": [],
   "source": [
    "%load_ext autoreload\n",
    "%autoreload 2"
   ]
  },
  {
   "cell_type": "markdown",
   "metadata": {},
   "source": [
    "# Test partitioning update"
   ]
  },
  {
   "cell_type": "code",
   "execution_count": 2,
   "metadata": {},
   "outputs": [],
   "source": [
    "from aerospace_chatbot.processing import DocumentProcessor\n",
    "from aerospace_chatbot.services import EmbeddingService, RerankService, LLMService, DatabaseService\n",
    "from aerospace_chatbot.processing import QAModel\n",
    "\n",
    "from langchain_core.documents import Document\n",
    "\n",
    "# Load environment variables\n",
    "from dotenv import load_dotenv\n",
    "load_dotenv(override=True)\n",
    "# Set LOCAL_DB_PATH environment variable\n",
    "# os.environ['LOCAL_DB_PATH'] = os.path.abspath('.')\n",
    "\n",
    "# Initialize logger\n",
    "import logging\n",
    "logger = logging.getLogger(__name__)\n",
    "logging.basicConfig(level=logging.INFO)"
   ]
  },
  {
   "cell_type": "code",
   "execution_count": 3,
   "metadata": {},
   "outputs": [],
   "source": [
    "db_type='Pinecone'\n",
    "\n",
    "embedding_service='OpenAI'\n",
    "embedding_model='text-embedding-3-large'\n",
    "\n",
    "rerank_service='Cohere'\n",
    "rerank_model='rerank-v3.5'\n",
    "\n",
    "llm_service='OpenAI'\n",
    "llm_model='gpt-4o'\n",
    "# llm_service='Anthropic'\n",
    "# llm_model='claude-3-5-sonnet-latest'\n",
    "\n",
    "chunk_size=400\n",
    "chunk_overlap=0\n",
    "batch_size=50\n",
    "index_name = 'text-embedding-3-large-test'\n",
    "\n",
    "test_prompt='How does a thermal knife function in a cable based hold down release mechanism?'"
   ]
  },
  {
   "cell_type": "code",
   "execution_count": 4,
   "metadata": {},
   "outputs": [],
   "source": [
    "# Initialize services\n",
    "embedding_service = EmbeddingService(\n",
    "    model_service=embedding_service,\n",
    "    model=embedding_model\n",
    ")\n",
    "\n",
    "rerank_service = RerankService(\n",
    "    model_service=rerank_service,\n",
    "    model=rerank_model\n",
    ")\n",
    "\n",
    "llm_service = LLMService(\n",
    "    model_service=llm_service,\n",
    "    model=llm_model,\n",
    ")\n",
    "\n",
    "doc_processor = DocumentProcessor(\n",
    "    embedding_service=embedding_service,\n",
    "    chunk_size=chunk_size,\n",
    "    chunk_overlap=chunk_overlap,\n",
    ")\n",
    "\n",
    "# Initialize database service\n",
    "db_service = DatabaseService(\n",
    "    db_type=db_type,\n",
    "    index_name=index_name,\n",
    "    embedding_service=embedding_service,\n",
    "    rerank_service=rerank_service,\n",
    ")"
   ]
  },
  {
   "cell_type": "code",
   "execution_count": null,
   "metadata": {},
   "outputs": [],
   "source": [
    "bucket_name = 'processing-pdfs'\n",
    "docs = DocumentProcessor.list_bucket_pdfs(bucket_name)\n",
    "docs"
   ]
  },
  {
   "cell_type": "code",
   "execution_count": null,
   "metadata": {},
   "outputs": [],
   "source": [
    "partitioned_docs = doc_processor.load_and_partition_documents(docs,partition_by_api=False, upload_bucket=bucket_name)\n",
    "partitioned_docs"
   ]
  },
  {
   "cell_type": "code",
   "execution_count": null,
   "metadata": {},
   "outputs": [],
   "source": [
    "chunk_obj, output_paths = doc_processor.chunk_documents(partitioned_docs)"
   ]
  },
  {
   "cell_type": "code",
   "execution_count": 8,
   "metadata": {},
   "outputs": [],
   "source": [
    "# try:\n",
    "#     db_service.initialize_database(clear=False)\n",
    "# except ValueError as e:\n",
    "#     print(f\"Database initialization failed: {str(e)}\")\n",
    "#     print(e)\n",
    "#     raise e"
   ]
  },
  {
   "cell_type": "code",
   "execution_count": 9,
   "metadata": {},
   "outputs": [],
   "source": [
    "# db_service.index_data(chunk_obj)"
   ]
  },
  {
   "cell_type": "code",
   "execution_count": null,
   "metadata": {},
   "outputs": [],
   "source": [
    "# k_retrieve=20\n",
    "# k_rerank=5\n",
    "# config = {\"configurable\": {\"thread_id\": \"1\"}}\n",
    "\n",
    "# qa_model = QAModel(\n",
    "#     db_service=db_service,\n",
    "#     llm_service=llm_service,\n",
    "#     k_retrieve=k_retrieve,\n",
    "#     k_rerank=k_rerank,\n",
    "#     memory_config=config\n",
    "# )"
   ]
  },
  {
   "cell_type": "code",
   "execution_count": 11,
   "metadata": {},
   "outputs": [],
   "source": [
    "# qa_model.query(test_prompt)"
   ]
  },
  {
   "cell_type": "code",
   "execution_count": 12,
   "metadata": {},
   "outputs": [],
   "source": [
    "# print(qa_model.result[-1]['references'])\n",
    "# print(qa_model.sources[-1])\n",
    "# print(qa_model.scores[-1])\n"
   ]
  },
  {
   "cell_type": "code",
   "execution_count": 13,
   "metadata": {},
   "outputs": [],
   "source": [
    "# print(qa_model.ai_response)"
   ]
  },
  {
   "cell_type": "markdown",
   "metadata": {},
   "source": [
    "# Langgraph"
   ]
  },
  {
   "cell_type": "markdown",
   "metadata": {},
   "source": [
    "Run above section first\n"
   ]
  },
  {
   "cell_type": "code",
   "execution_count": 14,
   "metadata": {},
   "outputs": [],
   "source": [
    "from langchain_core.messages import SystemMessage, RemoveMessage\n",
    "from langchain.output_parsers import PydanticOutputParser\n",
    "from langgraph.checkpoint.memory import MemorySaver\n",
    "from langgraph.graph import MessagesState, StateGraph, START, END\n",
    "from langchain.prompts import PromptTemplate\n",
    "\n",
    "from typing_extensions import List\n",
    "from typing import List, Literal, Tuple\n",
    "\n",
    "# import cohere\n",
    "# import os\n",
    "from langchain.docstore.document import Document\n",
    "\n",
    "from aerospace_chatbot.services.prompts import InLineCitationsResponse, AltQuestionsResponse, style_mode, CHATBOT_SYSTEM_PROMPT, QA_PROMPT, SUMMARIZE_TEXT, GENERATE_SIMILAR_QUESTIONS_W_CONTEXT"
   ]
  },
  {
   "cell_type": "code",
   "execution_count": 15,
   "metadata": {},
   "outputs": [],
   "source": [
    "retriever = db_service.retriever\n",
    "llm = llm_service.get_llm()\n",
    "# memory = MemorySaver()"
   ]
  },
  {
   "cell_type": "markdown",
   "metadata": {},
   "source": [
    "## Rerank"
   ]
  },
  {
   "cell_type": "code",
   "execution_count": null,
   "metadata": {},
   "outputs": [],
   "source": [
    "# Retrieve docs with standard retriever\n",
    "retrieved_docs = retriever.invoke(test_prompt)\n",
    "\n",
    "# retrieved_docs"
   ]
  },
  {
   "cell_type": "code",
   "execution_count": 17,
   "metadata": {},
   "outputs": [],
   "source": [
    "# COHERE_API_KEY = os.getenv(\"COHERE_API_KEY\")\n",
    "# co = cohere.ClientV2(COHERE_API_KEY)\n",
    "# rerank_model = \"rerank-v3.5\""
   ]
  },
  {
   "cell_type": "code",
   "execution_count": 18,
   "metadata": {},
   "outputs": [],
   "source": [
    "# model_list = co.models.list()\n",
    "# rerank_model_info = next((model for model in model_list.models if model.name == rerank_model), None)\n",
    "# print(rerank_model_info)\n",
    "\n",
    "# print(model_list.models)"
   ]
  },
  {
   "cell_type": "code",
   "execution_count": 19,
   "metadata": {},
   "outputs": [],
   "source": [
    "# Get token count for each doc\n",
    "# max_context_length = 4096\n",
    "\n",
    "# token_count_list = []\n",
    "# for doc in retrieved_docs[0]:\n",
    "#     tokens = co.tokenize(\n",
    "#         model=rerank_model,\n",
    "#         text=doc.page_content,\n",
    "#     )\n",
    "#     token_count_list.append(len(tokens.tokens))\n",
    "    # print(token_count)\n",
    "\n",
    "# print(token_count_list)"
   ]
  },
  {
   "cell_type": "code",
   "execution_count": 20,
   "metadata": {},
   "outputs": [],
   "source": [
    "# def cohere_rerank(query: str, retrieved_docs: List[Tuple[Document, float]], top_n: int = None):\n",
    "#     # retrieved_docs contains a list of tuples, where the first element is the document and the second is the score\n",
    "#     # Cohere's rerank expects a list of strings; we'll supply the page_content\n",
    "\n",
    "#     if top_n is None:\n",
    "#         top_n = 3\n",
    "#     elif top_n < 3:\n",
    "#         raise ValueError(\"top_n must be at least 3\")\n",
    "#     elif top_n > len(retrieved_docs):\n",
    "#         raise ValueError(\"top_n must be less than or equal to the number of retrieved documents\")\n",
    "    \n",
    "#     inputs = [doc.page_content for doc, _ in retrieved_docs]\n",
    "\n",
    "#     # Call Cohere's Rerank endpoint\n",
    "#     response = co.rerank(\n",
    "#         model=rerank_model,\n",
    "#         query=query,\n",
    "#         documents=inputs,\n",
    "#         top_n=top_n\n",
    "#     )\n",
    "\n",
    "#     # Create a dictionary to map document IDs to rerank scores\n",
    "#     rerank_scores = {retrieved_docs[i][0].id: item.relevance_score for i, item in enumerate(response.results)}\n",
    "\n",
    "#     # Create list of (doc, original_score, rerank_score) tuples\n",
    "#     doc_scores = []\n",
    "#     for doc, original_score in retrieved_docs:\n",
    "#         rerank_score = rerank_scores.get(doc.id, None)  # Get the rerank score or None if not available\n",
    "#         doc_scores.append((doc, original_score, rerank_score))\n",
    "\n",
    "#     # Sort docs by rerank score in descending order, placing those without a rerank score at the end\n",
    "#     doc_scores_sorted = sorted(doc_scores, key=lambda x: (x[2] is not None, x[2]), reverse=True)\n",
    "\n",
    "#     return doc_scores_sorted"
   ]
  },
  {
   "cell_type": "code",
   "execution_count": null,
   "metadata": {},
   "outputs": [],
   "source": [
    "reranked_docs = db_service.rerank(test_prompt, retrieved_docs, top_n=k_rerank)\n",
    "# reranked_docs"
   ]
  },
  {
   "cell_type": "code",
   "execution_count": 22,
   "metadata": {},
   "outputs": [],
   "source": [
    "# Add context to the prompt\n",
    "# TODO update this to use the doc.id. Do some testing to check this works.\n",
    "docs_content=\"\"\n",
    "for i, (doc, original_score, rerank_score) in enumerate(reranked_docs):\n",
    "    # Source IDs in the order they show in in the array. Indexed from 0.\n",
    "    if rerank_score is not None:    # Only include docs with a rerank score\n",
    "        docs_content += f\"Source ID: {i+1}\\n{doc.page_content}\\n\\n\"\n",
    "\n",
    "# print(docs_content)"
   ]
  },
  {
   "cell_type": "markdown",
   "metadata": {},
   "source": [
    "## Test output parser"
   ]
  },
  {
   "cell_type": "markdown",
   "metadata": {},
   "source": [
    "### InLineCitationsResponse"
   ]
  },
  {
   "cell_type": "code",
   "execution_count": null,
   "metadata": {},
   "outputs": [],
   "source": [
    "# Should validate\n",
    "valid_response = InLineCitationsResponse(content=\"\"\"\n",
    "The actuator was tested under high pressure <source id=\"1\">. \n",
    "Material properties were measured over 50 cycles <source id=\"2\">.\n",
    "Thermal resistance improved by 30% <source id=\"3\">.\n",
    "\"\"\",\n",
    "citations=[\"1\", \"2\", \"3\"]\n",
    ")\n",
    "\n",
    "print(valid_response)"
   ]
  },
  {
   "cell_type": "code",
   "execution_count": null,
   "metadata": {},
   "outputs": [],
   "source": [
    "# Shouldn't validate\n",
    "try:\n",
    "    invalid_response = InLineCitationsResponse(content=\"\"\"\n",
    "    The actuator was tested under high pressure [1]. \n",
    "    Material properties were measured under load <source id=\"x\">.\n",
    "    \"\"\",\n",
    "    citations=[\"1\", \"x\"]\n",
    "    )\n",
    "except ValueError as e:\n",
    "    print(f\"Validation failed: {e}\")"
   ]
  },
  {
   "cell_type": "code",
   "execution_count": 26,
   "metadata": {},
   "outputs": [],
   "source": [
    "QA_PROMPT_TEST=PromptTemplate(\n",
    "    template=\n",
    "\"\"\"\n",
    "# **System Prompt**\n",
    "\n",
    "Your name is **Aerospace Chatbot**, a specialized assistant for flight hardware design and analysis in aerospace engineering. You will function as a knowledgeable replacement for an expert in aerospace flight hardware design, testing, analysis, and certification.\n",
    "\n",
    "> **Important Note:** The **Sources and Context** you are provided are ranked from most relevant to least relevant by a state-of-the-art retrieval and ranking tool. Please take this ranking into consideration when determining which sources to cite.\n",
    "\n",
    "Use only the **Sources and Context** provided to answer the **User Question**. **Do not use outside knowledge**, and strictly follow these rules:\n",
    "\n",
    "---\n",
    "\n",
    "## **Rules**:\n",
    "\n",
    "1. **Answer only based on the provided Sources and Context.**  \n",
    "   - If the information is not available in the Sources and Context, respond with:  \n",
    "     *\"I don’t know the answer to that based on the information provided. You might consider rephrasing your question or asking about a related topic.\"*  \n",
    "   - **If no sources are truly relevant to the answer, do not cite any sources.**\n",
    "\n",
    "2. **Do not make up or infer answers.**  \n",
    "   - Stay accurate and factual at all times.\n",
    "\n",
    "3. **Provide highly detailed, explanatory answers.**  \n",
    "   - Include **as many specific details from the original context** as possible to thoroughly address the user’s question.\n",
    "\n",
    "4. **Provide responses in English only** and format them using **Markdown** for clarity.\n",
    "\n",
    "5. **Cite Sources in context** using the exact format `<source id=\"#\">`:  \n",
    "   - `#` – Represents the numerical order of the source as provided in the Sources and Context.  \n",
    "   - **The `source` tag must be present for every source referenced in the response.**  \n",
    "   - **Do not add, omit, or modify any part of the citation format.**  \n",
    "   \n",
    "   **Examples (Correct):**  \n",
    "   > The actuator was tested under extreme conditions <source id=\"1\">.  \n",
    "   > A secondary material exhibited increased yield strength <source id=\"2\">.  \n",
    "   > Additional research confirmed thermal properties <source id=\"3\">.  \n",
    "\n",
    "   **Examples (Incorrect – Must Be Rejected):**  \n",
    "   > Testing yielded higher efficiency [1] (Incorrect bracket format)  \n",
    "   > <source id=\"1\" > (Extra space after `id`)  \n",
    "   > <source id=\"a\"> (Non-numeric ID)  \n",
    "   > <source id=\"1,2\"> (Multiple IDs in one tag – invalid)  \n",
    "\n",
    "6. **Every sentence or paragraph that uses a source must cite it with the format `<source id=\"#\">`.**  \n",
    "   - **Do not group multiple sources into a single tag.**  \n",
    "   - Each source must have its own, clearly separated citation.  \n",
    "   - For example:  \n",
    "     > The actuator uses a reinforced composite structure <source id=\"1\">.  \n",
    "     > This design was validated through multiple tests <source id=\"2\">.\n",
    "\n",
    "7. **Validation Requirement:**  \n",
    "   - If the response contains references without the exact `<source id=\"#\">` format, the response must be flagged or rejected.  \n",
    "   - Every source used must have a corresponding citation in the response.  \n",
    "   - **No source should be referenced without explicit citation.**\n",
    "\n",
    "8. **Suggest related or alternative questions** if applicable, to help the user find relevant information within the corpus.\n",
    "\n",
    "9. **Always cite Source ID: 1**  \n",
    "   - Always provide a citation for Source ID: 1 unless it is entirely irrelevant to the user’s question (in which case explicitly omit it).  \n",
    "   - Follow Rule #10 for the other sources.\n",
    "\n",
    "10. **Give preference to citing top-ranked sources, provided in order of highest to lowest relevance.**  \n",
    "   - If the first sources in the list (i.e., the most relevant or highest-ranked) contain information that addresses the user’s question, cite them first.  \n",
    "   - Then cite additional sources only if they contain new or non-redundant details.  \n",
    "   - If the top-ranked sources are not relevant, skip them.\n",
    "\n",
    "---\n",
    "**Sources and Context**:\n",
    "{context}\n",
    "---\n",
    "\n",
    "---\n",
    "**User Question**:\n",
    "{question}\n",
    "---\n",
    "\n",
    "---\n",
    "{format_instructions}\n",
    "---\n",
    "\"\"\",\n",
    "    input_variables=[\"context\", \"question\"],\n",
    "    partial_variables={\"format_instructions\": PydanticOutputParser(pydantic_object=InLineCitationsResponse).get_format_instructions()},\n",
    ")\n"
   ]
  },
  {
   "cell_type": "code",
   "execution_count": null,
   "metadata": {},
   "outputs": [],
   "source": [
    "raw_output = llm.invoke(QA_PROMPT_TEST.format(context=docs_content, question=test_prompt))\n",
    "print(raw_output.content)"
   ]
  },
  {
   "cell_type": "code",
   "execution_count": null,
   "metadata": {},
   "outputs": [],
   "source": [
    "parsed_response = PydanticOutputParser(pydantic_object=InLineCitationsResponse).parse(raw_output.content)\n",
    "print(parsed_response)"
   ]
  },
  {
   "cell_type": "markdown",
   "metadata": {},
   "source": [
    "### AltQuestionsResponse"
   ]
  },
  {
   "cell_type": "code",
   "execution_count": null,
   "metadata": {},
   "outputs": [],
   "source": [
    "# Should validate\n",
    "valid_response = AltQuestionsResponse(\n",
    "    questions=[\"What is the purpose of the actuator?\", \"What are the key components of the mechanism?\", \"How does the mechanism work?\"],\n",
    ")\n",
    "print(valid_response)"
   ]
  },
  {
   "cell_type": "code",
   "execution_count": null,
   "metadata": {},
   "outputs": [],
   "source": [
    "# Shouldn't validate\n",
    "try:\n",
    "    invalid_response = AltQuestionsResponse(\n",
    "        questions=[\"What is the purpose of the actuator?\", \"What are the key components of the mechanism?\"],\n",
    "    )\n",
    "except ValueError as e:\n",
    "    print(f\"Validation failed: {e}\")"
   ]
  },
  {
   "cell_type": "code",
   "execution_count": null,
   "metadata": {},
   "outputs": [],
   "source": [
    "raw_output = llm.invoke(GENERATE_SIMILAR_QUESTIONS_W_CONTEXT.format(context=docs_content, question=test_prompt))\n",
    "print(raw_output.content)"
   ]
  },
  {
   "cell_type": "code",
   "execution_count": null,
   "metadata": {},
   "outputs": [],
   "source": [
    "parsed_response = PydanticOutputParser(pydantic_object=AltQuestionsResponse).parse(raw_output.content)\n",
    "print(parsed_response.questions)"
   ]
  },
  {
   "cell_type": "markdown",
   "metadata": {},
   "source": [
    "## Define graph"
   ]
  },
  {
   "cell_type": "code",
   "execution_count": 33,
   "metadata": {},
   "outputs": [],
   "source": [
    "# class State(MessagesState):\n",
    "#     context: List[Tuple[Document, float, float]]\n",
    "#     cited_sources: List[Tuple[Document, float, float]]\n",
    "#     summary: str\n",
    "\n",
    "# # Define application steps\n",
    "# def retrieve(state: State):\n",
    "#     \"\"\"\n",
    "#     Retrieve the documents from the database.\n",
    "#     \"\"\"\n",
    "#     logger.info(f\"Node: retrieve\")\n",
    "\n",
    "#     # Retrieve docs\n",
    "#     retrieved_docs = retriever.invoke(state[\"messages\"][-1].content)\n",
    "#     logger.info(f\"Retrieved docs\")\n",
    "#     # Rerank docs\n",
    "#     # reranked_docs = cohere_rerank(\n",
    "#     #     state[\"messages\"][-1].content, \n",
    "#     #     retrieved_docs, \n",
    "#     #     top_n=k_rerank\n",
    "#     # )\n",
    "#     reranked_docs = db_service.rerank(\n",
    "#         state[\"messages\"][-1].content, \n",
    "#         retrieved_docs, \n",
    "#         top_n=k_rerank\n",
    "#     )\n",
    "#     logger.info(f\"Reranked docs\")\n",
    "\n",
    "#     return {\"context\": reranked_docs}\n",
    "\n",
    "# def generate_w_context(state: State):\n",
    "#     \"\"\"\n",
    "#     Call the model with the prompt with context.\n",
    "#     \"\"\"\n",
    "#     logger.info(f\"Node: generate_w_context\")\n",
    "\n",
    "#     # Get the summary, add system prompt\n",
    "#     summary = state.get(\"summary\", \"\")\n",
    "#     system_prompt = CHATBOT_SYSTEM_PROMPT.format(style_mode=style_mode(style))\n",
    "#     logger.info(f\"generate_w_context system prompt: {system_prompt.content}\")\n",
    "#     if summary:\n",
    "#         system_message = f\"Summary of conversation earlier: {summary}\"\n",
    "#         messages = [system_prompt] + [SystemMessage(content=system_message)] + state[\"messages\"]\n",
    "#     else:\n",
    "#         messages = [system_prompt] + state[\"messages\"]\n",
    "\n",
    "#     # Add context to the prompt\n",
    "#     docs_content=\"\"\n",
    "#     for i, (doc, retrieved_score, rerank_score) in enumerate(state[\"context\"]):\n",
    "#         # Source IDs in the order they show in in the array. Indexed from 1, retrieve with 0 index.\n",
    "#         if rerank_score is not None:    # Only include docs with a rerank score\n",
    "#             docs_content += f\"Source ID: {i+1}\\n{doc.page_content}\\n\\n\"\n",
    "\n",
    "#     # Prompt with context and pydantic output parser\n",
    "#     prompt_with_context = QA_PROMPT.format(\n",
    "#         context=docs_content,\n",
    "#         question=state[\"messages\"][-1].content, \n",
    "#     )\n",
    "#     # Replace the last message (user question) with the prompt with context, return LLM response\n",
    "#     messages[-1] = prompt_with_context \n",
    "#     response = llm.invoke(messages)\n",
    "\n",
    "#     # Parse the response. This will return a InLineCitationsResponse object. \n",
    "#     # This object has two fields: content and citations.\n",
    "#     # Replace the last message with the content of the parsed and validated response. \n",
    "#     # AIMessage metadata will be incorrect.\n",
    "#     parsed_response = PydanticOutputParser(pydantic_object=InLineCitationsResponse).parse(response.content)\n",
    "#     response.content = parsed_response.content\n",
    "\n",
    "#     # Return cited_sources as the list of tuples that matched the citations.\n",
    "#     existing_cited_sources = state.get(\"cited_sources\", [])  # Grab whatever might already be in cited_sources\n",
    "#     cited_sources = [state[\"context\"][int(citation)-1] for citation in parsed_response.citations]\n",
    "#     existing_cited_sources.append(cited_sources)  # Append the new list as a sublist\n",
    "#     state[\"cited_sources\"] = existing_cited_sources\n",
    "\n",
    "#     # Update the state messages with the messages updated in this node.\n",
    "#     state[\"messages\"] = messages\n",
    "#     return {\"messages\": [response], \n",
    "#             \"cited_sources\": state[\"cited_sources\"]}\n",
    "\n",
    "# def should_continue(state: State) -> Literal[\"summarize_conversation\", END]:\n",
    "#     \"\"\"\n",
    "#     Define the logic for determining whether to end or summarize the conversation\n",
    "#     \"\"\"\n",
    "#     logger.info(f\"Node: should_continue\")\n",
    "\n",
    "#     # If there are more than six messages, then we summarize the conversation\n",
    "#     messages = state[\"messages\"]\n",
    "#     if len(messages) > 6:\n",
    "#         logger.info(f\"Summarizing conversation\")\n",
    "#         return \"summarize_conversation\"\n",
    "    \n",
    "#     # Otherwise just end\n",
    "#     logger.info(f\"Ending conversation\")\n",
    "#     # logger.info(f\"Messages before ending: {messages}\")\n",
    "#     return END\n",
    "\n",
    "# def summarize_conversation(state: State):\n",
    "#     \"\"\"\n",
    "#     Summarize the conversation\n",
    "#     \"\"\"\n",
    "#     logger.info(f\"Node: summarize_conversation\")\n",
    "\n",
    "#     summary = state.get(\"summary\", \"\")\n",
    "#     if summary:\n",
    "#         # If a summary already exists, extend it\n",
    "#         summary_message = SUMMARIZE_TEXT.format(\n",
    "#             summary=summary,\n",
    "#             augment=\"Extend the summary provided by taking into account the new messages above.\"\n",
    "#         )\n",
    "#     else:\n",
    "#         # If no summary exists, create one\n",
    "#         summary_text=\"\"\"---\\n**Conversation Summary to Date**:\\n{summary}\\n---\"\"\"\n",
    "#         summary_message = SUMMARIZE_TEXT.format(\n",
    "#             summary=summary_text,\n",
    "#             augment=\"Create a summary of the conversation above.\"\n",
    "#         )\n",
    "\n",
    "#     messages = state[\"messages\"] + [summary_message]\n",
    "#     response = llm.invoke(messages)\n",
    "\n",
    "#     # Prune messages. This deletes all but the last two messages\n",
    "#     delete_messages = [RemoveMessage(id=m.id) for m in state[\"messages\"][:-2]]\n",
    "#     return {\"summary\": response.content, \"messages\": delete_messages}"
   ]
  },
  {
   "cell_type": "code",
   "execution_count": 34,
   "metadata": {},
   "outputs": [],
   "source": [
    "# # Compile application and test\n",
    "# workflow = StateGraph(State)\n",
    "\n",
    "# # Define nodes\n",
    "# workflow.add_node(\"retrieve\", retrieve) \n",
    "# workflow.add_node(\"generate_w_context\", generate_w_context)\n",
    "# workflow.add_node(\"summarize_conversation\", summarize_conversation)\n",
    "\n",
    "# # Define edges\n",
    "# workflow.add_edge(START, \"retrieve\")\n",
    "# workflow.add_edge(\"retrieve\", \"generate_w_context\")\n",
    "\n",
    "# # We now add a conditional edge\n",
    "# workflow.add_conditional_edges(\n",
    "#     \"generate_w_context\",   # Define the start node. We use `generate_w_context`. This means these are the edges taken after the `conversation` node is called.\n",
    "#     should_continue,    # Next, pass in the function that will determine which node is called next.\n",
    "# )\n",
    "\n",
    "# # Add a normal edge from `summarize_conversation` to END. This means that after `summarize_conversation` is called, we end.\n",
    "# workflow.add_edge(\"summarize_conversation\", END)\n",
    "\n",
    "# # Compile the workflow\n",
    "# app = workflow.compile(checkpointer=memory)"
   ]
  },
  {
   "cell_type": "code",
   "execution_count": null,
   "metadata": {},
   "outputs": [],
   "source": [
    "qa_model.workflow"
   ]
  },
  {
   "cell_type": "markdown",
   "metadata": {},
   "source": [
    "## Run Graph"
   ]
  },
  {
   "cell_type": "code",
   "execution_count": 36,
   "metadata": {},
   "outputs": [],
   "source": [
    "config = {\"configurable\": {\"thread_id\": \"197\"}}"
   ]
  },
  {
   "cell_type": "code",
   "execution_count": null,
   "metadata": {},
   "outputs": [],
   "source": [
    "prompt = 'My name is Dan. Please tell me about some interesting mecanism designs.'\n",
    "# result = qa_model.workflow.invoke({\"messages\": [(\"human\", prompt)]}, config)\n",
    "qa_model.query(prompt)\n",
    "for message in qa_model.result['messages']:\n",
    "    message.pretty_print()"
   ]
  },
  {
   "cell_type": "code",
   "execution_count": null,
   "metadata": {},
   "outputs": [],
   "source": [
    "qa_model.result['context']"
   ]
  },
  {
   "cell_type": "code",
   "execution_count": null,
   "metadata": {},
   "outputs": [],
   "source": [
    "# prompt = 'How have these mecahnisms been tested?'\n",
    "prompt = 'How is release indicated from the functional response of the mechanism?'\n",
    "result = qa_model.workflow.invoke({\"messages\": [(\"human\", prompt)]}, config)\n",
    "for message in result['messages']:\n",
    "    message.pretty_print()"
   ]
  },
  {
   "cell_type": "code",
   "execution_count": null,
   "metadata": {},
   "outputs": [],
   "source": [
    "result"
   ]
  },
  {
   "cell_type": "code",
   "execution_count": null,
   "metadata": {},
   "outputs": [],
   "source": [
    "result['messages'][-1].content"
   ]
  },
  {
   "cell_type": "code",
   "execution_count": null,
   "metadata": {},
   "outputs": [],
   "source": [
    "print(result['context'][0][0])"
   ]
  },
  {
   "cell_type": "code",
   "execution_count": null,
   "metadata": {},
   "outputs": [],
   "source": []
  },
  {
   "cell_type": "markdown",
   "metadata": {},
   "source": [
    "## Test PDF annotation"
   ]
  },
  {
   "cell_type": "code",
   "execution_count": null,
   "metadata": {},
   "outputs": [],
   "source": [
    "import json, base64, zlib\n",
    "\n",
    "def extract_orig_elements(orig_elements):\n",
    "    decoded_orig_elements = base64.b64decode(orig_elements)\n",
    "    decompressed_orig_elements = zlib.decompress(decoded_orig_elements)\n",
    "    return decompressed_orig_elements.decode('utf-8')\n",
    "\n",
    "orig_elements = extract_orig_elements(result['context'][2][0].metadata['orig_elements'])\n",
    "orig_elements = json.loads(orig_elements)\n",
    "print(orig_elements)\n",
    "print(len(orig_elements))"
   ]
  },
  {
   "cell_type": "code",
   "execution_count": null,
   "metadata": {},
   "outputs": [],
   "source": [
    "page_range = [orig_elements[0]['metadata']['page_number'], orig_elements[-1]['metadata']['page_number']]\n",
    "print(page_range)"
   ]
  },
  {
   "cell_type": "code",
   "execution_count": null,
   "metadata": {},
   "outputs": [],
   "source": [
    "from aerospace_chatbot.ui.utils import display_source_highlights\n",
    "\n",
    "annotated_pdfs = display_source_highlights(result['context'][:k_rerank])\n",
    "print(len(annotated_pdfs))"
   ]
  },
  {
   "cell_type": "code",
   "execution_count": null,
   "metadata": {},
   "outputs": [],
   "source": [
    "import fitz\n",
    "from IPython.display import display, Image\n",
    "from tempfile import NamedTemporaryFile\n",
    "\n",
    "pdf_bytes = annotated_pdfs[1].read()\n",
    "pdf_document = fitz.open(stream=pdf_bytes, filetype=\"pdf\")\n",
    "\n",
    "# Display each page\n",
    "for page in pdf_document:\n",
    "    pix = page.get_pixmap(matrix=fitz.Matrix(1, 1))  # 2x zoom for better resolution\n",
    "    with NamedTemporaryFile(suffix='.png') as tmp:\n",
    "        pix.save(tmp.name)\n",
    "        display(Image(filename=tmp.name))\n",
    "\n",
    "pdf_document.close()"
   ]
  },
  {
   "cell_type": "markdown",
   "metadata": {},
   "source": [
    "## Summary memory test prompts"
   ]
  },
  {
   "cell_type": "code",
   "execution_count": 157,
   "metadata": {},
   "outputs": [],
   "source": [
    "# prompt = 'How old are you?'\n",
    "# result = qa_model.workflow.invoke({\"messages\": [(\"human\", prompt)]}, config)\n",
    "# for message in result['messages']:\n",
    "#     message.pretty_print()"
   ]
  },
  {
   "cell_type": "code",
   "execution_count": 158,
   "metadata": {},
   "outputs": [],
   "source": [
    "# prompt = 'What are some lessons learned about these mechanisms?'\n",
    "# result = qa_model.workflow.invoke({\"messages\": [(\"human\", prompt)]}, config)\n",
    "# for message in result['messages']:\n",
    "#     message.pretty_print()"
   ]
  },
  {
   "cell_type": "code",
   "execution_count": 159,
   "metadata": {},
   "outputs": [],
   "source": [
    "# prompt = 'What are some problems that have occurred?'\n",
    "# result = qa_model.workflow.invoke({\"messages\": [(\"human\", prompt)]}, config)\n",
    "# for message in result['messages']:\n",
    "#     message.pretty_print()"
   ]
  },
  {
   "cell_type": "markdown",
   "metadata": {},
   "source": [
    "# RAGatouille retrieval testing"
   ]
  },
  {
   "cell_type": "code",
   "execution_count": 32,
   "metadata": {},
   "outputs": [],
   "source": [
    "from aerospace_chatbot.processing import DocumentProcessor\n",
    "from aerospace_chatbot.services import EmbeddingService, RerankService, LLMService, DatabaseService\n",
    "from aerospace_chatbot.processing import QAModel\n",
    "\n",
    "from langchain_core.documents import Document\n",
    "\n",
    "# Load environment variables\n",
    "from dotenv import load_dotenv\n",
    "load_dotenv(override=True)\n",
    "# Set LOCAL_DB_PATH environment variable\n",
    "# os.environ['LOCAL_DB_PATH'] = os.path.abspath('.')\n",
    "\n",
    "# Initialize logger\n",
    "import logging\n",
    "logger = logging.getLogger(__name__)\n",
    "logging.basicConfig(level=logging.INFO)\n",
    "db_type='RAGatouille'\n",
    "\n",
    "embedding_service='RAGatouille'\n",
    "embedding_model='colbert-ir/colbertv2.0'\n",
    "\n",
    "rerank_service='Cohere'\n",
    "rerank_model='rerank-v3.5'\n",
    "\n",
    "llm_service='OpenAI'\n",
    "llm_model='gpt-4o'\n",
    "# llm_service='Anthropic'\n",
    "# llm_model='claude-3-5-sonnet-latest'\n",
    "\n",
    "chunk_size=400\n",
    "chunk_overlap=0\n",
    "batch_size=50\n",
    "index_name = 'ragatouille-test'\n",
    "\n",
    "test_prompt='How does a thermal knife function in a cable based hold down release mechanism?'\n",
    "# Initialize services\n",
    "embedding_service = EmbeddingService(\n",
    "    model_service=embedding_service,\n",
    "    model=embedding_model\n",
    ")\n",
    "\n",
    "rerank_service = RerankService(\n",
    "    model_service=rerank_service,\n",
    "    model=rerank_model\n",
    ")\n",
    "# rerank_service = None\n",
    "\n",
    "llm_service = LLMService(\n",
    "    model_service=llm_service,\n",
    "    model=llm_model,\n",
    ")\n",
    "\n",
    "doc_processor = DocumentProcessor(\n",
    "    embedding_service=embedding_service,\n",
    "    chunk_size=chunk_size,\n",
    "    chunk_overlap=chunk_overlap,\n",
    ")\n",
    "\n",
    "# Initialize database service\n",
    "db_service = DatabaseService(\n",
    "    db_type=db_type,\n",
    "    index_name=index_name,\n",
    "    embedding_service=embedding_service,\n",
    "    rerank_service=rerank_service,\n",
    ")\n"
   ]
  },
  {
   "cell_type": "code",
   "execution_count": 48,
   "metadata": {},
   "outputs": [
    {
     "name": "stderr",
     "output_type": "stream",
     "text": [
      "INFO:aerospace_chatbot.processing.documents:Number of PDFs found: 2\n",
      "INFO:aerospace_chatbot.processing.documents:PDFs found: ['gs://processing-pdfs/1999_christiansen_reocr.pdf', 'gs://processing-pdfs/1999_cremers_reocr.pdf']\n",
      "INFO:aerospace_chatbot.processing.documents:Found existing partitioned file: ./document_processing/partitioned/1999_christiansen_reocr-partitioned.json\n",
      "INFO:aerospace_chatbot.processing.documents:Found existing partitioned file: ./document_processing/partitioned/1999_cremers_reocr-partitioned.json\n",
      "INFO:aerospace_chatbot.processing.documents:Chunking documents...\n",
      "INFO:aerospace_chatbot.processing.documents:Total number of chunks: 91\n",
      "INFO:aerospace_chatbot.processing.documents:Output paths: ['./document_processing/chunked/1999_christiansen_reocr-chunked.json', './document_processing/chunked/1999_cremers_reocr-chunked.json']\n"
     ]
    },
    {
     "name": "stdout",
     "output_type": "stream",
     "text": [
      "./document_processing/partitioned/1999_christiansen_reocr-partitioned.json\n",
      "./document_processing/partitioned/1999_cremers_reocr-partitioned.json\n",
      "Chunking ./document_processing/partitioned/1999_christiansen_reocr-partitioned.json...\n",
      "Chunked data saved at ./document_processing/chunked/1999_christiansen_reocr-chunked.json\n",
      "Chunking ./document_processing/partitioned/1999_cremers_reocr-partitioned.json...\n",
      "Chunked data saved at ./document_processing/chunked/1999_cremers_reocr-chunked.json\n"
     ]
    }
   ],
   "source": [
    "bucket_name = 'processing-pdfs'\n",
    "docs = DocumentProcessor.list_bucket_pdfs(bucket_name)\n",
    "\n",
    "# partitioned_docs = doc_processor.load_and_partition_documents(docs,partition_by_api=False, upload_bucket=bucket_name)\n",
    "# chunk_obj, output_paths = doc_processor.chunk_documents(partitioned_docs)\n",
    "\n",
    "partitioned_docs = doc_processor.load_partitioned_documents(docs, partition_dir='./document_processing')\n",
    "chunk_obj, output_paths = doc_processor.chunk_documents(partitioned_docs)"
   ]
  },
  {
   "cell_type": "code",
   "execution_count": 34,
   "metadata": {},
   "outputs": [
    {
     "name": "stderr",
     "output_type": "stream",
     "text": [
      "INFO:aerospace_chatbot.services.database:Validating index ragatouille-test\n",
      "/Users/danmueller/Documents/GitHub/aerospace_chatbot/.venv/lib/python3.11/site-packages/colbert/utils/amp.py:12: FutureWarning: `torch.cuda.amp.GradScaler(args...)` is deprecated. Please use `torch.amp.GradScaler('cuda', args...)` instead.\n",
      "  self.scaler = torch.cuda.amp.GradScaler()\n",
      "/Users/danmueller/Documents/GitHub/aerospace_chatbot/.venv/lib/python3.11/site-packages/torch/amp/grad_scaler.py:132: UserWarning: torch.cuda.amp.GradScaler is enabled, but CUDA is not available.  Disabling.\n",
      "  warnings.warn(\n",
      "INFO:aerospace_chatbot.services.database:RAGatouille index ragatouille-test initialized\n"
     ]
    }
   ],
   "source": [
    "try:\n",
    "    db_service.initialize_database(clear=False)\n",
    "except ValueError as e:\n",
    "    print(f\"Database initialization failed: {str(e)}\")\n",
    "    print(e)\n",
    "    raise e"
   ]
  },
  {
   "cell_type": "code",
   "execution_count": 44,
   "metadata": {},
   "outputs": [
    {
     "data": {
      "text/plain": [
       "<bound method RAGPretrainedModel.index of <ragatouille.RAGPretrainedModel.RAGPretrainedModel object at 0x32b00c750>>"
      ]
     },
     "execution_count": 44,
     "metadata": {},
     "output_type": "execute_result"
    }
   ],
   "source": [
    "db_service.vectorstore.index"
   ]
  },
  {
   "cell_type": "code",
   "execution_count": 35,
   "metadata": {},
   "outputs": [],
   "source": [
    "# db_service.index_data(chunk_obj)"
   ]
  },
  {
   "cell_type": "code",
   "execution_count": 36,
   "metadata": {},
   "outputs": [],
   "source": [
    "k_retrieve=20\n",
    "k_rerank=5\n",
    "config = {\"configurable\": {\"thread_id\": \"2\"}}\n",
    "\n",
    "qa_model = QAModel(\n",
    "    db_service=db_service,\n",
    "    llm_service=llm_service,\n",
    "    k_retrieve=k_retrieve,\n",
    "    k_rerank=k_rerank,\n",
    "    memory_config=config\n",
    ")"
   ]
  },
  {
   "cell_type": "code",
   "execution_count": 37,
   "metadata": {},
   "outputs": [
    {
     "name": "stdout",
     "output_type": "stream",
     "text": [
      "Loading searcher for index ragatouille-test for the first time... This may take a few seconds\n",
      "[Jan 25, 21:03:56] #> Loading codec...\n",
      "[Jan 25, 21:03:56] #> Loading IVF...\n",
      "[Jan 25, 21:03:56] #> Loading doclens...\n"
     ]
    },
    {
     "name": "stderr",
     "output_type": "stream",
     "text": [
      "/Users/danmueller/Documents/GitHub/aerospace_chatbot/.venv/lib/python3.11/site-packages/colbert/utils/amp.py:12: FutureWarning: `torch.cuda.amp.GradScaler(args...)` is deprecated. Please use `torch.amp.GradScaler('cuda', args...)` instead.\n",
      "  self.scaler = torch.cuda.amp.GradScaler()\n",
      "/Users/danmueller/Documents/GitHub/aerospace_chatbot/.venv/lib/python3.11/site-packages/torch/amp/grad_scaler.py:132: UserWarning: torch.cuda.amp.GradScaler is enabled, but CUDA is not available.  Disabling.\n",
      "  warnings.warn(\n",
      "/Users/danmueller/Documents/GitHub/aerospace_chatbot/.venv/lib/python3.11/site-packages/colbert/indexing/codecs/residual.py:141: FutureWarning: You are using `torch.load` with `weights_only=False` (the current default value), which uses the default pickle module implicitly. It is possible to construct malicious pickle data which will execute arbitrary code during unpickling (See https://github.com/pytorch/pytorch/blob/main/SECURITY.md#untrusted-models for more details). In a future release, the default value for `weights_only` will be flipped to `True`. This limits the functions that could be executed during unpickling. Arbitrary objects will no longer be allowed to be loaded via this mode unless they are explicitly allowlisted by the user via `torch.serialization.add_safe_globals`. We recommend you start setting `weights_only=True` for any use case where you don't have full control of the loaded file. Please open an issue on GitHub for any issues related to this experimental feature.\n",
      "  centroids = torch.load(centroids_path, map_location='cpu')\n",
      "/Users/danmueller/Documents/GitHub/aerospace_chatbot/.venv/lib/python3.11/site-packages/colbert/indexing/codecs/residual.py:142: FutureWarning: You are using `torch.load` with `weights_only=False` (the current default value), which uses the default pickle module implicitly. It is possible to construct malicious pickle data which will execute arbitrary code during unpickling (See https://github.com/pytorch/pytorch/blob/main/SECURITY.md#untrusted-models for more details). In a future release, the default value for `weights_only` will be flipped to `True`. This limits the functions that could be executed during unpickling. Arbitrary objects will no longer be allowed to be loaded via this mode unless they are explicitly allowlisted by the user via `torch.serialization.add_safe_globals`. We recommend you start setting `weights_only=True` for any use case where you don't have full control of the loaded file. Please open an issue on GitHub for any issues related to this experimental feature.\n",
      "  avg_residual = torch.load(avgresidual_path, map_location='cpu')\n",
      "/Users/danmueller/Documents/GitHub/aerospace_chatbot/.venv/lib/python3.11/site-packages/colbert/indexing/codecs/residual.py:143: FutureWarning: You are using `torch.load` with `weights_only=False` (the current default value), which uses the default pickle module implicitly. It is possible to construct malicious pickle data which will execute arbitrary code during unpickling (See https://github.com/pytorch/pytorch/blob/main/SECURITY.md#untrusted-models for more details). In a future release, the default value for `weights_only` will be flipped to `True`. This limits the functions that could be executed during unpickling. Arbitrary objects will no longer be allowed to be loaded via this mode unless they are explicitly allowlisted by the user via `torch.serialization.add_safe_globals`. We recommend you start setting `weights_only=True` for any use case where you don't have full control of the loaded file. Please open an issue on GitHub for any issues related to this experimental feature.\n",
      "  bucket_cutoffs, bucket_weights = torch.load(buckets_path, map_location='cpu')\n",
      "/Users/danmueller/Documents/GitHub/aerospace_chatbot/.venv/lib/python3.11/site-packages/colbert/search/index_loader.py:33: FutureWarning: You are using `torch.load` with `weights_only=False` (the current default value), which uses the default pickle module implicitly. It is possible to construct malicious pickle data which will execute arbitrary code during unpickling (See https://github.com/pytorch/pytorch/blob/main/SECURITY.md#untrusted-models for more details). In a future release, the default value for `weights_only` will be flipped to `True`. This limits the functions that could be executed during unpickling. Arbitrary objects will no longer be allowed to be loaded via this mode unless they are explicitly allowlisted by the user via `torch.serialization.add_safe_globals`. We recommend you start setting `weights_only=True` for any use case where you don't have full control of the loaded file. Please open an issue on GitHub for any issues related to this experimental feature.\n",
      "  ivf, ivf_lengths = torch.load(os.path.join(self.index_path, \"ivf.pid.pt\"), map_location='cpu')\n",
      "100%|██████████| 1/1 [00:00<00:00, 2059.06it/s]"
     ]
    },
    {
     "name": "stdout",
     "output_type": "stream",
     "text": [
      "[Jan 25, 21:03:56] #> Loading codes and residuals...\n"
     ]
    },
    {
     "name": "stderr",
     "output_type": "stream",
     "text": [
      "\n",
      "  0%|          | 0/1 [00:00<?, ?it/s]/Users/danmueller/Documents/GitHub/aerospace_chatbot/.venv/lib/python3.11/site-packages/colbert/indexing/codecs/residual_embeddings.py:86: FutureWarning: You are using `torch.load` with `weights_only=False` (the current default value), which uses the default pickle module implicitly. It is possible to construct malicious pickle data which will execute arbitrary code during unpickling (See https://github.com/pytorch/pytorch/blob/main/SECURITY.md#untrusted-models for more details). In a future release, the default value for `weights_only` will be flipped to `True`. This limits the functions that could be executed during unpickling. Arbitrary objects will no longer be allowed to be loaded via this mode unless they are explicitly allowlisted by the user via `torch.serialization.add_safe_globals`. We recommend you start setting `weights_only=True` for any use case where you don't have full control of the loaded file. Please open an issue on GitHub for any issues related to this experimental feature.\n",
      "  return torch.load(codes_path, map_location='cpu')\n",
      "/Users/danmueller/Documents/GitHub/aerospace_chatbot/.venv/lib/python3.11/site-packages/colbert/indexing/codecs/residual_embeddings.py:93: FutureWarning: You are using `torch.load` with `weights_only=False` (the current default value), which uses the default pickle module implicitly. It is possible to construct malicious pickle data which will execute arbitrary code during unpickling (See https://github.com/pytorch/pytorch/blob/main/SECURITY.md#untrusted-models for more details). In a future release, the default value for `weights_only` will be flipped to `True`. This limits the functions that could be executed during unpickling. Arbitrary objects will no longer be allowed to be loaded via this mode unless they are explicitly allowlisted by the user via `torch.serialization.add_safe_globals`. We recommend you start setting `weights_only=True` for any use case where you don't have full control of the loaded file. Please open an issue on GitHub for any issues related to this experimental feature.\n",
      "  return torch.load(residuals_path, map_location='cpu')\n",
      "100%|██████████| 1/1 [00:00<00:00, 444.83it/s]"
     ]
    },
    {
     "name": "stdout",
     "output_type": "stream",
     "text": [
      "Searcher loaded!\n",
      "\n",
      "#> QueryTokenizer.tensorize(batch_text[0], batch_background[0], bsize) ==\n",
      "#> Input: . How does a thermal knife function in a cable based hold down release mechanism?, \t\t True, \t\t None\n",
      "#> Output IDs: torch.Size([32]), tensor([ 101,    1, 2129, 2515, 1037, 9829, 5442, 3853, 1999, 1037, 5830, 2241,\n",
      "        2907, 2091, 2713, 7337, 1029,  102,  103,  103,  103,  103,  103,  103,\n",
      "         103,  103,  103,  103,  103,  103,  103,  103])\n",
      "#> Output Mask: torch.Size([32]), tensor([1, 1, 1, 1, 1, 1, 1, 1, 1, 1, 1, 1, 1, 1, 1, 1, 1, 1, 0, 0, 0, 0, 0, 0,\n",
      "        0, 0, 0, 0, 0, 0, 0, 0])\n",
      "\n"
     ]
    },
    {
     "name": "stderr",
     "output_type": "stream",
     "text": [
      "\n",
      "/Users/danmueller/Documents/GitHub/aerospace_chatbot/.venv/lib/python3.11/site-packages/colbert/utils/amp.py:15: FutureWarning: `torch.cuda.amp.autocast(args...)` is deprecated. Please use `torch.amp.autocast('cuda', args...)` instead.\n",
      "  return torch.cuda.amp.autocast() if self.activated else NullContextManager()\n",
      "/Users/danmueller/Documents/GitHub/aerospace_chatbot/.venv/lib/python3.11/site-packages/torch/amp/autocast_mode.py:266: UserWarning: User provided device_type of 'cuda', but CUDA is not available. Disabling\n",
      "  warnings.warn(\n"
     ]
    }
   ],
   "source": [
    "docs = qa_model.db_service.retriever.invoke(test_prompt)"
   ]
  },
  {
   "cell_type": "code",
   "execution_count": 38,
   "metadata": {},
   "outputs": [
    {
     "data": {
      "text/plain": [
       "[(Document(id='998394a9-744c-41b9-ac54-322877258f33', metadata={'data_source.url': 'gs://processing-pdfs/1999_cremers_reocr.pdf', 'data_source.record_locator.protocol': 'gs', 'data_source.record_locator.remote_file_path': 'gs://processing-pdfs', 'file_directory': './document_processing', 'filename': '1999_cremers_reocr.pdf', 'filetype': 'application/pdf', 'languages': ['eng'], 'last_modified': '2025-01-25T20:18:40', 'page_number': 1, 'orig_elements': 'eJzlVMFu3DYQ/ZWBLm0BW0tpxZXkWxqkTVC4COwFejAMgSJHu4QlUiCpONsg/94htW6NpCnQQw5Nj/PmDWeGfI93HzIccUITOq2yK8h2vKnUwLel2EpVDW3ViqIvOR/4IPuCF9kFZBMGoUQQxP+QSWud0kYE9CkexckuoTuiPhwDIWXJGNWc4UetwpHQok7obLUJse7uriqqvLqAqq3y+v4CnmJe1GvMdzxvP49XPgGZP/mAU9zhrX6P4+0sJGYfKRFH7bxdHMVxQoeSRu5GK0WwLkGzs8FKO8bqg487OpxswG7QI3azSDNT5mqzIapE77U5XM5q8KnD4sYv5TdF27adpOPQ+c6hlS4nfB0MA8qgrenkKLzvqLSnc1jeVBVviJC6K00D06Cn2CLfKCuX9F5/NcrOVCOmuGH2hZZnVjjNiSXmedR0BdR/c06PwhwWcUgveZchnXyfUB+6ySo9aEwaKVnJL1lxWfJ9ya6K5qpisXqmys4sU4/xUou4YcD3UQPZix9v9zcvXu4j7an/XocxPdCnEmz4dodN3fQ91oqLWvVYRlXuVK3qSqivJsGiYXlBEuN8ldg5rtkuZzFuGIuS+zRe+d+YBNui3G3/6xJMiPsXn9tzzf6mw1EbCEeEwdFaj9Y9gB3g1e3+1cvvPPx8u397WQLdwYHSE4IAg49wvYxBz4ubrUd4bUel7KMBYRR0cENCFwRfozwKo/0E31+/vrn+AbSHHukaQeE7HO2MCvoT/GQfHtBBklEOb0KkkVjRKMoLTw3d+cDF6ACDdXBAg06M8Oxm8+em+1U4R+g73Mct/8Z8pSiZKORQb1teFqzn1bZsmGrUthUMSb5fzXx1ne/IXAXPm2S+NW7YdjVjw3jOP49X/jdmPvphGP9fm++NAb9Mk3Cni+TA6CzyhpYYTUCa12SMYEEuPthJ/45J/cI8Fz4VitW/s0NPg8D+iG4id/xi9ICwAUHG1QqOTy6Voh8RenKU+tNa05NX/T8Z6f4PJY7xzw==', 'element_id': '998394a9-744c-41b9-ac54-322877258f33', 'type': 'CompositeElement', 'chunk_size': 400, 'chunk_overlap': 0, 'passage_id': 51, 'rank': 1}, page_content=\"ABSTRACT\\n\\nWithin the framework of ESTEC's GSTP-2 programme a new Multipurpose Holddown and _ Release Mechanism (MHRM) is being developed by Fokker Space. It is intended as a release unit for general application.\\n\\nIn summary, the new device is easier to customize for an application than the present Thermal Knife / aramid holddown cable based release mechanisms.\"),\n",
       "  1.0),\n",
       " (Document(id='6e2c3301-c3a6-4d36-890c-3082317fd7db', metadata={'data_source.url': 'gs://processing-pdfs/1999_cremers_reocr.pdf', 'data_source.record_locator.protocol': 'gs', 'data_source.record_locator.remote_file_path': 'gs://processing-pdfs', 'file_directory': './document_processing', 'filename': '1999_cremers_reocr.pdf', 'filetype': 'application/pdf', 'languages': ['eng'], 'last_modified': '2025-01-25T20:18:40', 'page_number': 1, 'orig_elements': 'eJx1U8uO3DYQ/BVC51mNpJFGqz0avhgGgiDenBYLoUW2RoQpUiGbHg8M/3ua3NmXEx9Z/ajq6ubDjwINrmhp1Kq4EwW0fX/sYDjIaVaHppfH4yAHGABUD7I/FjtRrEiggIDzfxTSOa+0BcKQ3wYuLtK4oD4txEjTVBXXXOGzVrQwWvcZ3Zy2lOoeHm6Hvhx2oh3a8vC4E8/voTqUbXrXXdOX/f8ATxWMFOESCNc0xZ/6O5ovG0gsfnIgiR2Di57fSaNHyaJH4ySQ8xnavCMnnUnVp5Cm9Lg6wnHWBscNsmqO3O33nCoxBG1PN5uaQ2aI3vwuvq+HYRglt0MfRo9O+pLxJ2FIKEk7O0oDIYxcOnGfqhza6njkhMyuNAtmoZdEUe6VkzFv7JWouKZaWNOExW8or1l02XIWbJvRbAHz769hA/YU4ZR3+VAgd37MaKBxdUrPGvOVNFXT3VT1TdPdN9VdfXvXVql648rRxnXCZGqdEf96W8futlVzd2jgIFU7D+0A9dR03dzNcqq7OltC+J1+EVeKvzcRLWkjaEGxujS9cLPwfLsQcCcmR4v4C9EIJqSwEyqiIJfTN48BrcRUcH0T2sB9UYkzWyumaJXhLtLZQJoioQCRbDXItJo4AhtMJrdYnOFzPwnlzjb3eyOUaX2KGYhWLgKsEhBkEnvVwteOVjGv85OmUnx8yn+ZI+XcL+hXMOKz1TMKGSlk+J1SWmK4VqX6FI/bhv7VAzF7t+aAcWcOZCwJ4huZzPuiHGOFCjfjLgKM4/BZs6W/zpdA/sYiLE5+LcUHlBAD5rTM/Opg+I+FkSjRao6Y1QViM5gw2WHfqH239k/2JnA3cd1XKucNvElJ1gC9CH9m3MCyGGayTqRheEaP/0R2UO3EedG8mxW+ssaFHclmsJGXMp3w89/4A7xnim94n+7x5+O/xlm9cg==', 'element_id': '6e2c3301-c3a6-4d36-890c-3082317fd7db', 'type': 'CompositeElement', 'chunk_size': 400, 'chunk_overlap': 0, 'passage_id': 53, 'rank': 2}, page_content='application. Up until the moment of release, both Reel parts, due to the presence of the pretensioned wire bundle, constitute a single unit, capable of holding down the application during launch and ascent to the intended orbit. During release, the Thermal Knife cuts the wire bundle, thus releasing the upper Reel part from the lower part and enabling the upper part to deploy along with the'),\n",
       "  0.9958522276346277),\n",
       " (Document(id='0c357ead-233b-45ed-87c0-373b65118f6c', metadata={'data_source.url': 'gs://processing-pdfs/1999_cremers_reocr.pdf', 'data_source.record_locator.protocol': 'gs', 'data_source.record_locator.remote_file_path': 'gs://processing-pdfs', 'file_directory': './document_processing', 'filename': '1999_cremers_reocr.pdf', 'filetype': 'application/pdf', 'languages': ['eng'], 'last_modified': '2025-01-25T20:18:40', 'page_number': 1, 'orig_elements': 'eJzlU8Fu2zgQ/RVCZ0cWZckycy4WWGyxWLS5BYEwIkcWsRQpkFRco+i/d0grTVCkx71sj3wzj/M4fO/xa4EGZ7Sx16q4ZwUXDQy8hlo1R962bS0PbYVKNBUXR1B1sWPFjBEURKD+r4V0zittIWLIZwNXt8Z+Qn2eIiF1XVXE2eCLVnEilHcZXZy2MfEeH0XVlmLH+IGfSvG0Yz+ApjmUbQJ4I0TZvovcSAQV4Roizukl/+gvaD4vILH4RoUkuA9u9XROOj1KEt4bJyE6n6HFu+ikM4l9DumlHmcXsR+1wX6BrJwq9/s9tUoMQdvz3aLGkCes3vyqvudCiF7SdehD79FJXxJ+E4YRZdTO9tJACD1RB7qnKgUXXU0NebrSJJiEXtOIcq+cXPOvvQ4qtlYLM95+8t2RW1e8LrkLlsVoWgHN329lA/a8wjn/52OBdPNTRkPsZ6f0qDE7pa7q9q7id3X7UFf3/HTfVIm9ELO36zxgWirPiH/116DU0MmmU1KRx+rjQR5EC2StYzUOw6jySiJ+SdYpDiWLEzJPFoWAe7nGSA9lCp+1xB2TzgYdMuRGFi+OPUzoZzDsL6ufMbDReSKr1Sqw8lqm8kuJNLHZrTaiYs5GlwdNzijlLpYNHuS/GFlY5UQViKl8zSQYDDLqJzGZ8+FqEWdgF/ogNtAog2kNL/v9SAL/TI6kd/2cNRhh7KBuW67wxMXYtA2cRmyGSkDTNaf/LGu8O21BEluQNqDteHlIwKnqyuo94Eb5nyXtJI5t81sn7Y/Vx5Qd5ylXydYhekiuIs/DrBWT2fcXHSeGVo06JzGwCQIbEC3FbDFkAMUGign7hGg2ymb5XQ7jZdIUKGD0w4S9ss8eUhJvCc1kMMZdAnuJPAVuoOyZ2YXItFW4kIp0xejdnAW/WW/5NoB/g/eEPuNDeuq3p+8t0Dwv', 'element_id': '0c357ead-233b-45ed-87c0-373b65118f6c', 'type': 'CompositeElement', 'chunk_size': 400, 'chunk_overlap': 0, 'passage_id': 58, 'rank': 3}, page_content='3. the release/cutting device, consisting of two Thermal Knives for redundancy. The Knives are mounted onto the holddown bracket such that they are able to cut the Dyneema wire bundle\\n\\nFurthermore, the straight aramid cable with endfittings has been replaced by a Reel cable element, for which a patent has been granted. The Reel allows cutting to be almost independent from the application.'),\n",
       "  0.9862880771306888),\n",
       " (Document(id='c42f5b65-7431-475e-ad6d-d02361cc97f6', metadata={'data_source.url': 'gs://processing-pdfs/1999_cremers_reocr.pdf', 'data_source.record_locator.protocol': 'gs', 'data_source.record_locator.remote_file_path': 'gs://processing-pdfs', 'file_directory': './document_processing', 'filename': '1999_cremers_reocr.pdf', 'filetype': 'application/pdf', 'languages': ['eng'], 'last_modified': '2025-01-25T20:18:40', 'page_number': 3, 'orig_elements': 'eJx1UsFu2zAM/RXC58SRHbuOs9uuA4YByy0rDFqiY6Gy5Eny0qDov49y022HFfDFj+/xPZE8v2RkaCIbO62yI2SHeiiHQhxEXauGigMeUKiiLiXWolJVmW0gmyiiwojMf8mkc15pi5HC+m/w5pbYjaQvY2SkLIVgzR2+ahVHRotmRWenbUy687k4iLzeQFE8iLx63MAfYF81eZGA5tDmD/8D3iSMZOEWIk3pHd/0M5nvM0rKXrmQ4nbBLZ7/U0pPkmN3xkmMzq/Q7F100pmkvoT0Tk+Ti9QN2lA345qbK8fdjqmSQtD2sp3VEFaHxZuP6ruibdtOcjvyofPkpM8ZfwtGkWTUznbSYAgdS3vuI/K2ah4qJqzuSnNgDnpLFvlOObmsO/trlN2pFqf0wuwDyzsr3uaVhfNsNI+A/Xf3skF7WfCybvOcEXd+XNEQu8kpPWha76QUZb0VxbasT6U4FodjJZJ6ZmVnl6mnNNT9ivi/17Wnqtr3VTXUTV+rXqm2rUpsiqakti8kriOJ9JwOJ/vs4ghxJJi9ngjQKvCkFqvQRjiN5Cc08MXqXxTAzeT5BAGNs5dVFHgQINnaExht6RNgAATpbKCfC1lJK20klnmYTTpguGpjYMInSryIMgLGRNMe5BIjzxlI8WwAh6R6x1KjK68Iek5nKIeTY7ew+LW/2jr73m8DhHL8N/1AoLlf5OpICqJ7i+WMUu5qofconygCN2ZDtPxdDIEbgHfn3bOeOLi5weHHIkQv8rSE9+1+Rc9D4fmc0kRfH38D5gFHDw==', 'element_id': 'c42f5b65-7431-475e-ad6d-d02361cc97f6', 'type': 'CompositeElement', 'chunk_size': 400, 'chunk_overlap': 0, 'passage_id': 74, 'rank': 4}, page_content='Both the prime and redundant Thermal Knives operate along the same centre line; as a consequence the heater plates will make contact at their cutting edges after cutting the wire bundle. To assure head-on contact, each Thermal Knife is attached to the holddown bracket under an angle of approximately 8°.'),\n",
       "  0.9599681293830465),\n",
       " (Document(id='f8fb4f55-6cc0-4cbe-aa0b-f9a5c0830451', metadata={'data_source.url': 'gs://processing-pdfs/1999_cremers_reocr.pdf', 'data_source.record_locator.protocol': 'gs', 'data_source.record_locator.remote_file_path': 'gs://processing-pdfs', 'file_directory': './document_processing', 'filename': '1999_cremers_reocr.pdf', 'filetype': 'application/pdf', 'languages': ['eng'], 'last_modified': '2025-01-25T20:18:40', 'page_number': 1, 'orig_elements': 'eJzdVE1v2zgQ/SsDnRLAkUnJ1keu7X4ERdNF6z2lgUCRI5sIJQoklcQo+t93yHjTYtsCu4ceNhcDfPMe583wyTefMjQ44hQ6rbJLyJpmWzdNr+hXqlpytilQDJILbOTA+ZCtIBsxCCWCIP6nTFrrlJ5EQJ/ORhztEroD6v0hEFIUjJHmBD9oFQ6E8jqhs9VTiLqbm7La5AS1myLntyt4PldlXsVzxau8+M458QnI/NEHHOMMf+hHNB9mITH7TIVotfN2cXSODh1KstwZK0WwLkGzs8FKa6J67+OMDkcbsBu0wW4WyTNVLtdrokr0Xk/7i1kNPnVYnPlRfc3btu0kXYfOdw6tdDnhT8YwoAzaTp00wvuOpD3dw/Km2vKKCKm70mSYjB5ji3ytrFzSe31plJ2okxjjhNkPWp5Y4Tgnlphno2kF1H99Khsx7RexTy95kyHdfJtQH7rRKj1oTBkpWLG9YPyi2O4Kdsmbyw2L6pmU3bSMPcal8jhhwMeQHOVwdb17/+71n692V++uI/tvGzsdTHqnfyaxV6qv5aZWUolCFVUpy3Yr2kpUbOj7Qf20JHK+YfmGolWzfBuj9gy09VM2eVHX3weS5KWlsWjYi0pjmcPrXz5c/fbvcqiUGrAXVSNYXzebUhXltuaMq7KSZT/UPy+HlKl2BZyxMmcpZSeANxS2CDSsian7FniSvLActmVTlP/3HCbE/Yd/ua+DuzsgvP39/Vs484gw6P3i0AMHMSkozkF7EDBYY+zDhZ1A4T0aO8e1gB0gkBgftQ+0G3CUceExcjTti1QOfrV3d+ggRQS8NcKBcE4cPUlFWMFMxYM1StmHCVJOVzCKO4SFLqIGYgK6VQZH+zPmCAekT0ABmXajMPBm0gPC2TIHC7RlZx/1SAQitozBx4Wxnr06B6qiD6I32h+ebfZHkEtIzqmLcGLUCs7e4D2ZPP9iSpIM86+/6us4QdD3uIsr/Hz7F6qp0+w=', 'element_id': 'f8fb4f55-6cc0-4cbe-aa0b-f9a5c0830451', 'type': 'CompositeElement', 'chunk_size': 400, 'chunk_overlap': 0, 'passage_id': 55, 'rank': 5}, page_content='1. INTRODUCTION\\n\\n3. DESIGN\\n\\nThe MHRM (see figures 1 and 2) is a follow-on development of the existing release devices for Fokker Space solar arrays that, per holddown point, make use of an electrically heated Thermal Knife (upto approximately 900 °C) to establish release by cutting an aramid (Kevlar) holddown cable.'),\n",
       "  0.9364326243075644),\n",
       " (Document(id='8bcbe61f-83a2-47e1-842c-cab7be9c927d', metadata={'data_source.url': 'gs://processing-pdfs/1999_cremers_reocr.pdf', 'data_source.record_locator.protocol': 'gs', 'data_source.record_locator.remote_file_path': 'gs://processing-pdfs', 'file_directory': './document_processing', 'filename': '1999_cremers_reocr.pdf', 'filetype': 'application/pdf', 'languages': ['eng'], 'last_modified': '2025-01-25T20:18:40', 'page_number': 3, 'orig_elements': 'eJx1U8Fu2zAM/RXBpw1IHFm1nTjXnYYBw7D2lhWGLDGxMFkSJLppUOzfRznpWmAo4AsfH8nHR/nwUoCFCRz2Rhd7Vqi66Y665apuWw0NtLxWgndbcSd4VQ+iWLFiApRaoiT+S6G8j9o4iZCW2MqLn7EfwZxGJEQIzqnmBp+NxpHQarugwRuHue5wqHZVKVZM8KbcPq7Ya1zXbdnleNu1Jf8/vvIJKNIlIUx5hx/mGex9kAqKP5TIUvvk50hxVhhBkeTeeiXRxwUK0aNX3ubqU8o7Rpg8Qn80FvogF82U2W82RFWQknGnddDHtEyYo/0ov6m6rusVtYOY+ghexZLwqzBAUGi865WVKfVUOlAfXu52vL0jwjJdGxJMQi95RLnRXs3Lvd4GFTeqk1PesPhg5I2Fl7CwZAjWkAU0f3NLW+lOszwtlzwUQJ0fFzRhP3ltjgaWNyK4aNa8WovmQfB9tdvXPFcHquzdPA2QTb1bkPj2sjoNreiGptkp2GotYAtd1bRacBBbXdWLJQjP+dEUDyOw0Vut/dmxIUr1G3DFzqNRIzOJGcdO4CBKyySiVCNohp4hVSV6idYahBVLcwg+Ylpw6hgn4n9z5gkSk06zQKbDNTuBGqUjOyyzXurE4BkiUtfhsuTfmcXoy9BPALt6nXq/+cISxlnhHIHpOdJZmJWzU2PJvpKENMoAWTqxZP41jj6eZdR7hmfPjtl5kkLge6FHeN2BBYgBnDZqtjLmqZINMgELlvYlSYRc3flk3HoAPANcZd5af/6nOYuY/OxouzIPe9fn10w/eZdleAy0AmZuw7MJLWfTVOYzv76f7zJGMuQJHvLN/jz+BQBTaDI=', 'element_id': '8bcbe61f-83a2-47e1-842c-cab7be9c927d', 'type': 'CompositeElement', 'chunk_size': 400, 'chunk_overlap': 0, 'passage_id': 69, 'rank': 6}, page_content='The holddown bracket, which is in general attached to the satellite, supports the Thermal Knives and passes the mechanical loads exerted by the application on the Reel, to the S/C structure during launch. Its shape is straightforward: two flanges for Thermal Knife support perpendicular to a base plate onto which (in-between the flanges) the Reel is mounted. The base plate’s footprint is 50 by 60'),\n",
       "  0.8965337738645182),\n",
       " (Document(id='8a31180b-f4ca-45bd-9286-fd9f96b0e296', metadata={'data_source.url': 'gs://processing-pdfs/1999_cremers_reocr.pdf', 'data_source.record_locator.protocol': 'gs', 'data_source.record_locator.remote_file_path': 'gs://processing-pdfs', 'file_directory': './document_processing', 'filename': '1999_cremers_reocr.pdf', 'filetype': 'application/pdf', 'languages': ['eng'], 'last_modified': '2025-01-25T20:18:40', 'page_number': 1, 'orig_elements': 'eJzdV01v3DYQ/SuEzrZWIkVKdI9p0hqpXcM10INhCPwY7gqVRFWi7CyC/veOqHXjphsUOfjgPepxHmc4evNE3X9OoIUO+lA3NrkgSeVAWcuAs6zUUjijhKOMg8udA2Gy5IwkHQRlVVAY/zkx3o+26VWAKT63au/nUO+g2e4CIpRmGXIO8FNjww7RvIzo4Js+LLz7e0aLlJ3hQpmn1cMZ+QJItgKCV2l+FIgURJJpPwXolnPcNJ+g/W1QBpK/cGEpt578POLzUuUIBsuuW29U8GOEhtEHb3y7sLfTcs4ROh+gdk0L9aBi3bhysdlgqIFpavrt+WDdFDPMY/ut9U0upawNbgfjVI/gzZgivhYGAUxofF+bVk1TjVSN+2RpxQXjGBCz2wYLxkL3S4p0Y72Z4zv7kig5hPaqW06YfCPlISrshxilhqFtsAWYf3NYblW/ndU2vs37BHDnh4hOoe68bVwDUSc0o/w8y88pv6PZRV5dFFEaAzLrfu40LE3NlxMG+BQiIyW//3r78fL6J3Jze3n97vLml/cL5bmWuya08WV9LcmyVFYzxyTlLmcZlSUVKIIyozp3hstXk2Re0bRAfVWsSOkiuGdA8jwtF6DKqlQcA1bKqUlS8EK8dUlGZPwOw3up4bsdEKN0C+Qg0TOynM6SgAu3AO0ZMb6fmilMxDtCidJzCNgLgjkRCzsVCGYn2NluWHh+C8gdid4TRYYRW4903+PSj/seoFPkCRtN9NzbFn6IeSKXtF5ZYqFtHrGdER/hzxljLdn51lr/1MeY9OWMXatxxNY+wt1yoCOzJhl1mQJrqZVOGiuyggMzRppKFbx4vVmTWZai3eVFKVK5TNIzIHl2GD7OeJodRVbSiU2bpFLmb33aXg7PSyFedhh3TIBCgIXCcAsUZCEKXbCcUW0zqbUTwrye2ZdytXKRH9S1AjRDuWWrt5dpeQQ4UE5MfhXL5Js3+6+9u/VP6LWLUUdDJs1EVAjK7KIVRxf9xzz1qMwfgA7/tGvMjkzzMPjVw4HgXmOnWvKxRy+dVlvG9X/tjb15bCyshM7PffwOXG4+EOfHCFoYWr9fPiff5dFCl1bbgjMNyjnlSsElEwWvmAEmS/2KHs3jfVsKnvLVow+ALNM8zgwrxOrR/0Ui6cSGpKwElac0JB+a7YzXjTwlVz/fXpH3/bbBW8i4KPfK423jpVDX2HdqWCo7JlQLzvHK8FwzXRqttLW2EJUwpXEOwVf08iqlqDlRrj+Kh2fB0NFX45bHntf4E5MofkSrt/4fSf/nGvHwN8qYSo8=', 'element_id': '8a31180b-f4ca-45bd-9286-fd9f96b0e296', 'type': 'CompositeElement', 'chunk_size': 400, 'chunk_overlap': 0, 'passage_id': 60, 'rank': 7}, page_content='2. WORKING PRINCIPLE\\n\\nThe cable element, named the Reel, consists of 2 abutting parts that are clamped together by a pretensioned Dyneema wire bundle; the clamp load delivers the required holddown load.\\n\\nThe lower Reel part is attached to the holddown bracket, which supports the Thermal Knives; the upper Reel part provides the mounting I/F for the deployable\\n\\nFigure 1. MHRM Engineering Model'),\n",
       "  0.8717311033616739),\n",
       " (Document(id='ac449662-ba46-4a4e-8180-23ff4157e89b', metadata={'data_source.url': 'gs://processing-pdfs/1999_cremers_reocr.pdf', 'data_source.record_locator.protocol': 'gs', 'data_source.record_locator.remote_file_path': 'gs://processing-pdfs', 'file_directory': './document_processing', 'filename': '1999_cremers_reocr.pdf', 'filetype': 'application/pdf', 'languages': ['eng'], 'last_modified': '2025-01-25T20:18:40', 'page_number': 3, 'orig_elements': 'eJzlVE2P3CgQ/SvI5xk3YNPGc84t0uxqd7SX0cjCUO5GwsYCPD2t0f73FHRH+dAkUg45JJF84VUV9ap4z4+vFTiYYUmDNdUdqbp2LwzvWzN2/Sg4NJLD2NDOTILrbuTVDalmSMqopDD/tdLeB2MXlSCWs1Nnv6XhCPZwTIhwTinWXOGTNemIKOsKunq7pFz3+Cj7vpY3hLVtU/OnG/IJ6FjdZIBx0dTsbaQUIVTFc0ww50n+ti/g/l2Vhup/DGTCQ/RbwHPmGUAj8cF5rZIPBVqDT157l6sPMU8aYPYJhsk6GFZVmGPkbrfDVA0x2uVwu5oplg5bcN+K71jf94PG6yDEIYDXoUb8QgwS6GT9MminYhywdMR7aC1b2ghMKN2NRcJI9Jxb1Dvj9VZe7VOj6pq6qDlPWH2j5TUrndeSpdbVWVwB9t9dw04th00dyns+VoA3PxU0pmH2xk4WilI45eKWslsuHji9Y/Kupbl6xcph2eYR8lKbPGGCl6yEqq05+Wu5PQS/LYYEFJ6KQFA46Ur/I6kHm1x5ta/V2XYSzCi5bFnTtEZ2rezMqJkQjZx62fw0dfa0uYpxX7MsvY+A2Df1vmhRNLRu3kQuRb+bOiXt5a+uzoKEH/j7fS7nd1vAwUg6whdajkSRUSFNDUSFmSjUuiIaNZ8gnIrwyAkCkC2CIcmTPOQZUwyszp/z3sjkUQjET7hnKsh9zspttnWFQP4BcARpp/pzz9yrEHBRz/CQ6b3hHd1LNRo1ApuUUk2z71THgU4wmtEYpn6id2jdFWP0dXvxzgXY99dfPRNc1vRN5FL0u3mnF5z90d55KKaJm0O7FDPETR9R46pov4hdUPKfz/FnHBOHyHbIOJaGWTnyfrET3KBvnjELqZGA0wGZgp9JK7NlBCc2kiyHGTdqwNTonatR7QzkZJ3LVy7ZgsG/2Bm1jlYcAb90AgwwWvzLBIl4zWLi9zz39AFF8u9x', 'element_id': 'ac449662-ba46-4a4e-8180-23ff4157e89b', 'type': 'CompositeElement', 'chunk_size': 400, 'chunk_overlap': 0, 'passage_id': 81, 'rank': 8}, page_content='4.2 On-ground release testing\\n\\nDuring the release tests a balance arm and a counterweight were used to apply a deployment force of 0.05 N to the upper Reel part.\\n\\nThe results were such that for the 50 Volts version of the Thermal Knife, a voltage range from 48 to 52 is recommended. Release time will then approximately be between 10 and 15 seconds.'),\n",
       "  0.8274734275257375),\n",
       " (Document(id='7b5c97f6-0508-4fa8-80fc-bb32790ff5b2', metadata={'data_source.url': 'gs://processing-pdfs/1999_cremers_reocr.pdf', 'data_source.record_locator.protocol': 'gs', 'data_source.record_locator.remote_file_path': 'gs://processing-pdfs', 'file_directory': './document_processing', 'filename': '1999_cremers_reocr.pdf', 'filetype': 'application/pdf', 'languages': ['eng'], 'last_modified': '2025-01-25T20:18:40', 'page_number': 3, 'orig_elements': 'eJzdVE2P2yAU/CvI58QBf6zt/IVKVaVG6iGKLAzPNhI2CHB3o9X+9z5Iqt1Wu4ceemhPiHkzvOEx9vk5Aw0LrKFXMjuSrISqKoeqGutmqOUgZddVBW9YU0A3MMGzHckWCFzywJH/nAljnFQrD+DTXvOr2UI/g5rmgEhRUIqaO/yoZJgRZU1CrVFriLrzmbU0ZzvCKGV5e9mRV6DochaBitKcvgskCSKZv/oAS7zHF/UE+qvlArIXLES7vTebw3106UCg7V4bwYNxCbLOBCOMjurJx3s6WEyAflQaesuTb6wcDwekCvBerdPeytGnDpvTH9UPrOu6XuBx4HzvwAiXI34zBgFEUGbthebe9ygd8Byat6wsaiSk7lKhYTR6jS3ygzRiS2/22ii7U1e+xBtmH7S8s8LVJha3ViscAfY/3Muar9PGp/Sa5wzw5EtCfegXI9WoIOWkoEW9p2xf1KeCHll7rGhUW1T267YMEIdaxhsGeAopWXlJTjO4hWvyaVUjRP5PIycVdHqp3/MooRF8rJq6qR9GoLwrm0pAS1tZDWNZd38vj013i19Z5k3K4x1gRXWLX1M+5MV7wE3yn+WxY+1D9a/nMSHuD/52bwP8bYaVGAsOsyV3JMzwa57JDFhxxGpciPLEbn4GiURntmlOgkccHBm2VWpcroQTYRbr4sjMSrx1OLn87XfxmTtsp77DKZp4ufwAjj7JaQ==', 'element_id': '7b5c97f6-0508-4fa8-80fc-bb32790ff5b2', 'type': 'CompositeElement', 'chunk_size': 400, 'chunk_overlap': 0, 'passage_id': 73, 'rank': 9}, page_content='3.3 Thermal Knife\\n\\nWhen operated, the Thermal Knife heater plate is pushed through the wire bundle by a compression spring.'),\n",
       "  0.8258841329893336),\n",
       " (Document(id='405693b6-8f6d-40dd-b8bb-dbba851a4e50', metadata={'data_source.url': 'gs://processing-pdfs/1999_cremers_reocr.pdf', 'data_source.record_locator.protocol': 'gs', 'data_source.record_locator.remote_file_path': 'gs://processing-pdfs', 'file_directory': './document_processing', 'filename': '1999_cremers_reocr.pdf', 'filetype': 'application/pdf', 'languages': ['eng'], 'last_modified': '2025-01-25T20:18:40', 'page_number': 4, 'orig_elements': 'eJx1UsFu2zAM/RVCpxZIHFmNEye/MGAYtmCXIBBUiY4FyJYhyUmDov8+SkmxHdab+Pge+Ujx+M7Q4YBjktawPTDz2uwQW1N3tRDNutabjdJmq1RTq5edaNkC2IBJGZUU8d+Z9j4YO6qEscRO3fycZI/23CdChOCcNA/4ak3qCa23BZ28HVPWHY87zqvtAjZ1W/HTAj7j7ZpXIsd1I7aV+A9wVxDC4i0mHPIUP+wbul+T0sg+KJHNyujnQHH2GFCTaem8VsmHAk3BJ6+9y+pzzFMGHHxC2VmHclLFNWX2qxVRNcZox/NyMl0sHebgvsqv6t1uJzWVwxBlQK9DRfjdGCbUyfpRaqdilCR9pTq8ajcvoiVC6W4sGSajt9yiWhmv5/JjfxuxB3VUQ56QfdHywUq3qbDUNDlLK6D+q0faqfE8q3P5yyNDqnwqaExy8MZ2FsuVCC6aJa+XojkIvq/b/Zpn9URKOc7DK+alrvOECd/yFbBDjxAwzi5FuGJAiLPuIfUqQecDPRAaDr99zl/INXkC3xWcpGFQDr6NtsMFKLgQizpBILMIXfADrFtIHhoBNkL+3YEWZNBU8JPOW0WEZAeEq3Uulxz/lTbw1PsEmljPuYjgEKnCaCI80UGYe6bK830u7rsKgdZ2wUOe7uP0ByNMC6I=', 'element_id': '405693b6-8f6d-40dd-b8bb-dbba851a4e50', 'type': 'CompositeElement', 'chunk_size': 400, 'chunk_overlap': 0, 'passage_id': 88, 'rank': 10}, page_content='The results were such that for the 50 Volts version of the Thermal Knife, a voltage range from 48 to 52 is recommended. Release time will then range from 5 (hot case) to 20 seconds (cold case).'),\n",
       "  0.7974390820557395),\n",
       " (Document(id='f86c738e-6af3-4e79-b36a-69f1a8c56f6c', metadata={'data_source.url': 'gs://processing-pdfs/1999_cremers_reocr.pdf', 'data_source.record_locator.protocol': 'gs', 'data_source.record_locator.remote_file_path': 'gs://processing-pdfs', 'file_directory': './document_processing', 'filename': '1999_cremers_reocr.pdf', 'filetype': 'application/pdf', 'languages': ['eng'], 'last_modified': '2025-01-25T20:18:40', 'page_number': 3, 'orig_elements': 'eJx1U1Fr2zAQ/iuHnzZIHNuJkzhvgw0GI2NsfQvFKNI5EZUlTTq3DaX/fSc1pdDRB4Pu0919330nH54KNDiipV6rYgeFaNpWDqjkpj6iGhqJXde0QqolCkZWxQyKEUkoQYLznwrpXFDaCsKYYyMubqL+jPp0Jkaapqq45go/aEVnRutNRr3TllLd4VBv63I9g9V6Wa5vZ/Aar1dt2aR4023K7v/4JZ+BIl4i4Zhm+KUf0fzxQmLxzBdJah/dFDhOCgNKltwbJwW5kCEfHDnpTKo+xTRjwNER9oM22HuRNfPNbrHgVIkxanuaezXEzDAF89H9ou66rpfcDkPsAzoZSsZfhCGhJO1sL42IsefSI/epym23rFpOyOxKs2AWekkU5UI5OeV9vREV11QrxjRh8QHlNYsuPmcJ741mC5h/cb02wp4mccqbPBTInW8zGqkfndKDxvxGmqpp51U9b9qbptrV292qStWeK3s7jUdMpi4zEt5eVqdw3XTHtt1K3CjV4Aa7ul2rpsJmo+pVtoTwMT2a4uaMwF8YhYEfVg8IcfLeBYIhicQIPP69Vgj7Fh7YIdA2YqAIn1Z8BHIkzOcZV2kSR4MwuJBSGDV5ZHADOJ9OzHCn5d3cDQNEH9hP8GZijhBL+BJBQJgMcis3Isgpkku+QsC/U+IlVuod7+GojaYLM0Ny9vK+aQSLIkBENiUrilMY+Ikyydcps36zJ20R83nvFBrgf4pS9JE+eEBWYB0BN6U0UlKz//57X6aFvG76pwiBh77Hm+Tu8+0/LMRNcA==', 'element_id': 'f86c738e-6af3-4e79-b36a-69f1a8c56f6c', 'type': 'CompositeElement', 'chunk_size': 400, 'chunk_overlap': 0, 'passage_id': 71, 'rank': 11}, page_content='The Thermal Knife support flanges provide M5 wire inserts (4 in total), suitable for installation of optional kick-off spring plungers. As a rule, some customers require the possibility to apply kick-off springs near separable surfaces. During Engineering Model testing kick-off spring plungers were not part of the MHRM.'),\n",
       "  0.7736431285633203),\n",
       " (Document(id='bd4244ff-ccf8-44a3-92f9-cafc010e9ce8', metadata={'data_source.url': 'gs://processing-pdfs/1999_cremers_reocr.pdf', 'data_source.record_locator.protocol': 'gs', 'data_source.record_locator.remote_file_path': 'gs://processing-pdfs', 'file_directory': './document_processing', 'filename': '1999_cremers_reocr.pdf', 'filetype': 'application/pdf', 'languages': ['eng'], 'last_modified': '2025-01-25T20:18:40', 'page_number': 4, 'orig_elements': 'eJzlmFtv2zYUx78K4acOaBRexJtf+7JivQxt+hQUAkVSjjBKFCQ6rRfsu++Qtttgc7AWgx+SALYA/slDHoq/c3zo67uVD37wY2p6t1qjlaYSe6apY6610jmGRdsSYy1XqnXGrF6i1eCTcSYZGH+3sjHOrh9N8ktpB7OL29Tc+H5zk0ChFGOwOchfepduQCWyqFPsx5Ttrq8J1rQCTWFdic8v0XeBqUoXgVFekVNCMQFlteyW5Ie8j9/7rz58nIz1q7+gI7vbLHE7Qzt7OXsLbjchWpPiXKRpjinaGLL1Zsn7nP0Qk2+6PvhmMsVv6FlfXsJQ65elHzcXk+uWssJ2Dg/1XxKtdWNhOj8vzeyjnSvQ94755G3q49jYYJalAdMW5sGVYlpAf1nc9eAv+LnLK1SXLtptObLv66wOQ0cz5A2uHljxMCrtpjLKTFPo4Q3A8peH7mDGzdZsymFerzzM/LmoS2qG6Pqu9wUTiim/wOSC8iuK10Sta5ytJ7Bsxu3Q+vxO67zB5L9mDFa8Qq/ev3v15tPH1+/ffcyDj15c9SmUU/oni0RqwnTdEu+IFKIVlOBOYUmcdp1Q9GwsKq0rBVxJXNUZtENbM7pvk1qqSp4Q9hZPjURNFXnsKBZl/ok8d5/dqxuP4q2fTQjIxtGG7QJ+on5B6cYkeHj09tcPb5HzS78p+m1v2uCr+5i/M/MM+7v1V3nWE7hLwVoKYW8Zds5p7w3AbtpOK90a1rGz4a4xUAs0C7mn+djWsmL7PCt5zsT/ForFE8NdEMb0s8b99YiW7TCYeVfQnvzcxXkwo/UZbbOgLoYQvyzrn8LbYNzKrqtl57ChHRdeC0C81tJ4rHF7RrxJhpVgXFd4z/dBgPR9EPQDQjF5nIA/X37v7nP5aQQ3/SbO/Z/ePcQmd7Wru9Z0rcUepjbwVTUhNVOibl19PjYZrtgBtH3uPQqMHHItxTxn41NKMXqcdD6cfiV59HXv/6K3QWMcL6YdHIu3N2Nv0QywmsXfp/pNv6TX+chPwKw45p2jxDFBOimkJFo5C5nWU8Nrer6yWRNRiUKqqHiB+ShocaiTOVH5xnZKKUZPDGZFcP28ab4b4IWgPtfMgNgGQSkNpURAv41QKixrBM7P8Ws/AHxhB2+Moj82Pwo65dhZapTqbMspZVRQ1QrTSasMM+y8BTPc9giBQoIeK+YiCFKpPdaUVfq0UoyeGugM7gTPGvQXyI+3PsTJrxFT6MUeql9Qu0Mc5yfQiobh5YOxgMzoEABu0wybDOhLP8Og6keDgZhW16yWklKiOBHCiM5iQVphvedMnPXPEl5Il/tgOAqUHq+LnPKKnlT2Rk8tGDDn7FkHwx1q0NIPU4Ab47gkE0JxFMUO3fM7R0UbQ8qxkCJ8pjzgg/fhR6H3vDYm537HmZRtLXVLeactp9LWHebn+wWgdbkg0m83xoPAGD8ITJ8W9iaPE/nnS3QDRDf/ca/8/Dc1feUi', 'element_id': 'bd4244ff-ccf8-44a3-92f9-cafc010e9ce8', 'type': 'CompositeElement', 'chunk_size': 400, 'chunk_overlap': 0, 'passage_id': 89, 'rank': 12}, page_content='5. CONCLUSIONS\\n\\nThe overall conclusion is that the MHRM design is viable.\\n\\nIn summary the performance is as follows:\\n\\n{\\n\\n_ non-pyrotechnic release\\n\\n{mass including Thermal Knives: approximately 0.2 kg\\n\\n( envelope: 38 (height) by 50 by 250 mm, including Thermal Knives and electrical wiring.\\n\\n{ _ simple installation of application by bolting to top of Reel\\n\\n_ _ _'),\n",
       "  0.6948157124107229),\n",
       " (Document(id='2f3e1521-8abf-4f04-aaf3-7325f491d83e', metadata={'data_source.url': 'gs://processing-pdfs/1999_cremers_reocr.pdf', 'data_source.record_locator.protocol': 'gs', 'data_source.record_locator.remote_file_path': 'gs://processing-pdfs', 'file_directory': './document_processing', 'filename': '1999_cremers_reocr.pdf', 'filetype': 'application/pdf', 'languages': ['eng'], 'last_modified': '2025-01-25T20:18:40', 'page_number': 4, 'orig_elements': 'eJzdU8tu2zAQ/BVC19oyqZdNX9NzUDS5uYFAkSubACUKfMQxgv57l7TTAkXSWy857uws98GZw2sBBiaYQ69VsScFrShA1zbtwLsaxFADa3jb1C2HoauapliRYoIglAgC+a+FtNYpPYsAPsdGXGwM/Qn08RQQqSpKseYGn7UKJ0TZNqOL1XNIdYcDp6xkK9JUu7J6WpG3uG12JU8xa6u65O8A1wpECn/xAaa0xTf9AuZhERKKn5hIw/beRodxmtGBxKF7Y6UI1mVocTZYaU2qPvq0pYPJBuhHbaBfRJ4aM/vNBqkSvNfzcb2o0ecO0ZmP8hvGOe8lPgfO9w6sdCXi18EggAzazr00wvseSwd8h5a7LW06JOTuSuPAOOgltSg3ysqYf+xPo+JGncWUNiw+aHljhcuSWWJZjMYTYP/NLW3EfIzimP/yUAC+/JRRH/rJKj1qyCqpaNWuKVtX7WNF92y3b2iqXrCyn+M0QDpqkzYM8JJUUDRlQ+5iCDisJ3FW4Eg4gZuEIc9CxjgRqR3u5YOYcSnyNTqkJg5xqFDhgaDCgieCDMIkDhFuImJWiEgb5wDunDVHzuCARA+KBEvSjhekKFiMvaSzkdGiDogd8cy0JfeJldrEZcGhvgMYsggXyrTQ26XuhXN4p2d4TOvgXn/bpuOCj1J2jEuhOlBtJUfY8UbWO9Z1wP+fbVhd1uiKdlu22TbXuGNVSX+7hL4DXCs+m21q1m0/k20e4BkceuTmAX8VNwoVRTyhwkVAW0wYixAdpgcIZ4CZrBlrsjm+sJqSH5HSgd79S9JPvwDoHuyR', 'element_id': '2f3e1521-8abf-4f04-aaf3-7325f491d83e', 'type': 'CompositeElement', 'chunk_size': 400, 'chunk_overlap': 0, 'passage_id': 87, 'rank': 13}, page_content='4.4 Cuttings under thermal vacuum circumstances During the release tests a balance arm and a counterweight were used to apply a deployment force of 0.05 N to the upper Reel part.\\n\\nSeveral releases were performed at temperatures between -114 and +130 °C.'),\n",
       "  0.6618229813277803),\n",
       " (Document(id='ad0dd6b8-05eb-4b89-997a-d9606ad2766a', metadata={'data_source.url': 'gs://processing-pdfs/1999_cremers_reocr.pdf', 'data_source.record_locator.protocol': 'gs', 'data_source.record_locator.remote_file_path': 'gs://processing-pdfs', 'file_directory': './document_processing', 'filename': '1999_cremers_reocr.pdf', 'filetype': 'application/pdf', 'languages': ['eng'], 'last_modified': '2025-01-25T20:18:40', 'page_number': 2, 'orig_elements': 'eJzdU8Fq3DAQ/RXhUwsbryV7bXmvpaVQUkqa2xKMVpr1CmTJSHKSJeTfO9Ju2tI2x15ysZmn92beyM+7pwIMTGDjoFWxJcW+7lULinW1oJQqUbWil71sW8kbymlbrEgxQRRKRIH8p0I655W2IkLItREnt8ThCHo8RkQYqyrUXOAHreIRUdpldHbaxqTb7bB52axIu2lLfrciP2vOyy7V3aYru3/UmY9AEU4hwpR2+KYfwXyfhYTiGQ+S1SG4xWOdHHqQaHkwTorofIZm76KTziT1GNKOHiYXYThoA8Mssmc82a7XSJUQgrbj1awOIU9YvHntfE37vh8ktgMfBg9O+hLxszGIIKN2dpBGhDCgdI99qpK3dceRkKcrjYbR6CmNKNfKySV/r1+DigvViiltWLwy8sKKpzmzxDwbjVeA89eXYyPsuIgxf8ldAdj5LqMhDpNT+qAhZ4RVbHNV0Su2uWXVlvJtUyX1jMrBLtMe0qWytGGEx5SB4pMeFw+EleT68801EVYRj7kTARRZ5hk8uQEwZBY+pk4vFs+yD2JOJtOV/ZlWjGQHnDEJVdPvpWgaKjpRN/uaMlk1/zOtVdmvSFfzkp7Tmmte03N6O96U/O/6zH9jae1Z1zRvKa23RyBKo+2A0wJxBxIR+WhHbQE8rkCuncK4Cox0zcm7c3rek/2JbKr0ZPiaphXRVppFJQG29JMw5IvV9xDyD4BJltHjToY86NS1/D36X4X3uO093CZTz3c/AIMyySw=', 'element_id': 'ad0dd6b8-05eb-4b89-997a-d9606ad2766a', 'type': 'CompositeElement', 'chunk_size': 400, 'chunk_overlap': 0, 'passage_id': 61, 'rank': 14}, page_content='Figure 2. MHRM and released upper Reel part\\n\\nThe dimensions of the Engineering Model are 38 (height) by 50 by 250 mm, including Thermal Knives and electrical wiring.'),\n",
       "  0.6403774180547012),\n",
       " (Document(id='6fc53b2c-e4da-4bb1-95d8-14f51f8f107f', metadata={'data_source.url': 'gs://processing-pdfs/1999_christiansen_reocr.pdf', 'data_source.record_locator.protocol': 'gs', 'data_source.record_locator.remote_file_path': 'gs://processing-pdfs', 'file_directory': './document_processing', 'filename': '1999_christiansen_reocr.pdf', 'filetype': 'application/pdf', 'languages': ['eng'], 'last_modified': '2025-01-25T20:18:38', 'page_number': 1, 'orig_elements': 'eJzdVE1vnDAQ/SsjzgmLYQl4e6/US1spua0iZOxhsWpsik2SVZT/3rF3k0ZRU6mHXnLa5c3HezPzYP+YocEJbei0ynaQlZzXQzvwtmo5Y5Xiqm8a1jdKMb4tCpFdQDZhEEoEQfmPmXRuUdqKgD49G3F0a+hG1IcxEFKWRUE1Z/heqzASypqEzk7bEOv2e87avLoAVpVlXt9ewG+gLnMeAcbo3ztIKiIo80cfcIqTfNcPaK5nITF7okAU3Hm3LvQcdS4oSXhnnBTBLQmaFxecdCZWH3ycdMHJBewGbbCbRVJOkd1mQ6kSvdf2cDmrwSeGdTHvxTeMc97JcdE+aGE92m5BJ5ecgid1GFAG7WwnjfC+o/qemhV5u22rkhKSBKVJNak9Rp58o5xc0+l+s2XnVCumOGb2N95zajjOKVXMs9G0DBKxOYeNsIdVHNJl9xlS+9uE+tBNTulB48kzRVlfFuyyrG/KYsfaXdXG6pkqO7tOPcb1sjhmwIeQKnIGn6kNfJtxSZSx4FnJjQ4mHe2tOaumR0Slhr5tZF/LQlS8HCTnWAxCFO1/NGeTF9Fn7VV+dTLnCaibbb5NVqy3Vzn7I3Iq+ojm5Nu2bT6EOROy/MNn8LWbr/GOXGzAI/VIGsGuwQM1BDcEtLB6VBDcAcOIC2gLAkZnFCh3bzcLmVx4hJM7cvhiYRL2CJJAD15PqwnCols9PKe6AVDIEZJFQcfAz5X2H0lekqSbZmdpJlISgJjB0+Ih6AkTCSExK7GIN+JhWuntfO5E4x2BCOQPc/wEdBM6hXmJxoavFMSpewz3SHPnBQNhFf3WRCCdVT5//aZ/FUvkvMObuMqn21/u6BsT', 'element_id': '6fc53b2c-e4da-4bb1-95d8-14f51f8f107f', 'type': 'CompositeElement', 'chunk_size': 400, 'chunk_overlap': 0, 'passage_id': 9, 'rank': 15}, page_content='2.1 Fast Operation\\n\\nSeveral separation nuts are often used together in a hold down/release system. In many cases simultaneous release of each point is required to release components at the same time. In these cases a separation nut must release very quickly; typical release times required are between .01 and .05 seconds.'),\n",
       "  0.6380608335993031),\n",
       " (Document(id='760357e0-5e11-44df-851e-30a2a7c27473', metadata={'data_source.url': 'gs://processing-pdfs/1999_cremers_reocr.pdf', 'data_source.record_locator.protocol': 'gs', 'data_source.record_locator.remote_file_path': 'gs://processing-pdfs', 'file_directory': './document_processing', 'filename': '1999_cremers_reocr.pdf', 'filetype': 'application/pdf', 'languages': ['eng'], 'last_modified': '2025-01-25T20:18:40', 'page_number': 3, 'orig_elements': 'eJx1U11v2zAM/CuEnxPHlu0mzp4HDBg6DG0etgWFIUtMIky2BEnOx4r+91FKim7DCgSGfeSRdySzfc5Q44Bj6JTM1pA1sl2uyqLoCyzFalkyJqtVxetVu6rLti6yGWQDBi554JT/nAljnFQjD+jTt+YXM4XugGp/CIQwVhTEucEnJcOB0HKZUGvUGCJvu22LMmczClQsL59m8Aqwom7yIgJlUxV59T/kRiIo8xcfcIhOvqoz6kfLBWYvFIiCO28mR99Rp0NBwjttBA/GJcg6E4wwOrL3Pjp1OJiA3U5p7CxPyimyXiwoVaD3atzPrdz51GFy+r34omzbthNUDp3vHBrhcsKvwjCgCMqMndDc+46oPdUp8rauViUlpO5SkWASeokt8oU0Ykpbe2uU3VJHPkSH2Tstb1nhYlMWt1YrGgH1X9zCmo/7ie/TPrcZUuWnhPrQDUaqncJ0Kaxgzbwo56zZsGJdrtbX47DE7MZp6DEOtUqIe7uvZX3XSNbWsl+2fcOwWjHsq2Ipdw0Ty56lkQQ8x9PJ6ryCRzXiDMgggjyh1sBHCY4eZoCj6l2SDnR9gWYAm5OB+08P9x5O6PCfBJQz6E04wEnRI9aJL3SWwEEoJybNHchpGC4w0CaAh8DFASUEA+GAMFmLDh4QNZCnkMNHCv9JOHEiWVrJWQ30h9AXaODnPnVSwYOgMVABs4O940cVLldCgPIOhgF2jizFPsHYmBRfU7PIpwNv/krySBqu3ixtDHPYRCrvNUKP2pzAkzDu1C/0iUBaFR7Jjaan9h8S+G2eqv+Y8zOl0aJAjfNUL+IdOPQ2XucxmiH3FkeproNKrkbQcTNpoLFetEhFIuhfPZAuN3ANn0cq42cJ+04NlQf60fjnZnftmccDer3ML9xFf0fcxGt4efoNHWKG9w==', 'is_continuation': True, 'element_id': '760357e0-5e11-44df-851e-30a2a7c27473', 'type': 'CompositeElement', 'chunk_size': 400, 'chunk_overlap': 0, 'passage_id': 83, 'rank': 16}, page_content='perpendicular and in line with the centre lines of the Thermal Knives, the Y-axis is out-of-plane.'),\n",
       "  0.6190586899410737),\n",
       " (Document(id='0b1aa4c9-0ba0-4668-9e93-d08f8fece775', metadata={'data_source.url': 'gs://processing-pdfs/1999_christiansen_reocr.pdf', 'data_source.record_locator.protocol': 'gs', 'data_source.record_locator.remote_file_path': 'gs://processing-pdfs', 'file_directory': './document_processing', 'filename': '1999_christiansen_reocr.pdf', 'filetype': 'application/pdf', 'languages': ['eng'], 'last_modified': '2025-01-25T20:18:38', 'page_number': 3, 'orig_elements': 'eJx9Ustu2zAQ/BVC50Sm5Ics33rprQ80uRmBsCZXEgGKFLhUHCPIv3dJOwjaoD3uzOzu7OP4WqDFCV3sjC4Ootiu130vq2qzrvdq06ttBbjTspFSrmupoLgTxYQRNERg/WuhvA/aOIhIObZw8UvsRjTDGBmpayk55wafjY4jo1WT0dkbF1Pe8Vi1+5KhetuU8ulOvMebpinbFO/rtmw+x1c9AwVdKOKUZvhpXtA+zKCweGMiWe3IL4Hj5DCgYsud9QqiDxmag49eeZuyB0ozBpx8xK43FrsZsmdmDqsVSxUSGTfcz7qn3GEJ9l/8qmrbtlNjMBQNOELXBfQqlExe3WFEFY13nbJA1HH+iYvJst1udhULsgVt2DW7vaQ+5Up7teSjfXQrblIHUxqz+F/fmzRe5iyFebaGl8EmVjfaghsWGPJNjwVy+aeMUuwmr01vMH9LLevtvazu6+1jLQ/V/rDep+yZMzu3TCdM611nJHz82F6rFjeybaFt1vIka13v+E22m02jGql3eS8RX9L7FL/4P4FQ+F7EEcWEagRnaBLKO+LhKDF8PrbvhiyxENUoIEzibOKYoYdvX0QMZhgwMBiQxOKisZmLfhgsI+xQOC+sd0mVqscAxqEWAbQBay+l+OEU/tVjBLq2Z6Fiq+Huj6qTf2bvSzxD0AKcziTH3CLwg95SifVZkdhwnViL2ZNJRxHcQiOpYE6MwolLluKrGRZ2XAsa/ZndCxU8kaDrM2X0fSEnIKNulpWfZu/4FlSmS72/wHcIgTf4jI9p7W9PvwGXG1iX', 'element_id': '0b1aa4c9-0ba0-4668-9e93-d08f8fece775', 'type': 'CompositeElement', 'chunk_size': 400, 'chunk_overlap': 0, 'passage_id': 31, 'rank': 17}, page_content='Release of the mechanism consists of rotating the latch arm with the SMA trigger wires until the toggles are no longer constrained radially. Once the latch arm has rotated clear, the toggles move outward and the outer race rotates toward the released position as described above. Figure 2 shows a cross section showing the basic latch components.'),\n",
       "  0.6134116446538048),\n",
       " (Document(id='50ebcf99-622b-4044-851c-7b5923a745cc', metadata={'data_source.url': 'gs://processing-pdfs/1999_cremers_reocr.pdf', 'data_source.record_locator.protocol': 'gs', 'data_source.record_locator.remote_file_path': 'gs://processing-pdfs', 'file_directory': './document_processing', 'filename': '1999_cremers_reocr.pdf', 'filetype': 'application/pdf', 'languages': ['eng'], 'last_modified': '2025-01-25T20:18:40', 'page_number': 2, 'orig_elements': 'eJx1U8tu2zAQ/JWFzrEs0bItOceixwZFkp6cQKDIlUWEIgWSsmME+fcuaacpiuYiQrOPGc4u928ZahzRhFbJbAdZt6lXG971FfKVrAQTvGai3m6KstgUTbXNbiAbMXDJA6f8t0xY66QyPKBP/5qf7RzaAdVhCIQwVhRUc4VPSoaB0HKb0MkqE2Ldfl/WZV7dQFk0LK+fb+APsKrKfBWB7bbJ2f+ASwkhmT/7gGO8x0/1ivph4gKzdwpEua23s6P/qNKhINmttoIH6xI0ORussDpWH3y8p8PRBmx7pbGdeNJNkd1ySakCvVfmsJhk7xPD7PRX8WXZNE0rqB063zq0wuWEX4RhQBGUNa3Q3PuWSjvqU+RNtWElJSR2qUgwCT1HinwprZjTzD6Jsmuq4WO8YfYF5TUrnKeUxadJK7KA+JfXsObmMPNDmuY+Q+r8nFAf2tFK1StMe8IKtl4U5YKtH1mxK+tdVcTqiSpbM48dRlNZQtzndgm5rmXfCVF19QrXHWsKWRdl3WwIYUwkSwK+xsXJfhmJziAZD2FAGJBLsD0gF0M8I/bjATqrgwcOE1cuwt/uvz/AU3ZH413QeF+eMogHWQSOPh4UZcdro7yNPaiqn00aQQwFC5PDI0lOBJfuvbMjdbEeTewzR2Ewohi4Ifc0HFXnkoke5BxZQHPqOeTwSD14CCQ5zgv8YGdNxSTBIaTtQwkD1/2Jn2GeEuc9on6aWVE2Hi7PKKriWttTitNJ9ORr+LAhVlyU2+BmiUCvyl5Ms1pKezJAAsULhlsKUYAHiIQcRmXUOI8fPH/1W/5bCrSeOHb6nBwUgyKXZB6H/rFNd9xFG474GCf4/vwb65dvrA==', 'element_id': '50ebcf99-622b-4044-851c-7b5923a745cc', 'type': 'CompositeElement', 'chunk_size': 400, 'chunk_overlap': 0, 'passage_id': 63, 'rank': 18}, page_content='Underneath the head of each of the MS bolts a pair of CRES \"Nord-lock\" locking rings is applied; their function is to prevent the bolts from loosening under mechanical vibrations during launch. The attachment shoulders are located halfway up the Reel’s height to allow the lower part of the Reel to protrude into the holddown bracket; in that way a minimum height of the Reel/holddown bracket'),\n",
       "  0.6103347270514994),\n",
       " (Document(id='63d97d72-0fc8-490b-86de-cddfa80fbc91', metadata={'data_source.url': 'gs://processing-pdfs/1999_christiansen_reocr.pdf', 'data_source.record_locator.protocol': 'gs', 'data_source.record_locator.remote_file_path': 'gs://processing-pdfs', 'file_directory': './document_processing', 'filename': '1999_christiansen_reocr.pdf', 'filetype': 'application/pdf', 'languages': ['eng'], 'last_modified': '2025-01-25T20:18:38', 'page_number': 3, 'orig_elements': 'eJx9VNtq4zAQ/ZXBT7uQOrbj3Pq2Lwv7siy0sA+lGFkexwJZMpKcbFr673ukpLR7hRAytzNnzozy8Jyx5pFNaFSX3VImN3W7Kduq5b7elsW67lbFVqxX6+223YvNLltQNnIQnQgC+c+ZtNZ1yojAPtlanO0cmoHVYQjwVFVRoObqPqkuDPCW2+SdrDIh1j087Mtdvl1Qvavz4nFBr/ZuU+Z1tMt1vcuLvzguFfBk/uwDj3GKb+oH67tJSM5eEIhkG29nBztydCxButFWimBdck3OBiutjtUHH6d0PNrATa80N5NIrBG5XS6RKtl7ZQ43U9f71GF2+l/xZbnf7xs5OOWDEsazaRxb6XIEL+w4sAzKmkZq4X2D+hZgRb6H7HskJAqdAmuwPcc++bKzck5re+uWXVONGOOY2f/6XlPDeUqpYpq0ghggsbyGtTCHWRzSVh8yBvxj8vrQjLZTveJ0L1VRrW+K8qZa31fFbbm7XaUTmVDZmHlsOcq7Sh73dmW7UmxkX1ey3PebFb5X21XNVS07XhdVXSddAv+IB5Td8ZGd0NTFQYwM1LMIs2NPchBOyMBOPTGFgUnOLnahADfn9CWQD8IFT7g9EvjQUeiZASUDLraj9pzqThCXgIgOwkgmYTpKmiDlaHXANPRhla/p0zj5BRk74uL1x5w++bf6AbQu5jskEHYsPKNKijmu6Veiljpnp5zuX1FaPijjYwBDGN9bN0ZDAXrAkyJc+AQ5ogA0DUBe/N4yAnr6EL2xgt2fNYQv0vaE2KVQHVU4f0xzv6cnhQEh8swmksApQdXvQ7SQBVEjAKROeHhBSdNeOGJjZ5AFezTQfKF5whjmRisDxJMKcogrxGKmRCROfBUhp8+z1hdAnCThtYLmZE3nX9PSP0dc6WlQckgubUWHBul3i6X9MU1rw5DUiSBP7OyCQDsNh7IUTYfj83jCr2/jq3CQTh35Pt7jy+NPCke+CQ==', 'is_continuation': True, 'element_id': '63d97d72-0fc8-490b-86de-cddfa80fbc91', 'type': 'CompositeElement', 'chunk_size': 400, 'chunk_overlap': 0, 'passage_id': 39, 'rank': 19}, page_content='When the outer race has rotated far enough for release, two in-line switches cut power to the wire. Full rotation corresponds to the point at which the load in the bolt and the current both drop to zero, as seen in both traces.'),\n",
       "  0.5993961900819311),\n",
       " (Document(id='bf743fb2-3f57-4f8e-9159-9dede523d34c', metadata={'data_source.url': 'gs://processing-pdfs/1999_christiansen_reocr.pdf', 'data_source.record_locator.protocol': 'gs', 'data_source.record_locator.remote_file_path': 'gs://processing-pdfs', 'file_directory': './document_processing', 'filename': '1999_christiansen_reocr.pdf', 'filetype': 'application/pdf', 'languages': ['eng'], 'last_modified': '2025-01-25T20:18:38', 'page_number': 3, 'orig_elements': 'eJztVk1v3DYQ/SuETj3YWor6IOWbgTpFADdt7W0vjiFQ5GiXqFZSSSrOwuh/75BaOwa8KZCDLwsf3/CRnCHfI+fuMYEedjD4xujkgiSKAVTAOKvyTokKqg64EFwLyTjITCZnJNmBl1p6ifzHRI2j1WaQHlzEvdyPs2+2YDZbjxHGKMU5h/CD0X6L0YzH6DSawYd5d3eM5ml2RspCpNX9GXnGvEyLgKsiT/MjOPIxkLi987ALNfxuvkJ/O0kFyb84EFJt3DhbxCFDCwpTbvpRST/aGJrs6Ec19mH2xoUaLexGD01nemgmGXPGkYvVCqkKnDPD5nzSnYs7zLb/3vgqq+u6UVtrnDdycDA0FkZlUxxcsgMPyptxaFQvnWtwfouL0VQUGeNIiClog1ljtvuwT7rSo5rjpX3bLTlQB7kLZSb/t++B6vdTpMpp6g0eBiaxOgz3ctjMchPv9C4BXP4+Rp1vdqM2nYGoFkZZeU6zc1auGb3IxEUuwuwJZzbDvGshHG8eyvTwNaghKVLy219XN5fX1+Tnq9uPv3wiH64u13/eXN2GiU8ZrY3v4+W9kifVZceVKiXlgnVU8jwri1rorKhVp8UbyjNLxRmpsiylizwjRt4iR8F4Wr/GC/8U5VkzQfOTkGeM2B94Al/q+YPZzBZITowjkkxbvKiNldOWjB3xWyB/PPw9zJ7IQUfYjr0nFryV4bhWWJXagiVmiKNqHLqwXqwVI9KTrXSkBRjIP7PsY2HpS6N8kjawv8A65HPEMLpmnHaUo15brKFSTFW6lJpjWHdl/oaGKcL7zHORssUwC66qBVclTasjOPJP0TCC1rR4N8wadb4DtZWDcTu0Qg/SAXFGR/k7LM+hdy5+SOSMdVDIHFpe5rrMZS46AF6rTFesLpV6M5FndRlFy9nyKxywyPFzWH4BfP5f44V/kiKvKS3fRf5Ibn+9JA9YP/HWbDZgHfk84xtcxHf+m/7x1zgQQJN2j37Q86Dl4J8XwG/FEQ1OWdMiR7bjF3hpjms8q49BQ0d8USuZKco7UeSCMl5UslUtxRaKZwUFyN7OF4KH7kjk1dLMP+GaP/mgTvkRHPkn6QtRsvrdFz+Rm9FLu39+9/vQAD1ZI3wNz3bBS0QZRrssJGl3xI/YKhk8AxxBBWLnhI0ULFws+Lgv7v8D4aG1EQ==', 'element_id': 'bf743fb2-3f57-4f8e-9159-9dede523d34c', 'type': 'CompositeElement', 'chunk_size': 400, 'chunk_overlap': 0, 'passage_id': 32, 'rank': 20}, page_content='4. OVERALL DESIGN FEATURES\\n\\nFigure 3 is a photograph of the Qwknut and the bolt retractor/catcher in the configuration that has been qualified.\\n\\nThe mechanism release side consists of:\\n\\n{ SMA wire triggers — the mechanism is triggered by redundant SMA wires as described above\\n\\n( Rotary release latch — The triggers rotate the latch arm to initiate outer race rotation'),\n",
       "  0.5944818148289703)]"
      ]
     },
     "execution_count": 38,
     "metadata": {},
     "output_type": "execute_result"
    }
   ],
   "source": [
    "docs"
   ]
  },
  {
   "cell_type": "code",
   "execution_count": 40,
   "metadata": {},
   "outputs": [
    {
     "name": "stderr",
     "output_type": "stream",
     "text": [
      "INFO:httpx:HTTP Request: POST https://api.cohere.com/v2/rerank \"HTTP/1.1 200 OK\"\n"
     ]
    },
    {
     "data": {
      "text/plain": [
       "[(Document(id='998394a9-744c-41b9-ac54-322877258f33', metadata={'data_source.url': 'gs://processing-pdfs/1999_cremers_reocr.pdf', 'data_source.record_locator.protocol': 'gs', 'data_source.record_locator.remote_file_path': 'gs://processing-pdfs', 'file_directory': './document_processing', 'filename': '1999_cremers_reocr.pdf', 'filetype': 'application/pdf', 'languages': ['eng'], 'last_modified': '2025-01-25T20:18:40', 'page_number': 1, 'orig_elements': 'eJzlVMFu3DYQ/ZWBLm0BW0tpxZXkWxqkTVC4COwFejAMgSJHu4QlUiCpONsg/94htW6NpCnQQw5Nj/PmDWeGfI93HzIccUITOq2yK8h2vKnUwLel2EpVDW3ViqIvOR/4IPuCF9kFZBMGoUQQxP+QSWud0kYE9CkexckuoTuiPhwDIWXJGNWc4UetwpHQok7obLUJse7uriqqvLqAqq3y+v4CnmJe1GvMdzxvP49XPgGZP/mAU9zhrX6P4+0sJGYfKRFH7bxdHMVxQoeSRu5GK0WwLkGzs8FKO8bqg487OpxswG7QI3azSDNT5mqzIapE77U5XM5q8KnD4sYv5TdF27adpOPQ+c6hlS4nfB0MA8qgrenkKLzvqLSnc1jeVBVviJC6K00D06Cn2CLfKCuX9F5/NcrOVCOmuGH2hZZnVjjNiSXmedR0BdR/c06PwhwWcUgveZchnXyfUB+6ySo9aEwaKVnJL1lxWfJ9ya6K5qpisXqmys4sU4/xUou4YcD3UQPZix9v9zcvXu4j7an/XocxPdCnEmz4dodN3fQ91oqLWvVYRlXuVK3qSqivJsGiYXlBEuN8ldg5rtkuZzFuGIuS+zRe+d+YBNui3G3/6xJMiPsXn9tzzf6mw1EbCEeEwdFaj9Y9gB3g1e3+1cvvPPx8u397WQLdwYHSE4IAg49wvYxBz4ubrUd4bUel7KMBYRR0cENCFwRfozwKo/0E31+/vrn+AbSHHukaQeE7HO2MCvoT/GQfHtBBklEOb0KkkVjRKMoLTw3d+cDF6ACDdXBAg06M8Oxm8+em+1U4R+g73Mct/8Z8pSiZKORQb1teFqzn1bZsmGrUthUMSb5fzXx1ne/IXAXPm2S+NW7YdjVjw3jOP49X/jdmPvphGP9fm++NAb9Mk3Cni+TA6CzyhpYYTUCa12SMYEEuPthJ/45J/cI8Fz4VitW/s0NPg8D+iG4id/xi9ICwAUHG1QqOTy6Voh8RenKU+tNa05NX/T8Z6f4PJY7xzw==', 'element_id': '998394a9-744c-41b9-ac54-322877258f33', 'type': 'CompositeElement', 'chunk_size': 400, 'chunk_overlap': 0, 'passage_id': 51, 'rank': 1}, page_content=\"ABSTRACT\\n\\nWithin the framework of ESTEC's GSTP-2 programme a new Multipurpose Holddown and _ Release Mechanism (MHRM) is being developed by Fokker Space. It is intended as a release unit for general application.\\n\\nIn summary, the new device is easier to customize for an application than the present Thermal Knife / aramid holddown cable based release mechanisms.\"),\n",
       "  1.0,\n",
       "  0.8106142),\n",
       " (Document(id='6e2c3301-c3a6-4d36-890c-3082317fd7db', metadata={'data_source.url': 'gs://processing-pdfs/1999_cremers_reocr.pdf', 'data_source.record_locator.protocol': 'gs', 'data_source.record_locator.remote_file_path': 'gs://processing-pdfs', 'file_directory': './document_processing', 'filename': '1999_cremers_reocr.pdf', 'filetype': 'application/pdf', 'languages': ['eng'], 'last_modified': '2025-01-25T20:18:40', 'page_number': 1, 'orig_elements': 'eJx1U8uO3DYQ/BVC51mNpJFGqz0avhgGgiDenBYLoUW2RoQpUiGbHg8M/3ua3NmXEx9Z/ajq6ubDjwINrmhp1Kq4EwW0fX/sYDjIaVaHppfH4yAHGABUD7I/FjtRrEiggIDzfxTSOa+0BcKQ3wYuLtK4oD4txEjTVBXXXOGzVrQwWvcZ3Zy2lOoeHm6Hvhx2oh3a8vC4E8/voTqUbXrXXdOX/f8ATxWMFOESCNc0xZ/6O5ovG0gsfnIgiR2Di57fSaNHyaJH4ySQ8xnavCMnnUnVp5Cm9Lg6wnHWBscNsmqO3O33nCoxBG1PN5uaQ2aI3vwuvq+HYRglt0MfRo9O+pLxJ2FIKEk7O0oDIYxcOnGfqhza6njkhMyuNAtmoZdEUe6VkzFv7JWouKZaWNOExW8or1l02XIWbJvRbAHz769hA/YU4ZR3+VAgd37MaKBxdUrPGvOVNFXT3VT1TdPdN9VdfXvXVql648rRxnXCZGqdEf96W8futlVzd2jgIFU7D+0A9dR03dzNcqq7OltC+J1+EVeKvzcRLWkjaEGxujS9cLPwfLsQcCcmR4v4C9EIJqSwEyqiIJfTN48BrcRUcH0T2sB9UYkzWyumaJXhLtLZQJoioQCRbDXItJo4AhtMJrdYnOFzPwnlzjb3eyOUaX2KGYhWLgKsEhBkEnvVwteOVjGv85OmUnx8yn+ZI+XcL+hXMOKz1TMKGSlk+J1SWmK4VqX6FI/bhv7VAzF7t+aAcWcOZCwJ4huZzPuiHGOFCjfjLgKM4/BZs6W/zpdA/sYiLE5+LcUHlBAD5rTM/Opg+I+FkSjRao6Y1QViM5gw2WHfqH239k/2JnA3cd1XKucNvElJ1gC9CH9m3MCyGGayTqRheEaP/0R2UO3EedG8mxW+ssaFHclmsJGXMp3w89/4A7xnim94n+7x5+O/xlm9cg==', 'element_id': '6e2c3301-c3a6-4d36-890c-3082317fd7db', 'type': 'CompositeElement', 'chunk_size': 400, 'chunk_overlap': 0, 'passage_id': 53, 'rank': 2}, page_content='application. Up until the moment of release, both Reel parts, due to the presence of the pretensioned wire bundle, constitute a single unit, capable of holding down the application during launch and ascent to the intended orbit. During release, the Thermal Knife cuts the wire bundle, thus releasing the upper Reel part from the lower part and enabling the upper part to deploy along with the'),\n",
       "  0.9958522276346277,\n",
       "  0.7644879),\n",
       " (Document(id='0c357ead-233b-45ed-87c0-373b65118f6c', metadata={'data_source.url': 'gs://processing-pdfs/1999_cremers_reocr.pdf', 'data_source.record_locator.protocol': 'gs', 'data_source.record_locator.remote_file_path': 'gs://processing-pdfs', 'file_directory': './document_processing', 'filename': '1999_cremers_reocr.pdf', 'filetype': 'application/pdf', 'languages': ['eng'], 'last_modified': '2025-01-25T20:18:40', 'page_number': 1, 'orig_elements': 'eJzlU8Fu2zgQ/RVCZ0cWZckycy4WWGyxWLS5BYEwIkcWsRQpkFRco+i/d0grTVCkx71sj3wzj/M4fO/xa4EGZ7Sx16q4ZwUXDQy8hlo1R962bS0PbYVKNBUXR1B1sWPFjBEURKD+r4V0zittIWLIZwNXt8Z+Qn2eIiF1XVXE2eCLVnEilHcZXZy2MfEeH0XVlmLH+IGfSvG0Yz+ApjmUbQJ4I0TZvovcSAQV4Roizukl/+gvaD4vILH4RoUkuA9u9XROOj1KEt4bJyE6n6HFu+ikM4l9DumlHmcXsR+1wX6BrJwq9/s9tUoMQdvz3aLGkCes3vyqvudCiF7SdehD79FJXxJ+E4YRZdTO9tJACD1RB7qnKgUXXU0NebrSJJiEXtOIcq+cXPOvvQ4qtlYLM95+8t2RW1e8LrkLlsVoWgHN329lA/a8wjn/52OBdPNTRkPsZ6f0qDE7pa7q9q7id3X7UFf3/HTfVIm9ELO36zxgWirPiH/116DU0MmmU1KRx+rjQR5EC2StYzUOw6jySiJ+SdYpDiWLEzJPFoWAe7nGSA9lCp+1xB2TzgYdMuRGFi+OPUzoZzDsL6ufMbDReSKr1Sqw8lqm8kuJNLHZrTaiYs5GlwdNzijlLpYNHuS/GFlY5UQViKl8zSQYDDLqJzGZ8+FqEWdgF/ogNtAog2kNL/v9SAL/TI6kd/2cNRhh7KBuW67wxMXYtA2cRmyGSkDTNaf/LGu8O21BEluQNqDteHlIwKnqyuo94Eb5nyXtJI5t81sn7Y/Vx5Qd5ylXydYhekiuIs/DrBWT2fcXHSeGVo06JzGwCQIbEC3FbDFkAMUGign7hGg2ymb5XQ7jZdIUKGD0w4S9ss8eUhJvCc1kMMZdAnuJPAVuoOyZ2YXItFW4kIp0xejdnAW/WW/5NoB/g/eEPuNDeuq3p+8t0Dwv', 'element_id': '0c357ead-233b-45ed-87c0-373b65118f6c', 'type': 'CompositeElement', 'chunk_size': 400, 'chunk_overlap': 0, 'passage_id': 58, 'rank': 3}, page_content='3. the release/cutting device, consisting of two Thermal Knives for redundancy. The Knives are mounted onto the holddown bracket such that they are able to cut the Dyneema wire bundle\\n\\nFurthermore, the straight aramid cable with endfittings has been replaced by a Reel cable element, for which a patent has been granted. The Reel allows cutting to be almost independent from the application.'),\n",
       "  0.9862880771306888,\n",
       "  0.756376),\n",
       " (Document(id='c42f5b65-7431-475e-ad6d-d02361cc97f6', metadata={'data_source.url': 'gs://processing-pdfs/1999_cremers_reocr.pdf', 'data_source.record_locator.protocol': 'gs', 'data_source.record_locator.remote_file_path': 'gs://processing-pdfs', 'file_directory': './document_processing', 'filename': '1999_cremers_reocr.pdf', 'filetype': 'application/pdf', 'languages': ['eng'], 'last_modified': '2025-01-25T20:18:40', 'page_number': 3, 'orig_elements': 'eJx1UsFu2zAM/RXC58SRHbuOs9uuA4YByy0rDFqiY6Gy5Eny0qDov49y022HFfDFj+/xPZE8v2RkaCIbO62yI2SHeiiHQhxEXauGigMeUKiiLiXWolJVmW0gmyiiwojMf8mkc15pi5HC+m/w5pbYjaQvY2SkLIVgzR2+ahVHRotmRWenbUy687k4iLzeQFE8iLx63MAfYF81eZGA5tDmD/8D3iSMZOEWIk3pHd/0M5nvM0rKXrmQ4nbBLZ7/U0pPkmN3xkmMzq/Q7F100pmkvoT0Tk+Ti9QN2lA345qbK8fdjqmSQtD2sp3VEFaHxZuP6ruibdtOcjvyofPkpM8ZfwtGkWTUznbSYAgdS3vuI/K2ah4qJqzuSnNgDnpLFvlOObmsO/trlN2pFqf0wuwDyzsr3uaVhfNsNI+A/Xf3skF7WfCybvOcEXd+XNEQu8kpPWha76QUZb0VxbasT6U4FodjJZJ6ZmVnl6mnNNT9ivi/17Wnqtr3VTXUTV+rXqm2rUpsiqakti8kriOJ9JwOJ/vs4ghxJJi9ngjQKvCkFqvQRjiN5Cc08MXqXxTAzeT5BAGNs5dVFHgQINnaExht6RNgAATpbKCfC1lJK20klnmYTTpguGpjYMInSryIMgLGRNMe5BIjzxlI8WwAh6R6x1KjK68Iek5nKIeTY7ew+LW/2jr73m8DhHL8N/1AoLlf5OpICqJ7i+WMUu5qofconygCN2ZDtPxdDIEbgHfn3bOeOLi5weHHIkQv8rSE9+1+Rc9D4fmc0kRfH38D5gFHDw==', 'element_id': 'c42f5b65-7431-475e-ad6d-d02361cc97f6', 'type': 'CompositeElement', 'chunk_size': 400, 'chunk_overlap': 0, 'passage_id': 74, 'rank': 4}, page_content='Both the prime and redundant Thermal Knives operate along the same centre line; as a consequence the heater plates will make contact at their cutting edges after cutting the wire bundle. To assure head-on contact, each Thermal Knife is attached to the holddown bracket under an angle of approximately 8°.'),\n",
       "  0.9599681293830465,\n",
       "  0.7382357),\n",
       " (Document(id='f8fb4f55-6cc0-4cbe-aa0b-f9a5c0830451', metadata={'data_source.url': 'gs://processing-pdfs/1999_cremers_reocr.pdf', 'data_source.record_locator.protocol': 'gs', 'data_source.record_locator.remote_file_path': 'gs://processing-pdfs', 'file_directory': './document_processing', 'filename': '1999_cremers_reocr.pdf', 'filetype': 'application/pdf', 'languages': ['eng'], 'last_modified': '2025-01-25T20:18:40', 'page_number': 1, 'orig_elements': 'eJzdVE1v2zgQ/SsDnRLAkUnJ1keu7X4ERdNF6z2lgUCRI5sIJQoklcQo+t93yHjTYtsCu4ceNhcDfPMe583wyTefMjQ44hQ6rbJLyJpmWzdNr+hXqlpytilQDJILbOTA+ZCtIBsxCCWCIP6nTFrrlJ5EQJ/ORhztEroD6v0hEFIUjJHmBD9oFQ6E8jqhs9VTiLqbm7La5AS1myLntyt4PldlXsVzxau8+M458QnI/NEHHOMMf+hHNB9mITH7TIVotfN2cXSODh1KstwZK0WwLkGzs8FKa6J67+OMDkcbsBu0wW4WyTNVLtdrokr0Xk/7i1kNPnVYnPlRfc3btu0kXYfOdw6tdDnhT8YwoAzaTp00wvuOpD3dw/Km2vKKCKm70mSYjB5ji3ytrFzSe31plJ2okxjjhNkPWp5Y4Tgnlphno2kF1H99Khsx7RexTy95kyHdfJtQH7rRKj1oTBkpWLG9YPyi2O4Kdsmbyw2L6pmU3bSMPcal8jhhwMeQHOVwdb17/+71n692V++uI/tvGzsdTHqnfyaxV6qv5aZWUolCFVUpy3Yr2kpUbOj7Qf20JHK+YfmGolWzfBuj9gy09VM2eVHX3weS5KWlsWjYi0pjmcPrXz5c/fbvcqiUGrAXVSNYXzebUhXltuaMq7KSZT/UPy+HlKl2BZyxMmcpZSeANxS2CDSsian7FniSvLActmVTlP/3HCbE/Yd/ua+DuzsgvP39/Vs484gw6P3i0AMHMSkozkF7EDBYY+zDhZ1A4T0aO8e1gB0gkBgftQ+0G3CUceExcjTti1QOfrV3d+ggRQS8NcKBcE4cPUlFWMFMxYM1StmHCVJOVzCKO4SFLqIGYgK6VQZH+zPmCAekT0ABmXajMPBm0gPC2TIHC7RlZx/1SAQitozBx4Wxnr06B6qiD6I32h+ebfZHkEtIzqmLcGLUCs7e4D2ZPP9iSpIM86+/6us4QdD3uIsr/Hz7F6qp0+w=', 'element_id': 'f8fb4f55-6cc0-4cbe-aa0b-f9a5c0830451', 'type': 'CompositeElement', 'chunk_size': 400, 'chunk_overlap': 0, 'passage_id': 55, 'rank': 5}, page_content='1. INTRODUCTION\\n\\n3. DESIGN\\n\\nThe MHRM (see figures 1 and 2) is a follow-on development of the existing release devices for Fokker Space solar arrays that, per holddown point, make use of an electrically heated Thermal Knife (upto approximately 900 °C) to establish release by cutting an aramid (Kevlar) holddown cable.'),\n",
       "  0.9364326243075644,\n",
       "  0.7382357),\n",
       " (Document(id='8bcbe61f-83a2-47e1-842c-cab7be9c927d', metadata={'data_source.url': 'gs://processing-pdfs/1999_cremers_reocr.pdf', 'data_source.record_locator.protocol': 'gs', 'data_source.record_locator.remote_file_path': 'gs://processing-pdfs', 'file_directory': './document_processing', 'filename': '1999_cremers_reocr.pdf', 'filetype': 'application/pdf', 'languages': ['eng'], 'last_modified': '2025-01-25T20:18:40', 'page_number': 3, 'orig_elements': 'eJx1U8Fu2zAM/RXBpw1IHFm1nTjXnYYBw7D2lhWGLDGxMFkSJLppUOzfRznpWmAo4AsfH8nHR/nwUoCFCRz2Rhd7Vqi66Y665apuWw0NtLxWgndbcSd4VQ+iWLFiApRaoiT+S6G8j9o4iZCW2MqLn7EfwZxGJEQIzqnmBp+NxpHQarugwRuHue5wqHZVKVZM8KbcPq7Ya1zXbdnleNu1Jf8/vvIJKNIlIUx5hx/mGex9kAqKP5TIUvvk50hxVhhBkeTeeiXRxwUK0aNX3ubqU8o7Rpg8Qn80FvogF82U2W82RFWQknGnddDHtEyYo/0ov6m6rusVtYOY+ghexZLwqzBAUGi865WVKfVUOlAfXu52vL0jwjJdGxJMQi95RLnRXs3Lvd4GFTeqk1PesPhg5I2Fl7CwZAjWkAU0f3NLW+lOszwtlzwUQJ0fFzRhP3ltjgaWNyK4aNa8WovmQfB9tdvXPFcHquzdPA2QTb1bkPj2sjoNreiGptkp2GotYAtd1bRacBBbXdWLJQjP+dEUDyOw0Vut/dmxIUr1G3DFzqNRIzOJGcdO4CBKyySiVCNohp4hVSV6idYahBVLcwg+Ylpw6hgn4n9z5gkSk06zQKbDNTuBGqUjOyyzXurE4BkiUtfhsuTfmcXoy9BPALt6nXq/+cISxlnhHIHpOdJZmJWzU2PJvpKENMoAWTqxZP41jj6eZdR7hmfPjtl5kkLge6FHeN2BBYgBnDZqtjLmqZINMgELlvYlSYRc3flk3HoAPANcZd5af/6nOYuY/OxouzIPe9fn10w/eZdleAy0AmZuw7MJLWfTVOYzv76f7zJGMuQJHvLN/jz+BQBTaDI=', 'element_id': '8bcbe61f-83a2-47e1-842c-cab7be9c927d', 'type': 'CompositeElement', 'chunk_size': 400, 'chunk_overlap': 0, 'passage_id': 69, 'rank': 6}, page_content='The holddown bracket, which is in general attached to the satellite, supports the Thermal Knives and passes the mechanical loads exerted by the application on the Reel, to the S/C structure during launch. Its shape is straightforward: two flanges for Thermal Knife support perpendicular to a base plate onto which (in-between the flanges) the Reel is mounted. The base plate’s footprint is 50 by 60'),\n",
       "  0.8965337738645182,\n",
       "  None),\n",
       " (Document(id='8a31180b-f4ca-45bd-9286-fd9f96b0e296', metadata={'data_source.url': 'gs://processing-pdfs/1999_cremers_reocr.pdf', 'data_source.record_locator.protocol': 'gs', 'data_source.record_locator.remote_file_path': 'gs://processing-pdfs', 'file_directory': './document_processing', 'filename': '1999_cremers_reocr.pdf', 'filetype': 'application/pdf', 'languages': ['eng'], 'last_modified': '2025-01-25T20:18:40', 'page_number': 1, 'orig_elements': 'eJzdV01v3DYQ/SuEzrZWIkVKdI9p0hqpXcM10INhCPwY7gqVRFWi7CyC/veOqHXjphsUOfjgPepxHmc4evNE3X9OoIUO+lA3NrkgSeVAWcuAs6zUUjijhKOMg8udA2Gy5IwkHQRlVVAY/zkx3o+26VWAKT63au/nUO+g2e4CIpRmGXIO8FNjww7RvIzo4Js+LLz7e0aLlJ3hQpmn1cMZ+QJItgKCV2l+FIgURJJpPwXolnPcNJ+g/W1QBpK/cGEpt578POLzUuUIBsuuW29U8GOEhtEHb3y7sLfTcs4ROh+gdk0L9aBi3bhysdlgqIFpavrt+WDdFDPMY/ut9U0upawNbgfjVI/gzZgivhYGAUxofF+bVk1TjVSN+2RpxQXjGBCz2wYLxkL3S4p0Y72Z4zv7kig5hPaqW06YfCPlISrshxilhqFtsAWYf3NYblW/ndU2vs37BHDnh4hOoe68bVwDUSc0o/w8y88pv6PZRV5dFFEaAzLrfu40LE3NlxMG+BQiIyW//3r78fL6J3Jze3n97vLml/cL5bmWuya08WV9LcmyVFYzxyTlLmcZlSUVKIIyozp3hstXk2Re0bRAfVWsSOkiuGdA8jwtF6DKqlQcA1bKqUlS8EK8dUlGZPwOw3up4bsdEKN0C+Qg0TOynM6SgAu3AO0ZMb6fmilMxDtCidJzCNgLgjkRCzsVCGYn2NluWHh+C8gdid4TRYYRW4903+PSj/seoFPkCRtN9NzbFn6IeSKXtF5ZYqFtHrGdER/hzxljLdn51lr/1MeY9OWMXatxxNY+wt1yoCOzJhl1mQJrqZVOGiuyggMzRppKFbx4vVmTWZai3eVFKVK5TNIzIHl2GD7OeJodRVbSiU2bpFLmb33aXg7PSyFedhh3TIBCgIXCcAsUZCEKXbCcUW0zqbUTwrye2ZdytXKRH9S1AjRDuWWrt5dpeQQ4UE5MfhXL5Js3+6+9u/VP6LWLUUdDJs1EVAjK7KIVRxf9xzz1qMwfgA7/tGvMjkzzMPjVw4HgXmOnWvKxRy+dVlvG9X/tjb15bCyshM7PffwOXG4+EOfHCFoYWr9fPiff5dFCl1bbgjMNyjnlSsElEwWvmAEmS/2KHs3jfVsKnvLVow+ALNM8zgwrxOrR/0Ui6cSGpKwElac0JB+a7YzXjTwlVz/fXpH3/bbBW8i4KPfK423jpVDX2HdqWCo7JlQLzvHK8FwzXRqttLW2EJUwpXEOwVf08iqlqDlRrj+Kh2fB0NFX45bHntf4E5MofkSrt/4fSf/nGvHwN8qYSo8=', 'element_id': '8a31180b-f4ca-45bd-9286-fd9f96b0e296', 'type': 'CompositeElement', 'chunk_size': 400, 'chunk_overlap': 0, 'passage_id': 60, 'rank': 7}, page_content='2. WORKING PRINCIPLE\\n\\nThe cable element, named the Reel, consists of 2 abutting parts that are clamped together by a pretensioned Dyneema wire bundle; the clamp load delivers the required holddown load.\\n\\nThe lower Reel part is attached to the holddown bracket, which supports the Thermal Knives; the upper Reel part provides the mounting I/F for the deployable\\n\\nFigure 1. MHRM Engineering Model'),\n",
       "  0.8717311033616739,\n",
       "  None),\n",
       " (Document(id='ac449662-ba46-4a4e-8180-23ff4157e89b', metadata={'data_source.url': 'gs://processing-pdfs/1999_cremers_reocr.pdf', 'data_source.record_locator.protocol': 'gs', 'data_source.record_locator.remote_file_path': 'gs://processing-pdfs', 'file_directory': './document_processing', 'filename': '1999_cremers_reocr.pdf', 'filetype': 'application/pdf', 'languages': ['eng'], 'last_modified': '2025-01-25T20:18:40', 'page_number': 3, 'orig_elements': 'eJzlVE2P3CgQ/SvI5xk3YNPGc84t0uxqd7SX0cjCUO5GwsYCPD2t0f73FHRH+dAkUg45JJF84VUV9ap4z4+vFTiYYUmDNdUdqbp2LwzvWzN2/Sg4NJLD2NDOTILrbuTVDalmSMqopDD/tdLeB2MXlSCWs1Nnv6XhCPZwTIhwTinWXOGTNemIKOsKunq7pFz3+Cj7vpY3hLVtU/OnG/IJ6FjdZIBx0dTsbaQUIVTFc0ww50n+ti/g/l2Vhup/DGTCQ/RbwHPmGUAj8cF5rZIPBVqDT157l6sPMU8aYPYJhsk6GFZVmGPkbrfDVA0x2uVwu5oplg5bcN+K71jf94PG6yDEIYDXoUb8QgwS6GT9MminYhywdMR7aC1b2ghMKN2NRcJI9Jxb1Dvj9VZe7VOj6pq6qDlPWH2j5TUrndeSpdbVWVwB9t9dw04th00dyns+VoA3PxU0pmH2xk4WilI45eKWslsuHji9Y/Kupbl6xcph2eYR8lKbPGGCl6yEqq05+Wu5PQS/LYYEFJ6KQFA46Ur/I6kHm1x5ta/V2XYSzCi5bFnTtEZ2rezMqJkQjZx62fw0dfa0uYpxX7MsvY+A2Df1vmhRNLRu3kQuRb+bOiXt5a+uzoKEH/j7fS7nd1vAwUg6whdajkSRUSFNDUSFmSjUuiIaNZ8gnIrwyAkCkC2CIcmTPOQZUwyszp/z3sjkUQjET7hnKsh9zspttnWFQP4BcARpp/pzz9yrEHBRz/CQ6b3hHd1LNRo1ApuUUk2z71THgU4wmtEYpn6id2jdFWP0dXvxzgXY99dfPRNc1vRN5FL0u3mnF5z90d55KKaJm0O7FDPETR9R46pov4hdUPKfz/FnHBOHyHbIOJaGWTnyfrET3KBvnjELqZGA0wGZgp9JK7NlBCc2kiyHGTdqwNTonatR7QzkZJ3LVy7ZgsG/2Bm1jlYcAb90AgwwWvzLBIl4zWLi9zz39AFF8u9x', 'element_id': 'ac449662-ba46-4a4e-8180-23ff4157e89b', 'type': 'CompositeElement', 'chunk_size': 400, 'chunk_overlap': 0, 'passage_id': 81, 'rank': 8}, page_content='4.2 On-ground release testing\\n\\nDuring the release tests a balance arm and a counterweight were used to apply a deployment force of 0.05 N to the upper Reel part.\\n\\nThe results were such that for the 50 Volts version of the Thermal Knife, a voltage range from 48 to 52 is recommended. Release time will then approximately be between 10 and 15 seconds.'),\n",
       "  0.8274734275257375,\n",
       "  None),\n",
       " (Document(id='7b5c97f6-0508-4fa8-80fc-bb32790ff5b2', metadata={'data_source.url': 'gs://processing-pdfs/1999_cremers_reocr.pdf', 'data_source.record_locator.protocol': 'gs', 'data_source.record_locator.remote_file_path': 'gs://processing-pdfs', 'file_directory': './document_processing', 'filename': '1999_cremers_reocr.pdf', 'filetype': 'application/pdf', 'languages': ['eng'], 'last_modified': '2025-01-25T20:18:40', 'page_number': 3, 'orig_elements': 'eJzdVE2P2yAU/CvI58QBf6zt/IVKVaVG6iGKLAzPNhI2CHB3o9X+9z5Iqt1Wu4ceemhPiHkzvOEx9vk5Aw0LrKFXMjuSrISqKoeqGutmqOUgZddVBW9YU0A3MMGzHckWCFzywJH/nAljnFQrD+DTXvOr2UI/g5rmgEhRUIqaO/yoZJgRZU1CrVFriLrzmbU0ZzvCKGV5e9mRV6DochaBitKcvgskCSKZv/oAS7zHF/UE+qvlArIXLES7vTebw3106UCg7V4bwYNxCbLOBCOMjurJx3s6WEyAflQaesuTb6wcDwekCvBerdPeytGnDpvTH9UPrOu6XuBx4HzvwAiXI34zBgFEUGbthebe9ygd8Byat6wsaiSk7lKhYTR6jS3ygzRiS2/22ii7U1e+xBtmH7S8s8LVJha3ViscAfY/3Muar9PGp/Sa5wzw5EtCfegXI9WoIOWkoEW9p2xf1KeCHll7rGhUW1T267YMEIdaxhsGeAopWXlJTjO4hWvyaVUjRP5PIycVdHqp3/MooRF8rJq6qR9GoLwrm0pAS1tZDWNZd38vj013i19Z5k3K4x1gRXWLX1M+5MV7wE3yn+WxY+1D9a/nMSHuD/52bwP8bYaVGAsOsyV3JMzwa57JDFhxxGpciPLEbn4GiURntmlOgkccHBm2VWpcroQTYRbr4sjMSrx1OLn87XfxmTtsp77DKZp4ufwAjj7JaQ==', 'element_id': '7b5c97f6-0508-4fa8-80fc-bb32790ff5b2', 'type': 'CompositeElement', 'chunk_size': 400, 'chunk_overlap': 0, 'passage_id': 73, 'rank': 9}, page_content='3.3 Thermal Knife\\n\\nWhen operated, the Thermal Knife heater plate is pushed through the wire bundle by a compression spring.'),\n",
       "  0.8258841329893336,\n",
       "  None),\n",
       " (Document(id='405693b6-8f6d-40dd-b8bb-dbba851a4e50', metadata={'data_source.url': 'gs://processing-pdfs/1999_cremers_reocr.pdf', 'data_source.record_locator.protocol': 'gs', 'data_source.record_locator.remote_file_path': 'gs://processing-pdfs', 'file_directory': './document_processing', 'filename': '1999_cremers_reocr.pdf', 'filetype': 'application/pdf', 'languages': ['eng'], 'last_modified': '2025-01-25T20:18:40', 'page_number': 4, 'orig_elements': 'eJx1UsFu2zAM/RVCpxZIHFmNEye/MGAYtmCXIBBUiY4FyJYhyUmDov8+SkmxHdab+Pge+Ujx+M7Q4YBjktawPTDz2uwQW1N3tRDNutabjdJmq1RTq5edaNkC2IBJGZUU8d+Z9j4YO6qEscRO3fycZI/23CdChOCcNA/4ak3qCa23BZ28HVPWHY87zqvtAjZ1W/HTAj7j7ZpXIsd1I7aV+A9wVxDC4i0mHPIUP+wbul+T0sg+KJHNyujnQHH2GFCTaem8VsmHAk3BJ6+9y+pzzFMGHHxC2VmHclLFNWX2qxVRNcZox/NyMl0sHebgvsqv6t1uJzWVwxBlQK9DRfjdGCbUyfpRaqdilCR9pTq8ajcvoiVC6W4sGSajt9yiWhmv5/JjfxuxB3VUQ56QfdHywUq3qbDUNDlLK6D+q0faqfE8q3P5yyNDqnwqaExy8MZ2FsuVCC6aJa+XojkIvq/b/Zpn9URKOc7DK+alrvOECd/yFbBDjxAwzi5FuGJAiLPuIfUqQecDPRAaDr99zl/INXkC3xWcpGFQDr6NtsMFKLgQizpBILMIXfADrFtIHhoBNkL+3YEWZNBU8JPOW0WEZAeEq3Uulxz/lTbw1PsEmljPuYjgEKnCaCI80UGYe6bK830u7rsKgdZ2wUOe7uP0ByNMC6I=', 'element_id': '405693b6-8f6d-40dd-b8bb-dbba851a4e50', 'type': 'CompositeElement', 'chunk_size': 400, 'chunk_overlap': 0, 'passage_id': 88, 'rank': 10}, page_content='The results were such that for the 50 Volts version of the Thermal Knife, a voltage range from 48 to 52 is recommended. Release time will then range from 5 (hot case) to 20 seconds (cold case).'),\n",
       "  0.7974390820557395,\n",
       "  None),\n",
       " (Document(id='f86c738e-6af3-4e79-b36a-69f1a8c56f6c', metadata={'data_source.url': 'gs://processing-pdfs/1999_cremers_reocr.pdf', 'data_source.record_locator.protocol': 'gs', 'data_source.record_locator.remote_file_path': 'gs://processing-pdfs', 'file_directory': './document_processing', 'filename': '1999_cremers_reocr.pdf', 'filetype': 'application/pdf', 'languages': ['eng'], 'last_modified': '2025-01-25T20:18:40', 'page_number': 3, 'orig_elements': 'eJx1U1Fr2zAQ/iuHnzZIHNuJkzhvgw0GI2NsfQvFKNI5EZUlTTq3DaX/fSc1pdDRB4Pu0919330nH54KNDiipV6rYgeFaNpWDqjkpj6iGhqJXde0QqolCkZWxQyKEUkoQYLznwrpXFDaCsKYYyMubqL+jPp0Jkaapqq45go/aEVnRutNRr3TllLd4VBv63I9g9V6Wa5vZ/Aar1dt2aR4023K7v/4JZ+BIl4i4Zhm+KUf0fzxQmLxzBdJah/dFDhOCgNKltwbJwW5kCEfHDnpTKo+xTRjwNER9oM22HuRNfPNbrHgVIkxanuaezXEzDAF89H9ou66rpfcDkPsAzoZSsZfhCGhJO1sL42IsefSI/epym23rFpOyOxKs2AWekkU5UI5OeV9vREV11QrxjRh8QHlNYsuPmcJ741mC5h/cb02wp4mccqbPBTInW8zGqkfndKDxvxGmqpp51U9b9qbptrV292qStWeK3s7jUdMpi4zEt5eVqdw3XTHtt1K3CjV4Aa7ul2rpsJmo+pVtoTwMT2a4uaMwF8YhYEfVg8IcfLeBYIhicQIPP69Vgj7Fh7YIdA2YqAIn1Z8BHIkzOcZV2kSR4MwuJBSGDV5ZHADOJ9OzHCn5d3cDQNEH9hP8GZijhBL+BJBQJgMcis3Isgpkku+QsC/U+IlVuod7+GojaYLM0Ny9vK+aQSLIkBENiUrilMY+Ikyydcps36zJ20R83nvFBrgf4pS9JE+eEBWYB0BN6U0UlKz//57X6aFvG76pwiBh77Hm+Tu8+0/LMRNcA==', 'element_id': 'f86c738e-6af3-4e79-b36a-69f1a8c56f6c', 'type': 'CompositeElement', 'chunk_size': 400, 'chunk_overlap': 0, 'passage_id': 71, 'rank': 11}, page_content='The Thermal Knife support flanges provide M5 wire inserts (4 in total), suitable for installation of optional kick-off spring plungers. As a rule, some customers require the possibility to apply kick-off springs near separable surfaces. During Engineering Model testing kick-off spring plungers were not part of the MHRM.'),\n",
       "  0.7736431285633203,\n",
       "  None),\n",
       " (Document(id='bd4244ff-ccf8-44a3-92f9-cafc010e9ce8', metadata={'data_source.url': 'gs://processing-pdfs/1999_cremers_reocr.pdf', 'data_source.record_locator.protocol': 'gs', 'data_source.record_locator.remote_file_path': 'gs://processing-pdfs', 'file_directory': './document_processing', 'filename': '1999_cremers_reocr.pdf', 'filetype': 'application/pdf', 'languages': ['eng'], 'last_modified': '2025-01-25T20:18:40', 'page_number': 4, 'orig_elements': 'eJzlmFtv2zYUx78K4acOaBRexJtf+7JivQxt+hQUAkVSjjBKFCQ6rRfsu++Qtttgc7AWgx+SALYA/slDHoq/c3zo67uVD37wY2p6t1qjlaYSe6apY6610jmGRdsSYy1XqnXGrF6i1eCTcSYZGH+3sjHOrh9N8ktpB7OL29Tc+H5zk0ChFGOwOchfepduQCWyqFPsx5Ttrq8J1rQCTWFdic8v0XeBqUoXgVFekVNCMQFlteyW5Ie8j9/7rz58nIz1q7+gI7vbLHE7Qzt7OXsLbjchWpPiXKRpjinaGLL1Zsn7nP0Qk2+6PvhmMsVv6FlfXsJQ65elHzcXk+uWssJ2Dg/1XxKtdWNhOj8vzeyjnSvQ94755G3q49jYYJalAdMW5sGVYlpAf1nc9eAv+LnLK1SXLtptObLv66wOQ0cz5A2uHljxMCrtpjLKTFPo4Q3A8peH7mDGzdZsymFerzzM/LmoS2qG6Pqu9wUTiim/wOSC8iuK10Sta5ytJ7Bsxu3Q+vxO67zB5L9mDFa8Qq/ev3v15tPH1+/ffcyDj15c9SmUU/oni0RqwnTdEu+IFKIVlOBOYUmcdp1Q9GwsKq0rBVxJXNUZtENbM7pvk1qqSp4Q9hZPjURNFXnsKBZl/ok8d5/dqxuP4q2fTQjIxtGG7QJ+on5B6cYkeHj09tcPb5HzS78p+m1v2uCr+5i/M/MM+7v1V3nWE7hLwVoKYW8Zds5p7w3AbtpOK90a1rGz4a4xUAs0C7mn+djWsmL7PCt5zsT/ForFE8NdEMb0s8b99YiW7TCYeVfQnvzcxXkwo/UZbbOgLoYQvyzrn8LbYNzKrqtl57ChHRdeC0C81tJ4rHF7RrxJhpVgXFd4z/dBgPR9EPQDQjF5nIA/X37v7nP5aQQ3/SbO/Z/ePcQmd7Wru9Z0rcUepjbwVTUhNVOibl19PjYZrtgBtH3uPQqMHHItxTxn41NKMXqcdD6cfiV59HXv/6K3QWMcL6YdHIu3N2Nv0QywmsXfp/pNv6TX+chPwKw45p2jxDFBOimkJFo5C5nWU8Nrer6yWRNRiUKqqHiB+ShocaiTOVH5xnZKKUZPDGZFcP28ab4b4IWgPtfMgNgGQSkNpURAv41QKixrBM7P8Ws/AHxhB2+Moj82Pwo65dhZapTqbMspZVRQ1QrTSasMM+y8BTPc9giBQoIeK+YiCFKpPdaUVfq0UoyeGugM7gTPGvQXyI+3PsTJrxFT6MUeql9Qu0Mc5yfQiobh5YOxgMzoEABu0wybDOhLP8Og6keDgZhW16yWklKiOBHCiM5iQVphvedMnPXPEl5Il/tgOAqUHq+LnPKKnlT2Rk8tGDDn7FkHwx1q0NIPU4Ab47gkE0JxFMUO3fM7R0UbQ8qxkCJ8pjzgg/fhR6H3vDYm537HmZRtLXVLeactp9LWHebn+wWgdbkg0m83xoPAGD8ITJ8W9iaPE/nnS3QDRDf/ca/8/Dc1feUi', 'element_id': 'bd4244ff-ccf8-44a3-92f9-cafc010e9ce8', 'type': 'CompositeElement', 'chunk_size': 400, 'chunk_overlap': 0, 'passage_id': 89, 'rank': 12}, page_content='5. CONCLUSIONS\\n\\nThe overall conclusion is that the MHRM design is viable.\\n\\nIn summary the performance is as follows:\\n\\n{\\n\\n_ non-pyrotechnic release\\n\\n{mass including Thermal Knives: approximately 0.2 kg\\n\\n( envelope: 38 (height) by 50 by 250 mm, including Thermal Knives and electrical wiring.\\n\\n{ _ simple installation of application by bolting to top of Reel\\n\\n_ _ _'),\n",
       "  0.6948157124107229,\n",
       "  None),\n",
       " (Document(id='2f3e1521-8abf-4f04-aaf3-7325f491d83e', metadata={'data_source.url': 'gs://processing-pdfs/1999_cremers_reocr.pdf', 'data_source.record_locator.protocol': 'gs', 'data_source.record_locator.remote_file_path': 'gs://processing-pdfs', 'file_directory': './document_processing', 'filename': '1999_cremers_reocr.pdf', 'filetype': 'application/pdf', 'languages': ['eng'], 'last_modified': '2025-01-25T20:18:40', 'page_number': 4, 'orig_elements': 'eJzdU8tu2zAQ/BVC19oyqZdNX9NzUDS5uYFAkSubACUKfMQxgv57l7TTAkXSWy857uws98GZw2sBBiaYQ69VsScFrShA1zbtwLsaxFADa3jb1C2HoauapliRYoIglAgC+a+FtNYpPYsAPsdGXGwM/Qn08RQQqSpKseYGn7UKJ0TZNqOL1XNIdYcDp6xkK9JUu7J6WpG3uG12JU8xa6u65O8A1wpECn/xAaa0xTf9AuZhERKKn5hIw/beRodxmtGBxKF7Y6UI1mVocTZYaU2qPvq0pYPJBuhHbaBfRJ4aM/vNBqkSvNfzcb2o0ecO0ZmP8hvGOe8lPgfO9w6sdCXi18EggAzazr00wvseSwd8h5a7LW06JOTuSuPAOOgltSg3ysqYf+xPo+JGncWUNiw+aHljhcuSWWJZjMYTYP/NLW3EfIzimP/yUAC+/JRRH/rJKj1qyCqpaNWuKVtX7WNF92y3b2iqXrCyn+M0QDpqkzYM8JJUUDRlQ+5iCDisJ3FW4Eg4gZuEIc9CxjgRqR3u5YOYcSnyNTqkJg5xqFDhgaDCgieCDMIkDhFuImJWiEgb5wDunDVHzuCARA+KBEvSjhekKFiMvaSzkdGiDogd8cy0JfeJldrEZcGhvgMYsggXyrTQ26XuhXN4p2d4TOvgXn/bpuOCj1J2jEuhOlBtJUfY8UbWO9Z1wP+fbVhd1uiKdlu22TbXuGNVSX+7hL4DXCs+m21q1m0/k20e4BkceuTmAX8VNwoVRTyhwkVAW0wYixAdpgcIZ4CZrBlrsjm+sJqSH5HSgd79S9JPvwDoHuyR', 'element_id': '2f3e1521-8abf-4f04-aaf3-7325f491d83e', 'type': 'CompositeElement', 'chunk_size': 400, 'chunk_overlap': 0, 'passage_id': 87, 'rank': 13}, page_content='4.4 Cuttings under thermal vacuum circumstances During the release tests a balance arm and a counterweight were used to apply a deployment force of 0.05 N to the upper Reel part.\\n\\nSeveral releases were performed at temperatures between -114 and +130 °C.'),\n",
       "  0.6618229813277803,\n",
       "  None),\n",
       " (Document(id='ad0dd6b8-05eb-4b89-997a-d9606ad2766a', metadata={'data_source.url': 'gs://processing-pdfs/1999_cremers_reocr.pdf', 'data_source.record_locator.protocol': 'gs', 'data_source.record_locator.remote_file_path': 'gs://processing-pdfs', 'file_directory': './document_processing', 'filename': '1999_cremers_reocr.pdf', 'filetype': 'application/pdf', 'languages': ['eng'], 'last_modified': '2025-01-25T20:18:40', 'page_number': 2, 'orig_elements': 'eJzdU8Fq3DAQ/RXhUwsbryV7bXmvpaVQUkqa2xKMVpr1CmTJSHKSJeTfO9Ju2tI2x15ysZmn92beyM+7pwIMTGDjoFWxJcW+7lULinW1oJQqUbWil71sW8kbymlbrEgxQRRKRIH8p0I655W2IkLItREnt8ThCHo8RkQYqyrUXOAHreIRUdpldHbaxqTb7bB52axIu2lLfrciP2vOyy7V3aYru3/UmY9AEU4hwpR2+KYfwXyfhYTiGQ+S1SG4xWOdHHqQaHkwTorofIZm76KTziT1GNKOHiYXYThoA8Mssmc82a7XSJUQgrbj1awOIU9YvHntfE37vh8ktgMfBg9O+hLxszGIIKN2dpBGhDCgdI99qpK3dceRkKcrjYbR6CmNKNfKySV/r1+DigvViiltWLwy8sKKpzmzxDwbjVeA89eXYyPsuIgxf8ldAdj5LqMhDpNT+qAhZ4RVbHNV0Su2uWXVlvJtUyX1jMrBLtMe0qWytGGEx5SB4pMeFw+EleT68801EVYRj7kTARRZ5hk8uQEwZBY+pk4vFs+yD2JOJtOV/ZlWjGQHnDEJVdPvpWgaKjpRN/uaMlk1/zOtVdmvSFfzkp7Tmmte03N6O96U/O/6zH9jae1Z1zRvKa23RyBKo+2A0wJxBxIR+WhHbQE8rkCuncK4Cox0zcm7c3rek/2JbKr0ZPiaphXRVppFJQG29JMw5IvV9xDyD4BJltHjToY86NS1/D36X4X3uO093CZTz3c/AIMyySw=', 'element_id': 'ad0dd6b8-05eb-4b89-997a-d9606ad2766a', 'type': 'CompositeElement', 'chunk_size': 400, 'chunk_overlap': 0, 'passage_id': 61, 'rank': 14}, page_content='Figure 2. MHRM and released upper Reel part\\n\\nThe dimensions of the Engineering Model are 38 (height) by 50 by 250 mm, including Thermal Knives and electrical wiring.'),\n",
       "  0.6403774180547012,\n",
       "  None),\n",
       " (Document(id='6fc53b2c-e4da-4bb1-95d8-14f51f8f107f', metadata={'data_source.url': 'gs://processing-pdfs/1999_christiansen_reocr.pdf', 'data_source.record_locator.protocol': 'gs', 'data_source.record_locator.remote_file_path': 'gs://processing-pdfs', 'file_directory': './document_processing', 'filename': '1999_christiansen_reocr.pdf', 'filetype': 'application/pdf', 'languages': ['eng'], 'last_modified': '2025-01-25T20:18:38', 'page_number': 1, 'orig_elements': 'eJzdVE1vnDAQ/SsjzgmLYQl4e6/US1spua0iZOxhsWpsik2SVZT/3rF3k0ZRU6mHXnLa5c3HezPzYP+YocEJbei0ynaQlZzXQzvwtmo5Y5Xiqm8a1jdKMb4tCpFdQDZhEEoEQfmPmXRuUdqKgD49G3F0a+hG1IcxEFKWRUE1Z/heqzASypqEzk7bEOv2e87avLoAVpVlXt9ewG+gLnMeAcbo3ztIKiIo80cfcIqTfNcPaK5nITF7okAU3Hm3LvQcdS4oSXhnnBTBLQmaFxecdCZWH3ycdMHJBewGbbCbRVJOkd1mQ6kSvdf2cDmrwSeGdTHvxTeMc97JcdE+aGE92m5BJ5ecgid1GFAG7WwnjfC+o/qemhV5u22rkhKSBKVJNak9Rp58o5xc0+l+s2XnVCumOGb2N95zajjOKVXMs9G0DBKxOYeNsIdVHNJl9xlS+9uE+tBNTulB48kzRVlfFuyyrG/KYsfaXdXG6pkqO7tOPcb1sjhmwIeQKnIGn6kNfJtxSZSx4FnJjQ4mHe2tOaumR0Slhr5tZF/LQlS8HCTnWAxCFO1/NGeTF9Fn7VV+dTLnCaibbb5NVqy3Vzn7I3Iq+ojm5Nu2bT6EOROy/MNn8LWbr/GOXGzAI/VIGsGuwQM1BDcEtLB6VBDcAcOIC2gLAkZnFCh3bzcLmVx4hJM7cvhiYRL2CJJAD15PqwnCols9PKe6AVDIEZJFQcfAz5X2H0lekqSbZmdpJlISgJjB0+Ih6AkTCSExK7GIN+JhWuntfO5E4x2BCOQPc/wEdBM6hXmJxoavFMSpewz3SHPnBQNhFf3WRCCdVT5//aZ/FUvkvMObuMqn21/u6BsT', 'element_id': '6fc53b2c-e4da-4bb1-95d8-14f51f8f107f', 'type': 'CompositeElement', 'chunk_size': 400, 'chunk_overlap': 0, 'passage_id': 9, 'rank': 15}, page_content='2.1 Fast Operation\\n\\nSeveral separation nuts are often used together in a hold down/release system. In many cases simultaneous release of each point is required to release components at the same time. In these cases a separation nut must release very quickly; typical release times required are between .01 and .05 seconds.'),\n",
       "  0.6380608335993031,\n",
       "  None),\n",
       " (Document(id='760357e0-5e11-44df-851e-30a2a7c27473', metadata={'data_source.url': 'gs://processing-pdfs/1999_cremers_reocr.pdf', 'data_source.record_locator.protocol': 'gs', 'data_source.record_locator.remote_file_path': 'gs://processing-pdfs', 'file_directory': './document_processing', 'filename': '1999_cremers_reocr.pdf', 'filetype': 'application/pdf', 'languages': ['eng'], 'last_modified': '2025-01-25T20:18:40', 'page_number': 3, 'orig_elements': 'eJx1U11v2zAM/CuEnxPHlu0mzp4HDBg6DG0etgWFIUtMIky2BEnOx4r+91FKim7DCgSGfeSRdySzfc5Q44Bj6JTM1pA1sl2uyqLoCyzFalkyJqtVxetVu6rLti6yGWQDBi554JT/nAljnFQjD+jTt+YXM4XugGp/CIQwVhTEucEnJcOB0HKZUGvUGCJvu22LMmczClQsL59m8Aqwom7yIgJlUxV59T/kRiIo8xcfcIhOvqoz6kfLBWYvFIiCO28mR99Rp0NBwjttBA/GJcg6E4wwOrL3Pjp1OJiA3U5p7CxPyimyXiwoVaD3atzPrdz51GFy+r34omzbthNUDp3vHBrhcsKvwjCgCMqMndDc+46oPdUp8rauViUlpO5SkWASeokt8oU0Ykpbe2uU3VJHPkSH2Tstb1nhYlMWt1YrGgH1X9zCmo/7ie/TPrcZUuWnhPrQDUaqncJ0Kaxgzbwo56zZsGJdrtbX47DE7MZp6DEOtUqIe7uvZX3XSNbWsl+2fcOwWjHsq2Ipdw0Ty56lkQQ8x9PJ6ryCRzXiDMgggjyh1sBHCY4eZoCj6l2SDnR9gWYAm5OB+08P9x5O6PCfBJQz6E04wEnRI9aJL3SWwEEoJybNHchpGC4w0CaAh8DFASUEA+GAMFmLDh4QNZCnkMNHCv9JOHEiWVrJWQ30h9AXaODnPnVSwYOgMVABs4O940cVLldCgPIOhgF2jizFPsHYmBRfU7PIpwNv/krySBqu3ixtDHPYRCrvNUKP2pzAkzDu1C/0iUBaFR7Jjaan9h8S+G2eqv+Y8zOl0aJAjfNUL+IdOPQ2XucxmiH3FkeproNKrkbQcTNpoLFetEhFIuhfPZAuN3ANn0cq42cJ+04NlQf60fjnZnftmccDer3ML9xFf0fcxGt4efoNHWKG9w==', 'is_continuation': True, 'element_id': '760357e0-5e11-44df-851e-30a2a7c27473', 'type': 'CompositeElement', 'chunk_size': 400, 'chunk_overlap': 0, 'passage_id': 83, 'rank': 16}, page_content='perpendicular and in line with the centre lines of the Thermal Knives, the Y-axis is out-of-plane.'),\n",
       "  0.6190586899410737,\n",
       "  None),\n",
       " (Document(id='0b1aa4c9-0ba0-4668-9e93-d08f8fece775', metadata={'data_source.url': 'gs://processing-pdfs/1999_christiansen_reocr.pdf', 'data_source.record_locator.protocol': 'gs', 'data_source.record_locator.remote_file_path': 'gs://processing-pdfs', 'file_directory': './document_processing', 'filename': '1999_christiansen_reocr.pdf', 'filetype': 'application/pdf', 'languages': ['eng'], 'last_modified': '2025-01-25T20:18:38', 'page_number': 3, 'orig_elements': 'eJx9Ustu2zAQ/BVC50Sm5Ics33rprQ80uRmBsCZXEgGKFLhUHCPIv3dJOwjaoD3uzOzu7OP4WqDFCV3sjC4Ootiu130vq2qzrvdq06ttBbjTspFSrmupoLgTxYQRNERg/WuhvA/aOIhIObZw8UvsRjTDGBmpayk55wafjY4jo1WT0dkbF1Pe8Vi1+5KhetuU8ulOvMebpinbFO/rtmw+x1c9AwVdKOKUZvhpXtA+zKCweGMiWe3IL4Hj5DCgYsud9QqiDxmag49eeZuyB0ozBpx8xK43FrsZsmdmDqsVSxUSGTfcz7qn3GEJ9l/8qmrbtlNjMBQNOELXBfQqlExe3WFEFY13nbJA1HH+iYvJst1udhULsgVt2DW7vaQ+5Up7teSjfXQrblIHUxqz+F/fmzRe5iyFebaGl8EmVjfaghsWGPJNjwVy+aeMUuwmr01vMH9LLevtvazu6+1jLQ/V/rDep+yZMzu3TCdM611nJHz82F6rFjeybaFt1vIka13v+E22m02jGql3eS8RX9L7FL/4P4FQ+F7EEcWEagRnaBLKO+LhKDF8PrbvhiyxENUoIEzibOKYoYdvX0QMZhgwMBiQxOKisZmLfhgsI+xQOC+sd0mVqscAxqEWAbQBay+l+OEU/tVjBLq2Z6Fiq+Huj6qTf2bvSzxD0AKcziTH3CLwg95SifVZkdhwnViL2ZNJRxHcQiOpYE6MwolLluKrGRZ2XAsa/ZndCxU8kaDrM2X0fSEnIKNulpWfZu/4FlSmS72/wHcIgTf4jI9p7W9PvwGXG1iX', 'element_id': '0b1aa4c9-0ba0-4668-9e93-d08f8fece775', 'type': 'CompositeElement', 'chunk_size': 400, 'chunk_overlap': 0, 'passage_id': 31, 'rank': 17}, page_content='Release of the mechanism consists of rotating the latch arm with the SMA trigger wires until the toggles are no longer constrained radially. Once the latch arm has rotated clear, the toggles move outward and the outer race rotates toward the released position as described above. Figure 2 shows a cross section showing the basic latch components.'),\n",
       "  0.6134116446538048,\n",
       "  None),\n",
       " (Document(id='50ebcf99-622b-4044-851c-7b5923a745cc', metadata={'data_source.url': 'gs://processing-pdfs/1999_cremers_reocr.pdf', 'data_source.record_locator.protocol': 'gs', 'data_source.record_locator.remote_file_path': 'gs://processing-pdfs', 'file_directory': './document_processing', 'filename': '1999_cremers_reocr.pdf', 'filetype': 'application/pdf', 'languages': ['eng'], 'last_modified': '2025-01-25T20:18:40', 'page_number': 2, 'orig_elements': 'eJx1U8tu2zAQ/JWFzrEs0bItOceixwZFkp6cQKDIlUWEIgWSsmME+fcuaacpiuYiQrOPGc4u928ZahzRhFbJbAdZt6lXG971FfKVrAQTvGai3m6KstgUTbXNbiAbMXDJA6f8t0xY66QyPKBP/5qf7RzaAdVhCIQwVhRUc4VPSoaB0HKb0MkqE2Ldfl/WZV7dQFk0LK+fb+APsKrKfBWB7bbJ2f+ASwkhmT/7gGO8x0/1ivph4gKzdwpEua23s6P/qNKhINmttoIH6xI0ORussDpWH3y8p8PRBmx7pbGdeNJNkd1ySakCvVfmsJhk7xPD7PRX8WXZNE0rqB063zq0wuWEX4RhQBGUNa3Q3PuWSjvqU+RNtWElJSR2qUgwCT1HinwprZjTzD6Jsmuq4WO8YfYF5TUrnKeUxadJK7KA+JfXsObmMPNDmuY+Q+r8nFAf2tFK1StMe8IKtl4U5YKtH1mxK+tdVcTqiSpbM48dRlNZQtzndgm5rmXfCVF19QrXHWsKWRdl3WwIYUwkSwK+xsXJfhmJziAZD2FAGJBLsD0gF0M8I/bjATqrgwcOE1cuwt/uvz/AU3ZH413QeF+eMogHWQSOPh4UZcdro7yNPaiqn00aQQwFC5PDI0lOBJfuvbMjdbEeTewzR2Ewohi4Ifc0HFXnkoke5BxZQHPqOeTwSD14CCQ5zgv8YGdNxSTBIaTtQwkD1/2Jn2GeEuc9on6aWVE2Hi7PKKriWttTitNJ9ORr+LAhVlyU2+BmiUCvyl5Ms1pKezJAAsULhlsKUYAHiIQcRmXUOI8fPH/1W/5bCrSeOHb6nBwUgyKXZB6H/rFNd9xFG474GCf4/vwb65dvrA==', 'element_id': '50ebcf99-622b-4044-851c-7b5923a745cc', 'type': 'CompositeElement', 'chunk_size': 400, 'chunk_overlap': 0, 'passage_id': 63, 'rank': 18}, page_content='Underneath the head of each of the MS bolts a pair of CRES \"Nord-lock\" locking rings is applied; their function is to prevent the bolts from loosening under mechanical vibrations during launch. The attachment shoulders are located halfway up the Reel’s height to allow the lower part of the Reel to protrude into the holddown bracket; in that way a minimum height of the Reel/holddown bracket'),\n",
       "  0.6103347270514994,\n",
       "  None),\n",
       " (Document(id='63d97d72-0fc8-490b-86de-cddfa80fbc91', metadata={'data_source.url': 'gs://processing-pdfs/1999_christiansen_reocr.pdf', 'data_source.record_locator.protocol': 'gs', 'data_source.record_locator.remote_file_path': 'gs://processing-pdfs', 'file_directory': './document_processing', 'filename': '1999_christiansen_reocr.pdf', 'filetype': 'application/pdf', 'languages': ['eng'], 'last_modified': '2025-01-25T20:18:38', 'page_number': 3, 'orig_elements': 'eJx9VNtq4zAQ/ZXBT7uQOrbj3Pq2Lwv7siy0sA+lGFkexwJZMpKcbFr673ukpLR7hRAytzNnzozy8Jyx5pFNaFSX3VImN3W7Kduq5b7elsW67lbFVqxX6+223YvNLltQNnIQnQgC+c+ZtNZ1yojAPtlanO0cmoHVYQjwVFVRoObqPqkuDPCW2+SdrDIh1j087Mtdvl1Qvavz4nFBr/ZuU+Z1tMt1vcuLvzguFfBk/uwDj3GKb+oH67tJSM5eEIhkG29nBztydCxButFWimBdck3OBiutjtUHH6d0PNrATa80N5NIrBG5XS6RKtl7ZQ43U9f71GF2+l/xZbnf7xs5OOWDEsazaRxb6XIEL+w4sAzKmkZq4X2D+hZgRb6H7HskJAqdAmuwPcc++bKzck5re+uWXVONGOOY2f/6XlPDeUqpYpq0ghggsbyGtTCHWRzSVh8yBvxj8vrQjLZTveJ0L1VRrW+K8qZa31fFbbm7XaUTmVDZmHlsOcq7Sh73dmW7UmxkX1ey3PebFb5X21XNVS07XhdVXSddAv+IB5Td8ZGd0NTFQYwM1LMIs2NPchBOyMBOPTGFgUnOLnahADfn9CWQD8IFT7g9EvjQUeiZASUDLraj9pzqThCXgIgOwkgmYTpKmiDlaHXANPRhla/p0zj5BRk74uL1x5w++bf6AbQu5jskEHYsPKNKijmu6Veiljpnp5zuX1FaPijjYwBDGN9bN0ZDAXrAkyJc+AQ5ogA0DUBe/N4yAnr6EL2xgt2fNYQv0vaE2KVQHVU4f0xzv6cnhQEh8swmksApQdXvQ7SQBVEjAKROeHhBSdNeOGJjZ5AFezTQfKF5whjmRisDxJMKcogrxGKmRCROfBUhp8+z1hdAnCThtYLmZE3nX9PSP0dc6WlQckgubUWHBul3i6X9MU1rw5DUiSBP7OyCQDsNh7IUTYfj83jCr2/jq3CQTh35Pt7jy+NPCke+CQ==', 'is_continuation': True, 'element_id': '63d97d72-0fc8-490b-86de-cddfa80fbc91', 'type': 'CompositeElement', 'chunk_size': 400, 'chunk_overlap': 0, 'passage_id': 39, 'rank': 19}, page_content='When the outer race has rotated far enough for release, two in-line switches cut power to the wire. Full rotation corresponds to the point at which the load in the bolt and the current both drop to zero, as seen in both traces.'),\n",
       "  0.5993961900819311,\n",
       "  None),\n",
       " (Document(id='bf743fb2-3f57-4f8e-9159-9dede523d34c', metadata={'data_source.url': 'gs://processing-pdfs/1999_christiansen_reocr.pdf', 'data_source.record_locator.protocol': 'gs', 'data_source.record_locator.remote_file_path': 'gs://processing-pdfs', 'file_directory': './document_processing', 'filename': '1999_christiansen_reocr.pdf', 'filetype': 'application/pdf', 'languages': ['eng'], 'last_modified': '2025-01-25T20:18:38', 'page_number': 3, 'orig_elements': 'eJztVk1v3DYQ/SuETj3YWor6IOWbgTpFADdt7W0vjiFQ5GiXqFZSSSrOwuh/75BaOwa8KZCDLwsf3/CRnCHfI+fuMYEedjD4xujkgiSKAVTAOKvyTokKqg64EFwLyTjITCZnJNmBl1p6ifzHRI2j1WaQHlzEvdyPs2+2YDZbjxHGKMU5h/CD0X6L0YzH6DSawYd5d3eM5ml2RspCpNX9GXnGvEyLgKsiT/MjOPIxkLi987ALNfxuvkJ/O0kFyb84EFJt3DhbxCFDCwpTbvpRST/aGJrs6Ec19mH2xoUaLexGD01nemgmGXPGkYvVCqkKnDPD5nzSnYs7zLb/3vgqq+u6UVtrnDdycDA0FkZlUxxcsgMPyptxaFQvnWtwfouL0VQUGeNIiClog1ljtvuwT7rSo5rjpX3bLTlQB7kLZSb/t++B6vdTpMpp6g0eBiaxOgz3ctjMchPv9C4BXP4+Rp1vdqM2nYGoFkZZeU6zc1auGb3IxEUuwuwJZzbDvGshHG8eyvTwNaghKVLy219XN5fX1+Tnq9uPv3wiH64u13/eXN2GiU8ZrY3v4+W9kifVZceVKiXlgnVU8jwri1rorKhVp8UbyjNLxRmpsiylizwjRt4iR8F4Wr/GC/8U5VkzQfOTkGeM2B94Al/q+YPZzBZITowjkkxbvKiNldOWjB3xWyB/PPw9zJ7IQUfYjr0nFryV4bhWWJXagiVmiKNqHLqwXqwVI9KTrXSkBRjIP7PsY2HpS6N8kjawv8A65HPEMLpmnHaUo15brKFSTFW6lJpjWHdl/oaGKcL7zHORssUwC66qBVclTasjOPJP0TCC1rR4N8wadb4DtZWDcTu0Qg/SAXFGR/k7LM+hdy5+SOSMdVDIHFpe5rrMZS46AF6rTFesLpV6M5FndRlFy9nyKxywyPFzWH4BfP5f44V/kiKvKS3fRf5Ibn+9JA9YP/HWbDZgHfk84xtcxHf+m/7x1zgQQJN2j37Q86Dl4J8XwG/FEQ1OWdMiR7bjF3hpjms8q49BQ0d8USuZKco7UeSCMl5UslUtxRaKZwUFyN7OF4KH7kjk1dLMP+GaP/mgTvkRHPkn6QtRsvrdFz+Rm9FLu39+9/vQAD1ZI3wNz3bBS0QZRrssJGl3xI/YKhk8AxxBBWLnhI0ULFws+Lgv7v8D4aG1EQ==', 'element_id': 'bf743fb2-3f57-4f8e-9159-9dede523d34c', 'type': 'CompositeElement', 'chunk_size': 400, 'chunk_overlap': 0, 'passage_id': 32, 'rank': 20}, page_content='4. OVERALL DESIGN FEATURES\\n\\nFigure 3 is a photograph of the Qwknut and the bolt retractor/catcher in the configuration that has been qualified.\\n\\nThe mechanism release side consists of:\\n\\n{ SMA wire triggers — the mechanism is triggered by redundant SMA wires as described above\\n\\n( Rotary release latch — The triggers rotate the latch arm to initiate outer race rotation'),\n",
       "  0.5944818148289703,\n",
       "  None)]"
      ]
     },
     "execution_count": 40,
     "metadata": {},
     "output_type": "execute_result"
    }
   ],
   "source": [
    "reranked_docs = db_service.rerank(\n",
    "    test_prompt, \n",
    "    docs, \n",
    "    top_n=k_rerank\n",
    ")\n",
    "reranked_docs"
   ]
  },
  {
   "cell_type": "code",
   "execution_count": 7,
   "metadata": {},
   "outputs": [
    {
     "data": {
      "image/png": "[encoded data removed]",
      "text/plain": [
       "<langgraph.graph.state.CompiledStateGraph object at 0x320fe8450>"
      ]
     },
     "execution_count": 7,
     "metadata": {},
     "output_type": "execute_result"
    }
   ],
   "source": [
    "qa_model.workflow"
   ]
  },
  {
   "cell_type": "code",
   "execution_count": 8,
   "metadata": {},
   "outputs": [
    {
     "name": "stderr",
     "output_type": "stream",
     "text": [
      "INFO:aerospace_chatbot.processing.queries:Running query through workflow: My name is Dan. Please tell me about some interesting mecanism designs.\n",
      "INFO:aerospace_chatbot.processing.queries:Node: retrieve\n",
      "/Users/danmueller/Documents/GitHub/aerospace_chatbot/.venv/lib/python3.11/site-packages/colbert/utils/amp.py:15: FutureWarning: `torch.cuda.amp.autocast(args...)` is deprecated. Please use `torch.amp.autocast('cuda', args...)` instead.\n",
      "  return torch.cuda.amp.autocast() if self.activated else NullContextManager()\n",
      "/Users/danmueller/Documents/GitHub/aerospace_chatbot/.venv/lib/python3.11/site-packages/torch/amp/autocast_mode.py:266: UserWarning: User provided device_type of 'cuda', but CUDA is not available. Disabling\n",
      "  warnings.warn(\n",
      "INFO:aerospace_chatbot.processing.queries:Retrieved docs\n",
      "INFO:httpx:HTTP Request: POST https://api.cohere.com/v2/rerank \"HTTP/1.1 200 OK\"\n",
      "INFO:aerospace_chatbot.processing.queries:Reranked docs\n",
      "INFO:aerospace_chatbot.processing.queries:Node: generate_w_context\n",
      "INFO:httpx:HTTP Request: POST https://api.openai.com/v1/chat/completions \"HTTP/1.1 200 OK\"\n",
      "INFO:aerospace_chatbot.processing.queries:Response generated\n",
      "INFO:aerospace_chatbot.processing.queries:Response parsed\n",
      "INFO:aerospace_chatbot.processing.queries:Node: generate_alternative_questions\n",
      "INFO:httpx:HTTP Request: POST https://api.openai.com/v1/chat/completions \"HTTP/1.1 200 OK\"\n",
      "INFO:aerospace_chatbot.processing.queries:Alternative questions generated.\n",
      "INFO:aerospace_chatbot.processing.queries:Alternative questions parsed\n",
      "INFO:aerospace_chatbot.processing.queries:Node: should_continue\n",
      "INFO:aerospace_chatbot.processing.queries:Ending conversation\n"
     ]
    },
    {
     "name": "stdout",
     "output_type": "stream",
     "text": [
      "================================\u001b[1m Human Message \u001b[0m=================================\n",
      "\n",
      "My name is Dan. Please tell me about some interesting mecanism designs.\n",
      "==================================\u001b[1m Ai Message \u001b[0m==================================\n",
      "\n",
      "One interesting mechanism design is the Starsys Research Qwknut 2000, which aims to maintain the ease of use of a separation nut while addressing several issues associated with traditional separation nuts. It features pyro-pulse compatibility, allowing for electrical initiation signals <source id=\"1\">. Another notable design is the Multipurpose Holddown and Release Mechanism (MHRM) developed by Fokker Space. This mechanism uses an electrically heated Thermal Knife to cut an aramid (Kevlar) holddown cable, facilitating the release of solar arrays <source id=\"2\">. Additionally, the MHRM design includes a Reel cable element clamped by a pretensioned Dyneema wire bundle, providing a robust holddown load <source id=\"5\">.\n"
     ]
    }
   ],
   "source": [
    "prompt = 'My name is Dan. Please tell me about some interesting mecanism designs.'\n",
    "# result = qa_model.workflow.invoke({\"messages\": [(\"human\", prompt)]}, config)\n",
    "qa_model.query(prompt)\n",
    "for message in qa_model.result['messages']:\n",
    "    message.pretty_print()"
   ]
  },
  {
   "cell_type": "code",
   "execution_count": 9,
   "metadata": {},
   "outputs": [
    {
     "data": {
      "text/plain": [
       "[(Document(metadata={'data_source.url': 'gs://processing-pdfs/1999_christiansen_reocr.pdf', 'data_source.record_locator.protocol': 'gs', 'data_source.record_locator.remote_file_path': 'gs://processing-pdfs', 'file_directory': './document_processing', 'filename': '1999_christiansen_reocr.pdf', 'filetype': 'application/pdf', 'languages': ['eng'], 'last_modified': '2025-01-25T20:18:38', 'page_number': 1, 'orig_elements': 'eJztVttu3DYQ/RVCTw7g1ZK6kvsRRVq7T4YhUORoRUQSBZJaZxv03zvkrpvUsAP0wQ9pA+xC4uGc4XB4RpyHLxlMMMMSOqOzA8l6XrVlVbaSVwIG3je0HPq6UbRgemCtyG5JNkOQWgaJ9l8yZa3TZpEBfBpP8my30I1gjmNApCgoRc4VfjI6jIiyNqGrNUuIvIcHwUTe3hJOWc4fb8nzWPA2r+OY1VWbl68AFwYimT/7AHPcxUfzGaa7VSrI/sSJGGzn7eZwHGN0oDDobrJKBusStDobrLJTZB993KWD2QboBjNBt8oUNc4c9ns0VeC9WY67VQ8+rbC56a35PRNCdGp0xgcjFw9L58Aql+PkJToIoIKxS6cm6X2H/B6d0VyUtcAUZCkEbTBqjPYc18n32qotHdvX1bKr6SLnuM3se+teTcN5TaZyXSeDycAg9tfpSS7HTR7TqT5kgO4fE+pDN1ttBgNJLwUt6h1lu6K+L+iB8UPJI3tFZrdscw8xvSwh7qvKBllUTdv2gy4rqfu+ZozxQfG+lFLULU15CfA5Cii7H4FoOBkVH14504MmZiFhNJ6scgV3i+9A7oJ0KAHyG3iQTo3k16dPyxYIChC1hrbSzMiUgcwSZYd/TFpigvRA7EC2y0MSDxhuSgeJHp5GzBXxdjpFhocTODlFy0g2i7LLCRaD2yPx7LCecC3vrTJYFZo8mTCS4KQ20SES/+nd5+Tuhcd5tS5IdIf7NceFDCDD5gC9OjjE9D6f2y/SRUcnuI+5wqS9LGfaM9ZXvagkbWTZcokZHrgual0PQjD+fuVc0BwhIdqcpnK+jBmtxTPAXwUujB+4nP/n1XrTdeTmW43+vmCocLTO/AH6LZ2WomDlIGihG1koWrNq4K0Arfq2KPqKvp9Oa56zqLomr5IKL2NGizIX6Zop6yKvXkMunB9YqW9ePDXe9vVPKd+fV4zt5fc63RY7O+zwtvhX32Ld8loA/hrac+yrWM1oywamtBSKler9NN7QnCcF80vr9DfAr6pPvdQbSCL9F1VeCtbwnyr/eHZ2t24T9j7KzngUpjeTCWdyg/JVwaUSwF4Jd5lKIHYkcvrwHek//gWRBusO', 'element_id': 'b7bf4c20-7efc-4339-aab1-8831c64dc597', 'type': 'CompositeElement', 'chunk_size': 400, 'chunk_overlap': 0, 'document_id': 'b7bf4c20-7efc-4339-aab1-8831c64dc597', 'passage_id': 5, 'rank': 1}, page_content='The device described in this paper, the Starsys Research Qwknut 2000, is aimed at maintaining the ease of use of a separation nut while solving several of the inconvenient problems associated with traditional separation nuts. Several of the important design features are:\\n\\n(__ (\\n\\nTypical separation nut ease-of-use\\n\\nPyro-pulse compatibility (electrical initiation signal)'),\n",
       "  1.0,\n",
       "  0.094820276),\n",
       " (Document(metadata={'data_source.url': 'gs://processing-pdfs/1999_cremers_reocr.pdf', 'data_source.record_locator.protocol': 'gs', 'data_source.record_locator.remote_file_path': 'gs://processing-pdfs', 'file_directory': './document_processing', 'filename': '1999_cremers_reocr.pdf', 'filetype': 'application/pdf', 'languages': ['eng'], 'last_modified': '2025-01-25T20:18:40', 'page_number': 1, 'orig_elements': 'eJzdVE1v2zgQ/SsDnRLAkUnJ1keu7X4ERdNF6z2lgUCRI5sIJQoklcQo+t93yHjTYtsCu4ceNhcDfPMe583wyTefMjQ44hQ6rbJLyJpmWzdNr+hXqlpytilQDJILbOTA+ZCtIBsxCCWCIP6nTFrrlJ5EQJ/ORhztEroD6v0hEFIUjJHmBD9oFQ6E8jqhs9VTiLqbm7La5AS1myLntyt4PldlXsVzxau8+M458QnI/NEHHOMMf+hHNB9mITH7TIVotfN2cXSODh1KstwZK0WwLkGzs8FKa6J67+OMDkcbsBu0wW4WyTNVLtdrokr0Xk/7i1kNPnVYnPlRfc3btu0kXYfOdw6tdDnhT8YwoAzaTp00wvuOpD3dw/Km2vKKCKm70mSYjB5ji3ytrFzSe31plJ2okxjjhNkPWp5Y4Tgnlphno2kF1H99Khsx7RexTy95kyHdfJtQH7rRKj1oTBkpWLG9YPyi2O4Kdsmbyw2L6pmU3bSMPcal8jhhwMeQHOVwdb17/+71n692V++uI/tvGzsdTHqnfyaxV6qv5aZWUolCFVUpy3Yr2kpUbOj7Qf20JHK+YfmGolWzfBuj9gy09VM2eVHX3weS5KWlsWjYi0pjmcPrXz5c/fbvcqiUGrAXVSNYXzebUhXltuaMq7KSZT/UPy+HlKl2BZyxMmcpZSeANxS2CDSsian7FniSvLActmVTlP/3HCbE/Yd/ua+DuzsgvP39/Vs484gw6P3i0AMHMSkozkF7EDBYY+zDhZ1A4T0aO8e1gB0gkBgftQ+0G3CUceExcjTti1QOfrV3d+ggRQS8NcKBcE4cPUlFWMFMxYM1StmHCVJOVzCKO4SFLqIGYgK6VQZH+zPmCAekT0ABmXajMPBm0gPC2TIHC7RlZx/1SAQitozBx4Wxnr06B6qiD6I32h+ebfZHkEtIzqmLcGLUCs7e4D2ZPP9iSpIM86+/6us4QdD3uIsr/Hz7F6qp0+w=', 'element_id': 'f8fb4f55-6cc0-4cbe-aa0b-f9a5c0830451', 'type': 'CompositeElement', 'chunk_size': 400, 'chunk_overlap': 0, 'document_id': 'f8fb4f55-6cc0-4cbe-aa0b-f9a5c0830451', 'passage_id': 55, 'rank': 2}, page_content='1. INTRODUCTION\\n\\n3. DESIGN\\n\\nThe MHRM (see figures 1 and 2) is a follow-on development of the existing release devices for Fokker Space solar arrays that, per holddown point, make use of an electrically heated Thermal Knife (upto approximately 900 °C) to establish release by cutting an aramid (Kevlar) holddown cable.'),\n",
       "  0.9896820951575215,\n",
       "  0.094820276),\n",
       " (Document(metadata={'data_source.url': 'gs://processing-pdfs/1999_christiansen_reocr.pdf', 'data_source.record_locator.protocol': 'gs', 'data_source.record_locator.remote_file_path': 'gs://processing-pdfs', 'file_directory': './document_processing', 'filename': '1999_christiansen_reocr.pdf', 'filetype': 'application/pdf', 'languages': ['eng'], 'last_modified': '2025-01-25T20:18:38', 'page_number': 1, 'orig_elements': 'eJx9VNtu2zgQ/RVCz44syTfJb/2BomjzFgTCiBxJBChSIKmkRtF/7yHtoN3Fbp8CzZw5l+E4Lz8KNrywjb1WxVUUQ3doxtPxQpJq1ZwqNZ65pa4+1+rUtl1X7ESxcCRFkYD/UUjnvNKWIof8bejmttjPrKc5otI0VYWZR/ldqzijWl9ydXXaxjT38lJ3bXnYie58LJvXnfj4rg/VuTylQtu05fE/CvcJFIpwC5GXlOKL/s7m20qSi59oJLN9cJvHd/LoWcJ0b5yk6Hwurd5FJ51J01NIKT0vLnI/asP9Stk1Otf9HlDJIWg7Pa1qDFlh8+b/+vu667pezl6HqMkGtr1nJ32J5t0dR5ZRO9tLQyH0mB9AVpXdqbq0AGQLSsM13N6STrlXTm752X6rFQ+opSXFLP6m+4DG25qhtK5GYxkwsX+0Ddlpoym/6kvBoH/N1RD7xSk9as730lTN6amqn5rTc1Nd6/Z6aNP0isnebsvAab11rvjfVzZSczxfLsOoDkdSw3Cq67odZTsciLrTpcp7ifw9HVDxjTGbvQm7xSBAJEiESFaRVwLXODsltsBKRCc87pkCi5BeX3oao1C8GnejwbCQblmdhZFQiucZKJ7SFlk9gRrAoCcrdBBBL6vhHVQ8pUMenX+H2E5ANEnAzhubm4DULalC/U6YaB6kd6czm+Rrgkv2AjwYj+imOG5EkMGZmGkBsIKMce//TBJn77ZpBnRhOZPFQxlB+WLQo5j8Rq+niT0GUUTIBYSl+BQCLwNsQgjsAj829iP2kkb+leKaEdlM4ps9kwIdRlzusJXGpR2nhNlu2gvbu9eEwCWuiLiC2BHUvz78g47krPkN0OGWYG8a/zEmsAhAJLynRGn1+AMybTUuNnJm/SPzx0Lu2ct0Zx8H/Jm8z2me09H8fP0F6Qug8g==', 'element_id': '003f5766-7572-4ae4-830d-00376cc16fcc', 'type': 'CompositeElement', 'chunk_size': 400, 'chunk_overlap': 0, 'document_id': '003f5766-7572-4ae4-830d-00376cc16fcc', 'passage_id': 2, 'rank': 3}, page_content='Separation nuts are a standard method used to release spacecraft deployable components. The segmented-nut design is simple, straightforward, and relatively easy to use. The nut segments are held together for retention of a bolt and then allowed to release through a mechanical action that is triggered on command. Assembly of the interface is relatively easy: the bolt is threaded into the enclosed'),\n",
       "  0.9854011733539743,\n",
       "  0.094820276),\n",
       " (Document(metadata={'data_source.url': 'gs://processing-pdfs/1999_christiansen_reocr.pdf', 'data_source.record_locator.protocol': 'gs', 'data_source.record_locator.remote_file_path': 'gs://processing-pdfs', 'file_directory': './document_processing', 'filename': '1999_christiansen_reocr.pdf', 'filetype': 'application/pdf', 'languages': ['eng'], 'last_modified': '2025-01-25T20:18:38', 'page_number': 2, 'orig_elements': 'eJx9U8tu2zAQ/JWFTi1gy5Js2ZJvvfTWB5DcgkBYkSuJKEUKJG3XDfLvXTJOk0Pbk8XZ2Z3Zhx+eMtI0kwmdktkRsmJXNENVtGVVblspkZph3wjcl4ddf+hxm60gmymgxIDMf8qEtU4qg4F8emu82lPoJlLjFBipqqLgnBt8UTJMjJaHhC5WmRDzHh7Kts3bFZT1oc6bxxX8AZq6yasINFWTl38DXlIYyfzVB5pjH9/VT9J3CwrKnjkQ7Xbenhy/o0tHgm132goM1iVocTZYYXXMHn3s09FsA3WD0tQtmHxz5LjZMFWQ98qM60UOPimcnP5XfMOttJ2YnPJBofFkOkdWuJyDL+4okAjKmk5o9L7j/J6LFXlbV9s9E5IFqdg1u71GnXwjrTilxb2pZTeqwTm2mf1P90YN1yVRcVm04mGwic0trNGMJxzTXh8y4vKPCfWhm61Ug6J0MVVR1euiXFf1fVUcy+a4bWL2wpmdOc09xfFWCXFvd9a0u7qhopX7fUHbeGy4a/e7qugrWRW4T3MJ9DOeUHZHZ3KoYWBtQJ6UGVfgaH3yhL0mEHZerOHiHgQa6Ak+oJEw4Zn4QeYjMFNCsMw0XCoAH70IjhvWQIbceI3BmcSEJoEX637k8Gm2ZoQwkSdg87Ao+mXXr7nvZFfAl2Id/3rL47dK8me04CdciAvPvDZAre0VPtx9+fTxXW4O34abxrs+mATKRBwG62awA1x4/9yTT2BPPArm9/Gvx0uLhIEwnBz5mMEkxUzeboxIOitBOXx+DUjyajSAL0XzCuY5yknFlxPIJe91EVEdR3BhVTFZvqAc7mP+VZGWPFKMWiJpHPItfKVLsMaDPccaXM4HNC/hMq+5XB5P4/XmvqJzbP5M93HPz4+/Ad1ufMs=', 'element_id': '85686b82-5dbb-43a9-a9ef-425ddef65927', 'type': 'CompositeElement', 'chunk_size': 400, 'chunk_overlap': 0, 'document_id': '85686b82-5dbb-43a9-a9ef-425ddef65927', 'passage_id': 18, 'rank': 4}, page_content='Several fast acting, re-useable components can be (and have been) used to convert electrical energy to mechanical work. Among these are piezo-electric components, motors, solenoids, and shape memory alloy (SMA) components. Of these components SMA in the form of wire has the best combination of features for this type of device. For this design a wire .2 mm in diameter and 50 mm long was chosen.'),\n",
       "  0.9539627948606473,\n",
       "  0.094820276),\n",
       " (Document(metadata={'data_source.url': 'gs://processing-pdfs/1999_cremers_reocr.pdf', 'data_source.record_locator.protocol': 'gs', 'data_source.record_locator.remote_file_path': 'gs://processing-pdfs', 'file_directory': './document_processing', 'filename': '1999_cremers_reocr.pdf', 'filetype': 'application/pdf', 'languages': ['eng'], 'last_modified': '2025-01-25T20:18:40', 'page_number': 1, 'orig_elements': 'eJzlVU2P2zYQ/SuETi3glUXq270WQQIkRZHubbEQKHIks6FIgaTiGEH/e4e03Swa55hLcuSb75n3pKfPGWhYwIRByexAslEI1knZilr0vKsZ0IK1FfCul+3UNSLbkWyBwCUPHP0/Z8JaJ5XhAXx6a362WxiOoOZjQISxosCYK3xSMhwRpW1CV6tMiHFPT11f5d2O0KJkef+8I1+ApsjbCNCKNnlzH0lBCGX+7AMscZI/1SfQf61cQPYPGmLDg7ebw3fs04HAxgdtBQ/WJWh1NlhhdYyefZzUwWIDDJPSMKw8dY6Ww36PrgK8V2Z+WOXkU4XN6W/Z97Tv+0FgOnB+cGCFyxG/NAYBRFDWDEJz7wcMHTFPkXcVYzU6pOpSYcPY6DmWyPfSii1d7Uuh7Opq+BInzL5R8uoVzmvy4uuqFa4A6++vZs3NvPE53fMpA8z8nFAfhsVKNSlITGEFqx8K+sDqR1YcaHeoihi9YuRgtmWEuFSaEPeCX1KOrahaKSRnkjWlKPua9w1vimkcJ5lWEuBTpE72eATy7vX7d0SCV7MhwhqvfPDETqQkC//bOoLZgz/EyreR/uDO4UAf4TGmwXz/57hgjHVdMwE0VJRVy0s+9qytm0q2/Ujr78bxvqjyKhG4zVkk8A1g9ZX0tKbI7bvIJegH43hfsv6npjjNSUCWvwfQRPBRA7lylfziAcik5s2BR7ZzI0n16+6mAdxGVAEjfNxCeiUhYDIeCHZDcNHLCpIEOwNWcGQ8E05Wh5fABNag6fezAVg4OeHiybgZqSEnUXPanuCirFjjv/6UJzwELo4pbcKPVktpT4aMjosPEH5L6Laut3g83keF8k34YjeTen2zf0UmFG8EJazantPoLy71UtBvcd43kfH3tNxNYzUVDe2g7gTUhZwaASWfatnIamy/q5YvQm3y6qblCJS0vCmX1env9DVyCfrRtEzxG/VTi5nld0WxI6ejEseoH2XIDAYc119JySMltVYB7lP/+V9ntxJA', 'element_id': '00c700a3-6a47-404f-979a-9b3e833e1459', 'type': 'CompositeElement', 'chunk_size': 400, 'chunk_overlap': 0, 'document_id': '00c700a3-6a47-404f-979a-9b3e833e1459', 'passage_id': 57, 'rank': 5}, page_content='The MHRM design consists of 3 major parts:\\n\\n1. the Reel cable element (see figures 3 and 4), consisting of 2 abutting parts that are clamped together by a pretensioned Dyneema wire bundle. The lower part of the Reel is attached to the holddown bracket; the upper part provides the mounting I/F for the deployable application\\n\\n2. the holddown bracket, which is in general attached to the satellite'),\n",
       "  0.930439743517412,\n",
       "  0.094820276),\n",
       " (Document(metadata={'data_source.url': 'gs://processing-pdfs/1999_christiansen_reocr.pdf', 'data_source.record_locator.protocol': 'gs', 'data_source.record_locator.remote_file_path': 'gs://processing-pdfs', 'file_directory': './document_processing', 'filename': '1999_christiansen_reocr.pdf', 'filetype': 'application/pdf', 'languages': ['eng'], 'last_modified': '2025-01-25T20:18:38', 'page_number': 2, 'orig_elements': 'eJztVMFu2zAM/RXB59axlNixcl4xFBu6AclOXWEoEh0LkC1DkptmRf99lJp0xZAN2KGXYjfzkZQeqfd8+5iBgR6G0GiVrUg2pyVXC5hLBkqBKOZSykKJqmx5WbIFzS5I1kMQSgSB9Y+ZtNYpPYgAPsVGHOwUmg70rguIMFYU2HOE91qFDlG6TOho9RBi3+3tfFnn7ILwiuX87oK8xLzIqxhXC5YXZ+JUj0DmDz5AH2f4qh/ArEchIXvCRKTaeDs5jCNDBxIpN8ZKEaxL0OhssNKa2L3zcUYHvQ3QtNpAM4rEGTOr2QxLJXivh93lqFqfbpic+VN+Rjnnjeyc9kGLwcPQOLDS5Zh8ZgcBZNB2aKQR3jfYv8XDirxmOBsWJApKI2tke4j35DNl5ZQe7ddt2bF0EH0cM/vbvcfScBhTqRhHo3EZSGJ2TBsx7CaxS296mwEef5dQH5reKt1qSGphBSsvC3rJyg0rVrRezevYPWJnM0z9FuJ6WRwzwENI+srJh6v19ccbcr1ef7tax/ITj40OJj3Z76KsRaF4VZScgoJabsu6Lsq2ZW0J7ZLV8s1EyQqalxeE4tV5GVV3Ahil+TICNavz5TngueU9CpMv6PvQZULcP/z7Xgt50wHZCq8lUeD1biBxP6hasheeBEukA5QfEZi+1xJI6EQg0k5GkSloo3/E3D24AzF2T2AAtzuQeJAwsd2hA4SPNfiFK7gHg5XC7QDrhSK2JddfPt2QfYcLI0Ip97xuvAfDrb0Hor2fwOckMsXYCWNOZKTtR3wBUMRDyhxHibgdcCN+9dqYN8K5xGEThz9jUDGvKK9bUEuxEC2vKgblUoGqCtUWW1q+mUEpL4/243kd7fcCLHlOn/1I88VZILW8R4PWfFHz/w59TMr/PuE/W6LaeyB9tEECVDSO7FDwA0LBE9SzDA5nMScvogl7kJ0YIvjaDZ9xMddRME93PwHmU/Go', 'element_id': '20dda9c0-e937-471e-9df7-7d437789204a', 'type': 'CompositeElement', 'chunk_size': 400, 'chunk_overlap': 0, 'document_id': '20dda9c0-e937-471e-9df7-7d437789204a', 'passage_id': 16, 'rank': 6}, page_content='3. DESIGN ISSUES\\n\\nThe basic design problem was to create a device that could utilize a very low energy signal to release a relatively large load of IOKN while addressing the above issues. The overall device comprised several basic components:\\n\\n{ The “prime mover” which converts electrical energy to mechanical'),\n",
       "  0.8757207094857559,\n",
       "  0.094820276),\n",
       " (Document(metadata={'data_source.url': 'gs://processing-pdfs/1999_cremers_reocr.pdf', 'data_source.record_locator.protocol': 'gs', 'data_source.record_locator.remote_file_path': 'gs://processing-pdfs', 'file_directory': './document_processing', 'filename': '1999_cremers_reocr.pdf', 'filetype': 'application/pdf', 'languages': ['eng'], 'last_modified': '2025-01-25T20:18:40', 'page_number': 1, 'orig_elements': 'eJzllk1v2zgQhv8KoVOLdWR+W/Rp08Ztuhs7QeJiD0Eg0NTYZiOLAkVvEhT735eibbRp0wV6yGHTm+adGc4M+Uji9ecMathAE0pbZWOUMVoRJrBm8UFxgyXGXC/lglSFHvElZAOUbSDoSgcd4z9nxjlf2UYH6JJd6we3DeUa7GodokIpxjFnL9/ZKqyjSkZJbZ1tQp93fc1JkReD6BB5cTNAB5tKtrMJLcSTwi4jKln30AXY9FNc2Huor1ptIPsnOvpmy85tfbT7Hj2Y2HRZO6OD80lqvQvOuLrPXnX9lB42LkC5tDWUrU5dR894OIyhBrrONqujtlp2qcLW1z/yD4lSqjRxOfBd6cEZn0d91xgEMMG6pjS17roypi7iOjgveCFpDEjVKxsbjo0+9CXyYeXMNp3Yl0LZPrTRm37C7Acl91HhoU1Rum1rG7cg1h/u3bVuVlu9Smd5nUFc+SapXSg3rrJLC4kSiqk4wuSIijnFY1KMOe6z25hZNtvNAvpNJf2EAe57CrLpx7P5h4uPlxfnVxN0en52cnL+1wwdz07Q5eRschzF6eTt6fHsw9UUvZqeXk5foz9ch97uZhigibe36L1z9hP4AXoPXvsK/QnxwH1f+TDS3IY6nfm3XHNWKUpAcG0oVtXIyKKgoMxSC8Ml08/GteQilwPEMMl5j+3BpjxXCWMseM6fElLGC+NaYsmK/zvXSfE/8c38+kV4525vwaN0iOjV3d1dvkxK1wt5U7/+GueZ9j7O8TfM++wnsF4auqBsIaRU2MCIVnyhCq0ZIQsltZTPhrWQIhcRUsZy1lN7sIXMR4liworE+XdCynhhWMefFea/NNYX5+iNu49fMTyKpFCGGTp5g87AVtAM0HwNaAZhDT52XHU/hbhSBTWKMiVhZDAlZKQxIYWqCJdCmOdDnAuVx38wixcOkW4kO5tTcriARKLVE8Iu44UhziQu2C+N+Dxy2a5dA2P0GyNoRJCgXDBSoOEjgeEovNP3j8OUQpOjjbb1GH3K9xuBfn/87Y95kK92l5xvXP/xytz8C1ZXoPQ=', 'element_id': '632195a8-d96c-4b73-8995-f92a23458682', 'type': 'CompositeElement', 'chunk_size': 400, 'chunk_overlap': 0, 'document_id': '632195a8-d96c-4b73-8995-f92a23458682', 'passage_id': 50, 'rank': 7}, page_content='MULTIPURPOSE HOLDDOWN AND RELEASE MECHANISM (MHRM) Jos Cremers, Erik Gooijer, Gerard Kester\\n\\nFokker Space (www.fokkerspace.nl)\\n\\nPO Box 32070, 2303 DB Leiden, The Netherlands\\n\\nTelephone: +31 71 5245318 / +31 71 5245330 / Fax: +31 71 5245399 E-mail: j.cremers @fokkerspace.nl / e.gooijer@fokkerspace.nl'),\n",
       "  0.8253880949578865,\n",
       "  0.094820276),\n",
       " (Document(metadata={'data_source.url': 'gs://processing-pdfs/1999_cremers_reocr.pdf', 'data_source.record_locator.protocol': 'gs', 'data_source.record_locator.remote_file_path': 'gs://processing-pdfs', 'file_directory': './document_processing', 'filename': '1999_cremers_reocr.pdf', 'filetype': 'application/pdf', 'languages': ['eng'], 'last_modified': '2025-01-25T20:18:40', 'page_number': 4, 'orig_elements': 'eJzlmFtv2zYUx78K4acOaBRexJtf+7JivQxt+hQUAkVSjjBKFCQ6rRfsu++Qtttgc7AWgx+SALYA/slDHoq/c3zo67uVD37wY2p6t1qjlaYSe6apY6610jmGRdsSYy1XqnXGrF6i1eCTcSYZGH+3sjHOrh9N8ktpB7OL29Tc+H5zk0ChFGOwOchfepduQCWyqFPsx5Ttrq8J1rQCTWFdic8v0XeBqUoXgVFekVNCMQFlteyW5Ie8j9/7rz58nIz1q7+gI7vbLHE7Qzt7OXsLbjchWpPiXKRpjinaGLL1Zsn7nP0Qk2+6PvhmMsVv6FlfXsJQ65elHzcXk+uWssJ2Dg/1XxKtdWNhOj8vzeyjnSvQ94755G3q49jYYJalAdMW5sGVYlpAf1nc9eAv+LnLK1SXLtptObLv66wOQ0cz5A2uHljxMCrtpjLKTFPo4Q3A8peH7mDGzdZsymFerzzM/LmoS2qG6Pqu9wUTiim/wOSC8iuK10Sta5ytJ7Bsxu3Q+vxO67zB5L9mDFa8Qq/ev3v15tPH1+/ffcyDj15c9SmUU/oni0RqwnTdEu+IFKIVlOBOYUmcdp1Q9GwsKq0rBVxJXNUZtENbM7pvk1qqSp4Q9hZPjURNFXnsKBZl/ok8d5/dqxuP4q2fTQjIxtGG7QJ+on5B6cYkeHj09tcPb5HzS78p+m1v2uCr+5i/M/MM+7v1V3nWE7hLwVoKYW8Zds5p7w3AbtpOK90a1rGz4a4xUAs0C7mn+djWsmL7PCt5zsT/ForFE8NdEMb0s8b99YiW7TCYeVfQnvzcxXkwo/UZbbOgLoYQvyzrn8LbYNzKrqtl57ChHRdeC0C81tJ4rHF7RrxJhpVgXFd4z/dBgPR9EPQDQjF5nIA/X37v7nP5aQQ3/SbO/Z/ePcQmd7Wru9Z0rcUepjbwVTUhNVOibl19PjYZrtgBtH3uPQqMHHItxTxn41NKMXqcdD6cfiV59HXv/6K3QWMcL6YdHIu3N2Nv0QywmsXfp/pNv6TX+chPwKw45p2jxDFBOimkJFo5C5nWU8Nrer6yWRNRiUKqqHiB+ShocaiTOVH5xnZKKUZPDGZFcP28ab4b4IWgPtfMgNgGQSkNpURAv41QKixrBM7P8Ws/AHxhB2+Moj82Pwo65dhZapTqbMspZVRQ1QrTSasMM+y8BTPc9giBQoIeK+YiCFKpPdaUVfq0UoyeGugM7gTPGvQXyI+3PsTJrxFT6MUeql9Qu0Mc5yfQiobh5YOxgMzoEABu0wybDOhLP8Og6keDgZhW16yWklKiOBHCiM5iQVphvedMnPXPEl5Il/tgOAqUHq+LnPKKnlT2Rk8tGDDn7FkHwx1q0NIPU4Ab47gkE0JxFMUO3fM7R0UbQ8qxkCJ8pjzgg/fhR6H3vDYm537HmZRtLXVLeactp9LWHebn+wWgdbkg0m83xoPAGD8ITJ8W9iaPE/nnS3QDRDf/ca/8/Dc1feUi', 'element_id': 'bd4244ff-ccf8-44a3-92f9-cafc010e9ce8', 'type': 'CompositeElement', 'chunk_size': 400, 'chunk_overlap': 0, 'document_id': 'bd4244ff-ccf8-44a3-92f9-cafc010e9ce8', 'passage_id': 89, 'rank': 8}, page_content='5. CONCLUSIONS\\n\\nThe overall conclusion is that the MHRM design is viable.\\n\\nIn summary the performance is as follows:\\n\\n{\\n\\n_ non-pyrotechnic release\\n\\n{mass including Thermal Knives: approximately 0.2 kg\\n\\n( envelope: 38 (height) by 50 by 250 mm, including Thermal Knives and electrical wiring.\\n\\n{ _ simple installation of application by bolting to top of Reel\\n\\n_ _ _'),\n",
       "  0.8243400107271951,\n",
       "  0.094820276),\n",
       " (Document(metadata={'data_source.url': 'gs://processing-pdfs/1999_christiansen_reocr.pdf', 'data_source.record_locator.protocol': 'gs', 'data_source.record_locator.remote_file_path': 'gs://processing-pdfs', 'file_directory': './document_processing', 'filename': '1999_christiansen_reocr.pdf', 'filetype': 'application/pdf', 'languages': ['eng'], 'last_modified': '2025-01-25T20:18:38', 'page_number': 3, 'orig_elements': 'eJx9U8tu2zAQ/BVC1zoyqYct+dp7UaC5OYFAkSuJAEUqfCQxgvx7l7TbFH1dBHB2Z2eGS53fCtCwggmDksWJFH3fiFoeuo43R047dmD9KA8Vo8ChObZtsSPFCoFLHjj2vxXCWieV4QF8Pmt+sTEMC6h5CYhUFaXIucEvSoYFUXbM6GaVCYl3PvfsULIdYXVzLOvHHfkJtH1bVglgLZboX5ErCaHCX3yANSX5ql5Bf9u4gOIdC8nw4G10eE4+HQg0PmgreLAuQ5uzwQqrE3v2KamD1QYYJqVh2Hh2jpXTfo+tArxXZr7b5OSzQnT6X/U96/t+EItTPihuPJjBgRWuxOLVHQQQQVkzCM29H5A/4jBa9i3tjtiQLUiFrtHtJemUe2lFzKv7UCturYavKWbxP91ba7hsuZVvm1Z4GWhifytrbubI57zZcwE4/jGjPgyrlWpSkN9MRav2jrK7qr2v6Il1p7pL7A2Zg4nrCOl664y4j5dGgXLRsEqOYyWPHa2ho6PsxuZAZd1PIt9LgNf0iIr7BQjudQPHQ3RAHDrDL2wOMFQASZQhYVGeTGrODT9KHmEgIrokrS/kKXKdnf86z5fkNwVPxGKRTybrroM9OIWwnbDN49gXQJmRe5xkDZnBIFOj7lPELa1ZmRtJMDIZENZ4s8+ABoTFPbjnfLzK3szdQkmLKsaGjwg5wRS1JoJvfFRahUv2gbAEr2azy1KrMmj2iiD7WXncJQaxUaMPre1LTsPJ7AD/V0dsTotNaPzP20WFh1hR1hzah0jpSD+TYMmnnl5PZdrxj8fzhTuXE92nhb0/fgdyEnAq', 'element_id': 'a0873e59-307e-42a9-ae7b-605a9c3463f2', 'type': 'CompositeElement', 'chunk_size': 400, 'chunk_overlap': 0, 'document_id': 'a0873e59-307e-42a9-ae7b-605a9c3463f2', 'passage_id': 43, 'rank': 9}, page_content='The temperature range represented in this figure represents the currently qualified temperatures. The temperatures chosen for this series of tests were based on general requirements and are _ relatively conservative. The current range does not represent the full capability of the design, and minor design revisions could allow for a greater operational temperature range of —65°C to +90°.'),\n",
       "  0.8138631253818148,\n",
       "  0.094820276),\n",
       " (Document(metadata={'data_source.url': 'gs://processing-pdfs/1999_christiansen_reocr.pdf', 'data_source.record_locator.protocol': 'gs', 'data_source.record_locator.remote_file_path': 'gs://processing-pdfs', 'file_directory': './document_processing', 'filename': '1999_christiansen_reocr.pdf', 'filetype': 'application/pdf', 'languages': ['eng'], 'last_modified': '2025-01-25T20:18:38', 'page_number': 1, 'orig_elements': 'eJzdVctOGzEU/RVrVq0UJvN+ZBfooiyACtJVhEaOfWdiyTMebA8Qof57r51QWpRW6oJNluc+z33Z65cAJPQw2EbwYEGCmtUsjzJOiyxP87RIi7zmZRLXBeR5HsfBjAQ9WMqppWj/EjClNBcDtWA8lnSnJttsQXRbi5IkiSL0OYifBLdblMall45KDNb5rddZWoTVjGCOsLyfkV+4zMLC4bzKw/gI9vYoCMzOWOhdDd/EM8i7kTIIfqDCUW2MmjRix1ADQ8qNVIxapb1o1MoqpqTz7oyrUUOvLDStkNCM1HNGzWI+R1MGxoihOxt5a3yGScu/6edxXdcN22phrKCDgaHRoJgOUblnBxaYFWpomKTGNOi/wWBRWBVRlqGBp8AFska2O5cnnHPFJj+0t2zBwXSgvSsz+Ffeg6ndjd6UjqMU2AwkMT+oJR26iXZ+pusAMPy9lxrb9IqLVoDfliRK8rMoPkvyVRIt4mqRVs57RM9mmPoNuPbGrkwLz24bguX53ep2ebFyZq/5V8JKP6r3y9hGVVTGbVonURZFVRzDpgZepG1d0jKH5MOWMa7LsJ6RIk72y3bAVVKFqcNVUrrle4/39qe4jDWefnwSy+gl+j8evD+2l2jcUGqA9MC2dBCmJxuEnKiBUGKgc41AOEyW0IGj7G5LRyBXOEG9I0sp1Y58urtafiZP2EViteg60OSJGsLBiG5AZ+f4MFHpK3uL38EAmkqk8DChr8tkSKs0sVsgK+TlAjCCU+g07UNyTh3cRyXCmAnMgRPKmBaj6zFRrffn8CgYEOwMBgDjqwjJV7wb6W7HeDswFrObSdp9JJwZjkoSNSIxF82zM6PCER8JzIVhk8Fqwt+v/5pq5/wIK9fkY68ATbKiLDctTzPKNxu3ilXLqk1KaZ2X0Ye9AmlZuKuvo3T/Jb3iJN9ffZGlYXEEe/tTfAWqMipO70uKQ3J5vbq9+fL9YnV5c33kZ7r/CVr+6ak=', 'element_id': '34c54e45-f322-447d-8e88-429de9fd4eff', 'type': 'CompositeElement', 'chunk_size': 400, 'chunk_overlap': 0, 'document_id': '34c54e45-f322-447d-8e88-429de9fd4eff', 'passage_id': 1, 'rank': 10}, page_content='ABSTRACT\\n\\nA release mechanism based on a segmented nut and a Shape Memory Alloy (SMA) wire trigger was designed and qualified based on general requirements for the Teledesic program. Basic design issues and a description of the device are presented. Highlights of test results and typical operational response of the device are discussed.\\n\\n1. INTRODUCTION'),\n",
       "  0.8035284353637993,\n",
       "  0.094820276),\n",
       " (Document(metadata={'data_source.url': 'gs://processing-pdfs/1999_christiansen_reocr.pdf', 'data_source.record_locator.protocol': 'gs', 'data_source.record_locator.remote_file_path': 'gs://processing-pdfs', 'file_directory': './document_processing', 'filename': '1999_christiansen_reocr.pdf', 'filetype': 'application/pdf', 'languages': ['eng'], 'last_modified': '2025-01-25T20:18:38', 'page_number': 1, 'orig_elements': 'eJztmF1v2zYUhv8KoWtb5qdI+mqem27BACeIXWBDEAgUScUCZNGQ6LZB0f8+knLWrPOK5sI3Ri7PS77iIfmIOOT9l8y2dmc7XzYmm4OM1rUymFeKW2NrKguEkRKUW1woAkmVTUC2s14Z5VXo/yXTzvWm6ZS3Q4pb9eQOvtza5nHrg4IxhMFzlD81xm+DinhS967pfPTd31Mu8iChgufiYQL+iSXKaYwRLlhOTwnJEZRseBq83cVZ3DafbbveK22zr6EhJlsO7tCHOObYWx2SLlunlXd9kva98067NrofhzjL3u6ct2XdtLbcq5R1aJnPZqGrtsPQdI/TvamHNMKhb/+vfYaklKXe9s3gG9UNtit763Sfh8YxO+ut9o3rSt2qYSiDvwofgzlnmBehQ0rBNCHrkO1THCefGacPadu+jZYdu3ZqF6eZ/WjcY1f/tE9d1X7fNmExQhKzY3OruseDeky7ep/Z8PmHpA6+3DnT1I1NvGCI2RSiKWYbDOdIzImI7n1wlt1hV9m4vChO09vPkYfs/WK9AYvl5nr1G1jdrKa3f93dbK6Wv6+ulwDBP1ZgfXW7uFtsrm9WYPVhE7/2nOam8W3a0e+prSpWBCSZqqWh2EqpKmRFIIRrxglEZ6OWBUr5BGACR2qfY8byIkGKmMzFKSE5LpJaKoS4OGrX2nkPli/ymoBR2zRV1Xg/TMA79bEx4J37ZLufopZqJaqKitpSIQUVVLNaiboWWGBZQX02ajnkOQ4MSjIepceYoABvghQSlqMTwui4RGoLVAh+EdQmpX/F2fgvzL3qw9aCOztY1estWLp+7/qU7UumV6qP4ke7icZTJ7ISkFNUGYKM1NZyxRBSlQ7ZGFrx89URPDAbjh+CeQ4T28eYwWPZADFNbP9HSI5LZJtALNkb21RCCVbq4Jv2MASwD70HK9eHHXkN2IZaziomFJYYWslooSwXShOriDRcnA9szGJBTBgfK4nnWOARdAQROS0kxyWCHfaZkDewf3WH1th+ApY3QEAGw5J8WC9eRbWNRzNCGNMCKR1uetIQaiuIBbWsQPB8BXSoKOLhK8NupgJ6jGlAF4/1MhV5cUIYHZdJNYP0jepNIHS/dZ2dAwLJlBE4RRIzMAPvF39+0zAdr3c/jTrENVEmvnAwW4UiRXEdILfGMCWFqYrzvXAUJFYiFOMcpReOY0xZLscHDY5zckpIjktEnXBavFUm2dV0p5p2DoZ4odS/DGMRnmu3C7Qn8ek70cRLpnkp/uAfePgbFME4mA==', 'element_id': 'eeea4858-ee8f-42a1-b269-391fd9b21120', 'type': 'CompositeElement', 'chunk_size': 400, 'chunk_overlap': 0, 'document_id': 'eeea4858-ee8f-42a1-b269-391fd9b21120', 'passage_id': 0, 'rank': 11}, page_content='FAST ACTING NON-PYROTECHNIC 10KN SEPARATION NUT\\n\\nScott Christiansen, Scott Tibbitts, David Dowen\\n\\nStarsys Research Corporation\\n\\n4909 Nautilus Court North\\n\\nBoulder, CO 80503, USA\\n\\nTelephone: 303-530-1925 / FAX: 303-530-2401\\n\\nE-mail: scottc@starsys.com / scotty@starsys.com / dowend@starsys.com'),\n",
       "  0.7948883460334779,\n",
       "  0.094820276),\n",
       " (Document(metadata={'data_source.url': 'gs://processing-pdfs/1999_cremers_reocr.pdf', 'data_source.record_locator.protocol': 'gs', 'data_source.record_locator.remote_file_path': 'gs://processing-pdfs', 'file_directory': './document_processing', 'filename': '1999_cremers_reocr.pdf', 'filetype': 'application/pdf', 'languages': ['eng'], 'last_modified': '2025-01-25T20:18:40', 'page_number': 2, 'orig_elements': 'eJzdU8Fq3DAQ/RXhUwsbryV7bXmvpaVQUkqa2xKMVpr1CmTJSHKSJeTfO9Ju2tI2x15ysZmn92beyM+7pwIMTGDjoFWxJcW+7lULinW1oJQqUbWil71sW8kbymlbrEgxQRRKRIH8p0I655W2IkLItREnt8ThCHo8RkQYqyrUXOAHreIRUdpldHbaxqTb7bB52axIu2lLfrciP2vOyy7V3aYru3/UmY9AEU4hwpR2+KYfwXyfhYTiGQ+S1SG4xWOdHHqQaHkwTorofIZm76KTziT1GNKOHiYXYThoA8Mssmc82a7XSJUQgrbj1awOIU9YvHntfE37vh8ktgMfBg9O+hLxszGIIKN2dpBGhDCgdI99qpK3dceRkKcrjYbR6CmNKNfKySV/r1+DigvViiltWLwy8sKKpzmzxDwbjVeA89eXYyPsuIgxf8ldAdj5LqMhDpNT+qAhZ4RVbHNV0Su2uWXVlvJtUyX1jMrBLtMe0qWytGGEx5SB4pMeFw+EleT68801EVYRj7kTARRZ5hk8uQEwZBY+pk4vFs+yD2JOJtOV/ZlWjGQHnDEJVdPvpWgaKjpRN/uaMlk1/zOtVdmvSFfzkp7Tmmte03N6O96U/O/6zH9jae1Z1zRvKa23RyBKo+2A0wJxBxIR+WhHbQE8rkCuncK4Cox0zcm7c3rek/2JbKr0ZPiaphXRVppFJQG29JMw5IvV9xDyD4BJltHjToY86NS1/D36X4X3uO093CZTz3c/AIMyySw=', 'element_id': 'ad0dd6b8-05eb-4b89-997a-d9606ad2766a', 'type': 'CompositeElement', 'chunk_size': 400, 'chunk_overlap': 0, 'document_id': 'ad0dd6b8-05eb-4b89-997a-d9606ad2766a', 'passage_id': 61, 'rank': 12}, page_content='Figure 2. MHRM and released upper Reel part\\n\\nThe dimensions of the Engineering Model are 38 (height) by 50 by 250 mm, including Thermal Knives and electrical wiring.'),\n",
       "  0.7920013596630405,\n",
       "  0.094820276),\n",
       " (Document(metadata={'data_source.url': 'gs://processing-pdfs/1999_cremers_reocr.pdf', 'data_source.record_locator.protocol': 'gs', 'data_source.record_locator.remote_file_path': 'gs://processing-pdfs', 'file_directory': './document_processing', 'filename': '1999_cremers_reocr.pdf', 'filetype': 'application/pdf', 'languages': ['eng'], 'last_modified': '2025-01-25T20:18:40', 'page_number': 3, 'orig_elements': 'eJztU01vnDAQ/SsjzglrWFggt6iX9tCqanKLIjTYw2LVYGqbbFZR/3vH7EZRE6W3XqqeYN58vRnPu3tKyNBIU2i1Sq4gwV7ksq6bAhV1SvRlU2V9R0WptqIruyy5gGSkgAoDcvxTIq11Sk8YyK+2waNdQjuQ3g+BkTwXgnPO8EGrMDCaVSs6Wz2FmHd3l9UiLS9gV2/T7f0FPNu1KNIy2vFn99Y+xTOQ+KMPNMYZvupHMjczSkp+siNSbb1dHNuRoSPJlFtjJQbrVmh2NlhpTcze+zijo9EGanttqJ1x5cyeq82GQyV5r6f95ax6v3ZYnHnPv8mapmkllyPnW0dWupTxEzEKJIO2UysNet9yasd1RNpss5JnS9buSjNhJnqMLdKNsnJZ3+ulUXIOnXCMEybvtDxHheO8RuE8G80r4P6bs9vgtF9wv77kXUJc+X5FfWhHq3Svab2RXOTlpcgu8/I2F1dZfVWImD1zZjstY0dxqdsVcS+X1Sja5U1XlrWkSqmcKmp4TJULyiuVFetKAj3Go0luB4IOPcFs+LJgQA85fC7hIzFnqw0ceCugJ08ueOitAwwB5RA3A7aHwPnfiAzgpNgFmqP41SfeCBTQWRMGa+hNZrCAcLP5AF4rOqCJfcIQG8cUfwHM40AM83fkJD2RAm/ldzqz4L5uRE5Dz38+jXt5XvgXdI7X/UC3cUie9rX2SMlSNEVelZkUjerLDHGb818jt6LZ4t/TXtWk/F51kaXNqr2T3eyKVES7qouoxdf2Kf5f015e7ar/2nMYjxp0vHNF0Ds7go/Perl3Ebg2y6gnvYzAKrHHFD6twdLyMaqTaq4N854IMhHv7TBoOQAv7oGl5YFr/FiitNHMA25o9trYKfpnlrSm37WGXHhSi4zqAb+4nolEsc6OHqJufeBdSjAWueP+T6q7/wUU6Dpv', 'element_id': '0ae9267b-4a01-47c2-8073-f702c5a9288a', 'type': 'CompositeElement', 'chunk_size': 400, 'chunk_overlap': 0, 'document_id': '0ae9267b-4a01-47c2-8073-f702c5a9288a', 'passage_id': 72, 'rank': 13}, page_content='The base plate has 2 M5 Helicoil wire inserts for attachment of the Reel and at its corners 4 boltholes for attachment to a S/C sidewall with M5 bolts, as well as machined sockets for thermal washers.\\n\\nThe bracket is made from space-grade Aluminium alloy. It is coated with Alodine 1000, which provides adequate alpha/epsilon properties, as well as a conductive surface to prevent static loading.'),\n",
       "  0.7809669256732005,\n",
       "  0.094820276),\n",
       " (Document(metadata={'data_source.url': 'gs://processing-pdfs/1999_christiansen_reocr.pdf', 'data_source.record_locator.protocol': 'gs', 'data_source.record_locator.remote_file_path': 'gs://processing-pdfs', 'file_directory': './document_processing', 'filename': '1999_christiansen_reocr.pdf', 'filetype': 'application/pdf', 'languages': ['eng'], 'last_modified': '2025-01-25T20:18:38', 'page_number': 3, 'orig_elements': 'eJztVk1v3DYQ/SuETj3YWor6IOWbgTpFADdt7W0vjiFQ5GiXqFZSSSrOwuh/75BaOwa8KZCDLwsf3/CRnCHfI+fuMYEedjD4xujkgiSKAVTAOKvyTokKqg64EFwLyTjITCZnJNmBl1p6ifzHRI2j1WaQHlzEvdyPs2+2YDZbjxHGKMU5h/CD0X6L0YzH6DSawYd5d3eM5ml2RspCpNX9GXnGvEyLgKsiT/MjOPIxkLi987ALNfxuvkJ/O0kFyb84EFJt3DhbxCFDCwpTbvpRST/aGJrs6Ec19mH2xoUaLexGD01nemgmGXPGkYvVCqkKnDPD5nzSnYs7zLb/3vgqq+u6UVtrnDdycDA0FkZlUxxcsgMPyptxaFQvnWtwfouL0VQUGeNIiClog1ljtvuwT7rSo5rjpX3bLTlQB7kLZSb/t++B6vdTpMpp6g0eBiaxOgz3ctjMchPv9C4BXP4+Rp1vdqM2nYGoFkZZeU6zc1auGb3IxEUuwuwJZzbDvGshHG8eyvTwNaghKVLy219XN5fX1+Tnq9uPv3wiH64u13/eXN2GiU8ZrY3v4+W9kifVZceVKiXlgnVU8jwri1rorKhVp8UbyjNLxRmpsiylizwjRt4iR8F4Wr/GC/8U5VkzQfOTkGeM2B94Al/q+YPZzBZITowjkkxbvKiNldOWjB3xWyB/PPw9zJ7IQUfYjr0nFryV4bhWWJXagiVmiKNqHLqwXqwVI9KTrXSkBRjIP7PsY2HpS6N8kjawv8A65HPEMLpmnHaUo15brKFSTFW6lJpjWHdl/oaGKcL7zHORssUwC66qBVclTasjOPJP0TCC1rR4N8wadb4DtZWDcTu0Qg/SAXFGR/k7LM+hdy5+SOSMdVDIHFpe5rrMZS46AF6rTFesLpV6M5FndRlFy9nyKxywyPFzWH4BfP5f44V/kiKvKS3fRf5Ibn+9JA9YP/HWbDZgHfk84xtcxHf+m/7x1zgQQJN2j37Q86Dl4J8XwG/FEQ1OWdMiR7bjF3hpjms8q49BQ0d8USuZKco7UeSCMl5UslUtxRaKZwUFyN7OF4KH7kjk1dLMP+GaP/mgTvkRHPkn6QtRsvrdFz+Rm9FLu39+9/vQAD1ZI3wNz3bBS0QZRrssJGl3xI/YKhk8AxxBBWLnhI0ULFws+Lgv7v8D4aG1EQ==', 'element_id': 'bf743fb2-3f57-4f8e-9159-9dede523d34c', 'type': 'CompositeElement', 'chunk_size': 400, 'chunk_overlap': 0, 'document_id': 'bf743fb2-3f57-4f8e-9159-9dede523d34c', 'passage_id': 32, 'rank': 14}, page_content='4. OVERALL DESIGN FEATURES\\n\\nFigure 3 is a photograph of the Qwknut and the bolt retractor/catcher in the configuration that has been qualified.\\n\\nThe mechanism release side consists of:\\n\\n{ SMA wire triggers — the mechanism is triggered by redundant SMA wires as described above\\n\\n( Rotary release latch — The triggers rotate the latch arm to initiate outer race rotation'),\n",
       "  0.7763445563824896,\n",
       "  0.094820276),\n",
       " (Document(metadata={'data_source.url': 'gs://processing-pdfs/1999_christiansen_reocr.pdf', 'data_source.record_locator.protocol': 'gs', 'data_source.record_locator.remote_file_path': 'gs://processing-pdfs', 'file_directory': './document_processing', 'filename': '1999_christiansen_reocr.pdf', 'filetype': 'application/pdf', 'languages': ['eng'], 'last_modified': '2025-01-25T20:18:38', 'page_number': 3, 'orig_elements': 'eJyNVF1v2zAM/CuCnxPHH3Fm523AnocBK7CHoDBomY4FyJInyUmDov99pJI2xdAVe/TpjjwemRyeE9Q4oQmt6pO9SOpS9ruqyhuQIPuuzxG3Mtt20GCdlzUkK5FMGKCHAMR/TqS1rlcGAvr4reFil9COqI5jIKQosow0N/is+jASmn+J6GyVCaw7HPKmSauVyKsiS7ePK/EGNLs8LRmoi126+wi4SghJ/MUHnHiOH+oJ9c8ZJCYv9MB2W28XR9/s0qEk2622EoJ1EZqdDVZazeqj5zkdTjZgOyiN7QzRN73sNxuiSvRemeN67gcfOyxO/+t9Q6M0rRyd8kGB8Whah1a6lB6v7jCgDMqaVmrwviV9R8WytNnWRU2EaKFX5JrcXrhPuumtXOLi7t2SG9XAxGMmn/W9UcNljlSYZ60oDDKxuT1rMMcFjnGvhwSp/GNEfWgn26tBYbyYIiuqdZavi+qhyPZ5vS9rVs+kbM0ydcjxlhFx9zsrS1pjXWTltqvLgYzmzSCHeujyLVa7qom5BHziE0q+LY6mE2FE0eMJtZ15cAGmF78X0GTl6lzYIZIc3TR4FBPKEYzy00qA0OCOKK6OmDgsJmYOOhZCc1LOGi5MCF1z8OKMDsWMbrBuwj4VX/9qxyzh0SkkLvg7VUhrPKdOrtnTZSaJFp7vUToYwoft2Ab9HtB5KuSpyjuLV0awYrJG0RG89gIjMRW3gN6HwwLGvJoUjf4f8wnQlgRnFUaK6x7UW2s6Tbqze6rvPUTzJ4piuAjC6CAjMlHoyvhYVJm4nDd5Kn6NdIFidujZVYyURb3ycqGDvi4UtH7d6+fLj9ugWovmLGmyDi+WWKz00s54LaNoT0DOVxTN0US5uevCCPyh6f+MR2ZtB15JQXoHt2VImKFTWgVe/GC1tueUb/71x/QdHHNP+MAH/PL4B+Lx2qE=', 'element_id': '8431db0a-6941-45ec-8be8-c0f721424c3e', 'type': 'CompositeElement', 'chunk_size': 400, 'chunk_overlap': 0, 'document_id': '8431db0a-6941-45ec-8be8-c0f721424c3e', 'passage_id': 35, 'rank': 15}, page_content='During the development and qualification of the release mechanism, a large number of functional and environmental tests were performed. A qualification test series was performed consisting of typical spacecraft environmental tests and interspersed functional tests to monitor performance. During development testing similar environmental tests were performed along with a number of tests to assess'),\n",
       "  0.7684705858626188,\n",
       "  0.094820276),\n",
       " (Document(metadata={'data_source.url': 'gs://processing-pdfs/1999_christiansen_reocr.pdf', 'data_source.record_locator.protocol': 'gs', 'data_source.record_locator.remote_file_path': 'gs://processing-pdfs', 'file_directory': './document_processing', 'filename': '1999_christiansen_reocr.pdf', 'filetype': 'application/pdf', 'languages': ['eng'], 'last_modified': '2025-01-25T20:18:38', 'page_number': 3, 'orig_elements': 'eJyNVF1v2zAM/CuCnxPHH3Fm523AnocBK7CHoDBomY4FyJInyUmDov99pJI2xdAVe/TpjjwemRyeE9Q4oQmt6pO9SOpS9ruqyhuQIPuuzxG3Mtt20GCdlzUkK5FMGKCHAMR/TqS1rlcGAvr4reFil9COqI5jIKQosow0N/is+jASmn+J6GyVCaw7HPKmSauVyKsiS7ePK/EGNLs8LRmoi126+wi4SghJ/MUHnHiOH+oJ9c8ZJCYv9MB2W28XR9/s0qEk2622EoJ1EZqdDVZazeqj5zkdTjZgOyiN7QzRN73sNxuiSvRemeN67gcfOyxO/+t9Q6M0rRyd8kGB8Whah1a6lB6v7jCgDMqaVmrwviV9R8WytNnWRU2EaKFX5JrcXrhPuumtXOLi7t2SG9XAxGMmn/W9UcNljlSYZ60oDDKxuT1rMMcFjnGvhwSp/GNEfWgn26tBYbyYIiuqdZavi+qhyPZ5vS9rVs+kbM0ydcjxlhFx9zsrS1pjXWTltqvLgYzmzSCHeujyLVa7qom5BHziE0q+LY6mE2FE0eMJtZ15cAGmF78X0GTl6lzYIZIc3TR4FBPKEYzy00qA0OCOKK6OmDgsJmYOOhZCc1LOGi5MCF1z8OKMDsWMbrBuwj4VX/9qxyzh0SkkLvg7VUhrPKdOrtnTZSaJFp7vUToYwoft2Ab9HtB5KuSpyjuLV0awYrJG0RG89gIjMRW3gN6HwwLGvJoUjf4f8wnQlgRnFUaK6x7UW2s6Tbqze6rvPUTzJ4piuAjC6CAjMlHoyvhYVJm4nDd5Kn6NdIFidujZVYyURb3ycqGDvi4UtH7d6+fLj9ugWovmLGmyDi+WWKz00s54LaNoT0DOVxTN0US5uevCCPyh6f+MR2ZtB15JQXoHt2VImKFTWgVe/GC1tueUb/71x/QdHHNP+MAH/PL4B+Lx2qE=', 'is_continuation': True, 'element_id': '2eae5b7c-70df-4c5c-a448-301a8dee3562', 'type': 'CompositeElement', 'chunk_size': 400, 'chunk_overlap': 0, 'document_id': '2eae5b7c-70df-4c5c-a448-301a8dee3562', 'passage_id': 36, 'rank': 16}, page_content='mechanism performance and verify forces and margins within the mechanism. While presentation and discussion of all of the development and qualification test results are beyond the scope of this paper, significant results that relate to the basic operational capabilities follow.'),\n",
       "  0.7588790387493755,\n",
       "  0.094820276),\n",
       " (Document(metadata={'data_source.url': 'gs://processing-pdfs/1999_cremers_reocr.pdf', 'data_source.record_locator.protocol': 'gs', 'data_source.record_locator.remote_file_path': 'gs://processing-pdfs', 'file_directory': './document_processing', 'filename': '1999_cremers_reocr.pdf', 'filetype': 'application/pdf', 'languages': ['eng'], 'last_modified': '2025-01-25T20:18:40', 'page_number': 1, 'orig_elements': 'eJzdV01v3DYQ/SuEzrZWIkVKdI9p0hqpXcM10INhCPwY7gqVRFWi7CyC/veOqHXjphsUOfjgPepxHmc4evNE3X9OoIUO+lA3NrkgSeVAWcuAs6zUUjijhKOMg8udA2Gy5IwkHQRlVVAY/zkx3o+26VWAKT63au/nUO+g2e4CIpRmGXIO8FNjww7RvIzo4Js+LLz7e0aLlJ3hQpmn1cMZ+QJItgKCV2l+FIgURJJpPwXolnPcNJ+g/W1QBpK/cGEpt578POLzUuUIBsuuW29U8GOEhtEHb3y7sLfTcs4ROh+gdk0L9aBi3bhysdlgqIFpavrt+WDdFDPMY/ut9U0upawNbgfjVI/gzZgivhYGAUxofF+bVk1TjVSN+2RpxQXjGBCz2wYLxkL3S4p0Y72Z4zv7kig5hPaqW06YfCPlISrshxilhqFtsAWYf3NYblW/ndU2vs37BHDnh4hOoe68bVwDUSc0o/w8y88pv6PZRV5dFFEaAzLrfu40LE3NlxMG+BQiIyW//3r78fL6J3Jze3n97vLml/cL5bmWuya08WV9LcmyVFYzxyTlLmcZlSUVKIIyozp3hstXk2Re0bRAfVWsSOkiuGdA8jwtF6DKqlQcA1bKqUlS8EK8dUlGZPwOw3up4bsdEKN0C+Qg0TOynM6SgAu3AO0ZMb6fmilMxDtCidJzCNgLgjkRCzsVCGYn2NluWHh+C8gdid4TRYYRW4903+PSj/seoFPkCRtN9NzbFn6IeSKXtF5ZYqFtHrGdER/hzxljLdn51lr/1MeY9OWMXatxxNY+wt1yoCOzJhl1mQJrqZVOGiuyggMzRppKFbx4vVmTWZai3eVFKVK5TNIzIHl2GD7OeJodRVbSiU2bpFLmb33aXg7PSyFedhh3TIBCgIXCcAsUZCEKXbCcUW0zqbUTwrye2ZdytXKRH9S1AjRDuWWrt5dpeQQ4UE5MfhXL5Js3+6+9u/VP6LWLUUdDJs1EVAjK7KIVRxf9xzz1qMwfgA7/tGvMjkzzMPjVw4HgXmOnWvKxRy+dVlvG9X/tjb15bCyshM7PffwOXG4+EOfHCFoYWr9fPiff5dFCl1bbgjMNyjnlSsElEwWvmAEmS/2KHs3jfVsKnvLVow+ALNM8zgwrxOrR/0Ui6cSGpKwElac0JB+a7YzXjTwlVz/fXpH3/bbBW8i4KPfK423jpVDX2HdqWCo7JlQLzvHK8FwzXRqttLW2EJUwpXEOwVf08iqlqDlRrj+Kh2fB0NFX45bHntf4E5MofkSrt/4fSf/nGvHwN8qYSo8=', 'element_id': '8a31180b-f4ca-45bd-9286-fd9f96b0e296', 'type': 'CompositeElement', 'chunk_size': 400, 'chunk_overlap': 0, 'document_id': '8a31180b-f4ca-45bd-9286-fd9f96b0e296', 'passage_id': 60, 'rank': 17}, page_content='2. WORKING PRINCIPLE\\n\\nThe cable element, named the Reel, consists of 2 abutting parts that are clamped together by a pretensioned Dyneema wire bundle; the clamp load delivers the required holddown load.\\n\\nThe lower Reel part is attached to the holddown bracket, which supports the Thermal Knives; the upper Reel part provides the mounting I/F for the deployable\\n\\nFigure 1. MHRM Engineering Model'),\n",
       "  0.7502307163861862,\n",
       "  0.094820276),\n",
       " (Document(metadata={'data_source.url': 'gs://processing-pdfs/1999_christiansen_reocr.pdf', 'data_source.record_locator.protocol': 'gs', 'data_source.record_locator.remote_file_path': 'gs://processing-pdfs', 'file_directory': './document_processing', 'filename': '1999_christiansen_reocr.pdf', 'filetype': 'application/pdf', 'languages': ['eng'], 'last_modified': '2025-01-25T20:18:38', 'page_number': 3, 'orig_elements': 'eJzdVMFu2zAM/RXBpw1IHUu2kzi3XnZbN6y5BYWhyHQiQLY0iW4SFP33UUq6FUM3YIddegmiRz7xkXzy9ikDAwOM2OouW7NsxeVC9ZVQvOkXJf2Wy7ICUakO6kJUVTZj2QAoO4mS8p8yZa3v9CgRQjobebYTtgfQ+wMSIkRREOcKH3WHB0L5MqHO6hEjb7ttRJnzGeOLKm8eZuznuRH5Kp55KRZvA4lBSBbOAWGIXXzVJzD3TirInikQxbbBTp7OUaMHRaJbY5VE6xPkvEWrrInsfYhdehgsQttrA62TSTVF1vM5pSoIQY/7G9f1IVWYvPlTfM6bpmnVweuAWo4BxtaDVT6n4EUdICjUdmyVkSG0xN/RZUW+XC0rajBLEjpNqkntOdbJ551VU1rbr2rZNXWUQ2wz+1vdayqeXUqVzhlNwyAR82vYyHE/yX3a6jYDuv4hoQHbwXa615D8IgpR3xT8RtQbUaz5al2uItsRsx2nYQdxvGVsE+EU/ZDVOWebs6Nyhn1x4FNV+v8NgrMkM9JfdG00mrTC322qyrpSdS+6XoASUu34AkAWQpXLhi/U8v/ZlK/yakbpq3yRbHo5V9Uy58mVdV3k9RvAhfEebdrUQtTvwqYJ8f/wMXzt6096P3lgFdOByZHBSQ7OALM9i3tlvbcDkwyvzveWjmSD9AAiz748hZxtDsDwaC889GSPwDw4DzQcZEhRedJ0ByHGyo59GEAGuqNjuzOVSJgCYz6Sji7lq8nHtlgaIOWhTfD951t2pIXl7M4Oenx1ZTd5WhX7PklDM7yMnOQGDOwoA+NlWRfs7ir1AgM1QT301g9UQSJT9JpRUtVHa5AGTaXwkOrqUWNs4EVWAIyEMq/Z7eBC/voTcCd9nMsjbOKcnx9+AKbMJpg=', 'element_id': 'bf6a5067-3f4e-430c-abf5-0c80d90ed42e', 'type': 'CompositeElement', 'chunk_size': 400, 'chunk_overlap': 0, 'document_id': 'bf6a5067-3f4e-430c-abf5-0c80d90ed42e', 'passage_id': 37, 'rank': 18}, page_content='5.1 Typical Operational Response\\n\\nFigure 4 is an example of data from a typical room temperature operation. The two data traces represent the axial preload (measured by a load cell) and the current applied to the SMA wire. Nominal preload during qualification tests was 13350 N. The tests were performed at constant voltage with the initial current set at 3.5 Amps.'),\n",
       "  0.7335329769344883,\n",
       "  0.094820276),\n",
       " (Document(metadata={'data_source.url': 'gs://processing-pdfs/1999_cremers_reocr.pdf', 'data_source.record_locator.protocol': 'gs', 'data_source.record_locator.remote_file_path': 'gs://processing-pdfs', 'file_directory': './document_processing', 'filename': '1999_cremers_reocr.pdf', 'filetype': 'application/pdf', 'languages': ['eng'], 'last_modified': '2025-01-25T20:18:40', 'page_number': 3, 'orig_elements': 'eJzll1Fr4zgQx7+K8dMttI4kS5aVt+XYg8Kxd9yVfSnFyNI4EdhWkJV2y3Lf/UZqslt2U9h7yMOlLyb6a0YzI/0YJndfShhhgjl2zpbrotSguNatZMTSehiEobYhhEtFVDNQKsqropwgaqujRvsvpfE+WDfrCEtej/rJ72O3BbfZRlQYIwR9DvKjs3GLKpVZ3Xk3x+R3d1dLUqmrgnIqKnZ/VXwTeFPJJDT0NSG7oFIuT0uEKdXxp/sM4987baD8BzdSut3i9wHXKcsABtPuRm909CFLu+CjN35M3psl1Rlg8hG6wY3Q7XTOG3fWqxWaGlgWN2+ud3ZYcoR9GF/bX1GlVGfwOAhLF8CbUKH+nBhEMNH5uTOjXpYOXXs8h1QtV61AgxzdOkwYE31KIaqV9Waf3+xboPJgOuspVVi+EvJgFZ922UrvdqPDK8D4q8P2qOfNXm/ya96VgCffZ3WJ3eStGxxkThhh4prQayZuGVnTds1J8t6hZzfvpx7SpdapwgifEwclr4pPH/66+e3m1/e3N398TNbHNG5dHPM7fU8jrQGIqilIGHhvak65bq2hSrRksHV7NhqpbCuR0JKqahJrR0EQWakkyEZU/JTw7HJhNEpeq/r/TmNWwn/odS/x/TBv3AwQsLoCQ8NYIGMxrYyfdsEtYIu4hWLw4+gfUV+/JPyjDgELe4DbdNwJ0gUxUrYNmEYZaYlpBiWADDzxxeuan4/0llU0cUx5RTPpR6FWFU+C4HVFTgrZ5dJIF4LJN006rQoEexhmrLDQs8UVHrWJ2yPxL8H+3S3xJr39CaYb0gsLogcpGRv6uldEaFZLyxTvraVnZFpUTQKU82divwqSViSPDrgjTgrZ5dKYxounb5ppVhV+vt4Ev0eeA2KqF/jawH9xc6Gn3uHZ736WbaZBKGaYGXrginNF8aeQylrs2Yrqs04mKpN7mIKPQkPqqs4oC5Ib+A/Cs8vFsU0le9Ns19ivcTS5yt/CPsI45rYd8OOn4sH1IWf+s2j3iuHE0QpmB6l5Y1TLmKWUwmB7Y4fhjG2bHEhWB7SPAo7WeTZpqcp9/Echu1wY2m2Lhb5ptPE/4/fNGhs4hDRph0mPxYM2+/1UGBfwOpaoZ7yL05zf/wsde0Nh', 'element_id': '50d52a6f-e0ae-46f2-83a5-ee36032c254d', 'type': 'CompositeElement', 'chunk_size': 400, 'chunk_overlap': 0, 'document_id': '50d52a6f-e0ae-46f2-83a5-ee36032c254d', 'passage_id': 75, 'rank': 19}, page_content='4. VERIFICATION\\n\\nEngineering model testing comprised the following:\\n\\n1. stiffness and strength testing\\n\\n2. on-ground release testing (in ambient)\\n\\n3. sine, sine dwell and random vibration\\n\\n4. release testing under thermal vacuum circumstances'),\n",
       "  0.7309084902864253,\n",
       "  0.094820276),\n",
       " (Document(metadata={'data_source.url': 'gs://processing-pdfs/1999_cremers_reocr.pdf', 'data_source.record_locator.protocol': 'gs', 'data_source.record_locator.remote_file_path': 'gs://processing-pdfs', 'file_directory': './document_processing', 'filename': '1999_cremers_reocr.pdf', 'filetype': 'application/pdf', 'languages': ['eng'], 'last_modified': '2025-01-25T20:18:40', 'page_number': 1, 'orig_elements': 'eJzlVMFu3DYQ/ZWBLm0BW0tpxZXkWxqkTVC4COwFejAMgSJHu4QlUiCpONsg/94htW6NpCnQQw5Nj/PmDWeGfI93HzIccUITOq2yK8h2vKnUwLel2EpVDW3ViqIvOR/4IPuCF9kFZBMGoUQQxP+QSWud0kYE9CkexckuoTuiPhwDIWXJGNWc4UetwpHQok7obLUJse7uriqqvLqAqq3y+v4CnmJe1GvMdzxvP49XPgGZP/mAU9zhrX6P4+0sJGYfKRFH7bxdHMVxQoeSRu5GK0WwLkGzs8FKO8bqg487OpxswG7QI3azSDNT5mqzIapE77U5XM5q8KnD4sYv5TdF27adpOPQ+c6hlS4nfB0MA8qgrenkKLzvqLSnc1jeVBVviJC6K00D06Cn2CLfKCuX9F5/NcrOVCOmuGH2hZZnVjjNiSXmedR0BdR/c06PwhwWcUgveZchnXyfUB+6ySo9aEwaKVnJL1lxWfJ9ya6K5qpisXqmys4sU4/xUou4YcD3UQPZix9v9zcvXu4j7an/XocxPdCnEmz4dodN3fQ91oqLWvVYRlXuVK3qSqivJsGiYXlBEuN8ldg5rtkuZzFuGIuS+zRe+d+YBNui3G3/6xJMiPsXn9tzzf6mw1EbCEeEwdFaj9Y9gB3g1e3+1cvvPPx8u397WQLdwYHSE4IAg49wvYxBz4ubrUd4bUel7KMBYRR0cENCFwRfozwKo/0E31+/vrn+AbSHHukaQeE7HO2MCvoT/GQfHtBBklEOb0KkkVjRKMoLTw3d+cDF6ACDdXBAg06M8Oxm8+em+1U4R+g73Mct/8Z8pSiZKORQb1teFqzn1bZsmGrUthUMSb5fzXx1ne/IXAXPm2S+NW7YdjVjw3jOP49X/jdmPvphGP9fm++NAb9Mk3Cni+TA6CzyhpYYTUCa12SMYEEuPthJ/45J/cI8Fz4VitW/s0NPg8D+iG4id/xi9ICwAUHG1QqOTy6Voh8RenKU+tNa05NX/T8Z6f4PJY7xzw==', 'element_id': '998394a9-744c-41b9-ac54-322877258f33', 'type': 'CompositeElement', 'chunk_size': 400, 'chunk_overlap': 0, 'document_id': '998394a9-744c-41b9-ac54-322877258f33', 'passage_id': 51, 'rank': 20}, page_content=\"ABSTRACT\\n\\nWithin the framework of ESTEC's GSTP-2 programme a new Multipurpose Holddown and _ Release Mechanism (MHRM) is being developed by Fokker Space. It is intended as a release unit for general application.\\n\\nIn summary, the new device is easier to customize for an application than the present Thermal Knife / aramid holddown cable based release mechanisms.\"),\n",
       "  0.7208144090584295,\n",
       "  0.094820276)]"
      ]
     },
     "execution_count": 9,
     "metadata": {},
     "output_type": "execute_result"
    }
   ],
   "source": [
    "qa_model.result['context']"
   ]
  },
  {
   "cell_type": "code",
   "execution_count": null,
   "metadata": {},
   "outputs": [],
   "source": []
  }
 ],
 "metadata": {
  "kernelspec": {
   "display_name": "Python 3",
   "language": "python",
   "name": "python3"
  },
  "language_info": {
   "codemirror_mode": {
    "name": "ipython",
    "version": 3
   },
   "file_extension": ".py",
   "mimetype": "text/x-python",
   "name": "python",
   "nbconvert_exporter": "python",
   "pygments_lexer": "ipython3",
   "version": "3.11.10"
  },
  "orig_nbformat": 4
 },
 "nbformat": 4,
 "nbformat_minor": 2
}
