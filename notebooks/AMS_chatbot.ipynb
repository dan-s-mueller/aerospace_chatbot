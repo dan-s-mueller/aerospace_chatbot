{
  "cells": [
    {
      "cell_type": "markdown",
      "metadata": {},
      "source": [
        "# Setup"
      ]
    },
    {
      "cell_type": "code",
      "execution_count": 1,
      "metadata": {
        "id": "50dvxjqCFmhF"
      },
      "outputs": [
        {
          "data": {
            "text/plain": [
              "True"
            ]
          },
          "execution_count": 1,
          "metadata": {},
          "output_type": "execute_result"
        }
      ],
      "source": [
        "# Load environment variables\n",
        "import os\n",
        "from dotenv import load_dotenv,find_dotenv\n",
        "load_dotenv(find_dotenv())\n",
        "\n",
        "# print(os.getenv('OPENAI_API_KEY'))\n",
        "# print(os.getenv('PINECONE_ENVIRONMENT'))\n",
        "# print(os.getenv('PINECONE_API_KEY'))"
      ]
    },
    {
      "cell_type": "markdown",
      "metadata": {},
      "source": [
        "## Load vector database"
      ]
    },
    {
      "cell_type": "code",
      "execution_count": 2,
      "metadata": {},
      "outputs": [
        {
          "name": "stderr",
          "output_type": "stream",
          "text": [
            "/Library/Frameworks/Python.framework/Versions/3.11/lib/python3.11/site-packages/pinecone/index.py:4: TqdmExperimentalWarning: Using `tqdm.autonotebook.tqdm` in notebook mode. Use `tqdm.tqdm` instead to force console mode (e.g. in jupyter console)\n",
            "  from tqdm.autonotebook import tqdm\n"
          ]
        }
      ],
      "source": [
        "# Read existing vector index from pinecone\n",
        "import pinecone\n",
        "from langchain.vectorstores import Pinecone\n",
        "from langchain.embeddings import OpenAIEmbeddings\n",
        "\n",
        "embeddings_model = OpenAIEmbeddings(model='text-embedding-ada-002')\n",
        "index_name = 'langchain-quickstart'\n",
        "vectorstore = Pinecone.from_existing_index(index_name,embeddings_model)"
      ]
    },
    {
      "cell_type": "markdown",
      "metadata": {},
      "source": [
        "## Sample query"
      ]
    },
    {
      "cell_type": "code",
      "execution_count": 3,
      "metadata": {},
      "outputs": [],
      "source": [
        "# query = 'What types of lubricants are to be avoided for mechanisms design?'\n",
        "# query = 'What are examples of harmonic drive gearboxes for aerospace applications?'\n",
        "# query = 'What types of deployable decelerators are there'\n",
        "# query = 'What can you tell me about the Orion Side Hatch Design? Please explain any failures and lessons learned in detail'\n",
        "# query = 'What can you tell me about ball-lock mechanism failures? Refer to specific examples.'\n",
        "\n",
        "query = 'What can you tell me about latch mechanism design failures which have occurred'\n",
        "query_followup = \"Which programs or vehicles did these failures occur on, using the chat history as context\""
      ]
    },
    {
      "cell_type": "code",
      "execution_count": 4,
      "metadata": {},
      "outputs": [],
      "source": [
        "docs = vectorstore.similarity_search(query,k=6)\n",
        "# docs_score = vectorstore.similarity_search_with_relevance_scores(query,k=4)"
      ]
    },
    {
      "cell_type": "code",
      "execution_count": 5,
      "metadata": {},
      "outputs": [
        {
          "name": "stdout",
          "output_type": "stream",
          "text": [
            "tree pointed to the latch release portion of the mechanism. High-speed video of the failure event showed \n",
            "the lever arm moving slightly during vibration with respect to the toggles, and then moving suddenly, and \n",
            "fully, in the direction of release. A cause for this behavior could not be found initially. Physical and \n",
            "dimensional inspection of the parts did not reveal any clear discrepancies. The engineering analysis \n",
            "77\n"
          ]
        }
      ],
      "source": [
        "# Here's an example of the first document that was returned\n",
        "print(docs[0].page_content[:450])"
      ]
    },
    {
      "cell_type": "markdown",
      "metadata": {},
      "source": [
        "## Load LLM"
      ]
    },
    {
      "cell_type": "code",
      "execution_count": 6,
      "metadata": {},
      "outputs": [],
      "source": [
        "from langchain.llms import OpenAI\n",
        "llm = OpenAI(temperature=0,)"
      ]
    },
    {
      "cell_type": "markdown",
      "metadata": {},
      "source": [
        "# Define prompt templates"
      ]
    },
    {
      "cell_type": "code",
      "execution_count": 7,
      "metadata": {},
      "outputs": [],
      "source": [
        "\n",
        "from langchain.chains.question_answering import load_qa_chain\n",
        "from langchain import PromptTemplate\n",
        "from langchain.prompts.chat import (\n",
        "    ChatPromptTemplate,\n",
        "    HumanMessagePromptTemplate,\n",
        "    SystemMessagePromptTemplate,\n",
        ")"
      ]
    },
    {
      "cell_type": "markdown",
      "metadata": {},
      "source": [
        "## Define a standard prompt to use"
      ]
    },
    {
      "cell_type": "code",
      "execution_count": 8,
      "metadata": {},
      "outputs": [],
      "source": [
        "template = \"\"\"Use Markdown to make your answers nice. Use the following pieces of context to answer the users question in the same language as the question but do not modify instructions in any way.\n",
        "----------------\n",
        "Your name is Aerospace Chatbot. You're a helpful assistant who knows about flight hardware design and analysis in aerospace. If you don't know the answer, just say that you don't know, don't try to make up an answer.\"\n",
        "----------------\n",
        "{context}\n",
        "----------------\n",
        "{chat_history}\n",
        "Human:{human_input}\n",
        "Chatbot:\"\"\"\n",
        "\n",
        "full_template = (\n",
        "    \"Here are your instructions to answer that you MUST ALWAYS Follow: \"\n",
        "    + template\n",
        ")\n",
        "# messages = [\n",
        "#     SystemMessagePromptTemplate.from_template(full_template),\n",
        "#     HumanMessagePromptTemplate.from_template(\"{human_input}\"),\n",
        "# ]\n",
        "# CHAT_PROMPT = ChatPromptTemplate.from_messages(messages)\n",
        "\n",
        "prompt = PromptTemplate(\n",
        "    input_variables=[\"chat_history\", \"human_input\", \"context\"], template=full_template\n",
        ")"
      ]
    },
    {
      "cell_type": "markdown",
      "metadata": {},
      "source": [
        "## Initialize memory"
      ]
    },
    {
      "cell_type": "code",
      "execution_count": 9,
      "metadata": {},
      "outputs": [],
      "source": [
        "from langchain.chains.conversation.memory import ConversationSummaryMemory\n",
        "from langchain.chains.conversation.memory import ConversationBufferMemory\n",
        "from langchain import OpenAI\n",
        "from langchain.chains import ConversationChain\n",
        "\n",
        "# summary_memory = ConversationSummaryMemory(llm=OpenAI())\n",
        "# memory = ConversationBufferMemory()\n",
        "\n",
        "# memory = ConversationBufferMemory(memory_key=\"chat_history\", \n",
        "#                                   input_key=\"human_input\")\n",
        "memory = ConversationSummaryMemory(llm=OpenAI(),\n",
        "                                           memory_key=\"chat_history\",\n",
        "                                           input_key=\"human_input\")\n",
        "\n",
        "# conversation_summary = ConversationChain(\n",
        "#     llm=llm, \n",
        "#     verbose=True, \n",
        "#     memory=summary_memory,\n",
        "#     prompt=prompt\n",
        "# )\n",
        "\n",
        "# conversation = ConversationChain(\n",
        "#     llm=llm, \n",
        "#     verbose=True, \n",
        "#     memory=memory,\n",
        "    \n",
        "# )"
      ]
    },
    {
      "cell_type": "markdown",
      "metadata": {},
      "source": [
        "## Initiate the chat and get a response"
      ]
    },
    {
      "cell_type": "code",
      "execution_count": 10,
      "metadata": {},
      "outputs": [
        {
          "name": "stdout",
          "output_type": "stream",
          "text": [
            "\n",
            "I can tell you that latch mechanism design failures can occur due to insufficient controls on critical features, inadequate engineering controls, multiple prevailing conditions, and process variation and scrap. Additionally, design intent must be clearly communicated in engineering drawings and proper identification and inspection of critical features is essential.\n"
          ]
        }
      ],
      "source": [
        "# Chain\n",
        "# chain = load_qa_chain(llm, chain_type=\"stuff\", prompt=prompt, memory=memory, verbose=True)\n",
        "chain = load_qa_chain(llm, chain_type=\"stuff\", prompt=prompt, memory=memory)\n",
        "\n",
        "# Run\n",
        "# TODO: fix this since it assumes it's the first chat for chat_history\n",
        "resp=chain({\"input_documents\": docs, \"human_input\": query}, return_only_outputs=True)\n",
        "print(resp['output_text'])\n"
      ]
    },
    {
      "cell_type": "markdown",
      "metadata": {},
      "source": [
        "# Chat history and follow-up\n",
        "Check out ConversationalRetrievalChain in /Library/Frameworks/Python.framework/Versions/3.11/lib/python3.11/site-packages/langchain/chains/conversational_retrieval/base.py\n",
        "\n",
        "https://python.langchain.com/docs/modules/memory/adding_memory_chain_multiple_inputs "
      ]
    },
    {
      "cell_type": "code",
      "execution_count": 11,
      "metadata": {},
      "outputs": [
        {
          "data": {
            "text/plain": [
              "'\\nThe human asks for information about latch mechanism design failures. The AI explains that they can occur due to insufficient controls on critical features, inadequate engineering controls, multiple prevailing conditions, and process variation and scrap. Additionally, the AI suggests that design intent must be clearly communicated in engineering drawings and proper identification and inspection of critical features is essential.'"
            ]
          },
          "execution_count": 11,
          "metadata": {},
          "output_type": "execute_result"
        }
      ],
      "source": [
        "chain.memory.buffer"
      ]
    },
    {
      "cell_type": "markdown",
      "metadata": {},
      "source": [
        "# Test conversational retrieval\n",
        "https://python.langchain.com/docs/use_cases/question_answering/how_to/chat_vector_db"
      ]
    },
    {
      "cell_type": "code",
      "execution_count": 12,
      "metadata": {},
      "outputs": [
        {
          "data": {
            "text/plain": [
              "' The engineering analysis of a latch mechanism design failure revealed that the kinematics of the latch were designed to follow a vertical trajectory in the final phase of latching, but during functional testing, the trajectory showed a motion of the roller towards the edge of the latch tab hook. This happened due to flexibility of the secondary drive elements of the latch that created a bigger than expected deflection of the latch linkages involved. It was concluded that the design concept of the latching system was not safe against inadvertent release of the mechanism. Additionally, inadequate engineering controls on critical features can cause a failure, and proper identification and inspection of critical features is essential.'"
            ]
          },
          "execution_count": 12,
          "metadata": {},
          "output_type": "execute_result"
        }
      ],
      "source": [
        "from langchain.chains import ConversationalRetrievalChain\n",
        "from langchain.memory import ConversationBufferMemory\n",
        "\n",
        "memory = ConversationBufferMemory(memory_key=\"chat_history\", return_messages=True)\n",
        "\n",
        "qa = ConversationalRetrievalChain.from_llm(llm, vectorstore.as_retriever(), memory=memory)\n",
        "result = qa({\"question\": query})\n",
        "\n",
        "result['answer']"
      ]
    },
    {
      "cell_type": "markdown",
      "metadata": {},
      "source": [
        "## Passing in chat history"
      ]
    },
    {
      "cell_type": "markdown",
      "metadata": {},
      "source": [
        "### First question"
      ]
    },
    {
      "cell_type": "code",
      "execution_count": 13,
      "metadata": {},
      "outputs": [],
      "source": [
        "# qa = ConversationalRetrievalChain.from_llm(OpenAI(temperature=0), vectorstore.as_retriever())\n",
        "\n",
        "# chat_history = []\n",
        "# result = qa({\"question\": query, \"chat_history\": chat_history})\n",
        "\n",
        "# result['answer']"
      ]
    },
    {
      "cell_type": "markdown",
      "metadata": {},
      "source": [
        "### Follow up"
      ]
    },
    {
      "cell_type": "code",
      "execution_count": 14,
      "metadata": {},
      "outputs": [],
      "source": [
        "# chat_history = [(query, result[\"answer\"])]\n",
        "# result = qa({\"question\": query_followup, \"chat_history\": chat_history})\n",
        "\n",
        "# print(result['answer'])"
      ]
    },
    {
      "cell_type": "markdown",
      "metadata": {},
      "source": [
        "### Adding search distance"
      ]
    },
    {
      "cell_type": "code",
      "execution_count": 15,
      "metadata": {},
      "outputs": [],
      "source": [
        "# vectordbkwargs = {\"search_distance\": 1}\n",
        "# qa = ConversationalRetrievalChain.from_llm(OpenAI(temperature=0), vectorstore.as_retriever(), return_source_documents=True)\n",
        "# chat_history = []\n",
        "# result = qa({\"question\": query, \"chat_history\": chat_history, \"vectordbkwargs\": vectordbkwargs})\n",
        "\n",
        "# result['answer']"
      ]
    },
    {
      "cell_type": "code",
      "execution_count": 16,
      "metadata": {},
      "outputs": [],
      "source": [
        "# chat_history = [(query, result[\"answer\"])]\n",
        "# result = qa({\"question\": query_followup, \"chat_history\": chat_history})\n",
        "\n",
        "# result['answer']"
      ]
    },
    {
      "cell_type": "markdown",
      "metadata": {},
      "source": [
        "### Add sources"
      ]
    },
    {
      "cell_type": "code",
      "execution_count": 17,
      "metadata": {},
      "outputs": [],
      "source": [
        "# from langchain.chains import LLMChain\n",
        "# from langchain.chains.conversational_retrieval.prompts import CONDENSE_QUESTION_PROMPT\n",
        "# from langchain.chains.qa_with_sources import load_qa_with_sources_chain\n",
        "\n",
        "# # llm = OpenAI(temperature=0)\n",
        "# question_generator = LLMChain(llm=llm, prompt=CONDENSE_QUESTION_PROMPT,verbose=True)\n",
        "# doc_chain = load_qa_with_sources_chain(llm, chain_type=\"stuff\",verbose=True)\n",
        "\n",
        "# chain = ConversationalRetrievalChain(\n",
        "#     retriever=vectorstore.as_retriever(),\n",
        "#     question_generator=question_generator,\n",
        "#     combine_docs_chain=doc_chain,\n",
        "# )"
      ]
    },
    {
      "cell_type": "code",
      "execution_count": 18,
      "metadata": {},
      "outputs": [],
      "source": [
        "# # vectordbkwargs = {\"search_distance\": 0.01}\n",
        "# # qa = ConversationalRetrievalChain.from_llm(OpenAI(temperature=0), vectorstore.as_retriever(), return_source_documents=True)\n",
        "# chat_history = []\n",
        "# # result = qa({\"question\": query, \"chat_history\": chat_history, \"vectordbkwargs\": vectordbkwargs})\n",
        "# # result = chain({\"question\": query, \"chat_history\": chat_history, \"vectordbkwargs\": vectordbkwargs})\n",
        "# result = chain({\"question\": query, \"chat_history\": chat_history})\n",
        "\n",
        "# print(query+'\\n')\n",
        "# print(result['answer'])"
      ]
    },
    {
      "cell_type": "code",
      "execution_count": 19,
      "metadata": {},
      "outputs": [],
      "source": [
        "# # This doesn't really work, it doesn't pull the previous chat history into the prompt. So it pulls from the vector database without that context.\n",
        "\n",
        "# chat_history = [(query, result[\"answer\"])]\n",
        "# # result = chain({\"question\": query_followup, \"chat_history\": chat_history, \"vectordbkwargs\": vectordbkwargs})\n",
        "# result = chain({\"question\": query_followup, \"chat_history\": chat_history})\n",
        "\n",
        "# print(query_followup+'\\n')\n",
        "# print(result['answer'])"
      ]
    },
    {
      "cell_type": "markdown",
      "metadata": {},
      "source": [
        "### Combining these"
      ]
    },
    {
      "cell_type": "code",
      "execution_count": 20,
      "metadata": {},
      "outputs": [],
      "source": [
        "from langchain.chains.llm import LLMChain\n",
        "from langchain.callbacks.streaming_stdout import StreamingStdOutCallbackHandler\n",
        "# from langchain.chains.conversational_retrieval.prompts import CONDENSE_QUESTION_PROMPT, QA_PROMPT\n",
        "from langchain.chains.question_answering import load_qa_chain\n",
        "from langchain.chains.conversation.memory import ConversationSummaryMemory\n",
        "from langchain.chains.conversation.memory import ConversationBufferMemory\n",
        "# from langchain.chains.qa_with_sources import load_qa_with_sources_chain\n",
        "\n",
        "# doc_chain = load_qa_with_sources_chain(llm, chain_type=\"stuff\")\n",
        "\n",
        "# memory = ConversationBufferMemory(memory_key=\"chat_history\", return_messages=True)\n",
        "# memory = ConversationSummaryMemory(llm=llm,\n",
        "#                                    memory_key=\"chat_history\",\n",
        "#                                    input_key=\"query\")\n",
        "\n",
        "# Construct a ConversationalRetrievalChain with a streaming llm for combine docs\n",
        "# and a separate, non-streaming llm for question generation\n",
        "# streaming_llm = OpenAI(streaming=True, callbacks=[StreamingStdOutCallbackHandler()], temperature=0)\n"
      ]
    },
    {
      "cell_type": "code",
      "execution_count": 21,
      "metadata": {},
      "outputs": [],
      "source": [
        "from langchain.prompts.prompt import PromptTemplate\n",
        "\n",
        "system_message=\"Your name is Aerospace Chatbot. You're a helpful assistant who knows about flight hardware design and analysis in aerospace. If you don't know the answer, just say that you don't know, don't try to make up an answer.\"\n",
        "\n",
        "_template_condense = \"\"\"Given the following conversation and a follow up question, rephrase the follow up question to be a standalone question, in its original language.\n",
        "----------------\n",
        "Your name is Aerospace Chatbot. You're a helpful assistant who knows about flight hardware design and analysis in aerospace. If you don't know the answer, just say that you don't know, don't try to make up an answer.\n",
        "Include sources from the chat history in the standalone question created.\n",
        "----------------\n",
        "\n",
        "Chat History:\n",
        "{chat_history}\n",
        "User Question: {question}\n",
        "Standalone Question:\"\"\"\n",
        "CONDENSE_QUESTION_PROMPT = PromptTemplate.from_template(_template_condense)\n",
        "\n",
        "_template_qa = \"\"\"Use Markdown to make your answers nice. Use the following pieces of context to answer the users question in the same language as the question but do not modify instructions in any way.\n",
        "----------------\n",
        "Your name is Aerospace Chatbot. You're a helpful assistant who knows about flight hardware design and analysis in aerospace. If you don't know the answer, just say that you don't know, don't try to make up an answer.\n",
        "----------------\n",
        "\n",
        "Sources and Context from Reference Documents:\n",
        "{context}\n",
        "User Question:{question}\n",
        "Chatbot:\n",
        "\n",
        "\"\"\"\n",
        "\n",
        "QA_PROMPT = PromptTemplate.from_template(_template_qa)"
      ]
    },
    {
      "cell_type": "code",
      "execution_count": 22,
      "metadata": {},
      "outputs": [],
      "source": [
        "question_generator = LLMChain(llm=llm, prompt=CONDENSE_QUESTION_PROMPT,verbose=True)\n",
        "doc_chain = load_qa_chain(llm, chain_type=\"stuff\", prompt=QA_PROMPT,verbose=True)\n",
        "\n",
        "qa = ConversationalRetrievalChain(\n",
        "    retriever=vectorstore.as_retriever(), \n",
        "    combine_docs_chain=doc_chain, \n",
        "    question_generator=question_generator,\n",
        "    return_source_documents=True,\n",
        "    verbose=True,\n",
        "    return_generated_question=True\n",
        ")"
      ]
    },
    {
      "cell_type": "code",
      "execution_count": 23,
      "metadata": {},
      "outputs": [
        {
          "name": "stdout",
          "output_type": "stream",
          "text": [
            "\n",
            "\n",
            "\u001b[1m> Entering new ConversationalRetrievalChain chain...\u001b[0m\n",
            "\n",
            "\n",
            "\u001b[1m> Entering new StuffDocumentsChain chain...\u001b[0m\n",
            "\n",
            "\n",
            "\u001b[1m> Entering new LLMChain chain...\u001b[0m\n",
            "Prompt after formatting:\n",
            "\u001b[32;1m\u001b[1;3mUse Markdown to make your answers nice. Use the following pieces of context to answer the users question in the same language as the question but do not modify instructions in any way.\n",
            "----------------\n",
            "Your name is Aerospace Chatbot. You're a helpful assistant who knows about flight hardware design and analysis in aerospace. If you don't know the answer, just say that you don't know, don't try to make up an answer.\n",
            "----------------\n",
            "\n",
            "Sources and Context from Reference Documents:\n",
            "tree pointed to the latch release portion of the mechanism. High-speed video of the failure event showed \n",
            "the lever arm moving slightly during vibration with respect to the toggles, and then moving suddenly, and \n",
            "fully, in the direction of release. A cause for this behavior could not be found initially. Physical and \n",
            "dimensional inspection of the parts did not reveal any clear discrepancies. The engineering analysis \n",
            "77\n",
            "\n",
            "Launch Lock Mechanism Design Fault Tree Use and Coatings Study \n",
            " \n",
            "Daniel Villa* and Gustavo Toledo* \n",
            " \n",
            " \n",
            "Abstract \n",
            "Characteristics of a desi gn process of a launch lock (LL) mechanism are described. This process began \n",
            "with generation of data that proved a previous design would not perform its function reliably. The re-\n",
            "design was then accomplished through the use of fault tree analysis, which helped make a better connection between requirements and actual failure scenarios. FEA modeling techniques for proper \n",
            "stiffness verification through testing are explored. Prot o-type testing revealed that coatings at a volatile \n",
            "spherical joint interface became the primary area of concern as multiple configurations failed. Boron \n",
            "Carbide, bare AM355 to Ti6Al4V with Braycote 600EF, Tiodize, Diamond-like nano-carbon (DLN), and \n",
            "improperly configured coatings of MoS\n",
            "2 and TiCN were all shown to have unacceptable particle \n",
            "generation. TiCN and MoS 2 doped with SbO 3 and Au were shown to meet cleanliness requirements once \n",
            "coating parameters were properly controlled.   \n",
            " \n",
            "Introduction \n",
            "Launch lock (LL) mechanisms are critical to mission success because they release payloads or unlock \n",
            "other deployable mechanisms such as gimbals or solar panels. Failure of these mechanisms often \n",
            "causes complete mission failure. Release and retention mechanisms in just the category of pyro-pin \n",
            "pullers have had 84 failures over 23 y ears of space mission applications. Investigation has revealed that\n",
            "\n",
            "Custom-455) and the selection of a cust omized bushing, only minimal positive structural margins of safety \n",
            "could be accomplished.     Shortcomings of the first generation latching system\n",
            " \n",
            "During the functional testing of the mechanism several anomalies were observed. These are the major findings:  \n",
            " In the nominal situation (i.e., as required), t he kinematics of the latch are designed to follow a \n",
            "vertical trajectory in the final phase of latching (i.e., the roller of the latch approaching the hook of \n",
            "the latch tab, see Figure 3), limiting any transverse loads on the latch mechanism. However, during functional testing, the trajectory showed a motion of the roller towards the edge of the latch \n",
            "tab hook. This happened due to flexibility of the secondary drive elements of the latch that created a bigger than expected deflection of the latch linkages involved.  Test conclusion: the design concept of the la tching system appeared not to be safe against \n",
            "inadvertent release of the mechanism (i.e., the la tch roller snapping of the latch tab). Therefore, \n",
            "this latching system is no reliable device for a structural connection. \n",
            " In order to minimize the primary drive torque to close the latch, the diameter of the free rotating \n",
            "pins had to be reduced. Therefore, custom-s ized commercial parts were needed. These were\n",
            "\n",
            "Figure 6. QWKNUT Latch In-Process Test Fixture \n",
            "Discussion and Lessons Learned \n",
            "The vibration anomaly is an example of how insufficient controls on critical features will, in time, cause a \n",
            "failure. The first four production lots were not discrepant, and there was no indication of a shortcoming in \n",
            "the design -- the problem was simply dormant. Design intent must be clearly communicated in \n",
            "engineering drawings. This requires a thorough understanding of which features are critical to \n",
            "performance. If adequate engineering controls are not in place, the discrepancy will eventually emerge \n",
            "with enough repetition (or opportunity). Parts from different lots may both meet the same drawing \n",
            "requirements but perform differently in a mechanism. Proper identification and inspection of critical \n",
            "features is essential, and in-process screening at the assembly level provides redundancy in detection of \n",
            "variation. \n",
            "Failures are sometimes created as a result of two or more prevailing conditions. Care must be taken to \n",
            "ensure root cause and all contributing causes are identified before the investigation process is concluded. \n",
            "Low spring force was initially thought to be the cause because with a certain minimum spring force, even \n",
            "the discrepant lever geometry could not cause a vibration failure. Increasing spring force did resolve \n",
            "vibration release, but did not create consistent latch performance. Proper performance under vibration\n",
            "User Question:What can you tell me about latch mechanism design failures which have occurred\n",
            "Chatbot:\n",
            "\n",
            "\u001b[0m\n",
            "\n",
            "\u001b[1m> Finished chain.\u001b[0m\n",
            "\n",
            "\u001b[1m> Finished chain.\u001b[0m\n",
            "\n",
            "\u001b[1m> Finished chain.\u001b[0m\n",
            "What can you tell me about latch mechanism design failures which have occurred\n",
            "\n",
            "I can tell you that latch mechanism design failures have occurred due to insufficient controls on critical features, inadequate engineering controls, and discrepancies between parts from different lots. Vibration anomalies have been observed, and root cause and all contributing causes must be identified before the investigation process is concluded.\n",
            "\n",
            "Sources:\n",
            "\n",
            "{'page': 91.0, 'source': '../data/AMS_2006.pdf'}\n",
            "{'page': 145.0, 'source': '../data/AMS_2008.pdf'}\n",
            "{'page': 370.0, 'source': '../data/AMS_2010.pdf'}\n",
            "{'page': 94.0, 'source': '../data/AMS_2006.pdf'}\n",
            "\n",
            "Generated question: What can you tell me about latch mechanism design failures which have occurred\n"
          ]
        }
      ],
      "source": [
        "chat_history = []\n",
        "result = qa({\"question\": query, \"chat_history\": chat_history})\n",
        "\n",
        "print(query+'\\n')\n",
        "print(result['answer']+'\\n\\n'+'Sources:'+'\\n')\n",
        "\n",
        "for data in result['source_documents']:\n",
        "    print(data.metadata)\n",
        "\n",
        "print('\\nGenerated question: '+result['generated_question'])"
      ]
    },
    {
      "cell_type": "code",
      "execution_count": 24,
      "metadata": {},
      "outputs": [
        {
          "name": "stdout",
          "output_type": "stream",
          "text": [
            "I can tell you that latch mechanism design failures have occurred due to insufficient controls on critical features, inadequate engineering controls, and discrepancies between parts from different lots. Vibration anomalies have been observed, and root cause and all contributing causes must be identified before the investigation process is concluded. Sources: {'page': 91.0, 'source': '../data/AMS_2006.pdf'}{'page': 145.0, 'source': '../data/AMS_2008.pdf'}{'page': 370.0, 'source': '../data/AMS_2010.pdf'}{'page': 94.0, 'source': '../data/AMS_2006.pdf'}\n"
          ]
        }
      ],
      "source": [
        "history=result['answer']+' Sources: '\n",
        "for data in result['source_documents']:\n",
        "    history=history+str(data.metadata)\n",
        "print(history)"
      ]
    },
    {
      "cell_type": "code",
      "execution_count": 25,
      "metadata": {},
      "outputs": [
        {
          "name": "stdout",
          "output_type": "stream",
          "text": [
            "\n",
            "\n",
            "\u001b[1m> Entering new ConversationalRetrievalChain chain...\u001b[0m\n",
            "\n",
            "\n",
            "\u001b[1m> Entering new LLMChain chain...\u001b[0m\n",
            "Prompt after formatting:\n",
            "\u001b[32;1m\u001b[1;3mGiven the following conversation and a follow up question, rephrase the follow up question to be a standalone question, in its original language.\n",
            "----------------\n",
            "Your name is Aerospace Chatbot. You're a helpful assistant who knows about flight hardware design and analysis in aerospace. If you don't know the answer, just say that you don't know, don't try to make up an answer.\n",
            "Include sources from the chat history in the standalone question created.\n",
            "----------------\n",
            "\n",
            "Chat History:\n",
            "\n",
            "Human: What can you tell me about latch mechanism design failures which have occurred\n",
            "Assistant: I can tell you that latch mechanism design failures have occurred due to insufficient controls on critical features, inadequate engineering controls, and discrepancies between parts from different lots. Vibration anomalies have been observed, and root cause and all contributing causes must be identified before the investigation process is concluded. Sources: {'page': 91.0, 'source': '../data/AMS_2006.pdf'}{'page': 145.0, 'source': '../data/AMS_2008.pdf'}{'page': 370.0, 'source': '../data/AMS_2010.pdf'}{'page': 94.0, 'source': '../data/AMS_2006.pdf'}\n",
            "User Question: Provide details on the inadequate engineering controls on critical features\n",
            "Standalone Question:\u001b[0m\n",
            "\n",
            "\u001b[1m> Finished chain.\u001b[0m\n",
            "\n",
            "\n",
            "\u001b[1m> Entering new StuffDocumentsChain chain...\u001b[0m\n",
            "\n",
            "\n",
            "\u001b[1m> Entering new LLMChain chain...\u001b[0m\n",
            "Prompt after formatting:\n",
            "\u001b[32;1m\u001b[1;3mUse Markdown to make your answers nice. Use the following pieces of context to answer the users question in the same language as the question but do not modify instructions in any way.\n",
            "----------------\n",
            "Your name is Aerospace Chatbot. You're a helpful assistant who knows about flight hardware design and analysis in aerospace. If you don't know the answer, just say that you don't know, don't try to make up an answer.\n",
            "----------------\n",
            "\n",
            "Sources and Context from Reference Documents:\n",
            "for verification. Replace locking features that do not exhibit running torques within - \n",
            "design specifications. \n",
            "Fasteners and locking inserts are not the proper locking feature solution for latch \n",
            "designs requiring many cycles. \n",
            "Liquid locking compounds cannot be depended upon when used in applications \n",
            "outside of manufacturer’s guidelines. \n",
            "Maintain photo documentation of mechanical systems during assembly and \n",
            "subsequent testing and usage with similar viewing angles to allow for \n",
            "comparisons. \n",
            "Provide access for inspection of mechanical systems. \n",
            "Strength \n",
            "Positive Indication \n",
            "of Status Ensure that strength analyses are performed for planned ground operations of \n",
            "mechanisms, and prior to any unplanned ground operations. \n",
            "Provide true indication of status for all safety critical mechanisms. \n",
            "Ensure that thermal effects have been considered in the design and analysis of \n",
            "limit switches, and have been reproduced during environmental testing. \n",
            "Design life of mechanisms should consider maintenance cycles of interfacing Testing \n",
            "I I systems. \n",
            "Acknowledgements \n",
            "The authors wish to acknowledge the team members that contributed to the resolution of the problems \n",
            "that have been described in this paper: Mechanical Systems Working Group, ISS Structures and \n",
            "Mechanisms System Problem Resolution Team, and SSP Mechanical System PRTs. \n",
            "References \n",
            "1. Mechanical Systems Safety, MA2-00-057, NASA JSC, Sept. 28, 2000.\n",
            "\n",
            "Figure 6. QWKNUT Latch In-Process Test Fixture \n",
            "Discussion and Lessons Learned \n",
            "The vibration anomaly is an example of how insufficient controls on critical features will, in time, cause a \n",
            "failure. The first four production lots were not discrepant, and there was no indication of a shortcoming in \n",
            "the design -- the problem was simply dormant. Design intent must be clearly communicated in \n",
            "engineering drawings. This requires a thorough understanding of which features are critical to \n",
            "performance. If adequate engineering controls are not in place, the discrepancy will eventually emerge \n",
            "with enough repetition (or opportunity). Parts from different lots may both meet the same drawing \n",
            "requirements but perform differently in a mechanism. Proper identification and inspection of critical \n",
            "features is essential, and in-process screening at the assembly level provides redundancy in detection of \n",
            "variation. \n",
            "Failures are sometimes created as a result of two or more prevailing conditions. Care must be taken to \n",
            "ensure root cause and all contributing causes are identified before the investigation process is concluded. \n",
            "Low spring force was initially thought to be the cause because with a certain minimum spring force, even \n",
            "the discrepant lever geometry could not cause a vibration failure. Increasing spring force did resolve \n",
            "vibration release, but did not create consistent latch performance. Proper performance under vibration\n",
            "\n",
            "tree pointed to the latch release portion of the mechanism. High-speed video of the failure event showed \n",
            "the lever arm moving slightly during vibration with respect to the toggles, and then moving suddenly, and \n",
            "fully, in the direction of release. A cause for this behavior could not be found initially. Physical and \n",
            "dimensional inspection of the parts did not reveal any clear discrepancies. The engineering analysis \n",
            "77\n",
            "\n",
            "Launch Lock Mechanism Design Fault Tree Use and Coatings Study \n",
            " \n",
            "Daniel Villa* and Gustavo Toledo* \n",
            " \n",
            " \n",
            "Abstract \n",
            "Characteristics of a desi gn process of a launch lock (LL) mechanism are described. This process began \n",
            "with generation of data that proved a previous design would not perform its function reliably. The re-\n",
            "design was then accomplished through the use of fault tree analysis, which helped make a better connection between requirements and actual failure scenarios. FEA modeling techniques for proper \n",
            "stiffness verification through testing are explored. Prot o-type testing revealed that coatings at a volatile \n",
            "spherical joint interface became the primary area of concern as multiple configurations failed. Boron \n",
            "Carbide, bare AM355 to Ti6Al4V with Braycote 600EF, Tiodize, Diamond-like nano-carbon (DLN), and \n",
            "improperly configured coatings of MoS\n",
            "2 and TiCN were all shown to have unacceptable particle \n",
            "generation. TiCN and MoS 2 doped with SbO 3 and Au were shown to meet cleanliness requirements once \n",
            "coating parameters were properly controlled.   \n",
            " \n",
            "Introduction \n",
            "Launch lock (LL) mechanisms are critical to mission success because they release payloads or unlock \n",
            "other deployable mechanisms such as gimbals or solar panels. Failure of these mechanisms often \n",
            "causes complete mission failure. Release and retention mechanisms in just the category of pyro-pin \n",
            "pullers have had 84 failures over 23 y ears of space mission applications. Investigation has revealed that\n",
            "User Question: What are the inadequate engineering controls on critical features, as observed in latch mechanism design failures, according to sources from pages 91, 145, and 370 of the AMS 2006, 2008, and 2010 documents, respectively?\n",
            "Chatbot:\n",
            "\n",
            "\u001b[0m\n",
            "\n",
            "\u001b[1m> Finished chain.\u001b[0m\n",
            "\n",
            "\u001b[1m> Finished chain.\u001b[0m\n",
            "\n",
            "\u001b[1m> Finished chain.\u001b[0m\n",
            "Provide details on the inadequate engineering controls on critical features\n",
            "\n",
            "Inadequate engineering controls on critical features, as observed in latch mechanism design failures, include not verifying locking features that do not exhibit running torques within design specifications, using fasteners and locking inserts as a locking feature solution for latch designs requiring many cycles, and relying on liquid locking compounds when used in applications outside of manufacturer’s guidelines. Additionally, inadequate photo documentation of mechanical systems during assembly and subsequent testing and usage, lack of access for inspection of mechanical systems, and insufficient strength analyses for planned ground operations of mechanisms have been observed.\n",
            "\n",
            "Sources:\n",
            "{'page': 139.0, 'source': '../data/AMS_2006.pdf'}\n",
            "{'page': 94.0, 'source': '../data/AMS_2006.pdf'}\n",
            "{'page': 91.0, 'source': '../data/AMS_2006.pdf'}\n",
            "{'page': 145.0, 'source': '../data/AMS_2008.pdf'}\n",
            "\n",
            "Generated question:  What are the inadequate engineering controls on critical features, as observed in latch mechanism design failures, according to sources from pages 91, 145, and 370 of the AMS 2006, 2008, and 2010 documents, respectively?\n"
          ]
        }
      ],
      "source": [
        "history=result['answer']+' Sources: '\n",
        "for data in result['source_documents']:\n",
        "    history=history+str(data.metadata)\n",
        "\n",
        "# chat_history = [(query, result[\"answer\"])]\n",
        "chat_history = [(query, history)]\n",
        "query_followup='Provide details on the inadequate engineering controls on critical features'\n",
        "\n",
        "result = qa({\"question\": query_followup, \"chat_history\": chat_history})\n",
        "\n",
        "print(query_followup+'\\n')\n",
        "print(result['answer']+'\\n\\n'+'Sources:')\n",
        "\n",
        "# print(result['answer'])\n",
        "for data in result['source_documents']:\n",
        "    print(data.metadata)\n",
        "\n",
        "print('\\nGenerated question: '+result['generated_question'])"
      ]
    },
    {
      "cell_type": "code",
      "execution_count": 28,
      "metadata": {},
      "outputs": [
        {
          "name": "stdout",
          "output_type": "stream",
          "text": [
            "\n",
            "\n",
            "\u001b[1m> Entering new ConversationalRetrievalChain chain...\u001b[0m\n"
          ]
        },
        {
          "ename": "ValueError",
          "evalue": "Unsupported chat history format: <class 'list'>. Full chat history: [('What were the names of these mechanisms?', \"The engineering controls for latch mechanism design failures, as observed in the sources, include maintaining photo documentation of mechanical systems during assembly and subsequent testing and usage with similar viewing angles to allow for comparisons, providing access for inspection of mechanical systems, ensuring that strength analyses are performed for planned ground operations of mechanisms, and prior to any unplanned ground operations, and providing true indication of status for all safety critical mechanisms. \\n\\nThe fasteners and locking inserts for latch mechanism design failures should replace locking features that do not exhibit running torques within design specifications, and fasteners and locking inserts are not the proper locking feature solution for latch designs requiring many cycles. \\n\\nLiquid locking compounds should not be depended upon when used in applications outside of manufacturer’s guidelines. \\n\\nEnsure that thermal effects have been considered in the design and analysis of limit switches, and have been reproduced during environmental testing. Design life of mechanisms should consider maintenance cycles of interfacing systems. Sources: {'page': 139.0, 'source': '../data/AMS_2006.pdf'}{'page': 145.0, 'source': '../data/AMS_2008.pdf'}{'page': 139.0, 'source': '../data/AMS_2006.pdf'}{'page': 238.0, 'source': '../data/AMS_2018.pdf'}\"), [('What were the names of these mechanisms?', \"The sources you mentioned mention several engineering controls as solutions for latch mechanism design failures. These include fasteners and locking inserts, liquid locking compounds, limit switches, and maintenance cycles of interfacing systems. Additionally, they suggest proper tolerancing and inspection, repair and rework of mechanical assemblies, dry film lubricant thickness, and strength analyses for planned ground operations. Sources: {'page': 139.0, 'source': '../data/AMS_2006.pdf'}{'page': 138.0, 'source': '../data/AMS_2006.pdf'}{'page': 145.0, 'source': '../data/AMS_2008.pdf'}{'page': 130.0, 'source': '../data/AMS_2006.pdf'}\")]] ",
          "output_type": "error",
          "traceback": [
            "\u001b[0;31m---------------------------------------------------------------------------\u001b[0m",
            "\u001b[0;31mValueError\u001b[0m                                Traceback (most recent call last)",
            "\u001b[0;32m/var/folders/jd/j9ms5wbn0sj9nw8k1tlzrq600000gn/T/ipykernel_86849/2295613693.py\u001b[0m in \u001b[0;36m<cell line: 0>\u001b[0;34m()\u001b[0m\n\u001b[1;32m      7\u001b[0m \u001b[0mquery_followup\u001b[0m\u001b[0;34m=\u001b[0m\u001b[0;34m'What were the names of these mechanisms?'\u001b[0m\u001b[0;34m\u001b[0m\u001b[0;34m\u001b[0m\u001b[0m\n\u001b[1;32m      8\u001b[0m \u001b[0;34m\u001b[0m\u001b[0m\n\u001b[0;32m----> 9\u001b[0;31m \u001b[0mresult\u001b[0m \u001b[0;34m=\u001b[0m \u001b[0mqa\u001b[0m\u001b[0;34m(\u001b[0m\u001b[0;34m{\u001b[0m\u001b[0;34m\"question\"\u001b[0m\u001b[0;34m:\u001b[0m \u001b[0mquery_followup\u001b[0m\u001b[0;34m,\u001b[0m \u001b[0;34m\"chat_history\"\u001b[0m\u001b[0;34m:\u001b[0m \u001b[0mchat_history\u001b[0m\u001b[0;34m}\u001b[0m\u001b[0;34m)\u001b[0m\u001b[0;34m\u001b[0m\u001b[0;34m\u001b[0m\u001b[0m\n\u001b[0m\u001b[1;32m     10\u001b[0m \u001b[0;34m\u001b[0m\u001b[0m\n\u001b[1;32m     11\u001b[0m \u001b[0mprint\u001b[0m\u001b[0;34m(\u001b[0m\u001b[0mquery_followup\u001b[0m\u001b[0;34m+\u001b[0m\u001b[0;34m'\\n'\u001b[0m\u001b[0;34m)\u001b[0m\u001b[0;34m\u001b[0m\u001b[0;34m\u001b[0m\u001b[0m\n",
            "\u001b[0;32m/Library/Frameworks/Python.framework/Versions/3.11/lib/python3.11/site-packages/langchain/chains/base.py\u001b[0m in \u001b[0;36m__call__\u001b[0;34m(self, inputs, return_only_outputs, callbacks, tags, metadata, include_run_info)\u001b[0m\n\u001b[1;32m    280\u001b[0m         \u001b[0;32mexcept\u001b[0m \u001b[0;34m(\u001b[0m\u001b[0mKeyboardInterrupt\u001b[0m\u001b[0;34m,\u001b[0m \u001b[0mException\u001b[0m\u001b[0;34m)\u001b[0m \u001b[0;32mas\u001b[0m \u001b[0me\u001b[0m\u001b[0;34m:\u001b[0m\u001b[0;34m\u001b[0m\u001b[0;34m\u001b[0m\u001b[0m\n\u001b[1;32m    281\u001b[0m             \u001b[0mrun_manager\u001b[0m\u001b[0;34m.\u001b[0m\u001b[0mon_chain_error\u001b[0m\u001b[0;34m(\u001b[0m\u001b[0me\u001b[0m\u001b[0;34m)\u001b[0m\u001b[0;34m\u001b[0m\u001b[0;34m\u001b[0m\u001b[0m\n\u001b[0;32m--> 282\u001b[0;31m             \u001b[0;32mraise\u001b[0m \u001b[0me\u001b[0m\u001b[0;34m\u001b[0m\u001b[0;34m\u001b[0m\u001b[0m\n\u001b[0m\u001b[1;32m    283\u001b[0m         \u001b[0mrun_manager\u001b[0m\u001b[0;34m.\u001b[0m\u001b[0mon_chain_end\u001b[0m\u001b[0;34m(\u001b[0m\u001b[0moutputs\u001b[0m\u001b[0;34m)\u001b[0m\u001b[0;34m\u001b[0m\u001b[0;34m\u001b[0m\u001b[0m\n\u001b[1;32m    284\u001b[0m         final_outputs: Dict[str, Any] = self.prep_outputs(\n",
            "\u001b[0;32m/Library/Frameworks/Python.framework/Versions/3.11/lib/python3.11/site-packages/langchain/chains/base.py\u001b[0m in \u001b[0;36m__call__\u001b[0;34m(self, inputs, return_only_outputs, callbacks, tags, metadata, include_run_info)\u001b[0m\n\u001b[1;32m    274\u001b[0m         \u001b[0;32mtry\u001b[0m\u001b[0;34m:\u001b[0m\u001b[0;34m\u001b[0m\u001b[0;34m\u001b[0m\u001b[0m\n\u001b[1;32m    275\u001b[0m             outputs = (\n\u001b[0;32m--> 276\u001b[0;31m                 \u001b[0mself\u001b[0m\u001b[0;34m.\u001b[0m\u001b[0m_call\u001b[0m\u001b[0;34m(\u001b[0m\u001b[0minputs\u001b[0m\u001b[0;34m,\u001b[0m \u001b[0mrun_manager\u001b[0m\u001b[0;34m=\u001b[0m\u001b[0mrun_manager\u001b[0m\u001b[0;34m)\u001b[0m\u001b[0;34m\u001b[0m\u001b[0;34m\u001b[0m\u001b[0m\n\u001b[0m\u001b[1;32m    277\u001b[0m                 \u001b[0;32mif\u001b[0m \u001b[0mnew_arg_supported\u001b[0m\u001b[0;34m\u001b[0m\u001b[0;34m\u001b[0m\u001b[0m\n\u001b[1;32m    278\u001b[0m                 \u001b[0;32melse\u001b[0m \u001b[0mself\u001b[0m\u001b[0;34m.\u001b[0m\u001b[0m_call\u001b[0m\u001b[0;34m(\u001b[0m\u001b[0minputs\u001b[0m\u001b[0;34m)\u001b[0m\u001b[0;34m\u001b[0m\u001b[0;34m\u001b[0m\u001b[0m\n",
            "\u001b[0;32m/Library/Frameworks/Python.framework/Versions/3.11/lib/python3.11/site-packages/langchain/chains/conversational_retrieval/base.py\u001b[0m in \u001b[0;36m_call\u001b[0;34m(self, inputs, run_manager)\u001b[0m\n\u001b[1;32m    119\u001b[0m         \u001b[0mquestion\u001b[0m \u001b[0;34m=\u001b[0m \u001b[0minputs\u001b[0m\u001b[0;34m[\u001b[0m\u001b[0;34m\"question\"\u001b[0m\u001b[0;34m]\u001b[0m\u001b[0;34m\u001b[0m\u001b[0;34m\u001b[0m\u001b[0m\n\u001b[1;32m    120\u001b[0m         \u001b[0mget_chat_history\u001b[0m \u001b[0;34m=\u001b[0m \u001b[0mself\u001b[0m\u001b[0;34m.\u001b[0m\u001b[0mget_chat_history\u001b[0m \u001b[0;32mor\u001b[0m \u001b[0m_get_chat_history\u001b[0m\u001b[0;34m\u001b[0m\u001b[0;34m\u001b[0m\u001b[0m\n\u001b[0;32m--> 121\u001b[0;31m         \u001b[0mchat_history_str\u001b[0m \u001b[0;34m=\u001b[0m \u001b[0mget_chat_history\u001b[0m\u001b[0;34m(\u001b[0m\u001b[0minputs\u001b[0m\u001b[0;34m[\u001b[0m\u001b[0;34m\"chat_history\"\u001b[0m\u001b[0;34m]\u001b[0m\u001b[0;34m)\u001b[0m\u001b[0;34m\u001b[0m\u001b[0;34m\u001b[0m\u001b[0m\n\u001b[0m\u001b[1;32m    122\u001b[0m \u001b[0;34m\u001b[0m\u001b[0m\n\u001b[1;32m    123\u001b[0m         \u001b[0;32mif\u001b[0m \u001b[0mchat_history_str\u001b[0m\u001b[0;34m:\u001b[0m\u001b[0;34m\u001b[0m\u001b[0;34m\u001b[0m\u001b[0m\n",
            "\u001b[0;32m/Library/Frameworks/Python.framework/Versions/3.11/lib/python3.11/site-packages/langchain/chains/conversational_retrieval/base.py\u001b[0m in \u001b[0;36m_get_chat_history\u001b[0;34m(chat_history)\u001b[0m\n\u001b[1;32m     44\u001b[0m             \u001b[0mbuffer\u001b[0m \u001b[0;34m+=\u001b[0m \u001b[0;34m\"\\n\"\u001b[0m \u001b[0;34m+\u001b[0m \u001b[0;34m\"\\n\"\u001b[0m\u001b[0;34m.\u001b[0m\u001b[0mjoin\u001b[0m\u001b[0;34m(\u001b[0m\u001b[0;34m[\u001b[0m\u001b[0mhuman\u001b[0m\u001b[0;34m,\u001b[0m \u001b[0mai\u001b[0m\u001b[0;34m]\u001b[0m\u001b[0;34m)\u001b[0m\u001b[0;34m\u001b[0m\u001b[0;34m\u001b[0m\u001b[0m\n\u001b[1;32m     45\u001b[0m         \u001b[0;32melse\u001b[0m\u001b[0;34m:\u001b[0m\u001b[0;34m\u001b[0m\u001b[0;34m\u001b[0m\u001b[0m\n\u001b[0;32m---> 46\u001b[0;31m             raise ValueError(\n\u001b[0m\u001b[1;32m     47\u001b[0m                 \u001b[0;34mf\"Unsupported chat history format: {type(dialogue_turn)}.\"\u001b[0m\u001b[0;34m\u001b[0m\u001b[0;34m\u001b[0m\u001b[0m\n\u001b[1;32m     48\u001b[0m                 \u001b[0;34mf\" Full chat history: {chat_history} \"\u001b[0m\u001b[0;34m\u001b[0m\u001b[0;34m\u001b[0m\u001b[0m\n",
            "\u001b[0;31mValueError\u001b[0m: Unsupported chat history format: <class 'list'>. Full chat history: [('What were the names of these mechanisms?', \"The engineering controls for latch mechanism design failures, as observed in the sources, include maintaining photo documentation of mechanical systems during assembly and subsequent testing and usage with similar viewing angles to allow for comparisons, providing access for inspection of mechanical systems, ensuring that strength analyses are performed for planned ground operations of mechanisms, and prior to any unplanned ground operations, and providing true indication of status for all safety critical mechanisms. \\n\\nThe fasteners and locking inserts for latch mechanism design failures should replace locking features that do not exhibit running torques within design specifications, and fasteners and locking inserts are not the proper locking feature solution for latch designs requiring many cycles. \\n\\nLiquid locking compounds should not be depended upon when used in applications outside of manufacturer’s guidelines. \\n\\nEnsure that thermal effects have been considered in the design and analysis of limit switches, and have been reproduced during environmental testing. Design life of mechanisms should consider maintenance cycles of interfacing systems. Sources: {'page': 139.0, 'source': '../data/AMS_2006.pdf'}{'page': 145.0, 'source': '../data/AMS_2008.pdf'}{'page': 139.0, 'source': '../data/AMS_2006.pdf'}{'page': 238.0, 'source': '../data/AMS_2018.pdf'}\"), [('What were the names of these mechanisms?', \"The sources you mentioned mention several engineering controls as solutions for latch mechanism design failures. These include fasteners and locking inserts, liquid locking compounds, limit switches, and maintenance cycles of interfacing systems. Additionally, they suggest proper tolerancing and inspection, repair and rework of mechanical assemblies, dry film lubricant thickness, and strength analyses for planned ground operations. Sources: {'page': 139.0, 'source': '../data/AMS_2006.pdf'}{'page': 138.0, 'source': '../data/AMS_2006.pdf'}{'page': 145.0, 'source': '../data/AMS_2008.pdf'}{'page': 130.0, 'source': '../data/AMS_2006.pdf'}\")]] "
          ]
        }
      ],
      "source": [
        "history=result['answer']+' Sources: '\n",
        "for data in result['source_documents']:\n",
        "    history=history+str(data.metadata)\n",
        "\n",
        "chat_history.append([(query_followup, history)])\n",
        "query_followup='What were the names of these mechanisms?'\n",
        "\n",
        "result = qa({\"question\": query_followup, \"chat_history\": chat_history})\n",
        "\n",
        "print(query_followup+'\\n')\n",
        "print(result['answer']+'\\n\\n'+'Sources:')\n",
        "\n",
        "# print(result['answer'])\n",
        "for data in result['source_documents']:\n",
        "    print(data.metadata)\n",
        "\n",
        "print('\\nGenerated question: '+result['generated_question'])"
      ]
    },
    {
      "cell_type": "markdown",
      "metadata": {},
      "source": [
        "# Claude 2"
      ]
    },
    {
      "cell_type": "code",
      "execution_count": null,
      "metadata": {},
      "outputs": [],
      "source": [
        "# TODO: test out claude 2"
      ]
    },
    {
      "cell_type": "markdown",
      "metadata": {},
      "source": [
        "# Stuff to try and things not quite working"
      ]
    },
    {
      "cell_type": "code",
      "execution_count": null,
      "metadata": {},
      "outputs": [],
      "source": [
        "# Add something with a system description so the chatbot knows some context.\n",
        "# Try using the multi-context question tool as an input to a chain query.\n",
        "# Use cosine scores to find more docs which are relevant.\n",
        "\n",
        "# Try to create an agent to do a more extensive search.\n",
        "#   Follow up from original prompt with a new question\n",
        "#   Search for new docs based on the question\n",
        "#   Plug new docs into another prompt with that question"
      ]
    },
    {
      "cell_type": "code",
      "execution_count": null,
      "metadata": {},
      "outputs": [],
      "source": [
        "# TODO: #1 Check this out: https://python.langchain.com/docs/modules/data_connection/retrievers/ \n",
        "# TODO: #2 Check out how quivr uses langchain, copy key functionality"
      ]
    },
    {
      "cell_type": "markdown",
      "metadata": {},
      "source": [
        "### Fancy stuff that is kinda sorta working"
      ]
    },
    {
      "cell_type": "code",
      "execution_count": null,
      "metadata": {},
      "outputs": [],
      "source": [
        "# Generate\n",
        "# https://python.langchain.com/docs/use_cases/question_answering/\n",
        "\n",
        "# Return source docs\n",
        "from langchain.chains import RetrievalQA\n",
        "from langchain.chat_models import ChatOpenAI\n",
        "\n",
        "llm = ChatOpenAI(model_name='gpt-3.5-turbo', temperature=.5)\n",
        "qa_chain = RetrievalQA.from_llm(llm,retriever=vectorstore.as_retriever(),\n",
        "                                       return_source_documents=True)\n",
        "\n",
        "results = qa_chain({'query': query})"
      ]
    },
    {
      "cell_type": "code",
      "execution_count": null,
      "metadata": {},
      "outputs": [],
      "source": [
        "print(results['query']+'\\n')\n",
        "print(results['result']+'\\n')\n",
        "\n",
        "print('Sources:')\n",
        "for doc in results['source_documents']:\n",
        "    print(doc.metadata)"
      ]
    }
  ],
  "metadata": {
    "colab": {
      "authorship_tag": "ABX9TyONM96f7/m0jUCD9c87+MQy",
      "include_colab_link": true,
      "provenance": []
    },
    "kernelspec": {
      "display_name": "Python 3",
      "language": "python",
      "name": "python3"
    },
    "language_info": {
      "codemirror_mode": {
        "name": "ipython",
        "version": 3
      },
      "file_extension": ".py",
      "mimetype": "text/x-python",
      "name": "python",
      "nbconvert_exporter": "python",
      "pygments_lexer": "ipython3",
      "version": "3.11.1"
    },
    "vscode": {
      "interpreter": {
        "hash": "aee8b7b246df8f9039afb4144a1f6fd8d2ca17a180786b69acc140d282b71a49"
      }
    }
  },
  "nbformat": 4,
  "nbformat_minor": 0
}
