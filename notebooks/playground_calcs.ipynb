{
 "cells": [
  {
   "cell_type": "code",
   "execution_count": 1,
   "metadata": {},
   "outputs": [],
   "source": [
    "import itertools\n",
    "\n",
    "# S1 ascent loads\n",
    "F_B1_x=[50,-50]\n",
    "F_B1_y=[30,-30]\n",
    "F_B1_z=[10,-10]\n",
    "F_B2_x=[50,-50]\n",
    "F_B2_y=[30,-30]\n",
    "F_B2_z=[10,-10]\n",
    "F_TVC=[1000,100]\n",
    "F_e_x=[100,-100]\n",
    "F_e_y=[100,-100]\n",
    "F_e_z=[5000,-500]\n",
    "p_int=[40,50]\n",
    "\n",
    "combinations_s1_ascent=list(itertools.product(F_B1_x,F_B1_y,F_B1_z,\n",
    "                                    F_B2_x,F_B2_y,F_B2_z,\n",
    "                                    F_e_x,F_e_y,F_e_z,p_int))"
   ]
  }
 ],
 "metadata": {
  "kernelspec": {
   "display_name": "Python 3",
   "language": "python",
   "name": "python3"
  },
  "language_info": {
   "codemirror_mode": {
    "name": "ipython",
    "version": 3
   },
   "file_extension": ".py",
   "mimetype": "text/x-python",
   "name": "python",
   "nbconvert_exporter": "python",
   "pygments_lexer": "ipython3",
   "version": "3.11.1"
  },
  "orig_nbformat": 4
 },
 "nbformat": 4,
 "nbformat_minor": 2
}
