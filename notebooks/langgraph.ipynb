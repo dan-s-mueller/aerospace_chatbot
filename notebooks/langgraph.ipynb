{
 "cells": [
  {
   "cell_type": "code",
   "execution_count": null,
   "metadata": {},
   "outputs": [],
   "source": [
    "%load_ext autoreload\n",
    "%autoreload 2"
   ]
  },
  {
   "cell_type": "markdown",
   "metadata": {},
   "source": [
    "To get scores...https://python.langchain.com/docs/how_to/add_scores_retriever/"
   ]
  },
  {
   "cell_type": "markdown",
   "metadata": {},
   "source": [
    "# Test retiever score, standard"
   ]
  },
  {
   "cell_type": "code",
   "execution_count": null,
   "metadata": {},
   "outputs": [],
   "source": [
    "import os\n",
    "from aerospace_chatbot.services import DatabaseService, get_docs_questions_df\n",
    "from aerospace_chatbot.processing import DocumentProcessor, QAModel\n",
    "from aerospace_chatbot.services import EmbeddingService, LLMService\n",
    "\n",
    "test_index={}\n",
    "# test_index['db_type']='ChromaDB'\n",
    "test_index['db_type']='Pinecone'\n",
    "test_index['embedding_service']='OpenAI'\n",
    "test_index['embedding_model']='text-embedding-3-large'\n",
    "test_index['llm_service']='OpenAI'\n",
    "test_index['llm_model']='gpt-4o'\n",
    "\n",
    "# setup_fixture={}\n",
    "# setup_fixture['chunk_method']='character_recursive'\n",
    "# setup_fixture['chunk_size']=400\n",
    "# setup_fixture['chunk_overlap']=0\n",
    "# setup_fixture['batch_size']=50\n",
    "test_prompt='What can you tell me about storage effects on hinge torque booms?'\n",
    "\n",
    "index_name = 'text-embedding-3-large-mech-demo-2m'\n",
    "rag_type = 'Standard'\n",
    "\n",
    "# Load environment variables\n",
    "from dotenv import load_dotenv\n",
    "load_dotenv(override=True)\n",
    "# Set LOCAL_DB_PATH environment variable\n",
    "# os.environ['LOCAL_DB_PATH'] = os.path.abspath('.')"
   ]
  },
  {
   "cell_type": "code",
   "execution_count": 126,
   "metadata": {},
   "outputs": [],
   "source": [
    "# Initialize services\n",
    "embedding_service = EmbeddingService(\n",
    "    model_service=test_index['embedding_service'],\n",
    "    model=test_index['embedding_model']\n",
    ")\n",
    "\n",
    "llm_service = LLMService(\n",
    "    model_service=test_index['llm_service'],\n",
    "    model=test_index['llm_model'],\n",
    ")\n",
    "\n",
    "# Initialize database service\n",
    "db_service = DatabaseService(\n",
    "    db_type=test_index['db_type'],\n",
    "    index_name=index_name,\n",
    "    rag_type=rag_type,\n",
    "    embedding_service=embedding_service,\n",
    "    doc_type='document'\n",
    ")\n",
    "\n",
    "try:\n",
    "    db_service.initialize_database()\n",
    "except ValueError as e:\n",
    "    print(f\"Database initialization failed: {str(e)}\")\n",
    "    print(e)\n",
    "    raise e\n"
   ]
  },
  {
   "cell_type": "code",
   "execution_count": 128,
   "metadata": {},
   "outputs": [],
   "source": [
    "# Initialize QA model\n",
    "qa_model = QAModel(\n",
    "    db_service=db_service,\n",
    "    llm_service=llm_service\n",
    ")\n",
    "\n",
    "# Run a query to create the query database\n",
    "qa_model.query(test_prompt)"
   ]
  },
  {
   "cell_type": "code",
   "execution_count": null,
   "metadata": {},
   "outputs": [],
   "source": [
    "qa_model.result[-1]['references']"
   ]
  },
  {
   "cell_type": "code",
   "execution_count": null,
   "metadata": {},
   "outputs": [],
   "source": [
    "qa_model.sources[-1]"
   ]
  },
  {
   "cell_type": "code",
   "execution_count": null,
   "metadata": {},
   "outputs": [],
   "source": [
    "qa_model.scores[-1]"
   ]
  },
  {
   "cell_type": "markdown",
   "metadata": {},
   "source": [
    "# Test retriever score, parent-child"
   ]
  },
  {
   "cell_type": "code",
   "execution_count": null,
   "metadata": {},
   "outputs": [],
   "source": [
    "import os\n",
    "from aerospace_chatbot.services import DatabaseService, get_docs_questions_df\n",
    "from aerospace_chatbot.processing import DocumentProcessor, QAModel\n",
    "from aerospace_chatbot.services import EmbeddingService, LLMService\n",
    "\n",
    "test_index={}\n",
    "# test_index['db_type']='ChromaDB'\n",
    "test_index['db_type']='Pinecone'\n",
    "test_index['embedding_service']='OpenAI'\n",
    "test_index['embedding_model']='text-embedding-3-large'\n",
    "test_index['llm_service']='OpenAI'\n",
    "test_index['llm_model']='gpt-4o'\n",
    "\n",
    "# setup_fixture={}\n",
    "# setup_fixture['chunk_method']='character_recursive'\n",
    "# setup_fixture['chunk_size']=400\n",
    "# setup_fixture['chunk_overlap']=0\n",
    "# setup_fixture['batch_size']=50\n",
    "test_prompt='What can you tell me about storage effects on hinge torque booms?'\n",
    "\n",
    "index_name = 'text-embedding-3-large-test'\n",
    "rag_type = 'Parent-Child'\n",
    "\n",
    "# Load environment variables\n",
    "from dotenv import load_dotenv\n",
    "load_dotenv(override=True)\n",
    "# Set LOCAL_DB_PATH environment variable\n",
    "# os.environ['LOCAL_DB_PATH'] = os.path.abspath('.')"
   ]
  },
  {
   "cell_type": "code",
   "execution_count": 134,
   "metadata": {},
   "outputs": [],
   "source": [
    "# Initialize services\n",
    "embedding_service = EmbeddingService(\n",
    "    model_service=test_index['embedding_service'],\n",
    "    model=test_index['embedding_model']\n",
    ")\n",
    "\n",
    "llm_service = LLMService(\n",
    "    model_service=test_index['llm_service'],\n",
    "    model=test_index['llm_model'],\n",
    ")\n",
    "\n",
    "# Initialize database service\n",
    "db_service = DatabaseService(\n",
    "    db_type=test_index['db_type'],\n",
    "    index_name=index_name,\n",
    "    rag_type=rag_type,\n",
    "    embedding_service=embedding_service,\n",
    "    doc_type='document'\n",
    ")\n",
    "\n",
    "try:\n",
    "    db_service.initialize_database()\n",
    "except ValueError as e:\n",
    "    print(f\"Database initialization failed: {str(e)}\")\n",
    "    print(e)\n",
    "    raise e"
   ]
  },
  {
   "cell_type": "code",
   "execution_count": null,
   "metadata": {},
   "outputs": [],
   "source": [
    "# Initialize QA model\n",
    "qa_model = QAModel(\n",
    "    db_service=db_service,\n",
    "    llm_service=llm_service\n",
    ")\n",
    "\n",
    "# Run a query to create the query database\n",
    "qa_model.query(test_prompt)"
   ]
  },
  {
   "cell_type": "code",
   "execution_count": null,
   "metadata": {},
   "outputs": [],
   "source": [
    "qa_model.result[-1]['references']"
   ]
  },
  {
   "cell_type": "code",
   "execution_count": null,
   "metadata": {},
   "outputs": [],
   "source": [
    "qa_model.sources[-1]"
   ]
  },
  {
   "cell_type": "code",
   "execution_count": null,
   "metadata": {},
   "outputs": [],
   "source": [
    "qa_model.scores[-1]"
   ]
  },
  {
   "cell_type": "markdown",
   "metadata": {},
   "source": [
    "# Test partitioning update"
   ]
  },
  {
   "cell_type": "code",
   "execution_count": 1,
   "metadata": {},
   "outputs": [],
   "source": [
    "from aerospace_chatbot.processing import DocumentProcessor\n",
    "from aerospace_chatbot.services import EmbeddingService, LLMService, DatabaseService, prompts\n",
    "from aerospace_chatbot.processing import QAModel\n",
    "# from langchain_core.documents import Document\n",
    "\n",
    "test_index={}\n",
    "# test_index['db_type']='ChromaDB'\n",
    "test_index['db_type']='Pinecone'\n",
    "test_index['embedding_service']='OpenAI'\n",
    "test_index['embedding_model']='text-embedding-3-large'\n",
    "test_index['llm_service']='OpenAI'\n",
    "test_index['llm_model']='gpt-4o'\n",
    "\n",
    "# setup_fixture={}\n",
    "# setup_fixture['chunk_method']='character_recursive'\n",
    "chunk_size=400\n",
    "chunk_overlap=0\n",
    "batch_size=50\n",
    "\n",
    "index_name = 'text-embedding-3-large-test'\n",
    "rag_type = 'Standard'\n",
    "\n",
    "# Load environment variables\n",
    "from dotenv import load_dotenv\n",
    "load_dotenv(override=True)\n",
    "# Set LOCAL_DB_PATH environment variable\n",
    "# os.environ['LOCAL_DB_PATH'] = os.path.abspath('.')\n",
    "\n",
    "# Initialize logger\n",
    "import logging\n",
    "logger = logging.getLogger(__name__)\n",
    "logging.basicConfig(level=logging.INFO)\n",
    "\n",
    "test_prompt='How does a thermal knife function in a cable based hold down release mechanism?'"
   ]
  },
  {
   "cell_type": "code",
   "execution_count": 2,
   "metadata": {},
   "outputs": [],
   "source": [
    "# Initialize services\n",
    "embedding_service = EmbeddingService(\n",
    "    model_service=test_index['embedding_service'],\n",
    "    model=test_index['embedding_model']\n",
    ")\n",
    "\n",
    "llm_service = LLMService(\n",
    "    model_service=test_index['llm_service'],\n",
    "    model=test_index['llm_model'],\n",
    ")\n",
    "\n",
    "doc_processor = DocumentProcessor(\n",
    "    embedding_service=embedding_service,\n",
    "    rag_type=rag_type,\n",
    "    chunk_size=chunk_size,\n",
    "    chunk_overlap=chunk_overlap,\n",
    ")\n",
    "\n",
    "# Initialize database service\n",
    "db_service = DatabaseService(\n",
    "    db_type=test_index['db_type'],\n",
    "    index_name=index_name,\n",
    "    rag_type=rag_type,\n",
    "    embedding_service=embedding_service,\n",
    ")"
   ]
  },
  {
   "cell_type": "code",
   "execution_count": 3,
   "metadata": {},
   "outputs": [
    {
     "name": "stderr",
     "output_type": "stream",
     "text": [
      "INFO:aerospace_chatbot.processing.documents:Number of PDFs found: 2\n",
      "INFO:aerospace_chatbot.processing.documents:PDFs found: ['gs://processing-pdfs/1999_christiansen_reocr.pdf', 'gs://processing-pdfs/1999_cremers_reocr.pdf']\n"
     ]
    },
    {
     "data": {
      "text/plain": [
       "['gs://processing-pdfs/1999_christiansen_reocr.pdf',\n",
       " 'gs://processing-pdfs/1999_cremers_reocr.pdf']"
      ]
     },
     "execution_count": 3,
     "metadata": {},
     "output_type": "execute_result"
    }
   ],
   "source": [
    "bucket_name = 'processing-pdfs'\n",
    "docs = DocumentProcessor.list_bucket_pdfs(bucket_name)\n",
    "docs"
   ]
  },
  {
   "cell_type": "code",
   "execution_count": 4,
   "metadata": {},
   "outputs": [],
   "source": [
    "# partitioned_docs = doc_processor.load_and_partition_documents(docs,partition_by_api=False, upload_bucket=bucket_name)\n",
    "# partitioned_docs"
   ]
  },
  {
   "cell_type": "code",
   "execution_count": 5,
   "metadata": {},
   "outputs": [],
   "source": [
    "# chunk_obj, output_paths = doc_processor.chunk_documents(partitioned_docs)\n",
    "# chunk_obj.chunk_convert(destination_type=Document)"
   ]
  },
  {
   "cell_type": "code",
   "execution_count": 6,
   "metadata": {},
   "outputs": [
    {
     "name": "stderr",
     "output_type": "stream",
     "text": [
      "INFO:aerospace_chatbot.services.database:Validating index text-embedding-3-large-test and RAG type Standard\n",
      "INFO:pinecone_plugin_interface.logging:Discovering subpackages in _NamespacePath(['/Users/danmueller/Documents/GitHub/aerospace_chatbot/.venv/lib/python3.11/site-packages/pinecone_plugins'])\n",
      "INFO:pinecone_plugin_interface.logging:Looking for plugins in pinecone_plugins.inference\n",
      "INFO:pinecone_plugin_interface.logging:Installing plugin inference into Pinecone\n",
      "INFO:aerospace_chatbot.services.database:Pinecone index text-embedding-3-large-test found, not creating. Will be initialized with existing index.\n"
     ]
    }
   ],
   "source": [
    "try:\n",
    "    db_service.initialize_database(clear=False)\n",
    "except ValueError as e:\n",
    "    print(f\"Database initialization failed: {str(e)}\")\n",
    "    print(e)\n",
    "    raise e"
   ]
  },
  {
   "cell_type": "code",
   "execution_count": 7,
   "metadata": {},
   "outputs": [],
   "source": [
    "# db_service.index_data(chunk_obj)"
   ]
  },
  {
   "cell_type": "code",
   "execution_count": 8,
   "metadata": {},
   "outputs": [
    {
     "name": "stderr",
     "output_type": "stream",
     "text": [
      "/Users/danmueller/Documents/GitHub/aerospace_chatbot/src/aerospace_chatbot/processing/queries.py:46: LangChainDeprecationWarning: Please see the migration guide at: https://python.langchain.com/docs/versions/migrating_memory/\n",
      "  self.memory = ConversationBufferMemory(\n"
     ]
    }
   ],
   "source": [
    "qa_model = QAModel(\n",
    "    db_service=db_service,\n",
    "    llm_service=llm_service,\n",
    "    k=8\n",
    ")"
   ]
  },
  {
   "cell_type": "code",
   "execution_count": 9,
   "metadata": {},
   "outputs": [],
   "source": [
    "# qa_model.query(test_prompt)"
   ]
  },
  {
   "cell_type": "code",
   "execution_count": 10,
   "metadata": {},
   "outputs": [],
   "source": [
    "# print(qa_model.result[-1]['references'])\n",
    "# print(qa_model.sources[-1])\n",
    "# print(qa_model.scores[-1])\n"
   ]
  },
  {
   "cell_type": "code",
   "execution_count": 11,
   "metadata": {},
   "outputs": [],
   "source": [
    "# print(qa_model.ai_response)"
   ]
  },
  {
   "cell_type": "markdown",
   "metadata": {},
   "source": [
    "# Langgraph"
   ]
  },
  {
   "cell_type": "markdown",
   "metadata": {},
   "source": [
    "Run above section first\n"
   ]
  },
  {
   "cell_type": "code",
   "execution_count": 12,
   "metadata": {},
   "outputs": [],
   "source": [
    "from langchain_core.prompts import ChatPromptTemplate, HumanMessagePromptTemplate, SystemMessagePromptTemplate\n",
    "from langchain_core.messages import HumanMessage, SystemMessage, RemoveMessage\n",
    "from langgraph.checkpoint.memory import MemorySaver\n",
    "from langchain_core.documents import Document\n",
    "from langgraph.graph import MessagesState, StateGraph, START, END\n",
    "from typing_extensions import List"
   ]
  },
  {
   "cell_type": "code",
   "execution_count": 13,
   "metadata": {},
   "outputs": [],
   "source": [
    "retriever = db_service.retriever\n",
    "llm = llm_service.get_llm()\n",
    "memory = MemorySaver()\n",
    "config = {\"configurable\": {\"thread_id\": \"9\"}}\n",
    "# prompt = ChatPromptTemplate.from_messages(\n",
    "#     [\n",
    "#         (\"system\", system_prompt),\n",
    "#         (\"human\", \"{question}\"),\n",
    "#     ]\n",
    "# )\n",
    "# print(prompt)"
   ]
  },
  {
   "cell_type": "code",
   "execution_count": 14,
   "metadata": {},
   "outputs": [],
   "source": [
    "CHATBOT_SYSTEM_PROMPT=SystemMessage(content=\n",
    "\"\"\"\n",
    "Your name is **Aerospace Chatbot**, a specialized assistant for flight hardware design and analysis in aerospace engineering.\n",
    "\n",
    "Use only the **Sources and Context** from the **Reference Documents** provided to answer the **User Question**. Do not use outside knowledge, and strictly follow these rules:\n",
    "\n",
    "### Rules:\n",
    "1. **Answer only based on the provided Sources and Context.**\n",
    "   - If the information is not available in the Sources and Context, respond with:\n",
    "     *\"I don’t know the answer to that based on the information provided. You might consider rephrasing your question or asking about a related topic.\"*\n",
    "2. **Do not make up or infer answers.**\n",
    "3. Provide responses in **English only** and format them using **Markdown** for clarity.\n",
    "4. Suggest related or alternative questions if applicable, to help the user find relevant information within the corpus.\n",
    "\"\"\")\n",
    "\n",
    "QA_PROMPT=HumanMessagePromptTemplate.from_template(template=\n",
    "\"\"\"\n",
    "---\n",
    "**User Question**:\n",
    "{question}\n",
    "---\n",
    "\n",
    "---\n",
    "**Sources and Context from Reference Documents**:\n",
    "{context}\n",
    "---\n",
    "\"\"\")\n",
    "                                                   "
   ]
  },
  {
   "cell_type": "code",
   "execution_count": 15,
   "metadata": {},
   "outputs": [],
   "source": [
    "# QA_PROMPT=HumanMessagePromptTemplate.from_template(template=\n",
    "# \"\"\"\n",
    "# Your name is **Aerospace Chatbot**, a specialized assistant for flight hardware design and analysis in aerospace engineering.\n",
    "\n",
    "# Use only the **Sources and Context** from the **Reference Documents** provided to answer the **User Question**. Do not use outside knowledge, and strictly follow these rules:\n",
    "\n",
    "# ### Rules:\n",
    "# 1. **Answer only based on the provided Sources and Context.**\n",
    "#    - If the information is not available in the Sources and Context, respond with:\n",
    "#      *\"I don’t know the answer to that based on the information provided. You might consider rephrasing your question or asking about a related topic.\"*\n",
    "# 2. **Do not make up or infer answers.**\n",
    "# 3. Provide responses in **English only** and format them using **Markdown** for clarity.\n",
    "# 4. Suggest related or alternative questions if applicable, to help the user find relevant information within the corpus.\n",
    "\n",
    "# ---\n",
    "# **User Question**:\n",
    "# {question}\n",
    "# ---\n",
    "\n",
    "# ---\n",
    "# **Sources and Context from Reference Documents**:\n",
    "# {context}\n",
    "# ---\n",
    "\n",
    "# \"\"\")\n",
    "# QA_PROMPT.pretty_print()"
   ]
  },
  {
   "cell_type": "code",
   "execution_count": 16,
   "metadata": {},
   "outputs": [],
   "source": [
    "SUMMARIZE_TEXT=HumanMessagePromptTemplate.from_template(template=\n",
    "\"\"\"\n",
    "You will generate a concise, **entity-dense** summary of the conversation information provided. {augment}\n",
    "\n",
    "{summary}\n",
    "\n",
    "The summary should adhere to the following rules:\n",
    "\n",
    "### Rules for Summarization:\n",
    "1. **Length**: Limit the summary to 8-10 sentences (~160 words).  \n",
    "2. **Density**: Every word must be critical to conveying the core information. Avoid filler or uninformative phrases.  \n",
    "3. **Format**: Provide the summary directly, without introductory phrases such as \"Here is a summary.\"  \n",
    "4. **Techniques**: Use fusion, compression, and the removal of uninformative details to create a summary that is highly condensed yet self-contained.  \n",
    "5. **Clarity**: Ensure the summary is standalone and easily understood without the document.  \n",
    "6. **Language**: Responses must be in English only.  \n",
    "\n",
    "\"\"\")  "
   ]
  },
  {
   "cell_type": "code",
   "execution_count": 18,
   "metadata": {},
   "outputs": [],
   "source": [
    "# Define state for application\n",
    "# class State(TypedDict):\n",
    "#     question: str\n",
    "#     context: List[Document]\n",
    "#     summary: str\n",
    "#     answer: str\n",
    "# We will add a `summary` attribute (in addition to `messages` key,\n",
    "# which MessagesState already has)\n",
    "class State(MessagesState):\n",
    "    context: List[Document]\n",
    "    summary: str\n",
    "\n",
    "# Define application steps\n",
    "def retrieve(state: State):\n",
    "    \"\"\"\n",
    "    Retrieve the documents from the database.\n",
    "    \"\"\"\n",
    "    logger.info(f\"Node: retrieve\")\n",
    "\n",
    "    retrieved_docs = retriever.invoke(state[\"messages\"][-1].content)\n",
    "    return {\"context\": retrieved_docs}\n",
    "\n",
    "def generate_w_context(state: State):\n",
    "    \"\"\"\n",
    "    Call the model with the prompt with context.\n",
    "    \"\"\"\n",
    "    logger.info(f\"Node: generate_w_context\")\n",
    "\n",
    "    # Get the summary\n",
    "    summary = state.get(\"summary\", \"\")\n",
    "    if summary:\n",
    "        system_message = f\"Summary of conversation earlier: {summary}\"\n",
    "        messages = [CHATBOT_SYSTEM_PROMPT] + [SystemMessage(content=system_message)] + state[\"messages\"]\n",
    "        logger.info(f\"Messages with system prompt (w/summary): {messages}\")\n",
    "    else:\n",
    "        messages = [CHATBOT_SYSTEM_PROMPT] + state[\"messages\"]\n",
    "        logger.info(f\"Messages with system prompt (w/o summary): {messages}\")\n",
    "    state[\"messages\"] = messages\n",
    "\n",
    "    # Add context to the prompt\n",
    "    docs_content = \"\\n\\n\".join(doc.page_content for doc in state[\"context\"][0])\n",
    "    prompt_with_context = QA_PROMPT.format(\n",
    "        question=state[\"messages\"][-1].content, \n",
    "        context=docs_content\n",
    "    )\n",
    "\n",
    "    # Replace the last message (user question) with the prompt with context, return LLM response\n",
    "    state[\"messages\"][-1] = prompt_with_context \n",
    "    logger.info(f\"Messages with prompt with context: {state['messages']}\")\n",
    "    return {\"messages\": [llm.invoke(state[\"messages\"])]}\n",
    "\n",
    "def should_continue(state: State):\n",
    "    \"\"\"\n",
    "    Define the logic for determining whether to end or summarize the conversation\n",
    "    \"\"\"\n",
    "    logger.info(f\"Node: should_continue\")\n",
    "\n",
    "    # If there are more than six messages, then we summarize the conversation\n",
    "    messages = state[\"messages\"]\n",
    "    if len(messages) > 6:\n",
    "        logger.info(f\"Summarizing conversation\")\n",
    "        return \"summarize_conversation\"\n",
    "    \n",
    "    # Otherwise just end\n",
    "    logger.info(f\"Ending conversation\")\n",
    "    logger.info(f\"Messages before ending: {messages}\")\n",
    "    return END\n",
    "\n",
    "def summarize_conversation(state: State):\n",
    "    \"\"\"\n",
    "    Summarize the conversation\n",
    "    \"\"\"\n",
    "    logger.info(f\"Node: summarize_conversation\")\n",
    "\n",
    "    summary = state.get(\"summary\", \"\")\n",
    "    if summary:\n",
    "        # If a summary already exists, extend it\n",
    "        summary_message = SUMMARIZE_TEXT.format(\n",
    "            summary=summary,\n",
    "            augment=\"Extend the summary by taking into account the new messages above.\"\n",
    "        )\n",
    "    else:\n",
    "        # If no summary exists, create one\n",
    "        summary_text=\"\"\"---\\n**Conversation Summary to Date**:\\n{summary}\\n---\"\"\"\n",
    "        summary_message = SUMMARIZE_TEXT.format(\n",
    "            summary=summary_text,\n",
    "            augment=\"Create a summary of the conversation above.\"\n",
    "        )\n",
    "\n",
    "    messages = state[\"messages\"] + [summary_message]\n",
    "    response = llm.invoke(messages)\n",
    "\n",
    "    # Prune messages. This deletes all but the last two messages\n",
    "    delete_messages = [RemoveMessage(id=m.id) for m in state[\"messages\"][:-2]]\n",
    "    return {\"summary\": response.content, \"messages\": delete_messages}"
   ]
  },
  {
   "cell_type": "code",
   "execution_count": 19,
   "metadata": {},
   "outputs": [],
   "source": [
    "# Compile application and test\n",
    "workflow = StateGraph(State)\n",
    "\n",
    "# Define the conversation node and the summarize node\n",
    "workflow.add_node(\"retrieve\", retrieve) \n",
    "workflow.add_node(\"conversation\", generate_w_context)\n",
    "workflow.add_node(\"summarize_conversation\", summarize_conversation)\n",
    "\n",
    "workflow.add_edge(START, \"retrieve\")\n",
    "workflow.add_edge(\"retrieve\", \"conversation\")\n",
    "\n",
    "# We now add a conditional edge\n",
    "workflow.add_conditional_edges(\n",
    "    # Define the start node. We use `conversation`. This means these are the edges taken after the `conversation` node is called.\n",
    "    \"conversation\",\n",
    "    # Next, pass in the function that will determine which node is called next.\n",
    "    should_continue,\n",
    ")\n",
    "\n",
    "# Add a normal edge from `summarize_conversation` to END. This means that after `summarize_conversation` is called, we end.\n",
    "workflow.add_edge(\"summarize_conversation\", END)\n",
    "\n",
    "app = workflow.compile(checkpointer=memory)"
   ]
  },
  {
   "cell_type": "code",
   "execution_count": 20,
   "metadata": {},
   "outputs": [
    {
     "data": {
      "image/png": "[encoded data removed]",
      "text/plain": [
       "<IPython.core.display.Image object>"
      ]
     },
     "metadata": {},
     "output_type": "display_data"
    }
   ],
   "source": [
    "from IPython.display import Image, display\n",
    "\n",
    "display(Image(app.get_graph().draw_mermaid_png()))"
   ]
  },
  {
   "cell_type": "code",
   "execution_count": 21,
   "metadata": {},
   "outputs": [
    {
     "name": "stderr",
     "output_type": "stream",
     "text": [
      "INFO:__main__:Node: retrieve\n",
      "INFO:httpx:HTTP Request: POST https://api.openai.com/v1/embeddings \"HTTP/1.1 200 OK\"\n",
      "INFO:__main__:Node: generate_w_context\n",
      "INFO:__main__:Messages with system prompt (w/o summary): [SystemMessage(content='\\nYour name is **Aerospace Chatbot**, a specialized assistant for flight hardware design and analysis in aerospace engineering.\\n\\nUse only the **Sources and Context** from the **Reference Documents** provided to answer the **User Question**. Do not use outside knowledge, and strictly follow these rules:\\n\\n### Rules:\\n1. **Answer only based on the provided Sources and Context.**\\n   - If the information is not available in the Sources and Context, respond with:\\n     *\"I don’t know the answer to that based on the information provided. You might consider rephrasing your question or asking about a related topic.\"*\\n2. **Do not make up or infer answers.**\\n3. Provide responses in **English only** and format them using **Markdown** for clarity.\\n4. Suggest related or alternative questions if applicable, to help the user find relevant information within the corpus.\\n', additional_kwargs={}, response_metadata={}), HumanMessage(content='My name is Dan. Please tell me about some interesting mecanism designs.', additional_kwargs={}, response_metadata={}, id='b6094385-73e5-4403-b68f-bb39ae84d0de')]\n",
      "INFO:__main__:Messages with prompt with context: [SystemMessage(content='\\nYour name is **Aerospace Chatbot**, a specialized assistant for flight hardware design and analysis in aerospace engineering.\\n\\nUse only the **Sources and Context** from the **Reference Documents** provided to answer the **User Question**. Do not use outside knowledge, and strictly follow these rules:\\n\\n### Rules:\\n1. **Answer only based on the provided Sources and Context.**\\n   - If the information is not available in the Sources and Context, respond with:\\n     *\"I don’t know the answer to that based on the information provided. You might consider rephrasing your question or asking about a related topic.\"*\\n2. **Do not make up or infer answers.**\\n3. Provide responses in **English only** and format them using **Markdown** for clarity.\\n4. Suggest related or alternative questions if applicable, to help the user find relevant information within the corpus.\\n', additional_kwargs={}, response_metadata={}), HumanMessage(content='\\n---\\n**User Question**:\\nMy name is Dan. Please tell me about some interesting mecanism designs.\\n---\\n\\n---\\n**Sources and Context from Reference Documents**:\\nMULTIPURPOSE HOLDDOWN AND RELEASE MECHANISM (MHRM) Jos Cremers, Erik Gooijer, Gerard Kester\\n\\nFokker Space (www.fokkerspace.nl)\\n\\nPO Box 32070, 2303 DB Leiden, The Netherlands\\n\\nTelephone: +31 71 5245318 / +31 71 5245330 / Fax: +31 71 5245399 E-mail: j.cremers @fokkerspace.nl / e.gooijer@fokkerspace.nl\\n\\n3. DESIGN ISSUES\\n\\nThe basic design problem was to create a device that could utilize a very low energy signal to release a relatively large load of IOKN while addressing the above issues. The overall device comprised several basic components:\\n\\n{ The “prime mover” which converts electrical energy to mechanical\\n\\nmechanism performance and verify forces and margins within the mechanism. While presentation and discussion of all of the development and qualification test results are beyond the scope of this paper, significant results that relate to the basic operational capabilities follow.\\n\\nSeveral fast acting, re-useable components can be (and have been) used to convert electrical energy to mechanical work. Among these are piezo-electric components, motors, solenoids, and shape memory alloy (SMA) components. Of these components SMA in the form of wire has the best combination of features for this type of device. For this design a wire .2 mm in diameter and 50 mm long was chosen.\\n\\nFigure 1. Flywheel, roller, and segmented nut operation.\\n\\nREDUNDANT SPRINGS TO ROTATE\\n\\nCOMPRESSION CREATE TORQUE OUTER RACE LATCHED TOGGLES (2X) LATCH ARM (ONE PIECE) RETAINS TOGGLES 1) SMA WIRES ROTATE ARM 2) TOGGLES RELEASE 3) OUTER RACE ENGAGE ROTATES OUTER RACE RELEASED\\n\\nABSTRACT\\n\\nA release mechanism based on a segmented nut and a Shape Memory Alloy (SMA) wire trigger was designed and qualified based on general requirements for the Teledesic program. Basic design issues and a description of the device are presented. Highlights of test results and typical operational response of the device are discussed.\\n\\n1. INTRODUCTION\\n\\n3.2 Force Reduction / Release Elements.\\n\\nThis device utilizes a roller-bearing type geometry to achieve force reduction and to maximize mechanical\\n\\n(The mechanical components that provide the force reduction from the 10KN load down to the low- energy/low-force release trigger.\\n\\n(The release elements consisting of nut segments and bolt.\\n\\n( The latching elements\\n\\n3.1 Prime Mover\\n---\\n', additional_kwargs={}, response_metadata={})]\n",
      "INFO:httpx:HTTP Request: POST https://api.openai.com/v1/chat/completions \"HTTP/1.1 200 OK\"\n",
      "INFO:__main__:Node: should_continue\n",
      "INFO:__main__:Ending conversation\n",
      "INFO:__main__:Messages before ending: [HumanMessage(content='My name is Dan. Please tell me about some interesting mecanism designs.', additional_kwargs={}, response_metadata={}, id='b6094385-73e5-4403-b68f-bb39ae84d0de'), AIMessage(content='One interesting mechanism design discussed in the provided sources is the **Multipurpose Hold-Down and Release Mechanism (MHRM)**. This mechanism was developed to address the challenge of releasing a relatively large load (10 kN) using a very low energy signal. Here are some key features of this design:\\n\\n- **Prime Mover**: The mechanism uses a \"prime mover\" to convert electrical energy into mechanical work. Several components can serve this purpose, including piezo-electric components, motors, solenoids, and shape memory alloy (SMA) components. For this design, SMA wire was chosen due to its advantageous properties.\\n\\n- **Shape Memory Alloy (SMA) Wire**: The SMA wire used in this mechanism is 0.2 mm in diameter and 50 mm long. SMA wires are known for their ability to change shape in response to temperature changes, which makes them suitable for triggering mechanical movements with minimal energy input.\\n\\n- **Force Reduction and Release Elements**: The mechanism employs a roller-bearing type geometry to reduce the force from the 10 kN load to a level manageable by the low-energy release trigger. This involves the use of nut segments and bolts as part of the release elements.\\n\\n- **Latching Elements**: The design includes latching elements that ensure the mechanism remains secure until the release is triggered.\\n\\nThis mechanism was designed and qualified for the Teledesic program, highlighting its operational capabilities and the innovative use of SMA wires for efficient energy conversion and mechanical actuation.\\n\\nIf you have more specific questions about the mechanism or its components, feel free to ask!', additional_kwargs={'refusal': None}, response_metadata={'token_usage': {'completion_tokens': 322, 'prompt_tokens': 757, 'total_tokens': 1079, 'completion_tokens_details': {'accepted_prediction_tokens': 0, 'audio_tokens': 0, 'reasoning_tokens': 0, 'rejected_prediction_tokens': 0}, 'prompt_tokens_details': {'audio_tokens': 0, 'cached_tokens': 0}}, 'model_name': 'gpt-4o-2024-08-06', 'system_fingerprint': 'fp_5f20662549', 'finish_reason': 'stop', 'logprobs': None}, id='run-2ae58e49-9bda-46db-a4ff-7dea25a0fbdb-0', usage_metadata={'input_tokens': 757, 'output_tokens': 322, 'total_tokens': 1079, 'input_token_details': {'audio': 0, 'cache_read': 0}, 'output_token_details': {'audio': 0, 'reasoning': 0}})]\n"
     ]
    },
    {
     "name": "stdout",
     "output_type": "stream",
     "text": [
      "================================\u001b[1m Human Message \u001b[0m=================================\n",
      "\n",
      "My name is Dan. Please tell me about some interesting mecanism designs.\n",
      "==================================\u001b[1m Ai Message \u001b[0m==================================\n",
      "\n",
      "One interesting mechanism design discussed in the provided sources is the **Multipurpose Hold-Down and Release Mechanism (MHRM)**. This mechanism was developed to address the challenge of releasing a relatively large load (10 kN) using a very low energy signal. Here are some key features of this design:\n",
      "\n",
      "- **Prime Mover**: The mechanism uses a \"prime mover\" to convert electrical energy into mechanical work. Several components can serve this purpose, including piezo-electric components, motors, solenoids, and shape memory alloy (SMA) components. For this design, SMA wire was chosen due to its advantageous properties.\n",
      "\n",
      "- **Shape Memory Alloy (SMA) Wire**: The SMA wire used in this mechanism is 0.2 mm in diameter and 50 mm long. SMA wires are known for their ability to change shape in response to temperature changes, which makes them suitable for triggering mechanical movements with minimal energy input.\n",
      "\n",
      "- **Force Reduction and Release Elements**: The mechanism employs a roller-bearing type geometry to reduce the force from the 10 kN load to a level manageable by the low-energy release trigger. This involves the use of nut segments and bolts as part of the release elements.\n",
      "\n",
      "- **Latching Elements**: The design includes latching elements that ensure the mechanism remains secure until the release is triggered.\n",
      "\n",
      "This mechanism was designed and qualified for the Teledesic program, highlighting its operational capabilities and the innovative use of SMA wires for efficient energy conversion and mechanical actuation.\n",
      "\n",
      "If you have more specific questions about the mechanism or its components, feel free to ask!\n"
     ]
    }
   ],
   "source": [
    "# result = graph.invoke({\"question\": test_prompt}, config=config)\n",
    "\n",
    "prompt = 'My name is Dan. Please tell me about some interesting mecanism designs.'\n",
    "result = app.invoke({\"messages\": [(\"human\", prompt)]}, config)\n",
    "for message in result['messages']:\n",
    "    message.pretty_print()"
   ]
  },
  {
   "cell_type": "code",
   "execution_count": 22,
   "metadata": {},
   "outputs": [
    {
     "name": "stderr",
     "output_type": "stream",
     "text": [
      "INFO:__main__:Node: retrieve\n",
      "INFO:httpx:HTTP Request: POST https://api.openai.com/v1/embeddings \"HTTP/1.1 200 OK\"\n",
      "INFO:__main__:Node: generate_w_context\n",
      "INFO:__main__:Messages with system prompt (w/o summary): [SystemMessage(content='\\nYour name is **Aerospace Chatbot**, a specialized assistant for flight hardware design and analysis in aerospace engineering.\\n\\nUse only the **Sources and Context** from the **Reference Documents** provided to answer the **User Question**. Do not use outside knowledge, and strictly follow these rules:\\n\\n### Rules:\\n1. **Answer only based on the provided Sources and Context.**\\n   - If the information is not available in the Sources and Context, respond with:\\n     *\"I don’t know the answer to that based on the information provided. You might consider rephrasing your question or asking about a related topic.\"*\\n2. **Do not make up or infer answers.**\\n3. Provide responses in **English only** and format them using **Markdown** for clarity.\\n4. Suggest related or alternative questions if applicable, to help the user find relevant information within the corpus.\\n', additional_kwargs={}, response_metadata={}), HumanMessage(content='My name is Dan. Please tell me about some interesting mecanism designs.', additional_kwargs={}, response_metadata={}, id='b6094385-73e5-4403-b68f-bb39ae84d0de'), AIMessage(content='One interesting mechanism design discussed in the provided sources is the **Multipurpose Hold-Down and Release Mechanism (MHRM)**. This mechanism was developed to address the challenge of releasing a relatively large load (10 kN) using a very low energy signal. Here are some key features of this design:\\n\\n- **Prime Mover**: The mechanism uses a \"prime mover\" to convert electrical energy into mechanical work. Several components can serve this purpose, including piezo-electric components, motors, solenoids, and shape memory alloy (SMA) components. For this design, SMA wire was chosen due to its advantageous properties.\\n\\n- **Shape Memory Alloy (SMA) Wire**: The SMA wire used in this mechanism is 0.2 mm in diameter and 50 mm long. SMA wires are known for their ability to change shape in response to temperature changes, which makes them suitable for triggering mechanical movements with minimal energy input.\\n\\n- **Force Reduction and Release Elements**: The mechanism employs a roller-bearing type geometry to reduce the force from the 10 kN load to a level manageable by the low-energy release trigger. This involves the use of nut segments and bolts as part of the release elements.\\n\\n- **Latching Elements**: The design includes latching elements that ensure the mechanism remains secure until the release is triggered.\\n\\nThis mechanism was designed and qualified for the Teledesic program, highlighting its operational capabilities and the innovative use of SMA wires for efficient energy conversion and mechanical actuation.\\n\\nIf you have more specific questions about the mechanism or its components, feel free to ask!', additional_kwargs={'refusal': None}, response_metadata={'token_usage': {'completion_tokens': 322, 'prompt_tokens': 757, 'total_tokens': 1079, 'completion_tokens_details': {'accepted_prediction_tokens': 0, 'audio_tokens': 0, 'reasoning_tokens': 0, 'rejected_prediction_tokens': 0}, 'prompt_tokens_details': {'audio_tokens': 0, 'cached_tokens': 0}}, 'model_name': 'gpt-4o-2024-08-06', 'system_fingerprint': 'fp_5f20662549', 'finish_reason': 'stop', 'logprobs': None}, id='run-2ae58e49-9bda-46db-a4ff-7dea25a0fbdb-0', usage_metadata={'input_tokens': 757, 'output_tokens': 322, 'total_tokens': 1079, 'input_token_details': {'audio': 0, 'cache_read': 0}, 'output_token_details': {'audio': 0, 'reasoning': 0}}), HumanMessage(content='How have these mecahnisms been tested?', additional_kwargs={}, response_metadata={}, id='f22c2934-cbe4-4501-a92a-596dbb212676')]\n",
      "INFO:__main__:Messages with prompt with context: [SystemMessage(content='\\nYour name is **Aerospace Chatbot**, a specialized assistant for flight hardware design and analysis in aerospace engineering.\\n\\nUse only the **Sources and Context** from the **Reference Documents** provided to answer the **User Question**. Do not use outside knowledge, and strictly follow these rules:\\n\\n### Rules:\\n1. **Answer only based on the provided Sources and Context.**\\n   - If the information is not available in the Sources and Context, respond with:\\n     *\"I don’t know the answer to that based on the information provided. You might consider rephrasing your question or asking about a related topic.\"*\\n2. **Do not make up or infer answers.**\\n3. Provide responses in **English only** and format them using **Markdown** for clarity.\\n4. Suggest related or alternative questions if applicable, to help the user find relevant information within the corpus.\\n', additional_kwargs={}, response_metadata={}), HumanMessage(content='My name is Dan. Please tell me about some interesting mecanism designs.', additional_kwargs={}, response_metadata={}, id='b6094385-73e5-4403-b68f-bb39ae84d0de'), AIMessage(content='One interesting mechanism design discussed in the provided sources is the **Multipurpose Hold-Down and Release Mechanism (MHRM)**. This mechanism was developed to address the challenge of releasing a relatively large load (10 kN) using a very low energy signal. Here are some key features of this design:\\n\\n- **Prime Mover**: The mechanism uses a \"prime mover\" to convert electrical energy into mechanical work. Several components can serve this purpose, including piezo-electric components, motors, solenoids, and shape memory alloy (SMA) components. For this design, SMA wire was chosen due to its advantageous properties.\\n\\n- **Shape Memory Alloy (SMA) Wire**: The SMA wire used in this mechanism is 0.2 mm in diameter and 50 mm long. SMA wires are known for their ability to change shape in response to temperature changes, which makes them suitable for triggering mechanical movements with minimal energy input.\\n\\n- **Force Reduction and Release Elements**: The mechanism employs a roller-bearing type geometry to reduce the force from the 10 kN load to a level manageable by the low-energy release trigger. This involves the use of nut segments and bolts as part of the release elements.\\n\\n- **Latching Elements**: The design includes latching elements that ensure the mechanism remains secure until the release is triggered.\\n\\nThis mechanism was designed and qualified for the Teledesic program, highlighting its operational capabilities and the innovative use of SMA wires for efficient energy conversion and mechanical actuation.\\n\\nIf you have more specific questions about the mechanism or its components, feel free to ask!', additional_kwargs={'refusal': None}, response_metadata={'token_usage': {'completion_tokens': 322, 'prompt_tokens': 757, 'total_tokens': 1079, 'completion_tokens_details': {'accepted_prediction_tokens': 0, 'audio_tokens': 0, 'reasoning_tokens': 0, 'rejected_prediction_tokens': 0}, 'prompt_tokens_details': {'audio_tokens': 0, 'cached_tokens': 0}}, 'model_name': 'gpt-4o-2024-08-06', 'system_fingerprint': 'fp_5f20662549', 'finish_reason': 'stop', 'logprobs': None}, id='run-2ae58e49-9bda-46db-a4ff-7dea25a0fbdb-0', usage_metadata={'input_tokens': 757, 'output_tokens': 322, 'total_tokens': 1079, 'input_token_details': {'audio': 0, 'cache_read': 0}, 'output_token_details': {'audio': 0, 'reasoning': 0}}), HumanMessage(content='\\n---\\n**User Question**:\\nHow have these mecahnisms been tested?\\n---\\n\\n---\\n**Sources and Context from Reference Documents**:\\nmechanism performance and verify forces and margins within the mechanism. While presentation and discussion of all of the development and qualification test results are beyond the scope of this paper, significant results that relate to the basic operational capabilities follow.\\n\\nDuring the development and qualification of the release mechanism, a large number of functional and environmental tests were performed. A qualification test series was performed consisting of typical spacecraft environmental tests and interspersed functional tests to monitor performance. During development testing similar environmental tests were performed along with a number of tests to assess\\n\\nAt present, the MHRM Engineering Model tests have been completed.\\n\\n4. VERIFICATION\\n\\nEngineering model testing comprised the following:\\n\\n1. stiffness and strength testing\\n\\n2. on-ground release testing (in ambient)\\n\\n3. sine, sine dwell and random vibration\\n\\n4. release testing under thermal vacuum circumstances\\n\\npyro shock Resettability / reusability High reliability mechanism\\n\\n(No ( (\\n\\n2. OPERATIONAL ISSUES\\n\\nTypically separation nuts are released through the action of gas generated through detonation of a pyrotechnic charge. The safe and effective use of a pyrotechnic mechanism is based on some very strict handling protocol.\\n\\n4.1 Stiffness and strength testing\\n\\nThree MHRMs were loaded in 3 orthogonal directions on a tensile test bench, while recording force/displacement diagrams. The in-plane forces were acting in the separation plane of both Reel parts. Finally they were loaded in out-of-plane direction until failure.\\n\\n{ Load cell — a load cell is included in the retractor side to accurately set the preload\\n\\n(Retractor spring — a spring assures the bolt is retracted clear of the release mechanism housing\\n\\n5. TEST RESULT SUMMARY\\n\\nFigure 7. Two MHRMs with dummy masses on shaker facility\\n\\nAfterwards it appeared that some transfer of material between upper and lower Reel parts had taken place during vibration. There is, however, no indication that this phenomenon affects the MHRM release capability. The clamp load between both Reel parts was unaffected by the vibration testing.\\n---\\n', additional_kwargs={}, response_metadata={})]\n",
      "INFO:httpx:HTTP Request: POST https://api.openai.com/v1/chat/completions \"HTTP/1.1 200 OK\"\n",
      "INFO:__main__:Node: should_continue\n",
      "INFO:__main__:Ending conversation\n",
      "INFO:__main__:Messages before ending: [HumanMessage(content='My name is Dan. Please tell me about some interesting mecanism designs.', additional_kwargs={}, response_metadata={}, id='b6094385-73e5-4403-b68f-bb39ae84d0de'), AIMessage(content='One interesting mechanism design discussed in the provided sources is the **Multipurpose Hold-Down and Release Mechanism (MHRM)**. This mechanism was developed to address the challenge of releasing a relatively large load (10 kN) using a very low energy signal. Here are some key features of this design:\\n\\n- **Prime Mover**: The mechanism uses a \"prime mover\" to convert electrical energy into mechanical work. Several components can serve this purpose, including piezo-electric components, motors, solenoids, and shape memory alloy (SMA) components. For this design, SMA wire was chosen due to its advantageous properties.\\n\\n- **Shape Memory Alloy (SMA) Wire**: The SMA wire used in this mechanism is 0.2 mm in diameter and 50 mm long. SMA wires are known for their ability to change shape in response to temperature changes, which makes them suitable for triggering mechanical movements with minimal energy input.\\n\\n- **Force Reduction and Release Elements**: The mechanism employs a roller-bearing type geometry to reduce the force from the 10 kN load to a level manageable by the low-energy release trigger. This involves the use of nut segments and bolts as part of the release elements.\\n\\n- **Latching Elements**: The design includes latching elements that ensure the mechanism remains secure until the release is triggered.\\n\\nThis mechanism was designed and qualified for the Teledesic program, highlighting its operational capabilities and the innovative use of SMA wires for efficient energy conversion and mechanical actuation.\\n\\nIf you have more specific questions about the mechanism or its components, feel free to ask!', additional_kwargs={'refusal': None}, response_metadata={'token_usage': {'completion_tokens': 322, 'prompt_tokens': 757, 'total_tokens': 1079, 'completion_tokens_details': {'accepted_prediction_tokens': 0, 'audio_tokens': 0, 'reasoning_tokens': 0, 'rejected_prediction_tokens': 0}, 'prompt_tokens_details': {'audio_tokens': 0, 'cached_tokens': 0}}, 'model_name': 'gpt-4o-2024-08-06', 'system_fingerprint': 'fp_5f20662549', 'finish_reason': 'stop', 'logprobs': None}, id='run-2ae58e49-9bda-46db-a4ff-7dea25a0fbdb-0', usage_metadata={'input_tokens': 757, 'output_tokens': 322, 'total_tokens': 1079, 'input_token_details': {'audio': 0, 'cache_read': 0}, 'output_token_details': {'audio': 0, 'reasoning': 0}}), HumanMessage(content='How have these mecahnisms been tested?', additional_kwargs={}, response_metadata={}, id='f22c2934-cbe4-4501-a92a-596dbb212676'), AIMessage(content=\"The testing of the Multipurpose Hold-Down and Release Mechanism (MHRM) involved a comprehensive series of functional and environmental tests to ensure its performance and reliability. Here are some key aspects of the testing process:\\n\\n1. **Stiffness and Strength Testing**: Three MHRMs were subjected to loading in three orthogonal directions on a tensile test bench. Force/displacement diagrams were recorded to assess the stiffness and strength of the mechanisms. The tests included loading in the separation plane and out-of-plane directions until failure.\\n\\n2. **On-Ground Release Testing**: This involved testing the release mechanism in ambient conditions to verify its functionality.\\n\\n3. **Vibration Testing**: The mechanisms underwent sine, sine dwell, and random vibration tests. These tests are crucial for simulating the conditions the mechanism would experience during a spacecraft launch.\\n\\n4. **Thermal Vacuum Release Testing**: The release mechanism was tested under thermal vacuum conditions to simulate the space environment and ensure it operates correctly in such conditions.\\n\\n5. **Pyro Shock and Resettability/Reusability**: Although not detailed in the provided context, these aspects are typically part of the testing to ensure the mechanism can withstand shock and be reset or reused if necessary.\\n\\nThe tests confirmed the mechanism's operational capabilities, with no significant issues affecting its release capability, even after vibration testing. The clamp load between the Reel parts remained unaffected, indicating robust performance.\\n\\nIf you have further questions about specific tests or results, feel free to ask!\", additional_kwargs={'refusal': None}, response_metadata={'token_usage': {'completion_tokens': 302, 'prompt_tokens': 970, 'total_tokens': 1272, 'completion_tokens_details': {'accepted_prediction_tokens': 0, 'audio_tokens': 0, 'reasoning_tokens': 0, 'rejected_prediction_tokens': 0}, 'prompt_tokens_details': {'audio_tokens': 0, 'cached_tokens': 0}}, 'model_name': 'gpt-4o-2024-08-06', 'system_fingerprint': 'fp_5f20662549', 'finish_reason': 'stop', 'logprobs': None}, id='run-18f0dc0a-4113-493b-8fc0-d0fcd53a756e-0', usage_metadata={'input_tokens': 970, 'output_tokens': 302, 'total_tokens': 1272, 'input_token_details': {'audio': 0, 'cache_read': 0}, 'output_token_details': {'audio': 0, 'reasoning': 0}})]\n"
     ]
    },
    {
     "name": "stdout",
     "output_type": "stream",
     "text": [
      "================================\u001b[1m Human Message \u001b[0m=================================\n",
      "\n",
      "My name is Dan. Please tell me about some interesting mecanism designs.\n",
      "==================================\u001b[1m Ai Message \u001b[0m==================================\n",
      "\n",
      "One interesting mechanism design discussed in the provided sources is the **Multipurpose Hold-Down and Release Mechanism (MHRM)**. This mechanism was developed to address the challenge of releasing a relatively large load (10 kN) using a very low energy signal. Here are some key features of this design:\n",
      "\n",
      "- **Prime Mover**: The mechanism uses a \"prime mover\" to convert electrical energy into mechanical work. Several components can serve this purpose, including piezo-electric components, motors, solenoids, and shape memory alloy (SMA) components. For this design, SMA wire was chosen due to its advantageous properties.\n",
      "\n",
      "- **Shape Memory Alloy (SMA) Wire**: The SMA wire used in this mechanism is 0.2 mm in diameter and 50 mm long. SMA wires are known for their ability to change shape in response to temperature changes, which makes them suitable for triggering mechanical movements with minimal energy input.\n",
      "\n",
      "- **Force Reduction and Release Elements**: The mechanism employs a roller-bearing type geometry to reduce the force from the 10 kN load to a level manageable by the low-energy release trigger. This involves the use of nut segments and bolts as part of the release elements.\n",
      "\n",
      "- **Latching Elements**: The design includes latching elements that ensure the mechanism remains secure until the release is triggered.\n",
      "\n",
      "This mechanism was designed and qualified for the Teledesic program, highlighting its operational capabilities and the innovative use of SMA wires for efficient energy conversion and mechanical actuation.\n",
      "\n",
      "If you have more specific questions about the mechanism or its components, feel free to ask!\n",
      "================================\u001b[1m Human Message \u001b[0m=================================\n",
      "\n",
      "How have these mecahnisms been tested?\n",
      "==================================\u001b[1m Ai Message \u001b[0m==================================\n",
      "\n",
      "The testing of the Multipurpose Hold-Down and Release Mechanism (MHRM) involved a comprehensive series of functional and environmental tests to ensure its performance and reliability. Here are some key aspects of the testing process:\n",
      "\n",
      "1. **Stiffness and Strength Testing**: Three MHRMs were subjected to loading in three orthogonal directions on a tensile test bench. Force/displacement diagrams were recorded to assess the stiffness and strength of the mechanisms. The tests included loading in the separation plane and out-of-plane directions until failure.\n",
      "\n",
      "2. **On-Ground Release Testing**: This involved testing the release mechanism in ambient conditions to verify its functionality.\n",
      "\n",
      "3. **Vibration Testing**: The mechanisms underwent sine, sine dwell, and random vibration tests. These tests are crucial for simulating the conditions the mechanism would experience during a spacecraft launch.\n",
      "\n",
      "4. **Thermal Vacuum Release Testing**: The release mechanism was tested under thermal vacuum conditions to simulate the space environment and ensure it operates correctly in such conditions.\n",
      "\n",
      "5. **Pyro Shock and Resettability/Reusability**: Although not detailed in the provided context, these aspects are typically part of the testing to ensure the mechanism can withstand shock and be reset or reused if necessary.\n",
      "\n",
      "The tests confirmed the mechanism's operational capabilities, with no significant issues affecting its release capability, even after vibration testing. The clamp load between the Reel parts remained unaffected, indicating robust performance.\n",
      "\n",
      "If you have further questions about specific tests or results, feel free to ask!\n"
     ]
    }
   ],
   "source": [
    "prompt = 'How have these mecahnisms been tested?'\n",
    "result = app.invoke({\"messages\": [(\"human\", prompt)]}, config)\n",
    "for message in result['messages']:\n",
    "    message.pretty_print()"
   ]
  },
  {
   "cell_type": "code",
   "execution_count": 23,
   "metadata": {},
   "outputs": [
    {
     "name": "stderr",
     "output_type": "stream",
     "text": [
      "INFO:__main__:Node: retrieve\n",
      "INFO:httpx:HTTP Request: POST https://api.openai.com/v1/embeddings \"HTTP/1.1 200 OK\"\n",
      "INFO:__main__:Node: generate_w_context\n",
      "INFO:__main__:Messages with system prompt (w/o summary): [SystemMessage(content='\\nYour name is **Aerospace Chatbot**, a specialized assistant for flight hardware design and analysis in aerospace engineering.\\n\\nUse only the **Sources and Context** from the **Reference Documents** provided to answer the **User Question**. Do not use outside knowledge, and strictly follow these rules:\\n\\n### Rules:\\n1. **Answer only based on the provided Sources and Context.**\\n   - If the information is not available in the Sources and Context, respond with:\\n     *\"I don’t know the answer to that based on the information provided. You might consider rephrasing your question or asking about a related topic.\"*\\n2. **Do not make up or infer answers.**\\n3. Provide responses in **English only** and format them using **Markdown** for clarity.\\n4. Suggest related or alternative questions if applicable, to help the user find relevant information within the corpus.\\n', additional_kwargs={}, response_metadata={}), HumanMessage(content='My name is Dan. Please tell me about some interesting mecanism designs.', additional_kwargs={}, response_metadata={}, id='b6094385-73e5-4403-b68f-bb39ae84d0de'), AIMessage(content='One interesting mechanism design discussed in the provided sources is the **Multipurpose Hold-Down and Release Mechanism (MHRM)**. This mechanism was developed to address the challenge of releasing a relatively large load (10 kN) using a very low energy signal. Here are some key features of this design:\\n\\n- **Prime Mover**: The mechanism uses a \"prime mover\" to convert electrical energy into mechanical work. Several components can serve this purpose, including piezo-electric components, motors, solenoids, and shape memory alloy (SMA) components. For this design, SMA wire was chosen due to its advantageous properties.\\n\\n- **Shape Memory Alloy (SMA) Wire**: The SMA wire used in this mechanism is 0.2 mm in diameter and 50 mm long. SMA wires are known for their ability to change shape in response to temperature changes, which makes them suitable for triggering mechanical movements with minimal energy input.\\n\\n- **Force Reduction and Release Elements**: The mechanism employs a roller-bearing type geometry to reduce the force from the 10 kN load to a level manageable by the low-energy release trigger. This involves the use of nut segments and bolts as part of the release elements.\\n\\n- **Latching Elements**: The design includes latching elements that ensure the mechanism remains secure until the release is triggered.\\n\\nThis mechanism was designed and qualified for the Teledesic program, highlighting its operational capabilities and the innovative use of SMA wires for efficient energy conversion and mechanical actuation.\\n\\nIf you have more specific questions about the mechanism or its components, feel free to ask!', additional_kwargs={'refusal': None}, response_metadata={'token_usage': {'completion_tokens': 322, 'prompt_tokens': 757, 'total_tokens': 1079, 'completion_tokens_details': {'accepted_prediction_tokens': 0, 'audio_tokens': 0, 'reasoning_tokens': 0, 'rejected_prediction_tokens': 0}, 'prompt_tokens_details': {'audio_tokens': 0, 'cached_tokens': 0}}, 'model_name': 'gpt-4o-2024-08-06', 'system_fingerprint': 'fp_5f20662549', 'finish_reason': 'stop', 'logprobs': None}, id='run-2ae58e49-9bda-46db-a4ff-7dea25a0fbdb-0', usage_metadata={'input_tokens': 757, 'output_tokens': 322, 'total_tokens': 1079, 'input_token_details': {'audio': 0, 'cache_read': 0}, 'output_token_details': {'audio': 0, 'reasoning': 0}}), HumanMessage(content='How have these mecahnisms been tested?', additional_kwargs={}, response_metadata={}, id='f22c2934-cbe4-4501-a92a-596dbb212676'), AIMessage(content=\"The testing of the Multipurpose Hold-Down and Release Mechanism (MHRM) involved a comprehensive series of functional and environmental tests to ensure its performance and reliability. Here are some key aspects of the testing process:\\n\\n1. **Stiffness and Strength Testing**: Three MHRMs were subjected to loading in three orthogonal directions on a tensile test bench. Force/displacement diagrams were recorded to assess the stiffness and strength of the mechanisms. The tests included loading in the separation plane and out-of-plane directions until failure.\\n\\n2. **On-Ground Release Testing**: This involved testing the release mechanism in ambient conditions to verify its functionality.\\n\\n3. **Vibration Testing**: The mechanisms underwent sine, sine dwell, and random vibration tests. These tests are crucial for simulating the conditions the mechanism would experience during a spacecraft launch.\\n\\n4. **Thermal Vacuum Release Testing**: The release mechanism was tested under thermal vacuum conditions to simulate the space environment and ensure it operates correctly in such conditions.\\n\\n5. **Pyro Shock and Resettability/Reusability**: Although not detailed in the provided context, these aspects are typically part of the testing to ensure the mechanism can withstand shock and be reset or reused if necessary.\\n\\nThe tests confirmed the mechanism's operational capabilities, with no significant issues affecting its release capability, even after vibration testing. The clamp load between the Reel parts remained unaffected, indicating robust performance.\\n\\nIf you have further questions about specific tests or results, feel free to ask!\", additional_kwargs={'refusal': None}, response_metadata={'token_usage': {'completion_tokens': 302, 'prompt_tokens': 970, 'total_tokens': 1272, 'completion_tokens_details': {'accepted_prediction_tokens': 0, 'audio_tokens': 0, 'reasoning_tokens': 0, 'rejected_prediction_tokens': 0}, 'prompt_tokens_details': {'audio_tokens': 0, 'cached_tokens': 0}}, 'model_name': 'gpt-4o-2024-08-06', 'system_fingerprint': 'fp_5f20662549', 'finish_reason': 'stop', 'logprobs': None}, id='run-18f0dc0a-4113-493b-8fc0-d0fcd53a756e-0', usage_metadata={'input_tokens': 970, 'output_tokens': 302, 'total_tokens': 1272, 'input_token_details': {'audio': 0, 'cache_read': 0}, 'output_token_details': {'audio': 0, 'reasoning': 0}}), HumanMessage(content='How old are you?', additional_kwargs={}, response_metadata={}, id='3e6deb45-75f1-4e20-abfc-4f26c179994f')]\n",
      "INFO:__main__:Messages with prompt with context: [SystemMessage(content='\\nYour name is **Aerospace Chatbot**, a specialized assistant for flight hardware design and analysis in aerospace engineering.\\n\\nUse only the **Sources and Context** from the **Reference Documents** provided to answer the **User Question**. Do not use outside knowledge, and strictly follow these rules:\\n\\n### Rules:\\n1. **Answer only based on the provided Sources and Context.**\\n   - If the information is not available in the Sources and Context, respond with:\\n     *\"I don’t know the answer to that based on the information provided. You might consider rephrasing your question or asking about a related topic.\"*\\n2. **Do not make up or infer answers.**\\n3. Provide responses in **English only** and format them using **Markdown** for clarity.\\n4. Suggest related or alternative questions if applicable, to help the user find relevant information within the corpus.\\n', additional_kwargs={}, response_metadata={}), HumanMessage(content='My name is Dan. Please tell me about some interesting mecanism designs.', additional_kwargs={}, response_metadata={}, id='b6094385-73e5-4403-b68f-bb39ae84d0de'), AIMessage(content='One interesting mechanism design discussed in the provided sources is the **Multipurpose Hold-Down and Release Mechanism (MHRM)**. This mechanism was developed to address the challenge of releasing a relatively large load (10 kN) using a very low energy signal. Here are some key features of this design:\\n\\n- **Prime Mover**: The mechanism uses a \"prime mover\" to convert electrical energy into mechanical work. Several components can serve this purpose, including piezo-electric components, motors, solenoids, and shape memory alloy (SMA) components. For this design, SMA wire was chosen due to its advantageous properties.\\n\\n- **Shape Memory Alloy (SMA) Wire**: The SMA wire used in this mechanism is 0.2 mm in diameter and 50 mm long. SMA wires are known for their ability to change shape in response to temperature changes, which makes them suitable for triggering mechanical movements with minimal energy input.\\n\\n- **Force Reduction and Release Elements**: The mechanism employs a roller-bearing type geometry to reduce the force from the 10 kN load to a level manageable by the low-energy release trigger. This involves the use of nut segments and bolts as part of the release elements.\\n\\n- **Latching Elements**: The design includes latching elements that ensure the mechanism remains secure until the release is triggered.\\n\\nThis mechanism was designed and qualified for the Teledesic program, highlighting its operational capabilities and the innovative use of SMA wires for efficient energy conversion and mechanical actuation.\\n\\nIf you have more specific questions about the mechanism or its components, feel free to ask!', additional_kwargs={'refusal': None}, response_metadata={'token_usage': {'completion_tokens': 322, 'prompt_tokens': 757, 'total_tokens': 1079, 'completion_tokens_details': {'accepted_prediction_tokens': 0, 'audio_tokens': 0, 'reasoning_tokens': 0, 'rejected_prediction_tokens': 0}, 'prompt_tokens_details': {'audio_tokens': 0, 'cached_tokens': 0}}, 'model_name': 'gpt-4o-2024-08-06', 'system_fingerprint': 'fp_5f20662549', 'finish_reason': 'stop', 'logprobs': None}, id='run-2ae58e49-9bda-46db-a4ff-7dea25a0fbdb-0', usage_metadata={'input_tokens': 757, 'output_tokens': 322, 'total_tokens': 1079, 'input_token_details': {'audio': 0, 'cache_read': 0}, 'output_token_details': {'audio': 0, 'reasoning': 0}}), HumanMessage(content='How have these mecahnisms been tested?', additional_kwargs={}, response_metadata={}, id='f22c2934-cbe4-4501-a92a-596dbb212676'), AIMessage(content=\"The testing of the Multipurpose Hold-Down and Release Mechanism (MHRM) involved a comprehensive series of functional and environmental tests to ensure its performance and reliability. Here are some key aspects of the testing process:\\n\\n1. **Stiffness and Strength Testing**: Three MHRMs were subjected to loading in three orthogonal directions on a tensile test bench. Force/displacement diagrams were recorded to assess the stiffness and strength of the mechanisms. The tests included loading in the separation plane and out-of-plane directions until failure.\\n\\n2. **On-Ground Release Testing**: This involved testing the release mechanism in ambient conditions to verify its functionality.\\n\\n3. **Vibration Testing**: The mechanisms underwent sine, sine dwell, and random vibration tests. These tests are crucial for simulating the conditions the mechanism would experience during a spacecraft launch.\\n\\n4. **Thermal Vacuum Release Testing**: The release mechanism was tested under thermal vacuum conditions to simulate the space environment and ensure it operates correctly in such conditions.\\n\\n5. **Pyro Shock and Resettability/Reusability**: Although not detailed in the provided context, these aspects are typically part of the testing to ensure the mechanism can withstand shock and be reset or reused if necessary.\\n\\nThe tests confirmed the mechanism's operational capabilities, with no significant issues affecting its release capability, even after vibration testing. The clamp load between the Reel parts remained unaffected, indicating robust performance.\\n\\nIf you have further questions about specific tests or results, feel free to ask!\", additional_kwargs={'refusal': None}, response_metadata={'token_usage': {'completion_tokens': 302, 'prompt_tokens': 970, 'total_tokens': 1272, 'completion_tokens_details': {'accepted_prediction_tokens': 0, 'audio_tokens': 0, 'reasoning_tokens': 0, 'rejected_prediction_tokens': 0}, 'prompt_tokens_details': {'audio_tokens': 0, 'cached_tokens': 0}}, 'model_name': 'gpt-4o-2024-08-06', 'system_fingerprint': 'fp_5f20662549', 'finish_reason': 'stop', 'logprobs': None}, id='run-18f0dc0a-4113-493b-8fc0-d0fcd53a756e-0', usage_metadata={'input_tokens': 970, 'output_tokens': 302, 'total_tokens': 1272, 'input_token_details': {'audio': 0, 'cache_read': 0}, 'output_token_details': {'audio': 0, 'reasoning': 0}}), HumanMessage(content='\\n---\\n**User Question**:\\nHow old are you?\\n---\\n\\n---\\n**Sources and Context from Reference Documents**:\\nmm.\\n\\nTEST DESCRIPTION LEVELS with dummy masses X-axis X-axis 2 Oct./min X-axis Z-axis 1 Hz/min Z-axis 2 Oct./min Z-axis Y-axis 1 Hz/min Y-axis 2 Oct./min random 18.1 gRMS_ | Y-axis 20-2000 Hz; 120 sec\\n\\n2.5 Safety\\n\\n5.2 Temperature Effects\\n\\nThe results were such that for the 50 Volts version of the Thermal Knife, a voltage range from 48 to 52 is recommended. Release time will then range from 5 (hot case) to 20 seconds (cold case).\\n\\nThe temperature range represented in this figure represents the currently qualified temperatures. The temperatures chosen for this series of tests were based on general requirements and are _ relatively conservative. The current range does not represent the full capability of the design, and minor design revisions could allow for a greater operational temperature range of —65°C to +90°.\\n\\nnot required.\\n\\nDESCRIPTION without dummy masses X-axis sine dwell 30 g 25-26 Hz; | sweep up Z-axis 1 Hz/min sine 20 g 5-100 Hz. 1 sweep up/down Z-axis 2 Oct./min random 18.1 gRMS | 20-2000 Hz; 120 sec Z-axis sine dwell 30 g 25.5-26.5 Hz; 1 sweep up Y-axis 1 Hz/min sine 20 g 5-100 Hz. 1 sweep up/down Y-axis 2 Oct./min random 18.1 gRMS | 20-2000 Hz; 120 sec Y-axis\\n---\\n', additional_kwargs={}, response_metadata={})]\n",
      "INFO:httpx:HTTP Request: POST https://api.openai.com/v1/chat/completions \"HTTP/1.1 200 OK\"\n",
      "INFO:__main__:Node: should_continue\n",
      "INFO:__main__:Ending conversation\n",
      "INFO:__main__:Messages before ending: [HumanMessage(content='My name is Dan. Please tell me about some interesting mecanism designs.', additional_kwargs={}, response_metadata={}, id='b6094385-73e5-4403-b68f-bb39ae84d0de'), AIMessage(content='One interesting mechanism design discussed in the provided sources is the **Multipurpose Hold-Down and Release Mechanism (MHRM)**. This mechanism was developed to address the challenge of releasing a relatively large load (10 kN) using a very low energy signal. Here are some key features of this design:\\n\\n- **Prime Mover**: The mechanism uses a \"prime mover\" to convert electrical energy into mechanical work. Several components can serve this purpose, including piezo-electric components, motors, solenoids, and shape memory alloy (SMA) components. For this design, SMA wire was chosen due to its advantageous properties.\\n\\n- **Shape Memory Alloy (SMA) Wire**: The SMA wire used in this mechanism is 0.2 mm in diameter and 50 mm long. SMA wires are known for their ability to change shape in response to temperature changes, which makes them suitable for triggering mechanical movements with minimal energy input.\\n\\n- **Force Reduction and Release Elements**: The mechanism employs a roller-bearing type geometry to reduce the force from the 10 kN load to a level manageable by the low-energy release trigger. This involves the use of nut segments and bolts as part of the release elements.\\n\\n- **Latching Elements**: The design includes latching elements that ensure the mechanism remains secure until the release is triggered.\\n\\nThis mechanism was designed and qualified for the Teledesic program, highlighting its operational capabilities and the innovative use of SMA wires for efficient energy conversion and mechanical actuation.\\n\\nIf you have more specific questions about the mechanism or its components, feel free to ask!', additional_kwargs={'refusal': None}, response_metadata={'token_usage': {'completion_tokens': 322, 'prompt_tokens': 757, 'total_tokens': 1079, 'completion_tokens_details': {'accepted_prediction_tokens': 0, 'audio_tokens': 0, 'reasoning_tokens': 0, 'rejected_prediction_tokens': 0}, 'prompt_tokens_details': {'audio_tokens': 0, 'cached_tokens': 0}}, 'model_name': 'gpt-4o-2024-08-06', 'system_fingerprint': 'fp_5f20662549', 'finish_reason': 'stop', 'logprobs': None}, id='run-2ae58e49-9bda-46db-a4ff-7dea25a0fbdb-0', usage_metadata={'input_tokens': 757, 'output_tokens': 322, 'total_tokens': 1079, 'input_token_details': {'audio': 0, 'cache_read': 0}, 'output_token_details': {'audio': 0, 'reasoning': 0}}), HumanMessage(content='How have these mecahnisms been tested?', additional_kwargs={}, response_metadata={}, id='f22c2934-cbe4-4501-a92a-596dbb212676'), AIMessage(content=\"The testing of the Multipurpose Hold-Down and Release Mechanism (MHRM) involved a comprehensive series of functional and environmental tests to ensure its performance and reliability. Here are some key aspects of the testing process:\\n\\n1. **Stiffness and Strength Testing**: Three MHRMs were subjected to loading in three orthogonal directions on a tensile test bench. Force/displacement diagrams were recorded to assess the stiffness and strength of the mechanisms. The tests included loading in the separation plane and out-of-plane directions until failure.\\n\\n2. **On-Ground Release Testing**: This involved testing the release mechanism in ambient conditions to verify its functionality.\\n\\n3. **Vibration Testing**: The mechanisms underwent sine, sine dwell, and random vibration tests. These tests are crucial for simulating the conditions the mechanism would experience during a spacecraft launch.\\n\\n4. **Thermal Vacuum Release Testing**: The release mechanism was tested under thermal vacuum conditions to simulate the space environment and ensure it operates correctly in such conditions.\\n\\n5. **Pyro Shock and Resettability/Reusability**: Although not detailed in the provided context, these aspects are typically part of the testing to ensure the mechanism can withstand shock and be reset or reused if necessary.\\n\\nThe tests confirmed the mechanism's operational capabilities, with no significant issues affecting its release capability, even after vibration testing. The clamp load between the Reel parts remained unaffected, indicating robust performance.\\n\\nIf you have further questions about specific tests or results, feel free to ask!\", additional_kwargs={'refusal': None}, response_metadata={'token_usage': {'completion_tokens': 302, 'prompt_tokens': 970, 'total_tokens': 1272, 'completion_tokens_details': {'accepted_prediction_tokens': 0, 'audio_tokens': 0, 'reasoning_tokens': 0, 'rejected_prediction_tokens': 0}, 'prompt_tokens_details': {'audio_tokens': 0, 'cached_tokens': 0}}, 'model_name': 'gpt-4o-2024-08-06', 'system_fingerprint': 'fp_5f20662549', 'finish_reason': 'stop', 'logprobs': None}, id='run-18f0dc0a-4113-493b-8fc0-d0fcd53a756e-0', usage_metadata={'input_tokens': 970, 'output_tokens': 302, 'total_tokens': 1272, 'input_token_details': {'audio': 0, 'cache_read': 0}, 'output_token_details': {'audio': 0, 'reasoning': 0}}), HumanMessage(content='How old are you?', additional_kwargs={}, response_metadata={}, id='3e6deb45-75f1-4e20-abfc-4f26c179994f'), AIMessage(content='I don’t know the answer to that based on the information provided. You might consider rephrasing your question or asking about a related topic.', additional_kwargs={'refusal': None}, response_metadata={'token_usage': {'completion_tokens': 30, 'prompt_tokens': 1214, 'total_tokens': 1244, 'completion_tokens_details': {'accepted_prediction_tokens': 0, 'audio_tokens': 0, 'reasoning_tokens': 0, 'rejected_prediction_tokens': 0}, 'prompt_tokens_details': {'audio_tokens': 0, 'cached_tokens': 0}}, 'model_name': 'gpt-4o-2024-08-06', 'system_fingerprint': 'fp_5f20662549', 'finish_reason': 'stop', 'logprobs': None}, id='run-aebeeab4-5439-4e3d-bbc6-42c63aa8f543-0', usage_metadata={'input_tokens': 1214, 'output_tokens': 30, 'total_tokens': 1244, 'input_token_details': {'audio': 0, 'cache_read': 0}, 'output_token_details': {'audio': 0, 'reasoning': 0}})]\n"
     ]
    },
    {
     "name": "stdout",
     "output_type": "stream",
     "text": [
      "================================\u001b[1m Human Message \u001b[0m=================================\n",
      "\n",
      "My name is Dan. Please tell me about some interesting mecanism designs.\n",
      "==================================\u001b[1m Ai Message \u001b[0m==================================\n",
      "\n",
      "One interesting mechanism design discussed in the provided sources is the **Multipurpose Hold-Down and Release Mechanism (MHRM)**. This mechanism was developed to address the challenge of releasing a relatively large load (10 kN) using a very low energy signal. Here are some key features of this design:\n",
      "\n",
      "- **Prime Mover**: The mechanism uses a \"prime mover\" to convert electrical energy into mechanical work. Several components can serve this purpose, including piezo-electric components, motors, solenoids, and shape memory alloy (SMA) components. For this design, SMA wire was chosen due to its advantageous properties.\n",
      "\n",
      "- **Shape Memory Alloy (SMA) Wire**: The SMA wire used in this mechanism is 0.2 mm in diameter and 50 mm long. SMA wires are known for their ability to change shape in response to temperature changes, which makes them suitable for triggering mechanical movements with minimal energy input.\n",
      "\n",
      "- **Force Reduction and Release Elements**: The mechanism employs a roller-bearing type geometry to reduce the force from the 10 kN load to a level manageable by the low-energy release trigger. This involves the use of nut segments and bolts as part of the release elements.\n",
      "\n",
      "- **Latching Elements**: The design includes latching elements that ensure the mechanism remains secure until the release is triggered.\n",
      "\n",
      "This mechanism was designed and qualified for the Teledesic program, highlighting its operational capabilities and the innovative use of SMA wires for efficient energy conversion and mechanical actuation.\n",
      "\n",
      "If you have more specific questions about the mechanism or its components, feel free to ask!\n",
      "================================\u001b[1m Human Message \u001b[0m=================================\n",
      "\n",
      "How have these mecahnisms been tested?\n",
      "==================================\u001b[1m Ai Message \u001b[0m==================================\n",
      "\n",
      "The testing of the Multipurpose Hold-Down and Release Mechanism (MHRM) involved a comprehensive series of functional and environmental tests to ensure its performance and reliability. Here are some key aspects of the testing process:\n",
      "\n",
      "1. **Stiffness and Strength Testing**: Three MHRMs were subjected to loading in three orthogonal directions on a tensile test bench. Force/displacement diagrams were recorded to assess the stiffness and strength of the mechanisms. The tests included loading in the separation plane and out-of-plane directions until failure.\n",
      "\n",
      "2. **On-Ground Release Testing**: This involved testing the release mechanism in ambient conditions to verify its functionality.\n",
      "\n",
      "3. **Vibration Testing**: The mechanisms underwent sine, sine dwell, and random vibration tests. These tests are crucial for simulating the conditions the mechanism would experience during a spacecraft launch.\n",
      "\n",
      "4. **Thermal Vacuum Release Testing**: The release mechanism was tested under thermal vacuum conditions to simulate the space environment and ensure it operates correctly in such conditions.\n",
      "\n",
      "5. **Pyro Shock and Resettability/Reusability**: Although not detailed in the provided context, these aspects are typically part of the testing to ensure the mechanism can withstand shock and be reset or reused if necessary.\n",
      "\n",
      "The tests confirmed the mechanism's operational capabilities, with no significant issues affecting its release capability, even after vibration testing. The clamp load between the Reel parts remained unaffected, indicating robust performance.\n",
      "\n",
      "If you have further questions about specific tests or results, feel free to ask!\n",
      "================================\u001b[1m Human Message \u001b[0m=================================\n",
      "\n",
      "How old are you?\n",
      "==================================\u001b[1m Ai Message \u001b[0m==================================\n",
      "\n",
      "I don’t know the answer to that based on the information provided. You might consider rephrasing your question or asking about a related topic.\n"
     ]
    }
   ],
   "source": [
    "prompt = 'How old are you?'\n",
    "result = app.invoke({\"messages\": [(\"human\", prompt)]}, config)\n",
    "for message in result['messages']:\n",
    "    message.pretty_print()"
   ]
  },
  {
   "cell_type": "code",
   "execution_count": 24,
   "metadata": {},
   "outputs": [
    {
     "name": "stderr",
     "output_type": "stream",
     "text": [
      "INFO:__main__:Node: retrieve\n",
      "INFO:httpx:HTTP Request: POST https://api.openai.com/v1/embeddings \"HTTP/1.1 200 OK\"\n",
      "INFO:__main__:Node: generate_w_context\n",
      "INFO:__main__:Messages with system prompt (w/o summary): [SystemMessage(content='\\nYour name is **Aerospace Chatbot**, a specialized assistant for flight hardware design and analysis in aerospace engineering.\\n\\nUse only the **Sources and Context** from the **Reference Documents** provided to answer the **User Question**. Do not use outside knowledge, and strictly follow these rules:\\n\\n### Rules:\\n1. **Answer only based on the provided Sources and Context.**\\n   - If the information is not available in the Sources and Context, respond with:\\n     *\"I don’t know the answer to that based on the information provided. You might consider rephrasing your question or asking about a related topic.\"*\\n2. **Do not make up or infer answers.**\\n3. Provide responses in **English only** and format them using **Markdown** for clarity.\\n4. Suggest related or alternative questions if applicable, to help the user find relevant information within the corpus.\\n', additional_kwargs={}, response_metadata={}), HumanMessage(content='My name is Dan. Please tell me about some interesting mecanism designs.', additional_kwargs={}, response_metadata={}, id='b6094385-73e5-4403-b68f-bb39ae84d0de'), AIMessage(content='One interesting mechanism design discussed in the provided sources is the **Multipurpose Hold-Down and Release Mechanism (MHRM)**. This mechanism was developed to address the challenge of releasing a relatively large load (10 kN) using a very low energy signal. Here are some key features of this design:\\n\\n- **Prime Mover**: The mechanism uses a \"prime mover\" to convert electrical energy into mechanical work. Several components can serve this purpose, including piezo-electric components, motors, solenoids, and shape memory alloy (SMA) components. For this design, SMA wire was chosen due to its advantageous properties.\\n\\n- **Shape Memory Alloy (SMA) Wire**: The SMA wire used in this mechanism is 0.2 mm in diameter and 50 mm long. SMA wires are known for their ability to change shape in response to temperature changes, which makes them suitable for triggering mechanical movements with minimal energy input.\\n\\n- **Force Reduction and Release Elements**: The mechanism employs a roller-bearing type geometry to reduce the force from the 10 kN load to a level manageable by the low-energy release trigger. This involves the use of nut segments and bolts as part of the release elements.\\n\\n- **Latching Elements**: The design includes latching elements that ensure the mechanism remains secure until the release is triggered.\\n\\nThis mechanism was designed and qualified for the Teledesic program, highlighting its operational capabilities and the innovative use of SMA wires for efficient energy conversion and mechanical actuation.\\n\\nIf you have more specific questions about the mechanism or its components, feel free to ask!', additional_kwargs={'refusal': None}, response_metadata={'token_usage': {'completion_tokens': 322, 'prompt_tokens': 757, 'total_tokens': 1079, 'completion_tokens_details': {'accepted_prediction_tokens': 0, 'audio_tokens': 0, 'reasoning_tokens': 0, 'rejected_prediction_tokens': 0}, 'prompt_tokens_details': {'audio_tokens': 0, 'cached_tokens': 0}}, 'model_name': 'gpt-4o-2024-08-06', 'system_fingerprint': 'fp_5f20662549', 'finish_reason': 'stop', 'logprobs': None}, id='run-2ae58e49-9bda-46db-a4ff-7dea25a0fbdb-0', usage_metadata={'input_tokens': 757, 'output_tokens': 322, 'total_tokens': 1079, 'input_token_details': {'audio': 0, 'cache_read': 0}, 'output_token_details': {'audio': 0, 'reasoning': 0}}), HumanMessage(content='How have these mecahnisms been tested?', additional_kwargs={}, response_metadata={}, id='f22c2934-cbe4-4501-a92a-596dbb212676'), AIMessage(content=\"The testing of the Multipurpose Hold-Down and Release Mechanism (MHRM) involved a comprehensive series of functional and environmental tests to ensure its performance and reliability. Here are some key aspects of the testing process:\\n\\n1. **Stiffness and Strength Testing**: Three MHRMs were subjected to loading in three orthogonal directions on a tensile test bench. Force/displacement diagrams were recorded to assess the stiffness and strength of the mechanisms. The tests included loading in the separation plane and out-of-plane directions until failure.\\n\\n2. **On-Ground Release Testing**: This involved testing the release mechanism in ambient conditions to verify its functionality.\\n\\n3. **Vibration Testing**: The mechanisms underwent sine, sine dwell, and random vibration tests. These tests are crucial for simulating the conditions the mechanism would experience during a spacecraft launch.\\n\\n4. **Thermal Vacuum Release Testing**: The release mechanism was tested under thermal vacuum conditions to simulate the space environment and ensure it operates correctly in such conditions.\\n\\n5. **Pyro Shock and Resettability/Reusability**: Although not detailed in the provided context, these aspects are typically part of the testing to ensure the mechanism can withstand shock and be reset or reused if necessary.\\n\\nThe tests confirmed the mechanism's operational capabilities, with no significant issues affecting its release capability, even after vibration testing. The clamp load between the Reel parts remained unaffected, indicating robust performance.\\n\\nIf you have further questions about specific tests or results, feel free to ask!\", additional_kwargs={'refusal': None}, response_metadata={'token_usage': {'completion_tokens': 302, 'prompt_tokens': 970, 'total_tokens': 1272, 'completion_tokens_details': {'accepted_prediction_tokens': 0, 'audio_tokens': 0, 'reasoning_tokens': 0, 'rejected_prediction_tokens': 0}, 'prompt_tokens_details': {'audio_tokens': 0, 'cached_tokens': 0}}, 'model_name': 'gpt-4o-2024-08-06', 'system_fingerprint': 'fp_5f20662549', 'finish_reason': 'stop', 'logprobs': None}, id='run-18f0dc0a-4113-493b-8fc0-d0fcd53a756e-0', usage_metadata={'input_tokens': 970, 'output_tokens': 302, 'total_tokens': 1272, 'input_token_details': {'audio': 0, 'cache_read': 0}, 'output_token_details': {'audio': 0, 'reasoning': 0}}), HumanMessage(content='How old are you?', additional_kwargs={}, response_metadata={}, id='3e6deb45-75f1-4e20-abfc-4f26c179994f'), AIMessage(content='I don’t know the answer to that based on the information provided. You might consider rephrasing your question or asking about a related topic.', additional_kwargs={'refusal': None}, response_metadata={'token_usage': {'completion_tokens': 30, 'prompt_tokens': 1214, 'total_tokens': 1244, 'completion_tokens_details': {'accepted_prediction_tokens': 0, 'audio_tokens': 0, 'reasoning_tokens': 0, 'rejected_prediction_tokens': 0}, 'prompt_tokens_details': {'audio_tokens': 0, 'cached_tokens': 0}}, 'model_name': 'gpt-4o-2024-08-06', 'system_fingerprint': 'fp_5f20662549', 'finish_reason': 'stop', 'logprobs': None}, id='run-aebeeab4-5439-4e3d-bbc6-42c63aa8f543-0', usage_metadata={'input_tokens': 1214, 'output_tokens': 30, 'total_tokens': 1244, 'input_token_details': {'audio': 0, 'cache_read': 0}, 'output_token_details': {'audio': 0, 'reasoning': 0}}), HumanMessage(content='What are some lessons learned about these mechanisms?', additional_kwargs={}, response_metadata={}, id='c202ac5d-86e8-4d44-bb61-c1471e90cdd0')]\n",
      "INFO:__main__:Messages with prompt with context: [SystemMessage(content='\\nYour name is **Aerospace Chatbot**, a specialized assistant for flight hardware design and analysis in aerospace engineering.\\n\\nUse only the **Sources and Context** from the **Reference Documents** provided to answer the **User Question**. Do not use outside knowledge, and strictly follow these rules:\\n\\n### Rules:\\n1. **Answer only based on the provided Sources and Context.**\\n   - If the information is not available in the Sources and Context, respond with:\\n     *\"I don’t know the answer to that based on the information provided. You might consider rephrasing your question or asking about a related topic.\"*\\n2. **Do not make up or infer answers.**\\n3. Provide responses in **English only** and format them using **Markdown** for clarity.\\n4. Suggest related or alternative questions if applicable, to help the user find relevant information within the corpus.\\n', additional_kwargs={}, response_metadata={}), HumanMessage(content='My name is Dan. Please tell me about some interesting mecanism designs.', additional_kwargs={}, response_metadata={}, id='b6094385-73e5-4403-b68f-bb39ae84d0de'), AIMessage(content='One interesting mechanism design discussed in the provided sources is the **Multipurpose Hold-Down and Release Mechanism (MHRM)**. This mechanism was developed to address the challenge of releasing a relatively large load (10 kN) using a very low energy signal. Here are some key features of this design:\\n\\n- **Prime Mover**: The mechanism uses a \"prime mover\" to convert electrical energy into mechanical work. Several components can serve this purpose, including piezo-electric components, motors, solenoids, and shape memory alloy (SMA) components. For this design, SMA wire was chosen due to its advantageous properties.\\n\\n- **Shape Memory Alloy (SMA) Wire**: The SMA wire used in this mechanism is 0.2 mm in diameter and 50 mm long. SMA wires are known for their ability to change shape in response to temperature changes, which makes them suitable for triggering mechanical movements with minimal energy input.\\n\\n- **Force Reduction and Release Elements**: The mechanism employs a roller-bearing type geometry to reduce the force from the 10 kN load to a level manageable by the low-energy release trigger. This involves the use of nut segments and bolts as part of the release elements.\\n\\n- **Latching Elements**: The design includes latching elements that ensure the mechanism remains secure until the release is triggered.\\n\\nThis mechanism was designed and qualified for the Teledesic program, highlighting its operational capabilities and the innovative use of SMA wires for efficient energy conversion and mechanical actuation.\\n\\nIf you have more specific questions about the mechanism or its components, feel free to ask!', additional_kwargs={'refusal': None}, response_metadata={'token_usage': {'completion_tokens': 322, 'prompt_tokens': 757, 'total_tokens': 1079, 'completion_tokens_details': {'accepted_prediction_tokens': 0, 'audio_tokens': 0, 'reasoning_tokens': 0, 'rejected_prediction_tokens': 0}, 'prompt_tokens_details': {'audio_tokens': 0, 'cached_tokens': 0}}, 'model_name': 'gpt-4o-2024-08-06', 'system_fingerprint': 'fp_5f20662549', 'finish_reason': 'stop', 'logprobs': None}, id='run-2ae58e49-9bda-46db-a4ff-7dea25a0fbdb-0', usage_metadata={'input_tokens': 757, 'output_tokens': 322, 'total_tokens': 1079, 'input_token_details': {'audio': 0, 'cache_read': 0}, 'output_token_details': {'audio': 0, 'reasoning': 0}}), HumanMessage(content='How have these mecahnisms been tested?', additional_kwargs={}, response_metadata={}, id='f22c2934-cbe4-4501-a92a-596dbb212676'), AIMessage(content=\"The testing of the Multipurpose Hold-Down and Release Mechanism (MHRM) involved a comprehensive series of functional and environmental tests to ensure its performance and reliability. Here are some key aspects of the testing process:\\n\\n1. **Stiffness and Strength Testing**: Three MHRMs were subjected to loading in three orthogonal directions on a tensile test bench. Force/displacement diagrams were recorded to assess the stiffness and strength of the mechanisms. The tests included loading in the separation plane and out-of-plane directions until failure.\\n\\n2. **On-Ground Release Testing**: This involved testing the release mechanism in ambient conditions to verify its functionality.\\n\\n3. **Vibration Testing**: The mechanisms underwent sine, sine dwell, and random vibration tests. These tests are crucial for simulating the conditions the mechanism would experience during a spacecraft launch.\\n\\n4. **Thermal Vacuum Release Testing**: The release mechanism was tested under thermal vacuum conditions to simulate the space environment and ensure it operates correctly in such conditions.\\n\\n5. **Pyro Shock and Resettability/Reusability**: Although not detailed in the provided context, these aspects are typically part of the testing to ensure the mechanism can withstand shock and be reset or reused if necessary.\\n\\nThe tests confirmed the mechanism's operational capabilities, with no significant issues affecting its release capability, even after vibration testing. The clamp load between the Reel parts remained unaffected, indicating robust performance.\\n\\nIf you have further questions about specific tests or results, feel free to ask!\", additional_kwargs={'refusal': None}, response_metadata={'token_usage': {'completion_tokens': 302, 'prompt_tokens': 970, 'total_tokens': 1272, 'completion_tokens_details': {'accepted_prediction_tokens': 0, 'audio_tokens': 0, 'reasoning_tokens': 0, 'rejected_prediction_tokens': 0}, 'prompt_tokens_details': {'audio_tokens': 0, 'cached_tokens': 0}}, 'model_name': 'gpt-4o-2024-08-06', 'system_fingerprint': 'fp_5f20662549', 'finish_reason': 'stop', 'logprobs': None}, id='run-18f0dc0a-4113-493b-8fc0-d0fcd53a756e-0', usage_metadata={'input_tokens': 970, 'output_tokens': 302, 'total_tokens': 1272, 'input_token_details': {'audio': 0, 'cache_read': 0}, 'output_token_details': {'audio': 0, 'reasoning': 0}}), HumanMessage(content='How old are you?', additional_kwargs={}, response_metadata={}, id='3e6deb45-75f1-4e20-abfc-4f26c179994f'), AIMessage(content='I don’t know the answer to that based on the information provided. You might consider rephrasing your question or asking about a related topic.', additional_kwargs={'refusal': None}, response_metadata={'token_usage': {'completion_tokens': 30, 'prompt_tokens': 1214, 'total_tokens': 1244, 'completion_tokens_details': {'accepted_prediction_tokens': 0, 'audio_tokens': 0, 'reasoning_tokens': 0, 'rejected_prediction_tokens': 0}, 'prompt_tokens_details': {'audio_tokens': 0, 'cached_tokens': 0}}, 'model_name': 'gpt-4o-2024-08-06', 'system_fingerprint': 'fp_5f20662549', 'finish_reason': 'stop', 'logprobs': None}, id='run-aebeeab4-5439-4e3d-bbc6-42c63aa8f543-0', usage_metadata={'input_tokens': 1214, 'output_tokens': 30, 'total_tokens': 1244, 'input_token_details': {'audio': 0, 'cache_read': 0}, 'output_token_details': {'audio': 0, 'reasoning': 0}}), HumanMessage(content='\\n---\\n**User Question**:\\nWhat are some lessons learned about these mechanisms?\\n---\\n\\n---\\n**Sources and Context from Reference Documents**:\\nmechanism performance and verify forces and margins within the mechanism. While presentation and discussion of all of the development and qualification test results are beyond the scope of this paper, significant results that relate to the basic operational capabilities follow.\\n\\n3. DESIGN ISSUES\\n\\nThe basic design problem was to create a device that could utilize a very low energy signal to release a relatively large load of IOKN while addressing the above issues. The overall device comprised several basic components:\\n\\n{ The “prime mover” which converts electrical energy to mechanical\\n\\npyro shock Resettability / reusability High reliability mechanism\\n\\n(No ( (\\n\\n2. OPERATIONAL ISSUES\\n\\nTypically separation nuts are released through the action of gas generated through detonation of a pyrotechnic charge. The safe and effective use of a pyrotechnic mechanism is based on some very strict handling protocol.\\n\\n3.3 Latch Elements\\n\\nWhile the torque to release the mechanism has been reduced to a relatively low level, it still is not low enough to rotate directly using the SMA wire. Rather than attempt to drive the release directly with the SMA wire, the approach of using the SMA to trigger a self- driving release latch is used.\\n\\n5. CONCLUSIONS\\n\\nThe overall conclusion is that the MHRM design is viable.\\n\\nIn summary the performance is as follows:\\n\\n{\\n\\n_ non-pyrotechnic release\\n\\n{mass including Thermal Knives: approximately 0.2 kg\\n\\n( envelope: 38 (height) by 50 by 250 mm, including Thermal Knives and electrical wiring.\\n\\n{ _ simple installation of application by bolting to top of Reel\\n\\n_ _ _\\n\\nRelease of the mechanism consists of rotating the latch arm with the SMA trigger wires until the toggles are no longer constrained radially. Once the latch arm has rotated clear, the toggles move outward and the outer race rotates toward the released position as described above. Figure 2 shows a cross section showing the basic latch components.\\n\\nDuring the development and qualification of the release mechanism, a large number of functional and environmental tests were performed. A qualification test series was performed consisting of typical spacecraft environmental tests and interspersed functional tests to monitor performance. During development testing similar environmental tests were performed along with a number of tests to assess\\n\\n4. OVERALL DESIGN FEATURES\\n\\nFigure 3 is a photograph of the Qwknut and the bolt retractor/catcher in the configuration that has been qualified.\\n\\nThe mechanism release side consists of:\\n\\n{ SMA wire triggers — the mechanism is triggered by redundant SMA wires as described above\\n\\n( Rotary release latch — The triggers rotate the latch arm to initiate outer race rotation\\n---\\n', additional_kwargs={}, response_metadata={})]\n",
      "INFO:httpx:HTTP Request: POST https://api.openai.com/v1/chat/completions \"HTTP/1.1 200 OK\"\n",
      "INFO:__main__:Node: should_continue\n",
      "INFO:__main__:Summarizing conversation\n",
      "INFO:__main__:Node: summarize_conversation\n",
      "INFO:httpx:HTTP Request: POST https://api.openai.com/v1/chat/completions \"HTTP/1.1 200 OK\"\n"
     ]
    },
    {
     "name": "stdout",
     "output_type": "stream",
     "text": [
      "================================\u001b[1m Human Message \u001b[0m=================================\n",
      "\n",
      "What are some lessons learned about these mechanisms?\n",
      "==================================\u001b[1m Ai Message \u001b[0m==================================\n",
      "\n",
      "Some lessons learned from the development and testing of the Multipurpose Hold-Down and Release Mechanism (MHRM) include:\n",
      "\n",
      "1. **Non-Pyrotechnic Release**: The MHRM successfully demonstrated a non-pyrotechnic release mechanism, which is significant because it avoids the complexities and safety concerns associated with pyrotechnic devices. This approach can simplify handling protocols and improve safety.\n",
      "\n",
      "2. **Use of SMA Wires**: The mechanism effectively utilized Shape Memory Alloy (SMA) wires to trigger the release. This choice allowed for a low-energy signal to initiate the release of a large load, showcasing the potential of SMA wires in aerospace applications.\n",
      "\n",
      "3. **Design Viability**: The overall design of the MHRM was confirmed to be viable through extensive testing, including functional and environmental tests. This indicates that the design can withstand the operational conditions expected in a spacecraft environment.\n",
      "\n",
      "4. **Simple Installation**: The mechanism was designed for simple installation by bolting it to the top of a reel, which can facilitate easier integration into spacecraft systems.\n",
      "\n",
      "5. **Redundancy and Reliability**: The use of redundant SMA wires for triggering the mechanism enhances reliability, ensuring that the mechanism can still function even if one wire fails.\n",
      "\n",
      "These lessons highlight the importance of innovative design and thorough testing in developing reliable aerospace mechanisms. If you have more specific questions about the design or testing process, feel free to ask!\n"
     ]
    }
   ],
   "source": [
    "prompt = 'What are some lessons learned about these mechanisms?'\n",
    "result = app.invoke({\"messages\": [(\"human\", prompt)]}, config)\n",
    "for message in result['messages']:\n",
    "    message.pretty_print()"
   ]
  },
  {
   "cell_type": "code",
   "execution_count": 25,
   "metadata": {},
   "outputs": [
    {
     "data": {
      "text/plain": [
       "{'messages': [HumanMessage(content='What are some lessons learned about these mechanisms?', additional_kwargs={}, response_metadata={}, id='c202ac5d-86e8-4d44-bb61-c1471e90cdd0'),\n",
       "  AIMessage(content='Some lessons learned from the development and testing of the Multipurpose Hold-Down and Release Mechanism (MHRM) include:\\n\\n1. **Non-Pyrotechnic Release**: The MHRM successfully demonstrated a non-pyrotechnic release mechanism, which is significant because it avoids the complexities and safety concerns associated with pyrotechnic devices. This approach can simplify handling protocols and improve safety.\\n\\n2. **Use of SMA Wires**: The mechanism effectively utilized Shape Memory Alloy (SMA) wires to trigger the release. This choice allowed for a low-energy signal to initiate the release of a large load, showcasing the potential of SMA wires in aerospace applications.\\n\\n3. **Design Viability**: The overall design of the MHRM was confirmed to be viable through extensive testing, including functional and environmental tests. This indicates that the design can withstand the operational conditions expected in a spacecraft environment.\\n\\n4. **Simple Installation**: The mechanism was designed for simple installation by bolting it to the top of a reel, which can facilitate easier integration into spacecraft systems.\\n\\n5. **Redundancy and Reliability**: The use of redundant SMA wires for triggering the mechanism enhances reliability, ensuring that the mechanism can still function even if one wire fails.\\n\\nThese lessons highlight the importance of innovative design and thorough testing in developing reliable aerospace mechanisms. If you have more specific questions about the design or testing process, feel free to ask!', additional_kwargs={'refusal': None}, response_metadata={'token_usage': {'completion_tokens': 287, 'prompt_tokens': 1451, 'total_tokens': 1738, 'completion_tokens_details': {'accepted_prediction_tokens': 0, 'audio_tokens': 0, 'reasoning_tokens': 0, 'rejected_prediction_tokens': 0}, 'prompt_tokens_details': {'audio_tokens': 0, 'cached_tokens': 0}}, 'model_name': 'gpt-4o-2024-08-06', 'system_fingerprint': 'fp_5f20662549', 'finish_reason': 'stop', 'logprobs': None}, id='run-b23c3965-f5fb-4fb3-b01e-e8352c837c7b-0', usage_metadata={'input_tokens': 1451, 'output_tokens': 287, 'total_tokens': 1738, 'input_token_details': {'audio': 0, 'cache_read': 0}, 'output_token_details': {'audio': 0, 'reasoning': 0}})],\n",
       " 'context': ([Document(id='447b67fb-0234-4b3b-b628-3daee675dc8a', metadata={'chunk_overlap': 0.0, 'chunk_size': 400.0, 'data_source.record_locator.protocol': 'gs', 'data_source.record_locator.remote_file_path': 'gs://processing-pdfs', 'data_source.url': 'gs://processing-pdfs/1999_christiansen_reocr.pdf', 'element_id': '447b67fb-0234-4b3b-b628-3daee675dc8a', 'file_directory': './document_processing', 'filename': '1999_christiansen_reocr.pdf', 'filetype': 'application/pdf', 'is_continuation': True, 'languages': ['eng'], 'last_modified': '2024-12-26T14:30:38', 'orig_elements': 'eJyNVF1v2zAM/CuCnxPHX8nsvA3Y8zBgBfYQFAYt07EAWfIkOWlQ9L+PVNKmGLpijz7dkccjk8NzghonNKFVfbIXSV3Kfrfd5g1IkH3X54iVzKoOGqzzsoZkJZIJA/QQgPjPibTW9cpAQB+/NVzsEtoR1XEMhBRFlpHmBp9VH0ZC8y8Rna0ygXWHQ9406XYl8m2RpdXjSrwBzS5PSwbqYpfuPgKuEkISf/EBJ57jh3pC/XMGickLPbDd1tvF0Te7dCjJdquthGBdhGZng5VWs/roeU6Hkw3YDkpjO0P0TS/7zYaoEr1X5rie+8HHDovT/3rf0ChNK0enfFBgPJrWoZUupcerOwwog7KmlRq8b0nfUbEsbaq6qIkQLfSKXJPbC/dJN72VS1zcvVtyoxqYeMzks743arjMkQrzrBWFQSY2t2cN5rjAMe71kCCVf4yoD+1kezUojBdTZEW1zot1sXvIq32Z7cua1TMpW7NMHXK8ZUTc/c7KktZYF1lZdXU5kNG8GeRQD11e4Xa3bWIuAZ/4hJJvi6PpRBhR9HhCbWceXIDpxe8FNFm5Ohd2iCRHNw0exYRyBKP8tBIgNLgjiqsjJg6LiZmDjoXQnJSzhgsTQtccvDijQzGjG6ybsE/F17/aMUt4dAqJC/5OFdIaz6mTa/Z0mUmihed7lA6G8GE7tkG/B3SeCnmq8s7ilRGsmKxRdASvvcBITMUtoPfhsIAxryZFo//HfAK0JcFZhZHiugf11ppOk+7snup7D9H8iaIYLoIwOsiITBS6Mj4WVSYu502eil8jXaCYHXp2FSNlUa+8XOigrwsFrV/3+vny4zao1qI5S5qsw4slFiu9tDNeyyjaE5DzFUVzNFFu7rowAn9o+j/jkVnbgVdSkN7BbRkSZuiUVoEXP1it7Tnlm3/9MX0Hx9wTPvABvzz+Ad/02qA=', 'page_number': 3.0, 'rag_type': 'Standard', 'type': 'CompositeElement'}, page_content='mechanism performance and verify forces and margins within the mechanism. While presentation and discussion of all of the development and qualification test results are beyond the scope of this paper, significant results that relate to the basic operational capabilities follow.'),\n",
       "   Document(id='41f93ad2-0421-405c-9e62-eaad106c7c4b', metadata={'chunk_overlap': 0.0, 'chunk_size': 400.0, 'data_source.record_locator.protocol': 'gs', 'data_source.record_locator.remote_file_path': 'gs://processing-pdfs', 'data_source.url': 'gs://processing-pdfs/1999_christiansen_reocr.pdf', 'element_id': '41f93ad2-0421-405c-9e62-eaad106c7c4b', 'file_directory': './document_processing', 'filename': '1999_christiansen_reocr.pdf', 'filetype': 'application/pdf', 'languages': ['eng'], 'last_modified': '2024-12-26T14:30:38', 'orig_elements': 'eJztVMFu2zAM/RXB59SxFNuxcl4xFBu6AelOWWEoEh0LkC1DkttmRf99lJp2xdAN2KGXYjfzkZQeqfe8u8/AwABjaLXKNiRb0YqrElaSgVIgipWUslCirjpeVayk2YJkAwShRBBYf59Ja53SowjgU2zE0c6h7UEf+oAIY0WBPSf4VqvQI0rXCZ2sHkPs2+1W6yZnC8JrlvPrBXmOeZHXMa5LlhevxKkegcwffYAhzvBV34HZTkJC9oCJSLX1dnYYR4YOJFJujZUiWJegydlgpTWx++DjjA4GG6DttIF2EokzZjbLJZZK8F6Ph7NJdT7dMDvzp/yScs5b2Tvtgxajh7F1YKXLMfnIDgLIoO3YSiO8b7F/j4cVecNwNixIFJRG1sj2GO/Jl8rKOT3ar9uyU+kohjhm9rd7T6XhOKVSMU1G4zKQxPKUNmI8zOKQ3nSXAR5/nVAf2sEq3WlIamEFK88oO2P1FS03q2KzamL3hJ3tOA97iOtlccwAdyHpKycfzrcXHy/JxXb77Xwby594XOlg0pP9LspGFIrXRcUpKGjkvmqaouo61lXQrVkj30yUrKB5tSAUr86rqLongFGaryPQsCZfvwY8trxHYfKSvg9dJsT9w7/vpZCveiB74bUkCrw+jCTuB1VLboUnwRLpAOVHBKZvtAQSehGItLNRZA7a6B8xdwPuSIy9JTCCOxxJPEiY2O7QAcLHGvzCFdyAwUrhDoD1QhHbkYsvny7JbY8LI0Ip97huvAfDvb0Bor2fweckMsXYCWOeyEg7TPgCoIiHlDmNEnE74kb85qUxL4VzicNVHP4Vg4pVTXnTgVqLUnS8rhlUawWqLlRX7Gn1ZgalvDrZj+dNtN8zsOY5ffQjzctXgdTyHg3a8LLh/x16n5T/fcZ/tkS1D0CGaIMEqGgc2aPgR4SCJ6hnGRzOYp68iCYcQPZijOBLN3zGxVxEwTxc/wTal/Gl', 'page_number': 2.0, 'rag_type': 'Standard', 'type': 'CompositeElement'}, page_content='3. DESIGN ISSUES\\n\\nThe basic design problem was to create a device that could utilize a very low energy signal to release a relatively large load of IOKN while addressing the above issues. The overall device comprised several basic components:\\n\\n{ The “prime mover” which converts electrical energy to mechanical'),\n",
       "   Document(id='de66964c-41c7-4fb9-b003-6808cfd38179', metadata={'chunk_overlap': 0.0, 'chunk_size': 400.0, 'data_source.record_locator.protocol': 'gs', 'data_source.record_locator.remote_file_path': 'gs://processing-pdfs', 'data_source.url': 'gs://processing-pdfs/1999_christiansen_reocr.pdf', 'element_id': 'de66964c-41c7-4fb9-b003-6808cfd38179', 'file_directory': './document_processing', 'filename': '1999_christiansen_reocr.pdf', 'filetype': 'application/pdf', 'languages': ['eng'], 'last_modified': '2024-12-26T14:30:38', 'orig_elements': 'eJzlVk1v3DYQ/SuETj7EWpL6pG85BGiAwgnizckwBIoc7RKVRIGk3GyD/vcOubvJIrXTkw9xj3zz9YZ8Q8z91wxGmGAOndHZDcloA7JQvdaasbamHI8VUF00rS6hrZvsDckmCFLLINH/a6asddrMMoBP51Ee7Bq6PZjdPiDCOaUYc4L/NDrsEWVNQhdr5hDj7u9FXecIMSqqvH14Q74BTLCcR4Dxpsj5k8gxCKHMH3yAKXby0XyB8W6RCrK/0RAJd96uDs+RpwOFxLvRKhmsS9DibLDKjjF652OnDiYboBvMCN0iE3O03Gw26KrAezPvrhc9+FRhdeNz9g0TQnRq74wPRs4e5s6BVS5H45EdBFDB2LlTo/S+w/gek9G8KDlDe2KgDZJGsodYJt9oq9b0ct+LZSfXWU6xy+xnZU+u4bAkV7kso8G7QA6bk3mU826Vu/Sw9xlg+oeE+tBNVpvBQJIMp7y8Zvya11tW3hT0pmhj9IKR3bxOPcTbZQlx34U2SF7WTdMPuiil7vuKoeAG1faFlKJqaLqWAF+ihrLl4Czxe6v+IJ/AQwiyN6MJB7IhDlZ/Pv2GmkNgNGdgArWXs/FTJHTu9FY6h30+wjZmxzI/zkBVS1C8pGzgoii0HKgcpCj7mut6EK14uRng9DQDTU7TDJwAJoojwCgtn0GOQb/wDPzPNX51a8kVubpU6ucZycLOOvMX6OfUWsqC11UrG02boo9FBql5yxjUlW6G9sXUymjV5DUqj1dtXh61eEba9viJM5yiXDyNpKhfWK/P/tmNEHX1KgR9qU+ekw8f3316u33/4fbt7+T93d3nd3eXat2aMMKT/ynlvKrbRrWCSQpVXzKltG44UKpaVbyYQtEtrQdFWedFFN8ZKIU4Ai1v8uIp4BjyGtUpsFf+KtT543f7nz/hpZy3hwW5jeOBeMAsiSWZ1+AJpoxLBEgPmoS9sytuFWEPRKb7JHYgO+nJDmbAsAsfvHI7y7OPJHFrwUfYz0YR3EPcDnKyxTxeDphs1gSGIb7RI5DVw79jvm0vxHjSJzqY2tsJyCM4JB6cUYGgjx7xpchZbflPtp2HfwCncccl', 'page_number': 1.0, 'rag_type': 'Standard', 'type': 'CompositeElement'}, page_content='pyro shock Resettability / reusability High reliability mechanism\\n\\n(No ( (\\n\\n2. OPERATIONAL ISSUES\\n\\nTypically separation nuts are released through the action of gas generated through detonation of a pyrotechnic charge. The safe and effective use of a pyrotechnic mechanism is based on some very strict handling protocol.'),\n",
       "   Document(id='9cef5ba9-3e3f-476f-a6cd-de3dd3923810', metadata={'chunk_overlap': 0.0, 'chunk_size': 400.0, 'data_source.record_locator.protocol': 'gs', 'data_source.record_locator.remote_file_path': 'gs://processing-pdfs', 'data_source.url': 'gs://processing-pdfs/1999_christiansen_reocr.pdf', 'element_id': '9cef5ba9-3e3f-476f-a6cd-de3dd3923810', 'file_directory': './document_processing', 'filename': '1999_christiansen_reocr.pdf', 'filetype': 'application/pdf', 'languages': ['eng'], 'last_modified': '2024-12-26T14:30:38', 'orig_elements': 'eJzdVD1v2zAQ/SuEZlsWaVkf3jp0a4uiCdDBCASaPEsEKFIlqTpGkP/eI20nadAU6NAlg2Hz3b27d8dH7x4y0DCCCZ2S2ZZkjRQtlEXb8rZeF/uCSVYxVmzKshZ1IatsQbIRApc8cMx/yIS1TirDA/h01vxk59ANoPohIILkAjkX+KhkGBCldUInq0yIvN2upW1eLQgtmjandwvyBFB6ASjd1Dn7I3ImIZT5kw8wxkm+qnvQNxMXkD1iIAruvJ0dnqNOBwKFd9oKHqxL0ORssMLqyO59nNTBaAN0B6Whm3hSjpHtaoWpArxXpl9O8uBTh9npt+Ir2rZtJwanfFDceDCdAytcjsGzOggggrKmE5p73yF/j8WKvCkb1mBCkiAVqka1p9gnX0kr5nR1z92yS6rhYxwz+1vfS2o4TSmVT5NWuAwUsbqENTf9zPt0s7sMsPxdQn3oRivVQUHyDCtYuaRsyapbWm7XxXbdRPaEzM7M4x7ielkcM8B99ES2ztfkEw9iIB/P7kvbviq5VUGnS3ttTtqwfV1XragqxsuKVrypSrZGM1JO95v9fzVnct6G5e3VnBFYl/RixU3ZvIGcSe/RnO2mYPRdmDMh7h/+Bl+6+fuASkkY8GPdjzl+EYfO5f6MjiAGbpQfycA92QMYDMtZgIyZPObiZD9Bn4i2R6IBfy6ICgT3ojVRnhgbUgiMnfsh1bcBXU3OS0fiHBecut18/kCOCOfkG5oCHILcEB7QeVOIVOmwV0q9inyqclRh+K3IIp1w+85yfK328KoRlgtO9T224cSDPixT+ZhyLa7TO8chZg8yf/nOv3Dn0uC3cZGPd78A62AWkQ==', 'page_number': 2.0, 'rag_type': 'Standard', 'type': 'CompositeElement'}, page_content='3.3 Latch Elements\\n\\nWhile the torque to release the mechanism has been reduced to a relatively low level, it still is not low enough to rotate directly using the SMA wire. Rather than attempt to drive the release directly with the SMA wire, the approach of using the SMA to trigger a self- driving release latch is used.'),\n",
       "   Document(id='cbd93405-4c3d-446a-af15-3cb5ddce3a69', metadata={'chunk_overlap': 0.0, 'chunk_size': 400.0, 'data_source.record_locator.protocol': 'gs', 'data_source.record_locator.remote_file_path': 'gs://processing-pdfs', 'data_source.url': 'gs://processing-pdfs/1999_cremers_reocr.pdf', 'element_id': 'cbd93405-4c3d-446a-af15-3cb5ddce3a69', 'file_directory': './document_processing', 'filename': '1999_cremers_reocr.pdf', 'filetype': 'application/pdf', 'languages': ['eng'], 'last_modified': '2024-12-26T14:30:40', 'orig_elements': 'eJzlmFtv2zYUx78K4acOaBRexJtf+7JivQxt+hQUAkVSjjBKFCQ6rRfsu++Qtttgc7AWgx+SALYA/slDHoq/c3zo67uVD37wY2p6t1qjlaYSe6apY6610jmGRdsSYy1XqnXGrF6i1eCTcSYZGH+3sjHOrh9N8ktpB7OL29Tc+H5zk0ChFGOwOchfepduQCWyqFPsx5Ttrq8J1rQCTWFdic8v0XeBqUoXgVFekVNCMQFlteyW5Ie8j9/7rz58nIz1q7+gI7vbLHE7Qzt7OXsLbjchWpPiXKRpjinaGLL1Zsn7nP0Qk2+6PvhmMsVv6FlfXsJQ65elHzcXk+uWssJ2Dg/1XxKtdWNhOj8vzeyjnSvQ94755G3q49jYYJalAdMW5sGVYlpAf1nc9eAv+LnLK1SXLtptObLv66wOQ0cz5A2uHljxMCrtpjLKTFPo4Q3A8peH7mDGzdZsymFerzzM/LmoS2qG6Pqu9wUTiml9QegFFVekXjO8rnG2nsCyGbdD6/M7rfMGk/+aMVjxCr16/+7Vm08fX79/9zEPPnpx1adQTumfLBKpCdN1S7wjUohWUII7hSVx2nVC0bOxqLSuFHAlcVVn0A5tzei+TWqpKnlC2Fs8NRI1VeSxo1iU+Sfy3H12r248ird+NiEgG0cbtgv4ifoFpRuT4OHR218/vEXOL/2m6Le9aYOv7mP+zswz7O/WX+VZT+AuBWsphL1l2DmnvTcAu2k7rXRrWMfOhrvGQC3QLOSe5mNby4rt86zkORP/WygWTwx3QRjTzxr31yNatsNg5l1Be/JzF+fBjNZntM2CuhhC/LKsfwpvg3Eru66WncOGdlx4LQDxWkvjscbtGfEmGVaCcV3hPd8HAdL3QdAPCMXkcQL+fPm9u8/lpxHc9Js493969xCb3NWu7lrTtRZ7mNrAV9WE1EyJunX1+dhkuGIH0Pa59ygwcsi1FPOcjU8pxehx0vlw+pXk0de9/4veBo1xvJh2cCze3oy9RTPAahZ/n+o3/ZJe5yM/AbPimHeOEscE6aSQkmjlLGRaTw2v6fnKZk1EJQqpouIF5qOgxaFO5kTlG9sppRg9MZgVwfXzpvlugBeC+lwzA2IbBKU0lBIB/TZCqbCsETg/x6/9APCFHbwxiv7Y/CjolGNnqVGqsy2nlFFBVStMJ60yzLDzFsxw2yMECgl6rJiLIEil9lhTVunTSjF6aqAzuBM8a9BfID/e+hAnv0ZMoRd7qH5B7Q5xnJ9AKxqGlw/GAjKjQwC4TTNsMqAv/QyDqh8NBmJaXbNaSkqJ4kQIIzqLBWmF9Z4zcdY/S3ghXe6D4ShQerwucsorelLZGz21YMCcs2cdDHeoQUs/TAFujOOSTAjFURQ7dM/vHBVtDCnHQorwmfKAD96HH4Xe89qYnPsdZ1K2tdQt5Z22nEpbd5if7xeA1uWCSL/dGA8CY/wgMH1a2Js8TuSfL9ENEN38x73y89/K9OUZ', 'page_number': 4.0, 'rag_type': 'Standard', 'type': 'CompositeElement'}, page_content='5. CONCLUSIONS\\n\\nThe overall conclusion is that the MHRM design is viable.\\n\\nIn summary the performance is as follows:\\n\\n{\\n\\n_ non-pyrotechnic release\\n\\n{mass including Thermal Knives: approximately 0.2 kg\\n\\n( envelope: 38 (height) by 50 by 250 mm, including Thermal Knives and electrical wiring.\\n\\n{ _ simple installation of application by bolting to top of Reel\\n\\n_ _ _'),\n",
       "   Document(id='5464aae9-4a08-48cc-8e9f-4242570d6709', metadata={'chunk_overlap': 0.0, 'chunk_size': 400.0, 'data_source.record_locator.protocol': 'gs', 'data_source.record_locator.remote_file_path': 'gs://processing-pdfs', 'data_source.url': 'gs://processing-pdfs/1999_christiansen_reocr.pdf', 'element_id': '5464aae9-4a08-48cc-8e9f-4242570d6709', 'file_directory': './document_processing', 'filename': '1999_christiansen_reocr.pdf', 'filetype': 'application/pdf', 'languages': ['eng'], 'last_modified': '2024-12-26T14:30:38', 'orig_elements': 'eJx9Ustu2zAQ/BVC50SmHrYs33rprQ80uQWBsCbXEgGKFLhUHCPIv3dJOyjaoj3uzOzu7OPprUCLM7o4GF0cRLFtmtNJVlXb1HvVntS2Atxp2Ukpm1oqKO5EMWMEDRFY/1Yo74M2DiJSji1c/BqHCc04RUbqWkrOucFno+PEaNVldPHGxZT39FT1+5KhetuV8vlOfMRt15V9ivd1X3Z/x1c9AwVdKOKcZvhuXtE+LKCweGciWR3Ir4Hj5DCgYsuD9QqiDxlago9eeZuyR0ozBpx9xOFkLA4LZM/MHDYbliokMm68X/SJcoc12H/xm6rv+0FNwVA04AjdENCrUDJ5dYcRVTTeDcoC0cD5Ry4my37b7ioWZAvasGt2e0l9yo32as1H+9WtuEkdzGnM4n99b9J4WbIUlsUaXgab2NxoC25cYcw3fSqQyz9nlOIwe21OBvO31LJu76v6vt49Vu2hkYdmn7IXzhzcOh8xrbfJSPj1Y3utemxl30PfNfIoa13v+E22bdupTupd3kvE1/Q+xQ/+TyAU/iTihGJGNYEzNAvlHfFwlBg+H9t3Y5ZYiGoSEGZxNnHK0MOXTyIGM44YGAxIYnXR2MxFP46WEXYonBfWu6RK1WMA41CLANqAtZdSfHMK/+gxAV3bs1Cx1XD3W9XZv7D3NZ4haAFOZ5JjbhH4QW+pxPqsSGy4TqzF4smkowhuoZFUMEdG4cglS/HZjCs7rgVN/szuhQqeSND1mTL6sZAjkFE3y8rPi3d8CyrTpT5e4CuEwBt8wce09vfnn5VoWJY=', 'page_number': 3.0, 'rag_type': 'Standard', 'type': 'CompositeElement'}, page_content='Release of the mechanism consists of rotating the latch arm with the SMA trigger wires until the toggles are no longer constrained radially. Once the latch arm has rotated clear, the toggles move outward and the outer race rotates toward the released position as described above. Figure 2 shows a cross section showing the basic latch components.'),\n",
       "   Document(id='2d6593a6-abcc-40f9-8923-88bf4df7aa02', metadata={'chunk_overlap': 0.0, 'chunk_size': 400.0, 'data_source.record_locator.protocol': 'gs', 'data_source.record_locator.remote_file_path': 'gs://processing-pdfs', 'data_source.url': 'gs://processing-pdfs/1999_christiansen_reocr.pdf', 'element_id': '2d6593a6-abcc-40f9-8923-88bf4df7aa02', 'file_directory': './document_processing', 'filename': '1999_christiansen_reocr.pdf', 'filetype': 'application/pdf', 'languages': ['eng'], 'last_modified': '2024-12-26T14:30:38', 'orig_elements': 'eJyNVF1v2zAM/CuCnxPHX8nsvA3Y8zBgBfYQFAYt07EAWfIkOWlQ9L+PVNKmGLpijz7dkccjk8NzghonNKFVfbIXSV3Kfrfd5g1IkH3X54iVzKoOGqzzsoZkJZIJA/QQgPjPibTW9cpAQB+/NVzsEtoR1XEMhBRFlpHmBp9VH0ZC8y8Rna0ygXWHQ9406XYl8m2RpdXjSrwBzS5PSwbqYpfuPgKuEkISf/EBJ57jh3pC/XMGickLPbDd1tvF0Te7dCjJdquthGBdhGZng5VWs/roeU6Hkw3YDkpjO0P0TS/7zYaoEr1X5rie+8HHDovT/3rf0ChNK0enfFBgPJrWoZUupcerOwwog7KmlRq8b0nfUbEsbaq6qIkQLfSKXJPbC/dJN72VS1zcvVtyoxqYeMzks743arjMkQrzrBWFQSY2t2cN5rjAMe71kCCVf4yoD+1kezUojBdTZEW1zot1sXvIq32Z7cua1TMpW7NMHXK8ZUTc/c7KktZYF1lZdXU5kNG8GeRQD11e4Xa3bWIuAZ/4hJJvi6PpRBhR9HhCbWceXIDpxe8FNFm5Ohd2iCRHNw0exYRyBKP8tBIgNLgjiqsjJg6LiZmDjoXQnJSzhgsTQtccvDijQzGjG6ybsE/F17/aMUt4dAqJC/5OFdIaz6mTa/Z0mUmihed7lA6G8GE7tkG/B3SeCnmq8s7ilRGsmKxRdASvvcBITMUtoPfhsIAxryZFo//HfAK0JcFZhZHiugf11ppOk+7snup7D9H8iaIYLoIwOsiITBS6Mj4WVSYu502eil8jXaCYHXp2FSNlUa+8XOigrwsFrV/3+vny4zao1qI5S5qsw4slFiu9tDNeyyjaE5DzFUVzNFFu7rowAn9o+j/jkVnbgVdSkN7BbRkSZuiUVoEXP1it7Tnlm3/9MX0Hx9wTPvABvzz+Ad/02qA=', 'page_number': 3.0, 'rag_type': 'Standard', 'type': 'CompositeElement'}, page_content='During the development and qualification of the release mechanism, a large number of functional and environmental tests were performed. A qualification test series was performed consisting of typical spacecraft environmental tests and interspersed functional tests to monitor performance. During development testing similar environmental tests were performed along with a number of tests to assess'),\n",
       "   Document(id='02b8f407-7989-4dbb-a606-41d7be45b274', metadata={'chunk_overlap': 0.0, 'chunk_size': 400.0, 'data_source.record_locator.protocol': 'gs', 'data_source.record_locator.remote_file_path': 'gs://processing-pdfs', 'data_source.url': 'gs://processing-pdfs/1999_christiansen_reocr.pdf', 'element_id': '02b8f407-7989-4dbb-a606-41d7be45b274', 'file_directory': './document_processing', 'filename': '1999_christiansen_reocr.pdf', 'filetype': 'application/pdf', 'languages': ['eng'], 'last_modified': '2024-12-26T14:30:38', 'orig_elements': 'eJztVk1v3DYQ/SuETj3YWor6IOWbgTpFADdt7W0vjiFQ5GiXqFZSSSrOwuh/75BaOwa8KZCDLwsf3/CRnCHfI+fuMYEedjD4xujkgiSKAVTAOKvyTokKqg64EFwLyTjITCZnJNmBl1p6ifzHRI2j1WaQHlzEvdyPs2+2YDZbjxHGKMU5h/CD0X6L0YzH6DSawYd5d3eM5ml2RspCpNX9GXnGvEyLgKsiT/MjOPIxkLi987ALNfxuvkJ/O0kFyb84EFJt3DhbxCFDCwpTbvpRST/aGJrs6Ec19mH2xoUaLexGD01nemgmGXPGkYvVCqkKnDPD5nzSnYs7zLb/3vgqq+u6UVtrnDdycDA0FkZlUxxcsgMPyptxaFQvnWtwfouL0VQUGeNIiClog1ljtvuwT7rSo5rjpX3bLTlQB7kLZSb/t++B6vdTpMpp6g0eBiaxOgz3ctjMchPv9C4BXP4+Rp1vdqM2nYGoFkZZcZ6xc1ats+Iipxe5CLMnnNkM866FcLx5KNPD16CGpEjJb39d3VxeX5Ofr24//vKJfLi6XP95c3UbJj5ltDa+j5f3Sp5Ulx1XqpSUC9ZRyfOsLGqhs6JWnRZvKM8sFWekyrKULvKMGHmLHAXjaf0aL/xTlGfNBM1PQp4xYn/gCXyp5w9mM1sgOTGOSDJt8aI2Vk5bMnbEb4H88fD3MHsiBx1hO/aeWPBWhuNaYVVqC5aYIY6qcejCerFWjEhPttKRFmAg/8yyj4WlL43ySdrA/gLrkM8Rw+iacdpRjnptsYZKMVXpUmqOYd2V+RsapgjvM89FyhbDLLiqFlyVNK2O4Mg/RcMIWtPi3TBr1PkO1FYOxu3QCj1IB8QZHeXvsDyH3rn4IZEz1kEhc2h5mesyl7noAHitMl2xulTqzUSe1WUULWfLr3DAIsfPYfkF8Pl/jRf+SYq8prR8F/kjuf31kjxg/cRbs9mAdeTzjG9wEd/5b/rHX+NAAE3aPfpBz4OWg39eAL8VRzQ4ZU2LHNmOX+ClOa7xrD4GDR3xRa1kpijvRJELynhRyVa1FFsonhUUIHs7XwgeuiORV0sz/4Rr/uSDOuVHcOSfpC9Eyep3X/xEbkYv7f753e9DA/RkjfA1PNsFLxFlGO2ykKTdET9iq2TwDHAEFYidEzZSsHCx4OO+uP8PwBK1DA==', 'page_number': 3.0, 'rag_type': 'Standard', 'type': 'CompositeElement'}, page_content='4. OVERALL DESIGN FEATURES\\n\\nFigure 3 is a photograph of the Qwknut and the bolt retractor/catcher in the configuration that has been qualified.\\n\\nThe mechanism release side consists of:\\n\\n{ SMA wire triggers — the mechanism is triggered by redundant SMA wires as described above\\n\\n( Rotary release latch — The triggers rotate the latch arm to initiate outer race rotation')],\n",
       "  [0.405970246,\n",
       "   0.329816371,\n",
       "   0.294142544,\n",
       "   0.277702868,\n",
       "   0.266806573,\n",
       "   0.263621479,\n",
       "   0.258329153,\n",
       "   0.247339085]),\n",
       " 'summary': \"The conversation discusses the Multipurpose Hold-Down and Release Mechanism (MHRM), designed for non-pyrotechnic release of large loads using low-energy signals. It utilizes Shape Memory Alloy (SMA) wires as a prime mover, converting electrical energy into mechanical work. The mechanism's design includes roller-bearing geometry to manage force reduction and employs latching elements for security. Testing involved stiffness, strength, on-ground release, vibration, and thermal vacuum tests, confirming its reliability and operational capability in space conditions. Lessons learned highlight the advantages of non-pyrotechnic mechanisms, the effective use of SMA wires, and the importance of redundancy for reliability. The MHRM's simple installation and robust design make it suitable for aerospace applications, demonstrating the significance of innovative design and thorough testing in developing reliable mechanisms.\"}"
      ]
     },
     "execution_count": 25,
     "metadata": {},
     "output_type": "execute_result"
    }
   ],
   "source": [
    "result"
   ]
  },
  {
   "cell_type": "code",
   "execution_count": 26,
   "metadata": {},
   "outputs": [
    {
     "name": "stderr",
     "output_type": "stream",
     "text": [
      "INFO:__main__:Node: retrieve\n",
      "INFO:httpx:HTTP Request: POST https://api.openai.com/v1/embeddings \"HTTP/1.1 200 OK\"\n",
      "INFO:__main__:Node: generate_w_context\n",
      "INFO:__main__:Messages with system prompt (w/summary): [SystemMessage(content='\\nYour name is **Aerospace Chatbot**, a specialized assistant for flight hardware design and analysis in aerospace engineering.\\n\\nUse only the **Sources and Context** from the **Reference Documents** provided to answer the **User Question**. Do not use outside knowledge, and strictly follow these rules:\\n\\n### Rules:\\n1. **Answer only based on the provided Sources and Context.**\\n   - If the information is not available in the Sources and Context, respond with:\\n     *\"I don’t know the answer to that based on the information provided. You might consider rephrasing your question or asking about a related topic.\"*\\n2. **Do not make up or infer answers.**\\n3. Provide responses in **English only** and format them using **Markdown** for clarity.\\n4. Suggest related or alternative questions if applicable, to help the user find relevant information within the corpus.\\n', additional_kwargs={}, response_metadata={}), SystemMessage(content=\"Summary of conversation earlier: The conversation discusses the Multipurpose Hold-Down and Release Mechanism (MHRM), designed for non-pyrotechnic release of large loads using low-energy signals. It utilizes Shape Memory Alloy (SMA) wires as a prime mover, converting electrical energy into mechanical work. The mechanism's design includes roller-bearing geometry to manage force reduction and employs latching elements for security. Testing involved stiffness, strength, on-ground release, vibration, and thermal vacuum tests, confirming its reliability and operational capability in space conditions. Lessons learned highlight the advantages of non-pyrotechnic mechanisms, the effective use of SMA wires, and the importance of redundancy for reliability. The MHRM's simple installation and robust design make it suitable for aerospace applications, demonstrating the significance of innovative design and thorough testing in developing reliable mechanisms.\", additional_kwargs={}, response_metadata={}), HumanMessage(content='What are some lessons learned about these mechanisms?', additional_kwargs={}, response_metadata={}, id='c202ac5d-86e8-4d44-bb61-c1471e90cdd0'), AIMessage(content='Some lessons learned from the development and testing of the Multipurpose Hold-Down and Release Mechanism (MHRM) include:\\n\\n1. **Non-Pyrotechnic Release**: The MHRM successfully demonstrated a non-pyrotechnic release mechanism, which is significant because it avoids the complexities and safety concerns associated with pyrotechnic devices. This approach can simplify handling protocols and improve safety.\\n\\n2. **Use of SMA Wires**: The mechanism effectively utilized Shape Memory Alloy (SMA) wires to trigger the release. This choice allowed for a low-energy signal to initiate the release of a large load, showcasing the potential of SMA wires in aerospace applications.\\n\\n3. **Design Viability**: The overall design of the MHRM was confirmed to be viable through extensive testing, including functional and environmental tests. This indicates that the design can withstand the operational conditions expected in a spacecraft environment.\\n\\n4. **Simple Installation**: The mechanism was designed for simple installation by bolting it to the top of a reel, which can facilitate easier integration into spacecraft systems.\\n\\n5. **Redundancy and Reliability**: The use of redundant SMA wires for triggering the mechanism enhances reliability, ensuring that the mechanism can still function even if one wire fails.\\n\\nThese lessons highlight the importance of innovative design and thorough testing in developing reliable aerospace mechanisms. If you have more specific questions about the design or testing process, feel free to ask!', additional_kwargs={'refusal': None}, response_metadata={'token_usage': {'completion_tokens': 287, 'prompt_tokens': 1451, 'total_tokens': 1738, 'completion_tokens_details': {'accepted_prediction_tokens': 0, 'audio_tokens': 0, 'reasoning_tokens': 0, 'rejected_prediction_tokens': 0}, 'prompt_tokens_details': {'audio_tokens': 0, 'cached_tokens': 0}}, 'model_name': 'gpt-4o-2024-08-06', 'system_fingerprint': 'fp_5f20662549', 'finish_reason': 'stop', 'logprobs': None}, id='run-b23c3965-f5fb-4fb3-b01e-e8352c837c7b-0', usage_metadata={'input_tokens': 1451, 'output_tokens': 287, 'total_tokens': 1738, 'input_token_details': {'audio': 0, 'cache_read': 0}, 'output_token_details': {'audio': 0, 'reasoning': 0}}), HumanMessage(content='What are some problems that have occurred?', additional_kwargs={}, response_metadata={}, id='de908a78-333f-42a1-a48e-571ec63e6b8b')]\n",
      "INFO:__main__:Messages with prompt with context: [SystemMessage(content='\\nYour name is **Aerospace Chatbot**, a specialized assistant for flight hardware design and analysis in aerospace engineering.\\n\\nUse only the **Sources and Context** from the **Reference Documents** provided to answer the **User Question**. Do not use outside knowledge, and strictly follow these rules:\\n\\n### Rules:\\n1. **Answer only based on the provided Sources and Context.**\\n   - If the information is not available in the Sources and Context, respond with:\\n     *\"I don’t know the answer to that based on the information provided. You might consider rephrasing your question or asking about a related topic.\"*\\n2. **Do not make up or infer answers.**\\n3. Provide responses in **English only** and format them using **Markdown** for clarity.\\n4. Suggest related or alternative questions if applicable, to help the user find relevant information within the corpus.\\n', additional_kwargs={}, response_metadata={}), SystemMessage(content=\"Summary of conversation earlier: The conversation discusses the Multipurpose Hold-Down and Release Mechanism (MHRM), designed for non-pyrotechnic release of large loads using low-energy signals. It utilizes Shape Memory Alloy (SMA) wires as a prime mover, converting electrical energy into mechanical work. The mechanism's design includes roller-bearing geometry to manage force reduction and employs latching elements for security. Testing involved stiffness, strength, on-ground release, vibration, and thermal vacuum tests, confirming its reliability and operational capability in space conditions. Lessons learned highlight the advantages of non-pyrotechnic mechanisms, the effective use of SMA wires, and the importance of redundancy for reliability. The MHRM's simple installation and robust design make it suitable for aerospace applications, demonstrating the significance of innovative design and thorough testing in developing reliable mechanisms.\", additional_kwargs={}, response_metadata={}), HumanMessage(content='What are some lessons learned about these mechanisms?', additional_kwargs={}, response_metadata={}, id='c202ac5d-86e8-4d44-bb61-c1471e90cdd0'), AIMessage(content='Some lessons learned from the development and testing of the Multipurpose Hold-Down and Release Mechanism (MHRM) include:\\n\\n1. **Non-Pyrotechnic Release**: The MHRM successfully demonstrated a non-pyrotechnic release mechanism, which is significant because it avoids the complexities and safety concerns associated with pyrotechnic devices. This approach can simplify handling protocols and improve safety.\\n\\n2. **Use of SMA Wires**: The mechanism effectively utilized Shape Memory Alloy (SMA) wires to trigger the release. This choice allowed for a low-energy signal to initiate the release of a large load, showcasing the potential of SMA wires in aerospace applications.\\n\\n3. **Design Viability**: The overall design of the MHRM was confirmed to be viable through extensive testing, including functional and environmental tests. This indicates that the design can withstand the operational conditions expected in a spacecraft environment.\\n\\n4. **Simple Installation**: The mechanism was designed for simple installation by bolting it to the top of a reel, which can facilitate easier integration into spacecraft systems.\\n\\n5. **Redundancy and Reliability**: The use of redundant SMA wires for triggering the mechanism enhances reliability, ensuring that the mechanism can still function even if one wire fails.\\n\\nThese lessons highlight the importance of innovative design and thorough testing in developing reliable aerospace mechanisms. If you have more specific questions about the design or testing process, feel free to ask!', additional_kwargs={'refusal': None}, response_metadata={'token_usage': {'completion_tokens': 287, 'prompt_tokens': 1451, 'total_tokens': 1738, 'completion_tokens_details': {'accepted_prediction_tokens': 0, 'audio_tokens': 0, 'reasoning_tokens': 0, 'rejected_prediction_tokens': 0}, 'prompt_tokens_details': {'audio_tokens': 0, 'cached_tokens': 0}}, 'model_name': 'gpt-4o-2024-08-06', 'system_fingerprint': 'fp_5f20662549', 'finish_reason': 'stop', 'logprobs': None}, id='run-b23c3965-f5fb-4fb3-b01e-e8352c837c7b-0', usage_metadata={'input_tokens': 1451, 'output_tokens': 287, 'total_tokens': 1738, 'input_token_details': {'audio': 0, 'cache_read': 0}, 'output_token_details': {'audio': 0, 'reasoning': 0}}), HumanMessage(content='\\n---\\n**User Question**:\\nWhat are some problems that have occurred?\\n---\\n\\n---\\n**Sources and Context from Reference Documents**:\\ncompleted. A new, un-tested component, as well as de-mating and mating of the electrical connectors, can lead to reliability issues.\\n\\nThe above issues create difficulties in designing and operating spacecraft. Often increased mass and increased costs are result.\\n\\n3. DESIGN ISSUES\\n\\nThe basic design problem was to create a device that could utilize a very low energy signal to release a relatively large load of IOKN while addressing the above issues. The overall device comprised several basic components:\\n\\n{ The “prime mover” which converts electrical energy to mechanical\\n\\npyro shock Resettability / reusability High reliability mechanism\\n\\n(No ( (\\n\\n2. OPERATIONAL ISSUES\\n\\nTypically separation nuts are released through the action of gas generated through detonation of a pyrotechnic charge. The safe and effective use of a pyrotechnic mechanism is based on some very strict handling protocol.\\n\\n2.5 Safety\\n\\nThe device must be safe for operation. Operators and hardware should not be at risk during handling, storage, or operation of the device. The device should not be susceptible to random operation based on stray electrical signals such as electro-static discharge (ESD) or electromagnetic interference (EMI). If the device is not based on an explosive charge, the safety and handling of explosives is\\n\\nOnce fired, a pyrotechnic charge cannot be re-used. Because the pyrotechnic charge must be replaced after each use, there are issues with replacement of components after testing of a system has been\\n\\n2.3. Low Shock\\n\\nA key issue for the device is that it not create a large shock during release. A very distinct requirement was\\n\\nthat the device must not be based on a pyrotechnic charge for release.\\n\\nDuring the development and qualification of the release mechanism, a large number of functional and environmental tests were performed. A qualification test series was performed consisting of typical spacecraft environmental tests and interspersed functional tests to monitor performance. During development testing similar environmental tests were performed along with a number of tests to assess\\n\\n5.3 Shock\\n\\nThe device is not based on an explosive charge, so the shock associated with detonation is not present. As with any high force release device, the release of the strain energy from the preload must be considered. In several tests instrumented with accelerometers, the maximum shock measured in an aluminum fixture near the device was 60 g.\\n\\n(Safe handling and operation\\n\\n6. CONCLUSIONS\\n---\\n', additional_kwargs={}, response_metadata={})]\n",
      "INFO:httpx:HTTP Request: POST https://api.openai.com/v1/chat/completions \"HTTP/1.1 200 OK\"\n",
      "INFO:__main__:Node: should_continue\n",
      "INFO:__main__:Ending conversation\n",
      "INFO:__main__:Messages before ending: [HumanMessage(content='What are some lessons learned about these mechanisms?', additional_kwargs={}, response_metadata={}, id='c202ac5d-86e8-4d44-bb61-c1471e90cdd0'), AIMessage(content='Some lessons learned from the development and testing of the Multipurpose Hold-Down and Release Mechanism (MHRM) include:\\n\\n1. **Non-Pyrotechnic Release**: The MHRM successfully demonstrated a non-pyrotechnic release mechanism, which is significant because it avoids the complexities and safety concerns associated with pyrotechnic devices. This approach can simplify handling protocols and improve safety.\\n\\n2. **Use of SMA Wires**: The mechanism effectively utilized Shape Memory Alloy (SMA) wires to trigger the release. This choice allowed for a low-energy signal to initiate the release of a large load, showcasing the potential of SMA wires in aerospace applications.\\n\\n3. **Design Viability**: The overall design of the MHRM was confirmed to be viable through extensive testing, including functional and environmental tests. This indicates that the design can withstand the operational conditions expected in a spacecraft environment.\\n\\n4. **Simple Installation**: The mechanism was designed for simple installation by bolting it to the top of a reel, which can facilitate easier integration into spacecraft systems.\\n\\n5. **Redundancy and Reliability**: The use of redundant SMA wires for triggering the mechanism enhances reliability, ensuring that the mechanism can still function even if one wire fails.\\n\\nThese lessons highlight the importance of innovative design and thorough testing in developing reliable aerospace mechanisms. If you have more specific questions about the design or testing process, feel free to ask!', additional_kwargs={'refusal': None}, response_metadata={'token_usage': {'completion_tokens': 287, 'prompt_tokens': 1451, 'total_tokens': 1738, 'completion_tokens_details': {'accepted_prediction_tokens': 0, 'audio_tokens': 0, 'reasoning_tokens': 0, 'rejected_prediction_tokens': 0}, 'prompt_tokens_details': {'audio_tokens': 0, 'cached_tokens': 0}}, 'model_name': 'gpt-4o-2024-08-06', 'system_fingerprint': 'fp_5f20662549', 'finish_reason': 'stop', 'logprobs': None}, id='run-b23c3965-f5fb-4fb3-b01e-e8352c837c7b-0', usage_metadata={'input_tokens': 1451, 'output_tokens': 287, 'total_tokens': 1738, 'input_token_details': {'audio': 0, 'cache_read': 0}, 'output_token_details': {'audio': 0, 'reasoning': 0}}), HumanMessage(content='What are some problems that have occurred?', additional_kwargs={}, response_metadata={}, id='de908a78-333f-42a1-a48e-571ec63e6b8b'), AIMessage(content='Some problems and challenges encountered during the development and operation of the Multipurpose Hold-Down and Release Mechanism (MHRM) include:\\n\\n1. **Reliability Issues**: The introduction of new, untested components and the repeated de-mating and mating of electrical connectors can lead to reliability concerns. These issues can complicate the design and operation of spacecraft systems.\\n\\n2. **Increased Mass and Costs**: Addressing the design and operational challenges often results in increased mass and costs, which are critical considerations in spacecraft design.\\n\\n3. **Safety Concerns**: Ensuring the device is safe for operation is crucial. The mechanism must not be susceptible to random operation due to stray electrical signals such as electro-static discharge (ESD) or electromagnetic interference (EMI).\\n\\n4. **Shock Management**: Although the device is not based on a pyrotechnic charge, managing the release of strain energy from the preload is important to minimize shock. Tests showed that the maximum shock measured was 60 g, which needs to be considered in the design to prevent damage to nearby components.\\n\\nThese challenges highlight the complexities involved in designing non-pyrotechnic release mechanisms for aerospace applications. If you have further questions about specific aspects of these challenges, feel free to ask!', additional_kwargs={'refusal': None}, response_metadata={'token_usage': {'completion_tokens': 255, 'prompt_tokens': 1176, 'total_tokens': 1431, 'completion_tokens_details': {'accepted_prediction_tokens': 0, 'audio_tokens': 0, 'reasoning_tokens': 0, 'rejected_prediction_tokens': 0}, 'prompt_tokens_details': {'audio_tokens': 0, 'cached_tokens': 0}}, 'model_name': 'gpt-4o-2024-08-06', 'system_fingerprint': 'fp_5f20662549', 'finish_reason': 'stop', 'logprobs': None}, id='run-00229e4f-134e-4f74-a0ca-ee56efb2d033-0', usage_metadata={'input_tokens': 1176, 'output_tokens': 255, 'total_tokens': 1431, 'input_token_details': {'audio': 0, 'cache_read': 0}, 'output_token_details': {'audio': 0, 'reasoning': 0}})]\n"
     ]
    },
    {
     "name": "stdout",
     "output_type": "stream",
     "text": [
      "================================\u001b[1m Human Message \u001b[0m=================================\n",
      "\n",
      "What are some lessons learned about these mechanisms?\n",
      "==================================\u001b[1m Ai Message \u001b[0m==================================\n",
      "\n",
      "Some lessons learned from the development and testing of the Multipurpose Hold-Down and Release Mechanism (MHRM) include:\n",
      "\n",
      "1. **Non-Pyrotechnic Release**: The MHRM successfully demonstrated a non-pyrotechnic release mechanism, which is significant because it avoids the complexities and safety concerns associated with pyrotechnic devices. This approach can simplify handling protocols and improve safety.\n",
      "\n",
      "2. **Use of SMA Wires**: The mechanism effectively utilized Shape Memory Alloy (SMA) wires to trigger the release. This choice allowed for a low-energy signal to initiate the release of a large load, showcasing the potential of SMA wires in aerospace applications.\n",
      "\n",
      "3. **Design Viability**: The overall design of the MHRM was confirmed to be viable through extensive testing, including functional and environmental tests. This indicates that the design can withstand the operational conditions expected in a spacecraft environment.\n",
      "\n",
      "4. **Simple Installation**: The mechanism was designed for simple installation by bolting it to the top of a reel, which can facilitate easier integration into spacecraft systems.\n",
      "\n",
      "5. **Redundancy and Reliability**: The use of redundant SMA wires for triggering the mechanism enhances reliability, ensuring that the mechanism can still function even if one wire fails.\n",
      "\n",
      "These lessons highlight the importance of innovative design and thorough testing in developing reliable aerospace mechanisms. If you have more specific questions about the design or testing process, feel free to ask!\n",
      "================================\u001b[1m Human Message \u001b[0m=================================\n",
      "\n",
      "What are some problems that have occurred?\n",
      "==================================\u001b[1m Ai Message \u001b[0m==================================\n",
      "\n",
      "Some problems and challenges encountered during the development and operation of the Multipurpose Hold-Down and Release Mechanism (MHRM) include:\n",
      "\n",
      "1. **Reliability Issues**: The introduction of new, untested components and the repeated de-mating and mating of electrical connectors can lead to reliability concerns. These issues can complicate the design and operation of spacecraft systems.\n",
      "\n",
      "2. **Increased Mass and Costs**: Addressing the design and operational challenges often results in increased mass and costs, which are critical considerations in spacecraft design.\n",
      "\n",
      "3. **Safety Concerns**: Ensuring the device is safe for operation is crucial. The mechanism must not be susceptible to random operation due to stray electrical signals such as electro-static discharge (ESD) or electromagnetic interference (EMI).\n",
      "\n",
      "4. **Shock Management**: Although the device is not based on a pyrotechnic charge, managing the release of strain energy from the preload is important to minimize shock. Tests showed that the maximum shock measured was 60 g, which needs to be considered in the design to prevent damage to nearby components.\n",
      "\n",
      "These challenges highlight the complexities involved in designing non-pyrotechnic release mechanisms for aerospace applications. If you have further questions about specific aspects of these challenges, feel free to ask!\n"
     ]
    }
   ],
   "source": [
    "prompt = 'What are some problems that have occurred?'\n",
    "result = app.invoke({\"messages\": [(\"human\", prompt)]}, config)\n",
    "for message in result['messages']:\n",
    "    message.pretty_print()"
   ]
  },
  {
   "cell_type": "code",
   "execution_count": null,
   "metadata": {},
   "outputs": [],
   "source": []
  }
 ],
 "metadata": {
  "kernelspec": {
   "display_name": "Python 3",
   "language": "python",
   "name": "python3"
  },
  "language_info": {
   "codemirror_mode": {
    "name": "ipython",
    "version": 3
   },
   "file_extension": ".py",
   "mimetype": "text/x-python",
   "name": "python",
   "nbconvert_exporter": "python",
   "pygments_lexer": "ipython3",
   "version": "3.11.10"
  },
  "orig_nbformat": 4
 },
 "nbformat": 4,
 "nbformat_minor": 2
}
