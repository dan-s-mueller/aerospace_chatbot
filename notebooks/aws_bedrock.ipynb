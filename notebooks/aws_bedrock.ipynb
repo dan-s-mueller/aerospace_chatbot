{
 "cells": [
  {
   "cell_type": "code",
   "execution_count": 3,
   "metadata": {},
   "outputs": [],
   "source": [
    "# Use the ListFoundationModels API to show the models that are available in your region.\n",
    "import boto3\n",
    "             \n",
    "# Create an &BR; client in the &region-us-east-1; Region.\n",
    "bedrock = boto3.client(\n",
    "    service_name=\"bedrock\"\n",
    ") \n",
    "\n",
    "# bedrock.list_foundation_models()\n",
    "# bedrock.list_knowledge_bases() "
   ]
  },
  {
   "cell_type": "code",
   "execution_count": 9,
   "metadata": {},
   "outputs": [
    {
     "data": {
      "text/plain": [
       "{'ResponseMetadata': {'RequestId': '2e57f659-3b86-407f-a0dc-31f101c7a7bb',\n",
       "  'HTTPStatusCode': 200,\n",
       "  'HTTPHeaders': {'date': 'Tue, 29 Oct 2024 16:29:04 GMT',\n",
       "   'content-type': 'application/json',\n",
       "   'content-length': '169',\n",
       "   'connection': 'keep-alive',\n",
       "   'x-amzn-requestid': '2e57f659-3b86-407f-a0dc-31f101c7a7bb',\n",
       "   'x-amz-apigw-id': 'Aa8ErGXvvHcEW5A=',\n",
       "   'x-amzn-trace-id': 'Root=1-67210d50-54779924240da9625420e8de'},\n",
       "  'RetryAttempts': 0},\n",
       " 'knowledgeBaseSummaries': [{'knowledgeBaseId': 'IHX906QZRF',\n",
       "   'name': 'knowledge-base-quick-start-ams-demo',\n",
       "   'status': 'ACTIVE',\n",
       "   'updatedAt': datetime.datetime(2024, 10, 29, 16, 10, 23, 986466, tzinfo=tzutc())}]}"
      ]
     },
     "execution_count": 9,
     "metadata": {},
     "output_type": "execute_result"
    }
   ],
   "source": [
    "client = boto3.client('bedrock-agent')\n",
    "response = client.list_knowledge_bases(\n",
    "    maxResults=123\n",
    ")\n",
    "response"
   ]
  },
  {
   "cell_type": "code",
   "execution_count": null,
   "metadata": {},
   "outputs": [],
   "source": []
  }
 ],
 "metadata": {
  "kernelspec": {
   "display_name": "Python 3",
   "language": "python",
   "name": "python3"
  },
  "language_info": {
   "codemirror_mode": {
    "name": "ipython",
    "version": 3
   },
   "file_extension": ".py",
   "mimetype": "text/x-python",
   "name": "python",
   "nbconvert_exporter": "python",
   "pygments_lexer": "ipython3",
   "version": "3.11.1"
  },
  "orig_nbformat": 4
 },
 "nbformat": 4,
 "nbformat_minor": 2
}
