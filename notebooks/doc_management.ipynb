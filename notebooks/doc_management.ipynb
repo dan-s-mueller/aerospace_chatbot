{
 "cells": [
  {
   "cell_type": "markdown",
   "metadata": {},
   "source": [
    "# Setup"
   ]
  },
  {
   "cell_type": "code",
   "execution_count": 1,
   "metadata": {},
   "outputs": [],
   "source": [
    "%load_ext autoreload\n",
    "%autoreload 2"
   ]
  },
  {
   "cell_type": "code",
   "execution_count": 2,
   "metadata": {},
   "outputs": [],
   "source": [
    "import time\n",
    "import copy\n",
    "from aerospace_chatbot.processing import DocumentProcessor\n",
    "from aerospace_chatbot.services import EmbeddingService, RerankService, LLMService, DatabaseService\n",
    "from aerospace_chatbot.processing import QAModel\n",
    "\n",
    "from langchain_core.documents import Document\n",
    "\n",
    "# Load environment variables\n",
    "from dotenv import load_dotenv\n",
    "load_dotenv(override=True)\n",
    "\n",
    "# Initialize logger\n",
    "import logging\n",
    "logger = logging.getLogger(__name__)\n",
    "logging.basicConfig(level=logging.INFO)"
   ]
  },
  {
   "cell_type": "code",
   "execution_count": 3,
   "metadata": {},
   "outputs": [],
   "source": [
    "embedding_service='OpenAI'\n",
    "embedding_model='text-embedding-3-large'\n",
    "\n",
    "embedding_service = EmbeddingService(\n",
    "    model_service=embedding_service,\n",
    "    model=embedding_model\n",
    ")\n",
    "\n",
    "doc_processor = DocumentProcessor(\n",
    "    embedding_service=embedding_service\n",
    ")"
   ]
  },
  {
   "cell_type": "code",
   "execution_count": null,
   "metadata": {},
   "outputs": [],
   "source": [
    "buckets = [\"ams_pdfs\", \"esmats_pdfs\"]\n",
    "# buckets = [\"processing-pdfs\"]\n",
    "\n",
    "docs_all = []\n",
    "for bucket in buckets:\n",
    "    docs_bucket = DocumentProcessor.list_bucket_pdfs(bucket)\n",
    "    docs_all.append(docs_bucket)"
   ]
  },
  {
   "cell_type": "code",
   "execution_count": null,
   "metadata": {},
   "outputs": [],
   "source": [
    "len(docs_all)"
   ]
  },
  {
   "cell_type": "markdown",
   "metadata": {},
   "source": [
    "# Partition Documents"
   ]
  },
  {
   "cell_type": "code",
   "execution_count": null,
   "metadata": {},
   "outputs": [],
   "source": [
    "partitioned_docs_all = []\n",
    "for bucket, docs in zip(buckets, docs_all):\n",
    "    # partitioned_docs = doc_processor.load_and_partition_documents(docs,partition_by_api=False, upload_bucket=bucket)\n",
    "    partitioned_docs = doc_processor.load_and_partition_documents(docs,partition_by_api=False, upload_bucket=None)\n",
    "    partitioned_docs_all.append(partitioned_docs)"
   ]
  },
  {
   "cell_type": "markdown",
   "metadata": {},
   "source": [
    "# Chunk and Index Documents"
   ]
  },
  {
   "cell_type": "markdown",
   "metadata": {},
   "source": [
    "## 2000 token, 0 overlap, voyage-3 Voyage Embedding"
   ]
  },
  {
   "cell_type": "code",
   "execution_count": null,
   "metadata": {},
   "outputs": [],
   "source": [
    "# Load partitioned documents\n",
    "partitioned_docs_all = []\n",
    "for bucket, docs in zip(buckets, docs_all):\n",
    "    partitioned_docs = doc_processor.load_partitioned_documents(docs, partition_dir='./document_processing')\n",
    "    partitioned_docs_all.append(partitioned_docs)"
   ]
  },
  {
   "cell_type": "code",
   "execution_count": 7,
   "metadata": {},
   "outputs": [],
   "source": [
    "# Set up chunking and database parameters\n",
    "db_type='Pinecone'\n",
    "\n",
    "chunk_size=2000\n",
    "chunk_overlap=0\n",
    "\n",
    "# embedding_service='OpenAI'\n",
    "# embedding_model='text-embedding-3-large'\n",
    "embedding_service = \"Voyage\"\n",
    "embedding_model = \"voyage-3\"\n",
    "embedding_service = EmbeddingService(\n",
    "    model_service=embedding_service,\n",
    "    model=embedding_model\n",
    ")\n",
    "\n",
    "rerank_service='Cohere'\n",
    "rerank_model='rerank-v3.5'\n",
    "rerank_service = RerankService(\n",
    "    model_service=rerank_service,\n",
    "    model=rerank_model\n",
    ")\n",
    "\n",
    "dirname = f'./document_processing_{chunk_size}_{chunk_overlap}'\n",
    "doc_processor = DocumentProcessor(\n",
    "    embedding_service=embedding_service,\n",
    "    chunk_size=chunk_size,\n",
    "    chunk_overlap=chunk_overlap,\n",
    "    work_dir=dirname\n",
    ")\n",
    "\n",
    "index_name = f'{embedding_model}-mech-demo2-{chunk_size}'\n",
    "db_service = DatabaseService(\n",
    "    db_type=db_type,\n",
    "    index_name=index_name,\n",
    "    embedding_service=embedding_service,\n",
    "    rerank_service=rerank_service,\n",
    ")"
   ]
  },
  {
   "cell_type": "code",
   "execution_count": null,
   "metadata": {},
   "outputs": [],
   "source": [
    "# Chunk loaded partitioned documents\n",
    "chunk_obj_all = []\n",
    "output_paths_all = []\n",
    "for bucket, partitioned_docs in zip(buckets, partitioned_docs_all):\n",
    "    chunk_obj, output_paths = doc_processor.chunk_documents(partitioned_docs)\n",
    "    chunk_obj_all.append(chunk_obj)\n",
    "    output_paths_all.append(output_paths)\n",
    "\n",
    "print(len(chunk_obj_all))"
   ]
  },
  {
   "cell_type": "code",
   "execution_count": null,
   "metadata": {},
   "outputs": [],
   "source": [
    "print(len(chunk_obj_all[0].chunks))\n",
    "print(len(chunk_obj_all[1].chunks))\n",
    "print(len(chunk_obj_all[0].chunks)+len(chunk_obj_all[1].chunks))"
   ]
  },
  {
   "cell_type": "code",
   "execution_count": null,
   "metadata": {},
   "outputs": [],
   "source": [
    "try:\n",
    "    db_service.initialize_database(clear=True)\n",
    "except ValueError as e:\n",
    "    print(f\"Database initialization failed: {str(e)}\")\n",
    "    print(e)\n",
    "    raise e"
   ]
  },
  {
   "cell_type": "code",
   "execution_count": null,
   "metadata": {},
   "outputs": [],
   "source": [
    "for chunk_obj in chunk_obj_all:\n",
    "    print(f'Upserting {len(chunk_obj.chunks)} chunks')\n",
    "    db_service.index_data(chunk_obj, batch_size=50)\n",
    "    time.sleep(5)"
   ]
  },
  {
   "cell_type": "markdown",
   "metadata": {},
   "source": [
    "## 2000 token, 0 overlap, text-embedding-3-large OpenAI Embedding"
   ]
  },
  {
   "cell_type": "code",
   "execution_count": null,
   "metadata": {},
   "outputs": [],
   "source": [
    "# Load partitioned documents\n",
    "partitioned_docs_all = []\n",
    "for bucket, docs in zip(buckets, docs_all):\n",
    "    partitioned_docs = doc_processor.load_partitioned_documents(docs, partition_dir='./document_processing')\n",
    "    partitioned_docs_all.append(partitioned_docs)"
   ]
  },
  {
   "cell_type": "code",
   "execution_count": 14,
   "metadata": {},
   "outputs": [],
   "source": [
    "# Set up chunking and database parameters\n",
    "db_type='Pinecone'\n",
    "\n",
    "chunk_size=2000\n",
    "chunk_overlap=0\n",
    "\n",
    "embedding_service='OpenAI'\n",
    "embedding_model='text-embedding-3-large'\n",
    "# embedding_service = \"Voyage\"\n",
    "# embedding_model = \"voyage-3\"\n",
    "embedding_service = EmbeddingService(\n",
    "    model_service=embedding_service,\n",
    "    model=embedding_model\n",
    ")\n",
    "\n",
    "rerank_service='Cohere'\n",
    "rerank_model='rerank-v3.5'\n",
    "rerank_service = RerankService(\n",
    "    model_service=rerank_service,\n",
    "    model=rerank_model\n",
    ")\n",
    "\n",
    "dirname = f'./document_processing_{chunk_size}_{chunk_overlap}'\n",
    "doc_processor = DocumentProcessor(\n",
    "    embedding_service=embedding_service,\n",
    "    chunk_size=chunk_size,\n",
    "    chunk_overlap=chunk_overlap,\n",
    "    work_dir=dirname\n",
    ")\n",
    "\n",
    "index_name = f'{embedding_model}-mech-demo2-{chunk_size}'\n",
    "db_service = DatabaseService(\n",
    "    db_type=db_type,\n",
    "    index_name=index_name,\n",
    "    embedding_service=embedding_service,\n",
    "    rerank_service=rerank_service,\n",
    ")"
   ]
  },
  {
   "cell_type": "code",
   "execution_count": null,
   "metadata": {},
   "outputs": [],
   "source": [
    "# Chunk loaded partitioned documents\n",
    "chunk_obj_all = []\n",
    "output_paths_all = []\n",
    "for bucket, partitioned_docs in zip(buckets, partitioned_docs_all):\n",
    "    chunk_obj, output_paths = doc_processor.chunk_documents(partitioned_docs)\n",
    "    chunk_obj_all.append(chunk_obj)\n",
    "    output_paths_all.append(output_paths)\n",
    "\n",
    "print(len(chunk_obj_all))"
   ]
  },
  {
   "cell_type": "code",
   "execution_count": null,
   "metadata": {},
   "outputs": [],
   "source": [
    "print(len(chunk_obj_all[0].chunks))\n",
    "print(len(chunk_obj_all[1].chunks))\n",
    "print(len(chunk_obj_all[0].chunks)+len(chunk_obj_all[1].chunks))"
   ]
  },
  {
   "cell_type": "code",
   "execution_count": null,
   "metadata": {},
   "outputs": [],
   "source": [
    "try:\n",
    "    db_service.initialize_database(clear=True)\n",
    "except ValueError as e:\n",
    "    print(f\"Database initialization failed: {str(e)}\")\n",
    "    print(e)\n",
    "    raise e"
   ]
  },
  {
   "cell_type": "code",
   "execution_count": null,
   "metadata": {},
   "outputs": [],
   "source": [
    "for chunk_obj in chunk_obj_all:\n",
    "    print(f'Upserting {len(chunk_obj.chunks)} chunks')\n",
    "    db_service.index_data(chunk_obj, batch_size=50)\n",
    "    time.sleep(5)"
   ]
  }
 ],
 "metadata": {
  "kernelspec": {
   "display_name": ".venv",
   "language": "python",
   "name": "python3"
  },
  "language_info": {
   "codemirror_mode": {
    "name": "ipython",
    "version": 3
   },
   "file_extension": ".py",
   "mimetype": "text/x-python",
   "name": "python",
   "nbconvert_exporter": "python",
   "pygments_lexer": "ipython3",
   "version": "3.11.10"
  }
 },
 "nbformat": 4,
 "nbformat_minor": 2
}
