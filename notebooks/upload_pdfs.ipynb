{
 "cells": [
  {
   "cell_type": "code",
   "execution_count": null,
   "metadata": {},
   "outputs": [],
   "source": [
    "# Load environment variables\n",
    "import os\n",
    "from dotenv import load_dotenv,find_dotenv\n",
    "load_dotenv(find_dotenv())"
   ]
  },
  {
   "cell_type": "code",
   "execution_count": null,
   "metadata": {},
   "outputs": [],
   "source": [
    "# Check api keys\n",
    "print(os.getenv('OPENAI_API_KEY'))\n",
    "print(os.getenv('PINECONE_ENVIRONMENT'))\n",
    "print(os.getenv('PINECONE_API_KEY'))"
   ]
  },
  {
   "cell_type": "code",
   "execution_count": null,
   "metadata": {},
   "outputs": [],
   "source": [
    "# Can import PDFs with lanchain!\n",
    "# https://python.langchain.com/docs/modules/data_connection/document_loaders/pdf\n",
    "# Doc to read: https://ntrs.nasa.gov/citations/19660027401 \n",
    "from langchain.document_loaders import PyPDFLoader\n",
    "\n",
    "data_folder='../data/'\n",
    "doc=\"AMS_2020.pdf\"\n",
    "loader = PyPDFLoader(data_folder+doc)\n",
    "pages = loader.load_and_split()\n",
    "\n",
    "for page in pages:\n",
    "    page.metadata['source']=doc\n",
    "    page.metadata['page']=page.metadata['page']+1"
   ]
  },
  {
   "cell_type": "code",
   "execution_count": null,
   "metadata": {},
   "outputs": [],
   "source": [
    "# Import and instantiate OpenAI embeddings\n",
    "from langchain.embeddings import OpenAIEmbeddings\n",
    "embeddings_model = OpenAIEmbeddings(model=\"text-embedding-ada-002\")"
   ]
  },
  {
   "cell_type": "code",
   "execution_count": null,
   "metadata": {},
   "outputs": [],
   "source": [
    "# Import and initialize Pinecone client\n",
    "import pinecone\n",
    "import os\n",
    "from langchain.vectorstores import Pinecone\n",
    "\n",
    "pinecone.init(\n",
    "    api_key=os.getenv('PINECONE_API_KEY'),\n",
    "    environment=os.getenv('PINECONE_ENVIRONMENT') \n",
    ")\n",
    "pinecone.whoami()"
   ]
  },
  {
   "cell_type": "code",
   "execution_count": null,
   "metadata": {},
   "outputs": [],
   "source": [
    "# Upload vectors to Pinecone\n",
    "index_name = \"langchain-quickstart\"\n",
    "index=pinecone.Index(index_name)\n",
    "\n",
    "# Clear the index first, then upload\n",
    "index.delete(delete_all=True)\n",
    "vectorstore = Pinecone.from_documents(pages, embeddings_model, index_name=index_name)"
   ]
  }
 ],
 "metadata": {
  "language_info": {
   "name": "python"
  },
  "orig_nbformat": 4
 },
 "nbformat": 4,
 "nbformat_minor": 2
}
