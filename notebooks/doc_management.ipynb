{
 "cells": [
  {
   "cell_type": "code",
   "execution_count": 8,
   "metadata": {},
   "outputs": [],
   "source": [
    "%load_ext autoreload\n",
    "%autoreload 2"
   ]
  },
  {
   "cell_type": "markdown",
   "metadata": {},
   "source": [
    "# Partition Documents"
   ]
  },
  {
   "cell_type": "code",
   "execution_count": 9,
   "metadata": {},
   "outputs": [],
   "source": [
    "from aerospace_chatbot.processing import DocumentProcessor\n",
    "from aerospace_chatbot.services import EmbeddingService, RerankService, LLMService, DatabaseService\n",
    "from aerospace_chatbot.processing import QAModel\n",
    "\n",
    "from langchain_core.documents import Document\n",
    "\n",
    "# Load environment variables\n",
    "from dotenv import load_dotenv\n",
    "load_dotenv(override=True)\n",
    "\n",
    "# Initialize logger\n",
    "import logging\n",
    "logger = logging.getLogger(__name__)\n",
    "logging.basicConfig(level=logging.INFO)"
   ]
  },
  {
   "cell_type": "code",
   "execution_count": 10,
   "metadata": {},
   "outputs": [],
   "source": [
    "embedding_service='OpenAI'\n",
    "embedding_model='text-embedding-3-large'\n",
    "\n",
    "embedding_service = EmbeddingService(\n",
    "    model_service=embedding_service,\n",
    "    model=embedding_model\n",
    ")\n",
    "\n",
    "doc_processor = DocumentProcessor(\n",
    "    embedding_service=embedding_service\n",
    ")"
   ]
  },
  {
   "cell_type": "code",
   "execution_count": 11,
   "metadata": {},
   "outputs": [
    {
     "name": "stderr",
     "output_type": "stream",
     "text": [
      "INFO:aerospace_chatbot.processing.documents:Number of PDFs found: 47\n",
      "INFO:aerospace_chatbot.processing.documents:PDFs found: ['gs://ams_pdfs/AMS_1966_reocr.pdf', 'gs://ams_pdfs/AMS_1967_reocr.pdf', 'gs://ams_pdfs/AMS_1968_reocr.pdf', 'gs://ams_pdfs/AMS_1969_reocr.pdf', 'gs://ams_pdfs/AMS_1970_reocr.pdf', 'gs://ams_pdfs/AMS_1971_reocr.pdf', 'gs://ams_pdfs/AMS_1972_reocr.pdf', 'gs://ams_pdfs/AMS_1973_reocr.pdf', 'gs://ams_pdfs/AMS_1974_reocr.pdf', 'gs://ams_pdfs/AMS_1976_reocr.pdf', 'gs://ams_pdfs/AMS_1977_reocr.pdf', 'gs://ams_pdfs/AMS_1978_reocr.pdf', 'gs://ams_pdfs/AMS_1979_reocr.pdf', 'gs://ams_pdfs/AMS_1980_reocr.pdf', 'gs://ams_pdfs/AMS_1981_reocr.pdf', 'gs://ams_pdfs/AMS_1982_reocr.pdf', 'gs://ams_pdfs/AMS_1983_reocr.pdf', 'gs://ams_pdfs/AMS_1984_reocr.pdf', 'gs://ams_pdfs/AMS_1985_reocr.pdf', 'gs://ams_pdfs/AMS_1986_reocr.pdf', 'gs://ams_pdfs/AMS_1987_reocr.pdf', 'gs://ams_pdfs/AMS_1988_reocr.pdf', 'gs://ams_pdfs/AMS_1989_reocr.pdf', 'gs://ams_pdfs/AMS_1990_reocr.pdf', 'gs://ams_pdfs/AMS_1991_reocr.pdf', 'gs://ams_pdfs/AMS_1992_reocr.pdf', 'gs://ams_pdfs/AMS_1993_reocr.pdf', 'gs://ams_pdfs/AMS_1994_reocr.pdf', 'gs://ams_pdfs/AMS_1995_reocr.pdf', 'gs://ams_pdfs/AMS_1996_reocr.pdf', 'gs://ams_pdfs/AMS_1997_reocr.pdf', 'gs://ams_pdfs/AMS_1998_reocr.pdf', 'gs://ams_pdfs/AMS_1999_reocr.pdf', 'gs://ams_pdfs/AMS_2000_reocr.pdf', 'gs://ams_pdfs/AMS_2001_reocr.pdf', 'gs://ams_pdfs/AMS_2002_reocr.pdf', 'gs://ams_pdfs/AMS_2004_reocr.pdf', 'gs://ams_pdfs/AMS_2006_reocr.pdf', 'gs://ams_pdfs/AMS_2008_reocr.pdf', 'gs://ams_pdfs/AMS_2010_reocr.pdf', 'gs://ams_pdfs/AMS_2012_reocr.pdf', 'gs://ams_pdfs/AMS_2014_reocr.pdf', 'gs://ams_pdfs/AMS_2016_reocr.pdf', 'gs://ams_pdfs/AMS_2018_reocr.pdf', 'gs://ams_pdfs/AMS_2020_reocr.pdf', 'gs://ams_pdfs/AMS_2022.pdf', 'gs://ams_pdfs/AMS_2024.pdf']\n",
      "INFO:aerospace_chatbot.processing.documents:Number of PDFs found: 709\n",
      "INFO:aerospace_chatbot.processing.documents:PDFs found: ['gs://esmats_pdfs/1999_arkwright_reocr.pdf', 'gs://esmats_pdfs/1999_astola_reocr.pdf', 'gs://esmats_pdfs/1999_baker_reocr.pdf', 'gs://esmats_pdfs/1999_bandera_reocr.pdf', 'gs://esmats_pdfs/1999_barillot_reocr.pdf', 'gs://esmats_pdfs/1999_blais_reocr.pdf', 'gs://esmats_pdfs/1999_breguet_reocr.pdf', 'gs://esmats_pdfs/1999_cacho_reocr.pdf', 'gs://esmats_pdfs/1999_carre_reocr.pdf', 'gs://esmats_pdfs/1999_carstens_reocr.pdf', 'gs://esmats_pdfs/1999_chomicz_reocr.pdf', 'gs://esmats_pdfs/1999_christiansen_reocr.pdf', 'gs://esmats_pdfs/1999_cremers_reocr.pdf', 'gs://esmats_pdfs/1999_cunningham_reocr.pdf', 'gs://esmats_pdfs/1999_favre_reocr.pdf', 'gs://esmats_pdfs/1999_feusier_reocr.pdf', 'gs://esmats_pdfs/1999_fontaine_reocr.pdf', 'gs://esmats_pdfs/1999_hagg_reocr.pdf', 'gs://esmats_pdfs/1999_hermier_reocr.pdf', 'gs://esmats_pdfs/1999_honnen_reocr.pdf', 'gs://esmats_pdfs/1999_houpert_reocr.pdf', 'gs://esmats_pdfs/1999_kerhousse_reocr.pdf', 'gs://esmats_pdfs/1999_lamotte_reocr.pdf', 'gs://esmats_pdfs/1999_loewenthal_reocr.pdf', 'gs://esmats_pdfs/1999_lorigny_reocr.pdf', 'gs://esmats_pdfs/1999_mankai_reocr.pdf', 'gs://esmats_pdfs/1999_marchetti_reocr.pdf', 'gs://esmats_pdfs/1999_marshall_reocr.pdf', 'gs://esmats_pdfs/1999_matsumoto_reocr.pdf', 'gs://esmats_pdfs/1999_meizel_reocr.pdf', 'gs://esmats_pdfs/1999_merstallinger_reocr.pdf', 'gs://esmats_pdfs/1999_moignier_reocr.pdf', 'gs://esmats_pdfs/1999_ortega_reocr.pdf', 'gs://esmats_pdfs/1999_pochettini_reocr.pdf', 'gs://esmats_pdfs/1999_pont_reocr.pdf', 'gs://esmats_pdfs/1999_popp_reocr.pdf', 'gs://esmats_pdfs/1999_prat_reocr.pdf', 'gs://esmats_pdfs/1999_privat_reocr.pdf', 'gs://esmats_pdfs/1999_razov_reocr.pdf', 'gs://esmats_pdfs/1999_rolvag_reocr.pdf', 'gs://esmats_pdfs/1999_rugi_reocr.pdf', 'gs://esmats_pdfs/1999_sawyer_reocr.pdf', 'gs://esmats_pdfs/1999_skullestad_reocr.pdf', 'gs://esmats_pdfs/1999_stevenson_reocr.pdf', 'gs://esmats_pdfs/1999_suetta_reocr.pdf', 'gs://esmats_pdfs/1999_tagawa_reocr.pdf', 'gs://esmats_pdfs/1999_ueura_reocr.pdf', 'gs://esmats_pdfs/1999_uriarte_reocr.pdf', 'gs://esmats_pdfs/1999_verhoeven_reocr.pdf', 'gs://esmats_pdfs/1999_wiessner_reocr.pdf', 'gs://esmats_pdfs/2001_aeby_reocr.pdf', 'gs://esmats_pdfs/2001_anderson_reocr.pdf', 'gs://esmats_pdfs/2001_andion_reocr.pdf', 'gs://esmats_pdfs/2001_arends_reocr.pdf', 'gs://esmats_pdfs/2001_baker_reocr.pdf', 'gs://esmats_pdfs/2001_bozet_reocr.pdf', 'gs://esmats_pdfs/2001_bueno_reocr.pdf', 'gs://esmats_pdfs/2001_buenop_reocr.pdf', 'gs://esmats_pdfs/2001_coppee_reocr.pdf', 'gs://esmats_pdfs/2001_digesu_reocr.pdf', 'gs://esmats_pdfs/2001_dowen_reocr.pdf', 'gs://esmats_pdfs/2001_gautsch_reocr.pdf', 'gs://esmats_pdfs/2001_givois_reocr.pdf', 'gs://esmats_pdfs/2001_gonzalez_reocr.pdf', 'gs://esmats_pdfs/2001_gradt_reocr.pdf', 'gs://esmats_pdfs/2001_hofferbert_reocr.pdf', 'gs://esmats_pdfs/2001_ishikawa_reocr.pdf', 'gs://esmats_pdfs/2001_iwata_reocr.pdf', 'gs://esmats_pdfs/2001_jansen_reocr.pdf', 'gs://esmats_pdfs/2001_krause_reocr.pdf', 'gs://esmats_pdfs/2001_kupferschmitt_reocr.pdf', 'gs://esmats_pdfs/2001_leletty_reocr.pdf', 'gs://esmats_pdfs/2001_lewis_reocr.pdf', 'gs://esmats_pdfs/2001_lewishumphries_reocr.pdf', 'gs://esmats_pdfs/2001_loix_reocr.pdf', 'gs://esmats_pdfs/2001_marchesi_reocr.pdf', 'gs://esmats_pdfs/2001_mcmahon_reocr.pdf', 'gs://esmats_pdfs/2001_mondier_reocr.pdf', 'gs://esmats_pdfs/2001_obara_reocr.pdf', 'gs://esmats_pdfs/2001_onate_reocr.pdf', 'gs://esmats_pdfs/2001_pereira_reocr.pdf', 'gs://esmats_pdfs/2001_phillips_reocr.pdf', 'gs://esmats_pdfs/2001_promper_reocr.pdf', 'gs://esmats_pdfs/2001_renotte_reocr.pdf', 'gs://esmats_pdfs/2001_robertsanderson_reocr.pdf', 'gs://esmats_pdfs/2001_robertslewis_reocr.pdf', 'gs://esmats_pdfs/2001_rugi_reocr.pdf', 'gs://esmats_pdfs/2001_sawyer_reocr.pdf', 'gs://esmats_pdfs/2001_scharfe_reocr.pdf', 'gs://esmats_pdfs/2001_serrano_reocr.pdf', 'gs://esmats_pdfs/2001_sochting_reocr.pdf', 'gs://esmats_pdfs/2001_somanath_reocr.pdf', 'gs://esmats_pdfs/2001_starin_reocr.pdf', 'gs://esmats_pdfs/2001_stewart_reocr.pdf', 'gs://esmats_pdfs/2001_tanaka_reocr.pdf', 'gs://esmats_pdfs/2001_vazquez_reocr.pdf', 'gs://esmats_pdfs/2001_wood_reocr.pdf', 'gs://esmats_pdfs/2003_ahmed_reocr.pdf', 'gs://esmats_pdfs/2003_anderson_reocr.pdf', 'gs://esmats_pdfs/2003_andion_reocr.pdf', 'gs://esmats_pdfs/2003_baier_reocr.pdf', 'gs://esmats_pdfs/2003_bamford_reocr.pdf', 'gs://esmats_pdfs/2003_barho_reocr.pdf', 'gs://esmats_pdfs/2003_barrilot_reocr.pdf', 'gs://esmats_pdfs/2003_bassani_reocr.pdf', 'gs://esmats_pdfs/2003_billing_reocr.pdf', 'gs://esmats_pdfs/2003_budinoff_reocr.pdf', 'gs://esmats_pdfs/2003_burt_reocr.pdf', 'gs://esmats_pdfs/2003_cadiergues_reocr.pdf', 'gs://esmats_pdfs/2003_cespedosa_reocr.pdf', 'gs://esmats_pdfs/2003_coppoolse_reocr.pdf', 'gs://esmats_pdfs/2003_cozzani_reocr.pdf', 'gs://esmats_pdfs/2003_defendini_reocr.pdf', 'gs://esmats_pdfs/2003_demerville_reocr.pdf', 'gs://esmats_pdfs/2003_domingo_reocr.pdf', 'gs://esmats_pdfs/2003_dougherty_reocr.pdf', 'gs://esmats_pdfs/2003_falkner_reocr.pdf', 'gs://esmats_pdfs/2003_feusier_reocr.pdf', 'gs://esmats_pdfs/2003_fleischer_reocr.pdf', 'gs://esmats_pdfs/2003_fleischner_reocr.pdf', 'gs://esmats_pdfs/2003_fontaine_reocr.pdf', 'gs://esmats_pdfs/2003_garcia_reocr.pdf', 'gs://esmats_pdfs/2003_garmendia_reocr.pdf', 'gs://esmats_pdfs/2003_haslehurst_reocr.pdf', 'gs://esmats_pdfs/2003_henein_reocr.pdf', 'gs://esmats_pdfs/2003_heneindroz_reocr.pdf', 'gs://esmats_pdfs/2003_iwaki_reocr.pdf', 'gs://esmats_pdfs/2003_iwata_reocr.pdf', 'gs://esmats_pdfs/2003_lewis_reocr.pdf', 'gs://esmats_pdfs/2003_lininger_reocr.pdf', 'gs://esmats_pdfs/2003_marks_reocr.pdf', 'gs://esmats_pdfs/2003_mausli_reocr.pdf', 'gs://esmats_pdfs/2003_merstallinger_reocr.pdf', 'gs://esmats_pdfs/2003_minotti_reocr.pdf', 'gs://esmats_pdfs/2003_muller_reocr.pdf', 'gs://esmats_pdfs/2003_mussett_reocr.pdf', 'gs://esmats_pdfs/2003_nalbandian_reocr.pdf', 'gs://esmats_pdfs/2003_nunez_reocr.pdf', 'gs://esmats_pdfs/2003_nurre_reocr.pdf', 'gs://esmats_pdfs/2003_onate_reocr.pdf', 'gs://esmats_pdfs/2003_osle_reocr.pdf', 'gs://esmats_pdfs/2003_oudet_reocr.pdf', 'gs://esmats_pdfs/2003_pereira_reocr.pdf', 'gs://esmats_pdfs/2003_privat_reocr.pdf', 'gs://esmats_pdfs/2003_quiroz_reocr.pdf', 'gs://esmats_pdfs/2003_rogers_reocr.pdf', 'gs://esmats_pdfs/2003_roschke_reocr.pdf', 'gs://esmats_pdfs/2003_sawyer_reocr.pdf', 'gs://esmats_pdfs/2003_schepis_reocr.pdf', 'gs://esmats_pdfs/2003_schmid_reocr.pdf', 'gs://esmats_pdfs/2003_schmidt_reocr.pdf', 'gs://esmats_pdfs/2003_soulier_reocr.pdf', 'gs://esmats_pdfs/2003_spanoudakis_reocr.pdf', 'gs://esmats_pdfs/2003_starin_reocr.pdf', 'gs://esmats_pdfs/2003_starinrodriguez_reocr.pdf', 'gs://esmats_pdfs/2003_suzuki_reocr.pdf', 'gs://esmats_pdfs/2003_tagawa_reocr.pdf', 'gs://esmats_pdfs/2003_tanaka_reocr.pdf', 'gs://esmats_pdfs/2003_thiel_reocr.pdf', 'gs://esmats_pdfs/2003_urgoiti_reocr.pdf', 'gs://esmats_pdfs/2003_venier_reocr.pdf', 'gs://esmats_pdfs/2003_wood_reocr.pdf', 'gs://esmats_pdfs/2005_asaduria_reocr.pdf', 'gs://esmats_pdfs/2005_barbet_reocr.pdf', 'gs://esmats_pdfs/2005_caldwell_reocr.pdf', 'gs://esmats_pdfs/2005_gerlach_reocr.pdf', 'gs://esmats_pdfs/2005_hofferbert_reocr.pdf', 'gs://esmats_pdfs/2005_janu_reocr.pdf', 'gs://esmats_pdfs/2005_jones_reocr.pdf', 'gs://esmats_pdfs/2005_jung_reocr.pdf', 'gs://esmats_pdfs/2005_koeker_reocr.pdf', 'gs://esmats_pdfs/2005_langenbach_reocr.pdf', 'gs://esmats_pdfs/2005_maeusli_reocr.pdf', 'gs://esmats_pdfs/2005_mondier_reocr.pdf', 'gs://esmats_pdfs/2005_muerer_reocr.pdf', 'gs://esmats_pdfs/2005_pepper_reocr.pdf', 'gs://esmats_pdfs/2005_santos_reocr.pdf', 'gs://esmats_pdfs/2005_shea_reocr.pdf', 'gs://esmats_pdfs/2005_sjoholm_reocr.pdf', 'gs://esmats_pdfs/2005_slatter_reocr.pdf', 'gs://esmats_pdfs/2005_szekely_reocr.pdf', 'gs://esmats_pdfs/2005_urgoiti1_reocr.pdf', 'gs://esmats_pdfs/2005_urgoiti2_reocr.pdf', 'gs://esmats_pdfs/2005_vanhuslsel_reocr.pdf', 'gs://esmats_pdfs/2005_viswanatha_reocr.pdf', 'gs://esmats_pdfs/2005_wood2_reocr.pdf', 'gs://esmats_pdfs/2005_wood_reocr.pdf', 'gs://esmats_pdfs/2007_anderson_reocr.pdf', 'gs://esmats_pdfs/2007_andion_reocr.pdf', 'gs://esmats_pdfs/2007_bamford_reocr.pdf', 'gs://esmats_pdfs/2007_benedet_reocr.pdf', 'gs://esmats_pdfs/2007_biserni_reocr.pdf', 'gs://esmats_pdfs/2007_boesch_reocr.pdf', 'gs://esmats_pdfs/2007_bourlier_reocr.pdf', 'gs://esmats_pdfs/2007_braza_reocr.pdf', 'gs://esmats_pdfs/2007_cadiergu_reocr.pdf', 'gs://esmats_pdfs/2007_chaix_reocr.pdf', 'gs://esmats_pdfs/2007_compos01_reocr.pdf', 'gs://esmats_pdfs/2007_cropper_reocr.pdf', 'gs://esmats_pdfs/2007_degen_reocr.pdf', 'gs://esmats_pdfs/2007_dool_reocr.pdf', 'gs://esmats_pdfs/2007_dupuy_reocr.pdf', 'gs://esmats_pdfs/2007_fernand_reocr.pdf', 'gs://esmats_pdfs/2007_gelmi_reocr.pdf', 'gs://esmats_pdfs/2007_gossant_reocr.pdf', 'gs://esmats_pdfs/2007_hampson_reocr.pdf', 'gs://esmats_pdfs/2007_heinrich_reocr.pdf', 'gs://esmats_pdfs/2007_humphrie_reocr.pdf', 'gs://esmats_pdfs/2007_kiryu_reocr.pdf', 'gs://esmats_pdfs/2007_langer_reocr.pdf', 'gs://esmats_pdfs/2007_leletty_reocr.pdf', 'gs://esmats_pdfs/2007_lewis01_reocr.pdf', 'gs://esmats_pdfs/2007_little_reocr.pdf', 'gs://esmats_pdfs/2007_lobrophy_reocr.pdf', 'gs://esmats_pdfs/2007_loklein_reocr.pdf', 'gs://esmats_pdfs/2007_mausli01_reocr.pdf', 'gs://esmats_pdfs/2007_mausli02_reocr.pdf', 'gs://esmats_pdfs/2007_merstall_reocr.pdf', 'gs://esmats_pdfs/2007_michaud_reocr.pdf', 'gs://esmats_pdfs/2007_mondello_reocr.pdf', 'gs://esmats_pdfs/2007_munro_reocr.pdf', 'gs://esmats_pdfs/2007_murer_reocr.pdf', 'gs://esmats_pdfs/2007_nalband_reocr.pdf', 'gs://esmats_pdfs/2007_neugebau_reocr.pdf', 'gs://esmats_pdfs/2007_privat_reocr.pdf', 'gs://esmats_pdfs/2007_scheitha_reocr.pdf', 'gs://esmats_pdfs/2007_schmid_reocr.pdf', 'gs://esmats_pdfs/2007_schwarz_reocr.pdf', 'gs://esmats_pdfs/2007_sharma_reocr.pdf', 'gs://esmats_pdfs/2007_shiell_reocr.pdf', 'gs://esmats_pdfs/2007_skull_reocr.pdf', 'gs://esmats_pdfs/2007_tahmaseb_reocr.pdf', 'gs://esmats_pdfs/2007_theiler_reocr.pdf', 'gs://esmats_pdfs/2007_ueura_reocr.pdf', 'gs://esmats_pdfs/2007_urgoiti_reocr.pdf', 'gs://esmats_pdfs/2007_wood_reocr.pdf', 'gs://esmats_pdfs/2009_banicevic_reocr.pdf', 'gs://esmats_pdfs/2009_bencheikh_reocr.pdf', 'gs://esmats_pdfs/2009_blanc_reocr.pdf', 'gs://esmats_pdfs/2009_boesch_reocr.pdf', 'gs://esmats_pdfs/2009_brizuela_reocr.pdf', 'gs://esmats_pdfs/2009_buttery2_reocr.pdf', 'gs://esmats_pdfs/2009_buttery_reocr.pdf', 'gs://esmats_pdfs/2009_carpine_reocr.pdf', 'gs://esmats_pdfs/2009_collado_reocr.pdf', 'gs://esmats_pdfs/2009_digiampietro_reocr.pdf', 'gs://esmats_pdfs/2009_doejaaren_reocr.pdf', 'gs://esmats_pdfs/2009_ellenrieder_reocr.pdf', 'gs://esmats_pdfs/2009_fink_reocr.pdf', 'gs://esmats_pdfs/2009_frame_reocr.pdf', 'gs://esmats_pdfs/2009_gouache_reocr.pdf', 'gs://esmats_pdfs/2009_gradt_reocr.pdf', 'gs://esmats_pdfs/2009_grygorczuk_reocr.pdf', 'gs://esmats_pdfs/2009_heald_reocr.pdf', 'gs://esmats_pdfs/2009_henein_reocr.pdf', 'gs://esmats_pdfs/2009_hofer_reocr.pdf', 'gs://esmats_pdfs/2009_janu_reocr.pdf', 'gs://esmats_pdfs/2009_konink_reocr.pdf', 'gs://esmats_pdfs/2009_krause_reocr.pdf', 'gs://esmats_pdfs/2009_lewis_reocr.pdf', 'gs://esmats_pdfs/2009_masa_reocr.pdf', 'gs://esmats_pdfs/2009_merstallinger2_reocr.pdf', 'gs://esmats_pdfs/2009_merstallinger_reocr.pdf', 'gs://esmats_pdfs/2009_michel_reocr.pdf', 'gs://esmats_pdfs/2009_mitter_reocr.pdf', 'gs://esmats_pdfs/2009_muller_reocr.pdf', 'gs://esmats_pdfs/2009_mumm_reocr.pdf', 'gs://esmats_pdfs/2009_nalbandian_reocr.pdf', 'gs://esmats_pdfs/2009_neugebauer_reocr.pdf', 'gs://esmats_pdfs/2009_neukom_reocr.pdf', 'gs://esmats_pdfs/2009_nitschko_reocr.pdf', 'gs://esmats_pdfs/2009_onillion_reocr.pdf', 'gs://esmats_pdfs/2009_patocka_reocr.pdf', 'gs://esmats_pdfs/2009_pepper_reocr.pdf', 'gs://esmats_pdfs/2009_pfeiffer_reocr.pdf', 'gs://esmats_pdfs/2009_rabin_reocr.pdf', 'gs://esmats_pdfs/2009_salaun_reocr.pdf', 'gs://esmats_pdfs/2009_saltzman_reocr.pdf', 'gs://esmats_pdfs/2009_santoro_reocr.pdf', 'gs://esmats_pdfs/2009_santos_reocr.pdf', 'gs://esmats_pdfs/2009_schmid2_reocr.pdf', 'gs://esmats_pdfs/2009_schmid3_reocr.pdf', 'gs://esmats_pdfs/2009_schmid_reocr.pdf', 'gs://esmats_pdfs/2009_seiler_reocr.pdf', 'gs://esmats_pdfs/2009_shiell_reocr.pdf', 'gs://esmats_pdfs/2009_sicre2_reocr.pdf', 'gs://esmats_pdfs/2009_sicre_reocr.pdf', 'gs://esmats_pdfs/2009_smet2_reocr.pdf', 'gs://esmats_pdfs/2009_smet_reocr.pdf', 'gs://esmats_pdfs/2009_strom_reocr.pdf', 'gs://esmats_pdfs/2009_tak_reocr.pdf', 'gs://esmats_pdfs/2009_thomas_reocr.pdf', 'gs://esmats_pdfs/2009_urgoiti_reocr.pdf', 'gs://esmats_pdfs/2009_vanthuyne_reocr.pdf', 'gs://esmats_pdfs/2011_alvarez_reocr.pdf', 'gs://esmats_pdfs/2011_anderson_reocr.pdf', 'gs://esmats_pdfs/2011_andion_reocr.pdf', 'gs://esmats_pdfs/2011_arend_reocr.pdf', 'gs://esmats_pdfs/2011_belly_reocr.pdf', 'gs://esmats_pdfs/2011_bijuprasad_reocr.pdf', 'gs://esmats_pdfs/2011_billing_reocr.pdf', 'gs://esmats_pdfs/2011_blanc_reocr.pdf', 'gs://esmats_pdfs/2011_bourrec_reocr.pdf', 'gs://esmats_pdfs/2011_budinoff_reocr.pdf', 'gs://esmats_pdfs/2011_buttery2_reocr.pdf', 'gs://esmats_pdfs/2011_buttery_reocr.pdf', 'gs://esmats_pdfs/2011_cavan_reocr.pdf', 'gs://esmats_pdfs/2011_collado_reocr.pdf', 'gs://esmats_pdfs/2011_combernoux_reocr.pdf', 'gs://esmats_pdfs/2011_compostizo_reocr.pdf', 'gs://esmats_pdfs/2011_courtois_reocr.pdf', 'gs://esmats_pdfs/2011_demerville_reocr.pdf', 'gs://esmats_pdfs/2011_duforet_reocr.pdf', 'gs://esmats_pdfs/2011_eigenmann_reocr.pdf', 'gs://esmats_pdfs/2011_ferris_reocr.pdf', 'gs://esmats_pdfs/2011_gasparini_reocr.pdf', 'gs://esmats_pdfs/2011_giacintonardone_reocr.pdf', 'gs://esmats_pdfs/2011_grygorczuk_reocr.pdf', 'gs://esmats_pdfs/2011_guay_reocr.pdf', 'gs://esmats_pdfs/2011_guy_reocr.pdf', 'gs://esmats_pdfs/2011_hahn_reocr.pdf', 'gs://esmats_pdfs/2011_hardt_reocr.pdf', 'gs://esmats_pdfs/2011_haslehurst_reocr.pdf', 'gs://esmats_pdfs/2011_heinrich_reocr.pdf', 'gs://esmats_pdfs/2011_hopper_reocr.pdf', 'gs://esmats_pdfs/2011_kiesel_reocr.pdf', 'gs://esmats_pdfs/2011_kottmeier_reocr.pdf', 'gs://esmats_pdfs/2011_kubitschek_reocr.pdf', 'gs://esmats_pdfs/2011_laa_reocr.pdf', 'gs://esmats_pdfs/2011_lee_reocr.pdf', 'gs://esmats_pdfs/2011_leikert_reocr.pdf', 'gs://esmats_pdfs/2011_maniwa_reocr.pdf', 'gs://esmats_pdfs/2011_meftah_reocr.pdf', 'gs://esmats_pdfs/2011_munro_reocr.pdf', 'gs://esmats_pdfs/2011_nalbandian_reocr.pdf', 'gs://esmats_pdfs/2011_neugebauer_reocr.pdf', 'gs://esmats_pdfs/2011_pages_reocr.pdf', 'gs://esmats_pdfs/2011_palladino_reocr.pdf', 'gs://esmats_pdfs/2011_parzianello_reocr.pdf', 'gs://esmats_pdfs/2011_pinto_reocr.pdf', 'gs://esmats_pdfs/2011_ponnusamy_reocr.pdf', 'gs://esmats_pdfs/2011_rataj2_reocr.pdf', 'gs://esmats_pdfs/2011_rataj_reocr.pdf', 'gs://esmats_pdfs/2011_riva_reocr.pdf', 'gs://esmats_pdfs/2011_schmalbach2_reocr.pdf', 'gs://esmats_pdfs/2011_schmalbach_reocr.pdf', 'gs://esmats_pdfs/2011_schmid_reocr.pdf', 'gs://esmats_pdfs/2011_schmidt_reocr.pdf', 'gs://esmats_pdfs/2011_schwarz_reocr.pdf', 'gs://esmats_pdfs/2011_sexton_reocr.pdf', 'gs://esmats_pdfs/2011_slade_reocr.pdf', 'gs://esmats_pdfs/2011_talvat_reocr.pdf', 'gs://esmats_pdfs/2011_tillier_reocr.pdf', 'gs://esmats_pdfs/2011_tyler_reocr.pdf', 'gs://esmats_pdfs/2011_verhoeven_reocr.pdf', 'gs://esmats_pdfs/2011_vinals_reocr.pdf', 'gs://esmats_pdfs/2011_vuilleumier_reocr.pdf', 'gs://esmats_pdfs/2011_wood_reocr.pdf', 'gs://esmats_pdfs/2011_zhou_reocr.pdf', 'gs://esmats_pdfs/2013_anderson_reocr.pdf', 'gs://esmats_pdfs/2013_bernabe_reocr.pdf', 'gs://esmats_pdfs/2013_blanc_reocr.pdf', 'gs://esmats_pdfs/2013_boesiger_reocr.pdf', 'gs://esmats_pdfs/2013_bommottet_reocr.pdf', 'gs://esmats_pdfs/2013_bonduelle_reocr.pdf', 'gs://esmats_pdfs/2013_bongers_reocr.pdf', 'gs://esmats_pdfs/2013_bourgain_reocr.pdf', 'gs://esmats_pdfs/2013_buttery_reocr.pdf', 'gs://esmats_pdfs/2013_campo_reocr.pdf', 'gs://esmats_pdfs/2013_caprini_reocr.pdf', 'gs://esmats_pdfs/2013_chang_reocr.pdf', 'gs://esmats_pdfs/2013_colas_reocr.pdf', 'gs://esmats_pdfs/2013_delap_reocr.pdf', 'gs://esmats_pdfs/2013_eggens_reocr.pdf', 'gs://esmats_pdfs/2013_fernandez_reocr.pdf', 'gs://esmats_pdfs/2013_fleischner_reocr.pdf', 'gs://esmats_pdfs/2013_ghislanzoni_reocr.pdf', 'gs://esmats_pdfs/2013_gibson2_reocr.pdf', 'gs://esmats_pdfs/2013_gibson_reocr.pdf', 'gs://esmats_pdfs/2013_grygorczuk_reocr.pdf', 'gs://esmats_pdfs/2013_hampson_reocr.pdf', 'gs://esmats_pdfs/2013_hihoud_reocr.pdf', 'gs://esmats_pdfs/2013_hu_reocr.pdf', 'gs://esmats_pdfs/2013_jansson_reocr.pdf', 'gs://esmats_pdfs/2013_janu_reocr.pdf', 'gs://esmats_pdfs/2013_koker_reocr.pdf', 'gs://esmats_pdfs/2013_kozilek_reocr.pdf', 'gs://esmats_pdfs/2013_kraliz_reocr.pdf', 'gs://esmats_pdfs/2013_kreuser_reocr.pdf', 'gs://esmats_pdfs/2013_macho_reocr.pdf', 'gs://esmats_pdfs/2013_matsumoto_reocr.pdf', 'gs://esmats_pdfs/2013_mcmahon_reocr.pdf', 'gs://esmats_pdfs/2013_munro_reocr.pdf', 'gs://esmats_pdfs/2013_nalbandian_reocr.pdf', 'gs://esmats_pdfs/2013_nava_reocr.pdf', 'gs://esmats_pdfs/2013_okaniwa_reocr.pdf', 'gs://esmats_pdfs/2013_omiciuolo_reocr.pdf', 'gs://esmats_pdfs/2013_prieto_reocr.pdf', 'gs://esmats_pdfs/2013_puchhammer_reocr.pdf', 'gs://esmats_pdfs/2013_roberts_reocr.pdf', 'gs://esmats_pdfs/2013_servais_reocr.pdf', 'gs://esmats_pdfs/2013_seweryn_reocr.pdf', 'gs://esmats_pdfs/2013_smet_reocr.pdf', 'gs://esmats_pdfs/2013_starin_reocr.pdf', 'gs://esmats_pdfs/2013_steiner_reocr.pdf', 'gs://esmats_pdfs/2013_sucher_reocr.pdf', 'gs://esmats_pdfs/2013_tabak_reocr.pdf', 'gs://esmats_pdfs/2013_terashima_reocr.pdf', 'gs://esmats_pdfs/2013_verhoeven_reocr.pdf', 'gs://esmats_pdfs/2013_videira_reocr.pdf', 'gs://esmats_pdfs/2013_wan_reocr.pdf', 'gs://esmats_pdfs/2013_wardzinski_reocr.pdf', 'gs://esmats_pdfs/2013_watson_reocr.pdf', 'gs://esmats_pdfs/2013_worsfold_reocr.pdf', 'gs://esmats_pdfs/2013_zahnd_reocr.pdf', 'gs://esmats_pdfs/2013_zajac_reocr.pdf', 'gs://esmats_pdfs/2013_zanoni_reocr.pdf', 'gs://esmats_pdfs/2013_zimmermann_reocr.pdf', 'gs://esmats_pdfs/2015_aldridge_reocr.pdf', 'gs://esmats_pdfs/2015_arregui_reocr.pdf', 'gs://esmats_pdfs/2015_augustijn_reocr.pdf', 'gs://esmats_pdfs/2015_barillot_reocr.pdf', 'gs://esmats_pdfs/2015_barriere_reocr.pdf', 'gs://esmats_pdfs/2015_bencheikh_reocr.pdf', 'gs://esmats_pdfs/2015_buttery1_reocr.pdf', 'gs://esmats_pdfs/2015_buttery2_reocr.pdf', 'gs://esmats_pdfs/2015_caldirola1_reocr.pdf', 'gs://esmats_pdfs/2015_caldirola2_reocr.pdf', 'gs://esmats_pdfs/2015_campo_reocr.pdf', 'gs://esmats_pdfs/2015_colas_reocr.pdf', 'gs://esmats_pdfs/2015_compostizo_reocr.pdf', 'gs://esmats_pdfs/2015_courtois_reocr.pdf', 'gs://esmats_pdfs/2015_gorski_reocr.pdf', 'gs://esmats_pdfs/2015_grygorczuk_reocr.pdf', 'gs://esmats_pdfs/2015_guay_reocr.pdf', 'gs://esmats_pdfs/2015_haeberlein_reocr.pdf', 'gs://esmats_pdfs/2015_hahn_reocr.pdf', 'gs://esmats_pdfs/2015_hampson_reocr.pdf', 'gs://esmats_pdfs/2015_hautcoeur_reocr.pdf', 'gs://esmats_pdfs/2015_holmes_reocr.pdf', 'gs://esmats_pdfs/2015_igartua_reocr.pdf', 'gs://esmats_pdfs/2015_jansson_reocr.pdf', 'gs://esmats_pdfs/2015_kedziora_reocr.pdf', 'gs://esmats_pdfs/2015_koker_reocr.pdf', 'gs://esmats_pdfs/2015_kroon_reocr.pdf', 'gs://esmats_pdfs/2015_lai_reocr.pdf', 'gs://esmats_pdfs/2015_lewis_reocr.pdf', 'gs://esmats_pdfs/2015_liebold_reocr.pdf', 'gs://esmats_pdfs/2015_mailland_reocr.pdf', 'gs://esmats_pdfs/2015_melzer_reocr.pdf', 'gs://esmats_pdfs/2015_merstallinger_reocr.pdf', 'gs://esmats_pdfs/2015_nava_reocr.pdf', 'gs://esmats_pdfs/2015_paul_reocr.pdf', 'gs://esmats_pdfs/2015_perez_reocr.pdf', 'gs://esmats_pdfs/2015_phillips1_reocr.pdf', 'gs://esmats_pdfs/2015_phillips2_reocr.pdf', 'gs://esmats_pdfs/2015_puchhammer_reocr.pdf', 'gs://esmats_pdfs/2015_relecom_reocr.pdf', 'gs://esmats_pdfs/2015_rivera_reocr.pdf', 'gs://esmats_pdfs/2015_roberts_reocr.pdf', 'gs://esmats_pdfs/2015_rossini_reocr.pdf', 'gs://esmats_pdfs/2015_santos_reocr.pdf', 'gs://esmats_pdfs/2015_schmidt_reocr.pdf', 'gs://esmats_pdfs/2015_schwarz_reocr.pdf', 'gs://esmats_pdfs/2015_spanoudakis_reocr.pdf', 'gs://esmats_pdfs/2015_standre_reocr.pdf', 'gs://esmats_pdfs/2015_starin_reocr.pdf', 'gs://esmats_pdfs/2015_talvat_reocr.pdf', 'gs://esmats_pdfs/2015_tran_reocr.pdf', 'gs://esmats_pdfs/2015_vazquez_reocr.pdf', 'gs://esmats_pdfs/2015_vinals_reocr.pdf', 'gs://esmats_pdfs/2015_witvoet_reocr.pdf', 'gs://esmats_pdfs/2017_artiagoitia_reocr.pdf', 'gs://esmats_pdfs/2017_augustijn_reocr.pdf', 'gs://esmats_pdfs/2017_avino_reocr.pdf', 'gs://esmats_pdfs/2017_ayari_reocr.pdf', 'gs://esmats_pdfs/2017_barriere_reocr.pdf', 'gs://esmats_pdfs/2017_bialke_reocr.pdf', 'gs://esmats_pdfs/2017_bircher_reocr.pdf', 'gs://esmats_pdfs/2017_blattes_reocr.pdf', 'gs://esmats_pdfs/2017_blumenstock_reocr.pdf', 'gs://esmats_pdfs/2017_boesiger_reocr.pdf', 'gs://esmats_pdfs/2017_bojiloff_reocr.pdf', 'gs://esmats_pdfs/2017_borys_reocr.pdf', 'gs://esmats_pdfs/2017_busquet_reocr.pdf', 'gs://esmats_pdfs/2017_buttery_reocr.pdf', 'gs://esmats_pdfs/2017_colas_reocr.pdf', 'gs://esmats_pdfs/2017_dick_reocr.pdf', 'gs://esmats_pdfs/2017_ekre_reocr.pdf', 'gs://esmats_pdfs/2017_esnoz_reocr.pdf', 'gs://esmats_pdfs/2017_fouche_reocr.pdf', 'gs://esmats_pdfs/2017_galary_reocr.pdf', 'gs://esmats_pdfs/2017_garland_reocr.pdf', 'gs://esmats_pdfs/2017_gonzalez_reocr.pdf', 'gs://esmats_pdfs/2017_hahn_reocr.pdf', 'gs://esmats_pdfs/2017_hill_reocr.pdf', 'gs://esmats_pdfs/2017_howat_reocr.pdf', 'gs://esmats_pdfs/2017_jacobs_reocr.pdf', 'gs://esmats_pdfs/2017_jansson_reocr.pdf', 'gs://esmats_pdfs/2017_janu_reocr.pdf', 'gs://esmats_pdfs/2017_koeker_reocr.pdf', 'gs://esmats_pdfs/2017_kuiper_reocr.pdf', 'gs://esmats_pdfs/2017_lajoie_reocr.pdf', 'gs://esmats_pdfs/2017_lamacchia_reocr.pdf', 'gs://esmats_pdfs/2017_larcheveque_reocr.pdf', 'gs://esmats_pdfs/2017_leenders_reocr.pdf', 'gs://esmats_pdfs/2017_lurie_reocr.pdf', 'gs://esmats_pdfs/2017_malavart_reocr.pdf', 'gs://esmats_pdfs/2017_maniwa_reocr.pdf', 'gs://esmats_pdfs/2017_mclaren_reocr.pdf', 'gs://esmats_pdfs/2017_mcmahon2_reocr.pdf', 'gs://esmats_pdfs/2017_mcmahon_reocr.pdf', 'gs://esmats_pdfs/2017_mejia_reocr.pdf', 'gs://esmats_pdfs/2017_merstallinger_reocr.pdf', 'gs://esmats_pdfs/2017_michaud_reocr.pdf', 'gs://esmats_pdfs/2017_olaskoaga_reocr.pdf', 'gs://esmats_pdfs/2017_ortega_reocr.pdf', 'gs://esmats_pdfs/2017_palladino_reocr.pdf', 'gs://esmats_pdfs/2017_paul_reocr.pdf', 'gs://esmats_pdfs/2017_poyntz-wright_reocr.pdf', 'gs://esmats_pdfs/2017_provedo_reocr.pdf', 'gs://esmats_pdfs/2017_rehnmark_reocr.pdf', 'gs://esmats_pdfs/2017_rieger_reocr.pdf', 'gs://esmats_pdfs/2017_rivera_reocr.pdf', 'gs://esmats_pdfs/2017_robroek_reocr.pdf', 'gs://esmats_pdfs/2017_saudan_reocr.pdf', 'gs://esmats_pdfs/2017_seguin-henry_reocr.pdf', 'gs://esmats_pdfs/2017_senese_reocr.pdf', 'gs://esmats_pdfs/2017_sodki_reocr.pdf', 'gs://esmats_pdfs/2017_sonsalla_reocr.pdf', 'gs://esmats_pdfs/2017_stabile_reocr.pdf', 'gs://esmats_pdfs/2017_starin_reocr.pdf', 'gs://esmats_pdfs/2017_stewart_reocr.pdf', 'gs://esmats_pdfs/2017_verhaeghe_reocr.pdf', 'gs://esmats_pdfs/2017_villavicencio_reocr.pdf', 'gs://esmats_pdfs/2017_wismer_reocr.pdf', 'gs://esmats_pdfs/2017_wisniewski_reocr.pdf', 'gs://esmats_pdfs/2019_andreou_reocr.pdf', 'gs://esmats_pdfs/2019_arce_reocr.pdf', 'gs://esmats_pdfs/2019_barillot_reocr.pdf', 'gs://esmats_pdfs/2019_bertleff_reocr.pdf', 'gs://esmats_pdfs/2019_bierwirth_reocr.pdf', 'gs://esmats_pdfs/2019_bingley_reocr.pdf', 'gs://esmats_pdfs/2019_borquegallego_reocr.pdf', 'gs://esmats_pdfs/2019_bortoluzzi_reocr.pdf', 'gs://esmats_pdfs/2019_brumat_reocr.pdf', 'gs://esmats_pdfs/2019_buchroithner_reocr.pdf', 'gs://esmats_pdfs/2019_bursi_reocr.pdf', 'gs://esmats_pdfs/2019_buttery_reocr.pdf', 'gs://esmats_pdfs/2019_campo_reocr.pdf', 'gs://esmats_pdfs/2019_cantonvega_reocr.pdf', 'gs://esmats_pdfs/2019_collado_reocr.pdf', 'gs://esmats_pdfs/2019_compostizo_reocr.pdf', 'gs://esmats_pdfs/2019_dennehy_reocr.pdf', 'gs://esmats_pdfs/2019_dittenhauser_reocr.pdf', 'gs://esmats_pdfs/2019_elkjaer_reocr.pdf', 'gs://esmats_pdfs/2019_falkner_reocr.pdf', 'gs://esmats_pdfs/2019_fouche_reocr.pdf', 'gs://esmats_pdfs/2019_galary_reocr.pdf', 'gs://esmats_pdfs/2019_galbiati_reocr.pdf', 'gs://esmats_pdfs/2019_grandy_reocr.pdf', 'gs://esmats_pdfs/2019_granero_reocr.pdf', 'gs://esmats_pdfs/2019_ijpelaan_reocr.pdf', 'gs://esmats_pdfs/2019_kanji_reocr.pdf', 'gs://esmats_pdfs/2019_kiener_reocr.pdf', 'gs://esmats_pdfs/2019_lees_reocr.pdf', 'gs://esmats_pdfs/2019_lutz_reocr.pdf', 'gs://esmats_pdfs/2019_maniwa_reocr.pdf', 'gs://esmats_pdfs/2019_miller_reocr.pdf', 'gs://esmats_pdfs/2019_mirescu_reocr.pdf', 'gs://esmats_pdfs/2019_navarro_reocr.pdf', 'gs://esmats_pdfs/2019_neugebauer_reocr.pdf', 'gs://esmats_pdfs/2019_ortega_reocr.pdf', 'gs://esmats_pdfs/2019_perestrelo_reocr.pdf', 'gs://esmats_pdfs/2019_puyol_reocr.pdf', 'gs://esmats_pdfs/2019_raynal_reocr.pdf', 'gs://esmats_pdfs/2019_riemer_reocr.pdf', 'gs://esmats_pdfs/2019_ryszawa_reocr.pdf', 'gs://esmats_pdfs/2019_saudan_reocr.pdf', 'gs://esmats_pdfs/2019_scheidegger_reocr.pdf', 'gs://esmats_pdfs/2019_schulke_reocr.pdf', 'gs://esmats_pdfs/2019_schwarz_reocr.pdf', 'gs://esmats_pdfs/2019_seguinhenry_reocr.pdf', 'gs://esmats_pdfs/2019_senese_reocr.pdf', 'gs://esmats_pdfs/2019_shore_reocr.pdf', 'gs://esmats_pdfs/2019_sidz_reocr.pdf', 'gs://esmats_pdfs/2019_smet_reocr.pdf', 'gs://esmats_pdfs/2019_smith_reocr.pdf', 'gs://esmats_pdfs/2019_spanoudakis2_reocr.pdf', 'gs://esmats_pdfs/2019_spanoudakis_reocr.pdf', 'gs://esmats_pdfs/2019_squires_reocr.pdf', 'gs://esmats_pdfs/2019_stabile_reocr.pdf', 'gs://esmats_pdfs/2019_strube2_reocr.pdf', 'gs://esmats_pdfs/2019_strube_reocr.pdf', 'gs://esmats_pdfs/2019_theis_reocr.pdf', 'gs://esmats_pdfs/2019_tokarz_reocr.pdf', 'gs://esmats_pdfs/2019_vazquez_reocr.pdf', 'gs://esmats_pdfs/2019_verhaeghe_reocr.pdf', 'gs://esmats_pdfs/2019_vortselas2_reocr.pdf', 'gs://esmats_pdfs/2019_vortselas_reocr.pdf', 'gs://esmats_pdfs/2019_yoon_reocr.pdf', 'gs://esmats_pdfs/2019_zahnd_reocr.pdf', 'gs://esmats_pdfs/2019_zhou_reocr.pdf', 'gs://esmats_pdfs/2021_aigouy_reocr.pdf', 'gs://esmats_pdfs/2021_anders_reocr.pdf', 'gs://esmats_pdfs/2021_artiagoitia_reocr.pdf', 'gs://esmats_pdfs/2021_baran_reocr.pdf', 'gs://esmats_pdfs/2021_bingley_reocr.pdf', 'gs://esmats_pdfs/2021_blanc_reocr.pdf', 'gs://esmats_pdfs/2021_boesiger_reocr.pdf', 'gs://esmats_pdfs/2021_bolognini_reocr.pdf', 'gs://esmats_pdfs/2021_budzyn_reocr.pdf', 'gs://esmats_pdfs/2021_buttery_reocr.pdf', 'gs://esmats_pdfs/2021_creatini_reocr.pdf', 'gs://esmats_pdfs/2021_deckert_reocr.pdf', 'gs://esmats_pdfs/2021_demerville_reocr.pdf', 'gs://esmats_pdfs/2021_fouche2_reocr.pdf', 'gs://esmats_pdfs/2021_fouche_reocr.pdf', 'gs://esmats_pdfs/2021_gabiola_reocr.pdf', 'gs://esmats_pdfs/2021_gade_reocr.pdf', 'gs://esmats_pdfs/2021_gavalda_reocr.pdf', 'gs://esmats_pdfs/2021_gawin_reocr.pdf', 'gs://esmats_pdfs/2021_gewehr_reocr.pdf', 'gs://esmats_pdfs/2021_gonzalez_reocr.pdf', 'gs://esmats_pdfs/2021_hayoz_reocr.pdf', 'gs://esmats_pdfs/2021_heindel_reocr.pdf', 'gs://esmats_pdfs/2021_holynska_reocr.pdf', 'gs://esmats_pdfs/2021_holzbauer_reocr.pdf', 'gs://esmats_pdfs/2021_lommatzsch_reocr.pdf', 'gs://esmats_pdfs/2021_lubrano_reocr.pdf', 'gs://esmats_pdfs/2021_merstallinger_reocr.pdf', 'gs://esmats_pdfs/2021_mohtar_reocr.pdf', 'gs://esmats_pdfs/2021_moraine_reocr.pdf', 'gs://esmats_pdfs/2021_mulsow_reocr.pdf', 'gs://esmats_pdfs/2021_noeker_reocr.pdf', 'gs://esmats_pdfs/2021_onillon_reocr.pdf', 'gs://esmats_pdfs/2021_paredero_reocr.pdf', 'gs://esmats_pdfs/2021_paul_reocr.pdf', 'gs://esmats_pdfs/2021_plank_reocr.pdf', 'gs://esmats_pdfs/2021_poucet_reocr.pdf', 'gs://esmats_pdfs/2021_poweska_reocr.pdf', 'gs://esmats_pdfs/2021_rivera_reocr.pdf', 'gs://esmats_pdfs/2021_rouvinet_reocr.pdf', 'gs://esmats_pdfs/2021_sainz-lete_reocr.pdf', 'gs://esmats_pdfs/2021_saudan_reocr.pdf', 'gs://esmats_pdfs/2021_spanoudakis2_reocr.pdf', 'gs://esmats_pdfs/2021_spanoudakis_reocr.pdf', 'gs://esmats_pdfs/2021_stejskal_reocr.pdf', 'gs://esmats_pdfs/2021_tattusch2_reocr.pdf', 'gs://esmats_pdfs/2021_tattusch_reocr.pdf', 'gs://esmats_pdfs/2021_uythoven_reocr.pdf', 'gs://esmats_pdfs/2021_wegrzyn_reocr.pdf', 'gs://esmats_pdfs/2021_wood_reocr.pdf', 'gs://esmats_pdfs/2021_zajac_reocr.pdf', 'gs://esmats_pdfs/2023_alo_reocr.pdf', 'gs://esmats_pdfs/2023_bergandy_reocr.pdf', 'gs://esmats_pdfs/2023_blattes_reocr.pdf', 'gs://esmats_pdfs/2023_blumenstock_reocr.pdf', 'gs://esmats_pdfs/2023_boross_reocr.pdf', 'gs://esmats_pdfs/2023_borquegallego_reocr.pdf', 'gs://esmats_pdfs/2023_budzyn_reocr.pdf', 'gs://esmats_pdfs/2023_buttery_reocr.pdf', 'gs://esmats_pdfs/2023_colas_reocr.pdf', 'gs://esmats_pdfs/2023_ewick_reocr.pdf', 'gs://esmats_pdfs/2023_favrel_reocr.pdf', 'gs://esmats_pdfs/2023_fouche_reocr.pdf', 'gs://esmats_pdfs/2023_freier_reocr.pdf', 'gs://esmats_pdfs/2023_gossant_reocr.pdf', 'gs://esmats_pdfs/2023_grande_reocr.pdf', 'gs://esmats_pdfs/2023_grygorczuk2_reocr.pdf', 'gs://esmats_pdfs/2023_grygorczuk_reocr.pdf', 'gs://esmats_pdfs/2023_kent2_reocr.pdf', 'gs://esmats_pdfs/2023_kent_reocr.pdf', 'gs://esmats_pdfs/2023_kiener_reocr.pdf', 'gs://esmats_pdfs/2023_kozlowski_reocr.pdf', 'gs://esmats_pdfs/2023_kusabe4_reocr.pdf', 'gs://esmats_pdfs/2023_lambert_reocr.pdf', 'gs://esmats_pdfs/2023_lapoutre_reocr.pdf', 'gs://esmats_pdfs/2023_lazaro_reocr.pdf', 'gs://esmats_pdfs/2023_leletty_reocr.pdf', 'gs://esmats_pdfs/2023_lurie_reocr.pdf', 'gs://esmats_pdfs/2023_makowka_reocr.pdf', 'gs://esmats_pdfs/2023_matsumoto_reocr.pdf', 'gs://esmats_pdfs/2023_merstallinger2_reocr.pdf', 'gs://esmats_pdfs/2023_mohtar_reocr.pdf', 'gs://esmats_pdfs/2023_moraine_reocr.pdf', 'gs://esmats_pdfs/2023_musial_reocr.pdf', 'gs://esmats_pdfs/2023_nolbert_reocr.pdf', 'gs://esmats_pdfs/2023_ortega_reocr.pdf', 'gs://esmats_pdfs/2023_payre_reocr.pdf', 'gs://esmats_pdfs/2023_phillips_reocr.pdf', 'gs://esmats_pdfs/2023_pozo_reocr.pdf', 'gs://esmats_pdfs/2023_puchhammer_reocr.pdf', 'gs://esmats_pdfs/2023_rainy_reocr.pdf', 'gs://esmats_pdfs/2023_robroek_reocr.pdf', 'gs://esmats_pdfs/2023_sauder_reocr.pdf', 'gs://esmats_pdfs/2023_scheidler_reocr.pdf', 'gs://esmats_pdfs/2023_schlater_reocr.pdf', 'gs://esmats_pdfs/2023_schwarz_reocr.pdf', 'gs://esmats_pdfs/2023_servais_reocr.pdf', 'gs://esmats_pdfs/2023_skrzynska_reocr.pdf', 'gs://esmats_pdfs/2023_spanoudakis2_reocr.pdf', 'gs://esmats_pdfs/2023_spanoudakis_reocr.pdf', 'gs://esmats_pdfs/2023_stubbs_reocr.pdf', 'gs://esmats_pdfs/2023_tattusch_reocr.pdf', 'gs://esmats_pdfs/2023_wade_reocr.pdf', 'gs://esmats_pdfs/2023_wygachiewicz_reocr.pdf', 'gs://esmats_pdfs/2023_yotov_reocr.pdf', 'gs://esmats_pdfs/2023_zemann_reocr.pdf']\n"
     ]
    }
   ],
   "source": [
    "buckets = [\"ams_pdfs\", \"esmats_pdfs\"]\n",
    "\n",
    "docs_all = []\n",
    "for bucket in buckets:\n",
    "    docs_bucket = DocumentProcessor.list_bucket_pdfs(bucket)\n",
    "    docs_all.append(docs_bucket)"
   ]
  },
  {
   "cell_type": "code",
   "execution_count": 12,
   "metadata": {},
   "outputs": [
    {
     "data": {
      "text/plain": [
       "2"
      ]
     },
     "execution_count": 12,
     "metadata": {},
     "output_type": "execute_result"
    }
   ],
   "source": [
    "len(docs_all)"
   ]
  },
  {
   "cell_type": "code",
   "execution_count": 13,
   "metadata": {},
   "outputs": [
    {
     "name": "stderr",
     "output_type": "stream",
     "text": [
      "INFO:aerospace_chatbot.processing.documents:Loading 47 documents...\n",
      "INFO:aerospace_chatbot.processing.documents:Checking document 1 of 47: gs://ams_pdfs/AMS_1966_reocr.pdf\n",
      "INFO:aerospace_chatbot.processing.documents:Downloading PDF from GCS: gs://ams_pdfs/AMS_1966_reocr.pdf\n",
      "INFO:aerospace_chatbot.processing.documents:Bucket name: ams_pdfs\n",
      "INFO:aerospace_chatbot.processing.documents:Blob name: AMS_1966_reocr.pdf\n"
     ]
    },
    {
     "name": "stderr",
     "output_type": "stream",
     "text": [
      "INFO:aerospace_chatbot.processing.documents:Checking document 2 of 47: gs://ams_pdfs/AMS_1967_reocr.pdf\n",
      "INFO:aerospace_chatbot.processing.documents:Downloading PDF from GCS: gs://ams_pdfs/AMS_1967_reocr.pdf\n",
      "INFO:aerospace_chatbot.processing.documents:Bucket name: ams_pdfs\n",
      "INFO:aerospace_chatbot.processing.documents:Blob name: AMS_1967_reocr.pdf\n",
      "INFO:aerospace_chatbot.processing.documents:Checking document 3 of 47: gs://ams_pdfs/AMS_1968_reocr.pdf\n",
      "INFO:aerospace_chatbot.processing.documents:Downloading PDF from GCS: gs://ams_pdfs/AMS_1968_reocr.pdf\n",
      "INFO:aerospace_chatbot.processing.documents:Bucket name: ams_pdfs\n",
      "INFO:aerospace_chatbot.processing.documents:Blob name: AMS_1968_reocr.pdf\n",
      "INFO:aerospace_chatbot.processing.documents:Checking document 4 of 47: gs://ams_pdfs/AMS_1969_reocr.pdf\n",
      "INFO:aerospace_chatbot.processing.documents:Downloading PDF from GCS: gs://ams_pdfs/AMS_1969_reocr.pdf\n",
      "INFO:aerospace_chatbot.processing.documents:Bucket name: ams_pdfs\n",
      "INFO:aerospace_chatbot.processing.documents:Blob name: AMS_1969_reocr.pdf\n",
      "INFO:aerospace_chatbot.processing.documents:Checking document 5 of 47: gs://ams_pdfs/AMS_1970_reocr.pdf\n",
      "INFO:aerospace_chatbot.processing.documents:Downloading PDF from GCS: gs://ams_pdfs/AMS_1970_reocr.pdf\n",
      "INFO:aerospace_chatbot.processing.documents:Bucket name: ams_pdfs\n",
      "INFO:aerospace_chatbot.processing.documents:Blob name: AMS_1970_reocr.pdf\n",
      "INFO:aerospace_chatbot.processing.documents:Checking document 6 of 47: gs://ams_pdfs/AMS_1971_reocr.pdf\n",
      "INFO:aerospace_chatbot.processing.documents:Downloading PDF from GCS: gs://ams_pdfs/AMS_1971_reocr.pdf\n",
      "INFO:aerospace_chatbot.processing.documents:Bucket name: ams_pdfs\n",
      "INFO:aerospace_chatbot.processing.documents:Blob name: AMS_1971_reocr.pdf\n",
      "INFO:aerospace_chatbot.processing.documents:Checking document 7 of 47: gs://ams_pdfs/AMS_1972_reocr.pdf\n",
      "INFO:aerospace_chatbot.processing.documents:Downloading PDF from GCS: gs://ams_pdfs/AMS_1972_reocr.pdf\n",
      "INFO:aerospace_chatbot.processing.documents:Bucket name: ams_pdfs\n",
      "INFO:aerospace_chatbot.processing.documents:Blob name: AMS_1972_reocr.pdf\n",
      "INFO:aerospace_chatbot.processing.documents:Checking document 8 of 47: gs://ams_pdfs/AMS_1973_reocr.pdf\n",
      "INFO:aerospace_chatbot.processing.documents:Downloading PDF from GCS: gs://ams_pdfs/AMS_1973_reocr.pdf\n",
      "INFO:aerospace_chatbot.processing.documents:Bucket name: ams_pdfs\n",
      "INFO:aerospace_chatbot.processing.documents:Blob name: AMS_1973_reocr.pdf\n",
      "INFO:aerospace_chatbot.processing.documents:Checking document 9 of 47: gs://ams_pdfs/AMS_1974_reocr.pdf\n",
      "INFO:aerospace_chatbot.processing.documents:Downloading PDF from GCS: gs://ams_pdfs/AMS_1974_reocr.pdf\n",
      "INFO:aerospace_chatbot.processing.documents:Bucket name: ams_pdfs\n",
      "INFO:aerospace_chatbot.processing.documents:Blob name: AMS_1974_reocr.pdf\n"
     ]
    }
   ],
   "source": [
    "partitioned_docs_all = []\n",
    "for bucket, docs in zip(buckets, docs_all):\n",
    "    partitioned_docs = doc_processor.load_and_partition_documents(docs,partition_by_api=False, upload_bucket=bucket)\n",
    "    partitioned_docs_all.append(partitioned_docs)"
   ]
  },
  {
   "cell_type": "code",
   "execution_count": null,
   "metadata": {},
   "outputs": [],
   "source": [
    "len(partitioned_docs_all)"
   ]
  }
 ],
 "metadata": {
  "kernelspec": {
   "display_name": ".venv",
   "language": "python",
   "name": "python3"
  },
  "language_info": {
   "codemirror_mode": {
    "name": "ipython",
    "version": 3
   },
   "file_extension": ".py",
   "mimetype": "text/x-python",
   "name": "python",
   "nbconvert_exporter": "python",
   "pygments_lexer": "ipython3",
   "version": "3.11.10"
  }
 },
 "nbformat": 4,
 "nbformat_minor": 2
}
