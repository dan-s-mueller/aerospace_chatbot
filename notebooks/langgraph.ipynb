{
 "cells": [
  {
   "cell_type": "code",
   "execution_count": 1,
   "metadata": {},
   "outputs": [],
   "source": [
    "%load_ext autoreload\n",
    "%autoreload 2"
   ]
  },
  {
   "cell_type": "markdown",
   "metadata": {},
   "source": [
    "# Test partitioning update"
   ]
  },
  {
   "cell_type": "code",
   "execution_count": 2,
   "metadata": {},
   "outputs": [],
   "source": [
    "from aerospace_chatbot.processing import DocumentProcessor\n",
    "from aerospace_chatbot.services import EmbeddingService, RerankService, LLMService, DatabaseService\n",
    "from aerospace_chatbot.processing import QAModel\n",
    "\n",
    "from langchain_core.documents import Document\n",
    "\n",
    "# Load environment variables\n",
    "from dotenv import load_dotenv\n",
    "load_dotenv(override=True)\n",
    "# Set LOCAL_DB_PATH environment variable\n",
    "# os.environ['LOCAL_DB_PATH'] = os.path.abspath('.')\n",
    "\n",
    "# Initialize logger\n",
    "import logging\n",
    "logger = logging.getLogger(__name__)\n",
    "logging.basicConfig(level=logging.INFO)"
   ]
  },
  {
   "cell_type": "code",
   "execution_count": 3,
   "metadata": {},
   "outputs": [],
   "source": [
    "db_type='Pinecone'\n",
    "\n",
    "embedding_service='OpenAI'\n",
    "embedding_model='text-embedding-3-large'\n",
    "\n",
    "rerank_service='Cohere'\n",
    "rerank_model='rerank-v3.5'\n",
    "\n",
    "llm_service='OpenAI'\n",
    "llm_model='gpt-4o'\n",
    "# llm_service='Anthropic'\n",
    "# llm_model='claude-3-5-sonnet-latest'\n",
    "\n",
    "chunk_size=400\n",
    "chunk_overlap=0\n",
    "batch_size=50\n",
    "index_name = 'text-embedding-3-large-test'\n",
    "\n",
    "test_prompt='How does a thermal knife function in a cable based hold down release mechanism?'"
   ]
  },
  {
   "cell_type": "code",
   "execution_count": 4,
   "metadata": {},
   "outputs": [],
   "source": [
    "# Initialize services\n",
    "embedding_service = EmbeddingService(\n",
    "    model_service=embedding_service,\n",
    "    model=embedding_model\n",
    ")\n",
    "\n",
    "rerank_service = RerankService(\n",
    "    model_service=rerank_service,\n",
    "    model=rerank_model\n",
    ")\n",
    "\n",
    "llm_service = LLMService(\n",
    "    model_service=llm_service,\n",
    "    model=llm_model,\n",
    ")\n",
    "\n",
    "doc_processor = DocumentProcessor(\n",
    "    embedding_service=embedding_service,\n",
    "    chunk_size=chunk_size,\n",
    "    chunk_overlap=chunk_overlap,\n",
    ")\n",
    "\n",
    "# Initialize database service\n",
    "db_service = DatabaseService(\n",
    "    db_type=db_type,\n",
    "    index_name=index_name,\n",
    "    embedding_service=embedding_service,\n",
    "    rerank_service=rerank_service,\n",
    ")"
   ]
  },
  {
   "cell_type": "code",
   "execution_count": 5,
   "metadata": {},
   "outputs": [
    {
     "name": "stderr",
     "output_type": "stream",
     "text": [
      "INFO:aerospace_chatbot.processing.documents:Number of PDFs found: 2\n",
      "INFO:aerospace_chatbot.processing.documents:PDFs found: ['gs://processing-pdfs/1999_christiansen_reocr.pdf', 'gs://processing-pdfs/1999_cremers_reocr.pdf']\n"
     ]
    },
    {
     "data": {
      "text/plain": [
       "['gs://processing-pdfs/1999_christiansen_reocr.pdf',\n",
       " 'gs://processing-pdfs/1999_cremers_reocr.pdf']"
      ]
     },
     "execution_count": 5,
     "metadata": {},
     "output_type": "execute_result"
    }
   ],
   "source": [
    "bucket_name = 'processing-pdfs'\n",
    "docs = DocumentProcessor.list_bucket_pdfs(bucket_name)\n",
    "docs"
   ]
  },
  {
   "cell_type": "code",
   "execution_count": 6,
   "metadata": {},
   "outputs": [
    {
     "name": "stderr",
     "output_type": "stream",
     "text": [
      "INFO:aerospace_chatbot.processing.documents:Loading 2 documents...\n",
      "INFO:aerospace_chatbot.processing.documents:Checking document 1 of 2: gs://processing-pdfs/1999_christiansen_reocr.pdf\n",
      "INFO:aerospace_chatbot.processing.documents:Downloading PDF from GCS: gs://processing-pdfs/1999_christiansen_reocr.pdf\n",
      "INFO:aerospace_chatbot.processing.documents:Bucket name: processing-pdfs\n",
      "INFO:aerospace_chatbot.processing.documents:Blob name: 1999_christiansen_reocr.pdf\n",
      "INFO:aerospace_chatbot.processing.documents:Checking document 2 of 2: gs://processing-pdfs/1999_cremers_reocr.pdf\n",
      "INFO:aerospace_chatbot.processing.documents:Downloading PDF from GCS: gs://processing-pdfs/1999_cremers_reocr.pdf\n",
      "INFO:aerospace_chatbot.processing.documents:Bucket name: processing-pdfs\n",
      "INFO:aerospace_chatbot.processing.documents:Blob name: 1999_cremers_reocr.pdf\n",
      "INFO:aerospace_chatbot.processing.documents:Partitioning 2 documents...\n",
      "INFO:aerospace_chatbot.processing.documents:Partitioning ./document_processing/1999_christiansen_reocr.pdf Locally...\n",
      "INFO:pikepdf._core:pikepdf C++ to Python logger bridge initialized\n",
      "INFO:unstructured_inference:Reading PDF for file: ./document_processing/1999_christiansen_reocr.pdf ...\n",
      "INFO:unstructured_inference:Loading the Table agent ...\n",
      "INFO:unstructured_inference:Loading the table structure model ...\n",
      "INFO:timm.models._builder:Loading pretrained weights from Hugging Face hub (timm/resnet18.a1_in1k)\n",
      "INFO:timm.models._hub:[timm/resnet18.a1_in1k] Safe alternative available for 'pytorch_model.bin' (as 'model.safetensors'). Loading weights using safetensors.\n",
      "INFO:timm.models._builder:Missing keys (fc.weight, fc.bias) discovered while loading pretrained weights. This is expected if model is being adapted.\n",
      "INFO:aerospace_chatbot.processing.documents:Partitioned data saved at ./document_processing/partitioned/1999_christiansen_reocr-partitioned.json\n",
      "INFO:aerospace_chatbot.processing.documents:Uploaded ./document_processing/1999_christiansen_reocr.pdf and ./document_processing/partitioned/1999_christiansen_reocr-partitioned.json to processing-pdfs\n",
      "INFO:aerospace_chatbot.processing.documents:Partitioning ./document_processing/1999_cremers_reocr.pdf Locally...\n",
      "INFO:unstructured_inference:Reading PDF for file: ./document_processing/1999_cremers_reocr.pdf ...\n",
      "INFO:aerospace_chatbot.processing.documents:Partitioned data saved at ./document_processing/partitioned/1999_cremers_reocr-partitioned.json\n",
      "INFO:aerospace_chatbot.processing.documents:Uploaded ./document_processing/1999_cremers_reocr.pdf and ./document_processing/partitioned/1999_cremers_reocr-partitioned.json to processing-pdfs\n"
     ]
    },
    {
     "data": {
      "text/plain": [
       "['./document_processing/partitioned/1999_christiansen_reocr-partitioned.json',\n",
       " './document_processing/partitioned/1999_cremers_reocr-partitioned.json']"
      ]
     },
     "execution_count": 6,
     "metadata": {},
     "output_type": "execute_result"
    }
   ],
   "source": [
    "# partitioned_docs = doc_processor.load_and_partition_documents(docs,partition_by_api=False, upload_bucket=bucket_name)\n",
    "# partitioned_docs"
   ]
  },
  {
   "cell_type": "code",
   "execution_count": 7,
   "metadata": {},
   "outputs": [
    {
     "name": "stderr",
     "output_type": "stream",
     "text": [
      "INFO:aerospace_chatbot.processing.documents:Chunking documents...\n",
      "INFO:aerospace_chatbot.processing.documents:Total number of chunks: 91\n",
      "INFO:aerospace_chatbot.processing.documents:Output paths: ['./document_processing/chunked/1999_christiansen_reocr-chunked.json', './document_processing/chunked/1999_cremers_reocr-chunked.json']\n"
     ]
    },
    {
     "name": "stdout",
     "output_type": "stream",
     "text": [
      "Chunking ./document_processing/partitioned/1999_christiansen_reocr-partitioned.json...\n",
      "Chunked data saved at ./document_processing/chunked/1999_christiansen_reocr-chunked.json\n",
      "Chunking ./document_processing/partitioned/1999_cremers_reocr-partitioned.json...\n",
      "Chunked data saved at ./document_processing/chunked/1999_cremers_reocr-chunked.json\n"
     ]
    }
   ],
   "source": [
    "# chunk_obj, output_paths = doc_processor.chunk_documents(partitioned_docs)"
   ]
  },
  {
   "cell_type": "code",
   "execution_count": 8,
   "metadata": {},
   "outputs": [
    {
     "name": "stderr",
     "output_type": "stream",
     "text": [
      "INFO:aerospace_chatbot.services.database:Validating index text-embedding-3-large-test\n",
      "INFO:pinecone_plugin_interface.logging:Discovering subpackages in _NamespacePath(['/Users/danmueller/Documents/GitHub/aerospace_chatbot/.venv/lib/python3.11/site-packages/pinecone_plugins'])\n",
      "INFO:pinecone_plugin_interface.logging:Looking for plugins in pinecone_plugins.inference\n",
      "INFO:pinecone_plugin_interface.logging:Installing plugin inference into Pinecone\n",
      "INFO:aerospace_chatbot.services.database:Pinecone index text-embedding-3-large-test found, not creating. Will be initialized with existing index.\n"
     ]
    }
   ],
   "source": [
    "# try:\n",
    "#     db_service.initialize_database(clear=False)\n",
    "# except ValueError as e:\n",
    "#     print(f\"Database initialization failed: {str(e)}\")\n",
    "#     print(e)\n",
    "#     raise e"
   ]
  },
  {
   "cell_type": "code",
   "execution_count": 9,
   "metadata": {},
   "outputs": [
    {
     "name": "stderr",
     "output_type": "stream",
     "text": [
      "INFO:aerospace_chatbot.services.database:Found existing metadata in text-embedding-3-large-test: {'chunk_overlap': 0.0, 'chunk_size': 400.0, 'embedding_family': 'OpenAI', 'embedding_model': 'text-embedding-3-large'}\n",
      "WARNING:aerospace_chatbot.services.database:Metadata vector already exists in text-embedding-3-large-test, skipping metadata upsert\n",
      "INFO:aerospace_chatbot.services.database:Initial vector count: 183\n",
      "INFO:aerospace_chatbot.services.database:Upserting batch 1 of 1\n",
      "INFO:httpx:HTTP Request: POST https://api.openai.com/v1/embeddings \"HTTP/1.1 200 OK\"\n",
      "INFO:aerospace_chatbot.services.database:Waiting for vectors to be indexed in Pinecone... Current count: 183, Expected: 274\n",
      "INFO:aerospace_chatbot.services.database:Successfully verified 274 vectors in Pinecone index\n"
     ]
    }
   ],
   "source": [
    "# db_service.index_data(chunk_obj)"
   ]
  },
  {
   "cell_type": "code",
   "execution_count": 10,
   "metadata": {},
   "outputs": [],
   "source": [
    "k_retrieve=20\n",
    "k_rerank=5\n",
    "config = {\"configurable\": {\"thread_id\": \"1\"}}\n",
    "\n",
    "qa_model = QAModel(\n",
    "    db_service=db_service,\n",
    "    llm_service=llm_service,\n",
    "    k_retrieve=k_retrieve,\n",
    "    k_rerank=k_rerank,\n",
    "    memory_config=config\n",
    ")"
   ]
  },
  {
   "cell_type": "code",
   "execution_count": 11,
   "metadata": {},
   "outputs": [],
   "source": [
    "# qa_model.query(test_prompt)"
   ]
  },
  {
   "cell_type": "code",
   "execution_count": 12,
   "metadata": {},
   "outputs": [],
   "source": [
    "# print(qa_model.result[-1]['references'])\n",
    "# print(qa_model.sources[-1])\n",
    "# print(qa_model.scores[-1])\n"
   ]
  },
  {
   "cell_type": "code",
   "execution_count": 13,
   "metadata": {},
   "outputs": [],
   "source": [
    "# print(qa_model.ai_response)"
   ]
  },
  {
   "cell_type": "markdown",
   "metadata": {},
   "source": [
    "# Langgraph"
   ]
  },
  {
   "cell_type": "markdown",
   "metadata": {},
   "source": [
    "Run above section first\n"
   ]
  },
  {
   "cell_type": "code",
   "execution_count": 14,
   "metadata": {},
   "outputs": [],
   "source": [
    "from langchain_core.messages import SystemMessage, RemoveMessage\n",
    "from langchain.output_parsers import PydanticOutputParser\n",
    "from langgraph.checkpoint.memory import MemorySaver\n",
    "from langgraph.graph import MessagesState, StateGraph, START, END\n",
    "from langchain.prompts import PromptTemplate\n",
    "\n",
    "from typing_extensions import List\n",
    "from typing import List, Literal, Tuple\n",
    "\n",
    "# import cohere\n",
    "# import os\n",
    "from langchain.docstore.document import Document\n",
    "\n",
    "from aerospace_chatbot.services.prompts import InLineCitationsResponse, AltQuestionsResponse, style_mode, CHATBOT_SYSTEM_PROMPT, QA_PROMPT, SUMMARIZE_TEXT, GENERATE_SIMILAR_QUESTIONS_W_CONTEXT"
   ]
  },
  {
   "cell_type": "code",
   "execution_count": 15,
   "metadata": {},
   "outputs": [],
   "source": [
    "retriever = db_service.retriever\n",
    "llm = llm_service.get_llm()\n",
    "# memory = MemorySaver()"
   ]
  },
  {
   "cell_type": "markdown",
   "metadata": {},
   "source": [
    "## Rerank"
   ]
  },
  {
   "cell_type": "code",
   "execution_count": 16,
   "metadata": {},
   "outputs": [
    {
     "name": "stderr",
     "output_type": "stream",
     "text": [
      "INFO:httpx:HTTP Request: POST https://api.openai.com/v1/embeddings \"HTTP/1.1 200 OK\"\n"
     ]
    }
   ],
   "source": [
    "# Retrieve docs with standard retriever\n",
    "retrieved_docs = retriever.invoke(test_prompt)\n",
    "\n",
    "# retrieved_docs"
   ]
  },
  {
   "cell_type": "code",
   "execution_count": 17,
   "metadata": {},
   "outputs": [],
   "source": [
    "# COHERE_API_KEY = os.getenv(\"COHERE_API_KEY\")\n",
    "# co = cohere.ClientV2(COHERE_API_KEY)\n",
    "# rerank_model = \"rerank-v3.5\""
   ]
  },
  {
   "cell_type": "code",
   "execution_count": 18,
   "metadata": {},
   "outputs": [],
   "source": [
    "# model_list = co.models.list()\n",
    "# rerank_model_info = next((model for model in model_list.models if model.name == rerank_model), None)\n",
    "# print(rerank_model_info)\n",
    "\n",
    "# print(model_list.models)"
   ]
  },
  {
   "cell_type": "code",
   "execution_count": 19,
   "metadata": {},
   "outputs": [],
   "source": [
    "# Get token count for each doc\n",
    "# max_context_length = 4096\n",
    "\n",
    "# token_count_list = []\n",
    "# for doc in retrieved_docs[0]:\n",
    "#     tokens = co.tokenize(\n",
    "#         model=rerank_model,\n",
    "#         text=doc.page_content,\n",
    "#     )\n",
    "#     token_count_list.append(len(tokens.tokens))\n",
    "    # print(token_count)\n",
    "\n",
    "# print(token_count_list)"
   ]
  },
  {
   "cell_type": "code",
   "execution_count": 20,
   "metadata": {},
   "outputs": [],
   "source": [
    "# def cohere_rerank(query: str, retrieved_docs: List[Tuple[Document, float]], top_n: int = None):\n",
    "#     # retrieved_docs contains a list of tuples, where the first element is the document and the second is the score\n",
    "#     # Cohere's rerank expects a list of strings; we'll supply the page_content\n",
    "\n",
    "#     if top_n is None:\n",
    "#         top_n = 3\n",
    "#     elif top_n < 3:\n",
    "#         raise ValueError(\"top_n must be at least 3\")\n",
    "#     elif top_n > len(retrieved_docs):\n",
    "#         raise ValueError(\"top_n must be less than or equal to the number of retrieved documents\")\n",
    "    \n",
    "#     inputs = [doc.page_content for doc, _ in retrieved_docs]\n",
    "\n",
    "#     # Call Cohere's Rerank endpoint\n",
    "#     response = co.rerank(\n",
    "#         model=rerank_model,\n",
    "#         query=query,\n",
    "#         documents=inputs,\n",
    "#         top_n=top_n\n",
    "#     )\n",
    "\n",
    "#     # Create a dictionary to map document IDs to rerank scores\n",
    "#     rerank_scores = {retrieved_docs[i][0].id: item.relevance_score for i, item in enumerate(response.results)}\n",
    "\n",
    "#     # Create list of (doc, original_score, rerank_score) tuples\n",
    "#     doc_scores = []\n",
    "#     for doc, original_score in retrieved_docs:\n",
    "#         rerank_score = rerank_scores.get(doc.id, None)  # Get the rerank score or None if not available\n",
    "#         doc_scores.append((doc, original_score, rerank_score))\n",
    "\n",
    "#     # Sort docs by rerank score in descending order, placing those without a rerank score at the end\n",
    "#     doc_scores_sorted = sorted(doc_scores, key=lambda x: (x[2] is not None, x[2]), reverse=True)\n",
    "\n",
    "#     return doc_scores_sorted"
   ]
  },
  {
   "cell_type": "code",
   "execution_count": 21,
   "metadata": {},
   "outputs": [
    {
     "name": "stderr",
     "output_type": "stream",
     "text": [
      "INFO:httpx:HTTP Request: POST https://api.cohere.com/v2/rerank \"HTTP/1.1 200 OK\"\n"
     ]
    }
   ],
   "source": [
    "reranked_docs = db_service.rerank(test_prompt, retrieved_docs, top_n=k_rerank)\n",
    "# reranked_docs"
   ]
  },
  {
   "cell_type": "code",
   "execution_count": 22,
   "metadata": {},
   "outputs": [],
   "source": [
    "# Add context to the prompt\n",
    "# TODO update this to use the doc.id. Do some testing to check this works.\n",
    "docs_content=\"\"\n",
    "for i, (doc, original_score, rerank_score) in enumerate(reranked_docs):\n",
    "    # Source IDs in the order they show in in the array. Indexed from 0.\n",
    "    if rerank_score is not None:    # Only include docs with a rerank score\n",
    "        docs_content += f\"Source ID: {i+1}\\n{doc.page_content}\\n\\n\"\n",
    "\n",
    "# print(docs_content)"
   ]
  },
  {
   "cell_type": "markdown",
   "metadata": {},
   "source": [
    "## Test output parser"
   ]
  },
  {
   "cell_type": "markdown",
   "metadata": {},
   "source": [
    "### InLineCitationsResponse"
   ]
  },
  {
   "cell_type": "code",
   "execution_count": 24,
   "metadata": {},
   "outputs": [
    {
     "name": "stdout",
     "output_type": "stream",
     "text": [
      "content='\\nThe actuator was tested under high pressure <source id=\"1\">. \\nMaterial properties were measured over 50 cycles <source id=\"2\">.\\nThermal resistance improved by 30% <source id=\"3\">.\\n' citations=['1', '2', '3']\n"
     ]
    }
   ],
   "source": [
    "# Should validate\n",
    "valid_response = InLineCitationsResponse(content=\"\"\"\n",
    "The actuator was tested under high pressure <source id=\"1\">. \n",
    "Material properties were measured over 50 cycles <source id=\"2\">.\n",
    "Thermal resistance improved by 30% <source id=\"3\">.\n",
    "\"\"\",\n",
    "citations=[\"1\", \"2\", \"3\"]\n",
    ")\n",
    "\n",
    "print(valid_response)"
   ]
  },
  {
   "cell_type": "code",
   "execution_count": 25,
   "metadata": {},
   "outputs": [
    {
     "name": "stdout",
     "output_type": "stream",
     "text": [
      "Validation failed: 2 validation errors for InLineCitationsResponse\n",
      "content\n",
      "  Value error, No valid source tags found. Expected format: <source id=\"1\"> [type=value_error, input_value='\\n    The actuator was t... <source id=\"x\">.\\n    ', input_type=str]\n",
      "    For further information visit https://errors.pydantic.dev/2.9/v/value_error\n",
      "citations\n",
      "  Value error, No citations found in the content. Ensure sources are cited correctly. [type=value_error, input_value=['1', 'x'], input_type=list]\n",
      "    For further information visit https://errors.pydantic.dev/2.9/v/value_error\n"
     ]
    }
   ],
   "source": [
    "# Shouldn't validate\n",
    "try:\n",
    "    invalid_response = InLineCitationsResponse(content=\"\"\"\n",
    "    The actuator was tested under high pressure [1]. \n",
    "    Material properties were measured under load <source id=\"x\">.\n",
    "    \"\"\",\n",
    "    citations=[\"1\", \"x\"]\n",
    "    )\n",
    "except ValueError as e:\n",
    "    print(f\"Validation failed: {e}\")"
   ]
  },
  {
   "cell_type": "code",
   "execution_count": 26,
   "metadata": {},
   "outputs": [],
   "source": [
    "QA_PROMPT_TEST=PromptTemplate(\n",
    "    template=\n",
    "\"\"\"\n",
    "# **System Prompt**\n",
    "\n",
    "Your name is **Aerospace Chatbot**, a specialized assistant for flight hardware design and analysis in aerospace engineering. You will function as a knowledgeable replacement for an expert in aerospace flight hardware design, testing, analysis, and certification.\n",
    "\n",
    "> **Important Note:** The **Sources and Context** you are provided are ranked from most relevant to least relevant by a state-of-the-art retrieval and ranking tool. Please take this ranking into consideration when determining which sources to cite.\n",
    "\n",
    "Use only the **Sources and Context** provided to answer the **User Question**. **Do not use outside knowledge**, and strictly follow these rules:\n",
    "\n",
    "---\n",
    "\n",
    "## **Rules**:\n",
    "\n",
    "1. **Answer only based on the provided Sources and Context.**  \n",
    "   - If the information is not available in the Sources and Context, respond with:  \n",
    "     *\"I don’t know the answer to that based on the information provided. You might consider rephrasing your question or asking about a related topic.\"*  \n",
    "   - **If no sources are truly relevant to the answer, do not cite any sources.**\n",
    "\n",
    "2. **Do not make up or infer answers.**  \n",
    "   - Stay accurate and factual at all times.\n",
    "\n",
    "3. **Provide highly detailed, explanatory answers.**  \n",
    "   - Include **as many specific details from the original context** as possible to thoroughly address the user’s question.\n",
    "\n",
    "4. **Provide responses in English only** and format them using **Markdown** for clarity.\n",
    "\n",
    "5. **Cite Sources in context** using the exact format `<source id=\"#\">`:  \n",
    "   - `#` – Represents the numerical order of the source as provided in the Sources and Context.  \n",
    "   - **The `source` tag must be present for every source referenced in the response.**  \n",
    "   - **Do not add, omit, or modify any part of the citation format.**  \n",
    "   \n",
    "   **Examples (Correct):**  \n",
    "   > The actuator was tested under extreme conditions <source id=\"1\">.  \n",
    "   > A secondary material exhibited increased yield strength <source id=\"2\">.  \n",
    "   > Additional research confirmed thermal properties <source id=\"3\">.  \n",
    "\n",
    "   **Examples (Incorrect – Must Be Rejected):**  \n",
    "   > Testing yielded higher efficiency [1] (Incorrect bracket format)  \n",
    "   > <source id=\"1\" > (Extra space after `id`)  \n",
    "   > <source id=\"a\"> (Non-numeric ID)  \n",
    "   > <source id=\"1,2\"> (Multiple IDs in one tag – invalid)  \n",
    "\n",
    "6. **Every sentence or paragraph that uses a source must cite it with the format `<source id=\"#\">`.**  \n",
    "   - **Do not group multiple sources into a single tag.**  \n",
    "   - Each source must have its own, clearly separated citation.  \n",
    "   - For example:  \n",
    "     > The actuator uses a reinforced composite structure <source id=\"1\">.  \n",
    "     > This design was validated through multiple tests <source id=\"2\">.\n",
    "\n",
    "7. **Validation Requirement:**  \n",
    "   - If the response contains references without the exact `<source id=\"#\">` format, the response must be flagged or rejected.  \n",
    "   - Every source used must have a corresponding citation in the response.  \n",
    "   - **No source should be referenced without explicit citation.**\n",
    "\n",
    "8. **Suggest related or alternative questions** if applicable, to help the user find relevant information within the corpus.\n",
    "\n",
    "9. **Always cite Source ID: 1**  \n",
    "   - Always provide a citation for Source ID: 1 unless it is entirely irrelevant to the user’s question (in which case explicitly omit it).  \n",
    "   - Follow Rule #10 for the other sources.\n",
    "\n",
    "10. **Give preference to citing top-ranked sources, provided in order of highest to lowest relevance.**  \n",
    "   - If the first sources in the list (i.e., the most relevant or highest-ranked) contain information that addresses the user’s question, cite them first.  \n",
    "   - Then cite additional sources only if they contain new or non-redundant details.  \n",
    "   - If the top-ranked sources are not relevant, skip them.\n",
    "\n",
    "---\n",
    "**Sources and Context**:\n",
    "{context}\n",
    "---\n",
    "\n",
    "---\n",
    "**User Question**:\n",
    "{question}\n",
    "---\n",
    "\n",
    "---\n",
    "{format_instructions}\n",
    "---\n",
    "\"\"\",\n",
    "    input_variables=[\"context\", \"question\"],\n",
    "    partial_variables={\"format_instructions\": PydanticOutputParser(pydantic_object=InLineCitationsResponse).get_format_instructions()},\n",
    ")\n"
   ]
  },
  {
   "cell_type": "code",
   "execution_count": 27,
   "metadata": {},
   "outputs": [
    {
     "name": "stderr",
     "output_type": "stream",
     "text": [
      "INFO:httpx:HTTP Request: POST https://api.openai.com/v1/chat/completions \"HTTP/1.1 200 OK\"\n"
     ]
    },
    {
     "name": "stdout",
     "output_type": "stream",
     "text": [
      "```json\n",
      "{\n",
      "    \"content\": \"A thermal knife in a cable-based hold-down release mechanism functions by using a heater plate that is pushed through the wire bundle by a compression spring. This mechanism is designed to cut the Dyneema wire bundle effectively. The system includes two thermal knives for redundancy, ensuring reliability in the release process. These knives are mounted onto a holddown bracket, allowing them to perform their cutting function efficiently <source id=\\\"1\\\"> <source id=\\\"4\\\">.\",\n",
      "    \"citations\": [\n",
      "        \"<source id=\\\"1\\\">\",\n",
      "        \"<source id=\\\"4\\\">\"\n",
      "    ]\n",
      "}\n",
      "```\n"
     ]
    }
   ],
   "source": [
    "raw_output = llm.invoke(QA_PROMPT_TEST.format(context=docs_content, question=test_prompt))\n",
    "print(raw_output.content)"
   ]
  },
  {
   "cell_type": "code",
   "execution_count": 28,
   "metadata": {},
   "outputs": [
    {
     "name": "stdout",
     "output_type": "stream",
     "text": [
      "content='A thermal knife in a cable-based hold-down release mechanism functions by using a heater plate that is pushed through the wire bundle by a compression spring. This mechanism is designed to cut the Dyneema wire bundle effectively. The system includes two thermal knives for redundancy, ensuring reliability in the release process. These knives are mounted onto a holddown bracket, allowing them to perform their cutting function efficiently <source id=\"1\"> <source id=\"4\">.' citations=['1', '4']\n"
     ]
    }
   ],
   "source": [
    "parsed_response = PydanticOutputParser(pydantic_object=InLineCitationsResponse).parse(raw_output.content)\n",
    "print(parsed_response)"
   ]
  },
  {
   "cell_type": "markdown",
   "metadata": {},
   "source": [
    "### AltQuestionsResponse"
   ]
  },
  {
   "cell_type": "code",
   "execution_count": 29,
   "metadata": {},
   "outputs": [
    {
     "name": "stdout",
     "output_type": "stream",
     "text": [
      "questions=['What is the purpose of the actuator?', 'What are the key components of the mechanism?', 'How does the mechanism work?']\n"
     ]
    }
   ],
   "source": [
    "# Should validate\n",
    "valid_response = AltQuestionsResponse(\n",
    "    questions=[\"What is the purpose of the actuator?\", \"What are the key components of the mechanism?\", \"How does the mechanism work?\"],\n",
    ")\n",
    "print(valid_response)"
   ]
  },
  {
   "cell_type": "code",
   "execution_count": 30,
   "metadata": {},
   "outputs": [
    {
     "name": "stdout",
     "output_type": "stream",
     "text": [
      "Validation failed: 1 validation error for AltQuestionsResponse\n",
      "questions\n",
      "  Value error, Expected exactly 3 questions, but got 2. [type=value_error, input_value=['What is the purpose of ...ents of the mechanism?'], input_type=list]\n",
      "    For further information visit https://errors.pydantic.dev/2.9/v/value_error\n"
     ]
    }
   ],
   "source": [
    "# Shouldn't validate\n",
    "try:\n",
    "    invalid_response = AltQuestionsResponse(\n",
    "        questions=[\"What is the purpose of the actuator?\", \"What are the key components of the mechanism?\"],\n",
    "    )\n",
    "except ValueError as e:\n",
    "    print(f\"Validation failed: {e}\")"
   ]
  },
  {
   "cell_type": "code",
   "execution_count": 31,
   "metadata": {},
   "outputs": [
    {
     "name": "stderr",
     "output_type": "stream",
     "text": [
      "INFO:httpx:HTTP Request: POST https://api.openai.com/v1/chat/completions \"HTTP/1.1 200 OK\"\n"
     ]
    },
    {
     "name": "stdout",
     "output_type": "stream",
     "text": [
      "```json\n",
      "{\n",
      "  \"questions\": [\n",
      "    \"What role does the compression spring play in the operation of a thermal knife within a cable release mechanism?\",\n",
      "    \"How does the use of a Reel cable element enhance the functionality of a thermal knife in cutting applications?\",\n",
      "    \"Why is redundancy important in the design of a release mechanism using thermal knives?\"\n",
      "  ]\n",
      "}\n",
      "```\n"
     ]
    }
   ],
   "source": [
    "raw_output = llm.invoke(GENERATE_SIMILAR_QUESTIONS_W_CONTEXT.format(context=docs_content, question=test_prompt))\n",
    "print(raw_output.content)"
   ]
  },
  {
   "cell_type": "code",
   "execution_count": 32,
   "metadata": {},
   "outputs": [
    {
     "name": "stdout",
     "output_type": "stream",
     "text": [
      "['What role does the compression spring play in the operation of a thermal knife within a cable release mechanism?', 'How does the use of a Reel cable element enhance the functionality of a thermal knife in cutting applications?', 'Why is redundancy important in the design of a release mechanism using thermal knives?']\n"
     ]
    }
   ],
   "source": [
    "parsed_response = PydanticOutputParser(pydantic_object=AltQuestionsResponse).parse(raw_output.content)\n",
    "print(parsed_response.questions)"
   ]
  },
  {
   "cell_type": "markdown",
   "metadata": {},
   "source": [
    "## Define graph"
   ]
  },
  {
   "cell_type": "code",
   "execution_count": 33,
   "metadata": {},
   "outputs": [],
   "source": [
    "# class State(MessagesState):\n",
    "#     context: List[Tuple[Document, float, float]]\n",
    "#     cited_sources: List[Tuple[Document, float, float]]\n",
    "#     summary: str\n",
    "\n",
    "# # Define application steps\n",
    "# def retrieve(state: State):\n",
    "#     \"\"\"\n",
    "#     Retrieve the documents from the database.\n",
    "#     \"\"\"\n",
    "#     logger.info(f\"Node: retrieve\")\n",
    "\n",
    "#     # Retrieve docs\n",
    "#     retrieved_docs = retriever.invoke(state[\"messages\"][-1].content)\n",
    "#     logger.info(f\"Retrieved docs\")\n",
    "#     # Rerank docs\n",
    "#     # reranked_docs = cohere_rerank(\n",
    "#     #     state[\"messages\"][-1].content, \n",
    "#     #     retrieved_docs, \n",
    "#     #     top_n=k_rerank\n",
    "#     # )\n",
    "#     reranked_docs = db_service.rerank(\n",
    "#         state[\"messages\"][-1].content, \n",
    "#         retrieved_docs, \n",
    "#         top_n=k_rerank\n",
    "#     )\n",
    "#     logger.info(f\"Reranked docs\")\n",
    "\n",
    "#     return {\"context\": reranked_docs}\n",
    "\n",
    "# def generate_w_context(state: State):\n",
    "#     \"\"\"\n",
    "#     Call the model with the prompt with context.\n",
    "#     \"\"\"\n",
    "#     logger.info(f\"Node: generate_w_context\")\n",
    "\n",
    "#     # Get the summary, add system prompt\n",
    "#     summary = state.get(\"summary\", \"\")\n",
    "#     system_prompt = CHATBOT_SYSTEM_PROMPT.format(style_mode=style_mode(style))\n",
    "#     logger.info(f\"generate_w_context system prompt: {system_prompt.content}\")\n",
    "#     if summary:\n",
    "#         system_message = f\"Summary of conversation earlier: {summary}\"\n",
    "#         messages = [system_prompt] + [SystemMessage(content=system_message)] + state[\"messages\"]\n",
    "#     else:\n",
    "#         messages = [system_prompt] + state[\"messages\"]\n",
    "\n",
    "#     # Add context to the prompt\n",
    "#     docs_content=\"\"\n",
    "#     for i, (doc, retrieved_score, rerank_score) in enumerate(state[\"context\"]):\n",
    "#         # Source IDs in the order they show in in the array. Indexed from 1, retrieve with 0 index.\n",
    "#         if rerank_score is not None:    # Only include docs with a rerank score\n",
    "#             docs_content += f\"Source ID: {i+1}\\n{doc.page_content}\\n\\n\"\n",
    "\n",
    "#     # Prompt with context and pydantic output parser\n",
    "#     prompt_with_context = QA_PROMPT.format(\n",
    "#         context=docs_content,\n",
    "#         question=state[\"messages\"][-1].content, \n",
    "#     )\n",
    "#     # Replace the last message (user question) with the prompt with context, return LLM response\n",
    "#     messages[-1] = prompt_with_context \n",
    "#     response = llm.invoke(messages)\n",
    "\n",
    "#     # Parse the response. This will return a InLineCitationsResponse object. \n",
    "#     # This object has two fields: content and citations.\n",
    "#     # Replace the last message with the content of the parsed and validated response. \n",
    "#     # AIMessage metadata will be incorrect.\n",
    "#     parsed_response = PydanticOutputParser(pydantic_object=InLineCitationsResponse).parse(response.content)\n",
    "#     response.content = parsed_response.content\n",
    "\n",
    "#     # Return cited_sources as the list of tuples that matched the citations.\n",
    "#     existing_cited_sources = state.get(\"cited_sources\", [])  # Grab whatever might already be in cited_sources\n",
    "#     cited_sources = [state[\"context\"][int(citation)-1] for citation in parsed_response.citations]\n",
    "#     existing_cited_sources.append(cited_sources)  # Append the new list as a sublist\n",
    "#     state[\"cited_sources\"] = existing_cited_sources\n",
    "\n",
    "#     # Update the state messages with the messages updated in this node.\n",
    "#     state[\"messages\"] = messages\n",
    "#     return {\"messages\": [response], \n",
    "#             \"cited_sources\": state[\"cited_sources\"]}\n",
    "\n",
    "# def should_continue(state: State) -> Literal[\"summarize_conversation\", END]:\n",
    "#     \"\"\"\n",
    "#     Define the logic for determining whether to end or summarize the conversation\n",
    "#     \"\"\"\n",
    "#     logger.info(f\"Node: should_continue\")\n",
    "\n",
    "#     # If there are more than six messages, then we summarize the conversation\n",
    "#     messages = state[\"messages\"]\n",
    "#     if len(messages) > 6:\n",
    "#         logger.info(f\"Summarizing conversation\")\n",
    "#         return \"summarize_conversation\"\n",
    "    \n",
    "#     # Otherwise just end\n",
    "#     logger.info(f\"Ending conversation\")\n",
    "#     # logger.info(f\"Messages before ending: {messages}\")\n",
    "#     return END\n",
    "\n",
    "# def summarize_conversation(state: State):\n",
    "#     \"\"\"\n",
    "#     Summarize the conversation\n",
    "#     \"\"\"\n",
    "#     logger.info(f\"Node: summarize_conversation\")\n",
    "\n",
    "#     summary = state.get(\"summary\", \"\")\n",
    "#     if summary:\n",
    "#         # If a summary already exists, extend it\n",
    "#         summary_message = SUMMARIZE_TEXT.format(\n",
    "#             summary=summary,\n",
    "#             augment=\"Extend the summary provided by taking into account the new messages above.\"\n",
    "#         )\n",
    "#     else:\n",
    "#         # If no summary exists, create one\n",
    "#         summary_text=\"\"\"---\\n**Conversation Summary to Date**:\\n{summary}\\n---\"\"\"\n",
    "#         summary_message = SUMMARIZE_TEXT.format(\n",
    "#             summary=summary_text,\n",
    "#             augment=\"Create a summary of the conversation above.\"\n",
    "#         )\n",
    "\n",
    "#     messages = state[\"messages\"] + [summary_message]\n",
    "#     response = llm.invoke(messages)\n",
    "\n",
    "#     # Prune messages. This deletes all but the last two messages\n",
    "#     delete_messages = [RemoveMessage(id=m.id) for m in state[\"messages\"][:-2]]\n",
    "#     return {\"summary\": response.content, \"messages\": delete_messages}"
   ]
  },
  {
   "cell_type": "code",
   "execution_count": 34,
   "metadata": {},
   "outputs": [],
   "source": [
    "# # Compile application and test\n",
    "# workflow = StateGraph(State)\n",
    "\n",
    "# # Define nodes\n",
    "# workflow.add_node(\"retrieve\", retrieve) \n",
    "# workflow.add_node(\"generate_w_context\", generate_w_context)\n",
    "# workflow.add_node(\"summarize_conversation\", summarize_conversation)\n",
    "\n",
    "# # Define edges\n",
    "# workflow.add_edge(START, \"retrieve\")\n",
    "# workflow.add_edge(\"retrieve\", \"generate_w_context\")\n",
    "\n",
    "# # We now add a conditional edge\n",
    "# workflow.add_conditional_edges(\n",
    "#     \"generate_w_context\",   # Define the start node. We use `generate_w_context`. This means these are the edges taken after the `conversation` node is called.\n",
    "#     should_continue,    # Next, pass in the function that will determine which node is called next.\n",
    "# )\n",
    "\n",
    "# # Add a normal edge from `summarize_conversation` to END. This means that after `summarize_conversation` is called, we end.\n",
    "# workflow.add_edge(\"summarize_conversation\", END)\n",
    "\n",
    "# # Compile the workflow\n",
    "# app = workflow.compile(checkpointer=memory)"
   ]
  },
  {
   "cell_type": "code",
   "execution_count": 35,
   "metadata": {},
   "outputs": [
    {
     "data": {
      "image/png": "[encoded data removed]",
      "text/plain": [
       "<langgraph.graph.state.CompiledStateGraph object at 0x35b316610>"
      ]
     },
     "execution_count": 35,
     "metadata": {},
     "output_type": "execute_result"
    }
   ],
   "source": [
    "qa_model.workflow"
   ]
  },
  {
   "cell_type": "markdown",
   "metadata": {},
   "source": [
    "## Run Graph"
   ]
  },
  {
   "cell_type": "code",
   "execution_count": 36,
   "metadata": {},
   "outputs": [],
   "source": [
    "config = {\"configurable\": {\"thread_id\": \"197\"}}"
   ]
  },
  {
   "cell_type": "code",
   "execution_count": 37,
   "metadata": {},
   "outputs": [
    {
     "name": "stderr",
     "output_type": "stream",
     "text": [
      "INFO:aerospace_chatbot.processing.queries:Running query through workflow: My name is Dan. Please tell me about some interesting mecanism designs.\n",
      "INFO:aerospace_chatbot.processing.queries:Node: retrieve\n",
      "INFO:httpx:HTTP Request: POST https://api.openai.com/v1/embeddings \"HTTP/1.1 200 OK\"\n",
      "INFO:aerospace_chatbot.processing.queries:Retrieved docs\n",
      "INFO:httpx:HTTP Request: POST https://api.cohere.com/v2/rerank \"HTTP/1.1 200 OK\"\n",
      "INFO:aerospace_chatbot.processing.queries:Reranked docs\n",
      "INFO:aerospace_chatbot.processing.queries:Node: generate_w_context\n",
      "INFO:httpx:HTTP Request: POST https://api.openai.com/v1/chat/completions \"HTTP/1.1 200 OK\"\n",
      "INFO:aerospace_chatbot.processing.queries:Response generated\n",
      "INFO:aerospace_chatbot.processing.queries:Response parsed\n",
      "INFO:aerospace_chatbot.processing.queries:Node: generate_alternative_questions\n",
      "INFO:httpx:HTTP Request: POST https://api.openai.com/v1/chat/completions \"HTTP/1.1 200 OK\"\n",
      "INFO:aerospace_chatbot.processing.queries:Alternative questions generated.\n",
      "INFO:aerospace_chatbot.processing.queries:Alternative questions parsed\n",
      "INFO:aerospace_chatbot.processing.queries:Node: should_continue\n",
      "INFO:aerospace_chatbot.processing.queries:Ending conversation\n"
     ]
    },
    {
     "name": "stdout",
     "output_type": "stream",
     "text": [
      "================================\u001b[1m Human Message \u001b[0m=================================\n",
      "\n",
      "My name is Dan. Please tell me about some interesting mecanism designs.\n",
      "==================================\u001b[1m Ai Message \u001b[0m==================================\n",
      "\n",
      "One interesting mechanism design is the Multipurpose Holddown and Release Mechanism (MHRM) developed by Fokker Space. This mechanism is designed to utilize a very low energy signal to release a relatively large load of 10 kN. The design includes several basic components, one of which is the 'prime mover' that converts electrical energy into mechanical energy <source id=\"1\">.\n"
     ]
    }
   ],
   "source": [
    "prompt = 'My name is Dan. Please tell me about some interesting mecanism designs.'\n",
    "# result = qa_model.workflow.invoke({\"messages\": [(\"human\", prompt)]}, config)\n",
    "qa_model.query(prompt)\n",
    "for message in qa_model.result['messages']:\n",
    "    message.pretty_print()"
   ]
  },
  {
   "cell_type": "code",
   "execution_count": 38,
   "metadata": {},
   "outputs": [
    {
     "data": {
      "text/plain": [
       "[(Document(id='cc6fdb1d-3108-4605-8928-db0c378169f3', metadata={'chunk_overlap': 0.0, 'chunk_size': 400.0, 'data_source.record_locator.protocol': 'gs', 'data_source.record_locator.remote_file_path': 'gs://processing-pdfs', 'data_source.url': 'gs://processing-pdfs/1999_cremers_reocr.pdf', 'element_id': 'cc6fdb1d-3108-4605-8928-db0c378169f3', 'file_directory': './document_processing', 'filename': '1999_cremers_reocr.pdf', 'filetype': 'application/pdf', 'languages': ['eng'], 'last_modified': '2025-01-20T13:55:55', 'orig_elements': 'eJzllk1v2zgQhv8KoVOLdWR+iLTo06aN23Q3doLExR6CQKCpsa1GFgWK3iQo9r/viLbRpk0X6CGHTQEfPO/McGbERxSvPydQwwaaUFRlMiaJ4CUTkhqBf3RmqaI0M0u1YGVuRtkSkgFJNhBMaYLB+M+Jdc6XVWMCdNGuzYPbhmIN1WodUOGcUszZy3dVGdaoslFUW1c1oc+7vs5YnuYDdMg0vxmQg82V2NmM5/JJYZeBStI9dAE2/RQX1T3UV62xkPyDjr7ZonNbj3bfoweLTRe1syY4H6XWu+Csq/vsVddP6WHjAhTLqoaiNbFr9IyHQwy10HVVszpqy2UXK2x9/SP/kGmtC4vLge8KD876FPVdYxDAhso1ha1N1xWYusB1aJpnueIYEKuXFTaMjT70JdJh6ew27tiXQsk+tDGbfsLkByX3UeGhjVGmbesKHwHWH+7dtWlWW7OKe3mdAK58E9UuFBtXVssKIiWccnlE2RGncybGUuKvz24xs2i2mwX0D5X1Ewa47ylIph/P5h8uPl5enF9NyOn52cnJ+V8zcjw7IZeTs8kxitPJ29Pj2YerKXk1Pb2cviZ/uI683c0wIBNf3ZL3zlWfwA/Ie/DGl+RPwA33feXDSPMq1HHPv+U6E6XmDGRmLKe6HFmV5xy0XRppMyXMs3GtMpmqARGUpVmP7cHmWaojxlRmafaUEDNeGNeKKpH/37mOiv+JM/PrF+Gdu70FT+Imkld3d3fpMipdL6RN/fprnGfGe5zjb5j32U9gvbR8wcVCKqWphREvs4XOjRGMLbQySj0b1lLJVCKkQqSip/ZgS5WOIsVM5JHz74SY8cKwxo8VzX5prC/OyRt3j6cYHSEpXFBBTt6QM6hKaAZkvgYyg7AGjx2X3U8hrnXOreZCKxhZyhkbGcpYrkuWKSnt8yGeSZ3iN1jghUPGG8nOzjg7XECQaP2EsMt4YYgLRXPxSyM+Ry7btWtgTH4TjIwYkTyTguVk+EgQFIV35v5xmNZkcrQxVT0mn9L9gyC/Pz77MQ/S1e6S843rP16Zm38BqUuhBA==', 'page_number': 1.0, 'type': 'CompositeElement'}, page_content='MULTIPURPOSE HOLDDOWN AND RELEASE MECHANISM (MHRM) Jos Cremers, Erik Gooijer, Gerard Kester\\n\\nFokker Space (www.fokkerspace.nl)\\n\\nPO Box 32070, 2303 DB Leiden, The Netherlands\\n\\nTelephone: +31 71 5245318 / +31 71 5245330 / Fax: +31 71 5245399 E-mail: j.cremers @fokkerspace.nl / e.gooijer@fokkerspace.nl'),\n",
       "  0.354804307,\n",
       "  0.13045175),\n",
       " (Document(id='daf1a4cb-d7fd-4f2a-9940-edca36c36c2b', metadata={'chunk_overlap': 0.0, 'chunk_size': 400.0, 'data_source.record_locator.protocol': 'gs', 'data_source.record_locator.remote_file_path': 'gs://processing-pdfs', 'data_source.url': 'gs://processing-pdfs/1999_cremers_reocr.pdf', 'element_id': 'daf1a4cb-d7fd-4f2a-9940-edca36c36c2b', 'file_directory': './document_processing', 'filename': '1999_cremers_reocr.pdf', 'filetype': 'application/pdf', 'languages': ['eng'], 'last_modified': '2025-01-20T14:15:11', 'orig_elements': 'eJzllk1v2zgQhv8KoVOLdWR+W/Rp08Ztuhs7QeJiD0Eg0NTYZiOLAkVvEhT735eibbRp0wV6yGHTm+adGc4M+Uji9ecMathAE0pbZWOUMVoRJrBm8UFxgyXGXC/lglSFHvElZAOUbSDoSgcd4z9nxjlf2UYH6JJd6we3DeUa7GodokIpxjFnL9/ZKqyjSkZJbZ1tQp93fc1JkReD6BB5cTNAB5tKtrMJLcSTwi4jKln30AXY9FNc2Huor1ptIPsnOvpmy85tfbT7Hj2Y2HRZO6OD80lqvQvOuLrPXnX9lB42LkC5tDWUrU5dR894OIyhBrrONqujtlp2qcLW1z/yD4lSqjRxOfBd6cEZn0d91xgEMMG6pjS17roypi7iOjgveCFpDEjVKxsbjo0+9CXyYeXMNp3Yl0LZPrTRm37C7Acl91HhoU1Rum1rG7cg1h/u3bVuVlu9Smd5nUFc+SapXSg3rrJLC4kSiqk4wuSI4jnhYyLGhPTZbcwsm+1mAf2mkn7CAPc9Bdn049n8w8XHy4vzqwk6PT87OTn/a4aOZyfocnI2OY7idPL29Hj24WqKXk1PL6ev0R+uQ293MwzQxNtb9N45+wn8AL0Hr32F/oR44L6vfBhpbkOdzvxbrjmrFCUguDYUq2pkZFFQUGapheGS6WfjWnKRywFimOS8x/ZgU56rhDEWPOdPCSnjhXEtsWTF/53rpPif+GZ+/SK8c7e34FE6RPTq7u4uXyal64W8qV9/jfNMex/n+BvmffYTWC8NXVC2EFIqbGBEK75QhdaMkIWSWspnw1pIkYsIKWM566k92ELmo0QxYUXi/DshZbwwrOPPCvNfGuuLc/TG3cevGB5FUijDDJ28QWdgK2gGaL4GNIOwBh87rrqfQlypghpFmZIwMpgSMtKYkEJVhEshzPMhzoXK4z+YxQuHSDeSnc0pOVxAItHqCWGX8cIQZxIX7JdGfB65bNeugTH6jRE0IkhQLhgp0PCRwHAU3un7x2FKocnRRtt6jD7l+41Avz/+9sc8yFe7S843rv94ZW7+BcPHoNg=', 'page_number': 1.0, 'type': 'CompositeElement'}, page_content='MULTIPURPOSE HOLDDOWN AND RELEASE MECHANISM (MHRM) Jos Cremers, Erik Gooijer, Gerard Kester\\n\\nFokker Space (www.fokkerspace.nl)\\n\\nPO Box 32070, 2303 DB Leiden, The Netherlands\\n\\nTelephone: +31 71 5245318 / +31 71 5245330 / Fax: +31 71 5245399 E-mail: j.cremers @fokkerspace.nl / e.gooijer@fokkerspace.nl'),\n",
       "  0.353420287,\n",
       "  0.13045175),\n",
       " (Document(id='65041346-620f-4140-bccb-eaecbeef6cd2', metadata={'chunk_overlap': 0.0, 'chunk_size': 400.0, 'data_source.record_locator.protocol': 'gs', 'data_source.record_locator.remote_file_path': 'gs://processing-pdfs', 'data_source.url': 'gs://processing-pdfs/1999_cremers_reocr.pdf', 'element_id': '65041346-620f-4140-bccb-eaecbeef6cd2', 'file_directory': './document_processing', 'filename': '1999_cremers_reocr.pdf', 'filetype': 'application/pdf', 'languages': ['eng'], 'last_modified': '2024-12-26T14:30:40', 'orig_elements': 'eJzllk1v2zgQhv8KoVOLdWR+iRZ92rRxm+7GTpC42EMQCDQ1ttXIokDRmwTF/vcd0TbatOkCPeSw6U3zzgxnhnwk8fpzAjVsoAlFVSZjkgheMpFRI/BBS0sVpdIs1YKVuRnJJSQDkmwgmNIEg/GfE+ucL6vGBOiiXZsHtw3FGqrVOqDCOaWYs5fvqjKsUWWjqLauakKfd30tWZ7mA3RkaX4zIAebK7GzGc+zJ4VdBipJ99AF2PRTXFT3UF+1xkLyDzr6ZovObT3afY8eLDZd1M6a4HyUWu+Cs67us1ddP6WHjQtQLKsaitbErtEzHg4x1ELXVc3qqC2XXayw9fWP/EOmtS4sLge+Kzw461PUd41BABsq1xS2Nl1XYOoC16FpLnPFMSBWLytsGBt96Eukw9LZbTyxL4WSfWhjNv2EyQ9K7qPCQxujTNvWFW4B1h/u3bVpVluzimd5nQCufBPVLhQbV1bLCiIlnHJ5xPgRV3Mmx4KOJe2zW8wsmu1mAf2msn7CAPc9Bcn049n8w8XHy4vzqwk5PT87OTn/a0aOZyfkcnI2OUZxOnl7ejz7cDUlr6anl9PX5A/Xkbe7GQZk4qtb8t656hP4AXkP3viS/Al44L6vfBhpXoU6nvm3XEtRas4gk8ZyqsuRVXnOQdulyaxUwjwb10pmqRoQQVkqe2wPNpepjhjTTKbyKSFmvDCuFVUi/79zHRX/E9/Mr1+Ed+72FjyJh0he3d3dpcuodL2QNvXrr3GeGe9xjr9h3mc/gfXS8gUXi0wpTS2MeCkXOjdGMLbQyij1bFhnKkszhFSIVPTUHuxMpaNIMRN55Pw7IWa8MKzxZ0XlL431xTl54+7xK0ZHSAoXVJCTN+QMqhKaAZmvgcwgrMFjx2X3U4hrnXOrudAKRpZyxkaGMpbrkkmVZfb5EJeZTvEfLPDCkcUbyc6WnB0uIEi0fkLYZbwwxIWiufilEZ8jl+3aNTAmvwlGRoxkXGaC5WT4SBAUhXfm/nGY1mRytDFVPSaf0v1GkN8ff/sxD9LV7pLzjes/XpmbfwFB0KDw', 'page_number': 1.0, 'rag_type': 'Standard', 'type': 'CompositeElement'}, page_content='MULTIPURPOSE HOLDDOWN AND RELEASE MECHANISM (MHRM) Jos Cremers, Erik Gooijer, Gerard Kester\\n\\nFokker Space (www.fokkerspace.nl)\\n\\nPO Box 32070, 2303 DB Leiden, The Netherlands\\n\\nTelephone: +31 71 5245318 / +31 71 5245330 / Fax: +31 71 5245399 E-mail: j.cremers @fokkerspace.nl / e.gooijer@fokkerspace.nl'),\n",
       "  0.353411883,\n",
       "  0.13045175),\n",
       " (Document(id='f2ccded7-a7f1-46c2-a2d3-c940151e5f5b', metadata={'chunk_overlap': 0.0, 'chunk_size': 400.0, 'data_source.record_locator.protocol': 'gs', 'data_source.record_locator.remote_file_path': 'gs://processing-pdfs', 'data_source.url': 'gs://processing-pdfs/1999_christiansen_reocr.pdf', 'element_id': 'f2ccded7-a7f1-46c2-a2d3-c940151e5f5b', 'file_directory': './document_processing', 'filename': '1999_christiansen_reocr.pdf', 'filetype': 'application/pdf', 'languages': ['eng'], 'last_modified': '2025-01-20T14:15:10', 'orig_elements': 'eJztVMFO3DAQ/RUrZ8ja3k023nNRhVrRSktPFEVee7Kx5MSR7QBbxL93bBaKKlqpBy6ot8ybGfvN+L1c3RdgYYAxtkYXG1IsWSX0CpaKg9Yg6VIpRbWsq05UFV+x4oQUA0SpZZRYf18o57w2o4wQcmzlwc2x7cHs+4gI55RizxG+NTr2iLJ1Ridnxpj6rq6W66bkJ0TUvBTXJ+Q5FrSsU1yveElfiXM9AkU4hAhDmuGruQO7naSC4gETiWob3OwxTgw9KKTcWqdkdD5Dk3fRKWdT9z6kGT0MLkLbGQvtJDNnzGwWCyxVEIIZ96eT7kK+Yfb2T/kFE0K0qvcmRCPHAGPrwSlfYvKRHURQ0bixVVaG0GL/Dg+jZcNxNizIFLRB1sj2kO4pF9qpOT/ar9uKY+kohzRm8bd7j6XxMOVSOU3W4DKQxOKYtnLcz3Kf3/SqADz+OqMhtoPTpjOQ1cIpr04pO+X0kq02rNowmron7GzHedhBWi9PY0a4i1lfJflwtj3/eEHOt9tvZ9tU/sTj0kSbn+x3UTaSalHTSjDQ0Khd1TS06jreVdCteaPeTJScsrI6IQyvLqukuieAM1auE9Dwply/Bjy2vEdhihV7H7rMiP+Hf99LIV/2QHYyGEU0BLMfSdoPqpbcykCiI8oDyo9ITN8YBST2MhLlZqvJHI01P1LuBvyBWHdLYAS/P5B0kLSp3aMDZEg1+IUruAGLldLvAeulJq4j518+XZDbHhdGpNb+cd14D4Y7dwPEhDBDKEliirGX1j6RUW6Y8AVAkwA5cxwl4W7EjYTNS2NeSO8zh8s0/CsGlcuaiaYDvZYr2Ym65lCtNeia6o7uWPVmBmWiOtpPlE2y3zOwFiV79CMrV68CueU9GrQRq0b8d+h9Vv73Gf/ZCtU+ABmSDTKgk3FUj4IfEYqBoJ5V9DiLffIimnAA1csxgS/d8BkXc54E83D9EzJW8Xs=', 'page_number': 2.0, 'type': 'CompositeElement'}, page_content='3. DESIGN ISSUES\\n\\nThe basic design problem was to create a device that could utilize a very low energy signal to release a relatively large load of IOKN while addressing the above issues. The overall device comprised several basic components:\\n\\n{ The “prime mover” which converts electrical energy to mechanical'),\n",
       "  0.348811656,\n",
       "  0.101189256),\n",
       " (Document(id='41f93ad2-0421-405c-9e62-eaad106c7c4b', metadata={'chunk_overlap': 0.0, 'chunk_size': 400.0, 'data_source.record_locator.protocol': 'gs', 'data_source.record_locator.remote_file_path': 'gs://processing-pdfs', 'data_source.url': 'gs://processing-pdfs/1999_christiansen_reocr.pdf', 'element_id': '41f93ad2-0421-405c-9e62-eaad106c7c4b', 'file_directory': './document_processing', 'filename': '1999_christiansen_reocr.pdf', 'filetype': 'application/pdf', 'languages': ['eng'], 'last_modified': '2024-12-26T14:30:38', 'orig_elements': 'eJztVMFu2zAM/RXB59SxFNuxcl4xFBu6AelOWWEoEh0LkC1DkttmRf99lJp2xdAN2KGXYjfzkZQeqfe8u8/AwABjaLXKNiRb0YqrElaSgVIgipWUslCirjpeVayk2YJkAwShRBBYf59Ja53SowjgU2zE0c6h7UEf+oAIY0WBPSf4VqvQI0rXCZ2sHkPs2+1W6yZnC8JrlvPrBXmOeZHXMa5LlhevxKkegcwffYAhzvBV34HZTkJC9oCJSLX1dnYYR4YOJFJujZUiWJegydlgpTWx++DjjA4GG6DttIF2EokzZjbLJZZK8F6Ph7NJdT7dMDvzp/yScs5b2Tvtgxajh7F1YKXLMfnIDgLIoO3YSiO8b7F/j4cVecNwNixIFJRG1sj2GO/Jl8rKOT3ar9uyU+kohjhm9rd7T6XhOKVSMU1G4zKQxPKUNmI8zOKQ3nSXAR5/nVAf2sEq3WlIamEFK88oO2P1FS03q2KzamL3hJ3tOA97iOtlccwAdyHpKycfzrcXHy/JxXb77Xwby594XOlg0pP9LspGFIrXRcUpKGjkvmqaouo61lXQrVkj30yUrKB5tSAUr86rqLongFGaryPQsCZfvwY8trxHYfKSvg9dJsT9w7/vpZCveiB74bUkCrw+jCTuB1VLboUnwRLpAOVHBKZvtAQSehGItLNRZA7a6B8xdwPuSIy9JTCCOxxJPEiY2O7QAcLHGvzCFdyAwUrhDoD1QhHbkYsvny7JbY8LI0Ip97huvAfDvb0Bor2fweckMsXYCWOeyEg7TPgCoIiHlDmNEnE74kb85qUxL4VzicNVHP4Vg4pVTXnTgVqLUnS8rhlUawWqLlRX7Gn1ZgalvDrZj+dNtN8zsOY5ffQjzctXgdTyHg3a8LLh/x16n5T/fcZ/tkS1D0CGaIMEqGgc2aPgR4SCJ6hnGRzOYp68iCYcQPZijOBLN3zGxVxEwTxc/wTal/Gl', 'page_number': 2.0, 'rag_type': 'Standard', 'type': 'CompositeElement'}, page_content='3. DESIGN ISSUES\\n\\nThe basic design problem was to create a device that could utilize a very low energy signal to release a relatively large load of IOKN while addressing the above issues. The overall device comprised several basic components:\\n\\n{ The “prime mover” which converts electrical energy to mechanical'),\n",
       "  0.348439872,\n",
       "  0.101189256),\n",
       " (Document(id='3fe13ca9-d50d-4895-9061-ecd3586ed087', metadata={'chunk_overlap': 0.0, 'chunk_size': 400.0, 'data_source.record_locator.protocol': 'gs', 'data_source.record_locator.remote_file_path': 'gs://processing-pdfs', 'data_source.url': 'gs://processing-pdfs/1999_christiansen_reocr.pdf', 'element_id': '3fe13ca9-d50d-4895-9061-ecd3586ed087', 'file_directory': './document_processing', 'filename': '1999_christiansen_reocr.pdf', 'filetype': 'application/pdf', 'languages': ['eng'], 'last_modified': '2025-01-20T13:55:54', 'orig_elements': 'eJztVMFO3DAQ/RUrZ8jG3nU23nNRhVrRSktPFEVee7Kx5MSR7QBbxL93bBaKKlqpBy6ot8ybGfvN+L1c3RdgYYAxtkYXG1IsKRd6BUvFQGuQ1VIpVWlZ805wzla0OCHFAFFqGSXW3xfKOa/NKCOEHFt5cHNsezD7PiLCWFVhzxG+NTr2iNJ1Ridnxpj6rq6W66ZkJ0TUrBTXJ+Q5FlVZp7hesbJ6Jc71CBThECIMaYav5g7sdpIKigdMJKptcLPHODH0oJBya52S0fkMTd5Fp5xN3fuQZvQwuAhtZyy0k8ycMbNZLLBUQQhm3J9Ougv5htnbP+UXVAjRqt6bEI0cA4ytB6d8iclHdhBBRePGVlkZQov9OzysKhuGs2FBpqANska2h3RPudBOzfnRft1WHEtHOaQxi7/deyyNhymXymmyBpeBJBbHtJXjfpb7/KZXBeDx1xkNsR2cNp2BrBZWMX5a0VNWXdLlhvMNX6XuCTvbcR52kNbL0pgR7mLWV0k+nG3PP16Q8+3229k2lT/xuDTR5if7XZSNrLSoKy4oaGjUjjdNxbuOdRy6NWvUm4mSVbTkJ4Ti1SVPqnsCGKXlOgENa8r1a8Bjy3sUpljR96HLjPh/+Pe9FPJlD2Qng1FEQzD7kaT9oGrJrQwkOqI8oPyIxPSNUUBiLyNRbraazNFY8yPlbsAfiHW3BEbw+wNJB0mb2j06QIZUg1+4ghuwWCn9HrBeauI6cv7l0wW57XFhRGrtH9eN92C4czdATAgzhJIkphh7ae0TGeWGCV8ANAmQM8dREu5G3EjYvDTmhfQ+c7hMw79iULmsqWg60Gu5kp2oawZ8rUHXle6qHeVvZlAq+NF+omyS/Z6BtSjpox9puXoVyC3v0aCNWDXiv0Pvs/K/z/jPVqj2AciQbJABnYyjehT8iFAMBPWsosdZ7JMX0YQDqF6OCXzphs+4mPMkmIfrn7Yo8Zw=', 'page_number': 2.0, 'type': 'CompositeElement'}, page_content='3. DESIGN ISSUES\\n\\nThe basic design problem was to create a device that could utilize a very low energy signal to release a relatively large load of IOKN while addressing the above issues. The overall device comprised several basic components:\\n\\n{ The “prime mover” which converts electrical energy to mechanical'),\n",
       "  0.34838894,\n",
       "  None),\n",
       " (Document(id='9fb4685f-18e4-46e7-8b0b-70fdea61977d', metadata={'chunk_overlap': 0.0, 'chunk_size': 400.0, 'data_source.record_locator.protocol': 'gs', 'data_source.record_locator.remote_file_path': 'gs://processing-pdfs', 'data_source.url': 'gs://processing-pdfs/1999_christiansen_reocr.pdf', 'element_id': '9fb4685f-18e4-46e7-8b0b-70fdea61977d', 'file_directory': './document_processing', 'filename': '1999_christiansen_reocr.pdf', 'filetype': 'application/pdf', 'is_continuation': True, 'languages': ['eng'], 'last_modified': '2025-01-20T14:15:10', 'orig_elements': 'eJyNVF1v2zAM/CuCnxPHH3Fm523AnocBK7CHoDBomY4FyJInyUmDov99pJI2xdAVe/TpjjwemRyeE9Q4oQmt6pO9SOpS9ruqyhuQIPuuzxG3Mtt20GCdlzUkK5FMGKCHAMR/TqS1rlcGAvr4reFil9COqI5jIKQosow0N/is+jASmn+J6GyVCaw7HPKmSauVyKsiS7ePK/EGNLs8LRmoi126+wi4SghJ/MUHnHiOH+oJ9c8ZJCYv9MB2W28XR9/s0qEk2622EoJ1EZqdDVZazeqj5zkdTjZgOyiN7QzRN73sNxuiSvRemeN67gcfOyxO/+t9Q6M0rRyd8kGB8Whah1a6lB6v7jCgDMqaVmrwviV9R8WytNnWRU2EaKFX5JrcXrhPuumtXOLi7t2SG9XAxGMmn/W9UcNljlSYZ60oDDKxuT1rMMcFjnGvhwSp/GNEfWgn26tBYbyYIiuqdZavi+wh3+7zap9nrJ5J2Zpl6pDjLSPi7ndWlrTGusjKbVeXAxnNm0EO9dDlW6x2VRNzCfjEJ5R8WxxNJ8KIoscTajvz4AJML34voMnK1bmwQyQ5umnwKCaUIxjlp5UAocEdUVwdMXFYTMwcdCyE5qScNVyYELrm4MUZHYoZ3WDdhH0qvv7VjlnCo1NIXPB3qpDWeE6dXLOny0wSLTzfo3QwhA/bsQ36PaDzVMhTlXcWr4xgxWSNoiN47QVGYipuAb0PhwWMeTUpGv0/5hOgLQnOKowU1z2ot9Z0mnRn91Tfe4jmTxTFcBGE0UFGZKLQlfGxqDJxOW/yVPwa6QLF7NCzqxgpi3rl5UIHfV0oaP2618+XH7dBtRbNWdJkHV4ssVjppZ3xWkbRnoCcryiao4lyc9eFEfhD0/8Zj8zaDrySgvQObsuQMEOntAq8+MFqbc8p3/zrj+k7OOae8IEP+OXxD7TL2pI=', 'page_number': 3.0, 'type': 'CompositeElement'}, page_content='mechanism performance and verify forces and margins within the mechanism. While presentation and discussion of all of the development and qualification test results are beyond the scope of this paper, significant results that relate to the basic operational capabilities follow.'),\n",
       "  0.323249459,\n",
       "  None),\n",
       " (Document(id='e315ea87-3d54-482d-9435-18520799549c', metadata={'chunk_overlap': 0.0, 'chunk_size': 400.0, 'data_source.record_locator.protocol': 'gs', 'data_source.record_locator.remote_file_path': 'gs://processing-pdfs', 'data_source.url': 'gs://processing-pdfs/1999_christiansen_reocr.pdf', 'element_id': 'e315ea87-3d54-482d-9435-18520799549c', 'file_directory': './document_processing', 'filename': '1999_christiansen_reocr.pdf', 'filetype': 'application/pdf', 'is_continuation': True, 'languages': ['eng'], 'last_modified': '2025-01-20T13:55:54', 'orig_elements': 'eJyNVF1v2zAM/CuCnxPHH3Fm523AnocBK7CHoDBomY4FyJInyUmDov99pJI2xdAVe/TpjjwemRyeE9Q4oQmt6pO9SOpS9ruqyhuQIPuuzxG3Mtt20GCdlzUkK5FMGKCHAMR/TqS1rlcGAvr4reFil9COqI5jIKQosow0N/is+jASmn+J6GyVCaw7HPKmSauVyKsiS7ePK/EGNLs8LRmoi126+wi4SghJ/MUHnHiOH+oJ9c8ZJCYv9MB2W28XR9/s0qEk2622EoJ1EZqdDVZazeqj5zkdTjZgOyiN7QzRN73sNxuiSvRemeN67gcfOyxO/+t9Q6M0rRyd8kGB8Whah1a6lB6v7jCgDMqaVmrwviV9R8WytNnWRU2EaKFX5JrcXrhPuumtXOLi7t2SG9XAxGMmn/W9UcNljlSYZ60oDDKxuT1rMMcFjnGvhwSp/GNEfWgn26tBYbyYIiuqdZavi+whL/dVta+2rJ5J2Zpl6pDjLSPi7ndWlrTGusjKbVeXAxnNm0EO9dDlW6x2VRNzCfjEJ5R8WxxNJ8KIoscTajvz4AJML34voMnK1bmwQyQ5umnwKCaUIxjlp5UAocEdUVwdMXFYTMwcdCyE5qScNVyYELrm4MUZHYoZ3WDdhH0qvv7VjlnCo1NIXPB3qpDWeE6dXLOny0wSLTzfo3QwhA/bsQ36PaDzVMhTlXcWr4xgxWSNoiN47QVGYipuAb0PhwWMeTUpGv0/5hOgLQnOKowU1z2ot9Z0mnRn91Tfe4jmTxTFcBGE0UFGZKLQlfGxqDJxOW/yVPwa6QLF7NCzqxgpi3rl5UIHfV0oaP2618+XH7dBtRbNWdJkHV4ssVjppZ3xWkbRnoCcryiao4lyc9eFEfhD0/8Zj8zaDrySgvQObsuQMEOntAq8+MFqbc8p3/zrj+k7OOae8IEP+OXxD9aU2p0=', 'page_number': 3.0, 'type': 'CompositeElement'}, page_content='mechanism performance and verify forces and margins within the mechanism. While presentation and discussion of all of the development and qualification test results are beyond the scope of this paper, significant results that relate to the basic operational capabilities follow.'),\n",
       "  0.32290107,\n",
       "  None),\n",
       " (Document(id='447b67fb-0234-4b3b-b628-3daee675dc8a', metadata={'chunk_overlap': 0.0, 'chunk_size': 400.0, 'data_source.record_locator.protocol': 'gs', 'data_source.record_locator.remote_file_path': 'gs://processing-pdfs', 'data_source.url': 'gs://processing-pdfs/1999_christiansen_reocr.pdf', 'element_id': '447b67fb-0234-4b3b-b628-3daee675dc8a', 'file_directory': './document_processing', 'filename': '1999_christiansen_reocr.pdf', 'filetype': 'application/pdf', 'is_continuation': True, 'languages': ['eng'], 'last_modified': '2024-12-26T14:30:38', 'orig_elements': 'eJyNVF1v2zAM/CuCnxPHX8nsvA3Y8zBgBfYQFAYt07EAWfIkOWlQ9L+PVNKmGLpijz7dkccjk8NzghonNKFVfbIXSV3Kfrfd5g1IkH3X54iVzKoOGqzzsoZkJZIJA/QQgPjPibTW9cpAQB+/NVzsEtoR1XEMhBRFlpHmBp9VH0ZC8y8Rna0ygXWHQ9406XYl8m2RpdXjSrwBzS5PSwbqYpfuPgKuEkISf/EBJ57jh3pC/XMGickLPbDd1tvF0Te7dCjJdquthGBdhGZng5VWs/roeU6Hkw3YDkpjO0P0TS/7zYaoEr1X5rie+8HHDovT/3rf0ChNK0enfFBgPJrWoZUupcerOwwog7KmlRq8b0nfUbEsbaq6qIkQLfSKXJPbC/dJN72VS1zcvVtyoxqYeMzks743arjMkQrzrBWFQSY2t2cN5rjAMe71kCCVf4yoD+1kezUojBdTZEW1zot1sXvIq32Z7cua1TMpW7NMHXK8ZUTc/c7KktZYF1lZdXU5kNG8GeRQD11e4Xa3bWIuAZ/4hJJvi6PpRBhR9HhCbWceXIDpxe8FNFm5Ohd2iCRHNw0exYRyBKP8tBIgNLgjiqsjJg6LiZmDjoXQnJSzhgsTQtccvDijQzGjG6ybsE/F17/aMUt4dAqJC/5OFdIaz6mTa/Z0mUmihed7lA6G8GE7tkG/B3SeCnmq8s7ilRGsmKxRdASvvcBITMUtoPfhsIAxryZFo//HfAK0JcFZhZHiugf11ppOk+7snup7D9H8iaIYLoIwOsiITBS6Mj4WVSYu502eil8jXaCYHXp2FSNlUa+8XOigrwsFrV/3+vny4zao1qI5S5qsw4slFiu9tDNeyyjaE5DzFUVzNFFu7rowAn9o+j/jkVnbgVdSkN7BbRkSZuiUVoEXP1it7Tnlm3/9MX0Hx9wTPvABvzz+Ad/02qA=', 'page_number': 3.0, 'rag_type': 'Standard', 'type': 'CompositeElement'}, page_content='mechanism performance and verify forces and margins within the mechanism. While presentation and discussion of all of the development and qualification test results are beyond the scope of this paper, significant results that relate to the basic operational capabilities follow.'),\n",
       "  0.322788388,\n",
       "  None),\n",
       " (Document(id='5d700f48-6b29-4dc3-99c0-04bb756c0189', metadata={'chunk_overlap': 0.0, 'chunk_size': 400.0, 'data_source.record_locator.protocol': 'gs', 'data_source.record_locator.remote_file_path': 'gs://processing-pdfs', 'data_source.url': 'gs://processing-pdfs/1999_christiansen_reocr.pdf', 'element_id': '5d700f48-6b29-4dc3-99c0-04bb756c0189', 'file_directory': './document_processing', 'filename': '1999_christiansen_reocr.pdf', 'filetype': 'application/pdf', 'languages': ['eng'], 'last_modified': '2025-01-20T14:15:10', 'orig_elements': 'eJx9U8tu2zAQ/JWFTi1gy5Js2ZJvvfTWB5DcgkBYkSuJKEUKJG3XDfLvXTJOk0Pbk8XZ2Z3Zhx+eMtI0kwmdktkRsmJXNENVtGVVblspkZph3wjcl4ddf+hxm60gmymgxIDMf8qEtU4qg4F8emu82lPoJlLjFBipqqLgnBt8UTJMjJaHhC5WmRDzHh7Kts3bFZT1oc6bxxX8AZq6yasINFWTl38DXlIYyfzVB5pjH9/VT9J3CwrKnjkQ7Xbenhy/o0tHgm132goM1iVocTZYYXXMHn3s09FsA3WD0tQtmHxz5LjZMFWQ98qM60UOPimcnP5XfMOttJ2YnPJBofFkOkdWuJyDL+4okAjKmk5o9L7j/J6LFXlbV9s9E5IFqdg1u71GnXwjrTilxb2pZTeqwTm2mf1P90YN1yVRcVm04mGwic0trNGMJxzTXh8y4vKPCfWhm61Ug6J0MVVR1euiXFfFfbk7lvWxLGL2wpmdOc09xfFWCXFvd9a0u7qhopX7fUHbeGy4a/e7qugrWRW4T3MJ9DOeUHZHZ3KoYWBtQJ6UGVfgaH3yhL0mEHZerOHiHgQa6Ak+oJEw4Zn4QeYjMFNCsMw0XCoAH70IjhvWQIbceI3BmcSEJoEX637k8Gm2ZoQwkSdg87Ao+mXXr7nvZFfAl2Id/3rL47dK8me04CdciAvPvDZAre0VPtx9+fTxXW4O34abxrs+mATKRBwG62awA1x4/9yTT2BPPArm9/Gvx0uLhIEwnBz5mMEkxUzeboxIOitBOXx+DUjyajSAL0XzCuY5yknFlxPIJe91EVEdR3BhVTFZvqAc7mP+VZGWPFKMWiJpHPItfKVLsMaDPccaXM4HNC/hMq+5XB5P4/XmvqJzbP5M93HPz4+/Abv/fLw=', 'page_number': 2.0, 'type': 'CompositeElement'}, page_content='Several fast acting, re-useable components can be (and have been) used to convert electrical energy to mechanical work. Among these are piezo-electric components, motors, solenoids, and shape memory alloy (SMA) components. Of these components SMA in the form of wire has the best combination of features for this type of device. For this design a wire .2 mm in diameter and 50 mm long was chosen.'),\n",
       "  0.317302495,\n",
       "  None),\n",
       " (Document(id='115d1863-520b-4130-8e16-7d66bb5f8818', metadata={'chunk_overlap': 0.0, 'chunk_size': 400.0, 'data_source.record_locator.protocol': 'gs', 'data_source.record_locator.remote_file_path': 'gs://processing-pdfs', 'data_source.url': 'gs://processing-pdfs/1999_christiansen_reocr.pdf', 'element_id': '115d1863-520b-4130-8e16-7d66bb5f8818', 'file_directory': './document_processing', 'filename': '1999_christiansen_reocr.pdf', 'filetype': 'application/pdf', 'languages': ['eng'], 'last_modified': '2024-12-26T14:30:38', 'orig_elements': 'eJx9U8tu2zAQ/JWFTg1gy5L8knzLpbemBZJbEAgrciURpUiBpO24Qf69S8Zpcmh7sjg7uzP78ONLRpomMqFVMjtAVmyKuq+KpqzKdSMlUt3vaoG7cr/p9h2uswVkEwWUGJD5L5mw1kllMJBPb40XewztSGoYAyNVVRScc4XPSoaR0XKf0NkqE2Le42PZNHmzgHK73+b10wL+APW2zqsI1FWdl38D3lIYyfzFB5piHz/UM+n7GQVlrxyIdltvj47f0aUjwbZbbQUG6xI0OxussDpmDz726WiygdpeaWpnTL45clitmCrIe2WG5Sx7nxSOTv8rvuJWmlaMTvmg0HgyrSMrXM7BN3cUSARlTSs0et9yfsfFirzZVusdE5IFqdg1u71EnXwlrTimxX2oZVeqwSm2mf1P90oNlzlRcZ614mGwidU1rNEMRxzSXh8z4vJPCfWhnaxUvaJ0MVVRbZZltax2D+XmsC4O6zpmz5zZmuPUURxvlRD3cWd1s9nWVDRytytoHY8NN81uUxVdJasCd2kugZ7jCWX3dCKHGnrWBuRJmWEBjpZHT9hpAmGn2Rou7kGggY7gCxoJI56IH2RugJkSgmWm4VIB+OhFcNywBjLkhksMTiRGNAk8W/czh9vJmgHCSJ6AzcOs6Jddvud+kl0AX4p1/Ostj98qyZ/Rgh9xJi488doAtbYX+HL/7fbmU24O3/urxqc+mATKRBx66yawPZx5/9yTT2BHPArmd/Gvx0uLhJ4wHB35mMEkxUzeboxIOilBOXx9D0jyajCAb0XzCqYpyknFlxPIJe/bIqI6juDMqmK0fEE5PMT8iyIteaQYtUTS2OdruKNzsMaDPcUaXM4HNG/hMt9yuTyexvvN3aFzbP5ED3HPr0+/AdtKfMo=', 'page_number': 2.0, 'rag_type': 'Standard', 'type': 'CompositeElement'}, page_content='Several fast acting, re-useable components can be (and have been) used to convert electrical energy to mechanical work. Among these are piezo-electric components, motors, solenoids, and shape memory alloy (SMA) components. Of these components SMA in the form of wire has the best combination of features for this type of device. For this design a wire .2 mm in diameter and 50 mm long was chosen.'),\n",
       "  0.317214191,\n",
       "  None),\n",
       " (Document(id='0f3b230c-754d-4c09-a7f6-ea87a92c021e', metadata={'chunk_overlap': 0.0, 'chunk_size': 400.0, 'data_source.record_locator.protocol': 'gs', 'data_source.record_locator.remote_file_path': 'gs://processing-pdfs', 'data_source.url': 'gs://processing-pdfs/1999_christiansen_reocr.pdf', 'element_id': '0f3b230c-754d-4c09-a7f6-ea87a92c021e', 'file_directory': './document_processing', 'filename': '1999_christiansen_reocr.pdf', 'filetype': 'application/pdf', 'languages': ['eng'], 'last_modified': '2025-01-20T13:55:54', 'orig_elements': 'eJx9U8tu2zAQ/JWFTi1gy5Js2ZJvvfTWB5DcgkBYkSuJKEUKJG3XDfLvXTJOk0Pbk8XZ2Z3Zhx+eMtI0kwmdktkRsmJXNENVtGVVblspkZph3wjcl4ddf+hxm60gmymgxIDMf8qEtU4qg4F8emu82lPoJlLjFBipqqLgnBt8UTJMjJaHhC5WmRDzHh7Kts3bFZT1oc6bxxX8AZq6yasINFWTl38DXlIYyfzVB5pjH9/VT9J3CwrKnjkQ7Xbenhy/o0tHgm132goM1iVocTZYYXXMHn3s09FsA3WD0tQtmHxz5LjZMFWQ98qM60UOPimcnP5XfMOttJ2YnPJBofFkOkdWuJyDL+4okAjKmk5o9L7j/J6LFXlbV9s9E5IFqdg1u71GnXwjrTilxb2pZTeqwTm2mf1P90YN1yVRcVm04mGwic0trNGMJxzTXh8y4vKPCfWhm61Ug6J0MVVR1euiXFfFfbk91vWx3sXshTM7c5p7iuOtEuLe7qxpd3VDRSv3+4K28dhw1+53VdFXsipwn+YS6Gc8oeyOzuRQw8DagDwpM67A0frkCXtNIOy8WMPFPQg00BN8QCNhwjPxg8xHYKaEYJlpuFQAPnoRHDesgQy58RqDM4kJTQIv1v3I4dNszQhhIk/A5mFR9MuuX3Pfya6AL8U6/vWWx2+V5M9owU+4EBeeeW2AWtsrfLj78unju9wcvg03jXd9MAmUiTgM1s1gB7jw/rknn8CeeBTM7+Nfj5cWCQNhODnyMYNJipm83RiRdFaCcvj8GpDk1WgAX4rmFcxzlJOKLyeQS97rIqI6juDCqmKyfEE53Mf8qyIteaQYtUTSOORb+EqXYI0He441uJwPaF7CZV5zuTyexuvNfUXn2PyZ7uOenx9/A9R1fMc=', 'page_number': 2.0, 'type': 'CompositeElement'}, page_content='Several fast acting, re-useable components can be (and have been) used to convert electrical energy to mechanical work. Among these are piezo-electric components, motors, solenoids, and shape memory alloy (SMA) components. Of these components SMA in the form of wire has the best combination of features for this type of device. For this design a wire .2 mm in diameter and 50 mm long was chosen.'),\n",
       "  0.316970587,\n",
       "  None),\n",
       " (Document(id='b6ed0b30-3f26-4f4e-ae5f-0dbfa33d9f50', metadata={'chunk_overlap': 0.0, 'chunk_size': 400.0, 'data_source.record_locator.protocol': 'gs', 'data_source.record_locator.remote_file_path': 'gs://processing-pdfs', 'data_source.url': 'gs://processing-pdfs/1999_christiansen_reocr.pdf', 'element_id': 'b6ed0b30-3f26-4f4e-ae5f-0dbfa33d9f50', 'file_directory': './document_processing', 'filename': '1999_christiansen_reocr.pdf', 'filetype': 'application/pdf', 'languages': ['eng'], 'last_modified': '2024-12-26T14:30:38', 'orig_elements': 'eJzdVF1vmzAU/SsWT42UEsw3fUOpl0VqkwyoNqmqkGNfEksEI3C2RtX++2zCumpq97aH9g3OPefec83B908W1HCARpWCW1fIgnCbhJWHA99hlAfcwTwKoqSKvYiHUQTWFFkHUJRTRTX/yWJSdlw0VEE/vNf0JI+q3IPY7ZVGXNdxtGaEfwiu9hrF0YC2UjTK6O7vcRLbeIowDiM7eZiiZ8B1se0YINIPwWvAWaIRqz/1Cg5mj414hDpvKQPrpy4Yu2Uvj51+Ny47YNp2WUtGlewGqO2kkkzWRr3rzZ4dHKSCshI1lC0dfOvK1WymqQz6XjS7y5ZX/TDh2NVv1Wc4SZKS7TvRK0GbHpqyA8k6WxfP7kABU0I2Jatp35dav9XNHDvy4iTRhMECF9q1dnsyc+wZl+w4fLg/06yR2tCDWdP619yRqk7tQKVtWwt9GNrEbCzXtNkd6W74rvcW6PYPA9qr8iC5qAQMiXEd17/E7qUbFti/8pwrLzbqVivL5njYgjle36yp4NEkwvokdscOELbRp/r0Yw9QT1En6xq6KaINRz3szGLAUXNUSLbQDb5s0/a33xXtDPodCtNUd/87yInnsmALNIKq0pGpOEQVUOZVAWxpXNH/FmTXd20NYc91zjF9BuIxt174FjBI3nGQP1ZOM3J9t7pOVwXKN9lytchRsUbZukgL8jKKhVA1vBbB0MO+x90gqOLE8yJg25CzOHYD7jHfr7b/LYJekNixyRMObX8I2AhoGzYeLlc/Ce3oVeQseschfPs2jcOPd5nO17ebjOT5cr1C84zobOqUZl/uCFrfFSRDWTon6CYt5p/Jta4sFjckRxfut8kZRGl2iy7WK4I2SzInE5SRIl2u8mcqnqD8NkVfl3rIGP5B406eKRm5IWlOkDd5OZOsFumCjJL8ZWXkX7/8iZYHvaL18+EXB8ylkQ==', 'page_number': 4.0, 'rag_type': 'Standard', 'type': 'CompositeElement'}, page_content='Figure 1. Flywheel, roller, and segmented nut operation.\\n\\nREDUNDANT SPRINGS TO ROTATE\\n\\nCOMPRESSION CREATE TORQUE OUTER RACE LATCHED TOGGLES (2X) LATCH ARM (ONE PIECE) RETAINS TOGGLES 1) SMA WIRES ROTATE ARM 2) TOGGLES RELEASE 3) OUTER RACE ENGAGE ROTATES OUTER RACE RELEASED'),\n",
       "  0.315316647,\n",
       "  None),\n",
       " (Document(id='4b088fd5-09fe-4a87-8eec-1df3ffff91e6', metadata={'chunk_overlap': 0.0, 'chunk_size': 400.0, 'data_source.record_locator.protocol': 'gs', 'data_source.record_locator.remote_file_path': 'gs://processing-pdfs', 'data_source.url': 'gs://processing-pdfs/1999_christiansen_reocr.pdf', 'element_id': '4b088fd5-09fe-4a87-8eec-1df3ffff91e6', 'file_directory': './document_processing', 'filename': '1999_christiansen_reocr.pdf', 'filetype': 'application/pdf', 'languages': ['eng'], 'last_modified': '2025-01-20T14:15:10', 'orig_elements': 'eJzdVF1vmzAU/SsWT42UEsw3fUOpl0VqkwyoNqmqkGNfEksEI3C2RtX++2zCumpq97aH9g3OPefec83B908W1HCARpWCW1fIgnCbhJWHA99hlAfcwTwKoqSKvYiHUQTWFFkHUJRTRTX/yWJSdlw0VEE/vNf0JI+q3IPY7ZVGXNdxtGaEfwiu9hrF0YC2UjTK6O7vcRLbeIowDiM7eZiiZ8B1se0YINIPwWvAWaIRqz/1Cg5mj414hDpvKQPrpy4Yu2Uvj51+Ny47YNp2WUtGlewGqO2kkkzWRr3rzZ4dHKSCshI1lC0dfOvK1WymqQz6XjS7y5ZX/TDh2NVv1Wc4SZKS7TvRK0GbHpqyA8k6WxfP7kABU0I2Jatp35dav9XNHDvy4iTRhMECF9q1dnsyc+wZl+w4fLg/06yR2tCDWdP619yRqk7tQKVtWwt9GNrEbCzXtNkd6W74rvcW6PYPA9qr8iC5qAQMiXEdN7h08KXrFNi/wsEVdoy61cqyOR62YI7XN2sqeDSJsD6J3bEDhG30qT792APUU9TJuoZuimjDUQ87sxhw1BwVki10gy/btP3td0U7g36HwjTV3f8OcuK5LNgCjaCqdGQqDlEFlHlVAFsaV/S/Bdn1XVtD2HOdc0yfgXjMrRe+BQySdxzkj5XTjFzfra7TVYHyTbZcLXJUrFG2LtKCvIxiIVQNr0Uw9LDvcTcIqjjxvAjYNuQsjt2Ae8z3q+1/i6AXJHZs8oRD2x8CNgLaho2Hy9VPQjt6FTmL3nEI375N4/DjXabz9e0mI3m+XK/QPCM6mzql2Zc7gtZ3BclQls4JukmL+WdyrSuLxQ3J0YX7bXIGUZrdoov1iqDNkszJBGWkSJer/JmKJyi/TdHXpR4yhn/QuJNnSkZuSJoT5E1eziSrRbogoyR/WRn51y9/ouVBr2j9fPgFcJqlZw==', 'page_number': 4.0, 'type': 'CompositeElement'}, page_content='Figure 1. Flywheel, roller, and segmented nut operation.\\n\\nREDUNDANT SPRINGS TO ROTATE\\n\\nCOMPRESSION CREATE TORQUE OUTER RACE LATCHED TOGGLES (2X) LATCH ARM (ONE PIECE) RETAINS TOGGLES 1) SMA WIRES ROTATE ARM 2) TOGGLES RELEASE 3) OUTER RACE ENGAGE ROTATES OUTER RACE RELEASED'),\n",
       "  0.31499967,\n",
       "  None),\n",
       " (Document(id='aa4efd66-6c48-4811-b7f4-5d470af53e61', metadata={'chunk_overlap': 0.0, 'chunk_size': 400.0, 'data_source.record_locator.protocol': 'gs', 'data_source.record_locator.remote_file_path': 'gs://processing-pdfs', 'data_source.url': 'gs://processing-pdfs/1999_christiansen_reocr.pdf', 'element_id': 'aa4efd66-6c48-4811-b7f4-5d470af53e61', 'file_directory': './document_processing', 'filename': '1999_christiansen_reocr.pdf', 'filetype': 'application/pdf', 'languages': ['eng'], 'last_modified': '2025-01-20T13:55:54', 'orig_elements': 'eJzdVF1vmzAU/SsWT42UEsw3fUOpl0VqkwyoNqmqkGNfEksEI3C2RtX++2zCumpq97aH9g3OPefec83B908W1HCARpWCW1fIgnCbhJWHA99hlAfcwTwKoqSKvYiHUQTWFFkHUJRTRTX/yWJSdlw0VEE/vNf0JI+q3IPY7ZVGXNdxtGaEfwiu9hrF0YC2UjTK6O7vcRLbeIowDiM7eZiiZ8B1se0YINIPwWvAWaIRqz/1Cg5mj414hDpvKQPrpy4Yu2Uvj51+Ny47YNp2WUtGlewGqO2kkkzWRr3rzZ4dHKSCshI1lC0dfOvK1WymqQz6XjS7y5ZX/TDh2NVv1Wc4SZKS7TvRK0GbHpqyA8k6WxfP7kABU0I2Jatp35dav9XNHDvy4iTRhMECF9q1dnsyc+wZl+w4fLg/06yR2tCDWdP619yRqk7tQKVtWwt9GNrEbCzXtNkd6W74rvcW6PYPA9qr8iC5qAQMiXEdN7h08KXrFNi7CoKrwDfqVivL5njYgjle36yp4NEkwvokdscOELbRp/r0Yw9QT1En6xq6KaINRz3szGLAUXNUSLbQDb5s0/a33xXtDPodCtNUd/87yInnsmALNIKq0pGpOEQVUOZVAWxpXNH/FmTXd20NYc91zjF9BuIxt174FjBI3nGQP1ZOM3J9t7pOVwXKN9lytchRsUbZukgL8jKKhVA1vBbB0MO+x90gqOLE8yJg25CzOHYD7jHfr7b/LYJekNixyRMObX8I2AhoGzYeLlc/Ce3oVeQseschfPs2jcOPd5nO17ebjOT5cr1C84zobOqUZl/uCFrfFSRDWTon6CYt5p/Jta4sFjckRxfut8kZRGl2iy7WK4I2SzInE5SRIl2u8mcqnqD8NkVfl3rIGP5B406eKRm5IWlOkDd5OZOsFumCjJL8ZWXkX7/8iZYHvaL18+EX5vmliA==', 'page_number': 4.0, 'type': 'CompositeElement'}, page_content='Figure 1. Flywheel, roller, and segmented nut operation.\\n\\nREDUNDANT SPRINGS TO ROTATE\\n\\nCOMPRESSION CREATE TORQUE OUTER RACE LATCHED TOGGLES (2X) LATCH ARM (ONE PIECE) RETAINS TOGGLES 1) SMA WIRES ROTATE ARM 2) TOGGLES RELEASE 3) OUTER RACE ENGAGE ROTATES OUTER RACE RELEASED'),\n",
       "  0.314935327,\n",
       "  None),\n",
       " (Document(id='ef43a39c-18aa-4c0d-b836-010e5b58bb14', metadata={'chunk_overlap': 0.0, 'chunk_size': 400.0, 'data_source.record_locator.protocol': 'gs', 'data_source.record_locator.remote_file_path': 'gs://processing-pdfs', 'data_source.url': 'gs://processing-pdfs/1999_christiansen_reocr.pdf', 'element_id': 'ef43a39c-18aa-4c0d-b836-010e5b58bb14', 'file_directory': './document_processing', 'filename': '1999_christiansen_reocr.pdf', 'filetype': 'application/pdf', 'languages': ['eng'], 'last_modified': '2025-01-20T13:55:54', 'orig_elements': 'eJzdVctOGzEU/RVrVq0UJvN+ZBfooiyACtJVhEaOfWdiyTMebA8Qof57r51QWpRW6oJNluc+z33Z65cAJPQw2EbwYEGCmtUsjzJOiyxP87RIi7zmZRLXBeR5HsfBjAQ9WMqppWj/EjClNBcDtWA8lnSnJttsQXRbi5IkiSL0OYifBLdblMall45KDNb5rddZWoTVjGCOsLyfkV+4zMLC4bzKw/gI9vYoCMzOWOhdDd/EM8i7kTIIfqDCUW2MmjRix1ADQ8qNVIxapb1o1MoqpqTz7oyrUUOvLDStkNCM1HNGzWI+R1MGxoihOxt5a3yGScu/6edxXdcN22phrKCDgaHRoJgOUblnBxaYFWpomKTGNOi/wWBRWBVRlqGBp8AFska2O5cnnHPFJj+0t2zBwXSgvSsz+Ffeg6ndjd6UjqMU2AwkMT+oJR26iXZ+pusAMPy9lxrb9IqLVoDfliRK8rMoPkuiVZwu8nyRZ857RM9mmPoNuPbGrkwLz24bguX53ep2ebFyZq/5V8JKP6r3y9hGVVTGbVonURZFVRzDpgZepG1d0jKH5MOWMa7LsJ6RIk72y3bAVVKFqcNVUrrle4/39qe4jDWefnwSy+gl+j8evD+2l2jcUGqA9MC2dBCmJxuEnKiBUGKgc41AOEyW0IGj7G5LRyBXOEG9I0sp1Y58urtafiZP2EViteg60OSJGsLBiG5AZ+f4MFHpK3uL38EAmkqk8DChr8tkSKs0sVsgK+TlAjCCU+g07UNyTh3cRyXCmAnMgRPKmBaj6zFRrffn8CgYEOwMBgDjqwjJV7wb6W7HeDswFrObSdp9JJwZjkoSNSIxF82zM6PCER8JzIVhk8Fqwt+v/5pq5/wIK9fkY68ATbKiLDctTzPKNxu3ilXLqk1KaZ2X0Ye9AmlZuKuvo3T/Jb3iJN9ffZGlYXEEe/tTfAWqMipO70uKQ3J5vbq9+fL9YnV5c33kZ7r/CS0r6Z0=', 'page_number': 1.0, 'type': 'CompositeElement'}, page_content='ABSTRACT\\n\\nA release mechanism based on a segmented nut and a Shape Memory Alloy (SMA) wire trigger was designed and qualified based on general requirements for the Teledesic program. Basic design issues and a description of the device are presented. Highlights of test results and typical operational response of the device are discussed.\\n\\n1. INTRODUCTION'),\n",
       "  0.31463626,\n",
       "  None),\n",
       " (Document(id='9dd1b8f4-30db-476d-8471-223cb0276ecc', metadata={'chunk_overlap': 0.0, 'chunk_size': 400.0, 'data_source.record_locator.protocol': 'gs', 'data_source.record_locator.remote_file_path': 'gs://processing-pdfs', 'data_source.url': 'gs://processing-pdfs/1999_christiansen_reocr.pdf', 'element_id': '9dd1b8f4-30db-476d-8471-223cb0276ecc', 'file_directory': './document_processing', 'filename': '1999_christiansen_reocr.pdf', 'filetype': 'application/pdf', 'languages': ['eng'], 'last_modified': '2024-12-26T14:30:38', 'orig_elements': 'eJzdVctOGzEU/RVrVq0UJvN+ZBfooiyACtJVhEaOfWdiyTMebA8Qof57r51QWpRW6oJNluc+z33Z65cAJPQw2EbwYEGCmtUsjzJOiyxP87RIi7zmZRLXBeR5HsfBjAQ9WMqppWj/EjClNBcDtWA8lnSnJttsQXRbi5IkiSL0OYifBLdblMall45KDNb5rddZWoTVjGCOsLyfkV+4zMLC4bzKw/gI9vYoCMzOWOhdDd/EM8i7kTIIfqDCUW2MmjRix1ADQ8qNVIxapb1o1MoqpqTz7oyrUUOvLDStkNCM1HNGzWI+R1MGxoihOxt5a3yGScu/6edxXdcN22phrKCDgaHRoJgOUblnBxaYFWpomKTGNOi/wWBRWBVRlqGBp8AFska2O5cnnHPFJj+0t2zBwXSgvSsz+Ffeg6ndjd6UjqMU2AwkMT+oJR26iXZ+pusAMPy9lxrb9IqLVoDfliRKsrM4OUuKVZwt0miRVs57RM9mmPoNuPbGrkwLz24bguX53ep2ebFyZq/5V8JKP6r3y9hGVVTGbVonURZFVRzDpgZepG1d0jKH5MOWMa7LsJ6RIk72y3bAVVKFqcNVUrrle4/39qe4jDWefnwSy+gl+j8evD+2l2jcUGqA9MC2dBCmJxuEnKiBUGKgc41AOEyW0IGj7G5LRyBXOEG9I0sp1Y58urtafiZP2EViteg60OSJGsLBiG5AZ+f4MFHpK3uL38EAmkqk8DChr8tkSKs0sVsgK+TlAjCCU+g07UNyTh3cRyXCmAnMgRPKmBaj6zFRrffn8CgYEOwMBgDjqwjJV7wb6W7HeDswFrObSdp9JJwZjkoSNSIxF82zM6PCER8JzIVhk8Fqwt+v/5pq5/wIK9fkY68ATbKiLDctTzPKNxu3ilXLqk1KaZ2X0Ye9AmlZuKuvo3T/Jb3iJN9ffZGlYXEEe/tTfAWqMipO70uKQ3J5vbq9+fL9YnV5c33kZ7r/CU/Y6aY=', 'page_number': 1.0, 'rag_type': 'Standard', 'type': 'CompositeElement'}, page_content='ABSTRACT\\n\\nA release mechanism based on a segmented nut and a Shape Memory Alloy (SMA) wire trigger was designed and qualified based on general requirements for the Teledesic program. Basic design issues and a description of the device are presented. Highlights of test results and typical operational response of the device are discussed.\\n\\n1. INTRODUCTION'),\n",
       "  0.31461668,\n",
       "  None),\n",
       " (Document(id='23a1b78b-31b2-4bea-b161-d410ecef3c06', metadata={'chunk_overlap': 0.0, 'chunk_size': 400.0, 'data_source.record_locator.protocol': 'gs', 'data_source.record_locator.remote_file_path': 'gs://processing-pdfs', 'data_source.url': 'gs://processing-pdfs/1999_christiansen_reocr.pdf', 'element_id': '23a1b78b-31b2-4bea-b161-d410ecef3c06', 'file_directory': './document_processing', 'filename': '1999_christiansen_reocr.pdf', 'filetype': 'application/pdf', 'languages': ['eng'], 'last_modified': '2025-01-20T14:15:10', 'orig_elements': 'eJzdVctu1DAU/RUrK5DajJ13uiuwoAtaRIfVqIo89k3GkhOntkM7Qvw7154pBTQgsWDT5bnPc1/25msCGkaYfKdkckGSVrSipIXkVVHmZV7lVdnKOmNtBWVZMpackWQEzyX3HO2/JsIYK9XEPbiINd+bxXc7UMPOoyTLKEWfo/hBSb9DKaujdDZq8sFvsynyKm3OCOZI67sz8gPXRVoFXDZlyk7gaI+CxO2dhzHU8FE9gr6duYDkGyoC1c6ZxSIODC0IpNxpI7g3Nopma7wRRgfvwYUaLYzGQ9crDd3MI2fUXKxWaCrAOTUN57PsXcywWP0n/Yq1bduJnVXOKz45mDoLRtgUlQd24EF4ZaZOaO5ch/5bDEbTpqJFgQaRglTIGtnuQ550JY1Y4tCesyVH04mPoczkb3mPpn4/R1M+z1phM5DE6qjWfBoWPsSZbhLA8HdR6nw3Gql6BXFbMpqV55SdZ3TNigtWXjAavGf07KZl3EJoLwtlengM25Bcvrldf7p8uw5mT/nXyus4qt+XsacNrVmftxktKG0Yg20Lssr7tuZ1Cdl/W0bW1ml7RiqWHZbtiJusSfOAm6wOy/c7Pti/xGVs8fTZi1jGKLH/8OD9sr3E4oZyB2QEseOTciPZIpTETIQTB0NoBMJp8YRPEmW3Oz4D+YATtHtyqbXZk1e3Hy5fkwfsIvFWDQNY8sAdkeDUMKFzcLxfuI6VPccfYALLNVK4X9A3ZHKkN5b4HZA18goBBMEpDJaPKXnDAzxEJcq5BdyRE8qEVXPoMTF99JfwRQkg2BkMAC5WkZL3eDc63I6LduA8ZneL9odIODMclSZmRmIhWmTnZoMjPhFYKicWh9WkP1//NbfB+QusQ5NPvQI8K6q63vYyL7jcbsMqNr1otjnnbVnT//YK5HUVrr6l+eFLesJZebj6qsjT6gSO9i/xFWhqWr28L4ml5Op6/enm3ee366ub6xM/0913r7zpfA==', 'page_number': 1.0, 'type': 'CompositeElement'}, page_content='ABSTRACT\\n\\nA release mechanism based on a segmented nut and a Shape Memory Alloy (SMA) wire trigger was designed and qualified based on general requirements for the Teledesic program. Basic design issues and a description of the device are presented. Highlights of test results and typical operational response of the device are discussed.\\n\\n1. INTRODUCTION'),\n",
       "  0.313503802,\n",
       "  None),\n",
       " (Document(id='03bb0ff3-9d3c-471f-b802-4e8354a66017', metadata={'chunk_overlap': 0.0, 'chunk_size': 400.0, 'data_source.record_locator.protocol': 'gs', 'data_source.record_locator.remote_file_path': 'gs://processing-pdfs', 'data_source.url': 'gs://processing-pdfs/1999_christiansen_reocr.pdf', 'element_id': '03bb0ff3-9d3c-471f-b802-4e8354a66017', 'file_directory': './document_processing', 'filename': '1999_christiansen_reocr.pdf', 'filetype': 'application/pdf', 'languages': ['eng'], 'last_modified': '2025-01-20T13:55:54', 'orig_elements': 'eJzdVMuOmzAU/RWL9YQYEwhk3y6rqs0uitDFvgmWDEa2SZOO5t977Umno76kLroZNuBzX+fYxxweMzQ44hQ6rbIdy070bGsplOp73vNWIJS8PDXYiqJXZZM9sGzEAAoCUP5jJq11Sk8Q0Ke1gZtdQjegPg+BECE4p5o7/EWrMBBabBM6Wz2FWHc4FG2bE1Q08X18YC9AK8q8jUDdlHn1O+C5hJDM33zAMer4qK9oPs8gMXuiQKTbebs4WkeWDiXR7oyVEKxL0OxssNKaWH32UafD0QbsTtpgN0PiTZHdek2pEr3X03k1q5NPExZn/hRfk5S2k4PTPmiYPE6dQytdTsFndhhQBm2nThrwvqP6nprxvNkIXlNCoqA0sSa2tzgnXysrl3RwP6Zl99QJxigz+9vce2q4zSkV5tlo2gwisb6HDUznBc7pXA8ZUvtjQn3oRqv0SWNyjOCiWvFiJfi+KHdVtas2sXqmym5axh7j9oooM+A1OiIrc8HeWzoK9gnVkoSzNX0bBI/s3bMffR67fKe318Gkk/zZryg3HOV220KhtqovayhbqOoSoCCPtf/Pr4IXuYhurHleRzfeAXo1eRWBRtTRnr8A95K36NeWi+ZN2DUh7h9+i6/9vR+0Zwovmhy+BG30V/QMmLPGoFv1CI7EsyiFndGSO92NBctADhovyE7pariXqwGTiuERrnqkVmxEOcBE6s3rG/IBnKP9uOA+sng6fgMrDdvV', 'page_number': 2.0, 'type': 'CompositeElement'}, page_content='3.2 Force Reduction / Release Elements.\\n\\nThis device utilizes a roller-bearing type geometry to achieve force reduction and to maximize mechanical'),\n",
       "  0.2911883,\n",
       "  None),\n",
       " (Document(id='a9a0b496-5605-4a05-8435-a0bc90a0ec88', metadata={'chunk_overlap': 0.0, 'chunk_size': 400.0, 'data_source.record_locator.protocol': 'gs', 'data_source.record_locator.remote_file_path': 'gs://processing-pdfs', 'data_source.url': 'gs://processing-pdfs/1999_christiansen_reocr.pdf', 'element_id': 'a9a0b496-5605-4a05-8435-a0bc90a0ec88', 'file_directory': './document_processing', 'filename': '1999_christiansen_reocr.pdf', 'filetype': 'application/pdf', 'languages': ['eng'], 'last_modified': '2024-12-26T14:30:38', 'orig_elements': 'eJzdVMuOmzAU/RWL9YQYkxDIvl1WVZtdNEIX+xIsGYxskyYdzb/32kmno76kLroZNuBzX+fYxxyfMjQ44hRarbI9y3p6dpUUSnUd73gjEEpe9jU2ouhUWWcPLBsxgIIAlP+USWud0hME9Glt4GqX0A6oT0MgRAjOqeYOf9EqDIQWu4TOVk8h1h2PRdPkBBV1fD8+sBegEWXeRKCqy3z7O+BWQkjmrz7gGHV81Bc0n2eQmD1TINJtvV0crSNLh5Jot8ZKCNYlaHY2WGlNrD75qNPhaAO2vTbYzpB4U2S/XlOqRO/1dFrNqvdpwuLMn+JrktK0cnDaBw2Tx6l1aKXLKXhjhwFl0HZqpQHvW6rvqBnP643gFSUkCkoTa2J7jXPytbJySQf3Y1p2T51gjDKzv829p4brnFJhno2mzSAS63vYwHRa4JTO9ZghtX9MqA/taJXuNSbHCC42q0KsRHUoNvuS728mmamynZaxw7i9IsoMeImOyMpcsPeWjoJ9QrUk4WxN3wbBI3t386PPY5fv9A46mHSSP/sV5Yaj3O0aKNROdWUFZQPbqgQoyGPN//Or4EUuohsrnlfRjXeAXnW+jUAtqmjPX4B7yVv0a8NF/SbsmhD3D7/F1/4+DNozhWdNDl+CNvoregbMWWPQrToER+JZlMJOaMmd7sqCZSAHjWdkfboa7uVqwKRieISLHqkVG1EOMJF68/qGfADnaD/OeIgsnh+/ATh429s=', 'page_number': 2.0, 'rag_type': 'Standard', 'type': 'CompositeElement'}, page_content='3.2 Force Reduction / Release Elements.\\n\\nThis device utilizes a roller-bearing type geometry to achieve force reduction and to maximize mechanical'),\n",
       "  0.291180074,\n",
       "  None)]"
      ]
     },
     "execution_count": 38,
     "metadata": {},
     "output_type": "execute_result"
    }
   ],
   "source": [
    "qa_model.result['context']"
   ]
  },
  {
   "cell_type": "code",
   "execution_count": 39,
   "metadata": {},
   "outputs": [
    {
     "name": "stderr",
     "output_type": "stream",
     "text": [
      "INFO:aerospace_chatbot.processing.queries:Node: retrieve\n",
      "INFO:httpx:HTTP Request: POST https://api.openai.com/v1/embeddings \"HTTP/1.1 200 OK\"\n",
      "INFO:aerospace_chatbot.processing.queries:Retrieved docs\n",
      "INFO:httpx:HTTP Request: POST https://api.cohere.com/v2/rerank \"HTTP/1.1 200 OK\"\n",
      "INFO:aerospace_chatbot.processing.queries:Reranked docs\n",
      "INFO:aerospace_chatbot.processing.queries:Node: generate_w_context\n",
      "INFO:httpx:HTTP Request: POST https://api.openai.com/v1/chat/completions \"HTTP/1.1 200 OK\"\n",
      "INFO:aerospace_chatbot.processing.queries:Response generated\n",
      "INFO:aerospace_chatbot.processing.queries:Response parsed\n",
      "INFO:aerospace_chatbot.processing.queries:Node: generate_alternative_questions\n",
      "INFO:httpx:HTTP Request: POST https://api.openai.com/v1/chat/completions \"HTTP/1.1 200 OK\"\n",
      "INFO:aerospace_chatbot.processing.queries:Alternative questions generated.\n",
      "INFO:aerospace_chatbot.processing.queries:Alternative questions parsed\n",
      "INFO:aerospace_chatbot.processing.queries:Node: should_continue\n",
      "INFO:aerospace_chatbot.processing.queries:Ending conversation\n"
     ]
    },
    {
     "name": "stdout",
     "output_type": "stream",
     "text": [
      "================================\u001b[1m Human Message \u001b[0m=================================\n",
      "\n",
      "How is release indicated from the functional response of the mechanism?\n",
      "==================================\u001b[1m Ai Message \u001b[0m==================================\n",
      "\n",
      "Release is indicated by the bolt load decreasing to zero when a current pulse is applied to the wire <source id=\"4\">.\n"
     ]
    }
   ],
   "source": [
    "# prompt = 'How have these mecahnisms been tested?'\n",
    "prompt = 'How is release indicated from the functional response of the mechanism?'\n",
    "result = qa_model.workflow.invoke({\"messages\": [(\"human\", prompt)]}, config)\n",
    "for message in result['messages']:\n",
    "    message.pretty_print()"
   ]
  },
  {
   "cell_type": "code",
   "execution_count": 40,
   "metadata": {},
   "outputs": [
    {
     "data": {
      "text/plain": [
       "{'messages': [HumanMessage(content='How is release indicated from the functional response of the mechanism?', additional_kwargs={}, response_metadata={}, id='f611bf76-d0f8-4d68-99f6-24afd49b2e25'),\n",
       "  AIMessage(content='Release is indicated by the bolt load decreasing to zero when a current pulse is applied to the wire <source id=\"4\">.', additional_kwargs={'refusal': None}, response_metadata={'token_usage': {'completion_tokens': 54, 'prompt_tokens': 1506, 'total_tokens': 1560, 'completion_tokens_details': {'accepted_prediction_tokens': 0, 'audio_tokens': 0, 'reasoning_tokens': 0, 'rejected_prediction_tokens': 0}, 'prompt_tokens_details': {'audio_tokens': 0, 'cached_tokens': 0}}, 'model_name': 'gpt-4o-2024-08-06', 'system_fingerprint': 'fp_50cad350e4', 'finish_reason': 'stop', 'logprobs': None}, id='run-65db5c25-dc79-41aa-b163-a0f25a010c44-0', usage_metadata={'input_tokens': 1506, 'output_tokens': 54, 'total_tokens': 1560, 'input_token_details': {'audio': 0, 'cache_read': 0}, 'output_token_details': {'audio': 0, 'reasoning': 0}})],\n",
       " 'context': [(Document(id='5464aae9-4a08-48cc-8e9f-4242570d6709', metadata={'chunk_overlap': 0.0, 'chunk_size': 400.0, 'data_source.record_locator.protocol': 'gs', 'data_source.record_locator.remote_file_path': 'gs://processing-pdfs', 'data_source.url': 'gs://processing-pdfs/1999_christiansen_reocr.pdf', 'element_id': '5464aae9-4a08-48cc-8e9f-4242570d6709', 'file_directory': './document_processing', 'filename': '1999_christiansen_reocr.pdf', 'filetype': 'application/pdf', 'languages': ['eng'], 'last_modified': '2024-12-26T14:30:38', 'orig_elements': 'eJx9Ustu2zAQ/BVC50SmHrYs33rprQ80uQWBsCbXEgGKFLhUHCPIv3dJOyjaoj3uzOzu7OPprUCLM7o4GF0cRLFtmtNJVlXb1HvVntS2Atxp2Ukpm1oqKO5EMWMEDRFY/1Yo74M2DiJSji1c/BqHCc04RUbqWkrOucFno+PEaNVldPHGxZT39FT1+5KhetuV8vlOfMRt15V9ivd1X3Z/x1c9AwVdKOKcZvhuXtE+LKCweGciWR3Ir4Hj5DCgYsuD9QqiDxlago9eeZuyR0ozBpx9xOFkLA4LZM/MHDYbliokMm68X/SJcoc12H/xm6rv+0FNwVA04AjdENCrUDJ5dYcRVTTeDcoC0cD5Ry4my37b7ioWZAvasGt2e0l9yo32as1H+9WtuEkdzGnM4n99b9J4WbIUlsUaXgab2NxoC25cYcw3fSqQyz9nlOIwe21OBvO31LJu76v6vt49Vu2hkYdmn7IXzhzcOh8xrbfJSPj1Y3utemxl30PfNfIoa13v+E22bdupTupd3kvE1/Q+xQ/+TyAU/iTihGJGNYEzNAvlHfFwlBg+H9t3Y5ZYiGoSEGZxNnHK0MOXTyIGM44YGAxIYnXR2MxFP46WEXYonBfWu6RK1WMA41CLANqAtZdSfHMK/+gxAV3bs1Cx1XD3W9XZv7D3NZ4haAFOZ5JjbhH4QW+pxPqsSGy4TqzF4smkowhuoZFUMEdG4cglS/HZjCs7rgVN/szuhQqeSND1mTL6sZAjkFE3y8rPi3d8CyrTpT5e4CuEwBt8wce09vfnn5VoWJY=', 'page_number': 3.0, 'rag_type': 'Standard', 'type': 'CompositeElement'}, page_content='Release of the mechanism consists of rotating the latch arm with the SMA trigger wires until the toggles are no longer constrained radially. Once the latch arm has rotated clear, the toggles move outward and the outer race rotates toward the released position as described above. Figure 2 shows a cross section showing the basic latch components.'),\n",
       "   0.539688349,\n",
       "   0.79522943),\n",
       "  (Document(id='16a57eb7-9b0f-452a-9d79-003e2ddb7092', metadata={'chunk_overlap': 0.0, 'chunk_size': 400.0, 'data_source.record_locator.protocol': 'gs', 'data_source.record_locator.remote_file_path': 'gs://processing-pdfs', 'data_source.url': 'gs://processing-pdfs/1999_christiansen_reocr.pdf', 'element_id': '16a57eb7-9b0f-452a-9d79-003e2ddb7092', 'file_directory': './document_processing', 'filename': '1999_christiansen_reocr.pdf', 'filetype': 'application/pdf', 'languages': ['eng'], 'last_modified': '2025-01-20T13:55:54', 'orig_elements': 'eJx9Uk1v2zAM/SuCz60jO3Zc57bLbvvA2ltQGIzE2AJkyRDlpkHR/z5KSTFsw3bke4/k48fhrUCLM7o4GF3sRdFut6eTrKpmWz+o5qTaCnCnZSel3NZSQXEnihkjaIjA+rdCeR+0cRCRcmzh4tc4TGjGKTJS11Jyzg0+Gx0nRqsuo4s3Lqa8w6HqH0qG6rYr5fOd+Iibriv7FD/Ufdn9HV/1DBR0oYhzmuG7eUX7uIDC4p2JZHUgvwaOk8OAii0P1iuIPmRoCT565W3KHinNGHD2EYeTsTgskD0zs99sWKqQyLjxftEnyh3WYP/Fb6q+7wc1BUPRgCN0Q0CvQsnk1R1GVNF4NygLRAPnH7mYLPu22VUsyBa0Ydfs9pL6lBvt1ZqP9qtbcZM6mNOYxf/63qTxsmQpLIs1vAw2sbnRFty4wphveiiQyz9nlOIwe21OBvO31LJu72V1X8unartv233bpOyFMwe3zkdM691mJPz6sQetemxk30PfbeVR1rre8Zu0TdOpTupd3kvE1/Q+xQ/+TyAU/iTihGJGNYEzNAvlHfFwlBg+H9t3Y5ZYiGoSEGZxNnHK0OOXTyIGM44YGAxIYnXR2MxFP46WEXYonBfWu6RK1WMA41CLANqAtZdSfHMK/+gxAV3bs1Cx1XD3W9XZv7D3NZ4haAFOZ5JjbhH4QW+pxPqsSGy4TqzF4smkowhuoZFUMEdG4cglS/HZjCs7rgVN/szuhQqeSND1mTL6sZAjkFE3y8rPi3d8CyrTpT5e4CuEwBt8wae09vfnn4/mWJM=', 'page_number': 3.0, 'type': 'CompositeElement'}, page_content='Release of the mechanism consists of rotating the latch arm with the SMA trigger wires until the toggles are no longer constrained radially. Once the latch arm has rotated clear, the toggles move outward and the outer race rotates toward the released position as described above. Figure 2 shows a cross section showing the basic latch components.'),\n",
       "   0.538506806,\n",
       "   0.79522943),\n",
       "  (Document(id='2edc5734-4845-4cae-9834-f01f619a9d5e', metadata={'chunk_overlap': 0.0, 'chunk_size': 400.0, 'data_source.record_locator.protocol': 'gs', 'data_source.record_locator.remote_file_path': 'gs://processing-pdfs', 'data_source.url': 'gs://processing-pdfs/1999_christiansen_reocr.pdf', 'element_id': '2edc5734-4845-4cae-9834-f01f619a9d5e', 'file_directory': './document_processing', 'filename': '1999_christiansen_reocr.pdf', 'filetype': 'application/pdf', 'languages': ['eng'], 'last_modified': '2025-01-20T14:15:10', 'orig_elements': 'eJx9Uk1v2zAM/SuCz60jO04c57bLbvvA2ltQGIzE2AJkyRDlpkHR/z5KSVFsxXbke4/k48fhtUCLE7rYG13sRbFZr08nWVXNut6p5qQ2FeBWy1ZKua6lguJOFBNG0BCB9a+F8j5o4yAi5djCxS+xH9EMY2SkrqXknBt8NjqOjFZtRmdvXEx5h0PV7UqG6k1byqc78R43bVt2Kd7VXdl+jq96Bgq6UMQpzfDTvKB9mEFh8cZEstqTXwLHyWFAxZZ76xVEHzI0Bx+98jZlD5RmDDj5iP3JWOxnyJ6Z2a9WLFVIZNxwP+sT5Q5LsP/iV1XXdb0ag6FowBG6PqBXoWTy6g4jqmi865UFop7zj1xMlt2m2VYsyBa0Ydfs9pL6lCvt1ZKP9tGtuEkdTGnM4n99b9J4mbMU5tkaXgabWN1oC25YYMg3PRTI5Z8ySrGfvDYng/lballv7mV1X8vHqtlXm30lU/bMmb1bpiOm9a4zEj5+bKdVh43sOujatTzKWtdbfpNN07SqlXqb9xLxJb1P8Yv/EwiFP4k4ophQjeAMTUJ5RzwcJYbPx/bdkCUWohoFhEmcTRwz9PDti4jBDAMGBgOSWFw0NnPRD4NlhB0K54X1LqlS9RjAONQigDZg7aUUP5zCv3qMQNf2LFRsNdz9UXXyz+x9iWcIWoDTmeSYWwR+0FsqsT4rEhuuE2sxezLpKIJbaCQVzJFROHLJUnw1w8KOa0GjP7N7oYInEnR9poy+L+QIZNTNsvLT7B3fgsp0qfcX+A4h8Aaf8TGt/e3pN3xLWIg=', 'page_number': 3.0, 'type': 'CompositeElement'}, page_content='Release of the mechanism consists of rotating the latch arm with the SMA trigger wires until the toggles are no longer constrained radially. Once the latch arm has rotated clear, the toggles move outward and the outer race rotates toward the released position as described above. Figure 2 shows a cross section showing the basic latch components.'),\n",
       "   0.538237274,\n",
       "   0.79522943),\n",
       "  (Document(id='606ecc55-5aab-4d4f-8586-f24cb68961e1', metadata={'chunk_overlap': 0.0, 'chunk_size': 400.0, 'data_source.record_locator.protocol': 'gs', 'data_source.record_locator.remote_file_path': 'gs://processing-pdfs', 'data_source.url': 'gs://processing-pdfs/1999_christiansen_reocr.pdf', 'element_id': '606ecc55-5aab-4d4f-8586-f24cb68961e1', 'file_directory': './document_processing', 'filename': '1999_christiansen_reocr.pdf', 'filetype': 'application/pdf', 'languages': ['eng'], 'last_modified': '2024-12-26T14:30:38', 'orig_elements': 'eJzdVU2L2zAQ/SvC56xiy5/KbSkUCqWUNrewGFkaJwLbMpK8u+nS/96RnG5LSfe2l5BL9PRG80Z6Mz68JDDACJNvtUp2JFFFngNTZV1nAvKKs5xVfZM2ouYgmYBkQ5IRvFDCC+S/JNIYq/QkPLi4HsTZLL49gT6ePCKMpSnGXOAnrfwJ0ayO6Gz05EPc4ZBxTpsNyViZ0eJhQ16BvMhpHoCGVTS/BqwhiCTu7DyMoY6v+hmG77OQkPzEjSC3dWaxuA4qLUiU3Q5GCm9shGZrvJFmCNFHF+q0MBoPba8HaGcRdePObrtFqgTn9HS8m1XvYobFDv/b32IpvJUnq53XYnIwtRaMtBQ3V3XgQXptplYOwrkW4zs8LKU8rdIKCVGC0qga1Z5DHrpVRi7x4f5kSy7USYyhzOStvBeqP8+RKuZ50HgZKGJ72R7EdFzEMb7rIQE8/iGizrejUbrXEB3DUlbcZeyOVfus2OXpLm9C9IyR7bSMHYTrLUOZHp6DI5KP+rhYIAUl+/OMSQfSL1OsH/9acLNBrZTcE7lYixWSeRkcEO1IVAmKeEP8CcgT3ggl39DBYt3XkwpFIKM7R0ZnBk8GIxRRIC3S8JZC9A+whgaZv+v/IqzF6h9hH0Si2n8bo85KnleNAsWLsuqaouxzyUDyNIOcN9m7NQYvGGXo8oyvfXFZlymjTeyTktVXgTXiNtsiq+uba4vPwaa/zbzXIziSk5yWpCBFSfBXkop8WFtiQ+7H2f1t4E8jnnzNuLzCYa44xwbopJI9q6XkJavKouM8LeX7GTdrKEKYnabRuOu64jXNVp8WNa2uAGvELRq3zlPObs64l3le4jw/WQDiwDtiehzlq5c9epmEFyO9sTiWAwefdQacuAu4ELaSHMFXXD8ArzM+BnfgnwCm1w+C88J6IpAVZ/sl0XoQch7xJAsznhTI4hETYdlBkpB+wY9MEPPW+H/4BdX65rk=', 'page_number': 5.0, 'rag_type': 'Standard', 'type': 'CompositeElement'}, page_content='Figure 4. Typical functional response. A current pulse is applied to the wire. Release is indicated by the bolt load decreasing to zero.\\n\\nLoad Release Times 3 3.5 4 45 5 55 6 Current, Amps\\n\\nFigure 5. Three sets of release time data for three temperatues. The times correspond to the time between current start and load release. The curves represent averages of actual data.'),\n",
       "   0.517737329,\n",
       "   0.46104163),\n",
       "  (Document(id='4eea0d5c-1193-433e-9390-d4e48233c71c', metadata={'chunk_overlap': 0.0, 'chunk_size': 400.0, 'data_source.record_locator.protocol': 'gs', 'data_source.record_locator.remote_file_path': 'gs://processing-pdfs', 'data_source.url': 'gs://processing-pdfs/1999_christiansen_reocr.pdf', 'element_id': '4eea0d5c-1193-433e-9390-d4e48233c71c', 'file_directory': './document_processing', 'filename': '1999_christiansen_reocr.pdf', 'filetype': 'application/pdf', 'languages': ['eng'], 'last_modified': '2025-01-20T13:55:54', 'orig_elements': 'eJzdVcFq3DAQ/RXh80Zry5Zt7S0UCoVSSptbCEaWxrsC2zKSnGQb+u8dydu0lDS3XMJeVk9vNG+kN+PbpwxGmGAOndHZgWS6KktgmjdNIaGsBStZPbR5KxsBiknIdiSbIEgtg0T+U6asddrMMoBP61Ge7Rq6E5jjKSDCWJ5jzAV+MDqcEC2ahC7WzCHG3d4WQtB2RwrGC1rd7cgzUFYlLSPQspqWLwFbCCKZP/sAU6zjq3mE8fsiFWQ/cSPK7bxdHa6jSgcKZXejVTJYl6DF2WCVHWP00cc6HUw2QDeYEbpFJt24c9jvkarAezMfrxY9+JRhdeP/9vdYiujUyRkfjJw9zJ0DqxzFzU0dBFDB2LlTo/S+w/geD8upyOu8RkKSoA2qRrXnmIfutVVrerg/2bILdZZTLDN7Le+FGs5LosplGQ1eBorYX7ZHOR9XeUzvepsBHn+XUB+6yWozGEiOYTnjV3lxxfKbojxwfuBVjF4wspvXqYd4vTyWGeAxOiL7aI6rA1JRcnNeMOlIhnVO9eNfB36xqJWSa6JW57BCsqyjB2I8SSpBk2BJOAF5wBuh5Bs6WG77ZtaxCGT058To7RjIaKUmGpRDGt5SjP4BztIo83f9X6RzWP093ESRqPbfxmgKLsq61aBFxeu+rfhQKgZK5AWUoi3erDFExShDlxdi64vLmueMtqlPOGteBLaI99kWRdO8u7b4HG3628w3ZgJPSlJSTipScYI/TmryYWuJHbmeFv+3gT9NePJLxhU1DnMtBDZAr7QaWKOU4KzmVS9EztXbGbdoKUKYnebJuNu6Fg0tNp9WDa1fALaI92jcpswFe3fGvcxzjvP85ACIh+CJHXCUb14O6GUSX4wM1uFYjhx81gVw4q7gY9hG8gRfcfsAPM/4FNxDeACYnz8IPkgXiERWmu2XRNtByLnHkxwseFIky3tMhGVHSVKFFT8yUcxr4//uF7NN5rA=', 'page_number': 5.0, 'type': 'CompositeElement'}, page_content='Figure 4. Typical functional response. A current pulse is applied to the wire. Release is indicated by the bolt load decreasing to zero.\\n\\nLoad Release Times 3 3.5 4 45 5 55 6 Current, Amps\\n\\nFigure 5. Three sets of release time data for three temperatues. The times correspond to the time between current start and load release. The curves represent averages of actual data.'),\n",
       "   0.51772213,\n",
       "   0.46104163),\n",
       "  (Document(id='0249514f-5e79-4635-9fa1-a642e963857d', metadata={'chunk_overlap': 0.0, 'chunk_size': 400.0, 'data_source.record_locator.protocol': 'gs', 'data_source.record_locator.remote_file_path': 'gs://processing-pdfs', 'data_source.url': 'gs://processing-pdfs/1999_christiansen_reocr.pdf', 'element_id': '0249514f-5e79-4635-9fa1-a642e963857d', 'file_directory': './document_processing', 'filename': '1999_christiansen_reocr.pdf', 'filetype': 'application/pdf', 'languages': ['eng'], 'last_modified': '2025-01-20T14:15:10', 'orig_elements': 'eJzdVcFq3DAQ/RXh80Zry5Zt7S0UCoVSSptbCEaWxrsC2zKSnGQb+u8dydu0lDS3XMJeVk9vNG+kN+PbpwxGmGAOndHZgWS6KktgmjdNIaGsBStZPbR5KxsBiknIdiSbIEgtg0T+U6asddrMMoBP61Ge7Rq6E5jjKSDCWJ5jzAV+MDqcEC2ahC7WzCHG3d4WQtB2RwrGC1rd7cgzUFYlLSPQspqWLwFbCCKZP/sAU6zjq3mE8fsiFWQ/cSPK7bxdHa6jSgcKZXejVTJYl6DF2WCVHWP00cc6HUw2QDeYEbpFJt24c9jvkarAezMfrxY9+JRhdeP/9vdYiujUyRkfjJw9zJ0DqxzFzU0dBFDB2LlTo/S+w/geD8upyOu8RkKSoA2qRrXnmIfutVVrerg/2bILdZZTLDN7Le+FGs5LosplGQ1eBorYX7ZHOR9XeUzvepsBHn+XUB+6yWozGEiOYTnjV3lxxfKbojoU/FDkMXrByG5epx7i9fJYZoDH6IjsozmuDkhFyc15waQjGdY51Y9/HfjFolZKrolancMKybKOHojxJKkETYIl4QTkAW+Ekm/oYLntm1nHIpDRnxOjt2Mgo5WaaFAOaXhLMfoHOEujzN/1f5HOYfX3cBNFotp/G6MpuCjrVoMWFa/7tuJDqRgokRdQirZ4s8YQFaMMXV6IrS8ua54z2qY+4ax5Edgi3mdbFE3z7tric7TpbzPfmAk8KUlJOalIxQn+OKnJh60lduR6WvzfBv404ckvGVfUOMy1ENgAvdJqYI1SgrOaV70QOVdvZ9yipQhhdpon427rWjS02HxaNbR+Adgi3qNxmzIX7N0Z9zLPOc7zkwMgHoIndsBRvnk5oJdJfDEyWIdjOXLwWRfAibuCj2EbyRN8xe0D8DzjU3AP4QFgfv4g+CBdIBJZabZfEm0HIeceT3Kw4EmRLO8xEZYdJUkVVvzIRDGvjf+7XzXt5o8=', 'page_number': 5.0, 'type': 'CompositeElement'}, page_content='Figure 4. Typical functional response. A current pulse is applied to the wire. Release is indicated by the bolt load decreasing to zero.\\n\\nLoad Release Times 3 3.5 4 45 5 55 6 Current, Amps\\n\\nFigure 5. Three sets of release time data for three temperatues. The times correspond to the time between current start and load release. The curves represent averages of actual data.'),\n",
       "   0.517471135,\n",
       "   None),\n",
       "  (Document(id='67e1c27e-ca0d-4d16-be78-963dc046303e', metadata={'chunk_overlap': 0.0, 'chunk_size': 400.0, 'data_source.record_locator.protocol': 'gs', 'data_source.record_locator.remote_file_path': 'gs://processing-pdfs', 'data_source.url': 'gs://processing-pdfs/1999_christiansen_reocr.pdf', 'element_id': '67e1c27e-ca0d-4d16-be78-963dc046303e', 'file_directory': './document_processing', 'filename': '1999_christiansen_reocr.pdf', 'filetype': 'application/pdf', 'is_continuation': True, 'languages': ['eng'], 'last_modified': '2025-01-20T13:55:54', 'orig_elements': 'eJx9VNtu2zgQ/RVCz44syZZt+a0/UBRt3oJAGJEjiQBFCiSV1Cj67z2kHbS72O1ToJkz5zIc5+VHwYYXtrHXqriKYugOzdgezySpVk1bqfHEF+rqU63ay6Xrip0oFo6kKBLwPwrpnFfaUuSQvw3d3Bb7mfU0R1Sapqow8yi/axVnVOtzrq5O25jmXl7q7lIedqI7HcvmdSc+vutDdSrbVLg0l/L4H4X7BApFuIXIS0rxRX9n820lycVPNJLZPrjN4zt59CxhujdOUnQ+l1bvopPOpOkppJSeFxe5H7XhfqXsGp3rfg+o5BC0nZ5WNYassHnzf/193XVdL2evQ9RkA9ves5O+RPPujiPLqJ3tpaEQeswPIKvKrq3OFwCyBaXhGm5vSafcKye3/Gy/1YoH1NKSYhZ/031A423NUFpXo7EMmNg/2obstNGUX/WlYNC/5mqI/eKUHjXne2mqpn2q6qemeq4P17a9tsc0vWKyt9sycFpvnSv+95WN1BxP5/MwqsOR1DC0dV1fRnkZDkRde67yXiJ/TwdUfGPMZm/CbjEIEAkSIZJV5JXANc5OiS2wEtEJj3umwCKk15eexigUr8bdaDAspFtWZ2EklOJ5BoqntEVWT6AGMOjJCh1E0MtqeAcVT+mQR+ffIbYTEE0SsPPG5iYgdUuqUL8TJpoH6d3pzCb5muCSvQAPxiO6KY4bEWRwJmZaAKwgY9z7P5PE2bttmgFdWM5k8VBGUL4Y9Cgmv9HraWKPQRQRcgFhKT6FwMsAmxACu8CPjf2IvaSRf6W4ZkQ2k/hmz6RAhxGXO2ylcWnHKWG2m/bC9u41IXCJKyKuIHYE9a8P/6AjOWt+A3S4Jdibxn+MCSwCEAnvKVFaPf6ATFuNi42cWf/I/LGQe/Yy3dnHAX8m73Oa53Q0P19/Ad7eoO4=', 'page_number': 1.0, 'type': 'CompositeElement'}, page_content='nut and tightened to the proper preload. Release is achieved by providing an electrical signal to initiate the mechanical release action.'),\n",
       "   0.511350214,\n",
       "   None),\n",
       "  (Document(id='90b59188-71d5-43fb-a159-5d9b6c855149', metadata={'chunk_overlap': 0.0, 'chunk_size': 400.0, 'data_source.record_locator.protocol': 'gs', 'data_source.record_locator.remote_file_path': 'gs://processing-pdfs', 'data_source.url': 'gs://processing-pdfs/1999_christiansen_reocr.pdf', 'element_id': '90b59188-71d5-43fb-a159-5d9b6c855149', 'file_directory': './document_processing', 'filename': '1999_christiansen_reocr.pdf', 'filetype': 'application/pdf', 'is_continuation': True, 'languages': ['eng'], 'last_modified': '2024-12-26T14:30:38', 'orig_elements': 'eJx9VNtu2zgQ/RVCz44syTfJb/2BomjzFgTCiBxJBChSIKmkRtF/7yHtoN3Fbp8CzZw5l+E4Lz8KNrywjb1WxVUUQ3doxtPxQpJq1ZwqNZ65pa4+1+rUtl1X7ESxcCRFkYD/UUjnvNKWIof8bejmttjPrKc5otI0VYWZR/ldqzijWl9ydXXaxjT38lJ3bXnYie58LJvXnfj4rg/VuTylQtu05fE/CvcJFIpwC5GXlOKL/s7m20qSi59oJLN9cJvHd/LoWcJ0b5yk6Hwurd5FJ51J01NIKT0vLnI/asP9Stk1Otf9HlDJIWg7Pa1qDFlh8+b/+vu667pezl6HqMkGtr1nJ32J5t0dR5ZRO9tLQyH0mB9AVpXdqbq0AGQLSsM13N6STrlXTm752X6rFQ+opSXFLP6m+4DG25qhtK5GYxkwsX+0Ddlpoym/6kvBoH/N1RD7xSk9as730lTN8alunprzc328HqrroU3TKyZ7uy0Dp/XWueJ/X9lIzfF8uQyjOhxJDcOprut2lO1wIOpOlyrvJfL3dEDFN8Zs9ibsFoMAkSARIllFXglc4+yU2AIrEZ3wuGcKLEJ6felpjELxatyNBsNCumV1FkZCKZ5noHhKW2T1BGoAg56s0EEEvayGd1DxlA55dP4dYjsB0SQBO29sbgJSt6QK9TthonmQ3p3ObJKvCS7ZC/BgPKKb4rgRQQZnYqYFwAoyxr3/M0mcvdumGdCF5UwWD2UE5YtBj2LyG72eJvYYRBEhFxCW4lMIvAywCSGwC/zY2I/YSxr5V4prRmQziW/2TAp0GHG5w1Yal3acEma7aS9s714TApe4IuIKYkdQ//rwDzqSs+Y3QIdbgr1p/MeYwCIAkfCeEqXV4w/ItNW42MiZ9Y/MHwu5Zy/TnX0c8GfyPqd5Tkfz8/UX5pqg8Q==', 'page_number': 1.0, 'rag_type': 'Standard', 'type': 'CompositeElement'}, page_content='nut and tightened to the proper preload. Release is achieved by providing an electrical signal to initiate the mechanical release action.'),\n",
       "   0.511315107,\n",
       "   None),\n",
       "  (Document(id='b0098124-9b74-4ce1-bfe1-2d3be8152bdb', metadata={'chunk_overlap': 0.0, 'chunk_size': 400.0, 'data_source.record_locator.protocol': 'gs', 'data_source.record_locator.remote_file_path': 'gs://processing-pdfs', 'data_source.url': 'gs://processing-pdfs/1999_christiansen_reocr.pdf', 'element_id': 'b0098124-9b74-4ce1-bfe1-2d3be8152bdb', 'file_directory': './document_processing', 'filename': '1999_christiansen_reocr.pdf', 'filetype': 'application/pdf', 'is_continuation': True, 'languages': ['eng'], 'last_modified': '2025-01-20T14:15:10', 'orig_elements': 'eJx9VNtu2zgQ/RVCz44syZZt+a0/UBRt3oJAGJEjiQBFCiSV1Cj67z2kHbS72O1ToJkz5zIc5+VHwYYXtrHXqriKYugOzdgezySpVk1bqfHEF+rqU63ay6Xrip0oFo6kKBLwPwrpnFfaUuSQvw3d3Bb7mfU0R1Sapqow8yi/axVnVOtzrq5O25jmXl7q7lIedqI7HcvmdSc+vutDdSrbVLg0l/L4H4X7BApFuIXIS0rxRX9n820lycVPNJLZPrjN4zt59CxhujdOUnQ+l1bvopPOpOkppJSeFxe5H7XhfqXsGp3rfg+o5BC0nZ5WNYassHnzf/193XVdL2evQ9RkA9ves5O+RPPujiPLqJ3tpaEQeswPIKvKrq3OFwCyBaXhGm5vSafcKye3/Gy/1YoH1NKSYhZ/031A423NUFpXo7EMmNg/2obstNGUX/WlYNC/5mqI/eKUHjXne2mqpn2q6qemeq6P17q91lWaXjHZ220ZOK23zhX/+8pGao6n83kY1eFIahjauq4vo7wMB6KuPVd5L5G/pwMqvjFmszdhtxgEiASJEMkq8krgGmenxBZYieiExz1TYBHS60tPYxSKV+NuNBgW0i2rszASSvE8A8VT2iKrJ1ADGPRkhQ4i6GU1vIOKp3TIo/PvENsJiCYJ2HljcxOQuiVVqN8JE82D9O50ZpN8TXDJXoAH4xHdFMeNCDI4EzMtAFaQMe79n0ni7N02zYAuLGeyeCgjKF8MehST3+j1NLHHIIoIuYCwFJ9C4GWATQiBXeDHxn7EXtLIv1JcMyKbSXyzZ1Kgw4jLHbbSuLTjlDDbTXthe/eaELjEFRFXEDuC+teHf9CRnDW/ATrcEuxN4z/GBBYBiIT3lCitHn9Apq3GxUbOrH9k/ljIPXuZ7uzjgD+T9znNczqan6+/AMMZoOM=', 'page_number': 1.0, 'type': 'CompositeElement'}, page_content='nut and tightened to the proper preload. Release is achieved by providing an electrical signal to initiate the mechanical release action.'),\n",
       "   0.510778964,\n",
       "   None),\n",
       "  (Document(id='daa308aa-c8c5-4200-91a4-a7e7148c543b', metadata={'chunk_overlap': 0.0, 'chunk_size': 400.0, 'data_source.record_locator.protocol': 'gs', 'data_source.record_locator.remote_file_path': 'gs://processing-pdfs', 'data_source.url': 'gs://processing-pdfs/1999_christiansen_reocr.pdf', 'element_id': 'daa308aa-c8c5-4200-91a4-a7e7148c543b', 'file_directory': './document_processing', 'filename': '1999_christiansen_reocr.pdf', 'filetype': 'application/pdf', 'languages': ['eng'], 'last_modified': '2024-12-26T14:30:38', 'orig_elements': 'eJztlU2P3CgQhv8K8imHjJsPf8D8g9UmUaTMbTSyMJTdSDZYhs6kFe1/34LumUTJZpXLXEa5mbcoeCmewvdfK1hgBZ8GZ6tbUk18YqzXUwOss7JX02SNEJxKOmph2Fi9JdUKSVudNM7/WpkQduu8ThDLeNHncErDEdx8TKhwTinmXOVHZ9MRVdYXdQvOp5x3f88Ur1FiXHY1f3hLngXR9xdBclnz/xIuKahU8RwTrPkcH90XWD5t2kD1Dway3SGG047j7HIHg7aHJRidwl6kbQ8pmLDk7Dnmc+6whgTD5BYYNl18Y+T2cMCpBmJ0fr7Z7BTLDqd9+VX8wJRSgznuLianfQQ/7BDMXmPw4g4SmOSCH8yiYxwwf8TFaK2YaDFeHFiHptHsOW9TH2wwp3Jv3zarrlO9XvMpq//b9jo1nbcyVW/b4rAW6OFwDS/azyc9l2u9rwCXfyhqTMMarJscFGA45c0N4ze8u2PNraC3QubsDTMHf1pHyNXlRdm/YSZYq2wDwnCwFjQVxhhqdddOqm15w0pZEnzJBFVv7o5AVjBH7dHjQkxYt+BxsUjSUSeCFfjsLOAAyBTwiskO9lQKSqY9rCXA6N8fyBK0JTY8epJCUZfweEPAwz6fD/n7KX0BHXHB3c0z7HU+0FOl3mE1/8qQocMfm0d0tGNWCNMZ2UnORSfath+VVcYa1bcv2DxtrXJrSFGrS/NchKahtbj0SlO66SfhkvIam0eqRsg/3VO654noK68Re8jHfDI/kzARf0okwnwJaW/JGJb029jzdrISOj42nWAIupx4o6S0Bkbacdq/GPacsloWqGXdZ6ifBfxFtFloVPcLoaS8SuxZ0/I/2L8hmftFJ3PMkD+B/7tM4+PRSqDKdh0FwZlQGtFpOB255VR3L/iUywJoy9iF6WehYXVXEKaqvO0/CyXlVTLdSKVeBdPfIypqRj7ubgXyPnzG8Hdo3rm04I09/AtsCKbr', 'page_number': 2.0, 'rag_type': 'Standard', 'type': 'CompositeElement'}, page_content='(The mechanical components that provide the force reduction from the 10KN load down to the low- energy/low-force release trigger.\\n\\n(The release elements consisting of nut segments and bolt.\\n\\n( The latching elements\\n\\n3.1 Prime Mover'),\n",
       "   0.479608029,\n",
       "   None),\n",
       "  (Document(id='2a40f9b7-9267-4395-a59b-07439620487a', metadata={'chunk_overlap': 0.0, 'chunk_size': 400.0, 'data_source.record_locator.protocol': 'gs', 'data_source.record_locator.remote_file_path': 'gs://processing-pdfs', 'data_source.url': 'gs://processing-pdfs/1999_christiansen_reocr.pdf', 'element_id': '2a40f9b7-9267-4395-a59b-07439620487a', 'file_directory': './document_processing', 'filename': '1999_christiansen_reocr.pdf', 'filetype': 'application/pdf', 'languages': ['eng'], 'last_modified': '2025-01-20T13:55:54', 'orig_elements': 'eJztlc+O3CgQxl8F+ZRDxs0fY8O8wWqTKFLmNhpZGMpuJBssm86kFe27b0H3TKJks8plLqPczFcUfBS/wvdfK5hhgZB676pbUo18ZKwzYwOsdarT4+isEJwqOhhh2VC9JdUCyTiTDM7/WtkYN+eDSbCX8WzO8ZT6I/jpmFDhnFLMucqP3qUjqqwr6hp9SDnv/p5pXqPEuGpr/vCWPAui6y6C4qrm/yVcUlCp9vOeYMnn+Oi/wPxpNRaqfzCQ7fZ7PG04zi43sGi7n6M1KW5FWreYoo1zzp72fM4NlpigH/0M/WqKb4zcHg441cK++zDdrG7cyw6nbf5V/MC01r09bn5P3oQdQr9BtFuNwYs7SGCTj6G3s9n3HvMHXIzWmgmJ8eLAeTSNZs95m/rgoj2Ve/u2WXWdGsyST1n937bXqem8lqlmXWePtUAPh2t4NmE6malc630FuPxDUffUL9H50UMBhlMubyi74fSOiVspb2WTs1fM7MNpGSBXlxdl+4aZYFK7BoTl4BwYKqy11JlWjlpK3rBSlgRfMkHVm7sjkAXs0QT0OBMblzUGXGwn6WgSwQp89g5wAGSMeMVkA3cqBSXjFpcSYPTvD2SOxhEXHwNJsahzfLwhEGCbzof8/ZQ+g9lxwc1PE2x1PtBTpd5hNf/KkKHDH5tHtLRlTgjbWtUqzkUrpOwG7bR1VnfyBZtH1jq3hhK1vjTPRWgaWotLrzSlm34SLimvsXmUboT60z2le56IvvK6Yw+FPZ8sTCSOJJwS2WG6hExwZIhz+m3suRydgpYPTSsYgq5G3milnIWBtpx2L4Y9p6xWBWpVdxnqZwF/ETILjW5/IZSUV4k9ayT/g/0bkrmfTbLHDPkT+L/LND4eUgHVrm0pCM6ENohOw+nAHaemfcGnXBVAJWMXpp+FhtVtQZjq8rb/LJSUV8l0o7R+FUx/j6ioGfm4+QXI+/gZw9+heefTjDf28C8zOKbf', 'page_number': 2.0, 'type': 'CompositeElement'}, page_content='(The mechanical components that provide the force reduction from the 10KN load down to the low- energy/low-force release trigger.\\n\\n(The release elements consisting of nut segments and bolt.\\n\\n( The latching elements\\n\\n3.1 Prime Mover'),\n",
       "   0.479580879,\n",
       "   None),\n",
       "  (Document(id='d222c767-a552-44dc-9c43-89ecc31d55a3', metadata={'chunk_overlap': 0.0, 'chunk_size': 400.0, 'data_source.record_locator.protocol': 'gs', 'data_source.record_locator.remote_file_path': 'gs://processing-pdfs', 'data_source.url': 'gs://processing-pdfs/1999_christiansen_reocr.pdf', 'element_id': 'd222c767-a552-44dc-9c43-89ecc31d55a3', 'file_directory': './document_processing', 'filename': '1999_christiansen_reocr.pdf', 'filetype': 'application/pdf', 'languages': ['eng'], 'last_modified': '2025-01-20T14:15:10', 'orig_elements': 'eJztlU2P3CgQhv8K8imHjJsPf8D8g9UmUaTMbTSyMJTdSDZYhs6kFe1/34LumUTJZpXLXEa5mbcoeCmewvdfK1hgBZ8GZ6tbUk18YqzXUwOss7JX02SNEJxKOmph2Fi9JdUKSVudNM7/WpkQduu8ThDLeNHncErDEdx8TKhwTinmXOVHZ9MRVdYXdQvOp5x3f88Ur1FiXHY1f3hLngXR9xdBclnz/xIuKahU8RwTrPkcH90XWD5t2kD1Dway3SGG047j7HIHg7aHJRidwl6kbQ8pmLDk7Dnmc+6whgTD5BYYNl18Y+T2cMCpBmJ0fr7Z7BTLDqd9+VX8wJRSgznuLianfQQ/7BDMXmPw4g4SmOSCH8yiYxwwf8TFaK2YaDFeHFiHptHsOW9TH2wwp3Jv3zarrlO9XvMpq//b9jo1nbcyVW/b4rAW6OFwDS/azyc9l2u9rwCXfyhqTMMarJscFGA45e0NZTec3rHmlrW3jObsDTMHf1pHyNXlRdm/YSZYq2wDwnCwFjQVxhhqdddOqm15w0pZEnzJBFVv7o5AVjBH7dHjQkxYt+BxsUjSUSeCFfjsLOAAyBTwiskO9lQKSqY9rCXA6N8fyBK0JTY8epJCUZfweEPAwz6fD/n7KX0BHXHB3c0z7HU+0FOl3mE1/8qQocMfm0d0tGNWCNMZ2UnORSfath+VVcYa1bcv2DxtrXJrSFGrS/NchKahtbj0SlO66SfhkvIam0eqRsg/3VO654noK68Re8jHfDI/kzARf0okwnwJaW/JGJb029jzdrISOj42nWAIupx4o6S0Bkbacdq/GPacsloWqGXdZ6ifBfxFtFloVPcLoaS8SuxZ0/I/2L8hmftFJ3PMkD+B/7tM4+PRSqDKdh0FwZlQGtFpOB255VR3L/iUywJoy9iF6WehYXVXEKaqvO0/CyXlVTLdSKVeBdPfIypqRj7ubgXyPnzG8Hdo3rm04I09/AtlNaaz', 'page_number': 2.0, 'type': 'CompositeElement'}, page_content='(The mechanical components that provide the force reduction from the 10KN load down to the low- energy/low-force release trigger.\\n\\n(The release elements consisting of nut segments and bolt.\\n\\n( The latching elements\\n\\n3.1 Prime Mover'),\n",
       "   0.478593051,\n",
       "   None),\n",
       "  (Document(id='9cef5ba9-3e3f-476f-a6cd-de3dd3923810', metadata={'chunk_overlap': 0.0, 'chunk_size': 400.0, 'data_source.record_locator.protocol': 'gs', 'data_source.record_locator.remote_file_path': 'gs://processing-pdfs', 'data_source.url': 'gs://processing-pdfs/1999_christiansen_reocr.pdf', 'element_id': '9cef5ba9-3e3f-476f-a6cd-de3dd3923810', 'file_directory': './document_processing', 'filename': '1999_christiansen_reocr.pdf', 'filetype': 'application/pdf', 'languages': ['eng'], 'last_modified': '2024-12-26T14:30:38', 'orig_elements': 'eJzdVD1v2zAQ/SuEZlsWaVkf3jp0a4uiCdDBCASaPEsEKFIlqTpGkP/eI20nadAU6NAlg2Hz3b27d8dH7x4y0DCCCZ2S2ZZkjRQtlEXb8rZeF/uCSVYxVmzKshZ1IatsQbIRApc8cMx/yIS1TirDA/h01vxk59ANoPohIILkAjkX+KhkGBCldUInq0yIvN2upW1eLQgtmjandwvyBFB6ASjd1Dn7I3ImIZT5kw8wxkm+qnvQNxMXkD1iIAruvJ0dnqNOBwKFd9oKHqxL0ORssMLqyO59nNTBaAN0B6Whm3hSjpHtaoWpArxXpl9O8uBTh9npt+Ir2rZtJwanfFDceDCdAytcjsGzOggggrKmE5p73yF/j8WKvCkb1mBCkiAVqka1p9gnX0kr5nR1z92yS6rhYxwz+1vfS2o4TSmVT5NWuAwUsbqENTf9zPt0s7sMsPxdQn3oRivVQUHyDCtYuaRsyapbWm7XxXbdRPaEzM7M4x7ielkcM8B99ES2ztfkEw9iIB/P7kvbviq5VUGnS3ttTtqwfV1XragqxsuKVrypSrZGM1JO95v9fzVnct6G5e3VnBFYl/RixU3ZvIGcSe/RnO2mYPRdmDMh7h/+Bl+6+fuASkkY8GPdjzl+EYfO5f6MjiAGbpQfycA92QMYDMtZgIyZPObiZD9Bn4i2R6IBfy6ICgT3ojVRnhgbUgiMnfsh1bcBXU3OS0fiHBecut18/kCOCOfkG5oCHILcEB7QeVOIVOmwV0q9inyqclRh+K3IIp1w+85yfK328KoRlgtO9T224cSDPixT+ZhyLa7TO8chZg8yf/nOv3Dn0uC3cZGPd78A62AWkQ==', 'page_number': 2.0, 'rag_type': 'Standard', 'type': 'CompositeElement'}, page_content='3.3 Latch Elements\\n\\nWhile the torque to release the mechanism has been reduced to a relatively low level, it still is not low enough to rotate directly using the SMA wire. Rather than attempt to drive the release directly with the SMA wire, the approach of using the SMA to trigger a self- driving release latch is used.'),\n",
       "   0.4758057,\n",
       "   None),\n",
       "  (Document(id='133c1b4d-0dcd-4f4c-ad64-1f70ee13217f', metadata={'chunk_overlap': 0.0, 'chunk_size': 400.0, 'data_source.record_locator.protocol': 'gs', 'data_source.record_locator.remote_file_path': 'gs://processing-pdfs', 'data_source.url': 'gs://processing-pdfs/1999_christiansen_reocr.pdf', 'element_id': '133c1b4d-0dcd-4f4c-ad64-1f70ee13217f', 'file_directory': './document_processing', 'filename': '1999_christiansen_reocr.pdf', 'filetype': 'application/pdf', 'languages': ['eng'], 'last_modified': '2025-01-20T13:55:54', 'orig_elements': 'eJzdVLFu2zAQ/RVCsy2LtCRL3jp0a4uiCdDBCASaPEsEKFIlqTpGkH/vkbaTNGgKdOiSwbD57t7du+Ojdw8ZaBjBhE7JbEuyRooWyqJtebtZF/uCSVYzVlRluRGbQtbZgmQjBC554Jj/kAlrnVSGB/DprPnJzqEbQPVDQATJBXIu8FHJMCBKNwmdrDIh8na7lrZ5vSC0aNqc3i3IE0DpBaC02uTsj8iZhFDmTz7AGCf5qu5B30xcQPaIgSi483Z2eI46HQgU3mkreLAuQZOzwQqrI7v3cVIHow3QHZSGbuJJOUa2qxWmCvBemX45yYNPHWan34qvaNu2nRic8kFx48F0DqxwOQbP6iCACMqaTmjufYf8PRYr8qZsWIMJSYJUqBrVnmKffCWtmNPVPXfLLqmGj3HM7G99L6nhNKVUPk1a4TJQxOoS1tz0M+/Tze4ywPJ3CfWhG61UBwXJM6xg1bKgS1bc0vW2qrZVGdkTMjszj3uI62VxzAD30RPZOl+TTzyIgXw8uy9t+6rkVgWdLu21OWnD9ptN3Yq6Zrysac2bumRrNCPldF/t/6s5k/MqlrdXc0ZgXdKLFauyeQM5k96jOduqYPRdmDMh7h/+Bl+6+fuASkkY8GPdjzl+EYfO5f6MjiAGbpQfycA92QMYDMtZgIyZPObiZD9Bn4i2R6IBfy6ICgT3ojVRnhgbUgiMnfsh1bcBXU3OS0fiHBecut18/kCOCOfkG5oCHILcEB7QeVOIVOmwV0q9inyqclRh+K3IIp1w+85yfK328KoRlgtO9T224cSDPixT+ZhyLa7TO8chZg8yf/nOv3Dn0uC3cZGPd78A2ZkWiw==', 'page_number': 2.0, 'type': 'CompositeElement'}, page_content='3.3 Latch Elements\\n\\nWhile the torque to release the mechanism has been reduced to a relatively low level, it still is not low enough to rotate directly using the SMA wire. Rather than attempt to drive the release directly with the SMA wire, the approach of using the SMA to trigger a self- driving release latch is used.'),\n",
       "   0.47494024,\n",
       "   None),\n",
       "  (Document(id='85f63566-4238-46e5-8cd4-f9d2c2f4b8e8', metadata={'chunk_overlap': 0.0, 'chunk_size': 400.0, 'data_source.record_locator.protocol': 'gs', 'data_source.record_locator.remote_file_path': 'gs://processing-pdfs', 'data_source.url': 'gs://processing-pdfs/1999_christiansen_reocr.pdf', 'element_id': '85f63566-4238-46e5-8cd4-f9d2c2f4b8e8', 'file_directory': './document_processing', 'filename': '1999_christiansen_reocr.pdf', 'filetype': 'application/pdf', 'languages': ['eng'], 'last_modified': '2025-01-20T14:15:10', 'orig_elements': 'eJzdVLFu2zAQ/RVCsy2LtCRL3jp0a4uiCdDBCASaPEsEKFIlqTpGkH/vkbaTNGgKdOiSwbD57t7du+Ojdw8ZaBjBhE7JbEuyRooWyqJtebtZF/uCSVYzVlRluRGbQtbZgmQjBC554Jj/kAlrnVSGB/DprPnJzqEbQPVDQATJBXIu8FHJMCBKNwmdrDIh8na7lrZ5vSC0aNqc3i3IE0DpBaC02uTsj8iZhFDmTz7AGCf5qu5B30xcQPaIgSi483Z2eI46HQgU3mkreLAuQZOzwQqrI7v3cVIHow3QHZSGbuJJOUa2qxWmCvBemX45yYNPHWan34qvaNu2nRic8kFx48F0DqxwOQbP6iCACMqaTmjufYf8PRYr8qZsWIMJSYJUqBrVnmKffCWtmNPVPXfLLqmGj3HM7G99L6nhNKVUPk1a4TJQxOoS1tz0M+/Tze4ywPJ3CfWhG61UBwXJM6xg1bKgS1bc0nJLqy0tIntCZmfmcQ9xvSyOGeA+eiJb52vyiQcxkI9n96VtX5XcqqDTpb02J23YfrOpW1HXjJc1rXlTl2yNZqSc7qv9fzVncl7F8vZqzgisS3qxYlU2byBn0ns0Z1sVjL4LcybE/cPf4Es3fx9QKQkDfqz7Mccv4tC53J/REcTAjfIjGbgnewCDYTkLkDGTx1yc7CfoE9H2SDTgzwVRgeBetCbKE2NDCoGxcz+k+jagq8l56Uic44JTt5vPH8gR4Zx8Q1OAQ5AbwgM6bwqRKh32SqlXkU9VjioMvxVZpBNu31mOr9UeXjXCcsGpvsc2nHjQh2UqH1OuxXV65zjE7EHmL9/5F+5cGvw2LvLx7heZmBZ1', 'page_number': 2.0, 'type': 'CompositeElement'}, page_content='3.3 Latch Elements\\n\\nWhile the torque to release the mechanism has been reduced to a relatively low level, it still is not low enough to rotate directly using the SMA wire. Rather than attempt to drive the release directly with the SMA wire, the approach of using the SMA to trigger a self- driving release latch is used.'),\n",
       "   0.474427402,\n",
       "   None),\n",
       "  (Document(id='6c93dc94-bc14-4756-b3f5-ee6cc5f733a7', metadata={'chunk_overlap': 0.0, 'chunk_size': 400.0, 'data_source.record_locator.protocol': 'gs', 'data_source.record_locator.remote_file_path': 'gs://processing-pdfs', 'data_source.url': 'gs://processing-pdfs/1999_christiansen_reocr.pdf', 'element_id': '6c93dc94-bc14-4756-b3f5-ee6cc5f733a7', 'file_directory': './document_processing', 'filename': '1999_christiansen_reocr.pdf', 'filetype': 'application/pdf', 'is_continuation': True, 'languages': ['eng'], 'last_modified': '2024-12-26T14:30:38', 'orig_elements': 'eJx9VNuK2zAQ/ZXBTy1kHd9y27e+FPpSCl3ow7IYWR7HAlkykpw0Lf33HilZdnuFEDK3M2fOjPL4PWPNE5vQqj67p0xum25bdlXHQ7Mri03T18VObOrNbtcdxHafrSibOIheBIH875m01vXKiMA+2Vpc7BLakdVxDPBUVVGg5uY+qz6M8Ja75J2tMiHWPT4eyn2+W1Gzb/LiaUXP9n5b5k20y02zz4u/OK4V8GT+4gNPcYpP6ivrz7OQnP1AIJJtvV0c7MjRsQTpVlspgnXJNTsbrLQ6Vh99nNLxZAO3g9LcziKxRuR+vUaqZO+VOd7N/eBTh8Xpf8XX5eFwaOXolA9KGM+mdWylyxG8suPAMihrWqmF9y3qO4AV+QGyH5CQKPQKrMH2Evvk697KJa3tpVt2SzViimNm/+t7Sw2XOaWKedYKYoDE+hbWwhwXcUxbfcwY8E/J60M72V4NitO9VEXV3JXVXbV9KJv7uriv04nMqGzNMnUc5a2Tx71c2b4UWzk0lSwPw7bGd72rG64a2fMGgE3SJfDXeEDZZz6xE5r6OIiRgQYWYXHsSY7CCRnYqW9MYWSSi4tdKMDNOX0I5INwwRNujwQ+dBJ6YUDJgIvtqbukujPEJSCigzCSSZiekiZIOVkdMA29qfMNvZtmvyJjJ1y8fpvTO/9SP4LW1XyFBMKOhWdUSbHENf1K1FLv7JzTwzNKx0dlfAxgCOMH66ZoKECPeFKEC58hRxSA5hHIq99bRkBPb6I3VrD7s4bwRdqeEbsWqpMKl7dp7tf0pDAgRJ7ZRBI4Jaj6ZYwWsiBqBIDUCQ8vKGk6CEds7AKyYI8Gmq80zxjD3GllgHhWQY5xhVjMnIjEiW8i5PR+0foKiJMkvFbQnK3p/XNa+ueIKz2PSo7Jpa3o0SD97rC0P6bpbBiTOhHkGzu7ItBOw6EsRdPh+Dye8PPb+CgcpFMnfoj3+OPpJwd7vgg=', 'page_number': 3.0, 'rag_type': 'Standard', 'type': 'CompositeElement'}, page_content='When the outer race has rotated far enough for release, two in-line switches cut power to the wire. Full rotation corresponds to the point at which the load in the bolt and the current both drop to zero, as seen in both traces.'),\n",
       "   0.464145899,\n",
       "   None),\n",
       "  (Document(id='4ca65826-851a-48db-b07b-9a490533a0b7', metadata={'chunk_overlap': 0.0, 'chunk_size': 400.0, 'data_source.record_locator.protocol': 'gs', 'data_source.record_locator.remote_file_path': 'gs://processing-pdfs', 'data_source.url': 'gs://processing-pdfs/1999_christiansen_reocr.pdf', 'element_id': '4ca65826-851a-48db-b07b-9a490533a0b7', 'file_directory': './document_processing', 'filename': '1999_christiansen_reocr.pdf', 'filetype': 'application/pdf', 'is_continuation': True, 'languages': ['eng'], 'last_modified': '2025-01-20T13:55:54', 'orig_elements': 'eJx9VNuK2zAQ/ZXBTy1kHduxc9m3vhT6Ugpd6MOyGFkexwJZMpKcNC399x4pWXZ7hRAylzNz5swoj98z1jyxCa3qs3vK5LbutmVXdTzUu7Jo6n5T7ESzaXa77iC2+2xF2cRB9CII5H/PpLWuV0YE9snW4mKX0I6sjmOAp6qKApib+6z6MMJb7pJ3tsqEiHt8PJT7fLeiel/nxdOKnu39tszraJdNvc+LvziuCHgyf/GBpzjFJ/WV9edZSM5+IBDJtt4uDnbk6FiCdKutFMG65JqdDVZaHdFHH6d0PNnA7aA0t7NIrBG5X6+RKtl7ZY53cz/41GFx+l/xdXk4HFo5OuWDEsazaR1b6XIEr+w4sAzKmlZq4X0LfIdiRX6A7AckJAq9AmuwvcQ++bq3cklre+mW3VKNmOKY2f/63lLDZU6pYp61ghggsb6FtTDHRRzTVh8zRvmn5PWhnWyvBsXpXqqiau6K8q4qHsrNfdPcN3VEz0C2Zpk6jvJukse9XNm+FFs51JUsD8N2g+/NblNzVcuem6Kq66RL4K/xgLLPfGInNPVxECMDDSzC4tiTHIUTMrBT35jCyCQXF7tQgJtz+hDIB+GCJ9weCXzoJPTCKCUDLran7pJwZ4hLqIgOwkgmYXpKmiDlZHXANPRmkzf0bpr9ioydcPH6bU7v/At+BK2r+aoSCDsWnoGSYolr+pWopd7ZOaeH5yodH5XxMYAhjB+sm6KhUHrEkyJc+Aw5ogA0j6i8+r1lLOjpTfRGBLs/MYQv0vaM2BWoTipc3qa5X9OTwoAQeWYTSeCUoOqXMVrIgqixAKRO9fCCkqaDcMTGLiAL9mig+UrzjDHMnVYGFc8qyDGuEIuZE5E48U2EnN4vWl8L4iQJrxU0Z2t6/5yW/jniSs+jkmNyaSt6NEi/Oyztj2k6G8akTizyjZ1dEWin4QBL0XQ4Po8n/Pw2PgoH6dSJH+I9/nj6Cf6fvgU=', 'page_number': 3.0, 'type': 'CompositeElement'}, page_content='When the outer race has rotated far enough for release, two in-line switches cut power to the wire. Full rotation corresponds to the point at which the load in the bolt and the current both drop to zero, as seen in both traces.'),\n",
       "   0.464036971,\n",
       "   None),\n",
       "  (Document(id='6844fc7b-1a0e-46a3-9344-51b3d4b18b79', metadata={'chunk_overlap': 0.0, 'chunk_size': 400.0, 'data_source.record_locator.protocol': 'gs', 'data_source.record_locator.remote_file_path': 'gs://processing-pdfs', 'data_source.url': 'gs://processing-pdfs/1999_christiansen_reocr.pdf', 'element_id': '6844fc7b-1a0e-46a3-9344-51b3d4b18b79', 'file_directory': './document_processing', 'filename': '1999_christiansen_reocr.pdf', 'filetype': 'application/pdf', 'is_continuation': True, 'languages': ['eng'], 'last_modified': '2025-01-20T14:15:10', 'orig_elements': 'eJx9VNtq4zAQ/ZXBT7uQOrbj3Pq2Lwv7siy0sA+lGFkexwJZMpKcbFr673ukpLR7hRAylzNz5swoD88Zax7ZhEZ12S1lclO3m7KtWu7rbVms625VbMV6td5u273Y7LIFZSMH0YkgkP+cSWtdp4wI7JOtxdnOoRlYHYYAT1UVBTBX90l1YYC33CbvZJUJEffwsC93+XZB9a7Oi8cFvdq7TZnX0S7X9S4v/uK4IODJ/NkHHuMU39QP1neTkJy9IBDJNt7ODnbk6FiCdKOtFMG65JqcDVZaHdEHH6d0PNrATa80N5NIrBG5XS6RKtl7ZQ43U9f71GF2+l/xZbnf7xs5OOWDEsazaRxb6XIEL+w4sAzKmkZq4X0DfItiRb6H7HskJAqdAmuwPcc++bKzck5re+uWXVONGOOY2f/6XlPDeUqpYpq0ghggsbyGtTCHWRzSVh8yRvnH5PWhGW2nesXpXqqiWt8U5U1V3Jf1bbm+LYuInoBszDy2HOVdJY97u7JdKTayrytZ7vvNCt+r7armqpYdr4uqrpMugX/EA8ru+MhOaOriIEYG6lmE2bEnOQgnZGCnnpjCwCRnF7tQgJtz+hLIB+GCJ9weCXzoKPTMKCUDLraj9pxwJ4hLqIgOwkgmYTpKmiDlaHXANPRhla/p0zj5BRk74uL1x5w++Tf8AFoX810lEHYsPAMlxRzX9CtRS52zU073r1VaPijjYwBDGN9bN0ZDofSAJ0W48AlyRAFoGlB58XvLWNDTh+iNCHZ/YghfpO0JsQtQHVU4f0xzv6cnhQEh8swmksApQdXvQ7SQBVFjAUid6uEFJU174YiNnUEW7NFA84XmCWOYG60MKp5UkENcIRYzJSJx4qsIOX2etb4UxEkSXitoTtZ0/jUt/XPElZ4GJYfk0lZ0aJB+t1jaH9O0NgxJnVjkiZ1dEGin4QBL0XQ4Po8n/Po2vgoH6dSR7+M9vjz+BN7xvfo=', 'page_number': 3.0, 'type': 'CompositeElement'}, page_content='When the outer race has rotated far enough for release, two in-line switches cut power to the wire. Full rotation corresponds to the point at which the load in the bolt and the current both drop to zero, as seen in both traces.'),\n",
       "   0.463901401,\n",
       "   None),\n",
       "  (Document(id='10033a0e-ed2e-4f83-9cae-92c1c137f1a4', metadata={'chunk_overlap': 0.0, 'chunk_size': 400.0, 'data_source.record_locator.protocol': 'gs', 'data_source.record_locator.remote_file_path': 'gs://processing-pdfs', 'data_source.url': 'gs://processing-pdfs/1999_christiansen_reocr.pdf', 'element_id': '10033a0e-ed2e-4f83-9cae-92c1c137f1a4', 'file_directory': './document_processing', 'filename': '1999_christiansen_reocr.pdf', 'filetype': 'application/pdf', 'languages': ['eng'], 'last_modified': '2025-01-20T13:55:54', 'orig_elements': 'eJztVk1v3DYQ/SuETj3YWor6IOWbgTpFADdt7W0vjiFQ5GiXqFZSSSrOwuh/75BaOwa8KZCDLwsf3/CRnCHfI+fuMYEedjD4xujkgiSKAVTAOKvyTokKqg64EFwLyTjITCZnJNmBl1p6ifzHRI2j1WaQHlzEvdyPs2+2YDZbjxHGKMU5h/CD0X6L0YzH6DSawYd5d3eM5ml2RspCpNX9GXnGvEyLgKsiT/MjOPIxkLi987ALNfxuvkJ/O0kFyb84EFJt3DhbxCFDCwpTbvpRST/aGJrs6Ec19mH2xoUaLexGD01nemgmGXPGkYvVCqkKnDPD5nzSnYs7zLb/3vgqq+u6UVtrnDdycDA0FkZlUxxcsgMPyptxaFQvnWtwfouL0VQUGeNIiClog1ljtvuwT7rSo5rjpX3bLTlQB7kLZSb/t++B6vdTpMpp6g0eBiaxOgz3ctjMchPv9C4BXP4+Rp1vdqM2nYGoFkZZeU6zc0bXWX5RlhdlEWZPOLMZ5l0L4XjzUKaHr0ENSZGS3/66urm8viY/X91+/OUT+XB1uf7z5uo2THzKaG18Hy/vlTypLjuuVCkpF6yjkudZWdRCZ0WtOi3eUJ5ZKs5IlWUpXeQZMfIWOQrG0/o1XvinKM+aCZqfhDxjxP7AE/hSzx/MZrZAcmIckWTa4kVtrJy2ZOyI3wL54+HvYfZEDjrCduw9seCtDMe1wqrUFiwxQxxV49CF9WKtGJGebKUjLcBA/pllHwtLXxrlk7SB/QXWIZ8jhtE147SjHPXaYg2VYqrSpdQcw7or8zc0TBHeZ56LlC2GWXBVLbgqaVodwZF/ioYRtKbFu2HWqPMdqK0cjNuhFXqQDogzOsrfYXkOvXPxQyJnrINC5tDyMtdlLnPRAfBaZbpidanUm4k8q8soWs6WX+GARY6fw/IL4PP/Gi/8kxR5TWn5LvJHcvvrJXnA+om3ZrMB68jnGd/gIr7z3/SPv8aBAJq0e/SDngctB/+8AH4rjmhwypoWObIdv8BLc1zjWX0MGjrii1rJTFHeiSIXlPGikq1qKbZQPCsoQPZ2vhA8dEcir5Zm/gnX/MkHdcqP4Mg/SV+IktXvvviJ3Ixe2v3zu9+HBujJGuFreLYLXiLKMNplIUm7I37EVsngGeAIKhA7J2ykYOFiwcd9cf8fWVi0/Q==', 'page_number': 3.0, 'type': 'CompositeElement'}, page_content='4. OVERALL DESIGN FEATURES\\n\\nFigure 3 is a photograph of the Qwknut and the bolt retractor/catcher in the configuration that has been qualified.\\n\\nThe mechanism release side consists of:\\n\\n{ SMA wire triggers — the mechanism is triggered by redundant SMA wires as described above\\n\\n( Rotary release latch — The triggers rotate the latch arm to initiate outer race rotation'),\n",
       "   0.453898221,\n",
       "   None),\n",
       "  (Document(id='02b8f407-7989-4dbb-a606-41d7be45b274', metadata={'chunk_overlap': 0.0, 'chunk_size': 400.0, 'data_source.record_locator.protocol': 'gs', 'data_source.record_locator.remote_file_path': 'gs://processing-pdfs', 'data_source.url': 'gs://processing-pdfs/1999_christiansen_reocr.pdf', 'element_id': '02b8f407-7989-4dbb-a606-41d7be45b274', 'file_directory': './document_processing', 'filename': '1999_christiansen_reocr.pdf', 'filetype': 'application/pdf', 'languages': ['eng'], 'last_modified': '2024-12-26T14:30:38', 'orig_elements': 'eJztVk1v3DYQ/SuETj3YWor6IOWbgTpFADdt7W0vjiFQ5GiXqFZSSSrOwuh/75BaOwa8KZCDLwsf3/CRnCHfI+fuMYEedjD4xujkgiSKAVTAOKvyTokKqg64EFwLyTjITCZnJNmBl1p6ifzHRI2j1WaQHlzEvdyPs2+2YDZbjxHGKMU5h/CD0X6L0YzH6DSawYd5d3eM5ml2RspCpNX9GXnGvEyLgKsiT/MjOPIxkLi987ALNfxuvkJ/O0kFyb84EFJt3DhbxCFDCwpTbvpRST/aGJrs6Ec19mH2xoUaLexGD01nemgmGXPGkYvVCqkKnDPD5nzSnYs7zLb/3vgqq+u6UVtrnDdycDA0FkZlUxxcsgMPyptxaFQvnWtwfouL0VQUGeNIiClog1ljtvuwT7rSo5rjpX3bLTlQB7kLZSb/t++B6vdTpMpp6g0eBiaxOgz3ctjMchPv9C4BXP4+Rp1vdqM2nYGoFkZZcZ6xc1ats+Iipxe5CLMnnNkM866FcLx5KNPD16CGpEjJb39d3VxeX5Ofr24//vKJfLi6XP95c3UbJj5ltDa+j5f3Sp5Ulx1XqpSUC9ZRyfOsLGqhs6JWnRZvKM8sFWekyrKULvKMGHmLHAXjaf0aL/xTlGfNBM1PQp4xYn/gCXyp5w9mM1sgOTGOSDJt8aI2Vk5bMnbEb4H88fD3MHsiBx1hO/aeWPBWhuNaYVVqC5aYIY6qcejCerFWjEhPttKRFmAg/8yyj4WlL43ySdrA/gLrkM8Rw+iacdpRjnptsYZKMVXpUmqOYd2V+RsapgjvM89FyhbDLLiqFlyVNK2O4Mg/RcMIWtPi3TBr1PkO1FYOxu3QCj1IB8QZHeXvsDyH3rn4IZEz1kEhc2h5mesyl7noAHitMl2xulTqzUSe1WUULWfLr3DAIsfPYfkF8Pl/jRf+SYq8prR8F/kjuf31kjxg/cRbs9mAdeTzjG9wEd/5b/rHX+NAAE3aPfpBz4OWg39eAL8VRzQ4ZU2LHNmOX+ClOa7xrD4GDR3xRa1kpijvRJELynhRyVa1FFsonhUUIHs7XwgeuiORV0sz/4Rr/uSDOuVHcOSfpC9Eyep3X/xEbkYv7f753e9DA/RkjfA1PNsFLxFlGO2ykKTdET9iq2TwDHAEFYidEzZSsHCx4OO+uP8PwBK1DA==', 'page_number': 3.0, 'rag_type': 'Standard', 'type': 'CompositeElement'}, page_content='4. OVERALL DESIGN FEATURES\\n\\nFigure 3 is a photograph of the Qwknut and the bolt retractor/catcher in the configuration that has been qualified.\\n\\nThe mechanism release side consists of:\\n\\n{ SMA wire triggers — the mechanism is triggered by redundant SMA wires as described above\\n\\n( Rotary release latch — The triggers rotate the latch arm to initiate outer race rotation'),\n",
       "   0.453886241,\n",
       "   None)],\n",
       " 'cited_sources': [[(Document(id='606ecc55-5aab-4d4f-8586-f24cb68961e1', metadata={'chunk_overlap': 0.0, 'chunk_size': 400.0, 'data_source.record_locator.protocol': 'gs', 'data_source.record_locator.remote_file_path': 'gs://processing-pdfs', 'data_source.url': 'gs://processing-pdfs/1999_christiansen_reocr.pdf', 'element_id': '606ecc55-5aab-4d4f-8586-f24cb68961e1', 'file_directory': './document_processing', 'filename': '1999_christiansen_reocr.pdf', 'filetype': 'application/pdf', 'languages': ['eng'], 'last_modified': '2024-12-26T14:30:38', 'orig_elements': 'eJzdVU2L2zAQ/SvC56xiy5/KbSkUCqWUNrewGFkaJwLbMpK8u+nS/96RnG5LSfe2l5BL9PRG80Z6Mz68JDDACJNvtUp2JFFFngNTZV1nAvKKs5xVfZM2ouYgmYBkQ5IRvFDCC+S/JNIYq/QkPLi4HsTZLL49gT6ePCKMpSnGXOAnrfwJ0ayO6Gz05EPc4ZBxTpsNyViZ0eJhQ16BvMhpHoCGVTS/BqwhiCTu7DyMoY6v+hmG77OQkPzEjSC3dWaxuA4qLUiU3Q5GCm9shGZrvJFmCNFHF+q0MBoPba8HaGcRdePObrtFqgTn9HS8m1XvYobFDv/b32IpvJUnq53XYnIwtRaMtBQ3V3XgQXptplYOwrkW4zs8LKU8rdIKCVGC0qga1Z5DHrpVRi7x4f5kSy7USYyhzOStvBeqP8+RKuZ50HgZKGJ72R7EdFzEMb7rIQE8/iGizrejUbrXEB3DUlbcZeyOVfus2OXpLm9C9IyR7bSMHYTrLUOZHp6DI5KP+rhYIAUl+/OMSQfSL1OsH/9acLNBrZTcE7lYixWSeRkcEO1IVAmKeEP8CcgT3ggl39DBYt3XkwpFIKM7R0ZnBk8GIxRRIC3S8JZC9A+whgaZv+v/IqzF6h9hH0Si2n8bo85KnleNAsWLsuqaouxzyUDyNIOcN9m7NQYvGGXo8oyvfXFZlymjTeyTktVXgTXiNtsiq+uba4vPwaa/zbzXIziSk5yWpCBFSfBXkop8WFtiQ+7H2f1t4E8jnnzNuLzCYa44xwbopJI9q6XkJavKouM8LeX7GTdrKEKYnabRuOu64jXNVp8WNa2uAGvELRq3zlPObs64l3le4jw/WQDiwDtiehzlq5c9epmEFyO9sTiWAwefdQacuAu4ELaSHMFXXD8ArzM+BnfgnwCm1w+C88J6IpAVZ/sl0XoQch7xJAsznhTI4hETYdlBkpB+wY9MEPPW+H/4BdX65rk=', 'page_number': 5.0, 'rag_type': 'Standard', 'type': 'CompositeElement'}, page_content='Figure 4. Typical functional response. A current pulse is applied to the wire. Release is indicated by the bolt load decreasing to zero.\\n\\nLoad Release Times 3 3.5 4 45 5 55 6 Current, Amps\\n\\nFigure 5. Three sets of release time data for three temperatues. The times correspond to the time between current start and load release. The curves represent averages of actual data.'),\n",
       "    0.517737329,\n",
       "    0.46104163)]],\n",
       " 'alternative_questions': [['What happens to the bolt load when a current pulse is applied to the wire?',\n",
       "   \"In what way does the application of a current pulse affect the mechanism's functionality?\",\n",
       "   'How does the mechanism respond to electrical stimulation in terms of bolt load changes?']]}"
      ]
     },
     "execution_count": 40,
     "metadata": {},
     "output_type": "execute_result"
    }
   ],
   "source": [
    "result"
   ]
  },
  {
   "cell_type": "code",
   "execution_count": 41,
   "metadata": {},
   "outputs": [
    {
     "data": {
      "text/plain": [
       "'Release is indicated by the bolt load decreasing to zero when a current pulse is applied to the wire <source id=\"4\">.'"
      ]
     },
     "execution_count": 41,
     "metadata": {},
     "output_type": "execute_result"
    }
   ],
   "source": [
    "result['messages'][-1].content"
   ]
  },
  {
   "cell_type": "code",
   "execution_count": 42,
   "metadata": {},
   "outputs": [
    {
     "name": "stdout",
     "output_type": "stream",
     "text": [
      "page_content='Release of the mechanism consists of rotating the latch arm with the SMA trigger wires until the toggles are no longer constrained radially. Once the latch arm has rotated clear, the toggles move outward and the outer race rotates toward the released position as described above. Figure 2 shows a cross section showing the basic latch components.' metadata={'chunk_overlap': 0.0, 'chunk_size': 400.0, 'data_source.record_locator.protocol': 'gs', 'data_source.record_locator.remote_file_path': 'gs://processing-pdfs', 'data_source.url': 'gs://processing-pdfs/1999_christiansen_reocr.pdf', 'element_id': '5464aae9-4a08-48cc-8e9f-4242570d6709', 'file_directory': './document_processing', 'filename': '1999_christiansen_reocr.pdf', 'filetype': 'application/pdf', 'languages': ['eng'], 'last_modified': '2024-12-26T14:30:38', 'orig_elements': 'eJx9Ustu2zAQ/BVC50SmHrYs33rprQ80uQWBsCbXEgGKFLhUHCPIv3dJOyjaoj3uzOzu7OPprUCLM7o4GF0cRLFtmtNJVlXb1HvVntS2Atxp2Ukpm1oqKO5EMWMEDRFY/1Yo74M2DiJSji1c/BqHCc04RUbqWkrOucFno+PEaNVldPHGxZT39FT1+5KhetuV8vlOfMRt15V9ivd1X3Z/x1c9AwVdKOKcZvhuXtE+LKCweGciWR3Ir4Hj5DCgYsuD9QqiDxlago9eeZuyR0ozBpx9xOFkLA4LZM/MHDYbliokMm68X/SJcoc12H/xm6rv+0FNwVA04AjdENCrUDJ5dYcRVTTeDcoC0cD5Ry4my37b7ioWZAvasGt2e0l9yo32as1H+9WtuEkdzGnM4n99b9J4WbIUlsUaXgab2NxoC25cYcw3fSqQyz9nlOIwe21OBvO31LJu76v6vt49Vu2hkYdmn7IXzhzcOh8xrbfJSPj1Y3utemxl30PfNfIoa13v+E22bdupTupd3kvE1/Q+xQ/+TyAU/iTihGJGNYEzNAvlHfFwlBg+H9t3Y5ZYiGoSEGZxNnHK0MOXTyIGM44YGAxIYnXR2MxFP46WEXYonBfWu6RK1WMA41CLANqAtZdSfHMK/+gxAV3bs1Cx1XD3W9XZv7D3NZ4haAFOZ5JjbhH4QW+pxPqsSGy4TqzF4smkowhuoZFUMEdG4cglS/HZjCs7rgVN/szuhQqeSND1mTL6sZAjkFE3y8rPi3d8CyrTpT5e4CuEwBt8wce09vfnn5VoWJY=', 'page_number': 3.0, 'rag_type': 'Standard', 'type': 'CompositeElement'}\n"
     ]
    }
   ],
   "source": [
    "print(result['context'][0][0])"
   ]
  },
  {
   "cell_type": "code",
   "execution_count": null,
   "metadata": {},
   "outputs": [],
   "source": []
  },
  {
   "cell_type": "markdown",
   "metadata": {},
   "source": [
    "## Test PDF annotation"
   ]
  },
  {
   "cell_type": "code",
   "execution_count": 43,
   "metadata": {},
   "outputs": [
    {
     "name": "stdout",
     "output_type": "stream",
     "text": [
      "[{'element_id': '533ff0114328c4fc51ae6d07000320ca', 'metadata': {'coordinates': {'layout_height': 2200, 'layout_width': 1700, 'points': [[198.0, 257.0], [198.0, 477.9], [829.7, 477.9], [829.7, 257.0]], 'system': 'PixelSpace'}, 'data_source': {'record_locator': {'protocol': 'gs', 'remote_file_path': 'gs://processing-pdfs'}, 'url': 'gs://processing-pdfs/1999_christiansen_reocr.pdf'}, 'detection_class_prob': 0.95461, 'file_directory': './document_processing', 'filename': '1999_christiansen_reocr.pdf', 'filetype': 'application/pdf', 'languages': ['eng'], 'last_modified': '2025-01-20T14:15:10', 'page_number': 3, 'parent_id': '8dc9e4099a9730b02d262205447c70d6'}, 'text': 'Release of the mechanism consists of rotating the latch arm with the SMA trigger wires until the toggles are no longer constrained radially. Once the latch arm has rotated clear, the toggles move outward and the outer race rotates toward the released position as described above. Figure 2 shows a cross section showing the basic latch components.', 'type': 'NarrativeText'}]\n",
      "1\n"
     ]
    }
   ],
   "source": [
    "import json, base64, zlib\n",
    "\n",
    "def extract_orig_elements(orig_elements):\n",
    "    decoded_orig_elements = base64.b64decode(orig_elements)\n",
    "    decompressed_orig_elements = zlib.decompress(decoded_orig_elements)\n",
    "    return decompressed_orig_elements.decode('utf-8')\n",
    "\n",
    "orig_elements = extract_orig_elements(result['context'][2][0].metadata['orig_elements'])\n",
    "orig_elements = json.loads(orig_elements)\n",
    "print(orig_elements)\n",
    "print(len(orig_elements))"
   ]
  },
  {
   "cell_type": "code",
   "execution_count": 44,
   "metadata": {},
   "outputs": [
    {
     "name": "stdout",
     "output_type": "stream",
     "text": [
      "[3, 3]\n"
     ]
    }
   ],
   "source": [
    "page_range = [orig_elements[0]['metadata']['page_number'], orig_elements[-1]['metadata']['page_number']]\n",
    "print(page_range)"
   ]
  },
  {
   "cell_type": "code",
   "execution_count": 45,
   "metadata": {},
   "outputs": [
    {
     "ename": "ImportError",
     "evalue": "cannot import name 'display_source_highlights' from 'aerospace_chatbot.ui.utils' (/Users/danmueller/Documents/GitHub/aerospace_chatbot/src/aerospace_chatbot/ui/utils.py)",
     "output_type": "error",
     "traceback": [
      "\u001b[0;31m---------------------------------------------------------------------------\u001b[0m",
      "\u001b[0;31mImportError\u001b[0m                               Traceback (most recent call last)",
      "Cell \u001b[0;32mIn[45], line 1\u001b[0m\n\u001b[0;32m----> 1\u001b[0m \u001b[38;5;28;01mfrom\u001b[39;00m \u001b[38;5;21;01maerospace_chatbot\u001b[39;00m\u001b[38;5;21;01m.\u001b[39;00m\u001b[38;5;21;01mui\u001b[39;00m\u001b[38;5;21;01m.\u001b[39;00m\u001b[38;5;21;01mutils\u001b[39;00m \u001b[38;5;28;01mimport\u001b[39;00m display_source_highlights\n\u001b[1;32m      3\u001b[0m annotated_pdfs \u001b[38;5;241m=\u001b[39m display_source_highlights(result[\u001b[38;5;124m'\u001b[39m\u001b[38;5;124mcontext\u001b[39m\u001b[38;5;124m'\u001b[39m][:k_rerank])\n\u001b[1;32m      4\u001b[0m \u001b[38;5;28mprint\u001b[39m(\u001b[38;5;28mlen\u001b[39m(annotated_pdfs))\n",
      "\u001b[0;31mImportError\u001b[0m: cannot import name 'display_source_highlights' from 'aerospace_chatbot.ui.utils' (/Users/danmueller/Documents/GitHub/aerospace_chatbot/src/aerospace_chatbot/ui/utils.py)"
     ]
    }
   ],
   "source": [
    "from aerospace_chatbot.ui.utils import display_source_highlights\n",
    "\n",
    "annotated_pdfs = display_source_highlights(result['context'][:k_rerank])\n",
    "print(len(annotated_pdfs))"
   ]
  },
  {
   "cell_type": "code",
   "execution_count": null,
   "metadata": {},
   "outputs": [],
   "source": [
    "import fitz\n",
    "from IPython.display import display, Image\n",
    "from tempfile import NamedTemporaryFile\n",
    "\n",
    "pdf_bytes = annotated_pdfs[1].read()\n",
    "pdf_document = fitz.open(stream=pdf_bytes, filetype=\"pdf\")\n",
    "\n",
    "# Display each page\n",
    "for page in pdf_document:\n",
    "    pix = page.get_pixmap(matrix=fitz.Matrix(1, 1))  # 2x zoom for better resolution\n",
    "    with NamedTemporaryFile(suffix='.png') as tmp:\n",
    "        pix.save(tmp.name)\n",
    "        display(Image(filename=tmp.name))\n",
    "\n",
    "pdf_document.close()"
   ]
  },
  {
   "cell_type": "markdown",
   "metadata": {},
   "source": [
    "## Summary memory test prompts"
   ]
  },
  {
   "cell_type": "code",
   "execution_count": 157,
   "metadata": {},
   "outputs": [],
   "source": [
    "# prompt = 'How old are you?'\n",
    "# result = qa_model.workflow.invoke({\"messages\": [(\"human\", prompt)]}, config)\n",
    "# for message in result['messages']:\n",
    "#     message.pretty_print()"
   ]
  },
  {
   "cell_type": "code",
   "execution_count": 158,
   "metadata": {},
   "outputs": [],
   "source": [
    "# prompt = 'What are some lessons learned about these mechanisms?'\n",
    "# result = qa_model.workflow.invoke({\"messages\": [(\"human\", prompt)]}, config)\n",
    "# for message in result['messages']:\n",
    "#     message.pretty_print()"
   ]
  },
  {
   "cell_type": "code",
   "execution_count": 159,
   "metadata": {},
   "outputs": [],
   "source": [
    "# prompt = 'What are some problems that have occurred?'\n",
    "# result = qa_model.workflow.invoke({\"messages\": [(\"human\", prompt)]}, config)\n",
    "# for message in result['messages']:\n",
    "#     message.pretty_print()"
   ]
  }
 ],
 "metadata": {
  "kernelspec": {
   "display_name": "Python 3",
   "language": "python",
   "name": "python3"
  },
  "language_info": {
   "codemirror_mode": {
    "name": "ipython",
    "version": 3
   },
   "file_extension": ".py",
   "mimetype": "text/x-python",
   "name": "python",
   "nbconvert_exporter": "python",
   "pygments_lexer": "ipython3",
   "version": "3.11.10"
  },
  "orig_nbformat": 4
 },
 "nbformat": 4,
 "nbformat_minor": 2
}
