{
 "cells": [
  {
   "cell_type": "markdown",
   "metadata": {},
   "source": [
    "# Ragas evaluation\n",
    "Test batch and ragas capability.\n",
    "\n",
    "Uses this article as a model: https://towardsdatascience.com/visualize-your-rag-data-evaluate-your-retrieval-augmented-generation-system-with-ragas-fc2486308557\n",
    "\n",
    "Ragas repository: https://github.com/explodinggradients/ragas/tree/main"
   ]
  },
  {
   "cell_type": "code",
   "execution_count": 2,
   "metadata": {},
   "outputs": [
    {
     "data": {
      "text/plain": [
       "True"
      ]
     },
     "execution_count": 2,
     "metadata": {},
     "output_type": "execute_result"
    }
   ],
   "source": [
    "import os, sys\n",
    "from ragas.testset import TestsetGenerator\n",
    "from ragas import RunConfig\n",
    "from dotenv import load_dotenv,find_dotenv\n",
    "import chromadb\n",
    "from chromadb import PersistentClient\n",
    "from langchain_community.vectorstores import Chroma\n",
    "from langchain_openai import ChatOpenAI, OpenAIEmbeddings\n",
    "from langchain_core.documents import Document\n",
    "import pandas as pd\n",
    "import random\n",
    "\n",
    "# Import local packages\n",
    "sys.path.append('../src/aerospace_chatbot')\n",
    "from data_processing import _stable_hash_meta\n",
    "\n",
    "# Set environment variables with .env\n",
    "load_dotenv(find_dotenv(), override=True)"
   ]
  },
  {
   "cell_type": "markdown",
   "metadata": {},
   "source": [
    "## Connect to database"
   ]
  },
  {
   "cell_type": "code",
   "execution_count": 3,
   "metadata": {},
   "outputs": [],
   "source": [
    "persistent_client = chromadb.PersistentClient(path=os.path.join(os.getenv('LOCAL_DB_PATH'),'chromadb'))   \n",
    "query_model=OpenAIEmbeddings(model='text-embedding-ada-002',openai_api_key=os.getenv('OPENAI_API_KEY'))\n",
    "\n",
    "# Connect to vectorstore where no chunking was done only full PDF pages\n",
    "vectorstore = Chroma(client=persistent_client,\n",
    "                        collection_name='chromadb-openai-ams-400chunk',\n",
    "                        embedding_function=query_model)  "
   ]
  },
  {
   "cell_type": "code",
   "execution_count": 4,
   "metadata": {},
   "outputs": [],
   "source": [
    "all_docs = vectorstore.get(include=[\"metadatas\", \"documents\", \"embeddings\"])"
   ]
  },
  {
   "cell_type": "code",
   "execution_count": 5,
   "metadata": {},
   "outputs": [],
   "source": [
    "lcdocs = [Document(page_content=doc, metadata=metadata) \n",
    "          for doc, metadata in zip(all_docs['documents'], all_docs['metadatas'])]"
   ]
  },
  {
   "cell_type": "markdown",
   "metadata": {},
   "source": [
    "## Generate synthetic dataset"
   ]
  },
  {
   "cell_type": "code",
   "execution_count": 5,
   "metadata": {},
   "outputs": [],
   "source": [
    "generator_model=\"gpt-3.5-turbo-16k\"\n",
    "generator_llm = ChatOpenAI(model=generator_model)\n",
    "\n",
    "critic_model=\"gpt-3.5-turbo-16k\"\n",
    "# critic_model=\"gpt-4\"\n",
    "critic_llm = ChatOpenAI(model=critic_model)\n",
    "\n",
    "embeddings = OpenAIEmbeddings()"
   ]
  },
  {
   "cell_type": "code",
   "execution_count": 6,
   "metadata": {},
   "outputs": [],
   "source": [
    "generator = TestsetGenerator.from_langchain(\n",
    "    generator_llm,\n",
    "    critic_llm,\n",
    "    embeddings\n",
    ")\n",
    "# Calculate the number of elements to sample. Use a random cross section.\n",
    "size=0.005\n",
    "sample_size = int(len(lcdocs) * size)\n",
    "\n",
    "# Get a random sample of lcdocs\n",
    "lcdocs_random = random.sample(lcdocs, sample_size)"
   ]
  },
  {
   "cell_type": "code",
   "execution_count": 7,
   "metadata": {},
   "outputs": [
    {
     "data": {
      "application/vnd.jupyter.widget-view+json": {
       "model_id": "e9a64e053e0a422087ffa783ac828eff",
       "version_major": 2,
       "version_minor": 0
      },
      "text/plain": [
       "embedding nodes:   0%|          | 0/62 [00:00<?, ?it/s]"
      ]
     },
     "metadata": {},
     "output_type": "display_data"
    },
    {
     "data": {
      "application/vnd.jupyter.widget-view+json": {
       "model_id": "b16c48d1bffd4876b30422ec4b048b50",
       "version_major": 2,
       "version_minor": 0
      },
      "text/plain": [
       "Generating:   0%|          | 0/5 [00:00<?, ?it/s]"
      ]
     },
     "metadata": {},
     "output_type": "display_data"
    },
    {
     "name": "stderr",
     "output_type": "stream",
     "text": [
      "[ragas.testset.filters.DEBUG] node filter: {'score': 4.0}\n",
      "[ragas.testset.evolutions.INFO] retrying evolution: 0 times\n",
      "[ragas.testset.filters.DEBUG] node filter: {'score': 5.0}\n",
      "[ragas.testset.evolutions.INFO] retrying evolution: 0 times\n",
      "[ragas.testset.filters.DEBUG] node filter: {'score': 4.0}\n",
      "[ragas.testset.evolutions.INFO] retrying evolution: 0 times\n",
      "[ragas.testset.filters.DEBUG] node filter: {'score': 4.0}\n",
      "[ragas.testset.evolutions.INFO] retrying evolution: 0 times\n",
      "[ragas.testset.filters.DEBUG] node filter: {'score': 7.5}\n",
      "[ragas.testset.evolutions.DEBUG] keyphrases in merged node: ['Mass intensity', 'Moisture inside the test chamber', 'Range of the mass spectrometer', 'Amplification settings', 'Conducted PoD experiments']\n",
      "[ragas.testset.filters.DEBUG] node filter: {'score': 4.0}\n",
      "[ragas.testset.evolutions.INFO] retrying evolution: 0 times\n",
      "[ragas.testset.filters.DEBUG] node filter: {'score': 4.5}\n",
      "[ragas.testset.evolutions.INFO] retrying evolution: 0 times\n",
      "[ragas.testset.filters.DEBUG] node filter: {'score': 7.5}\n",
      "[ragas.testset.evolutions.DEBUG] keyphrases in merged node: ['Mirror surface wavefront error', 'Defocused images', 'Iterative transform solver', 'Zernike terms', 'SPOT internal research & development project', 'Nanometer-level positioning', 'High-load nanometer displacement actuator', 'Low-cost actuators', 'Spherical Primary Optical Telescope (SPOT)', 'Segmented primary mirror space telescopes', 'Iterative transform phase-diversity phasing algorithm', 'Low-cost mirror segment', 'Segmented spherical primary', 'Rigid-body position control', 'Mechanical radius-of-curvature control']\n",
      "[ragas.testset.filters.DEBUG] node filter: {'score': 7.5}\n",
      "[ragas.testset.evolutions.DEBUG] keyphrases in merged node: ['Total UF', 'Nominal preload loss', 'Heat strap flight joints', 'Re-torque', 'Torque/preload UF', 'Preload loss from CF', 'Joint relaxation test', 'Threaded inserts in Al-1100', 'Washers bearing directly on high purity aluminum foils', 'Indium gaskets', 'Pull-out strengths for inserts in Al-1100', 'Re-torqueing bolts', 'JWST heat strap joint designs']\n",
      "[ragas.testset.filters.DEBUG] node filter: {'score': 7.5}\n",
      "[ragas.testset.evolutions.DEBUG] keyphrases in merged node: ['Smallest temperature coefficient', 'Radiations that can induce demagnetization', 'Rare earth magnets', 'NdFeB or SmCo', 'Smallest temperature coefficient', 'Higher Cure temperature', 'Higher irreversible point', 'SmCo withstand radiation', 'Resistance to corrosion', 'High resistance to oxidation', 'Highest grade of SmCo', 'Single magnet configuration', 'Magnet assembly', 'Field intensity', 'Homogeneity radius', 'Stray field distance', 'Complex magnet configuration', 'Halbach array', 'Cylindrical Halbach array', 'Halbach crown']\n",
      "[ragas.testset.filters.DEBUG] node filter: {'score': 7.5}\n",
      "[ragas.testset.evolutions.DEBUG] keyphrases in merged node: ['Vacuum operation', 'HCM', 'Repeatability testing', 'Mechanism speed', 'Motor and bearing inspection']\n",
      "[ragas.testset.evolutions.INFO] seed question generated: What were the results of the repeatability testing for the HCM?\n",
      "[ragas.testset.evolutions.INFO] seed question generated: What was required for the high-load nanometer displacement actuator in the SPOT project?\n",
      "[ragas.testset.evolutions.INFO] seed question generated: What are the different conducted PoD experiments listed in Table 1?\n",
      "[ragas.testset.evolutions.INFO] seed question generated: What is the impact of pull-out strengths for inserts in Al-1100 on joint designs?\n",
      "[ragas.testset.evolutions.INFO] seed question generated: What is the advantage of using a complex magnet configuration in a magnet assembly?\n",
      "[ragas.testset.filters.DEBUG] filtered question: {'feedback': 'The question asks for the results of the repeatability testing for the HCM. It is clear in specifying the topic of interest (repeatability testing) and the object being tested (HCM). However, the question assumes that the reader is familiar with the specific context and details of the repeatability testing for the HCM, which may not be the case for all readers. To improve clarity and answerability, it would be helpful to provide some additional context or details about the repeatability testing, such as the methodology used, the specific measurements or parameters being tested, and any relevant findings or conclusions. This would make the question more self-contained and understandable for a broader audience.', 'verdict': '0'}\n",
      "[ragas.testset.evolutions.INFO] rewritten question: What were the results of the repeatability testing for the HCM?\n",
      "[ragas.testset.filters.DEBUG] filtered question: {'feedback': \"The question asks for the different conducted PoD experiments listed in 'Table 1' without providing any context or description of the table. This makes the question unclear and unanswerable without access to 'Table 1'. To improve clarity and answerability, the question could include a brief description of the content or key findings of 'Table 1', or alternatively, frame the question in a way that does not rely on specific, unpublished documents.\", 'verdict': '0'}\n",
      "[ragas.testset.filters.DEBUG] filtered question: {'feedback': 'The question asks for the requirements of the high-load nanometer displacement actuator in the SPOT project. It specifies the actuator and the project, making the intent clear. However, the question assumes that the reader is familiar with the SPOT project and its specific requirements for the actuator. To improve clarity and answerability, the question could provide some context or background information about the SPOT project, such as its purpose or goals, or specify the type of requirements being referred to (e.g., mechanical, electrical, performance).', 'verdict': '0'}\n",
      "[ragas.testset.evolutions.INFO] rewritten question: What was required for the high-load nanometer displacement actuator in the SPOT project?\n",
      "[ragas.testset.filters.DEBUG] filtered question: {'feedback': 'The question asks for the advantage of using a complex magnet configuration in a magnet assembly. It is clear in specifying the topic of interest (complex magnet configuration, magnet assembly) and seeks information on the advantages of this configuration. The question is self-contained and does not rely on external references or prior knowledge. It has a clear intent and can be answered directly based on the details provided. Therefore, the verdict is 1.', 'verdict': '1'}\n",
      "[ragas.testset.filters.DEBUG] filtered question: {'feedback': 'The question asks for the impact of pull-out strengths for inserts in Al-1100 on joint designs. It specifies the material (Al-1100) and the variable of interest (pull-out strengths for inserts), making the intent clear. However, the question assumes prior knowledge of joint designs and their relationship to pull-out strengths, which may not be clear to those without domain knowledge. To improve clarity and answerability, the question could provide a brief explanation or context about joint designs and their connection to pull-out strengths, or specify the specific aspects of joint designs that are impacted by pull-out strengths (e.g., load-bearing capacity, durability).', 'verdict': '1'}\n",
      "[ragas.testset.evolutions.INFO] rewritten question: What are the different conducted Pin-on-Disc (PoD) experiments listed in Table 1 of the document?\n",
      "[ragas.testset.filters.DEBUG] filtered question: {'feedback': 'The question asks for the results of the repeatability testing for the HCM. It is clear in specifying the topic of interest (repeatability testing) and the object of testing (HCM). However, the question assumes that the reader is familiar with the specific context and details of the repeatability testing for the HCM, which may not be the case for a broader audience. To improve clarity and answerability, it would be helpful if the question provided some additional context or details about the repeatability testing, such as the purpose of the testing, the methodology used, or any specific metrics or criteria for evaluation.', 'verdict': '0'}\n",
      "[ragas.testset.evolutions.INFO] retrying evolution: 1 times\n",
      "[ragas.testset.filters.DEBUG] filtered question: {'feedback': 'The question asks for the requirements of the high-load nanometer displacement actuator in the SPOT project. It specifies the actuator and the project, making the intent clear. However, the question assumes that the reader is familiar with the SPOT project and its specific requirements for the actuator. To improve clarity and answerability, the question could provide some context or background information about the SPOT project, such as its purpose or goals, or specify the type of requirements being referred to (e.g., mechanical, electrical, performance).', 'verdict': '0'}\n",
      "[ragas.testset.evolutions.INFO] retrying evolution: 1 times\n",
      "[ragas.testset.evolutions.DEBUG] answer generated: {'answer': 'The advantage of using a complex magnet configuration in a magnet assembly is that it allows for constructive superposition of the magnetic field from different magnets at the sensor location and destructive superposition at the outside. This arrangement, known as the \"Halbach\" array, produces an intense field in a limited region and has a small stray distance because the total magnetic moment is zero.', 'verdict': '1'}\n",
      "[ragas.testset.filters.DEBUG] node filter: {'score': 5.0}\n",
      "[ragas.testset.evolutions.INFO] retrying evolution: 1 times\n",
      "[ragas.testset.evolutions.DEBUG] answer generated: {'answer': 'The pull-out strengths for inserts in Al-1100 are low, which reduces the design space for the attachment joints.', 'verdict': '1'}\n",
      "[ragas.testset.filters.DEBUG] node filter: {'score': 4.0}\n",
      "[ragas.testset.evolutions.INFO] retrying evolution: 1 times\n",
      "[ragas.testset.filters.DEBUG] node filter: {'score': 4.0}\n",
      "[ragas.testset.evolutions.INFO] retrying evolution: 1 times\n",
      "[ragas.testset.filters.DEBUG] filtered question: {'feedback': \"The question asks for the different Pin-on-Disc (PoD) experiments conducted and listed in 'Table 1' of a document. It specifies the experiments of interest and the location of the information (Table 1). The intent is clear, and the question is specific enough to be understood and answered based on the details provided. It does not rely on external references or additional context beyond the document itself. Therefore, the question is independent, has a clear intent, and is understandable and answerable. Verdict: 1\", 'verdict': '1'}\n",
      "[ragas.testset.evolutions.DEBUG] [ReasoningEvolution] simple question generated: What are the different conducted Pin-on-Disc (PoD) experiments listed in Table 1 of the document?\n",
      "[ragas.testset.filters.DEBUG] node filter: {'score': 9.5}\n",
      "[ragas.testset.evolutions.DEBUG] keyphrases in merged node: ['New motor design', 'Stability model', 'BEMF constant', 'Motor stability', 'Motor performance characteristics']\n",
      "[ragas.testset.filters.DEBUG] node filter: {'score': 7.5}\n",
      "[ragas.testset.evolutions.DEBUG] keyphrases in merged node: ['Deployment mechanism', 'Sub-chassis', 'Antenna enveloping film', 'Burning resistance', 'Retention film']\n",
      "[ragas.testset.evolutions.INFO] seed question generated: How did the changes in motor performance characteristics improve motor stability?\n",
      "[ragas.testset.evolutions.INFO] seed question generated: What is the role of the sub-chassis in the deployment mechanism?\n",
      "[ragas.testset.filters.DEBUG] filtered question: {'feedback': 'The question asks for the role of the sub-chassis in the deployment mechanism. It is specific in terms of the component of interest (sub-chassis) and the context (deployment mechanism). The intent is clear, seeking information about the function or purpose of the sub-chassis in the deployment mechanism. The question does not rely on external references or additional context, making it self-contained and independent. Therefore, the question is clear, answerable, and meets all the criteria. ', 'verdict': '1'}\n",
      "[ragas.testset.evolutions.DEBUG] [MultiContextEvolution] simple question generated: What is the role of the sub-chassis in the deployment mechanism?\n",
      "[ragas.testset.filters.DEBUG] filtered question: {'feedback': \"The question asks for the values of the applied pressure and temperature for each of the conducted Pin-on-Disc (PoD) experiments, referring to 'Table 1'. It specifies the variables of interest (pressure and temperature) and the type of experiments (PoD). However, it assumes access to 'Table 1' without providing its content or context, making it unclear for those without direct access to the source material. To be clearer and more answerable for a general audience, the question could include a brief description of the content or key findings of 'Table 1', or alternatively, provide the relevant values directly within the question.\", 'verdict': '0'}\n",
      "[ragas.testset.evolutions.INFO] rewritten question: According to Table 1, what are the values of the applied pressure and temperature for each of the conducted Pin-on-Disc (PoD) experiments?\n",
      "[ragas.testset.filters.DEBUG] filtered question: {'feedback': 'The question asks about the relationship between changes in motor performance characteristics and motor stability, specifically inquiring how the former improved the latter. It is clear in its intent and specifies the two variables of interest (motor performance characteristics and motor stability). However, the question lacks clarity in terms of the specific changes in motor performance characteristics being referred to. To improve answerability, the question could provide more details or examples of the changes in motor performance characteristics that are being considered, such as modifications in torque, speed, or control algorithms. This would provide a clearer context for understanding and addressing the question.', 'verdict': '0'}\n",
      "[ragas.testset.evolutions.INFO] rewritten question: How did the changes in motor performance characteristics improve motor stability?\n",
      "[ragas.testset.filters.DEBUG] filtered question: {'feedback': \"The question asks for the values of the applied pressure and temperature for each of the conducted Pin-on-Disc (PoD) experiments, referring to 'Table 1'. It specifies the variables of interest (pressure and temperature) and the type of experiments (PoD). However, it assumes access to 'Table 1' without providing its content or context, making it unclear for those without direct access to the source material. To be clearer and more answerable for a general audience, the question could include a brief description of the content or key findings of 'Table 1', or alternatively, provide the relevant values directly within the question.\", 'verdict': '0'}\n",
      "[ragas.testset.evolutions.INFO] retrying evolution: 1 times\n",
      "[ragas.testset.filters.DEBUG] node filter: {'score': 4.0}\n",
      "[ragas.testset.evolutions.INFO] retrying evolution: 1 times\n",
      "[ragas.testset.filters.DEBUG] node filter: {'score': 7.5}\n",
      "[ragas.testset.evolutions.DEBUG] keyphrases in merged node: ['Contamination requirements', 'SCM mechanism', 'Positioning accuracy', 'Repeatability', 'Linear Slit Change Mechanism design']\n",
      "[ragas.testset.evolutions.INFO] seed question generated: What are the repeatability requirements for the positioning accuracy in the Linear Slit Change Mechanism design?\n",
      "[ragas.testset.filters.DEBUG] filtered question: {'feedback': 'The question asks about the relationship between changes in motor performance characteristics and motor stability, specifically inquiring how the former improved the latter. It is clear in its intent and specifies the two variables of interest (motor performance characteristics and motor stability). However, the question lacks clarity in terms of the specific changes in motor performance characteristics being referred to. To improve answerability, the question could provide more details or examples of the changes in motor performance characteristics that are being considered, such as modifications in torque, speed, or control algorithms. This would provide a clearer context for understanding and addressing the question.', 'verdict': '0'}\n",
      "[ragas.testset.evolutions.INFO] retrying evolution: 2 times\n",
      "[ragas.testset.filters.DEBUG] node filter: {'score': 4.5}\n",
      "[ragas.testset.evolutions.INFO] retrying evolution: 2 times\n",
      "[ragas.testset.filters.DEBUG] node filter: {'score': 7.5}\n",
      "[ragas.testset.evolutions.DEBUG] keyphrases in merged node: ['Mars 2020 EDL timeline', 'CDPR', 'mobility deployment', 'touchdown', 'MSL CDPR', 'Mars 2020 CDPR']\n",
      "[ragas.testset.evolutions.INFO] seed question generated: What is the difference between the MSL CDPR and the Mars 2020 CDPR?\n",
      "[ragas.testset.filters.DEBUG] filtered question: {'feedback': 'The question asks for the difference between the MSL CDPR and the Mars 2020 CDPR. It is clear in specifying the two CDPRs (Curiosity Rover and Mars 2020 Rover) and seeks information on their differences. The question is self-contained and does not rely on external references or additional context. It has a clear intent and can be answered based on the details provided. Therefore, the verdict is 1.', 'verdict': '1'}\n",
      "[ragas.testset.evolutions.DEBUG] [ReasoningEvolution] simple question generated: What is the difference between the MSL CDPR and the Mars 2020 CDPR?\n",
      "[ragas.testset.filters.DEBUG] filtered question: {'feedback': 'The question asks for the repeatability requirements for the positioning accuracy in the Linear Slit Change Mechanism design. It specifies the topic of interest (Linear Slit Change Mechanism design) and the specific aspect (repeatability requirements for positioning accuracy). The intent is clear, and the question is specific enough to be understandable and answerable based on the details provided. It does not rely on external references or additional context. Therefore, the verdict is 1.', 'verdict': '1'}\n",
      "[ragas.testset.evolutions.DEBUG] [ReasoningEvolution] simple question generated: What are the repeatability requirements for the positioning accuracy in the Linear Slit Change Mechanism design?\n",
      "[ragas.testset.filters.DEBUG] filtered question: {'feedback': 'The question asks for the distinguishing features between the CDPR (Curiosity Descent and Precision Landing Radar) utilized in the Mars Science Laboratory (MSL) mission and the CDPR employed in the Mars 2020 mission. It specifies the missions and the radar system of interest, making the intent clear. However, the question assumes familiarity with the CDPR systems and their specific features, making it unclear for those without domain knowledge. To improve clarity and answerability, the question could provide a brief description or context about the CDPR systems, their purpose, and their role in the respective missions. This would help those without prior knowledge understand the question and provide a relevant response.', 'verdict': '1'}\n",
      "[ragas.testset.evolutions.DEBUG] [ReasoningEvolution] question compressed: What are the distinguishing features between the CDPR utilized in the Mars Science Laboratory (MSL) mission and the CDPR employed in the Mars 2020 mission?\n",
      "[ragas.testset.filters.DEBUG] evolution filter: {'reason': 'Both questions inquire about the differences between the CDPR used in the MSL mission and the Mars 2020 mission. They have the same constraints, requirements, depth, and breadth of inquiry.', 'verdict': '1'}\n",
      "[ragas.testset.evolutions.DEBUG] evolution_filter failed, retrying with 1\n",
      "[ragas.testset.evolutions.INFO] retrying evolution: 1 times\n",
      "[ragas.testset.filters.DEBUG] filtered question: {'feedback': \"The question asks for the specific requirements for the repeatability of the positioning accuracy in the Linear Slit Change Mechanism design, referring to 'Table 2'. It clearly specifies the topic of interest (repeatability of positioning accuracy) and the source of information (Table 2). However, the question assumes access to 'Table 2' without providing any details or context about its content. To improve clarity and answerability, the question could include a brief description or summary of the content in 'Table 2', or alternatively, frame the question in a way that does not rely on specific, unpublished documents.\", 'verdict': '0'}\n",
      "[ragas.testset.evolutions.INFO] rewritten question: What are the specific requirements for the repeatability of the positioning accuracy in the Linear Slit Change Mechanism design, according to Table 2?\n",
      "[ragas.testset.filters.DEBUG] node filter: {'score': 7.5}\n",
      "[ragas.testset.evolutions.DEBUG] keyphrases in merged node: ['Pin-On-Disc Testing', 'Cross-contamination damage', 'Coefficient of friction', 'Lubricant mixture', 'Endurance Test']\n",
      "[ragas.testset.evolutions.INFO] seed question generated: What were the results of the Pin-On-Disc testing conducted with a 50/50 by mass mixture of Braycote 600EF and Rheolube 2000?\n",
      "[ragas.testset.filters.DEBUG] filtered question: {'feedback': 'The question asks for the results of Pin-On-Disc testing conducted with a specific mixture of Braycote 600EF and Rheolube 2000, specifying a 50/50 by mass ratio. It is clear in its intent and provides all the necessary details for understanding and answering the question. The question is self-contained and does not rely on external references or additional context. Therefore, it meets the criteria of independence, clarity, and answerability. ', 'verdict': '1'}\n",
      "[ragas.testset.evolutions.DEBUG] [ReasoningEvolution] simple question generated: What were the results of the Pin-On-Disc testing conducted with a 50/50 by mass mixture of Braycote 600EF and Rheolube 2000?\n",
      "[ragas.testset.filters.DEBUG] filtered question: {'feedback': \"The question asks for the specific requirements for the repeatability of the positioning accuracy in the Linear Slit Change Mechanism design, referring to 'Table 2'. It clearly specifies the topic of interest (repeatability of positioning accuracy) and the source of information (Table 2). However, the question assumes access to 'Table 2' without providing any details or context about its content. To improve clarity and answerability, the question could include a brief description or summary of the content in 'Table 2', or alternatively, frame the question in a way that does not rely on specific, unpublished documents.\", 'verdict': '0'}\n",
      "[ragas.testset.evolutions.INFO] retrying evolution: 2 times\n",
      "[ragas.testset.filters.DEBUG] node filter: {'score': 7.5}\n",
      "[ragas.testset.evolutions.DEBUG] keyphrases in merged node: ['Degradation of Sputter-Deposited Nanocomposite MoS2 Coatings', 'Storage in Air', 'NIRCam on the James Webb Space Telescope', 'Nanocomposite sputter-deposited MoS2 coatings', 'Focus and Alignment Mechanism (FAM)']\n",
      "[ragas.testset.filters.DEBUG] filtered question: {'feedback': 'The question asks for the observed behavior of the coefficient of friction during Pin-On-Disc testing conducted with a specific mixture of Braycote 600EF and Rheolube 2000. It specifies the testing method and the materials used, making the intent clear. However, the question assumes prior knowledge of the Pin-On-Disc testing method and the expected behavior of the coefficient of friction for this specific mixture. To improve clarity and answerability, the question could provide more context about the expected behavior or specify the specific aspects of the observed behavior of interest (e.g., trends, changes over time).', 'verdict': '1'}\n",
      "[ragas.testset.evolutions.INFO] seed question generated: What is the purpose of the NIRCam on the James Webb Space Telescope?\n",
      "[ragas.testset.evolutions.DEBUG] [ReasoningEvolution] question compressed: What was the observed behavior of the coefficient of friction during the Pin-On-Disc testing conducted with a 50/50 by mass mixture of Braycote 600EF and Rheolube 2000?\n",
      "[ragas.testset.filters.DEBUG] evolution filter: {'reason': 'Both questions inquire about the results or behavior of the coefficient of friction during Pin-On-Disc testing with a specific mixture of Braycote 600EF and Rheolube 2000. They have the same constraints, requirements, depth, and breadth of inquiry.', 'verdict': '1'}\n",
      "[ragas.testset.evolutions.DEBUG] evolution_filter failed, retrying with 1\n",
      "[ragas.testset.evolutions.INFO] retrying evolution: 2 times\n",
      "[ragas.testset.filters.DEBUG] filtered question: {'feedback': 'The question asks for the purpose of the NIRCam (Near Infrared Camera) on the James Webb Space Telescope. It is clear in specifying the instrument (NIRCam) and the telescope (James Webb Space Telescope), making the intent of the question clear. The question does not rely on external references or additional context, as it can be answered based on general knowledge of the telescope and its instruments. Therefore, the question is specific, independent, and has a clear intent, making it understandable and answerable based on the details provided.', 'verdict': '1'}\n",
      "[ragas.testset.evolutions.DEBUG] [ReasoningEvolution] simple question generated: What is the purpose of the NIRCam on the James Webb Space Telescope?\n",
      "[ragas.testset.filters.DEBUG] node filter: {'score': 7.5}\n",
      "[ragas.testset.evolutions.DEBUG] keyphrases in merged node: ['Total UF', 'Nominal preload loss', 'Heat strap flight joints', 'Re-torque', 'Torque/preload UF', 'Preload loss from CF', 'Joint relaxation test', 'Threaded inserts in Al-1100', 'Washers bearing directly on high purity aluminum foils', 'Indium gaskets', 'Pull-out strengths for inserts in Al-1100', 'Re-torqueing bolts', 'JWST heat strap joint designs']\n",
      "[ragas.testset.evolutions.INFO] seed question generated: What is the calculation for the total UF to be applied to the nominal preload loss at room temperature for the heat strap flight joints at specified intervals after re-torque?\n",
      "[ragas.testset.filters.DEBUG] filtered question: {'feedback': 'The question asks for the purpose of using nanocomposite sputter-deposited MoS2 coatings on the Focus and Alignment Mechanism (FAM) in the Near Infrared Camera (NIRCam) of the James Webb Space Telescope. It is specific in mentioning the components involved (MoS2 coatings, FAM, NIRCam) and seeks information on the purpose of using these coatings. However, the question assumes familiarity with the James Webb Space Telescope and its specific components, which may not be known to all readers. To improve clarity and answerability, the question could provide a brief description or context about the James Webb Space Telescope, NIRCam, and the role of the FAM within the telescope. This would make the question more accessible to a broader audience.', 'verdict': '1'}\n",
      "[ragas.testset.evolutions.DEBUG] [ReasoningEvolution] question compressed: What is the purpose of using nanocomposite sputter-deposited MoS2 coatings on the Focus and Alignment Mechanism (FAM) in the Near Infrared Camera (NIRCam) of the James Webb Space Telescope?\n",
      "[ragas.testset.filters.DEBUG] filtered question: {'feedback': 'The question is clear in its intent, asking for the calculation of the total UF (uncertainty factor) to be applied to the nominal preload loss at room temperature for the heat strap flight joints at specified intervals after re-torque. It specifies the variables of interest (UF, nominal preload loss, heat strap flight joints) and the conditions (room temperature, specified intervals after re-torque). However, the question assumes familiarity with the calculation method and the specific context of the heat strap flight joints. To improve clarity and answerability, it would be helpful to provide additional information or context about the calculation method and the specific requirements or considerations for the heat strap flight joints.', 'verdict': '1'}\n",
      "[ragas.testset.evolutions.DEBUG] [ReasoningEvolution] simple question generated: What is the calculation for the total UF to be applied to the nominal preload loss at room temperature for the heat strap flight joints at specified intervals after re-torque?\n",
      "[ragas.testset.filters.DEBUG] evolution filter: {'reason': 'The first question asks for the purpose of the NIRCam on the James Webb Space Telescope, while the second question asks about the specific use of nanocomposite sputter-deposited MoS2 coatings on a specific component of the NIRCam. The second question goes into more depth and specificity, leading to a different breadth and depth of inquiry.', 'verdict': '0'}\n",
      "[ragas.testset.filters.DEBUG] filtered question: {'feedback': \"The question asks for the calculation of the total uncertainty factor (UF) to be applied to the nominal preload loss at room temperature for the heat strap flight joints at specified intervals after re-torque. It specifies that the calculation should be based on the provided information in 'Table 2' and 'the conclusion'. However, the question assumes access to and understanding of 'Table 2' and 'the conclusion' without providing any details or context about their content. This makes the question unclear and unanswerable for those without access to the specific information. To improve clarity and answerability, the question could include a brief description or summary of the content in 'Table 2' and 'the conclusion', or reframe the question in a way that does not rely on specific, unpublished documents.\", 'verdict': '0'}\n",
      "[ragas.testset.evolutions.INFO] rewritten question: What is the calculation for the total uncertainty factor (UF) to be applied to the nominal preload loss at room temperature for the heat strap flight joints at specified intervals after re-torque, based on the provided information in Table 2 and the conclusion?\n",
      "[ragas.testset.evolutions.DEBUG] answer generated: {'answer': 'Nanocomposite sputter-deposited MoS2 coatings are used on the FAM in the NIRCam of the James Webb Space Telescope to lubricate sliding surfaces and provide micron level positioning in tip, tilt, and piston to the Pickoff Mirror.', 'verdict': '1'}\n",
      "[ragas.testset.filters.DEBUG] filtered question: {'feedback': \"The question asks for the calculation of the total uncertainty factor (UF) to be applied to the nominal preload loss at room temperature for the heat strap flight joints at specified intervals after re-torque. It specifies that the calculation should be based on the provided information in 'Table 2' and 'the conclusion'. However, the question assumes access to and understanding of 'Table 2' and 'the conclusion' without providing any details or context about their content. This makes the question unclear and unanswerable for those without access to the specific information. To improve clarity and answerability, the question could include a brief description or summary of the content in 'Table 2' and 'the conclusion', or reframe the question in a way that does not rely on specific, unpublished documents.\", 'verdict': '0'}\n",
      "[ragas.testset.evolutions.INFO] retrying evolution: 3 times\n",
      "[ragas.testset.filters.DEBUG] node filter: {'score': 4.5}\n",
      "[ragas.testset.evolutions.INFO] retrying evolution: 3 times\n",
      "[ragas.testset.filters.DEBUG] node filter: {'score': 7.5}\n",
      "[ragas.testset.evolutions.DEBUG] keyphrases in merged node: ['SN9400 and SN9500 series separation nuts', 'Development testing', 'Optimized design of the SN9500 ULS', 'Validation testing', 'Shock output reduction']\n",
      "[ragas.testset.evolutions.INFO] seed question generated: What was the purpose of the development testing performed on the SN9400 and SN9500 series separation nuts?\n",
      "[ragas.testset.filters.DEBUG] filtered question: {'feedback': 'The question asks for the purpose of the development testing performed on the SN9400 and SN9500 series separation nuts. It is clear in specifying the specific nuts and the type of testing (development testing). However, the question assumes familiarity with the SN9400 and SN9500 series separation nuts and their development process, which may not be known to all readers. To improve clarity and answerability, the question could provide some background information on the nuts and their development process, or specify the specific aspects of the testing that are of interest (e.g., performance, durability, safety).', 'verdict': '1'}\n",
      "[ragas.testset.evolutions.DEBUG] [ReasoningEvolution] simple question generated: What was the purpose of the development testing performed on the SN9400 and SN9500 series separation nuts?\n",
      "[ragas.testset.filters.DEBUG] filtered question: {'feedback': 'The question is specific and clear in its intent. It asks for the main sources of shock output that were tested during the development testing of the SN9400 and SN9500 series separation nuts, and how the results were used to optimize the final design of the ULS. The question provides the necessary context and does not rely on external references or additional information. It can be understood and answered based on the details provided. Therefore, the verdict is 1.', 'verdict': '1'}\n",
      "[ragas.testset.evolutions.DEBUG] [ReasoningEvolution] question compressed: What were the main sources of shock output that were tested during the development testing of the SN9400 and SN9500 series separation nuts, and how were the results used to optimize the final design of the ULS?\n",
      "[ragas.testset.filters.DEBUG] evolution filter: {'reason': 'The two questions have different constraints and requirements. Question 1 asks about the purpose of the development testing performed on the separation nuts, while question 2 asks about the main sources of shock output tested and how the results were used to optimize the final design of the ULS. The depth and breadth of the inquiry are also different. Therefore, the verdict is 0.', 'verdict': '0'}\n",
      "[ragas.testset.evolutions.DEBUG] answer generated: {'answer': 'The main sources of shock output tested during the development testing of the SN9400 and SN9500 series separation nuts were PyroShock, Bolt Strain Energy, and Mechanical Impact. The results from testing each source of shock output were used to optimize the final design of the ULS by allocating a percentage contribution from each source during actuation.', 'verdict': '1'}\n",
      "[ragas.testset.evolutions.DEBUG] [MultiContextEvolution] multicontext question generated: What is the main component that enables the installation of all the elements needed for the operation of the deployment mechanism, and can be installed in the shielding panel of the Cubesat?\n",
      "[ragas.testset.filters.DEBUG] filtered question: {'feedback': 'The question is clear and specific, asking for the main component that enables the installation of all the elements needed for the operation of the deployment mechanism in the shielding panel of the Cubesat. It does not rely on external references or additional context, making it self-contained and independent. The intent of the question is clear, seeking a direct answer regarding the specific component. Therefore, the question meets the criteria of clarity, independence, and clear intent, making it understandable and answerable based on the details provided.', 'verdict': '1'}\n",
      "[ragas.testset.evolutions.DEBUG] [MultiContextEvolution] multicontext question compressed: What is the main component for installing all the elements needed for the Cubesat's operation in the shielding panel?\n",
      "[ragas.testset.filters.DEBUG] evolution filter: {'reason': \"While both questions inquire about the role or function of a specific component in a deployment mechanism, the first question is more general and does not mention the specific component (sub-chassis) or the context (Cubesat's operation and shielding panel) mentioned in the second question. Therefore, the depth and breadth of the inquiry differ, leading to a verdict of 0.\", 'verdict': '0'}\n",
      "[ragas.testset.evolutions.DEBUG] answer generated: {'answer': \"The main component for installing all the elements needed for the Cubesat's operation in the shielding panel is the sub-chassis.\", 'verdict': '1'}\n"
     ]
    }
   ],
   "source": [
    "run_config=RunConfig(timeout=120,\n",
    "                    max_retries=20,\n",
    "                    max_wait=120,\n",
    "                    max_workers=8)\n",
    "\n",
    "n_questions=5\n",
    "testset = generator.generate_with_langchain_docs(lcdocs_random, \n",
    "                                                 test_size=n_questions,\n",
    "                                                 with_debugging_logs=True,\n",
    "                                                 is_async=False,\n",
    "                                                 run_config=run_config)\n",
    "df_testset=testset.to_pandas()\n",
    "df_testset.to_csv('testset.csv', index=False)"
   ]
  },
  {
   "cell_type": "code",
   "execution_count": 10,
   "metadata": {},
   "outputs": [
    {
     "data": {
      "text/html": [
       "<div>\n",
       "<style scoped>\n",
       "    .dataframe tbody tr th:only-of-type {\n",
       "        vertical-align: middle;\n",
       "    }\n",
       "\n",
       "    .dataframe tbody tr th {\n",
       "        vertical-align: top;\n",
       "    }\n",
       "\n",
       "    .dataframe thead th {\n",
       "        text-align: right;\n",
       "    }\n",
       "</style>\n",
       "<table border=\"1\" class=\"dataframe\">\n",
       "  <thead>\n",
       "    <tr style=\"text-align: right;\">\n",
       "      <th></th>\n",
       "      <th>question</th>\n",
       "      <th>contexts</th>\n",
       "      <th>ground_truth</th>\n",
       "      <th>evolution_type</th>\n",
       "      <th>metadata</th>\n",
       "      <th>episode_done</th>\n",
       "    </tr>\n",
       "  </thead>\n",
       "  <tbody>\n",
       "    <tr>\n",
       "      <th>0</th>\n",
       "      <td>What is the impact of pull-out strengths for i...</td>\n",
       "      <td>[Table 2 summarizes the calculation for the to...</td>\n",
       "      <td>The pull-out strengths for inserts in Al-1100 ...</td>\n",
       "      <td>simple</td>\n",
       "      <td>[{'page': 228, 'source': 'AMS_2018.pdf', 'file...</td>\n",
       "      <td>True</td>\n",
       "    </tr>\n",
       "    <tr>\n",
       "      <th>1</th>\n",
       "      <td>What is the advantage of using a complex magne...</td>\n",
       "      <td>[the smallest temperature coefficient is prefe...</td>\n",
       "      <td>The advantage of using a complex magnet config...</td>\n",
       "      <td>simple</td>\n",
       "      <td>[{'page': 192, 'source': 'AMS_2008.pdf', 'file...</td>\n",
       "      <td>True</td>\n",
       "    </tr>\n",
       "    <tr>\n",
       "      <th>2</th>\n",
       "      <td>What were the main sources of shock output tes...</td>\n",
       "      <td>[thepercentcontribution thateachofthethreemain...</td>\n",
       "      <td>The main sources of shock output tested during...</td>\n",
       "      <td>reasoning</td>\n",
       "      <td>[{'page': 149, 'source': 'AMS_2002.pdf', 'file...</td>\n",
       "      <td>True</td>\n",
       "    </tr>\n",
       "    <tr>\n",
       "      <th>3</th>\n",
       "      <td>What is the main component for installing all ...</td>\n",
       "      <td>[490 Mechanism Background \\n\\nThis deployment ...</td>\n",
       "      <td>The main component for installing all the elem...</td>\n",
       "      <td>multi_context</td>\n",
       "      <td>[{'page': 504, 'source': 'AMS_2012.pdf', 'file...</td>\n",
       "      <td>True</td>\n",
       "    </tr>\n",
       "    <tr>\n",
       "      <th>4</th>\n",
       "      <td>Why are nanocomposite sputter-deposited MoS2 c...</td>\n",
       "      <td>[221 Degradation of Sputter -Deposited Nanocom...</td>\n",
       "      <td>Nanocomposite sputter-deposited MoS2 coatings ...</td>\n",
       "      <td>reasoning</td>\n",
       "      <td>[{'page': 235, 'source': 'AMS_2016.pdf', 'file...</td>\n",
       "      <td>True</td>\n",
       "    </tr>\n",
       "  </tbody>\n",
       "</table>\n",
       "</div>"
      ],
      "text/plain": [
       "                                            question  \\\n",
       "0  What is the impact of pull-out strengths for i...   \n",
       "1  What is the advantage of using a complex magne...   \n",
       "2  What were the main sources of shock output tes...   \n",
       "3  What is the main component for installing all ...   \n",
       "4  Why are nanocomposite sputter-deposited MoS2 c...   \n",
       "\n",
       "                                            contexts  \\\n",
       "0  [Table 2 summarizes the calculation for the to...   \n",
       "1  [the smallest temperature coefficient is prefe...   \n",
       "2  [thepercentcontribution thateachofthethreemain...   \n",
       "3  [490 Mechanism Background \\n\\nThis deployment ...   \n",
       "4  [221 Degradation of Sputter -Deposited Nanocom...   \n",
       "\n",
       "                                        ground_truth evolution_type  \\\n",
       "0  The pull-out strengths for inserts in Al-1100 ...         simple   \n",
       "1  The advantage of using a complex magnet config...         simple   \n",
       "2  The main sources of shock output tested during...      reasoning   \n",
       "3  The main component for installing all the elem...  multi_context   \n",
       "4  Nanocomposite sputter-deposited MoS2 coatings ...      reasoning   \n",
       "\n",
       "                                            metadata  episode_done  \n",
       "0  [{'page': 228, 'source': 'AMS_2018.pdf', 'file...          True  \n",
       "1  [{'page': 192, 'source': 'AMS_2008.pdf', 'file...          True  \n",
       "2  [{'page': 149, 'source': 'AMS_2002.pdf', 'file...          True  \n",
       "3  [{'page': 504, 'source': 'AMS_2012.pdf', 'file...          True  \n",
       "4  [{'page': 235, 'source': 'AMS_2016.pdf', 'file...          True  "
      ]
     },
     "execution_count": 10,
     "metadata": {},
     "output_type": "execute_result"
    }
   ],
   "source": [
    "df_testset"
   ]
  },
  {
   "cell_type": "markdown",
   "metadata": {},
   "source": [
    "### Format dataset and database for RAG"
   ]
  },
  {
   "cell_type": "code",
   "execution_count": 11,
   "metadata": {},
   "outputs": [
    {
     "data": {
      "text/plain": [
       "5"
      ]
     },
     "execution_count": 11,
     "metadata": {},
     "output_type": "execute_result"
    }
   ],
   "source": [
    "questions_all = [\n",
    "    {\n",
    "        \"question\": qa.question,\n",
    "        \"ground_truth\": qa.ground_truth,\n",
    "        \"question_by\": generator_model,\n",
    "    }\n",
    "    for qa in testset.test_data\n",
    "]"
   ]
  },
  {
   "cell_type": "code",
   "execution_count": 12,
   "metadata": {},
   "outputs": [
    {
     "data": {
      "text/html": [
       "<div>\n",
       "<style scoped>\n",
       "    .dataframe tbody tr th:only-of-type {\n",
       "        vertical-align: middle;\n",
       "    }\n",
       "\n",
       "    .dataframe tbody tr th {\n",
       "        vertical-align: top;\n",
       "    }\n",
       "\n",
       "    .dataframe thead th {\n",
       "        text-align: right;\n",
       "    }\n",
       "</style>\n",
       "<table border=\"1\" class=\"dataframe\">\n",
       "  <thead>\n",
       "    <tr style=\"text-align: right;\">\n",
       "      <th></th>\n",
       "      <th>id</th>\n",
       "      <th>question</th>\n",
       "      <th>ground_truth</th>\n",
       "      <th>question_by</th>\n",
       "    </tr>\n",
       "  </thead>\n",
       "  <tbody>\n",
       "    <tr>\n",
       "      <th>0</th>\n",
       "      <td>Question 0</td>\n",
       "      <td>What is the impact of pull-out strengths for i...</td>\n",
       "      <td>The pull-out strengths for inserts in Al-1100 ...</td>\n",
       "      <td>gpt-3.5-turbo-16k</td>\n",
       "    </tr>\n",
       "    <tr>\n",
       "      <th>1</th>\n",
       "      <td>Question 1</td>\n",
       "      <td>What is the advantage of using a complex magne...</td>\n",
       "      <td>The advantage of using a complex magnet config...</td>\n",
       "      <td>gpt-3.5-turbo-16k</td>\n",
       "    </tr>\n",
       "    <tr>\n",
       "      <th>2</th>\n",
       "      <td>Question 2</td>\n",
       "      <td>What were the main sources of shock output tes...</td>\n",
       "      <td>The main sources of shock output tested during...</td>\n",
       "      <td>gpt-3.5-turbo-16k</td>\n",
       "    </tr>\n",
       "    <tr>\n",
       "      <th>3</th>\n",
       "      <td>Question 3</td>\n",
       "      <td>What is the main component for installing all ...</td>\n",
       "      <td>The main component for installing all the elem...</td>\n",
       "      <td>gpt-3.5-turbo-16k</td>\n",
       "    </tr>\n",
       "    <tr>\n",
       "      <th>4</th>\n",
       "      <td>Question 4</td>\n",
       "      <td>Why are nanocomposite sputter-deposited MoS2 c...</td>\n",
       "      <td>Nanocomposite sputter-deposited MoS2 coatings ...</td>\n",
       "      <td>gpt-3.5-turbo-16k</td>\n",
       "    </tr>\n",
       "  </tbody>\n",
       "</table>\n",
       "</div>"
      ],
      "text/plain": [
       "           id                                           question  \\\n",
       "0  Question 0  What is the impact of pull-out strengths for i...   \n",
       "1  Question 1  What is the advantage of using a complex magne...   \n",
       "2  Question 2  What were the main sources of shock output tes...   \n",
       "3  Question 3  What is the main component for installing all ...   \n",
       "4  Question 4  Why are nanocomposite sputter-deposited MoS2 c...   \n",
       "\n",
       "                                        ground_truth        question_by  \n",
       "0  The pull-out strengths for inserts in Al-1100 ...  gpt-3.5-turbo-16k  \n",
       "1  The advantage of using a complex magnet config...  gpt-3.5-turbo-16k  \n",
       "2  The main sources of shock output tested during...  gpt-3.5-turbo-16k  \n",
       "3  The main component for installing all the elem...  gpt-3.5-turbo-16k  \n",
       "4  Nanocomposite sputter-deposited MoS2 coatings ...  gpt-3.5-turbo-16k  "
      ]
     },
     "execution_count": 12,
     "metadata": {},
     "output_type": "execute_result"
    }
   ],
   "source": [
    "df_questions = pd.DataFrame(\n",
    "    {\n",
    "        \"id\": [f\"Question {i}\" for i, _ in enumerate(questions_all)],\n",
    "        \"question\": [qa[\"question\"] for qa in questions_all],\n",
    "        \"ground_truth\": [qa[\"ground_truth\"] for qa in questions_all],\n",
    "        \"question_by\": [qa[\"question_by\"] for qa in questions_all],\n",
    "    }\n",
    ")\n",
    "# keep only the first question if questions are duplicated\n",
    "df_questions = df_questions.drop_duplicates(subset=[\"question\"])\n",
    "df_questions"
   ]
  },
  {
   "cell_type": "code",
   "execution_count": null,
   "metadata": {},
   "outputs": [],
   "source": [
    "all_docs = vectorstore.get(include=[\"metadatas\", \"documents\", \"embeddings\"])\n",
    "df_docs = pd.DataFrame(\n",
    "    {\n",
    "        \"id\": [_stable_hash_meta(metadata) for metadata in all_docs[\"metadatas\"]],\n",
    "        \"source\": [metadata.get(\"source\") for metadata in all_docs[\"metadatas\"]],\n",
    "        \"page\": [metadata.get(\"page\", -1) for metadata in all_docs[\"metadatas\"]],\n",
    "        \"document\": all_docs[\"documents\"],\n",
    "        \"embedding\": all_docs[\"embeddings\"],\n",
    "    }\n",
    ")"
   ]
  },
  {
   "cell_type": "markdown",
   "metadata": {},
   "source": [
    "## RAG questions/answers"
   ]
  }
 ],
 "metadata": {
  "kernelspec": {
   "display_name": "Python 3",
   "language": "python",
   "name": "python3"
  },
  "language_info": {
   "codemirror_mode": {
    "name": "ipython",
    "version": 3
   },
   "file_extension": ".py",
   "mimetype": "text/x-python",
   "name": "python",
   "nbconvert_exporter": "python",
   "pygments_lexer": "ipython3",
   "version": "3.11.1"
  },
  "orig_nbformat": 4
 },
 "nbformat": 4,
 "nbformat_minor": 2
}
