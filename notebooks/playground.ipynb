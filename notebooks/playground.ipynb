{
 "cells": [
  {
   "cell_type": "markdown",
   "metadata": {},
   "source": [
    "# Test bug on RAGxplorer on query\n",
    "Without brackets around the query in the openai client with chroma, embeddings are created for each word, not each string."
   ]
  },
  {
   "cell_type": "code",
   "execution_count": 2,
   "metadata": {},
   "outputs": [
    {
     "ename": "KeyboardInterrupt",
     "evalue": "",
     "output_type": "error",
     "traceback": [
      "\u001b[0;31m---------------------------------------------------------------------------\u001b[0m",
      "\u001b[0;31mKeyboardInterrupt\u001b[0m                         Traceback (most recent call last)",
      "Cell \u001b[0;32mIn[2], line 2\u001b[0m\n\u001b[1;32m      1\u001b[0m \u001b[38;5;28;01mimport\u001b[39;00m \u001b[38;5;21;01mos\u001b[39;00m\n\u001b[0;32m----> 2\u001b[0m \u001b[38;5;28;01mfrom\u001b[39;00m \u001b[38;5;21;01mragxplorer\u001b[39;00m \u001b[38;5;28;01mimport\u001b[39;00m RAGxplorer\n\u001b[1;32m      4\u001b[0m \u001b[38;5;28;01mfrom\u001b[39;00m \u001b[38;5;21;01mdotenv\u001b[39;00m \u001b[38;5;28;01mimport\u001b[39;00m load_dotenv,find_dotenv\n\u001b[1;32m      5\u001b[0m load_dotenv(find_dotenv(),override\u001b[38;5;241m=\u001b[39m\u001b[38;5;28;01mTrue\u001b[39;00m)\n",
      "File \u001b[0;32m~/Repositories/Github/me/aerospace_chatbot/.venv/lib/python3.11/site-packages/ragxplorer/__init__.py:7\u001b[0m\n\u001b[1;32m      1\u001b[0m \u001b[38;5;124;03m\"\"\"\u001b[39;00m\n\u001b[1;32m      2\u001b[0m \u001b[38;5;124;03m__init__.py\u001b[39;00m\n\u001b[1;32m      3\u001b[0m \n\u001b[1;32m      4\u001b[0m \u001b[38;5;124;03mInitializes the ragxplorer package and exposes the main classes and functions.\u001b[39;00m\n\u001b[1;32m      5\u001b[0m \u001b[38;5;124;03m\"\"\"\u001b[39;00m\n\u001b[0;32m----> 7\u001b[0m \u001b[38;5;28;01mfrom\u001b[39;00m \u001b[38;5;21;01m.\u001b[39;00m\u001b[38;5;21;01mragxplorer\u001b[39;00m \u001b[38;5;28;01mimport\u001b[39;00m RAGxplorer\n\u001b[1;32m      9\u001b[0m __all__ \u001b[38;5;241m=\u001b[39m [\u001b[38;5;124m'\u001b[39m\u001b[38;5;124mRAGxplorer\u001b[39m\u001b[38;5;124m'\u001b[39m]\n",
      "File \u001b[0;32m~/Repositories/Github/me/aerospace_chatbot/.venv/lib/python3.11/site-packages/ragxplorer/ragxplorer.py:12\u001b[0m\n\u001b[1;32m     10\u001b[0m \u001b[38;5;28;01mfrom\u001b[39;00m \u001b[38;5;21;01mpydantic\u001b[39;00m \u001b[38;5;28;01mimport\u001b[39;00m BaseModel, Field\n\u001b[1;32m     11\u001b[0m \u001b[38;5;28;01mimport\u001b[39;00m \u001b[38;5;21;01mpandas\u001b[39;00m \u001b[38;5;28;01mas\u001b[39;00m \u001b[38;5;21;01mpd\u001b[39;00m\n\u001b[0;32m---> 12\u001b[0m \u001b[38;5;28;01mimport\u001b[39;00m \u001b[38;5;21;01mumap\u001b[39;00m\n\u001b[1;32m     14\u001b[0m \u001b[38;5;28;01mfrom\u001b[39;00m \u001b[38;5;21;01mchromadb\u001b[39;00m \u001b[38;5;28;01mimport\u001b[39;00m Collection\n\u001b[1;32m     15\u001b[0m \u001b[38;5;28;01mfrom\u001b[39;00m \u001b[38;5;21;01mchromadb\u001b[39;00m\u001b[38;5;21;01m.\u001b[39;00m\u001b[38;5;21;01mutils\u001b[39;00m\u001b[38;5;21;01m.\u001b[39;00m\u001b[38;5;21;01membedding_functions\u001b[39;00m \u001b[38;5;28;01mimport\u001b[39;00m (\n\u001b[1;32m     16\u001b[0m     SentenceTransformerEmbeddingFunction,\n\u001b[1;32m     17\u001b[0m     OpenAIEmbeddingFunction,\n\u001b[1;32m     18\u001b[0m     HuggingFaceEmbeddingFunction\n\u001b[1;32m     19\u001b[0m     )\n",
      "File \u001b[0;32m~/Repositories/Github/me/aerospace_chatbot/.venv/lib/python3.11/site-packages/umap/__init__.py:2\u001b[0m\n\u001b[1;32m      1\u001b[0m \u001b[38;5;28;01mfrom\u001b[39;00m \u001b[38;5;21;01mwarnings\u001b[39;00m \u001b[38;5;28;01mimport\u001b[39;00m warn, catch_warnings, simplefilter\n\u001b[0;32m----> 2\u001b[0m \u001b[38;5;28;01mfrom\u001b[39;00m \u001b[38;5;21;01m.\u001b[39;00m\u001b[38;5;21;01mumap_\u001b[39;00m \u001b[38;5;28;01mimport\u001b[39;00m UMAP\n\u001b[1;32m      4\u001b[0m \u001b[38;5;28;01mtry\u001b[39;00m:\n\u001b[1;32m      5\u001b[0m     \u001b[38;5;28;01mwith\u001b[39;00m catch_warnings():\n",
      "File \u001b[0;32m~/Repositories/Github/me/aerospace_chatbot/.venv/lib/python3.11/site-packages/umap/umap_.py:29\u001b[0m\n\u001b[1;32m     27\u001b[0m \u001b[38;5;28;01mfrom\u001b[39;00m \u001b[38;5;21;01mscipy\u001b[39;00m\u001b[38;5;21;01m.\u001b[39;00m\u001b[38;5;21;01msparse\u001b[39;00m \u001b[38;5;28;01mimport\u001b[39;00m tril \u001b[38;5;28;01mas\u001b[39;00m sparse_tril, triu \u001b[38;5;28;01mas\u001b[39;00m sparse_triu\n\u001b[1;32m     28\u001b[0m \u001b[38;5;28;01mimport\u001b[39;00m \u001b[38;5;21;01mscipy\u001b[39;00m\u001b[38;5;21;01m.\u001b[39;00m\u001b[38;5;21;01msparse\u001b[39;00m\u001b[38;5;21;01m.\u001b[39;00m\u001b[38;5;21;01mcsgraph\u001b[39;00m\n\u001b[0;32m---> 29\u001b[0m \u001b[38;5;28;01mimport\u001b[39;00m \u001b[38;5;21;01mnumba\u001b[39;00m\n\u001b[1;32m     31\u001b[0m \u001b[38;5;28;01mimport\u001b[39;00m \u001b[38;5;21;01mumap\u001b[39;00m\u001b[38;5;21;01m.\u001b[39;00m\u001b[38;5;21;01mdistances\u001b[39;00m \u001b[38;5;28;01mas\u001b[39;00m \u001b[38;5;21;01mdist\u001b[39;00m\n\u001b[1;32m     33\u001b[0m \u001b[38;5;28;01mimport\u001b[39;00m \u001b[38;5;21;01mumap\u001b[39;00m\u001b[38;5;21;01m.\u001b[39;00m\u001b[38;5;21;01msparse\u001b[39;00m \u001b[38;5;28;01mas\u001b[39;00m \u001b[38;5;21;01msparse\u001b[39;00m\n",
      "File \u001b[0;32m~/Repositories/Github/me/aerospace_chatbot/.venv/lib/python3.11/site-packages/numba/__init__.py:89\u001b[0m\n\u001b[1;32m     86\u001b[0m \u001b[38;5;28;01mfrom\u001b[39;00m \u001b[38;5;21;01mnumba\u001b[39;00m\u001b[38;5;21;01m.\u001b[39;00m\u001b[38;5;21;01mcore\u001b[39;00m\u001b[38;5;21;01m.\u001b[39;00m\u001b[38;5;21;01mtypes\u001b[39;00m \u001b[38;5;28;01mimport\u001b[39;00m \u001b[38;5;241m*\u001b[39m\n\u001b[1;32m     88\u001b[0m \u001b[38;5;66;03m# Re-export decorators\u001b[39;00m\n\u001b[0;32m---> 89\u001b[0m \u001b[38;5;28;01mfrom\u001b[39;00m \u001b[38;5;21;01mnumba\u001b[39;00m\u001b[38;5;21;01m.\u001b[39;00m\u001b[38;5;21;01mcore\u001b[39;00m\u001b[38;5;21;01m.\u001b[39;00m\u001b[38;5;21;01mdecorators\u001b[39;00m \u001b[38;5;28;01mimport\u001b[39;00m (cfunc, jit, njit, stencil,\n\u001b[1;32m     90\u001b[0m                                    jit_module)\n\u001b[1;32m     92\u001b[0m \u001b[38;5;66;03m# Re-export vectorize decorators and the thread layer querying function\u001b[39;00m\n\u001b[1;32m     93\u001b[0m \u001b[38;5;28;01mfrom\u001b[39;00m \u001b[38;5;21;01mnumba\u001b[39;00m\u001b[38;5;21;01m.\u001b[39;00m\u001b[38;5;21;01mnp\u001b[39;00m\u001b[38;5;21;01m.\u001b[39;00m\u001b[38;5;21;01mufunc\u001b[39;00m \u001b[38;5;28;01mimport\u001b[39;00m (vectorize, guvectorize, threading_layer,\n\u001b[1;32m     94\u001b[0m                             get_num_threads, set_num_threads,\n\u001b[1;32m     95\u001b[0m                             set_parallel_chunksize, get_parallel_chunksize,\n\u001b[1;32m     96\u001b[0m                             get_thread_id)\n",
      "File \u001b[0;32m~/Repositories/Github/me/aerospace_chatbot/.venv/lib/python3.11/site-packages/numba/core/decorators.py:12\u001b[0m\n\u001b[1;32m      9\u001b[0m \u001b[38;5;28;01mimport\u001b[39;00m \u001b[38;5;21;01mlogging\u001b[39;00m\n\u001b[1;32m     11\u001b[0m \u001b[38;5;28;01mfrom\u001b[39;00m \u001b[38;5;21;01mnumba\u001b[39;00m\u001b[38;5;21;01m.\u001b[39;00m\u001b[38;5;21;01mcore\u001b[39;00m\u001b[38;5;21;01m.\u001b[39;00m\u001b[38;5;21;01merrors\u001b[39;00m \u001b[38;5;28;01mimport\u001b[39;00m DeprecationError, NumbaDeprecationWarning\n\u001b[0;32m---> 12\u001b[0m \u001b[38;5;28;01mfrom\u001b[39;00m \u001b[38;5;21;01mnumba\u001b[39;00m\u001b[38;5;21;01m.\u001b[39;00m\u001b[38;5;21;01mstencils\u001b[39;00m\u001b[38;5;21;01m.\u001b[39;00m\u001b[38;5;21;01mstencil\u001b[39;00m \u001b[38;5;28;01mimport\u001b[39;00m stencil\n\u001b[1;32m     13\u001b[0m \u001b[38;5;28;01mfrom\u001b[39;00m \u001b[38;5;21;01mnumba\u001b[39;00m\u001b[38;5;21;01m.\u001b[39;00m\u001b[38;5;21;01mcore\u001b[39;00m \u001b[38;5;28;01mimport\u001b[39;00m config, extending, sigutils, registry\n\u001b[1;32m     15\u001b[0m _logger \u001b[38;5;241m=\u001b[39m logging\u001b[38;5;241m.\u001b[39mgetLogger(\u001b[38;5;18m__name__\u001b[39m)\n",
      "File \u001b[0;32m~/Repositories/Github/me/aerospace_chatbot/.venv/lib/python3.11/site-packages/numba/stencils/stencil.py:11\u001b[0m\n\u001b[1;32m      8\u001b[0m \u001b[38;5;28;01mimport\u001b[39;00m \u001b[38;5;21;01mnumpy\u001b[39;00m \u001b[38;5;28;01mas\u001b[39;00m \u001b[38;5;21;01mnp\u001b[39;00m\n\u001b[1;32m      9\u001b[0m \u001b[38;5;28;01mfrom\u001b[39;00m \u001b[38;5;21;01mllvmlite\u001b[39;00m \u001b[38;5;28;01mimport\u001b[39;00m ir \u001b[38;5;28;01mas\u001b[39;00m lir\n\u001b[0;32m---> 11\u001b[0m \u001b[38;5;28;01mfrom\u001b[39;00m \u001b[38;5;21;01mnumba\u001b[39;00m\u001b[38;5;21;01m.\u001b[39;00m\u001b[38;5;21;01mcore\u001b[39;00m \u001b[38;5;28;01mimport\u001b[39;00m types, typing, utils, ir, config, ir_utils, registry\n\u001b[1;32m     12\u001b[0m \u001b[38;5;28;01mfrom\u001b[39;00m \u001b[38;5;21;01mnumba\u001b[39;00m\u001b[38;5;21;01m.\u001b[39;00m\u001b[38;5;21;01mcore\u001b[39;00m\u001b[38;5;21;01m.\u001b[39;00m\u001b[38;5;21;01mtyping\u001b[39;00m\u001b[38;5;21;01m.\u001b[39;00m\u001b[38;5;21;01mtemplates\u001b[39;00m \u001b[38;5;28;01mimport\u001b[39;00m (CallableTemplate, signature,\n\u001b[1;32m     13\u001b[0m                                          infer_global, AbstractTemplate)\n\u001b[1;32m     14\u001b[0m \u001b[38;5;28;01mfrom\u001b[39;00m \u001b[38;5;21;01mnumba\u001b[39;00m\u001b[38;5;21;01m.\u001b[39;00m\u001b[38;5;21;01mcore\u001b[39;00m\u001b[38;5;21;01m.\u001b[39;00m\u001b[38;5;21;01mimputils\u001b[39;00m \u001b[38;5;28;01mimport\u001b[39;00m lower_builtin\n",
      "File \u001b[0;32m~/Repositories/Github/me/aerospace_chatbot/.venv/lib/python3.11/site-packages/numba/core/registry.py:6\u001b[0m\n\u001b[1;32m      3\u001b[0m \u001b[38;5;28;01mfrom\u001b[39;00m \u001b[38;5;21;01mnumba\u001b[39;00m\u001b[38;5;21;01m.\u001b[39;00m\u001b[38;5;21;01mcore\u001b[39;00m\u001b[38;5;21;01m.\u001b[39;00m\u001b[38;5;21;01mutils\u001b[39;00m \u001b[38;5;28;01mimport\u001b[39;00m threadsafe_cached_property \u001b[38;5;28;01mas\u001b[39;00m cached_property\n\u001b[1;32m      5\u001b[0m \u001b[38;5;28;01mfrom\u001b[39;00m \u001b[38;5;21;01mnumba\u001b[39;00m\u001b[38;5;21;01m.\u001b[39;00m\u001b[38;5;21;01mcore\u001b[39;00m\u001b[38;5;21;01m.\u001b[39;00m\u001b[38;5;21;01mdescriptors\u001b[39;00m \u001b[38;5;28;01mimport\u001b[39;00m TargetDescriptor\n\u001b[0;32m----> 6\u001b[0m \u001b[38;5;28;01mfrom\u001b[39;00m \u001b[38;5;21;01mnumba\u001b[39;00m\u001b[38;5;21;01m.\u001b[39;00m\u001b[38;5;21;01mcore\u001b[39;00m \u001b[38;5;28;01mimport\u001b[39;00m utils, typing, dispatcher, cpu\n\u001b[1;32m      8\u001b[0m \u001b[38;5;66;03m# -----------------------------------------------------------------------------\u001b[39;00m\n\u001b[1;32m      9\u001b[0m \u001b[38;5;66;03m# Default CPU target descriptors\u001b[39;00m\n\u001b[1;32m     12\u001b[0m \u001b[38;5;28;01mclass\u001b[39;00m \u001b[38;5;21;01mCPUTarget\u001b[39;00m(TargetDescriptor):\n",
      "File \u001b[0;32m~/Repositories/Github/me/aerospace_chatbot/.venv/lib/python3.11/site-packages/numba/core/dispatcher.py:14\u001b[0m\n\u001b[1;32m     11\u001b[0m \u001b[38;5;28;01mfrom\u001b[39;00m \u001b[38;5;21;01mabc\u001b[39;00m \u001b[38;5;28;01mimport\u001b[39;00m abstractmethod\n\u001b[1;32m     13\u001b[0m \u001b[38;5;28;01mfrom\u001b[39;00m \u001b[38;5;21;01mnumba\u001b[39;00m \u001b[38;5;28;01mimport\u001b[39;00m _dispatcher\n\u001b[0;32m---> 14\u001b[0m \u001b[38;5;28;01mfrom\u001b[39;00m \u001b[38;5;21;01mnumba\u001b[39;00m\u001b[38;5;21;01m.\u001b[39;00m\u001b[38;5;21;01mcore\u001b[39;00m \u001b[38;5;28;01mimport\u001b[39;00m (\n\u001b[1;32m     15\u001b[0m     utils, types, errors, typing, serialize, config, compiler, sigutils\n\u001b[1;32m     16\u001b[0m )\n\u001b[1;32m     17\u001b[0m \u001b[38;5;28;01mfrom\u001b[39;00m \u001b[38;5;21;01mnumba\u001b[39;00m\u001b[38;5;21;01m.\u001b[39;00m\u001b[38;5;21;01mcore\u001b[39;00m\u001b[38;5;21;01m.\u001b[39;00m\u001b[38;5;21;01mcompiler_lock\u001b[39;00m \u001b[38;5;28;01mimport\u001b[39;00m global_compiler_lock\n\u001b[1;32m     18\u001b[0m \u001b[38;5;28;01mfrom\u001b[39;00m \u001b[38;5;21;01mnumba\u001b[39;00m\u001b[38;5;21;01m.\u001b[39;00m\u001b[38;5;21;01mcore\u001b[39;00m\u001b[38;5;21;01m.\u001b[39;00m\u001b[38;5;21;01mtypeconv\u001b[39;00m\u001b[38;5;21;01m.\u001b[39;00m\u001b[38;5;21;01mrules\u001b[39;00m \u001b[38;5;28;01mimport\u001b[39;00m default_type_manager\n",
      "File \u001b[0;32m~/Repositories/Github/me/aerospace_chatbot/.venv/lib/python3.11/site-packages/numba/core/compiler.py:6\u001b[0m\n\u001b[1;32m      3\u001b[0m \u001b[38;5;28;01mimport\u001b[39;00m \u001b[38;5;21;01mwarnings\u001b[39;00m\n\u001b[1;32m      4\u001b[0m \u001b[38;5;28;01mfrom\u001b[39;00m \u001b[38;5;21;01mnumba\u001b[39;00m\u001b[38;5;21;01m.\u001b[39;00m\u001b[38;5;21;01mcore\u001b[39;00m\u001b[38;5;21;01m.\u001b[39;00m\u001b[38;5;21;01mtracing\u001b[39;00m \u001b[38;5;28;01mimport\u001b[39;00m event\n\u001b[0;32m----> 6\u001b[0m \u001b[38;5;28;01mfrom\u001b[39;00m \u001b[38;5;21;01mnumba\u001b[39;00m\u001b[38;5;21;01m.\u001b[39;00m\u001b[38;5;21;01mcore\u001b[39;00m \u001b[38;5;28;01mimport\u001b[39;00m (utils, errors, interpreter, bytecode, postproc, config,\n\u001b[1;32m      7\u001b[0m                         callconv, cpu)\n\u001b[1;32m      8\u001b[0m \u001b[38;5;28;01mfrom\u001b[39;00m \u001b[38;5;21;01mnumba\u001b[39;00m\u001b[38;5;21;01m.\u001b[39;00m\u001b[38;5;21;01mparfors\u001b[39;00m\u001b[38;5;21;01m.\u001b[39;00m\u001b[38;5;21;01mparfor\u001b[39;00m \u001b[38;5;28;01mimport\u001b[39;00m ParforDiagnostics\n\u001b[1;32m      9\u001b[0m \u001b[38;5;28;01mfrom\u001b[39;00m \u001b[38;5;21;01mnumba\u001b[39;00m\u001b[38;5;21;01m.\u001b[39;00m\u001b[38;5;21;01mcore\u001b[39;00m\u001b[38;5;21;01m.\u001b[39;00m\u001b[38;5;21;01merrors\u001b[39;00m \u001b[38;5;28;01mimport\u001b[39;00m CompilerError\n",
      "\u001b[0;31mKeyboardInterrupt\u001b[0m: "
     ]
    }
   ],
   "source": [
    "import os\n",
    "from ragxplorer import RAGxplorer\n",
    "\n",
    "from dotenv import load_dotenv,find_dotenv\n",
    "load_dotenv(find_dotenv(),override=True)\n",
    "import json\n",
    "import chromadb\n",
    "import pandas as pd"
   ]
  },
  {
   "cell_type": "code",
   "execution_count": null,
   "metadata": {},
   "outputs": [],
   "source": [
    "query=\"What are examples of lubricants which should be avoided for space mechanism applications?\"\n",
    "\n",
    "OPENAI_API_KEY=os.getenv('OPENAI_API_KEY')\n",
    "embedding_model='text-embedding-ada-002'\n",
    "\n",
    "data_path='../data/AMS/'\n",
    "pdf='AMS_2022.pdf'\n",
    "\n",
    "index_path='../db/chromadb/'\n",
    "index_name='chromadb-openai-ams'\n",
    "\n",
    "viz_data='../data/AMS/ams_data-400-0-50.json'"
   ]
  },
  {
   "cell_type": "code",
   "execution_count": null,
   "metadata": {},
   "outputs": [],
   "source": [
    "with open(viz_data, 'r') as f:\n",
    "    data = json.load(f)\n",
    "\n",
    "index_name=data['visualization_index_name']\n",
    "umap_params=data['umap_params']\n",
    "viz_data=pd.read_json(data['viz_data'], orient='split')"
   ]
  },
  {
   "cell_type": "code",
   "execution_count": null,
   "metadata": {},
   "outputs": [],
   "source": [
    "rx_client = RAGxplorer(embedding_model=embedding_model)\n",
    "chroma_client = chromadb.PersistentClient(path='../db'+'/chromadb/')\n",
    "collection=chroma_client.get_collection(name=index_name,embedding_function=rx_client._chosen_embedding_model)"
   ]
  },
  {
   "cell_type": "code",
   "execution_count": null,
   "metadata": {},
   "outputs": [],
   "source": [
    "rx_client._query.original_query = query"
   ]
  },
  {
   "cell_type": "code",
   "execution_count": null,
   "metadata": {},
   "outputs": [],
   "source": [
    "rx_client.load_chroma(collection,\n",
    "                     umap_params=umap_params,\n",
    "                     initialize_projector=True)"
   ]
  },
  {
   "cell_type": "code",
   "execution_count": null,
   "metadata": {},
   "outputs": [],
   "source": [
    "# All of these do the same thing, tested\n",
    "\n",
    "query_embedding_chroma=rx_client._chosen_embedding_model([rx_client._query.original_query])\n",
    "# query_embedding=rx_client._vectordb._embedding_function(rx_client._query.original_query)\n",
    "# query_embedding=embedding_function(query)"
   ]
  },
  {
   "cell_type": "code",
   "execution_count": null,
   "metadata": {},
   "outputs": [],
   "source": [
    "len(rx_client._query.original_query)"
   ]
  },
  {
   "cell_type": "code",
   "execution_count": null,
   "metadata": {},
   "outputs": [],
   "source": [
    "fig = rx_client.visualize_query(query,\n",
    "                                import_projection_data=viz_data,\n",
    "                                verbose=True)"
   ]
  },
  {
   "cell_type": "code",
   "execution_count": null,
   "metadata": {},
   "outputs": [],
   "source": [
    "from openai import OpenAI\n",
    "client = OpenAI()\n",
    "\n",
    "# Done correctly, see here: https://platform.openai.com/docs/guides/embeddings/use-cases\n",
    "openai_embedding=client.embeddings.create(input = [query], model=embedding_model).data[0].embedding"
   ]
  },
  {
   "cell_type": "markdown",
   "metadata": {},
   "source": [
    "# Endpoints"
   ]
  },
  {
   "cell_type": "code",
   "execution_count": null,
   "metadata": {},
   "outputs": [],
   "source": [
    "import json\n",
    "\n",
    "config_file = '../config/config.json'\n",
    "with open(config_file, 'r') as f:\n",
    "        config = json.load(f)\n",
    "        databases = {db['name']: db for db in config['databases']}\n",
    "        llms  = {m['name']: m for m in config['llms']}"
   ]
  },
  {
   "cell_type": "code",
   "execution_count": null,
   "metadata": {},
   "outputs": [],
   "source": [
    "hf_models=llms['Hugging Face']['models']\n",
    "model_names= [item['model'] for item in hf_models]\n",
    "model_endpoints= [item['endpoint'] for item in hf_models]\n"
   ]
  },
  {
   "cell_type": "code",
   "execution_count": null,
   "metadata": {},
   "outputs": [],
   "source": [
    "model_name = \"NousResearch/Nous-Hermes-2-Mixtral-8x7B-DPO\"\n",
    "endpoint = next(item['endpoint'] for item in hf_models if item['model'] == model_name)"
   ]
  },
  {
   "cell_type": "code",
   "execution_count": null,
   "metadata": {},
   "outputs": [],
   "source": [
    "from langchain_openai import OpenAI, ChatOpenAI\n",
    "# from langchain_community.llms import HuggingFaceTextGenInference\n",
    "from langchain_community.llms import HuggingFaceHub\n",
    "import os\n",
    "\n",
    "from dotenv import load_dotenv,find_dotenv\n",
    "load_dotenv(find_dotenv(),override=True)\n",
    "\n",
    "api_key=os.getenv('HUGGINGFACEHUB_API_TOKEN')\n",
    "\n",
    "# llm = ChatOpenAI(\n",
    "#                     model_name=\"tgi\",\n",
    "#                     openai_api_key=api_key,\n",
    "#                     openai_api_base=endpoint + \"/v1/\",\n",
    "#                 )\n",
    "\n",
    "\n",
    "\n",
    "\n",
    "# llm = HuggingFaceTextGenInference(\n",
    "#     inference_server_url=endpoint,\n",
    "#     # max_new_tokens=512,\n",
    "#     # top_k=10,\n",
    "#     # top_p=0.95,\n",
    "#     # typical_p=0.95,\n",
    "#     temperature=0.01,\n",
    "#     # repetition_penalty=1.03,\n",
    "# )\n",
    "# llm(\"What did foo say about bar?\")\n",
    "\n",
    "# model_name = \"NousResearch/Nous-Hermes-2-Mixtral-8x7B-DPO\"\n",
    "# model_name = \"mistralai/Mixtral-8x7B-Instruct-v0.1\"\n",
    "model_name = \"mistralai/Mistral-7B-Instruct-v0.1\"\n",
    "# model_name = \"meta-llama/Llama-2-70b-chat-hf\"\n",
    "\n",
    "llm = HuggingFaceHub(repo_id=model_name,\n",
    "                     model_kwargs={\"temperature\": 0.1, \"max_length\": 516})\n"
   ]
  },
  {
   "cell_type": "code",
   "execution_count": null,
   "metadata": {},
   "outputs": [],
   "source": [
    "prompt=\"\"\"\n",
    "Given the following conversation and a follow up question, rephrase the follow up question to be a standalone question, in its original language.\n",
    "---\n",
    "Your name is Aerospace Chatbot. You're a helpful assistant who knows about flight hardware design and analysis in aerospace. If you don't know the answer, just say that you don't know, don't try to make up an answer.\n",
    "Include sources from the chat history in the standalone question created.\n",
    "---\n",
    "\n",
    "Chat History:\n",
    "\n",
    "User Question: What are examples of lubricants which should be avoided for space mechanism applications?\n",
    "Standalone Question:\n",
    "\"\"\"\n",
    "\n",
    "response=llm.predict(prompt)\n",
    "print(response)"
   ]
  },
  {
   "cell_type": "markdown",
   "metadata": {},
   "source": [
    "# Advanced RAG"
   ]
  },
  {
   "cell_type": "code",
   "execution_count": 117,
   "metadata": {},
   "outputs": [],
   "source": [
    "import os\n",
    "import chromadb\n",
    "\n",
    "from langchain.prompts import ChatPromptTemplate\n",
    "from langchain.schema.output_parser import StrOutputParser\n",
    "from langchain.schema.runnable import RunnableLambda, RunnablePassthrough\n",
    "\n",
    "from langchain_openai import ChatOpenAI\n",
    "from langchain_community.vectorstores import Chroma\n",
    "from langchain_openai import OpenAIEmbeddings\n",
    "from langchain_community.document_loaders import PyPDFLoader\n",
    "from langchain.text_splitter import RecursiveCharacterTextSplitter\n",
    "from langchain_core.documents import Document as lancghain_Document\n",
    "from langchain.retrievers import ParentDocumentRetriever\n",
    "from langchain.storage import InMemoryStore\n",
    "from langchain_community.vectorstores import Pinecone\n",
    "\n",
    "from operator import itemgetter\n",
    "from langchain.memory import ConversationBufferMemory\n",
    "from langchain.schema import format_document\n",
    "from langchain_core.messages import AIMessage, HumanMessage, get_buffer_string\n",
    "from langchain_core.runnables import RunnableParallel\n",
    "from langchain.prompts.prompt import PromptTemplate\n",
    "\n",
    "from pinecone import Pinecone as pinecone_client\n",
    "\n",
    "from dotenv import load_dotenv,find_dotenv\n",
    "load_dotenv(find_dotenv(),override=True)\n",
    "\n",
    "local_db_path='../db/'\n",
    "chunk_size=500\n",
    "chunk_overlap=0\n",
    "embedding_model='text-embedding-ada-002'\n",
    "\n",
    "llm = ChatOpenAI(openai_api_key=os.getenv('OPENAI_API_KEY'), model_name=\"gpt-3.5-turbo\", temperature=0.1)\n",
    "query_model=OpenAIEmbeddings(model=embedding_model,openai_api_key=os.getenv('OPENAI_API_KEY'))\n",
    "store=InMemoryStore()\n"
   ]
  },
  {
   "cell_type": "code",
   "execution_count": 118,
   "metadata": {},
   "outputs": [],
   "source": [
    "# index_type='chroma'\n",
    "index_type='pinecone'\n",
    "\n",
    "type='standard'\n",
    "# type='parent-child'\n",
    "\n",
    "if index_type=='chroma':\n",
    "    # Chroma\n",
    "    persistent_client = chromadb.PersistentClient(path=local_db_path+'/chromadb')   \n",
    "    vectorstore = Chroma(client=persistent_client,\n",
    "                        collection_name='parent-child-test',\n",
    "                        embedding_function=query_model)\n",
    "elif index_type=='pinecone':\n",
    "    # Pinecone\n",
    "    pc=pinecone_client(api_key=os.getenv('PINECONE_API_KEY'))\n",
    "    if type=='standard':\n",
    "        index=pc.Index('pinecone-openai-ams')\n",
    "    elif type=='parent-child':\n",
    "        index=pc.Index('pinecone-openai-ams-pc')\n",
    "    vectorstore = Pinecone(index, query_model, \"page_content\")"
   ]
  },
  {
   "cell_type": "code",
   "execution_count": 119,
   "metadata": {},
   "outputs": [],
   "source": [
    "# persistent_client.delete_collection(name=\"chromadb-openai\")"
   ]
  },
  {
   "cell_type": "code",
   "execution_count": 120,
   "metadata": {},
   "outputs": [],
   "source": [
    "docs=['../data/AMS/AMS_2006.pdf','../data/AMS/AMS_2012.pdf']"
   ]
  },
  {
   "cell_type": "code",
   "execution_count": 121,
   "metadata": {},
   "outputs": [],
   "source": [
    "docs_out=[]\n",
    "for doc in docs:\n",
    "    loader = PyPDFLoader(doc)\n",
    "    data = loader.load()\n",
    "    # pages=text_splitter.split_documents(data)\n",
    "    # for page in pages:\n",
    "    #     # Add metadata to the end of the page content, some RAG models don't have metadata.\n",
    "    #     page.page_content += str(page.metadata)\n",
    "    #     doc_temp=lancghain_Document(page_content=page.page_content,\n",
    "    #                                 source=page.metadata['source'],\n",
    "    #                                 page=page.metadata['page'],\n",
    "    #                                 metadata=page.metadata)\n",
    "    docs_out.extend(data)"
   ]
  },
  {
   "cell_type": "code",
   "execution_count": 135,
   "metadata": {},
   "outputs": [
    {
     "data": {
      "text/plain": [
       "Document(page_content='88 between the locked and unlocked condition of the TO Isolators  during the landing impacts and assess LS-\\nDYNA® modeling techniques and predictive capability. The test configuration had a crew pallet-mockup \\n(green, Figure 7) suspended from a cage (yellow, Figure 7) via the eight struts simulating the Orion CM interior. The cage was housed in a ring base/support structure to provide adjustment for various landing parachute pitch angles. Vertical drop tests were conducted by releasing the test fixture from a crane hook at a height calculated to produce the desired impact velocity. Tapered stacks of paper honeycomb at the four corners of the test fixture base were used to produce impact pulses approximating Orion water landings (see Figure 7). Measurements recorded during the tests include TO Isolator displacements, forces and accelerations as well as pallet and cage accelerations. High-speed cameras and photogrammetry were used to verify impact conditions and observe TO behavior.   Eleven CIAS system drop tests were performed, which successfully demonstrated the performance of the system of struts and provided data for evaluation of the effect of the locked/unlocked condition. The accuracy of the LS-DYNA® model was also assessed. The tests featured impact velocities ranging from \\n3.05 - 10.7 m/s (10 - 35 ft/s) with the crew pallet locked at a 28\\no pitch angle. The findings from this test \\nand simulation effort are as follows: \\n 1. Strut force and pallet acceleration time histories can be predicted via LS-DYNA® simulations with a high degree of accuracy and are relatively insensitive to expected variations in strut parameters such as strut load limit levels, initial stiffness, and dead zones (initial slack). The load limit in the struts determines the peak acceleration of the pallet. The expected range of the strut force limits will result in a relatively minor variation in the strut forces and pallet accelerations.  2. The strut stroke is the most important parameter to consider for evaluation of the system response. It is also the most difficult output to predict, due to its high sensitivity to most input variables. Comparisons of test data with the LS-DYNA® simulation results for tests 3 through 11 had an average prediction error in the strut displacements of ±0.66 cm (0.26 in). The largest observed strut displacement error between a test and simulation was 3.8 cm (1.5 in). The overall average error was 20%. Accurate prediction of the strut strokes requires a high level of fidelity in the modeling of the structure to capture the flexural response of the crew pallet and the structure supporting the outboard ends of the struts, as well as very accurate modeling of the energy-absorbing wire bender strut force versus displacement curve.  3. Depending on the ratio of the load limit magnitude of the wire bender struts and the stiffness of the TO Isolator, there can be an amplification of the wire bender strut strokes for the unlocked condition. The testing revealed that there are combinations of wire bender struts and Isolator struts where the unlocked condition of the Isolator struts does not result in amplification of the wire bender strokes, and other combinations that can amplify the wire bender strokes by a factor of 2.5 to 3.0. These results confirmed the LS-DYNA® predictions that the Isolator needed to be in a locked configuration during landing.   4. The LS-DYNA® model is accurate enough to be used as an effective design tool for further CIAS studies. The design uncertainty on the pallet acceleration environment will reflect the expected variation in the strut yield force and is expected to be limited to 10% provided that the struts do not exceed their stroke limits. For the strut strokes, a design margin of 20% should be used.  ', metadata={'source': '../data/AMS/AMS_2012.pdf', 'page': 101})"
      ]
     },
     "execution_count": 135,
     "metadata": {},
     "output_type": "execute_result"
    }
   ],
   "source": [
    "data[101]"
   ]
  },
  {
   "cell_type": "code",
   "execution_count": 122,
   "metadata": {},
   "outputs": [],
   "source": [
    "questions=[\"What are some challenges associated with light cover mechanisms?\"]"
   ]
  },
  {
   "cell_type": "code",
   "execution_count": 123,
   "metadata": {},
   "outputs": [],
   "source": [
    "from langchain import hub\n",
    "from langchain.prompts.prompt import PromptTemplate\n",
    "\n",
    "# Prompts on the hub: https://smith.langchain.com/hub/my-prompts?organizationId=45eb8917-7353-4296-978d-bb461fc45c65\n",
    "CONDENSE_QUESTION_PROMPT = hub.pull(\"dmueller/ams-chatbot-qa-condense-history\")\n",
    "QA_PROMPT=hub.pull(\"dmueller/ams-chatbot-qa-retrieval\")\n",
    "QA_WSOURCES_PROMPT=hub.pull(\"dmueller/ams-chatbot-qa-retrieval-wsources\")\n",
    "QA_GENERATE_PROMPT=hub.pull(\"dmueller/generate_qa_prompt\")\n",
    "DEFAULT_DOCUMENT_PROMPT = PromptTemplate.from_template(template=\"{page_content}\")"
   ]
  },
  {
   "cell_type": "markdown",
   "metadata": {},
   "source": [
    "## Standard RAG"
   ]
  },
  {
   "cell_type": "code",
   "execution_count": 124,
   "metadata": {},
   "outputs": [],
   "source": [
    "# Combine documents, from queries.py\n",
    "\n",
    "def _combine_documents(\n",
    "    docs, document_prompt=DEFAULT_DOCUMENT_PROMPT, document_separator=\"\\n\\n\"\n",
    "):\n",
    "    doc_strings = [format_document(doc, document_prompt) for doc in docs]\n",
    "    return document_separator.join(doc_strings)"
   ]
  },
  {
   "cell_type": "code",
   "execution_count": 125,
   "metadata": {},
   "outputs": [],
   "source": [
    "# From queries.py\n",
    "\n",
    "memory = ConversationBufferMemory(\n",
    "    return_messages=True, output_key=\"answer\", input_key=\"question\"\n",
    ")"
   ]
  },
  {
   "cell_type": "code",
   "execution_count": 129,
   "metadata": {},
   "outputs": [],
   "source": [
    "retriever=vectorstore.as_retriever()"
   ]
  },
  {
   "cell_type": "code",
   "execution_count": 130,
   "metadata": {},
   "outputs": [],
   "source": [
    "# Directly from queries.py\n",
    "# This adds a 'memory' key to the input object\n",
    "loaded_memory = RunnablePassthrough.assign(\n",
    "                    chat_history=RunnableLambda(memory.load_memory_variables) \n",
    "                    | itemgetter('history'))  \n",
    "\n",
    "# Assemble main chain\n",
    "standalone_question = {\n",
    "    'standalone_question': {\n",
    "        'question': lambda x: x['question'],\n",
    "        'chat_history': lambda x: get_buffer_string(x['chat_history'])}\n",
    "    | CONDENSE_QUESTION_PROMPT\n",
    "    | llm\n",
    "    | StrOutputParser()}\n",
    "\n",
    "retrieved_documents = {\n",
    "    'source_documents': itemgetter('standalone_question') \n",
    "                        | retriever,\n",
    "    'question': lambda x: x['standalone_question']}\n",
    "\n",
    "# Now we construct the inputs for the final prompt\n",
    "final_inputs = {\n",
    "    'context': lambda x: _combine_documents(x['source_documents']),\n",
    "    'question': itemgetter('question')}\n",
    "\n",
    "# And finally, we do the part that returns the answers\n",
    "answer = {\n",
    "    'answer': final_inputs \n",
    "                | QA_PROMPT \n",
    "                | llm,\n",
    "    'references': itemgetter('source_documents')}\n",
    "conversational_qa_chain = loaded_memory | standalone_question | retrieved_documents | answer"
   ]
  },
  {
   "cell_type": "code",
   "execution_count": 127,
   "metadata": {},
   "outputs": [
    {
     "data": {
      "text/plain": [
       "{'answer': AIMessage(content='Some challenges associated with light cover mechanisms include maintaining durability while keeping the cover lightweight, ensuring proper insulation and protection from external elements, and finding materials that are both transparent and resistant to wear and tear.'),\n",
       " 'references': [Document(page_content=\"self-deploying, roll-up, film-type coverasthebestapproach tomeettheMIPsystem requirements. The roll-upcoverprovided several distinct benefits. •Itrequired veryfewmechanical elements tooperate. Thissaveddesigntime,development time,and reduced mass. •Therollingactionofthecovercouldcapture dustasitrolledup,minimizing disturbances •Thefactthatthecoverrolleditselfupmeantthatthecoverwouldrequire minimal envelope after deployment. •Theminimization ofmechanisms anddrivenelements reduced thepowerandcomplexity ofcontrol electronics required foroperation. •Theshapeandsizeofthecovermadeitextremely adaptable tothecomplex shapeandfunctionality required •Although somedevelopment wasnecessary thesimple design allowed forveryrapiddesign and development tomeetthecompressed schedule ofalastminutecoverprogram. 74{'source': 'AMS_2001.pdf', 'page': 84}\", metadata={'page': 84.0, 'source': 'AMS_2001.pdf'}),\n",
       "  Document(page_content='Cover Development Although JPLhasdeveloped anumber ofdeployable sunshades andsimilar structures, consisting mainly ofstiffened multilayer insulation blankets, thiswasthefirst timethatacomplete halfsphere hadtobedeployed. Itwasfeltthatkeytothesuccess ofthedevelopment wasinsuring proper articulation oftheframe, particularly inthe areaoftheHub.Design oftheCoverenvelope wasoriginally assumed tobethe majorchallenge, buttheperson responsible fordesign andfabrication ofCassini\\'s thermal blankets wasunperturbed. Essentially \"eyeballing\" theshapeoftheindividual goresegments, hefabricated ahalfscalemockup withindaysofreceiving an articulatable frametobuildupon.Thishalfscalemockup wasbuiltasaproof-ofconcept fortheHubdesign andtheCoverenvelope fabrication techniques. The compacting material between theStaysisprevented frominterfering withthestowage byremoving a20cm(8inch)radiusofCoverenvelope abouteachpivotpoint.Small semicircular fixedshields closeouttheseopenings intheCover. Aftertheoriginal halfscalemockup proved thetaskattainable, afullsizeprototype wasfabricated withtheexpectation thatnewsurprises wouldrevealthemselves. Eventually, twoengineering modelunitshadtobemadeinaddition totheprototype. Theprogression fromusingtheMLImaterials available fromstocktocurrent flightapproved materials caused anumber ofproblems. Thefirstandprimary problem became evident withtheinitialengineering model. Theflightmaterials were{\\'source\\': \\'AMS_1997.pdf\\', \\'page\\': 217}', metadata={'page': 217.0, 'source': 'AMS_1997.pdf'}),\n",
       "  Document(page_content=\"JWST NlRSpec Cryogenic Light Shield Mechanism  Kathleen Hale’ and Rajeev Sharma’  Abstract  The focal plane detectors for the Near-Infrared Spectrometer (NIRSpec) instrument on the James Webb  Space Telescope (JWST) require a light tight cover for calibration along with an open field-of-view during  ground performance testing within a cryogenic dewar. In order to meet the light attenuation requirements  and provide open and closed fields of view without breaking vacuum, a light shield mechanism was  designed. This paper describes the details of the light shield mechanism design and test results. Included  is information on the labyrinth light path design, motor capability and performance, dry film lubrication,  mechanism control, and mechanism cryogenic performance results.  Background  A light tight cover mechanism design and development is discussed for ground testing the Near Infrared  Spectrometer Instrument’s focal plane detectors on the James Webb Space Telescope. The NIRSpec  focal plane detectors require a light tight cover for calibration along with an open field-of-view during  ground performance testing within a cryogenic dewar. These tests include exposing the detectors to  infrared light for calibration in “darkness” while under vacuum at approximately 20 Kelvin  (-253°C). The darkness requirement is to maintain light levels less than 0.001 electron/sec/pixel at the  detectors. In order to provide this low light level during calibration and also allow the detectors to be  exposed to the required light sources when needed, the light shield mechanism was developed.  Requirements  The light shield mechanism is required to attenuate light in the chamber to a level less than 0.001{'source': 'AMS_2006.pdf', 'page': 237}\", metadata={'page': 237.0, 'source': 'AMS_2006.pdf'}),\n",
       "  Document(page_content=\"416 • Materials selection.   The material must withstand the various types of radiation present in the working  environment and avoid potential risks from electrostatic discharges produced by an  atmosphere with a high ion density. In addition, it must withstand the temperature changes occurring when its orbit passes in and out of sunlight, which range from 243 to 293K, and the maximum temperature during launch of 353K.  • Dimension and mass limits.  The mechanism must be as light as possible so that other elements can be included on the satellite. The aim is for everything to be un der 20 g. Furthermore, it must not protrude  more than 6.5 mm from the outer face of the shielding.  • Mechanical strength.  The mechanism must guarantee its structural integrity and the retention of the antennas  under the effects of knocks and vibrations. \\n\\nAdopted solutions\\n\\nAll the solutions proposed for each of the above problems are briefly outlined below:  • The mechanism would be built in to a single piec e that would act as a support for all the others,  which we will call the sub-chassis from here on.  • The sub-chassis would be made of a polymeric material to insulate the antenna electrically; this  would later be covered by a layer of dissipative paint.  • The sub-chassis was designed in a continuous ring shape with a C profile, so that the interior  space was available for other elements such as solar panels, cameras and so on.  • The chosen polymer was polyamide as this brings together the many features needed for subchassis operation such as acceptable resistance to radiation and ultraviolet radiation and great dimensional stability against exterior temperature changes.  • To solve the weight problem, in addition to t he material chosen for the sub-chassis, it was{'source': 'AMS_2010.pdf', 'page': 432}\", metadata={'page': 432.0, 'source': 'AMS_2010.pdf'})]}"
      ]
     },
     "execution_count": 127,
     "metadata": {},
     "output_type": "execute_result"
    }
   ],
   "source": [
    "inputs = {\"question\": questions[0]}\n",
    "result = conversational_qa_chain.invoke(inputs)\n",
    "result"
   ]
  },
  {
   "cell_type": "code",
   "execution_count": 128,
   "metadata": {},
   "outputs": [
    {
     "data": {
      "text/plain": [
       "[Document(page_content=\"self-deploying, roll-up, film-type coverasthebestapproach tomeettheMIPsystem requirements. The roll-upcoverprovided several distinct benefits. •Itrequired veryfewmechanical elements tooperate. Thissaveddesigntime,development time,and reduced mass. •Therollingactionofthecovercouldcapture dustasitrolledup,minimizing disturbances •Thefactthatthecoverrolleditselfupmeantthatthecoverwouldrequire minimal envelope after deployment. •Theminimization ofmechanisms anddrivenelements reduced thepowerandcomplexity ofcontrol electronics required foroperation. •Theshapeandsizeofthecovermadeitextremely adaptable tothecomplex shapeandfunctionality required •Although somedevelopment wasnecessary thesimple design allowed forveryrapiddesign and development tomeetthecompressed schedule ofalastminutecoverprogram. 74{'source': 'AMS_2001.pdf', 'page': 84}\", metadata={'page': 84.0, 'source': 'AMS_2001.pdf'}),\n",
       " Document(page_content='Cover Development Although JPLhasdeveloped anumber ofdeployable sunshades andsimilar structures, consisting mainly ofstiffened multilayer insulation blankets, thiswasthefirst timethatacomplete halfsphere hadtobedeployed. Itwasfeltthatkeytothesuccess ofthedevelopment wasinsuring proper articulation oftheframe, particularly inthe areaoftheHub.Design oftheCoverenvelope wasoriginally assumed tobethe majorchallenge, buttheperson responsible fordesign andfabrication ofCassini\\'s thermal blankets wasunperturbed. Essentially \"eyeballing\" theshapeoftheindividual goresegments, hefabricated ahalfscalemockup withindaysofreceiving an articulatable frametobuildupon.Thishalfscalemockup wasbuiltasaproof-ofconcept fortheHubdesign andtheCoverenvelope fabrication techniques. The compacting material between theStaysisprevented frominterfering withthestowage byremoving a20cm(8inch)radiusofCoverenvelope abouteachpivotpoint.Small semicircular fixedshields closeouttheseopenings intheCover. Aftertheoriginal halfscalemockup proved thetaskattainable, afullsizeprototype wasfabricated withtheexpectation thatnewsurprises wouldrevealthemselves. Eventually, twoengineering modelunitshadtobemadeinaddition totheprototype. Theprogression fromusingtheMLImaterials available fromstocktocurrent flightapproved materials caused anumber ofproblems. Thefirstandprimary problem became evident withtheinitialengineering model. Theflightmaterials were{\\'source\\': \\'AMS_1997.pdf\\', \\'page\\': 217}', metadata={'page': 217.0, 'source': 'AMS_1997.pdf'}),\n",
       " Document(page_content=\"JWST NlRSpec Cryogenic Light Shield Mechanism  Kathleen Hale’ and Rajeev Sharma’  Abstract  The focal plane detectors for the Near-Infrared Spectrometer (NIRSpec) instrument on the James Webb  Space Telescope (JWST) require a light tight cover for calibration along with an open field-of-view during  ground performance testing within a cryogenic dewar. In order to meet the light attenuation requirements  and provide open and closed fields of view without breaking vacuum, a light shield mechanism was  designed. This paper describes the details of the light shield mechanism design and test results. Included  is information on the labyrinth light path design, motor capability and performance, dry film lubrication,  mechanism control, and mechanism cryogenic performance results.  Background  A light tight cover mechanism design and development is discussed for ground testing the Near Infrared  Spectrometer Instrument’s focal plane detectors on the James Webb Space Telescope. The NIRSpec  focal plane detectors require a light tight cover for calibration along with an open field-of-view during  ground performance testing within a cryogenic dewar. These tests include exposing the detectors to  infrared light for calibration in “darkness” while under vacuum at approximately 20 Kelvin  (-253°C). The darkness requirement is to maintain light levels less than 0.001 electron/sec/pixel at the  detectors. In order to provide this low light level during calibration and also allow the detectors to be  exposed to the required light sources when needed, the light shield mechanism was developed.  Requirements  The light shield mechanism is required to attenuate light in the chamber to a level less than 0.001{'source': 'AMS_2006.pdf', 'page': 237}\", metadata={'page': 237.0, 'source': 'AMS_2006.pdf'}),\n",
       " Document(page_content=\"416 • Materials selection.   The material must withstand the various types of radiation present in the working  environment and avoid potential risks from electrostatic discharges produced by an  atmosphere with a high ion density. In addition, it must withstand the temperature changes occurring when its orbit passes in and out of sunlight, which range from 243 to 293K, and the maximum temperature during launch of 353K.  • Dimension and mass limits.  The mechanism must be as light as possible so that other elements can be included on the satellite. The aim is for everything to be un der 20 g. Furthermore, it must not protrude  more than 6.5 mm from the outer face of the shielding.  • Mechanical strength.  The mechanism must guarantee its structural integrity and the retention of the antennas  under the effects of knocks and vibrations. \\n\\nAdopted solutions\\n\\nAll the solutions proposed for each of the above problems are briefly outlined below:  • The mechanism would be built in to a single piec e that would act as a support for all the others,  which we will call the sub-chassis from here on.  • The sub-chassis would be made of a polymeric material to insulate the antenna electrically; this  would later be covered by a layer of dissipative paint.  • The sub-chassis was designed in a continuous ring shape with a C profile, so that the interior  space was available for other elements such as solar panels, cameras and so on.  • The chosen polymer was polyamide as this brings together the many features needed for subchassis operation such as acceptable resistance to radiation and ultraviolet radiation and great dimensional stability against exterior temperature changes.  • To solve the weight problem, in addition to t he material chosen for the sub-chassis, it was{'source': 'AMS_2010.pdf', 'page': 432}\", metadata={'page': 432.0, 'source': 'AMS_2010.pdf'})]"
      ]
     },
     "execution_count": 128,
     "metadata": {},
     "output_type": "execute_result"
    }
   ],
   "source": [
    "result['references']"
   ]
  },
  {
   "cell_type": "markdown",
   "metadata": {},
   "source": [
    "## Parent-child\n",
    "https://colab.research.google.com/github/datastax/ragstack-ai/blob/main/examples/notebooks/advancedRAG.ipynb"
   ]
  },
  {
   "cell_type": "code",
   "execution_count": 113,
   "metadata": {},
   "outputs": [],
   "source": [
    "# index_type='chroma'\n",
    "index_type='pinecone'\n",
    "\n",
    "# type='standard'\n",
    "type='parent-child'\n",
    "\n",
    "if index_type=='chroma':\n",
    "    # Chroma\n",
    "    persistent_client = chromadb.PersistentClient(path=local_db_path+'/chromadb')   \n",
    "    vectorstore = Chroma(client=persistent_client,\n",
    "                        collection_name='parent-child-test',\n",
    "                        embedding_function=query_model)\n",
    "elif index_type=='pinecone':\n",
    "    # Pinecone\n",
    "    pc=pinecone_client(api_key=os.getenv('PINECONE_API_KEY'))\n",
    "    if type=='standard':\n",
    "        index=pc.Index('pinecone-openai-ams')\n",
    "    elif type=='parent-child':\n",
    "        index=pc.Index('pinecone-openai-ams-pc')\n",
    "    vectorstore = Pinecone(index, query_model, \"page_content\")"
   ]
  },
  {
   "cell_type": "code",
   "execution_count": 115,
   "metadata": {},
   "outputs": [],
   "source": [
    "k_parent=5\n",
    "parent_splitter=RecursiveCharacterTextSplitter.from_tiktoken_encoder(chunk_size=chunk_size*k_parent, chunk_overlap=chunk_overlap)\n",
    "child_splitter=RecursiveCharacterTextSplitter.from_tiktoken_encoder(chunk_size=chunk_size, chunk_overlap=chunk_overlap)\n",
    "\n",
    "# Create a parent document retriever\n",
    "parent_retriever = ParentDocumentRetriever(\n",
    "    vectorstore=vectorstore,\n",
    "    docstore=store,\n",
    "    child_splitter=child_splitter,\n",
    "    parent_splitter=parent_splitter,\n",
    ")"
   ]
  },
  {
   "cell_type": "code",
   "execution_count": 116,
   "metadata": {},
   "outputs": [],
   "source": [
    "# Split and load the documents into the vector and parent stores\n",
    "parent_retriever.add_documents(docs_out)"
   ]
  },
  {
   "cell_type": "code",
   "execution_count": 131,
   "metadata": {},
   "outputs": [],
   "source": [
    "retriever=parent_retriever\n",
    "\n",
    "# Directly from queries.py\n",
    "# This adds a 'memory' key to the input object\n",
    "loaded_memory = RunnablePassthrough.assign(\n",
    "                    chat_history=RunnableLambda(memory.load_memory_variables) \n",
    "                    | itemgetter('history'))  \n",
    "\n",
    "# Assemble main chain\n",
    "standalone_question = {\n",
    "    'standalone_question': {\n",
    "        'question': lambda x: x['question'],\n",
    "        'chat_history': lambda x: get_buffer_string(x['chat_history'])}\n",
    "    | CONDENSE_QUESTION_PROMPT\n",
    "    | llm\n",
    "    | StrOutputParser()}\n",
    "\n",
    "retrieved_documents = {\n",
    "    'source_documents': itemgetter('standalone_question') \n",
    "                        | retriever,\n",
    "    'question': lambda x: x['standalone_question']}\n",
    "\n",
    "# Now we construct the inputs for the final prompt\n",
    "final_inputs = {\n",
    "    'context': lambda x: _combine_documents(x['source_documents']),\n",
    "    'question': itemgetter('question')}\n",
    "\n",
    "# And finally, we do the part that returns the answers\n",
    "answer = {\n",
    "    'answer': final_inputs \n",
    "                | QA_PROMPT \n",
    "                | llm,\n",
    "    'references': itemgetter('source_documents')}\n",
    "conversational_qa_chain = loaded_memory | standalone_question | retrieved_documents | answer"
   ]
  },
  {
   "cell_type": "code",
   "execution_count": 132,
   "metadata": {},
   "outputs": [
    {
     "data": {
      "text/plain": [
       "{'answer': AIMessage(content='Some challenges associated with light cover mechanisms include maintaining durability while keeping the cover lightweight, ensuring proper insulation and protection from external elements, and designing mechanisms that are easy to operate and maintain.'),\n",
       " 'references': [Document(page_content='JWST NlRSpec Cryogenic Light Shield Mechanism \\nKathleen Hale’ and Rajeev Sharma’ \\nAbstract \\nThe focal plane detectors for the Near-Infrared Spectrometer (NIRSpec) instrument on the James Webb \\nSpace Telescope (JWST) require a light tight cover for calibration along with an open field-of-view during \\nground performance testing within a cryogenic dewar. In order to meet the light attenuation requirements \\nand provide open and closed fields of view without breaking vacuum, a light shield mechanism was \\ndesigned. This paper describes the details of the light shield mechanism design and test results. Included \\nis information on the labyrinth light path design, motor capability and performance, dry film lubrication, \\nmechanism control, and mechanism cryogenic performance results. \\nBackground \\nA light tight cover mechanism design and development is discussed for ground testing the Near Infrared \\nSpectrometer Instrument’s focal plane detectors on the James Webb Space Telescope. The NIRSpec \\nfocal plane detectors require a light tight cover for calibration along with an open field-of-view during \\nground performance testing within a cryogenic dewar. These tests include exposing the detectors to \\ninfrared light for calibration in “darkness” while under vacuum at approximately 20 Kelvin \\n(-253°C). The darkness requirement is to maintain light levels less than 0.001 electron/sec/pixel at the \\ndetectors. In order to provide this low light level during calibration and also allow the detectors to be \\nexposed to the required light sources when needed, the light shield mechanism was developed. \\nRequirements \\nThe light shield mechanism is required to attenuate light in the chamber to a level less than 0.001 \\nelectronlseclpixel before it reaches the detectors. Volume space allotted to the mechanism is 27.9 cm in \\ndiameter by 15.2 cm high (01 1 in x 6 in). The shield must be able to open or close within about 60 \\nseconds, operate in a vacuum Torr) at 20 Kelvin, and in any gravitational orientation. The lifetime \\nrequirement for the shield is a few thousand cycles where one cycle is open and close. \\nWhen open, the shield door is to remain outside the 76-degree cone angle of the detectors’ field of view. \\nThe light shield door range of rotation is about 124 degrees from open to close. \\nShutter Light Path Design \\nA labyrinth light path is created, Figure 1, by the aligning of teeth-like protrusions on the shutter door with \\nteeth cut outs into the plate covering the detector housing, hereafter referred to as the dewar bulkhead. \\nThe door and dewar bulkhead protrusions are separated by a gap of 0.64 mm (0.025 in) to prevent any \\ncontact debris from being created during the opening and closing operation of the door. This gap allows \\nlight entrance to the path, however, the labyrinth design combined with the proper material selection and \\ntreatment forces any light entering to bounce many times off the path’s walls and thus be absorbed to \\nlevels below the requirement. Aluminum 6061, which is bead blasted and black anodized, makes up both \\nthe door and dewar bulkhead. \\n“NASA Goddard Space Flight Center, Greenbelt, MD \\nProceedings of the 38 Aerospace Mechanisms Symposium, Langley Research Center, May 15- 17,200G \\n223', metadata={'source': '../data/AMS/AMS_2006.pdf', 'page': 236}),\n",
       "  Document(page_content='honeycomb design and reducing the torque output and energy absorption. The overall design would have \\nbeen much simpler, reducing drawing, fabrication, and installation costs and schedule with the removal of \\nthe Energy Absorber structure and simplification of the Hinge mechanism. Additionally, the crushable \\nhoneycomb would have been replaceable without disassembly of the Energy Absorber mechanism. \\nGALEX placed the Latch mechanism on top of the cover due to mounting surface constraints and \\ncontamination control. However, the proposed configuration could have allowed the Latch mechanism to \\nbe mounted to the Cover Ring instead of on the cover. This would have removed the necessity of routing \\nLatch cabling over the Hinge, eliminating cable parasitic torque drag. Additionally, the simplified cabling \\ncould have received cable stiffening micrometeorite shielding. With the Latch mechanism mass removed \\nfrom the cover, the crushable honeycomb could have been placed close to the hinge axis instead of along \\nthe canister. \\nCover deployment depended on Latch Arm rotation. The GALEX latch arm was positioned close to the \\ninstrument aperture opening and was rotated away from the aperture to reduce stray light issues. The \\nrotation of the latch arm rotate introduced some potential single point failures. After the GALEX latch arm \\nwas adopted, it was discovered than an earlier mission that originally designed the Latch mechanism \\ninstead utilized a fixed latch arm with a slot in the path of cover deployment. Because the proposed \\ndesign did not face the same stray light issues as GALEX, a potential failure mode was unnecessarily \\nadopted and additional work was necessary to reduce risk. \\nThe Latch mechanism is zero-fault tolerant in some cases as it depends on a single actuator (with \\nredundant heaters) and a single set of pistons to translate prior to cover deployment. An alternate latch \\nmechanism design using two Starsys pin pullers in a toggle type configuration could have been more \\ndesirable and would have been fully single fault tolerant. Additionally, the mechanism would have been \\nless complex and would possibly have fewer parts and less expensive to fabricate. \\nBoth the Latch and Hinge mechanisms were complex, with many tightly toleranced parts. These \\nmechanisms were expensive and schedule intensive to fabricate. Simpler alternate designs described \\nabove would have potentially saved more schedule than building the heritage designs. \\nThe Hinge mechanism is only capable of cover deployment with the Hinge axis aligned with gravity \\n(vertically). It would have been preferable to incorporate a hinge mechanism that was capable of \\ndeploying the cover in any orientation as the instrument will not be positioned vertically during I&T and \\nATLO, making an end-to-end test impossible. Instead, cover deployment tests will be conducted before \\nCDLM delivery to I&T. Once in I&T and ATLO, first motion tests will verify Latch mechanism functionality \\nand the cover will be sweep to ensure there are no obstructions. \\nThe Energy Absorber honeycomb was finalized before flight-like cable was installed over the Hinge axis \\nduring prototype cover deployment tests. It was expected that the cable could be wrapped in a way to \\nprovide a positive torque to aid the cover rotation, but was initially found not to be possible. Further \\nprototype deployment tests with the cable showed that the honeycomb needed to be changed. \\nThe crushable honeycomb Energy Absorber prototype effort cost significant schedule. In keeping the \\nEnergy Absorber housing similar to GALEX (and thus limiting the redesign of the support structure), the \\nEnergy Absorber still must be disassembled to be reset after a cover deployment test. This disassembly \\nis only moderately less time consuming than a GALEX Energy Absorber reset. \\nWhile the residual end-of-travel Hinge torque output and magnetic latch provide enough force to keep the \\ncover captured during spacecraft maneuvers, a positive latch mechanism would have been more \\npreferable. \\n73', metadata={'source': '../data/AMS/AMS_2006.pdf', 'page': 86}),\n",
       "  Document(page_content='Heritage Adoption Lessons Learned: Cover Deployment and Latch Mechanism \\nJames W incentsen. \\nAbstract \\nWithin JPL, there is a technology thrust need to develop a larger Cover Deployment and Latch \\nMechanism (CDLM) for future missions. The approach taken was to adopt and scale the CDLM design as \\nused on the Galaxy Evolution Explorer (GALEX) project. The three separate mechanisms that comprise \\nthe CDLM will be discussed in this paper in addition to a focus on heritage adoption lessons learned and \\nspecific examples. These lessons learned will be valuable to any project considering the use of heritage \\ndesigns. \\nIntroduction \\nBecause of future JPL mission needs for meter class space telescopes, there was an internal technology \\ndemonstration to develop a complete mechanism set for single-time deployable cover to protect the \\noptics. Because the task was tracked for a fast technology development, the decision was made to fully \\nadopt the GALEX cover deployment design early in the project cycle to save cost and schedule. For \\nreference, the baseline design aperture opening diameter was 0.83 m (32.7 in) and the outer diameter of \\nthe instrument was 1.1 m (43.3 in) in diameter, roughly twice the size of GALEX. \\nCDLM Overview \\nThe three mechanisms that comprise the CDLM are the Latch, Hinge, and two Energy Absorbers. When \\nthe Latch releases the cover, two push off springs and the Hinge mechanism rotate the cover \\napproximately 4.66 rad (267 deg) and impact the crushable honeycomb filled Energy Absorbers. \\nDeployment time is approximately 3.4 seconds. The Hinge mechanism is un-dampened. After \\ndeployment, the cover remains against the canister. An overview of the instrument and placement of the \\nmechanisms are presented in Figure 1. \\nLatch Mechanism \\nThe Latch mechanism, attached to the cover, employs a Starsys paraffin thermal actuator as the prime \\nmover. An interfacing slotted Latch Arm is affixed to the Cover Ring. The Latch Arm is spring loaded to \\nrotate away from the aperture opening upon release. A detail view of the latch area is shown in Figure 2, \\nthe Latch Arm is shown in Figure 3, and a cross section of the Latch mechanism is shown in Figure 4. \\nThe Locking Piston passes through and retains the Latch Arm. The Push Piston has a small-diameter tip \\nand passes through the Latch Arm slot. To deploy the cover, the actuator heater is energized, which \\ntranslates both the Push Piston and Locking Piston, forcing the Locking Piston clear of the Latch Arm. \\nOnce the Locking Piston is clear of the Latch Arm, the Push Piston slips through the Latch Arm as it \\nrotates. The mechanism locks open by means of torsion spring loaded arms that snap into a grove on the \\nLocking Piston. Microswitches sense the motion of the arms and provide telemetry of the mechanism \\nstate. \\nPower to the actuator is discontinued once one of three criteria are meet: Hall effect sensors mounted on \\nthe Energy Absorbers register a deployed cover (discussed later), PRTs mounted on the actuator reach a \\nmaximum temperature, or a time limit circuit is exceeded. Both the temperature and time are based on a \\nlook up table derived from thermal vacuum Latch test data. After power is terminated and the actuator \\n* Jet Propulsion Laboratory, Pasadena, CA \\nProceedings of the 38th Aerospace Mechanisms Symposium, Langley Research Center, May 17-19,2006. \\n65', metadata={'source': '../data/AMS/AMS_2006.pdf', 'page': 78}),\n",
       "  Document(page_content='Figure 5. Breadboard model of the Sphere \\nTechnical Challenges Overcome \\nStruaalina for a low mass \\nThe total mass allocated to the Martian seismometer, including sphere, installation device and \\nelectronics, is 2.4 kg. The mass budget allocated to the sphere is only 540 g. \\nAt the end of this Phase 6, we managed to get very close to the mass budget with 570 g, which \\nalmost ensures matching the specification mass in a phase C. It is the result of a trade-off between \\nseismic performance, mechanical resistance and thermal sensitivity. Huge efforts were made to \\nminiaturize all functions and match with the mass specification while matching at the same time with \\nthe necessary robustness. \\nLow mass vs. seismic Performance \\nTheoretically, the bigger the mobile part mass is, the better the seismological performance is for an \\nopen-loop seismometer (the sensitivity of a seismometer varies with m/k, with m the mass and k the \\nstiffness). For example, the seismometer STS2 which is the current reference on Earth weighs 11 kg. \\nThe use of a feed-back loop on the mobile part position is a way to reduce its mass. Concerning the \\nfixed part, some rather heavy but, unfortunately compulsory components - the getter and the \\nshielding for instance - makes the “fight” for a low mass even more challenging. \\nLow mass vs. mechanical resilience \\nAs an other big issue with regard to a low mass, the structural part has to be stiff enough to not \\ninterfere with the oscillations of the ground and resistant enough to withstand the landing on Mars. \\nThe mass of the structural part has been reduced by calculations on a finite element model and \\nespecially thanks to the use of stuck glued and welded assemblies (instead of bolts and screws). \\nLow mass vs. thermal sensitivity \\nFinally, concerning the materials, the choice was led by the thermal sensitivity and the need of \\nvacuum. Titanium (TAGV or T40) was selected for all the parts participating in the oscillations \\nmeasures (ring, plate, fixed part and mobile part) except for the insulating blocks. Titanium is of \\ncourse an additional difficulty with regard to the low mass objective. \\nFor the covers, an alternative to the titanium was explored. With a composite material in carbon \\ncovered with a metal deposit, the mass of the covers can be reduced by 40% (35 9). Unfortunately \\nthe current technologies of deposit on composite materials do not guarantee a sufficient level of \\n173', metadata={'source': '../data/AMS/AMS_2006.pdf', 'page': 186})]}"
      ]
     },
     "execution_count": 132,
     "metadata": {},
     "output_type": "execute_result"
    }
   ],
   "source": [
    "inputs = {\"question\": questions[0]}\n",
    "result = conversational_qa_chain.invoke(inputs)\n",
    "result"
   ]
  },
  {
   "cell_type": "markdown",
   "metadata": {},
   "source": [
    "# Module testing"
   ]
  },
  {
   "cell_type": "code",
   "execution_count": 1,
   "metadata": {},
   "outputs": [],
   "source": [
    "import sys\n",
    "# Assuming `/home/user/projects/my_modules` is the path to the folder with your modules\n",
    "sys.path.append('../src')"
   ]
  },
  {
   "cell_type": "code",
   "execution_count": 4,
   "metadata": {},
   "outputs": [],
   "source": [
    "import data_processing\n",
    "import glob"
   ]
  },
  {
   "cell_type": "code",
   "execution_count": null,
   "metadata": {},
   "outputs": [],
   "source": [
    "data_folder = '../data/AMS/'\n",
    "docs = glob.glob(data_folder+'*.pdf')   # Only get the PDFs in the directory\n",
    "\n",
    "json_file = data_folder+'ams_data-400-0-0.json'\n",
    "chunk_size = 500\n",
    "chunk_overlap = 0\n",
    "use_json = False\n",
    "show_progress = True\n",
    "\n",
    "data_processing.chunk_docs(docs,\n",
    "                        file=json_file,\n",
    "                        chunk_size=chunk_size,\n",
    "                        chunk_overlap=chunk_overlap,\n",
    "                        use_json=use_json,\n",
    "                        show_progress=show_progress)"
   ]
  },
  {
   "cell_type": "code",
   "execution_count": null,
   "metadata": {},
   "outputs": [],
   "source": [
    "from langchain.text_splitter import RecursiveCharacterTextSplitter\n",
    "chunk_size=500\n",
    "chunk_overlap=0\n",
    "\n",
    "text_splitter = RecursiveCharacterTextSplitter.from_tiktoken_encoder(chunk_size=chunk_size, chunk_overlap=chunk_overlap)"
   ]
  }
 ],
 "metadata": {
  "kernelspec": {
   "display_name": "Python 3",
   "language": "python",
   "name": "python3"
  },
  "language_info": {
   "codemirror_mode": {
    "name": "ipython",
    "version": 3
   },
   "file_extension": ".py",
   "mimetype": "text/x-python",
   "name": "python",
   "nbconvert_exporter": "python",
   "pygments_lexer": "ipython3",
   "version": "3.11.1"
  },
  "orig_nbformat": 4
 },
 "nbformat": 4,
 "nbformat_minor": 2
}
