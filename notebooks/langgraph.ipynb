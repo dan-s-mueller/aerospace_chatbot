{
 "cells": [
  {
   "cell_type": "code",
   "execution_count": 1,
   "metadata": {},
   "outputs": [],
   "source": [
    "%load_ext autoreload\n",
    "%autoreload 2"
   ]
  },
  {
   "cell_type": "markdown",
   "metadata": {},
   "source": [
    "# Test partitioning update"
   ]
  },
  {
   "cell_type": "code",
   "execution_count": 2,
   "metadata": {},
   "outputs": [],
   "source": [
    "from aerospace_chatbot.processing import DocumentProcessor\n",
    "from aerospace_chatbot.services import EmbeddingService, RerankService, LLMService, DatabaseService\n",
    "from aerospace_chatbot.processing import QAModel\n",
    "\n",
    "from langchain_core.documents import Document\n",
    "\n",
    "# Load environment variables\n",
    "from dotenv import load_dotenv\n",
    "load_dotenv(override=True)\n",
    "# Set LOCAL_DB_PATH environment variable\n",
    "# os.environ['LOCAL_DB_PATH'] = os.path.abspath('.')\n",
    "\n",
    "# Initialize logger\n",
    "import logging\n",
    "logger = logging.getLogger(__name__)\n",
    "logging.basicConfig(level=logging.INFO)"
   ]
  },
  {
   "cell_type": "code",
   "execution_count": 3,
   "metadata": {},
   "outputs": [],
   "source": [
    "db_type='Pinecone'\n",
    "\n",
    "embedding_service='OpenAI'\n",
    "embedding_model='text-embedding-3-large'\n",
    "\n",
    "rerank_service='Cohere'\n",
    "rerank_model='rerank-v3.5'\n",
    "\n",
    "llm_service='OpenAI'\n",
    "llm_model='gpt-4o'\n",
    "# llm_service='Anthropic'\n",
    "# llm_model='claude-3-5-sonnet-latest'\n",
    "\n",
    "chunk_size=400\n",
    "chunk_overlap=0\n",
    "batch_size=50\n",
    "index_name = 'text-embedding-3-large-test'\n",
    "\n",
    "test_prompt='How does a thermal knife function in a cable based hold down release mechanism?'"
   ]
  },
  {
   "cell_type": "code",
   "execution_count": 4,
   "metadata": {},
   "outputs": [],
   "source": [
    "# Initialize services\n",
    "embedding_service = EmbeddingService(\n",
    "    model_service=embedding_service,\n",
    "    model=embedding_model\n",
    ")\n",
    "\n",
    "rerank_service = RerankService(\n",
    "    model_service=rerank_service,\n",
    "    model=rerank_model\n",
    ")\n",
    "\n",
    "llm_service = LLMService(\n",
    "    model_service=llm_service,\n",
    "    model=llm_model,\n",
    ")\n",
    "\n",
    "doc_processor = DocumentProcessor(\n",
    "    embedding_service=embedding_service,\n",
    "    chunk_size=chunk_size,\n",
    "    chunk_overlap=chunk_overlap,\n",
    ")\n",
    "\n",
    "# Initialize database service\n",
    "db_service = DatabaseService(\n",
    "    db_type=db_type,\n",
    "    index_name=index_name,\n",
    "    embedding_service=embedding_service,\n",
    "    rerank_service=rerank_service,\n",
    ")"
   ]
  },
  {
   "cell_type": "code",
   "execution_count": 5,
   "metadata": {},
   "outputs": [
    {
     "name": "stderr",
     "output_type": "stream",
     "text": [
      "INFO:aerospace_chatbot.processing.documents:Number of PDFs found: 414\n",
      "INFO:aerospace_chatbot.processing.documents:PDFs found: ['gs://processing-pdfs/2011_alvarez_reocr.pdf', 'gs://processing-pdfs/2011_anderson_reocr.pdf', 'gs://processing-pdfs/2011_andion_reocr.pdf', 'gs://processing-pdfs/2011_arend_reocr.pdf', 'gs://processing-pdfs/2011_belly_reocr.pdf', 'gs://processing-pdfs/2011_bijuprasad_reocr.pdf', 'gs://processing-pdfs/2011_billing_reocr.pdf', 'gs://processing-pdfs/2011_blanc_reocr.pdf', 'gs://processing-pdfs/2011_bourrec_reocr.pdf', 'gs://processing-pdfs/2011_budinoff_reocr.pdf', 'gs://processing-pdfs/2011_buttery2_reocr.pdf', 'gs://processing-pdfs/2011_buttery_reocr.pdf', 'gs://processing-pdfs/2011_cavan_reocr.pdf', 'gs://processing-pdfs/2011_collado_reocr.pdf', 'gs://processing-pdfs/2011_combernoux_reocr.pdf', 'gs://processing-pdfs/2011_compostizo_reocr.pdf', 'gs://processing-pdfs/2011_courtois_reocr.pdf', 'gs://processing-pdfs/2011_demerville_reocr.pdf', 'gs://processing-pdfs/2011_duforet_reocr.pdf', 'gs://processing-pdfs/2011_eigenmann_reocr.pdf', 'gs://processing-pdfs/2011_ferris_reocr.pdf', 'gs://processing-pdfs/2011_gasparini_reocr.pdf', 'gs://processing-pdfs/2011_giacintonardone_reocr.pdf', 'gs://processing-pdfs/2011_grygorczuk_reocr.pdf', 'gs://processing-pdfs/2011_guay_reocr.pdf', 'gs://processing-pdfs/2011_guy_reocr.pdf', 'gs://processing-pdfs/2011_hahn_reocr.pdf', 'gs://processing-pdfs/2011_hardt_reocr.pdf', 'gs://processing-pdfs/2011_haslehurst_reocr.pdf', 'gs://processing-pdfs/2011_heinrich_reocr.pdf', 'gs://processing-pdfs/2011_hopper_reocr.pdf', 'gs://processing-pdfs/2011_kiesel_reocr.pdf', 'gs://processing-pdfs/2011_kottmeier_reocr.pdf', 'gs://processing-pdfs/2011_kubitschek_reocr.pdf', 'gs://processing-pdfs/2011_laa_reocr.pdf', 'gs://processing-pdfs/2011_lee_reocr.pdf', 'gs://processing-pdfs/2011_leikert_reocr.pdf', 'gs://processing-pdfs/2011_maniwa_reocr.pdf', 'gs://processing-pdfs/2011_meftah_reocr.pdf', 'gs://processing-pdfs/2011_munro_reocr.pdf', 'gs://processing-pdfs/2011_nalbandian_reocr.pdf', 'gs://processing-pdfs/2011_neugebauer_reocr.pdf', 'gs://processing-pdfs/2011_pages_reocr.pdf', 'gs://processing-pdfs/2011_palladino_reocr.pdf', 'gs://processing-pdfs/2011_parzianello_reocr.pdf', 'gs://processing-pdfs/2011_pinto_reocr.pdf', 'gs://processing-pdfs/2011_ponnusamy_reocr.pdf', 'gs://processing-pdfs/2011_rataj2_reocr.pdf', 'gs://processing-pdfs/2011_rataj_reocr.pdf', 'gs://processing-pdfs/2011_riva_reocr.pdf', 'gs://processing-pdfs/2011_schmalbach2_reocr.pdf', 'gs://processing-pdfs/2011_schmalbach_reocr.pdf', 'gs://processing-pdfs/2011_schmid_reocr.pdf', 'gs://processing-pdfs/2011_schmidt_reocr.pdf', 'gs://processing-pdfs/2011_schwarz_reocr.pdf', 'gs://processing-pdfs/2011_sexton_reocr.pdf', 'gs://processing-pdfs/2011_slade_reocr.pdf', 'gs://processing-pdfs/2011_talvat_reocr.pdf', 'gs://processing-pdfs/2011_tillier_reocr.pdf', 'gs://processing-pdfs/2011_tyler_reocr.pdf', 'gs://processing-pdfs/2011_verhoeven_reocr.pdf', 'gs://processing-pdfs/2011_vinals_reocr.pdf', 'gs://processing-pdfs/2011_vuilleumier_reocr.pdf', 'gs://processing-pdfs/2011_wood_reocr.pdf', 'gs://processing-pdfs/2011_zhou_reocr.pdf', 'gs://processing-pdfs/2013_anderson_reocr.pdf', 'gs://processing-pdfs/2013_bernabe_reocr.pdf', 'gs://processing-pdfs/2013_blanc_reocr.pdf', 'gs://processing-pdfs/2013_boesiger_reocr.pdf', 'gs://processing-pdfs/2013_bommottet_reocr.pdf', 'gs://processing-pdfs/2013_bonduelle_reocr.pdf', 'gs://processing-pdfs/2013_bongers_reocr.pdf', 'gs://processing-pdfs/2013_bourgain_reocr.pdf', 'gs://processing-pdfs/2013_buttery_reocr.pdf', 'gs://processing-pdfs/2013_campo_reocr.pdf', 'gs://processing-pdfs/2013_caprini_reocr.pdf', 'gs://processing-pdfs/2013_chang_reocr.pdf', 'gs://processing-pdfs/2013_colas_reocr.pdf', 'gs://processing-pdfs/2013_delap_reocr.pdf', 'gs://processing-pdfs/2013_eggens_reocr.pdf', 'gs://processing-pdfs/2013_fernandez_reocr.pdf', 'gs://processing-pdfs/2013_fleischner_reocr.pdf', 'gs://processing-pdfs/2013_ghislanzoni_reocr.pdf', 'gs://processing-pdfs/2013_gibson2_reocr.pdf', 'gs://processing-pdfs/2013_gibson_reocr.pdf', 'gs://processing-pdfs/2013_grygorczuk_reocr.pdf', 'gs://processing-pdfs/2013_hampson_reocr.pdf', 'gs://processing-pdfs/2013_hihoud_reocr.pdf', 'gs://processing-pdfs/2013_hu_reocr.pdf', 'gs://processing-pdfs/2013_jansson_reocr.pdf', 'gs://processing-pdfs/2013_janu_reocr.pdf', 'gs://processing-pdfs/2013_koker_reocr.pdf', 'gs://processing-pdfs/2013_kozilek_reocr.pdf', 'gs://processing-pdfs/2013_kraliz_reocr.pdf', 'gs://processing-pdfs/2013_kreuser_reocr.pdf', 'gs://processing-pdfs/2013_macho_reocr.pdf', 'gs://processing-pdfs/2013_matsumoto_reocr.pdf', 'gs://processing-pdfs/2013_mcmahon_reocr.pdf', 'gs://processing-pdfs/2013_munro_reocr.pdf', 'gs://processing-pdfs/2013_nalbandian_reocr.pdf', 'gs://processing-pdfs/2013_nava_reocr.pdf', 'gs://processing-pdfs/2013_okaniwa_reocr.pdf', 'gs://processing-pdfs/2013_omiciuolo_reocr.pdf', 'gs://processing-pdfs/2013_prieto_reocr.pdf', 'gs://processing-pdfs/2013_puchhammer_reocr.pdf', 'gs://processing-pdfs/2013_roberts_reocr.pdf', 'gs://processing-pdfs/2013_servais_reocr.pdf', 'gs://processing-pdfs/2013_seweryn_reocr.pdf', 'gs://processing-pdfs/2013_smet_reocr.pdf', 'gs://processing-pdfs/2013_starin_reocr.pdf', 'gs://processing-pdfs/2013_steiner_reocr.pdf', 'gs://processing-pdfs/2013_sucher_reocr.pdf', 'gs://processing-pdfs/2013_tabak_reocr.pdf', 'gs://processing-pdfs/2013_terashima_reocr.pdf', 'gs://processing-pdfs/2013_verhoeven_reocr.pdf', 'gs://processing-pdfs/2013_videira_reocr.pdf', 'gs://processing-pdfs/2013_wan_reocr.pdf', 'gs://processing-pdfs/2013_wardzinski_reocr.pdf', 'gs://processing-pdfs/2013_watson_reocr.pdf', 'gs://processing-pdfs/2013_worsfold_reocr.pdf', 'gs://processing-pdfs/2013_zahnd_reocr.pdf', 'gs://processing-pdfs/2013_zajac_reocr.pdf', 'gs://processing-pdfs/2013_zanoni_reocr.pdf', 'gs://processing-pdfs/2013_zimmermann_reocr.pdf', 'gs://processing-pdfs/2015_aldridge_reocr.pdf', 'gs://processing-pdfs/2015_arregui_reocr.pdf', 'gs://processing-pdfs/2015_augustijn_reocr.pdf', 'gs://processing-pdfs/2015_barillot_reocr.pdf', 'gs://processing-pdfs/2015_barriere_reocr.pdf', 'gs://processing-pdfs/2015_bencheikh_reocr.pdf', 'gs://processing-pdfs/2015_buttery1_reocr.pdf', 'gs://processing-pdfs/2015_buttery2_reocr.pdf', 'gs://processing-pdfs/2015_caldirola1_reocr.pdf', 'gs://processing-pdfs/2015_caldirola2_reocr.pdf', 'gs://processing-pdfs/2015_campo_reocr.pdf', 'gs://processing-pdfs/2015_colas_reocr.pdf', 'gs://processing-pdfs/2015_compostizo_reocr.pdf', 'gs://processing-pdfs/2015_courtois_reocr.pdf', 'gs://processing-pdfs/2015_gorski_reocr.pdf', 'gs://processing-pdfs/2015_grygorczuk_reocr.pdf', 'gs://processing-pdfs/2015_guay_reocr.pdf', 'gs://processing-pdfs/2015_haeberlein_reocr.pdf', 'gs://processing-pdfs/2015_hahn_reocr.pdf', 'gs://processing-pdfs/2015_hampson_reocr.pdf', 'gs://processing-pdfs/2015_hautcoeur_reocr.pdf', 'gs://processing-pdfs/2015_holmes_reocr.pdf', 'gs://processing-pdfs/2015_igartua_reocr.pdf', 'gs://processing-pdfs/2015_kedziora_reocr.pdf', 'gs://processing-pdfs/2015_koker_reocr.pdf', 'gs://processing-pdfs/2015_kroon_reocr.pdf', 'gs://processing-pdfs/2015_lai_reocr.pdf', 'gs://processing-pdfs/2015_lewis_reocr.pdf', 'gs://processing-pdfs/2015_liebold_reocr.pdf', 'gs://processing-pdfs/2015_mailland_reocr.pdf', 'gs://processing-pdfs/2015_melzer_reocr.pdf', 'gs://processing-pdfs/2015_merstallinger_reocr.pdf', 'gs://processing-pdfs/2015_nava_reocr.pdf', 'gs://processing-pdfs/2015_paul_reocr.pdf', 'gs://processing-pdfs/2015_perez_reocr.pdf', 'gs://processing-pdfs/2015_phillips1_reocr.pdf', 'gs://processing-pdfs/2015_phillips2_reocr.pdf', 'gs://processing-pdfs/2015_puchhammer_reocr.pdf', 'gs://processing-pdfs/2015_relecom_reocr.pdf', 'gs://processing-pdfs/2015_rivera_reocr.pdf', 'gs://processing-pdfs/2015_roberts_reocr.pdf', 'gs://processing-pdfs/2015_rossini_reocr.pdf', 'gs://processing-pdfs/2015_santos_reocr.pdf', 'gs://processing-pdfs/2015_schmidt_reocr.pdf', 'gs://processing-pdfs/2015_schwarz_reocr.pdf', 'gs://processing-pdfs/2015_spanoudakis_reocr.pdf', 'gs://processing-pdfs/2015_standre_reocr.pdf', 'gs://processing-pdfs/2015_starin_reocr.pdf', 'gs://processing-pdfs/2015_talvat_reocr.pdf', 'gs://processing-pdfs/2015_tran_reocr.pdf', 'gs://processing-pdfs/2015_vazquez_reocr.pdf', 'gs://processing-pdfs/2015_vinals_reocr.pdf', 'gs://processing-pdfs/2015_witvoet_reocr.pdf', 'gs://processing-pdfs/2017_artiagoitia_reocr.pdf', 'gs://processing-pdfs/2017_augustijn_reocr.pdf', 'gs://processing-pdfs/2017_avino_reocr.pdf', 'gs://processing-pdfs/2017_ayari_reocr.pdf', 'gs://processing-pdfs/2017_barriere_reocr.pdf', 'gs://processing-pdfs/2017_bialke_reocr.pdf', 'gs://processing-pdfs/2017_bircher_reocr.pdf', 'gs://processing-pdfs/2017_blattes_reocr.pdf', 'gs://processing-pdfs/2017_blumenstock_reocr.pdf', 'gs://processing-pdfs/2017_boesiger_reocr.pdf', 'gs://processing-pdfs/2017_bojiloff_reocr.pdf', 'gs://processing-pdfs/2017_borys_reocr.pdf', 'gs://processing-pdfs/2017_busquet_reocr.pdf', 'gs://processing-pdfs/2017_buttery_reocr.pdf', 'gs://processing-pdfs/2017_colas_reocr.pdf', 'gs://processing-pdfs/2017_dick_reocr.pdf', 'gs://processing-pdfs/2017_ekre_reocr.pdf', 'gs://processing-pdfs/2017_esnoz_reocr.pdf', 'gs://processing-pdfs/2017_fouche_reocr.pdf', 'gs://processing-pdfs/2017_galary_reocr.pdf', 'gs://processing-pdfs/2017_garland_reocr.pdf', 'gs://processing-pdfs/2017_gonzalez_reocr.pdf', 'gs://processing-pdfs/2017_hahn_reocr.pdf', 'gs://processing-pdfs/2017_hill_reocr.pdf', 'gs://processing-pdfs/2017_howat_reocr.pdf', 'gs://processing-pdfs/2017_jacobs_reocr.pdf', 'gs://processing-pdfs/2017_jansson_reocr.pdf', 'gs://processing-pdfs/2017_janu_reocr.pdf', 'gs://processing-pdfs/2017_koeker_reocr.pdf', 'gs://processing-pdfs/2017_kuiper_reocr.pdf', 'gs://processing-pdfs/2017_lajoie_reocr.pdf', 'gs://processing-pdfs/2017_lamacchia_reocr.pdf', 'gs://processing-pdfs/2017_larcheveque_reocr.pdf', 'gs://processing-pdfs/2017_leenders_reocr.pdf', 'gs://processing-pdfs/2017_lurie_reocr.pdf', 'gs://processing-pdfs/2017_malavart_reocr.pdf', 'gs://processing-pdfs/2017_maniwa_reocr.pdf', 'gs://processing-pdfs/2017_mclaren_reocr.pdf', 'gs://processing-pdfs/2017_mcmahon2_reocr.pdf', 'gs://processing-pdfs/2017_mcmahon_reocr.pdf', 'gs://processing-pdfs/2017_mejia_reocr.pdf', 'gs://processing-pdfs/2017_merstallinger_reocr.pdf', 'gs://processing-pdfs/2017_michaud_reocr.pdf', 'gs://processing-pdfs/2017_olaskoaga_reocr.pdf', 'gs://processing-pdfs/2017_ortega_reocr.pdf', 'gs://processing-pdfs/2017_palladino_reocr.pdf', 'gs://processing-pdfs/2017_paul_reocr.pdf', 'gs://processing-pdfs/2017_poyntz-wright_reocr.pdf', 'gs://processing-pdfs/2017_provedo_reocr.pdf', 'gs://processing-pdfs/2017_rehnmark_reocr.pdf', 'gs://processing-pdfs/2017_rieger_reocr.pdf', 'gs://processing-pdfs/2017_rivera_reocr.pdf', 'gs://processing-pdfs/2017_robroek_reocr.pdf', 'gs://processing-pdfs/2017_saudan_reocr.pdf', 'gs://processing-pdfs/2017_seguin-henry_reocr.pdf', 'gs://processing-pdfs/2017_senese_reocr.pdf', 'gs://processing-pdfs/2017_sodki_reocr.pdf', 'gs://processing-pdfs/2017_sonsalla_reocr.pdf', 'gs://processing-pdfs/2017_stabile_reocr.pdf', 'gs://processing-pdfs/2017_starin_reocr.pdf', 'gs://processing-pdfs/2017_stewart_reocr.pdf', 'gs://processing-pdfs/2017_verhaeghe_reocr.pdf', 'gs://processing-pdfs/2017_villavicencio_reocr.pdf', 'gs://processing-pdfs/2017_wismer_reocr.pdf', 'gs://processing-pdfs/2017_wisniewski_reocr.pdf', 'gs://processing-pdfs/2019_andreou_reocr.pdf', 'gs://processing-pdfs/2019_arce_reocr.pdf', 'gs://processing-pdfs/2019_barillot_reocr.pdf', 'gs://processing-pdfs/2019_bertleff_reocr.pdf', 'gs://processing-pdfs/2019_bierwirth_reocr.pdf', 'gs://processing-pdfs/2019_bingley_reocr.pdf', 'gs://processing-pdfs/2019_borquegallego_reocr.pdf', 'gs://processing-pdfs/2019_bortoluzzi_reocr.pdf', 'gs://processing-pdfs/2019_brumat_reocr.pdf', 'gs://processing-pdfs/2019_buchroithner_reocr.pdf', 'gs://processing-pdfs/2019_bursi_reocr.pdf', 'gs://processing-pdfs/2019_buttery_reocr.pdf', 'gs://processing-pdfs/2019_campo_reocr.pdf', 'gs://processing-pdfs/2019_cantonvega_reocr.pdf', 'gs://processing-pdfs/2019_collado_reocr.pdf', 'gs://processing-pdfs/2019_compostizo_reocr.pdf', 'gs://processing-pdfs/2019_dennehy_reocr.pdf', 'gs://processing-pdfs/2019_dittenhauser_reocr.pdf', 'gs://processing-pdfs/2019_elkjaer_reocr.pdf', 'gs://processing-pdfs/2019_falkner_reocr.pdf', 'gs://processing-pdfs/2019_fouche_reocr.pdf', 'gs://processing-pdfs/2019_galary_reocr.pdf', 'gs://processing-pdfs/2019_galbiati_reocr.pdf', 'gs://processing-pdfs/2019_grandy_reocr.pdf', 'gs://processing-pdfs/2019_granero_reocr.pdf', 'gs://processing-pdfs/2019_ijpelaan_reocr.pdf', 'gs://processing-pdfs/2019_kanji_reocr.pdf', 'gs://processing-pdfs/2019_kiener_reocr.pdf', 'gs://processing-pdfs/2019_lees_reocr.pdf', 'gs://processing-pdfs/2019_lutz_reocr.pdf', 'gs://processing-pdfs/2019_maniwa_reocr.pdf', 'gs://processing-pdfs/2019_miller_reocr.pdf', 'gs://processing-pdfs/2019_mirescu_reocr.pdf', 'gs://processing-pdfs/2019_navarro_reocr.pdf', 'gs://processing-pdfs/2019_neugebauer_reocr.pdf', 'gs://processing-pdfs/2019_ortega_reocr.pdf', 'gs://processing-pdfs/2019_perestrelo_reocr.pdf', 'gs://processing-pdfs/2019_puyol_reocr.pdf', 'gs://processing-pdfs/2019_raynal_reocr.pdf', 'gs://processing-pdfs/2019_riemer_reocr.pdf', 'gs://processing-pdfs/2019_ryszawa_reocr.pdf', 'gs://processing-pdfs/2019_saudan_reocr.pdf', 'gs://processing-pdfs/2019_scheidegger_reocr.pdf', 'gs://processing-pdfs/2019_schulke_reocr.pdf', 'gs://processing-pdfs/2019_schwarz_reocr.pdf', 'gs://processing-pdfs/2019_seguinhenry_reocr.pdf', 'gs://processing-pdfs/2019_senese_reocr.pdf', 'gs://processing-pdfs/2019_shore_reocr.pdf', 'gs://processing-pdfs/2019_sidz_reocr.pdf', 'gs://processing-pdfs/2019_smet_reocr.pdf', 'gs://processing-pdfs/2019_smith_reocr.pdf', 'gs://processing-pdfs/2019_spanoudakis2_reocr.pdf', 'gs://processing-pdfs/2019_spanoudakis_reocr.pdf', 'gs://processing-pdfs/2019_squires_reocr.pdf', 'gs://processing-pdfs/2019_stabile_reocr.pdf', 'gs://processing-pdfs/2019_strube2_reocr.pdf', 'gs://processing-pdfs/2019_strube_reocr.pdf', 'gs://processing-pdfs/2019_theis_reocr.pdf', 'gs://processing-pdfs/2019_tokarz_reocr.pdf', 'gs://processing-pdfs/2019_vazquez_reocr.pdf', 'gs://processing-pdfs/2019_verhaeghe_reocr.pdf', 'gs://processing-pdfs/2019_vortselas2_reocr.pdf', 'gs://processing-pdfs/2019_vortselas_reocr.pdf', 'gs://processing-pdfs/2019_yoon_reocr.pdf', 'gs://processing-pdfs/2019_zahnd_reocr.pdf', 'gs://processing-pdfs/2019_zhou_reocr.pdf', 'gs://processing-pdfs/2021_aigouy_reocr.pdf', 'gs://processing-pdfs/2021_anders_reocr.pdf', 'gs://processing-pdfs/2021_artiagoitia_reocr.pdf', 'gs://processing-pdfs/2021_baran_reocr.pdf', 'gs://processing-pdfs/2021_bingley_reocr.pdf', 'gs://processing-pdfs/2021_blanc_reocr.pdf', 'gs://processing-pdfs/2021_boesiger_reocr.pdf', 'gs://processing-pdfs/2021_bolognini_reocr.pdf', 'gs://processing-pdfs/2021_budzyn_reocr.pdf', 'gs://processing-pdfs/2021_buttery_reocr.pdf', 'gs://processing-pdfs/2021_creatini_reocr.pdf', 'gs://processing-pdfs/2021_deckert_reocr.pdf', 'gs://processing-pdfs/2021_demerville_reocr.pdf', 'gs://processing-pdfs/2021_fouche2_reocr.pdf', 'gs://processing-pdfs/2021_fouche_reocr.pdf', 'gs://processing-pdfs/2021_gabiola_reocr.pdf', 'gs://processing-pdfs/2021_gade_reocr.pdf', 'gs://processing-pdfs/2021_gavalda_reocr.pdf', 'gs://processing-pdfs/2021_gawin_reocr.pdf', 'gs://processing-pdfs/2021_gewehr_reocr.pdf', 'gs://processing-pdfs/2021_gonzalez_reocr.pdf', 'gs://processing-pdfs/2021_hayoz_reocr.pdf', 'gs://processing-pdfs/2021_heindel_reocr.pdf', 'gs://processing-pdfs/2021_holynska_reocr.pdf', 'gs://processing-pdfs/2021_holzbauer_reocr.pdf', 'gs://processing-pdfs/2021_lommatzsch_reocr.pdf', 'gs://processing-pdfs/2021_lubrano_reocr.pdf', 'gs://processing-pdfs/2021_merstallinger_reocr.pdf', 'gs://processing-pdfs/2021_mohtar_reocr.pdf', 'gs://processing-pdfs/2021_moraine_reocr.pdf', 'gs://processing-pdfs/2021_mulsow_reocr.pdf', 'gs://processing-pdfs/2021_noeker_reocr.pdf', 'gs://processing-pdfs/2021_onillon_reocr.pdf', 'gs://processing-pdfs/2021_paredero_reocr.pdf', 'gs://processing-pdfs/2021_paul_reocr.pdf', 'gs://processing-pdfs/2021_plank_reocr.pdf', 'gs://processing-pdfs/2021_poucet_reocr.pdf', 'gs://processing-pdfs/2021_poweska_reocr.pdf', 'gs://processing-pdfs/2021_rivera_reocr.pdf', 'gs://processing-pdfs/2021_rouvinet_reocr.pdf', 'gs://processing-pdfs/2021_sainz-lete_reocr.pdf', 'gs://processing-pdfs/2021_saudan_reocr.pdf', 'gs://processing-pdfs/2021_spanoudakis2_reocr.pdf', 'gs://processing-pdfs/2021_spanoudakis_reocr.pdf', 'gs://processing-pdfs/2021_stejskal_reocr.pdf', 'gs://processing-pdfs/2021_tattusch2_reocr.pdf', 'gs://processing-pdfs/2021_tattusch_reocr.pdf', 'gs://processing-pdfs/2021_uythoven_reocr.pdf', 'gs://processing-pdfs/2021_wegrzyn_reocr.pdf', 'gs://processing-pdfs/2021_wood_reocr.pdf', 'gs://processing-pdfs/2021_zajac_reocr.pdf', 'gs://processing-pdfs/2023_alo_reocr.pdf', 'gs://processing-pdfs/2023_bergandy_reocr.pdf', 'gs://processing-pdfs/2023_blattes_reocr.pdf', 'gs://processing-pdfs/2023_blumenstock_reocr.pdf', 'gs://processing-pdfs/2023_boross_reocr.pdf', 'gs://processing-pdfs/2023_borquegallego_reocr.pdf', 'gs://processing-pdfs/2023_budzyn_reocr.pdf', 'gs://processing-pdfs/2023_buttery_reocr.pdf', 'gs://processing-pdfs/2023_colas_reocr.pdf', 'gs://processing-pdfs/2023_ewick_reocr.pdf', 'gs://processing-pdfs/2023_favrel_reocr.pdf', 'gs://processing-pdfs/2023_fouche_reocr.pdf', 'gs://processing-pdfs/2023_freier_reocr.pdf', 'gs://processing-pdfs/2023_gossant_reocr.pdf', 'gs://processing-pdfs/2023_grande_reocr.pdf', 'gs://processing-pdfs/2023_grygorczuk2_reocr.pdf', 'gs://processing-pdfs/2023_grygorczuk_reocr.pdf', 'gs://processing-pdfs/2023_kent2_reocr.pdf', 'gs://processing-pdfs/2023_kent_reocr.pdf', 'gs://processing-pdfs/2023_kiener_reocr.pdf', 'gs://processing-pdfs/2023_kozlowski_reocr.pdf', 'gs://processing-pdfs/2023_kusabe4_reocr.pdf', 'gs://processing-pdfs/2023_lambert_reocr.pdf', 'gs://processing-pdfs/2023_lapoutre_reocr.pdf', 'gs://processing-pdfs/2023_lazaro_reocr.pdf', 'gs://processing-pdfs/2023_leletty_reocr.pdf', 'gs://processing-pdfs/2023_lurie_reocr.pdf', 'gs://processing-pdfs/2023_makowka_reocr.pdf', 'gs://processing-pdfs/2023_matsumoto_reocr.pdf', 'gs://processing-pdfs/2023_merstallinger2_reocr.pdf', 'gs://processing-pdfs/2023_mohtar_reocr.pdf', 'gs://processing-pdfs/2023_moraine_reocr.pdf', 'gs://processing-pdfs/2023_musial_reocr.pdf', 'gs://processing-pdfs/2023_nolbert_reocr.pdf', 'gs://processing-pdfs/2023_ortega_reocr.pdf', 'gs://processing-pdfs/2023_payre_reocr.pdf', 'gs://processing-pdfs/2023_phillips_reocr.pdf', 'gs://processing-pdfs/2023_pozo_reocr.pdf', 'gs://processing-pdfs/2023_puchhammer_reocr.pdf', 'gs://processing-pdfs/2023_rainy_reocr.pdf', 'gs://processing-pdfs/2023_robroek_reocr.pdf', 'gs://processing-pdfs/2023_sauder_reocr.pdf', 'gs://processing-pdfs/2023_scheidler_reocr.pdf', 'gs://processing-pdfs/2023_schlater_reocr.pdf', 'gs://processing-pdfs/2023_schwarz_reocr.pdf', 'gs://processing-pdfs/2023_servais_reocr.pdf', 'gs://processing-pdfs/2023_skrzynska_reocr.pdf', 'gs://processing-pdfs/2023_spanoudakis2_reocr.pdf', 'gs://processing-pdfs/2023_spanoudakis_reocr.pdf', 'gs://processing-pdfs/2023_stubbs_reocr.pdf', 'gs://processing-pdfs/2023_tattusch_reocr.pdf', 'gs://processing-pdfs/2023_wade_reocr.pdf', 'gs://processing-pdfs/2023_wygachiewicz_reocr.pdf', 'gs://processing-pdfs/2023_yotov_reocr.pdf', 'gs://processing-pdfs/2023_zemann_reocr.pdf']\n"
     ]
    },
    {
     "data": {
      "text/plain": [
       "['gs://processing-pdfs/2011_alvarez_reocr.pdf',\n",
       " 'gs://processing-pdfs/2011_anderson_reocr.pdf',\n",
       " 'gs://processing-pdfs/2011_andion_reocr.pdf',\n",
       " 'gs://processing-pdfs/2011_arend_reocr.pdf',\n",
       " 'gs://processing-pdfs/2011_belly_reocr.pdf',\n",
       " 'gs://processing-pdfs/2011_bijuprasad_reocr.pdf',\n",
       " 'gs://processing-pdfs/2011_billing_reocr.pdf',\n",
       " 'gs://processing-pdfs/2011_blanc_reocr.pdf',\n",
       " 'gs://processing-pdfs/2011_bourrec_reocr.pdf',\n",
       " 'gs://processing-pdfs/2011_budinoff_reocr.pdf',\n",
       " 'gs://processing-pdfs/2011_buttery2_reocr.pdf',\n",
       " 'gs://processing-pdfs/2011_buttery_reocr.pdf',\n",
       " 'gs://processing-pdfs/2011_cavan_reocr.pdf',\n",
       " 'gs://processing-pdfs/2011_collado_reocr.pdf',\n",
       " 'gs://processing-pdfs/2011_combernoux_reocr.pdf',\n",
       " 'gs://processing-pdfs/2011_compostizo_reocr.pdf',\n",
       " 'gs://processing-pdfs/2011_courtois_reocr.pdf',\n",
       " 'gs://processing-pdfs/2011_demerville_reocr.pdf',\n",
       " 'gs://processing-pdfs/2011_duforet_reocr.pdf',\n",
       " 'gs://processing-pdfs/2011_eigenmann_reocr.pdf',\n",
       " 'gs://processing-pdfs/2011_ferris_reocr.pdf',\n",
       " 'gs://processing-pdfs/2011_gasparini_reocr.pdf',\n",
       " 'gs://processing-pdfs/2011_giacintonardone_reocr.pdf',\n",
       " 'gs://processing-pdfs/2011_grygorczuk_reocr.pdf',\n",
       " 'gs://processing-pdfs/2011_guay_reocr.pdf',\n",
       " 'gs://processing-pdfs/2011_guy_reocr.pdf',\n",
       " 'gs://processing-pdfs/2011_hahn_reocr.pdf',\n",
       " 'gs://processing-pdfs/2011_hardt_reocr.pdf',\n",
       " 'gs://processing-pdfs/2011_haslehurst_reocr.pdf',\n",
       " 'gs://processing-pdfs/2011_heinrich_reocr.pdf',\n",
       " 'gs://processing-pdfs/2011_hopper_reocr.pdf',\n",
       " 'gs://processing-pdfs/2011_kiesel_reocr.pdf',\n",
       " 'gs://processing-pdfs/2011_kottmeier_reocr.pdf',\n",
       " 'gs://processing-pdfs/2011_kubitschek_reocr.pdf',\n",
       " 'gs://processing-pdfs/2011_laa_reocr.pdf',\n",
       " 'gs://processing-pdfs/2011_lee_reocr.pdf',\n",
       " 'gs://processing-pdfs/2011_leikert_reocr.pdf',\n",
       " 'gs://processing-pdfs/2011_maniwa_reocr.pdf',\n",
       " 'gs://processing-pdfs/2011_meftah_reocr.pdf',\n",
       " 'gs://processing-pdfs/2011_munro_reocr.pdf',\n",
       " 'gs://processing-pdfs/2011_nalbandian_reocr.pdf',\n",
       " 'gs://processing-pdfs/2011_neugebauer_reocr.pdf',\n",
       " 'gs://processing-pdfs/2011_pages_reocr.pdf',\n",
       " 'gs://processing-pdfs/2011_palladino_reocr.pdf',\n",
       " 'gs://processing-pdfs/2011_parzianello_reocr.pdf',\n",
       " 'gs://processing-pdfs/2011_pinto_reocr.pdf',\n",
       " 'gs://processing-pdfs/2011_ponnusamy_reocr.pdf',\n",
       " 'gs://processing-pdfs/2011_rataj2_reocr.pdf',\n",
       " 'gs://processing-pdfs/2011_rataj_reocr.pdf',\n",
       " 'gs://processing-pdfs/2011_riva_reocr.pdf',\n",
       " 'gs://processing-pdfs/2011_schmalbach2_reocr.pdf',\n",
       " 'gs://processing-pdfs/2011_schmalbach_reocr.pdf',\n",
       " 'gs://processing-pdfs/2011_schmid_reocr.pdf',\n",
       " 'gs://processing-pdfs/2011_schmidt_reocr.pdf',\n",
       " 'gs://processing-pdfs/2011_schwarz_reocr.pdf',\n",
       " 'gs://processing-pdfs/2011_sexton_reocr.pdf',\n",
       " 'gs://processing-pdfs/2011_slade_reocr.pdf',\n",
       " 'gs://processing-pdfs/2011_talvat_reocr.pdf',\n",
       " 'gs://processing-pdfs/2011_tillier_reocr.pdf',\n",
       " 'gs://processing-pdfs/2011_tyler_reocr.pdf',\n",
       " 'gs://processing-pdfs/2011_verhoeven_reocr.pdf',\n",
       " 'gs://processing-pdfs/2011_vinals_reocr.pdf',\n",
       " 'gs://processing-pdfs/2011_vuilleumier_reocr.pdf',\n",
       " 'gs://processing-pdfs/2011_wood_reocr.pdf',\n",
       " 'gs://processing-pdfs/2011_zhou_reocr.pdf',\n",
       " 'gs://processing-pdfs/2013_anderson_reocr.pdf',\n",
       " 'gs://processing-pdfs/2013_bernabe_reocr.pdf',\n",
       " 'gs://processing-pdfs/2013_blanc_reocr.pdf',\n",
       " 'gs://processing-pdfs/2013_boesiger_reocr.pdf',\n",
       " 'gs://processing-pdfs/2013_bommottet_reocr.pdf',\n",
       " 'gs://processing-pdfs/2013_bonduelle_reocr.pdf',\n",
       " 'gs://processing-pdfs/2013_bongers_reocr.pdf',\n",
       " 'gs://processing-pdfs/2013_bourgain_reocr.pdf',\n",
       " 'gs://processing-pdfs/2013_buttery_reocr.pdf',\n",
       " 'gs://processing-pdfs/2013_campo_reocr.pdf',\n",
       " 'gs://processing-pdfs/2013_caprini_reocr.pdf',\n",
       " 'gs://processing-pdfs/2013_chang_reocr.pdf',\n",
       " 'gs://processing-pdfs/2013_colas_reocr.pdf',\n",
       " 'gs://processing-pdfs/2013_delap_reocr.pdf',\n",
       " 'gs://processing-pdfs/2013_eggens_reocr.pdf',\n",
       " 'gs://processing-pdfs/2013_fernandez_reocr.pdf',\n",
       " 'gs://processing-pdfs/2013_fleischner_reocr.pdf',\n",
       " 'gs://processing-pdfs/2013_ghislanzoni_reocr.pdf',\n",
       " 'gs://processing-pdfs/2013_gibson2_reocr.pdf',\n",
       " 'gs://processing-pdfs/2013_gibson_reocr.pdf',\n",
       " 'gs://processing-pdfs/2013_grygorczuk_reocr.pdf',\n",
       " 'gs://processing-pdfs/2013_hampson_reocr.pdf',\n",
       " 'gs://processing-pdfs/2013_hihoud_reocr.pdf',\n",
       " 'gs://processing-pdfs/2013_hu_reocr.pdf',\n",
       " 'gs://processing-pdfs/2013_jansson_reocr.pdf',\n",
       " 'gs://processing-pdfs/2013_janu_reocr.pdf',\n",
       " 'gs://processing-pdfs/2013_koker_reocr.pdf',\n",
       " 'gs://processing-pdfs/2013_kozilek_reocr.pdf',\n",
       " 'gs://processing-pdfs/2013_kraliz_reocr.pdf',\n",
       " 'gs://processing-pdfs/2013_kreuser_reocr.pdf',\n",
       " 'gs://processing-pdfs/2013_macho_reocr.pdf',\n",
       " 'gs://processing-pdfs/2013_matsumoto_reocr.pdf',\n",
       " 'gs://processing-pdfs/2013_mcmahon_reocr.pdf',\n",
       " 'gs://processing-pdfs/2013_munro_reocr.pdf',\n",
       " 'gs://processing-pdfs/2013_nalbandian_reocr.pdf',\n",
       " 'gs://processing-pdfs/2013_nava_reocr.pdf',\n",
       " 'gs://processing-pdfs/2013_okaniwa_reocr.pdf',\n",
       " 'gs://processing-pdfs/2013_omiciuolo_reocr.pdf',\n",
       " 'gs://processing-pdfs/2013_prieto_reocr.pdf',\n",
       " 'gs://processing-pdfs/2013_puchhammer_reocr.pdf',\n",
       " 'gs://processing-pdfs/2013_roberts_reocr.pdf',\n",
       " 'gs://processing-pdfs/2013_servais_reocr.pdf',\n",
       " 'gs://processing-pdfs/2013_seweryn_reocr.pdf',\n",
       " 'gs://processing-pdfs/2013_smet_reocr.pdf',\n",
       " 'gs://processing-pdfs/2013_starin_reocr.pdf',\n",
       " 'gs://processing-pdfs/2013_steiner_reocr.pdf',\n",
       " 'gs://processing-pdfs/2013_sucher_reocr.pdf',\n",
       " 'gs://processing-pdfs/2013_tabak_reocr.pdf',\n",
       " 'gs://processing-pdfs/2013_terashima_reocr.pdf',\n",
       " 'gs://processing-pdfs/2013_verhoeven_reocr.pdf',\n",
       " 'gs://processing-pdfs/2013_videira_reocr.pdf',\n",
       " 'gs://processing-pdfs/2013_wan_reocr.pdf',\n",
       " 'gs://processing-pdfs/2013_wardzinski_reocr.pdf',\n",
       " 'gs://processing-pdfs/2013_watson_reocr.pdf',\n",
       " 'gs://processing-pdfs/2013_worsfold_reocr.pdf',\n",
       " 'gs://processing-pdfs/2013_zahnd_reocr.pdf',\n",
       " 'gs://processing-pdfs/2013_zajac_reocr.pdf',\n",
       " 'gs://processing-pdfs/2013_zanoni_reocr.pdf',\n",
       " 'gs://processing-pdfs/2013_zimmermann_reocr.pdf',\n",
       " 'gs://processing-pdfs/2015_aldridge_reocr.pdf',\n",
       " 'gs://processing-pdfs/2015_arregui_reocr.pdf',\n",
       " 'gs://processing-pdfs/2015_augustijn_reocr.pdf',\n",
       " 'gs://processing-pdfs/2015_barillot_reocr.pdf',\n",
       " 'gs://processing-pdfs/2015_barriere_reocr.pdf',\n",
       " 'gs://processing-pdfs/2015_bencheikh_reocr.pdf',\n",
       " 'gs://processing-pdfs/2015_buttery1_reocr.pdf',\n",
       " 'gs://processing-pdfs/2015_buttery2_reocr.pdf',\n",
       " 'gs://processing-pdfs/2015_caldirola1_reocr.pdf',\n",
       " 'gs://processing-pdfs/2015_caldirola2_reocr.pdf',\n",
       " 'gs://processing-pdfs/2015_campo_reocr.pdf',\n",
       " 'gs://processing-pdfs/2015_colas_reocr.pdf',\n",
       " 'gs://processing-pdfs/2015_compostizo_reocr.pdf',\n",
       " 'gs://processing-pdfs/2015_courtois_reocr.pdf',\n",
       " 'gs://processing-pdfs/2015_gorski_reocr.pdf',\n",
       " 'gs://processing-pdfs/2015_grygorczuk_reocr.pdf',\n",
       " 'gs://processing-pdfs/2015_guay_reocr.pdf',\n",
       " 'gs://processing-pdfs/2015_haeberlein_reocr.pdf',\n",
       " 'gs://processing-pdfs/2015_hahn_reocr.pdf',\n",
       " 'gs://processing-pdfs/2015_hampson_reocr.pdf',\n",
       " 'gs://processing-pdfs/2015_hautcoeur_reocr.pdf',\n",
       " 'gs://processing-pdfs/2015_holmes_reocr.pdf',\n",
       " 'gs://processing-pdfs/2015_igartua_reocr.pdf',\n",
       " 'gs://processing-pdfs/2015_kedziora_reocr.pdf',\n",
       " 'gs://processing-pdfs/2015_koker_reocr.pdf',\n",
       " 'gs://processing-pdfs/2015_kroon_reocr.pdf',\n",
       " 'gs://processing-pdfs/2015_lai_reocr.pdf',\n",
       " 'gs://processing-pdfs/2015_lewis_reocr.pdf',\n",
       " 'gs://processing-pdfs/2015_liebold_reocr.pdf',\n",
       " 'gs://processing-pdfs/2015_mailland_reocr.pdf',\n",
       " 'gs://processing-pdfs/2015_melzer_reocr.pdf',\n",
       " 'gs://processing-pdfs/2015_merstallinger_reocr.pdf',\n",
       " 'gs://processing-pdfs/2015_nava_reocr.pdf',\n",
       " 'gs://processing-pdfs/2015_paul_reocr.pdf',\n",
       " 'gs://processing-pdfs/2015_perez_reocr.pdf',\n",
       " 'gs://processing-pdfs/2015_phillips1_reocr.pdf',\n",
       " 'gs://processing-pdfs/2015_phillips2_reocr.pdf',\n",
       " 'gs://processing-pdfs/2015_puchhammer_reocr.pdf',\n",
       " 'gs://processing-pdfs/2015_relecom_reocr.pdf',\n",
       " 'gs://processing-pdfs/2015_rivera_reocr.pdf',\n",
       " 'gs://processing-pdfs/2015_roberts_reocr.pdf',\n",
       " 'gs://processing-pdfs/2015_rossini_reocr.pdf',\n",
       " 'gs://processing-pdfs/2015_santos_reocr.pdf',\n",
       " 'gs://processing-pdfs/2015_schmidt_reocr.pdf',\n",
       " 'gs://processing-pdfs/2015_schwarz_reocr.pdf',\n",
       " 'gs://processing-pdfs/2015_spanoudakis_reocr.pdf',\n",
       " 'gs://processing-pdfs/2015_standre_reocr.pdf',\n",
       " 'gs://processing-pdfs/2015_starin_reocr.pdf',\n",
       " 'gs://processing-pdfs/2015_talvat_reocr.pdf',\n",
       " 'gs://processing-pdfs/2015_tran_reocr.pdf',\n",
       " 'gs://processing-pdfs/2015_vazquez_reocr.pdf',\n",
       " 'gs://processing-pdfs/2015_vinals_reocr.pdf',\n",
       " 'gs://processing-pdfs/2015_witvoet_reocr.pdf',\n",
       " 'gs://processing-pdfs/2017_artiagoitia_reocr.pdf',\n",
       " 'gs://processing-pdfs/2017_augustijn_reocr.pdf',\n",
       " 'gs://processing-pdfs/2017_avino_reocr.pdf',\n",
       " 'gs://processing-pdfs/2017_ayari_reocr.pdf',\n",
       " 'gs://processing-pdfs/2017_barriere_reocr.pdf',\n",
       " 'gs://processing-pdfs/2017_bialke_reocr.pdf',\n",
       " 'gs://processing-pdfs/2017_bircher_reocr.pdf',\n",
       " 'gs://processing-pdfs/2017_blattes_reocr.pdf',\n",
       " 'gs://processing-pdfs/2017_blumenstock_reocr.pdf',\n",
       " 'gs://processing-pdfs/2017_boesiger_reocr.pdf',\n",
       " 'gs://processing-pdfs/2017_bojiloff_reocr.pdf',\n",
       " 'gs://processing-pdfs/2017_borys_reocr.pdf',\n",
       " 'gs://processing-pdfs/2017_busquet_reocr.pdf',\n",
       " 'gs://processing-pdfs/2017_buttery_reocr.pdf',\n",
       " 'gs://processing-pdfs/2017_colas_reocr.pdf',\n",
       " 'gs://processing-pdfs/2017_dick_reocr.pdf',\n",
       " 'gs://processing-pdfs/2017_ekre_reocr.pdf',\n",
       " 'gs://processing-pdfs/2017_esnoz_reocr.pdf',\n",
       " 'gs://processing-pdfs/2017_fouche_reocr.pdf',\n",
       " 'gs://processing-pdfs/2017_galary_reocr.pdf',\n",
       " 'gs://processing-pdfs/2017_garland_reocr.pdf',\n",
       " 'gs://processing-pdfs/2017_gonzalez_reocr.pdf',\n",
       " 'gs://processing-pdfs/2017_hahn_reocr.pdf',\n",
       " 'gs://processing-pdfs/2017_hill_reocr.pdf',\n",
       " 'gs://processing-pdfs/2017_howat_reocr.pdf',\n",
       " 'gs://processing-pdfs/2017_jacobs_reocr.pdf',\n",
       " 'gs://processing-pdfs/2017_jansson_reocr.pdf',\n",
       " 'gs://processing-pdfs/2017_janu_reocr.pdf',\n",
       " 'gs://processing-pdfs/2017_koeker_reocr.pdf',\n",
       " 'gs://processing-pdfs/2017_kuiper_reocr.pdf',\n",
       " 'gs://processing-pdfs/2017_lajoie_reocr.pdf',\n",
       " 'gs://processing-pdfs/2017_lamacchia_reocr.pdf',\n",
       " 'gs://processing-pdfs/2017_larcheveque_reocr.pdf',\n",
       " 'gs://processing-pdfs/2017_leenders_reocr.pdf',\n",
       " 'gs://processing-pdfs/2017_lurie_reocr.pdf',\n",
       " 'gs://processing-pdfs/2017_malavart_reocr.pdf',\n",
       " 'gs://processing-pdfs/2017_maniwa_reocr.pdf',\n",
       " 'gs://processing-pdfs/2017_mclaren_reocr.pdf',\n",
       " 'gs://processing-pdfs/2017_mcmahon2_reocr.pdf',\n",
       " 'gs://processing-pdfs/2017_mcmahon_reocr.pdf',\n",
       " 'gs://processing-pdfs/2017_mejia_reocr.pdf',\n",
       " 'gs://processing-pdfs/2017_merstallinger_reocr.pdf',\n",
       " 'gs://processing-pdfs/2017_michaud_reocr.pdf',\n",
       " 'gs://processing-pdfs/2017_olaskoaga_reocr.pdf',\n",
       " 'gs://processing-pdfs/2017_ortega_reocr.pdf',\n",
       " 'gs://processing-pdfs/2017_palladino_reocr.pdf',\n",
       " 'gs://processing-pdfs/2017_paul_reocr.pdf',\n",
       " 'gs://processing-pdfs/2017_poyntz-wright_reocr.pdf',\n",
       " 'gs://processing-pdfs/2017_provedo_reocr.pdf',\n",
       " 'gs://processing-pdfs/2017_rehnmark_reocr.pdf',\n",
       " 'gs://processing-pdfs/2017_rieger_reocr.pdf',\n",
       " 'gs://processing-pdfs/2017_rivera_reocr.pdf',\n",
       " 'gs://processing-pdfs/2017_robroek_reocr.pdf',\n",
       " 'gs://processing-pdfs/2017_saudan_reocr.pdf',\n",
       " 'gs://processing-pdfs/2017_seguin-henry_reocr.pdf',\n",
       " 'gs://processing-pdfs/2017_senese_reocr.pdf',\n",
       " 'gs://processing-pdfs/2017_sodki_reocr.pdf',\n",
       " 'gs://processing-pdfs/2017_sonsalla_reocr.pdf',\n",
       " 'gs://processing-pdfs/2017_stabile_reocr.pdf',\n",
       " 'gs://processing-pdfs/2017_starin_reocr.pdf',\n",
       " 'gs://processing-pdfs/2017_stewart_reocr.pdf',\n",
       " 'gs://processing-pdfs/2017_verhaeghe_reocr.pdf',\n",
       " 'gs://processing-pdfs/2017_villavicencio_reocr.pdf',\n",
       " 'gs://processing-pdfs/2017_wismer_reocr.pdf',\n",
       " 'gs://processing-pdfs/2017_wisniewski_reocr.pdf',\n",
       " 'gs://processing-pdfs/2019_andreou_reocr.pdf',\n",
       " 'gs://processing-pdfs/2019_arce_reocr.pdf',\n",
       " 'gs://processing-pdfs/2019_barillot_reocr.pdf',\n",
       " 'gs://processing-pdfs/2019_bertleff_reocr.pdf',\n",
       " 'gs://processing-pdfs/2019_bierwirth_reocr.pdf',\n",
       " 'gs://processing-pdfs/2019_bingley_reocr.pdf',\n",
       " 'gs://processing-pdfs/2019_borquegallego_reocr.pdf',\n",
       " 'gs://processing-pdfs/2019_bortoluzzi_reocr.pdf',\n",
       " 'gs://processing-pdfs/2019_brumat_reocr.pdf',\n",
       " 'gs://processing-pdfs/2019_buchroithner_reocr.pdf',\n",
       " 'gs://processing-pdfs/2019_bursi_reocr.pdf',\n",
       " 'gs://processing-pdfs/2019_buttery_reocr.pdf',\n",
       " 'gs://processing-pdfs/2019_campo_reocr.pdf',\n",
       " 'gs://processing-pdfs/2019_cantonvega_reocr.pdf',\n",
       " 'gs://processing-pdfs/2019_collado_reocr.pdf',\n",
       " 'gs://processing-pdfs/2019_compostizo_reocr.pdf',\n",
       " 'gs://processing-pdfs/2019_dennehy_reocr.pdf',\n",
       " 'gs://processing-pdfs/2019_dittenhauser_reocr.pdf',\n",
       " 'gs://processing-pdfs/2019_elkjaer_reocr.pdf',\n",
       " 'gs://processing-pdfs/2019_falkner_reocr.pdf',\n",
       " 'gs://processing-pdfs/2019_fouche_reocr.pdf',\n",
       " 'gs://processing-pdfs/2019_galary_reocr.pdf',\n",
       " 'gs://processing-pdfs/2019_galbiati_reocr.pdf',\n",
       " 'gs://processing-pdfs/2019_grandy_reocr.pdf',\n",
       " 'gs://processing-pdfs/2019_granero_reocr.pdf',\n",
       " 'gs://processing-pdfs/2019_ijpelaan_reocr.pdf',\n",
       " 'gs://processing-pdfs/2019_kanji_reocr.pdf',\n",
       " 'gs://processing-pdfs/2019_kiener_reocr.pdf',\n",
       " 'gs://processing-pdfs/2019_lees_reocr.pdf',\n",
       " 'gs://processing-pdfs/2019_lutz_reocr.pdf',\n",
       " 'gs://processing-pdfs/2019_maniwa_reocr.pdf',\n",
       " 'gs://processing-pdfs/2019_miller_reocr.pdf',\n",
       " 'gs://processing-pdfs/2019_mirescu_reocr.pdf',\n",
       " 'gs://processing-pdfs/2019_navarro_reocr.pdf',\n",
       " 'gs://processing-pdfs/2019_neugebauer_reocr.pdf',\n",
       " 'gs://processing-pdfs/2019_ortega_reocr.pdf',\n",
       " 'gs://processing-pdfs/2019_perestrelo_reocr.pdf',\n",
       " 'gs://processing-pdfs/2019_puyol_reocr.pdf',\n",
       " 'gs://processing-pdfs/2019_raynal_reocr.pdf',\n",
       " 'gs://processing-pdfs/2019_riemer_reocr.pdf',\n",
       " 'gs://processing-pdfs/2019_ryszawa_reocr.pdf',\n",
       " 'gs://processing-pdfs/2019_saudan_reocr.pdf',\n",
       " 'gs://processing-pdfs/2019_scheidegger_reocr.pdf',\n",
       " 'gs://processing-pdfs/2019_schulke_reocr.pdf',\n",
       " 'gs://processing-pdfs/2019_schwarz_reocr.pdf',\n",
       " 'gs://processing-pdfs/2019_seguinhenry_reocr.pdf',\n",
       " 'gs://processing-pdfs/2019_senese_reocr.pdf',\n",
       " 'gs://processing-pdfs/2019_shore_reocr.pdf',\n",
       " 'gs://processing-pdfs/2019_sidz_reocr.pdf',\n",
       " 'gs://processing-pdfs/2019_smet_reocr.pdf',\n",
       " 'gs://processing-pdfs/2019_smith_reocr.pdf',\n",
       " 'gs://processing-pdfs/2019_spanoudakis2_reocr.pdf',\n",
       " 'gs://processing-pdfs/2019_spanoudakis_reocr.pdf',\n",
       " 'gs://processing-pdfs/2019_squires_reocr.pdf',\n",
       " 'gs://processing-pdfs/2019_stabile_reocr.pdf',\n",
       " 'gs://processing-pdfs/2019_strube2_reocr.pdf',\n",
       " 'gs://processing-pdfs/2019_strube_reocr.pdf',\n",
       " 'gs://processing-pdfs/2019_theis_reocr.pdf',\n",
       " 'gs://processing-pdfs/2019_tokarz_reocr.pdf',\n",
       " 'gs://processing-pdfs/2019_vazquez_reocr.pdf',\n",
       " 'gs://processing-pdfs/2019_verhaeghe_reocr.pdf',\n",
       " 'gs://processing-pdfs/2019_vortselas2_reocr.pdf',\n",
       " 'gs://processing-pdfs/2019_vortselas_reocr.pdf',\n",
       " 'gs://processing-pdfs/2019_yoon_reocr.pdf',\n",
       " 'gs://processing-pdfs/2019_zahnd_reocr.pdf',\n",
       " 'gs://processing-pdfs/2019_zhou_reocr.pdf',\n",
       " 'gs://processing-pdfs/2021_aigouy_reocr.pdf',\n",
       " 'gs://processing-pdfs/2021_anders_reocr.pdf',\n",
       " 'gs://processing-pdfs/2021_artiagoitia_reocr.pdf',\n",
       " 'gs://processing-pdfs/2021_baran_reocr.pdf',\n",
       " 'gs://processing-pdfs/2021_bingley_reocr.pdf',\n",
       " 'gs://processing-pdfs/2021_blanc_reocr.pdf',\n",
       " 'gs://processing-pdfs/2021_boesiger_reocr.pdf',\n",
       " 'gs://processing-pdfs/2021_bolognini_reocr.pdf',\n",
       " 'gs://processing-pdfs/2021_budzyn_reocr.pdf',\n",
       " 'gs://processing-pdfs/2021_buttery_reocr.pdf',\n",
       " 'gs://processing-pdfs/2021_creatini_reocr.pdf',\n",
       " 'gs://processing-pdfs/2021_deckert_reocr.pdf',\n",
       " 'gs://processing-pdfs/2021_demerville_reocr.pdf',\n",
       " 'gs://processing-pdfs/2021_fouche2_reocr.pdf',\n",
       " 'gs://processing-pdfs/2021_fouche_reocr.pdf',\n",
       " 'gs://processing-pdfs/2021_gabiola_reocr.pdf',\n",
       " 'gs://processing-pdfs/2021_gade_reocr.pdf',\n",
       " 'gs://processing-pdfs/2021_gavalda_reocr.pdf',\n",
       " 'gs://processing-pdfs/2021_gawin_reocr.pdf',\n",
       " 'gs://processing-pdfs/2021_gewehr_reocr.pdf',\n",
       " 'gs://processing-pdfs/2021_gonzalez_reocr.pdf',\n",
       " 'gs://processing-pdfs/2021_hayoz_reocr.pdf',\n",
       " 'gs://processing-pdfs/2021_heindel_reocr.pdf',\n",
       " 'gs://processing-pdfs/2021_holynska_reocr.pdf',\n",
       " 'gs://processing-pdfs/2021_holzbauer_reocr.pdf',\n",
       " 'gs://processing-pdfs/2021_lommatzsch_reocr.pdf',\n",
       " 'gs://processing-pdfs/2021_lubrano_reocr.pdf',\n",
       " 'gs://processing-pdfs/2021_merstallinger_reocr.pdf',\n",
       " 'gs://processing-pdfs/2021_mohtar_reocr.pdf',\n",
       " 'gs://processing-pdfs/2021_moraine_reocr.pdf',\n",
       " 'gs://processing-pdfs/2021_mulsow_reocr.pdf',\n",
       " 'gs://processing-pdfs/2021_noeker_reocr.pdf',\n",
       " 'gs://processing-pdfs/2021_onillon_reocr.pdf',\n",
       " 'gs://processing-pdfs/2021_paredero_reocr.pdf',\n",
       " 'gs://processing-pdfs/2021_paul_reocr.pdf',\n",
       " 'gs://processing-pdfs/2021_plank_reocr.pdf',\n",
       " 'gs://processing-pdfs/2021_poucet_reocr.pdf',\n",
       " 'gs://processing-pdfs/2021_poweska_reocr.pdf',\n",
       " 'gs://processing-pdfs/2021_rivera_reocr.pdf',\n",
       " 'gs://processing-pdfs/2021_rouvinet_reocr.pdf',\n",
       " 'gs://processing-pdfs/2021_sainz-lete_reocr.pdf',\n",
       " 'gs://processing-pdfs/2021_saudan_reocr.pdf',\n",
       " 'gs://processing-pdfs/2021_spanoudakis2_reocr.pdf',\n",
       " 'gs://processing-pdfs/2021_spanoudakis_reocr.pdf',\n",
       " 'gs://processing-pdfs/2021_stejskal_reocr.pdf',\n",
       " 'gs://processing-pdfs/2021_tattusch2_reocr.pdf',\n",
       " 'gs://processing-pdfs/2021_tattusch_reocr.pdf',\n",
       " 'gs://processing-pdfs/2021_uythoven_reocr.pdf',\n",
       " 'gs://processing-pdfs/2021_wegrzyn_reocr.pdf',\n",
       " 'gs://processing-pdfs/2021_wood_reocr.pdf',\n",
       " 'gs://processing-pdfs/2021_zajac_reocr.pdf',\n",
       " 'gs://processing-pdfs/2023_alo_reocr.pdf',\n",
       " 'gs://processing-pdfs/2023_bergandy_reocr.pdf',\n",
       " 'gs://processing-pdfs/2023_blattes_reocr.pdf',\n",
       " 'gs://processing-pdfs/2023_blumenstock_reocr.pdf',\n",
       " 'gs://processing-pdfs/2023_boross_reocr.pdf',\n",
       " 'gs://processing-pdfs/2023_borquegallego_reocr.pdf',\n",
       " 'gs://processing-pdfs/2023_budzyn_reocr.pdf',\n",
       " 'gs://processing-pdfs/2023_buttery_reocr.pdf',\n",
       " 'gs://processing-pdfs/2023_colas_reocr.pdf',\n",
       " 'gs://processing-pdfs/2023_ewick_reocr.pdf',\n",
       " 'gs://processing-pdfs/2023_favrel_reocr.pdf',\n",
       " 'gs://processing-pdfs/2023_fouche_reocr.pdf',\n",
       " 'gs://processing-pdfs/2023_freier_reocr.pdf',\n",
       " 'gs://processing-pdfs/2023_gossant_reocr.pdf',\n",
       " 'gs://processing-pdfs/2023_grande_reocr.pdf',\n",
       " 'gs://processing-pdfs/2023_grygorczuk2_reocr.pdf',\n",
       " 'gs://processing-pdfs/2023_grygorczuk_reocr.pdf',\n",
       " 'gs://processing-pdfs/2023_kent2_reocr.pdf',\n",
       " 'gs://processing-pdfs/2023_kent_reocr.pdf',\n",
       " 'gs://processing-pdfs/2023_kiener_reocr.pdf',\n",
       " 'gs://processing-pdfs/2023_kozlowski_reocr.pdf',\n",
       " 'gs://processing-pdfs/2023_kusabe4_reocr.pdf',\n",
       " 'gs://processing-pdfs/2023_lambert_reocr.pdf',\n",
       " 'gs://processing-pdfs/2023_lapoutre_reocr.pdf',\n",
       " 'gs://processing-pdfs/2023_lazaro_reocr.pdf',\n",
       " 'gs://processing-pdfs/2023_leletty_reocr.pdf',\n",
       " 'gs://processing-pdfs/2023_lurie_reocr.pdf',\n",
       " 'gs://processing-pdfs/2023_makowka_reocr.pdf',\n",
       " 'gs://processing-pdfs/2023_matsumoto_reocr.pdf',\n",
       " 'gs://processing-pdfs/2023_merstallinger2_reocr.pdf',\n",
       " 'gs://processing-pdfs/2023_mohtar_reocr.pdf',\n",
       " 'gs://processing-pdfs/2023_moraine_reocr.pdf',\n",
       " 'gs://processing-pdfs/2023_musial_reocr.pdf',\n",
       " 'gs://processing-pdfs/2023_nolbert_reocr.pdf',\n",
       " 'gs://processing-pdfs/2023_ortega_reocr.pdf',\n",
       " 'gs://processing-pdfs/2023_payre_reocr.pdf',\n",
       " 'gs://processing-pdfs/2023_phillips_reocr.pdf',\n",
       " 'gs://processing-pdfs/2023_pozo_reocr.pdf',\n",
       " 'gs://processing-pdfs/2023_puchhammer_reocr.pdf',\n",
       " 'gs://processing-pdfs/2023_rainy_reocr.pdf',\n",
       " 'gs://processing-pdfs/2023_robroek_reocr.pdf',\n",
       " 'gs://processing-pdfs/2023_sauder_reocr.pdf',\n",
       " 'gs://processing-pdfs/2023_scheidler_reocr.pdf',\n",
       " 'gs://processing-pdfs/2023_schlater_reocr.pdf',\n",
       " 'gs://processing-pdfs/2023_schwarz_reocr.pdf',\n",
       " 'gs://processing-pdfs/2023_servais_reocr.pdf',\n",
       " 'gs://processing-pdfs/2023_skrzynska_reocr.pdf',\n",
       " 'gs://processing-pdfs/2023_spanoudakis2_reocr.pdf',\n",
       " 'gs://processing-pdfs/2023_spanoudakis_reocr.pdf',\n",
       " 'gs://processing-pdfs/2023_stubbs_reocr.pdf',\n",
       " 'gs://processing-pdfs/2023_tattusch_reocr.pdf',\n",
       " 'gs://processing-pdfs/2023_wade_reocr.pdf',\n",
       " 'gs://processing-pdfs/2023_wygachiewicz_reocr.pdf',\n",
       " 'gs://processing-pdfs/2023_yotov_reocr.pdf',\n",
       " 'gs://processing-pdfs/2023_zemann_reocr.pdf']"
      ]
     },
     "execution_count": 5,
     "metadata": {},
     "output_type": "execute_result"
    }
   ],
   "source": [
    "bucket_name = 'processing-pdfs'\n",
    "docs = DocumentProcessor.list_bucket_pdfs(bucket_name)\n",
    "docs"
   ]
  },
  {
   "cell_type": "code",
   "execution_count": 6,
   "metadata": {},
   "outputs": [],
   "source": [
    "# partitioned_docs = doc_processor.load_and_partition_documents(docs,partition_by_api=False, upload_bucket=bucket_name)\n",
    "# partitioned_docs"
   ]
  },
  {
   "cell_type": "code",
   "execution_count": 7,
   "metadata": {},
   "outputs": [],
   "source": [
    "# chunk_obj, output_paths = doc_processor.chunk_documents(partitioned_docs)"
   ]
  },
  {
   "cell_type": "code",
   "execution_count": 8,
   "metadata": {},
   "outputs": [
    {
     "name": "stderr",
     "output_type": "stream",
     "text": [
      "INFO:aerospace_chatbot.services.database:Validating index text-embedding-3-large-test\n",
      "INFO:pinecone_plugin_interface.logging:Discovering subpackages in _NamespacePath(['/Users/danmueller/Documents/GitHub/aerospace_chatbot/.venv/lib/python3.11/site-packages/pinecone_plugins'])\n",
      "INFO:pinecone_plugin_interface.logging:Looking for plugins in pinecone_plugins.inference\n",
      "INFO:pinecone_plugin_interface.logging:Installing plugin inference into Pinecone\n",
      "INFO:aerospace_chatbot.services.database:Pinecone index text-embedding-3-large-test found, not creating. Will be initialized with existing index.\n"
     ]
    }
   ],
   "source": [
    "try:\n",
    "    db_service.initialize_database(clear=False)\n",
    "except ValueError as e:\n",
    "    print(f\"Database initialization failed: {str(e)}\")\n",
    "    print(e)\n",
    "    raise e"
   ]
  },
  {
   "cell_type": "code",
   "execution_count": 9,
   "metadata": {},
   "outputs": [],
   "source": [
    "# db_service.index_data(chunk_obj)"
   ]
  },
  {
   "cell_type": "code",
   "execution_count": 10,
   "metadata": {},
   "outputs": [],
   "source": [
    "# k_retrieve=20\n",
    "# k_rerank=5\n",
    "# config = {\"configurable\": {\"thread_id\": \"1\"}}\n",
    "\n",
    "# qa_model = QAModel(\n",
    "#     db_service=db_service,\n",
    "#     llm_service=llm_service,\n",
    "#     k_retrieve=k_retrieve,\n",
    "#     k_rerank=k_rerank,\n",
    "#     memory_config=config\n",
    "# )"
   ]
  },
  {
   "cell_type": "code",
   "execution_count": 11,
   "metadata": {},
   "outputs": [],
   "source": [
    "# qa_model.query(test_prompt)"
   ]
  },
  {
   "cell_type": "code",
   "execution_count": 12,
   "metadata": {},
   "outputs": [],
   "source": [
    "# print(qa_model.result[-1]['references'])\n",
    "# print(qa_model.sources[-1])\n",
    "# print(qa_model.scores[-1])\n"
   ]
  },
  {
   "cell_type": "code",
   "execution_count": 13,
   "metadata": {},
   "outputs": [],
   "source": [
    "# print(qa_model.ai_response)"
   ]
  },
  {
   "cell_type": "markdown",
   "metadata": {},
   "source": [
    "# Langgraph"
   ]
  },
  {
   "cell_type": "markdown",
   "metadata": {},
   "source": [
    "Run above section first\n"
   ]
  },
  {
   "cell_type": "code",
   "execution_count": 14,
   "metadata": {},
   "outputs": [],
   "source": [
    "from langchain_core.messages import SystemMessage, RemoveMessage\n",
    "from langchain.output_parsers import PydanticOutputParser\n",
    "from langgraph.checkpoint.memory import MemorySaver\n",
    "from langgraph.graph import MessagesState, StateGraph, START, END\n",
    "from langchain.prompts import PromptTemplate\n",
    "\n",
    "from typing_extensions import List\n",
    "from typing import List, Literal, Tuple\n",
    "\n",
    "# import cohere\n",
    "# import os\n",
    "from langchain.docstore.document import Document\n",
    "\n",
    "from aerospace_chatbot.services.prompts import InLineCitationsResponse, AltQuestionsResponse, style_mode, CHATBOT_SYSTEM_PROMPT, QA_PROMPT, SUMMARIZE_TEXT, GENERATE_SIMILAR_QUESTIONS_W_CONTEXT"
   ]
  },
  {
   "cell_type": "code",
   "execution_count": 15,
   "metadata": {},
   "outputs": [],
   "source": [
    "db_service.get_retriever()\n",
    "retriever = db_service.retriever\n",
    "llm = llm_service.get_llm()\n",
    "# memory = MemorySaver()"
   ]
  },
  {
   "cell_type": "markdown",
   "metadata": {},
   "source": [
    "## Rerank"
   ]
  },
  {
   "cell_type": "code",
   "execution_count": 16,
   "metadata": {},
   "outputs": [
    {
     "name": "stderr",
     "output_type": "stream",
     "text": [
      "INFO:httpx:HTTP Request: POST https://api.openai.com/v1/embeddings \"HTTP/1.1 200 OK\"\n"
     ]
    }
   ],
   "source": [
    "# Retrieve docs with standard retriever\n",
    "retrieved_docs = retriever.invoke(test_prompt)\n",
    "\n",
    "# retrieved_docs"
   ]
  },
  {
   "cell_type": "code",
   "execution_count": 17,
   "metadata": {},
   "outputs": [],
   "source": [
    "# COHERE_API_KEY = os.getenv(\"COHERE_API_KEY\")\n",
    "# co = cohere.ClientV2(COHERE_API_KEY)\n",
    "# rerank_model = \"rerank-v3.5\""
   ]
  },
  {
   "cell_type": "code",
   "execution_count": 18,
   "metadata": {},
   "outputs": [],
   "source": [
    "# model_list = co.models.list()\n",
    "# rerank_model_info = next((model for model in model_list.models if model.name == rerank_model), None)\n",
    "# print(rerank_model_info)\n",
    "\n",
    "# print(model_list.models)"
   ]
  },
  {
   "cell_type": "code",
   "execution_count": 19,
   "metadata": {},
   "outputs": [],
   "source": [
    "# Get token count for each doc\n",
    "# max_context_length = 4096\n",
    "\n",
    "# token_count_list = []\n",
    "# for doc in retrieved_docs[0]:\n",
    "#     tokens = co.tokenize(\n",
    "#         model=rerank_model,\n",
    "#         text=doc.page_content,\n",
    "#     )\n",
    "#     token_count_list.append(len(tokens.tokens))\n",
    "    # print(token_count)\n",
    "\n",
    "# print(token_count_list)"
   ]
  },
  {
   "cell_type": "code",
   "execution_count": 20,
   "metadata": {},
   "outputs": [],
   "source": [
    "# def cohere_rerank(query: str, retrieved_docs: List[Tuple[Document, float]], top_n: int = None):\n",
    "#     # retrieved_docs contains a list of tuples, where the first element is the document and the second is the score\n",
    "#     # Cohere's rerank expects a list of strings; we'll supply the page_content\n",
    "\n",
    "#     if top_n is None:\n",
    "#         top_n = 3\n",
    "#     elif top_n < 3:\n",
    "#         raise ValueError(\"top_n must be at least 3\")\n",
    "#     elif top_n > len(retrieved_docs):\n",
    "#         raise ValueError(\"top_n must be less than or equal to the number of retrieved documents\")\n",
    "    \n",
    "#     inputs = [doc.page_content for doc, _ in retrieved_docs]\n",
    "\n",
    "#     # Call Cohere's Rerank endpoint\n",
    "#     response = co.rerank(\n",
    "#         model=rerank_model,\n",
    "#         query=query,\n",
    "#         documents=inputs,\n",
    "#         top_n=top_n\n",
    "#     )\n",
    "\n",
    "#     # Create a dictionary to map document IDs to rerank scores\n",
    "#     rerank_scores = {retrieved_docs[i][0].id: item.relevance_score for i, item in enumerate(response.results)}\n",
    "\n",
    "#     # Create list of (doc, original_score, rerank_score) tuples\n",
    "#     doc_scores = []\n",
    "#     for doc, original_score in retrieved_docs:\n",
    "#         rerank_score = rerank_scores.get(doc.id, None)  # Get the rerank score or None if not available\n",
    "#         doc_scores.append((doc, original_score, rerank_score))\n",
    "\n",
    "#     # Sort docs by rerank score in descending order, placing those without a rerank score at the end\n",
    "#     doc_scores_sorted = sorted(doc_scores, key=lambda x: (x[2] is not None, x[2]), reverse=True)\n",
    "\n",
    "#     return doc_scores_sorted"
   ]
  },
  {
   "cell_type": "code",
   "execution_count": 21,
   "metadata": {},
   "outputs": [],
   "source": [
    "# reranked_docs = db_service.rerank(test_prompt, retrieved_docs, top_n=k_rerank)\n",
    "# reranked_docs"
   ]
  },
  {
   "cell_type": "code",
   "execution_count": 22,
   "metadata": {},
   "outputs": [],
   "source": [
    "# Add context to the prompt\n",
    "# TODO update this to use the doc.id. Do some testing to check this works.\n",
    "# docs_content=\"\"\n",
    "# for i, (doc, original_score, rerank_score) in enumerate(reranked_docs):\n",
    "#     # Source IDs in the order they show in in the array. Indexed from 0.\n",
    "#     if rerank_score is not None:    # Only include docs with a rerank score\n",
    "#         docs_content += f\"Source ID: {i+1}\\n{doc.page_content}\\n\\n\"\n",
    "\n",
    "# print(docs_content)"
   ]
  },
  {
   "cell_type": "markdown",
   "metadata": {},
   "source": [
    "## Test output parser"
   ]
  },
  {
   "cell_type": "markdown",
   "metadata": {},
   "source": [
    "### InLineCitationsResponse"
   ]
  },
  {
   "cell_type": "code",
   "execution_count": 23,
   "metadata": {},
   "outputs": [
    {
     "name": "stdout",
     "output_type": "stream",
     "text": [
      "content='\\nThe actuator was tested under high pressure <source id=\"1\">. \\nMaterial properties were measured over 50 cycles <source id=\"2\">.\\nThermal resistance improved by 30% <source id=\"3\">.\\n' citations=['1', '2', '3']\n"
     ]
    }
   ],
   "source": [
    "# Should validate\n",
    "valid_response = InLineCitationsResponse(content=\"\"\"\n",
    "The actuator was tested under high pressure <source id=\"1\">. \n",
    "Material properties were measured over 50 cycles <source id=\"2\">.\n",
    "Thermal resistance improved by 30% <source id=\"3\">.\n",
    "\"\"\",\n",
    "citations=[\"1\", \"2\", \"3\"]\n",
    ")\n",
    "\n",
    "print(valid_response)"
   ]
  },
  {
   "cell_type": "code",
   "execution_count": 46,
   "metadata": {},
   "outputs": [
    {
     "name": "stdout",
     "output_type": "stream",
     "text": [
      "[{'type': 'value_error', 'loc': ('content',), 'msg': \"Value error, Sorry, but I don't know the answer to your question because no source citations were found. This means your last question did not have any relevant answersfrom the knowledge base. Reprase your question and ask again.\", 'input': '\\n    The actuator was tested under high pressure [1]. \\n    Material properties were measured under load <source id=\"x\">.\\n    ', 'ctx': {'error': ValueError(\"Sorry, but I don't know the answer to your question because no source citations were found. This means your last question did not have any relevant answersfrom the knowledge base. Reprase your question and ask again.\")}, 'url': 'https://errors.pydantic.dev/2.9/v/value_error'}]\n",
      "Sorry, but I don't know the answer to your question because no source citations were found. This means your last question did not have any relevant answersfrom the knowledge base. Reprase your question and ask again.\n"
     ]
    }
   ],
   "source": [
    "# Shouldn't validate\n",
    "try:\n",
    "    invalid_response = InLineCitationsResponse(content=\"\"\"\n",
    "    The actuator was tested under high pressure [1]. \n",
    "    Material properties were measured under load <source id=\"x\">.\n",
    "    \"\"\",\n",
    "    citations=[\"1\", \"x\"]\n",
    "    )\n",
    "except ValueError as e:\n",
    "    errors = e.errors()\n",
    "    print(errors)\n",
    "    if errors:\n",
    "        # The pydantic error message might include a prefix like \"Value error, \"\n",
    "        error_msg = errors[0][\"msg\"]\n",
    "        prefix = \"Value error, \"\n",
    "        if error_msg.startswith(prefix):\n",
    "            error_msg = error_msg[len(prefix) :].strip()\n",
    "\n",
    "        print(error_msg)"
   ]
  },
  {
   "cell_type": "code",
   "execution_count": 27,
   "metadata": {},
   "outputs": [
    {
     "ename": "NameError",
     "evalue": "name 'e' is not defined",
     "output_type": "error",
     "traceback": [
      "\u001b[0;31m---------------------------------------------------------------------------\u001b[0m",
      "\u001b[0;31mNameError\u001b[0m                                 Traceback (most recent call last)",
      "Cell \u001b[0;32mIn[27], line 1\u001b[0m\n\u001b[0;32m----> 1\u001b[0m \u001b[43me\u001b[49m\n",
      "\u001b[0;31mNameError\u001b[0m: name 'e' is not defined"
     ]
    }
   ],
   "source": []
  },
  {
   "cell_type": "code",
   "execution_count": 26,
   "metadata": {},
   "outputs": [],
   "source": [
    "QA_PROMPT_TEST=PromptTemplate(\n",
    "    template=\n",
    "\"\"\"\n",
    "# **System Prompt**\n",
    "\n",
    "Your name is **Aerospace Chatbot**, a specialized assistant for flight hardware design and analysis in aerospace engineering. You will function as a knowledgeable replacement for an expert in aerospace flight hardware design, testing, analysis, and certification.\n",
    "\n",
    "> **Important Note:** The **Sources and Context** you are provided are ranked from most relevant to least relevant by a state-of-the-art retrieval and ranking tool. Please take this ranking into consideration when determining which sources to cite.\n",
    "\n",
    "Use only the **Sources and Context** provided to answer the **User Question**. **Do not use outside knowledge**, and strictly follow these rules:\n",
    "\n",
    "---\n",
    "\n",
    "## **Rules**:\n",
    "\n",
    "1. **Answer only based on the provided Sources and Context.**  \n",
    "   - If the information is not available in the Sources and Context, respond with:  \n",
    "     *\"I don’t know the answer to that based on the information provided. You might consider rephrasing your question or asking about a related topic.\"*  \n",
    "   - **If no sources are truly relevant to the answer, do not cite any sources.**\n",
    "\n",
    "2. **Do not make up or infer answers.**  \n",
    "   - Stay accurate and factual at all times.\n",
    "\n",
    "3. **Provide highly detailed, explanatory answers.**  \n",
    "   - Include **as many specific details from the original context** as possible to thoroughly address the user’s question.\n",
    "\n",
    "4. **Provide responses in English only** and format them using **Markdown** for clarity.\n",
    "\n",
    "5. **Cite Sources in context** using the exact format `<source id=\"#\">`:  \n",
    "   - `#` – Represents the numerical order of the source as provided in the Sources and Context.  \n",
    "   - **The `source` tag must be present for every source referenced in the response.**  \n",
    "   - **Do not add, omit, or modify any part of the citation format.**  \n",
    "   \n",
    "   **Examples (Correct):**  \n",
    "   > The actuator was tested under extreme conditions <source id=\"1\">.  \n",
    "   > A secondary material exhibited increased yield strength <source id=\"2\">.  \n",
    "   > Additional research confirmed thermal properties <source id=\"3\">.  \n",
    "\n",
    "   **Examples (Incorrect – Must Be Rejected):**  \n",
    "   > Testing yielded higher efficiency [1] (Incorrect bracket format)  \n",
    "   > <source id=\"1\" > (Extra space after `id`)  \n",
    "   > <source id=\"a\"> (Non-numeric ID)  \n",
    "   > <source id=\"1,2\"> (Multiple IDs in one tag – invalid)  \n",
    "\n",
    "6. **Every sentence or paragraph that uses a source must cite it with the format `<source id=\"#\">`.**  \n",
    "   - **Do not group multiple sources into a single tag.**  \n",
    "   - Each source must have its own, clearly separated citation.  \n",
    "   - For example:  \n",
    "     > The actuator uses a reinforced composite structure <source id=\"1\">.  \n",
    "     > This design was validated through multiple tests <source id=\"2\">.\n",
    "\n",
    "7. **Validation Requirement:**  \n",
    "   - If the response contains references without the exact `<source id=\"#\">` format, the response must be flagged or rejected.  \n",
    "   - Every source used must have a corresponding citation in the response.  \n",
    "   - **No source should be referenced without explicit citation.**\n",
    "\n",
    "8. **Suggest related or alternative questions** if applicable, to help the user find relevant information within the corpus.\n",
    "\n",
    "9. **Always cite Source ID: 1**  \n",
    "   - Always provide a citation for Source ID: 1 unless it is entirely irrelevant to the user’s question (in which case explicitly omit it).  \n",
    "   - Follow Rule #10 for the other sources.\n",
    "\n",
    "10. **Give preference to citing top-ranked sources, provided in order of highest to lowest relevance.**  \n",
    "   - If the first sources in the list (i.e., the most relevant or highest-ranked) contain information that addresses the user’s question, cite them first.  \n",
    "   - Then cite additional sources only if they contain new or non-redundant details.  \n",
    "   - If the top-ranked sources are not relevant, skip them.\n",
    "\n",
    "---\n",
    "**Sources and Context**:\n",
    "{context}\n",
    "---\n",
    "\n",
    "---\n",
    "**User Question**:\n",
    "{question}\n",
    "---\n",
    "\n",
    "---\n",
    "{format_instructions}\n",
    "---\n",
    "\"\"\",\n",
    "    input_variables=[\"context\", \"question\"],\n",
    "    partial_variables={\"format_instructions\": PydanticOutputParser(pydantic_object=InLineCitationsResponse).get_format_instructions()},\n",
    ")\n"
   ]
  },
  {
   "cell_type": "code",
   "execution_count": null,
   "metadata": {},
   "outputs": [],
   "source": [
    "raw_output = llm.invoke(QA_PROMPT_TEST.format(context=docs_content, question=test_prompt))\n",
    "print(raw_output.content)"
   ]
  },
  {
   "cell_type": "code",
   "execution_count": null,
   "metadata": {},
   "outputs": [],
   "source": [
    "parsed_response = PydanticOutputParser(pydantic_object=InLineCitationsResponse).parse(raw_output.content)\n",
    "print(parsed_response)"
   ]
  },
  {
   "cell_type": "markdown",
   "metadata": {},
   "source": [
    "### AltQuestionsResponse"
   ]
  },
  {
   "cell_type": "code",
   "execution_count": null,
   "metadata": {},
   "outputs": [],
   "source": [
    "# Should validate\n",
    "valid_response = AltQuestionsResponse(\n",
    "    questions=[\"What is the purpose of the actuator?\", \"What are the key components of the mechanism?\", \"How does the mechanism work?\"],\n",
    ")\n",
    "print(valid_response)"
   ]
  },
  {
   "cell_type": "code",
   "execution_count": null,
   "metadata": {},
   "outputs": [],
   "source": [
    "# Shouldn't validate\n",
    "try:\n",
    "    invalid_response = AltQuestionsResponse(\n",
    "        questions=[\"What is the purpose of the actuator?\", \"What are the key components of the mechanism?\"],\n",
    "    )\n",
    "except ValueError as e:\n",
    "    print(f\"Validation failed: {e}\")"
   ]
  },
  {
   "cell_type": "code",
   "execution_count": null,
   "metadata": {},
   "outputs": [],
   "source": [
    "raw_output = llm.invoke(GENERATE_SIMILAR_QUESTIONS_W_CONTEXT.format(context=docs_content, question=test_prompt))\n",
    "print(raw_output.content)"
   ]
  },
  {
   "cell_type": "code",
   "execution_count": null,
   "metadata": {},
   "outputs": [],
   "source": [
    "parsed_response = PydanticOutputParser(pydantic_object=AltQuestionsResponse).parse(raw_output.content)\n",
    "print(parsed_response.questions)"
   ]
  },
  {
   "cell_type": "markdown",
   "metadata": {},
   "source": [
    "## Define graph"
   ]
  },
  {
   "cell_type": "code",
   "execution_count": 33,
   "metadata": {},
   "outputs": [],
   "source": [
    "# class State(MessagesState):\n",
    "#     context: List[Tuple[Document, float, float]]\n",
    "#     cited_sources: List[Tuple[Document, float, float]]\n",
    "#     summary: str\n",
    "\n",
    "# # Define application steps\n",
    "# def retrieve(state: State):\n",
    "#     \"\"\"\n",
    "#     Retrieve the documents from the database.\n",
    "#     \"\"\"\n",
    "#     logger.info(f\"Node: retrieve\")\n",
    "\n",
    "#     # Retrieve docs\n",
    "#     retrieved_docs = retriever.invoke(state[\"messages\"][-1].content)\n",
    "#     logger.info(f\"Retrieved docs\")\n",
    "#     # Rerank docs\n",
    "#     # reranked_docs = cohere_rerank(\n",
    "#     #     state[\"messages\"][-1].content, \n",
    "#     #     retrieved_docs, \n",
    "#     #     top_n=k_rerank\n",
    "#     # )\n",
    "#     reranked_docs = db_service.rerank(\n",
    "#         state[\"messages\"][-1].content, \n",
    "#         retrieved_docs, \n",
    "#         top_n=k_rerank\n",
    "#     )\n",
    "#     logger.info(f\"Reranked docs\")\n",
    "\n",
    "#     return {\"context\": reranked_docs}\n",
    "\n",
    "# def generate_w_context(state: State):\n",
    "#     \"\"\"\n",
    "#     Call the model with the prompt with context.\n",
    "#     \"\"\"\n",
    "#     logger.info(f\"Node: generate_w_context\")\n",
    "\n",
    "#     # Get the summary, add system prompt\n",
    "#     summary = state.get(\"summary\", \"\")\n",
    "#     system_prompt = CHATBOT_SYSTEM_PROMPT.format(style_mode=style_mode(style))\n",
    "#     logger.info(f\"generate_w_context system prompt: {system_prompt.content}\")\n",
    "#     if summary:\n",
    "#         system_message = f\"Summary of conversation earlier: {summary}\"\n",
    "#         messages = [system_prompt] + [SystemMessage(content=system_message)] + state[\"messages\"]\n",
    "#     else:\n",
    "#         messages = [system_prompt] + state[\"messages\"]\n",
    "\n",
    "#     # Add context to the prompt\n",
    "#     docs_content=\"\"\n",
    "#     for i, (doc, retrieved_score, rerank_score) in enumerate(state[\"context\"]):\n",
    "#         # Source IDs in the order they show in in the array. Indexed from 1, retrieve with 0 index.\n",
    "#         if rerank_score is not None:    # Only include docs with a rerank score\n",
    "#             docs_content += f\"Source ID: {i+1}\\n{doc.page_content}\\n\\n\"\n",
    "\n",
    "#     # Prompt with context and pydantic output parser\n",
    "#     prompt_with_context = QA_PROMPT.format(\n",
    "#         context=docs_content,\n",
    "#         question=state[\"messages\"][-1].content, \n",
    "#     )\n",
    "#     # Replace the last message (user question) with the prompt with context, return LLM response\n",
    "#     messages[-1] = prompt_with_context \n",
    "#     response = llm.invoke(messages)\n",
    "\n",
    "#     # Parse the response. This will return a InLineCitationsResponse object. \n",
    "#     # This object has two fields: content and citations.\n",
    "#     # Replace the last message with the content of the parsed and validated response. \n",
    "#     # AIMessage metadata will be incorrect.\n",
    "#     parsed_response = PydanticOutputParser(pydantic_object=InLineCitationsResponse).parse(response.content)\n",
    "#     response.content = parsed_response.content\n",
    "\n",
    "#     # Return cited_sources as the list of tuples that matched the citations.\n",
    "#     existing_cited_sources = state.get(\"cited_sources\", [])  # Grab whatever might already be in cited_sources\n",
    "#     cited_sources = [state[\"context\"][int(citation)-1] for citation in parsed_response.citations]\n",
    "#     existing_cited_sources.append(cited_sources)  # Append the new list as a sublist\n",
    "#     state[\"cited_sources\"] = existing_cited_sources\n",
    "\n",
    "#     # Update the state messages with the messages updated in this node.\n",
    "#     state[\"messages\"] = messages\n",
    "#     return {\"messages\": [response], \n",
    "#             \"cited_sources\": state[\"cited_sources\"]}\n",
    "\n",
    "# def should_continue(state: State) -> Literal[\"summarize_conversation\", END]:\n",
    "#     \"\"\"\n",
    "#     Define the logic for determining whether to end or summarize the conversation\n",
    "#     \"\"\"\n",
    "#     logger.info(f\"Node: should_continue\")\n",
    "\n",
    "#     # If there are more than six messages, then we summarize the conversation\n",
    "#     messages = state[\"messages\"]\n",
    "#     if len(messages) > 6:\n",
    "#         logger.info(f\"Summarizing conversation\")\n",
    "#         return \"summarize_conversation\"\n",
    "    \n",
    "#     # Otherwise just end\n",
    "#     logger.info(f\"Ending conversation\")\n",
    "#     # logger.info(f\"Messages before ending: {messages}\")\n",
    "#     return END\n",
    "\n",
    "# def summarize_conversation(state: State):\n",
    "#     \"\"\"\n",
    "#     Summarize the conversation\n",
    "#     \"\"\"\n",
    "#     logger.info(f\"Node: summarize_conversation\")\n",
    "\n",
    "#     summary = state.get(\"summary\", \"\")\n",
    "#     if summary:\n",
    "#         # If a summary already exists, extend it\n",
    "#         summary_message = SUMMARIZE_TEXT.format(\n",
    "#             summary=summary,\n",
    "#             augment=\"Extend the summary provided by taking into account the new messages above.\"\n",
    "#         )\n",
    "#     else:\n",
    "#         # If no summary exists, create one\n",
    "#         summary_text=\"\"\"---\\n**Conversation Summary to Date**:\\n{summary}\\n---\"\"\"\n",
    "#         summary_message = SUMMARIZE_TEXT.format(\n",
    "#             summary=summary_text,\n",
    "#             augment=\"Create a summary of the conversation above.\"\n",
    "#         )\n",
    "\n",
    "#     messages = state[\"messages\"] + [summary_message]\n",
    "#     response = llm.invoke(messages)\n",
    "\n",
    "#     # Prune messages. This deletes all but the last two messages\n",
    "#     delete_messages = [RemoveMessage(id=m.id) for m in state[\"messages\"][:-2]]\n",
    "#     return {\"summary\": response.content, \"messages\": delete_messages}"
   ]
  },
  {
   "cell_type": "code",
   "execution_count": 34,
   "metadata": {},
   "outputs": [],
   "source": [
    "# # Compile application and test\n",
    "# workflow = StateGraph(State)\n",
    "\n",
    "# # Define nodes\n",
    "# workflow.add_node(\"retrieve\", retrieve) \n",
    "# workflow.add_node(\"generate_w_context\", generate_w_context)\n",
    "# workflow.add_node(\"summarize_conversation\", summarize_conversation)\n",
    "\n",
    "# # Define edges\n",
    "# workflow.add_edge(START, \"retrieve\")\n",
    "# workflow.add_edge(\"retrieve\", \"generate_w_context\")\n",
    "\n",
    "# # We now add a conditional edge\n",
    "# workflow.add_conditional_edges(\n",
    "#     \"generate_w_context\",   # Define the start node. We use `generate_w_context`. This means these are the edges taken after the `conversation` node is called.\n",
    "#     should_continue,    # Next, pass in the function that will determine which node is called next.\n",
    "# )\n",
    "\n",
    "# # Add a normal edge from `summarize_conversation` to END. This means that after `summarize_conversation` is called, we end.\n",
    "# workflow.add_edge(\"summarize_conversation\", END)\n",
    "\n",
    "# # Compile the workflow\n",
    "# app = workflow.compile(checkpointer=memory)"
   ]
  },
  {
   "cell_type": "code",
   "execution_count": null,
   "metadata": {},
   "outputs": [],
   "source": [
    "qa_model.workflow"
   ]
  },
  {
   "cell_type": "markdown",
   "metadata": {},
   "source": [
    "## Run Graph"
   ]
  },
  {
   "cell_type": "code",
   "execution_count": 36,
   "metadata": {},
   "outputs": [],
   "source": [
    "config = {\"configurable\": {\"thread_id\": \"197\"}}"
   ]
  },
  {
   "cell_type": "code",
   "execution_count": null,
   "metadata": {},
   "outputs": [],
   "source": [
    "prompt = 'My name is Dan. Please tell me about some interesting mecanism designs.'\n",
    "# result = qa_model.workflow.invoke({\"messages\": [(\"human\", prompt)]}, config)\n",
    "qa_model.query(prompt)\n",
    "for message in qa_model.result['messages']:\n",
    "    message.pretty_print()"
   ]
  },
  {
   "cell_type": "code",
   "execution_count": null,
   "metadata": {},
   "outputs": [],
   "source": [
    "qa_model.result['context']"
   ]
  },
  {
   "cell_type": "code",
   "execution_count": null,
   "metadata": {},
   "outputs": [],
   "source": [
    "# prompt = 'How have these mecahnisms been tested?'\n",
    "prompt = 'How is release indicated from the functional response of the mechanism?'\n",
    "result = qa_model.workflow.invoke({\"messages\": [(\"human\", prompt)]}, config)\n",
    "for message in result['messages']:\n",
    "    message.pretty_print()"
   ]
  },
  {
   "cell_type": "code",
   "execution_count": null,
   "metadata": {},
   "outputs": [],
   "source": [
    "result"
   ]
  },
  {
   "cell_type": "code",
   "execution_count": null,
   "metadata": {},
   "outputs": [],
   "source": [
    "result['messages'][-1].content"
   ]
  },
  {
   "cell_type": "code",
   "execution_count": null,
   "metadata": {},
   "outputs": [],
   "source": [
    "print(result['context'][0][0])"
   ]
  },
  {
   "cell_type": "code",
   "execution_count": null,
   "metadata": {},
   "outputs": [],
   "source": []
  },
  {
   "cell_type": "markdown",
   "metadata": {},
   "source": [
    "## Test PDF annotation"
   ]
  },
  {
   "cell_type": "code",
   "execution_count": null,
   "metadata": {},
   "outputs": [],
   "source": [
    "import json, base64, zlib\n",
    "\n",
    "def extract_orig_elements(orig_elements):\n",
    "    decoded_orig_elements = base64.b64decode(orig_elements)\n",
    "    decompressed_orig_elements = zlib.decompress(decoded_orig_elements)\n",
    "    return decompressed_orig_elements.decode('utf-8')\n",
    "\n",
    "orig_elements = extract_orig_elements(result['context'][2][0].metadata['orig_elements'])\n",
    "orig_elements = json.loads(orig_elements)\n",
    "print(orig_elements)\n",
    "print(len(orig_elements))"
   ]
  },
  {
   "cell_type": "code",
   "execution_count": null,
   "metadata": {},
   "outputs": [],
   "source": [
    "page_range = [orig_elements[0]['metadata']['page_number'], orig_elements[-1]['metadata']['page_number']]\n",
    "print(page_range)"
   ]
  },
  {
   "cell_type": "code",
   "execution_count": null,
   "metadata": {},
   "outputs": [],
   "source": [
    "from aerospace_chatbot.ui.utils import display_source_highlights\n",
    "\n",
    "annotated_pdfs = display_source_highlights(result['context'][:k_rerank])\n",
    "print(len(annotated_pdfs))"
   ]
  },
  {
   "cell_type": "code",
   "execution_count": null,
   "metadata": {},
   "outputs": [],
   "source": [
    "import fitz\n",
    "from IPython.display import display, Image\n",
    "from tempfile import NamedTemporaryFile\n",
    "\n",
    "pdf_bytes = annotated_pdfs[1].read()\n",
    "pdf_document = fitz.open(stream=pdf_bytes, filetype=\"pdf\")\n",
    "\n",
    "# Display each page\n",
    "for page in pdf_document:\n",
    "    pix = page.get_pixmap(matrix=fitz.Matrix(1, 1))  # 2x zoom for better resolution\n",
    "    with NamedTemporaryFile(suffix='.png') as tmp:\n",
    "        pix.save(tmp.name)\n",
    "        display(Image(filename=tmp.name))\n",
    "\n",
    "pdf_document.close()"
   ]
  },
  {
   "cell_type": "markdown",
   "metadata": {},
   "source": [
    "## Summary memory test prompts"
   ]
  },
  {
   "cell_type": "code",
   "execution_count": 157,
   "metadata": {},
   "outputs": [],
   "source": [
    "# prompt = 'How old are you?'\n",
    "# result = qa_model.workflow.invoke({\"messages\": [(\"human\", prompt)]}, config)\n",
    "# for message in result['messages']:\n",
    "#     message.pretty_print()"
   ]
  },
  {
   "cell_type": "code",
   "execution_count": 158,
   "metadata": {},
   "outputs": [],
   "source": [
    "# prompt = 'What are some lessons learned about these mechanisms?'\n",
    "# result = qa_model.workflow.invoke({\"messages\": [(\"human\", prompt)]}, config)\n",
    "# for message in result['messages']:\n",
    "#     message.pretty_print()"
   ]
  },
  {
   "cell_type": "code",
   "execution_count": 159,
   "metadata": {},
   "outputs": [],
   "source": [
    "# prompt = 'What are some problems that have occurred?'\n",
    "# result = qa_model.workflow.invoke({\"messages\": [(\"human\", prompt)]}, config)\n",
    "# for message in result['messages']:\n",
    "#     message.pretty_print()"
   ]
  },
  {
   "cell_type": "markdown",
   "metadata": {},
   "source": [
    "# RAGatouille retrieval testing"
   ]
  },
  {
   "cell_type": "code",
   "execution_count": 32,
   "metadata": {},
   "outputs": [],
   "source": [
    "from aerospace_chatbot.processing import DocumentProcessor\n",
    "from aerospace_chatbot.services import EmbeddingService, RerankService, LLMService, DatabaseService\n",
    "from aerospace_chatbot.processing import QAModel\n",
    "\n",
    "from langchain_core.documents import Document\n",
    "\n",
    "# Load environment variables\n",
    "from dotenv import load_dotenv\n",
    "load_dotenv(override=True)\n",
    "# Set LOCAL_DB_PATH environment variable\n",
    "# os.environ['LOCAL_DB_PATH'] = os.path.abspath('.')\n",
    "\n",
    "# Initialize logger\n",
    "import logging\n",
    "logger = logging.getLogger(__name__)\n",
    "logging.basicConfig(level=logging.INFO)\n",
    "db_type='RAGatouille'\n",
    "\n",
    "embedding_service='RAGatouille'\n",
    "embedding_model='colbert-ir/colbertv2.0'\n",
    "\n",
    "rerank_service='Cohere'\n",
    "rerank_model='rerank-v3.5'\n",
    "\n",
    "llm_service='OpenAI'\n",
    "llm_model='gpt-4o'\n",
    "# llm_service='Anthropic'\n",
    "# llm_model='claude-3-5-sonnet-latest'\n",
    "\n",
    "chunk_size=400\n",
    "chunk_overlap=0\n",
    "batch_size=50\n",
    "index_name = 'ragatouille-test'\n",
    "\n",
    "test_prompt='How does a thermal knife function in a cable based hold down release mechanism?'\n",
    "# Initialize services\n",
    "embedding_service = EmbeddingService(\n",
    "    model_service=embedding_service,\n",
    "    model=embedding_model\n",
    ")\n",
    "\n",
    "rerank_service = RerankService(\n",
    "    model_service=rerank_service,\n",
    "    model=rerank_model\n",
    ")\n",
    "# rerank_service = None\n",
    "\n",
    "llm_service = LLMService(\n",
    "    model_service=llm_service,\n",
    "    model=llm_model,\n",
    ")\n",
    "\n",
    "doc_processor = DocumentProcessor(\n",
    "    embedding_service=embedding_service,\n",
    "    chunk_size=chunk_size,\n",
    "    chunk_overlap=chunk_overlap,\n",
    ")\n",
    "\n",
    "# Initialize database service\n",
    "db_service = DatabaseService(\n",
    "    db_type=db_type,\n",
    "    index_name=index_name,\n",
    "    embedding_service=embedding_service,\n",
    "    rerank_service=rerank_service,\n",
    ")\n"
   ]
  },
  {
   "cell_type": "code",
   "execution_count": null,
   "metadata": {},
   "outputs": [],
   "source": [
    "bucket_name = 'processing-pdfs'\n",
    "docs = DocumentProcessor.list_bucket_pdfs(bucket_name)\n",
    "\n",
    "# partitioned_docs = doc_processor.load_and_partition_documents(docs,partition_by_api=False, upload_bucket=bucket_name)\n",
    "# chunk_obj, output_paths = doc_processor.chunk_documents(partitioned_docs)\n",
    "\n",
    "partitioned_docs = doc_processor.load_partitioned_documents(docs, partition_dir='./document_processing')\n",
    "chunk_obj, output_paths = doc_processor.chunk_documents(partitioned_docs)"
   ]
  },
  {
   "cell_type": "code",
   "execution_count": null,
   "metadata": {},
   "outputs": [],
   "source": [
    "try:\n",
    "    db_service.initialize_database(clear=False)\n",
    "except ValueError as e:\n",
    "    print(f\"Database initialization failed: {str(e)}\")\n",
    "    print(e)\n",
    "    raise e"
   ]
  },
  {
   "cell_type": "code",
   "execution_count": null,
   "metadata": {},
   "outputs": [],
   "source": [
    "db_service.vectorstore.index"
   ]
  },
  {
   "cell_type": "code",
   "execution_count": 35,
   "metadata": {},
   "outputs": [],
   "source": [
    "# db_service.index_data(chunk_obj)"
   ]
  },
  {
   "cell_type": "code",
   "execution_count": 36,
   "metadata": {},
   "outputs": [],
   "source": [
    "k_retrieve=20\n",
    "k_rerank=5\n",
    "config = {\"configurable\": {\"thread_id\": \"2\"}}\n",
    "\n",
    "qa_model = QAModel(\n",
    "    db_service=db_service,\n",
    "    llm_service=llm_service,\n",
    "    k_retrieve=k_retrieve,\n",
    "    k_rerank=k_rerank,\n",
    "    memory_config=config\n",
    ")"
   ]
  },
  {
   "cell_type": "code",
   "execution_count": null,
   "metadata": {},
   "outputs": [],
   "source": [
    "docs = qa_model.db_service.retriever.invoke(test_prompt)"
   ]
  },
  {
   "cell_type": "code",
   "execution_count": null,
   "metadata": {},
   "outputs": [],
   "source": [
    "docs"
   ]
  },
  {
   "cell_type": "code",
   "execution_count": null,
   "metadata": {},
   "outputs": [],
   "source": [
    "reranked_docs = db_service.rerank(\n",
    "    test_prompt, \n",
    "    docs, \n",
    "    top_n=k_rerank\n",
    ")\n",
    "reranked_docs"
   ]
  },
  {
   "cell_type": "code",
   "execution_count": null,
   "metadata": {},
   "outputs": [],
   "source": [
    "qa_model.workflow"
   ]
  },
  {
   "cell_type": "code",
   "execution_count": null,
   "metadata": {},
   "outputs": [],
   "source": [
    "prompt = 'My name is Dan. Please tell me about some interesting mecanism designs.'\n",
    "# result = qa_model.workflow.invoke({\"messages\": [(\"human\", prompt)]}, config)\n",
    "qa_model.query(prompt)\n",
    "for message in qa_model.result['messages']:\n",
    "    message.pretty_print()"
   ]
  },
  {
   "cell_type": "code",
   "execution_count": null,
   "metadata": {},
   "outputs": [],
   "source": [
    "qa_model.result['context']"
   ]
  },
  {
   "cell_type": "code",
   "execution_count": null,
   "metadata": {},
   "outputs": [],
   "source": []
  }
 ],
 "metadata": {
  "kernelspec": {
   "display_name": "Python 3",
   "language": "python",
   "name": "python3"
  },
  "language_info": {
   "codemirror_mode": {
    "name": "ipython",
    "version": 3
   },
   "file_extension": ".py",
   "mimetype": "text/x-python",
   "name": "python",
   "nbconvert_exporter": "python",
   "pygments_lexer": "ipython3",
   "version": "3.11.10"
  },
  "orig_nbformat": 4
 },
 "nbformat": 4,
 "nbformat_minor": 2
}
