{
 "cells": [
  {
   "cell_type": "code",
   "execution_count": 1,
   "metadata": {},
   "outputs": [],
   "source": [
    "from selenium import webdriver\n",
    "from selenium.webdriver.chrome.options import Options\n",
    "import time\n",
    "from bs4 import BeautifulSoup\n",
    "import os\n",
    "from time import sleep\n",
    "import requests"
   ]
  },
  {
   "cell_type": "code",
   "execution_count": 2,
   "metadata": {},
   "outputs": [],
   "source": [
    "def get_esmats_papers(url_base,year,folder):\n",
    "    url=url_base+year\n",
    "    # Set up the WebDriver, requires chrome to be installed\n",
    "    chrome_options = Options()\n",
    "    chrome_options.add_argument(\"--headless\")  # Run in headless mode (without opening a browser window)\n",
    "    chrome_options.add_argument(\"--no-sandbox\")\n",
    "    chrome_options.add_argument(\"--disable-dev-shm-usage\")\n",
    "    driver = webdriver.Chrome(options=chrome_options) # requires a chrome browser to be installed\n",
    "\n",
    "    driver.get(url) # # Open the webpage\n",
    "    time.sleep(5)  # Wait for the page to load, adjust this as needed\n",
    "\n",
    "    page_source = driver.page_source    # Get page source\n",
    "    driver.quit()   # Close the browser\n",
    "\n",
    "    soup = BeautifulSoup(page_source, 'html.parser')    # Parse the page source with BeautifulSoup\n",
    "    print(f\"Got soup for {year}!\")\n",
    " \n",
    "    # Find all anchor tags with href attribute ending with .pdf\n",
    "    pdf_links = soup.find_all('a', href=lambda href: href and href.endswith('.pdf'))\n",
    "\n",
    "    # Directory where PDFs will be saved\n",
    "    os.makedirs(folder, exist_ok=True)\n",
    "\n",
    "    # Iterate over all found PDF links and download each PDF\n",
    "    for link in pdf_links:\n",
    "        pdf_url = link['href']\n",
    "        # Full URL if the link is relative\n",
    "        if not pdf_url.startswith('http'):\n",
    "            pdf_url = 'https://www.esmats.eu/esmatspapers/' + pdf_url\n",
    "        print(f'Downloading {pdf_url}')\n",
    "        # Download the PDF file\n",
    "        response = requests.get(pdf_url)\n",
    "        # Get the file name from the URL\n",
    "        file_name = pdf_url.split('/')[-1]\n",
    "        # Save the PDF file\n",
    "        with open(os.path.join(folder,year+\"_\"+file_name), 'wb') as file:\n",
    "            file.write(response.content)\n",
    "\n",
    "    print(f\"Download completed for {year}!\")"
   ]
  },
  {
   "cell_type": "code",
   "execution_count": 4,
   "metadata": {},
   "outputs": [
    {
     "name": "stdout",
     "output_type": "stream",
     "text": [
      "Got soup for 2021!\n",
      "Downloading https://www.esmats.eu/esmatspapers/pastpapers/pdfs/2021/fouche.pdf\n"
     ]
    },
    {
     "ename": "NameError",
     "evalue": "name 'pdf_folder' is not defined",
     "output_type": "error",
     "traceback": [
      "\u001b[0;31m---------------------------------------------------------------------------\u001b[0m",
      "\u001b[0;31mNameError\u001b[0m                                 Traceback (most recent call last)",
      "Cell \u001b[0;32mIn[4], line 7\u001b[0m\n\u001b[1;32m      4\u001b[0m folder\u001b[38;5;241m=\u001b[39mos\u001b[38;5;241m.\u001b[39mpath\u001b[38;5;241m.\u001b[39mjoin(\u001b[38;5;124m'\u001b[39m\u001b[38;5;124m..\u001b[39m\u001b[38;5;124m'\u001b[39m,\u001b[38;5;124m'\u001b[39m\u001b[38;5;124mdata\u001b[39m\u001b[38;5;124m'\u001b[39m,\u001b[38;5;124m'\u001b[39m\u001b[38;5;124mESMAT\u001b[39m\u001b[38;5;124m'\u001b[39m)\n\u001b[1;32m      6\u001b[0m \u001b[38;5;28;01mfor\u001b[39;00m year \u001b[38;5;129;01min\u001b[39;00m years:\n\u001b[0;32m----> 7\u001b[0m     \u001b[43mget_esmats_papers\u001b[49m\u001b[43m(\u001b[49m\u001b[43murl\u001b[49m\u001b[43m,\u001b[49m\u001b[43myear\u001b[49m\u001b[43m,\u001b[49m\u001b[43mfolder\u001b[49m\u001b[43m)\u001b[49m\n",
      "Cell \u001b[0;32mIn[2], line 37\u001b[0m, in \u001b[0;36mget_esmats_papers\u001b[0;34m(url_base, year, folder)\u001b[0m\n\u001b[1;32m     35\u001b[0m     file_name \u001b[38;5;241m=\u001b[39m pdf_url\u001b[38;5;241m.\u001b[39msplit(\u001b[38;5;124m'\u001b[39m\u001b[38;5;124m/\u001b[39m\u001b[38;5;124m'\u001b[39m)[\u001b[38;5;241m-\u001b[39m\u001b[38;5;241m1\u001b[39m]\n\u001b[1;32m     36\u001b[0m     \u001b[38;5;66;03m# Save the PDF file\u001b[39;00m\n\u001b[0;32m---> 37\u001b[0m     \u001b[38;5;28;01mwith\u001b[39;00m \u001b[38;5;28mopen\u001b[39m(os\u001b[38;5;241m.\u001b[39mpath\u001b[38;5;241m.\u001b[39mjoin(\u001b[43mpdf_folder\u001b[49m,year\u001b[38;5;241m+\u001b[39m\u001b[38;5;124m\"\u001b[39m\u001b[38;5;124m_\u001b[39m\u001b[38;5;124m\"\u001b[39m\u001b[38;5;241m+\u001b[39mfile_name), \u001b[38;5;124m'\u001b[39m\u001b[38;5;124mwb\u001b[39m\u001b[38;5;124m'\u001b[39m) \u001b[38;5;28;01mas\u001b[39;00m file:\n\u001b[1;32m     38\u001b[0m         file\u001b[38;5;241m.\u001b[39mwrite(response\u001b[38;5;241m.\u001b[39mcontent)\n\u001b[1;32m     40\u001b[0m \u001b[38;5;28mprint\u001b[39m(\u001b[38;5;124mf\u001b[39m\u001b[38;5;124m\"\u001b[39m\u001b[38;5;124mDownload completed for \u001b[39m\u001b[38;5;132;01m{\u001b[39;00myear\u001b[38;5;132;01m}\u001b[39;00m\u001b[38;5;124m!\u001b[39m\u001b[38;5;124m\"\u001b[39m)\n",
      "\u001b[0;31mNameError\u001b[0m: name 'pdf_folder' is not defined"
     ]
    }
   ],
   "source": [
    "\n",
    "# years = [\"2023\", \"2021\", \"2019\", \"2017\", \"2015\", \"2013\", \"2011\", \"2009\", \"2007\", \"2005\", \"2003\", \"2001\", \"1999\"]\n",
    "years = [\"2021\", \"2019\", \"2017\", \"2015\", \"2013\", \"2011\", \"2009\", \"2007\", \"2005\", \"2003\", \"2001\", \"1999\"]\n",
    "url=\"https://www.esmats.eu/esmatspapers/completelist.php?whichYear=\"\n",
    "folder=os.path.join('..','data','ESMAT')\n",
    "\n",
    "for year in years:\n",
    "    get_esmats_papers(url,year,folder)"
   ]
  },
  {
   "cell_type": "code",
   "execution_count": null,
   "metadata": {},
   "outputs": [],
   "source": []
  }
 ],
 "metadata": {
  "kernelspec": {
   "display_name": ".venv",
   "language": "python",
   "name": "python3"
  },
  "language_info": {
   "codemirror_mode": {
    "name": "ipython",
    "version": 3
   },
   "file_extension": ".py",
   "mimetype": "text/x-python",
   "name": "python",
   "nbconvert_exporter": "python",
   "pygments_lexer": "ipython3",
   "version": "3.11.1"
  }
 },
 "nbformat": 4,
 "nbformat_minor": 2
}
